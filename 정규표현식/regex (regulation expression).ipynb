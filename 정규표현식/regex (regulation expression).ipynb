{
 "cells": [
  {
   "cell_type": "code",
   "execution_count": 1,
   "id": "ced4bbb6",
   "metadata": {
    "executionInfo": {
     "elapsed": 6,
     "status": "ok",
     "timestamp": 1682344878543,
     "user": {
      "displayName": "박주경",
      "userId": "06694313831384541311"
     },
     "user_tz": -540
    },
    "id": "ced4bbb6"
   },
   "outputs": [],
   "source": [
    "import re"
   ]
  },
  {
   "cell_type": "markdown",
   "id": "ca01e5e3",
   "metadata": {
    "id": "ca01e5e3"
   },
   "source": [
    "# 정규표현식 기본 개념\n",
    "\n",
    "한 영화관에서는 예매 시 사용자의 휴대폰 번호를 입력받아야 합니다. 예매 정보는 해당 번호와 함께 저장됩니다. 그러나 종종 잘못된 번호가 입력되어 예매 정보가 유실되는 문제가 발생했습니다.\n",
    "\n",
    "이런 문제를 해결하기 위해, 영화관은 **정규표현식**을 사용해 휴대폰 번호를 검증하기로 결정했습니다. 이제 사용자가 휴대폰 번호를 입력할 때, 정확한 형식으로 입력되었는지 확인하고, 유효한 번호만 저장할 수 있습니다."
   ]
  },
  {
   "cell_type": "markdown",
   "id": "b143478b",
   "metadata": {
    "id": "b143478b"
   },
   "source": [
    "## 정규표현식이란?\n",
    "\n",
    "정규표현식(Regular Expression)은 문자열에서 특정한 패턴을 찾거나, 대체하거나, 추출하는데 사용되는 문자열입니다. 즉, 문자열에서 원하는 문자를 찾거나 바꾸기 위한 일종의 패턴이라고 생각할 수 있습니다.\n",
    "\n",
    "\n",
    "예를 들어, 정규표현식에서 '.'은 어떤 문자 하나를 의미하고, '*'는 바로 앞의 문자가 0번 이상 반복됨을 의미합니다. 또한, '|'는 OR 조건을 의미하고, '^'는 문자열의 시작을 의미합니다.\n",
    "\n",
    "파이썬에서는 정규표현식을 처리하기 위해 're' 모듈을 제공합니다. 're' 모듈을 사용하면 문자열에서 패턴을 찾거나, 추출하거나, 대체할 수 있습니다."
   ]
  },
  {
   "cell_type": "code",
   "execution_count": 2,
   "id": "3b0adb0c",
   "metadata": {
    "colab": {
     "base_uri": "https://localhost:8080/"
    },
    "executionInfo": {
     "elapsed": 5,
     "status": "ok",
     "timestamp": 1682344885693,
     "user": {
      "displayName": "박주경",
      "userId": "06694313831384541311"
     },
     "user_tz": -540
    },
    "id": "3b0adb0c",
    "outputId": "e50cef62-1913-4837-834b-b3b5fd015bf2"
   },
   "outputs": [
    {
     "data": {
      "text/plain": [
       "['12345']"
      ]
     },
     "execution_count": 2,
     "metadata": {},
     "output_type": "execute_result"
    }
   ],
   "source": [
    "import re\n",
    "text = 'Hello, my number is 12345.'\n",
    "\n",
    "numbers = re.findall('\\d+', text)    # 숫자가(\\d) 한 개 이상(+)\n",
    "numbers"
   ]
  },
  {
   "cell_type": "markdown",
   "id": "83d59eb4",
   "metadata": {
    "id": "83d59eb4"
   },
   "source": [
    "## 정규표현식의 장단점\n",
    "\n",
    "[장점]\n",
    "1.\t유연성: 정규표현식을 사용하면 다양한 패턴을 표현할 수 있습니다. 예를 들어, 특정 문자열이 특정 패턴을 따르는지 여부를 확인하거나, 특정 패턴을 가진 문자열을 찾아내는 등 다양한 용도로 사용할 수 있습니다.\n",
    "2.\t간결성: 문자열에서 원하는 정보를 추출하는 데에는 정규표현식이 다른 방법에 비해 더 간단하고 직관적입니다.\n",
    "3.\t속도: 정규표현식은 문자열을 일일이 검색하는 것보다 더 빠른 속도로 패턴을 찾아낼 수 있습니다.\n",
    "\n",
    "[단점]\n",
    "1.\t복잡성: 정규표현식은 다양한 패턴을 표현할 수 있지만, 그만큼 문법이 복잡합니다. 특히 초보자에게는 익숙해지기까지 시간이 걸릴 수 있습니다.\n",
    "2.\t이식성: 언어나 툴마다 문법이 조금씩 다르기 때문에, 한 번 익힌 정규표현식이 다른 환경에서는 작동하지 않을 수도 있습니다.\n",
    "3.\t가독성: 정규표현식을 사용하면 코드의 가독성이 떨어질 수 있습니다. 특히, 매우 복잡한 정규표현식을 작성하면 코드가 길어지고 가독성이 나빠질 수 있습니다.\n",
    "위와 같이, 정규표현식은 다양한 장단점을 가지고 있습니다. 그러나 정규표현식은 파이썬을 비롯한 다양한 프로그래밍 언어에서 사용되는 유용한 도구입니다. 아래는 파이썬 코드로 정규표현식을 사용한 문자열 패턴 매칭 예시입니다."
   ]
  },
  {
   "cell_type": "code",
   "execution_count": null,
   "id": "11a52e3f",
   "metadata": {
    "id": "11a52e3f",
    "outputId": "345972af-6e2a-42d7-daac-b8a5b42a224c"
   },
   "outputs": [
    {
     "name": "stdout",
     "output_type": "stream",
     "text": [
      "['010-1234-5678']\n"
     ]
    }
   ],
   "source": [
    "# 정규표현식을 이용하여 전화번호를 추출하는 예시\n",
    "# r - raw string, \\를 이스케이프로 안쓰고 있는 그대로 쓰겠다는 의미임\n",
    "\n",
    "# 패턴 설정\n",
    "pattern = r'\\d{3}-\\d{4}-\\d{4}'    # {} 반복 횟수 고정\n",
    "\n",
    "# 패턴 매칭\n",
    "phone_numbers = ['010-1234-5678', '02-555-1234', '031-222-3333']\n",
    "matched_numbers = []\n",
    "for number in phone_numbers:\n",
    "    if re.match(pattern,number):\n",
    "        matched_numbers.append(number)\n",
    "        print(matched_numbers)"
   ]
  },
  {
   "cell_type": "markdown",
   "id": "164dd137",
   "metadata": {
    "id": "164dd137"
   },
   "source": [
    "## 정규표현식의 구성 요소\n",
    "\n",
    "정규표현식은 다음과 같은 구성 요소를 가집니다.\n",
    "\n",
    "- 문자: 특정 문자를 표현합니다. 예를 들어, 'a'는 문자 'a'를 의미합니다.\n",
    "- 메타 문자: 특별한 의미를 가지는 문자입니다. 예를 들어, '.'은 어떤 문자에도 매치되는 문자입니다.\n",
    "- 문자 클래스: 여러 개의 문자 중 하나를 선택합니다. 대괄호([])로 표현합니다. 예를 들어, '[abc]'는 'a', 'b', 'c' 중 하나에 매치됩니다.\n",
    "- 반복: 문자 또는 메타 문자가 반복되는 횟수를 지정합니다. '', '*', '+', '?', '{m}', '{m,n}' 등으로 표현합니다. 예를 들어, 'a**'는 'a'가 0번 이상 반복되는 문자열에 매치됩니다.\n",
    "- 그룹: 하나의 문자 또는 메타 문자의 집합을 그룹화합니다. 괄호()로 표현합니다. 예를 들어, '(abc)+'는 'abc'가 1번 이상 반복되는 문자열에 매치됩니다."
   ]
  },
  {
   "cell_type": "code",
   "execution_count": null,
   "id": "4627ff52",
   "metadata": {},
   "outputs": [],
   "source": [
    "[가=힣]"
   ]
  },
  {
   "cell_type": "markdown",
   "id": "d6faf63c",
   "metadata": {
    "id": "d6faf63c"
   },
   "source": [
    "Raw String\n",
    "- 로우스트링(Raw String)은 문자열 안에 있는 이스케이프 문자를 무시하고 문자 그대로 해석하도록 하는 문자열입니다.\n",
    "- 로우스트링을 사용하면 이스케이프 문자를 사용하지 않고도 백슬래시()를 문자 그대로 사용할 수 있습니다. 이를 통해 절규 표현식, 파일 경로, URL 등과 같은 문자열을 다룰 때 유용하게 사용할 수 있습니다.\n",
    "- 로우스트링을 사용하면 백슬래시와 같은 이스케이프 문자를 사용하지 않아도 되므로 가독성이 좋아진다."
   ]
  },
  {
   "cell_type": "code",
   "execution_count": 14,
   "id": "e6b0b463",
   "metadata": {
    "id": "e6b0b463",
    "outputId": "c00b60a6-6a10-4f14-c619-45da850f6929"
   },
   "outputs": [
    {
     "name": "stdout",
     "output_type": "stream",
     "text": [
      "C:\\Users\\Desktop\\file.txt\n",
      "C:\\Users\\Desktop\\file.txt\n"
     ]
    }
   ],
   "source": [
    "str1 = 'C:\\\\Users\\\\Desktop\\\\file.txt'\n",
    "str2 = r'C:\\Users\\Desktop\\file.txt'\n",
    "\n",
    "print(str1)\n",
    "print(str2)"
   ]
  },
  {
   "cell_type": "code",
   "execution_count": 16,
   "id": "8f11c48c",
   "metadata": {},
   "outputs": [
    {
     "name": "stdout",
     "output_type": "stream",
     "text": [
      "line\n",
      "etwork \n",
      "\n",
      "line\\network\n"
     ]
    }
   ],
   "source": [
    "text1 = 'line\\network'\n",
    "text2 = r'line\\network'\n",
    "\n",
    "print(text1,'\\n')\n",
    "print(text2)"
   ]
  },
  {
   "cell_type": "code",
   "execution_count": 18,
   "id": "ed07aebf",
   "metadata": {},
   "outputs": [
    {
     "name": "stdout",
     "output_type": "stream",
     "text": [
      "Hello,\n",
      "world! \n",
      "\n",
      "Hello,\\nworld! \n",
      "\n",
      "Hello,\\nworld!\n"
     ]
    }
   ],
   "source": [
    "text1 = 'Hello,\\nworld!'\n",
    "text2 = 'Hello,\\\\nworld!'\n",
    "text3 = r'Hello,\\nworld!'\n",
    "print(text1, '\\n')\n",
    "print(text2, '\\n')\n",
    "print(text3)"
   ]
  },
  {
   "cell_type": "code",
   "execution_count": 20,
   "id": "ef946847",
   "metadata": {
    "id": "ef946847"
   },
   "outputs": [
    {
     "name": "stdout",
     "output_type": "stream",
     "text": [
      "['a']\n",
      "['a', 'p', 'p', 'l', 'e']\n",
      "['a', 'e']\n",
      "['bana']\n"
     ]
    },
    {
     "data": {
      "text/plain": [
       "['ba', '']"
      ]
     },
     "execution_count": 20,
     "metadata": {},
     "output_type": "execute_result"
    }
   ],
   "source": [
    "# re.findall()은 두 개의 인자를 가집니다. 첫 번째 인자는 찾으려는 패턴을 지정하는 정규 표현식이며,\n",
    "# 두 번째 인자는 검색 대상이 되는 문자열입니다.\n",
    "\n",
    "import re\n",
    "\n",
    "pattern1 = 'a'\n",
    "text1 = 'apple'\n",
    "print(re.findall(pattern1, text1))\n",
    "\n",
    "pattern2 = '.'    # \\n을 제외한 모든 문자와 매치\n",
    "text2 = 'apple'\n",
    "print(re.findall(pattern2, text2))\n",
    "\n",
    "pattern3 = '[aeiou]'\n",
    "text3 = 'apple'\n",
    "print(re.findall(pattern3, text3))\n",
    "\n",
    "pattern4 = 'ba*na'\n",
    "text4 = 'banaana'\n",
    "print(re.findall(pattern4, text4))\n",
    "\n",
    "pattern5 = '(ba)*na'\n",
    "text5 = 'banaana'\n",
    "re.findall(pattern5, text5)\n"
   ]
  },
  {
   "cell_type": "code",
   "execution_count": 19,
   "id": "f3dcc38e",
   "metadata": {},
   "outputs": [
    {
     "name": "stdout",
     "output_type": "stream",
     "text": [
      "<re.Match object; span=(0, 1), match='a'>\n",
      "<re.Match object; span=(0, 1), match='a'>\n",
      "<re.Match object; span=(0, 1), match='a'>\n",
      "<re.Match object; span=(0, 4), match='bana'>\n"
     ]
    },
    {
     "data": {
      "text/plain": [
       "<re.Match object; span=(0, 4), match='bana'>"
      ]
     },
     "execution_count": 19,
     "metadata": {},
     "output_type": "execute_result"
    }
   ],
   "source": [
    "# re.findall()은 두 개의 인자를 가집니다. 첫 번째 인자는 찾으려는 패턴을 지정하는 정규 표현식이며,\n",
    "# 두 번째 인자는 검색 대상이 되는 문자열입니다.\n",
    "\n",
    "import re\n",
    "\n",
    "pattern1 = 'a'\n",
    "text1 = 'apple'\n",
    "print(re.search(pattern1, text1))\n",
    "\n",
    "pattern2 = '.'    # \\n을 제외한 모든 문자와 매치\n",
    "text2 = 'apple'\n",
    "print(re.search(pattern2, text2))\n",
    "\n",
    "pattern3 = '[aeiou]'\n",
    "text3 = 'apple'\n",
    "print(re.search(pattern3, text3))\n",
    "\n",
    "pattern4 = 'ba*na'\n",
    "text4 = 'banaana'\n",
    "print(re.search(pattern4, text4))\n",
    "\n",
    "pattern5 = '(ba)*na'\n",
    "text5 = 'banaana'\n",
    "re.search(pattern5, text5)"
   ]
  },
  {
   "cell_type": "markdown",
   "id": "13694816",
   "metadata": {
    "id": "13694816"
   },
   "source": [
    "# 정규표현식의 문법\n",
    "\n",
    "\n",
    "정규표현식의 문법에는 다양한 메타문자(meta-character)가 사용됩니다. 메타문자란 일반적으로 사용되는 문자가 아니라, 특별한 의미를 가지는 문자를 말합니다. 메타문자는 다양한 용도로 사용되며, 각각의 기능은 다음과 같습니다."
   ]
  },
  {
   "cell_type": "markdown",
   "id": "10f44e8d",
   "metadata": {
    "id": "10f44e8d"
   },
   "source": [
    "## 메타문자의 종류와 사용 방법\n",
    "\n",
    "\n",
    "\n",
    "[문자 클래스]\n",
    " - \\d 숫자와 매치, [0-9]와 동일한 표현식\n",
    " - \\D 숫자가 아닌 것과 매치, [^0-9]와 동일한 표현식\n",
    " - \\s whitespace 문자와 매치, [ \\t\\n\\r\\f\\v]와 동일한 표현식\n",
    " - \\S whitespace 문자가 아닌 것과 매치, [^ \\t\\n\\r\\f\\v]와 동일한 표현식\n",
    " - \\w 문자 + 숫자와 매치, [a-zA-Z0-9]와 동일한 표현식\n",
    " - \\W 문자 + 숫자가 아닌 문자와 매치, [^a-zA-Z0-9]와 동일한 표현식\n",
    "\n",
    "[whitespace]\n",
    " -  스페이스 바 (아스키코드 32)\n",
    " -  ＼b  뒤로 한 칸 이동 (Backspace) (아스키코드 8)\n",
    " -  ＼t  수평탭 간격 띄우기 (아스키코드 9)\n",
    " -  ＼n  줄바꿈 (Linefeed) (아스키코드 10)\n",
    " -  ＼v  수직탭 간격 띄우기 (아스키코드 11)\n",
    " -  ＼f  프린트 출력 용지를 한 페이지 넘김 (Form feed) (아스키코드 12)\n",
    " -  ＼r  동일한 줄의 맨 앞으로 커서 이동 (Carriage Return) (아스키코드 13)\n",
    " - Dot(.) 메타 문자는 줄바꿈 문자인 \\n를 제외한 모든 문자와 매치됨을 의미\n",
    "\n",
    "[문자열의 반복과 선택을 나타내는 메타문자]\n",
    "- ^ : 문자열의 시작을 나타냄. 예를 들어, '^a'는 문자열의 시작이 'a'인 경우와 매치됨.\n",
    "-\t$\\$ : 문자열의 끝을 나타냄. 예를 들어, a$\\$는 문자열의 끝이 'a'인 경우와 매치됨.\n",
    "\n",
    "참고 : whitespace 문자는 공백과 같은 문자. 주로 특정 문자열에서 단어를 구분하기 위하여 사용\n",
    "\n",
    "\n",
    "[문자열의 반복과 선택을 나타내는 메타문자]\n",
    "- 반복(\\*) ca*t 0부터 무한대로 반복\n",
    "- 반복(\\+) ca+t 최소 1번 이상 반복\n",
    "- ca{m,n} a 반복 횟수가 m부터 n까지인 것을 매치\n",
    "- ca{2}t는 c+a(2번 반복)+t의 의미\n",
    "- 반복횟수가 {1,}은 1 이상, {0,}은 0 이상인 경우로 각각 +, *와 동일하며 {,1}은 반복횟수가 1 이하를 의미.\n",
    "- ab?c b가 0~1번 사용되면 매치되는 것으로 ?은 앞의 b가 있어도 되고 없어도 된다"
   ]
  },
  {
   "cell_type": "markdown",
   "id": "424ca585",
   "metadata": {
    "id": "424ca585"
   },
   "source": [
    "## re 모듈\n",
    "\n",
    "정규표현식을 파이썬에서 사용하기 위해서는 re 모듈을 import하여 사용합니다. 이를 이용하여 정규식을 컴파일하고 정규식을 이용한 문자열 검색 등 다양한 작업을 수행할 수 있습니다.\n",
    "\n",
    "re 모듈을 이용하여 문자열 검색을 수행하는 함수는 다음과 같습니다.\n",
    "\n",
    "- compile(): 정규식을 컴파일합니다.\n",
    "- match(): 문자열의 처음부터 정규식과 매치되는지 조사합니다.\n",
    "- search(): 문자열의 전체를 검색하여 정규식과 매치되는지 조사합니다.\n",
    "- findall(): 정규식과 매치되는 모든 문자열을 리스트로 리턴합니다.\n",
    "- finditer(): 정규식과 매치되는 모든 문자열을 반복 가능한 객체로 리턴합니다."
   ]
  },
  {
   "cell_type": "code",
   "execution_count": null,
   "id": "61150ae9",
   "metadata": {
    "id": "61150ae9",
    "outputId": "95412858-f24e-45f9-b5c3-79d2aa06b6fc"
   },
   "outputs": [
    {
     "name": "stdout",
     "output_type": "stream",
     "text": [
      "match found!\n",
      "<re.Match object; span=(0, 5), match='abbbc'>\n"
     ]
    }
   ],
   "source": [
    "pattern = re.compile('ab+c')\n",
    "match = pattern.search('abbbc')\n",
    "if match:\n",
    "    print(\"match found!\")\n",
    "else:\n",
    "    print(\"not matched\")"
   ]
  },
  {
   "cell_type": "code",
   "execution_count": null,
   "id": "56d63a12",
   "metadata": {
    "id": "56d63a12",
    "outputId": "1e4489a8-af0e-468e-cf43-af0c97a2ffb7"
   },
   "outputs": [
    {
     "data": {
      "text/plain": [
       "<re.Match object; span=(3, 8), match='abbbc'>"
      ]
     },
     "execution_count": 51,
     "metadata": {},
     "output_type": "execute_result"
    }
   ],
   "source": [
    "re.search(pattern, 'eeeabbbc')"
   ]
  },
  {
   "cell_type": "code",
   "execution_count": null,
   "id": "6159470e",
   "metadata": {
    "id": "6159470e",
    "outputId": "eb8b2629-8506-4da6-c0a6-3eee8f1505da"
   },
   "outputs": [
    {
     "data": {
      "text/plain": [
       "<re.Match object; span=(0, 5), match='abbbc'>"
      ]
     },
     "execution_count": 53,
     "metadata": {},
     "output_type": "execute_result"
    }
   ],
   "source": [
    "re.match(pattern, 'abbbceee')"
   ]
  },
  {
   "cell_type": "code",
   "execution_count": null,
   "id": "30cdf988",
   "metadata": {
    "id": "30cdf988",
    "outputId": "e3036e77-4f07-4720-8d27-d5b757e373d0"
   },
   "outputs": [
    {
     "data": {
      "text/plain": [
       "['abbbc', 'abc']"
      ]
     },
     "execution_count": 55,
     "metadata": {},
     "output_type": "execute_result"
    }
   ],
   "source": [
    "re.findall(pattern, 'abbbceeabce')"
   ]
  },
  {
   "cell_type": "code",
   "execution_count": null,
   "id": "9611306d",
   "metadata": {
    "id": "9611306d",
    "outputId": "372b0fae-4516-4939-8041-ef12af0b3997"
   },
   "outputs": [
    {
     "name": "stdout",
     "output_type": "stream",
     "text": [
      "<re.Match object; span=(0, 5), match='abbbc'>\n",
      "<re.Match object; span=(7, 10), match='abc'>\n"
     ]
    }
   ],
   "source": [
    "m = re.finditer(pattern, 'abbbceeabce')\n",
    "for i in m:\n",
    "    print(i)"
   ]
  },
  {
   "cell_type": "markdown",
   "id": "ffc3570f",
   "metadata": {
    "id": "ffc3570f"
   },
   "source": [
    "#### 과제1_0424.\n",
    "정규표현식을 사용하여 test에서 이메일을 추출하세요.\n",
    "\n",
    "text = \"이메일 주소는 abc123@gmail.com 입니다.\"\n",
    "\n"
   ]
  },
  {
   "cell_type": "code",
   "execution_count": 41,
   "id": "4b939e88",
   "metadata": {
    "id": "4b939e88",
    "outputId": "165d81c2-cda8-47c4-8608-1efbf348d6d1"
   },
   "outputs": [
    {
     "name": "stdout",
     "output_type": "stream",
     "text": [
      "['123@gmail.com']\n"
     ]
    }
   ],
   "source": [
    "import re\n",
    "\n",
    "text = \"이메일 주소는 abc-123@gmail.com 입니다.\"    # 특수문자 이메일 해결하기\n",
    "\n",
    "pattern = '\\w+[@]\\w+[.]\\w+'\n",
    "print(re.findall(pattern, text))"
   ]
  },
  {
   "cell_type": "code",
   "execution_count": 46,
   "id": "ad8fe352",
   "metadata": {},
   "outputs": [
    {
     "data": {
      "text/plain": [
       "'abc-123@gmail.com'"
      ]
     },
     "execution_count": 46,
     "metadata": {},
     "output_type": "execute_result"
    }
   ],
   "source": [
    "text = \"이메일 주소는 abc-123@gmail.com입니다.\"\n",
    "\n",
    "pattern = \"[\\w-]+@\\w+.com\"\n",
    "\n",
    "re.search(pattern, text).group()"
   ]
  },
  {
   "cell_type": "code",
   "execution_count": 47,
   "id": "37826cad",
   "metadata": {},
   "outputs": [
    {
     "name": "stdout",
     "output_type": "stream",
     "text": [
      "['abc-123@gmail.com']\n"
     ]
    }
   ],
   "source": [
    "\n",
    "import re\n",
    "\n",
    "text = \"이메일 주소는 abc-123@gmail.com 입니다.\"    # 특수문자 이메일 해결하기\n",
    "\n",
    "pattern = r'[\\w-]+@[\\w]+\\.\\w{2,4}'\n",
    "print(re.findall(pattern, text))"
   ]
  },
  {
   "cell_type": "markdown",
   "id": "7e5bb306",
   "metadata": {
    "id": "7e5bb306"
   },
   "source": [
    "#### 과제2_0424.\n",
    "정규표현식을 사용하여 text에서 전화번호를 추출하세요.\n",
    "\n",
    "text = '저의 전화번호는 010-1234-5678 입니다.'"
   ]
  },
  {
   "cell_type": "code",
   "execution_count": null,
   "id": "892e262a",
   "metadata": {
    "id": "892e262a",
    "outputId": "9e31558d-7e77-4a5f-859e-b65553766270"
   },
   "outputs": [
    {
     "name": "stdout",
     "output_type": "stream",
     "text": [
      "['010-1234-5678']\n"
     ]
    }
   ],
   "source": [
    "text = '저의 전화번호는 010-1234-5678 입니다.'\n",
    "\n",
    "pattern = '\\d{3}-\\d{4}-\\d{4}'\n",
    "print(re.findall(pattern, text))"
   ]
  },
  {
   "cell_type": "markdown",
   "id": "803d48c1",
   "metadata": {
    "id": "803d48c1"
   },
   "source": [
    "#### 과제3_0424.\n",
    "정규표현식을 사용하여 text에서 url을 추출하세요.\n",
    "\n",
    "text = '저의 블로그 주소는 http://www.example.com 입니다.'"
   ]
  },
  {
   "cell_type": "code",
   "execution_count": 60,
   "id": "e5f6849f",
   "metadata": {
    "id": "e5f6849f",
    "outputId": "df06706a-1c25-43df-a358-33ec8af6cb35"
   },
   "outputs": [
    {
     "name": "stdout",
     "output_type": "stream",
     "text": [
      "['http://www.example.com']\n"
     ]
    }
   ],
   "source": [
    "text = '저의 블로그 주소는 http://www.example.com 입니다.'\n",
    "\n",
    "print(re.findall('https?://[^\\s]+', text))"
   ]
  },
  {
   "cell_type": "code",
   "execution_count": 62,
   "id": "f09c91d5",
   "metadata": {},
   "outputs": [
    {
     "data": {
      "text/plain": [
       "'http://www.example.com'"
      ]
     },
     "execution_count": 62,
     "metadata": {},
     "output_type": "execute_result"
    }
   ],
   "source": [
    "text = \"저의 블로그 주소는 http://www.example.com 입니다.\"\n",
    "\n",
    "pattern = \"http[s]?://[\\w.]+\\/?\"    # / 커버\n",
    "\n",
    "re.search(pattern, text).group()"
   ]
  },
  {
   "cell_type": "markdown",
   "id": "9a9d2518",
   "metadata": {
    "id": "9a9d2518"
   },
   "source": [
    "#### 과제4_0424.\n",
    "정규표현식을 이용하여 html 태그를 제거한 후 '안녕하세요, 파이썬입니다.'를 출력하세요.\n",
    "\n",
    "html_string = $\"<p>안녕하세요, <b>파이썬</b>입니다.</p>\"$"
   ]
  },
  {
   "cell_type": "code",
   "execution_count": null,
   "id": "baa7692b",
   "metadata": {
    "id": "baa7692b",
    "outputId": "46cf5f97-8276-40d2-fa3c-043b92355b94"
   },
   "outputs": [
    {
     "data": {
      "text/plain": [
       "'안녕하세요, 파이썬입니다.'"
      ]
     },
     "execution_count": 426,
     "metadata": {},
     "output_type": "execute_result"
    }
   ],
   "source": [
    "html_string = \"<p>안녕하세요, <b>파이썬</b>입니다.</p>\"\n",
    "\n",
    "p = re.compile('<.{,2}>')\n",
    "p.sub('', html_string)"
   ]
  },
  {
   "cell_type": "code",
   "execution_count": 63,
   "id": "97aa51a0",
   "metadata": {},
   "outputs": [
    {
     "name": "stdout",
     "output_type": "stream",
     "text": [
      "안녕하세요,파이썬입니다.\n"
     ]
    }
   ],
   "source": [
    "import re\n",
    "pattern = re.compile(r'<[^>]*>')\n",
    "text1=pattern.sub('',\"<𝑝>안녕하세요,<𝑏>파이썬</𝑏>입니다.</𝑝>\")\n",
    "print(text1)"
   ]
  },
  {
   "cell_type": "markdown",
   "id": "9d2d6261",
   "metadata": {
    "id": "9d2d6261"
   },
   "source": [
    "#### 과제5_0424.\n",
    "text = 'Python3 is very good programming language!'에서 다음을 수행하세요.\n",
    "- ['Python', 'is', 'very', 'good', 'programming', 'language'] 을 출력\n",
    "- Python3 출력\n",
    "- Python 출력\n",
    "- 숫자만 출력\n",
    "- Python3를 python으로 대체"
   ]
  },
  {
   "cell_type": "code",
   "execution_count": 2,
   "id": "337ed6e8",
   "metadata": {
    "colab": {
     "base_uri": "https://localhost:8080/",
     "height": 197
    },
    "executionInfo": {
     "elapsed": 402,
     "status": "ok",
     "timestamp": 1682346451085,
     "user": {
      "displayName": "박주경",
      "userId": "06694313831384541311"
     },
     "user_tz": -540
    },
    "id": "337ed6e8",
    "outputId": "b24e4f63-0c8b-4f96-c0bc-1c0060d8d866"
   },
   "outputs": [
    {
     "name": "stdout",
     "output_type": "stream",
     "text": [
      "['Python', 'is', 'very', 'good', 'programming', 'language'] \n",
      "\n",
      "Python3 \n",
      "\n",
      "Python\n",
      "Python \n",
      "\n",
      "3 \n",
      "\n"
     ]
    },
    {
     "data": {
      "text/plain": [
       "'python is very good programming language!'"
      ]
     },
     "execution_count": 2,
     "metadata": {},
     "output_type": "execute_result"
    }
   ],
   "source": [
    "import re\n",
    "\n",
    "text = 'Python3 is very good programming language!'\n",
    "\n",
    "\n",
    "# ['Python', 'is', 'very', 'good', 'programming', 'language'] 을 출력\n",
    "pattern1 = '[A-Za-z]+'\n",
    "print(re.findall(pattern1, text),'\\n')\n",
    "\n",
    "\n",
    "# Python3 출력\n",
    "pattern2 = '\\w*'\n",
    "print(re.match(pattern2, text).group(),'\\n')\n",
    "\n",
    "\n",
    "# Python만 출력\n",
    "pattern3 = '\\D{6}'\n",
    "print(re.match(pattern3, text).group())\n",
    "\n",
    "pattern3 = '\\w+(?=\\d)'      # 긍정형 전방 탐색\n",
    "print(re.match(pattern3, text).group(),'\\n')\n",
    "\n",
    "\n",
    "# 숫자만 출력\n",
    "pattern4 = '\\d'\n",
    "print(re.search(pattern4, text).group(),'\\n')\n",
    "\n",
    "\n",
    "# Python3를 python으로 대체\n",
    "p=re.compile('Python3')\n",
    "p.sub('python', text)"
   ]
  },
  {
   "cell_type": "code",
   "execution_count": 497,
   "id": "a9a5d470",
   "metadata": {
    "colab": {
     "base_uri": "https://localhost:8080/"
    },
    "executionInfo": {
     "elapsed": 4,
     "status": "ok",
     "timestamp": 1682346544687,
     "user": {
      "displayName": "박주경",
      "userId": "06694313831384541311"
     },
     "user_tz": -540
    },
    "id": "30877a5c",
    "outputId": "e9140c5f-c43a-4b07-977e-fcfab91d454c"
   },
   "outputs": [],
   "source": [
    "#### 연습\n",
    "\n",
    "text1 = 'python python'\n",
    "text2 = 'python python '\n",
    "text3 = '3python python '"
   ]
  },
  {
   "cell_type": "code",
   "execution_count": 477,
   "id": "bb9ab350",
   "metadata": {},
   "outputs": [
    {
     "data": {
      "text/plain": [
       "'python'"
      ]
     },
     "execution_count": 477,
     "metadata": {},
     "output_type": "execute_result"
    }
   ],
   "source": [
    "import re\n",
    "\n",
    "text1 = 'python python'\n",
    "\n",
    "p = re.compile('[a-z]+')\n",
    "p.match(text1).group()"
   ]
  },
  {
   "cell_type": "code",
   "execution_count": 74,
   "id": "1e2b0770",
   "metadata": {},
   "outputs": [
    {
     "data": {
      "text/plain": [
       "'python'"
      ]
     },
     "execution_count": 74,
     "metadata": {},
     "output_type": "execute_result"
    }
   ],
   "source": [
    "re.match('[a-z]+', text1).group()"
   ]
  },
  {
   "cell_type": "code",
   "execution_count": 510,
   "id": "e690b84f",
   "metadata": {},
   "outputs": [
    {
     "name": "stdout",
     "output_type": "stream",
     "text": [
      "['python', 'python']\n"
     ]
    },
    {
     "data": {
      "text/plain": [
       "['python', 'python']"
      ]
     },
     "execution_count": 510,
     "metadata": {},
     "output_type": "execute_result"
    }
   ],
   "source": [
    "text1 = 'python python'\n",
    "text1_1 = 'python python '\n",
    "\n",
    "print(re.findall('[a-z]+', text1))\n",
    "re.findall('[a-z]+', text1_1)"
   ]
  },
  {
   "cell_type": "code",
   "execution_count": 505,
   "id": "5e8e9980",
   "metadata": {},
   "outputs": [
    {
     "name": "stdout",
     "output_type": "stream",
     "text": [
      "['python ', 'python ']\n"
     ]
    },
    {
     "data": {
      "text/plain": [
       "['python ']"
      ]
     },
     "execution_count": 505,
     "metadata": {},
     "output_type": "execute_result"
    }
   ],
   "source": [
    "text2 = 'python python '\n",
    "text2_1 = 'python python'\n",
    "\n",
    "print(re.findall('[a-z]+\\s', text2))\n",
    "re.findall('[a-z]+\\s', text2_1)"
   ]
  },
  {
   "cell_type": "code",
   "execution_count": 504,
   "id": "24319f41",
   "metadata": {},
   "outputs": [
    {
     "name": "stdout",
     "output_type": "stream",
     "text": [
      "['python', 'python']\n"
     ]
    },
    {
     "data": {
      "text/plain": [
       "['python', 'python']"
      ]
     },
     "execution_count": 504,
     "metadata": {},
     "output_type": "execute_result"
    }
   ],
   "source": [
    "text2 = 'python python '\n",
    "text2_1 = 'python python'\n",
    "\n",
    "p = re.compile('[a-z]+')\n",
    "\n",
    "print(p.findall(text2))\n",
    "p.findall(text2_1)\n"
   ]
  },
  {
   "cell_type": "code",
   "execution_count": 511,
   "id": "2bc9cd63",
   "metadata": {},
   "outputs": [
    {
     "name": "stdout",
     "output_type": "stream",
     "text": [
      "None\n"
     ]
    },
    {
     "data": {
      "text/plain": [
       "'python'"
      ]
     },
     "execution_count": 511,
     "metadata": {},
     "output_type": "execute_result"
    }
   ],
   "source": [
    "text3 = '3python python '\n",
    "\n",
    "p = re.compile('[a-z]+')\n",
    "\n",
    "print(p.match(text3))\n",
    "p.search(text3).group()"
   ]
  },
  {
   "cell_type": "code",
   "execution_count": 483,
   "id": "9bb4e2c1",
   "metadata": {},
   "outputs": [
    {
     "data": {
      "text/plain": [
       "['python', 'python']"
      ]
     },
     "execution_count": 483,
     "metadata": {},
     "output_type": "execute_result"
    }
   ],
   "source": [
    "p.findall(text3)"
   ]
  },
  {
   "cell_type": "code",
   "execution_count": 96,
   "id": "875914b9",
   "metadata": {},
   "outputs": [
    {
     "name": "stdout",
     "output_type": "stream",
     "text": [
      "<re.Match object; span=(1, 6), match='anker'>\n",
      "None\n",
      "<re.Match object; span=(0, 6), match='banker'>\n"
     ]
    }
   ],
   "source": [
    "# 문자 클래스 : []\n",
    "p = re.compile('[a-z]+')\n",
    "p1 = p.search('Banker')\n",
    "p2 = p.match('Banker')\n",
    "p3 = p.search('banker')\n",
    "\n",
    "\n",
    "print(p1)\n",
    "print(p2)\n",
    "print(p3)"
   ]
  },
  {
   "cell_type": "code",
   "execution_count": 104,
   "id": "e98375a9",
   "metadata": {},
   "outputs": [
    {
     "data": {
      "text/plain": [
       "'a'"
      ]
     },
     "execution_count": 104,
     "metadata": {},
     "output_type": "execute_result"
    }
   ],
   "source": [
    "# Q. '12345abc'에서 'a'만 출력하세요.\n",
    "\n",
    "text = '12345abc'\n",
    "\n",
    "re.search('a', text).group()"
   ]
  },
  {
   "cell_type": "code",
   "execution_count": 101,
   "id": "eff53114",
   "metadata": {},
   "outputs": [
    {
     "data": {
      "text/plain": [
       "'A'"
      ]
     },
     "execution_count": 101,
     "metadata": {},
     "output_type": "execute_result"
    }
   ],
   "source": [
    "# Q. 'abc12345Abc'에서 'A'만 출력하세요\n",
    "\n",
    "text = 'abc12345Abc'\n",
    "re.search('[A-Z]', text).group()"
   ]
  },
  {
   "cell_type": "code",
   "execution_count": 123,
   "id": "5e9bb7ae",
   "metadata": {},
   "outputs": [
    {
     "data": {
      "text/plain": [
       "'대'"
      ]
     },
     "execution_count": 123,
     "metadata": {},
     "output_type": "execute_result"
    }
   ],
   "source": [
    "# Q. 'KOREA 아대한민국'에서 '대'만 출력하세요.\n",
    "\n",
    "text = 'KOREA 아대한민국'\n",
    "re.search('대', text).group()"
   ]
  },
  {
   "cell_type": "code",
   "execution_count": 125,
   "id": "0758e2ca",
   "metadata": {},
   "outputs": [
    {
     "data": {
      "text/plain": [
       "'122333c'"
      ]
     },
     "execution_count": 125,
     "metadata": {},
     "output_type": "execute_result"
    }
   ],
   "source": [
    "# Q. '12333c'를 모두 출력하세요.\n",
    "\n",
    "text = '122333c'\n",
    "\n",
    "re.search('\\w+', text).group()"
   ]
  },
  {
   "cell_type": "code",
   "execution_count": 128,
   "id": "afc256d6",
   "metadata": {},
   "outputs": [
    {
     "data": {
      "text/plain": [
       "'122333c'"
      ]
     },
     "execution_count": 128,
     "metadata": {},
     "output_type": "execute_result"
    }
   ],
   "source": [
    "text = '122333c456'\n",
    "\n",
    "re.match('12{2}3{3}c', text).group()"
   ]
  },
  {
   "cell_type": "code",
   "execution_count": 122,
   "id": "83caf77f",
   "metadata": {},
   "outputs": [
    {
     "data": {
      "text/plain": [
       "'aaaaBBBcccDDDeee'"
      ]
     },
     "execution_count": 122,
     "metadata": {},
     "output_type": "execute_result"
    }
   ],
   "source": [
    "# Q. 'aaaaBBBcccDDDeee'을 모두 출력하세요.\n",
    "\n",
    "text = 'aaaaBBBcccDDDeee'\n",
    "\n",
    "re.match('[A-Za-z]+', text).group()"
   ]
  },
  {
   "cell_type": "code",
   "execution_count": 127,
   "id": "bb79c185",
   "metadata": {},
   "outputs": [
    {
     "data": {
      "text/plain": [
       "'aaaaBBBcccDDDeee'"
      ]
     },
     "execution_count": 127,
     "metadata": {},
     "output_type": "execute_result"
    }
   ],
   "source": [
    "text = 'aaaaBBBcccDDDeee'\n",
    "\n",
    "re.match('a{4}B{3}c{3}D{3}e{3}', text).group()"
   ]
  },
  {
   "cell_type": "markdown",
   "id": "6ac0f91f",
   "metadata": {},
   "source": [
    "#### 과제1_0425.\n",
    "BC, CC, ABC 모두 C가 출력되는 정규 표현식을 ()에 작성하세요."
   ]
  },
  {
   "cell_type": "code",
   "execution_count": 140,
   "id": "b7065993",
   "metadata": {},
   "outputs": [
    {
     "name": "stdout",
     "output_type": "stream",
     "text": [
      "<re.Match object; span=(1, 2), match='C'>\n",
      "<re.Match object; span=(0, 2), match='CC'>\n",
      "<re.Match object; span=(2, 3), match='C'>\n"
     ]
    }
   ],
   "source": [
    "pattern = re.compile('C+')\n",
    "text1 = 'BC'\n",
    "text2 = 'CC'\n",
    "text3 = 'ABC'\n",
    "p1 = pattern.search(text1)\n",
    "p2 = pattern.search(text2)\n",
    "p3 = pattern.search(text3)\n",
    "print(p1)\n",
    "print(p2)\n",
    "print(p3)"
   ]
  },
  {
   "cell_type": "markdown",
   "id": "5b844635",
   "metadata": {},
   "source": [
    "#### 과제2_0425.\n",
    "'1234a1234'에서 '1','2','3','4'를 모두 출력하세요."
   ]
  },
  {
   "cell_type": "code",
   "execution_count": 147,
   "id": "50289591",
   "metadata": {},
   "outputs": [
    {
     "data": {
      "text/plain": [
       "['1', '2', '3', '4', '1', '2', '3', '4']"
      ]
     },
     "execution_count": 147,
     "metadata": {},
     "output_type": "execute_result"
    }
   ],
   "source": [
    "text = '1234a1234'\n",
    "\n",
    "re.findall('\\d', text)"
   ]
  },
  {
   "cell_type": "markdown",
   "id": "3ba21e8f",
   "metadata": {},
   "source": [
    "#### 과제3_0425.\n",
    "'99food234, a93456\\n, a9356ba'에서 '99food234'만 출력하세요."
   ]
  },
  {
   "cell_type": "code",
   "execution_count": 524,
   "id": "3daa65b0",
   "metadata": {},
   "outputs": [
    {
     "name": "stdout",
     "output_type": "stream",
     "text": [
      "99food234\n"
     ]
    }
   ],
   "source": [
    "text = '99food234, a93456\\n, a9356ba'\n",
    "\n",
    "print(re.match('\\d+\\w+', text).group())    # \\d - 숫자로 시작하면서 2개, \\w로 해야, , 앞에서 멈춤\n",
    "# print(re.match('\\d+.+', text).group())    # . 이어서 \\n에서 멈춤\n",
    "# print(re.match('\\d+.+', text, re.DOTALL).group())    # 옵션 주면 \\n에서 한 번 끊고 뒤에것도 다시 보여줌"
   ]
  },
  {
   "cell_type": "code",
   "execution_count": 150,
   "id": "2022c10a",
   "metadata": {},
   "outputs": [
    {
     "name": "stdout",
     "output_type": "stream",
     "text": [
      "<re.Match object; span=(0, 4), match='life'>\n"
     ]
    }
   ],
   "source": [
    "text = 'life is too short'\n",
    "\n",
    "p = re.compile('[a-z]+')\n",
    "result = p.search(text)\n",
    "print(result)"
   ]
  },
  {
   "cell_type": "code",
   "execution_count": 158,
   "id": "8e8795b0",
   "metadata": {},
   "outputs": [
    {
     "name": "stdout",
     "output_type": "stream",
     "text": [
      "life\n",
      "is\n",
      "too\n",
      "short\n"
     ]
    }
   ],
   "source": [
    "result = p.finditer(text)\n",
    "\n",
    "for r in result:\n",
    "    print(r.group())"
   ]
  },
  {
   "cell_type": "code",
   "execution_count": 163,
   "id": "f179c809",
   "metadata": {},
   "outputs": [
    {
     "data": {
      "text/plain": [
       "['Python', 'is', 'very', 'good', 'programming', 'language']"
      ]
     },
     "execution_count": 163,
     "metadata": {},
     "output_type": "execute_result"
    }
   ],
   "source": [
    "# 모든 문자 출력\n",
    "\n",
    "text = ' Python3 is very good programming language!'\n",
    "\n",
    "re.findall('[a-zA-Z]+', text)"
   ]
  },
  {
   "cell_type": "code",
   "execution_count": 167,
   "id": "5ec61526",
   "metadata": {},
   "outputs": [
    {
     "name": "stdout",
     "output_type": "stream",
     "text": [
      "<callable_iterator object at 0x000001D8FDBCE280>\n",
      "Python\n",
      "is\n",
      "very\n",
      "good\n",
      "programming\n",
      "language\n"
     ]
    }
   ],
   "source": [
    "result = re.finditer('[a-zA-Z]+', text)\n",
    "\n",
    "print(result)\n",
    "\n",
    "for r in result:\n",
    "    print(r.group())"
   ]
  },
  {
   "cell_type": "code",
   "execution_count": 173,
   "id": "ddf51286",
   "metadata": {},
   "outputs": [
    {
     "name": "stdout",
     "output_type": "stream",
     "text": [
      "<re.Match object; span=(0, 4), match='life'>\n",
      "None\n",
      "None\n"
     ]
    }
   ],
   "source": [
    "# match\n",
    "\n",
    "text1 = 'life'\n",
    "text2 = '!!!oh my life'\n",
    "text3 = '7 is lucky number'\n",
    "print(re.match('[a-z]+', text1))\n",
    "print(re.match('[a-z]+', text2))\n",
    "print(re.match('[a-z]+', text3))"
   ]
  },
  {
   "cell_type": "code",
   "execution_count": 537,
   "id": "b050c87a",
   "metadata": {},
   "outputs": [
    {
     "name": "stdout",
     "output_type": "stream",
     "text": [
      "python\n",
      "0\n",
      "6\n",
      "(0, 6)\n"
     ]
    }
   ],
   "source": [
    "# match 객체의 메서드\n",
    "\n",
    "m = re.match('[a-z]+', 'python')\n",
    "print(m.group())\n",
    "print(m.start())\n",
    "print(m.end())\n",
    "print(m.span())"
   ]
  },
  {
   "cell_type": "code",
   "execution_count": 189,
   "id": "d60da48a",
   "metadata": {},
   "outputs": [
    {
     "name": "stdout",
     "output_type": "stream",
     "text": [
      "python\n",
      "2\n",
      "8\n",
      "(2, 8)\n"
     ]
    }
   ],
   "source": [
    "# search 객체의 메서드\n",
    "\n",
    "m = re.search('[a-z]+', '3 python')\n",
    "print(m.group())\n",
    "print(m.start())\n",
    "print(m.end())\n",
    "print(m.span())"
   ]
  },
  {
   "cell_type": "code",
   "execution_count": 196,
   "id": "a7aac8ea",
   "metadata": {},
   "outputs": [
    {
     "name": "stdout",
     "output_type": "stream",
     "text": [
      "None\n",
      "<re.Match object; span=(0, 3), match='acb'>\n",
      "<re.Match object; span=(0, 6), match='a12?Ab'>\n"
     ]
    }
   ],
   "source": [
    "# Dot(.) 메타 문자는 줄바꿈 문자(\\n)을 제외한 모든 문자와 매치\n",
    "\n",
    "text = ['a\\nb', 'acb', 'a12?Ab']\n",
    "\n",
    "for t in text:\n",
    "    r = re.match('a.+b',t)    \n",
    "    print(r)\n"
   ]
  },
  {
   "cell_type": "code",
   "execution_count": 532,
   "id": "6893ff98",
   "metadata": {},
   "outputs": [
    {
     "name": "stdout",
     "output_type": "stream",
     "text": [
      "<re.Match object; span=(0, 3), match='a\\nb'>\n",
      "a\n",
      "b\n"
     ]
    }
   ],
   "source": [
    "p = re.compile('a.b', re.DOTALL)\n",
    "m = p.match('a\\nb')\n",
    "print(m)\n",
    "print(m.group())    # 이렇게 실제로 출력해 보면, 개행표시가 적용되어 출력됨"
   ]
  },
  {
   "cell_type": "code",
   "execution_count": 200,
   "id": "18b25deb",
   "metadata": {},
   "outputs": [
    {
     "name": "stdout",
     "output_type": "stream",
     "text": [
      "what are you doing?\n"
     ]
    }
   ],
   "source": [
    "text = 'what are you doing?\\n it is going to be late for school'\n",
    "\n",
    "p = re.compile('.*')\n",
    "m=p.search(text)\n",
    "print(m.group())"
   ]
  },
  {
   "cell_type": "code",
   "execution_count": 204,
   "id": "98daacf2",
   "metadata": {},
   "outputs": [
    {
     "name": "stdout",
     "output_type": "stream",
     "text": [
      "what are you doing?\n",
      " it is going to be late for school\n"
     ]
    }
   ],
   "source": [
    "text = 'what are you doing?\\n it is going to be late for school'\n",
    "\n",
    "p = re.compile('.*', re.DOTALL)\n",
    "m=p.search(text)\n",
    "print(m.group())"
   ]
  },
  {
   "cell_type": "markdown",
   "id": "6222cf86",
   "metadata": {},
   "source": [
    "#### 과제4_0425.\n",
    "text에서 전체문장 모두 출력하세요."
   ]
  },
  {
   "cell_type": "code",
   "execution_count": 464,
   "id": "63b5306c",
   "metadata": {},
   "outputs": [
    {
     "name": "stdout",
     "output_type": "stream",
     "text": [
      "what are you doing?\n",
      "it is going to be late for school\n",
      "we need to hurry up\n"
     ]
    }
   ],
   "source": [
    "text = 'what are you doing?\\nit is going to be late for school\\nwe need to hurry up'\n",
    "\n",
    "p = re.compile('.*', re.DOTALL)\n",
    "m = p.search(text)\n",
    "print(m.group())"
   ]
  },
  {
   "cell_type": "code",
   "execution_count": 205,
   "id": "5ceca5b0",
   "metadata": {},
   "outputs": [
    {
     "data": {
      "text/plain": [
       "'pAython'"
      ]
     },
     "execution_count": 205,
     "metadata": {},
     "output_type": "execute_result"
    }
   ],
   "source": [
    "# re.Ignorecase 또는 re.I 옵션은 대소문자 구분 없이 매치를 수행시 사용\n",
    "\n",
    "re.match('[a-z]+', 'pAython', re.I).group()"
   ]
  },
  {
   "cell_type": "markdown",
   "id": "9a060ed9",
   "metadata": {},
   "source": [
    "#### 과제5-0425.\n",
    "아래 text에 내용을 모두 출력하세요.\n",
    "\n",
    "text = ['pAthon', 'PATHON', 'pathon', 'Pathon']"
   ]
  },
  {
   "cell_type": "code",
   "execution_count": 536,
   "id": "19201ba5",
   "metadata": {},
   "outputs": [
    {
     "name": "stdout",
     "output_type": "stream",
     "text": [
      "['pAthon']\n",
      "['PATHON']\n",
      "['pathon']\n",
      "['Pathon']\n"
     ]
    }
   ],
   "source": [
    "text = ['pAthon', 'PATHON', 'pathon', 'Pathon']\n",
    "\n",
    "for i in text:\n",
    "    result = re.findall('pathon', i, re.I)\n",
    "    print(result)"
   ]
  },
  {
   "cell_type": "code",
   "execution_count": 222,
   "id": "87e38e1c",
   "metadata": {},
   "outputs": [
    {
     "name": "stdout",
     "output_type": "stream",
     "text": [
      "Friend\n",
      "fRiend\n",
      "friEnd\n",
      "FRIEND\n"
     ]
    }
   ],
   "source": [
    "# Q, text에서 대소문자 구분없이 전체문장 모두 출력하세요\n",
    "\n",
    "text = 'Friend fRiend friEnd FRIEND'\n",
    "\n",
    "result = re.findall('friend', text, re.I)\n",
    "\n",
    "for i in result:\n",
    "    print(i)"
   ]
  },
  {
   "cell_type": "code",
   "execution_count": 242,
   "id": "0a0e5b00",
   "metadata": {},
   "outputs": [],
   "source": [
    "data = \"\"\"python one\n",
    "life is too short\n",
    "python two\n",
    "you need python\n",
    "python three\"\"\""
   ]
  },
  {
   "cell_type": "code",
   "execution_count": 240,
   "id": "2e60389b",
   "metadata": {},
   "outputs": [
    {
     "data": {
      "text/plain": [
       "['python one']"
      ]
     },
     "execution_count": 240,
     "metadata": {},
     "output_type": "execute_result"
    }
   ],
   "source": [
    "# python이라는 문자열로 시작하고 그 뒤에 whitespace, 그뒤에 단어가 오는 경우\n",
    "\n",
    "re.findall('^python\\s\\w+', data)"
   ]
  },
  {
   "cell_type": "code",
   "execution_count": 248,
   "id": "e27827a4",
   "metadata": {},
   "outputs": [
    {
     "data": {
      "text/plain": [
       "['python one', 'python two', 'python three']"
      ]
     },
     "execution_count": 248,
     "metadata": {},
     "output_type": "execute_result"
    }
   ],
   "source": [
    "# re.MULTILINE 또는 re.M 옵션으로 ^메타 문자를 각 라인의 처음으로 인식시킴\n",
    "\n",
    "re.findall('^python\\s\\w+', data, re.M)"
   ]
  },
  {
   "cell_type": "code",
   "execution_count": 250,
   "id": "6e129c31",
   "metadata": {},
   "outputs": [],
   "source": [
    "# re.VERBOSE 또는 re.X : 이해하기 어려운 정규식을 주석 또는 라인 단위로 구분\n",
    "# charref = re.compile(r'&[#](0[0-7]+|[0-9]+|x[0-9a-fA-F]+);')\n",
    "\n",
    "charref = re.compile(r\"\"\"\n",
    "&[#]               # Start of a numeric entity reference\n",
    "(\n",
    "    0[0-7]+        # Octal form\n",
    "  | [0-9]+         # Decimal form \n",
    "  | x[0-9a-fA-F]+  # Hexadecimal form\n",
    ")\n",
    ";                  # Trailing semicolon \n",
    "\"\"\",re.VERBOSE)"
   ]
  },
  {
   "cell_type": "code",
   "execution_count": 256,
   "id": "b4f17411",
   "metadata": {},
   "outputs": [
    {
     "data": {
      "text/plain": [
       "<re.Match object; span=(0, 8), match='\\\\section'>"
      ]
     },
     "execution_count": 256,
     "metadata": {},
     "output_type": "execute_result"
    }
   ],
   "source": [
    "# 파이썬 문자열 리터럴 규칙에 의하여 \\\\이 \\으로 변경외더 \\section이 전달\n",
    "# 정규식 문자열 앞에 r문자를 삽입하면 Raw String 규칙에 의하여 백슬래시 2개 대신 1개 사용\n",
    "\n",
    "# p = re.compile('\\\\section')    # \\s가 space가 되어 안된다. 그래서 raw string을 써주는 것임\n",
    "p = re.compile(r'\\\\section')\n",
    "p.match('\\section')\n",
    "# p.findall('\\section\\section')"
   ]
  },
  {
   "cell_type": "markdown",
   "id": "36b8d95c",
   "metadata": {},
   "source": [
    "정규식에서 \"문자열을 소비시키지 않는다\"는 것은, 정규식 엔진이 문자열에서 일치하는 패턴을 찾아도 해당 부분을 소비(일치한 부분을 제거)하지 않고 그대로 남겨둔다는 의미입니다.\n",
    "\n",
    "예를 들어, 정규식 패턴 'ab'가 문자열 'abcde'와 매치된다고 가정해봅시다. 이 경우, 정규식 엔진은 'ab'와 'abcde' 사이의 두 문자('c'와 'd')에 대해서는 아무런 처리를 하지 않고 넘어갑니다. 즉, 'c'와 'd'는 소비되지 않고 그대로 남아있습니다.\n",
    "\n",
    "따라서, 이후에 다른 패턴을 찾을 때 이 'c'와 'd' 문자를 고려해야 합니다. 이처럼, 정규식 엔진은 일치하는 패턴에 해당하는 문자열만 소비하고, 그 외의 문자열은 그대로 남겨둡니다.\n",
    "\n",
    "이러한 특성은 lookahead/lookbehind와 같은 고급 정규식 기능에서 유용하게 활용될 수 있습니다."
   ]
  },
  {
   "cell_type": "code",
   "execution_count": 258,
   "id": "cefe2462",
   "metadata": {},
   "outputs": [
    {
     "data": {
      "text/plain": [
       "'Crow'"
      ]
     },
     "execution_count": 258,
     "metadata": {},
     "output_type": "execute_result"
    }
   ],
   "source": [
    "# | (or와 동일한 의미)\n",
    "\n",
    "re.match('Crow|Servo', 'CrowHello').group()"
   ]
  },
  {
   "cell_type": "code",
   "execution_count": 540,
   "id": "adcfa14d",
   "metadata": {},
   "outputs": [
    {
     "name": "stdout",
     "output_type": "stream",
     "text": [
      "Life\n"
     ]
    },
    {
     "data": {
      "text/plain": [
       "'Life'"
      ]
     },
     "execution_count": 540,
     "metadata": {},
     "output_type": "execute_result"
    }
   ],
   "source": [
    "# ^(문자열의 맨처음), $(문자열의 끝과 매치)\n",
    "\n",
    "print(re.search('Life', 'Life is too short').group())\n",
    "re.search('^Life', 'Life is too short').group()"
   ]
  },
  {
   "cell_type": "code",
   "execution_count": 541,
   "id": "96df171c",
   "metadata": {},
   "outputs": [
    {
     "data": {
      "text/plain": [
       "'Life'"
      ]
     },
     "execution_count": 541,
     "metadata": {},
     "output_type": "execute_result"
    }
   ],
   "source": [
    "re.search('Life$', 'My Life').group()"
   ]
  },
  {
   "cell_type": "code",
   "execution_count": 542,
   "id": "409bf63e",
   "metadata": {},
   "outputs": [
    {
     "data": {
      "text/plain": [
       "['Life', 'Life']"
      ]
     },
     "execution_count": 542,
     "metadata": {},
     "output_type": "execute_result"
    }
   ],
   "source": [
    "re.findall('^Life|Life$', 'Life My Life')"
   ]
  },
  {
   "cell_type": "code",
   "execution_count": 547,
   "id": "ddcb8400",
   "metadata": {},
   "outputs": [
    {
     "name": "stdout",
     "output_type": "stream",
     "text": [
      "['Life']\n"
     ]
    },
    {
     "data": {
      "text/plain": [
       "['Life', 'Life', 'Life']"
      ]
     },
     "execution_count": 547,
     "metadata": {},
     "output_type": "execute_result"
    }
   ],
   "source": [
    "# MULTILINE 옵션은 ^ 나 $에서 의미가 있음 <-> \\A, \\Z\n",
    "\n",
    "data = \"\"\"Life is too short\n",
    "Life is good\n",
    "Life is valuable\"\"\"\n",
    "\n",
    "print(re.findall('^Life', data))\n",
    "re.findall('^Life', data, re.M)"
   ]
  },
  {
   "cell_type": "code",
   "execution_count": 546,
   "id": "0ea2f83c",
   "metadata": {},
   "outputs": [
    {
     "name": "stdout",
     "output_type": "stream",
     "text": [
      "['Life']\n"
     ]
    },
    {
     "data": {
      "text/plain": [
       "['Life']"
      ]
     },
     "execution_count": 546,
     "metadata": {},
     "output_type": "execute_result"
    }
   ],
   "source": [
    "# \\A : 문자열의 처음과 매치. 단, re.MULTILINE 옵션 사용시 ^와는 달리 전체 문자열의 처음하고만 매치\n",
    "\n",
    "data = \"\"\"Life is too short\n",
    "Life is good\n",
    "Life is valuable\"\"\"\n",
    "print(re.findall('\\ALife', data))\n",
    "re.findall('\\ALife', data, re.M)    # \\A에서는 re.M을 쓸 이유가 없음, \\A는 data를 전체 문자열로 보기 때문에"
   ]
  },
  {
   "cell_type": "code",
   "execution_count": 548,
   "id": "fb355033",
   "metadata": {},
   "outputs": [
    {
     "name": "stdout",
     "output_type": "stream",
     "text": [
      "['good']\n"
     ]
    },
    {
     "data": {
      "text/plain": [
       "['good']"
      ]
     },
     "execution_count": 548,
     "metadata": {},
     "output_type": "execute_result"
    }
   ],
   "source": [
    "# \\Z : 문자열의 끝과 매치. 단, re.MULTILINE 옵션 사용시 $와는 달리 전체 문자열의 끝하고만 매치\n",
    "\n",
    "data = data1 = \"\"\"Life is too short\n",
    "Life is good\n",
    "Life is very good\"\"\"\n",
    "\n",
    "print(re.findall('good\\Z', data))\n",
    "re.findall('good\\Z', data, re.M)    # \\Z에서는 re.M을 쓸 이유가 없음, \\A는 data를 전체 문자열로 보기 때문에"
   ]
  },
  {
   "cell_type": "code",
   "execution_count": 550,
   "id": "065bc8f3",
   "metadata": {},
   "outputs": [
    {
     "data": {
      "text/plain": [
       "['home']"
      ]
     },
     "execution_count": 550,
     "metadata": {},
     "output_type": "execute_result"
    }
   ],
   "source": [
    "# Q. 'we are going home'에서 home만 출력하세요.\n",
    "\n",
    "text = 'we are going home'\n",
    "\n",
    "# re.findall('[a-z]+$', text)\n",
    "re.findall('home\\Z', text)"
   ]
  },
  {
   "cell_type": "code",
   "execution_count": 292,
   "id": "c44af07a",
   "metadata": {},
   "outputs": [
    {
     "data": {
      "text/plain": [
       "['home']"
      ]
     },
     "execution_count": 292,
     "metadata": {},
     "output_type": "execute_result"
    }
   ],
   "source": [
    "# Q. 'home sweet'에서 home만 출력하세요.\n",
    "\n",
    "text = 'home sweet'\n",
    "\n",
    "# re.findall('^[a-z]+', text)\n",
    "re.findall('\\Ahome', text)"
   ]
  },
  {
   "cell_type": "code",
   "execution_count": 295,
   "id": "efa6a55b",
   "metadata": {},
   "outputs": [
    {
     "data": {
      "text/plain": [
       "['199305']"
      ]
     },
     "execution_count": 295,
     "metadata": {},
     "output_type": "execute_result"
    }
   ],
   "source": [
    "# Q. '199305, 1923A, a93247'에서 '199305'만 출력하세요.\n",
    "\n",
    "text = '199305, 1923A, a93247'\n",
    "# re.findall('^\\d+',text)\n",
    "re.findall('\\A199305', text, re.M)"
   ]
  },
  {
   "cell_type": "code",
   "execution_count": 314,
   "id": "1aa278dc",
   "metadata": {},
   "outputs": [
    {
     "data": {
      "text/plain": [
       "['199305']"
      ]
     },
     "execution_count": 314,
     "metadata": {},
     "output_type": "execute_result"
    }
   ],
   "source": [
    "text = '1923A, 199305, a93247'\n",
    "\n",
    "# re.findall('\\d+', text)[1]\n",
    "re.findall('\\d{6}', text)    # 숫자가 6번 반복되는 것으로 찾아라"
   ]
  },
  {
   "cell_type": "code",
   "execution_count": 1024,
   "id": "8a379307",
   "metadata": {},
   "outputs": [
    {
     "name": "stdout",
     "output_type": "stream",
     "text": [
      "199305,\n",
      "199305\n"
     ]
    },
    {
     "data": {
      "text/plain": [
       "['199305']"
      ]
     },
     "execution_count": 1024,
     "metadata": {},
     "output_type": "execute_result"
    }
   ],
   "source": [
    "text = '1923A, 199305, a93247'\n",
    "\n",
    "print(re.search('(\\d+),', text).group())\n",
    "print(re.search('(\\d+),', text).group(1))\n",
    "re.findall('(\\d+),', text)    # findall 함수의 특징임 (), 그룹화된 문자열만 리스트로 반환함"
   ]
  },
  {
   "cell_type": "code",
   "execution_count": 577,
   "id": "5cafe48f",
   "metadata": {},
   "outputs": [
    {
     "name": "stdout",
     "output_type": "stream",
     "text": [
      "[('2022', '04', '25')]\n"
     ]
    }
   ],
   "source": [
    "# chatGPT 예시 - findall 함수의 특성\n",
    "\n",
    "import re\n",
    "\n",
    "text = \"Today's date is 2022-04-25.\"\n",
    "pattern = r'(\\d{4})-(\\d{2})-(\\d{2})'\n",
    "\n",
    "matches = re.findall(pattern, text)\n",
    "print(matches)  # [('2022', '04', '25')]"
   ]
  },
  {
   "cell_type": "code",
   "execution_count": 584,
   "id": "da876468",
   "metadata": {},
   "outputs": [
    {
     "data": {
      "text/plain": [
       "'class'"
      ]
     },
     "execution_count": 584,
     "metadata": {},
     "output_type": "execute_result"
    }
   ],
   "source": [
    "# \\b : whitespace에 의해 구분\n",
    "\n",
    "text = 'no class at all'\n",
    "\n",
    "re.search(r'\\bclass\\b', text).group()    # \\b메타기호를 설명하기 위한 예시임, 없어도 당연히 class는 나옴"
   ]
  },
  {
   "cell_type": "code",
   "execution_count": 589,
   "id": "36612b21",
   "metadata": {},
   "outputs": [
    {
     "name": "stdout",
     "output_type": "stream",
     "text": [
      "class\n",
      "None\n"
     ]
    }
   ],
   "source": [
    "# \\WB : whitespace로 구분된 단어가 아닌 경우에만 매치\n",
    "\n",
    "text2 = 'the declassfied algorithm'\n",
    "\n",
    "print(re.search(r'\\Bclass\\B', text2).group())\n",
    "print(re.search(r'\\Bclass\\B', text1))"
   ]
  },
  {
   "cell_type": "code",
   "execution_count": 591,
   "id": "1c0f9445",
   "metadata": {},
   "outputs": [
    {
     "data": {
      "text/plain": [
       "['에러 1122', '에러 1033', '에러 xxx']"
      ]
     },
     "execution_count": 591,
     "metadata": {},
     "output_type": "execute_result"
    }
   ],
   "source": [
    "# Q. 정규표현식을 사용하여 text에서 에러가 들어간 부분만 포함하는 리스트를 출력하세요.\n",
    "\n",
    "text = \"에러 1122, 레퍼런스 오류, 에러 1033, 아규먼트 오류, 에러 xxx\"\n",
    "\n",
    "re.findall('에러\\s\\w+', text)"
   ]
  },
  {
   "cell_type": "code",
   "execution_count": 597,
   "id": "8dd21858",
   "metadata": {},
   "outputs": [
    {
     "name": "stdout",
     "output_type": "stream",
     "text": [
      "['에러 1122', '에러 1033', '에러 xxx']\n"
     ]
    }
   ],
   "source": [
    "# 에러가 있는 부분만 출력\n",
    "text = '에러 1122, 레퍼런스 오류, 에러 1033, 아규먼트 오류, 에러 xxx'\n",
    "print(re.findall(r'에러\\s[^,]+', text))"
   ]
  },
  {
   "cell_type": "markdown",
   "id": "83c18f6a",
   "metadata": {},
   "source": [
    "#### 과제6_0425.\n",
    "()에 정규표현식을 작성하여 아래와 같이 출력하세요.\n",
    "\n",
    "['1 apple', '5 oranges', '3 boys', '4 girls', '10 army', '11 mr']"
   ]
  },
  {
   "cell_type": "code",
   "execution_count": 619,
   "id": "b76b11ff",
   "metadata": {},
   "outputs": [
    {
     "name": "stdout",
     "output_type": "stream",
     "text": [
      "['1 apple', '5 oranges', '3 boys', '4 girls', '10 army', '11 mr']\n"
     ]
    }
   ],
   "source": [
    "import re\n",
    "li = '1 apple, 5 oranges, 3 boys, 4 girls; 10 army| 11 mr'\n",
    "regex = re.compile('\\d+\\s\\w+')    # \\w+ - 특수문자 전까지만 뽑아주니까 ; | 다 신경 안써도 됨\n",
    "list = regex.findall(li)          # 출력물의 ,는 리스트에서 구분해주는 ','이지, 정규표현식에서 뽑힌게 아님\n",
    "print(list)"
   ]
  },
  {
   "cell_type": "markdown",
   "id": "7f521bd5",
   "metadata": {},
   "source": [
    "#### 과제7_0425.\n",
    "\n",
    "text에서 다음을 수행하세요.\n",
    "- 'H,h'만 출력하세요.\n",
    "- 'H,h'가 아닌 것 모두를 출력하세요."
   ]
  },
  {
   "cell_type": "code",
   "execution_count": 632,
   "id": "4832209f",
   "metadata": {},
   "outputs": [
    {
     "name": "stdout",
     "output_type": "stream",
     "text": [
      "['H', 'h', 'h'] \n",
      "\n",
      "['e', 'l', 'l', 'o', ' ', 'm', 'y', ' ', 'f', 'r', 'i', 'e', 'n', 'd', '!', ' ', 'L', 'i', 'f', 'e', ' ', 'i', 's', ' ', 's', 'o', 'r', 't', ' ', 'y', 'o', 'u', ' ', 'n', 'e', 'e', 'd', ' ', 'P', 'y', 't', 'o', 'n', '!'] \n",
      "\n",
      "['ello my friend! Life is s', 'ort you need Pyt', 'on!'] \n",
      "\n",
      "['', 'ello my friend! Life is s', '', 'ort you need Pyt', '', 'on!', '']\n"
     ]
    }
   ],
   "source": [
    "text = 'Hello my friend! Life is short you need Python!'\n",
    "\n",
    "print(re.findall('h',text, re.I),'\\n')\n",
    "\n",
    "print(re.findall('[^h]', text, re.I),'\\n')\n",
    "\n",
    "print(re.findall('[^h]+', text, re.I), '\\n')\n",
    "\n",
    "print(re.findall('[^h]*', text, re.I))    # h(H)가 아닌 것 0번 이상이어서 H전까지 0번인 ''가 출력됨??"
   ]
  },
  {
   "cell_type": "code",
   "execution_count": 350,
   "id": "8ba2ae3a",
   "metadata": {},
   "outputs": [
    {
     "data": {
      "text/plain": [
       "<re.Match object; span=(0, 9), match='ABCABCABC'>"
      ]
     },
     "execution_count": 350,
     "metadata": {},
     "output_type": "execute_result"
    }
   ],
   "source": [
    "# 그룹핑\n",
    "\n",
    "text = 'ABCABCABC OK?'\n",
    "\n",
    "re.search('(ABC)+', text)"
   ]
  },
  {
   "cell_type": "code",
   "execution_count": 357,
   "id": "b49b0d47",
   "metadata": {},
   "outputs": [
    {
     "name": "stdout",
     "output_type": "stream",
     "text": [
      "<re.Match object; span=(0, 9), match='ABCABCABC'>\n",
      "ABCABCABC\n",
      "ABC\n"
     ]
    }
   ],
   "source": [
    "# 그룹핑\n",
    "# group(0) 매치된 전체 문자열, 1 첫번째 그룹, 2 두번째 그룹, n n번째 그룹\n",
    "text = 'ABCABCABC OK?'\n",
    "\n",
    "m = re.search('(ABC)+', text)\n",
    "print(m)\n",
    "print(m.group(0))\n",
    "print(m.group(1))"
   ]
  },
  {
   "cell_type": "code",
   "execution_count": null,
   "id": "49479cbf",
   "metadata": {},
   "outputs": [],
   "source": [
    "# Q. text에서 그룹핑을 사용하여 아래와 같이 출력하세요.\n",
    "\n",
    "ABCDEF\n",
    "ABCDEF\n",
    "AB\n",
    "CD\n",
    "EF"
   ]
  },
  {
   "cell_type": "code",
   "execution_count": 372,
   "id": "b646a358",
   "metadata": {},
   "outputs": [
    {
     "name": "stdout",
     "output_type": "stream",
     "text": [
      "ABCDEF\n",
      "ABCDEF\n",
      "AB\n",
      "CD\n",
      "EF\n"
     ]
    }
   ],
   "source": [
    "text = 'DEFABCDEFDEF OK?'\n",
    "\n",
    "m = re.search('((AB)(CD)(EF))', text)\n",
    "print(m.group(0))\n",
    "print(m.group(1))\n",
    "print(m.group(2))\n",
    "print(m.group(3))\n",
    "print(m.group(4))"
   ]
  },
  {
   "cell_type": "markdown",
   "id": "52966b8a",
   "metadata": {},
   "source": [
    "#### 과제8_0425.\n",
    "정규표현식을 사용하여 text에서 지역코드만 출력하세요.\n",
    "- 지역코드만 출력하세요.\n",
    "- 지역코드 제외한 번호만 출력하세요.\n",
    "\n",
    "text='문의사항이 있으면 032-232-3245 으로 연락주시기 바랍니다.'"
   ]
  },
  {
   "cell_type": "code",
   "execution_count": 1025,
   "id": "2f2aea36",
   "metadata": {},
   "outputs": [
    {
     "name": "stdout",
     "output_type": "stream",
     "text": [
      "<re.Match object; span=(10, 22), match='032-232-3245'>\n",
      "032\n",
      "232-3245 \n",
      "\n",
      "<re.Match object; span=(10, 22), match='032-232-3245'>\n",
      "032\n",
      "('232', '3245') \n",
      "\n",
      "['032', '232', '3245']\n",
      "032\n",
      "['232', '3245']\n"
     ]
    }
   ],
   "source": [
    "text='문의사항이 있으면 032-232-3245 으로 연락주시기 바랍니다.'\n",
    "\n",
    "# 그루핑과 인덱싱 이용(- 있음)\n",
    "m = re.search('(\\d+)[-](\\d+-\\d+)', text)\n",
    "print(m)\n",
    "print(m.group(1))\n",
    "print(m.group(2),'\\n')\n",
    "\n",
    "# 그루핑과 인덱싱 이용(- 없음)\n",
    "m = re.search('(\\d+)-(\\d+)-(\\d+)', text)\n",
    "print(m)\n",
    "print(m.group(1))\n",
    "print(m.group(2, 3),'\\n')\n",
    "\n",
    "# findall 함수와 인덱싱 이용\n",
    "m = re.findall('\\d+',text)\n",
    "print(m)\n",
    "print(m[0])\n",
    "print(m[1:3])"
   ]
  },
  {
   "cell_type": "code",
   "execution_count": 693,
   "id": "2264e959",
   "metadata": {},
   "outputs": [
    {
     "name": "stdout",
     "output_type": "stream",
     "text": [
      "<re.Match object; span=(0, 18), match='park 010-1234-1234'>\n",
      "park 010-1234-1234\n",
      "park 010-1234-1234\n",
      "park\n",
      "010-1234-1234\n",
      "010\n"
     ]
    }
   ],
   "source": [
    "text = 'park 010-1234-1234'\n",
    "m = re.search(r'(\\w+)\\s+((\\d+)[-]\\d+[-]\\d+)', text)\n",
    "print(m)\n",
    "print(m.group())\n",
    "print(m.group(0))\n",
    "print(m.group(1))\n",
    "print(m.group(2))\n",
    "print(m.group(3))"
   ]
  },
  {
   "cell_type": "code",
   "execution_count": 984,
   "id": "7057d92e",
   "metadata": {},
   "outputs": [
    {
     "name": "stdout",
     "output_type": "stream",
     "text": [
      "Paris\n"
     ]
    }
   ],
   "source": [
    "# 그룹핑된 문자열 재참조\n",
    "# \\1은 재참조 메타 문자로서 정규식의 첫 번째 그룹을 지칭 - 2개의 동일한 단어가 연속적으로 사용되어야 매치\n",
    "# Q. 'Paris is very very beautiful.'에서 'very very'를 출력하세요.\n",
    "\n",
    "text = 'Paris is very very beautiful.'\n",
    "m = re.search(r'\\b(\\w+)\\s\\1',text)    # 중복이 있기 때문에, 즉 뒤에 공백있는 중복 단어를 찾기에 very very임\n",
    "print(m.group())"
   ]
  },
  {
   "cell_type": "code",
   "execution_count": 997,
   "id": "a803d7a1",
   "metadata": {},
   "outputs": [
    {
     "name": "stdout",
     "output_type": "stream",
     "text": [
      " very very\n"
     ]
    }
   ],
   "source": [
    "\n",
    "text = 'Paris is very very beautiful.'\n",
    "m = re.search(r'(\\w+)\\s\\1',text)   # 앞에 \\s던 \\b던 있어야 띄어쓰기가 없어 (Par)is 반복은 제외시킴\n",
    "print(m.group())"
   ]
  },
  {
   "cell_type": "markdown",
   "id": "c5fcb982",
   "metadata": {},
   "source": [
    "#### 과제9_0425.\n",
    "아래 text에서 정규표현식을 사용하여 'the the the'를 출력하세요"
   ]
  },
  {
   "cell_type": "code",
   "execution_count": 791,
   "id": "2aeb3cf1",
   "metadata": {},
   "outputs": [
    {
     "data": {
      "text/plain": [
       "'Paris in the the the spring'"
      ]
     },
     "execution_count": 791,
     "metadata": {},
     "output_type": "execute_result"
    }
   ],
   "source": [
    "text = 'Paris in the the the spring'\n",
    "\n",
    "m = re.search(r'\\b.+\\b',text)\n",
    "m.group()"
   ]
  },
  {
   "cell_type": "code",
   "execution_count": 1006,
   "id": "5250d66b",
   "metadata": {},
   "outputs": [
    {
     "data": {
      "text/plain": [
       "'the the the'"
      ]
     },
     "execution_count": 1006,
     "metadata": {},
     "output_type": "execute_result"
    }
   ],
   "source": [
    "text = 'Paris in the the the spring'\n",
    "\n",
    "m = re.search(r'([a-z]{3})\\s\\1\\s\\1', text)\n",
    "m.group()"
   ]
  },
  {
   "cell_type": "code",
   "execution_count": 1005,
   "id": "85521e9c",
   "metadata": {},
   "outputs": [
    {
     "data": {
      "text/plain": [
       "'the the the'"
      ]
     },
     "execution_count": 1005,
     "metadata": {},
     "output_type": "execute_result"
    }
   ],
   "source": [
    "text = 'Paris in the the the spring'\n",
    "\n",
    "p = re.compile(r'''\n",
    "([a-z]{3})    # 요기까지만 하면 ari가 추출됨\n",
    "\\s\\1          # \\1을 사용하면 연속으로 반복되는 문자열을 찾기에 air -> the가됨\n",
    "              # \\1을 알맞게 사용할 수 있도록 \\s를 넣어줌\n",
    "              # 3개의 연속된 소문자 + 공백 + 3개의 연속된 소문자가 일치하는 패턴 찾음\n",
    "\\s\\1          # 위의 반복임\n",
    "''', re.VERBOSE)\n",
    "\n",
    "m = p.search(text)\n",
    "m.group()"
   ]
  },
  {
   "cell_type": "code",
   "execution_count": 560,
   "id": "777325bf",
   "metadata": {},
   "outputs": [
    {
     "name": "stdout",
     "output_type": "stream",
     "text": [
      "abcdefghij\n",
      "abcdefghi\n",
      "bcdefgh\n",
      "cdefg\n",
      "def\n",
      "e\n",
      "abcdefghi\n"
     ]
    }
   ],
   "source": [
    "# Q. 'abcdefghij' 에 대하여 중첩을 적용한 서브그룹 5개로 컴파일하여 group()함수를 이용하여\n",
    "# 'abcdefghi'와 'e'를 출력하세요\n",
    "\n",
    "text = 'abcdefghij'\n",
    "m = re.search('(?P<a>a(b(c(d(e)f)g)h)i)j', text)\n",
    "print(m.group(0))\n",
    "print(m.group(1))\n",
    "print(m.group(2))\n",
    "print(m.group(3))\n",
    "print(m.group(4))\n",
    "print(m.group(5))\n",
    "print(m.group('a'))    # 이름 짓기"
   ]
  },
  {
   "cell_type": "code",
   "execution_count": 441,
   "id": "f3396f36",
   "metadata": {},
   "outputs": [
    {
     "name": "stdout",
     "output_type": "stream",
     "text": [
      "('abcdefghi', 'bcdefgh', 'cdefg', 'def', 'e')\n"
     ]
    }
   ],
   "source": [
    "# Q. 위 문제에서 모든 서브 그룹에 대한 문자열을 포함하는 튜플을 출력하세요.\n",
    "\n",
    "print(m.groups())"
   ]
  },
  {
   "cell_type": "markdown",
   "id": "d41ed874",
   "metadata": {},
   "source": [
    "#### 그룹핑된 문자열에 이름 붙이기\n",
    "    - 정규표현식에서 그룹핑된 문자열에 이름을 붙이는 방법은 $(?P<name>pattern)$ 형식을 사용하는 것입니다. 이 때, name은 그룹에 붙일 이름이며 pattern은 그룹화할 정규식 패턴입니다."
   ]
  },
  {
   "cell_type": "code",
   "execution_count": 469,
   "id": "c5fb1215",
   "metadata": {},
   "outputs": [
    {
     "data": {
      "text/plain": [
       "'123-4565-7890'"
      ]
     },
     "execution_count": 469,
     "metadata": {},
     "output_type": "execute_result"
    }
   ],
   "source": [
    "text = \"John's phone number is 123-4565-7890.\"\n",
    "\n",
    "p = '(?P<phone>\\d{3}-\\d{4}-\\d{4})'    # raw string 없어도 됨\n",
    "m = re.search(p, text)\n",
    "m.group('phone')"
   ]
  },
  {
   "cell_type": "markdown",
   "id": "f10e5c61",
   "metadata": {},
   "source": [
    "#### 과제10_0425.\n",
    "이름으로 그룹을 참조하여 text 에서 Lots를 출력하세요."
   ]
  },
  {
   "cell_type": "code",
   "execution_count": 924,
   "id": "fd9f9e2f",
   "metadata": {},
   "outputs": [
    {
     "data": {
      "text/plain": [
       "'Lots'"
      ]
     },
     "execution_count": 924,
     "metadata": {},
     "output_type": "execute_result"
    }
   ],
   "source": [
    "text = 'Lots of punctuation Lots of punctuation'\n",
    "\n",
    "p = '(?P<Lots>([A-Z]\\w+))'\n",
    "m = re.search(p, text)\n",
    "m.group('Lots')"
   ]
  }
 ],
 "metadata": {
  "colab": {
   "provenance": []
  },
  "kernelspec": {
   "display_name": "Python 3 (ipykernel)",
   "language": "python",
   "name": "python3"
  },
  "language_info": {
   "codemirror_mode": {
    "name": "ipython",
    "version": 3
   },
   "file_extension": ".py",
   "mimetype": "text/x-python",
   "name": "python",
   "nbconvert_exporter": "python",
   "pygments_lexer": "ipython3",
   "version": "3.9.13"
  }
 },
 "nbformat": 4,
 "nbformat_minor": 5
}
