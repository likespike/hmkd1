{
 "cells": [
  {
   "cell_type": "markdown",
   "id": "e7ff6ed3",
   "metadata": {},
   "source": [
    "# Part 01 데이터베이스 시스템의 개념\n",
    "\n",
    "## Chapter 01 데이터베이스 시스템\n",
    "\n",
    "\n",
    "- Relation - 릴레이션, 테이블(정확히는 테이블의 구조, 레코드와 컬럼의 구조와 관계 정의, 구성 정보, 정의 정보)\n",
    "    - 스키마\n",
    "        - 기본적인 구조 정의(릴레이션의 구성과 정보)\n",
    "        - 스키마는 테이블의 헤더에 나타남\n",
    "    \n",
    "    - 인스턴스\n",
    "        - 정의된 스키마에 따라 테이블에 실제로 저장되는 데이터의 집합\n",
    "- Relationship - 관계\n",
    "    - 릴레이션 내의 관계 - 도서(도서번호, 도서이름, 출판사, 가격)\n",
    "- 테이블 - 릴레이션의 시각적 표현 방법, 데이터를 담고 있는 객체\n",
    "\n",
    "- 집합 - 컬럼\n",
    "- 원소 - 값\n",
    "- 속성 - 릴레이션 스키마의 열\n",
    "- 도메인 - 속성이 가질 수 있는 값의 집합 (자료타입?) -> char(40)\n",
    "- 차수 - 속성의 개수 (4개의 열이 있으니까 차수는 4)\n",
    "- 투플 - 행\n",
    "- 카디날리티 - 투플의 수\n",
    "\n",
    "\n",
    "\n",
    "\n",
    "\n"
   ]
  },
  {
   "cell_type": "markdown",
   "id": "d4cf9225",
   "metadata": {},
   "source": [
    "## Chapter 02 관계 데이터 모델\n",
    "### 01 관계 데이터 모델의 개념<br>\n",
    "### 02 무결성 제약조건<br>\n",
    "#### 1 키\n",
    "    - 유일한 식별자의 의미\n",
    "2. 슈퍼키\n",
    "    - 투플을 유일하게 식별할 수 있는 하나의 속성 혹은 속성의 집합\n",
    "3. 후보키\n",
    "    - 투플을 유일하게 식별할 수 있는 속성의 최소 집합 (=슈퍼키의 최소 집합)\n",
    "4. 기본키\n",
    "    - 여러 후보키 중 하나를 선정하여 대표로 삼는 키\n",
    "5. 대리키 (인조키)\n",
    "6. 대체키\n",
    "    - 기본키로 선정되지 않은 후보키\n",
    "7. 외래키\n",
    "    - 다른 릴레이션의 기본키를 참조하여 관계 데이터 모델의 특징인 릴레이션 간의 관계를 표현함<br><br\n",
    "                                                               >\n",
    "\n",
    "#### 2 무결성 제약조건\n",
    "    \n",
    "### 관계대수"
   ]
  },
  {
   "cell_type": "code",
   "execution_count": null,
   "id": "b8b3c332",
   "metadata": {},
   "outputs": [],
   "source": [
    "쿼리부분 - 삽입, 삭제, 수정, 추출\n",
    "\n",
    "제약조건 - 삽입, 삭제, 수정\n",
    "관계대수 - 추출(검색)\n",
    "\n",
    "\n",
    "카디션 프로덕트와 조인을 사용한 연산의 결과는 똑같은데, 절차의 차이?"
   ]
  }
 ],
 "metadata": {
  "kernelspec": {
   "display_name": "Python 3 (ipykernel)",
   "language": "python",
   "name": "python3"
  },
  "language_info": {
   "codemirror_mode": {
    "name": "ipython",
    "version": 3
   },
   "file_extension": ".py",
   "mimetype": "text/x-python",
   "name": "python",
   "nbconvert_exporter": "python",
   "pygments_lexer": "ipython3",
   "version": "3.9.13"
  }
 },
 "nbformat": 4,
 "nbformat_minor": 5
}
