{
 "cells": [
  {
   "cell_type": "code",
   "execution_count": 2,
   "id": "9fca5931",
   "metadata": {
    "id": "9fca5931"
   },
   "outputs": [],
   "source": [
    "import re\n",
    "import urllib\n",
    "from bs4 import BeautifulSoup\n",
    "import requests\n",
    "from urllib.parse import urlunparse"
   ]
  },
  {
   "cell_type": "code",
   "execution_count": null,
   "id": "b0960deb",
   "metadata": {
    "id": "b0960deb"
   },
   "outputs": [],
   "source": []
  },
  {
   "cell_type": "code",
   "execution_count": null,
   "id": "67b99ecf",
   "metadata": {
    "id": "67b99ecf"
   },
   "outputs": [],
   "source": [
    "w3schools\n",
    "bootstrap - nav bar\n",
    "tcp.school.com"
   ]
  },
  {
   "cell_type": "markdown",
   "id": "1527ce47",
   "metadata": {
    "id": "1527ce47"
   },
   "source": [
    "# 웹 개발 언어\n",
    "\n",
    "데이터 수집을 할 때 웹 개발 언어를 알아야 하는 이유는 웹 페이지에서 데이터를 가져오기 위해서입니다.\n",
    "\n",
    "예를 들어, 어느 날 친구가 당신에게 \"너는 컴퓨터가 얼마나 똑똑한지 알아?\"라고 물어봤다고 생각해보세요. 당신은 궁금해졌고, 컴퓨터가 얼마나 똑똑한지 알아보기로 했습니다. 그래서 당신은 인터넷 검색을 통해 컴퓨터의 지능에 대한 정보를 찾아보기로 했습니다.\n",
    "\n",
    "하지만 인터넷에는 수많은 정보가 있습니다. 모든 정보를 일일이 읽어보기에는 시간이 너무 오래 걸리죠. 이때 웹 개발 언어를 이해하고 파이썬 라이브러리를 사용하면 웹 페이지에서 필요한 정보만을 자동으로 추출할 수 있습니다.\n",
    "\n",
    "## HTML, CSS, Javascript는 웹 개발에 사용되는 세 가지 주요 언어입니다.\n",
    "\n",
    "- HTML은 HyperText Markup Language의 약자로 웹 페이지의 구조를 만들기 위한 언어입니다. HTML은 웹 페이지의 내용과 구조를 정의하는 데 사용됩니다.\n",
    "\n",
    "- CSS는 Cascading Style Sheets의 약자로 웹 페이지의 디자인과 레이아웃을 만들기 위한 스타일시트입니다. CSS는 HTML로 작성된 웹 페이지의 외형을 예쁘게 바꿀 수 있습니다. 글자 색상과 배경 색상, 배치 등을 자유롭게 변경할 수 있습니다.\n",
    "\n",
    "- Javascript는 웹 페이지를 프로그래밍하기 위한 언어입니다. Javascript를 사용하면 웹 페이지에 동적인 기능을 추가할 수 있습니다."
   ]
  },
  {
   "cell_type": "markdown",
   "id": "f47d92e6",
   "metadata": {
    "id": "f47d92e6"
   },
   "source": [
    "#### HTML의 구조  및 태그\n",
    "- 구조\n",
    " - $<!Doctype html>$ : HTML5 문서를 선언하는 구문\n",
    " - $<html></html>$ : HTML 문서의 시작과 끝\n",
    " - $<head></head>$ : CSS, JavaScript, meta, title 정보들을 설정\n",
    " - $<body></body>$ : 실제 홈페이지 화면을 나타내는 부분\n",
    "\n",
    "- 요소 구조\n",
    " - HTML 요소는 여러 속성들을 가질 수 있으며 속성들은 해당 요소에 대한 추가 정보를 제공\n",
    " - 시작 태그\\(< >)로 시작해서 종료 태그(</>)로 끝남\n",
    " - 요소 안에 다른 요소를 작성할 수 있음 "
   ]
  },
  {
   "cell_type": "markdown",
   "id": "94b6f6a4",
   "metadata": {
    "id": "94b6f6a4"
   },
   "source": [
    "<img src = 'html요소구조.jpg' STYLE='width:500px;'>"
   ]
  },
  {
   "cell_type": "code",
   "execution_count": null,
   "id": "39372188",
   "metadata": {
    "id": "39372188"
   },
   "outputs": [],
   "source": [
    "# HTML 기본 구조\n",
    "html ='''\n",
    "<!DOCTYPE html>                html5 명시\n",
    "<html lang=\"en\">               html 태그로 모든 태그를 감사줌. lang이라는 속성을 포함\n",
    " <head>                        head 태그는 meta, title 이외의 style, script, link와 같은 태그 포함\n",
    "     <meta charset=\"UTF-8\">    \n",
    "     <title>a.html</title>      title 태그는 문서의 제목\n",
    "     <meta name=\"viewport\" content=\"width=device-width, initial-scale=1.0\"> meta 태그는 name과 contents속성으로 문서 정보 포함\n",
    " </head>\n",
    " <body>                        웹페이지의 내용 포함\n",
    "     <style type=\"text/css\">    CSS 코드가 포함된는 태그  \n",
    "     </style>\n",
    "                                script 태그는 JavaScript 코드를 작성하거나 파일 로드. head 태그 or body 태그 하단 위치\n",
    " </body>\n",
    "</html>\n",
    "'''\n",
    "print(f'HTML 구조 \\n {html}')"
   ]
  },
  {
   "cell_type": "markdown",
   "id": "85c1184b",
   "metadata": {
    "id": "85c1184b"
   },
   "source": [
    "#### HTML 태그\n",
    "- p 태그를 이용하여 문단 작성\n",
    "- h 태그를 이용하여 폰트 크기 설정\n",
    "- ul(unordered list)과 ol(ordered list) 태그로 리스트 작성, 리스트 각각의 요소는 li(항목 나열) 태그로 표시  \n",
    "- table 태그는 thead, tbody를 가질 수 있으며 표를 표현 : tr 행, th(가운데 정렬,굵은 글씨체),td 각 행의 컬럼\n",
    "- input 태그와 button 태그 : 데이터를 넣는 폼과 페이지 조작 버튼 생성\n",
    "- select # select 태그로 선택 리스트 생성\n",
    "- a 태그로 다른 페이지로 이동. 상대경로(내가 있는 경로부터의 경로), 절대경로(항상 같은 url)\n",
    "- img 태그로 이미지 포함 : src(이미지 붙임), alt(이미지 대체)\n",
    "- span 태그로 p태그 처럼 글을 추가. span 태그는 옆으로 나열. br 태그 사용하여 p 태그처럼 사용\n",
    "- div 태그는 화면 레이아웃을 잡는 역할 : 하위 태그들의 영역을 잡아줌"
   ]
  },
  {
   "cell_type": "markdown",
   "id": "5d7b893e",
   "metadata": {
    "id": "5d7b893e"
   },
   "source": [
    "#### CSS \n",
    "- CSS로 웹 사이트를 꾸며주기 위해 해당 태그에 접근하는 방식을 크롤러에서도 사용.\n",
    "- selector : CSS로 꾸미기 위해 특정 요소에 접근하는 것을 셀렉터라고 함.\n",
    "  - html 파일을 만들었다면 각각의 태그에 다르게 css 를 설정 할 것입니다. 이 때, 어느 요소에 스타일을 적용할지 알려주는 방식이 바로 css 선택자 입니다.\n",
    "- 태그를 이용하여 접근하면 태그는 전부 CSS 효과가 적용\n",
    "- class를 이용하면 원하는 요소만 CSS 효과 적용할 수 있고 원하는 요소만 수집할 수 있음.\n",
    "- id는 class와 다르게 id값이 고유해야 함(id는 한페이지에 하나만 존재해야 함)\n",
    "- 부모 태그와 자식 태그를 나열하여 복잡한 셀렉터를 생성\n",
    "\n",
    "CSS 선택자 이해\n",
    "\n",
    "- https://ssungkang.tistory.com/entry/css-css-%EC%84%A0%ED%83%9D%EC%9E%90selector-%EC%9D%98-%EC%A2%85%EB%A5%98%EC%99%80-%EC%98%88%EC%8B%9C\n",
    "- https://developer.mozilla.org/en-US/docs/Web/CSS/CSS_Selectors\n",
    "- https://www.nextree.co.kr/p8468/"
   ]
  },
  {
   "cell_type": "code",
   "execution_count": null,
   "id": "981b2bc5",
   "metadata": {
    "id": "981b2bc5"
   },
   "outputs": [],
   "source": [
    "css = \"\"\"\n",
    "\n",
    "- 우리가 html 파일을 만들었다면 각각의 태그에 다르게 css 를 설정 할 것입니다. \n",
    "  이 때, 어느 요소에 스타일을 적용할지 알려주는 방식이 바로 css 선택자 입니다.\n",
    "\n",
    "- 선택자가 어떻게 쓰이는가?\n",
    "\n",
    "div {\n",
    "    color: black;\n",
    "    background-color: yellow;\n",
    "}\n",
    "div 태그들에게 css 를 주기 위해서 div 라는 선택자를 사용하였습니다. 이렇게 되면 html 문서에 \n",
    "모든 div 태그들에는 { } 안에 적용해준 css 속성값들이 적용이 됩니다. div 처럼 태그의 이름 말고도 \n",
    "선택자를 주는 방식이 굉장히 다양함\n",
    "\n",
    "선택자의 종류\n",
    "\n",
    "[ 선택자를 하나만 쓸 경우 ]\n",
    "\n",
    "전체 선택자\n",
    "전체 선택자는 * 을 사용하여 나타냅니다.\n",
    "\n",
    "html 의 모든 태그에 대하여 적용합니다.\n",
    "\n",
    "* {\n",
    "    margin: 0 auto;\n",
    "} \n",
    "\n",
    "태그 선택자\n",
    "태그 선택자는 태그의 이름 을 사용하여 나타냅니다.\n",
    "태그명이 선택자와 같은 태그들에 대하여 적용합니다.\n",
    "\n",
    "p {\n",
    "    color: red;\n",
    "} \n",
    "\n",
    "클래스 선택자\n",
    "클래스 선택자는 .클래스이름 을 사용하여 나타냅니다.\n",
    "클래스가 클래스이름과 같은 태그들에 대하여 적용합니다.\n",
    "\n",
    ".ClassName {\n",
    "    width: 100px;\n",
    "} \n",
    "\n",
    "ID 선택자\n",
    "ID 선택자는 #아이디이름 을 사용하여 나타냅니다.\n",
    "ID가 ID 이름과 같은 태그에 대해서 적용합니다.\n",
    "\n",
    "#IdName {\n",
    "    position: fixed;\n",
    "} \n",
    "\n",
    "[ 선택자를 여러 개 쓸 경우] \n",
    "\n",
    "선택자를 여러 개 쓰는 경우를 복합 선택자라고 합니다. 복합 선택자에도 여러 가지 종류가 있어 \n",
    "이에 대해서 알아보겠습니다.\n",
    "\n",
    "하위 선택자\n",
    "하위 선택자는 선택자 사이를 공백을 사용하여 나타냅니다.\n",
    "\n",
    "앞 요소의 자손인 뒷 요소를 선택합니다.\n",
    "\n",
    "section ul {\n",
    "    text-shadow: none;\n",
    "}\n",
    "자식 선택자\n",
    "\n",
    "하위 선택자는 선택자 사이를 > 를 사용하여 나타냅니다.\n",
    "\n",
    "앞 요소의 자식 인 뒷 요소를 선택합니다.\n",
    "\n",
    "section > ul {\n",
    "    text-shadow: none;\n",
    "}\n",
    "\n",
    "자손과 자식의 차이는 무엇일까요?\n",
    "자손은 자식을 포괄하는 의미입니다.\n",
    "자손은 모든 하위 요소를 의미하고 자식은 바로 아래의 자식 요소에만 적용합니다.\n",
    "\n",
    "인접 형제 선택자\n",
    "인접 형제 선택자는 선택자 사이를 + 를 사용하여 나타냅니다.\n",
    "\n",
    "앞 요소 바로 뒤의 뒷 요소를 선택합니다.\n",
    "\n",
    "h1 + ul {\n",
    "    color: red;\n",
    "} \n",
    "\n",
    "일반 형제 선택자\n",
    "일반 형제 선택자는 선택자 사이에 ~ 를 사용하여 나타냅니다.\n",
    "\n",
    "앞 요소 뒤에 있는 모든 뒷 요소를 선택합니다.\n",
    "\n",
    "h1 + ul {\n",
    "    color: red;\n",
    "}\n",
    "\n",
    "형제라는 건 무엇일까요?\n",
    "\n",
    "같은 부모를 가지는 요소들을 형제 라고 합니다.\n",
    "\n",
    "속성 선택자\n",
    "속성 선택자는 각 태그가 가지고 있는 그 속성에 접근하는 방식입니다. 생각 외로 활용도가 높으며 \n",
    "크롤링를 할 경우에도 적절한 id 와 class 이름이 없을 경우, 이용합니다.\n",
    "\n",
    "태그[속성]\n",
    "속성이름 에 해당되는 속성을 가진 태그를 선택합니다.\n",
    "\n",
    "a[href] {\n",
    "    font-size: 10px;\n",
    "}\n",
    "태그[속성=\"변수\"]\n",
    "속성 의 속성값이 변수 인 태그를 선택합니다.\n",
    "\n",
    "a[href=\"http://www.naver.com\"] {\n",
    "    color: black;\n",
    "}\n",
    "\n",
    "태그[속성~=\"변수\"]\n",
    "속성 의 속성값이 변수 를 포함하는 태그를 선택합니다.\n",
    "\n",
    "a[href~=\"naver\"] {\n",
    "    color: black;\n",
    "}\n",
    "\n",
    "태그[속성^=\"변수\"]\n",
    "속성 의 속성값이 변수 로 시작하는 태그를 선택합니다.\n",
    "\n",
    "a[href^=\"http\"] {\n",
    "    color: black;\n",
    "}\n",
    "\n",
    "태그[속성$=\"변수\"]\n",
    "속성 의 속성값이 변수 로 끝나는 요소를 선택합니다.\n",
    "\n",
    "a[href$=\"com\"]{\n",
    "    color: black;\n",
    "}\n",
    "\n",
    "태그[속성*=\"변수\"]\n",
    "속성 의 속성값이 변수 를 포함하는 태그를 선택합니다.\n",
    "\n",
    "a[href*=\"naver\"] {\n",
    "    color: black;\n",
    "}\n",
    "\n",
    "태그[속성~=\"변수\"] 와 태그[속성*=\"변수\"] 의 차이는 무엇일까요?\n",
    "~ 은 포함여부를 단어를 기준으로 판단하고 * 는 문자열 기준으로 판단합니다.\n",
    "\n",
    "다음과 같은 상황에서 navers 는 어떻게 될까요?\n",
    "~ 은 naver와 navers 는 단어가 다르기 때문에 선택을 못하고\n",
    "* 은 navers 는 naver 라는 문자열을 포함하기 때문에 선택을 하게 됩니다.\n",
    "\n",
    "태그[속성|=\"변수\"]\n",
    "속성 의 속성값이 변수 이거나 변수 로 시작하는 태그를 선택합니다.\n",
    "\n",
    "a[href|=\"http\"]{\n",
    "    color: black;\n",
    "}\n",
    "\"\"\"\n",
    "print(f'CSS 선택자 \\n {css}')"
   ]
  },
  {
   "cell_type": "markdown",
   "id": "d8f34fa7",
   "metadata": {
    "id": "d8f34fa7"
   },
   "source": [
    "#### JavaScript\n",
    "- 웹 사이트의 기능을 넣어줌. script 태그를 이용하여 작성. head or body 하단에 위치\n",
    "- js를 이용하여 HTML 코드를 생성. 크롤러로 분석하기 가장 어려운 부분임\n",
    "- DOM(Document Object Model)이란 HTML을 시각적으로 쉽게 표현하기 위해 만든 객체로 크롤러 만들 때 중요\n",
    "- 데이터를 수집하기 위해 DOM을 이용해 데이터에 접근한 후 해당 데이터 수집\n",
    "- 웹 브라우저는 HTML 코드를 가져온 후 JavaScript를 실행시킨 결과를 보여줌\n",
    "- 소스 보기 페이지에 수집하고자 하는 요소가 없다면 네트워크 탭을 이용, 서버에서 데이터를 받아오는 지 확인\n",
    "- 그렇지 않은 경우 셀레니움을 사용하여 해결\n",
    "\n",
    "http://www.tcpschool.com/javascript/js_intro_basic"
   ]
  },
  {
   "cell_type": "markdown",
   "id": "d5c1dc4f",
   "metadata": {
    "id": "d5c1dc4f"
   },
   "source": [
    "#### html 연습\n",
    "- <ul> : unordered list\n",
    "- <ol> : ordered list\n",
    "- <li> : list item\n",
    "- <footer> : 웹페이지 밑에 저작권 등"
   ]
  },
  {
   "cell_type": "code",
   "execution_count": null,
   "id": "cabc0dab",
   "metadata": {
    "id": "cabc0dab"
   },
   "outputs": [],
   "source": [
    "with open('sample.html', 'w', encoding='utf8') as f:\n",
    "    f.write('''\n",
    "\n",
    "<!DOCTYPE html>\n",
    "\n",
    "<html>\n",
    "\n",
    "    <head>\n",
    "    \n",
    "        <meta charset='UTF-8'>\n",
    "        \n",
    "        <title>휴먼 점심 메뉴 추천 서비스 (LongPark)</title>\n",
    "        \n",
    "        <style>\n",
    "            main {position: relative; top: -20px;}\n",
    "            main h1 {color: green; text-align: center;}\n",
    "            main h2 {color: green; text-align: center;}            \n",
    "            section h3 {color: blue;}\n",
    "            section { margin-top: 50px;}\n",
    "            main section h1 {color: red;}\n",
    "            #seven {float: right; margin-right: 200px; margin-top: -50px; display: inline-block;}            \n",
    "        </style>\n",
    "        \n",
    "\n",
    "        <script>\n",
    "          window.onload = function() {\n",
    "            var menu1 = document.querySelector(\"#menu1\");\n",
    "            var menu2 = document.querySelector(\"#menu2\");\n",
    "            var menu3 = document.querySelector(\"#menu3\");\n",
    "\n",
    "            menu1.addEventListener(\"click\", function() {\n",
    "              var content = document.querySelector(\"#content1\");\n",
    "              content.style.display = \"block\";\n",
    "            });\n",
    "\n",
    "            menu2.addEventListener(\"click\", function() {\n",
    "              var content = document.querySelector(\"#content2\");\n",
    "              content.style.display = \"block\";\n",
    "            });\n",
    "\n",
    "            menu3.addEventListener(\"click\", function() {\n",
    "              var content = document.querySelector(\"#content3\");\n",
    "              content.style.display = \"block\";\n",
    "            });\n",
    "\n",
    "            var addButton = document.querySelector(\"#addButton\");\n",
    "            addButton.addEventListener(\"click\", function() {\n",
    "              var name = document.querySelector(\"#name\").value;\n",
    "              var food = document.querySelector(\"#food\").value;\n",
    "\n",
    "              var table = document.querySelector(\"table tbody\");\n",
    "              var newRow = table.insertRow();\n",
    "\n",
    "              var nameCell = newRow.insertCell(0);\n",
    "              var foodCell = newRow.insertCell(1);\n",
    "\n",
    "              nameCell.innerHTML = name;\n",
    "              foodCell.innerHTML = food;\n",
    "            });\n",
    "          };\n",
    "        </script>\n",
    "\n",
    "\n",
    "\n",
    "        <script>\n",
    "        function addReview() {\n",
    "          var table = document.getElementById(\"reviewTable\").getElementsByTagName('tbody')[0];\n",
    "          var restaurantName = document.getElementsByName(\"restaurantName\")[0].value;\n",
    "          var review = document.getElementsByName(\"review\")[0].value;\n",
    "\n",
    "          var row = table.insertRow(-1);\n",
    "          var cell1 = row.insertCell(0);\n",
    "          var cell2 = row.insertCell(1);\n",
    "\n",
    "          cell1.innerHTML = restaurantName;\n",
    "          cell2.innerHTML = review;\n",
    "\n",
    "          document.getElementsByName(\"restaurantName\")[0].value = \"\";\n",
    "          document.getElementsByName(\"review\")[0].value = \"\";\n",
    "        }\n",
    "        </script>\n",
    "\n",
    "\n",
    "    \n",
    "    </head>\n",
    "    \n",
    "    \n",
    "    \n",
    "    <body>\n",
    "    \n",
    "        <header>\n",
    "            <img src=\"logo.png\" alt=\"logo.png\">                                             \n",
    "        </header>\n",
    "        \n",
    "        <main>\n",
    "            <h1> 맛있는거 먹자!! (at 영등포)</h1>\n",
    "            <h2> 🥘🍜수강생을 응원하기 위한 점심 메뉴 추천 서비스🍣🍖</h2>\n",
    "            <section style=\"margin-bottom: 50px;\">\n",
    "                <h3>같이 먹으러 가요!(실시간)</h3>\n",
    "                \n",
    "                <img src=\"7.png\" alt=\"7.png\" id='seven' width='480' height='832'>             \n",
    "                \n",
    "                <input type=\"text\" id=\"name\" placeholder=\"너 누구야!\">\n",
    "                <input type=\"text\" id=\"food\" placeholder=\"뭐 먹고 싶니?\">\n",
    "                <button id=\"addButton\">추가</button>                \n",
    "                \n",
    "                <table>\n",
    "                    <tbody>\n",
    "                        <tr>\n",
    "                            <th>이  름</th>\n",
    "                            <th>공  지</th>\n",
    "\n",
    "                        </tr>\n",
    "                        <tr>\n",
    "                            <td>손&nbsp;&nbsp;&nbsp;아&nbsp;&nbsp;&nbsp;</td>\n",
    "                            <td>반장은 꼭 적어!</td>\n",
    "                        </tr>\n",
    "                        <tr>\n",
    "                            <td>장인혁&nbsp;</td>\n",
    "                            <td>양꼬치 먹고픔</td>\n",
    "                        </tr>\n",
    "                        <tr>\n",
    "                            <td>장인혁&nbsp;</td>\n",
    "                            <td>양꼬치 먹고픔</td>\n",
    "                        </tr>  \n",
    "                        <tr>\n",
    "                            <td>미녀 삼총사&nbsp;</td>\n",
    "                            <td>술</td>\n",
    "                        </tr>                          \n",
    "                    </tbody>\n",
    "                </table>                \n",
    "\n",
    "            </section>\n",
    "            \n",
    "            \n",
    "            <section style=\"margin-bottom: 50px;\">\n",
    "            \n",
    "                <h3>학원 근처 맛집 추천</h3>\n",
    "                \n",
    "                <p>👉먹고 싶은 음식 스타일을 클릭하세요.</p>                \n",
    "                \n",
    "                <nav>\n",
    "                    <ol>\n",
    "                        <li><a href=\"#\" id=\"menu1\">한식</a></li>\n",
    "                        <section id=\"content1\" style=\"display:none;\">\n",
    "                            <table>\n",
    "                                <tbody>\n",
    "                                    <tr>\n",
    "                                        <th>식당명</th>\n",
    "                                        <th>추천 메뉴</th>\n",
    "\n",
    "                                    </tr>\n",
    "                                    <tr>\n",
    "                                        <td>박씨물고온제비</td>\n",
    "                                        <td>&nbsp;&nbsp;&nbsp;괜찮지만, 김치볶음밥, 김치찌개는 맵질이 주의!</td>\n",
    "                                    </tr>\n",
    "                                    <tr>\n",
    "                                        <td>곤지암소머리국밥</td>\n",
    "                                        <td>&nbsp;&nbsp;&nbsp;먹을만함</td>\n",
    "                                    </tr>\n",
    "                                    <tr>\n",
    "                                        <td>라밥</td>\n",
    "                                        <td>&nbsp;&nbsp;&nbsp;가성비! 김밥천국의 업그레이드판</td>\n",
    "                                    </tr>                                \n",
    "                                </tbody>\n",
    "                            </table>       \n",
    "                        </section>                        \n",
    "\n",
    "                        <li><a href=\"#\" id=\"menu2\">양식</a></li>\n",
    "                        <section id=\"content2\" style=\"display:none;\">\n",
    "                            <table>\n",
    "                                <tbody>\n",
    "                                    <tr>\n",
    "                                        <th>식당명</th>\n",
    "                                        <th>추천 메뉴</th>\n",
    "\n",
    "                                    </tr>\n",
    "                                    <tr>\n",
    "                                        <td>더플레이스</td>\n",
    "                                        <td>&nbsp;&nbsp;&nbsp;안가봤음</td>\n",
    "                                    </tr>\n",
    "                                    <tr>\n",
    "                                        <td>닥터로빈</td>\n",
    "                                        <td>&nbsp;&nbsp;&nbsp;안가봤음</td>\n",
    "                                    </tr>\n",
    "                                    <tr>\n",
    "                                        <td>영등포돈까스</td>\n",
    "                                        <td>&nbsp;&nbsp;&nbsp;안가봤음</td>\n",
    "                                    </tr>                                \n",
    "                                </tbody>\n",
    "                            </table>       \n",
    "                        </section>           \n",
    "\n",
    "                        <li><a href=\"#\" id=\"menu3\">일식</a></li>\n",
    "                        <section id=\"content3\" style=\"display:none;\">\n",
    "                            <table>\n",
    "                                <tbody>\n",
    "                                    <tr>\n",
    "                                        <th>식당명</th>\n",
    "                                        <th>추천 메뉴</th>\n",
    "\n",
    "                                    </tr>\n",
    "                                    <tr>\n",
    "                                        <td>스시나베</td>\n",
    "                                        <td>&nbsp;&nbsp;&nbsp;안가봤음</td>\n",
    "                                    </tr>\n",
    "                                    <tr>\n",
    "                                        <td>지로우</td>\n",
    "                                        <td>&nbsp;&nbsp;&nbsp;라멘보다 차슈덮밥이 더 괜찮고 가성비 좋음</td>\n",
    "                                    </tr>\n",
    "                                    <tr>\n",
    "                                        <td>코코로벤또</td>\n",
    "                                        <td>&nbsp;&nbsp;&nbsp;안가봤음</td>\n",
    "                                    </tr>                                \n",
    "                                </tbody>\n",
    "                            </table>       \n",
    "                        </section>           \n",
    "                        \n",
    "                        <li><a href=\"#\" id=\"menu3\">중식 (서비스 예정)</a></li>\n",
    "                        \n",
    "                        <li><a href=\"#\" id=\"menu3\">분식 (서비스 예정)</a></li>\n",
    "                        \n",
    "                    <ol>\n",
    "                </nav>\n",
    "                \n",
    "            </section>\n",
    "            \n",
    "            \n",
    "            <section style=\"margin-bottom: 60px;\">\n",
    "                <h3>한줄평!</h3>\n",
    "                <h4>익명 보장!!! (날먹하지 말고 꼭 평가할 것!)</h1>\n",
    "                <input type=\"text\" name=\"restaurantName\" placeholder=\"식당명\">\n",
    "                <input type=\"text\" name=\"review\" placeholder=\"한줄 평가!\">\n",
    "                <button onclick=\"addReview()\">추가</button>\n",
    "                \n",
    "                <table id=\"reviewTable\">\n",
    "                    <tbody>\n",
    "                        <tr>\n",
    "                            <th>식당명</th>\n",
    "                            <th>한줄평</th>\n",
    "\n",
    "                        </tr>\n",
    "                        <tr>\n",
    "                            <td>박씨물고온제비</td>\n",
    "                            <td>&nbsp;&nbsp;&nbsp;괜찮지만, 맵찔이는 김치볶음밥, 김치찌개 주의!</td>\n",
    "                        </tr>\n",
    "                        <tr>\n",
    "                            <td>지로우&nbsp;</td>\n",
    "                            <td>&nbsp;&nbsp;&nbsp;라멘보다 차슈덮밥이 더 괜찮고 가성비 좋음</td>\n",
    "                        </tr>\n",
    "                        <tr>\n",
    "                            <td>라밥</td>\n",
    "                            <td>&nbsp;&nbsp;&nbsp;가성비! 니가 생각이라는게 없는 놈이면 그냥 여기 가!</td>\n",
    "                        </tr>                                \n",
    "                    </tbody>\n",
    "                </table>                    \n",
    "                \n",
    "                \n",
    "                <p style=\"margin-top: 60px;\">여기는 Ubuntu의 정신으로 함께 만들어가는 공간입니다.</p>\n",
    "                \n",
    "            </section>\n",
    "            \n",
    "      \n",
    "        </main>\n",
    "        \n",
    "        <footer style=\"margin-top: -50px;\">\n",
    "            <p>Copyright ©️ 2023 LongPark Company. All rights reversed. hosting by hmkd24 </p>\n",
    "        </footer>\n",
    "        \n",
    "    </body>\n",
    "\n",
    "\n",
    "</html>\n",
    "''')"
   ]
  },
  {
   "cell_type": "code",
   "execution_count": null,
   "id": "6c65506d",
   "metadata": {
    "id": "6c65506d"
   },
   "outputs": [],
   "source": [
    "# 자바 스크립트 기본틀\n",
    "\n",
    "<!DOCTYPE html>\n",
    "<html>\n",
    "  <head>\n",
    "    <meta charset=\"UTF-8\">\n",
    "    <title>문서 제목</title>\n",
    "    <style>\n",
    "      h1 {\n",
    "        color: red;\n",
    "      }\n",
    "      nav ul li a {\n",
    "        color: blue;\n",
    "      }\n",
    "      section h1, section p {\n",
    "        text-align: left;\n",
    "      }\n",
    "    </style>\n",
    "    <script>\n",
    "      window.onload = function() {\n",
    "        var menu1 = document.querySelector(\"#menu1\");\n",
    "        var menu2 = document.querySelector(\"#menu2\");\n",
    "        var menu3 = document.querySelector(\"#menu3\");\n",
    "        \n",
    "        menu1.addEventListener(\"click\", function() {\n",
    "          var content = document.querySelector(\"#content1\");\n",
    "          content.style.display = \"block\";\n",
    "        });\n",
    "        \n",
    "        menu2.addEventListener(\"click\", function() {\n",
    "          var content = document.querySelector(\"#content2\");\n",
    "          content.style.display = \"block\";\n",
    "        });\n",
    "        \n",
    "        menu3.addEventListener(\"click\", function() {\n",
    "          var content = document.querySelector(\"#content3\");\n",
    "          content.style.display = \"block\";\n",
    "        });\n",
    "      };\n",
    "    </script>\n",
    "  </head>\n",
    "  <body>\n",
    "  \n",
    "    <header>\n",
    "      <h1>HMKD Restaurant</h1>\n",
    "      <nav>\n",
    "        <ul>\n",
    "          <li><a href=\"#\" id=\"menu1\">메뉴 1</a></li>\n",
    "          <li><a href=\"#\" id=\"menu2\">메뉴 2</a></li>\n",
    "          <li><a href=\"#\" id=\"menu3\">메뉴 3</a></li>\n",
    "        </ul>\n",
    "      </nav>\n",
    "    </header>\n",
    "    <main>\n",
    "      <section id=\"content1\" style=\"display:none;\">\n",
    "        <h1>메뉴 1 내용</h1>\n",
    "        <p>메뉴 1 내용이 들어갑니다.</p>\n",
    "      </section>\n",
    "      <section id=\"content2\" style=\"display:none;\">\n",
    "        <h1>메뉴 2 내용</h1>\n",
    "        <p>메뉴 2 내용이 들어갑니다.</p>\n",
    "      </section>\n",
    "      <section id=\"content3\" style=\"display:none;\">\n",
    "        <h1>메뉴 3 내용</h1>\n",
    "        <p>메뉴 3 내용이 들어갑니다.</p>\n",
    "      </section>\n",
    "    </main>\n",
    "    <footer>\n",
    "      <p>저작권 ©️ 2023 예시 회사. 모든 권리 보유.</p>\n",
    "    </footer>\n",
    "  </body>\n",
    "</html>\n",
    "''')"
   ]
  },
  {
   "cell_type": "markdown",
   "id": "d8a5d9f3",
   "metadata": {
    "id": "d8a5d9f3"
   },
   "source": [
    "Q. sample2에 input, table, img, span, div 태그를 추가하여 작성하세요.\n",
    "- input 태그는 텍스트 입력을 받는 폼 요소 \n",
    "- table 태그는 표를 만드는 요소\n",
    "- img 태그는 이미지를 표시하는 요소 \n",
    "- span 태그는 인라인 요소로서 다른 요소를 감싸는 역할 \n",
    "- div 태그는 블록 요소로서 다른 요소를 감싸는 역할"
   ]
  },
  {
   "cell_type": "markdown",
   "id": "698aab82",
   "metadata": {
    "id": "698aab82"
   },
   "source": [
    "# 데이터 수집용 라이브러리\n",
    "\n",
    "\n",
    "파이썬 데이터 수집용 라이브러리는 크게 두가지로 분류할 수 있습니다.\n",
    "\n",
    "1. 파이썬 표준 라이브러리 모듈: 파이썬에서 기본적으로 제공되는 라이브러리 모듈로, urllib, xml, html.parser, json 등이 이에 해당합니다.\n",
    "\n",
    "2. 외부 라이브러리 모듈: 다른 개발자가 만들어 공개한 라이브러리 모듈로, requests, BeautifulSoup, Scrapy, Selenium 등이 이에 해당합니다.\n",
    "\n",
    "\n",
    "이러한 라이브러리 모듈들을 활용하면 데이터 수집과 가공을 빠르고 쉽게 수행할 수 있습니다."
   ]
  },
  {
   "cell_type": "markdown",
   "id": "9d5379d4",
   "metadata": {
    "id": "9d5379d4"
   },
   "source": [
    "### 파이썬 표준 라이브러리 모듈\n",
    "\n",
    "- urllib 모듈: URL을 다루는 라이브러리로, 웹에서 데이터를 가져오는 데 사용됩니다.\n",
    "- xml 모듈: XML 문서를 다루는 라이브러리로, XML 데이터를 파싱하는 데 사용됩니다.\n",
    "- json 모듈: JSON(JavaScript Object Notation) 형식의 데이터를 다루는 라이브러리로, JSON 데이터를 파싱하는 데 사용됩니다.\n",
    "- csv 모듈: CSV(Comma Separated Values) 형식의 데이터를 다루는 라이브러리로, CSV 데이터를 파싱하는 데 사용됩니다.\n",
    "- datetime 모듈: 날짜와 시간을 다루는 라이브러리로, 날짜와 시간을 파싱하고 조작하는 데 사용됩니다.\n",
    "- collections 모듈: 컨테이너 데이터 타입을 다루는 라이브러리로, 리스트, 튜플, 딕셔너리 등을 다루는 데 사용됩니다.\n",
    "- https://docs.python.org/ko/3/py-modindex.html#cap-o"
   ]
  },
  {
   "cell_type": "markdown",
   "id": "4d2979c7",
   "metadata": {
    "id": "4d2979c7"
   },
   "source": [
    "### 외부 라이브러리 모듈\n",
    "- BeautifulSoup 모듈: HTML, XML 문서를 파싱하는 데 사용되는 라이브러리입니다.\n",
    "- Scrapy 모듈: 웹 크롤링을 위해 만들어진 라이브러리로, 대규모 웹사이트에서 데이터 수집을 효과적으로 수행할 수 있습니다.\n",
    "- Requests 모듈: HTTP 요청을 보내고 받는 데 사용되는 라이브러리입니다. REST API를 사용할 때 자주 사용됩니다.\n",
    "- Selenium 모듈: 웹 브라우저를 제어하여 데이터를 수집하는 데 사용됩니다. 특히 동적인 웹사이트에서 데이터를 수집할 때 유용합니다."
   ]
  },
  {
   "cell_type": "markdown",
   "id": "5085e353",
   "metadata": {
    "id": "5085e353"
   },
   "source": [
    "### urllib\n",
    "\n",
    "urllib 모듈이란: 파이썬의 표준 모듈로써 URL을 다루기 위한 모듈 패키지\n",
    "- 설치가 필요하지 않고 import urllib로 활용\n",
    "- requests 모듈과 마찬가지로 URL과 관련된 여러가지 기능들을 제공\n",
    "\n",
    "하위모듈\n",
    "- request : URL을 열고 읽는 모듈(HTTP 요청)\n",
    "- error : request 모듈에서 발생하는 에러들을 포함하는 모듈\n",
    "- parse : URL을 파싱하는 모듈(URL 해석 및 조작)\n",
    "- robots.txt 파일을 파싱하는 모듈"
   ]
  },
  {
   "cell_type": "markdown",
   "id": "b25ae2aa",
   "metadata": {
    "id": "b25ae2aa"
   },
   "source": [
    "### urllib 하위 모듈\n",
    "- urllib.request: 이 모듈은 URL 열고 데이터를 읽어오는데 사용됩니다. urlopen() 함수를 사용하여 URL에서 데이터를 가져올 수 있습니다. 이 모듈에는 HTTP, FTP, HTTPS 및 파일 URL을 처리하는 다양한 클래스와 함수가 포함되어 있습니다.\n",
    "\n",
    "- urllib.parse: 이 모듈은 URL을 파싱하고 조작하는데 사용됩니다. urlparse() 함수를 사용하여 URL을 파싱하고, urlunparse() 함수를 사용하여 파싱된 URL을 다시 조립할 수 있습니다.\n",
    "\n",
    "- urllib.error: 이 모듈은 urllib.request 모듈에서 발생하는 예외를 처리하는데 사용됩니다. 이 모듈에는 다양한 예외 클래스들이 정의되어 있습니다.\n",
    "\n",
    "- urllib.robotparser: 이 모듈은 robots.txt 파일을 파싱하고 해석하는데 사용됩니다. RobotFileParser 클래스를 사용하여 robots.txt 파일을 파싱하고, can_fetch() 함수를 사용하여 주어진 로봇이 특정 URL에서 데이터를 가져올 수 있는지 여부를 확인할 수 있습니다."
   ]
  },
  {
   "cell_type": "markdown",
   "id": "c97e0dca",
   "metadata": {
    "id": "c97e0dca"
   },
   "source": [
    "#### requests vs urllib\n",
    "urllib과 requests는 모두 Python에서 HTTP 요청을 보내고 응답을 받는 라이브러리입니다. 그러나 이 두 라이브러리는 목적과 사용 방법이 다릅니다.\n",
    "\n",
    "urllib은 Python 표준 라이브러리로, URL을 열고 데이터를 읽고 쓰는 기능을 제공합니다. urllib에는 urllib.request, urllib.parse, urllib.error, urllib.robotparser 등 여러 모듈이 있습니다. urllib.request 모듈은 HTTP 요청을 보내고 응답을 받는데 사용됩니다. urllib.parse 모듈은 URL을 파싱하는데 사용됩니다. urllib.error 모듈은 예외를 처리하는데 사용됩니다. urllib.robotparser 모듈은 robots.txt 파일을 파싱하고 분석하는데 사용됩니다. urllib은 기본적으로 Python과 함께 제공되므로 추가 설치가 필요하지 않습니다.\n",
    "\n",
    "requests는 urllib보다 좀 더 사용하기 쉽고 간단한 인터페이스를 제공합니다. requests는 HTTP 요청을 보내고 응답을 받는데 사용되는 Python 라이브러리 중 하나이며, API 요청에 대한 간단한 구성, 쿠키 지원, 파일 업로드 등 다양한 기능을 제공합니다. requests를 사용하면 코드가 더 간결하고 읽기 쉬워질 수 있습니다. requests는 urllib보다 좀 더 인기가 있으며, pip를 사용하여 설치할 수 있습니다.\n",
    "\n",
    "따라서, urllib은 기본적인 HTTP 요청을 위해 사용될 수 있지만 requests는 더 다양한 HTTP 요청 기능을 제공하며 좀 더 사용하기 쉬운 인터페이스를 제공합니다."
   ]
  },
  {
   "cell_type": "code",
   "execution_count": null,
   "id": "963ea000",
   "metadata": {
    "id": "963ea000"
   },
   "outputs": [],
   "source": [
    "# requests 있는지 보기\n",
    "\n",
    "!pip list"
   ]
  },
  {
   "cell_type": "markdown",
   "id": "c0d7c1fa",
   "metadata": {
    "id": "c0d7c1fa"
   },
   "source": [
    "requests 모듈 : pip install requests 명령어로 설치, anaconda를 설치하면 기본 설치\n",
    "- http는 요청과 응답으로 이루어져 있음\n",
    "- 요청/응답 구조\n",
    " - 요청\n",
    "      * GET : 정보를 가져오기 위해 요청\n",
    "      * POST: 새로운 정보를 보내기 위해 요청\n",
    "      * PUT: 수정할 정보를 보내기 위해 요청\n",
    "      * DELETE: 정보를 삭제하기 위해 요청\n",
    " - 응답\n",
    "      * 1XX: 요청을 받았고 작업 진행 중\n",
    "      * 2XX: 사용자의 요청이 성공적으로 수행 됨\n",
    "      * 3XX: 요청은 완료되었으나 리다이렉션이 필요\n",
    "      * 4XX: 사용자의 요청이 잘못됨\n",
    "      * 5XX: 서버에 오류가 발생함\n",
    "- import requests로 모듈 호출 후 사용"
   ]
  },
  {
   "cell_type": "markdown",
   "id": "4354e98c",
   "metadata": {
    "id": "4354e98c"
   },
   "source": [
    "### requests 모듈\n",
    "- 파이썬에서 HTTP 요청을 보내고 응답을 받는 기능을 제공하는 라이브러리\n",
    "- 주요 메서드\n",
    "  - GET 메서드는 주어진 URL에서 데이터를 가져올 때 사용\n",
    "  - POST 메서드는 주어진 URL에 데이터를 보낼 때 사용\n",
    "  - PUT 메서드는 주어진 URL에 데이터를 업로드할 때 사용\n",
    "  - DELETE 메서드는 주어진 URL에서 데이터를 삭제할 때 사용"
   ]
  },
  {
   "cell_type": "code",
   "execution_count": 1,
   "id": "278199f0",
   "metadata": {
    "id": "278199f0",
    "outputId": "0e3c2509-14c3-4113-ff79-1365c881ac8e"
   },
   "outputs": [
    {
     "name": "stdout",
     "output_type": "stream",
     "text": [
      "<Response [200]>\n",
      "<class 'requests.models.Response'>\n",
      "<!doctype html>\n",
      "<html>\n",
      "<head>\n",
      "    <title>Example Domain</title>\n",
      "\n",
      "    <meta charset=\"utf-8\" />\n",
      "    <meta http-equiv=\"Content-type\" content=\"text/html; charset=utf-8\" />\n",
      "    <meta name=\"viewport\" content=\"width=device-width, initial-scale=1\" />\n",
      "    <style type=\"text/css\">\n",
      "    body {\n",
      "        background-color: #f0f0f2;\n",
      "        margin: 0;\n",
      "        padding: 0;\n",
      "        font-family: -apple-system, system-ui, BlinkMacSystemFont, \"Segoe UI\", \"Open Sans\", \"Helvetica Neue\", Helvetica, Arial, sans-serif;\n",
      "        \n",
      "    }\n",
      "    div {\n",
      "        width: 600px;\n",
      "        margin: 5em auto;\n",
      "        padding: 2em;\n",
      "        background-color: #fdfdff;\n",
      "        border-radius: 0.5em;\n",
      "        box-shadow: 2px 3px 7px 2px rgba(0,0,0,0.02);\n",
      "    }\n",
      "    a:link, a:visited {\n",
      "        color: #38488f;\n",
      "        text-decoration: none;\n",
      "    }\n",
      "    @media (max-width: 700px) {\n",
      "        div {\n",
      "            margin: 0 auto;\n",
      "            width: auto;\n",
      "        }\n",
      "    }\n",
      "    </style>    \n",
      "</head>\n",
      "\n",
      "<body>\n",
      "<div>\n",
      "    <h1>Example Domain</h1>\n",
      "    <p>This domain is for use in illustrative examples in documents. You may use this\n",
      "    domain in literature without prior coordination or asking for permission.</p>\n",
      "    <p><a href=\"https://www.iana.org/domains/example\">More information...</a></p>\n",
      "</div>\n",
      "</body>\n",
      "</html>\n",
      "\n"
     ]
    },
    {
     "data": {
      "text/plain": [
       "'<!doctype html>\\n<html>\\n<head>\\n    <title>Example Domain</title>\\n\\n    <meta charset=\"utf-8\" />\\n    <meta http-equiv=\"Content-type\" content=\"text/html; charset=utf-8\" />\\n    <meta name=\"viewport\" content=\"width=device-width, initial-scale=1\" />\\n    <style type=\"text/css\">\\n    body {\\n        background-color: #f0f0f2;\\n        margin: 0;\\n        padding: 0;\\n        font-family: -apple-system, system-ui, BlinkMacSystemFont, \"Segoe UI\", \"Open Sans\", \"Helvetica Neue\", Helvetica, Arial, sans-serif;\\n        \\n    }\\n    div {\\n        width: 600px;\\n        margin: 5em auto;\\n        padding: 2em;\\n        background-color: #fdfdff;\\n        border-radius: 0.5em;\\n        box-shadow: 2px 3px 7px 2px rgba(0,0,0,0.02);\\n    }\\n    a:link, a:visited {\\n        color: #38488f;\\n        text-decoration: none;\\n    }\\n    @media (max-width: 700px) {\\n        div {\\n            margin: 0 auto;\\n            width: auto;\\n        }\\n    }\\n    </style>    \\n</head>\\n\\n<body>\\n<div>\\n    <h1>Example Domain</h1>\\n    <p>This domain is for use in illustrative examples in documents. You may use this\\n    domain in literature without prior coordination or asking for permission.</p>\\n    <p><a href=\"https://www.iana.org/domains/example\">More information...</a></p>\\n</div>\\n</body>\\n</html>\\n'"
      ]
     },
     "execution_count": 1,
     "metadata": {},
     "output_type": "execute_result"
    }
   ],
   "source": [
    "# GET 메서드 사용 예제\n",
    "import requests\n",
    "\n",
    "response = requests.get('https://www.example.com/')\n",
    "print(response)\n",
    "print(type(response))\n",
    "print(response.text)\n",
    "response.text"
   ]
  },
  {
   "cell_type": "code",
   "execution_count": null,
   "id": "ed00a573",
   "metadata": {
    "id": "ed00a573",
    "outputId": "1b5aea02-6462-445e-ba25-8d95ac8bd8ca"
   },
   "outputs": [
    {
     "name": "stdout",
     "output_type": "stream",
     "text": [
      "404\n"
     ]
    }
   ],
   "source": [
    "# POST 메서드 사용 예제\n",
    "\n",
    "data = {'username': 'user', 'password': 'pass'}\n",
    "response = requests.post('https://www.example.com/login', data=data)\n",
    "print(response.status_code) "
   ]
  },
  {
   "cell_type": "code",
   "execution_count": null,
   "id": "bcb75caf",
   "metadata": {
    "id": "bcb75caf",
    "outputId": "210635bb-7dc9-447d-abca-b02f2f6f8d75"
   },
   "outputs": [
    {
     "name": "stdout",
     "output_type": "stream",
     "text": [
      "404\n"
     ]
    }
   ],
   "source": [
    "# PUT 메서드 사용 예제\n",
    "\n",
    "with open('file.txt', 'w') as f:\n",
    "    f.write('test')\n",
    "    \n",
    "data = open('file.txt', 'r').read()\n",
    "response = requests.put('https://www.example.com/upload', data=data)\n",
    "print(response.status_code) "
   ]
  },
  {
   "cell_type": "code",
   "execution_count": null,
   "id": "e856578b",
   "metadata": {
    "id": "e856578b",
    "outputId": "3ae35bdd-ce07-4fc5-a0e3-e17e6a3414bc"
   },
   "outputs": [
    {
     "name": "stdout",
     "output_type": "stream",
     "text": [
      "404\n"
     ]
    }
   ],
   "source": [
    "# DELETE 메서드 사용 예제\n",
    "response = requests.delete('https://www.example.com/delete/123')\n",
    "print(response.status_code) "
   ]
  },
  {
   "cell_type": "code",
   "execution_count": null,
   "id": "073f8b4b",
   "metadata": {
    "id": "073f8b4b"
   },
   "outputs": [],
   "source": [
    "# 아래 코드에서 type(html_data)는 html_data 객체의 클래스를 출력하는 코드입니다.\n",
    "# html_data 객체는 문자열 데이터를 담고 있으므로, 이 객체의 클래스는 str입니다.\n",
    "# 따라서 <class 'str'>이라는 출력 결과가 나오게 됩니다.\n",
    "\n",
    "\n",
    "# 파이썬에서는 모든 것을 객체(object)로 다룹니다. 객체는 각자의 특징을 가지고 있으며,\n",
    "# 이러한 특징을 정의한 코드를 클래스(class)라고 합니다. 예를 들어, 문자열을 나타내는 클래스는 str이고,\n",
    "# 숫자를 나타내는 클래스는 int입니다.\n",
    "\n",
    "# 따라서, type() 함수는 입력된 객체의 클래스를 출력합니다.\n",
    "# html_data는 문자열 데이터를 담고 있는 객체이므로, 이 객체의 클래스는 str입니다.\n",
    "# 따라서 type(html_data)는 <class 'str'>와 같은 형태로 출력되는 것입니다.\n",
    "\n",
    "# 즉, <class 'str'>는 str 클래스의 객체임을 나타내는 것입니다."
   ]
  },
  {
   "cell_type": "code",
   "execution_count": 6,
   "id": "0e71bb13",
   "metadata": {
    "id": "0e71bb13"
   },
   "outputs": [
    {
     "name": "stdout",
     "output_type": "stream",
     "text": [
      "<Response [200]>\n",
      "<class 'requests.models.Response'> \n",
      "\n",
      "<class 'str'>\n"
     ]
    },
    {
     "data": {
      "text/plain": [
       "'\\n<!doctype html>                          <html lang=\"ko\" data-dark=\"false\"> <head> <meta charset=\"utf-8\"> <title>NAVER</title> <meta http-equiv=\"X-UA-Compatible\" content=\"IE=edge\"> <meta name=\"viewport\" content=\"width=1190\"> <meta name=\"apple-mobile-web-app-title\" content=\"NAVER\"/> <meta name=\"robots\" content=\"index,nofollow\"/> <meta name=\"description\" content=\"네이버 메인에서 다양한 정보와 유용한 컨텐츠를 만나 보세요\"/> <meta property=\"og:title\" content=\"네이버\"> <meta property=\"og:url\" content=\"https://www.naver.com/\"> <meta property=\"og:image\" content=\"https://s.pstatic.net/static/www/mobile/edit/2016/0705/mobile_212852414260.png\"> <meta property=\"og:description\" content=\"네이버 메인에서 다양한 정보와 유용한 컨텐츠를 만나 보세요\"/> <meta name=\"twitter:card\" content=\"summary\"> <meta name=\"twitter:title\" content=\"\"> <meta name=\"twitter:url\" content=\"https://www.naver.com/\"> <meta name=\"twitter:image\" content=\"https://s.pstatic.net/static/www/mobile/edit/2016/0705/mobile_212852414260.png\"> <meta name=\"twitter:description\" content=\"네이버 메인에서 다양한 정보와 유용한 컨텐츠를 만나 보세요\"/>  <link rel=\"stylesheet\" href=\"https://pm.pstatic.net/dist/css/nmain.20230504.css\"> <link rel=\"stylesheet\" href=\"https://ssl.pstatic.net/sstatic/search/pc/css/sp_autocomplete_220526.css\"> <link rel=\"shortcut icon\" type=\"image/x-icon\" href=\"/favicon.ico?1\"/>  <link rel=\"apple-touch-icon\" sizes=\"114x114\" href=\"https://s.pstatic.net/static/www/u/2014/0328/mma_204243574.png\"/> <link rel=\"apple-touch-icon\" href=\"https://s.pstatic.net/static/www/u/2014/0328/mma_20432863.png\"/> <script>window.nmain=window.nmain||{},window.nmain.supportFlicking=!1;var nsc=\"navertop.v4\",ua=navigator.userAgent,useIeJSFlag=\"1\";window.nmain.isIE=\"0\"===useIeJSFlag,document.getElementsByTagName(\"html\")[0].setAttribute(\"data-useragent\",ua),window.nmain.isIE&&(Object.create=function(n){function e(){}return e.prototype=n,new e})</script> <script>var darkmode= false;window.naver_corp_da=window.naver_corp_da||{main:{}},window.naver_corp_da.main=window.naver_corp_da.main||{},window.naver_corp_da.main.darkmode=darkmode,window.gladsdk=window.gladsdk||{cmd:[]},window.gladsdk.cmd.push((function(){window.gladsdk.setHostMeta(\"theme\",darkmode?\"dark\":\"light\")})),window.ndpsdk=window.ndpsdk||{cmd:[],polyfill:{cmd:[]}},window.ndpsdk.cmd.push((function(){window.ndpsdk.setHostMeta(\"theme\",darkmode?\"dark\":\"light\")}))</script>  <script async src=\"https://ssl.pstatic.net/tveta/libs/glad/prod/gfp-core.js\"></script> <script async src=\"https://ssl.pstatic.net/tveta/libs/ndpsdk/prod/ndp-loader.js\"></script>  <script> window.nmain.gv = {  isLogin: false,\\nuseId: null,   daInfo: {\"BEAUTY\":{\"menu\":\"BEAUTY\",\"childMenu\":\"\",\"adType\":\"singleDom\",\"multiDomAdUrl\":\"\",\"multiDomUnit\":\"\",\"infoList\":[{\"adposId\":\"1000163\",\"singleDomAdUrl\":\"https://siape.veta.naver.com/fxshow\",\"param\":{\"da_dom_id\":\"p_main_beauty_1\",\"tb\":\"BEAUTY_1\",\"unit\":\"SU10595\",\"calp\":\"-\"},\"type\":{\"position\":\"abs\",\"positionIndex\":4,\"subject\":\"contents\"},\"dom\":null},{\"adposId\":\"1000164\",\"singleDomAdUrl\":\"https://siape.veta.naver.com/fxshow\",\"param\":{\"da_dom_id\":\"p_main_beauty_2\",\"tb\":\"BEAUTY_1\",\"unit\":\"SU10596\",\"calp\":\"-\"},\"type\":{\"position\":\"abs\",\"positionIndex\":8,\"subject\":\"contents\"},\"dom\":null}]},\"LIVING\":{\"menu\":\"LIVING\",\"childMenu\":\"\",\"adType\":\"singleDom\",\"multiDomAdUrl\":\"\",\"multiDomUnit\":\"\",\"infoList\":[{\"adposId\":\"1000183\",\"singleDomAdUrl\":\"https://siape.veta.naver.com/fxshow\",\"param\":{\"da_dom_id\":\"p_main_living_1\",\"tb\":\"LIVING_1\",\"unit\":\"SU10597\",\"calp\":\"-\"},\"type\":{\"position\":\"abs\",\"positionIndex\":4,\"subject\":\"contents\"},\"dom\":null},{\"adposId\":\"1000184\",\"singleDomAdUrl\":\"https://siape.veta.naver.com/fxshow\",\"param\":{\"da_dom_id\":\"p_main_living_2\",\"tb\":\"LIVING_1\",\"unit\":\"SU10606\",\"calp\":\"-\"},\"type\":{\"position\":\"abs\",\"positionIndex\":8,\"subject\":\"contents\"},\"dom\":null}]},\"LIVINGHOME\":{\"menu\":\"LIVINGHOME\",\"childMenu\":\"\",\"adType\":\"singleDom\",\"multiDomAdUrl\":\"\",\"multiDomUnit\":\"\",\"infoList\":[{\"adposId\":\"1000185\",\"singleDomAdUrl\":\"https://siape.veta.naver.com/fxshow\",\"param\":{\"da_dom_id\":\"p_main_livinghome_1\",\"tb\":\"LIVINGHOME_1\",\"unit\":\"SU10571\",\"calp\":\"-\"},\"type\":{\"position\":\"abs\",\"positionIndex\":4,\"subject\":\"contents\"},\"dom\":null},{\"adposId\":\"1000186\",\"singleDomAdUrl\":\"https://siape.veta.naver.com/fxshow\",\"param\":{\"da_dom_id\":\"p_main_livinghome_2\",\"tb\":\"LIVINGHOME_1\",\"unit\":\"SU10572\",\"calp\":\"-\"},\"type\":{\"position\":\"abs\",\"positionIndex\":8,\"subject\":\"contents\"},\"dom\":null}]}},\\nsvt: 20230504180947,\\n}; </script> <script> window.nmain.newsstand = {\\nrcode: \\'09560104\\',\\nnewsCastSubsInfo: \\'\\',\\nnewsStandSubsInfo: \\'\\'\\n};\\nwindow.etc = {  };\\nwindow.svr = \"<!--cvweb04-->\"; </script> <script src=\"https://ssl.pstatic.net/tveta/libs/assets/js/pc/main/min/pc.veta.core.min.js\" defer=\"defer\"></script>   <script src=\"https://pm.pstatic.net/dist/js/external.2961eaa5.js?o=www\" type=\"text/javascript\" crossorigin=\"anonymous\" defer=\"defer\"></script> <script src=\"https://pm.pstatic.net/dist/js/preload.5fe99fda.js?o=www\" type=\"text/javascript\" crossorigin=\"anonymous\" defer=\"defer\"></script> <script src=\"https://pm.pstatic.net/dist/js/polyfill.f3c68d2d.js?o=www\" type=\"text/javascript\" crossorigin=\"anonymous\" defer=\"defer\"></script>  <script src=\"https://pm.pstatic.net/dist/js/vendors~more~nmain~notice~search~sidebar_notice.40da85e0.js?o=www\" type=\"text/javascript\" crossorigin=\"anonymous\" defer=\"defer\"></script>   <script src=\"https://pm.pstatic.net/dist/js/search.c0c3b1c5.js?o=www\" type=\"text/javascript\" crossorigin=\"anonymous\" defer=\"defer\"></script>  <script src=\"https://pm.pstatic.net/dist/js/vendors~more~nmain~sidebar_notice.7aad5e27.js?o=www\" type=\"text/javascript\" crossorigin=\"anonymous\" defer=\"defer\"></script> <script src=\"https://pm.pstatic.net/dist/js/nmain.193f7077.js?o=www\" type=\"text/javascript\" crossorigin=\"anonymous\" defer=\"defer\"></script> <style>:root{color-scheme:light}#_nx_kbd .setkorhelp a{display:none}</style> </head> <body> <div id=\"u_skip\"> <a href=\"#newsstand\"><span>뉴스스탠드 바로가기</span></a> <a href=\"#themecast\"><span>주제별캐스트 바로가기</span></a> <a href=\"#timesquare\"><span>타임스퀘어 바로가기</span></a> <a href=\"#shopcast\"><span>쇼핑캐스트 바로가기</span></a> <a href=\"#account\"><span>로그인 바로가기</span></a> </div> <div id=\"wrap\">         \\n<style>._1syGnXOL{padding-right:18px;font-size:14px;line-height:0;letter-spacing:-.25px;color:#000}._1syGnXOL span,._1syGnXOL strong{line-height:49px}._1syGnXOL:before{display:inline-block;content:\"\";vertical-align:top;background-image:url(https://static-whale.pstatic.net/main/sprite-20220527@2x.png);background-repeat:no-repeat;background-size:141px 112px;width:18px;height:18px;margin:16px 8px 0 0;background-position:-98px 0}[data-useragent*=\"MSIE 8\"] ._1syGnXOL:before{background-image:url(https://static-whale.pstatic.net/main/sprite-20220527.png)}._1syGnXOL._3dsvmZg2:before{background-position:-47px -85px}._1syGnXOL._1NBFx1WK:before{width:20px;height:20px;margin:15px 8px 0 0;background-position:-21px -89px}._1syGnXOL._2mcQEKCd:before{width:22px;height:22px;margin:14px 7px 0 0;background-position:-47px -63px}._1syGnXOL._36slsKuJ:before{width:21px;height:49px;margin:0 14px 0 0;background-position:0 -63px}._1syGnXOL._3qlJVWzR:before{width:24px;height:49px;margin:0 10px 0 0;background-position:-117px 0}._1syGnXOL._3VkgqBXB:before{width:26px;height:49px;margin:0 10px 0 0;background-position:-116px -54px}._1syGnXOL._3di88A4c{padding-right:12px;font-size:17px}._1syGnXOL._3di88A4c:before{content:none}._1syGnXOL ._19K4X1CD{text-decoration:underline}._2aeXMlrb{display:inline-block;position:relative;font-size:12px;height:49px;width:78px;text-decoration:none;color:#fff;font-weight:700;letter-spacing:-.5px;vertical-align:top}._2aeXMlrb span{text-align:center;margin:9px 0;height:31px;display:block;line-height:31px;border-radius:15px}._2aeXMlrb span:before{display:inline-block;content:\"\";vertical-align:top;background-image:url(https://static-whale.pstatic.net/main/sprite-20220527@2x.png);background-repeat:no-repeat;background-size:141px 112px}[data-useragent*=\"MSIE 8\"] ._2aeXMlrb span:before{background-image:url(https://static-whale.pstatic.net/main/sprite-20220527.png)}._2aeXMlrb.BMgpjddw{font-size:11px;width:94px}._2aeXMlrb.BMgpjddw span:before{margin:9px 3px 0 0;width:17px;height:13px;background-position:-89px -63px}._3h-N8T9V{position:absolute;top:0;left:0;right:0;bottom:0;background:rgba(0,0,0,0)}._1KncATpM{display:inline-block;content:\"\";vertical-align:top;background-image:url(https://static-whale.pstatic.net/main/sprite-20220527@2x.png);background-repeat:no-repeat;background-size:141px 112px;margin-top:14px;float:left;width:98px;height:21px;background-position:0 -21px}[data-useragent*=\"MSIE 8\"] ._1KncATpM{background-image:url(https://static-whale.pstatic.net/main/sprite-20220527.png)}._1KncATpM._2v3uxv2x{background-position:0 0}._1KncATpM._1yl_Ow6o{background-position:0 -42px}._20PYt6lT{font-size:11px;height:49px;cursor:pointer;position:absolute;top:0;right:0;color:#666;opacity:.7}._20PYt6lT:after{width:15px;height:15px;margin-left:4px;background-position:-98px -33px;display:inline-block;content:\"\";vertical-align:top;background-image:url(https://static-whale.pstatic.net/main/sprite-20220527@2x.png);background-repeat:no-repeat;background-size:141px 112px}[data-useragent*=\"MSIE 8\"] ._20PYt6lT:after{background-image:url(https://static-whale.pstatic.net/main/sprite-20220527.png)}._20PYt6lT._39oMCV2N:after{background-position:-98px -18px}._20PYt6lT._3MOWOORv{color:#c3c2c2}._20PYt6lT._3MOWOORv:after{background-position:-80px -85px}._20PYt6lT._3wm5EzmJ{color:#fff}._20PYt6lT._3wm5EzmJ:after{background-position:-65px -85px}._1hiMWemA{height:49px}._1hiMWemA .tY_u8r23{position:relative;width:1130px;margin:0 auto}._1hiMWemA .tY_u8r23 a{text-decoration:none}._1hiMWemA._23U_6TM_{position:relative}._1hiMWemA._23U_6TM_:after{position:absolute;z-index:1;content:\"\";display:block;width:100%;height:1px;bottom:0;background-color:rgba(0,0,0,.050980392156862744)}</style>\\n<div\\nid=\"NM_TOP_BANNER\"\\ndata-clk-prefix=\"top\"\\nclass=\"_1hiMWemA\"\\nstyle=\"background-color: #fff7e1\"\\n>\\n<div class=\"tY_u8r23\">\\n<a\\nclass=\"_3h-N8T9V\"\\nhref=\"https://whale.naver.com/ko/details/security/&wpid=RydDy7\"\\ndata-clk=\"dropbanner1b\"\\n></a\\n><span\\nclass=\"_1syGnXOL _3VkgqBXB\"\\ndata-clk=\"dropbanner1b\"\\nstyle=\"padding-right: 20px; font-size: 17px; color: black\"\\n><span>매일 쓰는 브라우저 보안이 걱정된다면, </span\\n><strong\\n>안전하고 빠른 최신 브라우저 웨일로 업데이트 하세요.</strong\\n></span\\n><a\\nhref=\"https://installer-whale.pstatic.net/downloads/banner/RydDy7/WhaleSetup.exe\"\\nclass=\"_2aeXMlrb BMgpjddw\"\\nid=\"NM_whale_download_btn\"\\ndata-clk=\"dropdownload1b\"\\n><span style=\"background-color: #0436c7\">다운로드</span></a\\n><button\\ntype=\"button\"\\ndata-ui-cookie-exp-days=\"3\"\\ndata-ui-cookie-key=\"NM_TOP_PROMOTION\"\\ndata-ui-cookie-value=\"1\"\\ndata-ui-hide-target=\"#NM_TOP_BANNER\"\\ndata-clk=\"dropclose1b\"\\nclass=\"_20PYt6lT _39oMCV2N\"\\n>\\n3일 동안 보지 않기\\n</button>\\n</div>\\n</div>  <div id=\"header\" role=\"banner\">\\n\\n\\n\\n\\n\\n\\n\\n\\n<div class=\"special_bg\">\\n<div class=\"group_flex\">\\n<div class=\"logo_area\">\\n<h1 class=\"logo_default\">\\n<a href=\"/\" class=\"logo_naver\" data-clk=\"top.logo\"\\n><span class=\"blind\">네이버</span></a\\n>\\n</h1>\\n</div>\\n<div class=\"service_area\">\\n<a id=\"NM_set_home_btn\" href=\"https://help.naver.com/support/welcomePage/guide.help\" class=\"link_set\" data-clk=\"top.mkhome\">네이버를 시작페이지로</a>\\n<i class=\"sa_bar\"></i>\\n<a href=\"https://jr.naver.com\" class=\"link_jrnaver\" data-clk=\"top.jrnaver\"><i class=\"ico_jrnaver\"></i><span class=\"blind\">쥬니어네이버</span></a>\\n<a href=\"https://happybean.naver.com\" class=\"link_happybin\" data-clk=\"top.happybean\"><i class=\"ico_happybin\"></i><span class=\"blind\">해피빈</span></a>\\n</div>\\n\\n<div id=\"search\" class=\"search_area\" data-clk-prefix=\"sch\">\\n<form id=\"sform\" name=\"sform\" action=\"https://search.naver.com/search.naver\" method=\"get\" role=\"search\">\\n<fieldset>\\n<legend class=\"blind\">검색</legend>\\n<input type=\"hidden\" name=\"where\" value=\"nexearch\" />\\n<input type=\"hidden\" id=\"sm\" name=\"sm\" value=\"top_hty\" />\\n<input type=\"hidden\" id=\"fbm\" name=\"fbm\" value=\"0\" />\\n<input type=\"hidden\" id=\"acr\" name=\"acr\" value=\"\" disabled=\"disabled\" />\\n<input type=\"hidden\" id=\"acq\" name=\"acq\" value=\"\" disabled=\"disabled\" />\\n<input type=\"hidden\" id=\"qdt\" name=\"qdt\" value=\"\" disabled=\"disabled\" />\\n<input type=\"hidden\" id=\"ie\" name=\"ie\" value=\"utf8\" />\\n<input type=\"hidden\" id=\"acir\" name=\"acir\" value=\"\" disabled=\"disabled\" />\\n<input type=\"hidden\" id=\"os\" name=\"os\" value=\"\" disabled=\"disabled\" />\\n<input type=\"hidden\" id=\"bid\" name=\"bid\" value=\"\" disabled=\"disabled\" />\\n<input type=\"hidden\" id=\"pkid\" name=\"pkid\" value=\"\" disabled=\"disabled\" />\\n<input type=\"hidden\" id=\"eid\" name=\"eid\" value=\"\" disabled=\"disabled\" />\\n<input type=\"hidden\" id=\"mra\" name=\"mra\" value=\"\" disabled=\"disabled\" />\\n\\n\\n\\n<div class=\"green_window\" style=\\'\\'>\\n<!-- [AU] data-atcmp-element 에 해당하는 attribute를 추가해주세요. -->\\n<input id=\"query\" name=\"query\" type=\"search\" title=\"검색어 입력\" maxlength=\"255\" class=\"input_text\" tabindex=\"1\" accesskey=\"s\" style=\"ime-mode:active;\" autocomplete=\"off\"  placeholder=\"검색어를 입력해 주세요.\" onclick=\"document.getElementById(\\'fbm\\').value=1;\" value=\"\" data-atcmp-element>\\n</div>\\n<button id=\"search_btn\" type=\"submit\" title=\"검색\" tabindex=\"3\" class=\"btn_submit\" onclick=\"window.nclick(this,\\'sch.action\\',\\'\\',\\'\\',event);\" style=\\'\\'>\\n<span class=\"blind\">검색</span>\\n<span class=\"ico_search_submit\"></span>\\n</button>\\n</fieldset>\\n</form>\\n<!-- 한글입력기 -->\\n<a href=\"#\" id=\"ke_kbd_btn\" role=\"button\" class=\"btn_keyboard\" onclick=\"return false;\"><span class=\"blind\">한글 입력기</span><span class=\"ico_keyboard\"></span></a>\\n<div id=\"_nx_kbd\" style=\"display:none;\"></div>\\n<div class=\"autocomplete\">\\n<!-- 자동완성 열린 경우 fold 클래스 추가, 딤드인 경우 dim 추가 -->\\n<a href=\"#\" role=\"button\" id=\"nautocomplete\" tabindex=\"2\" class=\"btn_arw _btn_arw fold\" aria-pressed=\"false\" data-atcmp-element><span class=\"blind\">자동완성 레이어</span><span class=\"ico_arr\"></span></a>\\n</div>\\n<!-- 자동완성레이어 -->\\n<div id=\"autoFrame\" class=\"reatcmp\" style=\"display: none;\">\\n<!-- [AU] data-atcmp-element attribute를 추가해주세요. -->\\n<div class=\"ly_atcmp\" data-atcmp-element>\\n<div class=\"api_atcmp_wrap\">\\n<!-- 최근검색어 -->\\n<!-- [AU] _recent_layer 클래스를 추가해주세요. -->\\n<div class=\"atcmp_fixer _recent_layer\" style=\"display:none;\">\\n<!-- [AU] _recent_header 클래스를 추가해주세요. -->\\n<div class=\"atcmp_header _recent_header\">\\n<strong class=\"tit\">최근검색어</strong>\\n<div class=\"option\">\\n<!-- [AU] _delAll 클래스를 추가해주세요. -->\\n<a role=\"button\" href=\"#\" class=\"item _delAll\" aria-pressed=\"false\">전체삭제</a>\\n</div>\\n</div>\\n<div class=\"atcmp_container\">\\n<!-- [AU] _recent 클래스를 추가해주세요. -->\\n<ul class=\"kwd_lst _recent\">\\n<!-- 최근검색어 템플릿 -->\\n<!-- [AU] _item 클래스를 추가해주세요. -->\\n<!-- [AU] data-template-type=\"history\" data-keyword=\"@in_txt@\" attribute를 추가해주세요. -->\\n<li class=\"item _item\" data-rank=\"@rank@\" data-template-type=\"history\" data-keyword=\"@in_txt@\">\\n<a href=\"#\" class=\"kwd\">\\n<span class=\"fix\"><span class=\"common_ico_kwd\"><i class=\"imsc ico_search\"></i></span><span>@txt@</span></span>\\n</a>\\n<span class=\"etc\">\\n<em class=\"date\">@date@.</em>\\n<!-- [AU] _del 클래스를 추가해주세요. -->\\n<a href=\"#\" role=\"button\" class=\"bt_item _del\" aria-pressed=\"false\"><i class=\"imsc ico_del\">삭제</i></a>\\n</span>\\n</li>\\n</ul>\\n<!-- [D] 검색어 저장 꺼진 경우 atcmp_fixer에 type_off 추가 -->\\n<!-- [AU] _offMsg 클래스를 추가해주세요. -->\\n<div class=\"kwd_info kwd_off _offMsg\" style=\"display: none;\">검색어 저장 기능이 꺼져 있습니다.<br><span class=\"kwd_dsc\">설정이 초기화 된다면 <a href=\"https://help.naver.com/support/alias/search/word/word_29.naver\" class=\"kwd_help\" data-clk=\"sly.help\" target=\"_blank\">도움말</a>을 확인해주세요.</span></div>\\n<!-- [D] 검색어 내역 없는 경우 atcmp_fixer에 type_off 추가 -->\\n<!-- [AU] _recentNone 클래스를 추가해주세요. -->\\n<div class=\"kwd_info kwd_none _recentNone\" style=\"display: none;\">최근 검색어 내역이 없습니다.<br><span class=\"kwd_dsc\">설정이 초기화 된다면 <a href=\"https://help.naver.com/support/alias/search/word/word_29.naver\" class=\"kwd_help\" data-clk=\"sly.help\" target=\"_blank\">도움말</a>을 확인해주세요.</span></div>\\n</div>\\n<div class=\"atcmp_footer\">\\n<span class=\"side_opt_area\">\\n<span class=\"opt_item\"><a href=\"https://help.naver.com/support/service/main.help?serviceNo=605&amp;categoryNo=1991\" data-clk=\"sly.help\" target=\"_blank\">도움말</a></span>\\n</span>\\n<span class=\"rside_opt_area\">\\n<span class=\"opt_item\">\\n<!-- [AU] _keywordOnOff 클래스를 추가해주세요. -->\\n<a href=\"#\" class=\"close _keywordOnOff\">자동저장 끄기</a>\\n</span>\\n</span>\\n</div>\\n</div>\\n<!-- 자동완성 -->\\n<!-- [AU] _atcmp_layer 클래스를 추가해주세요. -->\\n<div class=\"atcmp_fixer _atcmp_layer\" style=\"display:none;\">\\n<!-- [AU] _words 클래스를 추가해주세요. -->\\n<div class=\"atcmp_container _words\">\\n<!-- 정답형 템플릿 : 로또당첨번호 -->\\n<!-- [AU] _answer 클래스를 추가해주세요. -->\\n<!-- [AU] data-template-type=\"answer_3\" data-code=\"@code@\" data-keyword=\"@1@\" attribute를 추가해주세요. -->\\n<div class=\"atcmp_correct type_lotto _answer\" data-template-type=\"answer_3\" data-code=\"@code@\" data-keyword=\"@1@\">\\n<a href=\"#\" class=\"link_item\">\\n<span class=\"common_ico_kwd\"><i class=\"imsc ico_search\"></i></span>\\n<div class=\"dsc_area\">\\n<span class=\"tit\">@5@회 로또당첨번호</span>\\n<span class=\"dsc\">\\n<span class=\"item\">동행복권 제공</span>\\n</span>\\n</div>\\n<span class=\"etc_area\">\\n<span class=\"etc lotto\">\\n<em class=\"n@6@\">@6@</em><em class=\"n@7@\">@7@</em><em class=\"n@8@\">@8@</em><em class=\"n@9@\">@9@</em><em class=\"n@10@\">@10@</em><em class=\"n@11@\">@11@</em><em class=\"imsc_bf bonus n@12@\">@12@</em>\\n</span>\\n</span>\\n</a>\\n</div>\\n<!-- 정답형 템플릿 : 환율 -->\\n<!-- [AU] _answer 클래스를 추가해주세요. -->\\n<!-- [AU] data-template-type=\"answer_9\" data-code=\"@code@\" data-keyword=\"@1@\" attribute를 추가해주세요. -->\\n<div class=\"atcmp_correct type_exchange _answer\" data-template-type=\"answer_9\" data-code=\"@code@\" data-keyword=\"@1@\">\\n<!-- [D] 상승 up, 하락 down 추가 -->\\n<a href=\"#\" class=\"link_item @11@\">\\n<!-- [D] 국가별 class 가나다순\\nZAR 남아프리카 공화국\\nNPR 네팔\\nNOK 노르웨이\\nNZD 뉴질랜드\\nTWD 대만\\nDKK 덴마크\\nRUB 러시아\\nMOP 마카오\\nMYR 말레이시아\\nMXN 멕시코\\nMNT 몽골\\nUSD 미국\\nBHD 바레인\\nBDT 방글라데시\\nVND 베트남\\nBRL 브라질\\nSAR 사우디아라비아\\nSEK 스웨덴\\nCHF 스위스\\nSGD 싱가포르\\nAED 아랍에미리트\\nGBP 영국\\nEUR 유럽연합\\nILS 이스라엘\\nEGP 이집트\\nINR 인도\\nIDR 인도네시아\\nJPY 일본\\nCNY 중국\\nCZK 체코\\nCLP 칠레\\nKZT 카자흐스탄\\nQAR 카타르\\nCAD 캐나다\\nKWD 쿠웨이트\\nTHB 태국\\nTRY 터키\\nPKR 파키스탄\\nPLN 폴란드\\nPHP 필리핀\\nHUF 헝가리\\nAUD 호주\\nHKD 홍콩\\n-->\\n<span class=\"common_ico_kwd\"><i class=\"imsc ico @12@\">@14@</i></span>\\n<div class=\"dsc_area\">\\n<span class=\"tit\">@txt@<span class=\"sub\">@currency@</span></span>\\n<span class=\"dsc\">\\n<span class=\"item\"><i class=\"imsc ico_arr\"></i>@8@(@9@%)</span>\\n</span>\\n</div>\\n<span class=\"etc_area\">\\n<span class=\"etc\"><em class=\"num\">@6@</em>원</span>\\n</span>\\n</a>\\n</div>\\n<!-- 정답형 템플릿 : 날씨(국내11, 해외12) -->\\n<!-- [AU] _answer 클래스를 추가해주세요. -->\\n<!-- [AU] data-template-type=\"answer_11\" data-code=\"@code@\" data-keyword=\"@1@\" attribute를 추가해주세요. -->\\n<div class=\"atcmp_correct type_weather _answer\" data-template-type=\"answer_11\" data-code=\"@code@\" data-keyword=\"@1@\">\\n<!-- [D] 상승 up, 하락 down 추가 -->\\n<a href=\"#\" class=\"link_item @12@\">\\n<span class=\"common_ico_kwd\"><i class=\"imsc ico_search\"></i></span>\\n<div class=\"dsc_area\">\\n<span class=\"tit\">@txt@</span>\\n<span class=\"dsc\">\\n<span class=\"item\">@7@, @message@</span>\\n</span>\\n</div>\\n<span class=\"etc_area\">\\n<span class=\"etc\">\\n<!-- [D] 날씨별 class\\nico1 맑음(낮)\\nico2 맑음(밤)\\nico3 구름조금(낮)\\nico4 구름조금(밤)\\nico5 구름많음(낮)\\nico6 구름많음(밤)\\nico7 흐림\\nico8 약한비\\nico9 비\\nico10 강한비\\nico11 약한눈\\nico12 눈\\nico13 강한눈\\nico14 진눈깨비\\nico15 소나기\\nico16 안개\\nico17 소낙눈\\nico18 번개뇌우\\nico19 우박\\nico20 황사\\nico21 비또는눈\\nico22 가끔비\\nico23 가끔눈\\nico24 가끔비또는눈\\nico25 흐린후갬\\nico26 뇌우후갬\\nico27 비후갬\\nico28 눈후갬\\nico29 흐려져비\\nico30 흐려져눈\\n-->\\n<span class=\"ico_weather\"><i class=\"imsc ico ico@iconNo@\">@7@</i></span>\\n<em class=\"degree\">@8@<sup class=\"celsius\">°</sup></em>\\n</span>\\n</span>\\n</a>\\n</div>\\n<!-- 정답형 템플릿 : 사이트 바로가기 -->\\n<!-- [AU] _answer 클래스를 추가해주세요. -->\\n<!-- [AU] data-template-type=\"answer_17\" data-code=\"@code@\" data-keyword=\"@1@\" attribute를 추가해주세요. -->\\n<div class=\"atcmp_correct type_site _answer\" data-template-type=\"answer_17\" data-code=\"@code@\" data-keyword=\"@1@\">\\n<a href=\"@5@\" class=\"link_item\" target=\"_blank\">\\n<span class=\"common_ico_kwd\"><i class=\"imsc ico_url\"></i></span>\\n<div class=\"dsc_area\">\\n<span class=\"tit\">@txt@</span>\\n<span class=\"dsc\">\\n<span class=\"item\">@5@</span>\\n</span>\\n</div>\\n<span class=\"etc_area\">\\n<span class=\"etc\">바로가기</span>\\n</span>\\n</a>\\n</div>\\n<!-- [AU] _kwd_list 클래스를 추가해주세요. -->\\n<ul class=\"kwd_lst _kwd_list\">\\n<!-- [AU] 자동완성 검색어 템플릿 -->\\n<!-- [AU] _item 클래스를 추가해주세요. -->\\n<!-- [AU] data-rank=\"@rank@\" data-template-type=\"suggestion\" data-keyword=\"@in_txt@\" attribute를 추가해주세요. -->\\n<li class=\"item _item\" data-rank=\"@rank@\" data-template-type=\"suggestion\" data-keyword=\"@in_txt@\">\\n<a href=\"#\" class=\"kwd\">\\n<span class=\"fix\"><span class=\"common_ico_kwd\"><i class=\"imsc ico_search\"></i></span>@txt@</span>\\n</a>\\n<span class=\"etc\">\\n<a href=\"#\" role=\"button\" class=\"bt_item _add\" aria-pressed=\"false\"><i class=\"imsc ico_insert\">추가</i></a>\\n</span>\\n</li>\\n<!-- [AU] 최근검색어 템플릿 -->\\n<!-- [AU] _item 클래스를 추가해주세요. -->\\n<!-- [AU] data-rank=\"@rank@\" data-template-type=\"history\" data-keyword=\"@in_txt@\" attribute를 추가해주세요. -->\\n<li class=\"item has_correct _item\" data-rank=\"@rank@\" data-template-type=\"history\" data-keyword=\"@in_txt@\">\\n<a href=\"#\" class=\"kwd\">\\n<span class=\"fix\"><span class=\"common_ico_kwd\"><i class=\"imsc ico_search\"></i></span>@txt@</span>\\n</a>\\n<span class=\"etc\">\\n<!-- 최근검색어 있으면 날짜 표시 -->\\n<em class=\"date\">@date@.</em>\\n<a href=\"#\" role=\"button\" class=\"bt_item _add\" aria-pressed=\"false\"><i class=\"imsc ico_insert\">추가</i></a>\\n</span>\\n</li>\\n</ul>\\n<!-- [AU] 문맥검색 템플릿 -->\\n<!-- [AU] _item 클래스를 추가해주세요. -->\\n<!-- [AU] data-rank=\"@rank@\" data-template-type=\"intend\" data-keyword=\"@transQuery@\" attribute를 추가해주세요. -->\\n<li class=\"item has_correct _item\" data-rank=\"@rank@\" data-intend-rank=\"@intendRank@\" data-template-type=\"intend\" data-keyword=\"@transQuery@\">\\n<a href=\"#\" class=\"kwd\">\\n<span class=\"fix\"><span class=\"common_ico_kwd\"><i class=\"imsc ico_search\"></i></span>@query@ <span class=\"context\">@intend@</span></span>\\n</a>\\n<span class=\"etc\">\\n<a href=\"#\" role=\"button\" class=\"bt_item _add\" aria-pressed=\"false\"><i class=\"imsc ico_insert\">추가</i></a>\\n</span>\\n</li>\\n<!-- [D] 선거안내문구 -->\\n<!-- [AU] _alert 클래스를 추가해주세요. -->\\n<div class=\"atcmp_alert _alert\">\\n<div class=\"dsc_election\">\\n<p class=\"dsc\">\\n<i class=\"imsc ico_election\"></i><span class=\"_alert_passage\"></span>\\n</p>\\n<span class=\"dsc_inner\">\\n<!-- [AU] _alert_passage2 클래스를 추가해주세요. -->\\n<span class=\"_alert_passage2\"></span>\\n<!-- [AU] _alert_link 클래스를 추가해주세요. -->\\n<a href=\"#\" class=\"link _alert_link\" target=\"_blank\">자세히보기</a>\\n</span>\\n</div>\\n</div>\\n<!-- [AU] _plus 클래스를 추가해주세요. -->\\n<div class=\"atcmp_plus _plus\">\\n<div class=\"dsc_plus\">\\n<a href=\"https://help.naver.com/support/alias/search/word/word_16.naver\" class=\"link_dsc\" data-clk=\"sug.cxhelp\" target=\"_blank\">관심사를 반영한 컨텍스트 자동완성<i class=\"imsc ico_help\">도움말</i></a>\\n</div>\\n<div class=\"switch\">\\n<!-- [D] 선택시 aria-pressed=\"ture/false\" -->\\n<!-- [AU] _plus_btn 클래스를 추가해주세요. -->\\n<a role=\"button\" href=\"#\" class=\"bt_switch active _plus_btn\" aria-pressed=\"false\"><i class=\"imsc ico_option\">컨텍스트 자동완성</i></a>\\n</div>\\n<!-- [AU] _plus_layer 클래스를 추가해주세요. -->\\n<div class=\"layer_plus _plus_layer\">\\n<strong class=\"tit\">컨텍스트 자동완성</strong>\\n<!-- [AU] _plus_layer_isloggedin 클래스를 추가해주세요. -->\\n<!-- [AU] style=\"display:none\" 추가해주세요. -->\\n<div class=\"_plus_layer_isloggedin\" style=\"display:none\">\\n<p class=\"dsc\">ON/OFF 설정은<br>해당기기(브라우저)에 저장됩니다.</p>\\n<div class=\"btn_area\">\\n<a href=\"https://help.naver.com/support/alias/search/word/word_16.naver\" class=\"btn btn_view\" data-clk=\"sug.cxlink\" target=\"_blank\">자세히</a>\\n</div>\\n</div>\\n<!-- [AU] _plus_layer_isnotloggedin 클래스를 추가해주세요. -->\\n<!-- [AU] style=\"display:none\" 추가해주세요. -->\\n<div class=\"_plus_layer_isnotloggedin\" style=\"display:none\">\\n<p class=\"dsc\"><em class=\"txt\">동일한 시간대/연령/남녀별</em> 사용자 그룹의<br>관심사에 맞춰 자동완성을 제공합니다.</p>\\n<div class=\"btn_area\">\\n<a href=\"https://nid.naver.com/nidlogin.login\" class=\"btn btn_login\" data-clk=\"sug.cxlogin\">로그인</a>\\n<a href=\"https://help.naver.com/support/alias/search/word/word_16.naver\" class=\"btn btn_view\" data-clk=\"sug.cxlink\" target=\"_blank\">자세히</a>\\n</div>\\n</div>\\n<!-- [AU] _plus_layer_close 클래스를 추가해주세요. -->\\n<a href=\"#\" role=\"button\" class=\"btn_close _plus_layer_close\"><i class=\"imsc ico_close\">컨텍스트 자동완성 레이어 닫기</i></a>\\n</div>\\n</div>\\n</div>\\n<div class=\"atcmp_footer\">\\n<span class=\"side_opt_area\">\\n<span class=\"opt_item\"><a href=\"https://help.naver.com/alias/search/word/word_17.naver\" data-clk=\"sug.help\" target=\"_blank\">도움말</a></span>\\n<span class=\"opt_item\"><a href=\"https://help.naver.com/support/contents/contents.help?serviceNo=605&categoryNo=18215\" class=\"report\" data-clk=\"sug.report\" target=\"_blank\">신고</a></span>\\n</span>\\n<span class=\"rside_opt_area\">\\n<span class=\"opt_item\">\\n<!-- [AU] _suggestOnOff 클래스를 추가해주세요. -->\\n<a href=\"#\" class=\"close _suggestOnOff\">자동완성 끄기</a>\\n</span>\\n</span>\\n</div>\\n</div>\\n</div>\\n</div>\\n</div>\\n</div>\\n\\n</div>\\n</div>\\n\\n<!--EMPTY-->\\n<div id=\"gnb\" role=\"navigation\">\\n<div id=\"NM_FAVORITE\" class=\"gnb_inner\">\\n<div class=\"group_nav\">\\n<ul class=\"list_nav type_fix\">\\n<li class=\"nav_item\">\\n<a href=\"https://mail.naver.com/\" class=\"nav\" data-clk=\"svc.mail\"><i class=\"ico_mail\"></i>메일</a>\\n</li>\\n<li class=\"nav_item\"><a href=\"https://section.cafe.naver.com/\" class=\"nav\" data-clk=\"svc.cafe\">카페</a></li>\\n<li class=\"nav_item\"><a href=\"https://section.blog.naver.com/\" class=\"nav\" data-clk=\"svc.blog\">블로그</a></li>\\n<li class=\"nav_item\"><a href=\"https://kin.naver.com/\" class=\"nav\" data-clk=\"svc.kin\">지식iN</a></li>\\n<li class=\"nav_item\"><a href=\"https://shopping.naver.com/\" class=\"nav shop\" data-clk=\"svc.shopping\"><span class=\"blind\">쇼핑</span></a></li>\\n<li class=\"nav_item\"><a href=\"https://shoppinglive.naver.com/home\" class=\"nav shoplive\"\\ndata-clk=\"svc.shoppinglive\"><span class=\"blind\">쇼핑LIVE</span></a></li>\\n<li class=\"nav_item\"><a href=\"https://order.pay.naver.com/home\" class=\"nav\" data-clk=\"svc.pay\">Pay</a></li>\\n<li class=\"nav_item\">\\n<a href=\"https://tv.naver.com/\" class=\"nav\" data-clk=\"svc.tvcast\"><i class=\"ico_tv\"></i>TV</a>\\n</li>\\n</ul>\\n<ul\\nclass=\"list_nav NM_FAVORITE_LIST\"\\n>\\n<li class=\"nav_item\"><a href=\"https://dict.naver.com/\" class=\"nav\" data-clk=\"svc.dic\">사전</a></li>\\n<li class=\"nav_item\"><a href=\"https://news.naver.com/\" class=\"nav\" data-clk=\"svc.news\">뉴스</a></li>\\n<li class=\"nav_item\"><a href=\"https://finance.naver.com/\" class=\"nav\" data-clk=\"svc.stock\">증권</a></li>\\n<li class=\"nav_item\"><a href=\"https://land.naver.com/\" class=\"nav\" data-clk=\"svc.land\">부동산</a></li>\\n<li class=\"nav_item\"><a href=\"https://map.naver.com/\" class=\"nav\" data-clk=\"svc.map\">지도</a></li>\\n<li class=\"nav_item\"><a href=\"https://vibe.naver.com/?from&#x3D;naver_main&amp;utm_source&#x3D;naver_main&amp;utm_medium&#x3D;naver_main_pcweb&amp;utm_campaign&#x3D;naver_main_redirect\" class=\"nav\" data-clk=\"svc.vibe\">VIBE</a></li>\\n<li class=\"nav_item\"><a href=\"https://search.shopping.naver.com/book/home\" class=\"nav\" data-clk=\"svc.book\">도서</a></li>\\n<li class=\"nav_item\"><a href=\"https://comic.naver.com/\" class=\"nav\" data-clk=\"svc.webtoon\">웹툰</a></li>\\n\\n</ul>\\n<ul class=\"list_nav type_empty\" style=\"display: none;\"></ul>\\n<div id=\"MM_gnb_more\" class=\"more_area\">\\n<a href=\"#\" role=\"button\" class=\"btn_more\" data-clk=\"svc.more\">더보기</a>\\n<div class=\"pm_new_main MM_tooltip\" style=\"display: none;\">\\n<div class=\"ly_notice\">\\n<strong class=\"title\">‘서비스 바로가기’에 중요한 공지가 있어요.</strong>\\n<p class=\"desc\">5월 17일부터 모바일에서 사용하던 바로가기가 PC 메인 상단에서 제공될 예정이에요. 이제 PC에서도 모바일에서 제공되는 네이버 서비스와 사이트 바로가기를 사용할 수 있어요.</p>\\n<a href=\"https://blog.naver.com/naver_diary/223093359600\" target=\"_blank\" class=\"link_newmain\">새로운 PC 메인 보러가기</a>\\n<button type=\"button\" class=\"btn_close\" style=\"display: none;\"><span class=\"blind\">닫기</span></button>\\n</div>\\n</div>\\n</div>\\n<div class=\"ly_btn_area\">\\n<a href=\"more.html\" class=\"btn NM_FAVORITE_ALL\" data-clk=\"map.svcmore\">서비스 전체보기</a>\\n<a href=\"#\" role=\"button\" class=\"btn btn_set\" data-clk=\"map.edit\">메뉴설정</a>\\n<a href=\"#\" role=\"button\" class=\"btn btn_reset\" data-clk=\"edt.reset\">초기화</a>\\n<a href=\"#\" role=\"button\" class=\"btn btn_save\" data-clk=\"edt.save\">저장</a>\\n</div>\\n</div>\\n<div id=\"NM_WEATHER\" class=\"group_weather\">\\n<div>\\n<a data-clk=\"squ.weat\" href=\"https://weather.naver.com/today/09560104?cpName=KMA\" class=\"weather_area ico_w05\">\\n<div class=\"current_box\">\\n<strong class=\"current\" aria-label=\"현재기온\">24.6°</strong><strong class=\"state\">구름많음</strong>\\n</div>\\n<div class=\"degree_box\">\\n<span class=\"min\" aria-label=\"최저기온\">15.0°</span><span class=\"max\" aria-label=\"최고기온\">26.0°</span>\\n</div>\\n<span class=\"location\">영등포동3가</span>\\n</a>\\n</div>\\n<div>\\n<a data-clk=\"squ.dust\" href=\"https://weather.naver.com/today/09560104?cpName=KMA\" class=\"air_area\">\\n<ul class=\"list_air\">\\n<li class=\"air_item\">미세<strong class=\"state state_normal\">보통</strong></li>\\n<li class=\"air_item\">초미세<strong class=\"state state_normal\">보통</strong></li>\\n</ul>\\n<span class=\"location\">영등포동3가</span>\\n</a>\\n</div>\\n\\n</div>\\n</div>\\n<div class=\"ly_service\">\\n<div class=\"group_service NM_FAVORITE_ALL_LY\"></div>\\n<div class=\"group_service NM_FAVORITE_EDIT_LY\" style=\"display: none;\"></div>\\n</div>\\n</div>\\n</div>\\n <div id=\"container\" role=\"main\"> <div style=\"position:relative;width:1130px;margin:0 auto;z-index:11\"> <div id=\"da_top\"></div> <div id=\"da_expwide\"></div> </div> <div id=\"NM_INT_LEFT\" class=\"column_left\"> <div id=\"veta_top\"> <div id=\"veta_top_inner\" style=\"height:135px\"> </div> <span class=\"veta_bd_t\"></span> <span class=\"veta_bd_b\"></span> <span class=\"veta_bd_l\"></span> <span class=\"veta_bd_r\"></span> </div> <div id=\"newsstand\" class=\"sc_newscast\"> <h2 class=\"blind\">뉴스스탠드</h2> <div id=\"NM_NEWSSTAND_HEADER\" class=\"group_issue\" data-clk-prefix=\"ncy\"> <div class=\"issue_area\"> <a class=\"link_media\" href=\"https://news.naver.com/main/list.naver?mode=LPOD&mid=sec&sid1=001&sid2=140&oid=001&isYeonhapFlash=Y\" data-clk=\"newsflash\">연합뉴스</a> <div id=\"NM_ONELINE_ROLLING\" class=\"list_issue\" data-nm-ui=\"rolling\"> <div><a href=\"https://news.naver.com/main/list.naver?mode=LPOD&mid=sec&sid1=001&sid2=140&oid=001&isYeonhapFlash=Y&aid=0013922590\" class=\"issue\" data-clk=\"quickarticle\">尹 \"용산기지, 어린이위한 공원 재탄생\"…어린이 손잡고 첫 입장</a></div>\\n<div><a href=\"https://news.naver.com/main/list.naver?mode=LPOD&mid=sec&sid1=001&sid2=140&oid=001&isYeonhapFlash=Y&aid=0013922743\" class=\"issue\" data-clk=\"quickarticle\">\"졸지에 이산가족\"…어린이날 직전 제주공항 1만명 발 묶여</a></div>\\n<div><a href=\"https://news.naver.com/main/list.naver?mode=LPOD&mid=sec&sid1=001&sid2=140&oid=001&isYeonhapFlash=Y&aid=0013922833\" class=\"issue\" data-clk=\"quickarticle\">이재명 \"대통령이 야당 원내대표 만나는 것 괘념치 않아\"</a></div>\\n<div><a href=\"https://news.naver.com/main/list.naver?mode=LPOD&mid=sec&sid1=001&sid2=140&oid=001&isYeonhapFlash=Y&aid=0013922290\" class=\"issue\" data-clk=\"quickarticle\">대통령실 \"정상회담, 안보·첨단산업 의제…공동선언은 어려워\"</a></div>\\n<div><a href=\"https://news.naver.com/main/list.naver?mode=LPOD&mid=sec&sid1=001&sid2=140&oid=001&isYeonhapFlash=Y&aid=0013922690\" class=\"issue\" data-clk=\"quickarticle\">중국, 대북제재 동참 요구에 \"국제의무 성실히 이행 중\"</a></div>\\n<div><a href=\"https://news.naver.com/main/list.naver?mode=LPOD&mid=sec&sid1=001&sid2=140&oid=001&isYeonhapFlash=Y&aid=0013922303\" class=\"issue\" data-clk=\"quickarticle\">\"주택 여러채 \\'무자본 갭투자\\'는 전세사기\"…특별법 적용될듯</a></div>\\n<div><a href=\"https://news.naver.com/main/list.naver?mode=LPOD&mid=sec&sid1=001&sid2=140&oid=001&isYeonhapFlash=Y&aid=0013922742\" class=\"issue\" data-clk=\"quickarticle\">김용 \"대선 경선 비용은 이재명 몰래 사비나 갹출로\"</a></div>\\n<div><a href=\"https://news.naver.com/main/list.naver?mode=LPOD&mid=sec&sid1=001&sid2=140&oid=001&isYeonhapFlash=Y&aid=0013922390\" class=\"issue\" data-clk=\"quickarticle\">대통령실 \"尹, 대선후보 시절 간호법 공식 약속은 안해\"</a></div>\\n<div><a href=\"https://news.naver.com/main/list.naver?mode=LPOD&mid=sec&sid1=001&sid2=140&oid=001&isYeonhapFlash=Y&aid=0013922246\" class=\"issue\" data-clk=\"quickarticle\">\\'뇌물 혐의\\' 은수미 전 성남시장 항소심도 징역 2년</a></div>\\n<div><a href=\"https://news.naver.com/main/list.naver?mode=LPOD&mid=sec&sid1=001&sid2=140&oid=001&isYeonhapFlash=Y&aid=0013922739\" class=\"issue\" data-clk=\"quickarticle\">\\'배승아양 참변\\' 충격 가시지도 않았는데…또 음주운전 사망사고</a></div> </div> </div> <div class=\"direct_area\"> <a href=\"http://news.naver.com/\" class=\"link_news\" data-clk=\"newshome\">뉴스홈</a>\\n<a href=\"http://entertain.naver.com/home\" class=\"link_direct\" data-clk=\"entertainment\">연예</a>\\n<a href=\"http://sports.news.naver.com/\" class=\"link_direct\" data-clk=\"sports\">스포츠</a>\\n<a href=\"http://news.naver.com/main/main.naver?mode=LSD&mid=shm&sid1=101\" class=\"link_direct\" data-clk=\"economy\">경제</a> </div> </div>        <div id=\"NM_NEWSSTAND_TITLE\" class=\"group_title\" data-clk-prefix=\"nsd\"> <a href=\"http://newsstand.naver.com/\" class=\"link_newsstand\" data-clk=\"title\" target=\"_blank\">뉴스스탠드</a> <div id=\"NM_NEWSSTAND_data_buttons\" class=\"sort_area\" role=\"tablist\">  <a href=\"#\" role=\"tab\" data-type=\"my\" data-clk=\"my\" class=\"btn_sort\" aria-controls=\"NM_NEWSSTAND_MY_LIST\" aria-selected=\"false\">구독한 언론사</a> <a href=\"#\" role=\"tab\" data-type=\"all\" data-clk=\"all\" class=\"btn_sort\" aria-controls=\"NM_NEWSSTAND_DEFAULT_THUMB\" aria-selected=\"true\">전체언론사</a>  </div> <div id=\"NM_NEWSSTAND_view_buttons\" class=\"set_area\" role=\"tablist\">  <a href=\"#\" role=\"tab\" data-type=\"list\" data-clk=\"articleview\" class=\"btn_set\" aria-controls=\"NM_NEWSSTAND_DEFAULT_LIST\" aria-selected=\"false\"> <i class=\"ico_list\"><span class=\"blind\">리스트형</span></i></a> <a href=\"#\" role=\"tab\" data-type=\"thumb\" data-clk=\"pressview\" class=\"btn_set\" aria-controls=\"NM_NEWSSTAND_DEFAULT_THUMB\" aria-selected=\"true\"> <i class=\"ico_tile\"><span class=\"blind\">썸네일형</span></i></a>  <a href=\"http://newsstand.naver.com/config.html\" class=\"btn_set\" data-clk=\"set\" target=\"_blank\"> <i class=\"ico_set\"><span class=\"blind\">설정</span></i></a> </div> </div> <div id=\"NM_NEWSSTAND_VIEW_CONTAINER\" style=\"position:relative\"> <div id=\"NM_NEWSSTAND_DEFAULT_LIST\" class=\"group_news\" role=\"tabpanel\" style=\"display:none\" data-clk-prefix=\"nsd_all\"> <a href=\"#\" role=\"button\" class=\"pm_btn_prev_l _NM_NEWSSTAND_LIST_prev_btn\" data-clk-custom=\"prev\"><i class=\"ico_btn\"><span class=\"blind\">이전</span></i></a> <a href=\"#\" role=\"button\" class=\"pm_btn_next_l _NM_NEWSSTAND_LIST_next_btn\" data-clk-custom=\"next\"><i class=\"ico_btn\"><span class=\"blind\">다음</span></i></a> <div class=\"list_view\"> <div class=\"option_area\"> <div class=\"list_option_wrap\"> <ul class=\"list_option\"> <li class=\"option_item\" data-cateid=\"ct2\"><a href=\"#\" class=\"option\" data-clk=\"daei\">종합/경제</a></li> <li class=\"option_item\" data-cateid=\"ct3\"><a href=\"#\" class=\"option\" data-clk=\"dtvcom\">방송/통신</a></li> <li class=\"option_item\" data-cateid=\"ct4\"><a href=\"#\" class=\"option\" data-clk=\"dit\">IT</a></li> <li class=\"option_item\" data-cateid=\"ct5\"><a href=\"#\" class=\"option\" data-clk=\"deng\">영자지</a></li> <li class=\"option_item\" data-cateid=\"ct6\"><a href=\"#\" class=\"option\" data-clk=\"dsporent\">스포츠/연예</a></li> <li class=\"option_item\" data-cateid=\"ct7\"><a href=\"#\" class=\"option\" data-clk=\"dmagtec\">매거진/전문지</a></li> <li class=\"option_item\" data-cateid=\"ct8\"><a href=\"#\" class=\"option\" data-clk=\"dloc\">지역</a></li> </ul> </div> </div> <div class=\"_NM_NEWSSTAND_ARTICLE_CONTAINER\" data-clk-sub=\"*a\"></div> </div> <div class=\"ly_popup NM_NEWSSTAND_POPUP NM_NEWSSTAND_invalid\" style=\"display:none\" data-clk-sub=\"*a\"> <a href=\"#\" role=\"button\" class=\"btn_close NM_NEWSSTAND_POPUP_CLOSE\"><i class=\"ico_close\"></i><span class=\"blind\">닫기</span></a> <p class=\"popup_msg\">해당 언론사 사정으로 접근이 제한됩니다.</p> <div class=\"popup_btn\"> <a href=\"#\" role=\"button\" class=\"btn_confirm NM_NEWSSTAND_POPUP_CLOSE\">확인</a> </div> </div> <div class=\"ly_popup NM_NEWSSTAND_POPUP NM_NEWSSTAND_undescribe_confirm\" style=\"display:none\" data-clk-sub=\"*a\"> <a href=\"#\" role=\"button\" class=\"btn_close NM_NEWSSTAND_POPUP_CLOSE\" data-clk=\"usclose\"><i class=\"ico_close\"></i><span class=\"blind\">닫기</span></a> <p class=\"popup_msg\"><strong class=\"NM_NEWSSTAND_POPUP_PNAME\"></strong>을(를)<br>구독해지 하시겠습니까?</p> <div class=\"popup_btn\"> <a href=\"#\" role=\"button\" class=\"btn_confirm NM_NEWSSTAND_POPUP_CONFIRM\" data-clk=\"usdone\">확인</a> <a href=\"#\" role=\"button\" class=\"btn_confirm NM_NEWSSTAND_POPUP_CLOSE\" data-clk=\"uscancel\">취소</a> </div> </div> <div class=\"ly_toast NM_NEWSSTAND_TOAST\" style=\"display:none\"> <p class=\"toast_msg\">구독한 언론사에 추가되었습니다.</p> </div> </div>   <div id=\"NM_NEWSSTAND_DEFAULT_THUMB\" class=\"group_news\" role=\"tabpanel\" style=\"display:block\" data-clk-prefix=\"nsd_all\"> <a href=\"#\" role=\"button\" class=\"pm_btn_prev_l _NM_UI_PAGE_PREV\" data-clk-custom=\"prev\"><i class=\"ico_btn\"><span class=\"blind\">이전</span></i></a> <a href=\"#\" role=\"button\" class=\"pm_btn_next_l _NM_UI_PAGE_NEXT\" data-clk-custom=\"next\"><i class=\"ico_btn\"><span class=\"blind\">다음</span></i></a> <div class=\"_NM_UI_PAGE_CONTAINER\" style=\"height:100%;overflow:hidden\" data-clk-sub=\"*p\">   <div style=\"width: 750px; float: left;\">\\n<div class=\"tile_view\">\\n<div class=\"frame_area\">\\n<i class=\"line to_right1\"></i>\\n<i class=\"line to_right2\"></i>\\n<i class=\"line to_right3\"></i>\\n<i class=\"line to_bottom1\"></i>\\n<i class=\"line to_bottom2\"></i>\\n<i class=\"line to_bottom3\"></i>\\n<i class=\"line to_bottom4\"></i>\\n<i class=\"line to_bottom5\"></i>\\n</div>\\n<div class=\"thumb_area\">\\n<div\\nclass=\"thumb_box _NM_NEWSSTAND_THUMB _NM_NEWSSTAND_THUMB_press_valid\"\\ndata-pid=\"081\"\\n>\\n<a href=\"#\" class=\"thumb\">\\n<img\\nsrc=\"https://s.pstatic.net/static/newsstand/up/2022/0208/nsd16121208.png\"\\nheight=\"20\"\\nalt=\"서울신문\"\\nclass=\"news_logo\"\\n/>\\n<span class=\"thumb_dim\"></span\\n></a>\\n<div class=\"popup_wrap\">\\n<a\\nhref=\"#\"\\nrole=\"button\"\\nclass=\"btn_popup _NM_NEWSSTAND_THUMB_subscribe_press\"\\ndata-pid=\"081\"\\ndata-clk=\"sub\"\\n>구독</a\\n>\\n<a\\nhref=\"#\"\\nrole=\"button\"\\nclass=\"btn_popup _NM_NEWSSTAND_THUMB_unsubscribe_press\"\\ndata-pid=\"081\"\\ndata-clk=\"unsub\"\\n>해지</a\\n>\\n<a\\nhref=\"http://newsstand.naver.com/?list=&pcode=081\"\\ntarget=\"_blank\"\\nclass=\"btn_popup\"\\ndata-clk=\"logo\"\\ndata-pid=\"081\"\\n>기사보기</a\\n>\\n</div>\\n</div>\\n<div\\nclass=\"thumb_box _NM_NEWSSTAND_THUMB _NM_NEWSSTAND_THUMB_press_valid\"\\ndata-pid=\"052\"\\n>\\n<a href=\"#\" class=\"thumb\">\\n<img\\nsrc=\"https://s.pstatic.net/static/newsstand/2020/logo/light/0604/052.png\"\\nheight=\"20\"\\nalt=\"YTN\"\\nclass=\"news_logo\"\\n/>\\n<span class=\"thumb_dim\"></span\\n></a>\\n<div class=\"popup_wrap\">\\n<a\\nhref=\"#\"\\nrole=\"button\"\\nclass=\"btn_popup _NM_NEWSSTAND_THUMB_subscribe_press\"\\ndata-pid=\"052\"\\ndata-clk=\"sub\"\\n>구독</a\\n>\\n<a\\nhref=\"#\"\\nrole=\"button\"\\nclass=\"btn_popup _NM_NEWSSTAND_THUMB_unsubscribe_press\"\\ndata-pid=\"052\"\\ndata-clk=\"unsub\"\\n>해지</a\\n>\\n<a\\nhref=\"http://newsstand.naver.com/?list=&pcode=052\"\\ntarget=\"_blank\"\\nclass=\"btn_popup\"\\ndata-clk=\"logo\"\\ndata-pid=\"052\"\\n>기사보기</a\\n>\\n</div>\\n</div>\\n<div\\nclass=\"thumb_box _NM_NEWSSTAND_THUMB _NM_NEWSSTAND_THUMB_press_valid\"\\ndata-pid=\"025\"\\n>\\n<a href=\"#\" class=\"thumb\">\\n<img\\nsrc=\"https://s.pstatic.net/static/newsstand/up/2021/0824/nsd115034872.png\"\\nheight=\"20\"\\nalt=\"중앙일보\"\\nclass=\"news_logo\"\\n/>\\n<span class=\"thumb_dim\"></span\\n></a>\\n<div class=\"popup_wrap\">\\n<a\\nhref=\"#\"\\nrole=\"button\"\\nclass=\"btn_popup _NM_NEWSSTAND_THUMB_subscribe_press\"\\ndata-pid=\"025\"\\ndata-clk=\"sub\"\\n>구독</a\\n>\\n<a\\nhref=\"#\"\\nrole=\"button\"\\nclass=\"btn_popup _NM_NEWSSTAND_THUMB_unsubscribe_press\"\\ndata-pid=\"025\"\\ndata-clk=\"unsub\"\\n>해지</a\\n>\\n<a\\nhref=\"http://newsstand.naver.com/?list=&pcode=025\"\\ntarget=\"_blank\"\\nclass=\"btn_popup\"\\ndata-clk=\"logo\"\\ndata-pid=\"025\"\\n>기사보기</a\\n>\\n</div>\\n</div>\\n<div\\nclass=\"thumb_box _NM_NEWSSTAND_THUMB _NM_NEWSSTAND_THUMB_press_valid\"\\ndata-pid=\"117\"\\n>\\n<a href=\"#\" class=\"thumb\">\\n<img\\nsrc=\"https://s.pstatic.net/static/newsstand/2020/logo/light/0604/117.png\"\\nheight=\"20\"\\nalt=\"마이데일리\"\\nclass=\"news_logo\"\\n/>\\n<span class=\"thumb_dim\"></span\\n></a>\\n<div class=\"popup_wrap\">\\n<a\\nhref=\"#\"\\nrole=\"button\"\\nclass=\"btn_popup _NM_NEWSSTAND_THUMB_subscribe_press\"\\ndata-pid=\"117\"\\ndata-clk=\"sub\"\\n>구독</a\\n>\\n<a\\nhref=\"#\"\\nrole=\"button\"\\nclass=\"btn_popup _NM_NEWSSTAND_THUMB_unsubscribe_press\"\\ndata-pid=\"117\"\\ndata-clk=\"unsub\"\\n>해지</a\\n>\\n<a\\nhref=\"http://newsstand.naver.com/?list=&pcode=117\"\\ntarget=\"_blank\"\\nclass=\"btn_popup\"\\ndata-clk=\"logo\"\\ndata-pid=\"117\"\\n>기사보기</a\\n>\\n</div>\\n</div>\\n<div\\nclass=\"thumb_box _NM_NEWSSTAND_THUMB _NM_NEWSSTAND_THUMB_press_valid\"\\ndata-pid=\"032\"\\n>\\n<a href=\"#\" class=\"thumb\">\\n<img\\nsrc=\"https://s.pstatic.net/static/newsstand/2020/logo/light/0604/032.png\"\\nheight=\"20\"\\nalt=\"경향신문\"\\nclass=\"news_logo\"\\n/>\\n<span class=\"thumb_dim\"></span\\n></a>\\n<div class=\"popup_wrap\">\\n<a\\nhref=\"#\"\\nrole=\"button\"\\nclass=\"btn_popup _NM_NEWSSTAND_THUMB_subscribe_press\"\\ndata-pid=\"032\"\\ndata-clk=\"sub\"\\n>구독</a\\n>\\n<a\\nhref=\"#\"\\nrole=\"button\"\\nclass=\"btn_popup _NM_NEWSSTAND_THUMB_unsubscribe_press\"\\ndata-pid=\"032\"\\ndata-clk=\"unsub\"\\n>해지</a\\n>\\n<a\\nhref=\"http://newsstand.naver.com/?list=&pcode=032\"\\ntarget=\"_blank\"\\nclass=\"btn_popup\"\\ndata-clk=\"logo\"\\ndata-pid=\"032\"\\n>기사보기</a\\n>\\n</div>\\n</div>\\n<div\\nclass=\"thumb_box _NM_NEWSSTAND_THUMB _NM_NEWSSTAND_THUMB_press_valid\"\\ndata-pid=\"368\"\\n>\\n<a href=\"#\" class=\"thumb\">\\n<img\\nsrc=\"https://s.pstatic.net/static/newsstand/2020/logo/light/0604/368.png\"\\nheight=\"20\"\\nalt=\"데일리안\"\\nclass=\"news_logo\"\\n/>\\n<span class=\"thumb_dim\"></span\\n></a>\\n<div class=\"popup_wrap\">\\n<a\\nhref=\"#\"\\nrole=\"button\"\\nclass=\"btn_popup _NM_NEWSSTAND_THUMB_subscribe_press\"\\ndata-pid=\"368\"\\ndata-clk=\"sub\"\\n>구독</a\\n>\\n<a\\nhref=\"#\"\\nrole=\"button\"\\nclass=\"btn_popup _NM_NEWSSTAND_THUMB_unsubscribe_press\"\\ndata-pid=\"368\"\\ndata-clk=\"unsub\"\\n>해지</a\\n>\\n<a\\nhref=\"http://newsstand.naver.com/?list=&pcode=368\"\\ntarget=\"_blank\"\\nclass=\"btn_popup\"\\ndata-clk=\"logo\"\\ndata-pid=\"368\"\\n>기사보기</a\\n>\\n</div>\\n</div>\\n<div\\nclass=\"thumb_box _NM_NEWSSTAND_THUMB _NM_NEWSSTAND_THUMB_press_valid\"\\ndata-pid=\"018\"\\n>\\n<a href=\"#\" class=\"thumb\">\\n<img\\nsrc=\"https://s.pstatic.net/static/newsstand/2020/logo/light/0604/018.png\"\\nheight=\"20\"\\nalt=\"이데일리\"\\nclass=\"news_logo\"\\n/>\\n<span class=\"thumb_dim\"></span\\n></a>\\n<div class=\"popup_wrap\">\\n<a\\nhref=\"#\"\\nrole=\"button\"\\nclass=\"btn_popup _NM_NEWSSTAND_THUMB_subscribe_press\"\\ndata-pid=\"018\"\\ndata-clk=\"sub\"\\n>구독</a\\n>\\n<a\\nhref=\"#\"\\nrole=\"button\"\\nclass=\"btn_popup _NM_NEWSSTAND_THUMB_unsubscribe_press\"\\ndata-pid=\"018\"\\ndata-clk=\"unsub\"\\n>해지</a\\n>\\n<a\\nhref=\"http://newsstand.naver.com/?list=&pcode=018\"\\ntarget=\"_blank\"\\nclass=\"btn_popup\"\\ndata-clk=\"logo\"\\ndata-pid=\"018\"\\n>기사보기</a\\n>\\n</div>\\n</div>\\n<div\\nclass=\"thumb_box _NM_NEWSSTAND_THUMB _NM_NEWSSTAND_THUMB_press_valid\"\\ndata-pid=\"079\"\\n>\\n<a href=\"#\" class=\"thumb\">\\n<img\\nsrc=\"https://s.pstatic.net/static/newsstand/2020/logo/light/0604/079.png\"\\nheight=\"20\"\\nalt=\"노컷뉴스\"\\nclass=\"news_logo\"\\n/>\\n<span class=\"thumb_dim\"></span\\n></a>\\n<div class=\"popup_wrap\">\\n<a\\nhref=\"#\"\\nrole=\"button\"\\nclass=\"btn_popup _NM_NEWSSTAND_THUMB_subscribe_press\"\\ndata-pid=\"079\"\\ndata-clk=\"sub\"\\n>구독</a\\n>\\n<a\\nhref=\"#\"\\nrole=\"button\"\\nclass=\"btn_popup _NM_NEWSSTAND_THUMB_unsubscribe_press\"\\ndata-pid=\"079\"\\ndata-clk=\"unsub\"\\n>해지</a\\n>\\n<a\\nhref=\"http://newsstand.naver.com/?list=&pcode=079\"\\ntarget=\"_blank\"\\nclass=\"btn_popup\"\\ndata-clk=\"logo\"\\ndata-pid=\"079\"\\n>기사보기</a\\n>\\n</div>\\n</div>\\n<div\\nclass=\"thumb_box _NM_NEWSSTAND_THUMB _NM_NEWSSTAND_THUMB_press_valid\"\\ndata-pid=\"215\"\\n>\\n<a href=\"#\" class=\"thumb\">\\n<img\\nsrc=\"https://s.pstatic.net/static/newsstand/2020/logo/light/0604/215.png\"\\nheight=\"20\"\\nalt=\"한국경제TV\"\\nclass=\"news_logo\"\\n/>\\n<span class=\"thumb_dim\"></span\\n></a>\\n<div class=\"popup_wrap\">\\n<a\\nhref=\"#\"\\nrole=\"button\"\\nclass=\"btn_popup _NM_NEWSSTAND_THUMB_subscribe_press\"\\ndata-pid=\"215\"\\ndata-clk=\"sub\"\\n>구독</a\\n>\\n<a\\nhref=\"#\"\\nrole=\"button\"\\nclass=\"btn_popup _NM_NEWSSTAND_THUMB_unsubscribe_press\"\\ndata-pid=\"215\"\\ndata-clk=\"unsub\"\\n>해지</a\\n>\\n<a\\nhref=\"http://newsstand.naver.com/?list=&pcode=215\"\\ntarget=\"_blank\"\\nclass=\"btn_popup\"\\ndata-clk=\"logo\"\\ndata-pid=\"215\"\\n>기사보기</a\\n>\\n</div>\\n</div>\\n<div\\nclass=\"thumb_box _NM_NEWSSTAND_THUMB _NM_NEWSSTAND_THUMB_press_valid\"\\ndata-pid=\"003\"\\n>\\n<a href=\"#\" class=\"thumb\">\\n<img\\nsrc=\"https://s.pstatic.net/static/newsstand/2020/logo/light/0604/003.png\"\\nheight=\"20\"\\nalt=\"뉴시스\"\\nclass=\"news_logo\"\\n/>\\n<span class=\"thumb_dim\"></span\\n></a>\\n<div class=\"popup_wrap\">\\n<a\\nhref=\"#\"\\nrole=\"button\"\\nclass=\"btn_popup _NM_NEWSSTAND_THUMB_subscribe_press\"\\ndata-pid=\"003\"\\ndata-clk=\"sub\"\\n>구독</a\\n>\\n<a\\nhref=\"#\"\\nrole=\"button\"\\nclass=\"btn_popup _NM_NEWSSTAND_THUMB_unsubscribe_press\"\\ndata-pid=\"003\"\\ndata-clk=\"unsub\"\\n>해지</a\\n>\\n<a\\nhref=\"http://newsstand.naver.com/?list=&pcode=003\"\\ntarget=\"_blank\"\\nclass=\"btn_popup\"\\ndata-clk=\"logo\"\\ndata-pid=\"003\"\\n>기사보기</a\\n>\\n</div>\\n</div>\\n<div\\nclass=\"thumb_box _NM_NEWSSTAND_THUMB _NM_NEWSSTAND_THUMB_press_valid\"\\ndata-pid=\"277\"\\n>\\n<a href=\"#\" class=\"thumb\">\\n<img\\nsrc=\"https://s.pstatic.net/static/newsstand/2020/logo/light/0604/277.png\"\\nheight=\"20\"\\nalt=\"아시아경제\"\\nclass=\"news_logo\"\\n/>\\n<span class=\"thumb_dim\"></span\\n></a>\\n<div class=\"popup_wrap\">\\n<a\\nhref=\"#\"\\nrole=\"button\"\\nclass=\"btn_popup _NM_NEWSSTAND_THUMB_subscribe_press\"\\ndata-pid=\"277\"\\ndata-clk=\"sub\"\\n>구독</a\\n>\\n<a\\nhref=\"#\"\\nrole=\"button\"\\nclass=\"btn_popup _NM_NEWSSTAND_THUMB_unsubscribe_press\"\\ndata-pid=\"277\"\\ndata-clk=\"unsub\"\\n>해지</a\\n>\\n<a\\nhref=\"http://newsstand.naver.com/?list=&pcode=277\"\\ntarget=\"_blank\"\\nclass=\"btn_popup\"\\ndata-clk=\"logo\"\\ndata-pid=\"277\"\\n>기사보기</a\\n>\\n</div>\\n</div>\\n<div\\nclass=\"thumb_box _NM_NEWSSTAND_THUMB _NM_NEWSSTAND_THUMB_press_valid\"\\ndata-pid=\"293\"\\n>\\n<a href=\"#\" class=\"thumb\">\\n<img\\nsrc=\"https://s.pstatic.net/static/newsstand/2020/logo/light/0604/293.png\"\\nheight=\"20\"\\nalt=\"블로터\"\\nclass=\"news_logo\"\\n/>\\n<span class=\"thumb_dim\"></span\\n></a>\\n<div class=\"popup_wrap\">\\n<a\\nhref=\"#\"\\nrole=\"button\"\\nclass=\"btn_popup _NM_NEWSSTAND_THUMB_subscribe_press\"\\ndata-pid=\"293\"\\ndata-clk=\"sub\"\\n>구독</a\\n>\\n<a\\nhref=\"#\"\\nrole=\"button\"\\nclass=\"btn_popup _NM_NEWSSTAND_THUMB_unsubscribe_press\"\\ndata-pid=\"293\"\\ndata-clk=\"unsub\"\\n>해지</a\\n>\\n<a\\nhref=\"http://newsstand.naver.com/?list=&pcode=293\"\\ntarget=\"_blank\"\\nclass=\"btn_popup\"\\ndata-clk=\"logo\"\\ndata-pid=\"293\"\\n>기사보기</a\\n>\\n</div>\\n</div>\\n<div\\nclass=\"thumb_box _NM_NEWSSTAND_THUMB _NM_NEWSSTAND_THUMB_press_valid\"\\ndata-pid=\"030\"\\n>\\n<a href=\"#\" class=\"thumb\">\\n<img\\nsrc=\"https://s.pstatic.net/static/newsstand/2020/logo/light/0604/030.png\"\\nheight=\"20\"\\nalt=\"전자신문\"\\nclass=\"news_logo\"\\n/>\\n<span class=\"thumb_dim\"></span\\n></a>\\n<div class=\"popup_wrap\">\\n<a\\nhref=\"#\"\\nrole=\"button\"\\nclass=\"btn_popup _NM_NEWSSTAND_THUMB_subscribe_press\"\\ndata-pid=\"030\"\\ndata-clk=\"sub\"\\n>구독</a\\n>\\n<a\\nhref=\"#\"\\nrole=\"button\"\\nclass=\"btn_popup _NM_NEWSSTAND_THUMB_unsubscribe_press\"\\ndata-pid=\"030\"\\ndata-clk=\"unsub\"\\n>해지</a\\n>\\n<a\\nhref=\"http://newsstand.naver.com/?list=&pcode=030\"\\ntarget=\"_blank\"\\nclass=\"btn_popup\"\\ndata-clk=\"logo\"\\ndata-pid=\"030\"\\n>기사보기</a\\n>\\n</div>\\n</div>\\n<div\\nclass=\"thumb_box _NM_NEWSSTAND_THUMB _NM_NEWSSTAND_THUMB_press_valid\"\\ndata-pid=\"016\"\\n>\\n<a href=\"#\" class=\"thumb\">\\n<img\\nsrc=\"https://s.pstatic.net/static/newsstand/2020/logo/light/0604/016.png\"\\nheight=\"20\"\\nalt=\"헤럴드경제\"\\nclass=\"news_logo\"\\n/>\\n<span class=\"thumb_dim\"></span\\n></a>\\n<div class=\"popup_wrap\">\\n<a\\nhref=\"#\"\\nrole=\"button\"\\nclass=\"btn_popup _NM_NEWSSTAND_THUMB_subscribe_press\"\\ndata-pid=\"016\"\\ndata-clk=\"sub\"\\n>구독</a\\n>\\n<a\\nhref=\"#\"\\nrole=\"button\"\\nclass=\"btn_popup _NM_NEWSSTAND_THUMB_unsubscribe_press\"\\ndata-pid=\"016\"\\ndata-clk=\"unsub\"\\n>해지</a\\n>\\n<a\\nhref=\"http://newsstand.naver.com/?list=&pcode=016\"\\ntarget=\"_blank\"\\nclass=\"btn_popup\"\\ndata-clk=\"logo\"\\ndata-pid=\"016\"\\n>기사보기</a\\n>\\n</div>\\n</div>\\n<div\\nclass=\"thumb_box _NM_NEWSSTAND_THUMB _NM_NEWSSTAND_THUMB_press_valid\"\\ndata-pid=\"020\"\\n>\\n<a href=\"#\" class=\"thumb\">\\n<img\\nsrc=\"https://s.pstatic.net/static/newsstand/2020/logo/light/0604/020.png\"\\nheight=\"20\"\\nalt=\"동아일보\"\\nclass=\"news_logo\"\\n/>\\n<span class=\"thumb_dim\"></span\\n></a>\\n<div class=\"popup_wrap\">\\n<a\\nhref=\"#\"\\nrole=\"button\"\\nclass=\"btn_popup _NM_NEWSSTAND_THUMB_subscribe_press\"\\ndata-pid=\"020\"\\ndata-clk=\"sub\"\\n>구독</a\\n>\\n<a\\nhref=\"#\"\\nrole=\"button\"\\nclass=\"btn_popup _NM_NEWSSTAND_THUMB_unsubscribe_press\"\\ndata-pid=\"020\"\\ndata-clk=\"unsub\"\\n>해지</a\\n>\\n<a\\nhref=\"http://newsstand.naver.com/?list=&pcode=020\"\\ntarget=\"_blank\"\\nclass=\"btn_popup\"\\ndata-clk=\"logo\"\\ndata-pid=\"020\"\\n>기사보기</a\\n>\\n</div>\\n</div>\\n<div\\nclass=\"thumb_box _NM_NEWSSTAND_THUMB _NM_NEWSSTAND_THUMB_press_valid\"\\ndata-pid=\"328\"\\n>\\n<a href=\"#\" class=\"thumb\">\\n<img\\nsrc=\"https://s.pstatic.net/static/newsstand/2020/logo/light/0604/328.png\"\\nheight=\"20\"\\nalt=\"에이블뉴스\"\\nclass=\"news_logo\"\\n/>\\n<span class=\"thumb_dim\"></span\\n></a>\\n<div class=\"popup_wrap\">\\n<a\\nhref=\"#\"\\nrole=\"button\"\\nclass=\"btn_popup _NM_NEWSSTAND_THUMB_subscribe_press\"\\ndata-pid=\"328\"\\ndata-clk=\"sub\"\\n>구독</a\\n>\\n<a\\nhref=\"#\"\\nrole=\"button\"\\nclass=\"btn_popup _NM_NEWSSTAND_THUMB_unsubscribe_press\"\\ndata-pid=\"328\"\\ndata-clk=\"unsub\"\\n>해지</a\\n>\\n<a\\nhref=\"http://newsstand.naver.com/?list=&pcode=328\"\\ntarget=\"_blank\"\\nclass=\"btn_popup\"\\ndata-clk=\"logo\"\\ndata-pid=\"328\"\\n>기사보기</a\\n>\\n</div>\\n</div>\\n<div\\nclass=\"thumb_box _NM_NEWSSTAND_THUMB _NM_NEWSSTAND_THUMB_press_valid\"\\ndata-pid=\"994\"\\n>\\n<a href=\"#\" class=\"thumb\">\\n<img\\nsrc=\"https://s.pstatic.net/static/newsstand/up/2021/1112/nsd102040597.png\"\\nheight=\"20\"\\nalt=\"AI타임스\"\\nclass=\"news_logo\"\\n/>\\n<span class=\"thumb_dim\"></span\\n></a>\\n<div class=\"popup_wrap\">\\n<a\\nhref=\"#\"\\nrole=\"button\"\\nclass=\"btn_popup _NM_NEWSSTAND_THUMB_subscribe_press\"\\ndata-pid=\"994\"\\ndata-clk=\"sub\"\\n>구독</a\\n>\\n<a\\nhref=\"#\"\\nrole=\"button\"\\nclass=\"btn_popup _NM_NEWSSTAND_THUMB_unsubscribe_press\"\\ndata-pid=\"994\"\\ndata-clk=\"unsub\"\\n>해지</a\\n>\\n<a\\nhref=\"http://newsstand.naver.com/?list=&pcode=994\"\\ntarget=\"_blank\"\\nclass=\"btn_popup\"\\ndata-clk=\"logo\"\\ndata-pid=\"994\"\\n>기사보기</a\\n>\\n</div>\\n</div>\\n<div\\nclass=\"thumb_box _NM_NEWSSTAND_THUMB _NM_NEWSSTAND_THUMB_press_valid\"\\ndata-pid=\"980\"\\n>\\n<a href=\"#\" class=\"thumb\">\\n<img\\nsrc=\"https://s.pstatic.net/static/newsstand/2020/logo/light/0604/980.png\"\\nheight=\"20\"\\nalt=\"KBC광주방송\"\\nclass=\"news_logo\"\\n/>\\n<span class=\"thumb_dim\"></span\\n></a>\\n<div class=\"popup_wrap\">\\n<a\\nhref=\"#\"\\nrole=\"button\"\\nclass=\"btn_popup _NM_NEWSSTAND_THUMB_subscribe_press\"\\ndata-pid=\"980\"\\ndata-clk=\"sub\"\\n>구독</a\\n>\\n<a\\nhref=\"#\"\\nrole=\"button\"\\nclass=\"btn_popup _NM_NEWSSTAND_THUMB_unsubscribe_press\"\\ndata-pid=\"980\"\\ndata-clk=\"unsub\"\\n>해지</a\\n>\\n<a\\nhref=\"http://newsstand.naver.com/?list=&pcode=980\"\\ntarget=\"_blank\"\\nclass=\"btn_popup\"\\ndata-clk=\"logo\"\\ndata-pid=\"980\"\\n>기사보기</a\\n>\\n</div>\\n</div>\\n<div\\nclass=\"thumb_box _NM_NEWSSTAND_THUMB _NM_NEWSSTAND_THUMB_press_valid\"\\ndata-pid=\"920\"\\n>\\n<a href=\"#\" class=\"thumb\">\\n<img\\nsrc=\"https://s.pstatic.net/static/newsstand/2020/logo/light/0604/920.png\"\\nheight=\"20\"\\nalt=\"아시아투데이\"\\nclass=\"news_logo\"\\n/>\\n<span class=\"thumb_dim\"></span\\n></a>\\n<div class=\"popup_wrap\">\\n<a\\nhref=\"#\"\\nrole=\"button\"\\nclass=\"btn_popup _NM_NEWSSTAND_THUMB_subscribe_press\"\\ndata-pid=\"920\"\\ndata-clk=\"sub\"\\n>구독</a\\n>\\n<a\\nhref=\"#\"\\nrole=\"button\"\\nclass=\"btn_popup _NM_NEWSSTAND_THUMB_unsubscribe_press\"\\ndata-pid=\"920\"\\ndata-clk=\"unsub\"\\n>해지</a\\n>\\n<a\\nhref=\"http://newsstand.naver.com/?list=&pcode=920\"\\ntarget=\"_blank\"\\nclass=\"btn_popup\"\\ndata-clk=\"logo\"\\ndata-pid=\"920\"\\n>기사보기</a\\n>\\n</div>\\n</div>\\n<div\\nclass=\"thumb_box _NM_NEWSSTAND_THUMB _NM_NEWSSTAND_THUMB_press_valid\"\\ndata-pid=\"902\"\\n>\\n<a href=\"#\" class=\"thumb\">\\n<img\\nsrc=\"https://s.pstatic.net/static/newsstand/2020/logo/light/0604/902.png\"\\nheight=\"20\"\\nalt=\"TV조선\"\\nclass=\"news_logo\"\\n/>\\n<span class=\"thumb_dim\"></span\\n></a>\\n<div class=\"popup_wrap\">\\n<a\\nhref=\"#\"\\nrole=\"button\"\\nclass=\"btn_popup _NM_NEWSSTAND_THUMB_subscribe_press\"\\ndata-pid=\"902\"\\ndata-clk=\"sub\"\\n>구독</a\\n>\\n<a\\nhref=\"#\"\\nrole=\"button\"\\nclass=\"btn_popup _NM_NEWSSTAND_THUMB_unsubscribe_press\"\\ndata-pid=\"902\"\\ndata-clk=\"unsub\"\\n>해지</a\\n>\\n<a\\nhref=\"http://newsstand.naver.com/?list=&pcode=902\"\\ntarget=\"_blank\"\\nclass=\"btn_popup\"\\ndata-clk=\"logo\"\\ndata-pid=\"902\"\\n>기사보기</a\\n>\\n</div>\\n</div>\\n<div\\nclass=\"thumb_box _NM_NEWSSTAND_THUMB _NM_NEWSSTAND_THUMB_press_valid\"\\ndata-pid=\"818\"\\n>\\n<a href=\"#\" class=\"thumb\">\\n<img\\nsrc=\"https://s.pstatic.net/static/newsstand/2020/logo/light/0604/818.png\"\\nheight=\"20\"\\nalt=\"IT동아\"\\nclass=\"news_logo\"\\n/>\\n<span class=\"thumb_dim\"></span\\n></a>\\n<div class=\"popup_wrap\">\\n<a\\nhref=\"#\"\\nrole=\"button\"\\nclass=\"btn_popup _NM_NEWSSTAND_THUMB_subscribe_press\"\\ndata-pid=\"818\"\\ndata-clk=\"sub\"\\n>구독</a\\n>\\n<a\\nhref=\"#\"\\nrole=\"button\"\\nclass=\"btn_popup _NM_NEWSSTAND_THUMB_unsubscribe_press\"\\ndata-pid=\"818\"\\ndata-clk=\"unsub\"\\n>해지</a\\n>\\n<a\\nhref=\"http://newsstand.naver.com/?list=&pcode=818\"\\ntarget=\"_blank\"\\nclass=\"btn_popup\"\\ndata-clk=\"logo\"\\ndata-pid=\"818\"\\n>기사보기</a\\n>\\n</div>\\n</div>\\n<div\\nclass=\"thumb_box _NM_NEWSSTAND_THUMB _NM_NEWSSTAND_THUMB_press_valid\"\\ndata-pid=\"807\"\\n>\\n<a href=\"#\" class=\"thumb\">\\n<img\\nsrc=\"https://s.pstatic.net/static/newsstand/2020/logo/light/0604/807.png\"\\nheight=\"20\"\\nalt=\"인사이트코리아\"\\nclass=\"news_logo\"\\n/>\\n<span class=\"thumb_dim\"></span\\n></a>\\n<div class=\"popup_wrap\">\\n<a\\nhref=\"#\"\\nrole=\"button\"\\nclass=\"btn_popup _NM_NEWSSTAND_THUMB_subscribe_press\"\\ndata-pid=\"807\"\\ndata-clk=\"sub\"\\n>구독</a\\n>\\n<a\\nhref=\"#\"\\nrole=\"button\"\\nclass=\"btn_popup _NM_NEWSSTAND_THUMB_unsubscribe_press\"\\ndata-pid=\"807\"\\ndata-clk=\"unsub\"\\n>해지</a\\n>\\n<a\\nhref=\"http://newsstand.naver.com/?list=&pcode=807\"\\ntarget=\"_blank\"\\nclass=\"btn_popup\"\\ndata-clk=\"logo\"\\ndata-pid=\"807\"\\n>기사보기</a\\n>\\n</div>\\n</div>\\n<div\\nclass=\"thumb_box _NM_NEWSSTAND_THUMB _NM_NEWSSTAND_THUMB_press_valid\"\\ndata-pid=\"981\"\\n>\\n<a href=\"#\" class=\"thumb\">\\n<img\\nsrc=\"https://s.pstatic.net/static/newsstand/2020/logo/light/0604/981.png\"\\nheight=\"20\"\\nalt=\"TBS\"\\nclass=\"news_logo\"\\n/>\\n<span class=\"thumb_dim\"></span\\n></a>\\n<div class=\"popup_wrap\">\\n<a\\nhref=\"#\"\\nrole=\"button\"\\nclass=\"btn_popup _NM_NEWSSTAND_THUMB_subscribe_press\"\\ndata-pid=\"981\"\\ndata-clk=\"sub\"\\n>구독</a\\n>\\n<a\\nhref=\"#\"\\nrole=\"button\"\\nclass=\"btn_popup _NM_NEWSSTAND_THUMB_unsubscribe_press\"\\ndata-pid=\"981\"\\ndata-clk=\"unsub\"\\n>해지</a\\n>\\n<a\\nhref=\"http://newsstand.naver.com/?list=&pcode=981\"\\ntarget=\"_blank\"\\nclass=\"btn_popup\"\\ndata-clk=\"logo\"\\ndata-pid=\"981\"\\n>기사보기</a\\n>\\n</div>\\n</div>\\n<div\\nclass=\"thumb_box _NM_NEWSSTAND_THUMB _NM_NEWSSTAND_THUMB_press_valid\"\\ndata-pid=\"969\"\\n>\\n<a href=\"#\" class=\"thumb\">\\n<img\\nsrc=\"https://s.pstatic.net/static/newsstand/2020/logo/light/0604/969.png\"\\nheight=\"20\"\\nalt=\"매일노동뉴스\"\\nclass=\"news_logo\"\\n/>\\n<span class=\"thumb_dim\"></span\\n></a>\\n<div class=\"popup_wrap\">\\n<a\\nhref=\"#\"\\nrole=\"button\"\\nclass=\"btn_popup _NM_NEWSSTAND_THUMB_subscribe_press\"\\ndata-pid=\"969\"\\ndata-clk=\"sub\"\\n>구독</a\\n>\\n<a\\nhref=\"#\"\\nrole=\"button\"\\nclass=\"btn_popup _NM_NEWSSTAND_THUMB_unsubscribe_press\"\\ndata-pid=\"969\"\\ndata-clk=\"unsub\"\\n>해지</a\\n>\\n<a\\nhref=\"http://newsstand.naver.com/?list=&pcode=969\"\\ntarget=\"_blank\"\\nclass=\"btn_popup\"\\ndata-clk=\"logo\"\\ndata-pid=\"969\"\\n>기사보기</a\\n>\\n</div>\\n</div>\\n</div>\\n</div>\\n</div>\\n  </div> <div class=\"ly_popup NM_NEWSSTAND_POPUP NM_NEWSSTAND_invalid\" style=\"display:none\"> <a href=\"#\" role=\"button\" class=\"btn_close NM_NEWSSTAND_POPUP_CLOSE\"><i class=\"ico_close\"></i><span class=\"blind\">닫기</span></a> <p class=\"popup_msg\">해당 언론사 사정으로 접근이 제한됩니다.</p> <div class=\"popup_btn\"> <a href=\"#\" role=\"button\" class=\"btn_confirm NM_NEWSSTAND_POPUP_CLOSE\">확인</a> </div> </div> <div class=\"ly_popup NM_NEWSSTAND_POPUP NM_NEWSSTAND_undescribe_confirm\" style=\"display:none\" data-clk-sub=\"*a\"> <a href=\"#\" role=\"button\" class=\"btn_close NM_NEWSSTAND_POPUP_CLOSE\" data-clk=\"usclose\"><i class=\"ico_close\"></i><span class=\"blind\">닫기</span></a> <p class=\"popup_msg\"><strong class=\"NM_NEWSSTAND_POPUP_PNAME\"></strong>을(를)<br/>구독해지 하시겠습니까?</p> <div class=\"popup_btn\"> <a href=\"#\" role=\"button\" class=\"btn_confirm NM_NEWSSTAND_POPUP_CONFIRM\" data-clk=\"usdone\">확인</a> <a href=\"#\" role=\"button\" class=\"btn_confirm NM_NEWSSTAND_POPUP_CLOSE\" data-clk=\"uscancel\">취소</a> </div> </div> <div class=\"ly_toast NM_NEWSSTAND_TOAST\" style=\"display:none\"> <p class=\"toast_msg\">구독한 언론사에 추가되었습니다.</p> </div> </div> <div id=\"NM_NEWSSTAND_MY_LIST\" class=\"group_news\" role=\"tabpanel\" style=\"display:none\" data-clk-prefix=\"nsd_myn\"> <a href=\"#\" role=\"button\" class=\"pm_btn_prev_l _NM_NEWSSTAND_LIST_prev_btn\" data-clk-custom=\"prev\"><i class=\"ico_btn\"></i><span class=\"blind\">이전</span></a> <a href=\"#\" role=\"button\" class=\"pm_btn_next_l _NM_NEWSSTAND_LIST_next_btn\" data-clk-custom=\"next\"><i class=\"ico_btn\"></i><span class=\"blind\">다음</span><span class=\"blind\">다음</span></a> <div class=\"list_view\"> <div class=\"option_area\"> <div class=\"list_option_wrap\"> <ul class=\"list_option _NM_NEWSSTAND_MY_presslist\"> <!-- nvpaperlist:empty --> </ul> </div> </div> <div class=\"_NM_NEWSSTAND_ARTICLE_CONTAINER\" data-clk-sub=\"*a\">  </div> </div> <div class=\"ly_popup NM_NEWSSTAND_POPUP NM_NEWSSTAND_invalid\" style=\"display:none\"> <a href=\"#\" role=\"button\" class=\"btn_close NM_NEWSSTAND_POPUP_CLOSE\"><i class=\"ico_close\"></i><span class=\"blind\">닫기</span></a> <p class=\"popup_msg\">해당 언론사 사정으로 접근이 일시 제한됩니다.</p> <div class=\"popup_btn\"> <a href=\"#\" role=\"button\" class=\"btn_confirm NM_NEWSSTAND_POPUP_CLOSE\">확인</a> </div> </div> <div class=\"ly_popup NM_NEWSSTAND_POPUP NM_NEWSSTAND_undescribe_confirm\" style=\"display:none\" data-clk-sub=\"*a\"> <a href=\"#\" role=\"button\" class=\"btn_close NM_NEWSSTAND_POPUP_CLOSE\" data-clk=\"usclose\"><i class=\"ico_close\"></i><span class=\"blind\">닫기</span></a> <p class=\"popup_msg\"><strong class=\"NM_NEWSSTAND_POPUP_PNAME\"></strong>을(를)<br>구독해지 하시겠습니까?</p> <div class=\"popup_btn\"> <a href=\"#\" role=\"button\" class=\"btn_confirm NM_NEWSSTAND_POPUP_CONFIRM\" data-clk=\"usdone\">확인</a> <a href=\"#\" role=\"button\" class=\"btn_confirm NM_NEWSSTAND_POPUP_CLOSE\" data-clk=\"uscancel\">취소</a> </div> </div> </div> <div id=\"NM_NEWSSTAND_MY_THUMB\" class=\"group_news\" role=\"tabpanel\" style=\"display:none\" data-clk-prefix=\"nsd_myn\"> <a href=\"#\" role=\"button\" class=\"pm_btn_prev_l _NM_UI_PAGE_PREV\" data-clk-custom=\"prev\"><i class=\"ico_btn\"><span class=\"blind\">이전</span></i></a> <a href=\"#\" role=\"button\" class=\"pm_btn_next_l _NM_UI_PAGE_NEXT\" data-clk-custom=\"next\"><i class=\"ico_btn\"><span class=\"blind\">다음</span></i></a> <div class=\"_NM_UI_PAGE_CONTAINER\" data-clk-sub=\"*p\"></div> <div class=\"ly_popup NM_NEWSSTAND_POPUP NM_NEWSSTAND_invalid\" style=\"display:none\"> <a href=\"#\" role=\"button\" class=\"btn_close NM_NEWSSTAND_POPUP_CLOSE\"><i class=\"ico_close\"></i><span class=\"blind\">닫기</span></a> <p class=\"popup_msg\">해당 언론사 사정으로 접근이 제한됩니다.</p> <div class=\"popup_btn\"> <a href=\"#\" role=\"button\" class=\"btn_confirm NM_NEWSSTAND_POPUP_CLOSE\">확인</a> </div> </div> <div class=\"ly_popup NM_NEWSSTAND_POPUP NM_NEWSSTAND_undescribe_confirm\" style=\"display:none\" data-clk-sub=\"*a\"> <a href=\"#\" role=\"button\" class=\"btn_close NM_NEWSSTAND_POPUP_CLOSE\" data-clk=\"usclose\"><i class=\"ico_close\"></i><span class=\"blind\">닫기</span></a> <p class=\"popup_msg\"><strong class=\"NM_NEWSSTAND_POPUP_PNAME\"></strong>을(를)<br>구독해지 하시겠습니까?</p> <div class=\"popup_btn\"> <a href=\"#\" role=\"button\" class=\"btn_confirm NM_NEWSSTAND_POPUP_CONFIRM\" data-clk=\"usdone\">확인</a> <a href=\"#\" role=\"button\" class=\"btn_confirm NM_NEWSSTAND_POPUP_CLOSE\" data-clk=\"uscancel\">취소</a> </div> </div> </div> <div id=\"NM_NEWSSTAND_MY_EMPTY\" class=\"group_news\" role=\"tabpanel\" style=\"display:none\"> <div class=\"error_view\"> <div class=\"error_area\"> <strong class=\"error_msg\">구독한 언론사가 없습니다.</strong> <p class=\"dsc_msg\">언론사 구독 설정에서 관심있는 언론사를 구독하시면<br>언론사가 직접 편집한 뉴스들을 네이버 홈에서 바로 보실 수 있습니다.</p> <a href=\"http://newsstand.naver.com/config.html\" class=\"link_redirect\" target=\"_blank\">언론사 구독 설정하기</a> </div> </div> </div> </div> </div> <!-- EMPTY -->  <div id=\"NM_THEMECAST_CONTENTS_CONTAINER\"> <div id=\"themecast\" class=\"sc_themecast id_myfeed\" >\\n\\t<h2 class=\"blind\">주제별 캐스트</h2>\\n\\t<div class=\"theme_head\">\\n\\t\\t<div class=\"group_title\">\\n\\t<div class=\"title_area\">\\n\\t\\t<strong class=\"title\">오늘 읽을만한 글</strong><span class=\"dsc\">주제별로 분류된 다양한 글 모음</span>\\n\\t</div>\\n\\t<div id=\"MM_theme_nudge_area\" class=\"pm_new_main\" style=\"display: none;\">\\n\\t\\t<button type=\"button\" class=\"btn_notice\"><span class=\"blind\">알림</span></button>\\n\\t\\t<div class=\"ly_notice tip_down MM_tooltip\" style=\"display: none;\">\\n\\t\\t\\t<strong class=\"title\">‘오늘 읽을만한 글’에 중요한 공지가 있어요.</strong>\\n\\t\\t\\t<p class=\"desc\">5월 17일부터 오늘 읽을만한 글의 \\'스포츠, 엔터, 경제\\' 주제가 뉴스스탠드 영역에서 제공될 예정이에요.</p>\\n\\t\\t\\t<a href=\"https://blog.naver.com/naver_diary/223093359600\" target=\"_blank\" class=\"link_newmain\">새로운 PC 메인 보러가기</a>\\n\\t\\t\\t<button type=\"button\" class=\"btn_close\"><span class=\"blind\">닫기</span></button>\\n\\t\\t</div>\\n\\t</div>\\n\\t<div class=\"info_area\">\\n\\t\\t\\n\\t\\t\\t<span class=\"info\"><strong class=\"new\">648</strong> 개의 글</span>\\n\\t\\t\\n\\t\\t<a id=\"NM_THEME_EDIT_SET\" href=\"#\" role=\"button\" class=\"btn_set\" data-clk=\"tca.like\">관심주제 설정</a>\\n\\t</div>\\n</div>\\n<div id=\"NM_THEME_CATE_GROUPS\" class=\"group_category\" data-demo-key=\"default\">\\n\\t<div class=\"main_category\">\\n\\t\\t<a href=\"#\" role=\"button\" class=\"pm_btn_prev NM_THEME_PREV\" data-clk=\"tct.prev\" style=\"display: none;\">\\n\\t\\t\\t<i class=\"ico_btn\"><span class=\"blind\">이전</span></i>\\n\\t\\t</a>\\n\\t\\t<a href=\"#\" role=\"button\" class=\"pm_btn_next NM_THEME_NEXT\" data-clk=\"tct.next\" style=\"display: none;\">\\n\\t\\t\\t<i class=\"ico_btn\"><span class=\"blind\">다음</span></i>\\n\\t\\t</a>\\n\\t\\t<div class=\"list_category_wrap\">\\n\\t\\t\\t<ul id=\"NM_THEME_CATE_LIST\" class=\"list_category\" role=\"tablist\" data-index=\"0\">\\n\\t\\t\\t\\t\\n\\t\\t\\t\\t\\t<li class=\"category_item\" role=\"presentation\">\\n\\t\\t\\t\\t\\t\\t\\n\\t\\t\\t\\t\\t\\t\\n\\t\\t\\t\\t\\t\\t<a href=\"#\" role=\"tab\" class=\"_NM_THEME_CATE tab id_enter\"\\n\\t\\t\\t\\t\\t\\t   aria-selected=\"false\"\\n\\t\\t\\t\\t\\t\\t   aria-controls=\"NM_THEME_CONTAINER\"\\n\\t\\t\\t\\t\\t\\t   data-clk=\"tct.tvc\" data-panel-code=\"ENTER\">엔터</a>\\n\\t\\t\\t\\t\\t</li>\\n\\t\\t\\t\\t\\n\\t\\t\\t\\t\\t<li class=\"category_item\" role=\"presentation\">\\n\\t\\t\\t\\t\\t\\t\\n\\t\\t\\t\\t\\t\\t\\n\\t\\t\\t\\t\\t\\t<a href=\"#\" role=\"tab\" class=\"_NM_THEME_CATE tab id_sports\"\\n\\t\\t\\t\\t\\t\\t   aria-selected=\"false\"\\n\\t\\t\\t\\t\\t\\t   aria-controls=\"NM_THEME_CONTAINER\"\\n\\t\\t\\t\\t\\t\\t   data-clk=\"tct.spo\" data-panel-code=\"SPORTS\">스포츠</a>\\n\\t\\t\\t\\t\\t</li>\\n\\t\\t\\t\\t\\n\\t\\t\\t\\t\\t<li class=\"category_item\" role=\"presentation\">\\n\\t\\t\\t\\t\\t\\t\\n\\t\\t\\t\\t\\t\\t\\n\\t\\t\\t\\t\\t\\t<a href=\"#\" role=\"tab\" class=\"_NM_THEME_CATE tab id_cargame\"\\n\\t\\t\\t\\t\\t\\t   aria-selected=\"false\"\\n\\t\\t\\t\\t\\t\\t   aria-controls=\"NM_THEME_CONTAINER\"\\n\\t\\t\\t\\t\\t\\t   data-clk=\"tct.aut\" data-panel-code=\"CARGAME\">자동차</a>\\n\\t\\t\\t\\t\\t</li>\\n\\t\\t\\t\\t\\n\\t\\t\\t\\t\\t<li class=\"category_item\" role=\"presentation\">\\n\\t\\t\\t\\t\\t\\t\\n\\t\\t\\t\\t\\t\\t\\n\\t\\t\\t\\t\\t\\t<a href=\"#\" role=\"tab\" class=\"_NM_THEME_CATE tab id_bboom\"\\n\\t\\t\\t\\t\\t\\t   aria-selected=\"false\"\\n\\t\\t\\t\\t\\t\\t   aria-controls=\"NM_THEME_CONTAINER\"\\n\\t\\t\\t\\t\\t\\t   data-clk=\"tct.web\" data-panel-code=\"BBOOM\">웹툰</a>\\n\\t\\t\\t\\t\\t</li>\\n\\t\\t\\t\\t\\n\\t\\t\\t\\t\\t<li class=\"category_item\" role=\"presentation\">\\n\\t\\t\\t\\t\\t\\t\\n\\t\\t\\t\\t\\t\\t\\n\\t\\t\\t\\t\\t\\t<a href=\"#\" role=\"tab\" class=\"_NM_THEME_CATE tab id_finance\"\\n\\t\\t\\t\\t\\t\\t   aria-selected=\"false\"\\n\\t\\t\\t\\t\\t\\t   aria-controls=\"NM_THEME_CONTAINER\"\\n\\t\\t\\t\\t\\t\\t   data-clk=\"tct.fin\" data-panel-code=\"FINANCE\">경제</a>\\n\\t\\t\\t\\t\\t</li>\\n\\t\\t\\t\\t\\n\\t\\t\\t\\t\\t<li class=\"category_item\" role=\"presentation\">\\n\\t\\t\\t\\t\\t\\t\\n\\t\\t\\t\\t\\t\\t\\n\\t\\t\\t\\t\\t\\t<a href=\"#\" role=\"tab\" class=\"_NM_THEME_CATE tab id_myfeed\"\\n\\t\\t\\t\\t\\t\\t   aria-selected=\"true\"\\n\\t\\t\\t\\t\\t\\t   aria-controls=\"NM_THEME_CONTAINER\"\\n\\t\\t\\t\\t\\t\\t   data-clk=\"tct.sub\" data-panel-code=\"MYFEED\">추천<span class=\\'ico_middot\\'></span>구독</a>\\n\\t\\t\\t\\t\\t</li>\\n\\t\\t\\t\\t\\n\\t\\t\\t\\t\\t<li class=\"category_item\" role=\"presentation\">\\n\\t\\t\\t\\t\\t\\t\\n\\t\\t\\t\\t\\t\\t\\n\\t\\t\\t\\t\\t\\t<a href=\"#\" role=\"tab\" class=\"_NM_THEME_CATE tab id_living\"\\n\\t\\t\\t\\t\\t\\t   aria-selected=\"false\"\\n\\t\\t\\t\\t\\t\\t   aria-controls=\"NM_THEME_CONTAINER\"\\n\\t\\t\\t\\t\\t\\t   data-clk=\"tct.fod\" data-panel-code=\"LIVING\">레시피</a>\\n\\t\\t\\t\\t\\t</li>\\n\\t\\t\\t\\t\\n\\t\\t\\t\\t\\t<li class=\"category_item\" role=\"presentation\">\\n\\t\\t\\t\\t\\t\\t\\n\\t\\t\\t\\t\\t\\t\\n\\t\\t\\t\\t\\t\\t<a href=\"#\" role=\"tab\" class=\"_NM_THEME_CATE tab id_livinghome\"\\n\\t\\t\\t\\t\\t\\t   aria-selected=\"false\"\\n\\t\\t\\t\\t\\t\\t   aria-controls=\"NM_THEME_CONTAINER\"\\n\\t\\t\\t\\t\\t\\t   data-clk=\"tct.lif\" data-panel-code=\"LIVINGHOME\">리빙</a>\\n\\t\\t\\t\\t\\t</li>\\n\\t\\t\\t\\t\\n\\t\\t\\t\\t\\t<li class=\"category_item\" role=\"presentation\">\\n\\t\\t\\t\\t\\t\\t\\n\\t\\t\\t\\t\\t\\t\\n\\t\\t\\t\\t\\t\\t<a href=\"#\" role=\"tab\" class=\"_NM_THEME_CATE tab id_culture\"\\n\\t\\t\\t\\t\\t\\t   aria-selected=\"false\"\\n\\t\\t\\t\\t\\t\\t   aria-controls=\"NM_THEME_CONTAINER\"\\n\\t\\t\\t\\t\\t\\t   data-clk=\"tct.bok\" data-panel-code=\"CULTURE\">책방</a>\\n\\t\\t\\t\\t\\t</li>\\n\\t\\t\\t\\t\\n\\t\\t\\t\\t\\t<li class=\"category_item\" role=\"presentation\">\\n\\t\\t\\t\\t\\t\\t\\n\\t\\t\\t\\t\\t\\t\\n\\t\\t\\t\\t\\t\\t<a href=\"#\" role=\"tab\" class=\"_NM_THEME_CATE tab id_beauty\"\\n\\t\\t\\t\\t\\t\\t   aria-selected=\"false\"\\n\\t\\t\\t\\t\\t\\t   aria-controls=\"NM_THEME_CONTAINER\"\\n\\t\\t\\t\\t\\t\\t   data-clk=\"tct.bty\" data-panel-code=\"BEAUTY\">패션뷰티</a>\\n\\t\\t\\t\\t\\t</li>\\n\\t\\t\\t\\t\\n\\t\\t\\t</ul>\\n\\t\\t</div>\\n\\t</div>\\n</div>\\n\\n\\t</div>\\n\\t<div id=\"NM_THEME_CONTAINER\" class=\"theme_cont\" role=\"tabpanel\" data-panel-code=\"MYFEED-RECOMMEND\" data-parent-code=\"MYFEED\">\\n\\t\\t<div class=\"theme_tab\" data-block-id=\"61ba916fa10d30068567e416\" data-block-code=\"PC-THEME-MYFEED-TAB\" data-block-type=\"PC-THEME-SUBTAB-BLOCK\" data-template-code=\"THEME-SUBTAB\"\\n>\\n\\n\\t<a href=\"https://myfeed.naver.com/index.nhn\" class=\"link_more\" data-clk=\"tcc_sub.submore\"><em class=\"highlight\">구독</em> 새글 보기</a>\\n\\n\\n\\t<ul class=\"list_tab\" role=\"tablist\">\\n\\t\\t\\n\\t\\t<li class=\"tab_item is_select \" role=\"presentation\">\\n\\t\\t\\t<a href=\"#\" class=\"tab NM_THEME_SUBTAB_ITEM\" role=\"tab\" aria-selected=\"true\" data-clk=\"tcc_sub.keytab1\" data-subtab-panel=\"MYFEED-RECOMMEND\" data-subtab-query=\"\">전체</a>\\n\\t\\t</li>\\n\\t\\t\\n\\t\\t<li class=\"tab_item  \" role=\"presentation\">\\n\\t\\t\\t<a href=\"#\" class=\"tab NM_THEME_SUBTAB_ITEM\" role=\"tab\" aria-selected=\"false\" data-clk=\"tcc_sub.keytab2\" data-subtab-panel=\"MYFEED-BEST\" data-subtab-query=\"\">인기</a>\\n\\t\\t</li>\\n\\t\\t\\n\\t\\t<li class=\"tab_item  type_custom_init\" role=\"presentation\">\\n\\t\\t\\t<a href=\"#\" class=\"tab NM_THEME_SUBTAB_ITEM\" role=\"tab\" aria-selected=\"false\" data-clk=\"tcc_sub.keytab3\" data-subtab-panel=\"MYFEED-GAMEAPP\" data-subtab-query=\"\"><i class=\"ico_game\"></i>게임</a>\\n\\t\\t</li>\\n\\t\\t\\n\\t\\t<li class=\"tab_item  \" role=\"presentation\">\\n\\t\\t\\t<a href=\"#\" class=\"tab NM_THEME_SUBTAB_ITEM\" role=\"tab\" aria-selected=\"false\" data-clk=\"tcc_sub.keytab4\" data-subtab-panel=\"MYFEED-HEALTH\" data-subtab-query=\"\"><i class=\"ico_health\"></i>건강</a>\\n\\t\\t</li>\\n\\t\\t\\n\\t\\t<li class=\"tab_item  \" role=\"presentation\">\\n\\t\\t\\t<a href=\"#\" class=\"tab NM_THEME_SUBTAB_ITEM\" role=\"tab\" aria-selected=\"false\" data-clk=\"tcc_sub.keytab5\" data-subtab-panel=\"MYFEED-LANGUAGE\" data-subtab-query=\"\"><i class=\"ico_language\"></i>어학</a>\\n\\t\\t</li>\\n\\t\\t\\n\\t\\t<li class=\"tab_item  \" role=\"presentation\">\\n\\t\\t\\t<a href=\"#\" class=\"tab NM_THEME_SUBTAB_ITEM\" role=\"tab\" aria-selected=\"false\" data-clk=\"tcc_sub.keytab6\" data-subtab-panel=\"MYFEED-MOMKIDS\" data-subtab-query=\"keytab6\"><i class=\"ico_momkids\"></i>육아</a>\\n\\t\\t</li>\\n\\t\\t\\n\\t\\t<li class=\"tab_item  \" role=\"presentation\">\\n\\t\\t\\t<a href=\"#\" class=\"tab NM_THEME_SUBTAB_ITEM\" role=\"tab\" aria-selected=\"false\" data-clk=\"tcc_sub.keytab7\" data-subtab-panel=\"MYFEED-SCIENCE\" data-subtab-query=\"keytab7\"><i class=\"ico_science\"></i>과학</a>\\n\\t\\t</li>\\n\\t\\t\\n\\t</ul>\\n\\n</div>\\n\\n\\n<div class=\"group_theme\" data-block-id=\"61bae4ada10d3006850d7537\" data-block-code=\"PC-THEME-MYFEED-RECOMMEND-0\" data-block-type=\"PC-MYFEED-BLOCK\" data-template-code=\"3X3\"\\n\\n     data-page=\"1\"\\n     >\\n\\n\\t<div class=\"media_view_wrap type_column\">\\n\\t\\t<div class=\"media_view\">\\n\\t\\t\\t\\n\\t\\t\\t\\t\\n\\t\\t\\t\\t\\t<a href=\"https://in.naver.com/cocochanel/contents/internal/558148432905472\" class=\"media_area\" data-da-position=\"true\" data-gdid=\"90000003_0000000000000033F0FFC278\"\\n\\t\\t\\t\\t\\t   data-clk=\"tcc_sub.list1cont1\" target=\"_blank\">\\n\\t\\t\\t\\t\\t\\t<div class=\"media_thumb\">\\n\\t\\t\\t\\t\\t\\t\\t<img src=\"https://s.pstatic.net/dthumb.phinf/?src&#x3D;%22https%3A%2F%2Fdiscovercrop-phinf.pstatic.net%2F%2FMjAyMzA0MjdfMjAx%2FMDAxNjgyNTc1OTQ0MzMw.ebdqpCnPW9GqhOuoF41dTMFwsE3DK_abzXIS0X5_hiIg.EEjImwFFNEOyGPdnjudQ8TNQBdqJC0Qq6Qme8Ft-VtQg.JPEG%2Fimage_750x420.jpg%22&amp;type&#x3D;nf464_260\"\\n\\t\\t\\t\\t\\t\\t\\t     data-src=\"https://s.pstatic.net/dthumb.phinf/?src&#x3D;%22https%3A%2F%2Fdiscovercrop-phinf.pstatic.net%2F%2FMjAyMzA0MjdfMjAx%2FMDAxNjgyNTc1OTQ0MzMw.ebdqpCnPW9GqhOuoF41dTMFwsE3DK_abzXIS0X5_hiIg.EEjImwFFNEOyGPdnjudQ8TNQBdqJC0Qq6Qme8Ft-VtQg.JPEG%2Fimage_750x420.jpg%22&amp;type&#x3D;nf464_260\" alt=\"\" width=\"232\" height=\"130\"\\n\\t\\t\\t\\t\\t\\t\\t     onerror=\"this.outerHTML=\\'<span class=\\\\\\'pm_noimg\\\\\\'><span class=\\\\\\'noimg_text\\\\\\'>이미지 준비중</span></span>\\'\">\\n\\n\\t\\t\\t\\t\\t\\t\\t\\n\\t\\t\\t\\t\\t\\t\\t\\t<span class=\"thumb_bd\"></span>\\n\\t\\t\\t\\t\\t\\t\\t\\t\\n\\t\\t\\t\\t\\t\\t\\t\\n\\t\\t\\t\\t\\t\\t</div>\\n\\t\\t\\t\\t\\t\\t<div class=\"media_info\">\\n\\t\\t\\t\\t\\t\\t\\t<div class=\"info_box\">\\n\\t\\t\\t\\t\\t\\t\\t\\t\\n\\t\\t\\t\\t\\t\\t\\t\\t\\n\\t\\t\\t\\t\\t\\t\\t\\t<strong class=\"title \">장희진 2만원대 자라셔츠 하나로 화보를 만듦</strong>\\n\\t\\t\\t\\t\\t\\t\\t\\t<div class=\"source_wrap\">\\n\\t\\t\\t\\t\\t\\t\\t\\t\\t\\n\\t\\t\\t\\t\\t\\t\\t\\t\\t\\t<span class=\"date\">1주일 전</span>\\n\\t\\t\\t\\t\\t\\t\\t\\t\\t\\t<span class=\"source\">\\n\\t\\t\\t\\t\\t\\t\\t\\t\\t\\t\\t\\n\\t\\t\\t\\t\\t\\t\\t\\t\\t\\t\\t\\t<span class=\"source_thumb\"><img\\n\\t\\t\\t\\t\\t\\t\\t\\t\\t\\t\\t\\t\\t\\tsrc=\"https://s.pstatic.net/dthumb.phinf/?src&#x3D;%22http%3A%2F%2Fblogpfthumb.phinf.naver.net%2FMjAyMTA4MDFfMjYw%2FMDAxNjI3ODA4ODA4OTIx.lpcY9ipo9AX8-gths84_woVFVfOm5s51NJMhI0PqWVcg.MHyqEq9Pw49SDKa8gdEm3zYrCF9dU2beuIgDKSgfRpMg.JPEG.cocoleenice%2FRNI-Films-IMG-EAF85A92-AB9B-452F-84B1-0274C6032C0F%2B2.JPG%22&amp;type&#x3D;navermain_nf40_40\"\\n\\t\\t\\t\\t\\t\\t\\t\\t\\t\\t\\t\\t\\t\\tdata-src=\"https://s.pstatic.net/dthumb.phinf/?src&#x3D;%22http%3A%2F%2Fblogpfthumb.phinf.naver.net%2FMjAyMTA4MDFfMjYw%2FMDAxNjI3ODA4ODA4OTIx.lpcY9ipo9AX8-gths84_woVFVfOm5s51NJMhI0PqWVcg.MHyqEq9Pw49SDKa8gdEm3zYrCF9dU2beuIgDKSgfRpMg.JPEG.cocoleenice%2FRNI-Films-IMG-EAF85A92-AB9B-452F-84B1-0274C6032C0F%2B2.JPG%22&amp;type&#x3D;navermain_nf40_40\" alt=\"\" width=\"20\" height=\"20\"\\n\\t\\t\\t\\t\\t\\t\\t\\t\\t\\t\\t\\t\\t\\tonerror=\"this.outerHTML=\\'<i class=\\\\\\'pm_source_noimg\\\\\\'><span class=\\\\\\'blind\\\\\\'>이미지준비중</span></i>\\'\"></span>\\n\\t\\t\\t\\t\\t\\t\\t\\t\\t\\t\\t\\n\\t\\t\\t\\t\\t\\t\\t\\t\\t\\t<span class=\"source_inner\">\\n\\t\\t\\t\\t\\t\\t\\t\\t\\t\\t\\t<em class=\"theme_hl\">인플루언서</em>매거진파리</span>\\n\\t\\t\\t\\t\\t\\t\\t\\t\\t\\t</span>\\n\\t\\t\\t\\t\\t\\t\\t\\t\\t\\n\\t\\t\\t\\t\\t\\t\\t\\t</div>\\n\\t\\t\\t\\t\\t\\t\\t</div>\\n\\t\\t\\t\\t\\t\\t</div>\\n\\t\\t\\t\\t\\t</a>\\n\\t\\t\\t\\t\\n\\t\\t\\t\\n\\t\\t\\t\\t\\n\\t\\t\\t\\t\\t<a href=\"https://in.naver.com/lovelybride/contents/internal/558220609123360\" class=\"media_area\" data-da-position=\"true\" data-gdid=\"90000003_0000000000000033F1042459\"\\n\\t\\t\\t\\t\\t   data-clk=\"tcc_sub.list1cont2\" target=\"_blank\">\\n\\t\\t\\t\\t\\t\\t<div class=\"media_thumb\">\\n\\t\\t\\t\\t\\t\\t\\t<img src=\"https://s.pstatic.net/dthumb.phinf/?src&#x3D;%22http%3A%2F%2Fblogfiles.naver.net%2FMjAyMzA0MjdfMjAy%2FMDAxNjgyNTg0OTg0NjUy.Q3w9hhbdy2H2mvLlGmz9Rnm8m-Imfdo7jlFUVSjmf8Ag.Kcg47P9E89YRh_3EE7yU3fVvxgMasdFpPTEaQArBsnwg.JPEG.y781008%2F4436batch_794129KakaoTalk_20230306_023324404_0001010286.jpg%22&amp;type&#x3D;nf464_260\"\\n\\t\\t\\t\\t\\t\\t\\t     data-src=\"https://s.pstatic.net/dthumb.phinf/?src&#x3D;%22http%3A%2F%2Fblogfiles.naver.net%2FMjAyMzA0MjdfMjAy%2FMDAxNjgyNTg0OTg0NjUy.Q3w9hhbdy2H2mvLlGmz9Rnm8m-Imfdo7jlFUVSjmf8Ag.Kcg47P9E89YRh_3EE7yU3fVvxgMasdFpPTEaQArBsnwg.JPEG.y781008%2F4436batch_794129KakaoTalk_20230306_023324404_0001010286.jpg%22&amp;type&#x3D;nf464_260\" alt=\"\" width=\"232\" height=\"130\"\\n\\t\\t\\t\\t\\t\\t\\t     onerror=\"this.outerHTML=\\'<span class=\\\\\\'pm_noimg\\\\\\'><span class=\\\\\\'noimg_text\\\\\\'>이미지 준비중</span></span>\\'\">\\n\\n\\t\\t\\t\\t\\t\\t\\t\\n\\t\\t\\t\\t\\t\\t\\t\\t<span class=\"thumb_bd\"></span>\\n\\t\\t\\t\\t\\t\\t\\t\\t\\n\\t\\t\\t\\t\\t\\t\\t\\n\\t\\t\\t\\t\\t\\t</div>\\n\\t\\t\\t\\t\\t\\t<div class=\"media_info\">\\n\\t\\t\\t\\t\\t\\t\\t<div class=\"info_box\">\\n\\t\\t\\t\\t\\t\\t\\t\\t\\n\\t\\t\\t\\t\\t\\t\\t\\t\\n\\t\\t\\t\\t\\t\\t\\t\\t<strong class=\"title \">손예진 출산 후 근황 여전히 예쁜 롱슬리브 세미 머메이드 드레스 연예인 패션 정보</strong>\\n\\t\\t\\t\\t\\t\\t\\t\\t<div class=\"source_wrap\">\\n\\t\\t\\t\\t\\t\\t\\t\\t\\t\\n\\t\\t\\t\\t\\t\\t\\t\\t\\t\\t<span class=\"date\">1주일 전</span>\\n\\t\\t\\t\\t\\t\\t\\t\\t\\t\\t<span class=\"source\">\\n\\t\\t\\t\\t\\t\\t\\t\\t\\t\\t\\t\\n\\t\\t\\t\\t\\t\\t\\t\\t\\t\\t\\t\\t<span class=\"source_thumb\"><img\\n\\t\\t\\t\\t\\t\\t\\t\\t\\t\\t\\t\\t\\t\\tsrc=\"https://s.pstatic.net/dthumb.phinf/?src&#x3D;%22http%3A%2F%2Fblogpfthumb.phinf.naver.net%2FMjAyMzAzMDZfMTkz%2FMDAxNjc4MDM3Njk0NDYx.4CahmN3FiOP6AnQYZ4o8ECfO5ZWfCN59JsZu4GVPhKMg.t8f_T-DgwPZxkMWFd8piW4-WkMwjf6gf41b9FSU0EOkg.JPEG.y781008%2FprofileImage.jpg%22&amp;type&#x3D;navermain_nf40_40\"\\n\\t\\t\\t\\t\\t\\t\\t\\t\\t\\t\\t\\t\\t\\tdata-src=\"https://s.pstatic.net/dthumb.phinf/?src&#x3D;%22http%3A%2F%2Fblogpfthumb.phinf.naver.net%2FMjAyMzAzMDZfMTkz%2FMDAxNjc4MDM3Njk0NDYx.4CahmN3FiOP6AnQYZ4o8ECfO5ZWfCN59JsZu4GVPhKMg.t8f_T-DgwPZxkMWFd8piW4-WkMwjf6gf41b9FSU0EOkg.JPEG.y781008%2FprofileImage.jpg%22&amp;type&#x3D;navermain_nf40_40\" alt=\"\" width=\"20\" height=\"20\"\\n\\t\\t\\t\\t\\t\\t\\t\\t\\t\\t\\t\\t\\t\\tonerror=\"this.outerHTML=\\'<i class=\\\\\\'pm_source_noimg\\\\\\'><span class=\\\\\\'blind\\\\\\'>이미지준비중</span></i>\\'\"></span>\\n\\t\\t\\t\\t\\t\\t\\t\\t\\t\\t\\t\\n\\t\\t\\t\\t\\t\\t\\t\\t\\t\\t<span class=\"source_inner\">\\n\\t\\t\\t\\t\\t\\t\\t\\t\\t\\t\\t<em class=\"theme_hl\">인플루언서</em>빅사이즈 웨딩드레스</span>\\n\\t\\t\\t\\t\\t\\t\\t\\t\\t\\t</span>\\n\\t\\t\\t\\t\\t\\t\\t\\t\\t\\n\\t\\t\\t\\t\\t\\t\\t\\t</div>\\n\\t\\t\\t\\t\\t\\t\\t</div>\\n\\t\\t\\t\\t\\t\\t</div>\\n\\t\\t\\t\\t\\t</a>\\n\\t\\t\\t\\t\\n\\t\\t\\t\\n\\t\\t\\t\\t\\n\\t\\t\\t\\t\\t<a href=\"https://in.naver.com/bloom/contents/internal/556278504293696\" class=\"media_area\" data-da-position=\"true\" data-gdid=\"90000003_0000000000000033F0B672CF\"\\n\\t\\t\\t\\t\\t   data-clk=\"tcc_sub.list1cont3\" target=\"_blank\">\\n\\t\\t\\t\\t\\t\\t<div class=\"media_thumb\">\\n\\t\\t\\t\\t\\t\\t\\t<img src=\"https://s.pstatic.net/dthumb.phinf/?src&#x3D;%22https%3A%2F%2Fdiscovercrop-phinf.pstatic.net%2F%2FMjAyMzA0MjJfMTUg%2FMDAxNjgyMTI0MTk3MDE2.cC0TIzgY7jRqoHpWWk3VeZafPpm7-wLoCniNtRt8gp8g.mGbR3vkBn65BusIJZQza-RlkdkzVhQRtrdcCiigJm84g.JPEG%2Fimage_374x246.jpg%22&amp;type&#x3D;nf464_260\"\\n\\t\\t\\t\\t\\t\\t\\t     data-src=\"https://s.pstatic.net/dthumb.phinf/?src&#x3D;%22https%3A%2F%2Fdiscovercrop-phinf.pstatic.net%2F%2FMjAyMzA0MjJfMTUg%2FMDAxNjgyMTI0MTk3MDE2.cC0TIzgY7jRqoHpWWk3VeZafPpm7-wLoCniNtRt8gp8g.mGbR3vkBn65BusIJZQza-RlkdkzVhQRtrdcCiigJm84g.JPEG%2Fimage_374x246.jpg%22&amp;type&#x3D;nf464_260\" alt=\"\" width=\"232\" height=\"130\"\\n\\t\\t\\t\\t\\t\\t\\t     onerror=\"this.outerHTML=\\'<span class=\\\\\\'pm_noimg\\\\\\'><span class=\\\\\\'noimg_text\\\\\\'>이미지 준비중</span></span>\\'\">\\n\\n\\t\\t\\t\\t\\t\\t\\t\\n\\t\\t\\t\\t\\t\\t\\t\\t<span class=\"thumb_bd\"></span>\\n\\t\\t\\t\\t\\t\\t\\t\\t\\n\\t\\t\\t\\t\\t\\t\\t\\n\\t\\t\\t\\t\\t\\t</div>\\n\\t\\t\\t\\t\\t\\t<div class=\"media_info\">\\n\\t\\t\\t\\t\\t\\t\\t<div class=\"info_box\">\\n\\t\\t\\t\\t\\t\\t\\t\\t\\n\\t\\t\\t\\t\\t\\t\\t\\t\\n\\t\\t\\t\\t\\t\\t\\t\\t<strong class=\"title \">집에서 일하는 주부의 부수입 1억 모으기 성공</strong>\\n\\t\\t\\t\\t\\t\\t\\t\\t<div class=\"source_wrap\">\\n\\t\\t\\t\\t\\t\\t\\t\\t\\t\\n\\t\\t\\t\\t\\t\\t\\t\\t\\t\\t<span class=\"date\">1주일 전</span>\\n\\t\\t\\t\\t\\t\\t\\t\\t\\t\\t<span class=\"source\">\\n\\t\\t\\t\\t\\t\\t\\t\\t\\t\\t\\t\\n\\t\\t\\t\\t\\t\\t\\t\\t\\t\\t\\t\\t<span class=\"source_thumb\"><img\\n\\t\\t\\t\\t\\t\\t\\t\\t\\t\\t\\t\\t\\t\\tsrc=\"https://s.pstatic.net/dthumb.phinf/?src&#x3D;%22http%3A%2F%2Fblogpfthumb.phinf.naver.net%2FMjAxNzA2MjRfMjcz%2FMDAxNDk4Mjc3OTI0NjI2.LFtmMsYMpRj1rjyXCGZ-alsMrqWBHTg5IZawW4LyYHMg.czIxhLQ0OZTuR7pqX6lAQeOE2IriRFelHIEOulVrPqcg.JPEG.ishiseido77%2FprofileImage.jpg%22&amp;type&#x3D;navermain_nf40_40\"\\n\\t\\t\\t\\t\\t\\t\\t\\t\\t\\t\\t\\t\\t\\tdata-src=\"https://s.pstatic.net/dthumb.phinf/?src&#x3D;%22http%3A%2F%2Fblogpfthumb.phinf.naver.net%2FMjAxNzA2MjRfMjcz%2FMDAxNDk4Mjc3OTI0NjI2.LFtmMsYMpRj1rjyXCGZ-alsMrqWBHTg5IZawW4LyYHMg.czIxhLQ0OZTuR7pqX6lAQeOE2IriRFelHIEOulVrPqcg.JPEG.ishiseido77%2FprofileImage.jpg%22&amp;type&#x3D;navermain_nf40_40\" alt=\"\" width=\"20\" height=\"20\"\\n\\t\\t\\t\\t\\t\\t\\t\\t\\t\\t\\t\\t\\t\\tonerror=\"this.outerHTML=\\'<i class=\\\\\\'pm_source_noimg\\\\\\'><span class=\\\\\\'blind\\\\\\'>이미지준비중</span></i>\\'\"></span>\\n\\t\\t\\t\\t\\t\\t\\t\\t\\t\\t\\t\\n\\t\\t\\t\\t\\t\\t\\t\\t\\t\\t<span class=\"source_inner\">\\n\\t\\t\\t\\t\\t\\t\\t\\t\\t\\t\\t<em class=\"theme_hl\">인플루언서</em>블룸앤아이유</span>\\n\\t\\t\\t\\t\\t\\t\\t\\t\\t\\t</span>\\n\\t\\t\\t\\t\\t\\t\\t\\t\\t\\n\\t\\t\\t\\t\\t\\t\\t\\t</div>\\n\\t\\t\\t\\t\\t\\t\\t</div>\\n\\t\\t\\t\\t\\t\\t</div>\\n\\t\\t\\t\\t\\t</a>\\n\\t\\t\\t\\t\\n\\t\\t\\t\\n\\t\\t\\t\\t\\n\\t\\t\\t\\t\\t<a href=\"https://m.post.naver.com/viewer/postView.naver?volumeNo&#x3D;35836792&amp;memberNo&#x3D;38753951&amp;vType&#x3D;VERTICAL\" class=\"media_area\" data-da-position=\"true\" data-gdid=\"00055f7ca0_000222d378\"\\n\\t\\t\\t\\t\\t   data-clk=\"tcc_sub.list1cont4\" target=\"_blank\">\\n\\t\\t\\t\\t\\t\\t<div class=\"media_thumb\">\\n\\t\\t\\t\\t\\t\\t\\t<img src=\"https://s.pstatic.net/dthumb.phinf/?src&#x3D;%22https%3A%2F%2Fdiscovercrop-phinf.pstatic.net%2F%2FMjAyMzA0MjZfMjEz%2FMDAxNjgyNDYwNTk1NTI0.wQiGUuyyI2EScnv85h5cJ3eWKQBOaaW9qZJS913Y9ygg.kQIPo5wM0eoj9oda-ZZDoZ-ydfm3xOOQwPQdMOZnkjAg.JPEG%2Fimage_374x246.jpg%22&amp;type&#x3D;nf464_260\"\\n\\t\\t\\t\\t\\t\\t\\t     data-src=\"https://s.pstatic.net/dthumb.phinf/?src&#x3D;%22https%3A%2F%2Fdiscovercrop-phinf.pstatic.net%2F%2FMjAyMzA0MjZfMjEz%2FMDAxNjgyNDYwNTk1NTI0.wQiGUuyyI2EScnv85h5cJ3eWKQBOaaW9qZJS913Y9ygg.kQIPo5wM0eoj9oda-ZZDoZ-ydfm3xOOQwPQdMOZnkjAg.JPEG%2Fimage_374x246.jpg%22&amp;type&#x3D;nf464_260\" alt=\"\" width=\"232\" height=\"130\"\\n\\t\\t\\t\\t\\t\\t\\t     onerror=\"this.outerHTML=\\'<span class=\\\\\\'pm_noimg\\\\\\'><span class=\\\\\\'noimg_text\\\\\\'>이미지 준비중</span></span>\\'\">\\n\\n\\t\\t\\t\\t\\t\\t\\t\\n\\t\\t\\t\\t\\t\\t\\t\\t<span class=\"thumb_bd\"></span>\\n\\t\\t\\t\\t\\t\\t\\t\\t\\n\\t\\t\\t\\t\\t\\t\\t\\n\\t\\t\\t\\t\\t\\t</div>\\n\\t\\t\\t\\t\\t\\t<div class=\"media_info\">\\n\\t\\t\\t\\t\\t\\t\\t<div class=\"info_box\">\\n\\t\\t\\t\\t\\t\\t\\t\\t\\n\\t\\t\\t\\t\\t\\t\\t\\t\\n\\t\\t\\t\\t\\t\\t\\t\\t<strong class=\"title \">2030 여성들이 꼽은 최악의 소개팅 장소, \"저희 교회 예쁜데..\" [대신 정해드립니다]</strong>\\n\\t\\t\\t\\t\\t\\t\\t\\t<div class=\"source_wrap\">\\n\\t\\t\\t\\t\\t\\t\\t\\t\\t\\n\\t\\t\\t\\t\\t\\t\\t\\t\\t\\t<span class=\"date\">1주일 전</span>\\n\\t\\t\\t\\t\\t\\t\\t\\t\\t\\t<span class=\"source\">\\n\\t\\t\\t\\t\\t\\t\\t\\t\\t\\t\\t\\n\\t\\t\\t\\t\\t\\t\\t\\t\\t\\t\\t\\t<span class=\"source_thumb\"><img\\n\\t\\t\\t\\t\\t\\t\\t\\t\\t\\t\\t\\t\\t\\tsrc=\"https://s.pstatic.net/dthumb.phinf/?src&#x3D;%22https%3A%2F%2Fs.pstatic.net%2Fpost.phinf%2FMjAxOTAxMTZfMTMg%2FMDAxNTQ3NjE5ODk2NTc2.vn4o_TvjwIa-jpyI9uPT0Lq7UhkwizGBuRL3GH1tFZUg.chbp4X5ZmZKpkLu4bxrprCMDYM0fWkR0N5MuFv9F4NQg.JPEG%2Fpost_784555884290153518.jpg%3Ftype%3Df200_200%22&amp;type&#x3D;navermain_nf40_40\"\\n\\t\\t\\t\\t\\t\\t\\t\\t\\t\\t\\t\\t\\t\\tdata-src=\"https://s.pstatic.net/dthumb.phinf/?src&#x3D;%22https%3A%2F%2Fs.pstatic.net%2Fpost.phinf%2FMjAxOTAxMTZfMTMg%2FMDAxNTQ3NjE5ODk2NTc2.vn4o_TvjwIa-jpyI9uPT0Lq7UhkwizGBuRL3GH1tFZUg.chbp4X5ZmZKpkLu4bxrprCMDYM0fWkR0N5MuFv9F4NQg.JPEG%2Fpost_784555884290153518.jpg%3Ftype%3Df200_200%22&amp;type&#x3D;navermain_nf40_40\" alt=\"\" width=\"20\" height=\"20\"\\n\\t\\t\\t\\t\\t\\t\\t\\t\\t\\t\\t\\t\\t\\tonerror=\"this.outerHTML=\\'<i class=\\\\\\'pm_source_noimg\\\\\\'><span class=\\\\\\'blind\\\\\\'>이미지준비중</span></i>\\'\"></span>\\n\\t\\t\\t\\t\\t\\t\\t\\t\\t\\t\\t\\n\\t\\t\\t\\t\\t\\t\\t\\t\\t\\t<span class=\"source_inner\">네이버 연애결혼</span>\\n\\t\\t\\t\\t\\t\\t\\t\\t\\t\\t</span>\\n\\t\\t\\t\\t\\t\\t\\t\\t\\t\\n\\t\\t\\t\\t\\t\\t\\t\\t</div>\\n\\t\\t\\t\\t\\t\\t\\t</div>\\n\\t\\t\\t\\t\\t\\t</div>\\n\\t\\t\\t\\t\\t</a>\\n\\t\\t\\t\\t\\n\\t\\t\\t\\n\\t\\t\\t\\t\\n\\t\\t\\t\\t\\t<a href=\"https://in.naver.com/easycook/contents/internal/557034143544704\" class=\"media_area\" data-da-position=\"true\" data-gdid=\"90000003_0000000000000033F0CBE69A\"\\n\\t\\t\\t\\t\\t   data-clk=\"tcc_sub.list1cont5\" target=\"_blank\">\\n\\t\\t\\t\\t\\t\\t<div class=\"media_thumb\">\\n\\t\\t\\t\\t\\t\\t\\t<img src=\"https://s.pstatic.net/dthumb.phinf/?src&#x3D;%22http%3A%2F%2Fblogfiles.naver.net%2FMjAyMzA0MjNfMTA2%2FMDAxNjgyMjUwMzIzOTc0.y2ZZ15hCEoRye0A-lNgUZSzO8Ak7feyuVS1TcXOPXqEg.g6k5P88KFt7yc2bDem4x2pdZqoAi0Wraf9bp_BRRPiwg.JPEG.s_cook%2F20230423_01.jpg%22&amp;type&#x3D;nf464_260\"\\n\\t\\t\\t\\t\\t\\t\\t     data-src=\"https://s.pstatic.net/dthumb.phinf/?src&#x3D;%22http%3A%2F%2Fblogfiles.naver.net%2FMjAyMzA0MjNfMTA2%2FMDAxNjgyMjUwMzIzOTc0.y2ZZ15hCEoRye0A-lNgUZSzO8Ak7feyuVS1TcXOPXqEg.g6k5P88KFt7yc2bDem4x2pdZqoAi0Wraf9bp_BRRPiwg.JPEG.s_cook%2F20230423_01.jpg%22&amp;type&#x3D;nf464_260\" alt=\"\" width=\"232\" height=\"130\"\\n\\t\\t\\t\\t\\t\\t\\t     onerror=\"this.outerHTML=\\'<span class=\\\\\\'pm_noimg\\\\\\'><span class=\\\\\\'noimg_text\\\\\\'>이미지 준비중</span></span>\\'\">\\n\\n\\t\\t\\t\\t\\t\\t\\t\\n\\t\\t\\t\\t\\t\\t\\t\\t<span class=\"thumb_bd\"></span>\\n\\t\\t\\t\\t\\t\\t\\t\\t\\n\\t\\t\\t\\t\\t\\t\\t\\n\\t\\t\\t\\t\\t\\t</div>\\n\\t\\t\\t\\t\\t\\t<div class=\"media_info\">\\n\\t\\t\\t\\t\\t\\t\\t<div class=\"info_box\">\\n\\t\\t\\t\\t\\t\\t\\t\\t\\n\\t\\t\\t\\t\\t\\t\\t\\t\\n\\t\\t\\t\\t\\t\\t\\t\\t<strong class=\"title \">계란 아직도 삶아서 드시나요? 이제부터 계란은 압력솥에 쪄서 드세요. 5분 내로 계란 찌는 법 계란 찌는 시간</strong>\\n\\t\\t\\t\\t\\t\\t\\t\\t<div class=\"source_wrap\">\\n\\t\\t\\t\\t\\t\\t\\t\\t\\t\\n\\t\\t\\t\\t\\t\\t\\t\\t\\t\\t<span class=\"date\">1주일 전</span>\\n\\t\\t\\t\\t\\t\\t\\t\\t\\t\\t<span class=\"source\">\\n\\t\\t\\t\\t\\t\\t\\t\\t\\t\\t\\t\\n\\t\\t\\t\\t\\t\\t\\t\\t\\t\\t\\t\\t<span class=\"source_thumb\"><img\\n\\t\\t\\t\\t\\t\\t\\t\\t\\t\\t\\t\\t\\t\\tsrc=\"https://s.pstatic.net/dthumb.phinf/?src&#x3D;%22http%3A%2F%2Fblogpfthumb.phinf.naver.net%2F20140510_12%2Fs_cook_1399677396209rIz8s_JPEG%2Fda150009s.jpg%22&amp;type&#x3D;navermain_nf40_40\"\\n\\t\\t\\t\\t\\t\\t\\t\\t\\t\\t\\t\\t\\t\\tdata-src=\"https://s.pstatic.net/dthumb.phinf/?src&#x3D;%22http%3A%2F%2Fblogpfthumb.phinf.naver.net%2F20140510_12%2Fs_cook_1399677396209rIz8s_JPEG%2Fda150009s.jpg%22&amp;type&#x3D;navermain_nf40_40\" alt=\"\" width=\"20\" height=\"20\"\\n\\t\\t\\t\\t\\t\\t\\t\\t\\t\\t\\t\\t\\t\\tonerror=\"this.outerHTML=\\'<i class=\\\\\\'pm_source_noimg\\\\\\'><span class=\\\\\\'blind\\\\\\'>이미지준비중</span></i>\\'\"></span>\\n\\t\\t\\t\\t\\t\\t\\t\\t\\t\\t\\t\\n\\t\\t\\t\\t\\t\\t\\t\\t\\t\\t<span class=\"source_inner\">\\n\\t\\t\\t\\t\\t\\t\\t\\t\\t\\t\\t<em class=\"theme_hl\">인플루언서</em>이지</span>\\n\\t\\t\\t\\t\\t\\t\\t\\t\\t\\t</span>\\n\\t\\t\\t\\t\\t\\t\\t\\t\\t\\n\\t\\t\\t\\t\\t\\t\\t\\t</div>\\n\\t\\t\\t\\t\\t\\t\\t</div>\\n\\t\\t\\t\\t\\t\\t</div>\\n\\t\\t\\t\\t\\t</a>\\n\\t\\t\\t\\t\\n\\t\\t\\t\\n\\t\\t\\t\\t\\n\\t\\t\\t\\t\\t<a href=\"http://blog.naver.com/happysong4u/223054529183\" class=\"media_area\" data-da-position=\"true\" data-gdid=\"90000003_0000000000000033EF16029F\"\\n\\t\\t\\t\\t\\t   data-clk=\"tcc_sub.list1cont6\" target=\"_blank\">\\n\\t\\t\\t\\t\\t\\t<div class=\"media_thumb\">\\n\\t\\t\\t\\t\\t\\t\\t<img src=\"https://s.pstatic.net/dthumb.phinf/?src&#x3D;%22https%3A%2F%2Fdiscovercrop-phinf.pstatic.net%2F%2FMjAyMzAzMjRfMjUw%2FMDAxNjc5NjU5NTEwOTcy.9JS5YVn7zvbPcyz12sTI3BCTMTJ9rRvIekdokZ7lJ_wg.DPRdouYLCs0wIJB_OF7umTnQpAa32wz8QoSZ_HYPoD4g.JPEG%2Fimage_374x246.jpg%22&amp;type&#x3D;nf464_260\"\\n\\t\\t\\t\\t\\t\\t\\t     data-src=\"https://s.pstatic.net/dthumb.phinf/?src&#x3D;%22https%3A%2F%2Fdiscovercrop-phinf.pstatic.net%2F%2FMjAyMzAzMjRfMjUw%2FMDAxNjc5NjU5NTEwOTcy.9JS5YVn7zvbPcyz12sTI3BCTMTJ9rRvIekdokZ7lJ_wg.DPRdouYLCs0wIJB_OF7umTnQpAa32wz8QoSZ_HYPoD4g.JPEG%2Fimage_374x246.jpg%22&amp;type&#x3D;nf464_260\" alt=\"\" width=\"232\" height=\"130\"\\n\\t\\t\\t\\t\\t\\t\\t     onerror=\"this.outerHTML=\\'<span class=\\\\\\'pm_noimg\\\\\\'><span class=\\\\\\'noimg_text\\\\\\'>이미지 준비중</span></span>\\'\">\\n\\n\\t\\t\\t\\t\\t\\t\\t\\n\\t\\t\\t\\t\\t\\t\\t\\t<span class=\"thumb_bd\"></span>\\n\\t\\t\\t\\t\\t\\t\\t\\t\\n\\t\\t\\t\\t\\t\\t\\t\\n\\t\\t\\t\\t\\t\\t</div>\\n\\t\\t\\t\\t\\t\\t<div class=\"media_info\">\\n\\t\\t\\t\\t\\t\\t\\t<div class=\"info_box\">\\n\\t\\t\\t\\t\\t\\t\\t\\t\\n\\t\\t\\t\\t\\t\\t\\t\\t\\n\\t\\t\\t\\t\\t\\t\\t\\t<strong class=\"title \">부모가 오래 살아야하는 이유 (유머 짤) 어제 도로 한복판에서 보인 해프닝의 사연, 반항하는 사춘기 자녀에 감정이입이 되는 ㅎㅎ 자녀교육 부모마음~</strong>\\n\\t\\t\\t\\t\\t\\t\\t\\t<div class=\"source_wrap\">\\n\\t\\t\\t\\t\\t\\t\\t\\t\\t\\n\\t\\t\\t\\t\\t\\t\\t\\t\\t\\t<span class=\"date\">1개월 전</span>\\n\\t\\t\\t\\t\\t\\t\\t\\t\\t\\t<span class=\"source\">\\n\\t\\t\\t\\t\\t\\t\\t\\t\\t\\t\\t\\n\\t\\t\\t\\t\\t\\t\\t\\t\\t\\t\\t\\t<span class=\"source_thumb\"><img\\n\\t\\t\\t\\t\\t\\t\\t\\t\\t\\t\\t\\t\\t\\tsrc=\"https://s.pstatic.net/dthumb.phinf/?src&#x3D;%22http%3A%2F%2Fblogpfthumb.phinf.naver.net%2FMjAyMjA2MjhfNTQg%2FMDAxNjU2MzkzOTY0NDQ4.WdkfAEEQ6EanyPiv3rtbZCi7XToxqoSjMT452Vzm384g.boubxiLlu4IUlI9XscPkShAzics6B5LvB2SYFnZvvSQg.JPEG.happysong4u%2FprofileImage.jpg%22&amp;type&#x3D;navermain_nf40_40\"\\n\\t\\t\\t\\t\\t\\t\\t\\t\\t\\t\\t\\t\\t\\tdata-src=\"https://s.pstatic.net/dthumb.phinf/?src&#x3D;%22http%3A%2F%2Fblogpfthumb.phinf.naver.net%2FMjAyMjA2MjhfNTQg%2FMDAxNjU2MzkzOTY0NDQ4.WdkfAEEQ6EanyPiv3rtbZCi7XToxqoSjMT452Vzm384g.boubxiLlu4IUlI9XscPkShAzics6B5LvB2SYFnZvvSQg.JPEG.happysong4u%2FprofileImage.jpg%22&amp;type&#x3D;navermain_nf40_40\" alt=\"\" width=\"20\" height=\"20\"\\n\\t\\t\\t\\t\\t\\t\\t\\t\\t\\t\\t\\t\\t\\tonerror=\"this.outerHTML=\\'<i class=\\\\\\'pm_source_noimg\\\\\\'><span class=\\\\\\'blind\\\\\\'>이미지준비중</span></i>\\'\"></span>\\n\\t\\t\\t\\t\\t\\t\\t\\t\\t\\t\\t\\n\\t\\t\\t\\t\\t\\t\\t\\t\\t\\t<span class=\"source_inner\">로미Romi</span>\\n\\t\\t\\t\\t\\t\\t\\t\\t\\t\\t</span>\\n\\t\\t\\t\\t\\t\\t\\t\\t\\t\\n\\t\\t\\t\\t\\t\\t\\t\\t</div>\\n\\t\\t\\t\\t\\t\\t\\t</div>\\n\\t\\t\\t\\t\\t\\t</div>\\n\\t\\t\\t\\t\\t</a>\\n\\t\\t\\t\\t\\n\\t\\t\\t\\n\\t\\t\\t\\t\\n\\t\\t\\t\\t\\t<a href=\"https://in.naver.com/sukjunamul/contents/internal/558476658348992\" class=\"media_area\" data-da-position=\"true\" data-gdid=\"90000003_0000000000000033F10DCA9B\"\\n\\t\\t\\t\\t\\t   data-clk=\"tcc_sub.list1cont7\" target=\"_blank\">\\n\\t\\t\\t\\t\\t\\t<div class=\"media_thumb\">\\n\\t\\t\\t\\t\\t\\t\\t<img src=\"https://s.pstatic.net/dthumb.phinf/?src&#x3D;%22http%3A%2F%2Fblogfiles.naver.net%2FMjAyMzA0MjhfMTgz%2FMDAxNjgyNjQ3NjEwMDU3.cRLQoVMq-ghJlOU9CsXb77YUD1vuxqN6A5I1RzanhSkg.XDrH9R9YbuoCr-hEUdHPZ2a_yObycbSW1C6obNYsci4g.GIF.ihappy0304%2F9982333C5B28A0FA4F.gif%22&amp;type&#x3D;nf464_260\"\\n\\t\\t\\t\\t\\t\\t\\t     data-src=\"https://s.pstatic.net/dthumb.phinf/?src&#x3D;%22http%3A%2F%2Fblogfiles.naver.net%2FMjAyMzA0MjhfMTgz%2FMDAxNjgyNjQ3NjEwMDU3.cRLQoVMq-ghJlOU9CsXb77YUD1vuxqN6A5I1RzanhSkg.XDrH9R9YbuoCr-hEUdHPZ2a_yObycbSW1C6obNYsci4g.GIF.ihappy0304%2F9982333C5B28A0FA4F.gif%22&amp;type&#x3D;nf464_260\" alt=\"\" width=\"232\" height=\"130\"\\n\\t\\t\\t\\t\\t\\t\\t     onerror=\"this.outerHTML=\\'<span class=\\\\\\'pm_noimg\\\\\\'><span class=\\\\\\'noimg_text\\\\\\'>이미지 준비중</span></span>\\'\">\\n\\n\\t\\t\\t\\t\\t\\t\\t\\n\\t\\t\\t\\t\\t\\t\\t\\t<span class=\"thumb_bd\"></span>\\n\\t\\t\\t\\t\\t\\t\\t\\t\\n\\t\\t\\t\\t\\t\\t\\t\\n\\t\\t\\t\\t\\t\\t</div>\\n\\t\\t\\t\\t\\t\\t<div class=\"media_info\">\\n\\t\\t\\t\\t\\t\\t\\t<div class=\"info_box\">\\n\\t\\t\\t\\t\\t\\t\\t\\t\\n\\t\\t\\t\\t\\t\\t\\t\\t\\n\\t\\t\\t\\t\\t\\t\\t\\t<strong class=\"title \">전 재산 반 이상 잃고 나서야 인생 역전</strong>\\n\\t\\t\\t\\t\\t\\t\\t\\t<div class=\"source_wrap\">\\n\\t\\t\\t\\t\\t\\t\\t\\t\\t\\n\\t\\t\\t\\t\\t\\t\\t\\t\\t\\t<span class=\"date\">6일 전</span>\\n\\t\\t\\t\\t\\t\\t\\t\\t\\t\\t<span class=\"source\">\\n\\t\\t\\t\\t\\t\\t\\t\\t\\t\\t\\t\\n\\t\\t\\t\\t\\t\\t\\t\\t\\t\\t\\t\\t<span class=\"source_thumb\"><img\\n\\t\\t\\t\\t\\t\\t\\t\\t\\t\\t\\t\\t\\t\\tsrc=\"https://s.pstatic.net/dthumb.phinf/?src&#x3D;%22http%3A%2F%2Fblogpfthumb.phinf.naver.net%2F20090903_49%2Fihappy0304_1251913097547_j4BuuY_jpg%2F%ED%94%84%EB%A1%9C%ED%95%84%EC%82%AC%EC%A7%84.jpg%22&amp;type&#x3D;navermain_nf40_40\"\\n\\t\\t\\t\\t\\t\\t\\t\\t\\t\\t\\t\\t\\t\\tdata-src=\"https://s.pstatic.net/dthumb.phinf/?src&#x3D;%22http%3A%2F%2Fblogpfthumb.phinf.naver.net%2F20090903_49%2Fihappy0304_1251913097547_j4BuuY_jpg%2F%ED%94%84%EB%A1%9C%ED%95%84%EC%82%AC%EC%A7%84.jpg%22&amp;type&#x3D;navermain_nf40_40\" alt=\"\" width=\"20\" height=\"20\"\\n\\t\\t\\t\\t\\t\\t\\t\\t\\t\\t\\t\\t\\t\\tonerror=\"this.outerHTML=\\'<i class=\\\\\\'pm_source_noimg\\\\\\'><span class=\\\\\\'blind\\\\\\'>이미지준비중</span></i>\\'\"></span>\\n\\t\\t\\t\\t\\t\\t\\t\\t\\t\\t\\t\\n\\t\\t\\t\\t\\t\\t\\t\\t\\t\\t<span class=\"source_inner\">\\n\\t\\t\\t\\t\\t\\t\\t\\t\\t\\t\\t<em class=\"theme_hl\">인플루언서</em>숙주나물</span>\\n\\t\\t\\t\\t\\t\\t\\t\\t\\t\\t</span>\\n\\t\\t\\t\\t\\t\\t\\t\\t\\t\\n\\t\\t\\t\\t\\t\\t\\t\\t</div>\\n\\t\\t\\t\\t\\t\\t\\t</div>\\n\\t\\t\\t\\t\\t\\t</div>\\n\\t\\t\\t\\t\\t</a>\\n\\t\\t\\t\\t\\n\\t\\t\\t\\n\\t\\t\\t\\t\\n\\t\\t\\t\\t\\t<a href=\"https://in.naver.com/treewg/contents/internal/558639897814496\" class=\"media_area\" data-da-position=\"true\" data-gdid=\"90000003_0000000000000033F1166B43\"\\n\\t\\t\\t\\t\\t   data-clk=\"tcc_sub.list1cont8\" target=\"_blank\">\\n\\t\\t\\t\\t\\t\\t<div class=\"media_thumb\">\\n\\t\\t\\t\\t\\t\\t\\t<img src=\"https://s.pstatic.net/dthumb.phinf/?src&#x3D;%22https%3A%2F%2Fdiscovercrop-phinf.pstatic.net%2F%2FMjAyMzA0MjlfMjU3%2FMDAxNjgyNjk1Mzg5MjA5.LPxpN9ZFX7yk8V7vsfizjAw7o7TuNwHnOQdjpgLSKAsg.4rUsGMKO3nI76Ioh0cekvRf1mIIKVkvS-3cZWvWMTxMg.JPEG%2Fimage_374x246.jpg%22&amp;type&#x3D;nf464_260\"\\n\\t\\t\\t\\t\\t\\t\\t     data-src=\"https://s.pstatic.net/dthumb.phinf/?src&#x3D;%22https%3A%2F%2Fdiscovercrop-phinf.pstatic.net%2F%2FMjAyMzA0MjlfMjU3%2FMDAxNjgyNjk1Mzg5MjA5.LPxpN9ZFX7yk8V7vsfizjAw7o7TuNwHnOQdjpgLSKAsg.4rUsGMKO3nI76Ioh0cekvRf1mIIKVkvS-3cZWvWMTxMg.JPEG%2Fimage_374x246.jpg%22&amp;type&#x3D;nf464_260\" alt=\"\" width=\"232\" height=\"130\"\\n\\t\\t\\t\\t\\t\\t\\t     onerror=\"this.outerHTML=\\'<span class=\\\\\\'pm_noimg\\\\\\'><span class=\\\\\\'noimg_text\\\\\\'>이미지 준비중</span></span>\\'\">\\n\\n\\t\\t\\t\\t\\t\\t\\t\\n\\t\\t\\t\\t\\t\\t\\t\\t<span class=\"thumb_bd\"></span>\\n\\t\\t\\t\\t\\t\\t\\t\\t\\n\\t\\t\\t\\t\\t\\t\\t\\n\\t\\t\\t\\t\\t\\t</div>\\n\\t\\t\\t\\t\\t\\t<div class=\"media_info\">\\n\\t\\t\\t\\t\\t\\t\\t<div class=\"info_box\">\\n\\t\\t\\t\\t\\t\\t\\t\\t\\n\\t\\t\\t\\t\\t\\t\\t\\t\\n\\t\\t\\t\\t\\t\\t\\t\\t<strong class=\"title \">백상예술대상 대상 박은빈 감동적인 수상소감! 더글로리 송혜교 임지연 작품상까지.</strong>\\n\\t\\t\\t\\t\\t\\t\\t\\t<div class=\"source_wrap\">\\n\\t\\t\\t\\t\\t\\t\\t\\t\\t\\n\\t\\t\\t\\t\\t\\t\\t\\t\\t\\t<span class=\"date\">5일 전</span>\\n\\t\\t\\t\\t\\t\\t\\t\\t\\t\\t<span class=\"source\">\\n\\t\\t\\t\\t\\t\\t\\t\\t\\t\\t\\t\\n\\t\\t\\t\\t\\t\\t\\t\\t\\t\\t\\t\\t<span class=\"source_thumb\"><img\\n\\t\\t\\t\\t\\t\\t\\t\\t\\t\\t\\t\\t\\t\\tsrc=\"https://s.pstatic.net/dthumb.phinf/?src&#x3D;%22http%3A%2F%2Fblogpfthumb.phinf.naver.net%2FMjAxODEwMzBfMTEx%2FMDAxNTQwODYyNjAyNTkx.OOlnc-zzAMsX6NhtXUoQaHBhbgbCxNqM-M-9Mi_eKQwg.r4koPBVrBcfr2efAG-FRQ82r2Cr-y2ICIqxoXVicF_Ag.JPEG.treewg%2FprofileImage.jpg%22&amp;type&#x3D;navermain_nf40_40\"\\n\\t\\t\\t\\t\\t\\t\\t\\t\\t\\t\\t\\t\\t\\tdata-src=\"https://s.pstatic.net/dthumb.phinf/?src&#x3D;%22http%3A%2F%2Fblogpfthumb.phinf.naver.net%2FMjAxODEwMzBfMTEx%2FMDAxNTQwODYyNjAyNTkx.OOlnc-zzAMsX6NhtXUoQaHBhbgbCxNqM-M-9Mi_eKQwg.r4koPBVrBcfr2efAG-FRQ82r2Cr-y2ICIqxoXVicF_Ag.JPEG.treewg%2FprofileImage.jpg%22&amp;type&#x3D;navermain_nf40_40\" alt=\"\" width=\"20\" height=\"20\"\\n\\t\\t\\t\\t\\t\\t\\t\\t\\t\\t\\t\\t\\t\\tonerror=\"this.outerHTML=\\'<i class=\\\\\\'pm_source_noimg\\\\\\'><span class=\\\\\\'blind\\\\\\'>이미지준비중</span></i>\\'\"></span>\\n\\t\\t\\t\\t\\t\\t\\t\\t\\t\\t\\t\\n\\t\\t\\t\\t\\t\\t\\t\\t\\t\\t<span class=\"source_inner\">\\n\\t\\t\\t\\t\\t\\t\\t\\t\\t\\t\\t<em class=\"theme_hl\">인플루언서</em>나무처럼</span>\\n\\t\\t\\t\\t\\t\\t\\t\\t\\t\\t</span>\\n\\t\\t\\t\\t\\t\\t\\t\\t\\t\\n\\t\\t\\t\\t\\t\\t\\t\\t</div>\\n\\t\\t\\t\\t\\t\\t\\t</div>\\n\\t\\t\\t\\t\\t\\t</div>\\n\\t\\t\\t\\t\\t</a>\\n\\t\\t\\t\\t\\n\\t\\t\\t\\n\\t\\t\\t\\t\\n\\t\\t\\t\\t\\t<a href=\"https://tv.naver.com/v/35578443\" class=\"media_area\" data-da-position=\"true\" data-gdid=\"133199365AD59DD94FF3FBFE46E835812D5F\"\\n\\t\\t\\t\\t\\t   data-clk=\"tcc_sub.list1cont9\" target=\"_blank\">\\n\\t\\t\\t\\t\\t\\t<div class=\"media_thumb\">\\n\\t\\t\\t\\t\\t\\t\\t<img src=\"https://s.pstatic.net/dthumb.phinf/?src&#x3D;%22https%3A%2F%2Fs.pstatic.net%2Ftvcast.phinf%2F20230503_265%2FJijQP_1683120087480ndDKa_JPEG%2F6452592455670e925beca7f6_upload_1683119012761.jpeg%22&amp;type&#x3D;nf464_260\"\\n\\t\\t\\t\\t\\t\\t\\t     data-src=\"https://s.pstatic.net/dthumb.phinf/?src&#x3D;%22https%3A%2F%2Fs.pstatic.net%2Ftvcast.phinf%2F20230503_265%2FJijQP_1683120087480ndDKa_JPEG%2F6452592455670e925beca7f6_upload_1683119012761.jpeg%22&amp;type&#x3D;nf464_260\" alt=\"\" width=\"232\" height=\"130\"\\n\\t\\t\\t\\t\\t\\t\\t     onerror=\"this.outerHTML=\\'<span class=\\\\\\'pm_noimg\\\\\\'><span class=\\\\\\'noimg_text\\\\\\'>이미지 준비중</span></span>\\'\">\\n\\n\\t\\t\\t\\t\\t\\t\\t\\n\\t\\t\\t\\t\\t\\t\\t\\t<span class=\"thumb_dim\"></span>\\n\\t\\t\\t\\t\\t\\t\\t\\t<span class=\"thumb_bd\"></span>\\n\\t\\t\\t\\t\\t\\t\\t\\t<i class=\"pm_ico_play\"><span class=\"blind\">재생</span></i>\\n\\t\\t\\t\\t\\t\\t\\t\\t<span class=\"theme_runtime\"><span class=\"runtime_bg\">재생시간</span><em\\n\\t\\t\\t\\t\\t\\t\\t\\t\\t\\tclass=\"time\">03:03</em></span>\\n\\t\\t\\t\\t\\t\\t\\t\\n\\t\\t\\t\\t\\t\\t</div>\\n\\t\\t\\t\\t\\t\\t<div class=\"media_info\">\\n\\t\\t\\t\\t\\t\\t\\t<div class=\"info_box\">\\n\\t\\t\\t\\t\\t\\t\\t\\t\\n\\t\\t\\t\\t\\t\\t\\t\\t\\n\\t\\t\\t\\t\\t\\t\\t\\t<strong class=\"title \">수지가 남편의 사업을 반대하는 이유! 국진은 수지의 멘탈 케어 담당😁 | KBS 230503 방송</strong>\\n\\t\\t\\t\\t\\t\\t\\t\\t<div class=\"source_wrap\">\\n\\t\\t\\t\\t\\t\\t\\t\\t\\t\\n\\t\\t\\t\\t\\t\\t\\t\\t\\t\\t<span class=\"date\">19시간 전</span>\\n\\t\\t\\t\\t\\t\\t\\t\\t\\t\\t<span class=\"source\">\\n\\t\\t\\t\\t\\t\\t\\t\\t\\t\\t\\t\\n\\t\\t\\t\\t\\t\\t\\t\\t\\t\\t\\t\\t<span class=\"source_thumb\"><img\\n\\t\\t\\t\\t\\t\\t\\t\\t\\t\\t\\t\\t\\t\\tsrc=\"https://s.pstatic.net/dthumb.phinf/?src&#x3D;%22https%3A%2F%2Fs.pstatic.net%2Ftvcast.phinf%2F20230417_152%2FQBnIv_1681710266194L2nBR_JPEG%2FmAdSycvY8LJ3.jpg%22&amp;type&#x3D;navermain_nf40_40\"\\n\\t\\t\\t\\t\\t\\t\\t\\t\\t\\t\\t\\t\\t\\tdata-src=\"https://s.pstatic.net/dthumb.phinf/?src&#x3D;%22https%3A%2F%2Fs.pstatic.net%2Ftvcast.phinf%2F20230417_152%2FQBnIv_1681710266194L2nBR_JPEG%2FmAdSycvY8LJ3.jpg%22&amp;type&#x3D;navermain_nf40_40\" alt=\"\" width=\"20\" height=\"20\"\\n\\t\\t\\t\\t\\t\\t\\t\\t\\t\\t\\t\\t\\t\\tonerror=\"this.outerHTML=\\'<i class=\\\\\\'pm_source_noimg\\\\\\'><span class=\\\\\\'blind\\\\\\'>이미지준비중</span></i>\\'\"></span>\\n\\t\\t\\t\\t\\t\\t\\t\\t\\t\\t\\t\\n\\t\\t\\t\\t\\t\\t\\t\\t\\t\\t<span class=\"source_inner\">옥탑방의 문제아들</span>\\n\\t\\t\\t\\t\\t\\t\\t\\t\\t\\t</span>\\n\\t\\t\\t\\t\\t\\t\\t\\t\\t\\n\\t\\t\\t\\t\\t\\t\\t\\t</div>\\n\\t\\t\\t\\t\\t\\t\\t</div>\\n\\t\\t\\t\\t\\t\\t</div>\\n\\t\\t\\t\\t\\t</a>\\n\\t\\t\\t\\t\\n\\t\\t\\t\\n\\t\\t</div>\\n\\t</div>\\n</div>\\n\\n<div class=\"group_theme\" data-block-id=\"61bae4aea10d3006850d7650\" data-block-code=\"PC-THEME-MYFEED-RECOMMEND-1\" data-block-type=\"PC-MYFEED-BLOCK\" data-template-code=\"3X3\"\\n\\n     data-page=\"1\"\\n     >\\n\\n\\t<div class=\"media_view_wrap type_column\">\\n\\t\\t<div class=\"media_view\">\\n\\t\\t\\t\\n\\t\\t\\t\\t\\n\\t\\t\\t\\t\\t<a href=\"https://in.naver.com/hhwjh/contents/internal/559701494699296\" class=\"media_area\" data-da-position=\"true\" data-gdid=\"90000003_0000000000000033F13D5489\"\\n\\t\\t\\t\\t\\t   data-clk=\"tcc_sub.list1cont1\" target=\"_blank\">\\n\\t\\t\\t\\t\\t\\t<div class=\"media_thumb\">\\n\\t\\t\\t\\t\\t\\t\\t<img src=\"https://s.pstatic.net/dthumb.phinf/?src&#x3D;%22https%3A%2F%2Fdiscovercrop-phinf.pstatic.net%2F%2FMjAyMzA1MDJfMTEy%2FMDAxNjgyOTU3Mzc3MTUz.XjtSyTMQkl1b4Lsh9N7OUvMH311zqYuiiB86w_nYxpsg.KfyDyuccVcOFWj4zV5i48paIsKsVA0RqFc13mwpnM7gg.JPEG%2Fimage_374x246.jpg%22&amp;type&#x3D;nf464_260\"\\n\\t\\t\\t\\t\\t\\t\\t     data-src=\"https://s.pstatic.net/dthumb.phinf/?src&#x3D;%22https%3A%2F%2Fdiscovercrop-phinf.pstatic.net%2F%2FMjAyMzA1MDJfMTEy%2FMDAxNjgyOTU3Mzc3MTUz.XjtSyTMQkl1b4Lsh9N7OUvMH311zqYuiiB86w_nYxpsg.KfyDyuccVcOFWj4zV5i48paIsKsVA0RqFc13mwpnM7gg.JPEG%2Fimage_374x246.jpg%22&amp;type&#x3D;nf464_260\" alt=\"\" width=\"232\" height=\"130\"\\n\\t\\t\\t\\t\\t\\t\\t     onerror=\"this.outerHTML=\\'<span class=\\\\\\'pm_noimg\\\\\\'><span class=\\\\\\'noimg_text\\\\\\'>이미지 준비중</span></span>\\'\">\\n\\n\\t\\t\\t\\t\\t\\t\\t\\n\\t\\t\\t\\t\\t\\t\\t\\t<span class=\"thumb_bd\"></span>\\n\\t\\t\\t\\t\\t\\t\\t\\t\\n\\t\\t\\t\\t\\t\\t\\t\\n\\t\\t\\t\\t\\t\\t</div>\\n\\t\\t\\t\\t\\t\\t<div class=\"media_info\">\\n\\t\\t\\t\\t\\t\\t\\t<div class=\"info_box\">\\n\\t\\t\\t\\t\\t\\t\\t\\t\\n\\t\\t\\t\\t\\t\\t\\t\\t\\n\\t\\t\\t\\t\\t\\t\\t\\t<strong class=\"title \">나혼자 산다 10주년 무지개 회원 몽골 여행 대형프로젝트 역대급 스포 방송미정</strong>\\n\\t\\t\\t\\t\\t\\t\\t\\t<div class=\"source_wrap\">\\n\\t\\t\\t\\t\\t\\t\\t\\t\\t\\n\\t\\t\\t\\t\\t\\t\\t\\t\\t\\t<span class=\"date\">2일 전</span>\\n\\t\\t\\t\\t\\t\\t\\t\\t\\t\\t<span class=\"source\">\\n\\t\\t\\t\\t\\t\\t\\t\\t\\t\\t\\t\\n\\t\\t\\t\\t\\t\\t\\t\\t\\t\\t\\t\\t<span class=\"source_thumb\"><img\\n\\t\\t\\t\\t\\t\\t\\t\\t\\t\\t\\t\\t\\t\\tsrc=\"https://s.pstatic.net/dthumb.phinf/?src&#x3D;%22http%3A%2F%2Fblogpfthumb.phinf.naver.net%2FMjAyMjA1MjdfMTU0%2FMDAxNjUzNjUxMDUyNjIy.qWacazpvWnDW60zWkfq_FjMfbokM-7BaPnDE5JxXLaEg.3LpZdsA-eSFovxiG3B2I545ARDPBNXpafDsXSAPzhpkg.PNG.hhwjh%2FprofileImage.png%22&amp;type&#x3D;navermain_nf40_40\"\\n\\t\\t\\t\\t\\t\\t\\t\\t\\t\\t\\t\\t\\t\\tdata-src=\"https://s.pstatic.net/dthumb.phinf/?src&#x3D;%22http%3A%2F%2Fblogpfthumb.phinf.naver.net%2FMjAyMjA1MjdfMTU0%2FMDAxNjUzNjUxMDUyNjIy.qWacazpvWnDW60zWkfq_FjMfbokM-7BaPnDE5JxXLaEg.3LpZdsA-eSFovxiG3B2I545ARDPBNXpafDsXSAPzhpkg.PNG.hhwjh%2FprofileImage.png%22&amp;type&#x3D;navermain_nf40_40\" alt=\"\" width=\"20\" height=\"20\"\\n\\t\\t\\t\\t\\t\\t\\t\\t\\t\\t\\t\\t\\t\\tonerror=\"this.outerHTML=\\'<i class=\\\\\\'pm_source_noimg\\\\\\'><span class=\\\\\\'blind\\\\\\'>이미지준비중</span></i>\\'\"></span>\\n\\t\\t\\t\\t\\t\\t\\t\\t\\t\\t\\t\\n\\t\\t\\t\\t\\t\\t\\t\\t\\t\\t<span class=\"source_inner\">\\n\\t\\t\\t\\t\\t\\t\\t\\t\\t\\t\\t<em class=\"theme_hl\">인플루언서</em>잭</span>\\n\\t\\t\\t\\t\\t\\t\\t\\t\\t\\t</span>\\n\\t\\t\\t\\t\\t\\t\\t\\t\\t\\n\\t\\t\\t\\t\\t\\t\\t\\t</div>\\n\\t\\t\\t\\t\\t\\t\\t</div>\\n\\t\\t\\t\\t\\t\\t</div>\\n\\t\\t\\t\\t\\t</a>\\n\\t\\t\\t\\t\\n\\t\\t\\t\\n\\t\\t\\t\\t\\n\\t\\t\\t\\t\\t<a href=\"https://m.post.naver.com/viewer/postView.naver?volumeNo&#x3D;35854905&amp;memberNo&#x3D;38753951&amp;vType&#x3D;VERTICAL\" class=\"media_area\" data-da-position=\"true\" data-gdid=\"00055f7ca0_0002231a39\"\\n\\t\\t\\t\\t\\t   data-clk=\"tcc_sub.list1cont2\" target=\"_blank\">\\n\\t\\t\\t\\t\\t\\t<div class=\"media_thumb\">\\n\\t\\t\\t\\t\\t\\t\\t<img src=\"https://s.pstatic.net/dthumb.phinf/?src&#x3D;%22https%3A%2F%2Fdiscovercrop-phinf.pstatic.net%2F%2FMjAyMzA1MDFfMzUg%2FMDAxNjgyODk5ODE4MjI4.wgz3bb6J2oWqDOLWsYwOos1aDfALFcl-cqHxmJEeFtMg.LivfYpx_aSvXh-Yq374ZzljvJAQe8lJZyppySI8coiYg.JPEG%2Fimage_374x246.jpg%22&amp;type&#x3D;nf464_260\"\\n\\t\\t\\t\\t\\t\\t\\t     data-src=\"https://s.pstatic.net/dthumb.phinf/?src&#x3D;%22https%3A%2F%2Fdiscovercrop-phinf.pstatic.net%2F%2FMjAyMzA1MDFfMzUg%2FMDAxNjgyODk5ODE4MjI4.wgz3bb6J2oWqDOLWsYwOos1aDfALFcl-cqHxmJEeFtMg.LivfYpx_aSvXh-Yq374ZzljvJAQe8lJZyppySI8coiYg.JPEG%2Fimage_374x246.jpg%22&amp;type&#x3D;nf464_260\" alt=\"\" width=\"232\" height=\"130\"\\n\\t\\t\\t\\t\\t\\t\\t     onerror=\"this.outerHTML=\\'<span class=\\\\\\'pm_noimg\\\\\\'><span class=\\\\\\'noimg_text\\\\\\'>이미지 준비중</span></span>\\'\">\\n\\n\\t\\t\\t\\t\\t\\t\\t\\n\\t\\t\\t\\t\\t\\t\\t\\t<span class=\"thumb_bd\"></span>\\n\\t\\t\\t\\t\\t\\t\\t\\t\\n\\t\\t\\t\\t\\t\\t\\t\\n\\t\\t\\t\\t\\t\\t</div>\\n\\t\\t\\t\\t\\t\\t<div class=\"media_info\">\\n\\t\\t\\t\\t\\t\\t\\t<div class=\"info_box\">\\n\\t\\t\\t\\t\\t\\t\\t\\t\\n\\t\\t\\t\\t\\t\\t\\t\\t\\n\\t\\t\\t\\t\\t\\t\\t\\t<strong class=\"title \">육아템 중고거래, 은근히 기분 나쁜 순간 다들 있잖아요?</strong>\\n\\t\\t\\t\\t\\t\\t\\t\\t<div class=\"source_wrap\">\\n\\t\\t\\t\\t\\t\\t\\t\\t\\t\\n\\t\\t\\t\\t\\t\\t\\t\\t\\t\\t<span class=\"date\">3일 전</span>\\n\\t\\t\\t\\t\\t\\t\\t\\t\\t\\t<span class=\"source\">\\n\\t\\t\\t\\t\\t\\t\\t\\t\\t\\t\\t\\n\\t\\t\\t\\t\\t\\t\\t\\t\\t\\t\\t\\t<span class=\"source_thumb\"><img\\n\\t\\t\\t\\t\\t\\t\\t\\t\\t\\t\\t\\t\\t\\tsrc=\"https://s.pstatic.net/dthumb.phinf/?src&#x3D;%22https%3A%2F%2Fs.pstatic.net%2Fpost.phinf%2FMjAxOTAxMTZfMTMg%2FMDAxNTQ3NjE5ODk2NTc2.vn4o_TvjwIa-jpyI9uPT0Lq7UhkwizGBuRL3GH1tFZUg.chbp4X5ZmZKpkLu4bxrprCMDYM0fWkR0N5MuFv9F4NQg.JPEG%2Fpost_784555884290153518.jpg%3Ftype%3Df200_200%22&amp;type&#x3D;navermain_nf40_40\"\\n\\t\\t\\t\\t\\t\\t\\t\\t\\t\\t\\t\\t\\t\\tdata-src=\"https://s.pstatic.net/dthumb.phinf/?src&#x3D;%22https%3A%2F%2Fs.pstatic.net%2Fpost.phinf%2FMjAxOTAxMTZfMTMg%2FMDAxNTQ3NjE5ODk2NTc2.vn4o_TvjwIa-jpyI9uPT0Lq7UhkwizGBuRL3GH1tFZUg.chbp4X5ZmZKpkLu4bxrprCMDYM0fWkR0N5MuFv9F4NQg.JPEG%2Fpost_784555884290153518.jpg%3Ftype%3Df200_200%22&amp;type&#x3D;navermain_nf40_40\" alt=\"\" width=\"20\" height=\"20\"\\n\\t\\t\\t\\t\\t\\t\\t\\t\\t\\t\\t\\t\\t\\tonerror=\"this.outerHTML=\\'<i class=\\\\\\'pm_source_noimg\\\\\\'><span class=\\\\\\'blind\\\\\\'>이미지준비중</span></i>\\'\"></span>\\n\\t\\t\\t\\t\\t\\t\\t\\t\\t\\t\\t\\n\\t\\t\\t\\t\\t\\t\\t\\t\\t\\t<span class=\"source_inner\">네이버 연애결혼</span>\\n\\t\\t\\t\\t\\t\\t\\t\\t\\t\\t</span>\\n\\t\\t\\t\\t\\t\\t\\t\\t\\t\\n\\t\\t\\t\\t\\t\\t\\t\\t</div>\\n\\t\\t\\t\\t\\t\\t\\t</div>\\n\\t\\t\\t\\t\\t\\t</div>\\n\\t\\t\\t\\t\\t</a>\\n\\t\\t\\t\\t\\n\\t\\t\\t\\n\\t\\t\\t\\t\\n\\t\\t\\t\\t\\t<a href=\"https://in.naver.com/treewg/contents/internal/559286964880288\" class=\"media_area\" data-da-position=\"true\" data-gdid=\"90000003_0000000000000033F12BB5BE\"\\n\\t\\t\\t\\t\\t   data-clk=\"tcc_sub.list1cont3\" target=\"_blank\">\\n\\t\\t\\t\\t\\t\\t<div class=\"media_thumb\">\\n\\t\\t\\t\\t\\t\\t\\t<img src=\"https://s.pstatic.net/dthumb.phinf/?src&#x3D;%22http%3A%2F%2Fblogfiles.naver.net%2FMjAyMzA0MzBfMiAg%2FMDAxNjgyODQ1MjY0NTQ1.piKLoP9Q-9DGCm6UIEh8QtbF80ZKIqHIPKnjEL_EsR4g.lAFwnCvJxnJ31fMu8S5SRBFfvD9vwhDgHGRfTALfBH8g.JPEG.treewg%2F2372.jpg%22&amp;type&#x3D;nf464_260\"\\n\\t\\t\\t\\t\\t\\t\\t     data-src=\"https://s.pstatic.net/dthumb.phinf/?src&#x3D;%22http%3A%2F%2Fblogfiles.naver.net%2FMjAyMzA0MzBfMiAg%2FMDAxNjgyODQ1MjY0NTQ1.piKLoP9Q-9DGCm6UIEh8QtbF80ZKIqHIPKnjEL_EsR4g.lAFwnCvJxnJ31fMu8S5SRBFfvD9vwhDgHGRfTALfBH8g.JPEG.treewg%2F2372.jpg%22&amp;type&#x3D;nf464_260\" alt=\"\" width=\"232\" height=\"130\"\\n\\t\\t\\t\\t\\t\\t\\t     onerror=\"this.outerHTML=\\'<span class=\\\\\\'pm_noimg\\\\\\'><span class=\\\\\\'noimg_text\\\\\\'>이미지 준비중</span></span>\\'\">\\n\\n\\t\\t\\t\\t\\t\\t\\t\\n\\t\\t\\t\\t\\t\\t\\t\\t<span class=\"thumb_bd\"></span>\\n\\t\\t\\t\\t\\t\\t\\t\\t\\n\\t\\t\\t\\t\\t\\t\\t\\n\\t\\t\\t\\t\\t\\t</div>\\n\\t\\t\\t\\t\\t\\t<div class=\"media_info\">\\n\\t\\t\\t\\t\\t\\t\\t<div class=\"info_box\">\\n\\t\\t\\t\\t\\t\\t\\t\\t\\n\\t\\t\\t\\t\\t\\t\\t\\t\\n\\t\\t\\t\\t\\t\\t\\t\\t<strong class=\"title \">유퀴즈 온더블럭, 벌써 데뷔 30년차? 본캐는 순한 배우 김소연!</strong>\\n\\t\\t\\t\\t\\t\\t\\t\\t<div class=\"source_wrap\">\\n\\t\\t\\t\\t\\t\\t\\t\\t\\t\\n\\t\\t\\t\\t\\t\\t\\t\\t\\t\\t<span class=\"date\">4일 전</span>\\n\\t\\t\\t\\t\\t\\t\\t\\t\\t\\t<span class=\"source\">\\n\\t\\t\\t\\t\\t\\t\\t\\t\\t\\t\\t\\n\\t\\t\\t\\t\\t\\t\\t\\t\\t\\t\\t\\t<span class=\"source_thumb\"><img\\n\\t\\t\\t\\t\\t\\t\\t\\t\\t\\t\\t\\t\\t\\tsrc=\"https://s.pstatic.net/dthumb.phinf/?src&#x3D;%22http%3A%2F%2Fblogpfthumb.phinf.naver.net%2FMjAxODEwMzBfMTEx%2FMDAxNTQwODYyNjAyNTkx.OOlnc-zzAMsX6NhtXUoQaHBhbgbCxNqM-M-9Mi_eKQwg.r4koPBVrBcfr2efAG-FRQ82r2Cr-y2ICIqxoXVicF_Ag.JPEG.treewg%2FprofileImage.jpg%22&amp;type&#x3D;navermain_nf40_40\"\\n\\t\\t\\t\\t\\t\\t\\t\\t\\t\\t\\t\\t\\t\\tdata-src=\"https://s.pstatic.net/dthumb.phinf/?src&#x3D;%22http%3A%2F%2Fblogpfthumb.phinf.naver.net%2FMjAxODEwMzBfMTEx%2FMDAxNTQwODYyNjAyNTkx.OOlnc-zzAMsX6NhtXUoQaHBhbgbCxNqM-M-9Mi_eKQwg.r4koPBVrBcfr2efAG-FRQ82r2Cr-y2ICIqxoXVicF_Ag.JPEG.treewg%2FprofileImage.jpg%22&amp;type&#x3D;navermain_nf40_40\" alt=\"\" width=\"20\" height=\"20\"\\n\\t\\t\\t\\t\\t\\t\\t\\t\\t\\t\\t\\t\\t\\tonerror=\"this.outerHTML=\\'<i class=\\\\\\'pm_source_noimg\\\\\\'><span class=\\\\\\'blind\\\\\\'>이미지준비중</span></i>\\'\"></span>\\n\\t\\t\\t\\t\\t\\t\\t\\t\\t\\t\\t\\n\\t\\t\\t\\t\\t\\t\\t\\t\\t\\t<span class=\"source_inner\">\\n\\t\\t\\t\\t\\t\\t\\t\\t\\t\\t\\t<em class=\"theme_hl\">인플루언서</em>나무처럼</span>\\n\\t\\t\\t\\t\\t\\t\\t\\t\\t\\t</span>\\n\\t\\t\\t\\t\\t\\t\\t\\t\\t\\n\\t\\t\\t\\t\\t\\t\\t\\t</div>\\n\\t\\t\\t\\t\\t\\t\\t</div>\\n\\t\\t\\t\\t\\t\\t</div>\\n\\t\\t\\t\\t\\t</a>\\n\\t\\t\\t\\t\\n\\t\\t\\t\\n\\t\\t\\t\\t\\n\\t\\t\\t\\t\\t<a href=\"https://in.naver.com/nobody/contents/internal/560230621324384\" class=\"media_area\" data-da-position=\"true\" data-gdid=\"90000003_0000000000000033F153CB7F\"\\n\\t\\t\\t\\t\\t   data-clk=\"tcc_sub.list1cont4\" target=\"_blank\">\\n\\t\\t\\t\\t\\t\\t<div class=\"media_thumb\">\\n\\t\\t\\t\\t\\t\\t\\t<img src=\"https://s.pstatic.net/dthumb.phinf/?src&#x3D;%22https%3A%2F%2Fdiscovercrop-phinf.pstatic.net%2F%2FMjAyMzA1MDNfMjU2%2FMDAxNjgzMDg1MjA3NDMw.DwAKdyOfqJj3nL-wMAbLPX-bF-uhLHtiWfdvEGMPzmwg.d3tm5wNTlZeZnWofiJdxeyWWYOhaZcpYyueGSrqmfjQg.JPEG%2Fimage_374x246.jpg%22&amp;type&#x3D;nf464_260\"\\n\\t\\t\\t\\t\\t\\t\\t     data-src=\"https://s.pstatic.net/dthumb.phinf/?src&#x3D;%22https%3A%2F%2Fdiscovercrop-phinf.pstatic.net%2F%2FMjAyMzA1MDNfMjU2%2FMDAxNjgzMDg1MjA3NDMw.DwAKdyOfqJj3nL-wMAbLPX-bF-uhLHtiWfdvEGMPzmwg.d3tm5wNTlZeZnWofiJdxeyWWYOhaZcpYyueGSrqmfjQg.JPEG%2Fimage_374x246.jpg%22&amp;type&#x3D;nf464_260\" alt=\"\" width=\"232\" height=\"130\"\\n\\t\\t\\t\\t\\t\\t\\t     onerror=\"this.outerHTML=\\'<span class=\\\\\\'pm_noimg\\\\\\'><span class=\\\\\\'noimg_text\\\\\\'>이미지 준비중</span></span>\\'\">\\n\\n\\t\\t\\t\\t\\t\\t\\t\\n\\t\\t\\t\\t\\t\\t\\t\\t<span class=\"thumb_bd\"></span>\\n\\t\\t\\t\\t\\t\\t\\t\\t\\n\\t\\t\\t\\t\\t\\t\\t\\n\\t\\t\\t\\t\\t\\t</div>\\n\\t\\t\\t\\t\\t\\t<div class=\"media_info\">\\n\\t\\t\\t\\t\\t\\t\\t<div class=\"info_box\">\\n\\t\\t\\t\\t\\t\\t\\t\\t\\n\\t\\t\\t\\t\\t\\t\\t\\t\\n\\t\\t\\t\\t\\t\\t\\t\\t<strong class=\"title \">나는 솔로 11기 영호가 밝힌 현숙과 결별 이유</strong>\\n\\t\\t\\t\\t\\t\\t\\t\\t<div class=\"source_wrap\">\\n\\t\\t\\t\\t\\t\\t\\t\\t\\t\\n\\t\\t\\t\\t\\t\\t\\t\\t\\t\\t<span class=\"date\">어제</span>\\n\\t\\t\\t\\t\\t\\t\\t\\t\\t\\t<span class=\"source\">\\n\\t\\t\\t\\t\\t\\t\\t\\t\\t\\t\\t\\n\\t\\t\\t\\t\\t\\t\\t\\t\\t\\t\\t\\t<span class=\"source_thumb\"><img\\n\\t\\t\\t\\t\\t\\t\\t\\t\\t\\t\\t\\t\\t\\tsrc=\"https://s.pstatic.net/dthumb.phinf/?src&#x3D;%22http%3A%2F%2Fblogpfthumb.phinf.naver.net%2F20220218_201%2Ffojesus_1645151437614bieCu_JPEG%2Fimage.jpg%22&amp;type&#x3D;navermain_nf40_40\"\\n\\t\\t\\t\\t\\t\\t\\t\\t\\t\\t\\t\\t\\t\\tdata-src=\"https://s.pstatic.net/dthumb.phinf/?src&#x3D;%22http%3A%2F%2Fblogpfthumb.phinf.naver.net%2F20220218_201%2Ffojesus_1645151437614bieCu_JPEG%2Fimage.jpg%22&amp;type&#x3D;navermain_nf40_40\" alt=\"\" width=\"20\" height=\"20\"\\n\\t\\t\\t\\t\\t\\t\\t\\t\\t\\t\\t\\t\\t\\tonerror=\"this.outerHTML=\\'<i class=\\\\\\'pm_source_noimg\\\\\\'><span class=\\\\\\'blind\\\\\\'>이미지준비중</span></i>\\'\"></span>\\n\\t\\t\\t\\t\\t\\t\\t\\t\\t\\t\\t\\n\\t\\t\\t\\t\\t\\t\\t\\t\\t\\t<span class=\"source_inner\">\\n\\t\\t\\t\\t\\t\\t\\t\\t\\t\\t\\t<em class=\"theme_hl\">인플루언서</em>노바디</span>\\n\\t\\t\\t\\t\\t\\t\\t\\t\\t\\t</span>\\n\\t\\t\\t\\t\\t\\t\\t\\t\\t\\n\\t\\t\\t\\t\\t\\t\\t\\t</div>\\n\\t\\t\\t\\t\\t\\t\\t</div>\\n\\t\\t\\t\\t\\t\\t</div>\\n\\t\\t\\t\\t\\t</a>\\n\\t\\t\\t\\t\\n\\t\\t\\t\\n\\t\\t\\t\\t\\n\\t\\t\\t\\t\\t<a href=\"https://in.naver.com/kies84/contents/internal/560618235471264\" class=\"media_area\" data-da-position=\"true\" data-gdid=\"90000003_0000000000000033F164EE28\"\\n\\t\\t\\t\\t\\t   data-clk=\"tcc_sub.list1cont5\" target=\"_blank\">\\n\\t\\t\\t\\t\\t\\t<div class=\"media_thumb\">\\n\\t\\t\\t\\t\\t\\t\\t<img src=\"https://s.pstatic.net/dthumb.phinf/?src&#x3D;%22http%3A%2F%2Fblogfiles.naver.net%2FMjAyMzA1MDRfMjYw%2FMDAxNjgzMTY3MjUzOTE0.HOxQMdUKQkEgiccRcI1114W4DiVKlbCW93qRkcwPuaYg.GwPnUIiY8Yv4T_S1j7LXll4h-BwrDjXq1P_fELQai5Ug.JPEG.kies84%2FIMG_3916.JPG%22&amp;type&#x3D;nf464_260\"\\n\\t\\t\\t\\t\\t\\t\\t     data-src=\"https://s.pstatic.net/dthumb.phinf/?src&#x3D;%22http%3A%2F%2Fblogfiles.naver.net%2FMjAyMzA1MDRfMjYw%2FMDAxNjgzMTY3MjUzOTE0.HOxQMdUKQkEgiccRcI1114W4DiVKlbCW93qRkcwPuaYg.GwPnUIiY8Yv4T_S1j7LXll4h-BwrDjXq1P_fELQai5Ug.JPEG.kies84%2FIMG_3916.JPG%22&amp;type&#x3D;nf464_260\" alt=\"\" width=\"232\" height=\"130\"\\n\\t\\t\\t\\t\\t\\t\\t     onerror=\"this.outerHTML=\\'<span class=\\\\\\'pm_noimg\\\\\\'><span class=\\\\\\'noimg_text\\\\\\'>이미지 준비중</span></span>\\'\">\\n\\n\\t\\t\\t\\t\\t\\t\\t\\n\\t\\t\\t\\t\\t\\t\\t\\t<span class=\"thumb_bd\"></span>\\n\\t\\t\\t\\t\\t\\t\\t\\t\\n\\t\\t\\t\\t\\t\\t\\t\\n\\t\\t\\t\\t\\t\\t</div>\\n\\t\\t\\t\\t\\t\\t<div class=\"media_info\">\\n\\t\\t\\t\\t\\t\\t\\t<div class=\"info_box\">\\n\\t\\t\\t\\t\\t\\t\\t\\t\\n\\t\\t\\t\\t\\t\\t\\t\\t\\n\\t\\t\\t\\t\\t\\t\\t\\t<strong class=\"title \">계란말이 김밥 계란김밥 말기 김 미니펀치로 만드는 캐릭터김밥 캐릭터도시락으로도 굿</strong>\\n\\t\\t\\t\\t\\t\\t\\t\\t<div class=\"source_wrap\">\\n\\t\\t\\t\\t\\t\\t\\t\\t\\t\\n\\t\\t\\t\\t\\t\\t\\t\\t\\t\\t<span class=\"date\">5시간 전</span>\\n\\t\\t\\t\\t\\t\\t\\t\\t\\t\\t<span class=\"source\">\\n\\t\\t\\t\\t\\t\\t\\t\\t\\t\\t\\t\\n\\t\\t\\t\\t\\t\\t\\t\\t\\t\\t\\t\\t<span class=\"source_thumb\"><img\\n\\t\\t\\t\\t\\t\\t\\t\\t\\t\\t\\t\\t\\t\\tsrc=\"https://s.pstatic.net/dthumb.phinf/?src&#x3D;%22http%3A%2F%2Fblogpfthumb.phinf.naver.net%2F20151118_91%2Fkies84_1447826769906Cp9pH_JPEG%2Fttt.jpg%22&amp;type&#x3D;navermain_nf40_40\"\\n\\t\\t\\t\\t\\t\\t\\t\\t\\t\\t\\t\\t\\t\\tdata-src=\"https://s.pstatic.net/dthumb.phinf/?src&#x3D;%22http%3A%2F%2Fblogpfthumb.phinf.naver.net%2F20151118_91%2Fkies84_1447826769906Cp9pH_JPEG%2Fttt.jpg%22&amp;type&#x3D;navermain_nf40_40\" alt=\"\" width=\"20\" height=\"20\"\\n\\t\\t\\t\\t\\t\\t\\t\\t\\t\\t\\t\\t\\t\\tonerror=\"this.outerHTML=\\'<i class=\\\\\\'pm_source_noimg\\\\\\'><span class=\\\\\\'blind\\\\\\'>이미지준비중</span></i>\\'\"></span>\\n\\t\\t\\t\\t\\t\\t\\t\\t\\t\\t\\t\\n\\t\\t\\t\\t\\t\\t\\t\\t\\t\\t<span class=\"source_inner\">\\n\\t\\t\\t\\t\\t\\t\\t\\t\\t\\t\\t<em class=\"theme_hl\">인플루언서</em>초대리</span>\\n\\t\\t\\t\\t\\t\\t\\t\\t\\t\\t</span>\\n\\t\\t\\t\\t\\t\\t\\t\\t\\t\\n\\t\\t\\t\\t\\t\\t\\t\\t</div>\\n\\t\\t\\t\\t\\t\\t\\t</div>\\n\\t\\t\\t\\t\\t\\t</div>\\n\\t\\t\\t\\t\\t</a>\\n\\t\\t\\t\\t\\n\\t\\t\\t\\n\\t\\t\\t\\t\\n\\t\\t\\t\\t\\t<a href=\"http://blog.naver.com/byunsawoo/223084951202\" class=\"media_area\" data-da-position=\"true\" data-gdid=\"90000003_0000000000000033F0E636A2\"\\n\\t\\t\\t\\t\\t   data-clk=\"tcc_sub.list1cont6\" target=\"_blank\">\\n\\t\\t\\t\\t\\t\\t<div class=\"media_thumb\">\\n\\t\\t\\t\\t\\t\\t\\t<img src=\"https://s.pstatic.net/dthumb.phinf/?src&#x3D;%22http%3A%2F%2Fblogfiles.naver.net%2FMjAyMzA0MjVfMjY5%2FMDAxNjgyNDIwMzg2MTUx.CiTryrZFzbZ8Lp1c8S8dWcGlWwW44I6C1TWxG-UW7j4g.SYkSX06p257j1yCVSznTbrdHkq-3-L6kIj0IKSxv96gg.JPEG.byunsawoo%2Fad058d23458a4a5285c1af735a2419de.jpeg%22&amp;type&#x3D;nf464_260\"\\n\\t\\t\\t\\t\\t\\t\\t     data-src=\"https://s.pstatic.net/dthumb.phinf/?src&#x3D;%22http%3A%2F%2Fblogfiles.naver.net%2FMjAyMzA0MjVfMjY5%2FMDAxNjgyNDIwMzg2MTUx.CiTryrZFzbZ8Lp1c8S8dWcGlWwW44I6C1TWxG-UW7j4g.SYkSX06p257j1yCVSznTbrdHkq-3-L6kIj0IKSxv96gg.JPEG.byunsawoo%2Fad058d23458a4a5285c1af735a2419de.jpeg%22&amp;type&#x3D;nf464_260\" alt=\"\" width=\"232\" height=\"130\"\\n\\t\\t\\t\\t\\t\\t\\t     onerror=\"this.outerHTML=\\'<span class=\\\\\\'pm_noimg\\\\\\'><span class=\\\\\\'noimg_text\\\\\\'>이미지 준비중</span></span>\\'\">\\n\\n\\t\\t\\t\\t\\t\\t\\t\\n\\t\\t\\t\\t\\t\\t\\t\\t<span class=\"thumb_bd\"></span>\\n\\t\\t\\t\\t\\t\\t\\t\\t\\n\\t\\t\\t\\t\\t\\t\\t\\n\\t\\t\\t\\t\\t\\t</div>\\n\\t\\t\\t\\t\\t\\t<div class=\"media_info\">\\n\\t\\t\\t\\t\\t\\t\\t<div class=\"info_box\">\\n\\t\\t\\t\\t\\t\\t\\t\\t\\n\\t\\t\\t\\t\\t\\t\\t\\t\\n\\t\\t\\t\\t\\t\\t\\t\\t<strong class=\"title \">추자현 우효광 6살 아들과 공항 포착</strong>\\n\\t\\t\\t\\t\\t\\t\\t\\t<div class=\"source_wrap\">\\n\\t\\t\\t\\t\\t\\t\\t\\t\\t\\n\\t\\t\\t\\t\\t\\t\\t\\t\\t\\t<span class=\"date\">1주일 전</span>\\n\\t\\t\\t\\t\\t\\t\\t\\t\\t\\t<span class=\"source\">\\n\\t\\t\\t\\t\\t\\t\\t\\t\\t\\t\\t\\n\\t\\t\\t\\t\\t\\t\\t\\t\\t\\t\\t\\t<span class=\"source_thumb\"><img\\n\\t\\t\\t\\t\\t\\t\\t\\t\\t\\t\\t\\t\\t\\tsrc=\"https://s.pstatic.net/dthumb.phinf/?src&#x3D;%22http%3A%2F%2Fblogpfthumb.phinf.naver.net%2FMjAxODEwMDFfMjM1%2FMDAxNTM4MzcwNTcxODQ0.KR3FZwh9dASgO_EkA87HGx3iZWmCkBtXcAta6HxI0mcg.TzeMTjDpj9EfCK0K8IPSSnHFvRrHwHpKUlH1k5Asq2gg.GIF.byunsawoo%2F0887b95980fb4c8a81ec8dbbbe35c119.gif%22&amp;type&#x3D;navermain_nf40_40\"\\n\\t\\t\\t\\t\\t\\t\\t\\t\\t\\t\\t\\t\\t\\tdata-src=\"https://s.pstatic.net/dthumb.phinf/?src&#x3D;%22http%3A%2F%2Fblogpfthumb.phinf.naver.net%2FMjAxODEwMDFfMjM1%2FMDAxNTM4MzcwNTcxODQ0.KR3FZwh9dASgO_EkA87HGx3iZWmCkBtXcAta6HxI0mcg.TzeMTjDpj9EfCK0K8IPSSnHFvRrHwHpKUlH1k5Asq2gg.GIF.byunsawoo%2F0887b95980fb4c8a81ec8dbbbe35c119.gif%22&amp;type&#x3D;navermain_nf40_40\" alt=\"\" width=\"20\" height=\"20\"\\n\\t\\t\\t\\t\\t\\t\\t\\t\\t\\t\\t\\t\\t\\tonerror=\"this.outerHTML=\\'<i class=\\\\\\'pm_source_noimg\\\\\\'><span class=\\\\\\'blind\\\\\\'>이미지준비중</span></i>\\'\"></span>\\n\\t\\t\\t\\t\\t\\t\\t\\t\\t\\t\\t\\n\\t\\t\\t\\t\\t\\t\\t\\t\\t\\t<span class=\"source_inner\">밀밀</span>\\n\\t\\t\\t\\t\\t\\t\\t\\t\\t\\t</span>\\n\\t\\t\\t\\t\\t\\t\\t\\t\\t\\n\\t\\t\\t\\t\\t\\t\\t\\t</div>\\n\\t\\t\\t\\t\\t\\t\\t</div>\\n\\t\\t\\t\\t\\t\\t</div>\\n\\t\\t\\t\\t\\t</a>\\n\\t\\t\\t\\t\\n\\t\\t\\t\\n\\t\\t\\t\\t\\n\\t\\t\\t\\t\\t<a href=\"https://in.naver.com/ohye1991/contents/internal/558804781798592\" class=\"media_area\" data-da-position=\"true\" data-gdid=\"90000003_0000000000000033F11A31AC\"\\n\\t\\t\\t\\t\\t   data-clk=\"tcc_sub.list1cont7\" target=\"_blank\">\\n\\t\\t\\t\\t\\t\\t<div class=\"media_thumb\">\\n\\t\\t\\t\\t\\t\\t\\t<img src=\"https://s.pstatic.net/dthumb.phinf/?src&#x3D;%22https%3A%2F%2Fdiscovercrop-phinf.pstatic.net%2F%2FMjAyMzA0MjlfOTkg%2FMDAxNjgyNzQxMjgwNTA1.RQKjJ6alsY5IZn9UR7WOP_17QeU1zdEadU0-vEbYt1Eg.xIqMU_wHojQbnzibPy9BPZs2TqSovdgA75N4A6CzHGIg.JPEG%2Fimage_374x246.jpg%22&amp;type&#x3D;nf464_260\"\\n\\t\\t\\t\\t\\t\\t\\t     data-src=\"https://s.pstatic.net/dthumb.phinf/?src&#x3D;%22https%3A%2F%2Fdiscovercrop-phinf.pstatic.net%2F%2FMjAyMzA0MjlfOTkg%2FMDAxNjgyNzQxMjgwNTA1.RQKjJ6alsY5IZn9UR7WOP_17QeU1zdEadU0-vEbYt1Eg.xIqMU_wHojQbnzibPy9BPZs2TqSovdgA75N4A6CzHGIg.JPEG%2Fimage_374x246.jpg%22&amp;type&#x3D;nf464_260\" alt=\"\" width=\"232\" height=\"130\"\\n\\t\\t\\t\\t\\t\\t\\t     onerror=\"this.outerHTML=\\'<span class=\\\\\\'pm_noimg\\\\\\'><span class=\\\\\\'noimg_text\\\\\\'>이미지 준비중</span></span>\\'\">\\n\\n\\t\\t\\t\\t\\t\\t\\t\\n\\t\\t\\t\\t\\t\\t\\t\\t<span class=\"thumb_bd\"></span>\\n\\t\\t\\t\\t\\t\\t\\t\\t\\n\\t\\t\\t\\t\\t\\t\\t\\n\\t\\t\\t\\t\\t\\t</div>\\n\\t\\t\\t\\t\\t\\t<div class=\"media_info\">\\n\\t\\t\\t\\t\\t\\t\\t<div class=\"info_box\">\\n\\t\\t\\t\\t\\t\\t\\t\\t\\n\\t\\t\\t\\t\\t\\t\\t\\t\\n\\t\\t\\t\\t\\t\\t\\t\\t<strong class=\"title \">손목에 타투하고 백상 최우수상 받은 송혜교, 쇼메 드롭 귀걸이 가격은?</strong>\\n\\t\\t\\t\\t\\t\\t\\t\\t<div class=\"source_wrap\">\\n\\t\\t\\t\\t\\t\\t\\t\\t\\t\\n\\t\\t\\t\\t\\t\\t\\t\\t\\t\\t<span class=\"date\">5일 전</span>\\n\\t\\t\\t\\t\\t\\t\\t\\t\\t\\t<span class=\"source\">\\n\\t\\t\\t\\t\\t\\t\\t\\t\\t\\t\\t\\n\\t\\t\\t\\t\\t\\t\\t\\t\\t\\t\\t\\t<span class=\"source_thumb\"><img\\n\\t\\t\\t\\t\\t\\t\\t\\t\\t\\t\\t\\t\\t\\tsrc=\"https://s.pstatic.net/dthumb.phinf/?src&#x3D;%22http%3A%2F%2Fblogpfthumb.phinf.naver.net%2FMjAyMjAzMDZfMTIx%2FMDAxNjQ2NTc0OTE1OTk4.BWZ_4asW8yvus0Af4j_8f5LHdNx6ZBuTKp3DZ2Exawgg.W34S0yKuWylOxxIG4iTrqms0IfGQ3kO7Vo1koHiQLfAg.JPEG.ohye1991%2FprofileImage.jpg%22&amp;type&#x3D;navermain_nf40_40\"\\n\\t\\t\\t\\t\\t\\t\\t\\t\\t\\t\\t\\t\\t\\tdata-src=\"https://s.pstatic.net/dthumb.phinf/?src&#x3D;%22http%3A%2F%2Fblogpfthumb.phinf.naver.net%2FMjAyMjAzMDZfMTIx%2FMDAxNjQ2NTc0OTE1OTk4.BWZ_4asW8yvus0Af4j_8f5LHdNx6ZBuTKp3DZ2Exawgg.W34S0yKuWylOxxIG4iTrqms0IfGQ3kO7Vo1koHiQLfAg.JPEG.ohye1991%2FprofileImage.jpg%22&amp;type&#x3D;navermain_nf40_40\" alt=\"\" width=\"20\" height=\"20\"\\n\\t\\t\\t\\t\\t\\t\\t\\t\\t\\t\\t\\t\\t\\tonerror=\"this.outerHTML=\\'<i class=\\\\\\'pm_source_noimg\\\\\\'><span class=\\\\\\'blind\\\\\\'>이미지준비중</span></i>\\'\"></span>\\n\\t\\t\\t\\t\\t\\t\\t\\t\\t\\t\\t\\n\\t\\t\\t\\t\\t\\t\\t\\t\\t\\t<span class=\"source_inner\">\\n\\t\\t\\t\\t\\t\\t\\t\\t\\t\\t\\t<em class=\"theme_hl\">인플루언서</em>예뚱이</span>\\n\\t\\t\\t\\t\\t\\t\\t\\t\\t\\t</span>\\n\\t\\t\\t\\t\\t\\t\\t\\t\\t\\n\\t\\t\\t\\t\\t\\t\\t\\t</div>\\n\\t\\t\\t\\t\\t\\t\\t</div>\\n\\t\\t\\t\\t\\t\\t</div>\\n\\t\\t\\t\\t\\t</a>\\n\\t\\t\\t\\t\\n\\t\\t\\t\\n\\t\\t\\t\\t\\n\\t\\t\\t\\t\\t<a class=\"myfeed_area\" href=\"https://in.naver.com/jongy0644/topic/558285754719008?cds&#x3D;nm_pc_myfeed_recomm\" data-da-position=\"true\" data-gdid=\"9021as9p_0001fbc20817db20\" data-clk=\"tcc_sub.inftopic\" target=\"_blank\">\\n\\t<div class=\"myfeed_thumb\">\\n\\t\\t<img src=\"https://s.pstatic.net/dthumb.phinf/?src&#x3D;%22https%3A%2F%2Fdiscovercrop-phinf.pstatic.net%2F%2FMjAyMzA0MjhfMjk2%2FMDAxNjgyNjYyMjA4MTUw.YcYXE5ovERU-1Ta9CTQiAO2iANi3Np4LRg-dDe7B0m0g.oTSyPIBQJ394gdBh0-7cAQRQsx7qpiSHw-qKI9yM-Csg.JPEG%2Fimage_374x246.jpg%22&amp;type&#x3D;nf454_412\" data-src=\"https://s.pstatic.net/dthumb.phinf/?src&#x3D;%22https%3A%2F%2Fdiscovercrop-phinf.pstatic.net%2F%2FMjAyMzA0MjhfMjk2%2FMDAxNjgyNjYyMjA4MTUw.YcYXE5ovERU-1Ta9CTQiAO2iANi3Np4LRg-dDe7B0m0g.oTSyPIBQJ394gdBh0-7cAQRQsx7qpiSHw-qKI9yM-Csg.JPEG%2Fimage_374x246.jpg%22&amp;type&#x3D;nf454_412\" alt=\"\" width=\"227\" height=\"206\" onerror=\"this.outerHTML=\\'<span class=\\\\\\'pm_noimg\\\\\\'><span class=\\\\\\'noimg_text\\\\\\'>이미지 준비중</span></span>\\'\">\\n\\t\\t<span class=\"thumb_bd\"></span>\\n\\t\\t<em class=\"badge_category\"><span class=\"badge_inner\">경제/비즈니스</span></em>\\n\\t</div>\\n\\t<div class=\"media_info\">\\n\\t\\t<div class=\"info_box\">\\n\\t\\t\\t<strong class=\"title\">임창정 주가조작, 대구 인스타 주식고수 이슬비</strong>\\n\\t\\t\\t<div class=\"source_wrap\">\\n\\t\\t\\t\\t<span class=\"date\">6일 전</span>\\n\\t\\t\\t\\t<span class=\"source\">\\n\\t\\t\\t\\t\\t\\n\\t\\t\\t\\t\\t\\t<span class=\"source_thumb\"><img src=\"https://s.pstatic.net/dthumb.phinf/?src&#x3D;%22https%3A%2F%2Fhomebuilder-phinf.pstatic.net%2FMjAyMjA2MjBfNTgg%2FMDAxNjU1NjU0MzI2MDc3.NcSKz2v1FZgRkQO5k1_W5p0o6CycOMES0UUxJyKSmDEg.Ylz7p82u0fwBFkvHfhb4d3qVd3F21luynFSPT94nxhAg.JPEG%2F1655654326051_34EB22AA-107E-466F-8BB8-898AD7177359.jpeg%22&amp;type&#x3D;navermain_nf40_40\" data-src=\"https://s.pstatic.net/dthumb.phinf/?src&#x3D;%22https%3A%2F%2Fhomebuilder-phinf.pstatic.net%2FMjAyMjA2MjBfNTgg%2FMDAxNjU1NjU0MzI2MDc3.NcSKz2v1FZgRkQO5k1_W5p0o6CycOMES0UUxJyKSmDEg.Ylz7p82u0fwBFkvHfhb4d3qVd3F21luynFSPT94nxhAg.JPEG%2F1655654326051_34EB22AA-107E-466F-8BB8-898AD7177359.jpeg%22&amp;type&#x3D;navermain_nf40_40\" alt=\"\" width=\"20\" height=\"20\" onerror=\"this.outerHTML=\\'<i class=\\\\\\'pm_source_noimg\\\\\\'><span class=\\\\\\'blind\\\\\\'>이미지준비중</span></i>\\'\"></span>\\n\\t\\t\\t\\t\\t\\n\\t\\t\\t\\t\\t<span class=\"source_inner\"><em class=\"theme_hl\">인플루언서</em>쫑</span>\\n\\t\\t\\t\\t</span>\\n\\t\\t\\t</div>\\n\\t\\t</div>\\n\\t</div>\\n</a>\\n\\n\\t\\t\\t\\t\\n\\t\\t\\t\\n\\t\\t\\t\\t\\n\\t\\t\\t\\t\\t<a href=\"https://m.tv.naver.com/v/33218522\" class=\"media_area\" data-da-position=\"true\" data-gdid=\"CD5CE4CFDBA355D92F6A0BA62CCB6150BF57\"\\n\\t\\t\\t\\t\\t   data-clk=\"tcc_sub.list1cont9\" target=\"_blank\">\\n\\t\\t\\t\\t\\t\\t<div class=\"media_thumb\">\\n\\t\\t\\t\\t\\t\\t\\t<img src=\"https://s.pstatic.net/dthumb.phinf/?src&#x3D;%22https%3A%2F%2Fdiscovercrop-phinf.pstatic.net%2F%2FMjAyMzAyMjBfMTk5%2FMDAxNjc2ODMxNzQ1ODE2.wl-x7F1WTaoMxpo6cwMvnLH0nqtXcjtp7Oh2XGO9i-sg.fcGCcFQP1CYjDRB0cT9rnXH9qUCZz1ewHVWCuwb_8o4g.JPEG%2Fimage_374x246.jpg%22&amp;type&#x3D;nf464_260\"\\n\\t\\t\\t\\t\\t\\t\\t     data-src=\"https://s.pstatic.net/dthumb.phinf/?src&#x3D;%22https%3A%2F%2Fdiscovercrop-phinf.pstatic.net%2F%2FMjAyMzAyMjBfMTk5%2FMDAxNjc2ODMxNzQ1ODE2.wl-x7F1WTaoMxpo6cwMvnLH0nqtXcjtp7Oh2XGO9i-sg.fcGCcFQP1CYjDRB0cT9rnXH9qUCZz1ewHVWCuwb_8o4g.JPEG%2Fimage_374x246.jpg%22&amp;type&#x3D;nf464_260\" alt=\"\" width=\"232\" height=\"130\"\\n\\t\\t\\t\\t\\t\\t\\t     onerror=\"this.outerHTML=\\'<span class=\\\\\\'pm_noimg\\\\\\'><span class=\\\\\\'noimg_text\\\\\\'>이미지 준비중</span></span>\\'\">\\n\\n\\t\\t\\t\\t\\t\\t\\t\\n\\t\\t\\t\\t\\t\\t\\t\\t<span class=\"thumb_dim\"></span>\\n\\t\\t\\t\\t\\t\\t\\t\\t<span class=\"thumb_bd\"></span>\\n\\t\\t\\t\\t\\t\\t\\t\\t<i class=\"pm_ico_play\"><span class=\"blind\">재생</span></i>\\n\\t\\t\\t\\t\\t\\t\\t\\t<span class=\"theme_runtime\"><span class=\"runtime_bg\">재생시간</span><em\\n\\t\\t\\t\\t\\t\\t\\t\\t\\t\\tclass=\"time\">02:50</em></span>\\n\\t\\t\\t\\t\\t\\t\\t\\n\\t\\t\\t\\t\\t\\t</div>\\n\\t\\t\\t\\t\\t\\t<div class=\"media_info\">\\n\\t\\t\\t\\t\\t\\t\\t<div class=\"info_box\">\\n\\t\\t\\t\\t\\t\\t\\t\\t\\n\\t\\t\\t\\t\\t\\t\\t\\t\\n\\t\\t\\t\\t\\t\\t\\t\\t<strong class=\"title \">양배추와 사과를 이렇게 먹으면 2주만에 3kg가 금방 빠져요.</strong>\\n\\t\\t\\t\\t\\t\\t\\t\\t<div class=\"source_wrap\">\\n\\t\\t\\t\\t\\t\\t\\t\\t\\t\\n\\t\\t\\t\\t\\t\\t\\t\\t\\t\\t<span class=\"date\">2개월 전</span>\\n\\t\\t\\t\\t\\t\\t\\t\\t\\t\\t<span class=\"source\">\\n\\t\\t\\t\\t\\t\\t\\t\\t\\t\\t\\t\\n\\t\\t\\t\\t\\t\\t\\t\\t\\t\\t\\t\\t<span class=\"source_thumb\"><img\\n\\t\\t\\t\\t\\t\\t\\t\\t\\t\\t\\t\\t\\t\\tsrc=\"https://s.pstatic.net/dthumb.phinf/?src&#x3D;%22https%3A%2F%2Fs.pstatic.net%2Ftvcast.phinf%2F20180813_242%2FRzMeV_15341566379470Lepu_JPEG%2F1534156637890.JPG%22&amp;type&#x3D;navermain_nf40_40\"\\n\\t\\t\\t\\t\\t\\t\\t\\t\\t\\t\\t\\t\\t\\tdata-src=\"https://s.pstatic.net/dthumb.phinf/?src&#x3D;%22https%3A%2F%2Fs.pstatic.net%2Ftvcast.phinf%2F20180813_242%2FRzMeV_15341566379470Lepu_JPEG%2F1534156637890.JPG%22&amp;type&#x3D;navermain_nf40_40\" alt=\"\" width=\"20\" height=\"20\"\\n\\t\\t\\t\\t\\t\\t\\t\\t\\t\\t\\t\\t\\t\\tonerror=\"this.outerHTML=\\'<i class=\\\\\\'pm_source_noimg\\\\\\'><span class=\\\\\\'blind\\\\\\'>이미지준비중</span></i>\\'\"></span>\\n\\t\\t\\t\\t\\t\\t\\t\\t\\t\\t\\t\\n\\t\\t\\t\\t\\t\\t\\t\\t\\t\\t<span class=\"source_inner\">사계절밥상</span>\\n\\t\\t\\t\\t\\t\\t\\t\\t\\t\\t</span>\\n\\t\\t\\t\\t\\t\\t\\t\\t\\t\\n\\t\\t\\t\\t\\t\\t\\t\\t</div>\\n\\t\\t\\t\\t\\t\\t\\t</div>\\n\\t\\t\\t\\t\\t\\t</div>\\n\\t\\t\\t\\t\\t</a>\\n\\t\\t\\t\\t\\n\\t\\t\\t\\n\\t\\t</div>\\n\\t</div>\\n</div>\\n\\n<div class=\"group_theme\" data-block-id=\"61bae4aea10d3006850d76cc\" data-block-code=\"PC-THEME-MYFEED-RECOMMEND-2\" data-block-type=\"PC-MYFEED-BLOCK\" data-template-code=\"3X3\"\\n\\n     data-page=\"2\"\\n     style=\"display:none\">\\n\\n\\t<div class=\"media_view_wrap type_column\">\\n\\t\\t<div class=\"media_view\">\\n\\t\\t\\t\\n\\t\\t\\t\\t\\n\\t\\t\\t\\t\\t<a href=\"https://in.naver.com/cosreader/contents/internal/558275554665888\" class=\"media_area\" data-da-position=\"true\" data-gdid=\"90000003_0000000000000033F1069A20\"\\n\\t\\t\\t\\t\\t   data-clk=\"tcc_sub.list1cont1\" target=\"_blank\">\\n\\t\\t\\t\\t\\t\\t<div class=\"media_thumb\">\\n\\t\\t\\t\\t\\t\\t\\t<img \\n\\t\\t\\t\\t\\t\\t\\t     data-src=\"https://s.pstatic.net/dthumb.phinf/?src&#x3D;%22https%3A%2F%2Fdiscovercrop-phinf.pstatic.net%2F%2FMjAyMzA0MjhfMjAw%2FMDAxNjgyNjA4NTUyOTQy.v6v8LXvHKami59-Jb7zKu9vkKCQedpwVpngTu387etcg.S2GjZHN1uq9f1DFi0vJ57MdgFumuPH8NQIUPdJWiFugg.JPEG%2Fimage_374x246.jpg%22&amp;type&#x3D;nf464_260\" alt=\"\" width=\"232\" height=\"130\"\\n\\t\\t\\t\\t\\t\\t\\t     onerror=\"this.outerHTML=\\'<span class=\\\\\\'pm_noimg\\\\\\'><span class=\\\\\\'noimg_text\\\\\\'>이미지 준비중</span></span>\\'\">\\n\\n\\t\\t\\t\\t\\t\\t\\t\\n\\t\\t\\t\\t\\t\\t\\t\\t<span class=\"thumb_bd\"></span>\\n\\t\\t\\t\\t\\t\\t\\t\\t\\n\\t\\t\\t\\t\\t\\t\\t\\n\\t\\t\\t\\t\\t\\t</div>\\n\\t\\t\\t\\t\\t\\t<div class=\"media_info\">\\n\\t\\t\\t\\t\\t\\t\\t<div class=\"info_box\">\\n\\t\\t\\t\\t\\t\\t\\t\\t\\n\\t\\t\\t\\t\\t\\t\\t\\t\\n\\t\\t\\t\\t\\t\\t\\t\\t<strong class=\"title \">10만원대 정려원 롱샴가방 믿기지 않는 중저가 여성 가방 추천</strong>\\n\\t\\t\\t\\t\\t\\t\\t\\t<div class=\"source_wrap\">\\n\\t\\t\\t\\t\\t\\t\\t\\t\\t\\n\\t\\t\\t\\t\\t\\t\\t\\t\\t\\t<span class=\"date\">6일 전</span>\\n\\t\\t\\t\\t\\t\\t\\t\\t\\t\\t<span class=\"source\">\\n\\t\\t\\t\\t\\t\\t\\t\\t\\t\\t\\t\\n\\t\\t\\t\\t\\t\\t\\t\\t\\t\\t\\t\\t<span class=\"source_thumb\"><img\\n\\t\\t\\t\\t\\t\\t\\t\\t\\t\\t\\t\\t\\t\\t\\n\\t\\t\\t\\t\\t\\t\\t\\t\\t\\t\\t\\t\\t\\tdata-src=\"https://s.pstatic.net/dthumb.phinf/?src&#x3D;%22http%3A%2F%2Fblogpfthumb.phinf.naver.net%2FMjAyMjA0MDdfMTU5%2FMDAxNjQ5MjYwNTU0NDY4.CKJ57saDkgE0CrRdjJ7kBa4sFjCl_Q7dbKyO9LiTvEwg.27hKDxJhV8OfPiC5rVFfDW0w-pPABczoPZY9xfTAbKog.PNG.cosreader%2F1.png%2F1.png%22&amp;type&#x3D;navermain_nf40_40\" alt=\"\" width=\"20\" height=\"20\"\\n\\t\\t\\t\\t\\t\\t\\t\\t\\t\\t\\t\\t\\t\\tonerror=\"this.outerHTML=\\'<i class=\\\\\\'pm_source_noimg\\\\\\'><span class=\\\\\\'blind\\\\\\'>이미지준비중</span></i>\\'\"></span>\\n\\t\\t\\t\\t\\t\\t\\t\\t\\t\\t\\t\\n\\t\\t\\t\\t\\t\\t\\t\\t\\t\\t<span class=\"source_inner\">\\n\\t\\t\\t\\t\\t\\t\\t\\t\\t\\t\\t<em class=\"theme_hl\">인플루언서</em>화장품읽어주는남자</span>\\n\\t\\t\\t\\t\\t\\t\\t\\t\\t\\t</span>\\n\\t\\t\\t\\t\\t\\t\\t\\t\\t\\n\\t\\t\\t\\t\\t\\t\\t\\t</div>\\n\\t\\t\\t\\t\\t\\t\\t</div>\\n\\t\\t\\t\\t\\t\\t</div>\\n\\t\\t\\t\\t\\t</a>\\n\\t\\t\\t\\t\\n\\t\\t\\t\\n\\t\\t\\t\\t\\n\\t\\t\\t\\t\\t<a href=\"https://m.post.naver.com/viewer/postView.naver?volumeNo&#x3D;35794295&amp;memberNo&#x3D;15264553&amp;vType&#x3D;VERTICAL\" class=\"media_area\" data-da-position=\"true\" data-gdid=\"00055f7ca0_0002222d77\"\\n\\t\\t\\t\\t\\t   data-clk=\"tcc_sub.list1cont2\" target=\"_blank\">\\n\\t\\t\\t\\t\\t\\t<div class=\"media_thumb\">\\n\\t\\t\\t\\t\\t\\t\\t<img \\n\\t\\t\\t\\t\\t\\t\\t     data-src=\"https://s.pstatic.net/dthumb.phinf/?src&#x3D;%22https%3A%2F%2Fdiscovercrop-phinf.pstatic.net%2F%2FMjAyMzA0MTdfNiAg%2FMDAxNjgxNzA4OTkwNTg5.2JSSqJ2N3SQUWLi4nt8qMSclXR7bn6W0_ShPtSydAL8g.YGJV7iqtaznHof0rQ5ob1tpL6NzqFM5ZvKz2uCWHNlkg.JPEG%2Fimage_374x246.jpg%22&amp;type&#x3D;nf464_260\" alt=\"\" width=\"232\" height=\"130\"\\n\\t\\t\\t\\t\\t\\t\\t     onerror=\"this.outerHTML=\\'<span class=\\\\\\'pm_noimg\\\\\\'><span class=\\\\\\'noimg_text\\\\\\'>이미지 준비중</span></span>\\'\">\\n\\n\\t\\t\\t\\t\\t\\t\\t\\n\\t\\t\\t\\t\\t\\t\\t\\t<span class=\"thumb_bd\"></span>\\n\\t\\t\\t\\t\\t\\t\\t\\t\\n\\t\\t\\t\\t\\t\\t\\t\\n\\t\\t\\t\\t\\t\\t</div>\\n\\t\\t\\t\\t\\t\\t<div class=\"media_info\">\\n\\t\\t\\t\\t\\t\\t\\t<div class=\"info_box\">\\n\\t\\t\\t\\t\\t\\t\\t\\t\\n\\t\\t\\t\\t\\t\\t\\t\\t\\n\\t\\t\\t\\t\\t\\t\\t\\t<strong class=\"title \">강동원·로제, 16살 차이 극복하고 열애 중?</strong>\\n\\t\\t\\t\\t\\t\\t\\t\\t<div class=\"source_wrap\">\\n\\t\\t\\t\\t\\t\\t\\t\\t\\t\\n\\t\\t\\t\\t\\t\\t\\t\\t\\t\\t<span class=\"date\">2주일 전</span>\\n\\t\\t\\t\\t\\t\\t\\t\\t\\t\\t<span class=\"source\">\\n\\t\\t\\t\\t\\t\\t\\t\\t\\t\\t\\t\\n\\t\\t\\t\\t\\t\\t\\t\\t\\t\\t\\t\\t<span class=\"source_thumb\"><img\\n\\t\\t\\t\\t\\t\\t\\t\\t\\t\\t\\t\\t\\t\\t\\n\\t\\t\\t\\t\\t\\t\\t\\t\\t\\t\\t\\t\\t\\tdata-src=\"https://s.pstatic.net/dthumb.phinf/?src&#x3D;%22https%3A%2F%2Fs.pstatic.net%2Fpost.phinf%2FMjAxOTA2MDVfMTA2%2FMDAxNTU5Njk4MTEwMTUx.Vx4ke4c5sSjf2Qs7MqqvunPwfjcyPdhStV7-p-MtWBkg.QT8iLTdNR_uIlGk6kFrovbD_3rD52jjU0IlauQRO2tAg.JPEG%2Fpost_7862444559296210044.jpg%3Ftype%3Df200_200%22&amp;type&#x3D;navermain_nf40_40\" alt=\"\" width=\"20\" height=\"20\"\\n\\t\\t\\t\\t\\t\\t\\t\\t\\t\\t\\t\\t\\t\\tonerror=\"this.outerHTML=\\'<i class=\\\\\\'pm_source_noimg\\\\\\'><span class=\\\\\\'blind\\\\\\'>이미지준비중</span></i>\\'\"></span>\\n\\t\\t\\t\\t\\t\\t\\t\\t\\t\\t\\t\\n\\t\\t\\t\\t\\t\\t\\t\\t\\t\\t<span class=\"source_inner\">kizmom</span>\\n\\t\\t\\t\\t\\t\\t\\t\\t\\t\\t</span>\\n\\t\\t\\t\\t\\t\\t\\t\\t\\t\\n\\t\\t\\t\\t\\t\\t\\t\\t</div>\\n\\t\\t\\t\\t\\t\\t\\t</div>\\n\\t\\t\\t\\t\\t\\t</div>\\n\\t\\t\\t\\t\\t</a>\\n\\t\\t\\t\\t\\n\\t\\t\\t\\n\\t\\t\\t\\t\\n\\t\\t\\t\\t\\t<a href=\"https://in.naver.com/romi/contents/internal/559868954829888\" class=\"media_area\" data-da-position=\"true\" data-gdid=\"90000003_0000000000000033F13D0197\"\\n\\t\\t\\t\\t\\t   data-clk=\"tcc_sub.list1cont3\" target=\"_blank\">\\n\\t\\t\\t\\t\\t\\t<div class=\"media_thumb\">\\n\\t\\t\\t\\t\\t\\t\\t<img \\n\\t\\t\\t\\t\\t\\t\\t     data-src=\"https://s.pstatic.net/dthumb.phinf/?src&#x3D;%22https%3A%2F%2Fdiscovercrop-phinf.pstatic.net%2F%2FMjAyMzA1MDJfMjA0%2FMDAxNjgyOTk2OTkwOTE2.McwcQSPvsDDg9vz54dwVWkZqWwUDkctiVjJ5B1ihxsIg.LVQH4vglTErP3Ph54C-P71NieTFvWDMmgTE3isU628kg.JPEG%2Fimage_374x246.jpg%22&amp;type&#x3D;nf464_260\" alt=\"\" width=\"232\" height=\"130\"\\n\\t\\t\\t\\t\\t\\t\\t     onerror=\"this.outerHTML=\\'<span class=\\\\\\'pm_noimg\\\\\\'><span class=\\\\\\'noimg_text\\\\\\'>이미지 준비중</span></span>\\'\">\\n\\n\\t\\t\\t\\t\\t\\t\\t\\n\\t\\t\\t\\t\\t\\t\\t\\t<span class=\"thumb_bd\"></span>\\n\\t\\t\\t\\t\\t\\t\\t\\t\\n\\t\\t\\t\\t\\t\\t\\t\\n\\t\\t\\t\\t\\t\\t</div>\\n\\t\\t\\t\\t\\t\\t<div class=\"media_info\">\\n\\t\\t\\t\\t\\t\\t\\t<div class=\"info_box\">\\n\\t\\t\\t\\t\\t\\t\\t\\t\\n\\t\\t\\t\\t\\t\\t\\t\\t\\n\\t\\t\\t\\t\\t\\t\\t\\t<strong class=\"title \">대치동 강사가 겪은 대치동과 타 지역의 현실. 인천 영등포 등 입시 결과와 원인 비교. 대치동 입시결과 등 자녀교육 학군지 고민 참고용</strong>\\n\\t\\t\\t\\t\\t\\t\\t\\t<div class=\"source_wrap\">\\n\\t\\t\\t\\t\\t\\t\\t\\t\\t\\n\\t\\t\\t\\t\\t\\t\\t\\t\\t\\t<span class=\"date\">2일 전</span>\\n\\t\\t\\t\\t\\t\\t\\t\\t\\t\\t<span class=\"source\">\\n\\t\\t\\t\\t\\t\\t\\t\\t\\t\\t\\t\\n\\t\\t\\t\\t\\t\\t\\t\\t\\t\\t\\t\\t<span class=\"source_thumb\"><img\\n\\t\\t\\t\\t\\t\\t\\t\\t\\t\\t\\t\\t\\t\\t\\n\\t\\t\\t\\t\\t\\t\\t\\t\\t\\t\\t\\t\\t\\tdata-src=\"https://s.pstatic.net/dthumb.phinf/?src&#x3D;%22http%3A%2F%2Fblogpfthumb.phinf.naver.net%2FMjAyMzA0MjRfOTIg%2FMDAxNjgyMzQwOTk5Mzc0.kTnGu4lqndB0NcDgSXq3KNpRvwCb1dLejYPEm8rLtosg.lznGtZHS8hQfDwX1QXnlVvf7SQ8Z7PK0iIZSsWaGVpog.JPEG.happysong4u%2FprofileImage.jpg%22&amp;type&#x3D;navermain_nf40_40\" alt=\"\" width=\"20\" height=\"20\"\\n\\t\\t\\t\\t\\t\\t\\t\\t\\t\\t\\t\\t\\t\\tonerror=\"this.outerHTML=\\'<i class=\\\\\\'pm_source_noimg\\\\\\'><span class=\\\\\\'blind\\\\\\'>이미지준비중</span></i>\\'\"></span>\\n\\t\\t\\t\\t\\t\\t\\t\\t\\t\\t\\t\\n\\t\\t\\t\\t\\t\\t\\t\\t\\t\\t<span class=\"source_inner\">\\n\\t\\t\\t\\t\\t\\t\\t\\t\\t\\t\\t<em class=\"theme_hl\">인플루언서</em>로미Romi</span>\\n\\t\\t\\t\\t\\t\\t\\t\\t\\t\\t</span>\\n\\t\\t\\t\\t\\t\\t\\t\\t\\t\\n\\t\\t\\t\\t\\t\\t\\t\\t</div>\\n\\t\\t\\t\\t\\t\\t\\t</div>\\n\\t\\t\\t\\t\\t\\t</div>\\n\\t\\t\\t\\t\\t</a>\\n\\t\\t\\t\\t\\n\\t\\t\\t\\n\\t\\t\\t\\t\\n\\t\\t\\t\\t\\t<a href=\"https://in.naver.com/cosreader/contents/internal/555029967974944\" class=\"media_area\" data-da-position=\"true\" data-gdid=\"90000003_0000000000000033F0824132\"\\n\\t\\t\\t\\t\\t   data-clk=\"tcc_sub.list1cont4\" target=\"_blank\">\\n\\t\\t\\t\\t\\t\\t<div class=\"media_thumb\">\\n\\t\\t\\t\\t\\t\\t\\t<img \\n\\t\\t\\t\\t\\t\\t\\t     data-src=\"https://s.pstatic.net/dthumb.phinf/?src&#x3D;%22https%3A%2F%2Fdiscovercrop-phinf.pstatic.net%2F%2FMjAyMzA0MThfMTE1%2FMDAxNjgxODIxMzE1ODQ0.SBBR9m_4wXwnRlSxe4KeDcJMr3e574cdo29T6R5fxfIg.GgnOOSEnlwH_a0QRT34E5hr33mvPbGBMdkTVnY9Tf5og.JPEG%2Fimage_374x246.jpg%22&amp;type&#x3D;nf464_260\" alt=\"\" width=\"232\" height=\"130\"\\n\\t\\t\\t\\t\\t\\t\\t     onerror=\"this.outerHTML=\\'<span class=\\\\\\'pm_noimg\\\\\\'><span class=\\\\\\'noimg_text\\\\\\'>이미지 준비중</span></span>\\'\">\\n\\n\\t\\t\\t\\t\\t\\t\\t\\n\\t\\t\\t\\t\\t\\t\\t\\t<span class=\"thumb_bd\"></span>\\n\\t\\t\\t\\t\\t\\t\\t\\t\\n\\t\\t\\t\\t\\t\\t\\t\\n\\t\\t\\t\\t\\t\\t</div>\\n\\t\\t\\t\\t\\t\\t<div class=\"media_info\">\\n\\t\\t\\t\\t\\t\\t\\t<div class=\"info_box\">\\n\\t\\t\\t\\t\\t\\t\\t\\t\\n\\t\\t\\t\\t\\t\\t\\t\\t\\n\\t\\t\\t\\t\\t\\t\\t\\t<strong class=\"title \">코밑 코옆 코주변 코안 여드름 뾰루지 의외로 간단한 해결법</strong>\\n\\t\\t\\t\\t\\t\\t\\t\\t<div class=\"source_wrap\">\\n\\t\\t\\t\\t\\t\\t\\t\\t\\t\\n\\t\\t\\t\\t\\t\\t\\t\\t\\t\\t<span class=\"date\">2주일 전</span>\\n\\t\\t\\t\\t\\t\\t\\t\\t\\t\\t<span class=\"source\">\\n\\t\\t\\t\\t\\t\\t\\t\\t\\t\\t\\t\\n\\t\\t\\t\\t\\t\\t\\t\\t\\t\\t\\t\\t<span class=\"source_thumb\"><img\\n\\t\\t\\t\\t\\t\\t\\t\\t\\t\\t\\t\\t\\t\\t\\n\\t\\t\\t\\t\\t\\t\\t\\t\\t\\t\\t\\t\\t\\tdata-src=\"https://s.pstatic.net/dthumb.phinf/?src&#x3D;%22http%3A%2F%2Fblogpfthumb.phinf.naver.net%2FMjAyMjA0MDdfMTU5%2FMDAxNjQ5MjYwNTU0NDY4.CKJ57saDkgE0CrRdjJ7kBa4sFjCl_Q7dbKyO9LiTvEwg.27hKDxJhV8OfPiC5rVFfDW0w-pPABczoPZY9xfTAbKog.PNG.cosreader%2F1.png%2F1.png%22&amp;type&#x3D;navermain_nf40_40\" alt=\"\" width=\"20\" height=\"20\"\\n\\t\\t\\t\\t\\t\\t\\t\\t\\t\\t\\t\\t\\t\\tonerror=\"this.outerHTML=\\'<i class=\\\\\\'pm_source_noimg\\\\\\'><span class=\\\\\\'blind\\\\\\'>이미지준비중</span></i>\\'\"></span>\\n\\t\\t\\t\\t\\t\\t\\t\\t\\t\\t\\t\\n\\t\\t\\t\\t\\t\\t\\t\\t\\t\\t<span class=\"source_inner\">\\n\\t\\t\\t\\t\\t\\t\\t\\t\\t\\t\\t<em class=\"theme_hl\">인플루언서</em>화장품읽어주는남자</span>\\n\\t\\t\\t\\t\\t\\t\\t\\t\\t\\t</span>\\n\\t\\t\\t\\t\\t\\t\\t\\t\\t\\n\\t\\t\\t\\t\\t\\t\\t\\t</div>\\n\\t\\t\\t\\t\\t\\t\\t</div>\\n\\t\\t\\t\\t\\t\\t</div>\\n\\t\\t\\t\\t\\t</a>\\n\\t\\t\\t\\t\\n\\t\\t\\t\\n\\t\\t\\t\\t\\n\\t\\t\\t\\t\\t<a class=\"myfeed_area\" href=\"https://in.naver.com/kwleslie/topic/560439386209440?cds&#x3D;nm_pc_myfeed_recomm\" data-da-position=\"true\" data-gdid=\"9021as9p_0001fdb776887ca0\" data-clk=\"tcc_sub.inftopic\" target=\"_blank\">\\n\\t<div class=\"myfeed_thumb\">\\n\\t\\t<img  data-src=\"https://s.pstatic.net/dthumb.phinf/?src&#x3D;%22https%3A%2F%2Finfluencer-phinf.pstatic.net%2FMjAyMzA1MDRfMjIg%2FMDAxNjgzMTI2NjcyNDg2.Y831DOhj0Kvi3WcyhuxvdkHEPM6_USIWXdYakXJCHgsg.YR89wu9YZrZt9dvOoouTga8WHEL1VTWfaGiouFzc2OAg.PNG%2Ffed1.png%22&amp;type&#x3D;nf454_412\" alt=\"\" width=\"227\" height=\"206\" onerror=\"this.outerHTML=\\'<span class=\\\\\\'pm_noimg\\\\\\'><span class=\\\\\\'noimg_text\\\\\\'>이미지 준비중</span></span>\\'\">\\n\\t\\t<span class=\"thumb_bd\"></span>\\n\\t\\t<em class=\"badge_category\"><span class=\"badge_inner\">여행</span></em>\\n\\t</div>\\n\\t<div class=\"media_info\">\\n\\t\\t<div class=\"info_box\">\\n\\t\\t\\t<strong class=\"title\">튤립 축제 top</strong>\\n\\t\\t\\t<div class=\"source_wrap\">\\n\\t\\t\\t\\t<span class=\"date\">17시간 전</span>\\n\\t\\t\\t\\t<span class=\"source\">\\n\\t\\t\\t\\t\\t\\n\\t\\t\\t\\t\\t\\t<span class=\"source_thumb\"><img  data-src=\"https://s.pstatic.net/dthumb.phinf/?src&#x3D;%22https%3A%2F%2Fblogpfthumb-phinf.pstatic.net%2FMjAyMjEyMDlfMTM5%2FMDAxNjcwNTc3Nzk0NTIy.l2vZhazxAy1Q9b8eSZzxlLd86CtfOxKIeHOvEFhOpg4g.7zU3DMuCMpb3CY6LJaDfs3VOz_r0pHNzV3d4Sq5kVRsg.JPEG.kwleslie%2FprofileImage.jpg%22&amp;type&#x3D;navermain_nf40_40\" alt=\"\" width=\"20\" height=\"20\" onerror=\"this.outerHTML=\\'<i class=\\\\\\'pm_source_noimg\\\\\\'><span class=\\\\\\'blind\\\\\\'>이미지준비중</span></i>\\'\"></span>\\n\\t\\t\\t\\t\\t\\n\\t\\t\\t\\t\\t<span class=\"source_inner\"><em class=\"theme_hl\">인플루언서</em>국영사랑2</span>\\n\\t\\t\\t\\t</span>\\n\\t\\t\\t</div>\\n\\t\\t</div>\\n\\t</div>\\n</a>\\n\\n\\t\\t\\t\\t\\n\\t\\t\\t\\n\\t\\t\\t\\t\\n\\t\\t\\t\\t\\t<a href=\"https://in.naver.com/nihaoyoga/contents/internal/557916278392064\" class=\"media_area\" data-da-position=\"true\" data-gdid=\"90000003_0000000000000033F0F6853B\"\\n\\t\\t\\t\\t\\t   data-clk=\"tcc_sub.list1cont6\" target=\"_blank\">\\n\\t\\t\\t\\t\\t\\t<div class=\"media_thumb\">\\n\\t\\t\\t\\t\\t\\t\\t<img \\n\\t\\t\\t\\t\\t\\t\\t     data-src=\"https://s.pstatic.net/dthumb.phinf/?src&#x3D;%22https%3A%2F%2Fdiscovercrop-phinf.pstatic.net%2F%2FMjAyMzA0MjdfMjEx%2FMDAxNjgyNTM2MTE4NjQy.R2WmcAHayek562cQRBJTzC0_bI8hVUX0rQ8XYeL1Vcsg.APrsAX1UDv2DVV6YzC36dSf5FDfN5rMI6GAnxmIn6nQg.JPEG%2Fimage_374x246.jpg%22&amp;type&#x3D;nf464_260\" alt=\"\" width=\"232\" height=\"130\"\\n\\t\\t\\t\\t\\t\\t\\t     onerror=\"this.outerHTML=\\'<span class=\\\\\\'pm_noimg\\\\\\'><span class=\\\\\\'noimg_text\\\\\\'>이미지 준비중</span></span>\\'\">\\n\\n\\t\\t\\t\\t\\t\\t\\t\\n\\t\\t\\t\\t\\t\\t\\t\\t<span class=\"thumb_bd\"></span>\\n\\t\\t\\t\\t\\t\\t\\t\\t\\n\\t\\t\\t\\t\\t\\t\\t\\n\\t\\t\\t\\t\\t\\t</div>\\n\\t\\t\\t\\t\\t\\t<div class=\"media_info\">\\n\\t\\t\\t\\t\\t\\t\\t<div class=\"info_box\">\\n\\t\\t\\t\\t\\t\\t\\t\\t\\n\\t\\t\\t\\t\\t\\t\\t\\t\\n\\t\\t\\t\\t\\t\\t\\t\\t<strong class=\"title \">이효리 요가 다이어트 효과 ⭕️필라테스 차이 종류 아쉬탕가 하타 빈야사 비크람 아침 힐링 남자 커플 자세교정 요가 인요가 핫요가 자세</strong>\\n\\t\\t\\t\\t\\t\\t\\t\\t<div class=\"source_wrap\">\\n\\t\\t\\t\\t\\t\\t\\t\\t\\t\\n\\t\\t\\t\\t\\t\\t\\t\\t\\t\\t<span class=\"date\">1주일 전</span>\\n\\t\\t\\t\\t\\t\\t\\t\\t\\t\\t<span class=\"source\">\\n\\t\\t\\t\\t\\t\\t\\t\\t\\t\\t\\t\\n\\t\\t\\t\\t\\t\\t\\t\\t\\t\\t\\t\\t<span class=\"source_thumb\"><img\\n\\t\\t\\t\\t\\t\\t\\t\\t\\t\\t\\t\\t\\t\\t\\n\\t\\t\\t\\t\\t\\t\\t\\t\\t\\t\\t\\t\\t\\tdata-src=\"https://s.pstatic.net/dthumb.phinf/?src&#x3D;%22http%3A%2F%2Fblogpfthumb.phinf.naver.net%2FMjAyMzA0MTlfMTQ5%2FMDAxNjgxODMzMjA0NzI4.He3tYLxyyYqcEzXrcHFz35MHECx1v5i2BU0_pKiizl4g.PSJjhup2GotGeluFjkjW6hgV7Rpwkf2-QLIKXEuOc9cg.PNG.nihaoyoga%2FprofileImage.png%22&amp;type&#x3D;navermain_nf40_40\" alt=\"\" width=\"20\" height=\"20\"\\n\\t\\t\\t\\t\\t\\t\\t\\t\\t\\t\\t\\t\\t\\tonerror=\"this.outerHTML=\\'<i class=\\\\\\'pm_source_noimg\\\\\\'><span class=\\\\\\'blind\\\\\\'>이미지준비중</span></i>\\'\"></span>\\n\\t\\t\\t\\t\\t\\t\\t\\t\\t\\t\\t\\n\\t\\t\\t\\t\\t\\t\\t\\t\\t\\t<span class=\"source_inner\">\\n\\t\\t\\t\\t\\t\\t\\t\\t\\t\\t\\t<em class=\"theme_hl\">인플루언서</em>생존홈트</span>\\n\\t\\t\\t\\t\\t\\t\\t\\t\\t\\t</span>\\n\\t\\t\\t\\t\\t\\t\\t\\t\\t\\n\\t\\t\\t\\t\\t\\t\\t\\t</div>\\n\\t\\t\\t\\t\\t\\t\\t</div>\\n\\t\\t\\t\\t\\t\\t</div>\\n\\t\\t\\t\\t\\t</a>\\n\\t\\t\\t\\t\\n\\t\\t\\t\\n\\t\\t\\t\\t\\n\\t\\t\\t\\t\\t<a href=\"https://in.naver.com/daki/contents/internal/558239387301024\" class=\"media_area\" data-da-position=\"true\" data-gdid=\"00055f7ca0_0002231438\"\\n\\t\\t\\t\\t\\t   data-clk=\"tcc_sub.list1cont7\" target=\"_blank\">\\n\\t\\t\\t\\t\\t\\t<div class=\"media_thumb\">\\n\\t\\t\\t\\t\\t\\t\\t<img \\n\\t\\t\\t\\t\\t\\t\\t     data-src=\"https://s.pstatic.net/dthumb.phinf/?src&#x3D;%22https%3A%2F%2Fdiscovercrop-phinf.pstatic.net%2F%2FMjAyMzA0MjhfMzIg%2FMDAxNjgyNjI0MjAxNjI4.q8Wvl3xgaiz-KJ1z3Zr4R86TkemV26Hrp_spsGRuiXIg.JHzt3oy6dTp3DZVZC5lPeKGfTNtGnx1aF9C8lNDQmbQg.JPEG%2Fimage_374x246.jpg%22&amp;type&#x3D;nf464_260\" alt=\"\" width=\"232\" height=\"130\"\\n\\t\\t\\t\\t\\t\\t\\t     onerror=\"this.outerHTML=\\'<span class=\\\\\\'pm_noimg\\\\\\'><span class=\\\\\\'noimg_text\\\\\\'>이미지 준비중</span></span>\\'\">\\n\\n\\t\\t\\t\\t\\t\\t\\t\\n\\t\\t\\t\\t\\t\\t\\t\\t<span class=\"thumb_bd\"></span>\\n\\t\\t\\t\\t\\t\\t\\t\\t\\n\\t\\t\\t\\t\\t\\t\\t\\n\\t\\t\\t\\t\\t\\t</div>\\n\\t\\t\\t\\t\\t\\t<div class=\"media_info\">\\n\\t\\t\\t\\t\\t\\t\\t<div class=\"info_box\">\\n\\t\\t\\t\\t\\t\\t\\t\\t\\n\\t\\t\\t\\t\\t\\t\\t\\t\\n\\t\\t\\t\\t\\t\\t\\t\\t<strong class=\"title \">“아빠들 대환호” 중고시세 폭락한 카니발, 조만간 하이브리드도 나온다</strong>\\n\\t\\t\\t\\t\\t\\t\\t\\t<div class=\"source_wrap\">\\n\\t\\t\\t\\t\\t\\t\\t\\t\\t\\n\\t\\t\\t\\t\\t\\t\\t\\t\\t\\t<span class=\"date\">6일 전</span>\\n\\t\\t\\t\\t\\t\\t\\t\\t\\t\\t<span class=\"source\">\\n\\t\\t\\t\\t\\t\\t\\t\\t\\t\\t\\t\\n\\t\\t\\t\\t\\t\\t\\t\\t\\t\\t\\t\\t<span class=\"source_thumb\"><img\\n\\t\\t\\t\\t\\t\\t\\t\\t\\t\\t\\t\\t\\t\\t\\n\\t\\t\\t\\t\\t\\t\\t\\t\\t\\t\\t\\t\\t\\tdata-src=\"https://s.pstatic.net/dthumb.phinf/?src&#x3D;%22https%3A%2F%2Fs.pstatic.net%2Fpost.phinf%2FMjAyMDEwMTVfMTkz%2FMDAxNjAyNzQzMjY4NjEw.GlSbhA_VdhHl7OVPQuk6cnWqJSR78lvs20_mR--dlscg.lxILgNyTSQeKbs-y5H2HYvOPj-IHIkzRtSn98mChfQkg.PNG%2Fpost_1384977838082956362.png%3Ftype%3Df200_200%22&amp;type&#x3D;navermain_nf40_40\" alt=\"\" width=\"20\" height=\"20\"\\n\\t\\t\\t\\t\\t\\t\\t\\t\\t\\t\\t\\t\\t\\tonerror=\"this.outerHTML=\\'<i class=\\\\\\'pm_source_noimg\\\\\\'><span class=\\\\\\'blind\\\\\\'>이미지준비중</span></i>\\'\"></span>\\n\\t\\t\\t\\t\\t\\t\\t\\t\\t\\t\\t\\n\\t\\t\\t\\t\\t\\t\\t\\t\\t\\t<span class=\"source_inner\">\\n\\t\\t\\t\\t\\t\\t\\t\\t\\t\\t\\t<em class=\"theme_hl\">인플루언서</em>다키포스트</span>\\n\\t\\t\\t\\t\\t\\t\\t\\t\\t\\t</span>\\n\\t\\t\\t\\t\\t\\t\\t\\t\\t\\n\\t\\t\\t\\t\\t\\t\\t\\t</div>\\n\\t\\t\\t\\t\\t\\t\\t</div>\\n\\t\\t\\t\\t\\t\\t</div>\\n\\t\\t\\t\\t\\t</a>\\n\\t\\t\\t\\t\\n\\t\\t\\t\\n\\t\\t\\t\\t\\n\\t\\t\\t\\t\\t<a href=\"https://m.post.naver.com/viewer/postView.naver?volumeNo&#x3D;35844518&amp;memberNo&#x3D;22348821&amp;vType&#x3D;VERTICAL\" class=\"media_area\" data-da-position=\"true\" data-gdid=\"00055f7ca0_000222f1a6\"\\n\\t\\t\\t\\t\\t   data-clk=\"tcc_sub.list1cont8\" target=\"_blank\">\\n\\t\\t\\t\\t\\t\\t<div class=\"media_thumb\">\\n\\t\\t\\t\\t\\t\\t\\t<img \\n\\t\\t\\t\\t\\t\\t\\t     data-src=\"https://s.pstatic.net/dthumb.phinf/?src&#x3D;%22https%3A%2F%2Fdiscovercrop-phinf.pstatic.net%2F%2FMjAyMzA0MjhfMTU0%2FMDAxNjgyNjU4OTg5OTAz.wwkH2XTP6S0J5Zu2zcdKjYLVMFQSDag5t3jCaw-1rzcg.jP3oooFjjr0njhIB8PrJ21fYKwrgK6yZFd7WjRcva6Eg.JPEG%2Fimage_374x246.jpg%22&amp;type&#x3D;nf464_260\" alt=\"\" width=\"232\" height=\"130\"\\n\\t\\t\\t\\t\\t\\t\\t     onerror=\"this.outerHTML=\\'<span class=\\\\\\'pm_noimg\\\\\\'><span class=\\\\\\'noimg_text\\\\\\'>이미지 준비중</span></span>\\'\">\\n\\n\\t\\t\\t\\t\\t\\t\\t\\n\\t\\t\\t\\t\\t\\t\\t\\t<span class=\"thumb_bd\"></span>\\n\\t\\t\\t\\t\\t\\t\\t\\t\\n\\t\\t\\t\\t\\t\\t\\t\\n\\t\\t\\t\\t\\t\\t</div>\\n\\t\\t\\t\\t\\t\\t<div class=\"media_info\">\\n\\t\\t\\t\\t\\t\\t\\t<div class=\"info_box\">\\n\\t\\t\\t\\t\\t\\t\\t\\t\\n\\t\\t\\t\\t\\t\\t\\t\\t\\n\\t\\t\\t\\t\\t\\t\\t\\t<strong class=\"title \">훌륭하게 아이를 키우는 부모들의 10가지 특징</strong>\\n\\t\\t\\t\\t\\t\\t\\t\\t<div class=\"source_wrap\">\\n\\t\\t\\t\\t\\t\\t\\t\\t\\t\\n\\t\\t\\t\\t\\t\\t\\t\\t\\t\\t<span class=\"date\">1주일 전</span>\\n\\t\\t\\t\\t\\t\\t\\t\\t\\t\\t<span class=\"source\">\\n\\t\\t\\t\\t\\t\\t\\t\\t\\t\\t\\t\\n\\t\\t\\t\\t\\t\\t\\t\\t\\t\\t\\t\\t<span class=\"source_thumb\"><img\\n\\t\\t\\t\\t\\t\\t\\t\\t\\t\\t\\t\\t\\t\\t\\n\\t\\t\\t\\t\\t\\t\\t\\t\\t\\t\\t\\t\\t\\tdata-src=\"https://s.pstatic.net/dthumb.phinf/?src&#x3D;%22https%3A%2F%2Fs.pstatic.net%2Fpost.phinf%2F20160602_61%2Fhavitplay_1464852991789ejztU_PNG%2Fhavitplay_6519967201551944556.png%3Ftype%3Df200_200%22&amp;type&#x3D;navermain_nf40_40\" alt=\"\" width=\"20\" height=\"20\"\\n\\t\\t\\t\\t\\t\\t\\t\\t\\t\\t\\t\\t\\t\\tonerror=\"this.outerHTML=\\'<i class=\\\\\\'pm_source_noimg\\\\\\'><span class=\\\\\\'blind\\\\\\'>이미지준비중</span></i>\\'\"></span>\\n\\t\\t\\t\\t\\t\\t\\t\\t\\t\\t\\t\\n\\t\\t\\t\\t\\t\\t\\t\\t\\t\\t<span class=\"source_inner\">차이의놀이</span>\\n\\t\\t\\t\\t\\t\\t\\t\\t\\t\\t</span>\\n\\t\\t\\t\\t\\t\\t\\t\\t\\t\\n\\t\\t\\t\\t\\t\\t\\t\\t</div>\\n\\t\\t\\t\\t\\t\\t\\t</div>\\n\\t\\t\\t\\t\\t\\t</div>\\n\\t\\t\\t\\t\\t</a>\\n\\t\\t\\t\\t\\n\\t\\t\\t\\n\\t\\t\\t\\t\\n\\t\\t\\t\\t\\t<a href=\"https://tv.naver.com/v/35432471\" class=\"media_area\" data-da-position=\"true\" data-gdid=\"B3EA8BB8B0215A3036A1EAEEFB71A5BD30BF\"\\n\\t\\t\\t\\t\\t   data-clk=\"tcc_sub.list1cont9\" target=\"_blank\">\\n\\t\\t\\t\\t\\t\\t<div class=\"media_thumb\">\\n\\t\\t\\t\\t\\t\\t\\t<img \\n\\t\\t\\t\\t\\t\\t\\t     data-src=\"https://s.pstatic.net/dthumb.phinf/?src&#x3D;%22https%3A%2F%2Fs.pstatic.net%2Ftvcast.phinf%2F20230428_70%2FbM3EU_1682692951640rk6NI_JPEG%2F6e718f1e-3285-4863-a71c-aed2d0b11749.jpg%22&amp;type&#x3D;nf464_260\" alt=\"\" width=\"232\" height=\"130\"\\n\\t\\t\\t\\t\\t\\t\\t     onerror=\"this.outerHTML=\\'<span class=\\\\\\'pm_noimg\\\\\\'><span class=\\\\\\'noimg_text\\\\\\'>이미지 준비중</span></span>\\'\">\\n\\n\\t\\t\\t\\t\\t\\t\\t\\n\\t\\t\\t\\t\\t\\t\\t\\t<span class=\"thumb_dim\"></span>\\n\\t\\t\\t\\t\\t\\t\\t\\t<span class=\"thumb_bd\"></span>\\n\\t\\t\\t\\t\\t\\t\\t\\t<i class=\"pm_ico_play\"><span class=\"blind\">재생</span></i>\\n\\t\\t\\t\\t\\t\\t\\t\\t<span class=\"theme_runtime\"><span class=\"runtime_bg\">재생시간</span><em\\n\\t\\t\\t\\t\\t\\t\\t\\t\\t\\tclass=\"time\">03:02</em></span>\\n\\t\\t\\t\\t\\t\\t\\t\\n\\t\\t\\t\\t\\t\\t</div>\\n\\t\\t\\t\\t\\t\\t<div class=\"media_info\">\\n\\t\\t\\t\\t\\t\\t\\t<div class=\"info_box\">\\n\\t\\t\\t\\t\\t\\t\\t\\t\\n\\t\\t\\t\\t\\t\\t\\t\\t\\n\\t\\t\\t\\t\\t\\t\\t\\t<strong class=\"title \">“뽀뽀는 언제 합니까?” 안효섭♥이성경, 달달 치사량 초과한 동거 라이프!</strong>\\n\\t\\t\\t\\t\\t\\t\\t\\t<div class=\"source_wrap\">\\n\\t\\t\\t\\t\\t\\t\\t\\t\\t\\n\\t\\t\\t\\t\\t\\t\\t\\t\\t\\t<span class=\"date\">5일 전</span>\\n\\t\\t\\t\\t\\t\\t\\t\\t\\t\\t<span class=\"source\">\\n\\t\\t\\t\\t\\t\\t\\t\\t\\t\\t\\t\\n\\t\\t\\t\\t\\t\\t\\t\\t\\t\\t\\t\\t<span class=\"source_thumb\"><img\\n\\t\\t\\t\\t\\t\\t\\t\\t\\t\\t\\t\\t\\t\\t\\n\\t\\t\\t\\t\\t\\t\\t\\t\\t\\t\\t\\t\\t\\tdata-src=\"https://s.pstatic.net/dthumb.phinf/?src&#x3D;%22https%3A%2F%2Fs.pstatic.net%2Ftvcast.phinf%2F20230428_239%2FnhTnI_1682648251135qRT0c_PNG%2F99b4e035-358f-4f7c-b0fb-d5accc33173f.png%22&amp;type&#x3D;navermain_nf40_40\" alt=\"\" width=\"20\" height=\"20\"\\n\\t\\t\\t\\t\\t\\t\\t\\t\\t\\t\\t\\t\\t\\tonerror=\"this.outerHTML=\\'<i class=\\\\\\'pm_source_noimg\\\\\\'><span class=\\\\\\'blind\\\\\\'>이미지준비중</span></i>\\'\"></span>\\n\\t\\t\\t\\t\\t\\t\\t\\t\\t\\t\\t\\n\\t\\t\\t\\t\\t\\t\\t\\t\\t\\t<span class=\"source_inner\">낭만닥터 김사부 3</span>\\n\\t\\t\\t\\t\\t\\t\\t\\t\\t\\t</span>\\n\\t\\t\\t\\t\\t\\t\\t\\t\\t\\n\\t\\t\\t\\t\\t\\t\\t\\t</div>\\n\\t\\t\\t\\t\\t\\t\\t</div>\\n\\t\\t\\t\\t\\t\\t</div>\\n\\t\\t\\t\\t\\t</a>\\n\\t\\t\\t\\t\\n\\t\\t\\t\\n\\t\\t</div>\\n\\t</div>\\n</div>\\n\\n<div class=\"group_theme\" data-block-id=\"61bae4aea10d3006850d76ed\" data-block-code=\"PC-THEME-MYFEED-RECOMMEND-3\" data-block-type=\"PC-MYFEED-BLOCK\" data-template-code=\"3X3\"\\n\\n     data-page=\"2\"\\n     style=\"display:none\">\\n\\n\\t<div class=\"media_view_wrap type_column\">\\n\\t\\t<div class=\"media_view\">\\n\\t\\t\\t\\n\\t\\t\\t\\t\\n\\t\\t\\t\\t\\t<a href=\"https://in.naver.com/daki/contents/internal/558973208200576\" class=\"media_area\" data-da-position=\"true\" data-gdid=\"00055f7ca0_0002233921\"\\n\\t\\t\\t\\t\\t   data-clk=\"tcc_sub.list1cont1\" target=\"_blank\">\\n\\t\\t\\t\\t\\t\\t<div class=\"media_thumb\">\\n\\t\\t\\t\\t\\t\\t\\t<img \\n\\t\\t\\t\\t\\t\\t\\t     data-src=\"https://s.pstatic.net/dthumb.phinf/?src&#x3D;%22https%3A%2F%2Fdiscovercrop-phinf.pstatic.net%2F%2FMjAyMzA0MzBfMTQ0%2FMDAxNjgyNzkxODc3MDc4.8bgGWpw5u0yg8ChVuXWAovksj23arL5BmxeKO96NZAAg.kvd2CK3unPKBwoZoL3J2yZFDmSXViypXfk_QqC6Hwocg.JPEG%2Fimage_374x246.jpg%22&amp;type&#x3D;nf464_260\" alt=\"\" width=\"232\" height=\"130\"\\n\\t\\t\\t\\t\\t\\t\\t     onerror=\"this.outerHTML=\\'<span class=\\\\\\'pm_noimg\\\\\\'><span class=\\\\\\'noimg_text\\\\\\'>이미지 준비중</span></span>\\'\">\\n\\n\\t\\t\\t\\t\\t\\t\\t\\n\\t\\t\\t\\t\\t\\t\\t\\t<span class=\"thumb_bd\"></span>\\n\\t\\t\\t\\t\\t\\t\\t\\t\\n\\t\\t\\t\\t\\t\\t\\t\\n\\t\\t\\t\\t\\t\\t</div>\\n\\t\\t\\t\\t\\t\\t<div class=\"media_info\">\\n\\t\\t\\t\\t\\t\\t\\t<div class=\"info_box\">\\n\\t\\t\\t\\t\\t\\t\\t\\t\\n\\t\\t\\t\\t\\t\\t\\t\\t\\n\\t\\t\\t\\t\\t\\t\\t\\t<strong class=\"title \">“경찰 답변 실화?” 우회전 일시정지, 몇 초 대기해야 하는지 논란</strong>\\n\\t\\t\\t\\t\\t\\t\\t\\t<div class=\"source_wrap\">\\n\\t\\t\\t\\t\\t\\t\\t\\t\\t\\n\\t\\t\\t\\t\\t\\t\\t\\t\\t\\t<span class=\"date\">4일 전</span>\\n\\t\\t\\t\\t\\t\\t\\t\\t\\t\\t<span class=\"source\">\\n\\t\\t\\t\\t\\t\\t\\t\\t\\t\\t\\t\\n\\t\\t\\t\\t\\t\\t\\t\\t\\t\\t\\t\\t<span class=\"source_thumb\"><img\\n\\t\\t\\t\\t\\t\\t\\t\\t\\t\\t\\t\\t\\t\\t\\n\\t\\t\\t\\t\\t\\t\\t\\t\\t\\t\\t\\t\\t\\tdata-src=\"https://s.pstatic.net/dthumb.phinf/?src&#x3D;%22https%3A%2F%2Fs.pstatic.net%2Fpost.phinf%2FMjAyMDEwMTVfMTkz%2FMDAxNjAyNzQzMjY4NjEw.GlSbhA_VdhHl7OVPQuk6cnWqJSR78lvs20_mR--dlscg.lxILgNyTSQeKbs-y5H2HYvOPj-IHIkzRtSn98mChfQkg.PNG%2Fpost_1384977838082956362.png%3Ftype%3Df200_200%22&amp;type&#x3D;navermain_nf40_40\" alt=\"\" width=\"20\" height=\"20\"\\n\\t\\t\\t\\t\\t\\t\\t\\t\\t\\t\\t\\t\\t\\tonerror=\"this.outerHTML=\\'<i class=\\\\\\'pm_source_noimg\\\\\\'><span class=\\\\\\'blind\\\\\\'>이미지준비중</span></i>\\'\"></span>\\n\\t\\t\\t\\t\\t\\t\\t\\t\\t\\t\\t\\n\\t\\t\\t\\t\\t\\t\\t\\t\\t\\t<span class=\"source_inner\">\\n\\t\\t\\t\\t\\t\\t\\t\\t\\t\\t\\t<em class=\"theme_hl\">인플루언서</em>다키포스트</span>\\n\\t\\t\\t\\t\\t\\t\\t\\t\\t\\t</span>\\n\\t\\t\\t\\t\\t\\t\\t\\t\\t\\n\\t\\t\\t\\t\\t\\t\\t\\t</div>\\n\\t\\t\\t\\t\\t\\t\\t</div>\\n\\t\\t\\t\\t\\t\\t</div>\\n\\t\\t\\t\\t\\t</a>\\n\\t\\t\\t\\t\\n\\t\\t\\t\\n\\t\\t\\t\\t\\n\\t\\t\\t\\t\\t<a href=\"https://in.naver.com/hhwjh/contents/internal/558988309689280\" class=\"media_area\" data-da-position=\"true\" data-gdid=\"90000003_0000000000000033F121EFA2\"\\n\\t\\t\\t\\t\\t   data-clk=\"tcc_sub.list1cont2\" target=\"_blank\">\\n\\t\\t\\t\\t\\t\\t<div class=\"media_thumb\">\\n\\t\\t\\t\\t\\t\\t\\t<img \\n\\t\\t\\t\\t\\t\\t\\t     data-src=\"https://s.pstatic.net/dthumb.phinf/?src&#x3D;%22https%3A%2F%2Fdiscovercrop-phinf.pstatic.net%2F%2FMjAyMzA0MzBfMjI1%2FMDAxNjgyNzgxNjY1NTc2.p9a44SzcgDQDMcU7Cvfrg9Es1GYrldJSBhogf9MnBscg.Ek7wz2sC0LT_y9mkCrNPGkSSfngj4q0CqIETTN2r3Bgg.JPEG%2Fimage_374x246.jpg%22&amp;type&#x3D;nf464_260\" alt=\"\" width=\"232\" height=\"130\"\\n\\t\\t\\t\\t\\t\\t\\t     onerror=\"this.outerHTML=\\'<span class=\\\\\\'pm_noimg\\\\\\'><span class=\\\\\\'noimg_text\\\\\\'>이미지 준비중</span></span>\\'\">\\n\\n\\t\\t\\t\\t\\t\\t\\t\\n\\t\\t\\t\\t\\t\\t\\t\\t<span class=\"thumb_bd\"></span>\\n\\t\\t\\t\\t\\t\\t\\t\\t\\n\\t\\t\\t\\t\\t\\t\\t\\n\\t\\t\\t\\t\\t\\t</div>\\n\\t\\t\\t\\t\\t\\t<div class=\"media_info\">\\n\\t\\t\\t\\t\\t\\t\\t<div class=\"info_box\">\\n\\t\\t\\t\\t\\t\\t\\t\\t\\n\\t\\t\\t\\t\\t\\t\\t\\t\\n\\t\\t\\t\\t\\t\\t\\t\\t<strong class=\"title \">강수지 김국진 나이 학력 키 집 위치 어디 매니저 배영호 화장품 비비아나수 골프장 전지적 참견시점</strong>\\n\\t\\t\\t\\t\\t\\t\\t\\t<div class=\"source_wrap\">\\n\\t\\t\\t\\t\\t\\t\\t\\t\\t\\n\\t\\t\\t\\t\\t\\t\\t\\t\\t\\t<span class=\"date\">4일 전</span>\\n\\t\\t\\t\\t\\t\\t\\t\\t\\t\\t<span class=\"source\">\\n\\t\\t\\t\\t\\t\\t\\t\\t\\t\\t\\t\\n\\t\\t\\t\\t\\t\\t\\t\\t\\t\\t\\t\\t<span class=\"source_thumb\"><img\\n\\t\\t\\t\\t\\t\\t\\t\\t\\t\\t\\t\\t\\t\\t\\n\\t\\t\\t\\t\\t\\t\\t\\t\\t\\t\\t\\t\\t\\tdata-src=\"https://s.pstatic.net/dthumb.phinf/?src&#x3D;%22http%3A%2F%2Fblogpfthumb.phinf.naver.net%2FMjAyMjA1MjdfMTU0%2FMDAxNjUzNjUxMDUyNjIy.qWacazpvWnDW60zWkfq_FjMfbokM-7BaPnDE5JxXLaEg.3LpZdsA-eSFovxiG3B2I545ARDPBNXpafDsXSAPzhpkg.PNG.hhwjh%2FprofileImage.png%22&amp;type&#x3D;navermain_nf40_40\" alt=\"\" width=\"20\" height=\"20\"\\n\\t\\t\\t\\t\\t\\t\\t\\t\\t\\t\\t\\t\\t\\tonerror=\"this.outerHTML=\\'<i class=\\\\\\'pm_source_noimg\\\\\\'><span class=\\\\\\'blind\\\\\\'>이미지준비중</span></i>\\'\"></span>\\n\\t\\t\\t\\t\\t\\t\\t\\t\\t\\t\\t\\n\\t\\t\\t\\t\\t\\t\\t\\t\\t\\t<span class=\"source_inner\">\\n\\t\\t\\t\\t\\t\\t\\t\\t\\t\\t\\t<em class=\"theme_hl\">인플루언서</em>잭</span>\\n\\t\\t\\t\\t\\t\\t\\t\\t\\t\\t</span>\\n\\t\\t\\t\\t\\t\\t\\t\\t\\t\\n\\t\\t\\t\\t\\t\\t\\t\\t</div>\\n\\t\\t\\t\\t\\t\\t\\t</div>\\n\\t\\t\\t\\t\\t\\t</div>\\n\\t\\t\\t\\t\\t</a>\\n\\t\\t\\t\\t\\n\\t\\t\\t\\n\\t\\t\\t\\t\\n\\t\\t\\t\\t\\t<a href=\"https://in.naver.com/chinadrum/contents/internal/550533679946400\" class=\"media_area\" data-da-position=\"true\" data-gdid=\"90000003_0000000000000033EFC768EB\"\\n\\t\\t\\t\\t\\t   data-clk=\"tcc_sub.list1cont3\" target=\"_blank\">\\n\\t\\t\\t\\t\\t\\t<div class=\"media_thumb\">\\n\\t\\t\\t\\t\\t\\t\\t<img \\n\\t\\t\\t\\t\\t\\t\\t     data-src=\"https://s.pstatic.net/dthumb.phinf/?src&#x3D;%22https%3A%2F%2Fdiscovercrop-phinf.pstatic.net%2F%2FMjAyMzA0MDZfMjcy%2FMDAxNjgwNzE4NTY0NjU4.vRtbLzZNxdyrSUQ6GtsTZ9dCNl29XOQArWAyXs6nr3Mg.SrpdqgCLm9hjA7cEVodhvpQPuT5hbEtwk2PNygDVX_Yg.JPEG%2Fimage_374x246.jpg%22&amp;type&#x3D;nf464_260\" alt=\"\" width=\"232\" height=\"130\"\\n\\t\\t\\t\\t\\t\\t\\t     onerror=\"this.outerHTML=\\'<span class=\\\\\\'pm_noimg\\\\\\'><span class=\\\\\\'noimg_text\\\\\\'>이미지 준비중</span></span>\\'\">\\n\\n\\t\\t\\t\\t\\t\\t\\t\\n\\t\\t\\t\\t\\t\\t\\t\\t<span class=\"thumb_bd\"></span>\\n\\t\\t\\t\\t\\t\\t\\t\\t\\n\\t\\t\\t\\t\\t\\t\\t\\n\\t\\t\\t\\t\\t\\t</div>\\n\\t\\t\\t\\t\\t\\t<div class=\"media_info\">\\n\\t\\t\\t\\t\\t\\t\\t<div class=\"info_box\">\\n\\t\\t\\t\\t\\t\\t\\t\\t\\n\\t\\t\\t\\t\\t\\t\\t\\t\\n\\t\\t\\t\\t\\t\\t\\t\\t<strong class=\"title \">김하성, 끝내기 홈런으로 메이저리그의 역사를 새로 쓰다</strong>\\n\\t\\t\\t\\t\\t\\t\\t\\t<div class=\"source_wrap\">\\n\\t\\t\\t\\t\\t\\t\\t\\t\\t\\n\\t\\t\\t\\t\\t\\t\\t\\t\\t\\t<span class=\"date\">4주일 전</span>\\n\\t\\t\\t\\t\\t\\t\\t\\t\\t\\t<span class=\"source\">\\n\\t\\t\\t\\t\\t\\t\\t\\t\\t\\t\\t\\n\\t\\t\\t\\t\\t\\t\\t\\t\\t\\t\\t\\t<span class=\"source_thumb\"><img\\n\\t\\t\\t\\t\\t\\t\\t\\t\\t\\t\\t\\t\\t\\t\\n\\t\\t\\t\\t\\t\\t\\t\\t\\t\\t\\t\\t\\t\\tdata-src=\"https://s.pstatic.net/dthumb.phinf/?src&#x3D;%22http%3A%2F%2Fblogpfthumb.phinf.naver.net%2F20100329_144%2Fchinadrum_1269858257299_2jHeKP_jpg%2Fwittgenstein.jpg%22&amp;type&#x3D;navermain_nf40_40\" alt=\"\" width=\"20\" height=\"20\"\\n\\t\\t\\t\\t\\t\\t\\t\\t\\t\\t\\t\\t\\t\\tonerror=\"this.outerHTML=\\'<i class=\\\\\\'pm_source_noimg\\\\\\'><span class=\\\\\\'blind\\\\\\'>이미지준비중</span></i>\\'\"></span>\\n\\t\\t\\t\\t\\t\\t\\t\\t\\t\\t\\t\\n\\t\\t\\t\\t\\t\\t\\t\\t\\t\\t<span class=\"source_inner\">\\n\\t\\t\\t\\t\\t\\t\\t\\t\\t\\t\\t<em class=\"theme_hl\">인플루언서</em>chinadrum의 MLB 이야기</span>\\n\\t\\t\\t\\t\\t\\t\\t\\t\\t\\t</span>\\n\\t\\t\\t\\t\\t\\t\\t\\t\\t\\n\\t\\t\\t\\t\\t\\t\\t\\t</div>\\n\\t\\t\\t\\t\\t\\t\\t</div>\\n\\t\\t\\t\\t\\t\\t</div>\\n\\t\\t\\t\\t\\t</a>\\n\\t\\t\\t\\t\\n\\t\\t\\t\\n\\t\\t\\t\\t\\n\\t\\t\\t\\t\\t<a href=\"https://in.naver.com/wowme/contents/internal/558666456024384\" class=\"media_area\" data-da-position=\"true\" data-gdid=\"90000003_0000000000000033F117A01D\"\\n\\t\\t\\t\\t\\t   data-clk=\"tcc_sub.list1cont4\" target=\"_blank\">\\n\\t\\t\\t\\t\\t\\t<div class=\"media_thumb\">\\n\\t\\t\\t\\t\\t\\t\\t<img \\n\\t\\t\\t\\t\\t\\t\\t     data-src=\"https://s.pstatic.net/dthumb.phinf/?src&#x3D;%22http%3A%2F%2Fblogfiles.naver.net%2FMjAyMzA0MjhfMjc5%2FMDAxNjgyNjkzOTc0MjI5.bdvdyXyWZ-2mXadWSzqL6VTGmXipKbS5NdCovIodWKMg.ZaBqPK04uVPrZcny-R0gSZsz3061qrDqVamwqotRNkQg.JPEG.hooshia%2FSE-ece25269-00ea-4802-9f61-badae87222a3.jpg%22&amp;type&#x3D;nf464_260\" alt=\"\" width=\"232\" height=\"130\"\\n\\t\\t\\t\\t\\t\\t\\t     onerror=\"this.outerHTML=\\'<span class=\\\\\\'pm_noimg\\\\\\'><span class=\\\\\\'noimg_text\\\\\\'>이미지 준비중</span></span>\\'\">\\n\\n\\t\\t\\t\\t\\t\\t\\t\\n\\t\\t\\t\\t\\t\\t\\t\\t<span class=\"thumb_bd\"></span>\\n\\t\\t\\t\\t\\t\\t\\t\\t\\n\\t\\t\\t\\t\\t\\t\\t\\n\\t\\t\\t\\t\\t\\t</div>\\n\\t\\t\\t\\t\\t\\t<div class=\"media_info\">\\n\\t\\t\\t\\t\\t\\t\\t<div class=\"info_box\">\\n\\t\\t\\t\\t\\t\\t\\t\\t\\n\\t\\t\\t\\t\\t\\t\\t\\t\\n\\t\\t\\t\\t\\t\\t\\t\\t<strong class=\"title \">미친 드레스 폼, 백상예술대상 MC 수지 블랙 오프숄더 시상식 드레스 패션</strong>\\n\\t\\t\\t\\t\\t\\t\\t\\t<div class=\"source_wrap\">\\n\\t\\t\\t\\t\\t\\t\\t\\t\\t\\n\\t\\t\\t\\t\\t\\t\\t\\t\\t\\t<span class=\"date\">5일 전</span>\\n\\t\\t\\t\\t\\t\\t\\t\\t\\t\\t<span class=\"source\">\\n\\t\\t\\t\\t\\t\\t\\t\\t\\t\\t\\t\\n\\t\\t\\t\\t\\t\\t\\t\\t\\t\\t\\t\\t<span class=\"source_thumb\"><img\\n\\t\\t\\t\\t\\t\\t\\t\\t\\t\\t\\t\\t\\t\\t\\n\\t\\t\\t\\t\\t\\t\\t\\t\\t\\t\\t\\t\\t\\tdata-src=\"https://s.pstatic.net/dthumb.phinf/?src&#x3D;%22http%3A%2F%2Fblogpfthumb.phinf.naver.net%2FMjAxOTEwMTJfNzAg%2FMDAxNTcwODE2MTQ4NDY4.jqYYOWYobtkbmxmdYI0zEN6PPzMfBrPvqjiefSB3ojQg.wo965K9MYziNjZ4EH0MHRlEBt7zFVNFK_Ja5M45vDA4g.JPEG.hooshia%2Fgrasses-4329213_1920.jpg%22&amp;type&#x3D;navermain_nf40_40\" alt=\"\" width=\"20\" height=\"20\"\\n\\t\\t\\t\\t\\t\\t\\t\\t\\t\\t\\t\\t\\t\\tonerror=\"this.outerHTML=\\'<i class=\\\\\\'pm_source_noimg\\\\\\'><span class=\\\\\\'blind\\\\\\'>이미지준비중</span></i>\\'\"></span>\\n\\t\\t\\t\\t\\t\\t\\t\\t\\t\\t\\t\\n\\t\\t\\t\\t\\t\\t\\t\\t\\t\\t<span class=\"source_inner\">\\n\\t\\t\\t\\t\\t\\t\\t\\t\\t\\t\\t<em class=\"theme_hl\">인플루언서</em>페페토</span>\\n\\t\\t\\t\\t\\t\\t\\t\\t\\t\\t</span>\\n\\t\\t\\t\\t\\t\\t\\t\\t\\t\\n\\t\\t\\t\\t\\t\\t\\t\\t</div>\\n\\t\\t\\t\\t\\t\\t\\t</div>\\n\\t\\t\\t\\t\\t\\t</div>\\n\\t\\t\\t\\t\\t</a>\\n\\t\\t\\t\\t\\n\\t\\t\\t\\n\\t\\t\\t\\t\\n\\t\\t\\t\\t\\t<a href=\"https://contents.premium.naver.com/corevalue/vic/contents/230427170307159dp\" class=\"media_area\" data-da-position=\"true\" data-gdid=\"8830a3s6_230427170307159dp\"\\n\\t\\t\\t\\t\\t   data-clk=\"tcc_sub.list1cont5\" target=\"_blank\">\\n\\t\\t\\t\\t\\t\\t<div class=\"media_thumb\">\\n\\t\\t\\t\\t\\t\\t\\t<img \\n\\t\\t\\t\\t\\t\\t\\t     data-src=\"https://s.pstatic.net/dthumb.phinf/?src&#x3D;%22https%3A%2F%2Fs.pstatic.net%2Fscs.phinf%2FMjAyMzA0MjdfMTAx%2FMDAxNjgyNTgyNDMwMzMy.stBmIW3_8SVCnGXC2vLHayp1obbcMcH50OnPPFSGJ7gg.eAwPHAwBjZ6jDk4S7gWzWxgh11TdsY9LnwYAQQlJy5sg.PNG%2FKakaoTalk_20230427_165430211.png%22&amp;type&#x3D;nf464_260\" alt=\"\" width=\"232\" height=\"130\"\\n\\t\\t\\t\\t\\t\\t\\t     onerror=\"this.outerHTML=\\'<span class=\\\\\\'pm_noimg\\\\\\'><span class=\\\\\\'noimg_text\\\\\\'>이미지 준비중</span></span>\\'\">\\n\\n\\t\\t\\t\\t\\t\\t\\t\\n\\t\\t\\t\\t\\t\\t\\t\\t<span class=\"thumb_bd\"></span>\\n\\t\\t\\t\\t\\t\\t\\t\\t\\n\\t\\t\\t\\t\\t\\t\\t\\t\\t\\n\\t\\t\\t\\t\\t\\t\\t\\t\\t\\t<em class=\"theme_badge type_charge\"><span class=\"badge_inner\">유료</span></em>\\n\\t\\t\\t\\t\\t\\t\\t\\t\\t\\n\\t\\t\\t\\t\\t\\t\\t\\t\\n\\t\\t\\t\\t\\t\\t\\t\\n\\t\\t\\t\\t\\t\\t</div>\\n\\t\\t\\t\\t\\t\\t<div class=\"media_info\">\\n\\t\\t\\t\\t\\t\\t\\t<div class=\"info_box\">\\n\\t\\t\\t\\t\\t\\t\\t\\t\\n\\t\\t\\t\\t\\t\\t\\t\\t\\n\\t\\t\\t\\t\\t\\t\\t\\t<strong class=\"title \">4월 27일 52주 신고가</strong>\\n\\t\\t\\t\\t\\t\\t\\t\\t<div class=\"source_wrap\">\\n\\t\\t\\t\\t\\t\\t\\t\\t\\t\\n\\t\\t\\t\\t\\t\\t\\t\\t\\t\\t<span class=\"date\">1주일 전</span>\\n\\t\\t\\t\\t\\t\\t\\t\\t\\t\\t<span class=\"source\">\\n\\t\\t\\t\\t\\t\\t\\t\\t\\t\\t\\t\\n\\t\\t\\t\\t\\t\\t\\t\\t\\t\\t\\t\\t<span class=\"source_thumb\"><img\\n\\t\\t\\t\\t\\t\\t\\t\\t\\t\\t\\t\\t\\t\\t\\n\\t\\t\\t\\t\\t\\t\\t\\t\\t\\t\\t\\t\\t\\tdata-src=\"https://s.pstatic.net/dthumb.phinf/?src&#x3D;%22https%3A%2F%2Fs.pstatic.net%2Fscs.phinf%2FMjAyMzAzMTZfODQg%2FMDAxNjc4OTQzMDkzOTk2.-XhhGn0w3EL8VA45-zYJOnwt0g0exTOcFAP8eR18kvYg.2LRZzdTAVT6I3nqi2GyVtsF0obRfE9vuimvgzypvrEYg.JPEG%2Fimage%257Cpremium%257Cchannel%257Ccorevalue%257C2023%257C03%257C16%257C1678943093968.jpg%22&amp;type&#x3D;navermain_nf40_40\" alt=\"\" width=\"20\" height=\"20\"\\n\\t\\t\\t\\t\\t\\t\\t\\t\\t\\t\\t\\t\\t\\tonerror=\"this.outerHTML=\\'<i class=\\\\\\'pm_source_noimg\\\\\\'><span class=\\\\\\'blind\\\\\\'>이미지준비중</span></i>\\'\"></span>\\n\\t\\t\\t\\t\\t\\t\\t\\t\\t\\t\\t\\n\\t\\t\\t\\t\\t\\t\\t\\t\\t\\t<span class=\"source_inner\">\\n\\t\\t\\t\\t\\t\\t\\t\\t\\t\\t\\t<em class=\"theme_hl\">프리미엄</em>가치투자클럽</span>\\n\\t\\t\\t\\t\\t\\t\\t\\t\\t\\t</span>\\n\\t\\t\\t\\t\\t\\t\\t\\t\\t\\n\\t\\t\\t\\t\\t\\t\\t\\t</div>\\n\\t\\t\\t\\t\\t\\t\\t</div>\\n\\t\\t\\t\\t\\t\\t</div>\\n\\t\\t\\t\\t\\t</a>\\n\\t\\t\\t\\t\\n\\t\\t\\t\\n\\t\\t\\t\\t\\n\\t\\t\\t\\t\\t<a class=\"myfeed_area\" href=\"https://in.naver.com/stay_romantic/topic/557208684002112?cds&#x3D;nm_pc_myfeed_recomm\" data-da-position=\"true\" data-gdid=\"9021as9p_0001fac741acfb40\" data-clk=\"tcc_sub.inftopic\" target=\"_blank\">\\n\\t<div class=\"myfeed_thumb\">\\n\\t\\t<img  data-src=\"https://s.pstatic.net/dthumb.phinf/?src&#x3D;%22https%3A%2F%2Fdiscovercrop-phinf.pstatic.net%2F%2FMjAyMzA0MjdfOTIg%2FMDAxNjgyNTc3NDMxNzc4.s7KzMFcH1prBzJGoZGOikkHo_1oeP1qHF_TqzKZFZlog.zEH-qp25jyT8INeLS1an7jLlsyUlI1flR4IA99rDNRUg.JPEG%2Fimage_374x246.jpg%22&amp;type&#x3D;nf454_412\" alt=\"\" width=\"227\" height=\"206\" onerror=\"this.outerHTML=\\'<span class=\\\\\\'pm_noimg\\\\\\'><span class=\\\\\\'noimg_text\\\\\\'>이미지 준비중</span></span>\\'\">\\n\\t\\t<span class=\"thumb_bd\"></span>\\n\\t\\t<em class=\"badge_category\"><span class=\"badge_inner\">패션</span></em>\\n\\t</div>\\n\\t<div class=\"media_info\">\\n\\t\\t<div class=\"info_box\">\\n\\t\\t\\t<strong class=\"title\">같은 옷 입은 김고은vs김희애</strong>\\n\\t\\t\\t<div class=\"source_wrap\">\\n\\t\\t\\t\\t<span class=\"date\">1주일 전</span>\\n\\t\\t\\t\\t<span class=\"source\">\\n\\t\\t\\t\\t\\t\\n\\t\\t\\t\\t\\t\\t<span class=\"source_thumb\"><img  data-src=\"https://s.pstatic.net/dthumb.phinf/?src&#x3D;%22https%3A%2F%2Fhomebuilder-phinf.pstatic.net%2F%2FMjAyMjAxMDJfMTI4%2FMDAxNjQxMDgxMzY0MzMy.9J88zJRx1lmmt7CDW1BA_e6RQNm-grLi8-KtW3KlAOEg.L0h7SrZgLcAEQ0_raEzam6ckTrwHhAKu8eOmhI0IdBgg.JPEG%2F1641081364265_1069363D-409E-4F72-901E-F4092021A5F6.jpeg%22&amp;type&#x3D;navermain_nf40_40\" alt=\"\" width=\"20\" height=\"20\" onerror=\"this.outerHTML=\\'<i class=\\\\\\'pm_source_noimg\\\\\\'><span class=\\\\\\'blind\\\\\\'>이미지준비중</span></i>\\'\"></span>\\n\\t\\t\\t\\t\\t\\n\\t\\t\\t\\t\\t<span class=\"source_inner\"><em class=\"theme_hl\">인플루언서</em>꾸리의장롱</span>\\n\\t\\t\\t\\t</span>\\n\\t\\t\\t</div>\\n\\t\\t</div>\\n\\t</div>\\n</a>\\n\\n\\t\\t\\t\\t\\n\\t\\t\\t\\n\\t\\t\\t\\t\\n\\t\\t\\t\\t\\t<a href=\"https://m.post.naver.com/viewer/postView.naver?volumeNo&#x3D;35494707&amp;memberNo&#x3D;47129033&amp;vType&#x3D;VERTICAL\" class=\"media_area\" data-da-position=\"true\" data-gdid=\"00055f7ca0_00021d9b33\"\\n\\t\\t\\t\\t\\t   data-clk=\"tcc_sub.list1cont7\" target=\"_blank\">\\n\\t\\t\\t\\t\\t\\t<div class=\"media_thumb\">\\n\\t\\t\\t\\t\\t\\t\\t<img \\n\\t\\t\\t\\t\\t\\t\\t     data-src=\"https://s.pstatic.net/dthumb.phinf/?src&#x3D;%22https%3A%2F%2Fdiscovercrop-phinf.pstatic.net%2F%2FMjAyMzAyMjBfMTA5%2FMDAxNjc2ODk3NjU0ODgw.qTKdR0FjsUX3DMr7-4k68Kx3PlKGbrnOk8H7i9CtX2Eg.1-dIlb4Cq-uDvJKjUm0ND1yo-yD86Sfp7SVV00dHijQg.JPEG%2Fimage_374x246.jpg%22&amp;type&#x3D;nf464_260\" alt=\"\" width=\"232\" height=\"130\"\\n\\t\\t\\t\\t\\t\\t\\t     onerror=\"this.outerHTML=\\'<span class=\\\\\\'pm_noimg\\\\\\'><span class=\\\\\\'noimg_text\\\\\\'>이미지 준비중</span></span>\\'\">\\n\\n\\t\\t\\t\\t\\t\\t\\t\\n\\t\\t\\t\\t\\t\\t\\t\\t<span class=\"thumb_bd\"></span>\\n\\t\\t\\t\\t\\t\\t\\t\\t\\n\\t\\t\\t\\t\\t\\t\\t\\n\\t\\t\\t\\t\\t\\t</div>\\n\\t\\t\\t\\t\\t\\t<div class=\"media_info\">\\n\\t\\t\\t\\t\\t\\t\\t<div class=\"info_box\">\\n\\t\\t\\t\\t\\t\\t\\t\\t\\n\\t\\t\\t\\t\\t\\t\\t\\t\\n\\t\\t\\t\\t\\t\\t\\t\\t<strong class=\"title \">\"주변에선 아무도 몰라요..\" 연봉 1억 넘는 의외의 직업</strong>\\n\\t\\t\\t\\t\\t\\t\\t\\t<div class=\"source_wrap\">\\n\\t\\t\\t\\t\\t\\t\\t\\t\\t\\n\\t\\t\\t\\t\\t\\t\\t\\t\\t\\t<span class=\"date\">2개월 전</span>\\n\\t\\t\\t\\t\\t\\t\\t\\t\\t\\t<span class=\"source\">\\n\\t\\t\\t\\t\\t\\t\\t\\t\\t\\t\\t\\n\\t\\t\\t\\t\\t\\t\\t\\t\\t\\t\\t\\t<span class=\"source_thumb\"><img\\n\\t\\t\\t\\t\\t\\t\\t\\t\\t\\t\\t\\t\\t\\t\\n\\t\\t\\t\\t\\t\\t\\t\\t\\t\\t\\t\\t\\t\\tdata-src=\"https://s.pstatic.net/dthumb.phinf/?src&#x3D;%22https%3A%2F%2Fs.pstatic.net%2Fpost.phinf%2FMjAyMTA1MTdfMjYz%2FMDAxNjIxMjQ0MDk5MzY4.P_493T_3h6uGxR-eUDWyxwTWMjsZU-7_-AQcjjfLPtog.0HPD4R8_fQ-Sw9nx6P79z8t8sL_1gSRKDPcEozy9o70g.PNG%2Fpost_4267998152400556011.png%3Ftype%3Df200_200%22&amp;type&#x3D;navermain_nf40_40\" alt=\"\" width=\"20\" height=\"20\"\\n\\t\\t\\t\\t\\t\\t\\t\\t\\t\\t\\t\\t\\t\\tonerror=\"this.outerHTML=\\'<i class=\\\\\\'pm_source_noimg\\\\\\'><span class=\\\\\\'blind\\\\\\'>이미지준비중</span></i>\\'\"></span>\\n\\t\\t\\t\\t\\t\\t\\t\\t\\t\\t\\t\\n\\t\\t\\t\\t\\t\\t\\t\\t\\t\\t<span class=\"source_inner\">클래스101</span>\\n\\t\\t\\t\\t\\t\\t\\t\\t\\t\\t</span>\\n\\t\\t\\t\\t\\t\\t\\t\\t\\t\\n\\t\\t\\t\\t\\t\\t\\t\\t</div>\\n\\t\\t\\t\\t\\t\\t\\t</div>\\n\\t\\t\\t\\t\\t\\t</div>\\n\\t\\t\\t\\t\\t</a>\\n\\t\\t\\t\\t\\n\\t\\t\\t\\n\\t\\t\\t\\t\\n\\t\\t\\t\\t\\t<a href=\"https://in.naver.com/golferted/contents/internal/558800195638304\" class=\"media_area\" data-da-position=\"true\" data-gdid=\"90000003_0000000000000033F1186019\"\\n\\t\\t\\t\\t\\t   data-clk=\"tcc_sub.list1cont8\" target=\"_blank\">\\n\\t\\t\\t\\t\\t\\t<div class=\"media_thumb\">\\n\\t\\t\\t\\t\\t\\t\\t<img \\n\\t\\t\\t\\t\\t\\t\\t     data-src=\"https://s.pstatic.net/dthumb.phinf/?src&#x3D;%22https%3A%2F%2Fdiscovercrop-phinf.pstatic.net%2F%2FMjAyMzA0MjlfMjkw%2FMDAxNjgyNzc1MzM1OTQ3.VP9PG0pC6UriB45TT-QRQ2nSUtZOnZ8L_oMCuNzFkb0g.GaXaXbWSIMlLSHMrmgUZuwHU7hTj5Rf4TNvglJCPA1Qg.JPEG%2Fimage_374x246.jpg%22&amp;type&#x3D;nf464_260\" alt=\"\" width=\"232\" height=\"130\"\\n\\t\\t\\t\\t\\t\\t\\t     onerror=\"this.outerHTML=\\'<span class=\\\\\\'pm_noimg\\\\\\'><span class=\\\\\\'noimg_text\\\\\\'>이미지 준비중</span></span>\\'\">\\n\\n\\t\\t\\t\\t\\t\\t\\t\\n\\t\\t\\t\\t\\t\\t\\t\\t<span class=\"thumb_bd\"></span>\\n\\t\\t\\t\\t\\t\\t\\t\\t\\n\\t\\t\\t\\t\\t\\t\\t\\n\\t\\t\\t\\t\\t\\t</div>\\n\\t\\t\\t\\t\\t\\t<div class=\"media_info\">\\n\\t\\t\\t\\t\\t\\t\\t<div class=\"info_box\">\\n\\t\\t\\t\\t\\t\\t\\t\\t\\n\\t\\t\\t\\t\\t\\t\\t\\t\\n\\t\\t\\t\\t\\t\\t\\t\\t<strong class=\"title \">골프 퍼팅 잘하는 법 5가지 방법 버디 찬스 살려보세요</strong>\\n\\t\\t\\t\\t\\t\\t\\t\\t<div class=\"source_wrap\">\\n\\t\\t\\t\\t\\t\\t\\t\\t\\t\\n\\t\\t\\t\\t\\t\\t\\t\\t\\t\\t<span class=\"date\">5일 전</span>\\n\\t\\t\\t\\t\\t\\t\\t\\t\\t\\t<span class=\"source\">\\n\\t\\t\\t\\t\\t\\t\\t\\t\\t\\t\\t\\n\\t\\t\\t\\t\\t\\t\\t\\t\\t\\t\\t\\t<span class=\"source_thumb\"><img\\n\\t\\t\\t\\t\\t\\t\\t\\t\\t\\t\\t\\t\\t\\t\\n\\t\\t\\t\\t\\t\\t\\t\\t\\t\\t\\t\\t\\t\\tdata-src=\"https://s.pstatic.net/dthumb.phinf/?src&#x3D;%22http%3A%2F%2Fblogpfthumb.phinf.naver.net%2FMjAxOTA1MDVfMTAw%2FMDAxNTU2OTgyODMzMjg0.F882wXTSARx1FoLIU3jB4H61pgOEBl3WKTj4ASqlTAsg.dI5gtzIGwmSgM6kUVwTV1fCUwP9812GDdKU-lKY9l5Yg.JPEG.beheaded%2FKakaoTalk_20190411_133513304.jpg%22&amp;type&#x3D;navermain_nf40_40\" alt=\"\" width=\"20\" height=\"20\"\\n\\t\\t\\t\\t\\t\\t\\t\\t\\t\\t\\t\\t\\t\\tonerror=\"this.outerHTML=\\'<i class=\\\\\\'pm_source_noimg\\\\\\'><span class=\\\\\\'blind\\\\\\'>이미지준비중</span></i>\\'\"></span>\\n\\t\\t\\t\\t\\t\\t\\t\\t\\t\\t\\t\\n\\t\\t\\t\\t\\t\\t\\t\\t\\t\\t<span class=\"source_inner\">\\n\\t\\t\\t\\t\\t\\t\\t\\t\\t\\t\\t<em class=\"theme_hl\">인플루언서</em>테드</span>\\n\\t\\t\\t\\t\\t\\t\\t\\t\\t\\t</span>\\n\\t\\t\\t\\t\\t\\t\\t\\t\\t\\n\\t\\t\\t\\t\\t\\t\\t\\t</div>\\n\\t\\t\\t\\t\\t\\t\\t</div>\\n\\t\\t\\t\\t\\t\\t</div>\\n\\t\\t\\t\\t\\t</a>\\n\\t\\t\\t\\t\\n\\t\\t\\t\\n\\t\\t\\t\\t\\n\\t\\t\\t\\t\\t<a href=\"https://tv.naver.com/v/35322780\" class=\"media_area\" data-da-position=\"true\" data-gdid=\"302C81829FC8E8DA249501D2991DD77D6E08\"\\n\\t\\t\\t\\t\\t   data-clk=\"tcc_sub.list1cont9\" target=\"_blank\">\\n\\t\\t\\t\\t\\t\\t<div class=\"media_thumb\">\\n\\t\\t\\t\\t\\t\\t\\t<img \\n\\t\\t\\t\\t\\t\\t\\t     data-src=\"https://s.pstatic.net/dthumb.phinf/?src&#x3D;%22https%3A%2F%2Fs.pstatic.net%2Ftvcast.phinf%2F20230426_233%2F8OHN5_16824684937632BUNL_JPEG%2F20230426_091851_324_1.jpg%22&amp;type&#x3D;nf464_260\" alt=\"\" width=\"232\" height=\"130\"\\n\\t\\t\\t\\t\\t\\t\\t     onerror=\"this.outerHTML=\\'<span class=\\\\\\'pm_noimg\\\\\\'><span class=\\\\\\'noimg_text\\\\\\'>이미지 준비중</span></span>\\'\">\\n\\n\\t\\t\\t\\t\\t\\t\\t\\n\\t\\t\\t\\t\\t\\t\\t\\t<span class=\"thumb_dim\"></span>\\n\\t\\t\\t\\t\\t\\t\\t\\t<span class=\"thumb_bd\"></span>\\n\\t\\t\\t\\t\\t\\t\\t\\t<i class=\"pm_ico_play\"><span class=\"blind\">재생</span></i>\\n\\t\\t\\t\\t\\t\\t\\t\\t<span class=\"theme_runtime\"><span class=\"runtime_bg\">재생시간</span><em\\n\\t\\t\\t\\t\\t\\t\\t\\t\\t\\tclass=\"time\">03:31</em></span>\\n\\t\\t\\t\\t\\t\\t\\t\\n\\t\\t\\t\\t\\t\\t</div>\\n\\t\\t\\t\\t\\t\\t<div class=\"media_info\">\\n\\t\\t\\t\\t\\t\\t\\t<div class=\"info_box\">\\n\\t\\t\\t\\t\\t\\t\\t\\t\\n\\t\\t\\t\\t\\t\\t\\t\\t\\n\\t\\t\\t\\t\\t\\t\\t\\t<strong class=\"title \">[단독 하이라이트] 잃어버린 행복을 찾아가는 그들의 이야기🌱 | 〈나쁜엄마〉 4/26(수) 밤 10시 30분 첫 방송</strong>\\n\\t\\t\\t\\t\\t\\t\\t\\t<div class=\"source_wrap\">\\n\\t\\t\\t\\t\\t\\t\\t\\t\\t\\n\\t\\t\\t\\t\\t\\t\\t\\t\\t\\t<span class=\"date\">1주일 전</span>\\n\\t\\t\\t\\t\\t\\t\\t\\t\\t\\t<span class=\"source\">\\n\\t\\t\\t\\t\\t\\t\\t\\t\\t\\t\\t\\n\\t\\t\\t\\t\\t\\t\\t\\t\\t\\t\\t\\t<span class=\"source_thumb\"><img\\n\\t\\t\\t\\t\\t\\t\\t\\t\\t\\t\\t\\t\\t\\t\\n\\t\\t\\t\\t\\t\\t\\t\\t\\t\\t\\t\\t\\t\\tdata-src=\"https://s.pstatic.net/dthumb.phinf/?src&#x3D;%22https%3A%2F%2Fs.pstatic.net%2Ftvcast.phinf%2F20230410_77%2FJXwMG_168109124936778Ij8_PNG%2F20230410_104355_415.png%22&amp;type&#x3D;navermain_nf40_40\" alt=\"\" width=\"20\" height=\"20\"\\n\\t\\t\\t\\t\\t\\t\\t\\t\\t\\t\\t\\t\\t\\tonerror=\"this.outerHTML=\\'<i class=\\\\\\'pm_source_noimg\\\\\\'><span class=\\\\\\'blind\\\\\\'>이미지준비중</span></i>\\'\"></span>\\n\\t\\t\\t\\t\\t\\t\\t\\t\\t\\t\\t\\n\\t\\t\\t\\t\\t\\t\\t\\t\\t\\t<span class=\"source_inner\">나쁜엄마</span>\\n\\t\\t\\t\\t\\t\\t\\t\\t\\t\\t</span>\\n\\t\\t\\t\\t\\t\\t\\t\\t\\t\\n\\t\\t\\t\\t\\t\\t\\t\\t</div>\\n\\t\\t\\t\\t\\t\\t\\t</div>\\n\\t\\t\\t\\t\\t\\t</div>\\n\\t\\t\\t\\t\\t</a>\\n\\t\\t\\t\\t\\n\\t\\t\\t\\n\\t\\t</div>\\n\\t</div>\\n</div>\\n\\n<div class=\"group_theme\" data-block-id=\"61bae4afa10d3006850d773e\" data-block-code=\"PC-THEME-MYFEED-RECOMMEND-4\" data-block-type=\"PC-MYFEED-BLOCK\" data-template-code=\"3X3\"\\n\\n     data-page=\"3\"\\n     style=\"display:none\">\\n\\n\\t<div class=\"media_view_wrap type_column\">\\n\\t\\t<div class=\"media_view\">\\n\\t\\t\\t\\n\\t\\t\\t\\t\\n\\t\\t\\t\\t\\t<a href=\"https://in.naver.com/welshcorgi_tory/contents/internal/558483135284352\" class=\"media_area\" data-da-position=\"true\" data-gdid=\"90000003_0000000000000033F10E367E\"\\n\\t\\t\\t\\t\\t   data-clk=\"tcc_sub.list1cont1\" target=\"_blank\">\\n\\t\\t\\t\\t\\t\\t<div class=\"media_thumb\">\\n\\t\\t\\t\\t\\t\\t\\t<img \\n\\t\\t\\t\\t\\t\\t\\t     data-src=\"https://s.pstatic.net/dthumb.phinf/?src&#x3D;%22https%3A%2F%2Fdiscovercrop-phinf.pstatic.net%2F%2FMjAyMzA0MjhfMjMg%2FMDAxNjgyNjU4NzEzMTEz.unqzXLMPwPVp6cIHaxkbtMV6I7xOgxK7JYhJfWS_ehkg.LJljw3F_qc27ldV97OwMgRMCNX3PI212oRw30X6iti0g.JPEG%2Fimage_374x246.jpg%22&amp;type&#x3D;nf464_260\" alt=\"\" width=\"232\" height=\"130\"\\n\\t\\t\\t\\t\\t\\t\\t     onerror=\"this.outerHTML=\\'<span class=\\\\\\'pm_noimg\\\\\\'><span class=\\\\\\'noimg_text\\\\\\'>이미지 준비중</span></span>\\'\">\\n\\n\\t\\t\\t\\t\\t\\t\\t\\n\\t\\t\\t\\t\\t\\t\\t\\t<span class=\"thumb_bd\"></span>\\n\\t\\t\\t\\t\\t\\t\\t\\t\\n\\t\\t\\t\\t\\t\\t\\t\\n\\t\\t\\t\\t\\t\\t</div>\\n\\t\\t\\t\\t\\t\\t<div class=\"media_info\">\\n\\t\\t\\t\\t\\t\\t\\t<div class=\"info_box\">\\n\\t\\t\\t\\t\\t\\t\\t\\t\\n\\t\\t\\t\\t\\t\\t\\t\\t\\n\\t\\t\\t\\t\\t\\t\\t\\t<strong class=\"title \">챔프회수 빨강 제조번호 상관없이 환불 우편접수방법, 대체약 콜대원</strong>\\n\\t\\t\\t\\t\\t\\t\\t\\t<div class=\"source_wrap\">\\n\\t\\t\\t\\t\\t\\t\\t\\t\\t\\n\\t\\t\\t\\t\\t\\t\\t\\t\\t\\t<span class=\"date\">6일 전</span>\\n\\t\\t\\t\\t\\t\\t\\t\\t\\t\\t<span class=\"source\">\\n\\t\\t\\t\\t\\t\\t\\t\\t\\t\\t\\t\\n\\t\\t\\t\\t\\t\\t\\t\\t\\t\\t\\t\\t<span class=\"source_thumb\"><img\\n\\t\\t\\t\\t\\t\\t\\t\\t\\t\\t\\t\\t\\t\\t\\n\\t\\t\\t\\t\\t\\t\\t\\t\\t\\t\\t\\t\\t\\tdata-src=\"https://s.pstatic.net/dthumb.phinf/?src&#x3D;%22http%3A%2F%2Fblogpfthumb.phinf.naver.net%2FMjAxOTA4MjNfMjEg%2FMDAxNTY2NTY5MjEzNzYy.A43vYYoe_HZf0pzxN3P07Xcq0a1kKxASj8nYxyRkZtEg.5lWY8HKnp4nnUNjA6_YPiA8vdKfg5Qr2zAoK-zW8f10g.PNG.ssongmin2%2F%25A4%25B7%25A4%25A9.png%22&amp;type&#x3D;navermain_nf40_40\" alt=\"\" width=\"20\" height=\"20\"\\n\\t\\t\\t\\t\\t\\t\\t\\t\\t\\t\\t\\t\\t\\tonerror=\"this.outerHTML=\\'<i class=\\\\\\'pm_source_noimg\\\\\\'><span class=\\\\\\'blind\\\\\\'>이미지준비중</span></i>\\'\"></span>\\n\\t\\t\\t\\t\\t\\t\\t\\t\\t\\t\\t\\n\\t\\t\\t\\t\\t\\t\\t\\t\\t\\t<span class=\"source_inner\">\\n\\t\\t\\t\\t\\t\\t\\t\\t\\t\\t\\t<em class=\"theme_hl\">인플루언서</em>러블아리</span>\\n\\t\\t\\t\\t\\t\\t\\t\\t\\t\\t</span>\\n\\t\\t\\t\\t\\t\\t\\t\\t\\t\\n\\t\\t\\t\\t\\t\\t\\t\\t</div>\\n\\t\\t\\t\\t\\t\\t\\t</div>\\n\\t\\t\\t\\t\\t\\t</div>\\n\\t\\t\\t\\t\\t</a>\\n\\t\\t\\t\\t\\n\\t\\t\\t\\n\\t\\t\\t\\t\\n\\t\\t\\t\\t\\t<a href=\"https://in.naver.com/ddawndew/contents/internal/557609715684832\" class=\"media_area\" data-da-position=\"true\" data-gdid=\"90000003_0000000000000033F0E919FA\"\\n\\t\\t\\t\\t\\t   data-clk=\"tcc_sub.list1cont2\" target=\"_blank\">\\n\\t\\t\\t\\t\\t\\t<div class=\"media_thumb\">\\n\\t\\t\\t\\t\\t\\t\\t<img \\n\\t\\t\\t\\t\\t\\t\\t     data-src=\"https://s.pstatic.net/dthumb.phinf/?src&#x3D;%22https%3A%2F%2Fdiscovercrop-phinf.pstatic.net%2F%2FMjAyMzA0MjZfMTk1%2FMDAxNjgyNDQ2MTA2MDA1.yPZ8rRFMt7s3CnAlzUVvZF0CSqkKN1xETqRbMaideRog.MMjxFhM1OyCCopn3d-SIjJcgW1_NegVy1sAXsVgEjzUg.JPEG%2Fimage_374x246.jpg%22&amp;type&#x3D;nf464_260\" alt=\"\" width=\"232\" height=\"130\"\\n\\t\\t\\t\\t\\t\\t\\t     onerror=\"this.outerHTML=\\'<span class=\\\\\\'pm_noimg\\\\\\'><span class=\\\\\\'noimg_text\\\\\\'>이미지 준비중</span></span>\\'\">\\n\\n\\t\\t\\t\\t\\t\\t\\t\\n\\t\\t\\t\\t\\t\\t\\t\\t<span class=\"thumb_bd\"></span>\\n\\t\\t\\t\\t\\t\\t\\t\\t\\n\\t\\t\\t\\t\\t\\t\\t\\n\\t\\t\\t\\t\\t\\t</div>\\n\\t\\t\\t\\t\\t\\t<div class=\"media_info\">\\n\\t\\t\\t\\t\\t\\t\\t<div class=\"info_box\">\\n\\t\\t\\t\\t\\t\\t\\t\\t\\n\\t\\t\\t\\t\\t\\t\\t\\t\\n\\t\\t\\t\\t\\t\\t\\t\\t<strong class=\"title \">합천 핫들생태공원 작약 개화상황 - 5월 합천 가볼만한곳</strong>\\n\\t\\t\\t\\t\\t\\t\\t\\t<div class=\"source_wrap\">\\n\\t\\t\\t\\t\\t\\t\\t\\t\\t\\n\\t\\t\\t\\t\\t\\t\\t\\t\\t\\t<span class=\"date\">1주일 전</span>\\n\\t\\t\\t\\t\\t\\t\\t\\t\\t\\t<span class=\"source\">\\n\\t\\t\\t\\t\\t\\t\\t\\t\\t\\t\\t\\n\\t\\t\\t\\t\\t\\t\\t\\t\\t\\t\\t\\t<span class=\"source_thumb\"><img\\n\\t\\t\\t\\t\\t\\t\\t\\t\\t\\t\\t\\t\\t\\t\\n\\t\\t\\t\\t\\t\\t\\t\\t\\t\\t\\t\\t\\t\\tdata-src=\"https://s.pstatic.net/dthumb.phinf/?src&#x3D;%22http%3A%2F%2Fblogpfthumb.phinf.naver.net%2FMjAyMzAxMDJfMjMx%2FMDAxNjcyNjEyOTIxNjk1.ChIUFEyto_jb3_9VI5hvzALTVZVYl2ZqhMxQSRtsIy4g.iYuGg-rf2XTyjrs4xIOPjBbjPlqJg5vJMnAz6OTrTCcg.JPEG.ddawndew%2F%25EC%2595%2584%25ED%258B%25B0-%25ED%2594%2584%25EB%25A1%259C%25ED%2595%2584.jpg%2F%25EC%2595%2584%25ED%258B%25B0-%25ED%2594%2584%25EB%25A1%259C%25ED%2595%2584.jpg%22&amp;type&#x3D;navermain_nf40_40\" alt=\"\" width=\"20\" height=\"20\"\\n\\t\\t\\t\\t\\t\\t\\t\\t\\t\\t\\t\\t\\t\\tonerror=\"this.outerHTML=\\'<i class=\\\\\\'pm_source_noimg\\\\\\'><span class=\\\\\\'blind\\\\\\'>이미지준비중</span></i>\\'\"></span>\\n\\t\\t\\t\\t\\t\\t\\t\\t\\t\\t\\t\\n\\t\\t\\t\\t\\t\\t\\t\\t\\t\\t<span class=\"source_inner\">\\n\\t\\t\\t\\t\\t\\t\\t\\t\\t\\t\\t<em class=\"theme_hl\">인플루언서</em>술람미</span>\\n\\t\\t\\t\\t\\t\\t\\t\\t\\t\\t</span>\\n\\t\\t\\t\\t\\t\\t\\t\\t\\t\\n\\t\\t\\t\\t\\t\\t\\t\\t</div>\\n\\t\\t\\t\\t\\t\\t\\t</div>\\n\\t\\t\\t\\t\\t\\t</div>\\n\\t\\t\\t\\t\\t</a>\\n\\t\\t\\t\\t\\n\\t\\t\\t\\n\\t\\t\\t\\t\\n\\t\\t\\t\\t\\t<a href=\"https://in.naver.com/thoongthoongbo/contents/internal/556719739266016\" class=\"media_area\" data-da-position=\"true\" data-gdid=\"90000003_0000000000000033F0C42322\"\\n\\t\\t\\t\\t\\t   data-clk=\"tcc_sub.list1cont3\" target=\"_blank\">\\n\\t\\t\\t\\t\\t\\t<div class=\"media_thumb\">\\n\\t\\t\\t\\t\\t\\t\\t<img \\n\\t\\t\\t\\t\\t\\t\\t     data-src=\"https://s.pstatic.net/dthumb.phinf/?src&#x3D;%22https%3A%2F%2Fdiscovercrop-phinf.pstatic.net%2F%2FMjAyMzA0MjNfMTAw%2FMDAxNjgyMjM3NzUzMDE4.XA04M92yusgKb3W26y2Zh_ij33glZkXOkMu34bQURQkg.j1vhbYg2kHg7huXkkFvMg0IGRADnbMdHDX8QSv7vNDog.JPEG%2Fimage_374x246.jpg%22&amp;type&#x3D;nf464_260\" alt=\"\" width=\"232\" height=\"130\"\\n\\t\\t\\t\\t\\t\\t\\t     onerror=\"this.outerHTML=\\'<span class=\\\\\\'pm_noimg\\\\\\'><span class=\\\\\\'noimg_text\\\\\\'>이미지 준비중</span></span>\\'\">\\n\\n\\t\\t\\t\\t\\t\\t\\t\\n\\t\\t\\t\\t\\t\\t\\t\\t<span class=\"thumb_bd\"></span>\\n\\t\\t\\t\\t\\t\\t\\t\\t\\n\\t\\t\\t\\t\\t\\t\\t\\n\\t\\t\\t\\t\\t\\t</div>\\n\\t\\t\\t\\t\\t\\t<div class=\"media_info\">\\n\\t\\t\\t\\t\\t\\t\\t<div class=\"info_box\">\\n\\t\\t\\t\\t\\t\\t\\t\\t\\n\\t\\t\\t\\t\\t\\t\\t\\t\\n\\t\\t\\t\\t\\t\\t\\t\\t<strong class=\"title \">봄 원피스에 어울리는 신발로 아식스 젤 시리즈 운동화 추천 feat. 수영</strong>\\n\\t\\t\\t\\t\\t\\t\\t\\t<div class=\"source_wrap\">\\n\\t\\t\\t\\t\\t\\t\\t\\t\\t\\n\\t\\t\\t\\t\\t\\t\\t\\t\\t\\t<span class=\"date\">1주일 전</span>\\n\\t\\t\\t\\t\\t\\t\\t\\t\\t\\t<span class=\"source\">\\n\\t\\t\\t\\t\\t\\t\\t\\t\\t\\t\\t\\n\\t\\t\\t\\t\\t\\t\\t\\t\\t\\t\\t\\t<span class=\"source_thumb\"><img\\n\\t\\t\\t\\t\\t\\t\\t\\t\\t\\t\\t\\t\\t\\t\\n\\t\\t\\t\\t\\t\\t\\t\\t\\t\\t\\t\\t\\t\\tdata-src=\"https://s.pstatic.net/dthumb.phinf/?src&#x3D;%22http%3A%2F%2Fblogpfthumb.phinf.naver.net%2FMjAyMDA1MTlfMjM4%2FMDAxNTg5ODUwMTgyOTc3.z9pBpsmgFk6LSYu6EiSJWhMtpWjplB-t8yiPHCj7Bygg.vthsd4axdjpB02uSLaMjdf2QDUni91cZ7qrtgjgZ8kQg.PNG.sabsablee%2F123.png%22&amp;type&#x3D;navermain_nf40_40\" alt=\"\" width=\"20\" height=\"20\"\\n\\t\\t\\t\\t\\t\\t\\t\\t\\t\\t\\t\\t\\t\\tonerror=\"this.outerHTML=\\'<i class=\\\\\\'pm_source_noimg\\\\\\'><span class=\\\\\\'blind\\\\\\'>이미지준비중</span></i>\\'\"></span>\\n\\t\\t\\t\\t\\t\\t\\t\\t\\t\\t\\t\\n\\t\\t\\t\\t\\t\\t\\t\\t\\t\\t<span class=\"source_inner\">\\n\\t\\t\\t\\t\\t\\t\\t\\t\\t\\t\\t<em class=\"theme_hl\">인플루언서</em>뚱뚱보의기록</span>\\n\\t\\t\\t\\t\\t\\t\\t\\t\\t\\t</span>\\n\\t\\t\\t\\t\\t\\t\\t\\t\\t\\n\\t\\t\\t\\t\\t\\t\\t\\t</div>\\n\\t\\t\\t\\t\\t\\t\\t</div>\\n\\t\\t\\t\\t\\t\\t</div>\\n\\t\\t\\t\\t\\t</a>\\n\\t\\t\\t\\t\\n\\t\\t\\t\\n\\t\\t\\t\\t\\n\\t\\t\\t\\t\\t<a class=\"myfeed_area\" href=\"https://in.naver.com/stay_romantic/topic/557532118678336?cds&#x3D;nm_pc_myfeed_recomm\" data-da-position=\"true\" data-gdid=\"9021as9p_0001fb128fe27b40\" data-clk=\"tcc_sub.inftopic\" target=\"_blank\">\\n\\t<div class=\"myfeed_thumb\">\\n\\t\\t<img  data-src=\"https://s.pstatic.net/dthumb.phinf/?src&#x3D;%22https%3A%2F%2Fdiscovercrop-phinf.pstatic.net%2F%2FMjAyMzA0MjhfMjYy%2FMDAxNjgyNjE5MTE1NDkx._07Murok68kAsCdOYdixUP2Z1_UotfJ6CElEo_rfcFEg.17YcJcsgPGqqvP6lz7XztwmBtTDSW5yVeUbjk4W1eAMg.JPEG%2Fimage_374x246.jpg%22&amp;type&#x3D;nf454_412\" alt=\"\" width=\"227\" height=\"206\" onerror=\"this.outerHTML=\\'<span class=\\\\\\'pm_noimg\\\\\\'><span class=\\\\\\'noimg_text\\\\\\'>이미지 준비중</span></span>\\'\">\\n\\t\\t<span class=\"thumb_bd\"></span>\\n\\t\\t<em class=\"badge_category\"><span class=\"badge_inner\">패션</span></em>\\n\\t</div>\\n\\t<div class=\"media_info\">\\n\\t\\t<div class=\"info_box\">\\n\\t\\t\\t<strong class=\"title\">송혜교가 입어서 문의 폭주했던 블라우스🤍</strong>\\n\\t\\t\\t<div class=\"source_wrap\">\\n\\t\\t\\t\\t<span class=\"date\">1주일 전</span>\\n\\t\\t\\t\\t<span class=\"source\">\\n\\t\\t\\t\\t\\t\\n\\t\\t\\t\\t\\t\\t<span class=\"source_thumb\"><img  data-src=\"https://s.pstatic.net/dthumb.phinf/?src&#x3D;%22https%3A%2F%2Fhomebuilder-phinf.pstatic.net%2F%2FMjAyMjAxMDJfMTI4%2FMDAxNjQxMDgxMzY0MzMy.9J88zJRx1lmmt7CDW1BA_e6RQNm-grLi8-KtW3KlAOEg.L0h7SrZgLcAEQ0_raEzam6ckTrwHhAKu8eOmhI0IdBgg.JPEG%2F1641081364265_1069363D-409E-4F72-901E-F4092021A5F6.jpeg%22&amp;type&#x3D;navermain_nf40_40\" alt=\"\" width=\"20\" height=\"20\" onerror=\"this.outerHTML=\\'<i class=\\\\\\'pm_source_noimg\\\\\\'><span class=\\\\\\'blind\\\\\\'>이미지준비중</span></i>\\'\"></span>\\n\\t\\t\\t\\t\\t\\n\\t\\t\\t\\t\\t<span class=\"source_inner\"><em class=\"theme_hl\">인플루언서</em>꾸리의장롱</span>\\n\\t\\t\\t\\t</span>\\n\\t\\t\\t</div>\\n\\t\\t</div>\\n\\t</div>\\n</a>\\n\\n\\t\\t\\t\\t\\n\\t\\t\\t\\n\\t\\t\\t\\t\\n\\t\\t\\t\\t\\t<a class=\"myfeed_area\" href=\"https://in.naver.com/kws3128pdm/topic/557526011534144?cds&#x3D;nm_pc_myfeed_recomm\" data-da-position=\"true\" data-gdid=\"9021as9p_0001fb1123dedb40\" data-clk=\"tcc_sub.inftopic\" target=\"_blank\">\\n\\t<div class=\"myfeed_thumb\">\\n\\t\\t<img  data-src=\"https://s.pstatic.net/dthumb.phinf/?src&#x3D;%22https%3A%2F%2Fdiscovercrop-phinf.pstatic.net%2F%2FMjAyMzA0MjdfMTUg%2FMDAxNjgyNTcyNjI4OTA2.efcRpsM3isLzaiQGn2IV59tv5CX4pKiT-ZijXXLiMLkg.QPwpW0_aQuYox8gT5GpOEVdaV4xl_tkeqSug7Yu07QQg.JPEG%2Fimage_374x246.jpg%22&amp;type&#x3D;nf454_412\" alt=\"\" width=\"227\" height=\"206\" onerror=\"this.outerHTML=\\'<span class=\\\\\\'pm_noimg\\\\\\'><span class=\\\\\\'noimg_text\\\\\\'>이미지 준비중</span></span>\\'\">\\n\\t\\t<span class=\"thumb_bd\"></span>\\n\\t\\t<em class=\"badge_category\"><span class=\"badge_inner\">방송/연예</span></em>\\n\\t</div>\\n\\t<div class=\"media_info\">\\n\\t\\t<div class=\"info_box\">\\n\\t\\t\\t<strong class=\"title\">꿀잼 입소문 타더니 시청자들에게 큰 웃음주는 드라마</strong>\\n\\t\\t\\t<div class=\"source_wrap\">\\n\\t\\t\\t\\t<span class=\"date\">1주일 전</span>\\n\\t\\t\\t\\t<span class=\"source\">\\n\\t\\t\\t\\t\\t\\n\\t\\t\\t\\t\\t\\t<span class=\"source_thumb\"><img  data-src=\"https://s.pstatic.net/dthumb.phinf/?src&#x3D;%22https%3A%2F%2Finfluencer-phinf.pstatic.net%2FMjAyMDA1MDlfNzQg%2FMDAxNTg5MDExOTIzNjAy.QSIl1ShedCdaJD68YbvwOIRryJFay2iAOfLUPbSawuog.97skXgDLP-PDW1hiBNQnYwkcP97gtTl1uvnnxX8M2HEg.JPEG%2F13.jpg%22&amp;type&#x3D;navermain_nf40_40\" alt=\"\" width=\"20\" height=\"20\" onerror=\"this.outerHTML=\\'<i class=\\\\\\'pm_source_noimg\\\\\\'><span class=\\\\\\'blind\\\\\\'>이미지준비중</span></i>\\'\"></span>\\n\\t\\t\\t\\t\\t\\n\\t\\t\\t\\t\\t<span class=\"source_inner\"><em class=\"theme_hl\">인플루언서</em>권우성</span>\\n\\t\\t\\t\\t</span>\\n\\t\\t\\t</div>\\n\\t\\t</div>\\n\\t</div>\\n</a>\\n\\n\\t\\t\\t\\t\\n\\t\\t\\t\\n\\t\\t\\t\\t\\n\\t\\t\\t\\t\\t<a class=\"myfeed_area\" href=\"https://in.naver.com/shushu9988/topic/557820378946336?cds&#x3D;nm_pc_myfeed_recomm\" data-da-position=\"true\" data-gdid=\"9021as9p_0001fb55ad891b20\" data-clk=\"tcc_sub.inftopic\" target=\"_blank\">\\n\\t<div class=\"myfeed_thumb\">\\n\\t\\t<img  data-src=\"https://s.pstatic.net/dthumb.phinf/?src&#x3D;%22https%3A%2F%2Fdiscovercrop-phinf.pstatic.net%2F%2FMjAyMzA0MjZfMjc4%2FMDAxNjgyNDk0MTIyMjM5.q8bJdOni5qJxynO9QxuzLCYyi8AqGVIHpw5LE66-t2kg.Cv_MJSON2fLOqBvUn4DTcPO5Vv7pRS0zWEKa_0bykfMg.JPEG%2Fimage_374x246.jpg%22&amp;type&#x3D;nf454_412\" alt=\"\" width=\"227\" height=\"206\" onerror=\"this.outerHTML=\\'<span class=\\\\\\'pm_noimg\\\\\\'><span class=\\\\\\'noimg_text\\\\\\'>이미지 준비중</span></span>\\'\">\\n\\t\\t<span class=\"thumb_bd\"></span>\\n\\t\\t<em class=\"badge_category\"><span class=\"badge_inner\">방송/연예</span></em>\\n\\t</div>\\n\\t<div class=\"media_info\">\\n\\t\\t<div class=\"info_box\">\\n\\t\\t\\t<strong class=\"title\">만찢녀 외모로 화제인 배우 심형탁 일본인 예비신부</strong>\\n\\t\\t\\t<div class=\"source_wrap\">\\n\\t\\t\\t\\t<span class=\"date\">1주일 전</span>\\n\\t\\t\\t\\t<span class=\"source\">\\n\\t\\t\\t\\t\\t\\n\\t\\t\\t\\t\\t\\t<span class=\"source_thumb\"><img  data-src=\"https://s.pstatic.net/dthumb.phinf/?src&#x3D;%22https%3A%2F%2Fhomebuilder-phinf.pstatic.net%2F%2FMjAyMTEyMjFfMjI5%2FMDAxNjQwMDczNzczNTYy.OQ4OFz-Afupmv_eSonNo_oRkAjUXOO6PGlrw6y5jNbAg.UG_x9_kJPW8ZUpaJnP0-jiQIu58pSLU2JSjj8spGoI4g.JPEG%2F1640073773521_%25ED%259E%2588.jpg%22&amp;type&#x3D;navermain_nf40_40\" alt=\"\" width=\"20\" height=\"20\" onerror=\"this.outerHTML=\\'<i class=\\\\\\'pm_source_noimg\\\\\\'><span class=\\\\\\'blind\\\\\\'>이미지준비중</span></i>\\'\"></span>\\n\\t\\t\\t\\t\\t\\n\\t\\t\\t\\t\\t<span class=\"source_inner\"><em class=\"theme_hl\">인플루언서</em>재린슈슈</span>\\n\\t\\t\\t\\t</span>\\n\\t\\t\\t</div>\\n\\t\\t</div>\\n\\t</div>\\n</a>\\n\\n\\t\\t\\t\\t\\n\\t\\t\\t\\n\\t\\t\\t\\t\\n\\t\\t\\t\\t\\t<a href=\"https://in.naver.com/nwhl1023/contents/internal/556817077040256\" class=\"media_area\" data-da-position=\"true\" data-gdid=\"90000003_0000000000000033F0C750D6\"\\n\\t\\t\\t\\t\\t   data-clk=\"tcc_sub.list1cont7\" target=\"_blank\">\\n\\t\\t\\t\\t\\t\\t<div class=\"media_thumb\">\\n\\t\\t\\t\\t\\t\\t\\t<img \\n\\t\\t\\t\\t\\t\\t\\t     data-src=\"https://s.pstatic.net/dthumb.phinf/?src&#x3D;%22https%3A%2F%2Fdiscovercrop-phinf.pstatic.net%2F%2FMjAyMzA0MjNfMTcx%2FMDAxNjgyMjU1MzUzODYz.-b-ggRGyCnsFOF_7ImSxhVjqbLzbiunKot-6_ST772kg.ApR67usE_PnctDZlslepfGpaVcAlnb9DcnCztAyE7Nog.JPEG%2Fimage_374x246.jpg%22&amp;type&#x3D;nf464_260\" alt=\"\" width=\"232\" height=\"130\"\\n\\t\\t\\t\\t\\t\\t\\t     onerror=\"this.outerHTML=\\'<span class=\\\\\\'pm_noimg\\\\\\'><span class=\\\\\\'noimg_text\\\\\\'>이미지 준비중</span></span>\\'\">\\n\\n\\t\\t\\t\\t\\t\\t\\t\\n\\t\\t\\t\\t\\t\\t\\t\\t<span class=\"thumb_bd\"></span>\\n\\t\\t\\t\\t\\t\\t\\t\\t\\n\\t\\t\\t\\t\\t\\t\\t\\n\\t\\t\\t\\t\\t\\t</div>\\n\\t\\t\\t\\t\\t\\t<div class=\"media_info\">\\n\\t\\t\\t\\t\\t\\t\\t<div class=\"info_box\">\\n\\t\\t\\t\\t\\t\\t\\t\\t\\n\\t\\t\\t\\t\\t\\t\\t\\t\\n\\t\\t\\t\\t\\t\\t\\t\\t<strong class=\"title \">나겔스만, 토트넘 감독직 수락한다... 토트넘에 청신호 \\'ON\\'</strong>\\n\\t\\t\\t\\t\\t\\t\\t\\t<div class=\"source_wrap\">\\n\\t\\t\\t\\t\\t\\t\\t\\t\\t\\n\\t\\t\\t\\t\\t\\t\\t\\t\\t\\t<span class=\"date\">1주일 전</span>\\n\\t\\t\\t\\t\\t\\t\\t\\t\\t\\t<span class=\"source\">\\n\\t\\t\\t\\t\\t\\t\\t\\t\\t\\t\\t\\n\\t\\t\\t\\t\\t\\t\\t\\t\\t\\t\\t\\t<span class=\"source_thumb\"><img\\n\\t\\t\\t\\t\\t\\t\\t\\t\\t\\t\\t\\t\\t\\t\\n\\t\\t\\t\\t\\t\\t\\t\\t\\t\\t\\t\\t\\t\\tdata-src=\"https://s.pstatic.net/dthumb.phinf/?src&#x3D;%22http%3A%2F%2Fblogpfthumb.phinf.naver.net%2FMjAyMjA4MDhfMTYg%2FMDAxNjU5OTU2NjMzNzM3.c_WDRzb-ufPt-dwcjy_BOHVtCJAePPzoqJj581TJeucg.kTP1Re8orIB6KjgXYFCDga_zQDebGej1gWeSt0xVdNcg.PNG.nwhl1023%2F%25EA%25B7%25B8%25EB%25A6%25BC2.png%2F%25EA%25B7%25B8%25EB%25A6%25BC2.png%22&amp;type&#x3D;navermain_nf40_40\" alt=\"\" width=\"20\" height=\"20\"\\n\\t\\t\\t\\t\\t\\t\\t\\t\\t\\t\\t\\t\\t\\tonerror=\"this.outerHTML=\\'<i class=\\\\\\'pm_source_noimg\\\\\\'><span class=\\\\\\'blind\\\\\\'>이미지준비중</span></i>\\'\"></span>\\n\\t\\t\\t\\t\\t\\t\\t\\t\\t\\t\\t\\n\\t\\t\\t\\t\\t\\t\\t\\t\\t\\t<span class=\"source_inner\">\\n\\t\\t\\t\\t\\t\\t\\t\\t\\t\\t\\t<em class=\"theme_hl\">인플루언서</em>빈빈씨</span>\\n\\t\\t\\t\\t\\t\\t\\t\\t\\t\\t</span>\\n\\t\\t\\t\\t\\t\\t\\t\\t\\t\\n\\t\\t\\t\\t\\t\\t\\t\\t</div>\\n\\t\\t\\t\\t\\t\\t\\t</div>\\n\\t\\t\\t\\t\\t\\t</div>\\n\\t\\t\\t\\t\\t</a>\\n\\t\\t\\t\\t\\n\\t\\t\\t\\n\\t\\t\\t\\t\\n\\t\\t\\t\\t\\t<a href=\"https://in.naver.com/caleb0901/contents/internal/532135012584768\" class=\"media_area\" data-da-position=\"true\" data-gdid=\"90000003_0000000000000033ECA62E77\"\\n\\t\\t\\t\\t\\t   data-clk=\"tcc_sub.list1cont8\" target=\"_blank\">\\n\\t\\t\\t\\t\\t\\t<div class=\"media_thumb\">\\n\\t\\t\\t\\t\\t\\t\\t<img \\n\\t\\t\\t\\t\\t\\t\\t     data-src=\"https://s.pstatic.net/dthumb.phinf/?src&#x3D;%22https%3A%2F%2Fdiscovercrop-phinf.pstatic.net%2F%2FMjAyMzAyMTNfMTYg%2FMDAxNjc2MjIxNzk2NDEz.bRb7ABh838TM5PO3j6NOPWNbLlXCBs9GN1BvltBTQb4g.xwQilArrWuFwkqN__NViF-o4zVVgt3cIYJJSA6jctdYg.JPEG%2Fimage_374x246.jpg%22&amp;type&#x3D;nf464_260\" alt=\"\" width=\"232\" height=\"130\"\\n\\t\\t\\t\\t\\t\\t\\t     onerror=\"this.outerHTML=\\'<span class=\\\\\\'pm_noimg\\\\\\'><span class=\\\\\\'noimg_text\\\\\\'>이미지 준비중</span></span>\\'\">\\n\\n\\t\\t\\t\\t\\t\\t\\t\\n\\t\\t\\t\\t\\t\\t\\t\\t<span class=\"thumb_bd\"></span>\\n\\t\\t\\t\\t\\t\\t\\t\\t\\n\\t\\t\\t\\t\\t\\t\\t\\n\\t\\t\\t\\t\\t\\t</div>\\n\\t\\t\\t\\t\\t\\t<div class=\"media_info\">\\n\\t\\t\\t\\t\\t\\t\\t<div class=\"info_box\">\\n\\t\\t\\t\\t\\t\\t\\t\\t\\n\\t\\t\\t\\t\\t\\t\\t\\t\\n\\t\\t\\t\\t\\t\\t\\t\\t<strong class=\"title \">손흥민 연봉(주급)은 맨유(맨체스터유나이티드FC)에서 몇 번째일까?</strong>\\n\\t\\t\\t\\t\\t\\t\\t\\t<div class=\"source_wrap\">\\n\\t\\t\\t\\t\\t\\t\\t\\t\\t\\n\\t\\t\\t\\t\\t\\t\\t\\t\\t\\t<span class=\"date\">2개월 전</span>\\n\\t\\t\\t\\t\\t\\t\\t\\t\\t\\t<span class=\"source\">\\n\\t\\t\\t\\t\\t\\t\\t\\t\\t\\t\\t\\n\\t\\t\\t\\t\\t\\t\\t\\t\\t\\t\\t\\t<span class=\"source_thumb\"><img\\n\\t\\t\\t\\t\\t\\t\\t\\t\\t\\t\\t\\t\\t\\t\\n\\t\\t\\t\\t\\t\\t\\t\\t\\t\\t\\t\\t\\t\\tdata-src=\"https://s.pstatic.net/dthumb.phinf/?src&#x3D;%22http%3A%2F%2Fblogpfthumb.phinf.naver.net%2FMjAyMjA2MDhfNzUg%2FMDAxNjU0NjYxOTQwMTQw.NScRUx4a-yb6C7QrTm9BxDIV73GZ5Nr42yP4ObwFsAsg.oR3vQ0TdFsQUPjL9igfbRXI9oMc7BHNvas8mZhZjyZog.JPEG.caleb0901%2FprofileImage.jpg%22&amp;type&#x3D;navermain_nf40_40\" alt=\"\" width=\"20\" height=\"20\"\\n\\t\\t\\t\\t\\t\\t\\t\\t\\t\\t\\t\\t\\t\\tonerror=\"this.outerHTML=\\'<i class=\\\\\\'pm_source_noimg\\\\\\'><span class=\\\\\\'blind\\\\\\'>이미지준비중</span></i>\\'\"></span>\\n\\t\\t\\t\\t\\t\\t\\t\\t\\t\\t\\t\\n\\t\\t\\t\\t\\t\\t\\t\\t\\t\\t<span class=\"source_inner\">\\n\\t\\t\\t\\t\\t\\t\\t\\t\\t\\t\\t<em class=\"theme_hl\">인플루언서</em>이과장</span>\\n\\t\\t\\t\\t\\t\\t\\t\\t\\t\\t</span>\\n\\t\\t\\t\\t\\t\\t\\t\\t\\t\\n\\t\\t\\t\\t\\t\\t\\t\\t</div>\\n\\t\\t\\t\\t\\t\\t\\t</div>\\n\\t\\t\\t\\t\\t\\t</div>\\n\\t\\t\\t\\t\\t</a>\\n\\t\\t\\t\\t\\n\\t\\t\\t\\n\\t\\t\\t\\t\\n\\t\\t\\t\\t\\t<a href=\"https://tv.naver.com/v/35581526\" class=\"media_area\" data-da-position=\"true\" data-gdid=\"26EDD16ECD452CBDDC31BAEEDB7F7A77DD63\"\\n\\t\\t\\t\\t\\t   data-clk=\"tcc_sub.list1cont9\" target=\"_blank\">\\n\\t\\t\\t\\t\\t\\t<div class=\"media_thumb\">\\n\\t\\t\\t\\t\\t\\t\\t<img \\n\\t\\t\\t\\t\\t\\t\\t     data-src=\"https://s.pstatic.net/dthumb.phinf/?src&#x3D;%22https%3A%2F%2Fs.pstatic.net%2Ftvcast.phinf%2F20230503_90%2FzAHZj_1683124948425v0kDg_JPEG%2FSUf1683101480113-1280-0.jpg%22&amp;type&#x3D;nf464_260\" alt=\"\" width=\"232\" height=\"130\"\\n\\t\\t\\t\\t\\t\\t\\t     onerror=\"this.outerHTML=\\'<span class=\\\\\\'pm_noimg\\\\\\'><span class=\\\\\\'noimg_text\\\\\\'>이미지 준비중</span></span>\\'\">\\n\\n\\t\\t\\t\\t\\t\\t\\t\\n\\t\\t\\t\\t\\t\\t\\t\\t<span class=\"thumb_dim\"></span>\\n\\t\\t\\t\\t\\t\\t\\t\\t<span class=\"thumb_bd\"></span>\\n\\t\\t\\t\\t\\t\\t\\t\\t<i class=\"pm_ico_play\"><span class=\"blind\">재생</span></i>\\n\\t\\t\\t\\t\\t\\t\\t\\t<span class=\"theme_runtime\"><span class=\"runtime_bg\">재생시간</span><em\\n\\t\\t\\t\\t\\t\\t\\t\\t\\t\\tclass=\"time\">06:40</em></span>\\n\\t\\t\\t\\t\\t\\t\\t\\n\\t\\t\\t\\t\\t\\t</div>\\n\\t\\t\\t\\t\\t\\t<div class=\"media_info\">\\n\\t\\t\\t\\t\\t\\t\\t<div class=\"info_box\">\\n\\t\\t\\t\\t\\t\\t\\t\\t\\n\\t\\t\\t\\t\\t\\t\\t\\t\\n\\t\\t\\t\\t\\t\\t\\t\\t<strong class=\"title \">펼쳐진 군중 속 영수, 옥순 둘만의 세상. 그리고 계속되는 현숙의 견제...?ㅣ나는솔로 EP.95ㅣSBS PLUSㅣ매주 수요일 밤 10시 30분 방송</strong>\\n\\t\\t\\t\\t\\t\\t\\t\\t<div class=\"source_wrap\">\\n\\t\\t\\t\\t\\t\\t\\t\\t\\t\\n\\t\\t\\t\\t\\t\\t\\t\\t\\t\\t<span class=\"date\">18시간 전</span>\\n\\t\\t\\t\\t\\t\\t\\t\\t\\t\\t<span class=\"source\">\\n\\t\\t\\t\\t\\t\\t\\t\\t\\t\\t\\t\\n\\t\\t\\t\\t\\t\\t\\t\\t\\t\\t\\t\\t<span class=\"source_thumb\"><img\\n\\t\\t\\t\\t\\t\\t\\t\\t\\t\\t\\t\\t\\t\\t\\n\\t\\t\\t\\t\\t\\t\\t\\t\\t\\t\\t\\t\\t\\tdata-src=\"https://s.pstatic.net/dthumb.phinf/?src&#x3D;%22https%3A%2F%2Fs.pstatic.net%2Ftvcast.phinf%2F20211007_165%2F2Jfz6_1633566411480SQmrI_PNG%2Fq1V1633566230366-152-152.png%22&amp;type&#x3D;navermain_nf40_40\" alt=\"\" width=\"20\" height=\"20\"\\n\\t\\t\\t\\t\\t\\t\\t\\t\\t\\t\\t\\t\\t\\tonerror=\"this.outerHTML=\\'<i class=\\\\\\'pm_source_noimg\\\\\\'><span class=\\\\\\'blind\\\\\\'>이미지준비중</span></i>\\'\"></span>\\n\\t\\t\\t\\t\\t\\t\\t\\t\\t\\t\\t\\n\\t\\t\\t\\t\\t\\t\\t\\t\\t\\t<span class=\"source_inner\">나는 SOLO</span>\\n\\t\\t\\t\\t\\t\\t\\t\\t\\t\\t</span>\\n\\t\\t\\t\\t\\t\\t\\t\\t\\t\\n\\t\\t\\t\\t\\t\\t\\t\\t</div>\\n\\t\\t\\t\\t\\t\\t\\t</div>\\n\\t\\t\\t\\t\\t\\t</div>\\n\\t\\t\\t\\t\\t</a>\\n\\t\\t\\t\\t\\n\\t\\t\\t\\n\\t\\t</div>\\n\\t</div>\\n</div>\\n\\n<div class=\"group_theme\" data-block-id=\"61bae4afa10d3006850d7796\" data-block-code=\"PC-THEME-MYFEED-RECOMMEND-5\" data-block-type=\"PC-MYFEED-BLOCK\" data-template-code=\"3X3\"\\n\\n     data-page=\"3\"\\n     style=\"display:none\">\\n\\n\\t<div class=\"media_view_wrap type_column\">\\n\\t\\t<div class=\"media_view\">\\n\\t\\t\\t\\n\\t\\t\\t\\t\\n\\t\\t\\t\\t\\t<a href=\"https://in.naver.com/kws3128pdm/contents/internal/552144499505760\" class=\"media_area\" data-da-position=\"true\" data-gdid=\"90000003_0000000000000033F003ECCF\"\\n\\t\\t\\t\\t\\t   data-clk=\"tcc_sub.list1cont1\" target=\"_blank\">\\n\\t\\t\\t\\t\\t\\t<div class=\"media_thumb\">\\n\\t\\t\\t\\t\\t\\t\\t<img \\n\\t\\t\\t\\t\\t\\t\\t     data-src=\"https://s.pstatic.net/dthumb.phinf/?src&#x3D;%22https%3A%2F%2Fdiscovercrop-phinf.pstatic.net%2F%2FMjAyMzA0MTBfMTE4%2FMDAxNjgxMTE3MjczNzUy.-8CQIJTpzNU_9wHidqIm_ISABKpyILiL2uBKaNhKkqsg.IGksG_1S0zOmR_-x455GpPCNaLyTXlKm5W496XpcOqEg.JPEG%2Fimage_374x246.jpg%22&amp;type&#x3D;nf464_260\" alt=\"\" width=\"232\" height=\"130\"\\n\\t\\t\\t\\t\\t\\t\\t     onerror=\"this.outerHTML=\\'<span class=\\\\\\'pm_noimg\\\\\\'><span class=\\\\\\'noimg_text\\\\\\'>이미지 준비중</span></span>\\'\">\\n\\n\\t\\t\\t\\t\\t\\t\\t\\n\\t\\t\\t\\t\\t\\t\\t\\t<span class=\"thumb_bd\"></span>\\n\\t\\t\\t\\t\\t\\t\\t\\t\\n\\t\\t\\t\\t\\t\\t\\t\\n\\t\\t\\t\\t\\t\\t</div>\\n\\t\\t\\t\\t\\t\\t<div class=\"media_info\">\\n\\t\\t\\t\\t\\t\\t\\t<div class=\"info_box\">\\n\\t\\t\\t\\t\\t\\t\\t\\t\\n\\t\\t\\t\\t\\t\\t\\t\\t\\n\\t\\t\\t\\t\\t\\t\\t\\t<strong class=\"title \">시즌2 방송 4개월 만에 갑작스러운 소식? 이승기 빠진 집사부일체, 시청률 부진으로 결국 씁쓸한 결말 종영(일요일 주말 예능)</strong>\\n\\t\\t\\t\\t\\t\\t\\t\\t<div class=\"source_wrap\">\\n\\t\\t\\t\\t\\t\\t\\t\\t\\t\\n\\t\\t\\t\\t\\t\\t\\t\\t\\t\\t<span class=\"date\">3주일 전</span>\\n\\t\\t\\t\\t\\t\\t\\t\\t\\t\\t<span class=\"source\">\\n\\t\\t\\t\\t\\t\\t\\t\\t\\t\\t\\t\\n\\t\\t\\t\\t\\t\\t\\t\\t\\t\\t\\t\\t<span class=\"source_thumb\"><img\\n\\t\\t\\t\\t\\t\\t\\t\\t\\t\\t\\t\\t\\t\\t\\n\\t\\t\\t\\t\\t\\t\\t\\t\\t\\t\\t\\t\\t\\tdata-src=\"https://s.pstatic.net/dthumb.phinf/?src&#x3D;%22http%3A%2F%2Fblogpfthumb.phinf.naver.net%2FMjAyMTEwMjhfMjQ2%2FMDAxNjM1Mzg0MDcyMTkw.AEfaSfDb1E_501dlp5koTsBP4VGVZ5uPZkedxh7h9Qog.x5tuaP9gFf35b_bgD5nEJ1grgdbvRHrIc67emvetLLIg.JPEG.kws3128pdm%2F%25EA%25B0%25B1%25EC%2583%2581%25EB%258F%2584.jpg%22&amp;type&#x3D;navermain_nf40_40\" alt=\"\" width=\"20\" height=\"20\"\\n\\t\\t\\t\\t\\t\\t\\t\\t\\t\\t\\t\\t\\t\\tonerror=\"this.outerHTML=\\'<i class=\\\\\\'pm_source_noimg\\\\\\'><span class=\\\\\\'blind\\\\\\'>이미지준비중</span></i>\\'\"></span>\\n\\t\\t\\t\\t\\t\\t\\t\\t\\t\\t\\t\\n\\t\\t\\t\\t\\t\\t\\t\\t\\t\\t<span class=\"source_inner\">\\n\\t\\t\\t\\t\\t\\t\\t\\t\\t\\t\\t<em class=\"theme_hl\">인플루언서</em>양천구 권우성</span>\\n\\t\\t\\t\\t\\t\\t\\t\\t\\t\\t</span>\\n\\t\\t\\t\\t\\t\\t\\t\\t\\t\\n\\t\\t\\t\\t\\t\\t\\t\\t</div>\\n\\t\\t\\t\\t\\t\\t\\t</div>\\n\\t\\t\\t\\t\\t\\t</div>\\n\\t\\t\\t\\t\\t</a>\\n\\t\\t\\t\\t\\n\\t\\t\\t\\n\\t\\t\\t\\t\\n\\t\\t\\t\\t\\t<a class=\"myfeed_area\" href=\"https://in.naver.com/siaa174/topic/558243007200000?cds&#x3D;nm_pc_myfeed_recomm\" data-da-position=\"true\" data-gdid=\"9021as9p_0001fbb814247b00\" data-clk=\"tcc_sub.inftopic\" target=\"_blank\">\\n\\t<div class=\"myfeed_thumb\">\\n\\t\\t<img  data-src=\"https://s.pstatic.net/dthumb.phinf/?src&#x3D;%22https%3A%2F%2Fdiscovercrop-phinf.pstatic.net%2F%2FMjAyMzA0MjlfMjgw%2FMDAxNjgyNzUwMTAxMjkw._qU98YdXXPfkOduRwH0XbemEiZXfmzqxRTwwqwinhLog.meUhkvoYPDp8az72CR9QkEKlshGVqUqEZhB0KZyMM5Mg.JPEG%2Fimage_374x246.jpg%22&amp;type&#x3D;nf454_412\" alt=\"\" width=\"227\" height=\"206\" onerror=\"this.outerHTML=\\'<span class=\\\\\\'pm_noimg\\\\\\'><span class=\\\\\\'noimg_text\\\\\\'>이미지 준비중</span></span>\\'\">\\n\\t\\t<span class=\"thumb_bd\"></span>\\n\\t\\t<em class=\"badge_category\"><span class=\"badge_inner\">패션</span></em>\\n\\t</div>\\n\\t<div class=\"media_info\">\\n\\t\\t<div class=\"info_box\">\\n\\t\\t\\t<strong class=\"title\">품절대란 일으킨 정려원 데님 원피스</strong>\\n\\t\\t\\t<div class=\"source_wrap\">\\n\\t\\t\\t\\t<span class=\"date\">6일 전</span>\\n\\t\\t\\t\\t<span class=\"source\">\\n\\t\\t\\t\\t\\t\\n\\t\\t\\t\\t\\t\\t<span class=\"source_thumb\"><img  data-src=\"https://s.pstatic.net/dthumb.phinf/?src&#x3D;%22https%3A%2F%2Fhomebuilder-phinf.pstatic.net%2FMjAyMjExMDRfMjUz%2FMDAxNjY3NTQ2MzU2MDQ2.NArL-Z3Wl0ZmA43TNmXYHpCECLB9H4K2jaDtaU2pVuwg.A7ZqYiZRUIzBectiZFtWRWUBXoaPKK-V770zKjgKRZQg.JPEG%2F1667546355973_Screenshot_20221104-161432_Instagram.jpg%22&amp;type&#x3D;navermain_nf40_40\" alt=\"\" width=\"20\" height=\"20\" onerror=\"this.outerHTML=\\'<i class=\\\\\\'pm_source_noimg\\\\\\'><span class=\\\\\\'blind\\\\\\'>이미지준비중</span></i>\\'\"></span>\\n\\t\\t\\t\\t\\t\\n\\t\\t\\t\\t\\t<span class=\"source_inner\"><em class=\"theme_hl\">인플루언서</em>시아의룩북</span>\\n\\t\\t\\t\\t</span>\\n\\t\\t\\t</div>\\n\\t\\t</div>\\n\\t</div>\\n</a>\\n\\n\\t\\t\\t\\t\\n\\t\\t\\t\\n\\t\\t\\t\\t\\n\\t\\t\\t\\t\\t<a href=\"http://blog.naver.com/dcampdev/223064167863\" class=\"media_area\" data-da-position=\"true\" data-gdid=\"90000003_0000000000000033EFA915B7\"\\n\\t\\t\\t\\t\\t   data-clk=\"tcc_sub.list1cont3\" target=\"_blank\">\\n\\t\\t\\t\\t\\t\\t<div class=\"media_thumb\">\\n\\t\\t\\t\\t\\t\\t\\t<img \\n\\t\\t\\t\\t\\t\\t\\t     data-src=\"https://s.pstatic.net/dthumb.phinf/?src&#x3D;%22https%3A%2F%2Fdiscovercrop-phinf.pstatic.net%2F%2FMjAyMzA0MDRfMTM2%2FMDAxNjgwNTgzMDYxNDE0.OwzIWnuAtWATPCOe_cUbjrx5xS7S0cKKJR0ln1BpE7kg.kjgZJiCC5p0GmOonxyM0OFL_johqGrD5dXNY1Tfl7IAg.JPEG%2Fimage_374x246.jpg%22&amp;type&#x3D;nf464_260\" alt=\"\" width=\"232\" height=\"130\"\\n\\t\\t\\t\\t\\t\\t\\t     onerror=\"this.outerHTML=\\'<span class=\\\\\\'pm_noimg\\\\\\'><span class=\\\\\\'noimg_text\\\\\\'>이미지 준비중</span></span>\\'\">\\n\\n\\t\\t\\t\\t\\t\\t\\t\\n\\t\\t\\t\\t\\t\\t\\t\\t<span class=\"thumb_bd\"></span>\\n\\t\\t\\t\\t\\t\\t\\t\\t\\n\\t\\t\\t\\t\\t\\t\\t\\n\\t\\t\\t\\t\\t\\t</div>\\n\\t\\t\\t\\t\\t\\t<div class=\"media_info\">\\n\\t\\t\\t\\t\\t\\t\\t<div class=\"info_box\">\\n\\t\\t\\t\\t\\t\\t\\t\\t\\n\\t\\t\\t\\t\\t\\t\\t\\t\\n\\t\\t\\t\\t\\t\\t\\t\\t<strong class=\"title \">만 15세 의대 합격한 천재가 서른 넘어 하고 있는 뜻밖의 도전</strong>\\n\\t\\t\\t\\t\\t\\t\\t\\t<div class=\"source_wrap\">\\n\\t\\t\\t\\t\\t\\t\\t\\t\\t\\n\\t\\t\\t\\t\\t\\t\\t\\t\\t\\t<span class=\"date\">1개월 전</span>\\n\\t\\t\\t\\t\\t\\t\\t\\t\\t\\t<span class=\"source\">\\n\\t\\t\\t\\t\\t\\t\\t\\t\\t\\t\\t\\n\\t\\t\\t\\t\\t\\t\\t\\t\\t\\t\\t\\t<span class=\"source_thumb\"><img\\n\\t\\t\\t\\t\\t\\t\\t\\t\\t\\t\\t\\t\\t\\t\\n\\t\\t\\t\\t\\t\\t\\t\\t\\t\\t\\t\\t\\t\\tdata-src=\"https://s.pstatic.net/dthumb.phinf/?src&#x3D;%22http%3A%2F%2Fblogpfthumb.phinf.naver.net%2FMjAyMjA2MTVfMTg2%2FMDAxNjU1MjcwMDcyMzUy.NpyWPr8p6Wo7zGUXw-i2BIf7OHhvlelsVX09v8KuB94g.Ucjr23jI9lkE3Sh8pr4Ro9KOQ9dx5rrxKDyqqr5G4H4g.PNG.dcampdev%2F%25EC%259D%25B8%25EC%258A%25A4%25ED%2583%2580%25EA%25B7%25B8%25EB%259E%25A8_%25ED%2594%2584%25EB%25A1%259C%25ED%2595%2584.png%2F%25EC%259D%25B8%25EC%258A%25A4%25ED%2583%2580%25EA%25B7%25B8%25EB%259E%25A8_%25ED%2594%2584%25EB%25A1%259C%25ED%2595%2584.png%22&amp;type&#x3D;navermain_nf40_40\" alt=\"\" width=\"20\" height=\"20\"\\n\\t\\t\\t\\t\\t\\t\\t\\t\\t\\t\\t\\t\\t\\tonerror=\"this.outerHTML=\\'<i class=\\\\\\'pm_source_noimg\\\\\\'><span class=\\\\\\'blind\\\\\\'>이미지준비중</span></i>\\'\"></span>\\n\\t\\t\\t\\t\\t\\t\\t\\t\\t\\t\\t\\n\\t\\t\\t\\t\\t\\t\\t\\t\\t\\t<span class=\"source_inner\">디캠프</span>\\n\\t\\t\\t\\t\\t\\t\\t\\t\\t\\t</span>\\n\\t\\t\\t\\t\\t\\t\\t\\t\\t\\n\\t\\t\\t\\t\\t\\t\\t\\t</div>\\n\\t\\t\\t\\t\\t\\t\\t</div>\\n\\t\\t\\t\\t\\t\\t</div>\\n\\t\\t\\t\\t\\t</a>\\n\\t\\t\\t\\t\\n\\t\\t\\t\\n\\t\\t\\t\\t\\n\\t\\t\\t\\t\\t<a href=\"https://in.naver.com/kws3128pdm/contents/internal/557892861568320\" class=\"media_area\" data-da-position=\"true\" data-gdid=\"90000003_0000000000000033F0F52F8A\"\\n\\t\\t\\t\\t\\t   data-clk=\"tcc_sub.list1cont4\" target=\"_blank\">\\n\\t\\t\\t\\t\\t\\t<div class=\"media_thumb\">\\n\\t\\t\\t\\t\\t\\t\\t<img \\n\\t\\t\\t\\t\\t\\t\\t     data-src=\"https://s.pstatic.net/dthumb.phinf/?src&#x3D;%22http%3A%2F%2Fblogfiles.naver.net%2FMjAyMzA0MjZfNjkg%2FMDAxNjgyNTA0NDMyNTIy.MfY9SEo29k5MaGelZIU7oPQp2Gsw0dmAJpblpvSICb0g.31OZUbiAcuGxEVecxgkYFBox8gPEbmgywJdL7SbAt84g.PNG.kws3128pdm%2F%EC%A0%9C%EB%AA%A9%EC%9D%84_%EC%9E%85%EB%A0%A5%ED%95%98%EC%84%B8%EC%9A%94.png%22&amp;type&#x3D;nf464_260\" alt=\"\" width=\"232\" height=\"130\"\\n\\t\\t\\t\\t\\t\\t\\t     onerror=\"this.outerHTML=\\'<span class=\\\\\\'pm_noimg\\\\\\'><span class=\\\\\\'noimg_text\\\\\\'>이미지 준비중</span></span>\\'\">\\n\\n\\t\\t\\t\\t\\t\\t\\t\\n\\t\\t\\t\\t\\t\\t\\t\\t<span class=\"thumb_bd\"></span>\\n\\t\\t\\t\\t\\t\\t\\t\\t\\n\\t\\t\\t\\t\\t\\t\\t\\n\\t\\t\\t\\t\\t\\t</div>\\n\\t\\t\\t\\t\\t\\t<div class=\"media_info\">\\n\\t\\t\\t\\t\\t\\t\\t<div class=\"info_box\">\\n\\t\\t\\t\\t\\t\\t\\t\\t\\n\\t\\t\\t\\t\\t\\t\\t\\t\\n\\t\\t\\t\\t\\t\\t\\t\\t<strong class=\"title \">진짜 똑같네? 4세대 걸그룹 아이브 장원영 친언니 장다아 얼굴 공개된 렌즈 광고 팬들 반응</strong>\\n\\t\\t\\t\\t\\t\\t\\t\\t<div class=\"source_wrap\">\\n\\t\\t\\t\\t\\t\\t\\t\\t\\t\\n\\t\\t\\t\\t\\t\\t\\t\\t\\t\\t<span class=\"date\">1주일 전</span>\\n\\t\\t\\t\\t\\t\\t\\t\\t\\t\\t<span class=\"source\">\\n\\t\\t\\t\\t\\t\\t\\t\\t\\t\\t\\t\\n\\t\\t\\t\\t\\t\\t\\t\\t\\t\\t\\t\\t<span class=\"source_thumb\"><img\\n\\t\\t\\t\\t\\t\\t\\t\\t\\t\\t\\t\\t\\t\\t\\n\\t\\t\\t\\t\\t\\t\\t\\t\\t\\t\\t\\t\\t\\tdata-src=\"https://s.pstatic.net/dthumb.phinf/?src&#x3D;%22http%3A%2F%2Fblogpfthumb.phinf.naver.net%2FMjAyMTEwMjhfMjQ2%2FMDAxNjM1Mzg0MDcyMTkw.AEfaSfDb1E_501dlp5koTsBP4VGVZ5uPZkedxh7h9Qog.x5tuaP9gFf35b_bgD5nEJ1grgdbvRHrIc67emvetLLIg.JPEG.kws3128pdm%2F%25EA%25B0%25B1%25EC%2583%2581%25EB%258F%2584.jpg%22&amp;type&#x3D;navermain_nf40_40\" alt=\"\" width=\"20\" height=\"20\"\\n\\t\\t\\t\\t\\t\\t\\t\\t\\t\\t\\t\\t\\t\\tonerror=\"this.outerHTML=\\'<i class=\\\\\\'pm_source_noimg\\\\\\'><span class=\\\\\\'blind\\\\\\'>이미지준비중</span></i>\\'\"></span>\\n\\t\\t\\t\\t\\t\\t\\t\\t\\t\\t\\t\\n\\t\\t\\t\\t\\t\\t\\t\\t\\t\\t<span class=\"source_inner\">\\n\\t\\t\\t\\t\\t\\t\\t\\t\\t\\t\\t<em class=\"theme_hl\">인플루언서</em>양천구 권우성</span>\\n\\t\\t\\t\\t\\t\\t\\t\\t\\t\\t</span>\\n\\t\\t\\t\\t\\t\\t\\t\\t\\t\\n\\t\\t\\t\\t\\t\\t\\t\\t</div>\\n\\t\\t\\t\\t\\t\\t\\t</div>\\n\\t\\t\\t\\t\\t\\t</div>\\n\\t\\t\\t\\t\\t</a>\\n\\t\\t\\t\\t\\n\\t\\t\\t\\n\\t\\t\\t\\t\\n\\t\\t\\t\\t\\t<a href=\"https://contents.premium.naver.com/rabbitgumi/rabbitgumi2/contents/230429131344660wi\" class=\"media_area\" data-da-position=\"true\" data-gdid=\"8830a3s6_230429131344660wi\"\\n\\t\\t\\t\\t\\t   data-clk=\"tcc_sub.list1cont5\" target=\"_blank\">\\n\\t\\t\\t\\t\\t\\t<div class=\"media_thumb\">\\n\\t\\t\\t\\t\\t\\t\\t<img \\n\\t\\t\\t\\t\\t\\t\\t     data-src=\"https://s.pstatic.net/dthumb.phinf/?src&#x3D;%22https%3A%2F%2Fs.pstatic.net%2Fscs.phinf%2FMjAyMzA0MjlfOTUg%2FMDAxNjgyNzQxMjY2NTkx.DqPwBK0QIJaDMSkkGVXdrH-JpIiL-m2djfTzVTNu4mkg.xoqGIfg7ZMnj3ZvRzmRXqazqLrvO89xC2OPT8TZyReog.JPEG%2FIMG_8494.jpg%22&amp;type&#x3D;nf464_260\" alt=\"\" width=\"232\" height=\"130\"\\n\\t\\t\\t\\t\\t\\t\\t     onerror=\"this.outerHTML=\\'<span class=\\\\\\'pm_noimg\\\\\\'><span class=\\\\\\'noimg_text\\\\\\'>이미지 준비중</span></span>\\'\">\\n\\n\\t\\t\\t\\t\\t\\t\\t\\n\\t\\t\\t\\t\\t\\t\\t\\t<span class=\"thumb_bd\"></span>\\n\\t\\t\\t\\t\\t\\t\\t\\t\\n\\t\\t\\t\\t\\t\\t\\t\\t\\t\\n\\t\\t\\t\\t\\t\\t\\t\\t\\t\\t<em class=\"theme_badge type_charge\"><span class=\"badge_inner\">유료</span></em>\\n\\t\\t\\t\\t\\t\\t\\t\\t\\t\\n\\t\\t\\t\\t\\t\\t\\t\\t\\n\\t\\t\\t\\t\\t\\t\\t\\n\\t\\t\\t\\t\\t\\t</div>\\n\\t\\t\\t\\t\\t\\t<div class=\"media_info\">\\n\\t\\t\\t\\t\\t\\t\\t<div class=\"info_box\">\\n\\t\\t\\t\\t\\t\\t\\t\\t\\n\\t\\t\\t\\t\\t\\t\\t\\t\\n\\t\\t\\t\\t\\t\\t\\t\\t<strong class=\"title \">🐰💌 누군가에게 너무 의지하고 있다면...</strong>\\n\\t\\t\\t\\t\\t\\t\\t\\t<div class=\"source_wrap\">\\n\\t\\t\\t\\t\\t\\t\\t\\t\\t\\n\\t\\t\\t\\t\\t\\t\\t\\t\\t\\t<span class=\"date\">4일 전</span>\\n\\t\\t\\t\\t\\t\\t\\t\\t\\t\\t<span class=\"source\">\\n\\t\\t\\t\\t\\t\\t\\t\\t\\t\\t\\t\\n\\t\\t\\t\\t\\t\\t\\t\\t\\t\\t\\t\\t<span class=\"source_thumb\"><img\\n\\t\\t\\t\\t\\t\\t\\t\\t\\t\\t\\t\\t\\t\\t\\n\\t\\t\\t\\t\\t\\t\\t\\t\\t\\t\\t\\t\\t\\tdata-src=\"https://s.pstatic.net/dthumb.phinf/?src&#x3D;%22https%3A%2F%2Fs.pstatic.net%2Fscs.phinf%2FMjAyMjAzMzBfMTIx%2FMDAxNjQ4NjE2OTc5NDUy.3ws3Yr96V5mEAenAWSq-I9th6v6ieVbVzqq4cutlMw4g.RBEVjbsFbmFHp0FBlYvG9q4SMxTdtPIr15zKotks_HAg.JPEG%2Fimage%257Cpremium%257Cchannel%257Crabbitgumi%257C2022%257C03%257C30%257C1648616979423.jpg%22&amp;type&#x3D;navermain_nf40_40\" alt=\"\" width=\"20\" height=\"20\"\\n\\t\\t\\t\\t\\t\\t\\t\\t\\t\\t\\t\\t\\t\\tonerror=\"this.outerHTML=\\'<i class=\\\\\\'pm_source_noimg\\\\\\'><span class=\\\\\\'blind\\\\\\'>이미지준비중</span></i>\\'\"></span>\\n\\t\\t\\t\\t\\t\\t\\t\\t\\t\\t\\t\\n\\t\\t\\t\\t\\t\\t\\t\\t\\t\\t<span class=\"source_inner\">\\n\\t\\t\\t\\t\\t\\t\\t\\t\\t\\t\\t<em class=\"theme_hl\">프리미엄</em>레빗구미의영화이야기</span>\\n\\t\\t\\t\\t\\t\\t\\t\\t\\t\\t</span>\\n\\t\\t\\t\\t\\t\\t\\t\\t\\t\\n\\t\\t\\t\\t\\t\\t\\t\\t</div>\\n\\t\\t\\t\\t\\t\\t\\t</div>\\n\\t\\t\\t\\t\\t\\t</div>\\n\\t\\t\\t\\t\\t</a>\\n\\t\\t\\t\\t\\n\\t\\t\\t\\n\\t\\t\\t\\t\\n\\t\\t\\t\\t\\t<a href=\"https://in.naver.com/zzuneduck/contents/internal/547341765732768\" class=\"media_area\" data-da-position=\"true\" data-gdid=\"90000003_0000000000000033EF41DB1B\"\\n\\t\\t\\t\\t\\t   data-clk=\"tcc_sub.list1cont6\" target=\"_blank\">\\n\\t\\t\\t\\t\\t\\t<div class=\"media_thumb\">\\n\\t\\t\\t\\t\\t\\t\\t<img \\n\\t\\t\\t\\t\\t\\t\\t     data-src=\"https://s.pstatic.net/dthumb.phinf/?src&#x3D;%22https%3A%2F%2Fdiscovercrop-phinf.pstatic.net%2F%2FMjAyMzAzMjhfMjI3%2FMDAxNjc5OTM3Mjk4Mzgw.Sfl4H2chTTXWrrQaf087oVG96NR6yI7KmPG7JGZpmYYg.iIZVJ7GXVL_kYEQHzE47pW9JzPfVtxvpUHRmdDFr5Ngg.JPEG%2Fimage_374x246.jpg%22&amp;type&#x3D;nf464_260\" alt=\"\" width=\"232\" height=\"130\"\\n\\t\\t\\t\\t\\t\\t\\t     onerror=\"this.outerHTML=\\'<span class=\\\\\\'pm_noimg\\\\\\'><span class=\\\\\\'noimg_text\\\\\\'>이미지 준비중</span></span>\\'\">\\n\\n\\t\\t\\t\\t\\t\\t\\t\\n\\t\\t\\t\\t\\t\\t\\t\\t<span class=\"thumb_bd\"></span>\\n\\t\\t\\t\\t\\t\\t\\t\\t\\n\\t\\t\\t\\t\\t\\t\\t\\n\\t\\t\\t\\t\\t\\t</div>\\n\\t\\t\\t\\t\\t\\t<div class=\"media_info\">\\n\\t\\t\\t\\t\\t\\t\\t<div class=\"info_box\">\\n\\t\\t\\t\\t\\t\\t\\t\\t\\n\\t\\t\\t\\t\\t\\t\\t\\t\\n\\t\\t\\t\\t\\t\\t\\t\\t<strong class=\"title \">여자 지갑 계급도 / 여자 명품 지갑 추천</strong>\\n\\t\\t\\t\\t\\t\\t\\t\\t<div class=\"source_wrap\">\\n\\t\\t\\t\\t\\t\\t\\t\\t\\t\\n\\t\\t\\t\\t\\t\\t\\t\\t\\t\\t<span class=\"date\">1개월 전</span>\\n\\t\\t\\t\\t\\t\\t\\t\\t\\t\\t<span class=\"source\">\\n\\t\\t\\t\\t\\t\\t\\t\\t\\t\\t\\t\\n\\t\\t\\t\\t\\t\\t\\t\\t\\t\\t\\t\\t<span class=\"source_thumb\"><img\\n\\t\\t\\t\\t\\t\\t\\t\\t\\t\\t\\t\\t\\t\\t\\n\\t\\t\\t\\t\\t\\t\\t\\t\\t\\t\\t\\t\\t\\tdata-src=\"https://s.pstatic.net/dthumb.phinf/?src&#x3D;%22http%3A%2F%2Fblogpfthumb.phinf.naver.net%2FMjAyMjA2MjdfMTM3%2FMDAxNjU2MzI1NTc1MzAx.2GQ5cnrA1ao00TGUOa7BfpUbHC6z_jcu4XEUJuOUh2og.xkDcoEDg3kb5KyrrmV0D7h7Wh12wHuznTtSUSTJJTZQg.JPEG.rayharp%2FKakaoTalk_20220627_192451891.jpg%2FKakaoTalk_20220627_192451891.jpg%22&amp;type&#x3D;navermain_nf40_40\" alt=\"\" width=\"20\" height=\"20\"\\n\\t\\t\\t\\t\\t\\t\\t\\t\\t\\t\\t\\t\\t\\tonerror=\"this.outerHTML=\\'<i class=\\\\\\'pm_source_noimg\\\\\\'><span class=\\\\\\'blind\\\\\\'>이미지준비중</span></i>\\'\"></span>\\n\\t\\t\\t\\t\\t\\t\\t\\t\\t\\t\\t\\n\\t\\t\\t\\t\\t\\t\\t\\t\\t\\t<span class=\"source_inner\">\\n\\t\\t\\t\\t\\t\\t\\t\\t\\t\\t\\t<em class=\"theme_hl\">인플루언서</em>쭌이덕</span>\\n\\t\\t\\t\\t\\t\\t\\t\\t\\t\\t</span>\\n\\t\\t\\t\\t\\t\\t\\t\\t\\t\\n\\t\\t\\t\\t\\t\\t\\t\\t</div>\\n\\t\\t\\t\\t\\t\\t\\t</div>\\n\\t\\t\\t\\t\\t\\t</div>\\n\\t\\t\\t\\t\\t</a>\\n\\t\\t\\t\\t\\n\\t\\t\\t\\n\\t\\t\\t\\t\\n\\t\\t\\t\\t\\t<a href=\"http://blog.naver.com/ksj1511111/223089283062\" class=\"media_area\" data-da-position=\"true\" data-gdid=\"90000003_0000000000000033F1284FF6\"\\n\\t\\t\\t\\t\\t   data-clk=\"tcc_sub.list1cont7\" target=\"_blank\">\\n\\t\\t\\t\\t\\t\\t<div class=\"media_thumb\">\\n\\t\\t\\t\\t\\t\\t\\t<img \\n\\t\\t\\t\\t\\t\\t\\t     data-src=\"https://s.pstatic.net/dthumb.phinf/?src&#x3D;%22http%3A%2F%2Fblogfiles.naver.net%2FMjAyMzA0MzBfMTUx%2FMDAxNjgyODIyOTI4NTU4.gcCvk4gwNvGumS9qS-a4B33nwjrLTiArWPZC1oZF7sEg.Rkp_nxobTx1vfZc0ZdIyggXaZOy0HAqxyO9N9M0txN0g.JPEG.ksj1511111%2F_DSC8089-00.JPG%22&amp;type&#x3D;nf464_260\" alt=\"\" width=\"232\" height=\"130\"\\n\\t\\t\\t\\t\\t\\t\\t     onerror=\"this.outerHTML=\\'<span class=\\\\\\'pm_noimg\\\\\\'><span class=\\\\\\'noimg_text\\\\\\'>이미지 준비중</span></span>\\'\">\\n\\n\\t\\t\\t\\t\\t\\t\\t\\n\\t\\t\\t\\t\\t\\t\\t\\t<span class=\"thumb_bd\"></span>\\n\\t\\t\\t\\t\\t\\t\\t\\t\\n\\t\\t\\t\\t\\t\\t\\t\\n\\t\\t\\t\\t\\t\\t</div>\\n\\t\\t\\t\\t\\t\\t<div class=\"media_info\">\\n\\t\\t\\t\\t\\t\\t\\t<div class=\"info_box\">\\n\\t\\t\\t\\t\\t\\t\\t\\t\\n\\t\\t\\t\\t\\t\\t\\t\\t\\n\\t\\t\\t\\t\\t\\t\\t\\t<strong class=\"title \">대구 목향장미 명소 큐바이쿼트 목향장미 아직 괜찮아요 찾아가는 길 주차장 안내 ...</strong>\\n\\t\\t\\t\\t\\t\\t\\t\\t<div class=\"source_wrap\">\\n\\t\\t\\t\\t\\t\\t\\t\\t\\t\\n\\t\\t\\t\\t\\t\\t\\t\\t\\t\\t<span class=\"date\">4일 전</span>\\n\\t\\t\\t\\t\\t\\t\\t\\t\\t\\t<span class=\"source\">\\n\\t\\t\\t\\t\\t\\t\\t\\t\\t\\t\\t\\n\\t\\t\\t\\t\\t\\t\\t\\t\\t\\t\\t\\t<span class=\"source_thumb\"><img\\n\\t\\t\\t\\t\\t\\t\\t\\t\\t\\t\\t\\t\\t\\t\\n\\t\\t\\t\\t\\t\\t\\t\\t\\t\\t\\t\\t\\t\\tdata-src=\"https://s.pstatic.net/dthumb.phinf/?src&#x3D;%22http%3A%2F%2Fblogpfthumb.phinf.naver.net%2F20150303_120%2Fksj1511111_1425360215374EYlhO_JPEG%2FO36C7388-1.jpg%22&amp;type&#x3D;navermain_nf40_40\" alt=\"\" width=\"20\" height=\"20\"\\n\\t\\t\\t\\t\\t\\t\\t\\t\\t\\t\\t\\t\\t\\tonerror=\"this.outerHTML=\\'<i class=\\\\\\'pm_source_noimg\\\\\\'><span class=\\\\\\'blind\\\\\\'>이미지준비중</span></i>\\'\"></span>\\n\\t\\t\\t\\t\\t\\t\\t\\t\\t\\t\\t\\n\\t\\t\\t\\t\\t\\t\\t\\t\\t\\t<span class=\"source_inner\">늘해랑</span>\\n\\t\\t\\t\\t\\t\\t\\t\\t\\t\\t</span>\\n\\t\\t\\t\\t\\t\\t\\t\\t\\t\\n\\t\\t\\t\\t\\t\\t\\t\\t</div>\\n\\t\\t\\t\\t\\t\\t\\t</div>\\n\\t\\t\\t\\t\\t\\t</div>\\n\\t\\t\\t\\t\\t</a>\\n\\t\\t\\t\\t\\n\\t\\t\\t\\n\\t\\t\\t\\t\\n\\t\\t\\t\\t\\t<a class=\"myfeed_area\" href=\"https://in.naver.com/blanche15/topic/551212281662016?cds&#x3D;nm_pc_myfeed_recomm\" data-da-position=\"true\" data-gdid=\"9021as9p_0001f5531c3e8a40\" data-clk=\"tcc_sub.inftopic\" target=\"_blank\">\\n\\t<div class=\"myfeed_thumb\">\\n\\t\\t<img  data-src=\"https://s.pstatic.net/dthumb.phinf/?src&#x3D;%22https%3A%2F%2Fdiscovercrop-phinf.pstatic.net%2F%2FMjAyMzA0MDhfMTk3%2FMDAxNjgwODgyOTE2NTMz.chBOnvv2L4QonWS-xZjYgxZKOdPQ7mkgIHRAwcRCbIwg.nt13KxZ-ZEWlVrwHeX2YT75nNThaXlTboXhKgVQt7Tog.JPEG%2Fimage_374x246.jpg%22&amp;type&#x3D;nf454_412\" alt=\"\" width=\"227\" height=\"206\" onerror=\"this.outerHTML=\\'<span class=\\\\\\'pm_noimg\\\\\\'><span class=\\\\\\'noimg_text\\\\\\'>이미지 준비중</span></span>\\'\">\\n\\t\\t<span class=\"thumb_bd\"></span>\\n\\t\\t<em class=\"badge_category\"><span class=\"badge_inner\">방송/연예</span></em>\\n\\t</div>\\n\\t<div class=\"media_info\">\\n\\t\\t<div class=\"info_box\">\\n\\t\\t\\t<strong class=\"title\">장원영 친언니 연예계 데뷔! 얼굴 화보 프로필 공개</strong>\\n\\t\\t\\t<div class=\"source_wrap\">\\n\\t\\t\\t\\t<span class=\"date\">3주일 전</span>\\n\\t\\t\\t\\t<span class=\"source\">\\n\\t\\t\\t\\t\\t\\n\\t\\t\\t\\t\\t\\t<span class=\"source_thumb\"><img  data-src=\"https://s.pstatic.net/dthumb.phinf/?src&#x3D;%22https%3A%2F%2Fblogpfthumb-phinf.pstatic.net%2FMjAyMjAyMTNfMTUg%2FMDAxNjQ0NzQ1OTQwNzk2.z4XK9TZIWAJpwIp0pE_ApAhBqCStqVIVgQvY5ZPh-Nsg.y6Tp6uYptfRkFgOIpHeYARPRQiJZTuPxV68aFS-82sAg.PNG.blanche15%2F22.png%2F22.png%22&amp;type&#x3D;navermain_nf40_40\" alt=\"\" width=\"20\" height=\"20\" onerror=\"this.outerHTML=\\'<i class=\\\\\\'pm_source_noimg\\\\\\'><span class=\\\\\\'blind\\\\\\'>이미지준비중</span></i>\\'\"></span>\\n\\t\\t\\t\\t\\t\\n\\t\\t\\t\\t\\t<span class=\"source_inner\"><em class=\"theme_hl\">인플루언서</em>블랑부케</span>\\n\\t\\t\\t\\t</span>\\n\\t\\t\\t</div>\\n\\t\\t</div>\\n\\t</div>\\n</a>\\n\\n\\t\\t\\t\\t\\n\\t\\t\\t\\n\\t\\t\\t\\t\\n\\t\\t\\t\\t\\t<a href=\"https://tv.naver.com/v/35529905\" class=\"media_area\" data-da-position=\"true\" data-gdid=\"2B4C94ECF0842DF91FD8CCCC4C8BCE83901F\"\\n\\t\\t\\t\\t\\t   data-clk=\"tcc_sub.list1cont9\" target=\"_blank\">\\n\\t\\t\\t\\t\\t\\t<div class=\"media_thumb\">\\n\\t\\t\\t\\t\\t\\t\\t<img \\n\\t\\t\\t\\t\\t\\t\\t     data-src=\"https://s.pstatic.net/dthumb.phinf/?src&#x3D;%22https%3A%2F%2Fs.pstatic.net%2Ftvcast.phinf%2F20230502_264%2Fw7q4X_1683018926252ka2tO_JPEG%2F1683018870655.jpg%22&amp;type&#x3D;nf464_260\" alt=\"\" width=\"232\" height=\"130\"\\n\\t\\t\\t\\t\\t\\t\\t     onerror=\"this.outerHTML=\\'<span class=\\\\\\'pm_noimg\\\\\\'><span class=\\\\\\'noimg_text\\\\\\'>이미지 준비중</span></span>\\'\">\\n\\n\\t\\t\\t\\t\\t\\t\\t\\n\\t\\t\\t\\t\\t\\t\\t\\t<span class=\"thumb_dim\"></span>\\n\\t\\t\\t\\t\\t\\t\\t\\t<span class=\"thumb_bd\"></span>\\n\\t\\t\\t\\t\\t\\t\\t\\t<i class=\"pm_ico_play\"><span class=\"blind\">재생</span></i>\\n\\t\\t\\t\\t\\t\\t\\t\\t<span class=\"theme_runtime\"><span class=\"runtime_bg\">재생시간</span><em\\n\\t\\t\\t\\t\\t\\t\\t\\t\\t\\tclass=\"time\">00:30</em></span>\\n\\t\\t\\t\\t\\t\\t\\t\\n\\t\\t\\t\\t\\t\\t</div>\\n\\t\\t\\t\\t\\t\\t<div class=\"media_info\">\\n\\t\\t\\t\\t\\t\\t\\t<div class=\"info_box\">\\n\\t\\t\\t\\t\\t\\t\\t\\t\\n\\t\\t\\t\\t\\t\\t\\t\\t\\n\\t\\t\\t\\t\\t\\t\\t\\t<strong class=\"title \">‘결혼이 목표’ 순백의 드레스 입고 나타난 민경공주 [O! STAR 숏폼]</strong>\\n\\t\\t\\t\\t\\t\\t\\t\\t<div class=\"source_wrap\">\\n\\t\\t\\t\\t\\t\\t\\t\\t\\t\\n\\t\\t\\t\\t\\t\\t\\t\\t\\t\\t<span class=\"date\">어제</span>\\n\\t\\t\\t\\t\\t\\t\\t\\t\\t\\t<span class=\"source\">\\n\\t\\t\\t\\t\\t\\t\\t\\t\\t\\t\\t\\n\\t\\t\\t\\t\\t\\t\\t\\t\\t\\t\\t\\t<span class=\"source_thumb\"><img\\n\\t\\t\\t\\t\\t\\t\\t\\t\\t\\t\\t\\t\\t\\t\\n\\t\\t\\t\\t\\t\\t\\t\\t\\t\\t\\t\\t\\t\\tdata-src=\"https://s.pstatic.net/dthumb.phinf/?src&#x3D;%22https%3A%2F%2Fs.pstatic.net%2Ftvcast.phinf%2F20190201_270%2FKgZVz_1548986488494eC2JI_PNG%2F1548986488470.png%22&amp;type&#x3D;navermain_nf40_40\" alt=\"\" width=\"20\" height=\"20\"\\n\\t\\t\\t\\t\\t\\t\\t\\t\\t\\t\\t\\t\\t\\tonerror=\"this.outerHTML=\\'<i class=\\\\\\'pm_source_noimg\\\\\\'><span class=\\\\\\'blind\\\\\\'>이미지준비중</span></i>\\'\"></span>\\n\\t\\t\\t\\t\\t\\t\\t\\t\\t\\t\\t\\n\\t\\t\\t\\t\\t\\t\\t\\t\\t\\t<span class=\"source_inner\">OSEN 연예</span>\\n\\t\\t\\t\\t\\t\\t\\t\\t\\t\\t</span>\\n\\t\\t\\t\\t\\t\\t\\t\\t\\t\\n\\t\\t\\t\\t\\t\\t\\t\\t</div>\\n\\t\\t\\t\\t\\t\\t\\t</div>\\n\\t\\t\\t\\t\\t\\t</div>\\n\\t\\t\\t\\t\\t</a>\\n\\t\\t\\t\\t\\n\\t\\t\\t\\n\\t\\t</div>\\n\\t</div>\\n</div>\\n\\n\\n\\n\\n\\n\\t<div class=\"btn_more_wrap\">\\n\\t\\t<button type=\"button\" class=\"btn_more\" data-clk-custom=\"tcc_sub.more\" data-next-page=\"2\"><i class=\"ico_more\"></i>새로운 글 더보기</button>\\n\\t</div>\\n\\n\\n<div class=\"NM_THEME_META\" style=\"display: none\" data-panel-code=\"MYFEED-RECOMMEND\" data-parent-code=\"MYFEED\"></div>\\n\\n\\t</div>\\n</div>\\n </div> </div> <div id=\"NM_INT_RIGHT\" class=\"column_right\"> <div class=\"column_fix_wrap\"> <div id=\"da_brand\"></div> \\n\\n\\n\\n\\n\\n<div id=\"account\" class=\"sc_login\">\\n<h2 class=\"blind\">Sign in</h2>\\n<p class=\"login_msg\">Connect with people</p>\\n<a href=\"https://nid.naver.com/nidlogin.login?mode=form&url=https%3A%2F%2Fwww.naver.com\" class=\"link_login\" data-clk=\"log_off.login\"><i class=\"ico_naver\"><span class=\"blind\">NAVER</span></i>Sign in</a>\\n<div class=\"sub_area\">\\n<div class=\"look_box\">\\n<a href=\"https://nid.naver.com/user/help.nhn?todo=idinquiry\" class=\"link_look\" data-clk=\"log_off.searchid\">Forgot Username</a>\\n<a href=\"https://nid.naver.com/nidreminder.form\" class=\"link_look\" data-clk=\"log_off.searchpass\">Password</a>\\n</div>\\n<a href=\"https://nid.naver.com/nidregister.form?url=https%3A%2F%2Fwww.naver.com\" class=\"link_join\" data-clk=\"log_off.registration\">Sign up</a>\\n</div>\\n</div>\\n\\n\\n\\n <div id=\"timesquare\" class=\"sc_timesquare\"> <h2 class=\"blind\">타임스퀘어</h2> <div class=\"card_wrap\">\\n<div class=\"card_nav\">\\n<a href=\"#\" role=\"button\" class=\"btn_nav btn_prev\" data-clk=\"squ.pre\"><span class=\"blind\">이전</span></a>\\n<a href=\"#\" role=\"button\" class=\"btn_nav btn_next\" data-clk=\"squ.next\"><span class=\"blind\">다음</span></a>\\n</div>\\n<div id=\"NM_TS_ROLLING_WRAP\" style=\"height: 100%;\">\\n<div>\\n<a href=\"https://search.naver.com/search.naver?sm=top_hty&amp;fbm=0&amp;ie=utf8&amp;query=%EC%BD%94%EB%A1%9C%EB%82%9819\" class=\"card_news\" data-clk=\"squ.line3\"><i class=\"news_badge\">이슈</i><span class=\"news\">코로나바이러스감염증-19 현황</span></a>\\n</div>\\n<div>\\n<a href=\"https://finance.naver.com/world/sise.nhn?symbol=RUI@RTSI\" class=\"card_stock \" data-clk=\"squ.rus\">\\n<strong class=\"stock_title\">증시</strong>\\n<div class=\"stock_box\">\\n<em class=\"name\">러시아</em>\\n<strong class=\"current\">1,015.89</strong>\\n<span class=\"rate rate_up\"><span class=\"blind\">상승</span>7.40 +0.73%</span>\\n</div>\\n</a>\\n</div>\\n<div>\\n<a href=\"https://finance.naver.com/world/sise.nhn?symbol=XTR@DAX30\" class=\"card_stock \" data-clk=\"squ.ger\">\\n<strong class=\"stock_title\">증시</strong>\\n<div class=\"stock_box\">\\n<em class=\"name\">독일</em>\\n<strong class=\"current\">15,761.76</strong>\\n<span class=\"rate rate_down\"><span class=\"blind\">하락</span>53.30 -0.34%</span>\\n</div>\\n</a>\\n</div>\\n<div>\\n<a href=\"https://finance.naver.com/world/sise.nhn?symbol=STX@SX5E\" class=\"card_stock \" data-clk=\"squ.euro\">\\n<strong class=\"stock_title\">증시</strong>\\n<div class=\"stock_box\">\\n<em class=\"name\">유로스톡스50</em>\\n<strong class=\"current\">4,290.18</strong>\\n<span class=\"rate rate_down\"><span class=\"blind\">하락</span>20.00 -0.46%</span>\\n</div>\\n</a>\\n</div>\\n<div>\\n<a href=\"https://finance.naver.com/marketindex/exchangeDetail.nhn?marketindexCd=FX_USDKRW\" class=\"card_stock type_exchange\" data-clk=\"squ.usd\">\\n<strong class=\"stock_title\">환율</strong>\\n<div class=\"stock_box\">\\n<em class=\"name\">USD</em>\\n<strong class=\"current\">1,325.00</strong>\\n<span class=\"rate rate_down\"><span class=\"blind\">하락</span>8.00 -0.60%</span>\\n</div>\\n</a>\\n</div>\\n</div>\\n</div> <!-- EMPTY --> </div> <div id=\"veta_branding\"> <span class=\"blind\"> <script id=\"veta_service_check\"></script> </span> <div id=\"veta_branding_inner\" style=\"width:350px;height:200px\"> </div> <span class=\"veta_bd_t\"></span> <span class=\"veta_bd_b\"></span> <span class=\"veta_bd_l\"></span> <span class=\"veta_bd_r\"></span> </div> <div id=\"shopcast\" class=\"sc_shopcast\"> <iframe id=\"shopcast_iframe\" data-iframe-src=\"/shoppingbox/shoppingboxnew/main.nhn?mode=plusdeal&domain=N\" title=\"쇼핑캐스트\" width=\"350\" height=\"1809\" marginheight=\"0\" marginwidth=\"0\" scrolling=\"no\" frameborder=\"0\"></iframe> </div> </div> </div> <a id=\"NM_scroll_top_btn\" href=\"#wrap\" class=\"content_top\"><span class=\"blind\">TOP</span></a> <button id=\"NM_darkmode_btn\" type=\"button\" role=\"button\" class=\"btn_theme\" aria-pressed=\"false\"  > <span class=\"blind\">라이트 모드로 보기</span> </button> </div> <div id=\"footer\" role=\"contentinfo\"> <div class=\"footer_inner\"> <div id=\"NM-FOOTER-AD\" class=\"banner_area\"> <div class=\"da_box_wrap\"> <div id=\"da_public_left\"> </div> <div id=\"da_public_right\"> </div> <div id=\"veta_time2\"> </div> </div> </div> <div class=\"notice_area\" data-clk-prefix=\"ntc\"> <div class=\"notice_box\"> <h3 class=\"title\"><a href=\"https://www.naver.com/NOTICE\">공지사항</a> </h3> <a data-clk=\"notice\" href=\"https://www.naver.com/NOTICE/wwwpc/10003?lang&#x3D;ko&amp;sectionId&#x3D;\" class=\"notice_msg\" >\\n새로운 모습의 네이버 PC 메인을 만나보세요.\\n</a> </div> <a href=\"more.html\" class=\"link_all\" data-clk=\"svcmap\">서비스 전체보기</a> </div> <div class=\"aside_area\"> <div class=\"partner_box_wrap\"> <div class=\"partner_box\" data-clk-prefix=\"crt\"> <h3 class=\"title\">Creators</h3> <a href=\"https://www.navercorp.com/service/creators\" class=\"link_partner\" data-clk=\"creator\">크리에이터</a> <a href=\"https://www.navercorp.com/service/business\" class=\"link_partner\" data-clk=\"smbusiness\">스몰비즈니스</a> </div> <div class=\"partner_box\" data-clk-prefix=\"crt\"> <h3 class=\"title\">Partners</h3> <a href=\"https://campaign.naver.com/smefullcare/online/\" class=\"link_partner\" data-clk=\"sme\">SME 풀케어 시스템</a> <a href=\"https://business.naver.com/service.html\" class=\"link_partner\" data-clk=\"service\">비즈니스 · 광고</a> <a href=\"https://sell.storefarm.naver.com/#/home/about\" class=\"link_partner\" data-clk=\"store\">스토어 개설</a> <a href=\"https://smartplace.naver.com\" class=\"link_partner\" data-clk=\"place\">지역업체 등록</a> <a href=\"https://expert.naver.com/expert/introduction?tab=guide#join\" class=\"link_partner\" data-clk=\"expert\">엑스퍼트 등록</a> </div> <div class=\"partner_box\" data-clk-prefix=\"crt\"> <h3 class=\"title\">Developers</h3> <a href=\"https://developers.naver.com\" class=\"link_partner\" data-clk=\"center\">네이버 개발자 센터</a> <a href=\"https://developers.naver.com/docs/common/openapiguide/#/apilist.md\" class=\"link_partner\" data-clk=\"openapi\">오픈 API</a> <a href=\"https://naver.github.io\" class=\"link_partner\" data-clk=\"opensource\">오픈소스</a> <a href=\"https://d2.naver.com\" class=\"link_partner\" data-clk=\"d2\">네이버 D2</a> <a href=\"http://d2startup.com\" class=\"link_partner\" data-clk=\"naverD2SF\">네이버 D2SF</a> <a href=\"https://www.naverlabs.com\" class=\"link_partner\" data-clk=\"labs\">네이버 랩스</a> </div> </div> <div class=\"service_box_wrap\"> <div class=\"service_box\" data-clk-prefix=\"wbd\"> <a href=\"http://whale.naver.com/\" class=\"service_logo\" data-clk=\"bt\"> <img src=\"data:image/png;base64,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\" alt=\"웨일\" width=\"48\" height=\"48\"> </a> <div class=\"service_info\"> <strong class=\"title\">웨일 브라우저</strong> <a href=\"http://whale.naver.com/\" class=\"dsc\" data-clk=\"bt\">다운받기</a> </div> </div> <div class=\"service_box\" data-clk-prefix=\"prj\"> <a href=\"https://search.naver.com/search.naver?where=nexearch&sm=top_hty&fbm=1&ie=utf8&query=%ED%94%84%EB%A1%9C%EC%A0%9D%ED%8A%B8%EA%BD%83\" class=\"service_logo\" data-clk=\"link\"> <img src=\"data:image/png;base64,iVBORw0KGgoAAAANSUhEUgAAAF4AAABkCAMAAAA47XeXAAAAgVBMVEUAAADN5PdGm99Gm99Gm99Gm99Gm95Gm99Gm99Gm99Gm99Gm99Gm99Gm99Gm99Gm99Gm99Gm99Gm99Gm99Gm99Gm99Gm99Gmt9Gm99Gm99Gm99Gm95Gm99Gm99Gm95Gm99Hm99Gm99Gm9/////3+/5cp+LO5PfR5/fO5fdcp+P7/f/zv5GhAAAAInRSTlMA/v7vH9u5qJNgGwb6l8a9uqF9WFUyLxYMCtbVmLCwe4OCj8gzEgAAA0NJREFUaN7NmmFz4iAQhkkwMTHGWrWtWvWuq8mF+/8/8Ey2nb0OhSwQZnw+MHQ7pbjAy2s2gsuiLPJMLpcyy4tyISZltnmHbxw3MzEVr/MUNNL5q5iCt2ccXCN9fhPB7CQYkTsRRlWDlboSAexzGCHfC28OKxhldfDOzBMwePLNTw0sauHFFphshQcLCUwkaQRfXYBPSkrEUBdv3jezcXXhw1ciUhc+fCUidQlH7qzqEk5d2dQlnHxvU5dwVgdXdSGclaiGyamt6hLO1qIu4ZASzcFE092SBprk1jagulvXAAw/qb5N7m176xQYmOPoLymYaK/X65/PNhlagE6LGUhfRM8FjNzuf/73//bHmInzoJEpjMyeWpp9RzGz/PT6+QvMNO2Q+67PPeYZY5h7jDVg5OM+/BGikd13JfDAj/Ad1WLMyEyUwKPT00ypN1GKAljQJtFiFgqRe86eYhbWIvPPPR5d+9pKiIgUwKNJdHXBvW9jyRye1EWLWYfnJcd141Byspizz7gbUyWDuqiW0v15D9g3ZgF86JwyKUgUHJaATUmS5rsEdkkTZLjZS8Alw+skFr8Nl6H6uosShaKOp3Zo+/jgFTDe+wcSfv0yFGfQaLX7tDO0reXOPRuMCG4Q11Y3IiYblWgzS7R+h31qdRtlGB7zikeUckz+AB3a8FuMqD7Cd2nhUHLOEIkLubQIkEuLxIdwEwUy3HyXxsbgPMJcGuGox+TSIugxuTQ+KHIaAS5N92eIIuMT5tJoPfHy5q9yKoXLelLuKRri0mjMQdhwTPw6Sv8pzKXhFyhNilEwkSCXRrnAnaPnJdyl0UrqXircpeHVglnv+62K4NJo3lFcGmWd79KO7OQoXAE8XNO6tIQGxj7fpfHTwk8RubQLWEGvgTNGKzj01fixunCMCCYcvSSlaFwUyKVx86J3bczpUR3zimq1LqdosAUbJF54ar+uk5Gju436mPTk8ZAXFdO93HRYTesUVgf3B+y0XdxLfdVputmfKp/iBtNjyl3c0kzUwtJIWewIPvAL9LOyWLsV9WAps3VRzh6hJBm3oOqsRKfHLGYzS/GP+iLBuBKdqkd+iWPkFZTHf4Em4us/uhI5qss/6zK5u8+AXpwAAAAASUVORK5CYII=\" alt=\"꽃\" width=\"47\" height=\"50\"> </a> <div class=\"service_info\"> <strong class=\"title\">프로젝트 꽃</strong> <a href=\"https://search.naver.com/search.naver?where=nexearch&sm=top_hty&fbm=1&ie=utf8&query=%ED%94%84%EB%A1%9C%EC%A0%9D%ED%8A%B8%EA%BD%83\" class=\"dsc\" data-clk=\"link\">바로가기</a> </div> </div> </div> </div> <div class=\"corp_area\" data-clk-prefix=\"plc\"> <h3 class=\"blind\">네이버 정책 및 약관</h3> <ul class=\"list_corp\"> <li class=\"corp_item\"><a href=\"https://www.navercorp.com\" data-clk=\"intronhn\">회사소개</a></li> <li class=\"corp_item\"><a href=\"https://recruit.navercorp.com/\" data-clk=\"recruit\">인재채용</a></li> <li class=\"corp_item\"><a href=\"https://www.navercorp.com/naver/proposalGuide\" data-clk=\"contact\">제휴제안</a></li> <li class=\"corp_item\"><a href=\"/policy/service.html\" data-clk=\"service\">이용약관</a></li> <li class=\"corp_item\"><a href=\"/policy/privacy.html\" data-clk=\"privacy\"><strong>개인정보처리방침</strong></a></li> <li class=\"corp_item\"><a href=\"/policy/youthpolicy.html\" data-clk=\"youth\">청소년보호정책</a></li> <li class=\"corp_item\"><a href=\"https://policy.naver.com/policy/service_group.html\" data-clk=\"policy\">네이버 정책</a></li> <li class=\"corp_item\"><a href=\"https://help.naver.com/\" data-clk=\"helpcenter\">고객센터</a></li> </ul> <address class=\"addr\"><a href=\"https://www.navercorp.com\" target=\"_blank\" data-clk=\"nhn\">ⓒ NAVER Corp.</a></address> </div> </div> </div> </div> <div id=\"adscript\" style=\"display:none\"></div> </body> </html>\\n'"
      ]
     },
     "execution_count": 6,
     "metadata": {},
     "output_type": "execute_result"
    }
   ],
   "source": [
    "import requests\n",
    "\n",
    "url = 'https://www.naver.com'\n",
    "\n",
    "response = requests.get(url)    # HTTP 요청을 보내고 응답 받은 결과를 담고 있는 객체\n",
    "print(response)\n",
    "print(type(response),'\\n')    # 반환된 객체는 'requests.models.Response'의 객체라는 의미(모듈+모듈+클래스)\n",
    "\n",
    "html_data = response.text    # 데이터만 추출함(str, 문자열 형태로) -> 문자열 처리나 파싱등을 위해\n",
    "print(type(html_data))       # requests는 자동으로 디코딩 해준다 -> 다만 str로 반환\n",
    "                             # read와는 달리 text는 문자열 읽어오는 것이니 슬라이싱을 쓸 수있음\n",
    "html_data"
   ]
  },
  {
   "cell_type": "code",
   "execution_count": 3,
   "id": "1425027c",
   "metadata": {},
   "outputs": [],
   "source": []
  },
  {
   "cell_type": "code",
   "execution_count": 7,
   "id": "8c68d634",
   "metadata": {
    "id": "8c68d634",
    "outputId": "c5be02d3-c5d3-4c91-a6c6-53b0730e3a9a"
   },
   "outputs": [
    {
     "name": "stdout",
     "output_type": "stream",
     "text": [
      "<urllib.request.Request object at 0x000001A7E31EAB50>\n",
      "https://www.naver.com\n",
      "https\n",
      "www.naver.com\n"
     ]
    }
   ],
   "source": [
    "# HTTP, HTTPS, FTP 등의 URL에 대한 요청 객체를 생성하는 클래스\n",
    "# 요청 객체를 보다 세밀하게 컨트롤 가능함(간단한건 아래의 urlopen으로 요청-응답을 동시에 할 수 있고)\n",
    "\n",
    "import urllib\n",
    "\n",
    "url = 'https://www.naver.com'\n",
    "\n",
    "request = urllib.request.Request(url)\n",
    "print(request)\n",
    "print(request.full_url)\n",
    "print(request.type)    # 요청 방법\n",
    "print(request.host)    # 요청 호스트"
   ]
  },
  {
   "cell_type": "code",
   "execution_count": 18,
   "id": "3d5b068d",
   "metadata": {
    "id": "3d5b068d",
    "outputId": "105564bb-ad2f-43d5-82c3-9b7b0c4b55aa"
   },
   "outputs": [
    {
     "name": "stdout",
     "output_type": "stream",
     "text": [
      "<http.client.HTTPResponse object at 0x000001A7E31BAC10>\n",
      "<http.client.HTTPResponse object at 0x000001A7E3574CA0>\n"
     ]
    }
   ],
   "source": [
    "# urlopen()\n",
    "# 해당 url을 열기, 응답 데이터는 바이트 형식의 HTTPResponse 객체\n",
    "# HTTP, HTTPS, FTP 등의 URL에 대한 요청을 보내고 응답을 받는 함수\n",
    "\n",
    "request1 = urllib.request.urlopen(request)    # 요청 객체를 인자로 전달 -> 세밀한 컨트롤 가능\n",
    "request2 = urllib.request.urlopen(url)    # 기본적인 HTTP GET 요청을 보냄\n",
    "print(request1)\n",
    "print(request2)"
   ]
  },
  {
   "cell_type": "code",
   "execution_count": 20,
   "id": "a6993469",
   "metadata": {},
   "outputs": [
    {
     "name": "stdout",
     "output_type": "stream",
     "text": [
      "b''\n"
     ]
    }
   ],
   "source": [
    "# 두번 실행하면 b''로 빈 문자열이 반환됨, 메모리에 내용 올리고 남은 내용 없음\n",
    "\n",
    "print(request1.read())\n",
    "request1.read()"
   ]
  },
  {
   "cell_type": "code",
   "execution_count": null,
   "id": "5bbf1487",
   "metadata": {
    "id": "5bbf1487",
    "outputId": "107ae407-d972-4880-9467-60476035c79f"
   },
   "outputs": [
    {
     "name": "stdout",
     "output_type": "stream",
     "text": [
      "[('Accept-Ranges', 'bytes'), ('Age', '24784'), ('Cache-Control', 'max-age=604800'), ('Content-Type', 'text/html; charset=UTF-8'), ('Date', 'Fri, 28 Apr 2023 08:11:16 GMT'), ('Etag', '\"3147526947\"'), ('Expires', 'Fri, 05 May 2023 08:11:16 GMT'), ('Last-Modified', 'Thu, 17 Oct 2019 07:18:26 GMT'), ('Server', 'ECS (oxr/8324)'), ('Vary', 'Accept-Encoding'), ('X-Cache', 'HIT'), ('Content-Length', '1256'), ('Connection', 'close')] \n",
      "\n",
      "https://www.example.com \n",
      "\n",
      "b'i, BlinkMacSystemFont, \"Segoe ' \n",
      "\n",
      "b'UI\", \"Open' \n",
      "\n"
     ]
    }
   ],
   "source": [
    "print(request2.getheaders(),'\\n')\n",
    "print(request2.geturl(),'\\n')\n",
    "print(request2.read(30),'\\n')    # 응답 본문을 바이트 형식으로 읽음, 일부추출-바이트데이터를 읽어오니까 가능함\n",
    "print(request2.read(10),'\\n')    # 호출할 때마다 위치가 변경되기 때문임?!"
   ]
  },
  {
   "cell_type": "markdown",
   "id": "42589db6",
   "metadata": {
    "id": "42589db6"
   },
   "source": [
    "#### 이진 데이터란\n",
    "컴퓨터는 0과 1로 이루어진 이진 데이터(binary data)만 이해할 수 있습니다. 따라서, 네이버 서버가 보낸 응답 데이터는 모두 이진 데이터로 변환되어 전송됩니다.\n",
    "\n",
    "위의 출력 결과는 read() 메소드를 사용하여 읽어온 바이너리 데이터의 일부분입니다. b로 시작하는 이유는 이진 데이터라는 것을 나타내기 위한 표시입니다. 이진 데이터는 일반적으로 텍스트 데이터와 다르게 사람이 직접 읽기 어렵기 때문에, 프로그램이나 라이브러리 등을 사용하여 변환하거나 처리할 필요가 있습니다.\n",
    "\n",
    "브라우저는 이진 데이터를 받아와서 HTML, CSS, JavaScript 등의 다양한 파일 형식으로 변환하여 해석하고, 이를 이용하여 웹 페이지를 렌더링합니다.<br><br>\n",
    "\n",
    "#### 16진수 데이터란\n",
    "- 네트워크에서 받아온 이진 데이터를 사람이 보기 쉽게 16진수 데이터로 보여준다.\n",
    "- (어딘가의 코드에서 16 ->2진으로 바꾸는듯)\n",
    "- 컴퓨터에서 출력될 때 사용됨\n",
    "- 프로그래밍 언어에서 데이터를 다룰 떄 사용됨"
   ]
  },
  {
   "cell_type": "markdown",
   "id": "dabb8c98",
   "metadata": {
    "id": "dabb8c98"
   },
   "source": [
    "#### 인코딩과 디코딩\n",
    "- 인코딩 : 문자열을 특정한 바이트 형식으로 변환하는것 (코드화, 암호화, 부호화)\n",
    "- 디코딩 : 바이트 형식의 데이터를 특정한 문자열 형식으로 변환하는 것\n",
    "- 서버는 데이터 전송량을 줄이고, 시간을 단축시키거나 보안을 위해서 인코딩을 해서 보낸다.\n",
    "- 여기서는 텍스트 데이터를 UTF-8로 인코딩해서 보냈다.\n",
    "- 그러나 컴퓨터는 기본 인코딩을 쓰기에 안 맞으면 이상하게 인다.\n",
    "    - 유니코드는 글자와 코드가 1:1매핑되어 있는 ‘코드표'이다. \n",
    "    - 아래 보이는 이상한 문자는 유니코드 코드 포인트를 16진수로 인코딩한 것임\n",
    "    - \"\\xeb\\x84\\xa4\\xec\\x9d\\xb4\\xeb\\xb2\\x84\"은 \"네이버\"라는 문자열을 UTF-8 인코딩으로 바꾼 것임\n",
    "- 그래서 UTF-8로 디코딩을 해주어야 한다 (유니코드 인코딩이고 8bit를 사용함)"
   ]
  },
  {
   "cell_type": "code",
   "execution_count": null,
   "id": "572b364b",
   "metadata": {
    "id": "572b364b",
    "outputId": "f3d38796-9f4a-4989-b857-30c0dde07a95"
   },
   "outputs": [
    {
     "name": "stdout",
     "output_type": "stream",
     "text": [
      "{'encoding': 'utf-8', 'confidence': 0.99, 'language': ''} \n",
      "\n",
      "b'\\n<!doctype html>                          <html lang=\"ko\" data-dark=\"false\"> <head> <meta charset=\"utf-8\"> <title>NAVER</title> <meta http-equiv=\"X-UA-Compatible\" content=\"IE=edge\"> <meta name=\"viewport\" content=\"width=1190\"> <meta name=\"apple-mobile-web-app-title\" content=\"NAVER\"/> <meta name=\"robots\" content=\"index,nofollow\"/> <meta name=\"description\" content=\"\\xeb\\x84\\xa4\\xec\\x9d\\xb4\\xeb\\xb2\\x84 \\xeb\\xa9\\x94\\xec\\x9d\\xb8\\xec\\x97\\x90\\xec\\x84\\x9c \\xeb\\x8b\\xa4\\xec\\x96\\x91\\xed\\x95\\x9c \\xec\\xa0\\x95\\xeb\\xb3\\xb4\\xec\\x99\\x80 \\xec\\x9c\\xa0\\xec\\x9a\\xa9\\xed\\x95\\x9c \\xec\\xbb\\xa8\\xed\\x85\\x90\\xec\\xb8\\xa0\\xeb\\xa5\\xbc \\xeb\\xa7\\x8c\\xeb\\x82\\x98 \\xeb\\xb3\\xb4\\xec\\x84\\xb8\\xec\\x9a\\x94\"/> <meta property=\"og:title\" content=\"\\xeb\\x84\\xa4\\xec\\x9d\\xb4\\xeb\\xb2\\x84\"> <m' \n",
      "\n",
      "\n",
      "<!doctype html>                          <html lang=\"ko\" data-dark=\"false\"> <head> <meta charset=\"utf-8\"> <title>NAVER</title> <meta http-equiv=\"X-UA-Compatible\" content=\"IE=edge\"> <meta name=\"viewport\" content=\"width=1190\"> <meta name=\"apple-mobile-web-app-title\" content=\"NAVER\"/> <meta name=\"robots\" content=\"index,nofollow\"/> <meta name=\"description\" content=\"네이버 메인에서 다양한 정보와 유용한 컨텐츠를 만나 보세요\"/> <meta property=\"og:title\" content=\"네이버\"> <m\n"
     ]
    }
   ],
   "source": [
    "# decode - 문자열 객체의 메서드\n",
    "\n",
    "import chardet\n",
    "\n",
    "url = 'https://www.naver.com'\n",
    "\n",
    "response = urllib.request.urlopen(url)\n",
    "byte_data = response.read(500)\n",
    "print (chardet.detect (byte_data), '\\n')\n",
    "print(byte_data,'\\n')\n",
    "text_data = byte_data.decode('utf-8')    #utf-8 방식으로 디코딩함\n",
    "print(text_data)"
   ]
  },
  {
   "cell_type": "code",
   "execution_count": null,
   "id": "1a44d5ad",
   "metadata": {
    "id": "1a44d5ad",
    "outputId": "53921eed-bbed-48ae-cb79-7467b4ed309f"
   },
   "outputs": [
    {
     "data": {
      "text/plain": [
       "('img.png', <http.client.HTTPMessage at 0x29ab7ca11c0>)"
      ]
     },
     "execution_count": 178,
     "metadata": {},
     "output_type": "execute_result"
    }
   ],
   "source": [
    "# urlretrieve\n",
    "# 주어진 url에서 파일을 다운로드하는 함수 (이미지 가져오기 등(저장))\n",
    "\n",
    "img_src = 'http://www.human.or.kr/images/h_logo.png'\n",
    "\n",
    "new_file = 'img.png'\n",
    "\n",
    "urllib.request.urlretrieve(img_src, new_file)"
   ]
  },
  {
   "cell_type": "code",
   "execution_count": null,
   "id": "db3230d8",
   "metadata": {
    "id": "db3230d8",
    "outputId": "c0207341-1e27-4668-832a-ae3b4ee89cc6"
   },
   "outputs": [
    {
     "name": "stdout",
     "output_type": "stream",
     "text": [
      "ParseResult(scheme='https', netloc='section.blog.naver.com', path='/Search/Post.naver', params='', query='pageNo=1&rangeType=ALL&orderBy=sim&keyword=ai', fragment='') \n",
      "\n",
      "https\n",
      "section.blog.naver.com\n",
      "/Search/Post.naver\n",
      "\n",
      "pageNo=1&rangeType=ALL&orderBy=sim&keyword=ai\n",
      "\n"
     ]
    }
   ],
   "source": [
    "# parse.urlparse\n",
    "# 함수는 주어진 URL 문자열을 구성 요소로 분해합니다.\n",
    "# 이 함수는 파싱된 URL의 각 구성 요소를 나타내는 6개의 필드를 갖는 namedtuple 객체를 반환함 \n",
    "\n",
    "# 단순한 패턴을 읽을 때에는 복잡한 정규표현식보다는 간단한 parse 모듈을 사용\n",
    "# 문자열이나 파일 등의 입력을 받아서 그것을 더 작은 단위로 쪼개고 분석하여 그 구조를 파악하는 과정\n",
    "\n",
    "url = 'https://section.blog.naver.com/Search/Post.naver?pageNo=1&rangeType=ALL&orderBy=sim&keyword=ai'\n",
    "\n",
    "parse = urllib.parse.urlparse(url)\n",
    "print(parse,'\\n')\n",
    "print(parse[0])\n",
    "print(parse[1])\n",
    "print(parse[2])\n",
    "print(parse[3])    # param 없음\n",
    "print(parse[4])\n",
    "print(parse[5])    # fragment 없음"
   ]
  },
  {
   "cell_type": "code",
   "execution_count": null,
   "id": "7324562d",
   "metadata": {
    "id": "7324562d",
    "outputId": "bd3ced96-aacc-4336-f2a1-22566151bd44"
   },
   "outputs": [
    {
     "name": "stdout",
     "output_type": "stream",
     "text": [
      "ParseResult(scheme='https', netloc='blog.naver.com', path='/koreatech91', params='a=1', query='b=2', fragment='b') \n",
      "\n",
      "SplitResult(scheme='https', netloc='blog.naver.com', path='/koreatech91;a=1', query='b=2', fragment='b')\n"
     ]
    }
   ],
   "source": [
    "# urllib.parse.urlsplit() : url을 5개로 분리 반환, query 문자열 분리하지 않음 (param + query)\n",
    "\n",
    "URL = 'https://blog.naver.com/koreatech91;a=1?b=2#b'\n",
    "parse1 = urllib.parse.urlparse(URL)\n",
    "parse2 = urllib.parse.urlsplit(URL)\n",
    "print(parse1, '\\n')\n",
    "print(parse2)"
   ]
  },
  {
   "cell_type": "code",
   "execution_count": null,
   "id": "4ab802bc",
   "metadata": {
    "id": "4ab802bc",
    "outputId": "0f22ee50-f38b-404f-df50-b9c2122870a9"
   },
   "outputs": [
    {
     "name": "stdout",
     "output_type": "stream",
     "text": [
      "https://www.example.com/path/to/file?param1=value1&param2=value2#section\n"
     ]
    }
   ],
   "source": [
    "# urllib.parse.urlunparse() 함수는 urllib.parse 모듈에 있는 함수 중 하나로,\n",
    "# URL의 구성 요소들을 입력받아 URL 문자열을 반환\n",
    "# 6개의 구성 요소를 지정해 주어야 함, 다 없으면 '' 이용해서라도! (리스트, 류플 등으로)\n",
    "\n",
    "from urllib.parse import urlunparse\n",
    "\n",
    "url_components = ('https', 'www.example.com', 'path/to/file', '', 'param1=value1&param2=value2', 'section')\n",
    "url = urlunparse(url_components)\n",
    "print(url)"
   ]
  },
  {
   "cell_type": "code",
   "execution_count": null,
   "id": "9a58e149",
   "metadata": {
    "id": "9a58e149",
    "outputId": "c4e732d2-4a49-45c2-e98e-c68c5103ed30"
   },
   "outputs": [
    {
     "name": "stdout",
     "output_type": "stream",
     "text": [
      "ParseResult(scheme='https', netloc='blog.naver.com', path='/koreatech91', params='a=1', query='b=2', fragment='b') \n",
      "\n",
      "blog.naver.com \n",
      "\n",
      "['https', 'blog.naver.com', '/koreatech91', 'a=1', 'b=2', 'b'] \n",
      "\n",
      "['https', 'blog.daum.net', '/koreatech91', 'a=1', 'b=2', 'b']\n",
      "https://blog.daum.net/koreatech91;a=1?b=2#b\n"
     ]
    }
   ],
   "source": [
    "# urllib.parse.urlunparse(), urllib.parse.urlunsplit()\n",
    "# 분리된 url을 다시 합침, 튜플로 반환되기 때문에 리스트로 변경하여 활용 가능\n",
    "\n",
    "url = 'https://blog.naver.com/koreatech91;a=1?b=2#b'\n",
    "\n",
    "parse1 = urllib.parse.urlparse(url)\n",
    "print(parse1, '\\n')\n",
    "\n",
    "print(parse1[1], '\\n')\n",
    "\n",
    "parse1 = list(parse1)    # list로 만들어 줘야 값을 바꿀 수 있음\n",
    "print(parse1, '\\n')\n",
    "\n",
    "parse1[1] = 'blog.daum.net'\n",
    "\n",
    "unparse1 = urllib.parse.urlunparse(parse1)\n",
    "print(parse1)\n",
    "print(unparse1)"
   ]
  },
  {
   "cell_type": "code",
   "execution_count": null,
   "id": "cc277958",
   "metadata": {
    "id": "cc277958",
    "outputId": "b29a50e2-4e07-4666-bd62-474aa3adac35"
   },
   "outputs": [
    {
     "name": "stdout",
     "output_type": "stream",
     "text": [
      "https://naver.com/a/c\n",
      "https://naver.com/c\n"
     ]
    }
   ],
   "source": [
    "# urljoin(a,b) : a와 b URL을 합쳐주는 기능. '/'에 따라 URL 주소가 달라짐\n",
    "\n",
    "url = 'https://naver.com/a/b'\n",
    "print(urllib.parse.urljoin(url, 'c'))     # 상대 경로이기에 합침, /b는 디렉토리라 무시됨\n",
    "print(urllib.parse.urljoin(url, '/c'))    # 절대 경로이기에 기본 경로 무시"
   ]
  },
  {
   "cell_type": "code",
   "execution_count": null,
   "id": "605bc47c",
   "metadata": {
    "id": "605bc47c"
   },
   "outputs": [],
   "source": [
    "from bs4 import BeautifulSoup\n",
    "import requests\n",
    "import re\n",
    "\n",
    "URL = 'https://search.naver.com/search.naver?query=\"파이썬\"'\n",
    "\n",
    "req = requests.get(URL)\n",
    "soup = BeautifulSoup(req.text)    # (req.text, 'html.parser') - 기본값이라 생략\n",
    "print(type(soup))\n",
    "soup = str(soup)\n",
    "print(type(soup))\n",
    "item = re.findall('[가-힣]+', soup)\n",
    "m = ' '.join(item)\n",
    "m"
   ]
  },
  {
   "cell_type": "code",
   "execution_count": null,
   "id": "493b145f",
   "metadata": {
    "id": "493b145f"
   },
   "outputs": [],
   "source": [
    "# URL(Uniform Resource Locator) 인코딩임 - 인터넷을 통해 전송될 수 있는 안전한 포맷으로 바꿔줌\n",
    "# 문자열 변화 인코딩 방식 중 하나임\n",
    "# %(퍼센트 기호) + 16진수 숫자\n",
    "# quote(), unquote() : 퍼센트 인코딩으로 변환\n",
    "# 퍼센트 인코딩(percent-encoding)은 URL에 문자를 표현하는 문자 인코딩 방법\n",
    "# url에 한글이 섞이면 오류 발생\n",
    "# 영어와 달리 한글은 Ascii문자가 아니어서 퍼센트 인코딩을 하여 보내주어야 함\n",
    "\n",
    "print(urllib.parse.quote('파이썬'))    # quote - 인용하다, 견적을 내다\n",
    "print(urllib.parse.unquote('%ED%8C%8C%EC%9D%B4%EC%8D%AC'), '\\n')\n",
    "\n",
    "URL = 'https://search.naver.com/search.naver?query=%ED%8C%8C%EC%9D%B4%EC%8D%AC'\n",
    "# URL = 'https://search.naver.com/search.naver?query=\"파이썬\"'    # 에러난다\n",
    "\n",
    "response = urllib.request.urlopen(URL)\n",
    "byte_data = response.read()\n",
    "text_data = byte_data.decode('utf-8')\n",
    "print(text_data)"
   ]
  },
  {
   "cell_type": "code",
   "execution_count": null,
   "id": "109c1718",
   "metadata": {
    "id": "109c1718"
   },
   "outputs": [],
   "source": [
    "# 홈페이지를 로컬에 파일로 저장\n",
    "\n",
    "request = urllib.request.Request('http://www.naver.com')\n",
    "data = urllib.request.urlopen(request).read()\n",
    "f = open('pc.html','wb')\n",
    "f.write(data)\n",
    "f.close()"
   ]
  },
  {
   "cell_type": "code",
   "execution_count": null,
   "id": "2704812f",
   "metadata": {
    "id": "2704812f"
   },
   "outputs": [],
   "source": [
    "# 홈페이지를 로컬에 파일로 저장\n",
    "\n",
    "request = urllib.request.Request('http://www.naver.com')\n",
    "data = urllib.request.urlopen(request).read()\n",
    "with open('pc.html', 'wb') as f:\n",
    "    f.write(data)"
   ]
  },
  {
   "cell_type": "code",
   "execution_count": null,
   "id": "03f33c9c",
   "metadata": {
    "id": "03f33c9c"
   },
   "outputs": [],
   "source": [
    "# 읽기\n",
    "\n",
    "with open('pc.html','rb') as f:\n",
    "    data = f.read().decode('utf-8')\n",
    "    print(data)"
   ]
  },
  {
   "cell_type": "markdown",
   "id": "3f75298d",
   "metadata": {
    "id": "3f75298d"
   },
   "source": [
    "#### 과제4_0426.\n",
    "네이버 사이트에서 아래 query_list를 검색할 수 있는 url을 생성하세요.(퍼센트 인코딩 변환\n",
    "\n",
    "query_list = ['파이썬','웹 크롤링','빅데이터','python']\n",
    "\n",
    "https://search.naver.com/search.naver?query="
   ]
  },
  {
   "cell_type": "code",
   "execution_count": null,
   "id": "4635951e",
   "metadata": {
    "id": "4635951e",
    "outputId": "2b6ddcf8-9c9b-4ea5-eb0e-b9b219865c4b"
   },
   "outputs": [
    {
     "name": "stdout",
     "output_type": "stream",
     "text": [
      "https://search.naver.com/search.naver?query=%ED%8C%8C%EC%9D%B4%EC%8D%AC\n",
      "https://search.naver.com/search.naver?query=%EC%9B%B9%20%ED%81%AC%EB%A1%A4%EB%A7%81\n",
      "https://search.naver.com/search.naver?query=%EB%B9%85%EB%8D%B0%EC%9D%B4%ED%84%B0\n",
      "https://search.naver.com/search.naver?query=python\n"
     ]
    }
   ],
   "source": [
    "query_list = ['파이썬','웹 크롤링','빅데이터','python']\n",
    "\n",
    "for query in query_list:\n",
    "    q = urllib.parse.quote(query)\n",
    "    url = 'https://search.naver.com/search.naver?query='+q\n",
    "    print(url)"
   ]
  },
  {
   "cell_type": "code",
   "execution_count": null,
   "id": "4ad28229",
   "metadata": {
    "id": "4ad28229"
   },
   "outputs": [],
   "source": [
    "# json 형식의 데이터 가져오기\n",
    "\n",
    "response = requests.get('https://raw.githubusercontent.com/naver/naver-openapi-guide/draft/naver-openapi-swagger.json')\n",
    "result = response.json()\n",
    "print(type(result), '\\n')\n",
    "result"
   ]
  },
  {
   "cell_type": "code",
   "execution_count": null,
   "id": "77752693",
   "metadata": {
    "id": "77752693",
    "outputId": "7b26176c-5b3e-4f90-de75-dd9774155d25"
   },
   "outputs": [
    {
     "name": "stdout",
     "output_type": "stream",
     "text": [
      "5884\n",
      " 바로가\n"
     ]
    }
   ],
   "source": [
    "url = 'http://naver.com'\n",
    "\n",
    "response = requests.get(url)\n",
    "html_data = response.text\n",
    "print(html_data.find('바로가기'))\n",
    "print(html_data[5883:5887])"
   ]
  },
  {
   "cell_type": "code",
   "execution_count": null,
   "id": "e95b44d0",
   "metadata": {
    "id": "e95b44d0",
    "outputId": "6b9a55d2-157e-48b8-f849-4e49e8b2ad4e"
   },
   "outputs": [
    {
     "name": "stdout",
     "output_type": "stream",
     "text": [
      "365\n",
      "네이버 메인에서 다양한 정보와 유용한 컨텐츠를 만나 보세요\n"
     ]
    }
   ],
   "source": [
    "# Q. 'http://naver.com'에서 '네이버 메인에서 다양한 정보와 유용한 컨텐츠를 만나 보세요'를 출력하세요.\n",
    "\n",
    "URL = 'http://naver.com'\n",
    "\n",
    "response = requests.get(URL)\n",
    "html_data = response.text\n",
    "print(html_data.find('네'))\n",
    "print(html_data[365:397])"
   ]
  },
  {
   "cell_type": "markdown",
   "id": "8d014485",
   "metadata": {
    "id": "8d014485"
   },
   "source": [
    "#### 과제5-0426.\n",
    "'http://www.daum.net/'에서 아래 방법을 이용해서 한글 데이터만 출력하세요.\n",
    "- 표준모듈을 이용\n",
    "- 외부 라이브러리를 이용"
   ]
  },
  {
   "cell_type": "code",
   "execution_count": null,
   "id": "3519b46d",
   "metadata": {
    "id": "3519b46d"
   },
   "outputs": [],
   "source": [
    "# 표준모듈을 이용\n",
    "\n",
    "import urllib\n",
    "\n",
    "url = 'http://www.daum.net/'\n",
    "\n",
    "data = urllib.request.urlopen(url).read()\n",
    "decoding_data = data.decode('utf-8')    # str로 반환해줌, 문자열 디코딩이니까 당연!\n",
    "hangul_data = re.findall('[가-힣]+', decoding_data)\n",
    "' '.join(hangul_data)"
   ]
  },
  {
   "cell_type": "code",
   "execution_count": null,
   "id": "ff6f0870",
   "metadata": {
    "id": "ff6f0870"
   },
   "outputs": [],
   "source": [
    "# 표준 모듈 + 외부 라이브러리를 이용 (urllib + BeautifulSoup)\n",
    "\n",
    "from bs4 import BeautifulSoup\n",
    "import requests\n",
    "import re\n",
    "\n",
    "url = 'http://www.daum.net/'\n",
    "\n",
    "data = urllib.request.urlopen(url).read()\n",
    "soup = BeautifulSoup(data)    #html.parser는 기본값이라 생략 가능\n",
    "soup = str(soup)\n",
    "hangul_data = re.findall('[가-힣]+', soup)\n",
    "' '.join(hangul_data)"
   ]
  },
  {
   "cell_type": "code",
   "execution_count": null,
   "id": "35f53049",
   "metadata": {
    "id": "35f53049"
   },
   "outputs": [],
   "source": [
    "# 외부 라이브러리 + 외부 라이브러리를 이용 (Requests + BeautifulSoup)\n",
    "\n",
    "from bs4 import BeautifulSoup\n",
    "import requests\n",
    "import re\n",
    "\n",
    "url = 'http://www.daum.net/'\n",
    "\n",
    "data = requests.get(url).content    # 응답 데이터를 bytes 형태로 반환해줌(.text -> str)\n",
    "soup = BeautifulSoup(data)\n",
    "soup = str(soup)\n",
    "hangul_data = re.findall('[가-힣]+', soup)\n",
    "hangul_data\n",
    "' '.join(hangul_data)"
   ]
  },
  {
   "cell_type": "markdown",
   "id": "45ef5fc4",
   "metadata": {
    "id": "45ef5fc4"
   },
   "source": [
    "#### 인덱싱"
   ]
  },
  {
   "cell_type": "code",
   "execution_count": null,
   "id": "872979a9",
   "metadata": {
    "id": "872979a9"
   },
   "outputs": [],
   "source": [
    "text = \"k-digital traning 1기\""
   ]
  },
  {
   "cell_type": "code",
   "execution_count": null,
   "id": "4e56d06d",
   "metadata": {
    "id": "4e56d06d",
    "outputId": "d91e4cdf-b723-4d67-8ec7-f808de83a94c"
   },
   "outputs": [
    {
     "name": "stdout",
     "output_type": "stream",
     "text": [
      "k-digital traning 1기 \n",
      "\n",
      "k \n",
      "\n",
      "기 \n",
      "\n",
      "K-digital traning 1기 \n",
      "\n",
      "K-Digital Traning 7기\n",
      "K-Digital Traning 7기\n"
     ]
    }
   ],
   "source": [
    "# title()\n",
    "\n",
    "print(text,'\\n')\n",
    "print(text[0],'\\n')\n",
    "print(text[-1],'\\n')\n",
    "\n",
    "text1 = text.replace('1', '7')\n",
    "print(text[0].upper()+text[1:],'\\n')\n",
    "\n",
    "print(text1.title())\n",
    "print(text1[0].upper()+text1[1]+text1[2].upper()+text1[3:10]+text1[10].upper()+text1[11:])"
   ]
  },
  {
   "cell_type": "markdown",
   "id": "edc3c9d9",
   "metadata": {
    "id": "edc3c9d9"
   },
   "source": [
    "# BeautifulSoup"
   ]
  },
  {
   "cell_type": "code",
   "execution_count": null,
   "id": "b0da99c4",
   "metadata": {
    "id": "b0da99c4",
    "outputId": "16ed2a3b-5764-4689-a59b-08c8f146bc25"
   },
   "outputs": [
    {
     "data": {
      "text/plain": [
       "b'<!doctype html>\\n<html>\\n<head>\\n    <title>Example Domain</title>\\n\\n    <meta charset=\"utf-8\" />\\n    <meta http-equiv=\"Content-type\" content=\"text/html; charset=utf-8\" />\\n    <meta name=\"viewport\" content=\"width=device-width, initial-scale=1\" />\\n    <style type=\"text/css\">\\n    body {\\n        background-color: #f0f0f2;\\n        margin: 0;\\n        padding: 0;\\n        font-family: -apple-system, system-ui, BlinkMacSystemFont, \"Segoe UI\", \"Open Sans\", \"Helvetica Neue\", Helvetica, Arial, sans-serif;\\n        \\n    }\\n    div {\\n        width: 600px;\\n        margin: 5em auto;\\n        padding: 2em;\\n        background-color: #fdfdff;\\n        border-radius: 0.5em;\\n        box-shadow: 2px 3px 7px 2px rgba(0,0,0,0.02);\\n    }\\n    a:link, a:visited {\\n        color: #38488f;\\n        text-decoration: none;\\n    }\\n    @media (max-width: 700px) {\\n        div {\\n            margin: 0 auto;\\n            width: auto;\\n        }\\n    }\\n    </style>    \\n</head>\\n\\n<body>\\n<div>\\n    <h1>Example Domain</h1>\\n    <p>This domain is for use in illustrative examples in documents. You may use this\\n    domain in literature without prior coordination or asking for permission.</p>\\n    <p><a href=\"https://www.iana.org/domains/example\">More information...</a></p>\\n</div>\\n</body>\\n</html>\\n'"
      ]
     },
     "execution_count": 444,
     "metadata": {},
     "output_type": "execute_result"
    }
   ],
   "source": [
    "# 데이터를 가져오기\n",
    "\n",
    "url = 'https://www.example.com'\n",
    "response = urllib.request.urlopen(url)\n",
    "html = response.read()\n",
    "html"
   ]
  },
  {
   "cell_type": "code",
   "execution_count": null,
   "id": "c4b29425",
   "metadata": {
    "id": "c4b29425",
    "outputId": "84cdf80a-0fde-4d8c-d572-aee77c945f00"
   },
   "outputs": [
    {
     "name": "stdout",
     "output_type": "stream",
     "text": [
      "b'<!doctype html>\\n<html>\\n<head>\\n    <title>Example Domain</title>\\n\\n    <meta charset=\"utf-8\" />\\n    <m' \n",
      "\n",
      "<!doctype html>\n",
      "<html>\n",
      "<head>\n",
      "    <title>Example Domain</title>\n",
      "\n",
      "    <meta charset=\"utf-8\" />\n",
      "    <m\n"
     ]
    }
   ],
   "source": [
    "# Byte -> Text로 변환\n",
    "\n",
    "url = 'https://www.example.com'\n",
    "response = urllib.request.urlopen(url)\n",
    "byte_data = response.read(100)\n",
    "print(byte_data, '\\n')\n",
    "text_data = byte_data.decode('utf-8')\n",
    "print(text_data)"
   ]
  },
  {
   "cell_type": "code",
   "execution_count": null,
   "id": "4d9d9648",
   "metadata": {
    "id": "4d9d9648",
    "outputId": "9cd7b663-0732-417e-938b-8f91f00c92b5"
   },
   "outputs": [
    {
     "data": {
      "text/plain": [
       "<!DOCTYPE html>\n",
       "\n",
       "<html>\n",
       "<head>\n",
       "<title>Example Domain</title>\n",
       "<meta charset=\"utf-8\"/>\n",
       "<meta content=\"text/html; charset=utf-8\" http-equiv=\"Content-type\"/>\n",
       "<meta content=\"width=device-width, initial-scale=1\" name=\"viewport\"/>\n",
       "<style type=\"text/css\">\n",
       "    body {\n",
       "        background-color: #f0f0f2;\n",
       "        margin: 0;\n",
       "        padding: 0;\n",
       "        font-family: -apple-system, system-ui, BlinkMacSystemFont, \"Segoe UI\", \"Open Sans\", \"Helvetica Neue\", Helvetica, Arial, sans-serif;\n",
       "        \n",
       "    }\n",
       "    div {\n",
       "        width: 600px;\n",
       "        margin: 5em auto;\n",
       "        padding: 2em;\n",
       "        background-color: #fdfdff;\n",
       "        border-radius: 0.5em;\n",
       "        box-shadow: 2px 3px 7px 2px rgba(0,0,0,0.02);\n",
       "    }\n",
       "    a:link, a:visited {\n",
       "        color: #38488f;\n",
       "        text-decoration: none;\n",
       "    }\n",
       "    @media (max-width: 700px) {\n",
       "        div {\n",
       "            margin: 0 auto;\n",
       "            width: auto;\n",
       "        }\n",
       "    }\n",
       "    </style>\n",
       "</head>\n",
       "<body>\n",
       "<div>\n",
       "<h1>Example Domain</h1>\n",
       "<p>This domain is for use in illustrative examples in documents. You may use this\n",
       "    domain in literature without prior coordination or asking for permission.</p>\n",
       "<p><a href=\"https://www.iana.org/domains/example\">More information...</a></p>\n",
       "</div>\n",
       "</body>\n",
       "</html>"
      ]
     },
     "execution_count": 447,
     "metadata": {},
     "output_type": "execute_result"
    }
   ],
   "source": [
    "from bs4 import BeautifulSoup\n",
    "url = 'https://www.example.com'\n",
    "response = urllib.request.urlopen(url)\n",
    "soup = BeautifulSoup(response,'html.parser')\n",
    "soup"
   ]
  },
  {
   "cell_type": "code",
   "execution_count": null,
   "id": "9e6648e0",
   "metadata": {
    "id": "9e6648e0",
    "outputId": "5a74f8fe-e47c-47f0-8529-2b41a285f942"
   },
   "outputs": [
    {
     "name": "stdout",
     "output_type": "stream",
     "text": [
      "ParseResult(scheme='https', netloc='www.example.com', path='/search', params='', query='q=python', fragment='')\n"
     ]
    }
   ],
   "source": [
    "# URL을 파싱\n",
    "\n",
    "url = 'https://www.example.com/search?q=python'\n",
    "parsed_url = urllib.parse.urlparse(url)\n",
    "print(parsed_url)"
   ]
  },
  {
   "cell_type": "code",
   "execution_count": null,
   "id": "bb163e49",
   "metadata": {
    "id": "bb163e49",
    "outputId": "b810cd86-7a1e-4f0e-b1d4-48a47fb433a4"
   },
   "outputs": [
    {
     "name": "stdout",
     "output_type": "stream",
     "text": [
      "HTTP Error: 404 Not Found\n"
     ]
    }
   ],
   "source": [
    "# urllib.error.HTTPError 예외\n",
    "\n",
    "import urllib.error\n",
    "import urllib.request\n",
    "\n",
    "url = 'https://www.example.com/404'\n",
    "try:\n",
    "    response = urllib.request.urlopen(url)\n",
    "except urllib.error.HTTPError as e:\n",
    "    print('HTTP Error:', e.code, e.reason)"
   ]
  },
  {
   "cell_type": "code",
   "execution_count": null,
   "id": "353aa13d",
   "metadata": {
    "id": "353aa13d",
    "outputId": "d893f7c1-7362-4d99-bb2b-c93d5928effe"
   },
   "outputs": [
    {
     "name": "stdout",
     "output_type": "stream",
     "text": [
      "True\n"
     ]
    }
   ],
   "source": [
    "# can_fetch() 함수를 사용하여 특정 URL에서 데이터를 가져올 수 있는지 여부를 확인\n",
    "\n",
    "import urllib.robotparser\n",
    "\n",
    "url = 'https://www.example.com'\n",
    "rp = urllib.robotparser.RobotFileParser()\n",
    "rp.set_url(url + '/robots.txt')    # robots.txt 파일이 위치한 URL을 설정\n",
    "rp.read()    # re.set_url로 변경된 url을 참조하여 robots.txt 파일을 파싱함\n",
    "print(rp.can_fetch('*', url + '/page1.html'))    # 특정 URL에 대해 크롤링 여부 확인"
   ]
  },
  {
   "cell_type": "code",
   "execution_count": null,
   "id": "b273c34c",
   "metadata": {
    "id": "b273c34c",
    "outputId": "1706e154-27f5-4dcd-b49c-d9c847e01494"
   },
   "outputs": [
    {
     "name": "stdout",
     "output_type": "stream",
     "text": [
      "200\n",
      "text/html; charset=UTF-8 \n",
      "\n"
     ]
    }
   ],
   "source": [
    "# status 및 getheader() 메서드를 사용하여 응답의 상태 코드 및 헤더를 확인\n",
    "\n",
    "# Content_type\n",
    "# 해당 필드는 HTTP 프로토콜에서 전송되는 데이터의 유형을 명시하여,\n",
    "# 클라이언트와 서버가 데이터를 올바르게 인식하고 처리할 수 있도록 도움.\n",
    "\n",
    "url = 'https://www.example.com'\n",
    "response = urllib.request.urlopen(url)\n",
    "print(response.status)\n",
    "print(response.getheader('Content-Type'),'\\n')    # 응답시 여기에 전송된 데이터 유형 명시함 (text/html)"
   ]
  },
  {
   "cell_type": "code",
   "execution_count": null,
   "id": "2fae05f8",
   "metadata": {
    "id": "2fae05f8",
    "outputId": "d8a16082-3ce9-4e7b-ef94-d0ef05784ae8"
   },
   "outputs": [
    {
     "name": "stdout",
     "output_type": "stream",
     "text": [
      "q=python+tutorial&page=2&open=%ED%85%8C%EC%8A%A4%ED%8A%B8%ED%95%9C%EA%B8%80\n",
      "https://www.example.com/search?q=python+tutorial&page=2&open=%ED%85%8C%EC%8A%A4%ED%8A%B8%ED%95%9C%EA%B8%80\n"
     ]
    }
   ],
   "source": [
    "#  딕셔너리 객체를 인코딩하여 URL 쿼리 문자열로 변환\n",
    "# urlencode\n",
    "# URL에서 사용하는 문자열 중 일부 특수 문자(예: 띄어쓰기, &, ?, = 등)를\n",
    "# 웹 상에서 인식 가능한 형태로 변환하는 함수\n",
    "\n",
    "import urllib.parse\n",
    "\n",
    "params = {'q': 'python tutorial', 'page': '2', 'open':'테스트한글'}\n",
    "query_string = urllib.parse.urlencode(params)\n",
    "print(query_string)\n",
    "\n",
    "url = 'https://www.example.com/search?' + query_string\n",
    "print(url)"
   ]
  },
  {
   "cell_type": "markdown",
   "id": "616cbd3d",
   "metadata": {
    "id": "616cbd3d"
   },
   "source": [
    "### BeautifulSoup \n",
    "- Python에서 HTML과 XML 문서를 파싱하여 원하는 정보를 추출하기 위한 라이브러리입니다.\n",
    "- BeautifulSoup은 HTML 문서를 파싱하여 파이썬 객체로 변환합니다. 이 파이썬 객체를 다루면서 원하는 정보를 추출할 수 있습니다.\n",
    "- BeautifulSoup을 사용하여 다음과 같은 작업을 수행할 수 있습니다.\n",
    "    - HTML/XML 문서를 파싱하여 파이썬 객체로 변환하기\n",
    "    - 파이썬 코드를 사용하여 문서 내부에서 데이터를 검색하고 추출하기\n",
    "    - CSS 선택자와 XPath 표현식을 사용하여 문서 내부에서 원하는 요소를 선택하기\n",
    "    - 선택한 요소의 속성과 값을 가져오기\n",
    "    - 문서 내부에서 링크, 이미지 등의 다른 요소를 추출하기\n",
    "    - 파싱된 데이터를 다시 HTML/XML 문서로 출력하기\n",
    "- BeautifulSoup에서 제공하는 다양한 메서드\n",
    "\n",
    "    - find() 메서드: HTML 문서에서 지정된 태그를 찾아내고 첫 번째로 발견된 태그를 반환합니다.\n",
    "\n",
    "    - find_all() 메서드: HTML 문서에서 지정된 태그를 찾아내고, 모든 발견된 태그를 리스트로 반환합니다.\n",
    "\n",
    "    - select_one() 메서드: CSS 선택자를 사용하여 HTML 문서에서 지정된 태그를 찾아내고, 첫 번째로 발견된 태그를 반환합니다.\n",
    "    \n",
    "    - select() 메서드: CSS 선택자를 사용하여 HTML 문서에서 지정된 태그를 찾아내고, 모든 발견된 태그를 리스트로 반환합니다.\n",
    "\n",
    "    - prettify() 메서드: 파싱된 HTML 문서를 보기 좋게 정리하여 반환합니다.\n",
    "\n",
    "    - get() 메서드: HTML 태그의 속성(attribute) 값을 반환합니다.\n",
    "\n",
    "    - text 속성: HTML 태그 안에 있는 텍스트를 추출합니다.\n",
    "\n",
    "    - parent 속성: 현재 태그의 부모 태그를 반환합니다.\n",
    "\n",
    "    - children 속성: 현재 태그의 자식 태그들을 리스트로 반환합니다."
   ]
  },
  {
   "cell_type": "markdown",
   "id": "cab9358e",
   "metadata": {
    "id": "cab9358e"
   },
   "source": [
    "### HTML vs DOM\n",
    "HTML은 Hyper Text Markup Language의 약자로, 웹 페이지를 구성하는 요소들을 작성하는 언어입니다. HTML은 텍스트 기반으로 작성되며, 브라우저가 HTML 코드를 해석하여 웹 페이지를 생성합니다. HTML은 웹 페이지의 레이아웃, 텍스트, 이미지 등을 작성하는 데 사용됩니다.\n",
    "\n",
    "DOM(Document Object Model)은 HTML, XML 또는 XHTML과 같은 문서의 구조를 나타내는 표준입니다. DOM은 문서의 객체 지향 표현이며, 문서 내 요소의 구조를 나타내는 트리 구조를 가집니다. DOM은 브라우저가 HTML 코드를 해석하여 웹 페이지를 생성할 때 사용됩니다. 브라우저는 HTML 코드를 읽고, DOM을 생성한 후 이를 조작하여 화면에 표시합니다.\n",
    "\n",
    "HTML과 DOM의 차이점은 다음과 같습니다.\n",
    "\n",
    "HTML은 텍스트 기반의 마크업 언어이며, DOM은 객체 지향적인 표현입니다.\n",
    "HTML은 문서의 내용과 구조를 나타내며, DOM은 이를 객체로 표현합니다.\n",
    "HTML은 웹 페이지의 레이아웃, 텍스트, 이미지 등을 작성하는 데 사용됩니다. DOM은 브라우저가 HTML 코드를 해석하여 웹 페이지를 생성하는 데 사용됩니다.\n",
    "HTML은 작성된 문서 그 자체를 나타내지만, DOM은 브라우저가 HTML 코드를 해석하여 생성한 문서의 객체 모델을 나타냅니다."
   ]
  },
  {
   "cell_type": "markdown",
   "id": "e690829d",
   "metadata": {
    "id": "e690829d"
   },
   "source": [
    "https://wit.nts-corp.com/2019/02/14/5522\n",
    "\n",
    "https://velog.io/@ddinggu/HTML-DOM-%EA%B0%84%EB%8B%A8-%EC%A0%95%EB%A6%AC"
   ]
  },
  {
   "cell_type": "markdown",
   "id": "af7c02b0",
   "metadata": {
    "id": "af7c02b0"
   },
   "source": [
    "BeautifulSoup 라이브러리를 사용하여 DOM 객체로 변환하고, 필요한 데이터를 추출\n",
    "- 먼저 HTML 코드를 BeautifulSoup 객체로 변환한다. 이후, select 메서드를 사용하여 a 태그를 선택하고, href 속성을 사용하여 링크 URL을 추출한다. 이를 for 루프를 사용하여 출력할 수 있다.\n",
    "- 따라서, 이와 같이 BeautifulSoup 라이브러리를 사용하여 DOM을 탐색하고 필요한 데이터를 추출할 수 있으며, 이를 이용하여 파이썬 웹 크롤러를 구현\n",
    "- 위의 코드에서, HTML은 루트 요소인 $<html>$ 태그로 시작하며, 이 하위에 $<head>$ 태그와 $<body>$ 태그가 있다. $<head>$ 태그 안에는 문서 제목을 나타내는 $<title>$ 태그가 포함되어 있다.\n",
    "- $<body>$ 태그는 HTML 문서에서 가장 중요한 부분으로, 페이지 내용을 담고 있는 부분이다. $<body>$ 태그 안에는 $<h1>$ 태그와 $<ul>$ 태그가 포함되어 있으며, $<h1>$ 태그는 페이지의 제목을 나타낸다. $<ul>$ 태그는 목록을 나타내며, 여기에는 3개의 $<li>$ 태그가 포함되어 있으며, 각각의 $<li>$ 태그 안에는 $<a>$ 태그가 포함되어 있다.\n",
    "\n",
    "- 따라서, 위의 HTML 코드에서의 DOM 구조는 루트 요소인 $<html>$ 태그를 중심으로 계층 구조를 이루고 있으며, 이를 이용하여 자바스크립트나 파이썬 등의 스크립트 언어로 HTML 문서를 동적으로 조작하거나 데이터를 추출할 수 있다."
   ]
  },
  {
   "cell_type": "code",
   "execution_count": null,
   "id": "62bfe79c",
   "metadata": {
    "colab": {
     "base_uri": "https://localhost:8080/"
    },
    "executionInfo": {
     "elapsed": 344,
     "status": "ok",
     "timestamp": 1682958589979,
     "user": {
      "displayName": "박주경",
      "userId": "06694313831384541311"
     },
     "user_tz": -540
    },
    "id": "62bfe79c",
    "outputId": "17e1ed51-724e-4708-b404-305bbc78bd8d"
   },
   "outputs": [
    {
     "name": "stdout",
     "output_type": "stream",
     "text": [
      "[<a href=\"https://www.example.com\">Example 1</a>, <a href=\"https://www.example.net\">Example 2</a>, <a href=\"https://www.example.org\">Example 3</a>]\n",
      "<class 'bs4.element.ResultSet'> \n",
      "\n",
      "<class 'bs4.element.Tag'>\n",
      "https://www.example.com\n",
      "<class 'bs4.element.Tag'>\n",
      "https://www.example.net\n",
      "<class 'bs4.element.Tag'>\n",
      "https://www.example.org\n"
     ]
    }
   ],
   "source": [
    "from bs4 import BeautifulSoup\n",
    "\n",
    "# HTML 코드를 파싱하여 BeautifulSoup 객체로 만들기\n",
    "\n",
    "html = \"\"\"\n",
    "<!DOCTYPE html>\n",
    "<html>\n",
    "<head>\n",
    "<title>웹 크롤링 예시</title>\n",
    "</head>\n",
    "<body>\n",
    "<h1>웹 크롤링 예시</h1>\n",
    "<ul>\n",
    "<li><a href=\"https://www.example.com\">Example 1</a></li>\n",
    "<li><a href=\"https://www.example.net\">Example 2</a></li>\n",
    "<li><a href=\"https://www.example.org\">Example 3</a></li>\n",
    "</ul>\n",
    "</body>\n",
    "</html>\n",
    "\"\"\"\n",
    "\n",
    "soup = BeautifulSoup(html)\n",
    "\n",
    "# 링크 URL 추출하기\n",
    "links = soup.select('a')\n",
    "\n",
    "print(links)\n",
    "print(type(links), '\\n')\n",
    "\n",
    "for link in links:\n",
    "    print(type(link))    # Tag 객체임, [0]과 같은 슬라이싱하는 개념이 아님\n",
    "    print(link['href'])"
   ]
  },
  {
   "cell_type": "code",
   "execution_count": null,
   "id": "5602eb4a",
   "metadata": {
    "id": "5602eb4a",
    "outputId": "bb53159a-d191-4c7f-f0c6-adeb5bfc78c4"
   },
   "outputs": [
    {
     "name": "stdout",
     "output_type": "stream",
     "text": [
      "\n",
      "<!doctype html>\n",
      "<html>\n",
      "  <head>\n",
      "    <title>제목입니다</title>\n",
      "  </head>\n",
      "  <body>\n",
      "    <p class=\"content\">본문입니다.</p>\n",
      "    <p>두 번째 단락입니다.</p>\n",
      "    <a href=\"http://example.com\">링크입니다.</a>\n",
      "  </body>\n",
      "</html>\n",
      "\n"
     ]
    }
   ],
   "source": [
    "with open('test.html', 'w') as f:\n",
    "    f.write(\n",
    "'''\n",
    "<!doctype html>\n",
    "<html>\n",
    "  <head>\n",
    "    <title>제목입니다</title>\n",
    "  </head>\n",
    "  <body>\n",
    "    <p class=\"content\">본문입니다.</p>\n",
    "    <p>두 번째 단락입니다.</p>\n",
    "    <a href=\"http://example.com\">링크입니다.</a>\n",
    "  </body>\n",
    "</html>\n",
    "''')\n",
    "\n",
    "with open('test.html', 'r') as f:\n",
    "    html = f.read()\n",
    "    \n",
    "print(html)"
   ]
  },
  {
   "cell_type": "code",
   "execution_count": null,
   "id": "e3dbd37d",
   "metadata": {
    "id": "e3dbd37d",
    "outputId": "f7096c99-d6bc-4cbc-fdde-83a445842067"
   },
   "outputs": [
    {
     "name": "stdout",
     "output_type": "stream",
     "text": [
      "<class 'bs4.BeautifulSoup'> \n",
      " \n",
      "<!DOCTYPE html>\n",
      "\n",
      "<html>\n",
      "<head>\n",
      "<title>제목입니다</title>\n",
      "</head>\n",
      "<body>\n",
      "<p class=\"content\">본문입니다.</p>\n",
      "<p>두 번째 단락입니다.</p>\n",
      "<a href=\"http://example.com\">링크입니다.</a>\n",
      "</body>\n",
      "</html>\n",
      "\n"
     ]
    }
   ],
   "source": [
    "# BeautifulSoup 객체를 생성합니다.\n",
    "\n",
    "soup = BeautifulSoup(html, 'html.parser')\n",
    "\n",
    "print(type(soup), '\\n', soup)"
   ]
  },
  {
   "cell_type": "code",
   "execution_count": null,
   "id": "04327f07",
   "metadata": {
    "id": "04327f07",
    "outputId": "6f351f30-8624-4751-9778-59f2cf7dd3bf"
   },
   "outputs": [
    {
     "name": "stdout",
     "output_type": "stream",
     "text": [
      "<title>제목입니다</title>\n"
     ]
    }
   ],
   "source": [
    "# find() 메서드 사용 예제\n",
    "\n",
    "title = soup.find('title')\n",
    "print(title)"
   ]
  },
  {
   "cell_type": "code",
   "execution_count": null,
   "id": "c32c356f",
   "metadata": {
    "id": "c32c356f",
    "outputId": "8b8d0c55-403d-4eac-b504-f9b9f7558dd5"
   },
   "outputs": [
    {
     "name": "stdout",
     "output_type": "stream",
     "text": [
      "[<p class=\"content\">본문입니다.</p>, <p>두 번째 단락입니다.</p>] \n",
      "\n",
      "본문입니다.\n",
      "두 번째 단락입니다.\n"
     ]
    }
   ],
   "source": [
    "# find() 메서드 사용 예제\n",
    "\n",
    "paragraphs = soup.find_all('p')\n",
    "print(paragraphs, '\\n')\n",
    "\n",
    "for p in paragraphs:\n",
    "#     print(p, '\\n')\n",
    "    print(p.text)"
   ]
  },
  {
   "cell_type": "code",
   "execution_count": null,
   "id": "95a302a7",
   "metadata": {
    "id": "95a302a7",
    "outputId": "ed0b26d8-37db-4dcb-d141-f69a93eb16b8"
   },
   "outputs": [
    {
     "name": "stdout",
     "output_type": "stream",
     "text": [
      "[<a href=\"http://example.com\">링크입니다.</a>] \n",
      " <class 'bs4.element.ResultSet'> \n",
      "\n",
      "<a href=\"http://example.com\">링크입니다.</a> \n",
      " <class 'bs4.element.Tag'> \n",
      "\n",
      "http://example.com\n"
     ]
    }
   ],
   "source": [
    "# se;ect() 메서드 사용 예제, href = Hyper text Reference로 하이퍼링크를 생성\n",
    "\n",
    "link = soup.select('a')\n",
    "print(link, '\\n', type(link), '\\n')\n",
    "\n",
    "link = soup.select('a')[0]    # 요소가 하나여도 link는 ResultSet이기 때문에 요소를 먼저 하나 지정해 줘야 함\n",
    "print(link, '\\n', type(link), '\\n')\n",
    "\n",
    "print(link['href'])    # 위에서 [0]과 같이 요소 하나를 먼저 지정 안해주면, 에러가 남"
   ]
  },
  {
   "cell_type": "code",
   "execution_count": null,
   "id": "6137e948",
   "metadata": {
    "id": "6137e948",
    "outputId": "90a2cdbf-e8be-426f-ef4e-0c9a2b62e835"
   },
   "outputs": [
    {
     "name": "stdout",
     "output_type": "stream",
     "text": [
      "http://example.com\n"
     ]
    }
   ],
   "source": [
    "link = soup.select_one('a')\n",
    "\n",
    "print(link['href'])"
   ]
  },
  {
   "cell_type": "code",
   "execution_count": null,
   "id": "eed00053",
   "metadata": {
    "id": "eed00053",
    "outputId": "72eae69e-b1d1-4490-b6f9-6019d36dcd43"
   },
   "outputs": [
    {
     "name": "stdout",
     "output_type": "stream",
     "text": [
      "<!DOCTYPE html>\n",
      "<html>\n",
      " <head>\n",
      "  <title>\n",
      "   제목입니다\n",
      "  </title>\n",
      " </head>\n",
      " <body>\n",
      "  <p class=\"content\">\n",
      "   본문입니다.\n",
      "  </p>\n",
      "  <p>\n",
      "   두 번째 단락입니다.\n",
      "  </p>\n",
      "  <a href=\"http://example.com\">\n",
      "   링크입니다.\n",
      "  </a>\n",
      " </body>\n",
      "</html>\n",
      "\n"
     ]
    }
   ],
   "source": [
    "# prettify() 메서드 사용 예제\n",
    "\n",
    "print(soup.prettify())"
   ]
  },
  {
   "cell_type": "code",
   "execution_count": null,
   "id": "dc9087e9",
   "metadata": {
    "id": "dc9087e9",
    "outputId": "14e8062e-1802-4609-b79c-cd94387f1cb7"
   },
   "outputs": [
    {
     "name": "stdout",
     "output_type": "stream",
     "text": [
      "<a href=\"http://example.com\">링크입니다.</a>\n",
      "http://example.com\n"
     ]
    }
   ],
   "source": [
    "# get() 메서드 사용 예제\n",
    "# 위와 같이 하면 속성값이 없을 경우 에러가 나지만, get을 쓰면 None을 반환함 -> 코드 안정성 높아짐\n",
    "\n",
    "link = soup.select('a')[0]\n",
    "print(link)\n",
    "print(link.get('href'))    # 반환값은 str임"
   ]
  },
  {
   "cell_type": "markdown",
   "id": "e2b620cd",
   "metadata": {
    "id": "e2b620cd"
   },
   "source": [
    "위의 두 코드에서는 모두 첫 번째 <a> 태그의 href 속성 값을 출력하고 있습니다. 다만, 첫 번째 코드에서는 select() 메서드를 사용하여 soup 객체에서 <a> 태그를 찾은 후, 리스트의 첫 번째 요소를 선택하여 link 변수에 할당한 뒤 link['href']로 href 속성 값을 출력합니다. 반면 두 번째 코드에서는 select() 메서드 대신 <a> 태그를 바로 선택하여 link 변수에 할당한 후, get() 메서드를 사용하여 href 속성 값을 출력합니다."
   ]
  },
  {
   "cell_type": "code",
   "execution_count": null,
   "id": "fd648695",
   "metadata": {
    "id": "fd648695",
    "outputId": "b36bf0f4-c87e-497c-c657-746eca963178"
   },
   "outputs": [
    {
     "name": "stdout",
     "output_type": "stream",
     "text": [
      "본문입니다.\n"
     ]
    }
   ],
   "source": [
    "# text 속성 사용 예제\n",
    "\n",
    "paragraph = soup.find('p', {'class': 'content'})    # 속성값이 content인 것\n",
    "print(paragraph.text)"
   ]
  },
  {
   "cell_type": "code",
   "execution_count": null,
   "id": "8db68338",
   "metadata": {
    "id": "8db68338",
    "outputId": "95e3bfc6-9f2b-451c-b576-b3b38ca6e153"
   },
   "outputs": [
    {
     "name": "stdout",
     "output_type": "stream",
     "text": [
      "body\n"
     ]
    }
   ],
   "source": [
    "# parent 속성 사용 예제\n",
    "\n",
    "paragraph = soup.find('p', {'class': 'content'})\n",
    "print(paragraph.parent.name)"
   ]
  },
  {
   "cell_type": "code",
   "execution_count": null,
   "id": "02903ad5",
   "metadata": {
    "id": "02903ad5",
    "outputId": "3aad1585-f87b-4c40-8cf5-4b6bd77ae6a3"
   },
   "outputs": [
    {
     "name": "stdout",
     "output_type": "stream",
     "text": [
      "\n",
      "<p class=\"content\">본문입니다.</p>\n",
      "<p>두 번째 단락입니다.</p>\n",
      "<a href=\"http://example.com\">링크입니다.</a>\n"
     ]
    }
   ],
   "source": [
    "# children 속성 사용 예제\n",
    "\n",
    "body = soup.find('body')\n",
    "\n",
    "for child in body.children:\n",
    "    print(child, end='')"
   ]
  },
  {
   "cell_type": "code",
   "execution_count": null,
   "id": "288d02e8",
   "metadata": {
    "id": "288d02e8",
    "outputId": "9a22f864-bacf-476b-8a0e-6b377a5ff5f4"
   },
   "outputs": [
    {
     "name": "stdout",
     "output_type": "stream",
     "text": [
      "<h1>스크레이핑이란?</h1>\n",
      "h1 = 스크레이핑이란?\n",
      "p = 웹 페이지를 분석하는 것\n",
      "p = 원하는 부분을 추출하는 것\n"
     ]
    }
   ],
   "source": [
    "# 라이브러리 읽어 들이기\n",
    "# next_sibling 메소드는 현재 선택된 요소의 다음 형제 요소를 선택하는 것. 여기서 두 번 사용하는,\n",
    "# 이유는 첫 번째 next_sibling 메소드로 선택되는 요소는 줄바꿈 문자와 같은 공백 문자열이기 때문임\n",
    "\n",
    "# 분석하고 싶은 HTML\n",
    "html = \"\"\"\n",
    "<html><body>\n",
    "  <h1>스크레이핑이란?</h1>\n",
    "  <p>웹 페이지를 분석하는 것</p>\n",
    "  <p>원하는 부분을 추출하는 것</p>\n",
    "</body></html>\n",
    "\"\"\"\n",
    "\n",
    "# HTML 분석하기\n",
    "soup = BeautifulSoup(html)\n",
    "\n",
    "# 원하는 부분 추출하기 - 직접 참조 방식임(DOM, Tree구조 이용)\n",
    "h1 = soup.html.body.h1\n",
    "p1 = soup.html.body.p\n",
    "p2 = p1.next_sibling.next_sibling    # 줄바꿈이 하나 있기 때문에 두 번 써주는 것임\n",
    "\n",
    "# 요소의 글자 출력하기\n",
    "print(h1)\n",
    "print(\"h1 = \" + h1.string)\n",
    "print(\"p = \" + p1.string)    # 해당 태그의 문자열만 가져옴\n",
    "print(\"p = \" + p2.text)    # 해당 테스트의 자손 태그를 포함한 모든 문자열을 가져옴"
   ]
  },
  {
   "cell_type": "code",
   "execution_count": null,
   "id": "a301077a",
   "metadata": {
    "id": "a301077a",
    "outputId": "585c9fae-7eb8-4c1c-8c40-2235d4ec224e"
   },
   "outputs": [
    {
     "name": "stdout",
     "output_type": "stream",
     "text": [
      "웹 페이지를 분석하는 것\n",
      "원하는 부분을 추출하는 것\n"
     ]
    }
   ],
   "source": [
    "# find_all()\n",
    "\n",
    "texts = soup.find_all('p')\n",
    "\n",
    "for t in texts:\n",
    "    print(t.text)"
   ]
  },
  {
   "cell_type": "code",
   "execution_count": null,
   "id": "77a940bb",
   "metadata": {
    "id": "77a940bb",
    "outputId": "631cef95-f2bf-4628-96ef-743b96c42ae2"
   },
   "outputs": [
    {
     "name": "stdout",
     "output_type": "stream",
     "text": [
      "#title=스크레이핑이란?\n",
      "#body=웹 페이지를 분석하는 것\n",
      "웹 페이지를 분석하는 것\n",
      "웹 페이지를 분석하는 것\n"
     ]
    }
   ],
   "source": [
    "# find() \n",
    "# id로 요소를 찾는 방법\n",
    "\n",
    "html = \"\"\"\n",
    "<html><body>\n",
    "  <h1 id='title'>스크레이핑이란?</h1>\n",
    "  <p id='body'>웹 페이지를 분석하는 것</p>\n",
    "  <p>원하는 부분을 추출하는 것</p>\n",
    "</body></html>\n",
    "\"\"\"\n",
    "\n",
    "# HTML 분석하기\n",
    "soup = BeautifulSoup(html)\n",
    "\n",
    "# find() 메서드로 원하는 부분 추출하기\n",
    "title = soup.find(id='title')\n",
    "body = soup.find(id='body')\n",
    "\n",
    "print('#title='+title.string)\n",
    "print('#body='+body.string)\n",
    "print(body.text)\n",
    "print(body.get_text())"
   ]
  },
  {
   "cell_type": "code",
   "execution_count": null,
   "id": "6dd32f3c",
   "metadata": {
    "id": "6dd32f3c",
    "outputId": "6ae012da-9749-4574-847c-7c5b538b861b"
   },
   "outputs": [
    {
     "name": "stdout",
     "output_type": "stream",
     "text": [
      "\n",
      "스크레이핑이란?\n",
      "웹 페이지를 분석하는 것\n",
      "원하는 부분을 추출하는 것\n",
      "\n",
      "None\n"
     ]
    }
   ],
   "source": [
    "# string은 HTML 요소의 직계 텍스트(conent)를 가져온다.\n",
    "# 즉, HTML 요소 안에 또 다른 HTML 요소가 있을 경우, 그 요소의 텍스트는 가져오지 않는다.\n",
    "\n",
    "html = \"\"\"\n",
    "<html><body>\n",
    "  <h1 id='title'>스크레이핑이란?</h1>\n",
    "  <p id='body'>웹 페이지를 분석하는 것</p>\n",
    "  <p>원하는 부분을 추출하는 것</p>\n",
    "</body></html>\n",
    "\"\"\"\n",
    "\n",
    "soup = BeautifulSoup(html)\n",
    "body = soup.find(\"body\")\n",
    "print(body.text)    # 코드에서 태그를 제외한 순수한 텍스트 부분을 추출함\n",
    "print(body.string)    # 해당 태그 내의 첫 번째 문자열 반환"
   ]
  },
  {
   "cell_type": "code",
   "execution_count": null,
   "id": "5aa55387",
   "metadata": {
    "id": "5aa55387",
    "outputId": "f1c98552-04ba-4782-fc7f-69822de8da23"
   },
   "outputs": [
    {
     "name": "stdout",
     "output_type": "stream",
     "text": [
      "[<p id=\"body\">웹 페이지를 분석하는 것</p>, <p>원하는 부분을 추출하는 것</p>] \n",
      "\n",
      "['웹 페이지를 분석하는 것', '원하는 부분을 추출하는 것'] \n",
      "\n",
      "웹 페이지를 분석하는 것\n",
      "원하는 부분을 추출하는 것\n"
     ]
    }
   ],
   "source": [
    "# find_att()\n",
    "\n",
    "texts = soup.find_all('p')\n",
    "\n",
    "print(texts, '\\n')\n",
    "\n",
    "print(list(t.text for t in texts), '\\n')\n",
    "\n",
    "for t in texts:\n",
    "    print(t.text)"
   ]
  },
  {
   "cell_type": "markdown",
   "id": "b7742d3b",
   "metadata": {
    "id": "b7742d3b"
   },
   "source": [
    "href = a.attrs['href']와 href = a['href'] 모두 해당 태그의 속성(attribute) 중 href 속성 값을 가져옵니다. 따라서, 반환되는 값은 같습니다.\n",
    "\n",
    "그러나, a['href']의 경우는 attrs 사전에서 키값 'href'를 검색하는 것보다 더 간결하고 직관적인 방법입니다.\n",
    "\n",
    "즉, a['href'] 방식은 해당 태그의 속성 값을 직접적으로 추출하는 데에 적합합니다. a.attrs['href'] 방식은 해당 태그의 다른 속성 값들도 함께 처리할 때 사용합니다.\n",
    "\n",
    "따라서, 해당 속성 값만 필요한 경우에는 a['href'] 방식을, 다른 속성 값도 함께 필요한 경우에는 a.attrs['href'] 방식을 사용하는 것이 좋습니다."
   ]
  },
  {
   "cell_type": "code",
   "execution_count": null,
   "id": "a0004ed6",
   "metadata": {
    "id": "a0004ed6",
    "outputId": "d442097b-3217-43e3-84df-c67dfedc9a7a"
   },
   "outputs": [
    {
     "name": "stdout",
     "output_type": "stream",
     "text": [
      "naver > http://www.naver.com\n",
      "daum > http://www.daum.net\n"
     ]
    }
   ],
   "source": [
    "# 여러 개의 요소 추출\n",
    "\n",
    "html = \"\"\"\n",
    "<html><body>\n",
    "  <ul>\n",
    "    <li><a href=\"http://www.naver.com\">naver</a></li>\n",
    "    <li><a href=\"http://www.daum.net\">daum</a></li>\n",
    "  </ul>\n",
    "</body></html>\n",
    "\"\"\"\n",
    "\n",
    "# HTML 분석하기\n",
    "soup = BeautifulSoup(html)\n",
    "\n",
    "# find_all() 메서드로 추출하기\n",
    "links = soup.find_all('a')\n",
    "\n",
    "# 링크 목록 추출하기\n",
    "for a in links:\n",
    "    href = a.attrs['href']\n",
    "    text = a.string\n",
    "    print(text, '>', href)"
   ]
  },
  {
   "cell_type": "code",
   "execution_count": null,
   "id": "1059ff43",
   "metadata": {
    "id": "1059ff43",
    "outputId": "b3884ade-8f92-458f-9ec6-0e3141b280d3"
   },
   "outputs": [
    {
     "name": "stdout",
     "output_type": "stream",
     "text": [
      "\n",
      "\n",
      "<p align=\"center\" class=\"a\"> text1</p>\n",
      "\n",
      "\n",
      "<p align=\"center\" class=\"b\"> text2</p>\n",
      "\n",
      "\n",
      "<p align=\"center\" class=\"c\"> text3</p>\n",
      "\n",
      "\n",
      "<div>\n",
      "<img height=\"200\" src=\"/source\" width=\"300\"/>\n",
      "</div>\n",
      "\n",
      "\n"
     ]
    }
   ],
   "source": [
    "html=\"\"\"\n",
    "<head>\n",
    "    <title>crawler</title>\n",
    "</head>\n",
    "<body>\n",
    "    <p class=\"a\" align=\"center\"> text1</p>\n",
    "    <p class=\"b\" align=\"center\"> text2</p>\n",
    "    <p class=\"c\" align=\"center\"> text3</p>\n",
    "    <div>\n",
    "        <img src=\"/source\" width=\"300\" height=\"200\">\n",
    "    </div>\n",
    "</body>\n",
    "</html>\n",
    "\"\"\"\n",
    "\n",
    "soup = BeautifulSoup(html)\n",
    "contents = soup.find('body')\n",
    "\n",
    "for child in contents.children:\n",
    "    print(child)"
   ]
  },
  {
   "cell_type": "code",
   "execution_count": null,
   "id": "976203bb",
   "metadata": {
    "id": "976203bb",
    "outputId": "79086ac5-d981-4dfd-9390-cf9892c6b21d"
   },
   "outputs": [
    {
     "name": "stdout",
     "output_type": "stream",
     "text": [
      "\n",
      "\n",
      "<p align=\"center\" class=\"a\"> text1</p>\n",
      " text1\n",
      "\n",
      "\n",
      "<p align=\"center\" class=\"b\"> text2</p>\n",
      " text2\n",
      "\n",
      "\n",
      "<p align=\"center\" class=\"c\"> text3</p>\n",
      " text3\n",
      "\n",
      "\n",
      "<div>\n",
      "<img height=\"200\" src=\"/source\" width=\"300\"/>\n",
      "</div>\n",
      "\n",
      "\n",
      "<img height=\"200\" src=\"/source\" width=\"300\"/>\n",
      "\n",
      "\n",
      "\n",
      "\n"
     ]
    }
   ],
   "source": [
    "# body의 자손은 p, div, img 등\n",
    "\n",
    "for d in contents.descendants:\n",
    "    print(d)"
   ]
  },
  {
   "cell_type": "code",
   "execution_count": null,
   "id": "b18412e6",
   "metadata": {
    "id": "b18412e6",
    "outputId": "312764ca-6fec-4d43-89c3-d7031711a87e"
   },
   "outputs": [
    {
     "name": "stdout",
     "output_type": "stream",
     "text": [
      "<img height=\"200\" src=\"/source\" width=\"300\"/> \n",
      "\n",
      "<div>\n",
      "<img height=\"200\" src=\"/source\" width=\"300\"/>\n",
      "</div>\n"
     ]
    }
   ],
   "source": [
    "img_tag = contents.find('img')\n",
    "print(img_tag, '\\n')\n",
    "print(img_tag.parent)"
   ]
  },
  {
   "cell_type": "code",
   "execution_count": null,
   "id": "d101e64c",
   "metadata": {
    "id": "d101e64c",
    "outputId": "8a2fb74c-3f09-4511-9ebe-8bdbbfe15bbc"
   },
   "outputs": [
    {
     "name": "stdout",
     "output_type": "stream",
     "text": [
      "[<div>\n",
      "<img height=\"200\" src=\"/source\" width=\"300\"/>\n",
      "</div>, <body>\n",
      "<p align=\"center\" class=\"a\"> text1</p>\n",
      "<p align=\"center\" class=\"b\"> text2</p>\n",
      "<p align=\"center\" class=\"c\"> text3</p>\n",
      "<div>\n",
      "<img height=\"200\" src=\"/source\" width=\"300\"/>\n",
      "</div>\n",
      "</body>, \n",
      "<head>\n",
      "<title>crawler</title>\n",
      "</head>\n",
      "<body>\n",
      "<p align=\"center\" class=\"a\"> text1</p>\n",
      "<p align=\"center\" class=\"b\"> text2</p>\n",
      "<p align=\"center\" class=\"c\"> text3</p>\n",
      "<div>\n",
      "<img height=\"200\" src=\"/source\" width=\"300\"/>\n",
      "</div>\n",
      "</body>\n",
      "\n",
      "]\n"
     ]
    }
   ],
   "source": [
    "# parents\n",
    "\n",
    "print(list(img_tag.parents))    # 중첩으로 나옴"
   ]
  },
  {
   "cell_type": "code",
   "execution_count": null,
   "id": "27607c51",
   "metadata": {
    "id": "27607c51",
    "outputId": "2bb2b33f-af04-48c0-dc2d-0f5dbcd01005"
   },
   "outputs": [
    {
     "name": "stdout",
     "output_type": "stream",
     "text": [
      "<img height=\"200\" src=\"/source\" width=\"300\"/>\n"
     ]
    }
   ],
   "source": [
    "# 태그 객체\n",
    "\n",
    "contents = soup.find('body')\n",
    "print(contents.div.img)"
   ]
  },
  {
   "cell_type": "code",
   "execution_count": null,
   "id": "de355763",
   "metadata": {
    "id": "de355763",
    "outputId": "9aef289d-63d0-4a4e-f6dc-a368fe9705a0"
   },
   "outputs": [
    {
     "name": "stdout",
     "output_type": "stream",
     "text": [
      "<body>\n",
      "<p align=\"center\" class=\"a\"> text1</p>\n",
      "<p align=\"center\" class=\"b\"> text2</p>\n",
      "<p align=\"center\" class=\"c\"> text3</p>\n",
      "<div>\n",
      "<img height=\"200\" src=\"/source\" width=\"300\"/>\n",
      "</div>\n",
      "</body> \n",
      "\n",
      "<body>\n",
      "<p align=\"center\" class=\"a\"> text1</p>\n",
      "<p align=\"center\" class=\"b\"> text2</p>\n",
      "<p align=\"center\" class=\"c\"> text3</p>\n",
      "<div>\n",
      "<img height=\"200\" src=\"/source\" width=\"300\"/>\n",
      "</div>\n",
      "</body> \n",
      "\n",
      "<div>\n",
      "<img height=\"200\" src=\"/source\" width=\"300\"/>\n",
      "</div>\n"
     ]
    }
   ],
   "source": [
    "# 특정 parent 지정\n",
    "\n",
    "soup = BeautifulSoup(html, 'html.parser')\n",
    "\n",
    "contents = soup.find('body')\n",
    "img_tag = contents.find('img')\n",
    "\n",
    "print(contents, '\\n')\n",
    "print(img_tag.find_parent('body'), '\\n')\n",
    "print(img_tag.find_parent('div'))"
   ]
  },
  {
   "cell_type": "code",
   "execution_count": null,
   "id": "5cfeef76",
   "metadata": {
    "id": "5cfeef76",
    "outputId": "7fa88be2-fd13-4548-bc5c-86a3606328d5"
   },
   "outputs": [
    {
     "name": "stdout",
     "output_type": "stream",
     "text": [
      "<p align=\"center\" class=\"c\"> text3</p>\n"
     ]
    }
   ],
   "source": [
    "p_tag = soup.find('p', class_='c')    # class가 파이썬의 예약어라서 충돌 피하고, 쓸 수 있게 하기 위함\n",
    "print(p_tag)"
   ]
  },
  {
   "cell_type": "code",
   "execution_count": null,
   "id": "fd5b8d1c",
   "metadata": {
    "id": "fd5b8d1c",
    "outputId": "c2511395-fdad-48fe-f47f-982b921a100f"
   },
   "outputs": [
    {
     "name": "stdout",
     "output_type": "stream",
     "text": [
      "<p align=\"center\" class=\"b\"> text2</p>\n",
      "[<p align=\"center\" class=\"b\"> text2</p>, <p align=\"center\" class=\"a\"> text1</p>]\n"
     ]
    },
    {
     "data": {
      "text/plain": [
       "bs4.element.Tag"
      ]
     },
     "execution_count": 570,
     "metadata": {},
     "output_type": "execute_result"
    }
   ],
   "source": [
    "# find_previous_sibling() : 바로 이전 형제 노드를 검색\n",
    "# find_previous_siblings() : 모든 형제 노드를 검색\n",
    "\n",
    "print(p_tag.find_previous_sibling())\n",
    "print(p_tag.find_previous_siblings())"
   ]
  },
  {
   "cell_type": "code",
   "execution_count": null,
   "id": "d61ffeab",
   "metadata": {
    "id": "d61ffeab"
   },
   "outputs": [],
   "source": [
    "with open('test2.html','w') as f:\n",
    "    f.write(\n",
    "'''\n",
    "<!doctype html>\n",
    "<html>\n",
    "<body>\n",
    "<div id=\"meigen\">\n",
    "  <h1>위키북스 도서</h1>\n",
    "  <ul class=\"items\">\n",
    "    <li>유니티 게임 이펙트 입문</li>\n",
    "    <li>스위프트로 시작하는 아이폰 앱 개발 교과서</li>\n",
    "    <li>모던 웹사이트 디자인의 정석</li>\n",
    "  </ul>\n",
    "</div>\n",
    "</body>\n",
    "</html>\n",
    "''')"
   ]
  },
  {
   "cell_type": "code",
   "execution_count": null,
   "id": "ee89cfce",
   "metadata": {
    "id": "ee89cfce",
    "outputId": "56f84556-e075-4a8d-b385-d52a90c93df6"
   },
   "outputs": [
    {
     "name": "stdout",
     "output_type": "stream",
     "text": [
      "h1 = 위키북스 도서\n",
      "li = 유니티 게임 이펙트 입문\n",
      "li = 스위프트로 시작하는 아이폰 앱 개발 교과서\n",
      "li = 모던 웹사이트 디자인의 정석\n"
     ]
    }
   ],
   "source": [
    "\n",
    "# 분석 대상 HTML\n",
    "html = '''\n",
    "<html>\n",
    "<body>\n",
    "<div id=\"meigen\">\n",
    "  <h1>위키북스 도서</h1>\n",
    "  <ul class=\"items\">\n",
    "    <li>유니티 게임 이펙트 입문</li>\n",
    "    <li>스위프트로 시작하는 아이폰 앱 개발 교과서</li>\n",
    "    <li>모던 웹사이트 디자인의 정석</li>\n",
    "  </ul>\n",
    "</div>\n",
    "</body>\n",
    "</html>\n",
    "'''\n",
    "\n",
    "# HTML 분석하기\n",
    "soup = BeautifulSoup(html)\n",
    "\n",
    "# 필요한 부분을 CSS쿼리로 추출하기\n",
    "# 타이틀 부분 추출하기\n",
    "h1 = soup.select_one('div#meigen > h1').string\n",
    "print('h1 =', h1)\n",
    "\n",
    "# 목록 부분 추출하기\n",
    "li_list = soup.select('div#meigen > ul.items > li')\n",
    "for li in li_list:\n",
    "    print('li =', li.string)"
   ]
  },
  {
   "cell_type": "code",
   "execution_count": null,
   "id": "38e23a97",
   "metadata": {
    "id": "38e23a97"
   },
   "outputs": [],
   "source": [
    "# Q. 코스피 지수, 등락폭 및 등락율을 출력하세요.\n",
    "import requests\n",
    "from bs4 import BeautifulSoup\n",
    "\n",
    "# 네이버 금융 국내증시 메인 사이트 주소\n",
    "# url = \"https://finance.naver.com/sise/\"\n",
    "url = 'https://finance.naver.com/sise/sise_index.naver?code=KOSPI'\n",
    "\n",
    "# 웹사이트 정보 요청\n",
    "html = requests.get(url).text\n",
    "\n",
    "# html.parser로 html 형식 태그에서 데이터 추출 준비\n",
    "soup = BeautifulSoup(html, 'html.parser')\n",
    "print(soup.prettify())"
   ]
  },
  {
   "cell_type": "code",
   "execution_count": null,
   "id": "d00c8c10",
   "metadata": {
    "id": "d00c8c10",
    "outputId": "44ca9617-b0b9-406e-c529-4dd7edf4ea77"
   },
   "outputs": [
    {
     "data": {
      "text/plain": [
       "'2,501.53'"
      ]
     },
     "execution_count": 580,
     "metadata": {},
     "output_type": "execute_result"
    }
   ],
   "source": [
    "soup.select_one('#now_value').string"
   ]
  },
  {
   "cell_type": "code",
   "execution_count": null,
   "id": "2aad232d",
   "metadata": {
    "id": "2aad232d",
    "outputId": "9d5824e3-a22a-4f9e-c66d-9ce72294de35"
   },
   "outputs": [
    {
     "data": {
      "text/plain": [
       "'2,501.53'"
      ]
     },
     "execution_count": 581,
     "metadata": {},
     "output_type": "execute_result"
    }
   ],
   "source": [
    "soup.select_one('em#now_value').string"
   ]
  },
  {
   "cell_type": "code",
   "execution_count": null,
   "id": "91839e05",
   "metadata": {
    "id": "91839e05",
    "outputId": "75a62a1e-1337-4008-9f2e-048bb42d9dc6"
   },
   "outputs": [
    {
     "data": {
      "text/plain": [
       "'5.72'"
      ]
     },
     "execution_count": 582,
     "metadata": {},
     "output_type": "execute_result"
    }
   ],
   "source": [
    "soup.select('span#change_value_and_rate > span')[0].text"
   ]
  },
  {
   "cell_type": "code",
   "execution_count": null,
   "id": "0581e6d0",
   "metadata": {
    "id": "0581e6d0",
    "outputId": "7c4d14ce-f1a4-43fc-93e9-da60b9b01ee1"
   },
   "outputs": [
    {
     "data": {
      "text/plain": [
       "'+0.23'"
      ]
     },
     "execution_count": 583,
     "metadata": {},
     "output_type": "execute_result"
    }
   ],
   "source": [
    "soup.select('span.fluc#change_value_and_rate')[0].text[5:10]"
   ]
  },
  {
   "cell_type": "code",
   "execution_count": null,
   "id": "94917379",
   "metadata": {
    "id": "94917379",
    "outputId": "6790cff3-e1a7-4bde-db7d-d43692158f27"
   },
   "outputs": [
    {
     "data": {
      "text/plain": [
       "'5.72'"
      ]
     },
     "execution_count": 584,
     "metadata": {},
     "output_type": "execute_result"
    }
   ],
   "source": [
    "soup.select('span#change_value_and_rate > span')[0].text"
   ]
  },
  {
   "cell_type": "code",
   "execution_count": null,
   "id": "ff965307",
   "metadata": {
    "id": "ff965307",
    "outputId": "57cd6f29-b72f-49c5-e290-d1f9c60bdb1f"
   },
   "outputs": [
    {
     "data": {
      "text/plain": [
       "2501.53"
      ]
     },
     "execution_count": 585,
     "metadata": {},
     "output_type": "execute_result"
    }
   ],
   "source": [
    "# soup.select_one('#now_value').string\n",
    "float(soup.select_one('#now_value').string.replace(',', ''))"
   ]
  },
  {
   "cell_type": "code",
   "execution_count": 4,
   "id": "f3e2128b",
   "metadata": {
    "id": "f3e2128b",
    "outputId": "72c7d9c2-a366-4be9-af4a-d14916a8059b"
   },
   "outputs": [
    {
     "data": {
      "text/plain": [
       "<html><body><ul id=\"bible\">\n",
       "<li id=\"ge\">Genesis</li>\n",
       "<li id=\"ex\">Exodus</li>\n",
       "<li id=\"le\">Leviticus</li>\n",
       "<li id=\"nu\">Numbers</li>\n",
       "<li id=\"de\">Deuteronomy</li>\n",
       "</ul></body></html>"
      ]
     },
     "execution_count": 4,
     "metadata": {},
     "output_type": "execute_result"
    }
   ],
   "source": [
    "from bs4 import BeautifulSoup\n",
    "\n",
    "fp = open('books.html', encoding='utf-8')\n",
    "soup = BeautifulSoup(fp)\n",
    "soup"
   ]
  },
  {
   "cell_type": "code",
   "execution_count": 5,
   "id": "42baf097",
   "metadata": {
    "id": "42baf097",
    "outputId": "d56115a2-b056-4224-e078-0f8992c4a305"
   },
   "outputs": [
    {
     "name": "stdout",
     "output_type": "stream",
     "text": [
      "Numbers\n",
      "Numbers\n",
      "Numbers\n",
      "Numbers\n",
      "Numbers\n",
      "Numbers\n",
      "Numbers\n",
      "Numbers\n",
      "Numbers\n",
      "Numbers\n",
      "Numbers\n",
      "Numbers\n"
     ]
    }
   ],
   "source": [
    "# CSS 선택자로 검색하는 방법\n",
    "sel = lambda q : print(soup.select_one(q).string)\n",
    "sel('#nu')\n",
    "sel('li#nu')\n",
    "sel('ul > li#nu')\n",
    "sel('ul li#nu')\n",
    "sel('#bible #nu')\n",
    "sel('#bible > #nu')\n",
    "sel('ul#bible > li#nu')\n",
    "sel('ul#bible li#nu')\n",
    "sel(\"li[id='nu']\")\n",
    "sel('li:nth-of-type(4)')    # li 중에 4번째 li 반환 (nth -> n번째)\n",
    "\n",
    "# 그 밖의 방법\n",
    "print(soup.select('li')[3].string)\n",
    "print(soup.find_all('li')[3].string)"
   ]
  },
  {
   "cell_type": "markdown",
   "id": "2fe0a296",
   "metadata": {
    "id": "2fe0a296"
   },
   "source": [
    "####과제1_0428.\n",
    "아래와 같이 출력하세요.\n",
    "\n",
    "레몬\n",
    "\n",
    "아보카도\n",
    "\n",
    "아보카도\n",
    "\n",
    "아보카도\n",
    "\n",
    "아보카도\n",
    "\n",
    "아보카도"
   ]
  },
  {
   "cell_type": "code",
   "execution_count": 6,
   "id": "ecabdb85",
   "metadata": {
    "id": "ecabdb85",
    "outputId": "1844cee7-11c0-4c9e-bd5c-9ac1dcd379ce"
   },
   "outputs": [
    {
     "data": {
      "text/plain": [
       "<html>\n",
       "<body>\n",
       "<div id=\"main-goods\" role=\"page\">\n",
       "<h1>과일과 야채</h1>\n",
       "<ul id=\"fr-list\">\n",
       "<li class=\"red green\" data-lo=\"ko\">사과</li>\n",
       "<li class=\"purple\" data-lo=\"us\">포도</li>\n",
       "<li class=\"yellow\" data-lo=\"us\">레몬</li>\n",
       "<li class=\"yellow\" data-lo=\"ko\">오렌지</li>\n",
       "</ul>\n",
       "<ul id=\"ve-list\">\n",
       "<li class=\"white green\" data-lo=\"ko\">무</li>\n",
       "<li class=\"red green\" data-lo=\"us\">파프리카</li>\n",
       "<li class=\"black\" data-lo=\"ko\">가지</li>\n",
       "<li class=\"black\" data-lo=\"us\">아보카도</li>\n",
       "<li class=\"white\" data-lo=\"cn\">연근</li>\n",
       "</ul>\n",
       "</div>\n",
       "</body>\n",
       "</html>"
      ]
     },
     "execution_count": 6,
     "metadata": {},
     "output_type": "execute_result"
    }
   ],
   "source": [
    "fp = open('fruits-vegetables.html', encoding='utf-8')\n",
    "soup = BeautifulSoup(fp)\n",
    "soup"
   ]
  },
  {
   "cell_type": "code",
   "execution_count": 21,
   "id": "dc856298",
   "metadata": {
    "id": "dc856298",
    "outputId": "ad4053b0-abf7-4fdb-8de5-cd0aeb079f0d"
   },
   "outputs": [
    {
     "name": "stdout",
     "output_type": "stream",
     "text": [
      "레몬\n",
      "아보카도\n",
      "아보카도\n",
      "아보카도\n",
      "아보카도\n",
      "아보카도\n"
     ]
    }
   ],
   "source": [
    "sel = lambda q : print(soup.select_one(q).string)\n",
    "\n",
    "sel('li.yellow')\n",
    "print(soup.find('li', {'class':'black', 'data-lo':'us'}).text)    # 딕셔너리 형식으로 가능\n",
    "print(list(soup.find('ul', {'id':'ve-list'}).children)[7].text)\n",
    "print(soup.find_all('li', {'class':'black'})[1].text)\n",
    "print(soup.select('li')[7].text)\n",
    "print(soup.select_one('li.black').next_sibling.next_sibling.text)"
   ]
  },
  {
   "cell_type": "markdown",
   "id": "33a10175",
   "metadata": {
    "id": "33a10175"
   },
   "source": [
    "requests와 BeautifulSoup을 사용하여 크롤링하는 예제"
   ]
  },
  {
   "cell_type": "code",
   "execution_count": null,
   "id": "fff40fe0",
   "metadata": {
    "id": "fff40fe0",
    "outputId": "052eb9a8-640e-4fa6-b877-bf3963657a6e"
   },
   "outputs": [
    {
     "data": {
      "text/plain": [
       "['https://www.iana.org/domains/example']"
      ]
     },
     "execution_count": 256,
     "metadata": {},
     "output_type": "execute_result"
    }
   ],
   "source": [
    "# 크롤링할 웹 페이지의 URL을 지정합니다.\n",
    "url = 'https://example.com/'\n",
    "\n",
    "# requests 모듈을 사용하여 웹 페이지의 HTML 코드를 가져옵니다.\n",
    "response = requests.get(url)\n",
    "html = response.text\n",
    "\n",
    "# BeautifulSoup 객체를 생성합니다.\n",
    "soup = BeautifulSoup(html)\n",
    "\n",
    "# BeautifulSoup 객체의 메서드를 사용하여 필요한 정보를 추출합니다.\n",
    "title = soup.find('title').text\n",
    "paragraphs = soup.find_all('p')\n",
    "links = [a['href'] for a in soup.select('a')]    # 이거 soup.select('a')['href']로 해보기\n",
    "links\n",
    "\n",
    "# 추출한 정보를 출력합니다.\n",
    "print('Title', title)\n",
    "print('Paragraphs:')\n",
    "for p in paragraphs:\n",
    "    print('-', p.text)\n",
    "print('Links:')\n",
    "for link in links:\n",
    "    print('-', link)"
   ]
  },
  {
   "cell_type": "markdown",
   "id": "953bcf39",
   "metadata": {
    "id": "953bcf39"
   },
   "source": [
    "urllib과 BeautifulSoup을 사용하여 웹 크롤링"
   ]
  },
  {
   "cell_type": "code",
   "execution_count": null,
   "id": "4fda4448",
   "metadata": {
    "id": "4fda4448",
    "outputId": "97ac0031-2360-4e8f-cf71-b0d3d0c60d41"
   },
   "outputs": [
    {
     "name": "stdout",
     "output_type": "stream",
     "text": [
      "<http.client.HTTPResponse object at 0x000001715E948EB0>\n",
      "Title Example Domain\n",
      "Paragraphs:\n",
      "- This domain is for use in illustrative examples in documents. You may use this\n",
      "    domain in literature without prior coordination or asking for permission.\n",
      "- More information...\n",
      "Links:\n",
      "- https://www.iana.org/domains/example\n"
     ]
    }
   ],
   "source": [
    "from urllib.request import urlopen\n",
    "\n",
    "# 크롤링할 웹 페이지의 URL을 지정합니다.\n",
    "url = 'https://example.com/'\n",
    "\n",
    "# urlopen() 함수를 사용하여 웹 페이지의 HTML 코드를 가져옵니다.\n",
    "response = urlopen(url)\n",
    "print(response)\n",
    "\n",
    "# BeautifulSoup 객체를 생성합니다.\n",
    "soup = BeautifulSoup(response)\n",
    "\n",
    "# BeautifulSoup 객체의 메서드를 사용하여 필요한 정보를 추출합니다.\n",
    "title = soup.find('title').text\n",
    "paragraphs = soup.find_all('p')\n",
    "links = [a['href'] for a in soup.select('a')]\n",
    "\n",
    "# 추출한 정보를 출력합니다.\n",
    "print('Title', title)\n",
    "print('Paragraphs:')\n",
    "for p in paragraphs:\n",
    "    print('-', p.text)\n",
    "print('Links:')\n",
    "for link in links:\n",
    "    print('-', link)"
   ]
  },
  {
   "cell_type": "code",
   "execution_count": null,
   "id": "758d1c5e",
   "metadata": {
    "id": "758d1c5e"
   },
   "outputs": [],
   "source": [
    "import urllib.request as req\n",
    "\n",
    "url = 'http://www.kma.go.kr/weather/forecast/mid-term-rss3.jsp'\n",
    "\n",
    "# urlopen()으로 데이터 가져오기\n",
    "res = req.urlopen(url)\n",
    "\n",
    "# BeautifulSoup으로 분석하기\n",
    "soup = BeautifulSoup(res, 'html.parser')\n",
    "soup"
   ]
  },
  {
   "cell_type": "code",
   "execution_count": null,
   "id": "69f54f0b",
   "metadata": {
    "id": "69f54f0b",
    "outputId": "56aa4c07-a5d8-4a7c-cd1d-7cf20c04cdbb"
   },
   "outputs": [
    {
     "name": "stdout",
     "output_type": "stream",
     "text": [
      "기상청 육상 중기예보\n",
      "○ (강수) 5월 4일(목)은 전남권과 경남권, 제주도에 비가 오겠습니다.<br />○ (기온) 이번 예보기간 아침 기온은 6~17도, 낮 기온은 18~27도로 평년(최저기온 9~14도, 최고기온 20~25도)과 비슷하겠습니다.<br /><br />* 5월 4일(목)은 기압골의 발달 정도와 이동 속도에 따라 강수시점과 구역이 변경될 가능성이 있으니, 앞으로 발표되는 최신 예보를 참고하기 바랍니다.\n"
     ]
    }
   ],
   "source": [
    "# 원하는 데이터 추출하기\n",
    "\n",
    "title = soup.find('title').string\n",
    "wf = soup.find('wf').string\n",
    "print(title)\n",
    "print(wf)"
   ]
  },
  {
   "cell_type": "code",
   "execution_count": null,
   "id": "34858260",
   "metadata": {
    "id": "34858260",
    "outputId": "416939d1-1fdb-4f71-de5a-52fd1e61768e"
   },
   "outputs": [
    {
     "name": "stdout",
     "output_type": "stream",
     "text": [
      "○ (강수) 5월 4일(목)은 전남권과 경남권, 제주도에 비가 오겠습니다.<br />○ (기온) 이번 예보기간 아침 기온은 5~17도, 낮 기온은 17~27도로 평년(최저기온 9~14도, 최고기온 20~25도)과 비슷하겠습니다.<br /><br />* 5월 4일(목)은 기압골의 발달 정도와 이동 속도에 따라 강수시점과 구역이 변경될 가능성이 있으니, 앞으로 발표되는 최신 예보를 참고하기 바랍니다.\n"
     ]
    },
    {
     "data": {
      "text/plain": [
       "'(강수) 5월 4일(목)은 전남권과 경남권, 제주도에 비가 오겠습니다.(기온) 이번 예보기간 아침 기온은 5~17도, 낮 기온은 17~27도로 평년(최저기온 9~14도, 최고기온 20~25도)과 비슷하겠습니다. 5월 4일(목)은 기압골의 발달 정도와 이동 속도에 따라 강수시점과 구역이 변경될 가능성이 있으니, 앞으로 발표되는 최신 예보를 참고하기 바랍니다.'"
      ]
     },
     "execution_count": 719,
     "metadata": {},
     "output_type": "execute_result"
    }
   ],
   "source": [
    "url = 'http://www.kma.go.kr/weather/forecast/mid-term-rss3.jsp'\n",
    "\n",
    "data = requests.get(url).text\n",
    "soup = BeautifulSoup(data, 'html.parser')    # 데이터가 xml이어서 parser 생략하면 암됨 것\n",
    "wf = soup.find('wf').string            # html.parser도 처리는 가능하지만 XML파싱 특화인 lxml, xml등 써줄 것\n",
    "print(wf)\n",
    "wf = ''.join(re.findall('[^A-Z0-9]?[0-9가-힣]+[^A-Z0-9]?', wf))\n",
    "wf"
   ]
  },
  {
   "cell_type": "code",
   "execution_count": null,
   "id": "f52086e6",
   "metadata": {
    "id": "f52086e6"
   },
   "outputs": [],
   "source": [
    "import urllib.request as rq\n",
    "\n",
    "url = 'https://news.naver.com/main/main.naver?mode=LSD&mid=shm&sid1=100'\n",
    "html = rq.urlopen(url)\n",
    "bs = BeautifulSoup(html, 'lxml')    # 보다 빠르고 유연함, 크거나 복잡한 HTML 문서 다룰 때 사용할 것\n",
    "bs"
   ]
  },
  {
   "cell_type": "code",
   "execution_count": null,
   "id": "f117ea19",
   "metadata": {
    "id": "f117ea19",
    "outputId": "04469416-5a16-4df3-ae36-ba4d5ccab09b"
   },
   "outputs": [
    {
     "data": {
      "text/plain": [
       "'AiRS추천으로 구성된 뉴스를 제공합니다.'"
      ]
     },
     "execution_count": 722,
     "metadata": {},
     "output_type": "execute_result"
    }
   ],
   "source": [
    "import urllib.request as rq\n",
    "\n",
    "url = 'https://news.naver.com/main/main.naver?mode=LSD&mid=shm&sid1=100'\n",
    "html = rq.urlopen(url)\n",
    "bs = BeautifulSoup(html, 'lxml')\n",
    "text = bs.find('p')\n",
    "text = text.get_text()\n",
    "text"
   ]
  },
  {
   "cell_type": "markdown",
   "id": "33a7e892",
   "metadata": {
    "id": "33a7e892"
   },
   "source": [
    "#### 과제2_0428.\n",
    "\n",
    "url = 'https://news.naver.com' 에서 문서를 가져와서 한글만 출력하세요.(최대한 텍스트 형태로)\n",
    "- request 사용\n",
    "- urllib 사용"
   ]
  },
  {
   "cell_type": "code",
   "execution_count": null,
   "id": "595b0f6f",
   "metadata": {
    "id": "595b0f6f"
   },
   "outputs": [],
   "source": [
    "url = 'https://news.naver.com'\n",
    "\n",
    "response = requests.get(url).content    # 응답을 byte 형식으로 받음\n",
    "soup = BeautifulSoup(response).text    # BeautifulSoup이 기본으로, 자동으로 decoding 해 줌\n",
    "' '.join(re.findall('[가-힣]+', soup))"
   ]
  },
  {
   "cell_type": "code",
   "execution_count": null,
   "id": "2457aa0e",
   "metadata": {
    "id": "2457aa0e"
   },
   "outputs": [],
   "source": [
    "url = 'https://news.naver.com'\n",
    "\n",
    "response = urllib.request.urlopen(url)    # 기본이 byte 형식으로 응답을 받음\n",
    "soup = BeautifulSoup(response)\n",
    "soup = str(soup)\n",
    "' '.join(re.findall('[가-힣]+', soup))"
   ]
  },
  {
   "cell_type": "markdown",
   "id": "e3535305",
   "metadata": {
    "id": "e3535305"
   },
   "source": [
    "#### 과제3_0428.\n",
    "\n",
    "url = 'https://news.naver.com'에서 문서를 가져와서 p태그의 한글을 모두 출력하세요."
   ]
  },
  {
   "cell_type": "code",
   "execution_count": null,
   "id": "fa81bb43",
   "metadata": {
    "id": "fa81bb43"
   },
   "outputs": [],
   "source": [
    "url = 'https://news.naver.com'\n",
    "\n",
    "response = requests.get(url).text\n",
    "print(type(response))\n",
    "\n",
    "soup = BeautifulSoup(response)\n",
    "print(type(soup))\n",
    "\n",
    "results = soup.find_all('p')\n",
    "print(type(results))\n",
    "print(type(results[0]))\n",
    "\n",
    "' '.join((re.findall('[가-힣]+', str(results))))"
   ]
  },
  {
   "cell_type": "markdown",
   "id": "34dbdcc4",
   "metadata": {
    "id": "34dbdcc4"
   },
   "source": [
    "#### 과제4_0428.\n",
    "\n",
    "기상청 육상 정보에서 강원도의 지역번호는 105이다. 강원도의 날씨예보를 출력하세요.\n",
    "\n",
    "url = 'https://www.kma.go.kr/weather/forecast/mid-term-rss3.jsp?stnld='\n",
    "\n",
    "https://www.kma.go.kr/weather/forecast/mid-term-rss3.jsp?stnId=105"
   ]
  },
  {
   "cell_type": "code",
   "execution_count": null,
   "id": "0e69aea2",
   "metadata": {
    "id": "0e69aea2",
    "outputId": "fcfecc44-8699-409b-d570-20afa6c034af"
   },
   "outputs": [
    {
     "name": "stdout",
     "output_type": "stream",
     "text": [
      "<![CDATA[○ (하늘상태) 이번 예보기간은 대체로 흐린 날이 많겠으나, 8일(월)~11일(목)은 대체로 맑겠습니다.○ (기온) 이번 예보기간 아침 기온은 4~17도로 평년(최저기온 6~12도)과 비슷하거나 조금 높겠고, 낮 기온은 13~26도로 평년(최고기온 17~25도)과 비슷하거나 조금 낮겠습니다.○ (해상) 동해중부해상의 물결은 5일(금)~6일(토)은 1.0~3.0m로 높게 일겠습니다.○ (주말전망) 6일(토)~7일(일)은 대체로 흐리겠습니다. 아침 기온은 6~17도, 낮 기온은 13~22도가 되겠습니다.* 4일(목)부터 7일(일) 사이 기압골의 발달 정도와 이동 속도에 따라 강수시점과 구역이 변경될 가능성이 있으니, 앞으로 발표되는 최신 예보를 반드시 참고하기 바랍니다.]]>\n"
     ]
    },
    {
     "data": {
      "text/plain": [
       "'(하늘상태)  이번  예보기간은  대체로  흐린  날이  많겠으나,  8일( 월) ~11일( 목) 은  대체로  맑겠습니다. (기온)  이번  예보기간  아침  기온은  4~ 17도로  평년( 최저기온  6~ 12도) 과  비슷하거나  조금  높겠고,  낮  기온은  13~ 26도로  평년( 최고기온  17~ 25도) 과  비슷하거나  조금  낮겠습니다. (해상)  동해중부해상의  물결은  5일( 금) ~6일( 토) 은  1. 0~ 3. 0m 로  높게  일겠습니다. (주말전망)  6일( 토) ~7일( 일) 은  대체로  흐리겠습니다.  아침  기온은  6~ 17도,  낮  기온은  13~ 22도가  되겠습니다.  4일( 목) 부터  7일( 일)  사이  기압골의  발달  정도와  이동  속도에  따라  강수시점과  구역이  변경될  가능성이  있으니,  앞으로  발표되는  최신  예보를  반드시  참고하기  바랍니다.'"
      ]
     },
     "execution_count": 8,
     "metadata": {},
     "output_type": "execute_result"
    }
   ],
   "source": [
    "url = 'https://www.kma.go.kr/weather/forecast/mid-term-rss3.jsp?stnId=105'\n",
    "\n",
    "data = requests.get(url).text\n",
    "soup = BeautifulSoup(data)\n",
    "wf = soup.find('wf').text\n",
    "print(wf)\n",
    "' '.join(re.findall('[^A-Z0-9]?[0-9가-힣]+[^A-Z0-9]?',wf))"
   ]
  },
  {
   "cell_type": "markdown",
   "id": "c8281766",
   "metadata": {
    "id": "c8281766"
   },
   "source": [
    "#### 과제5_0428.\n",
    "\n",
    "url = 'https://www.naver.com' 사이트에서 span 태그에 연결된 한글만을 불필요한 공백을 제거한 후 출력하세요.\n"
   ]
  },
  {
   "cell_type": "code",
   "execution_count": null,
   "id": "d1946d91",
   "metadata": {
    "id": "d1946d91"
   },
   "outputs": [],
   "source": [
    "url = 'https://news.naver.com'\n",
    "\n",
    "response = requests.get(url).text\n",
    "soup = BeautifulSoup(response)\n",
    "results = soup.find_all('span')\n",
    "\n",
    "lt = ''\n",
    "\n",
    "for result in results:\n",
    "    a= re.finditer('[가-힣]+', str(result))\n",
    "    for i in a:    \n",
    "        print(i.group())"
   ]
  },
  {
   "cell_type": "markdown",
   "id": "1ad2ffca",
   "metadata": {
    "id": "1ad2ffca"
   },
   "source": [
    "#### 과제6_0428.\n",
    "0427 과제 웹에 DOM 계층구조를 3단계로 추가하여 창작하세요."
   ]
  },
  {
   "cell_type": "code",
   "execution_count": null,
   "id": "a03d5393",
   "metadata": {
    "id": "a03d5393"
   },
   "outputs": [],
   "source": [
    "with open('sample.html', 'w', encoding='utf8') as f:\n",
    "    f.write('''\n",
    "\n",
    "<!DOCTYPE html>\n",
    "\n",
    "<html>\n",
    "\n",
    "    <head>\n",
    "    \n",
    "        <meta charset='UTF-8'>\n",
    "        \n",
    "        <title>휴먼 점심 메뉴 추천 서비스 (LongPark)</title>\n",
    "        \n",
    "        <style>\n",
    "            main {position: relative; top: -20px;}\n",
    "            main h1 {color: green; text-align: center;}\n",
    "            main h2 {color: green; text-align: center;}            \n",
    "            section h3 {color: blue;}\n",
    "            section { margin-top: 50px;}\n",
    "            main section h1 {color: red;}\n",
    "            #seven {float: right; margin-right: 200px; margin-top: -50px; display: inline-block;}            \n",
    "        </style>\n",
    "        \n",
    "\n",
    "        <script>\n",
    "          window.onload = function() {\n",
    "            var menu1 = document.querySelector(\"#menu1\");\n",
    "            var menu2 = document.querySelector(\"#menu2\");\n",
    "            var menu3 = document.querySelector(\"#menu3\");\n",
    "\n",
    "            menu1.addEventListener(\"click\", function() {\n",
    "              var content = document.querySelector(\"#content1\");\n",
    "              content.style.display = \"block\";\n",
    "            });\n",
    "\n",
    "            menu2.addEventListener(\"click\", function() {\n",
    "              var content = document.querySelector(\"#content2\");\n",
    "              content.style.display = \"block\";\n",
    "            });\n",
    "\n",
    "            menu3.addEventListener(\"click\", function() {\n",
    "              var content = document.querySelector(\"#content3\");\n",
    "              content.style.display = \"block\";\n",
    "            });\n",
    "\n",
    "            var addButton = document.querySelector(\"#addButton\");\n",
    "            addButton.addEventListener(\"click\", function() {\n",
    "              var name = document.querySelector(\"#name\").value;\n",
    "              var food = document.querySelector(\"#food\").value;\n",
    "\n",
    "              var table = document.querySelector(\"table tbody\");\n",
    "              var newRow = table.insertRow();\n",
    "\n",
    "              var nameCell = newRow.insertCell(0);\n",
    "              var foodCell = newRow.insertCell(1);\n",
    "\n",
    "              nameCell.innerHTML = name;\n",
    "              foodCell.innerHTML = food;\n",
    "            });\n",
    "          };\n",
    "        </script>\n",
    "\n",
    "\n",
    "\n",
    "        <script>\n",
    "        function addReview() {\n",
    "          var table = document.getElementById(\"reviewTable\").getElementsByTagName('tbody')[0];\n",
    "          var restaurantName = document.getElementsByName(\"restaurantName\")[0].value;\n",
    "          var review = document.getElementsByName(\"review\")[0].value;\n",
    "\n",
    "          var row = table.insertRow(-1);\n",
    "          var cell1 = row.insertCell(0);\n",
    "          var cell2 = row.insertCell(1);\n",
    "\n",
    "          cell1.innerHTML = restaurantName;\n",
    "          cell2.innerHTML = review;\n",
    "\n",
    "          document.getElementsByName(\"restaurantName\")[0].value = \"\";\n",
    "          document.getElementsByName(\"review\")[0].value = \"\";\n",
    "        }\n",
    "        </script>\n",
    "\n",
    "\n",
    "    \n",
    "    </head>\n",
    "    \n",
    "    \n",
    "    \n",
    "    <body>\n",
    "    \n",
    "        <header>\n",
    "            <img src=\"logo.png\" alt=\"logo.png\">                                             \n",
    "        </header>\n",
    "        \n",
    "        <main>\n",
    "            <h1> 맛있는거 먹자!! (at 영등포)</h1>\n",
    "            <h2> 🥘🍜수강생을 응원하기 위한 점심 메뉴 추천 서비스🍣🍖</h2>\n",
    "            <section style=\"margin-bottom: 50px;\">\n",
    "                <h3>같이 먹으러 가요!(실시간)</h3>\n",
    "                \n",
    "                <img src=\"7.png\" alt=\"7.png\" id='seven' width='480' height='832'>             \n",
    "                \n",
    "                <input type=\"text\" id=\"name\" placeholder=\"너 누구야!\">\n",
    "                <input type=\"text\" id=\"food\" placeholder=\"뭐 먹고 싶니?\">\n",
    "                <button id=\"addButton\">추가</button>                \n",
    "                \n",
    "                <table>\n",
    "                    <tbody>\n",
    "                        <tr>\n",
    "                            <th>이  름</th>\n",
    "                            <th>공  지</th>\n",
    "\n",
    "                        </tr>\n",
    "                        <tr>\n",
    "                            <td>손&nbsp;&nbsp;&nbsp;아&nbsp;&nbsp;&nbsp;</td>\n",
    "                            <td>반장은 꼭 적어!</td>\n",
    "                        </tr>\n",
    "                        <tr>\n",
    "                            <td>장인혁&nbsp;</td>\n",
    "                            <td>양꼬치 먹고픔</td>\n",
    "                        </tr>\n",
    "                        <tr>\n",
    "                            <td>장인혁&nbsp;</td>\n",
    "                            <td>양꼬치 먹고픔</td>\n",
    "                        </tr>  \n",
    "                        <tr>\n",
    "                            <td>미녀 삼총사&nbsp;</td>\n",
    "                            <td>술</td>\n",
    "                        </tr>                          \n",
    "                    </tbody>\n",
    "                </table>                \n",
    "\n",
    "            </section>\n",
    "            \n",
    "            \n",
    "            <section style=\"margin-bottom: 50px;\">\n",
    "            \n",
    "                <h3>학원 근처 맛집 추천</h3>\n",
    "                \n",
    "                <p>👉먹고 싶은 음식 스타일을 클릭하세요.</p>                \n",
    "                \n",
    "                <nav>\n",
    "                    <ol>\n",
    "                        <li><a href=\"#\" id=\"menu1\">한식</a></li>\n",
    "                        <section id=\"content1\" style=\"display:none;\">\n",
    "                            <table>\n",
    "                                <tbody>\n",
    "                                    <tr>\n",
    "                                        <th>식당명</th>\n",
    "                                        <th>추천 메뉴</th>\n",
    "\n",
    "                                    </tr>\n",
    "                                    <tr>\n",
    "                                        <td>박씨물고온제비</td>\n",
    "                                        <td>&nbsp;&nbsp;&nbsp;괜찮지만, 김치볶음밥, 김치찌개는 맵질이 주의!</td>\n",
    "                                    </tr>\n",
    "                                    <tr>\n",
    "                                        <td>곤지암소머리국밥</td>\n",
    "                                        <td>&nbsp;&nbsp;&nbsp;먹을만함</td>\n",
    "                                    </tr>\n",
    "                                    <tr>\n",
    "                                        <td>라밥</td>\n",
    "                                        <td>&nbsp;&nbsp;&nbsp;가성비! 김밥천국의 업그레이드판</td>\n",
    "                                    </tr>                                \n",
    "                                </tbody>\n",
    "                            </table>       \n",
    "                        </section>                        \n",
    "\n",
    "                        <li><a href=\"#\" id=\"menu2\">양식</a></li>\n",
    "                        <section id=\"content2\" style=\"display:none;\">\n",
    "                            <table>\n",
    "                                <tbody>\n",
    "                                    <tr>\n",
    "                                        <th>식당명</th>\n",
    "                                        <th>추천 메뉴</th>\n",
    "\n",
    "                                    </tr>\n",
    "                                    <tr>\n",
    "                                        <td>더플레이스</td>\n",
    "                                        <td>&nbsp;&nbsp;&nbsp;안가봤음</td>\n",
    "                                    </tr>\n",
    "                                    <tr>\n",
    "                                        <td>닥터로빈</td>\n",
    "                                        <td>&nbsp;&nbsp;&nbsp;안가봤음</td>\n",
    "                                    </tr>\n",
    "                                    <tr>\n",
    "                                        <td>영등포돈까스</td>\n",
    "                                        <td>&nbsp;&nbsp;&nbsp;안가봤음</td>\n",
    "                                    </tr>                                \n",
    "                                </tbody>\n",
    "                            </table>       \n",
    "                        </section>           \n",
    "\n",
    "                        <li><a href=\"#\" id=\"menu3\">일식</a></li>\n",
    "                        <section id=\"content3\" style=\"display:none;\">\n",
    "                            <table>\n",
    "                                <tbody>\n",
    "                                    <tr>\n",
    "                                        <th>식당명</th>\n",
    "                                        <th>추천 메뉴</th>\n",
    "\n",
    "                                    </tr>\n",
    "                                    <tr>\n",
    "                                        <td>스시나베</td>\n",
    "                                        <td>&nbsp;&nbsp;&nbsp;안가봤음</td>\n",
    "                                    </tr>\n",
    "                                    <tr>\n",
    "                                        <td>지로우</td>\n",
    "                                        <td>&nbsp;&nbsp;&nbsp;라멘보다 차슈덮밥이 더 괜찮고 가성비 좋음</td>\n",
    "                                    </tr>\n",
    "                                    <tr>\n",
    "                                        <td>코코로벤또</td>\n",
    "                                        <td>&nbsp;&nbsp;&nbsp;안가봤음</td>\n",
    "                                    </tr>                                \n",
    "                                </tbody>\n",
    "                            </table>       \n",
    "                        </section>           \n",
    "                        \n",
    "                        <li><a href=\"#\" id=\"menu3\">중식 (서비스 예정)</a></li>\n",
    "                        \n",
    "                        <li><a href=\"#\" id=\"menu3\">분식 (서비스 예정)</a></li>\n",
    "                        \n",
    "                    <ol>\n",
    "                </nav>\n",
    "                \n",
    "            </section>\n",
    "            \n",
    "            \n",
    "            <section style=\"margin-bottom: 60px;\">\n",
    "                <h3>한줄평!</h3>\n",
    "                <h4>익명 보장!!! (날먹하지 말고 꼭 평가할 것!)</h1>\n",
    "                <input type=\"text\" name=\"restaurantName\" placeholder=\"식당명\">\n",
    "                <input type=\"text\" name=\"review\" placeholder=\"한줄 평가!\">\n",
    "                <button onclick=\"addReview()\">추가</button>\n",
    "                \n",
    "                <table id=\"reviewTable\">\n",
    "                    <tbody>\n",
    "                        <tr>\n",
    "                            <th>식당명</th>\n",
    "                            <th>한줄평</th>\n",
    "\n",
    "                        </tr>\n",
    "                        <tr>\n",
    "                            <td>박씨물고온제비</td>\n",
    "                            <td>&nbsp;&nbsp;&nbsp;괜찮지만, 맵찔이는 김치볶음밥, 김치찌개 주의!</td>\n",
    "                        </tr>\n",
    "                        <tr>\n",
    "                            <td>지로우&nbsp;</td>\n",
    "                            <td>&nbsp;&nbsp;&nbsp;라멘보다 차슈덮밥이 더 괜찮고 가성비 좋음</td>\n",
    "                        </tr>\n",
    "                        <tr>\n",
    "                            <td>라밥</td>\n",
    "                            <td>&nbsp;&nbsp;&nbsp;가성비! 니가 생각이라는게 없는 놈이면 그냥 여기 가!</td>\n",
    "                        </tr>                                \n",
    "                    </tbody>\n",
    "                </table>                    \n",
    "                \n",
    "                \n",
    "                <p style=\"margin-top: 60px;\">여기는 Ubuntu의 정신으로 함께 만들어가는 공간입니다.</p>\n",
    "                \n",
    "            </section>\n",
    "            \n",
    "      \n",
    "        </main>\n",
    "        \n",
    "        <footer style=\"margin-top: -50px;\">\n",
    "            <p>Copyright ©️ 2023 LongPark Company. All rights reversed. hosting by hmkd24 </p>\n",
    "        </footer>\n",
    "        \n",
    "    </body>\n",
    "\n",
    "\n",
    "</html>\n",
    "''')"
   ]
  }
 ],
 "metadata": {
  "colab": {
   "provenance": []
  },
  "kernelspec": {
   "display_name": "Python 3 (ipykernel)",
   "language": "python",
   "name": "python3"
  },
  "language_info": {
   "codemirror_mode": {
    "name": "ipython",
    "version": 3
   },
   "file_extension": ".py",
   "mimetype": "text/x-python",
   "name": "python",
   "nbconvert_exporter": "python",
   "pygments_lexer": "ipython3",
   "version": "3.9.13"
  }
 },
 "nbformat": 4,
 "nbformat_minor": 5
}
