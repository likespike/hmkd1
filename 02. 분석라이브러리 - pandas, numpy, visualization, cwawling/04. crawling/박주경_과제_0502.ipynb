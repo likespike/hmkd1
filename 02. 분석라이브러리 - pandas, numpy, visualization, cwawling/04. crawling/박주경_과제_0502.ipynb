{
 "cells": [
  {
   "cell_type": "markdown",
   "id": "ee06917f",
   "metadata": {},
   "source": [
    "####  과제1_0502.\n",
    "url = \"https://n.news.naver.com/mnews/article/032/0003161880?sid=101\" 사이트에서 연예, 날씨, 스포츠, 프레미엄을 찾아서 출력하세요."
   ]
  },
  {
   "cell_type": "code",
   "execution_count": 14,
   "id": "c9489f30",
   "metadata": {},
   "outputs": [
    {
     "name": "stdout",
     "output_type": "stream",
     "text": [
      "연예\n",
      "스포츠\n",
      "날씨\n",
      "프리미엄\n"
     ]
    }
   ],
   "source": [
    "import requests as rq\n",
    "\n",
    "url = 'https://n.news.naver.com/mnews/article/032/0003161880?sid=101'\n",
    "\n",
    "headers = {\"User-Agent\":\"Mozilla/5.0 (Windows NT 10.0; Win64; x64) AppleWebKit/537.36 (KHTML, like Gecko) Chrome/96.0.4664.45 Safari/537.36\"}\n",
    "\n",
    "r = rq.get(url, headers=headers)\n",
    "html = r.text\n",
    "soup = BeautifulSoup(html,'lxml')\n",
    "soup\n",
    "\n",
    "texts = soup.find_all('span', {'class':'Nservice_subitem'})\n",
    "\n",
    "# texts = [text.get_text() for text in texts]\n",
    "\n",
    "for text in texts:\n",
    "    print(text.text.strip())"
   ]
  },
  {
   "cell_type": "markdown",
   "id": "f752d02a",
   "metadata": {},
   "source": [
    "#### 과제2._0502.\n",
    "구글에서 '빅데이터'라는 검색어로 검색한 후 검색 결과를 가져와서 출력하고 파일로 저장\n",
    "- 네이버에서 홈페이지에서 원하는 내용을 조회해서 그 결과물을 출력하고 파일에 저장"
   ]
  },
  {
   "cell_type": "code",
   "execution_count": 5,
   "id": "6ea7184e",
   "metadata": {},
   "outputs": [
    {
     "name": "stderr",
     "output_type": "stream",
     "text": [
      "C:\\Users\\h\\AppData\\Local\\Temp\\ipykernel_17532\\1689586067.py:6: DeprecationWarning: executable_path has been deprecated, please pass in a Service object\n",
      "  driver = webdriver.Chrome('c:/tool/chromedriver.exe')\n"
     ]
    },
    {
     "name": "stdout",
     "output_type": "stream",
     "text": [
      "빅데이터는 단지 데이터 양 때문이 아니라 특성의 다양성과 복잡성으로 인해 \"빅\"으로 정의됩니다. 일반적으로 빅데이터는 데이터를 수집, 관리, 처리하는 기존 데이터베이스의 용량을 초과합니다. 또한 빅데이터는 디지털로 모니터링할 수 있는 전 세계의 모든 사물과 장소에서 생성될 수 있습니다.\n"
     ]
    }
   ],
   "source": [
    "from selenium import webdriver\n",
    "from selenium.webdriver.common.keys import Keys\n",
    "from selenium.webdriver.common.by import By\n",
    "import time\n",
    "\n",
    "driver = webdriver.Chrome('c:/tool/chromedriver.exe')\n",
    "\n",
    "driver.get('https://www.google.com')\n",
    "\n",
    "search_box = driver.find_element(By.ID, 'APjFqb')\n",
    "search_box.send_keys('빅데이터')\n",
    "search_box.send_keys(Keys.RETURN)    # click() 대신 사용\n",
    "\n",
    "elements = driver.find_elements(By.XPATH, '//*[@id=\"Odp5De\"]/div/div[1]/div/div[1]/block-component/div/div[1]/div/div/div/div/div[1]/div/div/div/div/div[1]/div')\n",
    "\n",
    "for element in elements:\n",
    "    print(element.text)\n",
    "    print(element.text, file=open('test1.txt', 'a', encoding='utf-8'))\n",
    "\n",
    "\n",
    "time.sleep(3)\n",
    "driver.close()"
   ]
  },
  {
   "cell_type": "code",
   "execution_count": 9,
   "id": "62271621",
   "metadata": {},
   "outputs": [
    {
     "name": "stderr",
     "output_type": "stream",
     "text": [
      "C:\\Users\\h\\AppData\\Local\\Temp\\ipykernel_17532\\447972526.py:1: DeprecationWarning: executable_path has been deprecated, please pass in a Service object\n",
      "  driver = webdriver.Chrome('c:/tool/chromedriver.exe')\n"
     ]
    },
    {
     "name": "stdout",
     "output_type": "stream",
     "text": [
      "구글 떠난 AI 대부 “내 일생 후회한다…킬러로봇 탄생할 수도”\n"
     ]
    }
   ],
   "source": [
    "driver = webdriver.Chrome('c:/tool/chromedriver.exe')\n",
    "\n",
    "driver.get('https://www.naver.com')\n",
    "\n",
    "search_box = driver.find_element(By.ID, 'query')\n",
    "search_box.send_keys('인공지능 킬러 로봇')\n",
    "search_box.send_keys(Keys.RETURN)\n",
    "\n",
    "print(driver.find_element(By.XPATH, '//*[@id=\"sp_nws_all4\"]/div/div/a').text)\n",
    "print(driver.find_element(By.XPATH, '//*[@id=\"sp_nws_all4\"]/div/div/a').text, file=open('test1.txt', 'a', encoding='utf-8'))\n"
   ]
  },
  {
   "cell_type": "markdown",
   "id": "0c985187",
   "metadata": {},
   "source": [
    "#### 도전과제1_0502.\n",
    "네이버 로그인 화면으로 이동해서 ID와 PW를 입력하고 로그인을 실행하세요."
   ]
  },
  {
   "cell_type": "code",
   "execution_count": 2,
   "id": "6dcf0ed7",
   "metadata": {},
   "outputs": [
    {
     "name": "stderr",
     "output_type": "stream",
     "text": [
      "C:\\Users\\h\\AppData\\Local\\Temp\\ipykernel_11852\\696719081.py:11: DeprecationWarning: executable_path has been deprecated, please pass in a Service object\n",
      "  driver = webdriver.Chrome('c:/tool/chromedriver.exe')\n"
     ]
    },
    {
     "ename": "NoSuchWindowException",
     "evalue": "Message: no such window: target window already closed\nfrom unknown error: web view not found\n  (Session info: chrome=112.0.5615.138)\nStacktrace:\nBacktrace:\n\tGetHandleVerifier [0x010ADCE3+50899]\n\t(No symbol) [0x0103E111]\n\t(No symbol) [0x00F45588]\n\t(No symbol) [0x00F2D333]\n\t(No symbol) [0x00F8F4DB]\n\t(No symbol) [0x00F9DB33]\n\t(No symbol) [0x00F8B6F6]\n\t(No symbol) [0x00F67708]\n\t(No symbol) [0x00F6886D]\n\tGetHandleVerifier [0x01313EAE+2566302]\n\tGetHandleVerifier [0x013492B1+2784417]\n\tGetHandleVerifier [0x0134327C+2759788]\n\tGetHandleVerifier [0x01145740+672048]\n\t(No symbol) [0x01048872]\n\t(No symbol) [0x010441C8]\n\t(No symbol) [0x010442AB]\n\t(No symbol) [0x010371B7]\n\tBaseThreadInitThunk [0x76600099+25]\n\tRtlGetAppContainerNamedObjectPath [0x76EC7B6E+286]\n\tRtlGetAppContainerNamedObjectPath [0x76EC7B3E+238]\n",
     "output_type": "error",
     "traceback": [
      "\u001b[1;31m---------------------------------------------------------------------------\u001b[0m",
      "\u001b[1;31mNoSuchWindowException\u001b[0m                     Traceback (most recent call last)",
      "\u001b[1;32m~\\AppData\\Local\\Temp\\ipykernel_11852\\696719081.py\u001b[0m in \u001b[0;36m<module>\u001b[1;34m\u001b[0m\n\u001b[0;32m     24\u001b[0m \u001b[0mtime\u001b[0m\u001b[1;33m.\u001b[0m\u001b[0msleep\u001b[0m\u001b[1;33m(\u001b[0m\u001b[1;36m2\u001b[0m\u001b[1;33m)\u001b[0m\u001b[1;33m\u001b[0m\u001b[1;33m\u001b[0m\u001b[0m\n\u001b[0;32m     25\u001b[0m \u001b[1;33m\u001b[0m\u001b[0m\n\u001b[1;32m---> 26\u001b[1;33m \u001b[0melem_pw\u001b[0m \u001b[1;33m=\u001b[0m \u001b[0mdriver\u001b[0m\u001b[1;33m.\u001b[0m\u001b[0mfind_element\u001b[0m\u001b[1;33m(\u001b[0m\u001b[0mBy\u001b[0m\u001b[1;33m.\u001b[0m\u001b[0mID\u001b[0m\u001b[1;33m,\u001b[0m \u001b[1;34m'pw'\u001b[0m\u001b[1;33m)\u001b[0m\u001b[1;33m\u001b[0m\u001b[1;33m\u001b[0m\u001b[0m\n\u001b[0m\u001b[0;32m     27\u001b[0m \u001b[0melem_pw\u001b[0m\u001b[1;33m.\u001b[0m\u001b[0mclick\u001b[0m\u001b[1;33m(\u001b[0m\u001b[1;33m)\u001b[0m\u001b[1;33m\u001b[0m\u001b[1;33m\u001b[0m\u001b[0m\n\u001b[0;32m     28\u001b[0m \u001b[0mpyperclip\u001b[0m\u001b[1;33m.\u001b[0m\u001b[0mcopy\u001b[0m\u001b[1;33m(\u001b[0m\u001b[1;34m''\u001b[0m\u001b[1;33m)\u001b[0m\u001b[1;33m\u001b[0m\u001b[1;33m\u001b[0m\u001b[0m\n",
      "\u001b[1;32mC:\\app\\lib\\site-packages\\selenium\\webdriver\\remote\\webdriver.py\u001b[0m in \u001b[0;36mfind_element\u001b[1;34m(self, by, value)\u001b[0m\n\u001b[0;32m    855\u001b[0m             \u001b[0mvalue\u001b[0m \u001b[1;33m=\u001b[0m \u001b[1;34m'[name=\"%s\"]'\u001b[0m \u001b[1;33m%\u001b[0m \u001b[0mvalue\u001b[0m\u001b[1;33m\u001b[0m\u001b[1;33m\u001b[0m\u001b[0m\n\u001b[0;32m    856\u001b[0m \u001b[1;33m\u001b[0m\u001b[0m\n\u001b[1;32m--> 857\u001b[1;33m         return self.execute(Command.FIND_ELEMENT, {\n\u001b[0m\u001b[0;32m    858\u001b[0m             \u001b[1;34m'using'\u001b[0m\u001b[1;33m:\u001b[0m \u001b[0mby\u001b[0m\u001b[1;33m,\u001b[0m\u001b[1;33m\u001b[0m\u001b[1;33m\u001b[0m\u001b[0m\n\u001b[0;32m    859\u001b[0m             'value': value})['value']\n",
      "\u001b[1;32mC:\\app\\lib\\site-packages\\selenium\\webdriver\\remote\\webdriver.py\u001b[0m in \u001b[0;36mexecute\u001b[1;34m(self, driver_command, params)\u001b[0m\n\u001b[0;32m    433\u001b[0m         \u001b[0mresponse\u001b[0m \u001b[1;33m=\u001b[0m \u001b[0mself\u001b[0m\u001b[1;33m.\u001b[0m\u001b[0mcommand_executor\u001b[0m\u001b[1;33m.\u001b[0m\u001b[0mexecute\u001b[0m\u001b[1;33m(\u001b[0m\u001b[0mdriver_command\u001b[0m\u001b[1;33m,\u001b[0m \u001b[0mparams\u001b[0m\u001b[1;33m)\u001b[0m\u001b[1;33m\u001b[0m\u001b[1;33m\u001b[0m\u001b[0m\n\u001b[0;32m    434\u001b[0m         \u001b[1;32mif\u001b[0m \u001b[0mresponse\u001b[0m\u001b[1;33m:\u001b[0m\u001b[1;33m\u001b[0m\u001b[1;33m\u001b[0m\u001b[0m\n\u001b[1;32m--> 435\u001b[1;33m             \u001b[0mself\u001b[0m\u001b[1;33m.\u001b[0m\u001b[0merror_handler\u001b[0m\u001b[1;33m.\u001b[0m\u001b[0mcheck_response\u001b[0m\u001b[1;33m(\u001b[0m\u001b[0mresponse\u001b[0m\u001b[1;33m)\u001b[0m\u001b[1;33m\u001b[0m\u001b[1;33m\u001b[0m\u001b[0m\n\u001b[0m\u001b[0;32m    436\u001b[0m             response['value'] = self._unwrap_value(\n\u001b[0;32m    437\u001b[0m                 response.get('value', None))\n",
      "\u001b[1;32mC:\\app\\lib\\site-packages\\selenium\\webdriver\\remote\\errorhandler.py\u001b[0m in \u001b[0;36mcheck_response\u001b[1;34m(self, response)\u001b[0m\n\u001b[0;32m    245\u001b[0m                 \u001b[0malert_text\u001b[0m \u001b[1;33m=\u001b[0m \u001b[0mvalue\u001b[0m\u001b[1;33m[\u001b[0m\u001b[1;34m'alert'\u001b[0m\u001b[1;33m]\u001b[0m\u001b[1;33m.\u001b[0m\u001b[0mget\u001b[0m\u001b[1;33m(\u001b[0m\u001b[1;34m'text'\u001b[0m\u001b[1;33m)\u001b[0m\u001b[1;33m\u001b[0m\u001b[1;33m\u001b[0m\u001b[0m\n\u001b[0;32m    246\u001b[0m             \u001b[1;32mraise\u001b[0m \u001b[0mexception_class\u001b[0m\u001b[1;33m(\u001b[0m\u001b[0mmessage\u001b[0m\u001b[1;33m,\u001b[0m \u001b[0mscreen\u001b[0m\u001b[1;33m,\u001b[0m \u001b[0mstacktrace\u001b[0m\u001b[1;33m,\u001b[0m \u001b[0malert_text\u001b[0m\u001b[1;33m)\u001b[0m  \u001b[1;31m# type: ignore[call-arg]  # mypy is not smart enough here\u001b[0m\u001b[1;33m\u001b[0m\u001b[1;33m\u001b[0m\u001b[0m\n\u001b[1;32m--> 247\u001b[1;33m         \u001b[1;32mraise\u001b[0m \u001b[0mexception_class\u001b[0m\u001b[1;33m(\u001b[0m\u001b[0mmessage\u001b[0m\u001b[1;33m,\u001b[0m \u001b[0mscreen\u001b[0m\u001b[1;33m,\u001b[0m \u001b[0mstacktrace\u001b[0m\u001b[1;33m)\u001b[0m\u001b[1;33m\u001b[0m\u001b[1;33m\u001b[0m\u001b[0m\n\u001b[0m\u001b[0;32m    248\u001b[0m \u001b[1;33m\u001b[0m\u001b[0m\n\u001b[0;32m    249\u001b[0m     \u001b[1;32mdef\u001b[0m \u001b[0m_value_or_default\u001b[0m\u001b[1;33m(\u001b[0m\u001b[0mself\u001b[0m\u001b[1;33m,\u001b[0m \u001b[0mobj\u001b[0m\u001b[1;33m:\u001b[0m \u001b[0mMapping\u001b[0m\u001b[1;33m[\u001b[0m\u001b[0m_KT\u001b[0m\u001b[1;33m,\u001b[0m \u001b[0m_VT\u001b[0m\u001b[1;33m]\u001b[0m\u001b[1;33m,\u001b[0m \u001b[0mkey\u001b[0m\u001b[1;33m:\u001b[0m \u001b[0m_KT\u001b[0m\u001b[1;33m,\u001b[0m \u001b[0mdefault\u001b[0m\u001b[1;33m:\u001b[0m \u001b[0m_VT\u001b[0m\u001b[1;33m)\u001b[0m \u001b[1;33m->\u001b[0m \u001b[0m_VT\u001b[0m\u001b[1;33m:\u001b[0m\u001b[1;33m\u001b[0m\u001b[1;33m\u001b[0m\u001b[0m\n",
      "\u001b[1;31mNoSuchWindowException\u001b[0m: Message: no such window: target window already closed\nfrom unknown error: web view not found\n  (Session info: chrome=112.0.5615.138)\nStacktrace:\nBacktrace:\n\tGetHandleVerifier [0x010ADCE3+50899]\n\t(No symbol) [0x0103E111]\n\t(No symbol) [0x00F45588]\n\t(No symbol) [0x00F2D333]\n\t(No symbol) [0x00F8F4DB]\n\t(No symbol) [0x00F9DB33]\n\t(No symbol) [0x00F8B6F6]\n\t(No symbol) [0x00F67708]\n\t(No symbol) [0x00F6886D]\n\tGetHandleVerifier [0x01313EAE+2566302]\n\tGetHandleVerifier [0x013492B1+2784417]\n\tGetHandleVerifier [0x0134327C+2759788]\n\tGetHandleVerifier [0x01145740+672048]\n\t(No symbol) [0x01048872]\n\t(No symbol) [0x010441C8]\n\t(No symbol) [0x010442AB]\n\t(No symbol) [0x010371B7]\n\tBaseThreadInitThunk [0x76600099+25]\n\tRtlGetAppContainerNamedObjectPath [0x76EC7B6E+286]\n\tRtlGetAppContainerNamedObjectPath [0x76EC7B3E+238]\n"
     ]
    }
   ],
   "source": [
    "from selenium import webdriver\n",
    "\n",
    "from selenium.webdriver.common.keys import Keys\n",
    "from selenium.webdriver.common.by import By\n",
    "\n",
    "import pyautogui\n",
    "import pyperclip\n",
    "import time\n",
    "\n",
    "# 크롬 드라이버를 로드합니다.\n",
    "driver = webdriver.Chrome('c:/tool/chromedriver.exe')\n",
    "\n",
    "driver.implicitly_wait(5)\n",
    "driver.maximize_window()\n",
    "driver.get('https://nid.naver.com/nidlogin.login?mode=form&url=https%3A%2F%2Fwww.naver.com')\n",
    "\n",
    "# search_box = driver.find_element(By.CLASS_NAME, 'link_login')\n",
    "# search_box.send_keys(Keys.RETURN)\n",
    "\n",
    "elem_id = driver.find_element(By.ID, 'id')\n",
    "elem_id.click()\n",
    "pyperclip.copy('likespike')\n",
    "pyautogui.hotkey('ctrl', 'v')\n",
    "time.sleep(2)\n",
    "\n",
    "elem_pw = driver.find_element(By.ID, 'pw')\n",
    "elem_pw.click()\n",
    "pyperclip.copy('')\n",
    "pyautogui.hotkey('ctrl', 'v')\n",
    "time.sleep(2)\n",
    "\n",
    "driver.find_element(By.ID, 'log.login').click()"
   ]
  },
  {
   "cell_type": "markdown",
   "id": "ec77da82",
   "metadata": {},
   "source": [
    "#### 과제3_0502.\n",
    "URL = 'https://news.naver.com/main/main.naver?mode=LSD&mid=shm&sid1=102'사이트에 업로드되는 실시간 뉴스 제목을 가져와서 출력하세요. 단 사이트에 있는 뉴스와 일치해야 함"
   ]
  },
  {
   "cell_type": "code",
   "execution_count": 4,
   "id": "b9e110b3",
   "metadata": {},
   "outputs": [
    {
     "name": "stdout",
     "output_type": "stream",
     "text": [
      "日 위안부 피해 할머니 별세, 생존자 9명... 여가부 “가슴 아프다”\n",
      "일본군 '위안부' 피해자 할머니 별세…생존자 9명뿐\n",
      "일본군 위안부 피해자 할머니 별세…생존자 9명뿐\n",
      "위안부 피해 할머니 별세‥생존자 이제 9명\n",
      "‘국정농단’ 최서원 4차 형집행정지 연장 불허…4개월여만 재수감\n",
      "최서원 형집행정지 연장 불허, 곧 청주여자교도소 입소\n",
      "검찰, 최서원 4번째 형집행정지 연장 불허\n",
      "‘국정 농단’ 최서원, 재수감 된다…형집행정지 연장 불허\n",
      "[단독] 셀트리온 서정진 회장 혼외자 2명 친자로 인지\n",
      "서정진 혼외자 두 딸 법적자녀로…지배구조 우려, 주가는 '뚝'\n",
      "서정진 셀트리온 회장, 혼외자 2명 존재 알려져 \"11년 동안 父 못 봐\"\n",
      "서정진, 혼외자 두 딸 결국 호적에 올린다…법원 \"친자 인지\"\n",
      "최저임금위 첫 전원회의… 내년도 최저임금 만 원 넘을지 ‘관심’\n",
      "‘최저임금 1만원’은 더 이상 쟁점이 아니다[기자메모]\n",
      "최저임금위 첫 회의 재개…노동계-공익위원 날선 공방\n",
      "내년 최저임금 논의 겨우 시작…“1만2000원” vs “소상공인 망한다”\n",
      "숙명여대, 성신여대 등 1000원의 아침밥 확대\n",
      "울산대 ‘천 원의 아침밥’ 재개…“아침 굶지 마세요”\n",
      "서울시, '지하철 시위' 박경석 전장연 대표에 과태료 300만원 부과\n",
      "서울시, 전장연 지하철역 시위 과태료 300만원 부과\n",
      "한국노총, 정부지원금 26억원 못 받는다…\"노동탄압\" 반발\n",
      "한국노총 국고보조금 끊겼다…고용부 “회계 투명성 기준 미달”\n",
      "야산에 '억대 도박판'‥현실판 '타짜' 검거\n",
      "“아내가 도박 빠졌어요” 야산서 천막치고 억대판 벌이다가 검거\n",
      "\n",
      "\n",
      "\n",
      "\n",
      "\n",
      "\n",
      "\n",
      "\n",
      "\n",
      "\n",
      "\n",
      "\n",
      "\n",
      "\n",
      "\n",
      "\n"
     ]
    }
   ],
   "source": [
    "URL = 'https://news.naver.com/main/main.naver?mode=LSD&mid=shm&sid1=102'\n",
    "\n",
    "\n",
    "\n",
    "driver = webdriver.Chrome('C:/tool/chromedriver.exe')\n",
    "\n",
    "driver.get('https://news.naver.com/main/main.naver?mode=LSD&mid=shm&sid1=102')\n",
    "\n",
    "headlines = driver.find_elements(By.XPATH, '//*[@id=\"main_content\"]/div/div/div/div/div/ul/li/div/a')\n",
    "\n",
    "for headline in headlines:\n",
    "    print(headline.text)"
   ]
  },
  {
   "cell_type": "markdown",
   "id": "bf294a8b",
   "metadata": {},
   "source": [
    "#### 과제4_0502.\n",
    "'https://www.naver.com/'에서 뉴스 > 사회 카테고리 클릭하고 뉴스 제목을 출력하세요."
   ]
  },
  {
   "cell_type": "code",
   "execution_count": 11,
   "id": "d231809a",
   "metadata": {},
   "outputs": [
    {
     "name": "stderr",
     "output_type": "stream",
     "text": [
      "C:\\Users\\h\\AppData\\Local\\Temp\\ipykernel_17532\\2377012961.py:3: DeprecationWarning: executable_path has been deprecated, please pass in a Service object\n",
      "  driver = webdriver.Chrome('C:/tool/chromedriver.exe')\n"
     ]
    },
    {
     "name": "stdout",
     "output_type": "stream",
     "text": [
      "산 중턱에 대형텐트가?…‘타짜’ 일당 검거\n",
      "대형천막 설치하고 ‘산도박’ 벌여온 일당 56명 검거\n",
      "충남 야산에 ‘수상한 불빛’…도박장 운영 조폭 등 무더기 검거\n",
      "‘찐 노름꾼’인지 면접까지 본 억대 산도박…56명 무더기 적발\n",
      "‘백현동 로비스트’ 김인섭 구속기소…77억 수수 혐의\n",
      "'백현동 로비스트' 김인섭 구속기소…檢, 이재명 겨냥 수사망 더 좁혀지나\n",
      "\"77억 원 수수 혐의\"…檢 '백현동 로비스트' 김인섭 구속기소\n",
      "검찰, ‘백현동 로비스트’ 김인섭 구속 기소… 77억 수수 혐의\n",
      "경찰, 동탄 '전세금 피해' 사건 임대인 부부 소환조사\n",
      "'동탄 268채' 임대인 부부, 전세사기 혐의 첫 소환 조사\n",
      "'오피스텔 268채 소유' 동탄 전세사기 의혹 임대인 부부 소환 조사 중\n",
      "건축왕 압색·임대인 부부 소환…‘전세사기’ 전방위·고강도 수사\n",
      "건설노조 간부 3명 구속영장 기각… 분신 간부는 위독\n",
      "영장심사 앞두고 분신한 건설노조 간부 치료 중 숨져\n",
      "민주노총, 건설노조 간부 분신 사망에 투쟁수위 높여(종합)\n",
      "[속보] 영장심사 앞두고 분신한 건설노조 강원지부 간부 숨져\n",
      "\"함께 술 마시자\" 성관계 유도…미성년자라며 수억 갈취한 일당\n",
      "모텔에 나타나 \"내가 얘 오빤데\"…2억 뜯어낸 역할극\n",
      "송영길 “주변 사람 말고 나를 구속하라”…무산된 검찰 자진 출석 [속보영상]\n",
      "오지말란 檢 갔다가 퇴짜 맞은 송영길…민주당조차 \"황당하다\"\n",
      "5월 2일 뉴스워치[이시각헤드라인]\n",
      "검찰, TV조선 재승인 의혹 한상혁 불구속 기소\n",
      "“이달 27~29일 사흘 연속 쉰다”… 석탄일·성탄절 대체공휴일 확정\n",
      "부처님오신날·성탄절, ‘대체공휴일’ 적용 확정···오는 27일부터 ‘3일 연휴’\n",
      "\n",
      "\n",
      "\n",
      "\n",
      "\n",
      "\n",
      "\n",
      "\n",
      "\n",
      "\n",
      "\n",
      "\n",
      "\n",
      "\n",
      "\n",
      "\n"
     ]
    }
   ],
   "source": [
    "import time\n",
    "\n",
    "driver = webdriver.Chrome('C:/tool/chromedriver.exe')\n",
    "\n",
    "driver.get('https://www.naver.com/')\n",
    "\n",
    "news_box = driver.find_element(By.XPATH, '//*[@id=\"NM_FAVORITE\"]/div[1]/ul[2]/li[2]/a').click() \n",
    "society_box = driver.find_element(By.XPATH, '/html/body/section/header/div[2]/div/div/div[1]/div/div/ul/li[4]/a/span').click() \n",
    "\n",
    "time.sleep(1)    # 꼭 주어야 함\n",
    "\n",
    "headlines = driver.find_elements(By.XPATH, '//*[@id=\"main_content\"]/div/div/div/div/div/ul/li/div/a')\n",
    "\n",
    "for headline in headlines:\n",
    "    print(headline.text)"
   ]
  },
  {
   "cell_type": "markdown",
   "id": "ca0722f7",
   "metadata": {},
   "source": [
    "#### 과제5_0502.\n",
    "한빛출판네트워크 사이트에 로그인해서 마일리지 점수를 가져와서 출력하세요."
   ]
  },
  {
   "cell_type": "code",
   "execution_count": 7,
   "id": "af9ac332",
   "metadata": {},
   "outputs": [
    {
     "name": "stderr",
     "output_type": "stream",
     "text": [
      "C:\\Users\\h\\AppData\\Local\\Temp\\ipykernel_11852\\6207039.py:8: DeprecationWarning: executable_path has been deprecated, please pass in a Service object\n",
      "  driver = webdriver.Chrome('C:/tool/chromedriver.exe')\n"
     ]
    },
    {
     "name": "stdout",
     "output_type": "stream",
     "text": [
      "2,000\n",
      "2,000\n",
      "2,000\n"
     ]
    },
    {
     "data": {
      "text/plain": [
       "selenium.webdriver.remote.webelement.WebElement"
      ]
     },
     "execution_count": 7,
     "metadata": {},
     "output_type": "execute_result"
    }
   ],
   "source": [
    "from selenium import webdriver\n",
    "from selenium.webdriver.common.by import By\n",
    "from selenium.webdriver.common.keys import Keys\n",
    "import requests\n",
    "\n",
    "from bs4 import BeautifulSoup\n",
    "\n",
    "driver = webdriver.Chrome('C:/tool/chromedriver.exe')\n",
    "\n",
    "driver.get('https://www.hanbit.co.kr/')\n",
    "\n",
    "elem = driver.find_element(By.CLASS_NAME,'login')\n",
    "elem.click()\n",
    "\n",
    "id_box = driver.find_element(By.ID,'m_id')\n",
    "id_box.send_keys('likespike')\n",
    "pw_box = driver.find_element(By.ID,'m_passwd')\n",
    "pw_box.send_keys('Mygod710293!')\n",
    "login_button = driver.find_element(By.ID, 'login_btn')\n",
    "login_button.click()\n",
    "\n",
    "driver.find_element(By.CLASS_NAME, 'myhanbit').click()\n",
    "\n",
    "\n",
    "print(driver.find_element(By.XPATH, '//*[@id=\"container\"]/div/div[2]/dl[1]/dd/span').text)    #find_element는 리스트 객체를 반홤한다\n",
    "\n",
    "print(driver.find_elements(By.XPATH, '//*[@id=\"container\"]/div/div[2]/dl[1]/dd/span')[0].text)\n",
    "\n",
    "for element in driver.find_elements(By.XPATH, '//*[@id=\"container\"]/div/div[2]/dl[1]/dd/span'):\n",
    "    print(element.text)\n",
    "\n",
    "  \n",
    "    \n",
    "type(elem)    # WebElement 객체임, 요소의 값이나 속성 등을 가져오거나 조작할 수 있음"
   ]
  },
  {
   "cell_type": "code",
   "execution_count": 11,
   "id": "79d45a98",
   "metadata": {},
   "outputs": [
    {
     "name": "stdout",
     "output_type": "stream",
     "text": [
      "<selenium.webdriver.remote.webelement.WebElement (session=\"dc9735044b6d56e6d6e3bc31b2400203\", element=\"e3587e43-315f-4d06-af63-4546c7499ae9\")>\n"
     ]
    },
    {
     "data": {
      "text/plain": [
       "[<selenium.webdriver.remote.webelement.WebElement (session=\"dc9735044b6d56e6d6e3bc31b2400203\", element=\"e3587e43-315f-4d06-af63-4546c7499ae9\")>]"
      ]
     },
     "execution_count": 11,
     "metadata": {},
     "output_type": "execute_result"
    }
   ],
   "source": [
    "print(driver.find_element(By.XPATH, '//*[@id=\"container\"]/div/div[2]/dl[1]/dd/span'))\n",
    "\n",
    "driver.find_elements(By.XPATH, '//*[@id=\"container\"]/div/div[2]/dl[1]/dd/span')"
   ]
  },
  {
   "cell_type": "code",
   "execution_count": 13,
   "id": "69ffb171",
   "metadata": {},
   "outputs": [
    {
     "ename": "AttributeError",
     "evalue": "'list' object has no attribute 'text'",
     "output_type": "error",
     "traceback": [
      "\u001b[1;31m---------------------------------------------------------------------------\u001b[0m",
      "\u001b[1;31mAttributeError\u001b[0m                            Traceback (most recent call last)",
      "\u001b[1;32m~\\AppData\\Local\\Temp\\ipykernel_11852\\160100874.py\u001b[0m in \u001b[0;36m<module>\u001b[1;34m\u001b[0m\n\u001b[1;32m----> 1\u001b[1;33m \u001b[0mdriver\u001b[0m\u001b[1;33m.\u001b[0m\u001b[0mfind_elements\u001b[0m\u001b[1;33m(\u001b[0m\u001b[0mBy\u001b[0m\u001b[1;33m.\u001b[0m\u001b[0mXPATH\u001b[0m\u001b[1;33m,\u001b[0m \u001b[1;34m'//*[@id=\"container\"]/div/div[2]/dl[1]/dd/span'\u001b[0m\u001b[1;33m)\u001b[0m\u001b[1;33m.\u001b[0m\u001b[0mtext\u001b[0m\u001b[1;33m\u001b[0m\u001b[1;33m\u001b[0m\u001b[0m\n\u001b[0m",
      "\u001b[1;31mAttributeError\u001b[0m: 'list' object has no attribute 'text'"
     ]
    }
   ],
   "source": []
  }
 ],
 "metadata": {
  "kernelspec": {
   "display_name": "Python 3 (ipykernel)",
   "language": "python",
   "name": "python3"
  },
  "language_info": {
   "codemirror_mode": {
    "name": "ipython",
    "version": 3
   },
   "file_extension": ".py",
   "mimetype": "text/x-python",
   "name": "python",
   "nbconvert_exporter": "python",
   "pygments_lexer": "ipython3",
   "version": "3.9.13"
  }
 },
 "nbformat": 4,
 "nbformat_minor": 5
}
