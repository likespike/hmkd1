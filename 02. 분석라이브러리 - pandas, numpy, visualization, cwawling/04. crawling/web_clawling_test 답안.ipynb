{
 "cells": [
  {
   "cell_type": "markdown",
   "metadata": {},
   "source": [
    "Q1. url = \"http://finance.naver.com/marketindex/\"사이트에서 usd/krw 환율을 출력하세요."
   ]
  },
  {
   "cell_type": "code",
   "execution_count": 55,
   "metadata": {},
   "outputs": [],
   "source": [
    "# A.\n",
    "import selenium\n",
    "from selenium import webdriver\n",
    "from selenium.webdriver.common.keys import Keys\n",
    "from selenium.webdriver.common.by import By\n",
    "from time import sleep\n",
    "url = \"http://finance.naver.com/marketindex/\"\n",
    "path = 'C:/tool/chromedriver.exe'\n",
    "driver = webdriver.Chrome(path)\n",
    "driver.get(url)"
   ]
  },
  {
   "cell_type": "code",
   "execution_count": 56,
   "metadata": {},
   "outputs": [
    {
     "data": {
      "text/plain": [
       "'1,337.00'"
      ]
     },
     "execution_count": 56,
     "metadata": {},
     "output_type": "execute_result"
    }
   ],
   "source": [
    "# A.\n",
    "el = driver.find_element(By.XPATH,'//*[@id=\"exchangeList\"]/li[1]/a[1]/div/span[1]')\n",
    "el.text"
   ]
  },
  {
   "cell_type": "code",
   "execution_count": 62,
   "metadata": {},
   "outputs": [],
   "source": [
    "# 점검\n",
    "el1 = driver.find_elements(By.CLASS_NAME,'tit')\n",
    "# el2 = driver.find_elements(By.XPATH,'/html/body/div/table/tbody/tr/td')\n",
    "el1\n",
    "for i in el1:\n",
    "    print(f'{i.text}')"
   ]
  },
  {
   "cell_type": "code",
   "execution_count": null,
   "metadata": {},
   "outputs": [],
   "source": [
    "from bs4 import BeautifulSoup\n",
    "import urllib.request as req\n",
    "# HTML 가져오기\n",
    "url = \"http://finance.naver.com/marketindex/\"\n",
    "res = req.urlopen(url)\n",
    "# HTML 분석하기\n",
    "soup = BeautifulSoup(res, \"html.parser\")\n",
    "# 원하는 데이터 추출하기\n",
    "p1 = soup.select_one(\"#exchangeList > li.on > a.head.usd > div > span.value\").string\n",
    "print(\"usd/krw =\", p1)"
   ]
  },
  {
   "cell_type": "markdown",
   "metadata": {},
   "source": [
    "Q2. 'https://news.naver.com/main/main.nhn?mode=LSD&mid=shm&sid1=100'사이트에서 '기사목록'을 출력하세요 "
   ]
  },
  {
   "cell_type": "code",
   "execution_count": 64,
   "metadata": {},
   "outputs": [
    {
     "data": {
      "text/plain": [
       "'기사목록'"
      ]
     },
     "execution_count": 64,
     "metadata": {},
     "output_type": "execute_result"
    }
   ],
   "source": [
    "# A.\n",
    "import requests as rq\n",
    "from bs4 import BeautifulSoup\n",
    "headers = {\"User-Agent\":\"Mozilla/5.0 (Windows NT 10.0; Win64; x64) AppleWebKit/537.36 (KHTML, like Gecko) Chrome/96.0.4664.45 Safari/537.36\"}\n",
    "url = 'https://news.naver.com/main/main.nhn?mode=LSD&mid=shm&sid1=100'\n",
    "\n",
    "r = rq.get(url,headers=headers)\n",
    "html = r.text\n",
    "bs = BeautifulSoup(html,'lxml')\n",
    "# title = bs.find('h2',class_='h2').text\n",
    "title = bs.find('caption',{'class':'blind'}).text\n",
    "title"
   ]
  },
  {
   "cell_type": "markdown",
   "metadata": {},
   "source": [
    "Q3. 아래 html에서 아래와 같이 출력하세요."
   ]
  },
  {
   "cell_type": "code",
   "execution_count": null,
   "metadata": {},
   "outputs": [],
   "source": [
    "naver > http://www.naver.com\n",
    "daum > http://www.daum.net"
   ]
  },
  {
   "cell_type": "code",
   "execution_count": null,
   "metadata": {},
   "outputs": [],
   "source": [
    "html = \"\"\"\n",
    "<html><body>\n",
    "  <ul>\n",
    "    <li><a href=\"http://www.naver.com\">naver</a></li>\n",
    "    <li><a href=\"http://www.daum.net\">daum</a></li>\n",
    "  </ul>\n",
    "</body></html>\n",
    "\"\"\""
   ]
  },
  {
   "cell_type": "code",
   "execution_count": 65,
   "metadata": {},
   "outputs": [
    {
     "name": "stdout",
     "output_type": "stream",
     "text": [
      "naver > http://www.naver.com\n",
      "daum > http://www.daum.net\n"
     ]
    }
   ],
   "source": [
    "# A.\n",
    "from bs4 import BeautifulSoup\n",
    "\n",
    "html = \"\"\"\n",
    "<html><body>\n",
    "  <ul>\n",
    "    <li><a href=\"http://www.naver.com\">naver</a></li>\n",
    "    <li><a href=\"http://www.daum.net\">daum</a></li>\n",
    "  </ul>\n",
    "</body></html>\n",
    "\"\"\"\n",
    "soup = BeautifulSoup(html, 'lxml')\n",
    "links = soup.find_all('a')\n",
    "for a in links:\n",
    "    href = a.attrs['href']\n",
    "    text = a.string\n",
    "    print(text, \">\", href)"
   ]
  },
  {
   "cell_type": "markdown",
   "metadata": {},
   "source": [
    "Q4. 아래 html에서 다음을 수행하세요.\n",
    "- html에 들여쓰기를 적용하세요\n",
    "- 세가지 방법으로 텍스트를 출력하세요."
   ]
  },
  {
   "cell_type": "code",
   "execution_count": 1,
   "metadata": {},
   "outputs": [],
   "source": [
    "html = '''\n",
    "<html>\n",
    "<body>\n",
    "<div>\n",
    "Hello,world!\n",
    "</div>\n",
    "<div>\n",
    "<p>\n",
    "Hello,<b>world!</b>\n",
    "</p>\n",
    "</div>        \n",
    "</body>\n",
    "</html>\n",
    "'''"
   ]
  },
  {
   "cell_type": "code",
   "execution_count": 2,
   "metadata": {},
   "outputs": [
    {
     "name": "stdout",
     "output_type": "stream",
     "text": [
      "<html>\n",
      " <body>\n",
      "  <div>\n",
      "   Hello,world!\n",
      "  </div>\n",
      "  <div>\n",
      "   <p>\n",
      "    Hello,\n",
      "    <b>\n",
      "     world!\n",
      "    </b>\n",
      "   </p>\n",
      "  </div>\n",
      " </body>\n",
      "</html>\n",
      "\n"
     ]
    }
   ],
   "source": [
    "# A.\n",
    "from bs4 import BeautifulSoup\n",
    "\n",
    "soup = BeautifulSoup(html, 'html.parser')\n",
    "print(soup.prettify())"
   ]
  },
  {
   "cell_type": "code",
   "execution_count": null,
   "metadata": {},
   "outputs": [],
   "source": [
    "# A.\n",
    "print(soup.div.text)\n",
    "print(soup.div.get_text())\n",
    "print(soup.div.string)"
   ]
  },
  {
   "cell_type": "markdown",
   "metadata": {},
   "source": [
    "Q5. 정규표현식을 사용하여 아래와 같이 출력하세요."
   ]
  },
  {
   "cell_type": "code",
   "execution_count": null,
   "metadata": {},
   "outputs": [],
   "source": [
    "Hello,world!\n",
    "Hello,world!"
   ]
  },
  {
   "cell_type": "code",
   "execution_count": 6,
   "metadata": {},
   "outputs": [
    {
     "name": "stdout",
     "output_type": "stream",
     "text": [
      "<callable_iterator object at 0x000001FF8DDA5F10>\n",
      "Hello,world!\n",
      "Hello,world!\n"
     ]
    }
   ],
   "source": [
    "# A.\n",
    "import re\n",
    "bs = soup.body.text\n",
    "# print(bs)\n",
    "bs1 = re.finditer('.+', bs)\n",
    "print(bs1)\n",
    "for i in bs1:\n",
    "    print(i.group())"
   ]
  },
  {
   "cell_type": "markdown",
   "metadata": {},
   "source": [
    "Q6. 정규표현식을 사용하여 아래와 같이 출력하세요."
   ]
  },
  {
   "cell_type": "code",
   "execution_count": null,
   "metadata": {},
   "outputs": [],
   "source": [
    "Hello,world! Hello,world! "
   ]
  },
  {
   "cell_type": "code",
   "execution_count": 14,
   "metadata": {},
   "outputs": [
    {
     "name": "stdout",
     "output_type": "stream",
     "text": [
      "Hello,world! Hello,world! "
     ]
    }
   ],
   "source": [
    "# A.\n",
    "import re\n",
    "bs = soup.body.text\n",
    "bs1 = re.finditer('.+', bs)\n",
    "# print(bs1)\n",
    "for i in bs1:\n",
    "    print(i.group(), end=' ')"
   ]
  },
  {
   "cell_type": "markdown",
   "metadata": {},
   "source": [
    "Q7. html_doc에서 영어 텍스트만 출력하세요."
   ]
  },
  {
   "cell_type": "code",
   "execution_count": 74,
   "metadata": {},
   "outputs": [],
   "source": [
    "html_doc = \"\"\"<html><head><title>The Dormouse's story</title></head>\n",
    "<body>\n",
    "<div></div>\n",
    "<p class=\"title\"><b>The Dormouse's story</b></p>\n",
    "<p class=\"story\">Once upon a time there were three little sisters; and their names were\n",
    "<a href=\"http://example.com/elsie\" class=\"sister\" id=\"link1\">Elsie</a>,\n",
    "<a href=\"http://example.com/lacie\" class=\"sister\" id=\"link2\">Lacie</a> and\n",
    "<a href=\"http://example.com/tillie\" class=\"sister\" id=\"link3\">Tillie</a>;\n",
    "and they lived at the bottom of a well.</p>\n",
    "\n",
    "<p class=\"story\">...</p>\n",
    "\"\"\""
   ]
  },
  {
   "cell_type": "code",
   "execution_count": 77,
   "metadata": {},
   "outputs": [
    {
     "data": {
      "text/plain": [
       "'html head title The Dormouse s story title head body div div p class title b The Dormouse s story b p p class story Once upon a time there were three little sisters and their names were a class sister href http example com elsie id link Elsie a a class sister href http example com lacie id link Lacie a and a class sister href http example com tillie id link Tillie a and they lived at the bottom of a well p p class story p body html'"
      ]
     },
     "execution_count": 77,
     "metadata": {},
     "output_type": "execute_result"
    }
   ],
   "source": [
    "# A.\n",
    "soup = BeautifulSoup(html_doc, 'html.parser')\n",
    "bs = str(soup)\n",
    "p = re.findall('[a-zA-Z]+',bs) # 정규표현식\n",
    "m = ' '.join(p)\n",
    "m"
   ]
  },
  {
   "cell_type": "markdown",
   "metadata": {},
   "source": [
    "Q8. 아래 텍스트에서 개행을 정규표현식을 사용해서 제거한 후 출력하세요."
   ]
  },
  {
   "cell_type": "code",
   "execution_count": 78,
   "metadata": {},
   "outputs": [
    {
     "name": "stdout",
     "output_type": "stream",
     "text": [
      "The Dormouse's story\n",
      "\n",
      "\n",
      "The Dormouse's story\n",
      "Once upon a time there were three little sisters; and their names were\n",
      "Elsie,\n",
      "Lacie and\n",
      "Tillie;\n",
      "and they lived at the bottom of a well.\n",
      "...\n",
      "\n"
     ]
    }
   ],
   "source": [
    "print(soup.get_text())"
   ]
  },
  {
   "cell_type": "code",
   "execution_count": 79,
   "metadata": {},
   "outputs": [
    {
     "name": "stdout",
     "output_type": "stream",
     "text": [
      "The Dormouse's story The Dormouse's story Once upon a time there were three little sisters; and their names were Elsie, Lacie and Tillie; and they lived at the bottom of a well. ... \n"
     ]
    }
   ],
   "source": [
    "# A.\n",
    "import re\n",
    "texts = re.findall('[^\\s]+', soup.text)\n",
    "li =''\n",
    "for text in texts:\n",
    "    li += text\n",
    "    li += ' '\n",
    "print(li)"
   ]
  },
  {
   "cell_type": "code",
   "execution_count": 80,
   "metadata": {},
   "outputs": [
    {
     "data": {
      "text/plain": [
       "\"The Dormouse's story The Dormouse's story Once upon a time there were three little sisters; and their names were Elsie, Lacie and Tillie; and they lived at the bottom of a well. ... \""
      ]
     },
     "execution_count": 80,
     "metadata": {},
     "output_type": "execute_result"
    }
   ],
   "source": [
    "# A.\n",
    "re.sub('\\n','',li)"
   ]
  },
  {
   "cell_type": "markdown",
   "metadata": {},
   "source": [
    "Q9. url = 'https://news.naver.com/main/main.nhn?mode=LSD&mid=shm&sid1=100' 사이트에서 p태그가 있는 데이터를 3개만 출력하세요"
   ]
  },
  {
   "cell_type": "code",
   "execution_count": 3,
   "metadata": {},
   "outputs": [
    {
     "name": "stderr",
     "output_type": "stream",
     "text": [
      "C:\\Users\\h\\anaconda3\\lib\\site-packages\\requests\\__init__.py:89: RequestsDependencyWarning: urllib3 (1.26.15) or chardet (3.0.4) doesn't match a supported version!\n",
      "  warnings.warn(\"urllib3 ({}) or chardet ({}) doesn't match a supported \"\n"
     ]
    },
    {
     "name": "stdout",
     "output_type": "stream",
     "text": [
      "[<p class=\"airs_info_inner\"><i class=\"airs_info_icon_airs\">AiRS</i><span class=\"airs_info_text\"><b>추천</b>으로 구성된 뉴스를 제공합니다.</span></p>, <p class=\"section_sub_txt\">오후 12시~오후 1시까지 집계한 결과입니다.</p>, <p class=\"copyright\">본 콘텐츠의 저작권은 제공처 또는 네이버에 있으며 이를 무단 이용하는 경우 저작권법 등에 따라 법적책임을 질 수 있습니다.</p>]\n"
     ]
    }
   ],
   "source": [
    "from bs4 import BeautifulSoup\n",
    "import requests as rq\n",
    "\n",
    "headers = {\"User-Agent\":\"Mozilla/5.0 (Windows NT 10.0; Win64; x64) AppleWebKit/537.36 (KHTML, like Gecko) Chrome/96.0.4664.45 Safari/537.36\"}\n",
    "url = 'https://news.naver.com/main/main.nhn?mode=LSD&mid=shm&sid1=100'\n",
    "r = rq.get(url,headers=headers)\n",
    "html = r.text\n",
    "bs = BeautifulSoup(html, 'lxml')\n",
    "\n",
    "print(bs.find_all('p', limit=3))"
   ]
  },
  {
   "cell_type": "markdown",
   "metadata": {},
   "source": [
    "Q10. url에서 데이터를 가져와서 불필요한 스페이스를 제거한 후 한글만 출력하세요.\n",
    "\n",
    "url = 'https://news.naver.com/main/main.nhn?mode=LSD&mid=shm&sid1=100'"
   ]
  },
  {
   "cell_type": "code",
   "execution_count": 81,
   "metadata": {},
   "outputs": [
    {
     "data": {
      "text/plain": [
       "'정치 네이버 뉴스 국회 행정 국방 외교 등 정치 분야 뉴스 제공 네이버 정치 네이버 뉴스 네이버 뉴스 네이버 뉴스 국회 행정 국방 외교 등 정치 분야 뉴스 제공 정치 홈 네이버 뉴스 광고적용 태그 추가 메인 메뉴로 바로가기 본문으로 바로가기 검색 뉴스 연예 스포츠 날씨 프리미엄 언론사별 정치 선택됨 경제 사회 생활 문화 과학 세계 랭킹 신문보기 오피니언 팩트체크 전체 언론사 전체 언론사 뉴스스탠드 뉴스스탠드 라이브러리 라이브러리 수 전체 언론사 전체 언론사 뉴스스탠드 뉴스스탠드 라이브러리 라이브러리 기사목록 정치 대통령실 국회 정당 북한 행정 국방 외교 정치일반 언론사 구독하기 네이버 프리미엄콘텐츠 안내 헤드라인 뉴스 헤드라인 뉴스와 각 기사묶음 타이틀은 기사 내용을 기반으로 자동 추출 됩니다 닫기 김기현의 선 긋기 윤리위에 태영호 녹취록 도 다뤄 달라 유사 사건 재발 시 윤리위 통해 단호히 대처 당 기강 잡기 나서나 김기현 국민의힘 대표가 태영호 최고위원의 대통령실 공천 개입 녹취록 논란 건도 당 시사저널 서울경제 김기현 태영호 녹취록 논란 등 윤리위 병합판단 요청 조선일보 김기현 당 윤리위에 태영호 녹취록 논란도 함께 다뤄 달라 요청 매일신문 김기현 태영호 관련 일련 사건들 윤리위 병합 판단 요청 개의 관련뉴스 더보기 너희 대통령 노래 잘하더라 파이 선물받은 한인 뿌듯했어요 윤석열 대통령이 미국 국빈방문 당시 만찬에서 아메리칸 파이 를 부른 이후 워싱턴 이웃과 인연을 맺게 됐다는 한인의 소식이 파이낸셜뉴스 아시아경제 너희 대통령 노래 잘하더라 파이 선물받은 한인 중앙일보 너희 대통령 노래 잘하더라 이웃 하자 파이 선물받은 한인 세계일보 너희 대통령 노래 잘하더라 이웃에 파이 받은 한인 대통령실 진심 통한 것 개의 관련뉴스 더보기 대통령 와 회원국 중심 연대 협력 새 모델 만들어야 윤석열 대통령은 일 아시아개발은행 회원국들이 중심이 되어 국가 간 연대와 협력의 새로운 모델을 만들어 나가기를 기대한다 고 말했다 윤석열 이데일리 서울경제 서울에 기후 싱크탱크 세운다 내년 개소 중심으로 연대 협력 새 모델 만들어야 서울경제 속보 공동으로 기후기술허브 설치 민관 함께 문제 해결하는 플랫폼 개의 관련뉴스 더보기 홍준표 중대범죄 혐의자 이재명 안 만나는 건 불통 아닌 딜 오해 때문 홍준표 대구시장이 윤석열 대통령이 이재명 더불어민주당 대표와 만나지 않는 것에 대해 불통 이 아니라 딜 거래 을 한다 는 오해를 피하기 서울경제 홍준표 이재명 만나지 않는 이유는 중대범죄 딜 오해 때문 홍준표 불통 아냐 이재명 안 만나는 이유는 녹취록 중앙일보 홍준표 이재명 안 만나는 건 딜 오해 때문 불통 아니다 개의 관련뉴스 더보기 이진복 태영호 공천 녹취록 에 당무개입 한 것 없다 종합 기사내용 요약 한일 관계 언급 여부에 전혀 그런 얘기 생각 안난다 강조 공천 문제 없다 발언 여부도 전혀 그런 애기 안했다 반박 서울 뉴시스 뉴시스 태영호 녹취록 보도에 믿기 어려운 충격적인 뉴스 파장 일파만파 이진복 대통령실 정무수석이 국민의힘 최고위원인 태영호 의원에게 총선 공천을 볼모로 대일 외교 옹호 압박을 가한 정황이 담긴 녹취록이 공개돼 파문이다 태 미디어오늘 개의 관련뉴스 더보기 방통위 상임위원에 이상인 변호사 임명 윤석열 대통령이 지난달 임기 만료로 퇴임한 김창룡 전 방송통신위원회 상임위원 후임으로 법무법인 오늘 대표변호사를 지낸 이상인 변호사를 임명했다 방통위 대통령 몫 방통위원에 이상인 변호사 임명 윤석열 대통령이 임기 만료로 지난달 퇴임한 김창룡 전 방송통신위원회 상임위원 차관급 후임으로 이상인 변호사를 일 임명했다 이 신임 위원은 서 한국일보 개의 관련뉴스 더보기 돈봉투 의혹 윤관석 이성만 결단할까 지도부 탈당 권유중 더불어민주당 지도부가 이른바 돈 봉투 의혹 에 연루된 윤관석 이성만 의원에게 탈당을 권유한 것으로 알려지면서 두 의원이 결단을 내릴지 주목된다 윤 의 머니투데이 속보 민주 돈봉투 의혹 윤관석 이성만 탈당 결정 더불어민주당 년 전당대회 돈 봉투 의혹에 연루된 윤관석 이성만 의원이 일 자진 탈당 의사를 밝혔다 윤 이 의원은 이날 국회에서 열린 비공개 매일경제 개의 관련뉴스 더보기 상습 임금체불한 사업주 신용대출 막는다 앞으로 노동자에게 상습적으로 임금을 주지 않는 사업주는 형사처벌은 물론 신용대출이 안 되는 등 경제적 불이익을 받게 됩니다 고용노동부와 국민의힘은 오늘 매년 조원 임금체불 뿌리뽑는다 상습체불시 은행 통보 조 억원 작년 한 해 전국 사업주들이 만 근로자들에게서 떼먹은 체불 임금이다 계속되는 단속에도 매년 체불 피해가 끊이지 않자 정부는 상습적 중앙일보 개의 관련뉴스 더보기 윤 대통령 문 전 대통령 중국 혼밥 논란 소환 친중 소용없어 윤석열 대통령이 지난 일 여당 지도부와 한 만찬에서 년 월 문재인 당시 대통령이 중국을 방문했을 때 끼 중 끼만 중국 지도부와 식사한 한겨레 윤 대통령 여 지도부 만찬서 문 전 대통령 중국 방문 당시 혼밥 에 외교적 결례 윤석열 대통령이 국민의힘 지도부와 지난 일 만찬에서 문재인 전 대통령의 년 중국 방문 당시 이른바 혼밥 에 대해 언급한 것으로 오늘 일 알 개의 관련뉴스 더보기 돈봉투 의혹 윤관석 이성만 탈당 이재명 내로남불 종합 전당대회 돈봉투 의혹 핵심인물로 지목된 윤관석 이성만 더불어민주당 의원이 논란 끝에 일 탈당을 결정했다 이재명 대표는 본인들의 결단임을 강조했지만 아이뉴스 김병민 자진탈당 윤관석 이성만 언제 복당하나 전형적 꼬리자르기 더불어민주당 돈봉투 의혹의 핵심 인물인 윤관석 이성만 의원이 일 자진탈당을 선언한 데 대해 김병민 국민의힘 최고위원이 전형적 꼬리자르기이자 국민기 아시아경제 개의 관련뉴스 더보기 세계 최강국과 년 동맹 고맙다고 말할 줄 아는게 국격 방미 후 첫 국무회의 한미동맹 새로운 변화 시작 안보 산업 기술 문화 정보 다섯개 분야서 협력 확대 정부 겨냥 가짜 평화 아닌 압도적 힘에 의한 매일경제 동영상기사 동맹 회 언급 방미성과 직접 밝힌 역사 자랑스럽게 생각을 윤석열 대통령이 또 한 번 정공법을 택했다 윤 대통령은 일 오전 생중계된 분 길이의 국무회의 모두발언으로 미국 국빈 방문의 성과를 직접 설명했다 중앙일보 개의 관련뉴스 더보기 동영상기사 기시다 정상회담서 역사인식 계승 밝힐 듯 진전 있을까 기시다 후미오 일본 총리가 오는 일 윤석열 대통령과 정상회담을 하기로 하면서 정부의 강제징용 해법에 대해 일본 쪽의 성의 있는 호응이 있을지가 관심사입 연합뉴스 급해진 기시다 조기 방한 동북아 외교 주도권 잡았다 일본이 급해졌다 기시다 후미오 일본 총리가 오는 일 박 일 일정으로 한국을 실무방문한다 당초 예상보다 앞당겨진 일정이다 연이은 한일 한미정 머니투데이 개의 관련뉴스 더보기 전용기 의원 독도 방문 항의에 외교부 부당한 주장 일축 전용기 더불어민주당 의원의 독도 방문에 일본측이 항의하자 외교부는 일본 측의 부당한 주장은 외교채널을 통해 일축했다 고 일 밝혔다 외교부는 독도는 헤럴드경제 의원 독도 방문 매우 유감 수용 못해 일본 정부가 더불어민주당 전용기 의원이 독도를 방문한 데 대해 우리 정부에 항의했습니다 일본 외무성은 일본이 사전 항의와 중단을 요구했음에도 한국 국회 의원이 독도에 상륙한 것이 확인됐다며 이같이 밝혔습니 개의 관련뉴스 더보기 태영호 악의적 왜곡보도 유감 불법녹음 후원금 명단유출 법적책임 묻겠다 국민의힘 태영호 최고위원이 지방선거 공천 대가성 정치후원금을 받았다는 의혹에 대해 뒷거래 공천 의혹은 너무 황당해 말이 나오지 않는다 고 호소했다 부산일보 태영호 녹취록에 쪼개기 후원 의혹 까지 징계에 영향 뉴스쏙 속 필요한 뉴스만 쏙 뽑아 속 도감 있게 전달해드리는 뉴스쏙 속 입니다 방송 김덕기의아침뉴스 월 일 채널 표준 노컷뉴스 개의 관련뉴스 더보기 국민의힘 당원 만여 명 김재원 징계 반대 요구서 제출 국민의힘 중앙윤리위원회가 김재원 최고위원에 대한 징계 여부를 논의하는 가운데 당원 만여 명이 이를 반대하는 요구서를 오늘 일 제출했습니다 송세달 김재원 징계 정당성 없어 대구 당원들 반대 요구서 제출 오는 일 국민의힘 중앙윤리위원회가 김재원 최고위원에 대한 징계 여부를 결정할 예정인 가운데 대구 지역 당원들이 이를 반대하는 요구서를 제출했다 이들 이데일리 개의 관련뉴스 더보기 선거제 개편 국민 원하는 방향은 정개특위 일 일 공론화 국회 정치개혁특별위원회 정개특위 가 내년 총선을 앞두고 추진하는 선거제도 개편 과 관련해 시민 대상의 숙의 토론회 를 개최한다 정치권이 주도하는 선거제 개혁 논의에서 유권자인 국민들의 의견이 얼마나 반 아시아경제 국회 정개특위 선거제 개편 인 공론조사 실시 생중계 국회 정치개혁특별위원회 정개특위 는 오는 일과 일 양일간 명의 시민참여단을 대상으로 국회의원 선거제도 개편에 대한 공론조사를 실시하고 개의 관련뉴스 더보기 헤드라인 더보기 연재보기 기자수첩 정치 바이든의 뜬금 호 미국의 반도체법 인플레이션감축법으로 불안해하는 한국 기업들을 안심시킬 메시지를 달라 조 바이든 미국 대통령은 윤석열 대통령과 데일리안 데일리안 한미동맹 주년 국빈 방미 당당한 국익 외교 펼치길 데일리안 마약도 아닌데 민주당 진영 성비위는 생활체육 아니다 데일리안 중진들의 경고 김기현은 지금 뭣을 하고 있나 뉴스 더보기 추천 으로 구성된 뉴스를 제공합니다 언론사별 가장 많이 본 뉴스 안내 각 언론사의 가장 많이 본 기사 건을 제공합니다 닫기 오후 시 오후 시까지 집계한 결과입니다 몸에 좋은 줄 알고 먹었는데 능이버섯 정체에 경악 한국경제 여기서 주님 지켜라 검찰 정명석 성폭행 도 월 만원에 대중교통 무제한으로 이용 가능 만명 아시아경제 외상 부탁한 임신부 입금 약속 지키자 알바 자리 준 매일경제 수사 협조 하겠다던 송영길 초기화된 휴대전화 검찰에 제출 조선 박은빈 울고불고 김갑수 배우들 감사 압박 로 인사 동아일보 대한항공 분기 영업이익 억원 전년 동기 대비 조선비즈 태안 여중생 학교폭력 영상 온라인 유포 경찰 수사 연합뉴스 서동주 서세원 발인날 연이은 비보 클로이도 세상 떠났다 뉴스 한강변 층이요 층 하시죠 반포 재건축 초고층 헤럴드경제 신부 이어 목사들 윤석열 운명 년 만에 끝 전국 기도 한겨레 성욕만 푸는 취급 남친에 문자만 번 대 중앙일보 공무원 인기 떨어졌다 완전자본잠식 빠진 에듀윌 이데일리 어이없다 부인하더니 황제수영 사실로 고개 숙인 파주시장 한국일보 동백전 캐시백 최대 받는다 기본 에 가맹점 추가 부산일보 혼밥 끼 들췄다 이런 외교 결례가 어딨나 국민일보 국내 엠폭스 확진자 중 가 대 남자 익 주님을 지키며 잠을 자라 정명석 성폭행 도운 경향신문 완공 개월 앞두고 와르르 입주 예정자들 분통 한국경제 동영상기사 분 만에 억 꽂혔다 임창정 계좌 공개하며 결 대출 늘린 카카오뱅크 역대 최대 성적표 비즈워치 물고기인줄 알았는데 낚싯바늘에 시신이 걸려 올라왔다 파이낸셜뉴스 의원 독도 방문에 윤석열 정권에 대한 반발이냐 이 노컷뉴스 속보 녹취 파문 태영호 이진복과 공천 대화 없었다 강원일보 년 만에 슈퍼 엘니뇨 온다 한반도 역대급 폭우 또 쏟 머니투데이 크림 너머 러 본토서 대폭발 숨통 옥죄며 간보는 우크라 서울신문 한동훈 홍준표 오세훈 원희룡 디지털타임스 류호정 김건희 직격 제발 공식시스템 안에서 활동하라 조세일보 이코노미 승객도 침대에 누워서 간다 항공료 얼마 집 어디에 살까 국민연금 상위 은퇴부자의 고 조선일보 타이완서 숨진 여친 짐부터 한국에 보낸 남친은 묵묵부답 동영상기사 일본 한국 의원 독도 방문에 독도는 일본 땅 일인데 왜 사흘이라고 하세요 문해력 논란 또 터졌다 데일리안 수도권 퍼붓는다 어린이날 연휴 전국 비폭탄 서울경제 동영상기사 날씨 중부 초여름 더위 내일 전국 비소식 연합뉴스 배고파서 배달 외상 요청 대 임신부 입금 약속 지 세계일보 장예찬 음주운전 사기 불륜 당 얼씬도 안 돼 대놓 매일신문 돈 내고 보세요 부부관계 찍어 올려 억 수익낸 부부 경제학자의 경고 정부 년 한국 경제 길 잃어 진짜 프레시안 보복여행 떠난 여행객들 욕설 몸싸움 민폐 화장실 전자신문 뷰티 유튜버 효진조 나도 년 전 에 속을 뻔 뉴시스 온가족 뛰어들어 월수 천만원 우리가 버는 돈은 특별 오마이뉴스 창정이형 믿어 발 주가폭락 종목 억 매수 문화일보 최근 혈당이 높아졌다면 착한 탄수화물 식품 코메디닷컴 지지율 돌파 기시다 총리 이번엔 여론 달래기 시사저널 대전 스쿨존 승아양 친 대 음주운전 상습범 아이뉴스 어린이날 연휴 물폭탄 수도권 채널 렉스턴 실내 화면 커졌지만 카플레이 안드로이드 오토 블로터 퇴근길 대기업 카카오 아이디어 베끼기 논란 디지털데일리 윤석열 정부 년 언론자유지수 후퇴 한국 언론 정부 압 미디어오늘 사는 게 행복하더라 임영웅을 사랑하는 이들 시사 중년 남녀 연쇄살인 권재찬 심도 사형 구형 죽어 용 더팩트 모빌리티 붙은 첫번째 렉스턴 뉴 아레나 쿨멘 세기의 기업 사냥꾼 에 칼 들이댄 세계 최고 공매도 전 한경비즈니스 영상 마음이 아프신가요 국립 김천 치유의 숲 대구 성 인물 논란 정면돌파 보는 건 불법 아냐 여성신문 김현아 돈봉투 의혹 에 국민의힘 년 만에 뒷북 감사 뉴스타파 언제나 실명 위험 콘택트렌즈 쓸 때 이것 만은 꼭 농민신문 여론조사 차기 대권주자 진보 이재명 보수 유승 광주방송 또 오너리스크 셀트리온그룹주 이번엔 서정진 회장 매경이코노미 선수도 힘든 급 루트 끝낸 하하 월간 산 국내 엠폭스 확진 대다수 대 남성 대부분 익명인 동아사이언스 속보 대한항공 분기 영업이익 억 전년대비 머니 임창정 라덕연 대표와 골프장 계약자리도 동행 이코노미스트 오빠 송영길 벼랑 끝에 내몬 이정근 풀스토리 영상 신동아 체중 줄이고 싶은 여성 이 기간 에 운동 해보세요 헬스조선 코리아헤럴드 검찰 한상혁 불구속 기소 조선 재승인 고의감점 관여 기자협회보 정명석 거부하면 지옥간다 성폭행 조력자들 주간조선 속보 태영호 단 하나 오점 없이 당당해 공천 녹취 강원도민일보 엄마 편이야 아빠 편이야 묻지 마세요 한겨레 코리아중앙데일리 보험은 세 만기로 설계하세요 주간동아 강간 경험해보라 며 즉흥 연기 지시 청운대 교수 성희롱 대전일보 호위무사 이용 김건희 여사 활동적이지 않고 온순 나는 신이다 재현은 왜 문제가 되는가 일다 연산군의 탕춘대 가 왜 세계유산감일까 이기환의 주간경향 외로움 담배 개비 피운 만큼 해롭다 사망 질병 전주 국힘 청년정책 호가 토익 유효기간 연장이라고 국제신문 어린이날 나들이 어쩌나 일밤부터 호우특보 수준 쏟아진 청주방송 국힘 청년정책 호가 토익 유효기간 연장이라고 국제신문 어린이날 나들이 어쩌나 일밤부터 호우특보 수준 쏟아진 청주방송 서정진 혼외 자녀 친모 회사 곳 계열사로 추가 셀트 경기일보 년 만에 론칭 리버버스 졸속과 땜빵 사이 리즈 더스쿠프 스시테러 정신 못 차렸나 일본 방송인 망원시장서 침 묻 레이디경향 더보기 분야별 주요뉴스 태영호 날 죽이려는 집단린치 각 방면에서 펼쳐져 태영호 날 죽이려는 집단린치 각 방면에서 펼쳐져 뉴스 민주 윤관석 이성만 돈봉투 의혹 에 탈당 결정 뉴스 민주 윤관석 이성만 돈봉투 의혹 에 탈당 결정 인도 태평양 개발에 적극 기여 협력적 공급망 구축 종합 인도 태평양 개발에 적극 기여 협력적 공급망 구축 종합 한국 시장서 닭강정 침 테러 한 개그맨 서 난타 당했다 한국 시장서 닭강정 침 테러 한 개그맨 서 난타 당했다 아기가 자서 조용히 좀 부탁에 옆집 이웃 명 살해 아기가 자서 조용히 좀 부탁에 옆집 이웃 명 살해 단독 임대인이 인 전세사기 피해자 찾습니다 단독 임대인이 인 전세사기 피해자 찾습니다 이걸 여기서 볼 줄이야 정용진 파격 실험 통했다 송영찬의 신통유통 이걸 여기서 볼 줄이야 정용진 파격 실험 통했다 송영찬의 신통유통 첫발 뗀 윤 대통령 공약 산업은행 부산이전 첫발 뗀 윤 대통령 공약 산업은행 부산이전 에이서 공격적 가격으로 년 안에 시장 위 브랜드 진입 에이서 공격적 가격으로 년 안에 시장 위 브랜드 진입 원치 않는 위치추적 막는다 구글 애플 협력 원치 않는 위치추적 막는다 구글 애플 협력 간호법에 둘로 쪼개진 의료계 거부권에 촉각 간호법에 둘로 쪼개진 의료계 거부권에 촉각 국내 엠폭스 환자 는 익명 접촉 일부터 고위험군 접종 국내 엠폭스 환자 는 익명 접촉 일부터 고위험군 접종 단독 일제고사조례 법 저촉 정부법무공단 판단에도 강행 단독 일제고사조례 법 저촉 정부법무공단 판단에도 강행 모빌리티 붙은 첫번째 렉스턴 뉴 아레나 쿨멘 동시 출정 모빌리티 붙은 첫번째 렉스턴 뉴 아레나 쿨멘 동시 출정 정구호 이날치 모니카 세종 싱크 넥스트 채운다 정구호 이날치 모니카 세종 싱크 넥스트 채운다 네이버 메인에서 바로 보는 언론사 편집뉴스 지금 바로 구독해보세요 내일을 여는 국민의 국회 뉴스 기사와 댓글로 인한 문제 발생 시 시간 센터로 접수해주세요 서비스 안내 고침 기사 모음 정정 반론 추후 보도 기사 모음 불공정 선거 보도 기사 모음 서비스 안내 더보기 이젠 페이지 맨위로 언론사 목록 열기 로딩 중 분야별 목록 열기 로딩 중 이용약관 서비스 안내 기사배열 원칙 책임자 유봉석 청소년 보호 책임자 이희만 개인정보처리방침 책임의 한계와 법적고지 새창 뉴스 고객센터 본 콘텐츠의 저작권은 제공처 또는 네이버에 있으며 이를 무단 이용하는 경우 저작권법 등에 따라 법적책임을 질 수 있습니다'"
      ]
     },
     "execution_count": 81,
     "metadata": {},
     "output_type": "execute_result"
    }
   ],
   "source": [
    "# A. \n",
    "import requests\n",
    "import chardet\n",
    "import re\n",
    "\n",
    "# HTTP 요청에서 사용될 헤더 정보를 설정합니다.\n",
    "headers = {\"User-Agent\":\"Mozilla/5.0 (Windows NT 10.0; Win64; x64) AppleWebKit/537.36 (KHTML, like Gecko) Chrome/96.0.4664.45 Safari/537.36\"}\n",
    "\n",
    "# 웹사이트에서 스크래핑할 URL을 지정합니다.\n",
    "url = 'https://news.naver.com/main/main.nhn?mode=LSD&mid=shm&sid1=100'\n",
    "\n",
    "# 지정된 url에 HTTP GET 요청을 전달\n",
    "response = requests.get(url, headers=headers)\n",
    "\n",
    "texts = response.text\n",
    "result = re.findall('[가-힣]+',texts)\n",
    "# print(result)\n",
    "' '.join(result)"
   ]
  },
  {
   "cell_type": "markdown",
   "metadata": {},
   "source": [
    "Q11. \"http://www.naver.com\" 사이트에서 span 태그에 연결된 한글 전부를 불필요한 공백을 제거한 후 출력하세요."
   ]
  },
  {
   "cell_type": "code",
   "execution_count": 15,
   "metadata": {},
   "outputs": [
    {
     "data": {
      "text/plain": [
       "'뉴스스탠드 바로가기주제별캐스트 바로가기타임스퀘어 바로가기쇼핑캐스트 바로가기로그인 바로가기매일 쓰는 브라우저 보안이 걱정된다면 안전하고 빠른 최신 브라우저 웨일로 업데이트 하세요 매일 쓰는 브라우저 보안이 걱정된다면 다운로드네이버쥬니어네이버해피빈검색한글 입력기자동완성 레이어 삭제 설정이 초기화 된다면 도움말을 확인해주세요 설정이 초기화 된다면 도움말을 확인해주세요 도움말 도움말 자동저장 끄기 자동저장 끄기 회 로또당첨번호 동행복권 제공 동행복권 제공 원 원 바로가기 바로가기 추가 추가 추가 자세히보기 도움말 신고 도움말신고 자동완성 끄기 자동완성 끄기 쇼핑쇼핑 상암동상암동리스트형썸네일형설정이전다음닫기닫기이전다음닫기닫기이전다음다음닫기닫기이전다음닫기닫기주제별로 분류된 다양한 글 모음 개의 글이전다음 주일 전 기록하기 기록하기 주일 전 메리민스 메리민스 주일 전 또신이 또신이 주일 전 박또치 박또치 주일 전 아라 아라 주일 전 살림허선생 살림허선생 주일 전 전원주택라이프 전원주택라이프 주일 전 응디 응디이전다음펀딩 달성플립플라워플립플라워펀딩 달성지키빌지키빌기부 원 기부메이크어위시 코리아메이크어위시 코리아펀딩 달성의식주의의식주의펀딩 달성에코바이오에코바이오기부 원 기부인애종합사회복지관인애종합사회복지관 주일 전 개월 전 개월 전 치코언니 치코언니 주일 전 소이쏘이 소이쏘이 개월 전 찰스퍼니처 찰스퍼니처 주일 전 리빙 레시피 리빙 레시피 주일 전 아잉맘 아잉맘 주일 전 튼튼뽀맘 튼튼뽀맘 주일 전 르노베 르노베 주일 전 림 림 주일 전 월간 전원속의 내집 월간 전원속의 내집 개월 전 리빙 레시피 리빙 레시피 개월 전 치즈순대 치즈순대 개월 전 두와나 두와나 개월 전 현대리바트 현대리바트 이전다음저녁방송 메인뉴스 보기코로나바이러스감염증 현황상승 상승상승 상승하락 하락 라이트 모드로 보기'"
      ]
     },
     "execution_count": 15,
     "metadata": {},
     "output_type": "execute_result"
    }
   ],
   "source": [
    "# A.\n",
    "import urllib.request as rq\n",
    "from bs4 import BeautifulSoup\n",
    "import re\n",
    "url = \"http://www.naver.com\"\n",
    "html = rq.urlopen(url)\n",
    "bs = BeautifulSoup(html, 'lxml')\n",
    "texts = bs.find_all('span')\n",
    "lt = ''\n",
    "for t in texts:\n",
    "    t = t.get_text()\n",
    "    lt += t \n",
    "lt = str(lt)\n",
    "# print(lt)\n",
    "lt = re.findall('[가-힣]+',lt)\n",
    "lt = ' '.join(lt)\n",
    "lt"
   ]
  },
  {
   "cell_type": "markdown",
   "metadata": {},
   "source": [
    "Q12. url = 'https://naver.com'에서 셀레니움을 활용하여 경제 뉴스 카테고리로 들어간 후 BS 메서드를 이용하여 뉴스 제목과 링크를 10개씩 출력하세요."
   ]
  },
  {
   "cell_type": "code",
   "execution_count": 21,
   "metadata": {},
   "outputs": [
    {
     "name": "stdout",
     "output_type": "stream",
     "text": [
      "SK온, 美 웨스트워터와 음극재 공동개발 '맞손'…IRA 대응 속도\n",
      "https://n.news.naver.com/mnews/article/001/0013918111?sid=101\n",
      "SK온, 美 광물기업과 음극재 공동 개발…“IRA 적극 대응”\n",
      "https://n.news.naver.com/mnews/article/018/0005477994?sid=101\n",
      "SK온, 美 나스닥 상장사와 음극재 공동개발…“IRA 대응 가속”\n",
      "https://n.news.naver.com/mnews/article/081/0003358329?sid=101\n",
      "SK온, 美 웨스트워터와 음극재 공동개발…IRA 대응\n",
      "https://n.news.naver.com/mnews/article/277/0005253884?sid=101\n",
      "카카오뱅크 \"중신용자 중심 연체율 상승…고신용자 3~4배\"\n",
      "https://n.news.naver.com/mnews/article/003/0011838232?sid=101\n",
      "카카오뱅크, 1분기 당기순익 1019억원…고객수 2000만명 돌파\n",
      "https://n.news.naver.com/mnews/article/421/0006783848?sid=101\n",
      "카뱅, 대출 늘어 1분기 순익 1천19억…전년比 52.5%↑\n",
      "https://n.news.naver.com/mnews/article/031/0000744256?sid=101\n",
      "'인터넷은행 맏형' 카카오뱅크, 1분기 순익 '1019억원' 역대 최대..\"연내 보금자리론 출시\"\n",
      "https://n.news.naver.com/mnews/article/014/0005006786?sid=101\n",
      "키움증권·김익래, ‘SG 사태’ 핵심인물 라덕연 고소\n",
      "https://n.news.naver.com/mnews/article/032/0003221085?sid=101\n",
      "금감원, 키움증권 전격 검사…김익래 회장 연루 여부도 확인\n",
      "https://n.news.naver.com/mnews/article/437/0000341609?sid=101\n"
     ]
    }
   ],
   "source": [
    "from bs4 import BeautifulSoup\n",
    "import time\n",
    "import selenium\n",
    "from selenium import webdriver\n",
    "from selenium.webdriver.common.keys import Keys\n",
    "from selenium.webdriver.common.action_chains import ActionChains\n",
    "from selenium.webdriver.common.by import By\n",
    "\n",
    "# 웹드라이버 실행\n",
    "driver = webdriver.Chrome('C:/tool/chromedriver.exe')\n",
    "\n",
    "# 검색 페이지 접속\n",
    "url = 'https://naver.com'\n",
    "driver.get(url)\n",
    "driver.maximize_window()\n",
    "\n",
    "driver.find_element(By.XPATH,'//*[@id=\"NM_FAVORITE\"]/div[1]/ul[2]/li[2]/a').click()\n",
    "driver.find_element(By.XPATH,'/html/body/section/header/div[2]/div/div/div[1]/div/div/ul/li[3]/a/span').click()\n",
    "\n",
    "html = driver.page_source\n",
    "soup = BeautifulSoup(html, 'html.parser')\n",
    "\n",
    "articles = soup.find_all('a', class_='cluster_text_headline nclicks(cls_eco.clsart)')\n",
    "for a in articles[:10]:\n",
    "    print(a.text)\n",
    "    print(a['href'])"
   ]
  },
  {
   "cell_type": "markdown",
   "metadata": {},
   "source": [
    "Q13. url = 'https://naver.com'에서 셀레니움을 활용하여 경제 뉴스 카테고리에서 뉴스 제목과 링크를 10개씩 출력하세요."
   ]
  },
  {
   "cell_type": "code",
   "execution_count": 25,
   "metadata": {},
   "outputs": [
    {
     "name": "stdout",
     "output_type": "stream",
     "text": [
      "SK온, 美 웨스트워터와 음극재 공동개발 '맞손'…IRA 대응 속도\n",
      "https://n.news.naver.com/mnews/article/001/0013918111?sid=101\n",
      "SK온, 美 광물기업과 음극재 공동 개발…“IRA 적극 대응”\n",
      "https://n.news.naver.com/mnews/article/018/0005477994?sid=101\n",
      "SK온, 美 나스닥 상장사와 음극재 공동개발…“IRA 대응 가속”\n",
      "https://n.news.naver.com/mnews/article/081/0003358329?sid=101\n",
      "SK온, 美 웨스트워터와 음극재 공동개발…IRA 대응\n",
      "https://n.news.naver.com/mnews/article/277/0005253884?sid=101\n",
      "카카오뱅크 \"중신용자 중심 연체율 상승…고신용자 3~4배\"\n",
      "https://n.news.naver.com/mnews/article/003/0011838232?sid=101\n",
      "카카오뱅크, 1분기 당기순익 1019억원…고객수 2000만명 돌파\n",
      "https://n.news.naver.com/mnews/article/421/0006783848?sid=101\n",
      "카뱅, 대출 늘어 1분기 순익 1천19억…전년比 52.5%↑\n",
      "https://n.news.naver.com/mnews/article/031/0000744256?sid=101\n",
      "'인터넷은행 맏형' 카카오뱅크, 1분기 순익 '1019억원' 역대 최대..\"연내 보금자리론 출시\"\n",
      "https://n.news.naver.com/mnews/article/014/0005006786?sid=101\n",
      "키움증권·김익래, ‘SG 사태’ 핵심인물 라덕연 고소\n",
      "https://n.news.naver.com/mnews/article/032/0003221085?sid=101\n",
      "금감원, 키움증권 전격 검사…김익래 회장 연루 여부도 확인\n",
      "https://n.news.naver.com/mnews/article/437/0000341609?sid=101\n"
     ]
    }
   ],
   "source": [
    "articles = driver.find_elements(By.XPATH,'//*[@id=\"main_content\"]/div/div/div/div/div/ul/li/div/a')\n",
    "for a in articles[:10]:\n",
    "    print(a.text)\n",
    "    print(a.get_attribute('href'))"
   ]
  },
  {
   "cell_type": "markdown",
   "metadata": {},
   "source": [
    "Q14. \"http://www.naver.com\" 사이트에서 a 태그에 id가 있는 경우에 대하여 연결된 문자 + 숫자를 아래와 같이 출력하세요.\n",
    "- 해당되는 조건에 맞게 모두 출력\n",
    "- 한글만 열방향으로 출력\n",
    "- 불필요한 공백을 제거한 후 한글만 한줄에 출력"
   ]
  },
  {
   "cell_type": "code",
   "execution_count": 26,
   "metadata": {},
   "outputs": [
    {
     "name": "stdout",
     "output_type": "stream",
     "text": [
      "[<a class=\"_2aeXMlrb BMgpjddw\" data-clk=\"dropdownload1b\" href=\"https://installer-whale.pstatic.net/downloads/banner/RydDy7/WhaleSetup.exe\" id=\"NM_whale_download_btn\"><span style=\"background-color: #0436c7\">다운로드</span></a>, <a class=\"link_set\" data-clk=\"top.mkhome\" href=\"https://help.naver.com/support/welcomePage/guide.help\" id=\"NM_set_home_btn\">네이버를 시작페이지로</a>, <a class=\"btn_keyboard\" href=\"#\" id=\"ke_kbd_btn\" onclick=\"return false;\" role=\"button\"><span class=\"blind\">한글 입력기</span><span class=\"ico_keyboard\"></span></a>, <a aria-pressed=\"false\" class=\"btn_arw _btn_arw fold\" data-atcmp-element=\"\" href=\"#\" id=\"nautocomplete\" role=\"button\" tabindex=\"2\"><span class=\"blind\">자동완성 레이어</span><span class=\"ico_arr\"></span></a>, <a class=\"btn_set\" data-clk=\"tca.like\" href=\"#\" id=\"NM_THEME_EDIT_SET\" role=\"button\">관심주제 설정</a>, <a class=\"content_top\" href=\"#wrap\" id=\"NM_scroll_top_btn\"><span class=\"blind\">TOP</span></a>]\n"
     ]
    }
   ],
   "source": [
    "# A.\n",
    "import urllib.request as rq\n",
    "import re\n",
    "url = \"http://www.naver.com\"\n",
    "html = rq.urlopen(url)\n",
    "bs = BeautifulSoup(html, 'html.parser')\n",
    "texts = bs.find_all('a',id=True)\n",
    "print(texts)"
   ]
  },
  {
   "cell_type": "code",
   "execution_count": 29,
   "metadata": {},
   "outputs": [
    {
     "name": "stdout",
     "output_type": "stream",
     "text": [
      "다운로드\n",
      "네이버를 시작페이지로\n",
      "한글 입력기\n",
      "자동완성 레이어\n",
      "관심주제 설정\n"
     ]
    }
   ],
   "source": [
    "# A.\n",
    "import urllib.request as rq\n",
    "import re\n",
    "from bs4 import BeautifulSoup\n",
    "\n",
    "url = \"http://www.naver.com\"\n",
    "html = rq.urlopen(url)\n",
    "bs = BeautifulSoup(html, 'html.parser')\n",
    "bs.text\n",
    "texts = bs.find_all('a',id=True)\n",
    "\n",
    "texts = [text.get_text() for text in texts]  # ResultSet에서 각 요소의 텍스트 부분을 추출하여 리스트로 변환\n",
    "\n",
    "for text in texts:\n",
    "    if re.search('[가-힣]+', text):\n",
    "        print(text)"
   ]
  },
  {
   "cell_type": "code",
   "execution_count": 52,
   "metadata": {},
   "outputs": [
    {
     "data": {
      "text/plain": [
       "'다운로드 네이버를 시작페이지로 한글 입력기 자동완성 레이어 관심주제 설정'"
      ]
     },
     "execution_count": 52,
     "metadata": {},
     "output_type": "execute_result"
    }
   ],
   "source": [
    "# A.\n",
    "import urllib.request as rq\n",
    "import re\n",
    "url = \"http://www.naver.com\"\n",
    "html = rq.urlopen(url)\n",
    "bs = BeautifulSoup(html, 'html.parser')\n",
    "texts = bs.find_all('a',id=True)\n",
    "texts = str(texts)\n",
    "\n",
    "texts = re.sub('<.*?>', '', texts)\n",
    "texts = re.findall('[가-힣]+',texts)\n",
    "' '.join(texts)\n"
   ]
  },
  {
   "cell_type": "markdown",
   "metadata": {},
   "source": [
    "Q15. 네이버 영화 랭킹 실시간 조회 데이터를 가져와서 Top 10 영화를 아래와 같이 출력하세요."
   ]
  },
  {
   "cell_type": "code",
   "execution_count": 54,
   "metadata": {},
   "outputs": [
    {
     "name": "stdout",
     "output_type": "stream",
     "text": [
      "1: 던전 앤 드래곤: 도적들의 명예\n",
      "2: 존 윅 3: 파라벨룸\n",
      "3: 존 윅\n",
      "4: 앤트맨과 와스프: 퀀텀매니아(세트: 1~3편)\n",
      "5: 존 윅 - 리로드\n",
      "6: 앤트맨과 와스프: 퀀텀매니아\n",
      "7: 소중한 날의 꿈\n",
      "8: 파벨만스\n",
      "9: 아바타: 물의 길(부가영상 제공)\n",
      "10: 가디언즈 오브 갤럭시 VOL. 2(패키지: 자막판+더빙판+부가영상)\n"
     ]
    }
   ],
   "source": [
    "# A.\n",
    "import requests\n",
    "from bs4 import BeautifulSoup\n",
    "req = requests.get(\"https://serieson.naver.com/v3/movie/ranking/realtime\")\n",
    "html = req.content.decode('utf-8')\n",
    "soup = BeautifulSoup(html, 'html.parser')\n",
    "list = soup.find_all(\"span\", class_=\"Title_title__s9o0D\")\n",
    "# print(len(list))\n",
    "for i, l in enumerate(list[:10]):\n",
    "    print(f'{i+1}: {l.text}')"
   ]
  },
  {
   "cell_type": "markdown",
   "metadata": {},
   "source": [
    "Q16. 네이버 뉴스 데이터 사회분야 데이터를 가져와서 다음을 수행하세요.\n",
    "- 첫번째 뉴스 제목과 href를 출력\n",
    "- 뉴스 제목과 href를 각각 10개씩 출력"
   ]
  },
  {
   "cell_type": "code",
   "execution_count": 56,
   "metadata": {},
   "outputs": [
    {
     "name": "stdout",
     "output_type": "stream",
     "text": [
      "서울 학교별 기초학력평가 성적 공개되나…조례안 통과(종합)\n",
      "https://n.news.naver.com/mnews/article/001/0013920339?sid=102\n"
     ]
    }
   ],
   "source": [
    "# A.\n",
    "from bs4 import BeautifulSoup\n",
    "import requests\n",
    "\n",
    "headers = {\"User-Agent\":\"Mozilla/5.0 (Windows NT 10.0; Win64; x64) AppleWebKit/537.36 (KHTML, like Gecko) Chrome/96.0.4664.45 Safari/537.36\"}\n",
    "url = \"https://news.naver.com/main/main.naver?mode=LSD&mid=shm&sid1=102\" # 네이버 뉴스 사회면 메인 페이지\n",
    "req = requests.get(url, headers=headers)   # GET방식으로 서비스 호출\n",
    "soup = BeautifulSoup(req.content, \"html.parser\")\n",
    "\n",
    "target = soup.select_one('#main_content > div > div._persist > div:nth-child(1) > div:nth-child(1) > div.cluster_body > ul > li:nth-child(1) > div.cluster_text > a')\n",
    "\n",
    "print(target.text)\n",
    "print(target['href'])"
   ]
  },
  {
   "cell_type": "code",
   "execution_count": 58,
   "metadata": {},
   "outputs": [
    {
     "name": "stdout",
     "output_type": "stream",
     "text": [
      "서울 학교별 기초학력평가 성적 공개되나…조례안 통과(종합)\n",
      "https://n.news.naver.com/mnews/article/001/0013920339?sid=102\n",
      "‘서울 기초학력 진단결과 공개’ 조례 통과\n",
      "https://n.news.naver.com/mnews/article/018/0005478074?sid=102\n",
      "서울시교육청 조직개편…기초학력·안전 전담 부서 신설\n",
      "https://n.news.naver.com/mnews/article/277/0005254440?sid=102\n",
      "'서울 기초학력 진단결과 공개' 조례, 재의도 통과\n",
      "https://n.news.naver.com/mnews/article/277/0005254338?sid=102\n",
      "의료연대, 3일 부분파업…\"간호법 거부권 행사 안하면 17일 총파업\"\n",
      "https://n.news.naver.com/mnews/article/015/0004840018?sid=102\n",
      "‘간호법 반발’ 의사·간호조무사 오늘 부분파업… 의료공백 우려\n",
      "https://n.news.naver.com/mnews/article/081/0003358203?sid=102\n",
      "대전서도 간호법 통과 반발 집회…일부 동네의원 단축 진료\n",
      "https://n.news.naver.com/mnews/article/448/0000407526?sid=102\n",
      "제주 보건복지의료연대 “간호법 강행 처리 규탄”\n",
      "https://n.news.naver.com/mnews/article/056/0011478180?sid=102\n",
      "\"무고하게 구속된 사람 풀어달라\"‥분신 노조간부 야당에 유서\n",
      "https://n.news.naver.com/mnews/article/214/0001270512?sid=102\n",
      "전북 민주노총 \"노조탄압이 노동자 죽였다…정부는 사죄하라\"\n",
      "https://n.news.naver.com/mnews/article/421/0006784693?sid=102\n"
     ]
    }
   ],
   "source": [
    "# A.\n",
    "target = soup.select(\"#main_content > div > div._persist > div > div > div.cluster_body > ul > li > div.cluster_text > a\")\n",
    "for element in target[:10]:\n",
    "    print(element.text)\n",
    "    print(element['href'])"
   ]
  },
  {
   "cell_type": "markdown",
   "metadata": {},
   "source": [
    "Q17. 구글에서 \"빅데이터\"라는 검색어로 검색한 후 검색 결과를 가져와서 출력하고 파일로 저장"
   ]
  },
  {
   "cell_type": "code",
   "execution_count": 60,
   "metadata": {},
   "outputs": [
    {
     "name": "stdout",
     "output_type": "stream",
     "text": [
      "빅 데이터란 무엇인가 - Oracle\n",
      "빅데이터(Big Data) – 빅데이터, 정의, 특징, 활용 사례\n",
      "빅데이터(Big Data)란? | 알테어\n",
      "빅데이터분석기사 - 데이터자격시험\n",
      "연안 빅데이터 플랫폼\n"
     ]
    }
   ],
   "source": [
    "from time import sleep\n",
    "from selenium.webdriver.common.by import By  # Selenium 라이브러리에서 HTML element를 찾는 데 사용되는 모듈\n",
    "from selenium import webdriver\n",
    "from selenium.webdriver.common.keys import Keys # Selenium 라이브러리에서 키보드 입력을 조작하는 데 사용되는 모듈\n",
    "\n",
    "# 크롬 드라이버를 로드합니다.\n",
    "driver = webdriver.Chrome('C:/tool/chromedriver.exe')\n",
    "\n",
    "# 구글 검색창으로 이동합니다.\n",
    "driver.get('https://www.google.com/')\n",
    "\n",
    "# 검색어 입력 요소를 찾아서 검색어를 입력합니다.\n",
    "search_box = driver.find_element(By.NAME, 'q') \n",
    "\n",
    "# 검색창에 '빅데이터'라는 검색어를 입력\n",
    "search_box.send_keys('빅데이터')\n",
    "\n",
    "# 검색어 입력 요소에서 Enter 키를 입력합니다.\n",
    "search_box.send_keys(Keys.ENTER)\n",
    "\n",
    "# 검색 결과 페이지에서 검색 결과에 해당하는 elements를 찾습니다. \n",
    "elements = driver.find_elements(By.XPATH, '//*[@id=\"rso\"]/div/div/div/div/div/a/h3')\n",
    "\n",
    "for element in elements:\n",
    "    print(element.text)\n",
    "    # w로 저장하면 덮어쓰기가 되서 a로 추가해야 함\n",
    "    print(element.text, file=open('test_google.txt','a',encoding='utf-8')) # 검색 결과를 파일로 저장     \n",
    "\n",
    "sleep(3)\n",
    "driver.close()"
   ]
  },
  {
   "cell_type": "markdown",
   "metadata": {},
   "source": [
    "Q18. 'https://www.naver.com/'에서 뉴스 > 사회 카테고리 클릭하고 뉴스 제목 20개를 출력하세요."
   ]
  },
  {
   "cell_type": "code",
   "execution_count": 64,
   "metadata": {},
   "outputs": [
    {
     "name": "stdout",
     "output_type": "stream",
     "text": [
      "장외주식 불법 다단계 판매로 수천억 손해 입힌 일당 적발\n",
      "'실상은 엉터리' 6년간 4만6천500명에게 비상장주식 다단계 판매\n",
      "\"전세금부터 결혼자금까지\" 불법 다단계 비상장주식 판매 일당 '줄기소'\n",
      "5천억 원대 비상장 주식 불법 다단계 판매한 투자사...42명 기소\n",
      "\"펜타닐 안 했다\"…'고등래퍼2' 윤병호, 2심서 말 바꾼 이유\n",
      "‘마약 혐의’ 인정했던 고등래퍼2 출신 윤병호…항소심서 ‘부인’\n",
      "'고등래퍼2' 출신 윤병호, 또다른 마약 사건으로 '징역 2년6월'\n",
      "'고등래퍼2' 윤병호 2심서 혐의 일부 부인...\"펜타닐 안 했다\"\n",
      "잠옷 건네며 “주님 지키며 자라”…정명석 감옥 출소는 ‘주님의 부활’, 조력자 8명 기소\n",
      "“JMS, 조직적 성범죄 맞지만”…검찰, 조력자에 ‘범죄단체’ 적용 안해\n",
      "정명석 성폭행 도운 'JMS 2인자' 정조은 구속기소\n",
      "검찰, JMS 성범죄 악용 '스타' 확인…\"정명석 성범죄 피해자 5명 추가 고소 준비\"\n",
      "아내 살해 후 1살 자녀 안고 투신한 가장…'일가족 3명 사망'\n",
      "서울 노원구서 일가족 사망…아내 살해 뒤 자녀와 극단 선택\n",
      "아내 살해 뒤 한살 아이 안고 투신한 30대男…일가족 3명 사망\n",
      "서울 노원구 한 아파트에서 일가족 숨져...극단적 선택 추정(종합)\n",
      "경찰 국수본, 'SNS 유료 불법 성영상물' 엄정수사 지시\n",
      "경찰, 유료구독형 SNS '불법 야동' 집중 단속 나선다\n",
      "노동절 분신 노조 간부 치료 중 숨져\n",
      "분신 사망 건설노조원, 노조·야당에 남긴 ‘밀봉 유서’\n"
     ]
    }
   ],
   "source": [
    "driver = webdriver.Chrome('C:/tool/chromedriver.exe')\n",
    "\n",
    "# 네이버 로그인 페이지로 이동합니다.\n",
    "driver.get('http://naver.com')\n",
    "\n",
    "elements1 = driver.find_element(By.XPATH,'//*[@id=\"NM_FAVORITE\"]/div[1]/ul[2]/li[2]/a ')\n",
    "elements1.click()\n",
    "elements2 = driver.find_element(By.XPATH,'/html/body/section/header/div[2]/div/div/div[1]/div/div/ul/li[4]/a/span')\n",
    "elements2.click()\n",
    "\n",
    "elements = driver.find_elements(By.XPATH,'//*[@id=\"main_content\"]/div/div/div/div/div/ul/li/div/a')                               \n",
    "for element in elements[:20]:\n",
    "    print(element.text)"
   ]
  },
  {
   "cell_type": "markdown",
   "metadata": {},
   "source": [
    "Q19. daum.net 에서 빅데이터를 검색해서 출력하세요(CSS_SELECTOR 사용)"
   ]
  },
  {
   "cell_type": "code",
   "execution_count": 65,
   "metadata": {},
   "outputs": [
    {
     "name": "stdout",
     "output_type": "stream",
     "text": [
      "빅데이터(big data)란 복잡하고 다양한 대규모 데이터세트 자체는 물론 이 데이터세트로부터 정보를 추출하고 결과를 분석하여 더 큰 가치를 창출하는 기술을 뜻한다. 수치 데이터 등 기존의 정형화된 정보뿐 아니라 텍스트 ・ 이미지 ・ 오디오 ・ 로그기...\n"
     ]
    }
   ],
   "source": [
    "# 다음 사이트로 이동\n",
    "driver = webdriver.Chrome('C:/tool/chromedriver.exe')\n",
    "driver.get('http://daum.net')\n",
    "\n",
    "# 검색어 입력 및 실행\n",
    "driver.maximize_window()\n",
    "elem = driver.find_element(By.NAME,'q')\n",
    "elem.send_keys('빅데이터')\n",
    "elem.send_keys(Keys.ENTER)\n",
    "\n",
    "# css selector\n",
    "elem = driver.find_element(By.CSS_SELECTOR, '#twaColl > div > c-container > c-card > div > c-doc-web > div > div.item-contents > c-contents-desc > p > a')\n",
    "print(elem.text)\n",
    "\n",
    "driver.close()"
   ]
  },
  {
   "cell_type": "markdown",
   "metadata": {},
   "source": [
    "Q20. 셀레니움으로 아래를 수행하여 네이버 로그인 후 메일을 확인하세요.\n",
    "- 자바스크립트로 데이터 입력하기\n",
    "- 로그인 폼의 id와 pw 요소에 직접 데이터 전달"
   ]
  },
  {
   "cell_type": "code",
   "execution_count": 71,
   "metadata": {},
   "outputs": [],
   "source": [
    "# 네이버 로그인 후 메일 제목 가져오기\n",
    "\n",
    "import time\n",
    "import selenium\n",
    "from selenium import webdriver\n",
    "from selenium.webdriver.common.by import By\n",
    "\n",
    "path = 'C:/tool/chromedriver.exe'\n",
    "driver = webdriver.Chrome(path)\n",
    "driver.get('https://www.naver.com')\n",
    "driver.maximize_window()\n",
    "time.sleep(1)\n",
    "element = driver.find_element(By.CLASS_NAME, 'link_login')\n",
    "element.click()\n",
    "id  = 'amicokb'\n",
    "pw = ''\n",
    "\n",
    "# 'id'라는 아이디를 가진 요소의 값을, id 변수에 저장된 값으로 변경하는 자바스크립트 코드를 실행\n",
    "# execute_script 함수를 사용하면 자바스크립트 코드를 실행\n",
    "# js는 getElementById('id').value로 값을 가져올 수 있다.\n",
    "driver.execute_script(\"document.getElementById('id').value=\\'\" + id + \"\\'\") # text\n",
    "time.sleep(1)\n",
    "driver.execute_script(\"document.getElementById('pw').value=\\'\" + pw + \"\\'\")\n",
    "time.sleep(1)\n",
    "\n",
    "element = driver.find_element(By.CLASS_NAME, 'btn_login')\n",
    "element.click()\n",
    "\n",
    "driver.find_element(By.XPATH, '//*[@id=\"NM_FAVORITE\"]/div[1]/ul[1]/li[1]/a').click()\n",
    "driver.close()"
   ]
  }
 ],
 "metadata": {
  "kernelspec": {
   "display_name": "Python 3 (ipykernel)",
   "language": "python",
   "name": "python3"
  },
  "language_info": {
   "codemirror_mode": {
    "name": "ipython",
    "version": 3
   },
   "file_extension": ".py",
   "mimetype": "text/x-python",
   "name": "python",
   "nbconvert_exporter": "python",
   "pygments_lexer": "ipython3",
   "version": "3.9.13"
  }
 },
 "nbformat": 4,
 "nbformat_minor": 4
}
