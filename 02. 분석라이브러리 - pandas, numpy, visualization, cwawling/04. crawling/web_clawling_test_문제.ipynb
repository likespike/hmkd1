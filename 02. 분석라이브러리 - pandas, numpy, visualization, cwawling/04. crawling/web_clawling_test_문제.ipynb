{
 "cells": [
  {
   "cell_type": "markdown",
   "metadata": {},
   "source": [
    "Q1. url = \"http://finance.naver.com/marketindex/\"사이트에서 usd/krw 환율을 출력하세요."
   ]
  },
  {
   "cell_type": "code",
   "execution_count": 1,
   "metadata": {},
   "outputs": [
    {
     "data": {
      "text/plain": [
       "'1,325.00'"
      ]
     },
     "execution_count": 1,
     "metadata": {},
     "output_type": "execute_result"
    }
   ],
   "source": [
    "import requests\n",
    "from bs4 import BeautifulSoup\n",
    "\n",
    "url = \"http://finance.naver.com/marketindex/\"\n",
    "\n",
    "bs = BeautifulSoup(requests.get(url).text)\n",
    "bs.find('span', class_='value').text"
   ]
  },
  {
   "cell_type": "code",
   "execution_count": 11,
   "metadata": {},
   "outputs": [
    {
     "data": {
      "text/plain": [
       "NoneType"
      ]
     },
     "execution_count": 11,
     "metadata": {},
     "output_type": "execute_result"
    }
   ],
   "source": []
  },
  {
   "cell_type": "markdown",
   "metadata": {},
   "source": [
    "Q2. 'https://news.naver.com/main/main.nhn?mode=LSD&mid=shm&sid1=100'사이트에서 '기사목록'을 출력하세요 "
   ]
  },
  {
   "cell_type": "code",
   "execution_count": 12,
   "metadata": {},
   "outputs": [
    {
     "name": "stdout",
     "output_type": "stream",
     "text": [
      "'돈봉투 의혹' 윤관석·이성만 탈당 \"잠시 당 떠나 檢에 당당히 맞설 것\"\n",
      "'돈봉투 의혹' 윤관석·이성만 '자진 탈당'…녹취파일 보도 3주 만\n",
      "윤관석·이성만 탈당했지만 추가 의혹 대응 '고심'…\"끝나지 않아\"\n",
      "윤관석 · 이성만 \"선당후사, 탈당\"…당내 압박 못 버틴 듯\n",
      "한일, 의제 조율…\"김대중-오부치 선언 계승 뜻 밝힐 듯\"\n",
      "韓日정상, '후쿠시마 오염수' 논의 가능성… '공동선언' 없을 듯(종합)\n",
      "7일에 한일 정상회담…\"양국 주요 관심사 협의 논의\"\n",
      "7일 방한 기시다, 과거사 언급 수위는?\n",
      "정부, 한상혁 방통위원장 면직 검토…\"공무원법 중대한 위반\"\n",
      "이상인 , “방통위, 대통령 국정철학 따라야”\n",
      "한상혁 방통위원장 면직 검토…\"국가공무원법 중대 위반\"\n",
      "‘불구속 기소’ 한상혁 방통위원장 ‘선제적 면직 검토’ 논란\n",
      "윤 대통령 \"취임 때 마음 되새겨\"…아이들과 '용산어린이정원' 첫 입장\n",
      " 120년 금단의 땅 열렸다…용산 어린이정원 개방[씨박스]\n",
      "尹 “우리나라엔 맘껏 뛸 넓은 잔디밭 제대로 없어”…아이들과 ‘용산어린이정원’ 첫 입장\n",
      "안내견 새롬이와 ‘가이드’ 자처한 尹 부부...열쇠 누르자 ‘용산어린이정원’ 활짝 열렸다(종합)\n",
      "대통령실 \"간호법 거부권, 폭넓게 듣고 결정…공약은 안해\"(종합)\n",
      "대통령실 “尹, 후보 시절 간호법 공식 약속한 적 없어”\n",
      "기사다 방한 앞두고 한일 시민단체 공동으로 \"기시다 총리, 강제동원 피해자에게 사과하라\" 촉구\n",
      "야당, 日총리 방한에 \"尹, 과거사 사과·오염수 방류 중단 요구해야\"\n",
      "윤 대통령 \"日 기시다 총리에 숯불고기 대접할 것\"\n",
      "일본 언론 \"윤·기시다 만찬 대통령 관저 개최 조율‥홈파티 형식\"\n",
      "재외동포청 소재지 압축…외교부가 곧 발표\n",
      "재외동포청 소재지 의견 좁힌 당정…\"조만간 발표\"\n",
      "하태경 \"전용기 독도행, 日 극우가 좋아하는 일 해준 것\"\n",
      "하태경 \"野 의원 독도 방문, 日 극우에게 놀아나는 것\"\n",
      "이상민 “돈봉투 의혹, 檢 정치탄압이라면서 쇄신안?”…당 대응 부조리 지적\n",
      "이상민·최재성, 李 동문서답에 “당 대표로서 할 행동 아냐”\n",
      "유승민, 이진복·태영호 직격 \"국민 우습게 보지 말라\"\n",
      "유승민 \"태영호·이진복 해명 못 믿어…대통령실이 고발해야\"\n",
      "분신 노동자 빈소 찾은 이재명 “윤 대통령, 과잉수사로 생긴 일이니 꼭 조문해달라”\n",
      "이재명 \"사람 잡는 정치 그만하라\" 야권 대표들 오늘 분신 간부 조문\n",
      "윤 대통령, 방통위 상임위원에 이상인 변호사 임명\n",
      "윤석열 대통령, 방통위 상임위원에 이상인 변호사 임명\n",
      "尹 일회용컵 사용에…조명래, “文정부 상상 못할 일” 지적했다 역풍\n",
      "\"지난 정부에선 상상할 수 없는 일\" 전 환경부장관, 尹 일회용품 사용 비판\n",
      "통일부 \"북 '화형식' 보도 매우 유감…도가 넘는 비난 행위\"\n",
      " 북, 한미 정상 겨냥 '화형식'…'워싱턴선언' 반발 격화[1번지이슈]\n",
      "이철규 \"태영호 죽이기 집단린치? 공감 어려워\"\n",
      "이철규 \"태영호 죽이기 집단린치? 공감하기 어려워\"\n"
     ]
    }
   ],
   "source": [
    "import requests\n",
    "from bs4 import BeautifulSoup\n",
    "\n",
    "url = 'https://news.naver.com/main/main.nhn?mode=LSD&mid=shm&sid1=100'\n",
    "\n",
    "headers = {\"User-Agent\":\"Mozilla/5.0 (Windows NT 10.0; Win64; x64) AppleWebKit/537.36 (KHTML, like Gecko) Chrome/96.0.4664.45 Safari/537.36\"}\n",
    "\n",
    "bs = BeautifulSoup(requests.get(url, headers=headers).text)\n",
    "\n",
    "for text in bs.select('#main_content > div > div > div > div > div > ul > li > div > a'):\n",
    "    print(text.text)"
   ]
  },
  {
   "cell_type": "markdown",
   "metadata": {},
   "source": [
    "Q3. 아래 html에서 아래와 같이 출력하세요."
   ]
  },
  {
   "cell_type": "code",
   "execution_count": null,
   "metadata": {},
   "outputs": [],
   "source": [
    "naver > http://www.naver.com\n",
    "daum > http://www.daum.net"
   ]
  },
  {
   "cell_type": "code",
   "execution_count": 14,
   "metadata": {},
   "outputs": [
    {
     "name": "stdout",
     "output_type": "stream",
     "text": [
      "naver > http://www.naver.com\n",
      "daum > http://www.daum.net\n"
     ]
    }
   ],
   "source": [
    "html = \"\"\"\n",
    "<html><body>\n",
    "  <ul>\n",
    "    <li><a href=\"http://www.naver.com\">naver</a></li>\n",
    "    <li><a href=\"http://www.daum.net\">daum</a></li>\n",
    "  </ul>\n",
    "</body></html>\n",
    "\"\"\"\n",
    "\n",
    "bs = BeautifulSoup(html)\n",
    "\n",
    "print(bs.find_all('a')[0].text,'>', bs.find_all('a')[0]['href'])\n",
    "print(bs.find_all('a')[1].text,'>', bs.find_all('a')[1]['href'])"
   ]
  },
  {
   "cell_type": "markdown",
   "metadata": {},
   "source": [
    "Q4. 아래 html에서 다음을 수행하세요.\n",
    "- html에 들여쓰기를 적용하세요\n",
    "- 세가지 방법으로 텍스트를 출력하세요."
   ]
  },
  {
   "cell_type": "code",
   "execution_count": 102,
   "metadata": {},
   "outputs": [
    {
     "name": "stdout",
     "output_type": "stream",
     "text": [
      "<html>\n",
      " <body>\n",
      "  <div>\n",
      "   Hello,world!\n",
      "  </div>\n",
      "  <div>\n",
      "   <p>\n",
      "    Hello,\n",
      "    <b>\n",
      "     world!\n",
      "    </b>\n",
      "   </p>\n",
      "  </div>\n",
      " </body>\n",
      "</html>\n",
      "\n"
     ]
    }
   ],
   "source": [
    "html = '''\n",
    "<html>\n",
    "<body>\n",
    "<div>\n",
    "Hello,world!\n",
    "</div>\n",
    "<div>\n",
    "<p>\n",
    "Hello,<b>world!</b>\n",
    "</p>\n",
    "</div>        \n",
    "</body>\n",
    "</html>\n",
    "'''\n",
    "\n",
    "bs = BeautifulSoup(html)\n",
    "print(bs.prettify())"
   ]
  },
  {
   "cell_type": "code",
   "execution_count": 108,
   "metadata": {},
   "outputs": [
    {
     "name": "stdout",
     "output_type": "stream",
     "text": [
      "\n",
      "\n",
      "\n",
      "Hello,world!\n",
      "\n",
      "\n",
      "\n",
      "Hello,world!\n",
      "\n",
      "\n",
      "\n",
      "\n",
      "\n",
      "\n",
      "\n",
      "\n",
      "Hello,world!\n",
      "\n",
      "\n",
      "\n",
      "Hello,world!\n",
      "\n",
      "\n",
      "\n",
      "\n",
      "\n",
      "\n",
      "Hello,world!\n",
      "\n"
     ]
    }
   ],
   "source": [
    "print(bs.text)\n",
    "print(bs.get_text())\n",
    "print(bs.div.string)"
   ]
  },
  {
   "cell_type": "markdown",
   "metadata": {},
   "source": [
    "Q5. 정규표현식을 사용하여 아래와 같이 출력하세요."
   ]
  },
  {
   "cell_type": "code",
   "execution_count": null,
   "metadata": {},
   "outputs": [],
   "source": [
    "Hello,world!\n",
    "Hello,world!"
   ]
  },
  {
   "cell_type": "code",
   "execution_count": 109,
   "metadata": {},
   "outputs": [
    {
     "name": "stdout",
     "output_type": "stream",
     "text": [
      "Hello,world!\n",
      "Hello,world!\n"
     ]
    }
   ],
   "source": [
    "import re\n",
    "\n",
    "html = '''\n",
    "<html>\n",
    "<body>\n",
    "<div>\n",
    "Hello,world!\n",
    "</div>\n",
    "<div>\n",
    "<p>\n",
    "Hello,<b>world!</b>\n",
    "</p>\n",
    "</div>        \n",
    "</body>\n",
    "</html>\n",
    "'''\n",
    "\n",
    "bs = BeautifulSoup(html).text \n",
    "\n",
    "print('\\n'.join(re.findall('.+', bs)))"
   ]
  },
  {
   "cell_type": "markdown",
   "metadata": {},
   "source": [
    "Q6. 정규표현식을 사용하여 아래와 같이 출력하세요."
   ]
  },
  {
   "cell_type": "code",
   "execution_count": null,
   "metadata": {},
   "outputs": [],
   "source": [
    "Hello,world! Hello,world! "
   ]
  },
  {
   "cell_type": "code",
   "execution_count": 110,
   "metadata": {},
   "outputs": [
    {
     "name": "stdout",
     "output_type": "stream",
     "text": [
      "Hello,world! Hello,world!\n"
     ]
    }
   ],
   "source": [
    "print(' '.join(re.findall('.+', bs)))"
   ]
  },
  {
   "cell_type": "markdown",
   "metadata": {},
   "source": [
    "Q7. html_doc에서 영어 텍스트만 출력하세요."
   ]
  },
  {
   "cell_type": "code",
   "execution_count": 111,
   "metadata": {},
   "outputs": [
    {
     "name": "stdout",
     "output_type": "stream",
     "text": [
      "The Dormouse s story The Dormouse s story Once upon a time there were three little sisters and their names were Elsie Lacie and Tillie and they lived at the bottom of a well\n"
     ]
    }
   ],
   "source": [
    "html_doc = \"\"\"<html><head><title>The Dormouse's story</title></head>\n",
    "<body>\n",
    "<div></div>\n",
    "<p class=\"title\"><b>The Dormouse's story</b></p>\n",
    "<p class=\"story\">Once upon a time there were three little sisters; and their names were\n",
    "<a href=\"http://example.com/elsie\" class=\"sister\" id=\"link1\">Elsie</a>,\n",
    "<a href=\"http://example.com/lacie\" class=\"sister\" id=\"link2\">Lacie</a> and\n",
    "<a href=\"http://example.com/tillie\" class=\"sister\" id=\"link3\">Tillie</a>;\n",
    "and they lived at the bottom of a well.</p>\n",
    "\n",
    "<p class=\"story\">...</p>\n",
    "\"\"\"\n",
    "\n",
    "soup = BeautifulSoup(html_doc)\n",
    "\n",
    "print(' '.join(re.findall('\\w+', soup.text)))"
   ]
  },
  {
   "cell_type": "markdown",
   "metadata": {},
   "source": [
    "Q8. 아래 텍스트에서 개행을 정규표현식을 사용해서 제거한 후 출력하세요."
   ]
  },
  {
   "cell_type": "code",
   "execution_count": 112,
   "metadata": {},
   "outputs": [
    {
     "name": "stdout",
     "output_type": "stream",
     "text": [
      "The Dormouse's story The Dormouse's story Once upon a time there were three little sisters; and their names were Elsie, Lacie and Tillie; and they lived at the bottom of a well. ...\n"
     ]
    }
   ],
   "source": [
    "print(' '.join(re.findall('.+', soup.get_text())))"
   ]
  },
  {
   "cell_type": "markdown",
   "metadata": {},
   "source": [
    "Q9. url = 'https://news.naver.com/main/main.nhn?mode=LSD&mid=shm&sid1=100' 사이트에서 p태그가 있는 데이터를 3개만 출력하세요"
   ]
  },
  {
   "cell_type": "code",
   "execution_count": 113,
   "metadata": {},
   "outputs": [
    {
     "name": "stdout",
     "output_type": "stream",
     "text": [
      "AiRS추천으로 구성된 뉴스를 제공합니다.\n",
      "오후 2시~오후 3시까지 집계한 결과입니다.\n",
      "본 콘텐츠의 저작권은 제공처 또는 네이버에 있으며 이를 무단 이용하는 경우 저작권법 등에 따라 법적책임을 질 수 있습니다.\n"
     ]
    }
   ],
   "source": [
    "url = 'https://news.naver.com/main/main.nhn?mode=LSD&mid=shm&sid1=100'\n",
    "\n",
    "headers = {\"User-Agent\":\"Mozilla/5.0 (Windows NT 10.0; Win64; x64) AppleWebKit/537.36 (KHTML, like Gecko) Chrome/96.0.4664.45 Safari/537.36\"}\n",
    "\n",
    "soup = BeautifulSoup(requests.get(url, headers=headers).text)\n",
    "\n",
    "for text in soup.find_all('p'):\n",
    "    print(text.text)"
   ]
  },
  {
   "cell_type": "markdown",
   "metadata": {},
   "source": [
    "Q10. url에서 데이터를 가져와서 불필요한 스페이스를 제거한 후 한글만 출력하세요.\n",
    "\n",
    "url = 'https://news.naver.com/main/main.nhn?mode=LSD&mid=shm&sid1=100'"
   ]
  },
  {
   "cell_type": "code",
   "execution_count": 114,
   "metadata": {},
   "outputs": [
    {
     "name": "stdout",
     "output_type": "stream",
     "text": [
      "정치 네이버 뉴스 국회 행정 국방 외교 등 정치 분야 뉴스 제공 네이버 정치 네이버 뉴스 네이버 뉴스 네이버 뉴스 국회 행정 국방 외교 등 정치 분야 뉴스 제공 정치 홈 네이버 뉴스 광고적용 태그 추가 메인 메뉴로 바로가기 본문으로 바로가기 검색 뉴스 연예 스포츠 날씨 프리미엄 언론사별 정치 선택됨 경제 사회 생활 문화 과학 세계 랭킹 신문보기 오피니언 팩트체크 전체 언론사 전체 언론사 뉴스스탠드 뉴스스탠드 라이브러리 라이브러리 목 전체 언론사 전체 언론사 뉴스스탠드 뉴스스탠드 라이브러리 라이브러리 기사목록 정치 대통령실 국회 정당 북한 행정 국방 외교 정치일반 언론사 구독하기 네이버 프리미엄콘텐츠 안내 헤드라인 뉴스 헤드라인 뉴스와 각 기사묶음 타이틀은 기사 내용을 기반으로 자동 추출 됩니다 닫기 의원 독도 방문 항의한 일본 외교부 부당한 주장 일축 정부는 전용기 더불어민주당 의원이 독도를 방문한 것에 대한 일본 측의 항의에 일본 측의 부당한 주장은 외교 채널을 통해 일축했다 고 일 밝혔다 외교 서울신문 하태경 의원 독도 방문 극우에게 놀아나는 것 머니투데이 전용기 독도 또 갈 것 항의 우리가 주권침탈 항의해야 동아일보 기시다 회담 앞 또 독도 억지 개의 관련뉴스 더보기 안철수 이진복 겨냥 아무 일 않으면 아무 일 안 생길 텐데 국민의힘 안철수 의원이 공천 개입 논란 녹취 에 대해 대통령실 이진복 정무수석에게 남한테 이야기할 게 아니고 본인께서 아무 일도 하지 않으시면 아무 뉴시스 안철수 이진복 겨냥 아무 일도 하지 않으면 아무 일 안 생겨 헤럴드경제 안철수 아무일 않으면 아무일 안생겨 이진복 정무수석 직격 아시아경제 안철수 이진복 겨냥 아무 일 않으면 아무 일 안 생길텐데 개의 관련뉴스 더보기 속보 대통령 이상인 변호사 방통위 상임위원 지명 윤석열 대통령이 일 이상인 전 법무법인 오늘 대표변호사를 방송통신위원회 상임위원으로 임명했다 방통위 상임위원은 차관급 정무직이다 대통령실은 이날 언 서울경제 조선 이상인 신임 방통위원 방통위는 대통령 직속 행정부처 대통령 국정 철학 따라야 한국일보 대통령 몫 방통위원에 이상인 변호사 임명 미디어오늘 서울법대 동문 방통위원으로 추천엔 일째 무응답 개의 관련뉴스 더보기 몸달은 기시다 한일정상회담서 어떤 말 꺼낼까 윤석열 대통령이 오는 일 방한하는 기시다 후미오 총리와 정상회담을 갖는 가운데 주요 의제에 대한 관심이 모인다 기시다 총리 방한이 지난 데일리안 한일 의제 조율 김대중 오부치 선언 계승 뜻 밝힐 듯 동아일보 기시다 대통령 결단에 보답 위해 답방 사죄 여부 주목 뉴스 결단에 보답 기시다 메시지 주목 정상 간 소통 강화 기대 개의 관련뉴스 더보기 윤리위 사안 위중 긴급회의 태영호 녹취록 병합심사 의결 종합 보 기사내용 요약 김기현 병합판단 요청 몇시간만에 긴급소집 사안 위중 시급 당대표 요청따라 긴급개최 소명 요청 오는 일 징계 수위 결정할 듯 뉴시스 동영상기사 태영호 징계사유 추가 긴급 윤리위 개최 태영호 굴복 안 해 공천 녹취 파문을 일으킨 태영호 국민의힘 최고위원에 대해 이번엔 후원금 쪼개기 의혹이 제기됐습니다 당사자는 태영호 죽이기 라며 반발했지만 당 지도부 개의 관련뉴스 더보기 용산어린이정원 을 위한 에 의한 쇼 뉴스하이킥 아래 텍스트는 실제 방송 내용과 차이가 있을 수 있으니 보다 정확한 내용은 방송으로 확인하시기 바랍니다 프로그램 신장식의 뉴스하이킥 라디오 표준 평일저녁 시 분 시 우리나라엔 어린이 맘껏 뛸 넓은 잔디밭 없어 아이들과 용산어린이정원 첫 입장 주한 미군 기지서 재탄생한 용산어린이정원 년 한 일 의정서 체결 후 일본군 주둔 이래 년 만에 일반에 공개 취임 주년 앞두고 용산 시 세계일보 개의 관련뉴스 더보기 서 발굴된 전사자 유해 년 만에 가족 품으로 비무장지대에서 발굴된 전사자 유해의 신원이 년 만에 확인돼 가족의 품으로 돌아가게 됐습니다 국방부 유해발굴감식단은 지난 년 월 강원 철원 년 만에 전사한 형 유해 만난 동생 여든셋 된 동생이 확인 강원도 철원군 비무장지대 에서 발굴된 전쟁 전사자의 유해가 년 만에 가족의 품으로 돌아갔습니다 오늘 일 국방부 유해발굴감식단은 개의 관련뉴스 더보기 이재명 노동자 때리기로 국정 실패 눈가림 사람 잡는 정치 그만 기사내용 요약 민주노총 간부 분신에 수사 편향 건폭 운운하며 노동자 폭력배 취급 서울 뉴이재명 더불어민주당 대표는 일 업무방해 등 혐의로 뉴시스 영상 이재명 노조 탄압 소중한 생명 앗아가 분노 느껴 더불어민주당이 노동절에 분신 사망한 건설노동자에게 사과할 것을 윤석열 대통령과 여당에 촉구했다 이재명 민주당 대표는 일 최고위원회에서 윤석열 정권의 미디어오늘 개의 관련뉴스 더보기 여당 정부 장관급 공기업 인사에 반정부 노릇하며 알박기 사퇴해야 국민의힘이 문재인 대통령 재임 시기에 임명된 장관급 및 공기업 인사들을 향해 연일 사퇴 압박 메시지를 내고 있다 전임 정부에서 임명된 정부기관장들이 현 경향신문 박대출 정부 알박기 인사 에 반정부 기관장 이젠 물러나야 기사내용 요약 정부기관 정권 충신 영양분 공급 숙주아냐 반정부 노릇 공직자 본분 반하는 이율배반적 서울 뉴박대출 국민의힘 정책위의장은 일 뉴시스 개의 관련뉴스 더보기 박광온 감세 긴축재정 폐기하고 포용적 성장 전환해야 더불어민주당 박광온 원내대표가 민주당의 경제기조는 포용적 성장 이라며 윤석열 정부는 감세정책과 긴축재정정책부터 폐기하기 바란다 고 밝혔습니다 박 원 박광온 청년 고용장려금 늘려야 기업 목소리 들을 것 박광온 더불어민주당 원내대표가 청년 취업의 심각성을 언급했다 아울러 중소기업의 어려움을 듣는 자리를 마련하겠다고 강조했다 박 원내대표는 일 국회 본 전자신문 개의 관련뉴스 더보기 일회용컵 사용 지적한 전 환경부 장관 때는 달랐다 문재인 정부 시절 환경부 장관을 지낸 조명래 단국대 석좌교수가 윤석열 대통령의 일회용 컵 사용을 공개 비판했다 조 전 장관은 일 자신의 페이스북에 한국경제 일회용 컵 사용에 환경부 장관 저렇게 쓰다니 조명래 전 환경부 장관이 윤석열 대통령의 일회용 컵 사용을 공개적으로 비판했다 조 전 장관은 지난 년 월 문재인정부의 두 번째 환경부 장관에 국민일보 개의 관련뉴스 더보기 한숨 돌린 민주당 돈봉투 의혹 연루 윤관석 이성만 탈당 더불어민주당이 일 박광온 원내대표 취임 이후 첫 의원총회를 열고 쇄신안 마련에 착수했다 년 전당대회 돈봉투 의혹 에 연루된 윤관석 이성만 의 서울신문 동영상기사 돈봉투 윤관석 이성만 탈당 시간 동안 쏟아진 쇄신론 년 더불어민주당 전당대회에서 불거진 돈 봉투 의혹 에 연루된 윤관석 이성만 민주당 의원이 일 자진 탈당했다 돈 봉투 의혹 수습책 논의가 예정 중앙일보 개의 관련뉴스 더보기 지난달 이어 오늘 재외동포청 당정 소재지 확정 여부 주목 국민의힘은 일 지난달에 이어 또 한 번 재외동포청 당정협의회를 열고 오는 월 일 출범하는 재외동포청 소재지를 확정하기 위한 논의를 이어간다 이날 비 뉴스 당정 오늘 재외동포청 소재지 논의 최종 결정 전 의견 조율 국민의힘과 정부는 일 국회에서 재외동포청 설치 지역을 논의하기 위해 당정 협의를 연다 당에서는 박대출 정책위의장과 국회 외교통일위원회 여당 간사 김석 연합뉴스 개의 관련뉴스 더보기 기시다 만찬 한남동 대통령 관저서 열리나 홈파티 형식 언론 대통령 관저 개최 조율 윤석열 대통령이 일 방한하는 기시다 후미오 일본 총리와 대통령 관저에서 만찬을 하는 방향으로 양국 정부가 조율하고 있 디지털타임스 일본 언론 윤 대통령 기시다 총리 대통령 관저 홈파티할 듯 윤석열 대통령이 방한하는 기시다 후미오 일본 총리와 홈 파티 형식으로 만찬하는 방향으로 준비하고 있다고 일본 언론이 보도했습니다 오늘 일 일본 산케 개의 관련뉴스 더보기 동영상기사 정부 한상혁 방통위원장 면직 직무정지 검토 종합편성채널 재승인 심사 과정에서 점수 조작에 관여한 혐의로 불구속 기소된 한상혁 방송통신위원장에 대해 면직하거나 직무정지 하는 방안이 검토되는 것으로 정부 알박기 한상혁 방통위원장에 극약처방 들어가나 정부가 종합편성채널 재승인 심사 과정에서 점수 조작에 관여한 혐의로 재판에 넘겨진 한상혁 방송통신위원장을 면직하는 방안을 검토 중인 것으로 알려졌다 부산일보 개의 관련뉴스 더보기 이재명 윤석열 정부 외교 친구 아니면 적 이재명 민주당 대표는 오늘 일 안타깝게도 윤석열 정부는 뻔한 정답을 놔두고 일부러 오답을 선택하는 것 같다 며 정부의 외교 안보 정책을 비판했습니다 이재명 정부 미 일에는 호갱외교 중 러 자극해 한반도 위기 이재명 더불어민주당 대표가 일 윤석열 정부의 외교 안보 정책에 대해 일본에는 무한하게 퍼주고 미국에는 알아서 접어주는 호갱외교를 자처하면서 중국과 러 뉴스 개의 관련뉴스 더보기 헤드라인 더보기 연재보기 최원목의 글로벌한국 워싱턴선언 에 대한 평가 이화여대 법학전문대학원 교수 한미 간 최대 과제의 하나는 한반도에 실효성 있는 핵억지 체제를 구축하는 일이다 북한은 이미 여개의 핵무기를 보유하고 있고 서울신문 서울신문 반도체 국가안보 전략이 필요하다 이화여대 법학전문대학원 교수 서울신문 강제동원 해법 국제중재 판정이 선행돼야 이화여대 법학전문대학원 교수 서울신문 경기침체 방어로 정책방향 바꿔야 이화여대 법학전문대학원 교수 뉴스 더보기 추천 으로 구성된 뉴스를 제공합니다 언론사별 가장 많이 본 뉴스 안내 각 언론사의 가장 많이 본 기사 건을 제공합니다 닫기 오후 시 오후 시까지 집계한 결과입니다 응급실 돌다 구급차서 숨진 대 거부 병원 곳 철퇴 국민일보 억 받던 나영석 퇴사 알고보니 충격의 적자 사 헤럴드경제 억 로또 등 당첨 한 달 후 일용직 아직 다녀 조선일보 얘들아 미안해 어린이날 년 만에 전국 물폭탄 뉴스 동영상기사 피해자 바지 지퍼 내려간 상태 부산 돌려차기 경찰 일회용품을 저렇게 쓰다니 비판했는데 도 일회용컵 아시아경제 현장르포 오늘부터 무료인 줄 몰랐다 조계종 사찰 가 본인 병원서 숨진채 발견된 의사 클럽마약 케타민 상습투 중앙일보 용인이 억 이게 되네요 예상 깬 최고가 아파트 한국경제 억대 연봉 탈모 없음 살 여의사 남편 서울신문 웃으며 구타 여중생 학폭 충격 영상 공권력 나섰다 데일리안 동영상기사 날씨 고온 이어 폭우 온다 어린이날 태풍급 비바 단독 현대건설 인니 뇌물 의혹 돈세탁 사건으로 확대 조선비즈 응급실 돌다 숨진 대구 대 병원 곳 과징금에 보조금 자동세차 끝난 차량이 급가속 옆 정비소까지 아수라 파이낸셜뉴스 로또 등 억 당첨 후 한달 아직 일용직 다닌다 왜 동아일보 열흘째 하락 만원도 깨졌다 한국경제 러 크렘린궁 상공서 드론 자폭 푸틴 암살 시도 전자신문 수가 올려 의사 더 뽑아야죠 근데 그 수가 병원이 한국일보 스무살 때 에 납치될 뻔 만 유튜버 일화 공 디지털타임스 캄보디아 간호사 증언 서세원에 사망 직전 하얀 액체 매일경제 동영상기사 더 글로리 촬영장인 줄 잔인한 학폭 영상 충격 태국 팝 팬들의 눈물 월급 다 털어야 블랙핑크 볼 수 서울경제 지들도 처맞았나 태안 학폭 가해자 반성 없는 태도에 공 연합뉴스 눈물바다가 됐다 미혼모 손님 외상해준 사장님이 전한 디지털데일리 홍대입구역 출구서 지갑 줍지 마세요 경고 글 확 머니투데이 발가락 개 아기 사망선고 의사 가운 벗고 보호자를 안으 한겨레 동영상기사 어린이날 우산 쓸 확률 불과한데 올해는 호우특보 연합뉴스 대만서 숨진 여친 짐부터 으로 동행 남자친구 살해했냐 문화일보 티켓값 억 천만원 전석 매진 브루노 마스 공연 조선 부모님이 택배기사님에게 쥐여준 만 원 오마이뉴스 방귀쟁이 며느리 동화는 나쁜 이야기일까요 한겨레 로또 등 당첨 한 달 후기 일용직인데 꿈만 같아 빚 갚 인천대공원 대신 키카 어린이날 비소식에 시민들 경향신문 속보 이재명 측근 김용도 구속 개월만에 풀려나 정진 강원일보 단독 이준석 천아용인 광주 총집결 횃불 들고 시사저널 우리 부부 성관계 직접 올려 억 챙겨 구독 이데일리 이재명 불법 대선자금 김용 구속 개월 만에 보석 석 부산일보 조민 생활한복 입고 전주 한옥마을 방문 일각선 외부 활 매일신문 마약류 투약 혐의 대 의사 숨진 채 발견 광주방송 일회용품 걱정 끝 라멘회사 면으로 된 포크 선봬 뉴시스 머리채 잡히고 발로 일방적 폭행 태안 학폭 영상 유포 노컷뉴스 어린이 산행 핸드폰 보다 산이 좋아요 최연소 월간 산 이 음식 먹을 때 속 메스껍다면 췌장 위험하단 신호 헬스조선 임영웅은 왜 다른가 평론가들에게 물었다 시사 이재명 돈봉투 사건 질문에 태영호는 반문 당내에서도 프레시안 조민 생활한복 입고 전주여행 눈길 전주 홍보영상인 줄 세계일보 쇼크 남자친구 있으면 안 돼 만 유튜버 아이뉴스 이재명 윤 대통령 호갱 외교 자처 핵공유 문제도 빈껍데 채널 국민의힘 방송 출연자 블랙리스트 유포는 반헌법적 일탈 미디어오늘 치킨업계 위 바뀌었다 원 인상 후폭풍 교촌 매경이코노미 미 금리 인상으로 금리차 까지 확대 외환시장은 조세일보 현대엘리베이터 자사주 억 소각 억 매입 블로터 체감온도 도 괴물폭염 우리나라도 달궜다 주가 조작 몰랐다 나도 피해자 임창정은 진짜 피해자일 이코노미스트 코리아헤럴드 증권가 기준금리 인상 사이클 마무리 될 것 더팩트 제품 개발만 년 걸린 소주한잔 세븐일레븐 임창정 한경비즈니스 에 추가될 가지 기능 어떤 게 있나 김재원 태영호 반발해도 눈 하나 깜짝 안 할 신동아 양문형 버스 등장하면 벌어질 현상은 비즈워치 옛것 에 세대 취향 얹은 최신 유행들 주간동아 군을 믿어서는 안 됐다 고 이예람 중사 부모 인터 뉴스타파 분신 민주노총 건설노조 강원지부 양회동씨 빈소 서울로 강원도민일보 윤석열 이어 필리핀 마르코스도 대만해협 주간조선 코리아중앙데일리 놀이공원 만원 양심 어디로 어린이날 노린 암표 머니 혈압 조절에 살도 빼는 운동 음식은 코메디닷컴 오늘과학 콘도르가 시체 먹는 이유 년전 배설 동아사이언스 이혼한 부인에 불 붙이고 투신 경찰 수사 나서 전주 년 만의 미투 피해자가 사법정의를 묻고 있다 일다 에드워드 호퍼 매혹만큼 깊은 여성혐오의 그늘 여성신문 대강 보가 해갈에 쓸모 정봉석의 기후환경 이야기 주간경향 대구 경북 늦은 오후부터 비 토요일까지 대구 대통령몫 방통위원 지명 야당 추천몫 한 달 넘게 공석 기자협회보 전주 홍보영상 써라 조민 생활한복 입고 한옥마을 방 대전일보 홀로 키워 아들 명문대 보냈는데 이젠 결혼하면 얼마 보태 농민신문 실종 아동 찾는 지문 등록 아직도 안하셨나요 경기일보 행정센터 프린터기 던지고 한동훈 불러라 한 악성 민원인 국제신문 민주 김민석 윤 대통령 간호법 거부권 행사 이해하기 청주방송 민주 김민석 윤 대통령 간호법 거부권 행사 이해하기 청주방송 안민석 음주 사기 불륜은 출마 안돼 대놓고 이 제 세종문화회관을 여의도공원에 깜깜이 부지 변경 추적 더스쿠프 국립한글박물관 기획특별전 어린이 나라 열고 어린이날 중앙 한소희 패션 브랜드 찰스앤키스 앰배서더 발탁 레이디경향 더보기 분야별 주요뉴스 윤 대통령 김건희 여사 용산어린이정원 개문 퍼포먼스 윤 대통령 김건희 여사 용산어린이정원 개문 퍼포먼스 이재명 정부 미 일엔 호갱 외교 이분법적 안보 일관 이재명 정부 미 일엔 호갱 외교 이분법적 안보 일관 시민단체 기시다 방한 때 직접 식민지배 반성 사과 표명해야 시민단체 기시다 방한 때 직접 식민지배 반성 사과 표명해야 크렘린궁 드론 공격 러 반전세력 소행인가 영상 크렘린궁 드론 공격 러 반전세력 소행인가 영상 트럼프 나였으면 우크라이나 전쟁 시간 안에 종료 트럼프 나였으면 우크라이나 전쟁 시간 안에 종료 한미 금리 격차 사상 최대 환율 영향은 한미 금리 격차 사상 최대 환율 영향은 억원 다시 올랐네 서울 강남 서초 노원 경기 인천 기 신도시 회복세 종합 억원 다시 올랐네 서울 강남 서초 노원 경기 인천 기 신도시 회복세 종합 아태 국장 한국 외환보유고 충분하다 경제 매우 탄탄 일문일답 아태 국장 한국 외환보유고 충분하다 경제 매우 탄탄 일문일답 분기 영업손실 억원 광고 시장 위축 탓 분기 영업손실 억원 광고 시장 위축 탓 분기 영업익 반토막난 카카오 투자 지속 경쟁력 낮은 사업 정리 분기 영업익 반토막난 카카오 투자 지속 경쟁력 낮은 사업 정리 이재명 측근 정진상 이어 김용도 석방 위치추적장치 부착 종합 이재명 측근 정진상 이어 김용도 석방 위치추적장치 부착 종합 민주당 돈봉투 핵심 피의자 강래구 구속영장 재청구 민주당 돈봉투 핵심 피의자 강래구 구속영장 재청구 강남 마약음료 일당에 최대 사형 혐의 적용 이 악문 검찰 강남 마약음료 일당에 최대 사형 혐의 적용 이 악문 검찰 비행기 배까지 결항 예고 어린이날 계획 망친 봄 물폭탄 왜 비행기 배까지 결항 예고 어린이날 계획 망친 봄 물폭탄 왜 날씨 어린이날 강한 비바람 모레 낮까지 이어져 날씨 어린이날 강한 비바람 모레 낮까지 이어져 네이버 메인에서 바로 보는 언론사 편집뉴스 지금 바로 구독해보세요 내일을 여는 국민의 국회 뉴스 기사와 댓글로 인한 문제 발생 시 시간 센터로 접수해주세요 서비스 안내 고침 기사 모음 정정 반론 추후 보도 기사 모음 불공정 선거 보도 기사 모음 서비스 안내 더보기 이젠 페이지 맨위로 언론사 목록 열기 로딩 중 분야별 목록 열기 로딩 중 이용약관 서비스 안내 기사배열 원칙 책임자 유봉석 청소년 보호 책임자 이희만 개인정보처리방침 책임의 한계와 법적고지 새창 뉴스 고객센터 본 콘텐츠의 저작권은 제공처 또는 네이버에 있으며 이를 무단 이용하는 경우 저작권법 등에 따라 법적책임을 질 수 있습니다\n"
     ]
    }
   ],
   "source": [
    "url = 'https://news.naver.com/main/main.nhn?mode=LSD&mid=shm&sid1=100'\n",
    "\n",
    "headers = {\"User-Agent\":\"Mozilla/5.0 (Windows NT 10.0; Win64; x64) AppleWebKit/537.36 (KHTML, like Gecko) Chrome/96.0.4664.45 Safari/537.36\"}\n",
    "\n",
    "soup = BeautifulSoup(requests.get(url, headers=headers).text)\n",
    "\n",
    "print(' '.join(re.findall('[가-힣]+', str(soup))))"
   ]
  },
  {
   "cell_type": "markdown",
   "metadata": {},
   "source": [
    "Q11. \"http://www.naver.com\" 사이트에서 span 태그에 연결된 한글 전부를 불필요한 공백을 제거한 후 출력하세요."
   ]
  },
  {
   "cell_type": "code",
   "execution_count": 115,
   "metadata": {},
   "outputs": [
    {
     "name": "stdout",
     "output_type": "stream",
     "text": [
      "뉴스스탠드 바로가기 주제별캐스트 바로가기 타임스퀘어 바로가기 쇼핑캐스트 바로가기 로그인 바로가기 매일 쓰는 브라우저 보안이 걱정된다면 안전하고 빠른 최신 브라우저 웨일로 업데이트 하세요 매일 쓰는 브라우저 보안이 걱정된다면 다운로드 네이버 쥬니어네이버 해피빈 검색 한글 입력기 자동완성 레이어 삭제 설정이 초기화 된다면 도움말을 확인해주세요 설정이 초기화 된다면 도움말을 확인해주세요 도움말 도움말 자동저장 끄기 자동저장 끄기 회 로또당첨번호 동행복권 제공 동행복권 제공 원 원 바로가기 바로가기 추가 추가 추가 자세히보기 도움말 신고 도움말 신고 자동완성 끄기 자동완성 끄기 쇼핑 쇼핑 영등포동 가 영등포동 가 리스트형 썸네일형 설정 이전 다음 닫기 닫기 이전 다음 닫기 닫기 이전 다음 다음 닫기 닫기 이전 다음 닫기 닫기 주제별로 분류된 다양한 글 모음 개의 글 이전 다음 이니스프리 이니스프리 라코스테 라코스테 개월 전 보거 보거 개월 전 다지 다지 개월 전 물보라 물보라 개월 전 양 양 재생 재생시간 재생시간 개월 전 디렉터파이 디렉터파이 재생 재생시간 재생시간 년 전 디렉터파이 디렉터파이 재생 재생시간 재생시간 년 전 디렉터파이 디렉터파이 개월 전 최뮤즈 최뮤즈 개월 전 버니 버니 개월 전 팡 팡 개월 전 뚜이 뚜이 재생 재생시간 재생시간 년 전 디렉터파이 디렉터파이 재생 재생시간 재생시간 년 전 갓신상 갓신상 재생 재생시간 재생시간 년 전 디렉터파이 디렉터파이 개월 전 순수틱 순수틱 개월 전 제리의 뷰티로그 제리의 뷰티로그 개월 전 개월 전 썸블리 썸블리 개월 전 뷰스타 쏭이또니 뷰스타 쏭이또니 재생 재생시간 재생시간 년 전 파우더룸 파우더룸 재생 재생시간 재생시간 년 전 디렉터파이 디렉터파이 재생 재생시간 재생시간 년 전 미소정 미소정 개월 전 헤일리 헤일리 개월 전 살구 살구 개월 전 뷰리진 뷰리진 개월 전 나날 나날 개월 전 빛 빛 재생 재생시간 재생시간 년 전 디렉터파이 디렉터파이 재생 재생시간 재생시간 년 전 뷰티 여드름 인씨 뷰티 여드름 인씨 재생 재생시간 재생시간 년 전 디렉터파이 디렉터파이 개월 전 미즈옹 미즈옹 개월 전 치즈초콜릿 치즈초콜릿 개월 전 윤파스 윤파스 개월 전 뷰스타 김자몽 뷰스타 김자몽 개월 전 제리의 뷰티로그 제리의 뷰티로그 재생 재생시간 재생시간 년 전 옆집언니 최실장 옆집언니 최실장 재생 재생시간 재생시간 년 전 옆집언니 최실장 옆집언니 최실장 재생 재생시간 재생시간 년 전 기은세 기은세 개월 전 슈나이 슈나이 개월 전 메이쥬니 메이쥬니 개월 전 뷰리진 뷰리진 개월 전 나날 나날 개월 전 최뮤즈 최뮤즈 재생 재생시간 재생시간 년 전 옆집언니 최실장 옆집언니 최실장 재생 재생시간 재생시간 년 전 옆집언니 최실장 옆집언니 최실장 재생 재생시간 재생시간 년 전 채정안 채정안 개월 전 뷰스타 다랑 뷰스타 다랑 개월 전 꼬소 꼬소 개월 전 뷰스타 쏭이또니 뷰스타 쏭이또니 개월 전 데이즈 데이즈 개월 전 뷰스타 허니잼 뷰스타 허니잼 재생 재생시간 재생시간 년 전 디렉터파이 디렉터파이 재생 재생시간 재생시간 년 전 채정안 채정안 재생 재생시간 재생시간 년 전 채정안 채정안 개월 전 로라 로라 개월 전 꿈쏭 꿈쏭 개월 전 리뷰하는여자 리뷰하는여자 개월 전 뷰스타 민슨 뷰스타 민슨 개월 전 재생 재생시간 재생시간 년 전 옆집언니 최실장 옆집언니 최실장 재생 재생시간 재생시간 년 전 백지수의 미미백 백지수의 미미백 재생 재생시간 재생시간 년 전 옆집언니 최실장 옆집언니 최실장 개월 전 유니 유니 개월 전 호갱님안나 호갱님안나 개월 전 다지 다지 개월 전 리쉬뷰티 리쉬뷰티 개월 전 러블리히블리 러블리히블리 재생 재생시간 재생시간 년 전 채정안 채정안 재생 재생시간 재생시간 년 전 채정안 채정안 재생 재생시간 재생시간 년 전 기은세 기은세 개월 전 으니쮸 으니쮸 개월 전 쇼콜라 쇼콜라 개월 전 제제 제제 개월 전 녕뚜 녕뚜 개월 전 장품생활 조이 장품생활 조이 재생 재생시간 재생시간 년 전 디렉터파이 디렉터파이 재생 재생시간 재생시간 년 전 옆집언니 최실장 옆집언니 최실장 재생 재생시간 재생시간 년 전 갓신상 갓신상 개월 전 개월 전 써니블리 써니블리 개월 전 케잌차 케잌차 개월 전 로라 로라 개월 전 살구 살구 재생 재생시간 재생시간 년 전 채정안 채정안 재생 재생시간 재생시간 년 전 갓신상 갓신상 재생 재생시간 재생시간 년 전 채정안 채정안 개월 전 연우 연우 개월 전 아킴 아킴 개월 전 히요정 히요정 개월 전 버니 버니 개월 전 미즈옹 미즈옹 재생 재생시간 재생시간 년 전 누엘 누엘 재생 재생시간 재생시간 년 전 블럼 메이크업 블럼 메이크업 재생 재생시간 재생시간 년 전 채정안 채정안 이전 다음 코로나바이러스감염증 현황 하락 하락 상승 상승 하락 하락 라이트 모드로 보기 "
     ]
    }
   ],
   "source": [
    "url = \"http://www.naver.com\"\n",
    "\n",
    "headers = {\"User-Agent\":\"Mozilla/5.0 (Windows NT 10.0; Win64; x64) AppleWebKit/537.36 (KHTML, like Gecko) Chrome/96.0.4664.45 Safari/537.36\"}\n",
    "\n",
    "soup = BeautifulSoup(requests.get(url, headers=headers).text)\n",
    "\n",
    "for text in soup.find_all('span'):\n",
    "    match = re.findall('[가-힣]+', text.text)\n",
    "    if match:\n",
    "        print(' '.join(match), end=' ')"
   ]
  },
  {
   "cell_type": "markdown",
   "metadata": {},
   "source": [
    "Q12. url = 'https://naver.com'에서 셀레니움을 활용하여 경제 뉴스 카테고리로 들어간 후 BS 메서드를 이용하여 뉴스 제목과 링크를 10개씩 출력하세요."
   ]
  },
  {
   "cell_type": "code",
   "execution_count": 218,
   "metadata": {},
   "outputs": [
    {
     "name": "stdout",
     "output_type": "stream",
     "text": [
      "\"파월 발언 그대로 수용하긴 어려워…연내 금리인하 가능성 여전\"-교보\n",
      "https://n.news.naver.com/mnews/article/015/0004840759?sid=101\n",
      "한은 \"미 연준 금리인상 마무리 단계…시장 변동성 주시\"\n",
      "https://n.news.naver.com/mnews/article/055/0001055377?sid=101\n",
      "연준, 기준금리 0.25%p 인상···한·미간 금리차 1.75%로 사상 최대\n",
      "https://n.news.naver.com/mnews/article/032/0003221462?sid=101\n",
      "한은 \"연준 금리인상 마무리 단계…금융시장 변동성 주시\"\n",
      "https://n.news.naver.com/mnews/article/001/0013920983?sid=101\n",
      "패스트푸드도 인플레... 햄버거·피자·치킨 물가 천정부지\n",
      "https://n.news.naver.com/mnews/article/469/0000737619?sid=101\n",
      "“햄버거나 먹자고?” 역대급 오른 버거값, 19년만에 최고치 찍었다 [언박싱]\n",
      "https://n.news.naver.com/mnews/article/016/0002138992?sid=101\n",
      "햄버거만 오를까.. 19년 만에 최고치 반등, \"이제 시작?\"\n",
      "https://n.news.naver.com/mnews/article/661/0000024531?sid=101\n",
      "등골 휘는 '어린이날 물가'…문구·놀이공원·외식 다 올랐다\n",
      "https://n.news.naver.com/mnews/article/658/0000039971?sid=101\n",
      "NH농협은행, 아시아개발은행 연차총회서 디지털 금융 홍보\n",
      "https://n.news.naver.com/mnews/article/366/0000898773?sid=101\n",
      "농협경제지주, ‘농협 농식품가공공장 전국협의회’ 정기총회 개최\n",
      "https://n.news.naver.com/mnews/article/022/0003809098?sid=101\n",
      "농협경제지주, ‘농식품가공공장 전국협의회’ 정기총회 개최\n",
      "https://n.news.naver.com/mnews/article/020/0003495240?sid=101\n",
      "농협은행 경남본부, NH Best Banker 경남·부산 합동 시상식 개최\n",
      "https://n.news.naver.com/mnews/article/629/0000215082?sid=101\n",
      "尹 만난 日총재 “노래 잘 부르시는 걸 보니 공연 기대”\n",
      "https://n.news.naver.com/mnews/article/005/0001606005?sid=101\n",
      "尹 \"ADB에 한국 성장 공유\"…서울 '기후기술 K-허브' 설립한다\n",
      "https://n.news.naver.com/mnews/article/025/0003277642?sid=101\n",
      "한-인도 재무장관회의 하반기 개최키로…추경호 \"韓기업 통관 등 어려움 해소\"\n",
      "https://n.news.naver.com/mnews/article/011/0004186835?sid=101\n",
      "추경호, 조지아 재무장관 만나 \"경제동반자협정 체결 추진\"\n",
      "https://n.news.naver.com/mnews/article/003/0011841215?sid=101\n",
      "삼성·SK, 한숨 돌렸지만 …업계 \"예외조항 신설 등 근본대책 필요\"\n",
      "https://n.news.naver.com/mnews/article/018/0005478806?sid=101\n",
      "\"美, 삼성전자·SK하이닉스 中 장비 반입 1년 추가 연장\"\n",
      "https://n.news.naver.com/mnews/article/374/0000334428?sid=101\n",
      "“여수 묘도에 1조원 쏟는다” 한양-린데 수소 클러스터 만든다\n",
      "https://n.news.naver.com/mnews/article/014/0005007243?sid=101\n",
      "김영록 지사, 독일 린데사와 8억 달러 투자협약\n",
      "https://n.news.naver.com/mnews/article/016/0002139086?sid=101\n",
      "GM 해외부문 사장 \"트렉스 크로스오버 성공은 韓시장 성장동력\"\n",
      "https://n.news.naver.com/mnews/article/003/0011840216?sid=101\n",
      "실판 아민 GM 사장 방한 “트랙스 크로스오버, 놀라운 성공”\n",
      "https://n.news.naver.com/mnews/article/366/0000898967?sid=101\n",
      "\"연준 금리 인상 끝\" 약달러 vs \"금리 인하 없다\" 은행 불안[외환브리핑]\n",
      "https://n.news.naver.com/mnews/article/018/0005478417?sid=101\n",
      "한미 금리差 1.75%P ‘역대 최대’…환율 급등에 外人 ‘폭풍 매수세’ 꺾이나 [투자360]\n",
      "https://n.news.naver.com/mnews/article/016/0002139038?sid=101\n",
      "1분기 부진 못 면한 퀄컴…\"당분간 스마트폰 수요 회복 없다\"\n",
      "https://n.news.naver.com/mnews/article/018/0005478832?sid=101\n",
      "퀄컴 \"당장 스마트폰 수요 늘지 않을 것…올해 출하량 5~10%↓\"\n",
      "https://n.news.naver.com/mnews/article/001/0013922320?sid=101\n",
      "'블핑 랩핑' 보잉777 파리부터 날아간다…부산엑스포 홍보전\n",
      "https://n.news.naver.com/mnews/article/025/0003277621?sid=101\n",
      "대통령실 \"항공기에 블랙핑크 래핑…부산엑스포 '육해공' 유치전\"\n",
      "https://n.news.naver.com/mnews/article/079/0003766489?sid=101\n",
      "IMF \"한은, 물가에 초점 맞춰야…섣부른 통화정책 완화 안 돼\"\n",
      "https://n.news.naver.com/mnews/article/001/0013921791?sid=101\n",
      "IMF \"섣부른 통화정책 완화 지양해야... 한국 올해 1.5% 성장\"\n",
      "https://n.news.naver.com/mnews/article/469/0000737591?sid=101\n"
     ]
    }
   ],
   "source": [
    "from selenium import webdriver\n",
    "from selenium.webdriver.common.by import By\n",
    "import requests\n",
    "from bs4 import BeautifulSoup\n",
    "\n",
    "url = 'https://naver.com'\n",
    "\n",
    "headers = {\"User-Agent\":\"Mozilla/5.0 (Windows NT 10.0; Win64; x64) AppleWebKit/537.36 (KHTML, like Gecko) Chrome/96.0.4664.45 Safari/537.36\"}\n",
    "\n",
    "driver = webdriver.Chrome('c:/tool/chromedriver.exe')\n",
    "\n",
    "driver.get(url)\n",
    "\n",
    "driver.find_element(By.XPATH, '//*[@id=\"NM_FAVORITE\"]/div[1]/ul[2]/li[2]/a').click()\n",
    "driver.find_element(By.XPATH, '/html/body/section/header/div[2]/div/div/div[1]/div/div/ul/li[3]/a/span').click()\n",
    "\n",
    "soup = BeautifulSoup(driver.page_source)\n",
    "\n",
    "texts = soup.find_all('a', {'class':'cluster_text_headline nclicks(cls_eco.clsart)'})\n",
    "\n",
    "for text in texts:\n",
    "    print(text.text)\n",
    "    print(text['href'])"
   ]
  },
  {
   "cell_type": "markdown",
   "metadata": {},
   "source": [
    "Q13. url = 'https://naver.com'에서 셀레니움을 활용하여 경제 뉴스 카테고리에서 뉴스 제목과 링크를 10개씩 출력하세요."
   ]
  },
  {
   "cell_type": "code",
   "execution_count": 97,
   "metadata": {},
   "outputs": [
    {
     "name": "stderr",
     "output_type": "stream",
     "text": [
      "C:\\Users\\h\\AppData\\Local\\Temp\\ipykernel_15256\\475166119.py:5: DeprecationWarning: executable_path has been deprecated, please pass in a Service object\n",
      "  driver = webdriver.Chrome('c:/tool/chromedriver.exe')\n"
     ]
    },
    {
     "name": "stdout",
     "output_type": "stream",
     "text": [
      "현대차, 美서 수소트럭 공개… ‘수소 가치사슬 구축’ 비전\n",
      "https://n.news.naver.com/mnews/article/020/0003495388?sid=101\n",
      "유튜브로 알리는 수소경제…산업부 '수소앤써 시즌2'\n",
      "https://n.news.naver.com/mnews/article/001/0013921398?sid=101\n",
      "SK E&S-현대차, 기업 통근버스 연료 ‘수소’로 바꾼다\n",
      "https://n.news.naver.com/mnews/article/366/0000899061?sid=101\n",
      "수소경제 주요 현장 공개…산업부, '수소앤써 시즌2' 배포\n",
      "https://n.news.naver.com/mnews/article/003/0011840809?sid=101\n",
      "美, 삼성전자·SK하이닉스 中공장 장비 반입 1년 추가연장 검토\n",
      "https://n.news.naver.com/mnews/article/001/0013921258?sid=101\n",
      "삼성·SK, 中 장비 반입 1년 연장될까…\"숨통 트일 것\" 기대감\n",
      "https://n.news.naver.com/mnews/article/008/0004883375?sid=101\n",
      "“美, 삼성전자·SK하이닉스 中 장비 반입 1년 추가 연장할 듯”\n",
      "https://n.news.naver.com/mnews/article/023/0003761687?sid=101\n",
      "삼성·SK, 한숨 돌렸지만 …업계 \"예외조항 신설 등 근본대책 필요\"\n",
      "https://n.news.naver.com/mnews/article/018/0005478806?sid=101\n",
      "DL이앤씨·카본코, 2050 탄소중립 실현 업무협약 체결\n",
      "https://n.news.naver.com/mnews/article/018/0005478622?sid=101\n",
      "DL이앤씨, 탄소광물플래그십 사업단 및 학계와 ‘탄소중립’ 업무협약 체결\n",
      "https://n.news.naver.com/mnews/article/020/0003495492?sid=101\n"
     ]
    }
   ],
   "source": [
    "import time\n",
    "\n",
    "url = 'https://naver.com'\n",
    "    \n",
    "driver = webdriver.Chrome('c:/tool/chromedriver.exe')\n",
    "\n",
    "driver.get(url)\n",
    "\n",
    "driver.find_element(By.XPATH, '//*[@id=\"NM_FAVORITE\"]/div[1]/ul[2]/li[2]/a').click()\n",
    "driver.find_element(By.XPATH, '/html/body/section/header/div[2]/div/div/div[1]/div/div/ul/li[3]/a/span').click()\n",
    "\n",
    "time.sleep(1)\n",
    "\n",
    "headlines = driver.find_elements(By.XPATH, '//*[@id=\"main_content\"]/div/div/div/div/div/ul/li/div/a')\n",
    "\n",
    "for headline in headlines[:10]:\n",
    "    print(headline.text)\n",
    "    print(headline.get_attribute('href'))"
   ]
  },
  {
   "cell_type": "markdown",
   "metadata": {},
   "source": [
    "Q14. \"http://www.naver.com\" 사이트에서 a 태그에 id가 있는 경우에 대하여 연결된 문자 + 숫자를 아래와 같이 출력하세요.\n",
    "- 해당되는 조건에 맞게 모두 출력\n",
    "- 한글만 열방향으로 출력\n",
    "- 불필요한 공백을 제거한 후 한글만 한줄에 출력"
   ]
  },
  {
   "cell_type": "code",
   "execution_count": 66,
   "metadata": {},
   "outputs": [
    {
     "name": "stdout",
     "output_type": "stream",
     "text": [
      "[<a class=\"_2aeXMlrb BMgpjddw\" data-clk=\"dropdownload1b\" href=\"https://installer-whale.pstatic.net/downloads/banner/RydDy7/WhaleSetup.exe\" id=\"NM_whale_download_btn\"><span style=\"background-color: #0436c7\">다운로드</span></a>, <a class=\"link_set\" data-clk=\"top.mkhome\" href=\"https://help.naver.com/support/welcomePage/guide.help\" id=\"NM_set_home_btn\">네이버를 시작페이지로</a>, <a class=\"btn_keyboard\" href=\"#\" id=\"ke_kbd_btn\" onclick=\"return false;\" role=\"button\"><span class=\"blind\">한글 입력기</span><span class=\"ico_keyboard\"></span></a>, <a aria-pressed=\"false\" class=\"btn_arw _btn_arw fold\" data-atcmp-element=\"\" href=\"#\" id=\"nautocomplete\" role=\"button\" tabindex=\"2\"><span class=\"blind\">자동완성 레이어</span><span class=\"ico_arr\"></span></a>, <a class=\"btn_set\" data-clk=\"tca.like\" href=\"#\" id=\"NM_THEME_EDIT_SET\" role=\"button\">관심주제 설정</a>, <a class=\"content_top\" href=\"#wrap\" id=\"NM_scroll_top_btn\"><span class=\"blind\">TOP</span></a>] \n",
      "\n",
      "다운로드\n",
      "네이버를 시작페이지로\n",
      "한글 입력기\n",
      "자동완성 레이어\n",
      "관심주제 설정\n",
      "\n",
      "다운로드 네이버를 시작페이지로 한글 입력기 자동완성 레이어 관심주제 설정  "
     ]
    }
   ],
   "source": [
    "import re\n",
    "\n",
    "url = \"http://www.naver.com\"\n",
    "    \n",
    "headers = {\"User-Agent\":\"Mozilla/5.0 (Windows NT 10.0; Win64; x64) AppleWebKit/537.36 (KHTML, like Gecko) Chrome/96.0.4664.45 Safari/537.36\"}\n",
    "\n",
    "soup = BeautifulSoup(requests.get(url, headers=headers).text)\n",
    "\n",
    "texts = soup.find_all('a', id=True)\n",
    "\n",
    "print(texts, '\\n')\n",
    "\n",
    "for text in texts:\n",
    "    print(' '.join(re.findall('[가-힣]+', text.text)))\n",
    "\n",
    "for text in texts:\n",
    "    print(' '.join(re.findall('[가-힣]+', text.text)), end=' ')"
   ]
  },
  {
   "cell_type": "markdown",
   "metadata": {},
   "source": [
    "Q15. 네이버 영화 랭킹 실시간 조회 데이터를 가져와서 Top 10 영화를 아래와 같이 출력하세요."
   ]
  },
  {
   "cell_type": "markdown",
   "metadata": {},
   "source": [
    "1: 던전 앤 드래곤: 도적들의 명예\n",
    "\n",
    "2: 존 윅 3: 파라벨룸\n",
    "\n",
    "3: 존 윅\n",
    "\n",
    "4: 앤트맨과 와스프: 퀀텀매니아(세트: 1~3편)\n",
    "\n",
    "5: 존 윅 - 리로드\n",
    "\n",
    "6: 앤트맨과 와스프: 퀀텀매니아\n",
    "\n",
    "7: 소중한 날의 꿈\n",
    "\n",
    "8: 파벨만스\n",
    "\n",
    "9: 아바타: 물의 길(부가영상 제공)\n",
    "\n",
    "10: 가디언즈 오브 갤럭시 VOL. 2(패키지: 자막판+더빙판+부가영상)"
   ]
  },
  {
   "cell_type": "code",
   "execution_count": 86,
   "metadata": {},
   "outputs": [
    {
     "name": "stdout",
     "output_type": "stream",
     "text": [
      "1: 던전 앤 드래곤: 도적들의 명예\n",
      "2: 존 윅\n",
      "3: 아바타: 물의 길(부가영상 제공)\n",
      "4: 극장판 짱구는 못말려: 수수께끼! 꽃피는 천하떡잎학교\n",
      "5: 존 윅 3: 파라벨룸\n",
      "6: 앤트맨과 와스프: 퀀텀매니아(세트: 1~3편)\n",
      "7: 소중한 날의 꿈\n",
      "8: 타이타닉\n",
      "9: 장화신은 고양이: 끝내주는 모험\n",
      "10: 에브리씽 에브리웨어 올 앳 원스\n"
     ]
    }
   ],
   "source": [
    "url = \"https://serieson.naver.com/v3/movie/ranking/realtime\"\n",
    "\n",
    "headers = {\"User-Agent\":\"Mozilla/5.0 (Windows NT 10.0; Win64; x64) AppleWebKit/537.36 (KHTML, like Gecko) Chrome/96.0.4664.45 Safari/537.36\"}\n",
    "\n",
    "soup = BeautifulSoup(requests.get(url, headers=headers).text)\n",
    "\n",
    "for num, text in enumerate(soup.find_all('span', class_='Title_title__s9o0D')[:10]):\n",
    "    print(f'{num+1}: {text.text}')"
   ]
  },
  {
   "cell_type": "markdown",
   "metadata": {},
   "source": [
    "Q16. 네이버 뉴스 데이터 사회분야 데이터를 가져와서 다음을 수행하세요.\n",
    "- 첫번째 뉴스 제목과 href를 출력\n",
    "- 뉴스 제목과 href를 각각 10개씩 출력"
   ]
  },
  {
   "cell_type": "code",
   "execution_count": 127,
   "metadata": {},
   "outputs": [
    {
     "name": "stderr",
     "output_type": "stream",
     "text": [
      "C:\\Users\\h\\AppData\\Local\\Temp\\ipykernel_15256\\691529500.py:5: DeprecationWarning: executable_path has been deprecated, please pass in a Service object\n",
      "  driver = webdriver.Chrome('c:/tool/chromedriver.exe')\n"
     ]
    },
    {
     "name": "stdout",
     "output_type": "stream",
     "text": [
      "야당, 건설노조 간부 유서 공개...\"무고하게 구속된 분들 풀어달라\"\n",
      "https://n.news.naver.com/mnews/article/052/0001880578?sid=102 \n",
      "\n",
      "야당, 건설노조 간부 유서 공개...\"무고하게 구속된 분들 풀어달라\"\n",
      "https://n.news.naver.com/mnews/article/052/0001880578?sid=102\n",
      "“윤석열 정부가 노동자 죽여…” 민주노총 대전·세종본부 정부 규탄\n",
      "https://n.news.naver.com/mnews/article/022/0003809236?sid=102\n",
      "노동자 분신 사망에도 노조 때리기만…박근혜 때보다 못한 노-정\n",
      "https://n.news.naver.com/mnews/article/028/0002638384?sid=102\n",
      "노동자 분신 사망에 투쟁 예고…노정 갈등 ‘격화’\n",
      "https://n.news.naver.com/mnews/article/018/0005478466?sid=102\n",
      "'강남 학원가 마약 음료' 일당 구속기소...검찰 \"최대 사형 구형\"\n",
      "https://n.news.naver.com/mnews/article/014/0005007307?sid=102\n",
      "강남 학원가 ‘마약음료’ 일당에 최대 사형 구형 가능 혐의 적용\n",
      "https://n.news.naver.com/mnews/article/011/0004186796?sid=102\n",
      "檢 '강남 학원가' 마약음료 일당 기소…최대 사형 가능\n",
      "https://n.news.naver.com/mnews/article/015/0004840849?sid=102\n",
      "검찰, ‘강남 학원가 마약 음료’ 일당 3명 기소… 최고 사형 구형 가능\n",
      "https://n.news.naver.com/mnews/article/366/0000898986?sid=102\n",
      "출소하고 이웃 흉기로 찌른 전과 31범 男. 징역 15년 확정\n",
      "https://n.news.naver.com/mnews/article/020/0003495488?sid=102\n",
      "‘건방지게 굴어’ 이웃주민 살해 60대 남성, 징역 15년 확정\n",
      "https://n.news.naver.com/mnews/article/277/0005254807?sid=102\n"
     ]
    }
   ],
   "source": [
    "import time\n",
    "\n",
    "url = 'https://naver.com'\n",
    "    \n",
    "driver = webdriver.Chrome('c:/tool/chromedriver.exe')\n",
    "\n",
    "driver.get(url)\n",
    "\n",
    "driver.find_element(By.XPATH, '//*[@id=\"NM_FAVORITE\"]/div[1]/ul[2]/li[2]/a').click()\n",
    "driver.find_element(By.XPATH, '/html/body/section/header/div[2]/div/div/div[1]/div/div/ul/li[4]/a').click()\n",
    "\n",
    "time.sleep(1)\n",
    "\n",
    "headlines = driver.find_elements(By.XPATH, '//*[@id=\"main_content\"]/div/div/div/div/div/ul/li/div/a')\n",
    "\n",
    "print(headlines[0].text)\n",
    "print(headlines[0].get_attribute('href'), '\\n')\n",
    "\n",
    "for headline in headlines[:10]:\n",
    "    print(headline.text)\n",
    "    print(headline.get_attribute('href'))"
   ]
  },
  {
   "cell_type": "markdown",
   "metadata": {},
   "source": [
    "Q17. 구글에서 \"빅데이터\"라는 검색어로 검색한 후 검색 결과를 가져와서 출력하고 파일로 저장"
   ]
  },
  {
   "cell_type": "code",
   "execution_count": 151,
   "metadata": {},
   "outputs": [
    {
     "name": "stdout",
     "output_type": "stream",
     "text": [
      "빅데이터는 단지 데이터 양 때문이 아니라 특성의 다양성과 복잡성으로 인해 \"빅\"으로 정의됩니다. 일반적으로 빅데이터는 데이터를 수집, 관리, 처리하는 기존 데이터베이스의 용량을 초과합니다. 또한 빅데이터는 디지털로 모니터링할 수 있는 전 세계의 모든 사물과 장소에서 생성될 수 있습니다.\n"
     ]
    }
   ],
   "source": [
    "with open('test1.txt', 'w') as f:\n",
    "    f.write('test1')\n",
    "\n",
    "url = 'https://www.google.com'\n",
    "    \n",
    "driver = webdriver.Chrome('c:/tool/chromedriver.exe')\n",
    "\n",
    "driver.get(url)\n",
    "\n",
    "search_box = driver.find_element(By.ID, 'APjFqb')\n",
    "search_box.send_keys('빅데이터')\n",
    "driver.find_element(By.XPATH, '/html/body/div[1]/div[3]/form/div[1]/div[1]/div[2]/div[2]/div[7]/center/input[1]').click()\n",
    "\n",
    "text = driver.find_element(By.XPATH, '//*[@id=\"Odp5De\"]/div/div[1]/div/div[1]/block-component/div/div[1]/div/div/div/div/div[1]/div/div/div/div/div[1]/div/span/span')\n",
    "\n",
    "print(text.text)\n",
    "print(text.text, file=open('test1.txt', 'a', encoding='utf-8'))"
   ]
  },
  {
   "cell_type": "markdown",
   "metadata": {},
   "source": [
    "Q18. 'https://www.naver.com/'에서 뉴스 > 사회 카테고리 클릭하고 뉴스 제목 20개를 출력하세요."
   ]
  },
  {
   "cell_type": "code",
   "execution_count": 128,
   "metadata": {},
   "outputs": [
    {
     "name": "stderr",
     "output_type": "stream",
     "text": [
      "C:\\Users\\h\\AppData\\Local\\Temp\\ipykernel_15256\\3430606103.py:5: DeprecationWarning: executable_path has been deprecated, please pass in a Service object\n",
      "  driver = webdriver.Chrome('c:/tool/chromedriver.exe')\n"
     ]
    },
    {
     "name": "stdout",
     "output_type": "stream",
     "text": [
      "부산서도 간호법 통과 반발 집회…일부 동네 의원 단축 진료\n",
      "간호협회 “국민 생명 담보로 한 집단 진료거부 중단해야”\n",
      "의협·간호조무사 '연가투쟁'\n",
      "간호사 뺀 의료계 파업 첫날… “반나절 손해 봐도 환자 안 받아요”\n",
      "[속보] '이재명 불법 대선자금' 김용 보석 석방\n",
      "‘이재명 불법 대선자금’ 혐의 김용 보석 석방\n",
      "[속보]법원, ‘이재명 불법 대선자금’ 김용 보석 석방\n",
      "정진상 이어 김용도 ‘전자발찌’ 차고 석방…이재명 최측근들 불구속 재판\n",
      "'아동친화 환경 조성' 복지부 장관상 받아[천안소식]\n",
      "울산시, 아동 예산 1조600억원…‘아동친화도시’로 한 발짝\n",
      "천안시, 제101회 어린이날 포상 '보건복지부 장관상'\n",
      "울산시, 아동 친화 예산서 공개…올해 아동예산 1조594억 편성\n",
      "'강남 학원가 마약음료' 최고 사형 구형…中 체류 '윗선' 추적\n",
      "'강남 마약음료' 일당에 \"최대 사형\" 혐의 적용..이 악문 검찰\n",
      "\"이 정도였어?\" 놀란 정부…초강력 대응 나섰다[비머pick]\n",
      "검찰, ‘강남 학원가 마약 음료’ 일당 3명 기소… 최고 사형 구형 가능\n",
      "검찰, 'SG발 주가 폭락' 라덕연 대표 사무실 압수수색\n",
      "검찰, ‘SG발 주가폭락’ 라덕연 사무실 압수수색\n",
      "조민, 떠들썩한 전주 한옥마을 방문…생활한복 입고 술 빚기도\n",
      "\"모델 화보인 줄\"…조민, 한옥마을서 한복 입고 술 빚어\n"
     ]
    }
   ],
   "source": [
    "import time\n",
    "\n",
    "url = 'https://naver.com'\n",
    "    \n",
    "driver = webdriver.Chrome('c:/tool/chromedriver.exe')\n",
    "\n",
    "driver.get(url)\n",
    "\n",
    "driver.find_element(By.XPATH, '//*[@id=\"NM_FAVORITE\"]/div[1]/ul[2]/li[2]/a').click()\n",
    "driver.find_element(By.XPATH, '/html/body/section/header/div[2]/div/div/div[1]/div/div/ul/li[4]/a').click()\n",
    "\n",
    "time.sleep(1)\n",
    "\n",
    "headlines = driver.find_elements(By.XPATH, '//*[@id=\"main_content\"]/div/div/div/div/div/ul/li/div/a')\n",
    "\n",
    "for headline in headlines[:20]:\n",
    "    print(headline.text)"
   ]
  },
  {
   "cell_type": "markdown",
   "metadata": {},
   "source": [
    "Q19. daum.net 에서 빅데이터를 검색해서 출력하세요(CSS_SELECTOR 사용)"
   ]
  },
  {
   "cell_type": "code",
   "execution_count": 134,
   "metadata": {
    "scrolled": true
   },
   "outputs": [
    {
     "data": {
      "text/plain": [
       "'빅데이터(big data)란 복잡하고 다양한 대규모 데이터세트 자체는 물론 이 데이터세트로부터 정보를 추출하고 결과를 분석하여 더 큰 가치를 창출하는 기술을 뜻한다. 수치 데이터 등 기존의 정형화된 정보뿐 아니라 텍스트 ・ 이미지 ・ 오디오 ・ 로그기...'"
      ]
     },
     "execution_count": 134,
     "metadata": {},
     "output_type": "execute_result"
    }
   ],
   "source": [
    "url = 'https://daum.net'\n",
    "    \n",
    "driver = webdriver.Chrome('c:/tool/chromedriver.exe')\n",
    "\n",
    "driver.get(url)\n",
    "\n",
    "search_box = driver.find_element(By.ID, 'q')\n",
    "search_box.send_keys('빅데이터')\n",
    "driver.find_element(By.XPATH, '//*[@id=\"daumSearch\"]/fieldset/div/div/button[3]').click()\n",
    "\n",
    "driver.find_element(By.CSS_SELECTOR, '#twaColl > div.cubic.hydrated > c-container > c-card > div > c-doc-web > div > div.item-contents > c-contents-desc > p > a').text"
   ]
  },
  {
   "cell_type": "markdown",
   "metadata": {},
   "source": [
    "Q20. 셀레니움으로 아래를 수행하여 네이버 로그인 후 메일을 확인하세요.\n",
    "- 자바스크립트로 데이터 입력하기\n",
    "- 로그인 폼의 id와 pw 요소에 직접 데이터 전달"
   ]
  },
  {
   "cell_type": "code",
   "execution_count": null,
   "metadata": {},
   "outputs": [],
   "source": []
  }
 ],
 "metadata": {
  "kernelspec": {
   "display_name": "Python 3 (ipykernel)",
   "language": "python",
   "name": "python3"
  },
  "language_info": {
   "codemirror_mode": {
    "name": "ipython",
    "version": 3
   },
   "file_extension": ".py",
   "mimetype": "text/x-python",
   "name": "python",
   "nbconvert_exporter": "python",
   "pygments_lexer": "ipython3",
   "version": "3.9.13"
  }
 },
 "nbformat": 4,
 "nbformat_minor": 4
}
