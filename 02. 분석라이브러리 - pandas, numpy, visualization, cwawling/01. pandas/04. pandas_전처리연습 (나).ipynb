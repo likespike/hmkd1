{
 "cells": [
  {
   "cell_type": "markdown",
   "id": "c4c519b9",
   "metadata": {
    "id": "c4c519b9"
   },
   "source": [
    "https://pandas.pydata.org/pandas-docs/stable/index.html\n",
    "\n",
    "# 결측치 처리 (missing value)\n",
    "\n",
    "행 자체를 삭제\n",
    "평균값 대체\n",
    "최빈값으로 대체\n"
   ]
  },
  {
   "cell_type": "code",
   "execution_count": null,
   "id": "4d480768",
   "metadata": {
    "colab": {
     "base_uri": "https://localhost:8080/"
    },
    "executionInfo": {
     "elapsed": 1164,
     "status": "ok",
     "timestamp": 1680258929385,
     "user": {
      "displayName": "박주경",
      "userId": "06694313831384541311"
     },
     "user_tz": -540
    },
    "id": "4d480768",
    "outputId": "de5bb4a5-b623-49de-9093-99db580b5de9"
   },
   "outputs": [],
   "source": [
    "# NaN을 넣는 열은 float이 된다\n",
    "\n",
    "import numpy as np\n",
    "import pandas as pd\n",
    "\n",
    "ar = np.arange(100).reshape(10,10)\n",
    "df = pd.DataFrame(ar, columns = list('abcdefghij'))\n",
    "df.iloc[2:5, 3:5] = np.nan\n",
    "df.iloc[1:3, 1:3] = np.nan\n",
    "print(df)\n",
    "df.isnull().sum()"
   ]
  },
  {
   "cell_type": "markdown",
   "id": "1ce721a8",
   "metadata": {},
   "source": [
    "# copy() - pandas library\n",
    "- Series나 DataFrame을 복사해줌\n",
    "- df_null = df는 df 객체를 df_null이라는 새로운 변수에 할당하는 것이 아니라, df와 df_null이라는 변수가 같은 메모리 위치를 가리키게 됩니다. 즉, df_null이 변경되면 df도 함께 변경되는 것과 같은 효과가 발생합니다.\n",
    "- 반면에 df_null = df.copy()는 df의 내용을 복제하여 새로운 메모리 위치에 저장된 df_null이라는 새로운 객체를 만듭니다. 따라서 df_null의 변경이 df에 영향을 주지 않습니다. 이러한 방법을 \"깊은 복사(deep copy)\"라고 합니다.\n",
    "- 따라서 df_null = df.copy()를 사용하는 것이 안전합니다. 만약 df를 그대로 사용하고 싶다면, df_null = df.copy() 대신 df_null = df를 사용하는 것보다 df_null = df.copy(deep=True)를 사용하는 것이 좋습니다."
   ]
  },
  {
   "cell_type": "code",
   "execution_count": null,
   "id": "4cc718ae",
   "metadata": {
    "id": "4cc718ae"
   },
   "outputs": [],
   "source": [
    "df_null = df.copy()"
   ]
  },
  {
   "cell_type": "markdown",
   "id": "d879bbbb",
   "metadata": {},
   "source": [
    "# dropna() - pandas library\n",
    "- NaN 값이 있는 해당 열을 삭제함\n",
    "- axis : 제거할 대상이 행인지 열인지\n",
    "- how='any' or 'all' : 결측치가 하나라도 존재하는 경우 삭제 or 모두 존재하는 경우 삭제\n",
    "- subset : 제거할 대상이 되는 행 또는 열을 선택\n",
    "- thresh : 유효한 값의 개수가 이 값보다 적은 행 또는 열을 제거함\n",
    "\n",
    "## 고민\n",
    "- 다른 열을 참고해서, 그룹핑 해서, 그 그룹의 평균치를 적용한다던지"
   ]
  },
  {
   "cell_type": "code",
   "execution_count": null,
   "id": "16e8dec4",
   "metadata": {
    "id": "16e8dec4",
    "outputId": "d7f9f6a8-bf38-4d6c-9f8a-85ddccd6e1c6"
   },
   "outputs": [],
   "source": [
    "# 결측치 있는 행 삭제\n",
    "df_null.dropna(inplace=True)\n",
    "print(df_null.isnull().sum().sum())\n",
    "df_null"
   ]
  },
  {
   "cell_type": "code",
   "execution_count": null,
   "id": "3b71d53e",
   "metadata": {
    "id": "3b71d53e",
    "outputId": "6315bf1d-f95b-4356-e008-3c8b40d2502c"
   },
   "outputs": [],
   "source": [
    "# subset (부분집합)은 삭제할 행의 열(column)을 지정하는 리스트이며, inplace는 기본값이 False이며,\n",
    "# True로 설정하면 데이터프레임이 업데이트\n",
    "# d열에 nan이 있는 해당 행을 다 삭제해라\n",
    "# 열 자체를 삭제하려면 drop() 써야 함 -> 그런데 타이타닉은 왜 지워졌나?\n",
    "\n",
    "df_null = df.copy()\n",
    "df_null.dropna(subset=['d'], inplace=True)\n",
    "# df_null = df_null.dropna(axis=1, thresh=4)\n",
    "print(df_null)\n",
    "df_null.isnull().sum().sum()"
   ]
  },
  {
   "cell_type": "markdown",
   "id": "57cafbd3",
   "metadata": {},
   "source": [
    "# fillna() - pandas library\n",
    "- Series나 DataFrame에서 NaN 값을 특정 값으로 대체하는 데 사용됨\n",
    "- NaN, 결측값을 다른 값으로 대체 (숫자, 문자 등)"
   ]
  },
  {
   "cell_type": "code",
   "execution_count": null,
   "id": "2bece5b5",
   "metadata": {
    "id": "2bece5b5",
    "outputId": "9f9c2f34-796b-4ec8-c0cc-b806806ee647"
   },
   "outputs": [],
   "source": [
    "df_null.b.fillna('N', inplace=True)\n",
    "df_null"
   ]
  },
  {
   "cell_type": "markdown",
   "id": "8cb655f6",
   "metadata": {},
   "source": [
    "# mean()\n",
    "- 내장모듈인 statistics, 외부 라이브러리인 Numpy나 pandas\n",
    "- stastics.mean(data)\n",
    "- np.mean(data)\n",
    "- pandas의 mean()은 아래 예시 참고"
   ]
  },
  {
   "cell_type": "code",
   "execution_count": null,
   "id": "0cfa4998",
   "metadata": {
    "id": "0cfa4998",
    "outputId": "9ef1f6b9-8a25-4fd0-85c3-db5a782afaee"
   },
   "outputs": [],
   "source": [
    "# 결손데이터 처리하기(평균값으로 대체)\n",
    "\n",
    "df_null = df.copy()\n",
    "print(df_null)\n",
    "df_null.c.mean()    # NaN을 제외한 숫자들의 평균 구해줌\n",
    "df_null.c.replace(np.nan, df_null.c.mean(), inplace=True)\n",
    "df_null.head()"
   ]
  },
  {
   "cell_type": "markdown",
   "id": "07dd0112",
   "metadata": {},
   "source": [
    "# head() - pandas library\n",
    "- Dataframe과 Series 객체에서 사용 가능\n",
    "- 데이터 처음 5개 행을 보여줌"
   ]
  },
  {
   "cell_type": "code",
   "execution_count": null,
   "id": "8427acb7",
   "metadata": {
    "id": "8427acb7",
    "outputId": "8b3fa4da-ccd2-4f50-fc75-2cf1326f72d0"
   },
   "outputs": [],
   "source": [
    "import seaborn as sns\n",
    "\n",
    "titanic_df = sns.load_dataset('titanic')\n",
    "titanic_df.head()"
   ]
  },
  {
   "cell_type": "markdown",
   "id": "a473eadf",
   "metadata": {},
   "source": [
    "# value_counts() - pandas library\n",
    "- DataFrame 또는 Series에서 각 값의 빈도수를 구해줌"
   ]
  },
  {
   "cell_type": "code",
   "execution_count": null,
   "id": "84ce5ee6",
   "metadata": {
    "id": "84ce5ee6",
    "outputId": "8f4fdb49-8ea3-405f-cadf-663c48652fa4"
   },
   "outputs": [],
   "source": [
    "titanic_df.isnull().sum()"
   ]
  },
  {
   "cell_type": "code",
   "execution_count": null,
   "id": "c2297352",
   "metadata": {
    "id": "c2297352",
    "outputId": "6291f103-27c5-4c0a-94a7-15236b184d04"
   },
   "outputs": [],
   "source": [
    "# deck 열의 NaN 개수 계산하기\n",
    "# (dropna=False) - default가 NaN은 제외하고 카운트해주기 때문에 NaN 갯수도 함께 알고 싶으면\n",
    "\n",
    "nan_deck = titanic_df.deck.value_counts(dropna=False)\n",
    "\n",
    "print(titanic_df['deck'].isnull().sum())\n",
    "\n",
    "nan_deck"
   ]
  },
  {
   "cell_type": "code",
   "execution_count": null,
   "id": "d0cfd37d",
   "metadata": {
    "id": "d0cfd37d",
    "outputId": "1c9c7d0c-5faf-4374-bc6b-d011031b78c5"
   },
   "outputs": [],
   "source": [
    "titanic_df.info()"
   ]
  },
  {
   "cell_type": "code",
   "execution_count": null,
   "id": "7da16665",
   "metadata": {
    "id": "7da16665",
    "outputId": "a5d42000-8c16-4ea9-c6c5-9585f397006e"
   },
   "outputs": [],
   "source": [
    "# thresh = 500 : NaN 값이 500개 이상인 열을 모두 삭제 - deck 열(891개 중 698개의 NaN 값)\n",
    "# how = 'any': NaN 값이 하나라도 있으면 삭제\n",
    "# how = 'all': 모든 데이터가 NaN 값일 경우에만 삭제\n",
    "\n",
    "df_thresh = titanic_df.dropna(axis=1, thresh=500)\n",
    "print(df_thresh.columns)"
   ]
  },
  {
   "cell_type": "markdown",
   "id": "51dd43c4",
   "metadata": {},
   "source": [
    "# filterwarinings()\n",
    "- warnings 모듈에서 제공"
   ]
  },
  {
   "cell_type": "code",
   "execution_count": null,
   "id": "5d2e68fa",
   "metadata": {
    "id": "5d2e68fa",
    "outputId": "48a03992-07da-40ea-c60e-8e4016e434fd"
   },
   "outputs": [],
   "source": [
    "# age Null 값 처리 : drop vs mean 대체\n",
    "\n",
    "import warnings\n",
    "warnings.filterwarnings('ignore')\n",
    "\n",
    "df1 = titanic_df[['age', 'survived']]    # 컬럼 2개를 선택할 때의 방식\n",
    "print(df1.age.isnull().sum())\n",
    "\n",
    "# age NaN 값 버리기\n",
    "rdf1 = df1.dropna(subset=['age'], how='all') #### how='all'이 의미가 없음...\n",
    "print(rdf1.age.isnull().sum())\n",
    "\n",
    "\n",
    "# age를 평균값으로 대체\n",
    "print(df1.age.isnull().sum())\n",
    "\n",
    "df1['age'].fillna(df1['age'].mean(), inplace=True)\n",
    "print(df1.age.isnull().sum())"
   ]
  },
  {
   "cell_type": "code",
   "execution_count": null,
   "id": "ebbcbcd0",
   "metadata": {
    "id": "ebbcbcd0",
    "outputId": "a4350902-cabd-45e1-ef32-67c65782bf2a"
   },
   "outputs": [],
   "source": [
    "rdf = titanic_df[['embarked', 'sex']]\n",
    "rdf.embarked.value_counts()    #(dropna=False)"
   ]
  },
  {
   "cell_type": "markdown",
   "id": "019b3419",
   "metadata": {},
   "source": [
    "# idxmax() : pandas module or library\n",
    "- DataFrame이나 Series의 해당 데이터에서 가장 큰 값을 가지는 인덱스를 반환함"
   ]
  },
  {
   "cell_type": "code",
   "execution_count": null,
   "id": "5e575697",
   "metadata": {
    "id": "5e575697",
    "outputId": "7b6a68d9-af47-423b-c3b5-51730a6afae0"
   },
   "outputs": [],
   "source": [
    "rdf = titanic_df[['embarked', 'sex']]\n",
    "most_freq = rdf['embarked'].value_counts().idxmax()\n",
    "most_freq"
   ]
  },
  {
   "cell_type": "code",
   "execution_count": null,
   "id": "b592c329",
   "metadata": {
    "id": "b592c329",
    "outputId": "7cb4e36a-17da-43ea-fb1a-c8f0abfd8e2b"
   },
   "outputs": [],
   "source": [
    "# embarked 열의 NaN 값을 승선도시 중에서 가장 많이 출현한 값으로 변환\n",
    "# idxmax() - 가장 큰 인덱스 뽑아줌\n",
    "\n",
    "rdf = titanic_df[['embarked', 'sex']]\n",
    "most_freq = rdf['embarked'].value_counts(dropna=True).idxmax()    # dropna=True 안해줘도 됨, default \n",
    "rdf['embarked'].fillna(most_freq, inplace=True)\n",
    "rdf.info()"
   ]
  },
  {
   "cell_type": "code",
   "execution_count": null,
   "id": "b72100a0",
   "metadata": {
    "id": "b72100a0",
    "outputId": "aa9e7cd8-e51d-4314-c301-438c68ed7a00"
   },
   "outputs": [],
   "source": [
    "rdf.embarked.value_counts()"
   ]
  },
  {
   "cell_type": "code",
   "execution_count": null,
   "id": "fc363ce2",
   "metadata": {},
   "outputs": [],
   "source": [
    "# NumPy에서 인덱싱을 할 때,\n",
    "# 조건식으로 인덱싱하면 조건식에 해당하는 요소들만 True로 반환되는 Boolean 배열이 생성됩니다.\n",
    "# 이 Boolean 배열을 인덱싱에 넣으면 해당 요소만 추출됩니다.\n",
    "# 따라서, ar[ar>5]에서는 5보다 큰 요소에 해당하는 True값을 가지는 Boolean 배열이 생성되고,\n",
    "# 이 배열을 인덱싱에 넣으면 True에 해당하는 값만 추출됩니다.\n",
    "\n",
    "ar = np.arange(1,10)\n",
    "ar[ar>5]"
   ]
  },
  {
   "cell_type": "code",
   "execution_count": null,
   "id": "d0ccd689",
   "metadata": {},
   "outputs": [],
   "source": [
    "# 내 연습 boolean indexing에서는 괄호로 묶어 주어야 함\n",
    "# & 연산자로 연결해야 함\n",
    "# 형식은 titanic.age / titanic_df['age'] 둘 다 가능\n",
    "\n",
    "# a = titanic_df[['age'] & ['alive' == 'yes']]    # list는 & X\n",
    "a = titanic_df[(titanic_df['age'] == 80) & (titanic_df.alive == 'yes')]\n",
    "a"
   ]
  },
  {
   "cell_type": "code",
   "execution_count": null,
   "id": "1c3d9218",
   "metadata": {},
   "outputs": [],
   "source": [
    "titanic_df.age == 80"
   ]
  },
  {
   "cell_type": "markdown",
   "id": "43a586cc",
   "metadata": {
    "id": "43a586cc"
   },
   "source": [
    "#### 결합"
   ]
  },
  {
   "cell_type": "code",
   "execution_count": 1,
   "id": "c1347cba",
   "metadata": {},
   "outputs": [
    {
     "name": "stdout",
     "output_type": "stream",
     "text": [
      "    a     b     c     d     e   f   g   h   i   j\n",
      "0   0   1.0   2.0   3.0   4.0   5   6   7   8   9\n",
      "1  10   NaN   NaN  13.0  14.0  15  16  17  18  19\n",
      "2  20   NaN   NaN   NaN   NaN  25  26  27  28  29\n",
      "3  30  31.0  32.0   NaN   NaN  35  36  37  38  39\n",
      "4  40  41.0  42.0   NaN   NaN  45  46  47  48  49\n",
      "5  50  51.0  52.0  53.0  54.0  55  56  57  58  59\n",
      "6  60  61.0  62.0  63.0  64.0  65  66  67  68  69\n",
      "7  70  71.0  72.0  73.0  74.0  75  76  77  78  79\n",
      "8  80  81.0  82.0  83.0  84.0  85  86  87  88  89\n",
      "9  90  91.0  92.0  93.0  94.0  95  96  97  98  99\n"
     ]
    }
   ],
   "source": [
    "#############################################\n",
    "import numpy as np\n",
    "import pandas as pd\n",
    "\n",
    "ar = np.arange(100).reshape(10,10)\n",
    "df = pd.DataFrame(ar, columns = list('abcdefghij'))\n",
    "df.iloc[2:5, 3:5] = np.nan\n",
    "df.iloc[1:3, 1:3] = np.nan\n",
    "print(df)\n",
    "df.isnull().sum()\n",
    "###########################################\n",
    "\n",
    "df_null = df.copy()"
   ]
  },
  {
   "cell_type": "code",
   "execution_count": 2,
   "id": "49030eee",
   "metadata": {
    "id": "49030eee",
    "outputId": "8f7b2953-0b2c-4fbe-957b-dd39de2a48ee"
   },
   "outputs": [
    {
     "name": "stdout",
     "output_type": "stream",
     "text": [
      "    a     b     c     d     e   f   g   h   i   j\n",
      "0   0   1.0   2.0   3.0   4.0   5   6   7   8   9\n",
      "1  10   NaN   NaN  13.0  14.0  15  16  17  18  19\n",
      "2  20   NaN   NaN   NaN   NaN  25  26  27  28  29\n",
      "3  30  31.0  32.0   NaN   NaN  35  36  37  38  39\n",
      "4  40  41.0  42.0   NaN   NaN  45  46  47  48  49 \n",
      "\n",
      "    a     b     c     d     e   f   g   h   i   j\n",
      "5  50  51.0  52.0  53.0  54.0  55  56  57  58  59\n",
      "6  60  61.0  62.0  63.0  64.0  65  66  67  68  69\n",
      "7  70  71.0  72.0  73.0  74.0  75  76  77  78  79\n",
      "8  80  81.0  82.0  83.0  84.0  85  86  87  88  89\n",
      "9  90  91.0  92.0  93.0  94.0  95  96  97  98  99\n"
     ]
    }
   ],
   "source": [
    "df_null = df.copy()\n",
    "df_a = df_null.iloc[:5]\n",
    "df_b = df_null.iloc[5:]\n",
    "print(df_a, '\\n')\n",
    "print(df_b)"
   ]
  },
  {
   "cell_type": "code",
   "execution_count": 3,
   "id": "78e104fe",
   "metadata": {
    "id": "78e104fe",
    "outputId": "b9705783-a532-4840-9d14-eb2bb1c69596"
   },
   "outputs": [
    {
     "name": "stdout",
     "output_type": "stream",
     "text": [
      "    a     b     c     d     e   f   g   h   i   j\n",
      "0   0   1.0   2.0   3.0   4.0   5   6   7   8   9\n",
      "1  10   NaN   NaN  13.0  14.0  15  16  17  18  19\n",
      "2  20   NaN   NaN   NaN   NaN  25  26  27  28  29\n",
      "3  30  31.0  32.0   NaN   NaN  35  36  37  38  39\n",
      "4  40  41.0  42.0   NaN   NaN  45  46  47  48  49\n"
     ]
    },
    {
     "data": {
      "text/html": [
       "<div>\n",
       "<style scoped>\n",
       "    .dataframe tbody tr th:only-of-type {\n",
       "        vertical-align: middle;\n",
       "    }\n",
       "\n",
       "    .dataframe tbody tr th {\n",
       "        vertical-align: top;\n",
       "    }\n",
       "\n",
       "    .dataframe thead th {\n",
       "        text-align: right;\n",
       "    }\n",
       "</style>\n",
       "<table border=\"1\" class=\"dataframe\">\n",
       "  <thead>\n",
       "    <tr style=\"text-align: right;\">\n",
       "      <th></th>\n",
       "      <th>index</th>\n",
       "      <th>a</th>\n",
       "      <th>b</th>\n",
       "      <th>c</th>\n",
       "      <th>d</th>\n",
       "      <th>e</th>\n",
       "      <th>f</th>\n",
       "      <th>g</th>\n",
       "      <th>h</th>\n",
       "      <th>i</th>\n",
       "      <th>j</th>\n",
       "    </tr>\n",
       "  </thead>\n",
       "  <tbody>\n",
       "    <tr>\n",
       "      <th>0</th>\n",
       "      <td>5</td>\n",
       "      <td>50</td>\n",
       "      <td>51.0</td>\n",
       "      <td>52.0</td>\n",
       "      <td>53.0</td>\n",
       "      <td>54.0</td>\n",
       "      <td>55</td>\n",
       "      <td>56</td>\n",
       "      <td>57</td>\n",
       "      <td>58</td>\n",
       "      <td>59</td>\n",
       "    </tr>\n",
       "    <tr>\n",
       "      <th>1</th>\n",
       "      <td>6</td>\n",
       "      <td>60</td>\n",
       "      <td>61.0</td>\n",
       "      <td>62.0</td>\n",
       "      <td>63.0</td>\n",
       "      <td>64.0</td>\n",
       "      <td>65</td>\n",
       "      <td>66</td>\n",
       "      <td>67</td>\n",
       "      <td>68</td>\n",
       "      <td>69</td>\n",
       "    </tr>\n",
       "    <tr>\n",
       "      <th>2</th>\n",
       "      <td>7</td>\n",
       "      <td>70</td>\n",
       "      <td>71.0</td>\n",
       "      <td>72.0</td>\n",
       "      <td>73.0</td>\n",
       "      <td>74.0</td>\n",
       "      <td>75</td>\n",
       "      <td>76</td>\n",
       "      <td>77</td>\n",
       "      <td>78</td>\n",
       "      <td>79</td>\n",
       "    </tr>\n",
       "    <tr>\n",
       "      <th>3</th>\n",
       "      <td>8</td>\n",
       "      <td>80</td>\n",
       "      <td>81.0</td>\n",
       "      <td>82.0</td>\n",
       "      <td>83.0</td>\n",
       "      <td>84.0</td>\n",
       "      <td>85</td>\n",
       "      <td>86</td>\n",
       "      <td>87</td>\n",
       "      <td>88</td>\n",
       "      <td>89</td>\n",
       "    </tr>\n",
       "    <tr>\n",
       "      <th>4</th>\n",
       "      <td>9</td>\n",
       "      <td>90</td>\n",
       "      <td>91.0</td>\n",
       "      <td>92.0</td>\n",
       "      <td>93.0</td>\n",
       "      <td>94.0</td>\n",
       "      <td>95</td>\n",
       "      <td>96</td>\n",
       "      <td>97</td>\n",
       "      <td>98</td>\n",
       "      <td>99</td>\n",
       "    </tr>\n",
       "  </tbody>\n",
       "</table>\n",
       "</div>"
      ],
      "text/plain": [
       "   index   a     b     c     d     e   f   g   h   i   j\n",
       "0      5  50  51.0  52.0  53.0  54.0  55  56  57  58  59\n",
       "1      6  60  61.0  62.0  63.0  64.0  65  66  67  68  69\n",
       "2      7  70  71.0  72.0  73.0  74.0  75  76  77  78  79\n",
       "3      8  80  81.0  82.0  83.0  84.0  85  86  87  88  89\n",
       "4      9  90  91.0  92.0  93.0  94.0  95  96  97  98  99"
      ]
     },
     "execution_count": 3,
     "metadata": {},
     "output_type": "execute_result"
    }
   ],
   "source": [
    "df_b.reset_index(inplace=True)\n",
    "print(df_a)\n",
    "df_b"
   ]
  },
  {
   "cell_type": "code",
   "execution_count": 4,
   "id": "427a116b",
   "metadata": {
    "id": "427a116b",
    "outputId": "b5be3804-09fe-4d83-d3d0-ef6666ab4101"
   },
   "outputs": [
    {
     "data": {
      "text/html": [
       "<div>\n",
       "<style scoped>\n",
       "    .dataframe tbody tr th:only-of-type {\n",
       "        vertical-align: middle;\n",
       "    }\n",
       "\n",
       "    .dataframe tbody tr th {\n",
       "        vertical-align: top;\n",
       "    }\n",
       "\n",
       "    .dataframe thead th {\n",
       "        text-align: right;\n",
       "    }\n",
       "</style>\n",
       "<table border=\"1\" class=\"dataframe\">\n",
       "  <thead>\n",
       "    <tr style=\"text-align: right;\">\n",
       "      <th></th>\n",
       "      <th>a</th>\n",
       "      <th>b</th>\n",
       "      <th>c</th>\n",
       "      <th>d</th>\n",
       "      <th>e</th>\n",
       "      <th>f</th>\n",
       "      <th>g</th>\n",
       "      <th>h</th>\n",
       "      <th>i</th>\n",
       "      <th>j</th>\n",
       "      <th>index</th>\n",
       "    </tr>\n",
       "  </thead>\n",
       "  <tbody>\n",
       "    <tr>\n",
       "      <th>0</th>\n",
       "      <td>0</td>\n",
       "      <td>1.0</td>\n",
       "      <td>2.0</td>\n",
       "      <td>3.0</td>\n",
       "      <td>4.0</td>\n",
       "      <td>5</td>\n",
       "      <td>6</td>\n",
       "      <td>7</td>\n",
       "      <td>8</td>\n",
       "      <td>9</td>\n",
       "      <td>NaN</td>\n",
       "    </tr>\n",
       "    <tr>\n",
       "      <th>1</th>\n",
       "      <td>10</td>\n",
       "      <td>NaN</td>\n",
       "      <td>NaN</td>\n",
       "      <td>13.0</td>\n",
       "      <td>14.0</td>\n",
       "      <td>15</td>\n",
       "      <td>16</td>\n",
       "      <td>17</td>\n",
       "      <td>18</td>\n",
       "      <td>19</td>\n",
       "      <td>NaN</td>\n",
       "    </tr>\n",
       "    <tr>\n",
       "      <th>2</th>\n",
       "      <td>20</td>\n",
       "      <td>NaN</td>\n",
       "      <td>NaN</td>\n",
       "      <td>NaN</td>\n",
       "      <td>NaN</td>\n",
       "      <td>25</td>\n",
       "      <td>26</td>\n",
       "      <td>27</td>\n",
       "      <td>28</td>\n",
       "      <td>29</td>\n",
       "      <td>NaN</td>\n",
       "    </tr>\n",
       "    <tr>\n",
       "      <th>3</th>\n",
       "      <td>30</td>\n",
       "      <td>31.0</td>\n",
       "      <td>32.0</td>\n",
       "      <td>NaN</td>\n",
       "      <td>NaN</td>\n",
       "      <td>35</td>\n",
       "      <td>36</td>\n",
       "      <td>37</td>\n",
       "      <td>38</td>\n",
       "      <td>39</td>\n",
       "      <td>NaN</td>\n",
       "    </tr>\n",
       "    <tr>\n",
       "      <th>4</th>\n",
       "      <td>40</td>\n",
       "      <td>41.0</td>\n",
       "      <td>42.0</td>\n",
       "      <td>NaN</td>\n",
       "      <td>NaN</td>\n",
       "      <td>45</td>\n",
       "      <td>46</td>\n",
       "      <td>47</td>\n",
       "      <td>48</td>\n",
       "      <td>49</td>\n",
       "      <td>NaN</td>\n",
       "    </tr>\n",
       "    <tr>\n",
       "      <th>0</th>\n",
       "      <td>50</td>\n",
       "      <td>51.0</td>\n",
       "      <td>52.0</td>\n",
       "      <td>53.0</td>\n",
       "      <td>54.0</td>\n",
       "      <td>55</td>\n",
       "      <td>56</td>\n",
       "      <td>57</td>\n",
       "      <td>58</td>\n",
       "      <td>59</td>\n",
       "      <td>5.0</td>\n",
       "    </tr>\n",
       "    <tr>\n",
       "      <th>1</th>\n",
       "      <td>60</td>\n",
       "      <td>61.0</td>\n",
       "      <td>62.0</td>\n",
       "      <td>63.0</td>\n",
       "      <td>64.0</td>\n",
       "      <td>65</td>\n",
       "      <td>66</td>\n",
       "      <td>67</td>\n",
       "      <td>68</td>\n",
       "      <td>69</td>\n",
       "      <td>6.0</td>\n",
       "    </tr>\n",
       "    <tr>\n",
       "      <th>2</th>\n",
       "      <td>70</td>\n",
       "      <td>71.0</td>\n",
       "      <td>72.0</td>\n",
       "      <td>73.0</td>\n",
       "      <td>74.0</td>\n",
       "      <td>75</td>\n",
       "      <td>76</td>\n",
       "      <td>77</td>\n",
       "      <td>78</td>\n",
       "      <td>79</td>\n",
       "      <td>7.0</td>\n",
       "    </tr>\n",
       "    <tr>\n",
       "      <th>3</th>\n",
       "      <td>80</td>\n",
       "      <td>81.0</td>\n",
       "      <td>82.0</td>\n",
       "      <td>83.0</td>\n",
       "      <td>84.0</td>\n",
       "      <td>85</td>\n",
       "      <td>86</td>\n",
       "      <td>87</td>\n",
       "      <td>88</td>\n",
       "      <td>89</td>\n",
       "      <td>8.0</td>\n",
       "    </tr>\n",
       "    <tr>\n",
       "      <th>4</th>\n",
       "      <td>90</td>\n",
       "      <td>91.0</td>\n",
       "      <td>92.0</td>\n",
       "      <td>93.0</td>\n",
       "      <td>94.0</td>\n",
       "      <td>95</td>\n",
       "      <td>96</td>\n",
       "      <td>97</td>\n",
       "      <td>98</td>\n",
       "      <td>99</td>\n",
       "      <td>9.0</td>\n",
       "    </tr>\n",
       "  </tbody>\n",
       "</table>\n",
       "</div>"
      ],
      "text/plain": [
       "    a     b     c     d     e   f   g   h   i   j  index\n",
       "0   0   1.0   2.0   3.0   4.0   5   6   7   8   9    NaN\n",
       "1  10   NaN   NaN  13.0  14.0  15  16  17  18  19    NaN\n",
       "2  20   NaN   NaN   NaN   NaN  25  26  27  28  29    NaN\n",
       "3  30  31.0  32.0   NaN   NaN  35  36  37  38  39    NaN\n",
       "4  40  41.0  42.0   NaN   NaN  45  46  47  48  49    NaN\n",
       "0  50  51.0  52.0  53.0  54.0  55  56  57  58  59    5.0\n",
       "1  60  61.0  62.0  63.0  64.0  65  66  67  68  69    6.0\n",
       "2  70  71.0  72.0  73.0  74.0  75  76  77  78  79    7.0\n",
       "3  80  81.0  82.0  83.0  84.0  85  86  87  88  89    8.0\n",
       "4  90  91.0  92.0  93.0  94.0  95  96  97  98  99    9.0"
      ]
     },
     "execution_count": 4,
     "metadata": {},
     "output_type": "execute_result"
    }
   ],
   "source": [
    "df = pd.concat([df_a, df_b])\n",
    "df"
   ]
  },
  {
   "cell_type": "code",
   "execution_count": 5,
   "id": "5d5aeee0",
   "metadata": {
    "id": "5d5aeee0",
    "outputId": "9ec9c350-e5ab-4e72-f0a1-b0a7146f54bf"
   },
   "outputs": [
    {
     "data": {
      "text/html": [
       "<div>\n",
       "<style scoped>\n",
       "    .dataframe tbody tr th:only-of-type {\n",
       "        vertical-align: middle;\n",
       "    }\n",
       "\n",
       "    .dataframe tbody tr th {\n",
       "        vertical-align: top;\n",
       "    }\n",
       "\n",
       "    .dataframe thead th {\n",
       "        text-align: right;\n",
       "    }\n",
       "</style>\n",
       "<table border=\"1\" class=\"dataframe\">\n",
       "  <thead>\n",
       "    <tr style=\"text-align: right;\">\n",
       "      <th></th>\n",
       "      <th>a</th>\n",
       "      <th>b</th>\n",
       "      <th>c</th>\n",
       "      <th>d</th>\n",
       "      <th>e</th>\n",
       "      <th>f</th>\n",
       "      <th>g</th>\n",
       "      <th>h</th>\n",
       "      <th>i</th>\n",
       "      <th>j</th>\n",
       "    </tr>\n",
       "  </thead>\n",
       "  <tbody>\n",
       "    <tr>\n",
       "      <th>0</th>\n",
       "      <td>0</td>\n",
       "      <td>1.0</td>\n",
       "      <td>2.0</td>\n",
       "      <td>3.0</td>\n",
       "      <td>4.0</td>\n",
       "      <td>5</td>\n",
       "      <td>6</td>\n",
       "      <td>7</td>\n",
       "      <td>8</td>\n",
       "      <td>9</td>\n",
       "    </tr>\n",
       "    <tr>\n",
       "      <th>1</th>\n",
       "      <td>10</td>\n",
       "      <td>NaN</td>\n",
       "      <td>NaN</td>\n",
       "      <td>13.0</td>\n",
       "      <td>14.0</td>\n",
       "      <td>15</td>\n",
       "      <td>16</td>\n",
       "      <td>17</td>\n",
       "      <td>18</td>\n",
       "      <td>19</td>\n",
       "    </tr>\n",
       "    <tr>\n",
       "      <th>2</th>\n",
       "      <td>20</td>\n",
       "      <td>NaN</td>\n",
       "      <td>NaN</td>\n",
       "      <td>NaN</td>\n",
       "      <td>NaN</td>\n",
       "      <td>25</td>\n",
       "      <td>26</td>\n",
       "      <td>27</td>\n",
       "      <td>28</td>\n",
       "      <td>29</td>\n",
       "    </tr>\n",
       "    <tr>\n",
       "      <th>3</th>\n",
       "      <td>30</td>\n",
       "      <td>31.0</td>\n",
       "      <td>32.0</td>\n",
       "      <td>NaN</td>\n",
       "      <td>NaN</td>\n",
       "      <td>35</td>\n",
       "      <td>36</td>\n",
       "      <td>37</td>\n",
       "      <td>38</td>\n",
       "      <td>39</td>\n",
       "    </tr>\n",
       "    <tr>\n",
       "      <th>4</th>\n",
       "      <td>40</td>\n",
       "      <td>41.0</td>\n",
       "      <td>42.0</td>\n",
       "      <td>NaN</td>\n",
       "      <td>NaN</td>\n",
       "      <td>45</td>\n",
       "      <td>46</td>\n",
       "      <td>47</td>\n",
       "      <td>48</td>\n",
       "      <td>49</td>\n",
       "    </tr>\n",
       "    <tr>\n",
       "      <th>5</th>\n",
       "      <td>50</td>\n",
       "      <td>51.0</td>\n",
       "      <td>52.0</td>\n",
       "      <td>53.0</td>\n",
       "      <td>54.0</td>\n",
       "      <td>55</td>\n",
       "      <td>56</td>\n",
       "      <td>57</td>\n",
       "      <td>58</td>\n",
       "      <td>59</td>\n",
       "    </tr>\n",
       "    <tr>\n",
       "      <th>6</th>\n",
       "      <td>60</td>\n",
       "      <td>61.0</td>\n",
       "      <td>62.0</td>\n",
       "      <td>63.0</td>\n",
       "      <td>64.0</td>\n",
       "      <td>65</td>\n",
       "      <td>66</td>\n",
       "      <td>67</td>\n",
       "      <td>68</td>\n",
       "      <td>69</td>\n",
       "    </tr>\n",
       "    <tr>\n",
       "      <th>7</th>\n",
       "      <td>70</td>\n",
       "      <td>71.0</td>\n",
       "      <td>72.0</td>\n",
       "      <td>73.0</td>\n",
       "      <td>74.0</td>\n",
       "      <td>75</td>\n",
       "      <td>76</td>\n",
       "      <td>77</td>\n",
       "      <td>78</td>\n",
       "      <td>79</td>\n",
       "    </tr>\n",
       "    <tr>\n",
       "      <th>8</th>\n",
       "      <td>80</td>\n",
       "      <td>81.0</td>\n",
       "      <td>82.0</td>\n",
       "      <td>83.0</td>\n",
       "      <td>84.0</td>\n",
       "      <td>85</td>\n",
       "      <td>86</td>\n",
       "      <td>87</td>\n",
       "      <td>88</td>\n",
       "      <td>89</td>\n",
       "    </tr>\n",
       "    <tr>\n",
       "      <th>9</th>\n",
       "      <td>90</td>\n",
       "      <td>91.0</td>\n",
       "      <td>92.0</td>\n",
       "      <td>93.0</td>\n",
       "      <td>94.0</td>\n",
       "      <td>95</td>\n",
       "      <td>96</td>\n",
       "      <td>97</td>\n",
       "      <td>98</td>\n",
       "      <td>99</td>\n",
       "    </tr>\n",
       "  </tbody>\n",
       "</table>\n",
       "</div>"
      ],
      "text/plain": [
       "    a     b     c     d     e   f   g   h   i   j\n",
       "0   0   1.0   2.0   3.0   4.0   5   6   7   8   9\n",
       "1  10   NaN   NaN  13.0  14.0  15  16  17  18  19\n",
       "2  20   NaN   NaN   NaN   NaN  25  26  27  28  29\n",
       "3  30  31.0  32.0   NaN   NaN  35  36  37  38  39\n",
       "4  40  41.0  42.0   NaN   NaN  45  46  47  48  49\n",
       "5  50  51.0  52.0  53.0  54.0  55  56  57  58  59\n",
       "6  60  61.0  62.0  63.0  64.0  65  66  67  68  69\n",
       "7  70  71.0  72.0  73.0  74.0  75  76  77  78  79\n",
       "8  80  81.0  82.0  83.0  84.0  85  86  87  88  89\n",
       "9  90  91.0  92.0  93.0  94.0  95  96  97  98  99"
      ]
     },
     "execution_count": 5,
     "metadata": {},
     "output_type": "execute_result"
    }
   ],
   "source": [
    "# ignore_index=True을 줘서 인덱스를 재배열 - 기존 인덱스를 무시하고 합쳐진 결과에 새로운 인덱스를 생성함\n",
    "\n",
    "df = pd.concat(([df_a, df_b]), ignore_index=True)\n",
    "df = df.drop(['index'], axis=1)\n",
    "df"
   ]
  },
  {
   "cell_type": "markdown",
   "id": "8a79eca1",
   "metadata": {},
   "source": [
    "# merge() - pandas library\n",
    "- join보다 많이 쓴다. join의 모든 기능을 merge로 할 수 있다\n",
    "- on : 병합하려는 데이터프레임에서 공통적으로 가지고 있는 열의 이름이나 인덱스를 지칭하는 매개변수"
   ]
  },
  {
   "cell_type": "code",
   "execution_count": null,
   "id": "165c3b42",
   "metadata": {
    "id": "165c3b42",
    "outputId": "02d39a3d-59e4-4832-9b03-1ae0ea465d4d"
   },
   "outputs": [],
   "source": [
    "# merge()를 해보려고 한 행을 복사해서 값을 같게 만들어 줌\n",
    "\n",
    "import warnings\n",
    "warnings.filterwarnings('ignore')\n",
    "\n",
    "#########################################\n",
    "df_null = df.copy()\n",
    "df_a = df_null.iloc[:5]\n",
    "df_b = df_null.iloc[5:]\n",
    "#######################################\n",
    "\n",
    "\n",
    "df_b.iloc[2] = df_a.iloc[0]\n",
    "print(df_a, '\\n')\n",
    "print(df_b)"
   ]
  },
  {
   "cell_type": "code",
   "execution_count": null,
   "id": "dac6595e",
   "metadata": {},
   "outputs": [],
   "source": [
    "# on을 안써주면 내부적으로 겹치는거 찾음\n",
    "# how 안써주면, default가 inner라 겹치는 것만 보여줌\n",
    "\n",
    "pd.merge(df_a, df_b)"
   ]
  },
  {
   "cell_type": "code",
   "execution_count": null,
   "id": "5a8631b7",
   "metadata": {
    "id": "5a8631b7",
    "outputId": "71ff8e04-9fa4-4547-a2c8-2e3feb0ac869"
   },
   "outputs": [],
   "source": [
    "# on을 써주면, 두 데이터프레임 어디 a열인지 모르기 때문에,\n",
    "# 겹치는 것만 한 번 반환해주고, 나머지는 쭉 나열해 준다\n",
    "# on='a'는 ket, label을 지정해 주는 것과 같음, 이 열을 참조해. 그 열의 스칼라 중에 겹치는게 있으면~\n",
    "pd.merge(df_a, df_b, on='a') "
   ]
  },
  {
   "cell_type": "code",
   "execution_count": null,
   "id": "8f08e9bd",
   "metadata": {},
   "outputs": [],
   "source": [
    "# 합집합 : 어느 한쪽에만 존재하면 모든 행 반환\n",
    "# outer는 공통된 것은 1번, 아닌건 다 나옴\n",
    "\n",
    "pd.merge(df_a, df_b, how='outer')"
   ]
  },
  {
   "cell_type": "code",
   "execution_count": null,
   "id": "52adb49c",
   "metadata": {
    "id": "52adb49c",
    "outputId": "7c001cb8-5798-43a6-97e4-652860176bd5"
   },
   "outputs": [],
   "source": [
    "pd.merge(df_a, df_b, on='a', how='outer')"
   ]
  },
  {
   "cell_type": "code",
   "execution_count": null,
   "id": "8a1cc8b3",
   "metadata": {
    "id": "8a1cc8b3",
    "outputId": "bf19fe63-fce1-4ab1-fd92-1f3ab60725bf"
   },
   "outputs": [],
   "source": [
    "# 공통적인 것은 나오고, 그 다음 10,20,30,40, 왼쪽 것만 나옴\n",
    "pd.merge(df_a, df_b, how='left')"
   ]
  },
  {
   "cell_type": "code",
   "execution_count": null,
   "id": "e6774dff",
   "metadata": {
    "id": "e6774dff",
    "outputId": "da3b4318-9fc5-490b-c2d4-8e02456f35fe"
   },
   "outputs": [],
   "source": [
    "pd.merge(df_a, df_b, how='right')"
   ]
  },
  {
   "cell_type": "code",
   "execution_count": null,
   "id": "fdd9b11a",
   "metadata": {
    "id": "fdd9b11a",
    "outputId": "25972d77-eb2c-48da-e613-47111c557f07"
   },
   "outputs": [],
   "source": [
    "# 교집합 : 공통적인 것만 나옴\n",
    "\n",
    "pd.merge(df_a, df_b, how='inner')"
   ]
  },
  {
   "cell_type": "markdown",
   "id": "fc0c14d4",
   "metadata": {},
   "source": [
    "# join() - pandas library\n",
    "- merge에 비해 더 간단한 인터페이스\n",
    "- 인덱스나 열을 기준으로 결합"
   ]
  },
  {
   "cell_type": "code",
   "execution_count": 6,
   "id": "fdb3049c",
   "metadata": {
    "id": "fdb3049c",
    "outputId": "69cf178d-f0c9-4fe7-90d6-c6d30f1edd1a"
   },
   "outputs": [
    {
     "name": "stdout",
     "output_type": "stream",
     "text": [
      "    a     b     c     d     e   f   g   h   i   j\n",
      "0   0   1.0   2.0   3.0   4.0   5   6   7   8   9\n",
      "1  10   NaN   NaN  13.0  14.0  15  16  17  18  19\n",
      "2  20   NaN   NaN   NaN   NaN  25  26  27  28  29\n",
      "3  30  31.0  32.0   NaN   NaN  35  36  37  38  39\n",
      "4  40  41.0  42.0   NaN   NaN  45  46  47  48  49 \n",
      "\n",
      "   index   a     b     c     d     e   f   g   h   i   j\n",
      "0      5  50  51.0  52.0  53.0  54.0  55  56  57  58  59\n",
      "1      6  60  61.0  62.0  63.0  64.0  65  66  67  68  69\n",
      "2      7  70  71.0  72.0  73.0  74.0  75  76  77  78  79\n",
      "3      8  80  81.0  82.0  83.0  84.0  85  86  87  88  89\n",
      "4      9  90  91.0  92.0  93.0  94.0  95  96  97  98  99\n"
     ]
    }
   ],
   "source": [
    "print(df_a,'\\n')\n",
    "print(df_b)"
   ]
  },
  {
   "cell_type": "code",
   "execution_count": 7,
   "id": "6eb1b1ae",
   "metadata": {
    "id": "6eb1b1ae",
    "outputId": "b30befbc-9f22-4f1e-80ec-8c1e135c6f20"
   },
   "outputs": [
    {
     "data": {
      "text/html": [
       "<div>\n",
       "<style scoped>\n",
       "    .dataframe tbody tr th:only-of-type {\n",
       "        vertical-align: middle;\n",
       "    }\n",
       "\n",
       "    .dataframe tbody tr th {\n",
       "        vertical-align: top;\n",
       "    }\n",
       "\n",
       "    .dataframe thead th {\n",
       "        text-align: right;\n",
       "    }\n",
       "</style>\n",
       "<table border=\"1\" class=\"dataframe\">\n",
       "  <thead>\n",
       "    <tr style=\"text-align: right;\">\n",
       "      <th></th>\n",
       "      <th>a_a</th>\n",
       "      <th>b_a</th>\n",
       "      <th>c_a</th>\n",
       "      <th>d_a</th>\n",
       "      <th>e_a</th>\n",
       "      <th>f_a</th>\n",
       "      <th>g_a</th>\n",
       "      <th>h_a</th>\n",
       "      <th>i_a</th>\n",
       "      <th>j_a</th>\n",
       "      <th>...</th>\n",
       "      <th>a_b</th>\n",
       "      <th>b_b</th>\n",
       "      <th>c_b</th>\n",
       "      <th>d_b</th>\n",
       "      <th>e_b</th>\n",
       "      <th>f_b</th>\n",
       "      <th>g_b</th>\n",
       "      <th>h_b</th>\n",
       "      <th>i_b</th>\n",
       "      <th>j_b</th>\n",
       "    </tr>\n",
       "  </thead>\n",
       "  <tbody>\n",
       "    <tr>\n",
       "      <th>0</th>\n",
       "      <td>0</td>\n",
       "      <td>1.0</td>\n",
       "      <td>2.0</td>\n",
       "      <td>3.0</td>\n",
       "      <td>4.0</td>\n",
       "      <td>5</td>\n",
       "      <td>6</td>\n",
       "      <td>7</td>\n",
       "      <td>8</td>\n",
       "      <td>9</td>\n",
       "      <td>...</td>\n",
       "      <td>50</td>\n",
       "      <td>51.0</td>\n",
       "      <td>52.0</td>\n",
       "      <td>53.0</td>\n",
       "      <td>54.0</td>\n",
       "      <td>55</td>\n",
       "      <td>56</td>\n",
       "      <td>57</td>\n",
       "      <td>58</td>\n",
       "      <td>59</td>\n",
       "    </tr>\n",
       "    <tr>\n",
       "      <th>1</th>\n",
       "      <td>10</td>\n",
       "      <td>NaN</td>\n",
       "      <td>NaN</td>\n",
       "      <td>13.0</td>\n",
       "      <td>14.0</td>\n",
       "      <td>15</td>\n",
       "      <td>16</td>\n",
       "      <td>17</td>\n",
       "      <td>18</td>\n",
       "      <td>19</td>\n",
       "      <td>...</td>\n",
       "      <td>60</td>\n",
       "      <td>61.0</td>\n",
       "      <td>62.0</td>\n",
       "      <td>63.0</td>\n",
       "      <td>64.0</td>\n",
       "      <td>65</td>\n",
       "      <td>66</td>\n",
       "      <td>67</td>\n",
       "      <td>68</td>\n",
       "      <td>69</td>\n",
       "    </tr>\n",
       "    <tr>\n",
       "      <th>2</th>\n",
       "      <td>20</td>\n",
       "      <td>NaN</td>\n",
       "      <td>NaN</td>\n",
       "      <td>NaN</td>\n",
       "      <td>NaN</td>\n",
       "      <td>25</td>\n",
       "      <td>26</td>\n",
       "      <td>27</td>\n",
       "      <td>28</td>\n",
       "      <td>29</td>\n",
       "      <td>...</td>\n",
       "      <td>70</td>\n",
       "      <td>71.0</td>\n",
       "      <td>72.0</td>\n",
       "      <td>73.0</td>\n",
       "      <td>74.0</td>\n",
       "      <td>75</td>\n",
       "      <td>76</td>\n",
       "      <td>77</td>\n",
       "      <td>78</td>\n",
       "      <td>79</td>\n",
       "    </tr>\n",
       "    <tr>\n",
       "      <th>3</th>\n",
       "      <td>30</td>\n",
       "      <td>31.0</td>\n",
       "      <td>32.0</td>\n",
       "      <td>NaN</td>\n",
       "      <td>NaN</td>\n",
       "      <td>35</td>\n",
       "      <td>36</td>\n",
       "      <td>37</td>\n",
       "      <td>38</td>\n",
       "      <td>39</td>\n",
       "      <td>...</td>\n",
       "      <td>80</td>\n",
       "      <td>81.0</td>\n",
       "      <td>82.0</td>\n",
       "      <td>83.0</td>\n",
       "      <td>84.0</td>\n",
       "      <td>85</td>\n",
       "      <td>86</td>\n",
       "      <td>87</td>\n",
       "      <td>88</td>\n",
       "      <td>89</td>\n",
       "    </tr>\n",
       "    <tr>\n",
       "      <th>4</th>\n",
       "      <td>40</td>\n",
       "      <td>41.0</td>\n",
       "      <td>42.0</td>\n",
       "      <td>NaN</td>\n",
       "      <td>NaN</td>\n",
       "      <td>45</td>\n",
       "      <td>46</td>\n",
       "      <td>47</td>\n",
       "      <td>48</td>\n",
       "      <td>49</td>\n",
       "      <td>...</td>\n",
       "      <td>90</td>\n",
       "      <td>91.0</td>\n",
       "      <td>92.0</td>\n",
       "      <td>93.0</td>\n",
       "      <td>94.0</td>\n",
       "      <td>95</td>\n",
       "      <td>96</td>\n",
       "      <td>97</td>\n",
       "      <td>98</td>\n",
       "      <td>99</td>\n",
       "    </tr>\n",
       "  </tbody>\n",
       "</table>\n",
       "<p>5 rows × 21 columns</p>\n",
       "</div>"
      ],
      "text/plain": [
       "   a_a   b_a   c_a   d_a   e_a  f_a  g_a  h_a  i_a  j_a  ...  a_b   b_b   c_b  \\\n",
       "0    0   1.0   2.0   3.0   4.0    5    6    7    8    9  ...   50  51.0  52.0   \n",
       "1   10   NaN   NaN  13.0  14.0   15   16   17   18   19  ...   60  61.0  62.0   \n",
       "2   20   NaN   NaN   NaN   NaN   25   26   27   28   29  ...   70  71.0  72.0   \n",
       "3   30  31.0  32.0   NaN   NaN   35   36   37   38   39  ...   80  81.0  82.0   \n",
       "4   40  41.0  42.0   NaN   NaN   45   46   47   48   49  ...   90  91.0  92.0   \n",
       "\n",
       "    d_b   e_b  f_b  g_b  h_b  i_b  j_b  \n",
       "0  53.0  54.0   55   56   57   58   59  \n",
       "1  63.0  64.0   65   66   67   68   69  \n",
       "2  73.0  74.0   75   76   77   78   79  \n",
       "3  83.0  84.0   85   86   87   88   89  \n",
       "4  93.0  94.0   95   96   97   98   99  \n",
       "\n",
       "[5 rows x 21 columns]"
      ]
     },
     "execution_count": 7,
     "metadata": {},
     "output_type": "execute_result"
    }
   ],
   "source": [
    "# 행인덱스를 기준으로 결합 (열은 merge, 단순결합은 concat)\n",
    "# suffix (접미사) - 같은 이름의 열이 두 개 이상 있는 경우, 열 이름에 접미사를 추가하여 구분할 수 있음\n",
    "# (열 이름 충돌 방지, 결과 데이터프레임의 가독성 높임)\n",
    "# 여기에서 index가 df_b는 5-9까지라 df_a의 0~4와는 겹치는 index가 없어서 NaN이 나온 것 같음\n",
    "\n",
    "df_a.join(df_b,lsuffix='_a',rsuffix='_b')"
   ]
  },
  {
   "cell_type": "code",
   "execution_count": null,
   "id": "9974d4d3",
   "metadata": {
    "id": "9974d4d3",
    "outputId": "84f4494f-949a-4714-9b0b-62954eb9c588"
   },
   "outputs": [],
   "source": [
    "df_a.join(df_b,lsuffix='_a',rsuffix='_b', how='right')"
   ]
  },
  {
   "cell_type": "code",
   "execution_count": null,
   "id": "313be6cc",
   "metadata": {
    "id": "313be6cc",
    "outputId": "b73d9ec3-aa47-4565-b1fd-ccfc615ae305"
   },
   "outputs": [],
   "source": [
    "df_a.join(df_b,lsuffix='_a',rsuffix='_b', how='inner')"
   ]
  },
  {
   "cell_type": "code",
   "execution_count": null,
   "id": "e78ed89c",
   "metadata": {
    "id": "e78ed89c",
    "outputId": "7bba3d46-9a8c-4b1e-a971-016f36a27608"
   },
   "outputs": [],
   "source": [
    "df_a.join(df_b,lsuffix='_a',rsuffix='_b', how='outer')"
   ]
  },
  {
   "cell_type": "markdown",
   "id": "8097cd01",
   "metadata": {
    "id": "8097cd01"
   },
   "source": [
    "# 결측치 처리\n",
    "\n",
    "# 범주화 할 것\n",
    "pclass와 deck은 이미 값이 범주화돼 있음\n",
    "\n",
    "age, fare - 나머지는 필요 없거나 되어 있음\n",
    "\n",
    "#### 겹치는 것 (겹치거나 쓸모없는 행 삭제)\n",
    "sruvived - alive (숫자값을 가진 survived 남기는게 좋을 것 같음)\n",
    "pclass - class (1=First) (숫자값을 가진 pclass 남기는게 좋을 것 같음)\n",
    "\n"
   ]
  },
  {
   "cell_type": "code",
   "execution_count": 1,
   "id": "9210a606",
   "metadata": {
    "id": "9210a606",
    "outputId": "ebe87c87-3c56-415a-926e-3aa1698db171"
   },
   "outputs": [
    {
     "data": {
      "text/html": [
       "<div>\n",
       "<style scoped>\n",
       "    .dataframe tbody tr th:only-of-type {\n",
       "        vertical-align: middle;\n",
       "    }\n",
       "\n",
       "    .dataframe tbody tr th {\n",
       "        vertical-align: top;\n",
       "    }\n",
       "\n",
       "    .dataframe thead th {\n",
       "        text-align: right;\n",
       "    }\n",
       "</style>\n",
       "<table border=\"1\" class=\"dataframe\">\n",
       "  <thead>\n",
       "    <tr style=\"text-align: right;\">\n",
       "      <th></th>\n",
       "      <th>survived</th>\n",
       "      <th>pclass</th>\n",
       "      <th>sex</th>\n",
       "      <th>age</th>\n",
       "      <th>sibsp</th>\n",
       "      <th>parch</th>\n",
       "      <th>fare</th>\n",
       "      <th>embarked</th>\n",
       "      <th>class</th>\n",
       "      <th>who</th>\n",
       "      <th>adult_male</th>\n",
       "      <th>deck</th>\n",
       "      <th>embark_town</th>\n",
       "      <th>alive</th>\n",
       "      <th>alone</th>\n",
       "    </tr>\n",
       "  </thead>\n",
       "  <tbody>\n",
       "    <tr>\n",
       "      <th>0</th>\n",
       "      <td>0</td>\n",
       "      <td>3</td>\n",
       "      <td>male</td>\n",
       "      <td>22.0</td>\n",
       "      <td>1</td>\n",
       "      <td>0</td>\n",
       "      <td>7.2500</td>\n",
       "      <td>S</td>\n",
       "      <td>Third</td>\n",
       "      <td>man</td>\n",
       "      <td>True</td>\n",
       "      <td>NaN</td>\n",
       "      <td>Southampton</td>\n",
       "      <td>no</td>\n",
       "      <td>False</td>\n",
       "    </tr>\n",
       "    <tr>\n",
       "      <th>1</th>\n",
       "      <td>1</td>\n",
       "      <td>1</td>\n",
       "      <td>female</td>\n",
       "      <td>38.0</td>\n",
       "      <td>1</td>\n",
       "      <td>0</td>\n",
       "      <td>71.2833</td>\n",
       "      <td>C</td>\n",
       "      <td>First</td>\n",
       "      <td>woman</td>\n",
       "      <td>False</td>\n",
       "      <td>C</td>\n",
       "      <td>Cherbourg</td>\n",
       "      <td>yes</td>\n",
       "      <td>False</td>\n",
       "    </tr>\n",
       "    <tr>\n",
       "      <th>2</th>\n",
       "      <td>1</td>\n",
       "      <td>3</td>\n",
       "      <td>female</td>\n",
       "      <td>26.0</td>\n",
       "      <td>0</td>\n",
       "      <td>0</td>\n",
       "      <td>7.9250</td>\n",
       "      <td>S</td>\n",
       "      <td>Third</td>\n",
       "      <td>woman</td>\n",
       "      <td>False</td>\n",
       "      <td>NaN</td>\n",
       "      <td>Southampton</td>\n",
       "      <td>yes</td>\n",
       "      <td>True</td>\n",
       "    </tr>\n",
       "    <tr>\n",
       "      <th>3</th>\n",
       "      <td>1</td>\n",
       "      <td>1</td>\n",
       "      <td>female</td>\n",
       "      <td>35.0</td>\n",
       "      <td>1</td>\n",
       "      <td>0</td>\n",
       "      <td>53.1000</td>\n",
       "      <td>S</td>\n",
       "      <td>First</td>\n",
       "      <td>woman</td>\n",
       "      <td>False</td>\n",
       "      <td>C</td>\n",
       "      <td>Southampton</td>\n",
       "      <td>yes</td>\n",
       "      <td>False</td>\n",
       "    </tr>\n",
       "    <tr>\n",
       "      <th>4</th>\n",
       "      <td>0</td>\n",
       "      <td>3</td>\n",
       "      <td>male</td>\n",
       "      <td>35.0</td>\n",
       "      <td>0</td>\n",
       "      <td>0</td>\n",
       "      <td>8.0500</td>\n",
       "      <td>S</td>\n",
       "      <td>Third</td>\n",
       "      <td>man</td>\n",
       "      <td>True</td>\n",
       "      <td>NaN</td>\n",
       "      <td>Southampton</td>\n",
       "      <td>no</td>\n",
       "      <td>True</td>\n",
       "    </tr>\n",
       "  </tbody>\n",
       "</table>\n",
       "</div>"
      ],
      "text/plain": [
       "   survived  pclass     sex   age  sibsp  parch     fare embarked  class  \\\n",
       "0         0       3    male  22.0      1      0   7.2500        S  Third   \n",
       "1         1       1  female  38.0      1      0  71.2833        C  First   \n",
       "2         1       3  female  26.0      0      0   7.9250        S  Third   \n",
       "3         1       1  female  35.0      1      0  53.1000        S  First   \n",
       "4         0       3    male  35.0      0      0   8.0500        S  Third   \n",
       "\n",
       "     who  adult_male deck  embark_town alive  alone  \n",
       "0    man        True  NaN  Southampton    no  False  \n",
       "1  woman       False    C    Cherbourg   yes  False  \n",
       "2  woman       False  NaN  Southampton   yes   True  \n",
       "3  woman       False    C  Southampton   yes  False  \n",
       "4    man        True  NaN  Southampton    no   True  "
      ]
     },
     "execution_count": 1,
     "metadata": {},
     "output_type": "execute_result"
    }
   ],
   "source": [
    "import seaborn as sns\n",
    "\n",
    "titanic_df = sns.load_dataset('titanic')\n",
    "titanic_df.head()"
   ]
  },
  {
   "cell_type": "code",
   "execution_count": null,
   "id": "d06032de",
   "metadata": {},
   "outputs": [],
   "source": [
    "titanic_df.alone.value_counts()"
   ]
  },
  {
   "cell_type": "code",
   "execution_count": null,
   "id": "7c27bd06",
   "metadata": {},
   "outputs": [],
   "source": [
    "titanic_df.who.unique()"
   ]
  },
  {
   "cell_type": "code",
   "execution_count": null,
   "id": "0a811391",
   "metadata": {},
   "outputs": [],
   "source": [
    "titanic_df.who.nunique()"
   ]
  },
  {
   "cell_type": "code",
   "execution_count": null,
   "id": "51df6e7a",
   "metadata": {},
   "outputs": [],
   "source": [
    "titanic_df.isnull().sum()"
   ]
  },
  {
   "cell_type": "code",
   "execution_count": null,
   "id": "52925d85",
   "metadata": {
    "id": "52925d85",
    "outputId": "64315c8c-fa0b-477e-dc2e-6ac6f014b62d"
   },
   "outputs": [],
   "source": [
    "# 범주화 돼있음\n",
    "\n",
    "titanic_df.pclass.value_counts()"
   ]
  },
  {
   "cell_type": "code",
   "execution_count": null,
   "id": "398d6424",
   "metadata": {
    "id": "398d6424",
    "outputId": "0f77e4bd-9666-4928-ec0a-6c9fdbdad41a"
   },
   "outputs": [],
   "source": [
    "# 범주화 필요\n",
    "\n",
    "titanic_df.age.value_counts() # dropna=False하면 NaN 값도 나옴"
   ]
  },
  {
   "cell_type": "code",
   "execution_count": null,
   "id": "a179b6dc",
   "metadata": {
    "id": "a179b6dc",
    "outputId": "1b7b1402-1b6d-4642-d15a-6548392b0dd9"
   },
   "outputs": [],
   "source": [
    "titanic_df.who.value_counts()"
   ]
  },
  {
   "cell_type": "code",
   "execution_count": null,
   "id": "910237c9",
   "metadata": {
    "id": "910237c9",
    "outputId": "8c0727e2-7000-4b83-edf0-6c3825a7c0c4"
   },
   "outputs": [],
   "source": [
    "# 고민 필요 - null 값 많아 지우는게 나을 듯\n",
    "\n",
    "titanic_df.deck.value_counts()"
   ]
  },
  {
   "cell_type": "code",
   "execution_count": null,
   "id": "6fe3443c",
   "metadata": {},
   "outputs": [],
   "source": [
    "titanic_df.fare.value_counts()"
   ]
  },
  {
   "cell_type": "code",
   "execution_count": null,
   "id": "eff9abd5",
   "metadata": {
    "id": "eff9abd5",
    "outputId": "f8c544a0-21f3-49f6-a6db-aa0906d06131"
   },
   "outputs": [],
   "source": [
    "# embarked와 embark_town 겹침\n",
    "\n",
    "titanic_df.embark_town.value_counts()"
   ]
  },
  {
   "cell_type": "code",
   "execution_count": null,
   "id": "fdc633e3",
   "metadata": {},
   "outputs": [],
   "source": [
    "titanic_df.embarked.value_counts()"
   ]
  },
  {
   "cell_type": "code",
   "execution_count": null,
   "id": "ea0be88c",
   "metadata": {
    "id": "ea0be88c",
    "outputId": "f881d901-b300-4f20-a33b-4561882013e1"
   },
   "outputs": [],
   "source": [
    "# 범주화 : age, fare\n",
    "# titanic_df.age부분이 x임 -> apply함 -> 람다에 x 넣고 -> 함수로 돌림\n",
    "\n",
    "def get_category(age):\n",
    "    \n",
    "    cat = ''\n",
    "    if age <= 5: cat = 'Baby'\n",
    "    elif age <= 12: cat = 'Child'\n",
    "    elif age <= 18: cat = 'Teenager'\n",
    "    elif age <= 25: cat = 'Student'\n",
    "    elif age <= 35: cat = 'Young Adult'\n",
    "    elif age <= 60: cat = 'Adult'\n",
    "    else : cat = 'Elderly'\n",
    "    return cat\n",
    "\n",
    "titanic_df['age_cat'] = titanic_df.age.apply(lambda x : get_category(x))\n",
    "titanic_df[['age', 'age_cat']].head()"
   ]
  },
  {
   "cell_type": "markdown",
   "id": "956d3c4a",
   "metadata": {
    "id": "956d3c4a"
   },
   "source": [
    "#### 과제.fare 컬럼으로부터 적절하게 범주화한 파생변수 fare_class를 생성한 후 데이터프레임을 출력하세요."
   ]
  },
  {
   "cell_type": "code",
   "execution_count": 2,
   "id": "c1b6e6f0",
   "metadata": {},
   "outputs": [
    {
     "data": {
      "text/plain": [
       "survived         0\n",
       "pclass           0\n",
       "sex              0\n",
       "age            177\n",
       "sibsp            0\n",
       "parch            0\n",
       "fare             0\n",
       "embarked         2\n",
       "class            0\n",
       "who              0\n",
       "adult_male       0\n",
       "deck           688\n",
       "embark_town      2\n",
       "alive            0\n",
       "alone            0\n",
       "dtype: int64"
      ]
     },
     "execution_count": 2,
     "metadata": {},
     "output_type": "execute_result"
    }
   ],
   "source": [
    "# NaN 값은 없음\n",
    "\n",
    "titanic_df.isnull().sum()"
   ]
  },
  {
   "cell_type": "code",
   "execution_count": 3,
   "id": "499eeded",
   "metadata": {},
   "outputs": [
    {
     "data": {
      "text/plain": [
       "count    891.000000\n",
       "mean      32.204208\n",
       "std       49.693429\n",
       "min        0.000000\n",
       "25%        7.910400\n",
       "50%       14.454200\n",
       "75%       31.000000\n",
       "max      512.329200\n",
       "Name: fare, dtype: float64"
      ]
     },
     "execution_count": 3,
     "metadata": {},
     "output_type": "execute_result"
    }
   ],
   "source": [
    "titanic_df.fare.describe()"
   ]
  },
  {
   "cell_type": "code",
   "execution_count": 4,
   "id": "8897c069",
   "metadata": {},
   "outputs": [
    {
     "data": {
      "text/plain": [
       "248"
      ]
     },
     "execution_count": 4,
     "metadata": {},
     "output_type": "execute_result"
    }
   ],
   "source": [
    "titanic_df.fare.nunique()"
   ]
  },
  {
   "cell_type": "code",
   "execution_count": 5,
   "id": "f38c1ce1",
   "metadata": {},
   "outputs": [
    {
     "data": {
      "text/plain": [
       "array([  0.    ,   4.0125,   5.    ,   6.2375,   6.4375,   6.45  ,\n",
       "         6.4958,   6.75  ,   6.8583,   6.95  ,   6.975 ,   7.0458,\n",
       "         7.05  ,   7.0542,   7.125 ,   7.1417,   7.225 ,   7.2292,\n",
       "         7.25  ,   7.3125,   7.4958,   7.5208,   7.55  ,   7.6292,\n",
       "         7.65  ,   7.725 ,   7.7292,   7.7333,   7.7375,   7.7417,\n",
       "         7.75  ,   7.775 ,   7.7875,   7.7958,   7.8   ,   7.8292,\n",
       "         7.8542,   7.875 ,   7.8792,   7.8875,   7.8958,   7.925 ,\n",
       "         8.0292,   8.05  ,   8.1125,   8.1375,   8.1583,   8.3   ,\n",
       "         8.3625,   8.4042,   8.4333,   8.4583,   8.5167,   8.6542,\n",
       "         8.6625,   8.6833,   8.7125,   8.85  ,   9.    ,   9.2167,\n",
       "         9.225 ,   9.35  ,   9.475 ,   9.4833,   9.5   ,   9.5875,\n",
       "         9.825 ,   9.8375,   9.8417,   9.8458,  10.1708,  10.4625,\n",
       "        10.5   ,  10.5167,  11.1333,  11.2417,  11.5   ,  12.    ,\n",
       "        12.275 ,  12.2875,  12.35  ,  12.475 ,  12.525 ,  12.65  ,\n",
       "        12.875 ,  13.    ,  13.4167,  13.5   ,  13.7917,  13.8583,\n",
       "        13.8625,  14.    ,  14.1083,  14.4   ,  14.4542,  14.4583,\n",
       "        14.5   ,  15.    ,  15.0458,  15.05  ,  15.1   ,  15.2458,\n",
       "        15.5   ,  15.55  ,  15.7417,  15.75  ,  15.85  ,  15.9   ,\n",
       "        16.    ,  16.1   ,  16.7   ,  17.4   ,  17.8   ,  18.    ,\n",
       "        18.75  ,  18.7875,  19.2583,  19.5   ,  19.9667,  20.2125,\n",
       "        20.25  ,  20.525 ,  20.575 ,  21.    ,  21.075 ,  21.6792,\n",
       "        22.025 ,  22.3583,  22.525 ,  23.    ,  23.25  ,  23.45  ,\n",
       "        24.    ,  24.15  ,  25.4667,  25.5875,  25.925 ,  25.9292,\n",
       "        26.    ,  26.25  ,  26.2833,  26.2875,  26.3875,  26.55  ,\n",
       "        27.    ,  27.7208,  27.75  ,  27.9   ,  28.5   ,  28.7125,\n",
       "        29.    ,  29.125 ,  29.7   ,  30.    ,  30.0708,  30.5   ,\n",
       "        30.6958,  31.    ,  31.275 ,  31.3875,  32.3208,  32.5   ,\n",
       "        33.    ,  33.5   ,  34.0208,  34.375 ,  34.6542,  35.    ,\n",
       "        35.5   ,  36.75  ,  37.0042,  38.5   ,  39.    ,  39.4   ,\n",
       "        39.6   ,  39.6875,  40.125 ,  41.5792,  42.4   ,  46.9   ,\n",
       "        47.1   ,  49.5   ,  49.5042,  50.    ,  50.4958,  51.4792,\n",
       "        51.8625,  52.    ,  52.5542,  53.1   ,  55.    ,  55.4417,\n",
       "        55.9   ,  56.4958,  56.9292,  57.    ,  57.9792,  59.4   ,\n",
       "        61.175 ,  61.3792,  61.9792,  63.3583,  65.    ,  66.6   ,\n",
       "        69.3   ,  69.55  ,  71.    ,  71.2833,  73.5   ,  75.25  ,\n",
       "        76.2917,  76.7292,  77.2875,  77.9583,  78.2667,  78.85  ,\n",
       "        79.2   ,  79.65  ,  80.    ,  81.8583,  82.1708,  83.1583,\n",
       "        83.475 ,  86.5   ,  89.1042,  90.    ,  91.0792,  93.5   ,\n",
       "       106.425 , 108.9   , 110.8833, 113.275 , 120.    , 133.65  ,\n",
       "       134.5   , 135.6333, 146.5208, 151.55  , 153.4625, 164.8667,\n",
       "       211.3375, 211.5   , 221.7792, 227.525 , 247.5208, 262.375 ,\n",
       "       263.    , 512.3292])"
      ]
     },
     "execution_count": 5,
     "metadata": {},
     "output_type": "execute_result"
    }
   ],
   "source": [
    "titanic_df_sort = titanic_df.fare.unique()\n",
    "np.sort(titanic_df_sort)"
   ]
  },
  {
   "cell_type": "code",
   "execution_count": 6,
   "id": "084eb967",
   "metadata": {},
   "outputs": [
    {
     "data": {
      "text/plain": [
       "array([  0.    ,   4.0125,   5.    ,   6.2375,   6.4375,   6.45  ,\n",
       "         6.4958,   6.75  ,   6.8583,   6.95  ,   6.975 ,   7.0458,\n",
       "         7.05  ,   7.0542,   7.125 ,   7.1417,   7.225 ,   7.2292,\n",
       "         7.25  ,   7.3125,   7.4958,   7.5208,   7.55  ,   7.6292,\n",
       "         7.65  ,   7.725 ,   7.7292,   7.7333,   7.7375,   7.7417,\n",
       "         7.75  ,   7.775 ,   7.7875,   7.7958,   7.8   ,   7.8292,\n",
       "         7.8542,   7.875 ,   7.8792,   7.8875,   7.8958,   7.925 ,\n",
       "         8.0292,   8.05  ,   8.1125,   8.1375,   8.1583,   8.3   ,\n",
       "         8.3625,   8.4042,   8.4333,   8.4583,   8.5167,   8.6542,\n",
       "         8.6625,   8.6833,   8.7125,   8.85  ,   9.    ,   9.2167,\n",
       "         9.225 ,   9.35  ,   9.475 ,   9.4833,   9.5   ,   9.5875,\n",
       "         9.825 ,   9.8375,   9.8417,   9.8458,  10.1708,  10.4625,\n",
       "        10.5   ,  10.5167,  11.1333,  11.2417,  11.5   ,  12.    ,\n",
       "        12.275 ,  12.2875,  12.35  ,  12.475 ,  12.525 ,  12.65  ,\n",
       "        12.875 ,  13.    ,  13.4167,  13.5   ,  13.7917,  13.8583,\n",
       "        13.8625,  14.    ,  14.1083,  14.4   ,  14.4542,  14.4583,\n",
       "        14.5   ,  15.    ,  15.0458,  15.05  ,  15.1   ,  15.2458,\n",
       "        15.5   ,  15.55  ,  15.7417,  15.75  ,  15.85  ,  15.9   ,\n",
       "        16.    ,  16.1   ,  16.7   ,  17.4   ,  17.8   ,  18.    ,\n",
       "        18.75  ,  18.7875,  19.2583,  19.5   ,  19.9667,  20.2125,\n",
       "        20.25  ,  20.525 ,  20.575 ,  21.    ,  21.075 ,  21.6792,\n",
       "        22.025 ,  22.3583,  22.525 ,  23.    ,  23.25  ,  23.45  ,\n",
       "        24.    ,  24.15  ,  25.4667,  25.5875,  25.925 ,  25.9292,\n",
       "        26.    ,  26.25  ,  26.2833,  26.2875,  26.3875,  26.55  ,\n",
       "        27.    ,  27.7208,  27.75  ,  27.9   ,  28.5   ,  28.7125,\n",
       "        29.    ,  29.125 ,  29.7   ,  30.    ,  30.0708,  30.5   ,\n",
       "        30.6958,  31.    ,  31.275 ,  31.3875,  32.3208,  32.5   ,\n",
       "        33.    ,  33.5   ,  34.0208,  34.375 ,  34.6542,  35.    ,\n",
       "        35.5   ,  36.75  ,  37.0042,  38.5   ,  39.    ,  39.4   ,\n",
       "        39.6   ,  39.6875,  40.125 ,  41.5792,  42.4   ,  46.9   ,\n",
       "        47.1   ,  49.5   ,  49.5042,  50.    ,  50.4958,  51.4792,\n",
       "        51.8625,  52.    ,  52.5542,  53.1   ,  55.    ,  55.4417,\n",
       "        55.9   ,  56.4958,  56.9292,  57.    ,  57.9792,  59.4   ,\n",
       "        61.175 ,  61.3792,  61.9792,  63.3583,  65.    ,  66.6   ,\n",
       "        69.3   ,  69.55  ,  71.    ,  71.2833,  73.5   ,  75.25  ,\n",
       "        76.2917,  76.7292,  77.2875,  77.9583,  78.2667,  78.85  ,\n",
       "        79.2   ,  79.65  ,  80.    ,  81.8583,  82.1708,  83.1583,\n",
       "        83.475 ,  86.5   ,  89.1042,  90.    ,  91.0792,  93.5   ,\n",
       "       106.425 , 108.9   , 110.8833, 113.275 , 120.    , 133.65  ,\n",
       "       134.5   , 135.6333, 146.5208, 151.55  , 153.4625, 164.8667,\n",
       "       211.3375, 211.5   , 221.7792, 227.525 , 247.5208, 262.375 ,\n",
       "       263.    , 512.3292])"
      ]
     },
     "execution_count": 6,
     "metadata": {},
     "output_type": "execute_result"
    }
   ],
   "source": [
    "titanic_df.fare.sort_values().unique()"
   ]
  },
  {
   "cell_type": "code",
   "execution_count": 8,
   "id": "2c699215",
   "metadata": {},
   "outputs": [
    {
     "data": {
      "text/plain": [
       "<AxesSubplot:ylabel='Frequency'>"
      ]
     },
     "execution_count": 8,
     "metadata": {},
     "output_type": "execute_result"
    },
    {
     "data": {
      "image/png": "[encoded data removed]",
      "text/plain": [
       "<Figure size 640x480 with 1 Axes>"
      ]
     },
     "metadata": {},
     "output_type": "display_data"
    }
   ],
   "source": [
    "# histogram은 분포도이다\n",
    "# 분포(distribution)는 데이터의 분포 형태를 나타내는 개념으로,\n",
    "# 주어진 데이터셋에서 각 값이 나타나는 빈도수를 나타냅니다.\n",
    "# 데이터가 정규분포(normal distribution)를 따르면 대부분의 데이터가 평균값 주변에 모여 있으며,\n",
    "# 양 끝단에는 적은 수의 이상치(outlier)가 존재합니다.\n",
    "# 반면에 균등 분포(uniform distribution)는 모든 데이터가 동일한 빈도수로 나타나는 분포입니다.\n",
    "\n",
    "# 500 이상은 이상치(outlier)인 것 같은데, 일단 범주화이기 때문에,\n",
    "# 이상치 처리같은 것은 이 부분에서는 할 필요가 없는 것 같음\n",
    "\n",
    "# 자세히는 모르겠지만, 떨어져 있는 것끼리 묶고, 빈도수가 높은 것끼리 묶음\n",
    "# 0~50\n",
    "# 50~100\n",
    "# 100~200\n",
    "# 200~300\n",
    "# 300~\n",
    "\n",
    "titanic_df.fare.plot(kind='hist',bins=50)"
   ]
  },
  {
   "cell_type": "code",
   "execution_count": 25,
   "id": "4ee5c301",
   "metadata": {},
   "outputs": [
    {
     "name": "stdout",
     "output_type": "stream",
     "text": [
      "[871  17   3] \n",
      " [  0.     170.7764 341.5528 512.3292]\n"
     ]
    },
    {
     "data": {
      "text/plain": [
       "first     871\n",
       "second     17\n",
       "third       3\n",
       "Name: fare_class, dtype: int64"
      ]
     },
     "execution_count": 25,
     "metadata": {},
     "output_type": "execute_result"
    }
   ],
   "source": [
    "# 분포를 확인해서 쓸 필요가 있음 : 한 쪽으로 치우침\n",
    "\n",
    "count, bin_dividers = np.histogram(titanic_df.fare, bins=3)\n",
    "print(count, '\\n',bin_dividers)\n",
    "\n",
    "bin_names = ['first', 'second', 'third']\n",
    "titanic_df['fare_class'] = pd.cut(x=titanic_df.fare,\n",
    "                                 bins = bin_dividers,\n",
    "                                 labels = bin_names,\n",
    "                                 include_lowest=True)\n",
    "\n",
    "titanic_df.fare_class.value_counts()"
   ]
  },
  {
   "cell_type": "code",
   "execution_count": 15,
   "id": "2cc84417",
   "metadata": {},
   "outputs": [
    {
     "data": {
      "text/plain": [
       "3    491\n",
       "1    216\n",
       "2    184\n",
       "Name: pclass, dtype: int64"
      ]
     },
     "execution_count": 15,
     "metadata": {},
     "output_type": "execute_result"
    }
   ],
   "source": [
    "titanic_df.pclass.value_counts()"
   ]
  },
  {
   "cell_type": "code",
   "execution_count": 16,
   "id": "05a2847c",
   "metadata": {},
   "outputs": [
    {
     "data": {
      "text/html": [
       "<div>\n",
       "<style scoped>\n",
       "    .dataframe tbody tr th:only-of-type {\n",
       "        vertical-align: middle;\n",
       "    }\n",
       "\n",
       "    .dataframe tbody tr th {\n",
       "        vertical-align: top;\n",
       "    }\n",
       "\n",
       "    .dataframe thead th {\n",
       "        text-align: right;\n",
       "    }\n",
       "</style>\n",
       "<table border=\"1\" class=\"dataframe\">\n",
       "  <thead>\n",
       "    <tr style=\"text-align: right;\">\n",
       "      <th></th>\n",
       "      <th>survived</th>\n",
       "      <th>pclass</th>\n",
       "      <th>age</th>\n",
       "      <th>sibsp</th>\n",
       "      <th>parch</th>\n",
       "      <th>fare</th>\n",
       "    </tr>\n",
       "  </thead>\n",
       "  <tbody>\n",
       "    <tr>\n",
       "      <th>count</th>\n",
       "      <td>891.000000</td>\n",
       "      <td>891.000000</td>\n",
       "      <td>714.000000</td>\n",
       "      <td>891.000000</td>\n",
       "      <td>891.000000</td>\n",
       "      <td>891.000000</td>\n",
       "    </tr>\n",
       "    <tr>\n",
       "      <th>mean</th>\n",
       "      <td>0.383838</td>\n",
       "      <td>2.308642</td>\n",
       "      <td>29.699118</td>\n",
       "      <td>0.523008</td>\n",
       "      <td>0.381594</td>\n",
       "      <td>32.204208</td>\n",
       "    </tr>\n",
       "    <tr>\n",
       "      <th>std</th>\n",
       "      <td>0.486592</td>\n",
       "      <td>0.836071</td>\n",
       "      <td>14.526497</td>\n",
       "      <td>1.102743</td>\n",
       "      <td>0.806057</td>\n",
       "      <td>49.693429</td>\n",
       "    </tr>\n",
       "    <tr>\n",
       "      <th>min</th>\n",
       "      <td>0.000000</td>\n",
       "      <td>1.000000</td>\n",
       "      <td>0.420000</td>\n",
       "      <td>0.000000</td>\n",
       "      <td>0.000000</td>\n",
       "      <td>0.000000</td>\n",
       "    </tr>\n",
       "    <tr>\n",
       "      <th>25%</th>\n",
       "      <td>0.000000</td>\n",
       "      <td>2.000000</td>\n",
       "      <td>20.125000</td>\n",
       "      <td>0.000000</td>\n",
       "      <td>0.000000</td>\n",
       "      <td>7.910400</td>\n",
       "    </tr>\n",
       "    <tr>\n",
       "      <th>50%</th>\n",
       "      <td>0.000000</td>\n",
       "      <td>3.000000</td>\n",
       "      <td>28.000000</td>\n",
       "      <td>0.000000</td>\n",
       "      <td>0.000000</td>\n",
       "      <td>14.454200</td>\n",
       "    </tr>\n",
       "    <tr>\n",
       "      <th>75%</th>\n",
       "      <td>1.000000</td>\n",
       "      <td>3.000000</td>\n",
       "      <td>38.000000</td>\n",
       "      <td>1.000000</td>\n",
       "      <td>0.000000</td>\n",
       "      <td>31.000000</td>\n",
       "    </tr>\n",
       "    <tr>\n",
       "      <th>max</th>\n",
       "      <td>1.000000</td>\n",
       "      <td>3.000000</td>\n",
       "      <td>80.000000</td>\n",
       "      <td>8.000000</td>\n",
       "      <td>6.000000</td>\n",
       "      <td>512.329200</td>\n",
       "    </tr>\n",
       "  </tbody>\n",
       "</table>\n",
       "</div>"
      ],
      "text/plain": [
       "         survived      pclass         age       sibsp       parch        fare\n",
       "count  891.000000  891.000000  714.000000  891.000000  891.000000  891.000000\n",
       "mean     0.383838    2.308642   29.699118    0.523008    0.381594   32.204208\n",
       "std      0.486592    0.836071   14.526497    1.102743    0.806057   49.693429\n",
       "min      0.000000    1.000000    0.420000    0.000000    0.000000    0.000000\n",
       "25%      0.000000    2.000000   20.125000    0.000000    0.000000    7.910400\n",
       "50%      0.000000    3.000000   28.000000    0.000000    0.000000   14.454200\n",
       "75%      1.000000    3.000000   38.000000    1.000000    0.000000   31.000000\n",
       "max      1.000000    3.000000   80.000000    8.000000    6.000000  512.329200"
      ]
     },
     "execution_count": 16,
     "metadata": {},
     "output_type": "execute_result"
    }
   ],
   "source": [
    "titanic_df.describe()"
   ]
  },
  {
   "cell_type": "code",
   "execution_count": 17,
   "id": "0e3206ff",
   "metadata": {},
   "outputs": [
    {
     "data": {
      "text/plain": [
       "<AxesSubplot:ylabel='Frequency'>"
      ]
     },
     "execution_count": 17,
     "metadata": {},
     "output_type": "execute_result"
    },
    {
     "data": {
      "image/png": "[encoded data removed]",
      "text/plain": [
       "<Figure size 640x480 with 1 Axes>"
      ]
     },
     "metadata": {},
     "output_type": "display_data"
    }
   ],
   "source": [
    "# 데이터가 왼쪽으로 치우쳐서 몰려 있으면, 그것 위주로 다뤄야 함\n",
    "\n",
    "titanic_df.fare.plot(kind='hist', bins=50)"
   ]
  },
  {
   "cell_type": "code",
   "execution_count": 31,
   "id": "eb71227a",
   "metadata": {},
   "outputs": [
    {
     "data": {
      "text/plain": [
       "<AxesSubplot:>"
      ]
     },
     "execution_count": 31,
     "metadata": {},
     "output_type": "execute_result"
    },
    {
     "data": {
      "image/png": "[encoded data removed]",
      "text/plain": [
       "<Figure size 640x480 with 1 Axes>"
      ]
     },
     "metadata": {},
     "output_type": "display_data"
    }
   ],
   "source": [
    "titanic_df.fare[titanic_df.fare<=100].plot(kind='box')"
   ]
  },
  {
   "cell_type": "code",
   "execution_count": 30,
   "id": "b5cfa017",
   "metadata": {},
   "outputs": [
    {
     "data": {
      "text/plain": [
       "count    838.000000\n",
       "mean      22.411942\n",
       "std       20.827218\n",
       "min        0.000000\n",
       "25%        7.895800\n",
       "50%       13.000000\n",
       "75%       27.720800\n",
       "max       93.500000\n",
       "Name: fare, dtype: float64"
      ]
     },
     "execution_count": 30,
     "metadata": {},
     "output_type": "execute_result"
    }
   ],
   "source": [
    "titanic_df.fare[titanic_df.fare<=100].describe()"
   ]
  },
  {
   "cell_type": "code",
   "execution_count": 34,
   "id": "8c933648",
   "metadata": {},
   "outputs": [
    {
     "data": {
      "text/html": [
       "<div>\n",
       "<style scoped>\n",
       "    .dataframe tbody tr th:only-of-type {\n",
       "        vertical-align: middle;\n",
       "    }\n",
       "\n",
       "    .dataframe tbody tr th {\n",
       "        vertical-align: top;\n",
       "    }\n",
       "\n",
       "    .dataframe thead th {\n",
       "        text-align: right;\n",
       "    }\n",
       "</style>\n",
       "<table border=\"1\" class=\"dataframe\">\n",
       "  <thead>\n",
       "    <tr style=\"text-align: right;\">\n",
       "      <th></th>\n",
       "      <th>fare</th>\n",
       "      <th>fare_cat</th>\n",
       "    </tr>\n",
       "  </thead>\n",
       "  <tbody>\n",
       "    <tr>\n",
       "      <th>0</th>\n",
       "      <td>7.2500</td>\n",
       "      <td>third</td>\n",
       "    </tr>\n",
       "    <tr>\n",
       "      <th>1</th>\n",
       "      <td>71.2833</td>\n",
       "      <td>second</td>\n",
       "    </tr>\n",
       "    <tr>\n",
       "      <th>2</th>\n",
       "      <td>7.9250</td>\n",
       "      <td>third</td>\n",
       "    </tr>\n",
       "    <tr>\n",
       "      <th>3</th>\n",
       "      <td>53.1000</td>\n",
       "      <td>second</td>\n",
       "    </tr>\n",
       "    <tr>\n",
       "      <th>4</th>\n",
       "      <td>8.0500</td>\n",
       "      <td>third</td>\n",
       "    </tr>\n",
       "  </tbody>\n",
       "</table>\n",
       "</div>"
      ],
      "text/plain": [
       "      fare fare_cat\n",
       "0   7.2500    third\n",
       "1  71.2833   second\n",
       "2   7.9250    third\n",
       "3  53.1000   second\n",
       "4   8.0500    third"
      ]
     },
     "execution_count": 34,
     "metadata": {},
     "output_type": "execute_result"
    }
   ],
   "source": [
    "# 나중에 모델 성능에 기여하는 정도를 보고 평가한다. 여러 경우로 나누고 돌려 봄\n",
    "\n",
    "def get_category(fair):\n",
    "    \n",
    "    cat = ''\n",
    "    if fair <= 22: cat = 'third'\n",
    "    elif fair <= 100: cat = 'second'\n",
    "    else : cat = 'first'\n",
    "    return cat\n",
    "\n",
    "titanic_df['fare_cat'] = titanic_df.fare.apply(lambda x : get_category(x))\n",
    "titanic_df[['fare', 'fare_cat']].head()"
   ]
  },
  {
   "cell_type": "code",
   "execution_count": null,
   "id": "cc132478",
   "metadata": {},
   "outputs": [],
   "source": [
    "# 표준편차가 높으면 정규성이 떨어짐 -> 떨어지면 정규화하는게 좋음\n",
    "표준화\n",
    "정규화\n",
    "일반화 - 데이터 학습을 했을 때 -> \n",
    "분포가 비슷한 정도끼리 같은 카테고리로 묶는다"
   ]
  },
  {
   "cell_type": "markdown",
   "id": "b7562adb",
   "metadata": {},
   "source": [
    "# replace() - pandas library"
   ]
  },
  {
   "cell_type": "code",
   "execution_count": null,
   "id": "c515dfce",
   "metadata": {
    "id": "c515dfce",
    "outputId": "2f1eaf04-354f-445e-f518-e40c6c35a776"
   },
   "outputs": [],
   "source": [
    "# 값 치환 - replace() 리스트로 한 꺼번에 바꿔줄 수 있음\n",
    "\n",
    "titanic_df['sex'] = titanic_df.sex.replace(['female', 'male'], ['woman', 'man']).head()\n",
    "titanic_df.head()"
   ]
  },
  {
   "cell_type": "code",
   "execution_count": null,
   "id": "4ae65e71",
   "metadata": {
    "id": "4ae65e71",
    "outputId": "6abe0422-a60a-4877-cf4c-95ee123a8e5c"
   },
   "outputs": [],
   "source": [
    "titanic_df['sex'] = titanic_df.sex.replace({'man':'male', 'woman':'female'})\n",
    "titanic_df.head()"
   ]
  },
  {
   "cell_type": "code",
   "execution_count": null,
   "id": "0c50151b",
   "metadata": {
    "id": "0c50151b",
    "outputId": "fb31afbf-375b-40b7-f0b9-9fc68e38b88c"
   },
   "outputs": [],
   "source": [
    "# 열이름 바꾸기\n",
    "\n",
    "tdf = titanic_df.copy()\n",
    "tdf.head()"
   ]
  },
  {
   "cell_type": "code",
   "execution_count": null,
   "id": "76a3e9b8",
   "metadata": {
    "id": "76a3e9b8",
    "outputId": "f110c693-80fb-41aa-999f-3ef738a956c5"
   },
   "outputs": [],
   "source": [
    "tdf.rename(columns={'sex':'gender'}).head()"
   ]
  },
  {
   "cell_type": "code",
   "execution_count": null,
   "id": "cd1a9631",
   "metadata": {
    "id": "cd1a9631",
    "outputId": "5853130b-aaed-4bd5-9990-c86b30817ffe"
   },
   "outputs": [],
   "source": [
    "tdf.rename(str.upper, axis='columns').head()"
   ]
  },
  {
   "cell_type": "code",
   "execution_count": null,
   "id": "0ee7071a",
   "metadata": {
    "id": "0ee7071a",
    "outputId": "a0839eb1-119e-486f-c93e-99a78b808193"
   },
   "outputs": [],
   "source": [
    "tdf.rename(str.lower, axis='columns').head(2)"
   ]
  },
  {
   "cell_type": "code",
   "execution_count": null,
   "id": "b93f9a05",
   "metadata": {
    "id": "b93f9a05",
    "outputId": "0b93b7f5-5462-42b3-ba21-55895c378981"
   },
   "outputs": [],
   "source": [
    "tdf.embarked.unique()"
   ]
  },
  {
   "cell_type": "code",
   "execution_count": null,
   "id": "1ad6e47f",
   "metadata": {
    "id": "1ad6e47f",
    "outputId": "f8974f86-5b92-4be2-bf12-9d13e5adf725"
   },
   "outputs": [],
   "source": [
    "# 고유한 값의 개수\n",
    "\n",
    "tdf.embarked.nunique()"
   ]
  },
  {
   "cell_type": "markdown",
   "id": "0698b3e2",
   "metadata": {
    "id": "0698b3e2"
   },
   "source": [
    "# 삭제\n",
    "#### drop() - pandas library\n",
    "- Series나 DataFrame에서 행이나 열을 제거"
   ]
  },
  {
   "cell_type": "code",
   "execution_count": null,
   "id": "51909530",
   "metadata": {
    "id": "51909530",
    "outputId": "544f7a9a-9b90-45e5-92aa-c979200b069b"
   },
   "outputs": [],
   "source": [
    "# 열 삭제\n",
    "\n",
    "df_null.drop('j', axis=1, inplace=True)\n",
    "df_null.head()"
   ]
  },
  {
   "cell_type": "code",
   "execution_count": null,
   "id": "e786b5e2",
   "metadata": {
    "id": "e786b5e2",
    "outputId": "0927622b-452c-4eb5-de92-516f38cf8d9a"
   },
   "outputs": [],
   "source": [
    "# 여러 개의 열 삭제\n",
    "\n",
    "df_null.drop(['g','h','i'], axis=1, inplace=True)\n",
    "df_null.head()"
   ]
  },
  {
   "cell_type": "code",
   "execution_count": null,
   "id": "113f0ffa",
   "metadata": {
    "id": "113f0ffa",
    "outputId": "142101eb-dbd6-4149-f575-c9aebdcd2a01"
   },
   "outputs": [],
   "source": [
    "df_temp = df_null.drop('f', axis=1)\n",
    "print(df_null)\n",
    "df_temp.head()"
   ]
  },
  {
   "cell_type": "code",
   "execution_count": null,
   "id": "4c478d50",
   "metadata": {
    "id": "4c478d50",
    "outputId": "e39cc656-a66a-4d16-ae8b-d23c80cefbb0"
   },
   "outputs": [],
   "source": [
    "# 행 삭제\n",
    "\n",
    "df_null = df.copy()\n",
    "df_null\n",
    "\n",
    "df_null.drop(df_null.index[2:5])"
   ]
  },
  {
   "cell_type": "code",
   "execution_count": null,
   "id": "1a9e0666",
   "metadata": {
    "id": "1a9e0666",
    "outputId": "306e73eb-9c89-4638-8b28-a9cf66b7e64f"
   },
   "outputs": [],
   "source": [
    "# 열 조건에 따라 행 삭제\n",
    "\n",
    "df_null.e.isnull().index\n",
    "\n",
    "idx_10 = df_null[df_null.j < 10].index\n",
    "print(idx_10)\n",
    "df_null.drop(idx_10)"
   ]
  },
  {
   "cell_type": "code",
   "execution_count": null,
   "id": "aa43c2e8",
   "metadata": {},
   "outputs": [],
   "source": [
    "# null값은 False를 반환하기 때문에 비교 연산을 할 수 없고, 그냥 .isnull()등을 사용해야 함\n",
    "\n",
    "df_null.e.isnull()"
   ]
  },
  {
   "cell_type": "code",
   "execution_count": null,
   "id": "181990cd",
   "metadata": {},
   "outputs": [],
   "source": [
    "df_null[df_null.e.isnull()]"
   ]
  },
  {
   "cell_type": "code",
   "execution_count": null,
   "id": "d4e78c03",
   "metadata": {},
   "outputs": [],
   "source": [
    "df_null[df_null.e.isnull()].index"
   ]
  },
  {
   "cell_type": "code",
   "execution_count": null,
   "id": "bde2c2e4",
   "metadata": {
    "id": "bde2c2e4",
    "outputId": "25bb3ec4-3bd0-4c6d-8480-1e74060da629"
   },
   "outputs": [],
   "source": [
    "import seaborn as sns\n",
    "\n",
    "titanic_df = sns.load_dataset('titanic')\n",
    "titanic_df.head()"
   ]
  },
  {
   "cell_type": "code",
   "execution_count": null,
   "id": "f0283470",
   "metadata": {
    "id": "f0283470"
   },
   "outputs": [],
   "source": [
    "tdf = titanic_df.copy()"
   ]
  },
  {
   "cell_type": "code",
   "execution_count": null,
   "id": "5f935b1d",
   "metadata": {
    "id": "5f935b1d",
    "outputId": "9da75fa5-14c7-420a-c24c-dd3b26ed5903"
   },
   "outputs": [],
   "source": [
    "# 조건에 맞는 데이터 추출\n",
    "# Q. 타이타닉 데이터셋에서 나이가 60세 이상이고 선실 등급이 1등급이며 성별이 여성인 승객 추출\n",
    "\n",
    "tdf.head()\n",
    "# con1 = tdf['pclass'] == 1\n",
    "# con2 = tdf['age'] >= 60\n",
    "# con3 = tdf[\"sex\"] == 'female'\n",
    "# tdf[con1 & con2 & con3]\n",
    "# tdf[con1 & con2 & con3]"
   ]
  },
  {
   "cell_type": "code",
   "execution_count": null,
   "id": "2e089f11",
   "metadata": {},
   "outputs": [],
   "source": [
    "# 나\n",
    "\n",
    "titanic_df[(titanic_df.age >= 60) & (titanic_df.pclass == 1) & (titanic_df.sex == 'female')]"
   ]
  },
  {
   "cell_type": "code",
   "execution_count": null,
   "id": "e9920706",
   "metadata": {},
   "outputs": [],
   "source": [
    "tdf = titanic_df.copy()\n",
    "cond = (tdf[\"pclass\"] == 1) & (tdf[\"age\"] >= 60) & (tdf[\"sex\"] == \"female\")\n",
    "tdf[cond]"
   ]
  },
  {
   "cell_type": "code",
   "execution_count": null,
   "id": "2ce2d8b0",
   "metadata": {},
   "outputs": [],
   "source": [
    "con1 = tdf[\"pclass\"] == 1\n",
    "con2 = tdf[\"age\"] >= 60\n",
    "con3 = tdf[\"sex\"] == \"female\"\n",
    "tdf[con1 & con2 & con3]"
   ]
  },
  {
   "cell_type": "code",
   "execution_count": null,
   "id": "2b92382b",
   "metadata": {
    "id": "2b92382b",
    "outputId": "07ff56be-a67f-40ed-ad2a-0c16dc1ebdc6"
   },
   "outputs": [],
   "source": [
    "tdf_m = tdf[tdf.sex == 'male']\n",
    "tdf_m.head()"
   ]
  },
  {
   "cell_type": "code",
   "execution_count": null,
   "id": "e3f16a91",
   "metadata": {
    "id": "e3f16a91",
    "outputId": "05022c32-a0ce-46c9-cc20-4bf081fd1505"
   },
   "outputs": [],
   "source": [
    "# 'First'를 'class'와 함께 []에 넣지 말 것\n",
    "\n",
    "tdf_f = tdf[tdf['class'] == 'First']\n",
    "tdf_f.head()"
   ]
  },
  {
   "cell_type": "code",
   "execution_count": null,
   "id": "975ae8f7",
   "metadata": {
    "id": "975ae8f7",
    "outputId": "29d54427-3491-4659-9446-c519047424e9"
   },
   "outputs": [],
   "source": [
    "con1 = tdf['class'] == 'First'\n",
    "con2 = tdf['sex'] == 'female'\n",
    "tdf[con1&con2].survived.value_counts()"
   ]
  },
  {
   "cell_type": "code",
   "execution_count": null,
   "id": "0b7f3a26",
   "metadata": {
    "id": "0b7f3a26",
    "outputId": "33dbd29d-f6b2-41a4-ffe5-c01290f21496"
   },
   "outputs": [],
   "source": [
    "con1 = tdf['class'] == 'Third'\n",
    "con2 = tdf['sex'] == 'male'\n",
    "tdf[con1&con2].survived.value_counts()"
   ]
  },
  {
   "cell_type": "markdown",
   "id": "cf367b47",
   "metadata": {
    "id": "cf367b47"
   },
   "source": [
    "그룹 연산\n",
    "* 복잡한 데이터를 어떤 기준에 따라 여러 그룹으로 나누어서 관찰할 수 있으며 이런 방식으로 분할 처리하는 것을 그룹 연산이라 함\n",
    "* 그룹 연산은 데이터를 집계, 변환, 필터링하는데 효율적이며 판다스 groupby() 메소드를 사용함\n",
    "* 그룹 객체 만들기(분할)\n",
    "* 그룹 연산 메소드(적용-결합)"
   ]
  },
  {
   "cell_type": "code",
   "execution_count": null,
   "id": "e532c771",
   "metadata": {
    "id": "e532c771"
   },
   "outputs": [],
   "source": [
    "grouped = tdf.groupby('class')\n",
    "list(grouped)"
   ]
  },
  {
   "cell_type": "code",
   "execution_count": null,
   "id": "3baf1ea9",
   "metadata": {
    "id": "3baf1ea9",
    "outputId": "430af797-bc54-4b01-8b8d-8ddbfe296b6f"
   },
   "outputs": [],
   "source": [
    "# 보기 좋게\n",
    "\n",
    "for key, group in grouped:\n",
    "    print('* key :', key)\n",
    "    print('* number :', len(group))\n",
    "    print(group.head())"
   ]
  },
  {
   "cell_type": "code",
   "execution_count": null,
   "id": "70f1fc4d",
   "metadata": {},
   "outputs": [],
   "source": [
    "grouped.groups.keys()"
   ]
  },
  {
   "cell_type": "code",
   "execution_count": null,
   "id": "4372dc2d",
   "metadata": {
    "id": "4372dc2d",
    "outputId": "31fab053-802a-4f39-f75d-297e0f442b9d"
   },
   "outputs": [],
   "source": [
    "average = grouped.mean()\n",
    "average"
   ]
  },
  {
   "cell_type": "code",
   "execution_count": null,
   "id": "f24b8022",
   "metadata": {
    "id": "f24b8022",
    "outputId": "fa31880a-d84f-456e-ca62-2e78750a974c"
   },
   "outputs": [],
   "source": [
    "stat = grouped.max()\n",
    "stat"
   ]
  },
  {
   "cell_type": "code",
   "execution_count": null,
   "id": "ba921cc0",
   "metadata": {
    "id": "ba921cc0",
    "outputId": "6d2349bf-b109-46a7-84c2-9b50cd1dde3b"
   },
   "outputs": [],
   "source": [
    "# Q. 'Third' 그룹만을 선택해서 group3 이름으로 저장하고 통계요약표를 출력하세요.\n",
    "\n",
    "group3 = grouped.get_group('Third')\n",
    "group3.describe()"
   ]
  },
  {
   "cell_type": "code",
   "execution_count": null,
   "id": "baf7e761",
   "metadata": {
    "id": "baf7e761",
    "outputId": "895aea88-a1af-4659-aa52-e9e5c3f8b712"
   },
   "outputs": [],
   "source": [
    "# Q. class 열, sex 열을 기준으로 분할하여 grouped_two에 저장하세요.\n",
    "\n",
    "grouped_two = tdf.groupby(['class', 'sex'])\n",
    "grouped_two.mean()"
   ]
  },
  {
   "cell_type": "code",
   "execution_count": null,
   "id": "a5cb0e98",
   "metadata": {},
   "outputs": [],
   "source": [
    "grouped_two = tdf.groupby(['class','sex'])\n",
    "grouped_two.std()"
   ]
  },
  {
   "cell_type": "code",
   "execution_count": null,
   "id": "bbcef2d4",
   "metadata": {},
   "outputs": [],
   "source": [
    "# 개연 연습\n",
    "\n",
    "age_by_class = titanic_df.groupby('class')['age'].mean()\n",
    "\n",
    "print(age_by_class)"
   ]
  },
  {
   "cell_type": "markdown",
   "id": "4b348618",
   "metadata": {
    "id": "4b348618"
   },
   "source": [
    "적용-결합\n",
    "\n",
    "데이터 집계(agg), \n",
    "- 집계 연산을 처리하는 사용자 정의 함수를 그룹 객체에 적용하려면 agg() 메서드 사용\n",
    "- 모든열에 여러 함수를 매핑 : group객체.agg([함수1,함수2,함수3,…])\n",
    "- 각 열마다 다른 함수를 매핑 : group객체.agg({‘열1’: 함수1, ‘열2’:함수2, …})\n",
    "- aggregate\"는 집계하다, 모으다, 합치다, 종합하다, 총계를 내다 등의 의미를 갖는 동사입니다. 데이터 분석에서 \"aggregate\"는 데이터를 그룹화하여 특정 기준에 따라 합계, 평균, 최대값, 최소값 등을 계산하는 과정을 말합니다. 따라서 \"aggregate\"와 유사한 용어로 \"집계(aggregation)\", \"집계함수(aggregation function)\", \"집계연산(aggregation operation)\" 등이 사용됩니다.\n",
    "\n",
    "변환(transform)\n",
    "- 원소의 본래 행 인덱스와 열 이름을 기준으로 연산 결과를 반환\n",
    "- 데이터 변환 연산 : group객체.transform(매핑함수)\n",
    "\n",
    "필터링(filter)\n",
    "- 그룹 객체에 filter() 메서드를 적용할 때 조건식을 가진 함수를 전달하면 조건이 참인 그룹만을 남김\n",
    "- 그룹 객체 필터링 : group 객체.filter(조건 함수식)\n",
    "\n",
    "객체에 함수 매핑(apply)\n",
    " - 판다스 객체의 개별 원소를 특정 함수에 일대일로 매핑. 사용자가 원하는 대부분의 연산을 그룹 객체에 적용\n",
    " - group 객체.apply(매핑함수)\n",
    " \n",
    "https://kongdols-room.tistory.com/166"
   ]
  },
  {
   "cell_type": "markdown",
   "id": "08f92cd8",
   "metadata": {},
   "source": [
    "Pandas의 agg 함수와 transform 함수는 모두 그룹화된 데이터에 함수를 적용하는데 사용됩니다. \n",
    "그러나 이 두 함수는 몇 가지 차이점이 있습니다.\n",
    "\n",
    "- agg 함수는 그룹화된 데이터를 집계하여 새로운 데이터프레임을 만듭니다. 집계 함수를 사용하여 각 그룹의 결과를 새로운 열에 저장합니다. 예를 들어, mean, sum, count와 같은 함수를 사용할 수 있습니다.\n",
    "\n",
    "- transform 함수는 그룹화된 데이터를 변경하거나 변환할 수 있습니다. 그리고 transform 함수를 사용한 결과는 원본 데이터프레임과 크기가 같습니다. 예를 들어, 그룹화된 데이터에 대한 각 열의 평균 값을 계산하고 이를 각 요소에 적용하여 새로운 열을 만들 수 있습니다.\n",
    "\n",
    "- agg 함수를 사용하여 다른 집계 함수를 조합하여 사용할 수도 있습니다. 예를 들어, 여러 개의 열에 대한 sum과 mean 함수를 같이 사용하여 새로운 데이터프레임을 만들 수 있습니다."
   ]
  },
  {
   "cell_type": "code",
   "execution_count": 1,
   "id": "d910654c",
   "metadata": {},
   "outputs": [
    {
     "name": "stdout",
     "output_type": "stream",
     "text": [
      "  group  value\n",
      "0     A      1\n",
      "1     A      2\n",
      "2     B      3\n",
      "3     B      4\n",
      "4     B      5 \n",
      "\n",
      "      value    \n",
      "       mean sum\n",
      "group          \n",
      "A       1.5   3\n",
      "B       4.0  12 \n",
      "\n",
      "  group  value  group_mean\n",
      "0     A      1         1.5\n",
      "1     A      2         1.5\n",
      "2     B      3         4.0\n",
      "3     B      4         4.0\n",
      "4     B      5         4.0\n"
     ]
    }
   ],
   "source": [
    "# 데이터프레임 생성\n",
    "df = pd.DataFrame({\n",
    "    'group' : ['A','A','B','B','B'],\n",
    "    'value' : [1,2,3,4,5]\n",
    "})\n",
    "print(df,'\\n')\n",
    "# agg 함수 사용 예시\n",
    "df_agg = df.groupby('group').agg({'value' : ['mean', 'sum']})\n",
    "print(df_agg,'\\n')\n",
    "\n",
    "# transform 함수 사용 예시\n",
    "df_transform = df.groupby('group')['value'].transform('mean')\n",
    "df['group_mean'] = df_transform\n",
    "print(df)\n",
    "                                  "
   ]
  },
  {
   "cell_type": "code",
   "execution_count": null,
   "id": "3b378107",
   "metadata": {
    "id": "3b378107",
    "outputId": "5c6c9b8c-e1bc-442b-a5ab-e7704f4bfd40"
   },
   "outputs": [],
   "source": [
    "# Q. 최대값 - 최소값을 반환하는 사용자 함수를 정의하고 agg()함수에 인수로 전달하여 그룹별로 집계하여\n",
    "# agg_minmax 이름으로 저장 후 처음 5개행을 출력하세요.\n",
    "# 자동으로 숫자가 아닌 열은 제외시킴\n",
    "\n",
    "def min_max(x):\n",
    "    return x.max() - x.min()\n",
    "\n",
    "agg_minmax = grouped.agg(min_max)\n",
    "agg_minmax.head()"
   ]
  },
  {
   "cell_type": "code",
   "execution_count": null,
   "id": "45316bdf",
   "metadata": {},
   "outputs": [],
   "source": [
    "# default = 20임, 아래 parch가 ...으로 나오길래 일단 조정했음\n",
    "\n",
    "pd.options.display.max_columns = 30"
   ]
  },
  {
   "cell_type": "code",
   "execution_count": null,
   "id": "50407fa5",
   "metadata": {
    "id": "50407fa5",
    "outputId": "c81e5b5c-c7a1-4208-877e-e068121bf03a"
   },
   "outputs": [],
   "source": [
    "agg_all = grouped.agg(['min', 'max'])\n",
    "agg_all"
   ]
  },
  {
   "cell_type": "code",
   "execution_count": null,
   "id": "be581bf0",
   "metadata": {
    "id": "be581bf0",
    "outputId": "4adaff51-86ec-49f2-8c5c-1bb1c3787709"
   },
   "outputs": [],
   "source": [
    "# Q. grouped에 각 열마다 다른 함수를 적용하여 agg_sep 이름으로 저장하고 출력하세요.\n",
    "# ('fare'는 'min', 'max', 'age'는 'mean')\n",
    "# 딕셔너리 사용\n",
    "# agg() 함수를 사용할 때, 함수 이름을 인자로 전달할 때는 괄호를 붙이지 않아도 됩니다.\n",
    "# 함수 이름만 전달하면 agg() 함수가 해당 함수를 데이터에 적용할 때 괄호를 붙여서 함수를 호출합니다.\n",
    "\n",
    "agg_sep = grouped.agg({'fare':['max', 'min'], 'age':'mean'})\n",
    "agg_sep"
   ]
  },
  {
   "cell_type": "code",
   "execution_count": 2,
   "id": "207e1c9b",
   "metadata": {},
   "outputs": [
    {
     "ename": "NameError",
     "evalue": "name 'grouped' is not defined",
     "output_type": "error",
     "traceback": [
      "\u001b[1;31m---------------------------------------------------------------------------\u001b[0m",
      "\u001b[1;31mNameError\u001b[0m                                 Traceback (most recent call last)",
      "\u001b[1;32m~\\AppData\\Local\\Temp\\ipykernel_6256\\1811592022.py\u001b[0m in \u001b[0;36m<module>\u001b[1;34m\u001b[0m\n\u001b[0;32m      2\u001b[0m \u001b[1;33m\u001b[0m\u001b[0m\n\u001b[0;32m      3\u001b[0m \u001b[1;31m# grouped_trans = grouped.age.transform('mean')\u001b[0m\u001b[1;33m\u001b[0m\u001b[1;33m\u001b[0m\u001b[0m\n\u001b[1;32m----> 4\u001b[1;33m \u001b[0mgrouped_trans\u001b[0m \u001b[1;33m=\u001b[0m \u001b[0mgrouped\u001b[0m\u001b[1;33m.\u001b[0m\u001b[0mage\u001b[0m\u001b[1;33m.\u001b[0m\u001b[0mtransform\u001b[0m\u001b[1;33m(\u001b[0m\u001b[1;34m'mean'\u001b[0m\u001b[1;33m)\u001b[0m\u001b[1;33m\u001b[0m\u001b[1;33m\u001b[0m\u001b[0m\n\u001b[0m\u001b[0;32m      5\u001b[0m \u001b[0mtdf\u001b[0m\u001b[1;33m[\u001b[0m\u001b[1;34m'group_mean'\u001b[0m\u001b[1;33m]\u001b[0m \u001b[1;33m=\u001b[0m \u001b[0mgrouped_trans\u001b[0m\u001b[1;33m\u001b[0m\u001b[1;33m\u001b[0m\u001b[0m\n\u001b[0;32m      6\u001b[0m \u001b[0mtdf\u001b[0m\u001b[1;33m[\u001b[0m\u001b[1;33m[\u001b[0m\u001b[1;34m'class'\u001b[0m\u001b[1;33m,\u001b[0m\u001b[1;34m'age'\u001b[0m\u001b[1;33m,\u001b[0m\u001b[1;34m'group_mean'\u001b[0m\u001b[1;33m]\u001b[0m\u001b[1;33m]\u001b[0m\u001b[1;33m.\u001b[0m\u001b[0mhead\u001b[0m\u001b[1;33m(\u001b[0m\u001b[1;33m)\u001b[0m\u001b[1;33m\u001b[0m\u001b[1;33m\u001b[0m\u001b[0m\n",
      "\u001b[1;31mNameError\u001b[0m: name 'grouped' is not defined"
     ]
    }
   ],
   "source": [
    "# grouped가 class였고, class별 age의 평균임\n",
    "\n",
    "# grouped_trans = grouped.age.transform('mean')\n",
    "grouped_trans = grouped.age.transform('mean')\n",
    "tdf['group_mean'] = grouped_trans\n",
    "tdf[['class','age','group_mean']].head()"
   ]
  },
  {
   "cell_type": "code",
   "execution_count": null,
   "id": "46d04817",
   "metadata": {},
   "outputs": [],
   "source": [
    "list(grouped)"
   ]
  },
  {
   "cell_type": "code",
   "execution_count": null,
   "id": "9abfab8d",
   "metadata": {
    "id": "9abfab8d",
    "outputId": "a8c2d162-8efa-4e39-8455-293be34372a9"
   },
   "outputs": [],
   "source": [
    "# Q. 데이터 개수가 200개 이상인 그룹만을 필터링하여 데이터프레임으로 반환하여\n",
    "# grouped_filter 이름으로 저장 후 처음 5개행을 출력하세요.\n",
    "\n",
    "grouped_filter = grouped.filter(lambda x : len(x) >= 200)\n",
    "\n",
    "# 이렇게 하면 second가 사라진 것을 볼 수 있다. second이 184 index였기 때문에\n",
    "a = grouped_filter.groupby('class')\n",
    "list(a)"
   ]
  },
  {
   "cell_type": "code",
   "execution_count": null,
   "id": "42febb7e",
   "metadata": {
    "id": "42febb7e",
    "outputId": "f60534f8-9792-4272-df3d-d0c28065344a"
   },
   "outputs": [],
   "source": [
    "# Q. age열의 평균이 30보다 작은 그룹만을 필터링하여 데이터프레임으로 반환하여 age_filter 이름으로 저장 후\n",
    "# 끝에서 5개행을 출력하세요.\n",
    "\n",
    "grouped_age = tdf.groupby(['age'])\n",
    "age_filter = grouped_age.filter(lambda x : x.age.mean() < 30)\n",
    "age_filter.tail(5)"
   ]
  },
  {
   "cell_type": "code",
   "execution_count": null,
   "id": "34fe8736",
   "metadata": {},
   "outputs": [],
   "source": [
    "sex_grouped = titanic_df.groupby('sex')\n",
    "sex_grouped.mean()"
   ]
  },
  {
   "cell_type": "code",
   "execution_count": null,
   "id": "7fe7c0f5",
   "metadata": {},
   "outputs": [],
   "source": [
    "titanic_df.head()"
   ]
  },
  {
   "cell_type": "code",
   "execution_count": null,
   "id": "36ac6223",
   "metadata": {
    "id": "36ac6223",
    "outputId": "41902b6c-11df-4036-9f3a-af8fbc3aa16f"
   },
   "outputs": [],
   "source": [
    "# z-score를 계산하는 사용자 함수 정의\n",
    "# z-score : 평균값에서 표준편차의 몇 배 떨어져 있는지를 평가하는 수치\n",
    "\n",
    "def z_score(x):\n",
    "    return ((x - x.mean())/x.std())\n",
    "\n",
    "age_zscore = grouped.age.apply(z_score)\n",
    "\n",
    "age_zscore.head()"
   ]
  },
  {
   "cell_type": "markdown",
   "id": "a7d5c386",
   "metadata": {
    "id": "a7d5c386"
   },
   "source": [
    "피벗\n",
    "* 피벗 테이블을 구성하는 4가지 요소(행 인덱스, 열 인덱스, 데이터 값, 데이터 집계함수)에 적용할 데이터프레임의 열을 각각 지정하여 함수의 인자로 전달"
   ]
  },
  {
   "cell_type": "code",
   "execution_count": null,
   "id": "aab10317",
   "metadata": {
    "id": "aab10317",
    "outputId": "fe6dde3f-eb82-4ca8-810a-ea6524c7178c"
   },
   "outputs": [],
   "source": [
    "tdf.head()"
   ]
  },
  {
   "cell_type": "code",
   "execution_count": null,
   "id": "c3a0600c",
   "metadata": {
    "id": "c3a0600c",
    "outputId": "f9a26ed0-276e-456e-d8d5-e234b47b78cc"
   },
   "outputs": [],
   "source": [
    "import pandas as pd\n",
    "\n",
    "ptdf = pd.pivot_table(tdf, index ='class',\n",
    "                     columns='sex',\n",
    "                     values='survived',\n",
    "                     aggfunc=['mean','sum'])\n",
    "\n",
    "ptdf"
   ]
  },
  {
   "cell_type": "code",
   "execution_count": null,
   "id": "bf7c1bbf",
   "metadata": {
    "id": "bf7c1bbf",
    "outputId": "a6a022cf-b933-4ab8-fc66-4026ac4d9236"
   },
   "outputs": [],
   "source": [
    "# 행, 열, 값에 서용할 열을 2개 이상 지정할 수 있다. index, values, aggfunc에 각각 2개를 지정하여 출력하세요.\n",
    "\n",
    "pdf1 = pd.pivot_table(tdf,\n",
    "                   index =['class', 'sex'],\n",
    "                   columns='survived',\n",
    "                   values=['age', 'fare'],\n",
    "                   aggfunc=['mean','max'])\n",
    "\n",
    "pdf1"
   ]
  },
  {
   "cell_type": "markdown",
   "id": "2c381876",
   "metadata": {},
   "source": [
    "#### 평균 vs 중앙값\n",
    "- 중앙값과 평균은 데이터의 분포를 나타내는 두 가지 대표적인 값입니다. \n",
    "- 평균은 모든 데이터 값을 더한 후 개수로 나눈 값이며, 중앙값은 데이터를 크기순으로 정렬했을 때 가운데 위치한 값입니다.\n",
    "\n",
    "- 평균과 중앙값이 같다면, 데이터의 분포가 대칭적인 경우입니다. 대칭 분포인 경우, 평균과 중앙값은 같은 값을 가지며, 데이터의 중심이 대략적으로 그 값 주변에 분포하고 있습니다.\n",
    "\n",
    "- 대칭적이지 않은 경우, 평균과 중앙값은 서로 다른 값을 가집니다. 이때는 데이터의 분포가 한쪽으로 치우쳐져 있는 경우입니다. 예를 들어, 데이터가 오른쪽으로 치우쳐져 있을 경우, 평균은 중앙값보다 더 큰 값을 가지게 됩니다."
   ]
  },
  {
   "cell_type": "code",
   "execution_count": null,
   "id": "352cf4cb",
   "metadata": {},
   "outputs": [],
   "source": [
    "# 중앙값과 평균의 비교 - 빈도는 1\n",
    "\n",
    "data1 = np.array([1,2,3,4,5,100])    # 비대칭\n",
    "data2 = np.array([1,2,3,3,2,1])    # 대칭\n",
    "mean1 = np.mean(data1)\n",
    "median1 = np.median(data1)\n",
    "mean2 = np.mean(data2)\n",
    "median2 = np.median(data2)\n",
    "print(mean1,'\\n')\n",
    "print(median1,'\\n')\n",
    "print(mean2,'\\n')\n",
    "print(median2,'\\n')"
   ]
  },
  {
   "cell_type": "markdown",
   "id": "69b825f6",
   "metadata": {},
   "source": [
    "python, numpy, pandas 날짜 타입 비교 및 정리\n",
    "\n",
    "- datetime은 python 설치 시 기본적으로 내장된 라이브러리로, 날짜를 쓸 것인지, 시간을 쓸 것인지, 날짜시간을 합쳐쓸 것인지에 따라 클래스가 분화되어 있는 것이 특징. 예를들어 '2021-3-16'을 표시하고 싶으면 date 클래스를 사용하고, '2021-3-16 12:34:21'를 표시하고 싶으면 'datetime' 클래스를 사용합니다. \n",
    "- 반면 datetime64나 Timestamp는 각각 numpy, pandas 라이브러리에서 새로 정의한 날짜시간 클래스입니다. 이 둘은 numpy, pandas를 설치해야만 이용할 수 있고, 한 클래스로 날짜, 시간, 날짜시간을 모두 정의할 수 있는 것이 특징\n",
    "- 날짜, 시간 타입은 일반적인 정수, 실수끼리 연산할 때와 달리 단위를 가지고 있는 점 때문에 시간의 차이를 저장하는 별도의 클래스가 있다는 특징. 이를 timedelta(타임델타)라고 하는데, 날짜, 시간은 특정 시점의 시각을 표시하는 용도이고(2021년 3월 16일), 타임델타는 기간 또는 시간 차이를 표시하는 용도(5일)"
   ]
  },
  {
   "cell_type": "markdown",
   "id": "1e48905b",
   "metadata": {},
   "source": [
    "Pandas로 날짜를 다루는 방법은 크게 3가지로 나눌 수 있습니다.\n",
    "\n",
    "- 날짜 생성하기\n",
    "- 날짜 범위 생성하기\n",
    "- 날짜 데이터 다루기"
   ]
  },
  {
   "cell_type": "code",
   "execution_count": null,
   "id": "99acbd24",
   "metadata": {},
   "outputs": [],
   "source": [
    "# 날짜 생성\n",
    "# pandas에서의 timestampe = datetime이다. time의 timestamp와 구분할 것\n",
    "\n",
    "import pandas as pd\n",
    "\n",
    "date = pd.to_datetime('2002-04-02')\n",
    "print(date, type(date))\n",
    "date"
   ]
  },
  {
   "cell_type": "code",
   "execution_count": null,
   "id": "b240dfc6",
   "metadata": {},
   "outputs": [],
   "source": [
    "# 날짜 범위\n",
    "\n",
    "dates = pd.date_range(start='2022-01-01', end='2022-12-31')\n",
    "print(dates)"
   ]
  },
  {
   "cell_type": "code",
   "execution_count": null,
   "id": "2a01d702",
   "metadata": {},
   "outputs": [],
   "source": [
    "# 날짜 범위\n",
    "\n",
    "df = pd.DataFrame({'date':['2022-01-01', '2022-01-02','2022-01-03'], 'value':[1,2,3]})\n",
    "df.info()\n",
    "df['date'] = pd.to_datetime(df['date'])\n",
    "print(df)"
   ]
  },
  {
   "cell_type": "code",
   "execution_count": null,
   "id": "0b7031d4",
   "metadata": {},
   "outputs": [],
   "source": [
    "# 위에서 datetime이 object -> datetime64로 처리해줌\n",
    "\n",
    "df.info()"
   ]
  },
  {
   "cell_type": "code",
   "execution_count": null,
   "id": "441b93ac",
   "metadata": {},
   "outputs": [],
   "source": [
    "import time\n",
    "time.time()"
   ]
  },
  {
   "cell_type": "code",
   "execution_count": null,
   "id": "51ba27c2",
   "metadata": {},
   "outputs": [],
   "source": [
    "# 판다스 to_datetime\n",
    "# 함수에서 인식할 입력값의 단위\n",
    "\n",
    "pd.to_datetime(1680488323.5668283, unit='s')\n",
    "print(date, type(date))\n",
    "\n",
    "저의 이전 답변에서 잘못 이해하고 있었습니다. 죄송합니다.\n",
    "\n",
    "pd.to_datetime() 함수는 tz 파라미터를 지원하지만, 주어진 타임스탬프 값이 UTC 기준이 아니라면, tz_localize() 메소드를 사용하여 먼저 로컬 타임존으로 지정해줘야 합니다.\n",
    "\n",
    "따라서, pd.to_datetime(1680488323.5668283, unit='s', tz='Asia/Seoul') 대신에 pd.to_datetime(1680488323.5668283, unit='s').tz_localize('UTC').tz_convert('Asia/Seoul')와 같이 사용하시면 됩니다. 이렇게 변환된 시간은 DatetimeIndex 객체로 반환됩니다."
   ]
  },
  {
   "cell_type": "code",
   "execution_count": 82,
   "id": "1671c2e2",
   "metadata": {},
   "outputs": [
    {
     "data": {
      "text/html": [
       "<div>\n",
       "<style scoped>\n",
       "    .dataframe tbody tr th:only-of-type {\n",
       "        vertical-align: middle;\n",
       "    }\n",
       "\n",
       "    .dataframe tbody tr th {\n",
       "        vertical-align: top;\n",
       "    }\n",
       "\n",
       "    .dataframe thead th {\n",
       "        text-align: right;\n",
       "    }\n",
       "</style>\n",
       "<table border=\"1\" class=\"dataframe\">\n",
       "  <thead>\n",
       "    <tr style=\"text-align: right;\">\n",
       "      <th></th>\n",
       "      <th>Date</th>\n",
       "      <th>Close</th>\n",
       "      <th>Start</th>\n",
       "      <th>High</th>\n",
       "      <th>Low</th>\n",
       "      <th>Volume</th>\n",
       "    </tr>\n",
       "  </thead>\n",
       "  <tbody>\n",
       "    <tr>\n",
       "      <th>0</th>\n",
       "      <td>2018-07-02</td>\n",
       "      <td>10100</td>\n",
       "      <td>10850</td>\n",
       "      <td>10900</td>\n",
       "      <td>10000</td>\n",
       "      <td>137977</td>\n",
       "    </tr>\n",
       "    <tr>\n",
       "      <th>1</th>\n",
       "      <td>2018-06-29</td>\n",
       "      <td>10700</td>\n",
       "      <td>10550</td>\n",
       "      <td>10900</td>\n",
       "      <td>9990</td>\n",
       "      <td>170253</td>\n",
       "    </tr>\n",
       "    <tr>\n",
       "      <th>2</th>\n",
       "      <td>2018-06-28</td>\n",
       "      <td>10400</td>\n",
       "      <td>10900</td>\n",
       "      <td>10950</td>\n",
       "      <td>10150</td>\n",
       "      <td>155769</td>\n",
       "    </tr>\n",
       "    <tr>\n",
       "      <th>3</th>\n",
       "      <td>2018-06-27</td>\n",
       "      <td>10900</td>\n",
       "      <td>10800</td>\n",
       "      <td>11050</td>\n",
       "      <td>10500</td>\n",
       "      <td>133548</td>\n",
       "    </tr>\n",
       "    <tr>\n",
       "      <th>4</th>\n",
       "      <td>2018-06-26</td>\n",
       "      <td>10800</td>\n",
       "      <td>10900</td>\n",
       "      <td>11000</td>\n",
       "      <td>10700</td>\n",
       "      <td>63039</td>\n",
       "    </tr>\n",
       "  </tbody>\n",
       "</table>\n",
       "</div>"
      ],
      "text/plain": [
       "         Date  Close  Start   High    Low  Volume\n",
       "0  2018-07-02  10100  10850  10900  10000  137977\n",
       "1  2018-06-29  10700  10550  10900   9990  170253\n",
       "2  2018-06-28  10400  10900  10950  10150  155769\n",
       "3  2018-06-27  10900  10800  11050  10500  133548\n",
       "4  2018-06-26  10800  10900  11000  10700   63039"
      ]
     },
     "execution_count": 82,
     "metadata": {},
     "output_type": "execute_result"
    }
   ],
   "source": [
    "df = pd.read_csv('../../dataset/stock-data.csv')\n",
    "df.head()"
   ]
  },
  {
   "cell_type": "code",
   "execution_count": 83,
   "id": "744e02a9",
   "metadata": {},
   "outputs": [
    {
     "name": "stdout",
     "output_type": "stream",
     "text": [
      "<class 'pandas.core.frame.DataFrame'>\n",
      "RangeIndex: 20 entries, 0 to 19\n",
      "Data columns (total 6 columns):\n",
      " #   Column  Non-Null Count  Dtype \n",
      "---  ------  --------------  ----- \n",
      " 0   Date    20 non-null     object\n",
      " 1   Close   20 non-null     int64 \n",
      " 2   Start   20 non-null     int64 \n",
      " 3   High    20 non-null     int64 \n",
      " 4   Low     20 non-null     int64 \n",
      " 5   Volume  20 non-null     int64 \n",
      "dtypes: int64(5), object(1)\n",
      "memory usage: 1.1+ KB\n"
     ]
    }
   ],
   "source": [
    "df.info()"
   ]
  },
  {
   "cell_type": "code",
   "execution_count": 84,
   "id": "ecc4bac2",
   "metadata": {},
   "outputs": [
    {
     "name": "stdout",
     "output_type": "stream",
     "text": [
      "<class 'pandas.core.frame.DataFrame'>\n",
      "RangeIndex: 20 entries, 0 to 19\n",
      "Data columns (total 7 columns):\n",
      " #   Column    Non-Null Count  Dtype         \n",
      "---  ------    --------------  -----         \n",
      " 0   Date      20 non-null     object        \n",
      " 1   Close     20 non-null     int64         \n",
      " 2   Start     20 non-null     int64         \n",
      " 3   High      20 non-null     int64         \n",
      " 4   Low       20 non-null     int64         \n",
      " 5   Volume    20 non-null     int64         \n",
      " 6   New_Date  20 non-null     datetime64[ns]\n",
      "dtypes: datetime64[ns](1), int64(5), object(1)\n",
      "memory usage: 1.2+ KB\n"
     ]
    }
   ],
   "source": [
    "df['New_Date'] = pd.to_datetime(df.Date)\n",
    "# df['New_Date'] = pd.to_datetime(df['Date'])\n",
    "df.info()"
   ]
  },
  {
   "cell_type": "code",
   "execution_count": 85,
   "id": "7322da28",
   "metadata": {},
   "outputs": [],
   "source": [
    "df.drop('Date', axis=1, inplace=True)"
   ]
  },
  {
   "cell_type": "code",
   "execution_count": 86,
   "id": "1ab138b9",
   "metadata": {},
   "outputs": [
    {
     "data": {
      "text/html": [
       "<div>\n",
       "<style scoped>\n",
       "    .dataframe tbody tr th:only-of-type {\n",
       "        vertical-align: middle;\n",
       "    }\n",
       "\n",
       "    .dataframe tbody tr th {\n",
       "        vertical-align: top;\n",
       "    }\n",
       "\n",
       "    .dataframe thead th {\n",
       "        text-align: right;\n",
       "    }\n",
       "</style>\n",
       "<table border=\"1\" class=\"dataframe\">\n",
       "  <thead>\n",
       "    <tr style=\"text-align: right;\">\n",
       "      <th></th>\n",
       "      <th>Close</th>\n",
       "      <th>Start</th>\n",
       "      <th>High</th>\n",
       "      <th>Low</th>\n",
       "      <th>Volume</th>\n",
       "      <th>New_Date</th>\n",
       "      <th>year</th>\n",
       "      <th>month</th>\n",
       "      <th>day</th>\n",
       "    </tr>\n",
       "  </thead>\n",
       "  <tbody>\n",
       "    <tr>\n",
       "      <th>0</th>\n",
       "      <td>10100</td>\n",
       "      <td>10850</td>\n",
       "      <td>10900</td>\n",
       "      <td>10000</td>\n",
       "      <td>137977</td>\n",
       "      <td>2018-07-02</td>\n",
       "      <td>2018</td>\n",
       "      <td>7</td>\n",
       "      <td>2</td>\n",
       "    </tr>\n",
       "    <tr>\n",
       "      <th>1</th>\n",
       "      <td>10700</td>\n",
       "      <td>10550</td>\n",
       "      <td>10900</td>\n",
       "      <td>9990</td>\n",
       "      <td>170253</td>\n",
       "      <td>2018-06-29</td>\n",
       "      <td>2018</td>\n",
       "      <td>6</td>\n",
       "      <td>29</td>\n",
       "    </tr>\n",
       "    <tr>\n",
       "      <th>2</th>\n",
       "      <td>10400</td>\n",
       "      <td>10900</td>\n",
       "      <td>10950</td>\n",
       "      <td>10150</td>\n",
       "      <td>155769</td>\n",
       "      <td>2018-06-28</td>\n",
       "      <td>2018</td>\n",
       "      <td>6</td>\n",
       "      <td>28</td>\n",
       "    </tr>\n",
       "    <tr>\n",
       "      <th>3</th>\n",
       "      <td>10900</td>\n",
       "      <td>10800</td>\n",
       "      <td>11050</td>\n",
       "      <td>10500</td>\n",
       "      <td>133548</td>\n",
       "      <td>2018-06-27</td>\n",
       "      <td>2018</td>\n",
       "      <td>6</td>\n",
       "      <td>27</td>\n",
       "    </tr>\n",
       "    <tr>\n",
       "      <th>4</th>\n",
       "      <td>10800</td>\n",
       "      <td>10900</td>\n",
       "      <td>11000</td>\n",
       "      <td>10700</td>\n",
       "      <td>63039</td>\n",
       "      <td>2018-06-26</td>\n",
       "      <td>2018</td>\n",
       "      <td>6</td>\n",
       "      <td>26</td>\n",
       "    </tr>\n",
       "  </tbody>\n",
       "</table>\n",
       "</div>"
      ],
      "text/plain": [
       "   Close  Start   High    Low  Volume   New_Date  year  month  day\n",
       "0  10100  10850  10900  10000  137977 2018-07-02  2018      7    2\n",
       "1  10700  10550  10900   9990  170253 2018-06-29  2018      6   29\n",
       "2  10400  10900  10950  10150  155769 2018-06-28  2018      6   28\n",
       "3  10900  10800  11050  10500  133548 2018-06-27  2018      6   27\n",
       "4  10800  10900  11000  10700   63039 2018-06-26  2018      6   26"
      ]
     },
     "execution_count": 86,
     "metadata": {},
     "output_type": "execute_result"
    }
   ],
   "source": [
    "df['year'] = df.New_Date.dt.year\n",
    "df['month'] = df.New_Date.dt.month\n",
    "df['day'] = df.New_Date.dt.day\n",
    "df.head()"
   ]
  },
  {
   "cell_type": "code",
   "execution_count": 87,
   "id": "8732dd17",
   "metadata": {},
   "outputs": [
    {
     "data": {
      "text/html": [
       "<div>\n",
       "<style scoped>\n",
       "    .dataframe tbody tr th:only-of-type {\n",
       "        vertical-align: middle;\n",
       "    }\n",
       "\n",
       "    .dataframe tbody tr th {\n",
       "        vertical-align: top;\n",
       "    }\n",
       "\n",
       "    .dataframe thead th {\n",
       "        text-align: right;\n",
       "    }\n",
       "</style>\n",
       "<table border=\"1\" class=\"dataframe\">\n",
       "  <thead>\n",
       "    <tr style=\"text-align: right;\">\n",
       "      <th></th>\n",
       "      <th>Close</th>\n",
       "      <th>Start</th>\n",
       "      <th>High</th>\n",
       "      <th>Low</th>\n",
       "      <th>Volume</th>\n",
       "      <th>year</th>\n",
       "      <th>month</th>\n",
       "      <th>day</th>\n",
       "    </tr>\n",
       "    <tr>\n",
       "      <th>New_Date</th>\n",
       "      <th></th>\n",
       "      <th></th>\n",
       "      <th></th>\n",
       "      <th></th>\n",
       "      <th></th>\n",
       "      <th></th>\n",
       "      <th></th>\n",
       "      <th></th>\n",
       "    </tr>\n",
       "  </thead>\n",
       "  <tbody>\n",
       "    <tr>\n",
       "      <th>2018-07-02</th>\n",
       "      <td>10100</td>\n",
       "      <td>10850</td>\n",
       "      <td>10900</td>\n",
       "      <td>10000</td>\n",
       "      <td>137977</td>\n",
       "      <td>2018</td>\n",
       "      <td>7</td>\n",
       "      <td>2</td>\n",
       "    </tr>\n",
       "    <tr>\n",
       "      <th>2018-06-29</th>\n",
       "      <td>10700</td>\n",
       "      <td>10550</td>\n",
       "      <td>10900</td>\n",
       "      <td>9990</td>\n",
       "      <td>170253</td>\n",
       "      <td>2018</td>\n",
       "      <td>6</td>\n",
       "      <td>29</td>\n",
       "    </tr>\n",
       "    <tr>\n",
       "      <th>2018-06-28</th>\n",
       "      <td>10400</td>\n",
       "      <td>10900</td>\n",
       "      <td>10950</td>\n",
       "      <td>10150</td>\n",
       "      <td>155769</td>\n",
       "      <td>2018</td>\n",
       "      <td>6</td>\n",
       "      <td>28</td>\n",
       "    </tr>\n",
       "    <tr>\n",
       "      <th>2018-06-27</th>\n",
       "      <td>10900</td>\n",
       "      <td>10800</td>\n",
       "      <td>11050</td>\n",
       "      <td>10500</td>\n",
       "      <td>133548</td>\n",
       "      <td>2018</td>\n",
       "      <td>6</td>\n",
       "      <td>27</td>\n",
       "    </tr>\n",
       "    <tr>\n",
       "      <th>2018-06-26</th>\n",
       "      <td>10800</td>\n",
       "      <td>10900</td>\n",
       "      <td>11000</td>\n",
       "      <td>10700</td>\n",
       "      <td>63039</td>\n",
       "      <td>2018</td>\n",
       "      <td>6</td>\n",
       "      <td>26</td>\n",
       "    </tr>\n",
       "  </tbody>\n",
       "</table>\n",
       "</div>"
      ],
      "text/plain": [
       "            Close  Start   High    Low  Volume  year  month  day\n",
       "New_Date                                                        \n",
       "2018-07-02  10100  10850  10900  10000  137977  2018      7    2\n",
       "2018-06-29  10700  10550  10900   9990  170253  2018      6   29\n",
       "2018-06-28  10400  10900  10950  10150  155769  2018      6   28\n",
       "2018-06-27  10900  10800  11050  10500  133548  2018      6   27\n",
       "2018-06-26  10800  10900  11000  10700   63039  2018      6   26"
      ]
     },
     "execution_count": 87,
     "metadata": {},
     "output_type": "execute_result"
    }
   ],
   "source": [
    "df.set_index('New_Date', inplace=True)\n",
    "df.head()"
   ]
  },
  {
   "cell_type": "code",
   "execution_count": 88,
   "id": "7a684196",
   "metadata": {},
   "outputs": [
    {
     "data": {
      "text/plain": [
       "DatetimeIndex(['2018-07-02', '2018-06-29', '2018-06-28', '2018-06-27',\n",
       "               '2018-06-26', '2018-06-25', '2018-06-22', '2018-06-21',\n",
       "               '2018-06-20', '2018-06-19', '2018-06-18', '2018-06-15',\n",
       "               '2018-06-14', '2018-06-12', '2018-06-11', '2018-06-08',\n",
       "               '2018-06-07', '2018-06-05', '2018-06-04', '2018-06-01'],\n",
       "              dtype='datetime64[ns]', name='New_Date', freq=None)"
      ]
     },
     "execution_count": 88,
     "metadata": {},
     "output_type": "execute_result"
    }
   ],
   "source": [
    "df.index"
   ]
  },
  {
   "cell_type": "code",
   "execution_count": 91,
   "id": "e4d2b4ec",
   "metadata": {},
   "outputs": [
    {
     "data": {
      "text/html": [
       "<div>\n",
       "<style scoped>\n",
       "    .dataframe tbody tr th:only-of-type {\n",
       "        vertical-align: middle;\n",
       "    }\n",
       "\n",
       "    .dataframe tbody tr th {\n",
       "        vertical-align: top;\n",
       "    }\n",
       "\n",
       "    .dataframe thead th {\n",
       "        text-align: right;\n",
       "    }\n",
       "</style>\n",
       "<table border=\"1\" class=\"dataframe\">\n",
       "  <thead>\n",
       "    <tr style=\"text-align: right;\">\n",
       "      <th></th>\n",
       "      <th>Close</th>\n",
       "      <th>Start</th>\n",
       "      <th>High</th>\n",
       "      <th>Low</th>\n",
       "      <th>Volume</th>\n",
       "      <th>year</th>\n",
       "      <th>month</th>\n",
       "      <th>day</th>\n",
       "    </tr>\n",
       "    <tr>\n",
       "      <th>New_Date</th>\n",
       "      <th></th>\n",
       "      <th></th>\n",
       "      <th></th>\n",
       "      <th></th>\n",
       "      <th></th>\n",
       "      <th></th>\n",
       "      <th></th>\n",
       "      <th></th>\n",
       "    </tr>\n",
       "  </thead>\n",
       "  <tbody>\n",
       "    <tr>\n",
       "      <th>2018-07-02</th>\n",
       "      <td>10100</td>\n",
       "      <td>10850</td>\n",
       "      <td>10900</td>\n",
       "      <td>10000</td>\n",
       "      <td>137977</td>\n",
       "      <td>2018</td>\n",
       "      <td>7</td>\n",
       "      <td>2</td>\n",
       "    </tr>\n",
       "    <tr>\n",
       "      <th>2018-06-29</th>\n",
       "      <td>10700</td>\n",
       "      <td>10550</td>\n",
       "      <td>10900</td>\n",
       "      <td>9990</td>\n",
       "      <td>170253</td>\n",
       "      <td>2018</td>\n",
       "      <td>6</td>\n",
       "      <td>29</td>\n",
       "    </tr>\n",
       "  </tbody>\n",
       "</table>\n",
       "</div>"
      ],
      "text/plain": [
       "            Close  Start   High    Low  Volume  year  month  day\n",
       "New_Date                                                        \n",
       "2018-07-02  10100  10850  10900  10000  137977  2018      7    2\n",
       "2018-06-29  10700  10550  10900   9990  170253  2018      6   29"
      ]
     },
     "execution_count": 91,
     "metadata": {},
     "output_type": "execute_result"
    }
   ],
   "source": [
    "df.loc['2018-06-29':'2018-07-02']"
   ]
  },
  {
   "cell_type": "code",
   "execution_count": 93,
   "id": "57cba067",
   "metadata": {},
   "outputs": [
    {
     "data": {
      "text/html": [
       "<div>\n",
       "<style scoped>\n",
       "    .dataframe tbody tr th:only-of-type {\n",
       "        vertical-align: middle;\n",
       "    }\n",
       "\n",
       "    .dataframe tbody tr th {\n",
       "        vertical-align: top;\n",
       "    }\n",
       "\n",
       "    .dataframe thead th {\n",
       "        text-align: right;\n",
       "    }\n",
       "</style>\n",
       "<table border=\"1\" class=\"dataframe\">\n",
       "  <thead>\n",
       "    <tr style=\"text-align: right;\">\n",
       "      <th></th>\n",
       "      <th>Close</th>\n",
       "      <th>Start</th>\n",
       "      <th>High</th>\n",
       "      <th>Low</th>\n",
       "    </tr>\n",
       "    <tr>\n",
       "      <th>New_Date</th>\n",
       "      <th></th>\n",
       "      <th></th>\n",
       "      <th></th>\n",
       "      <th></th>\n",
       "    </tr>\n",
       "  </thead>\n",
       "  <tbody>\n",
       "    <tr>\n",
       "      <th>2018-07-02</th>\n",
       "      <td>10100</td>\n",
       "      <td>10850</td>\n",
       "      <td>10900</td>\n",
       "      <td>10000</td>\n",
       "    </tr>\n",
       "    <tr>\n",
       "      <th>2018-06-29</th>\n",
       "      <td>10700</td>\n",
       "      <td>10550</td>\n",
       "      <td>10900</td>\n",
       "      <td>9990</td>\n",
       "    </tr>\n",
       "  </tbody>\n",
       "</table>\n",
       "</div>"
      ],
      "text/plain": [
       "            Close  Start   High    Low\n",
       "New_Date                              \n",
       "2018-07-02  10100  10850  10900  10000\n",
       "2018-06-29  10700  10550  10900   9990"
      ]
     },
     "execution_count": 93,
     "metadata": {},
     "output_type": "execute_result"
    }
   ],
   "source": [
    "df.loc['2018-06-29':'2018-07-02','Close':'Low']"
   ]
  },
  {
   "cell_type": "markdown",
   "id": "b2cf743a",
   "metadata": {},
   "source": [
    "#### Q. 표준정규분포를 따르는 1000개의 샘플을 랜덤하게 추출해서 값으로 정하고 2000-01-01 ~ 2002-09-26의 날짜를 인덱스로하는 데이터 셋을 출력하세요. (시리즈로)"
   ]
  },
  {
   "cell_type": "code",
   "execution_count": 113,
   "id": "b1170bbc",
   "metadata": {},
   "outputs": [
    {
     "name": "stdout",
     "output_type": "stream",
     "text": [
      "2000-01-01    0.104333\n",
      "2000-01-02    1.295848\n",
      "2000-01-03   -1.079884\n",
      "2000-01-04    1.344631\n",
      "2000-01-05   -1.195871\n",
      "                ...   \n",
      "2027-05-14   -0.056505\n",
      "2027-05-15    0.906907\n",
      "2027-05-16    1.038073\n",
      "2027-05-17   -0.424546\n",
      "2027-05-18    1.298597\n",
      "Freq: D, Length: 10000, dtype: float64 <class 'pandas.core.series.Series'>\n"
     ]
    }
   ],
   "source": [
    "data = np.random.randn(1000)\n",
    "# dates = pd.date_range(start='2000-01-01', end='2022-09-26')\n",
    "dates = pd.date_range(start='2000-01-01', periods=10000)\n",
    "ts = pd.Series(np.random.randn(10000), index=dates)\n",
    "print(ts,type(ts))"
   ]
  },
  {
   "cell_type": "code",
   "execution_count": 119,
   "id": "6b990c7a",
   "metadata": {},
   "outputs": [
    {
     "data": {
      "text/plain": [
       "DatetimeIndex(['2000-01-01', '2000-01-11', '2000-01-21', '2000-01-31'], dtype='datetime64[ns]', freq=None)"
      ]
     },
     "execution_count": 119,
     "metadata": {},
     "output_type": "execute_result"
    }
   ],
   "source": [
    "# periods 매개변수는 date_range 함수에 전달된 시작날짜와 종료날짜를\n",
    "# periods 매개변수에 전달된 기준의 수만큼 동일하게 나누어 출력\n",
    "dates = pd.date_range('2000-01-01', '2000-01-31', periods=4)\n",
    "dates"
   ]
  },
  {
   "cell_type": "markdown",
   "id": "bdd5d93d",
   "metadata": {},
   "source": [
    "freq 매개변수에 사용되는 Frequncy strings\n",
    "- A calendar year end frequency\n",
    "- B\tbusiness day frequency\n",
    "- C\tcustom business day frequency\n",
    "- D\tcalendar day frequency\n",
    "- W\tweekly frequency\n",
    "- M\tmonth end frequency\n",
    "- SM\tsemi-month end frequency (15th and end of month)\n",
    "- BM\tbusiness month end frequency\n",
    "- CBM\tcustom business month end frequency\n",
    "- MS\tmonth start frequency\n",
    "- SMS\tsemi-month start frequency (1st and 15th)\n",
    "- BMS\tbusiness month start frequency\n",
    "- CBMS\tcustom business month start frequency\n",
    "- Q\tquarter end frequency"
   ]
  },
  {
   "cell_type": "code",
   "execution_count": 121,
   "id": "4606a576",
   "metadata": {},
   "outputs": [
    {
     "data": {
      "text/plain": [
       "DatetimeIndex(['2023-04-02', '2023-04-09', '2023-04-16', '2023-04-23',\n",
       "               '2023-04-30', '2023-05-07', '2023-05-14', '2023-05-21',\n",
       "               '2023-05-28', '2023-06-04', '2023-06-11', '2023-06-18',\n",
       "               '2023-06-25', '2023-07-02', '2023-07-09', '2023-07-16',\n",
       "               '2023-07-23', '2023-07-30', '2023-08-06', '2023-08-13',\n",
       "               '2023-08-20', '2023-08-27', '2023-09-03', '2023-09-10',\n",
       "               '2023-09-17', '2023-09-24', '2023-10-01', '2023-10-08',\n",
       "               '2023-10-15', '2023-10-22', '2023-10-29', '2023-11-05',\n",
       "               '2023-11-12', '2023-11-19', '2023-11-26', '2023-12-03',\n",
       "               '2023-12-10', '2023-12-17', '2023-12-24', '2023-12-31',\n",
       "               '2024-01-07', '2024-01-14', '2024-01-21', '2024-01-28',\n",
       "               '2024-02-04', '2024-02-11', '2024-02-18', '2024-02-25',\n",
       "               '2024-03-03', '2024-03-10', '2024-03-17', '2024-03-24',\n",
       "               '2024-03-31', '2024-04-07', '2024-04-14', '2024-04-21',\n",
       "               '2024-04-28', '2024-05-05', '2024-05-12', '2024-05-19',\n",
       "               '2024-05-26', '2024-06-02', '2024-06-09', '2024-06-16',\n",
       "               '2024-06-23', '2024-06-30', '2024-07-07', '2024-07-14',\n",
       "               '2024-07-21', '2024-07-28', '2024-08-04', '2024-08-11',\n",
       "               '2024-08-18', '2024-08-25', '2024-09-01', '2024-09-08',\n",
       "               '2024-09-15', '2024-09-22', '2024-09-29', '2024-10-06',\n",
       "               '2024-10-13', '2024-10-20', '2024-10-27', '2024-11-03',\n",
       "               '2024-11-10', '2024-11-17', '2024-11-24', '2024-12-01',\n",
       "               '2024-12-08', '2024-12-15', '2024-12-22', '2024-12-29',\n",
       "               '2025-01-05', '2025-01-12', '2025-01-19', '2025-01-26',\n",
       "               '2025-02-02', '2025-02-09', '2025-02-16', '2025-02-23'],\n",
       "              dtype='datetime64[ns]', freq='W-SUN')"
      ]
     },
     "execution_count": 121,
     "metadata": {},
     "output_type": "execute_result"
    }
   ],
   "source": [
    "dates = pd.date_range('4/1/2023', periods=100, freq='W')\n",
    "dates"
   ]
  },
  {
   "cell_type": "code",
   "execution_count": 130,
   "id": "c0a0caea",
   "metadata": {},
   "outputs": [
    {
     "data": {
      "text/plain": [
       "DatetimeIndex(['2023-04-03', '2023-04-10', '2023-04-17', '2023-04-24',\n",
       "               '2023-05-01', '2023-05-08', '2023-05-15', '2023-05-22',\n",
       "               '2023-05-29', '2023-06-05'],\n",
       "              dtype='datetime64[ns]', freq='W-MON')"
      ]
     },
     "execution_count": 130,
     "metadata": {},
     "output_type": "execute_result"
    }
   ],
   "source": [
    "dates = pd.date_range('4/1/2023', periods=10, freq='W-MON')\n",
    "dates"
   ]
  },
  {
   "cell_type": "code",
   "execution_count": 132,
   "id": "4ad40f12",
   "metadata": {},
   "outputs": [
    {
     "data": {
      "text/html": [
       "<div>\n",
       "<style scoped>\n",
       "    .dataframe tbody tr th:only-of-type {\n",
       "        vertical-align: middle;\n",
       "    }\n",
       "\n",
       "    .dataframe tbody tr th {\n",
       "        vertical-align: top;\n",
       "    }\n",
       "\n",
       "    .dataframe thead th {\n",
       "        text-align: right;\n",
       "    }\n",
       "</style>\n",
       "<table border=\"1\" class=\"dataframe\">\n",
       "  <thead>\n",
       "    <tr style=\"text-align: right;\">\n",
       "      <th></th>\n",
       "      <th>a</th>\n",
       "      <th>b</th>\n",
       "      <th>c</th>\n",
       "      <th>d</th>\n",
       "    </tr>\n",
       "  </thead>\n",
       "  <tbody>\n",
       "    <tr>\n",
       "      <th>2023-04-03</th>\n",
       "      <td>-0.210152</td>\n",
       "      <td>0.019503</td>\n",
       "      <td>0.472155</td>\n",
       "      <td>0.222658</td>\n",
       "    </tr>\n",
       "    <tr>\n",
       "      <th>2023-04-10</th>\n",
       "      <td>-1.008192</td>\n",
       "      <td>-0.338805</td>\n",
       "      <td>-0.845385</td>\n",
       "      <td>0.577043</td>\n",
       "    </tr>\n",
       "    <tr>\n",
       "      <th>2023-04-17</th>\n",
       "      <td>-0.042639</td>\n",
       "      <td>-1.769050</td>\n",
       "      <td>0.027567</td>\n",
       "      <td>-0.139664</td>\n",
       "    </tr>\n",
       "    <tr>\n",
       "      <th>2023-04-24</th>\n",
       "      <td>-1.457369</td>\n",
       "      <td>1.325886</td>\n",
       "      <td>-0.889528</td>\n",
       "      <td>-1.212611</td>\n",
       "    </tr>\n",
       "    <tr>\n",
       "      <th>2023-05-01</th>\n",
       "      <td>-1.501522</td>\n",
       "      <td>0.372126</td>\n",
       "      <td>0.153998</td>\n",
       "      <td>-0.117802</td>\n",
       "    </tr>\n",
       "  </tbody>\n",
       "</table>\n",
       "</div>"
      ],
      "text/plain": [
       "                   a         b         c         d\n",
       "2023-04-03 -0.210152  0.019503  0.472155  0.222658\n",
       "2023-04-10 -1.008192 -0.338805 -0.845385  0.577043\n",
       "2023-04-17 -0.042639 -1.769050  0.027567 -0.139664\n",
       "2023-04-24 -1.457369  1.325886 -0.889528 -1.212611\n",
       "2023-05-01 -1.501522  0.372126  0.153998 -0.117802"
      ]
     },
     "execution_count": 132,
     "metadata": {},
     "output_type": "execute_result"
    }
   ],
   "source": [
    "df_dates = pd.DataFrame(np.random.randn(10,4),\n",
    "                        index=dates,\n",
    "                        columns=list('abcd'))\n",
    "df_dates.head()"
   ]
  },
  {
   "cell_type": "code",
   "execution_count": 135,
   "id": "f6f0790c",
   "metadata": {},
   "outputs": [
    {
     "data": {
      "text/plain": [
       "DatetimeIndex(['2000-01-01 00:00:00', '2000-01-01 04:00:00',\n",
       "               '2000-01-01 08:00:00', '2000-01-01 12:00:00',\n",
       "               '2000-01-01 16:00:00', '2000-01-01 20:00:00',\n",
       "               '2000-01-02 00:00:00', '2000-01-02 04:00:00',\n",
       "               '2000-01-02 08:00:00', '2000-01-02 12:00:00',\n",
       "               '2000-01-02 16:00:00', '2000-01-02 20:00:00',\n",
       "               '2000-01-03 00:00:00'],\n",
       "              dtype='datetime64[ns]', freq='4H')"
      ]
     },
     "execution_count": 135,
     "metadata": {},
     "output_type": "execute_result"
    }
   ],
   "source": [
    "# freq 인자는 대소문자 구분 안한다. 단 월과 분 등의 M, m 등은 주의할 것 (freq 인자는 신경 안써도 됨, minutes가 다른 문자임)\n",
    "\n",
    "pd.date_range('2000-01-01','2000-01-03', freq='4h')"
   ]
  },
  {
   "cell_type": "code",
   "execution_count": 141,
   "id": "990ac310",
   "metadata": {},
   "outputs": [
    {
     "name": "stdout",
     "output_type": "stream",
     "text": [
      "<class 'pandas.core.indexes.period.PeriodIndex'>\n"
     ]
    },
    {
     "data": {
      "text/plain": [
       "2001-01-31 23:59:59.999999999    0.546057\n",
       "2001-02-28 23:59:59.999999999   -0.258580\n",
       "2001-03-31 23:59:59.999999999   -0.422167\n",
       "dtype: float64"
      ]
     },
     "execution_count": 141,
     "metadata": {},
     "output_type": "execute_result"
    }
   ],
   "source": [
    "# 기간을 타임스탬프로 변환\n",
    "\n",
    "rng = pd.period_range('2001-01-01', periods=3, freq='M')\n",
    "print(type(rng))\n",
    "ts = pd.Series(np.random.randn(3), index=rng)\n",
    "ts.to_timestamp(how='end')"
   ]
  },
  {
   "cell_type": "code",
   "execution_count": 114,
   "id": "1dfc87c7",
   "metadata": {},
   "outputs": [
    {
     "data": {
      "text/plain": [
       "2001-01-05    0.820877\n",
       "2001-01-06   -1.361844\n",
       "2001-01-07    0.279921\n",
       "Freq: D, dtype: float64"
      ]
     },
     "execution_count": 114,
     "metadata": {},
     "output_type": "execute_result"
    }
   ],
   "source": [
    "ts['2001-01-05':'2001-01-07']"
   ]
  },
  {
   "cell_type": "code",
   "execution_count": 116,
   "id": "c6ad0a62",
   "metadata": {},
   "outputs": [
    {
     "data": {
      "text/plain": [
       "2000-01-02    1.295848\n",
       "2000-01-03   -1.079884\n",
       "2000-01-04    1.344631\n",
       "2000-01-05   -1.195871\n",
       "Freq: D, dtype: float64"
      ]
     },
     "execution_count": 116,
     "metadata": {},
     "output_type": "execute_result"
    }
   ],
   "source": [
    "# truncate 함수는 데이터프레임 또는 시리즈의 특정 범위 내에서 값을 잘라내는 함수\n",
    "# truncate는 pandas에서 제공하는 시계열 데이터를 잘라내는 메소드 중 하나입니다.\n",
    "\n",
    "ts.truncate(before = '2000-01-02', after='2000-01-05')"
   ]
  },
  {
   "cell_type": "code",
   "execution_count": null,
   "id": "928ebfc9",
   "metadata": {},
   "outputs": [],
   "source": []
  }
 ],
 "metadata": {
  "colab": {
   "provenance": []
  },
  "kernelspec": {
   "display_name": "Python 3 (ipykernel)",
   "language": "python",
   "name": "python3"
  },
  "language_info": {
   "codemirror_mode": {
    "name": "ipython",
    "version": 3
   },
   "file_extension": ".py",
   "mimetype": "text/x-python",
   "name": "python",
   "nbconvert_exporter": "python",
   "pygments_lexer": "ipython3",
   "version": "3.9.13"
  }
 },
 "nbformat": 4,
 "nbformat_minor": 5
}
