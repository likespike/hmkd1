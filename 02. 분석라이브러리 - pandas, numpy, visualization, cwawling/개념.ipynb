{
 "cells": [
  {
   "cell_type": "markdown",
   "id": "d6ddcb09",
   "metadata": {},
   "source": []
  },
  {
   "cell_type": "code",
   "execution_count": null,
   "id": "08a21dfb",
   "metadata": {},
   "outputs": [],
   "source": [
    "data = np.array([1,2,3,4,5,100])    # 빈도는 1\n",
    "mean = np.mean(data)\n",
    "median = np.median(data)\n",
    "print(mean,'\\n')\n",
    "print(median,'\\n')\n",
    "\n",
    "이것의 히스토그램과 분포도의 생김새\n",
    "이상치\n"
   ]
  },
  {
   "cell_type": "code",
   "execution_count": null,
   "id": "3e426446",
   "metadata": {},
   "outputs": [],
   "source": [
    "data1 = np.array([1,2,3,4,5,100])    # 빈도는 1\n",
    "data2 = np.array([1,2,3,4,5,5])\n",
    "mean1 = np.mean(data1)\n",
    "median1 = np.median(data1)\n",
    "mean2 = np.mean(data2)\n",
    "median2 = np.median(data2)\n",
    "print(mean1,'\\n')\n",
    "print(median1,'\\n')\n",
    "print(mean2,'\\n')\n",
    "print(median2,'\\n')"
   ]
  },
  {
   "cell_type": "code",
   "execution_count": null,
   "id": "80ee5ee2",
   "metadata": {},
   "outputs": [],
   "source": [
    "목적\n",
    "머신러닝 : 분석용 데이터셋 -> 학급 -> 결과 예측\n",
    "\n",
    "그래서 분석용 데이터셋을 잘 만들어야 함 -> 파생변수 -> EDA"
   ]
  },
  {
   "cell_type": "code",
   "execution_count": null,
   "id": "9b91cd33",
   "metadata": {},
   "outputs": [],
   "source": [
    "분석용 데이터셋 잘 만들기\n",
    "\n",
    "결측치나 이상치 처리\n",
    "피쳐 엔지니어링 - 파생 변수 만드는 것 (분석 모델이 더 잘 학습할 수 있도록)\n",
    "탐색적 데이터 분석(EDA) - 통계나 시각화를 이용해서 보고 분석함"
   ]
  },
  {
   "cell_type": "code",
   "execution_count": null,
   "id": "a8db086c",
   "metadata": {},
   "outputs": [],
   "source": [
    "확률"
   ]
  },
  {
   "cell_type": "code",
   "execution_count": null,
   "id": "87fcf31a",
   "metadata": {},
   "outputs": [],
   "source": [
    "편차\n",
    "\n",
    "표준편차\n",
    "평균으로부터 데이터가 얼마나 떨어져 있는가\n",
    "편차를 제곱해서 절대값으로 볼 수 있게 만든 것\n"
   ]
  },
  {
   "cell_type": "code",
   "execution_count": null,
   "id": "6f9cd9e1",
   "metadata": {},
   "outputs": [],
   "source": [
    "분포\n",
    "확률을 나타내는 하나의 방법\n",
    "\n",
    "균일 분포\n",
    "모든 확률이 같음\n",
    "히스토그램 키가 같은 모습\n",
    "\n",
    "정규 분포\n",
    "\n",
    "표준 정규 분포\n",
    "평균이 0\n",
    "정규분포가 1인 정규분포\n",
    "표준 정규 분포에 가까울수록 좋다\n",
    "퍼지너가 뾰족하다고 좋은게 아님\n",
    "\n",
    "샘플링수가 많을수록 (표준?)정규분초에 가깝게 나온다\n",
    "\n"
   ]
  },
  {
   "cell_type": "code",
   "execution_count": null,
   "id": "85195913",
   "metadata": {},
   "outputs": [],
   "source": [
    "벡터는 방향, 화살표\n",
    "\n",
    "행렬\n",
    "\n",
    "머신러닝 기본에서 코드가 다 계산을 해주는데\n",
    "계산을 할 때 그 코드를 까보면 다 행렬을 포함한 수학적 공식으로 되어 있다\n",
    "\n",
    "이미지 처리에 주로 쓰이는게 행렬이다\n",
    "\n",
    "주성분 분석에 쓰인다\n",
    "이미지 회전이나\n",
    "이미지에 쓰인다"
   ]
  },
  {
   "cell_type": "code",
   "execution_count": null,
   "id": "61975f2f",
   "metadata": {},
   "outputs": [],
   "source": [
    "회귀\n",
    "선형 회귀\n"
   ]
  },
  {
   "cell_type": "code",
   "execution_count": 1,
   "id": "43a6d940",
   "metadata": {},
   "outputs": [
    {
     "ename": "SyntaxError",
     "evalue": "invalid syntax (2045648064.py, line 1)",
     "output_type": "error",
     "traceback": [
      "\u001b[1;36m  File \u001b[1;32m\"C:\\Users\\h\\AppData\\Local\\Temp\\ipykernel_6212\\2045648064.py\"\u001b[1;36m, line \u001b[1;32m1\u001b[0m\n\u001b[1;33m    정리할 것\u001b[0m\n\u001b[1;37m        ^\u001b[0m\n\u001b[1;31mSyntaxError\u001b[0m\u001b[1;31m:\u001b[0m invalid syntax\n"
     ]
    }
   ],
   "source": [
    "정리할 것\n",
    "\n",
    "\n",
    "분포는 파생변수와 연관\n",
    "\n",
    "배열\n",
    "알고리즘은 수학\n",
    "수학적 계산\n",
    "\n",
    "2차원\n",
    "3차원 - 실무적으로는 상관x, 이미지분석에서는 쓰이는데, 거의 안쓰임\n",
    "\n",
    "deep러닝을 위한 수학\n"
   ]
  },
  {
   "cell_type": "code",
   "execution_count": null,
   "id": "c3020b4c",
   "metadata": {},
   "outputs": [],
   "source": [
    "# z-score를 계산하는 사용자 함수 정의\n",
    "# z-score : 평균값에서 표준편차의 몇 배 떨어져 있는지를 평가하는 수치\n",
    "\n",
    "def z_score(x):\n",
    "    return ((x - x.mean())/x.std())\n",
    "\n",
    "age_zscore = grouped.age.apply(z_score)\n",
    "\n",
    "age_zscore.head()"
   ]
  },
  {
   "cell_type": "code",
   "execution_count": 4,
   "id": "7adaa60e",
   "metadata": {},
   "outputs": [
    {
     "data": {
      "text/html": [
       "<div>\n",
       "<style scoped>\n",
       "    .dataframe tbody tr th:only-of-type {\n",
       "        vertical-align: middle;\n",
       "    }\n",
       "\n",
       "    .dataframe tbody tr th {\n",
       "        vertical-align: top;\n",
       "    }\n",
       "\n",
       "    .dataframe thead th {\n",
       "        text-align: right;\n",
       "    }\n",
       "</style>\n",
       "<table border=\"1\" class=\"dataframe\">\n",
       "  <thead>\n",
       "    <tr style=\"text-align: right;\">\n",
       "      <th></th>\n",
       "      <th>연월일</th>\n",
       "      <th>당일종가</th>\n",
       "      <th>전일종가</th>\n",
       "      <th>시가</th>\n",
       "      <th>고가</th>\n",
       "      <th>저가</th>\n",
       "      <th>거래량</th>\n",
       "    </tr>\n",
       "  </thead>\n",
       "  <tbody>\n",
       "    <tr>\n",
       "      <th>0</th>\n",
       "      <td>2018-07-02</td>\n",
       "      <td>10100</td>\n",
       "      <td>600</td>\n",
       "      <td>10850</td>\n",
       "      <td>10900</td>\n",
       "      <td>10000</td>\n",
       "      <td>137977</td>\n",
       "    </tr>\n",
       "    <tr>\n",
       "      <th>1</th>\n",
       "      <td>2018-06-29</td>\n",
       "      <td>10700</td>\n",
       "      <td>300</td>\n",
       "      <td>10550</td>\n",
       "      <td>10900</td>\n",
       "      <td>9990</td>\n",
       "      <td>170253</td>\n",
       "    </tr>\n",
       "    <tr>\n",
       "      <th>2</th>\n",
       "      <td>2018-06-28</td>\n",
       "      <td>10400</td>\n",
       "      <td>500</td>\n",
       "      <td>10900</td>\n",
       "      <td>10950</td>\n",
       "      <td>10150</td>\n",
       "      <td>155769</td>\n",
       "    </tr>\n",
       "    <tr>\n",
       "      <th>3</th>\n",
       "      <td>2018-06-27</td>\n",
       "      <td>10900</td>\n",
       "      <td>100</td>\n",
       "      <td>10800</td>\n",
       "      <td>11050</td>\n",
       "      <td>10500</td>\n",
       "      <td>133548</td>\n",
       "    </tr>\n",
       "    <tr>\n",
       "      <th>4</th>\n",
       "      <td>2018-06-26</td>\n",
       "      <td>10800</td>\n",
       "      <td>350</td>\n",
       "      <td>10900</td>\n",
       "      <td>11000</td>\n",
       "      <td>10700</td>\n",
       "      <td>63039</td>\n",
       "    </tr>\n",
       "  </tbody>\n",
       "</table>\n",
       "</div>"
      ],
      "text/plain": [
       "          연월일   당일종가  전일종가     시가     고가     저가     거래량\n",
       "0  2018-07-02  10100   600  10850  10900  10000  137977\n",
       "1  2018-06-29  10700   300  10550  10900   9990  170253\n",
       "2  2018-06-28  10400   500  10900  10950  10150  155769\n",
       "3  2018-06-27  10900   100  10800  11050  10500  133548\n",
       "4  2018-06-26  10800   350  10900  11000  10700   63039"
      ]
     },
     "execution_count": 4,
     "metadata": {},
     "output_type": "execute_result"
    }
   ],
   "source": [
    "df = pd.read_csv('../dataset/주가데이터.csv')\n",
    "df.head()"
   ]
  },
  {
   "cell_type": "code",
   "execution_count": 5,
   "id": "0899550c",
   "metadata": {},
   "outputs": [
    {
     "data": {
      "text/html": [
       "<div>\n",
       "<style scoped>\n",
       "    .dataframe tbody tr th:only-of-type {\n",
       "        vertical-align: middle;\n",
       "    }\n",
       "\n",
       "    .dataframe tbody tr th {\n",
       "        vertical-align: top;\n",
       "    }\n",
       "\n",
       "    .dataframe thead th {\n",
       "        text-align: right;\n",
       "    }\n",
       "</style>\n",
       "<table border=\"1\" class=\"dataframe\">\n",
       "  <thead>\n",
       "    <tr style=\"text-align: right;\">\n",
       "      <th></th>\n",
       "      <th>Date</th>\n",
       "      <th>Close</th>\n",
       "      <th>Start</th>\n",
       "      <th>High</th>\n",
       "      <th>Low</th>\n",
       "      <th>Volume</th>\n",
       "    </tr>\n",
       "  </thead>\n",
       "  <tbody>\n",
       "    <tr>\n",
       "      <th>0</th>\n",
       "      <td>2018-07-02</td>\n",
       "      <td>10100</td>\n",
       "      <td>10850</td>\n",
       "      <td>10900</td>\n",
       "      <td>10000</td>\n",
       "      <td>137977</td>\n",
       "    </tr>\n",
       "    <tr>\n",
       "      <th>1</th>\n",
       "      <td>2018-06-29</td>\n",
       "      <td>10700</td>\n",
       "      <td>10550</td>\n",
       "      <td>10900</td>\n",
       "      <td>9990</td>\n",
       "      <td>170253</td>\n",
       "    </tr>\n",
       "    <tr>\n",
       "      <th>2</th>\n",
       "      <td>2018-06-28</td>\n",
       "      <td>10400</td>\n",
       "      <td>10900</td>\n",
       "      <td>10950</td>\n",
       "      <td>10150</td>\n",
       "      <td>155769</td>\n",
       "    </tr>\n",
       "    <tr>\n",
       "      <th>3</th>\n",
       "      <td>2018-06-27</td>\n",
       "      <td>10900</td>\n",
       "      <td>10800</td>\n",
       "      <td>11050</td>\n",
       "      <td>10500</td>\n",
       "      <td>133548</td>\n",
       "    </tr>\n",
       "    <tr>\n",
       "      <th>4</th>\n",
       "      <td>2018-06-26</td>\n",
       "      <td>10800</td>\n",
       "      <td>10900</td>\n",
       "      <td>11000</td>\n",
       "      <td>10700</td>\n",
       "      <td>63039</td>\n",
       "    </tr>\n",
       "    <tr>\n",
       "      <th>5</th>\n",
       "      <td>2018-06-25</td>\n",
       "      <td>11150</td>\n",
       "      <td>11400</td>\n",
       "      <td>11450</td>\n",
       "      <td>11000</td>\n",
       "      <td>55519</td>\n",
       "    </tr>\n",
       "    <tr>\n",
       "      <th>6</th>\n",
       "      <td>2018-06-22</td>\n",
       "      <td>11300</td>\n",
       "      <td>11250</td>\n",
       "      <td>11450</td>\n",
       "      <td>10750</td>\n",
       "      <td>134805</td>\n",
       "    </tr>\n",
       "    <tr>\n",
       "      <th>7</th>\n",
       "      <td>2018-06-21</td>\n",
       "      <td>11200</td>\n",
       "      <td>11350</td>\n",
       "      <td>11750</td>\n",
       "      <td>11200</td>\n",
       "      <td>133002</td>\n",
       "    </tr>\n",
       "    <tr>\n",
       "      <th>8</th>\n",
       "      <td>2018-06-20</td>\n",
       "      <td>11550</td>\n",
       "      <td>11200</td>\n",
       "      <td>11600</td>\n",
       "      <td>10900</td>\n",
       "      <td>308596</td>\n",
       "    </tr>\n",
       "    <tr>\n",
       "      <th>9</th>\n",
       "      <td>2018-06-19</td>\n",
       "      <td>11300</td>\n",
       "      <td>11850</td>\n",
       "      <td>11950</td>\n",
       "      <td>11300</td>\n",
       "      <td>180656</td>\n",
       "    </tr>\n",
       "    <tr>\n",
       "      <th>10</th>\n",
       "      <td>2018-06-18</td>\n",
       "      <td>12000</td>\n",
       "      <td>13400</td>\n",
       "      <td>13400</td>\n",
       "      <td>12000</td>\n",
       "      <td>309787</td>\n",
       "    </tr>\n",
       "    <tr>\n",
       "      <th>11</th>\n",
       "      <td>2018-06-15</td>\n",
       "      <td>13400</td>\n",
       "      <td>13600</td>\n",
       "      <td>13600</td>\n",
       "      <td>12900</td>\n",
       "      <td>201376</td>\n",
       "    </tr>\n",
       "    <tr>\n",
       "      <th>12</th>\n",
       "      <td>2018-06-14</td>\n",
       "      <td>13450</td>\n",
       "      <td>13200</td>\n",
       "      <td>13700</td>\n",
       "      <td>13150</td>\n",
       "      <td>347451</td>\n",
       "    </tr>\n",
       "    <tr>\n",
       "      <th>13</th>\n",
       "      <td>2018-06-12</td>\n",
       "      <td>13200</td>\n",
       "      <td>12200</td>\n",
       "      <td>13300</td>\n",
       "      <td>12050</td>\n",
       "      <td>558148</td>\n",
       "    </tr>\n",
       "    <tr>\n",
       "      <th>14</th>\n",
       "      <td>2018-06-11</td>\n",
       "      <td>11950</td>\n",
       "      <td>12000</td>\n",
       "      <td>12250</td>\n",
       "      <td>11950</td>\n",
       "      <td>62293</td>\n",
       "    </tr>\n",
       "    <tr>\n",
       "      <th>15</th>\n",
       "      <td>2018-06-08</td>\n",
       "      <td>11950</td>\n",
       "      <td>11950</td>\n",
       "      <td>12200</td>\n",
       "      <td>11800</td>\n",
       "      <td>59258</td>\n",
       "    </tr>\n",
       "    <tr>\n",
       "      <th>16</th>\n",
       "      <td>2018-06-07</td>\n",
       "      <td>11950</td>\n",
       "      <td>12200</td>\n",
       "      <td>12300</td>\n",
       "      <td>11900</td>\n",
       "      <td>49088</td>\n",
       "    </tr>\n",
       "    <tr>\n",
       "      <th>17</th>\n",
       "      <td>2018-06-05</td>\n",
       "      <td>12150</td>\n",
       "      <td>11800</td>\n",
       "      <td>12250</td>\n",
       "      <td>11800</td>\n",
       "      <td>42485</td>\n",
       "    </tr>\n",
       "    <tr>\n",
       "      <th>18</th>\n",
       "      <td>2018-06-04</td>\n",
       "      <td>11900</td>\n",
       "      <td>11900</td>\n",
       "      <td>12200</td>\n",
       "      <td>11700</td>\n",
       "      <td>25171</td>\n",
       "    </tr>\n",
       "    <tr>\n",
       "      <th>19</th>\n",
       "      <td>2018-06-01</td>\n",
       "      <td>11900</td>\n",
       "      <td>11800</td>\n",
       "      <td>12100</td>\n",
       "      <td>11750</td>\n",
       "      <td>32062</td>\n",
       "    </tr>\n",
       "  </tbody>\n",
       "</table>\n",
       "</div>"
      ],
      "text/plain": [
       "          Date  Close  Start   High    Low  Volume\n",
       "0   2018-07-02  10100  10850  10900  10000  137977\n",
       "1   2018-06-29  10700  10550  10900   9990  170253\n",
       "2   2018-06-28  10400  10900  10950  10150  155769\n",
       "3   2018-06-27  10900  10800  11050  10500  133548\n",
       "4   2018-06-26  10800  10900  11000  10700   63039\n",
       "5   2018-06-25  11150  11400  11450  11000   55519\n",
       "6   2018-06-22  11300  11250  11450  10750  134805\n",
       "7   2018-06-21  11200  11350  11750  11200  133002\n",
       "8   2018-06-20  11550  11200  11600  10900  308596\n",
       "9   2018-06-19  11300  11850  11950  11300  180656\n",
       "10  2018-06-18  12000  13400  13400  12000  309787\n",
       "11  2018-06-15  13400  13600  13600  12900  201376\n",
       "12  2018-06-14  13450  13200  13700  13150  347451\n",
       "13  2018-06-12  13200  12200  13300  12050  558148\n",
       "14  2018-06-11  11950  12000  12250  11950   62293\n",
       "15  2018-06-08  11950  11950  12200  11800   59258\n",
       "16  2018-06-07  11950  12200  12300  11900   49088\n",
       "17  2018-06-05  12150  11800  12250  11800   42485\n",
       "18  2018-06-04  11900  11900  12200  11700   25171\n",
       "19  2018-06-01  11900  11800  12100  11750   32062"
      ]
     },
     "execution_count": 5,
     "metadata": {},
     "output_type": "execute_result"
    }
   ],
   "source": [
    "df.drop('전일종가', axis = 1, inplace=True)\n",
    "\n",
    "new_columns = ['Date', 'Close', 'Start', 'High', 'Low', 'Volume']\n",
    "df.columns = new_columns\n",
    "df"
   ]
  },
  {
   "cell_type": "code",
   "execution_count": 6,
   "id": "6a8d6f57",
   "metadata": {},
   "outputs": [
    {
     "data": {
      "text/html": [
       "<div>\n",
       "<style scoped>\n",
       "    .dataframe tbody tr th:only-of-type {\n",
       "        vertical-align: middle;\n",
       "    }\n",
       "\n",
       "    .dataframe tbody tr th {\n",
       "        vertical-align: top;\n",
       "    }\n",
       "\n",
       "    .dataframe thead th {\n",
       "        text-align: right;\n",
       "    }\n",
       "</style>\n",
       "<table border=\"1\" class=\"dataframe\">\n",
       "  <thead>\n",
       "    <tr style=\"text-align: right;\">\n",
       "      <th></th>\n",
       "      <th>Close</th>\n",
       "      <th>Start</th>\n",
       "      <th>High</th>\n",
       "      <th>Low</th>\n",
       "    </tr>\n",
       "    <tr>\n",
       "      <th>Ndate</th>\n",
       "      <th></th>\n",
       "      <th></th>\n",
       "      <th></th>\n",
       "      <th></th>\n",
       "    </tr>\n",
       "  </thead>\n",
       "  <tbody>\n",
       "    <tr>\n",
       "      <th>2018-07-02</th>\n",
       "      <td>10100</td>\n",
       "      <td>10850</td>\n",
       "      <td>10900</td>\n",
       "      <td>10000</td>\n",
       "    </tr>\n",
       "    <tr>\n",
       "      <th>2018-06-29</th>\n",
       "      <td>10700</td>\n",
       "      <td>10550</td>\n",
       "      <td>10900</td>\n",
       "      <td>9990</td>\n",
       "    </tr>\n",
       "    <tr>\n",
       "      <th>2018-06-28</th>\n",
       "      <td>10400</td>\n",
       "      <td>10900</td>\n",
       "      <td>10950</td>\n",
       "      <td>10150</td>\n",
       "    </tr>\n",
       "    <tr>\n",
       "      <th>2018-06-27</th>\n",
       "      <td>10900</td>\n",
       "      <td>10800</td>\n",
       "      <td>11050</td>\n",
       "      <td>10500</td>\n",
       "    </tr>\n",
       "    <tr>\n",
       "      <th>2018-06-26</th>\n",
       "      <td>10800</td>\n",
       "      <td>10900</td>\n",
       "      <td>11000</td>\n",
       "      <td>10700</td>\n",
       "    </tr>\n",
       "  </tbody>\n",
       "</table>\n",
       "</div>"
      ],
      "text/plain": [
       "            Close  Start   High    Low\n",
       "Ndate                                 \n",
       "2018-07-02  10100  10850  10900  10000\n",
       "2018-06-29  10700  10550  10900   9990\n",
       "2018-06-28  10400  10900  10950  10150\n",
       "2018-06-27  10900  10800  11050  10500\n",
       "2018-06-26  10800  10900  11000  10700"
      ]
     },
     "execution_count": 6,
     "metadata": {},
     "output_type": "execute_result"
    }
   ],
   "source": [
    "# Q. Ndate 칼럼을 datetime타입으로 생성하고 인덱스로 셋팅하세요.\n",
    "# 컬럼 선택 : 'Close' 'Start' 'High' 'Low'\n",
    "\n",
    "df['Ndate'] = pd.to_datetime(df.Date)    # 없는 컬럼은 df.Ndate 식으로 안됨\n",
    "df.set_index('Ndate', inplace=True)\n",
    "df1 = df[['Close', 'Start','High','Low']]\n",
    "df1.head()"
   ]
  },
  {
   "cell_type": "code",
   "execution_count": 7,
   "id": "6d84c9ca",
   "metadata": {},
   "outputs": [
    {
     "data": {
      "text/plain": [
       "<AxesSubplot:xlabel='Close', ylabel='Volume'>"
      ]
     },
     "execution_count": 7,
     "metadata": {},
     "output_type": "execute_result"
    },
    {
     "data": {
      "image/png": "[encoded data removed]",
      "text/plain": [
       "<Figure size 640x480 with 1 Axes>"
      ]
     },
     "metadata": {},
     "output_type": "display_data"
    }
   ],
   "source": [
    "# y=ax+b인데, 어떻게 선을 그으면 좋을까. 선형회귀\n",
    "# 선과 점들의 편차의 합을 최소화하는 것을 학습하면서 찾음\n",
    "# 예측과 실제값의 차이가 최소가 되는 것이 예측식의 가중치가 됨\n",
    "# 종가가 변하면 40프로 정도 거래량이 변한다는 의미\n",
    "\n",
    "df.plot(x='Close', y='Volume', kind='scatter')\n",
    "\n"
   ]
  },
  {
   "cell_type": "code",
   "execution_count": 8,
   "id": "affba85a",
   "metadata": {},
   "outputs": [
    {
     "data": {
      "text/plain": [
       "<AxesSubplot:>"
      ]
     },
     "execution_count": 8,
     "metadata": {},
     "output_type": "execute_result"
    },
    {
     "data": {
      "image/png": "[encoded data removed]",
      "text/plain": [
       "<Figure size 640x480 with 1 Axes>"
      ]
     },
     "metadata": {},
     "output_type": "display_data"
    }
   ],
   "source": [
    "# box plot\n",
    "# 박스 밑이 1사분위\n",
    "# 박스 위가 3사분위\n",
    "# 2사분위, 중간값? - 녹색 라인\n",
    "# 윗선은 이상치 탐색의 기능 (upper) -> 그 위의 기호가 이상치임\n",
    "\n",
    "df.Close.plot(kind='box')"
   ]
  },
  {
   "cell_type": "code",
   "execution_count": null,
   "id": "e947f0f0",
   "metadata": {},
   "outputs": [],
   "source": [
    "# 시각화의 1차적 목표는 리포트용이라기 보다는 탐색, 분석이다.\n",
    "- 그러나 seaborn이 시각적으로도 좋기에 쓰기는 한다\n",
    "- 리포트 목적으로는 Tableau 등\n"
   ]
  },
  {
   "cell_type": "markdown",
   "id": "b42c775c",
   "metadata": {},
   "source": [
    "### 판다스 내장 그래프 도구\n",
    "* 판다스는 Matplotlib 라이브러리의 기능을 일부 내장하고 있어서 별도로 임포드하지 않고 간단히 그래프 그릴 수 있음.\n",
    "* 선그래프 : df.plot()메소드 적용시 다른 옵션을 추가하지 않으면 가장 기본적인 선 그래프를 그림.\n",
    "* 막대 그래프 : df.plot(kind='bar'), df.plot(kind='barh',stacked=True,alpha=0.8)\n",
    "* 히스토그램 : df.plot(kind='hist')\n",
    "* 산점도 : df.plot(x=' ', y=' ', kind='scatter'), 상관관계를 볼 수 있음.\n",
    "* 박스 플롯 : df.plot(kind='box'), df.boxplot(column=['feature']) 특정 변수의 데이터 분포와 분산 정도에 대한 정보를 제공.\n",
    "\n",
    "## matplotlib\n",
    "- histogram : plt.hist(x, bins= )\n",
    "- line plot : plt.plot(x,y)\n",
    "- plt.bar(x,y, width= , color='')\n",
    "- scatter plot : plt.scatter(x, y): \n",
    "\n",
    "## seaborn\n",
    "- sns.distplot(data, bins=, color=, kde=), histplot, displot으로 변경\n",
    "- sns.boxplot(x, y, data, color)\n",
    "- sns.violinplot(x, y, data, color)\n",
    "- sns.barplot(x, y, data, color)\n",
    "- sns.jointplot(x, y, data, color)\n",
    "- sns.pairplot(data, hue, palette)\n",
    "- sns.lmplot(x,y,data,color)\n",
    "- sns.regplot(x,y,data,fig_reg=False)"
   ]
  },
  {
   "cell_type": "code",
   "execution_count": 14,
   "id": "df074641",
   "metadata": {},
   "outputs": [
    {
     "data": {
      "text/html": [
       "<div>\n",
       "<style scoped>\n",
       "    .dataframe tbody tr th:only-of-type {\n",
       "        vertical-align: middle;\n",
       "    }\n",
       "\n",
       "    .dataframe tbody tr th {\n",
       "        vertical-align: top;\n",
       "    }\n",
       "\n",
       "    .dataframe thead th {\n",
       "        text-align: right;\n",
       "    }\n",
       "</style>\n",
       "<table border=\"1\" class=\"dataframe\">\n",
       "  <thead>\n",
       "    <tr style=\"text-align: right;\">\n",
       "      <th></th>\n",
       "      <th>연월일</th>\n",
       "      <th>당일종가</th>\n",
       "      <th>전일종가</th>\n",
       "      <th>시가</th>\n",
       "      <th>고가</th>\n",
       "      <th>저가</th>\n",
       "      <th>거래량</th>\n",
       "    </tr>\n",
       "  </thead>\n",
       "  <tbody>\n",
       "    <tr>\n",
       "      <th>0</th>\n",
       "      <td>2018-07-02</td>\n",
       "      <td>10100</td>\n",
       "      <td>600</td>\n",
       "      <td>10850</td>\n",
       "      <td>10900</td>\n",
       "      <td>10000</td>\n",
       "      <td>137977</td>\n",
       "    </tr>\n",
       "    <tr>\n",
       "      <th>1</th>\n",
       "      <td>2018-06-29</td>\n",
       "      <td>10700</td>\n",
       "      <td>300</td>\n",
       "      <td>10550</td>\n",
       "      <td>10900</td>\n",
       "      <td>9990</td>\n",
       "      <td>170253</td>\n",
       "    </tr>\n",
       "    <tr>\n",
       "      <th>2</th>\n",
       "      <td>2018-06-28</td>\n",
       "      <td>10400</td>\n",
       "      <td>500</td>\n",
       "      <td>10900</td>\n",
       "      <td>10950</td>\n",
       "      <td>10150</td>\n",
       "      <td>155769</td>\n",
       "    </tr>\n",
       "    <tr>\n",
       "      <th>3</th>\n",
       "      <td>2018-06-27</td>\n",
       "      <td>10900</td>\n",
       "      <td>100</td>\n",
       "      <td>10800</td>\n",
       "      <td>11050</td>\n",
       "      <td>10500</td>\n",
       "      <td>133548</td>\n",
       "    </tr>\n",
       "    <tr>\n",
       "      <th>4</th>\n",
       "      <td>2018-06-26</td>\n",
       "      <td>10800</td>\n",
       "      <td>350</td>\n",
       "      <td>10900</td>\n",
       "      <td>11000</td>\n",
       "      <td>10700</td>\n",
       "      <td>63039</td>\n",
       "    </tr>\n",
       "  </tbody>\n",
       "</table>\n",
       "</div>"
      ],
      "text/plain": [
       "          연월일   당일종가  전일종가     시가     고가     저가     거래량\n",
       "0  2018-07-02  10100   600  10850  10900  10000  137977\n",
       "1  2018-06-29  10700   300  10550  10900   9990  170253\n",
       "2  2018-06-28  10400   500  10900  10950  10150  155769\n",
       "3  2018-06-27  10900   100  10800  11050  10500  133548\n",
       "4  2018-06-26  10800   350  10900  11000  10700   63039"
      ]
     },
     "execution_count": 14,
     "metadata": {},
     "output_type": "execute_result"
    }
   ],
   "source": [
    "df = pd.read_csv('../../dataset/주가데이터.csv')\n",
    "df.head()"
   ]
  },
  {
   "cell_type": "code",
   "execution_count": 5,
   "id": "deda4e09",
   "metadata": {},
   "outputs": [
    {
     "name": "stdout",
     "output_type": "stream",
     "text": [
      "<class 'pandas.core.frame.DataFrame'>\n",
      "RangeIndex: 20 entries, 0 to 19\n",
      "Data columns (total 7 columns):\n",
      " #   Column  Non-Null Count  Dtype \n",
      "---  ------  --------------  ----- \n",
      " 0   연월일     20 non-null     object\n",
      " 1   당일종가    20 non-null     int64 \n",
      " 2   전일종가    20 non-null     int64 \n",
      " 3   시가      20 non-null     int64 \n",
      " 4   고가      20 non-null     int64 \n",
      " 5   저가      20 non-null     int64 \n",
      " 6   거래량     20 non-null     int64 \n",
      "dtypes: int64(6), object(1)\n",
      "memory usage: 1.2+ KB\n"
     ]
    }
   ],
   "source": [
    "df.info()"
   ]
  },
  {
   "cell_type": "code",
   "execution_count": null,
   "id": "f0ec3b75",
   "metadata": {},
   "outputs": [],
   "source": [
    "df.drop('전일종가', axis = 1, inplace=True)\n",
    "\n",
    "new_columns = ['Date', 'Close', 'Start', 'High', 'Low', 'Volume']\n",
    "df.columns = new_columns\n",
    "df"
   ]
  },
  {
   "cell_type": "code",
   "execution_count": 36,
   "id": "009b8313",
   "metadata": {},
   "outputs": [
    {
     "data": {
      "text/html": [
       "<div>\n",
       "<style scoped>\n",
       "    .dataframe tbody tr th:only-of-type {\n",
       "        vertical-align: middle;\n",
       "    }\n",
       "\n",
       "    .dataframe tbody tr th {\n",
       "        vertical-align: top;\n",
       "    }\n",
       "\n",
       "    .dataframe thead th {\n",
       "        text-align: right;\n",
       "    }\n",
       "</style>\n",
       "<table border=\"1\" class=\"dataframe\">\n",
       "  <thead>\n",
       "    <tr style=\"text-align: right;\">\n",
       "      <th></th>\n",
       "      <th>Date</th>\n",
       "      <th>Close</th>\n",
       "      <th>Start</th>\n",
       "      <th>High</th>\n",
       "      <th>Low</th>\n",
       "      <th>Volume</th>\n",
       "    </tr>\n",
       "    <tr>\n",
       "      <th>Ndate</th>\n",
       "      <th></th>\n",
       "      <th></th>\n",
       "      <th></th>\n",
       "      <th></th>\n",
       "      <th></th>\n",
       "      <th></th>\n",
       "    </tr>\n",
       "  </thead>\n",
       "  <tbody>\n",
       "    <tr>\n",
       "      <th>2018-07-02</th>\n",
       "      <td>2018-07-02</td>\n",
       "      <td>10100</td>\n",
       "      <td>10850</td>\n",
       "      <td>10900</td>\n",
       "      <td>10000</td>\n",
       "      <td>137977</td>\n",
       "    </tr>\n",
       "    <tr>\n",
       "      <th>2018-06-29</th>\n",
       "      <td>2018-06-29</td>\n",
       "      <td>10700</td>\n",
       "      <td>10550</td>\n",
       "      <td>10900</td>\n",
       "      <td>9990</td>\n",
       "      <td>170253</td>\n",
       "    </tr>\n",
       "    <tr>\n",
       "      <th>2018-06-28</th>\n",
       "      <td>2018-06-28</td>\n",
       "      <td>10400</td>\n",
       "      <td>10900</td>\n",
       "      <td>10950</td>\n",
       "      <td>10150</td>\n",
       "      <td>155769</td>\n",
       "    </tr>\n",
       "    <tr>\n",
       "      <th>2018-06-27</th>\n",
       "      <td>2018-06-27</td>\n",
       "      <td>10900</td>\n",
       "      <td>10800</td>\n",
       "      <td>11050</td>\n",
       "      <td>10500</td>\n",
       "      <td>133548</td>\n",
       "    </tr>\n",
       "    <tr>\n",
       "      <th>2018-06-26</th>\n",
       "      <td>2018-06-26</td>\n",
       "      <td>10800</td>\n",
       "      <td>10900</td>\n",
       "      <td>11000</td>\n",
       "      <td>10700</td>\n",
       "      <td>63039</td>\n",
       "    </tr>\n",
       "  </tbody>\n",
       "</table>\n",
       "</div>"
      ],
      "text/plain": [
       "                  Date  Close  Start   High    Low  Volume\n",
       "Ndate                                                     \n",
       "2018-07-02  2018-07-02  10100  10850  10900  10000  137977\n",
       "2018-06-29  2018-06-29  10700  10550  10900   9990  170253\n",
       "2018-06-28  2018-06-28  10400  10900  10950  10150  155769\n",
       "2018-06-27  2018-06-27  10900  10800  11050  10500  133548\n",
       "2018-06-26  2018-06-26  10800  10900  11000  10700   63039"
      ]
     },
     "execution_count": 36,
     "metadata": {},
     "output_type": "execute_result"
    }
   ],
   "source": [
    "df.to_pickle('../../dataset/sprice.pkl')\n",
    "df = pd.read_pickle('../../dataset/sprice.pkl')\n",
    "df.head()"
   ]
  },
  {
   "cell_type": "code",
   "execution_count": 37,
   "id": "0b5d4c58",
   "metadata": {},
   "outputs": [
    {
     "data": {
      "text/html": [
       "<div>\n",
       "<style scoped>\n",
       "    .dataframe tbody tr th:only-of-type {\n",
       "        vertical-align: middle;\n",
       "    }\n",
       "\n",
       "    .dataframe tbody tr th {\n",
       "        vertical-align: top;\n",
       "    }\n",
       "\n",
       "    .dataframe thead th {\n",
       "        text-align: right;\n",
       "    }\n",
       "</style>\n",
       "<table border=\"1\" class=\"dataframe\">\n",
       "  <thead>\n",
       "    <tr style=\"text-align: right;\">\n",
       "      <th></th>\n",
       "      <th>Close</th>\n",
       "      <th>Start</th>\n",
       "      <th>High</th>\n",
       "      <th>Low</th>\n",
       "    </tr>\n",
       "    <tr>\n",
       "      <th>Ndate</th>\n",
       "      <th></th>\n",
       "      <th></th>\n",
       "      <th></th>\n",
       "      <th></th>\n",
       "    </tr>\n",
       "  </thead>\n",
       "  <tbody>\n",
       "    <tr>\n",
       "      <th>2018-07-02</th>\n",
       "      <td>10100</td>\n",
       "      <td>10850</td>\n",
       "      <td>10900</td>\n",
       "      <td>10000</td>\n",
       "    </tr>\n",
       "    <tr>\n",
       "      <th>2018-06-29</th>\n",
       "      <td>10700</td>\n",
       "      <td>10550</td>\n",
       "      <td>10900</td>\n",
       "      <td>9990</td>\n",
       "    </tr>\n",
       "    <tr>\n",
       "      <th>2018-06-28</th>\n",
       "      <td>10400</td>\n",
       "      <td>10900</td>\n",
       "      <td>10950</td>\n",
       "      <td>10150</td>\n",
       "    </tr>\n",
       "    <tr>\n",
       "      <th>2018-06-27</th>\n",
       "      <td>10900</td>\n",
       "      <td>10800</td>\n",
       "      <td>11050</td>\n",
       "      <td>10500</td>\n",
       "    </tr>\n",
       "    <tr>\n",
       "      <th>2018-06-26</th>\n",
       "      <td>10800</td>\n",
       "      <td>10900</td>\n",
       "      <td>11000</td>\n",
       "      <td>10700</td>\n",
       "    </tr>\n",
       "  </tbody>\n",
       "</table>\n",
       "</div>"
      ],
      "text/plain": [
       "            Close  Start   High    Low\n",
       "Ndate                                 \n",
       "2018-07-02  10100  10850  10900  10000\n",
       "2018-06-29  10700  10550  10900   9990\n",
       "2018-06-28  10400  10900  10950  10150\n",
       "2018-06-27  10900  10800  11050  10500\n",
       "2018-06-26  10800  10900  11000  10700"
      ]
     },
     "execution_count": 37,
     "metadata": {},
     "output_type": "execute_result"
    }
   ],
   "source": [
    "# Q. Ndate 칼럼을 datetime타입으로 생성하고 인덱스로 셋팅하세요.\n",
    "# 컬럼 선택 : 'Close' 'Start' 'High' 'Low'\n",
    "\n",
    "df['Ndate'] = pd.to_datetime(df.Date)    # 없는 컬럼은 df.Ndate 식으로 안됨\n",
    "df.set_index('Ndate', inplace=True)\n",
    "df1 = df[['Close', 'Start','High','Low']]\n",
    "df1.head()"
   ]
  },
  {
   "cell_type": "code",
   "execution_count": 38,
   "id": "6f47e7ae",
   "metadata": {},
   "outputs": [
    {
     "data": {
      "text/plain": [
       "<AxesSubplot:xlabel='Ndate'>"
      ]
     },
     "execution_count": 38,
     "metadata": {},
     "output_type": "execute_result"
    },
    {
     "data": {
      "image/png": "[encoded data removed]",
      "text/plain": [
       "<Figure size 640x480 with 1 Axes>"
      ]
     },
     "metadata": {},
     "output_type": "display_data"
    }
   ],
   "source": [
    "# 선그래프\n",
    "\n",
    "df1.plot()"
   ]
  },
  {
   "cell_type": "code",
   "execution_count": 40,
   "id": "527c1483",
   "metadata": {},
   "outputs": [
    {
     "data": {
      "text/plain": [
       "<AxesSubplot:xlabel='Ndate'>"
      ]
     },
     "execution_count": 40,
     "metadata": {},
     "output_type": "execute_result"
    },
    {
     "data": {
      "image/png": "[encoded data removed]",
      "text/plain": [
       "<Figure size 640x480 with 1 Axes>"
      ]
     },
     "metadata": {},
     "output_type": "display_data"
    }
   ],
   "source": [
    "# 막대 그래프 : 일별 거래량\n",
    "\n",
    "df.Volume[::-1].plot(kind='bar')"
   ]
  },
  {
   "cell_type": "code",
   "execution_count": 43,
   "id": "8461fe04",
   "metadata": {},
   "outputs": [
    {
     "data": {
      "text/plain": [
       "<AxesSubplot:xlabel='Ndate'>"
      ]
     },
     "execution_count": 43,
     "metadata": {},
     "output_type": "execute_result"
    },
    {
     "data": {
      "image/png": "[encoded data removed]",
      "text/plain": [
       "<Figure size 640x480 with 1 Axes>"
      ]
     },
     "metadata": {},
     "output_type": "display_data"
    }
   ],
   "source": [
    "# 6월만 추출하여 Close 칼럼으로 일별 막대 그래프 표현\n",
    "\n",
    "df1.loc['2018-6','Close'][::-1].plot(kind='bar')"
   ]
  },
  {
   "cell_type": "code",
   "execution_count": 45,
   "id": "56aaa3c9",
   "metadata": {},
   "outputs": [
    {
     "data": {
      "text/plain": [
       "<AxesSubplot:ylabel='Frequency'>"
      ]
     },
     "execution_count": 45,
     "metadata": {},
     "output_type": "execute_result"
    },
    {
     "data": {
      "image/png": "[encoded data removed]",
      "text/plain": [
       "<Figure size 640x480 with 1 Axes>"
      ]
     },
     "metadata": {},
     "output_type": "display_data"
    }
   ],
   "source": [
    "# 히스토그램 : 변수의 도수분포\n",
    "\n",
    "df1.Close.plot(kind='hist', bins=20)    # default bins = 10"
   ]
  },
  {
   "cell_type": "code",
   "execution_count": 46,
   "id": "f37d9d90",
   "metadata": {},
   "outputs": [
    {
     "data": {
      "text/plain": [
       "<AxesSubplot:xlabel='Close', ylabel='Volume'>"
      ]
     },
     "execution_count": 46,
     "metadata": {},
     "output_type": "execute_result"
    },
    {
     "data": {
      "image/png": "[encoded data removed]",
      "text/plain": [
       "<Figure size 640x480 with 1 Axes>"
      ]
     },
     "metadata": {},
     "output_type": "display_data"
    }
   ],
   "source": [
    "# y=ax+b인데, 어떻게 선을 그으면 좋을까. 선형회귀\n",
    "# 선과 점들의 편차의 합을 최소화하는 것을 학습하면서 찾음\n",
    "# 예측과 실제값의 차이가 최소가 되는 것이 예측식의 가중치가 됨\n",
    "\n",
    "df.plot(x='Close', y='Volume', kind='scatter')"
   ]
  },
  {
   "cell_type": "code",
   "execution_count": 47,
   "id": "d2768094",
   "metadata": {},
   "outputs": [
    {
     "data": {
      "text/html": [
       "<div>\n",
       "<style scoped>\n",
       "    .dataframe tbody tr th:only-of-type {\n",
       "        vertical-align: middle;\n",
       "    }\n",
       "\n",
       "    .dataframe tbody tr th {\n",
       "        vertical-align: top;\n",
       "    }\n",
       "\n",
       "    .dataframe thead th {\n",
       "        text-align: right;\n",
       "    }\n",
       "</style>\n",
       "<table border=\"1\" class=\"dataframe\">\n",
       "  <thead>\n",
       "    <tr style=\"text-align: right;\">\n",
       "      <th></th>\n",
       "      <th>Close</th>\n",
       "      <th>Start</th>\n",
       "      <th>High</th>\n",
       "      <th>Low</th>\n",
       "      <th>Volume</th>\n",
       "    </tr>\n",
       "  </thead>\n",
       "  <tbody>\n",
       "    <tr>\n",
       "      <th>Close</th>\n",
       "      <td>1.000000</td>\n",
       "      <td>0.856181</td>\n",
       "      <td>0.941201</td>\n",
       "      <td>0.946297</td>\n",
       "      <td>0.441466</td>\n",
       "    </tr>\n",
       "    <tr>\n",
       "      <th>Start</th>\n",
       "      <td>0.856181</td>\n",
       "      <td>1.000000</td>\n",
       "      <td>0.961009</td>\n",
       "      <td>0.921467</td>\n",
       "      <td>0.337829</td>\n",
       "    </tr>\n",
       "    <tr>\n",
       "      <th>High</th>\n",
       "      <td>0.941201</td>\n",
       "      <td>0.961009</td>\n",
       "      <td>1.000000</td>\n",
       "      <td>0.945487</td>\n",
       "      <td>0.484145</td>\n",
       "    </tr>\n",
       "    <tr>\n",
       "      <th>Low</th>\n",
       "      <td>0.946297</td>\n",
       "      <td>0.921467</td>\n",
       "      <td>0.945487</td>\n",
       "      <td>1.000000</td>\n",
       "      <td>0.246323</td>\n",
       "    </tr>\n",
       "    <tr>\n",
       "      <th>Volume</th>\n",
       "      <td>0.441466</td>\n",
       "      <td>0.337829</td>\n",
       "      <td>0.484145</td>\n",
       "      <td>0.246323</td>\n",
       "      <td>1.000000</td>\n",
       "    </tr>\n",
       "  </tbody>\n",
       "</table>\n",
       "</div>"
      ],
      "text/plain": [
       "           Close     Start      High       Low    Volume\n",
       "Close   1.000000  0.856181  0.941201  0.946297  0.441466\n",
       "Start   0.856181  1.000000  0.961009  0.921467  0.337829\n",
       "High    0.941201  0.961009  1.000000  0.945487  0.484145\n",
       "Low     0.946297  0.921467  0.945487  1.000000  0.246323\n",
       "Volume  0.441466  0.337829  0.484145  0.246323  1.000000"
      ]
     },
     "execution_count": 47,
     "metadata": {},
     "output_type": "execute_result"
    }
   ],
   "source": [
    "# 종가가 변하면 40프로 정도 거래량이 변한다는 의미\n",
    "\n",
    "df.corr()"
   ]
  },
  {
   "cell_type": "code",
   "execution_count": 49,
   "id": "5d2849cb",
   "metadata": {},
   "outputs": [
    {
     "data": {
      "text/plain": [
       "count       20.000000\n",
       "mean     11662.500000\n",
       "std        927.060294\n",
       "min      10100.000000\n",
       "25%      11087.500000\n",
       "50%      11725.000000\n",
       "75%      11962.500000\n",
       "max      13450.000000\n",
       "Name: Close, dtype: float64"
      ]
     },
     "execution_count": 49,
     "metadata": {},
     "output_type": "execute_result"
    }
   ],
   "source": [
    "df.Close.describe()"
   ]
  },
  {
   "cell_type": "code",
   "execution_count": 48,
   "id": "17830aaf",
   "metadata": {},
   "outputs": [
    {
     "data": {
      "text/plain": [
       "<AxesSubplot:>"
      ]
     },
     "execution_count": 48,
     "metadata": {},
     "output_type": "execute_result"
    },
    {
     "data": {
      "image/png": "[encoded data removed]",
      "text/plain": [
       "<Figure size 640x480 with 1 Axes>"
      ]
     },
     "metadata": {},
     "output_type": "display_data"
    }
   ],
   "source": [
    "# box plot\n",
    "# 박스 밑이 1사분위\n",
    "# 박스 위가 3사분위\n",
    "# 2사분위, 중간값? - 녹색 라인\n",
    "# 윗선은 이상치 탐색의 기능 (upper) -> 그 위의 기호가 이상치임\n",
    "\n",
    "df.Close.plot(kind='box')"
   ]
  },
  {
   "cell_type": "markdown",
   "id": "82b90d40",
   "metadata": {},
   "source": [
    "#### Box plot 의미 해석\n",
    "\n",
    "* IQR(Inter Quartile Range): 제 3사분위수 - 제1사분위수\n",
    "* lower whisker: Q1 - 1.5 x IQR 이내인 값중에서 최솟값\n",
    "* upper whisker: Q3 + 1.5 x IQR 이내인 값중에서 최댓값\n",
    "* 이상치: lower whisker, upper whisker를 벗어나는 값"
   ]
  },
  {
   "cell_type": "code",
   "execution_count": 63,
   "id": "2b6cbb17",
   "metadata": {},
   "outputs": [
    {
     "name": "stdout",
     "output_type": "stream",
     "text": [
      "875.0\n"
     ]
    },
    {
     "data": {
      "text/html": [
       "<div>\n",
       "<style scoped>\n",
       "    .dataframe tbody tr th:only-of-type {\n",
       "        vertical-align: middle;\n",
       "    }\n",
       "\n",
       "    .dataframe tbody tr th {\n",
       "        vertical-align: top;\n",
       "    }\n",
       "\n",
       "    .dataframe thead th {\n",
       "        text-align: right;\n",
       "    }\n",
       "</style>\n",
       "<table border=\"1\" class=\"dataframe\">\n",
       "  <thead>\n",
       "    <tr style=\"text-align: right;\">\n",
       "      <th></th>\n",
       "      <th>Date</th>\n",
       "      <th>Close</th>\n",
       "      <th>Start</th>\n",
       "      <th>High</th>\n",
       "      <th>Low</th>\n",
       "      <th>Volume</th>\n",
       "    </tr>\n",
       "    <tr>\n",
       "      <th>Ndate</th>\n",
       "      <th></th>\n",
       "      <th></th>\n",
       "      <th></th>\n",
       "      <th></th>\n",
       "      <th></th>\n",
       "      <th></th>\n",
       "    </tr>\n",
       "  </thead>\n",
       "  <tbody>\n",
       "    <tr>\n",
       "      <th>2018-06-15</th>\n",
       "      <td>2018-06-15</td>\n",
       "      <td>13400</td>\n",
       "      <td>13600</td>\n",
       "      <td>13600</td>\n",
       "      <td>12900</td>\n",
       "      <td>201376</td>\n",
       "    </tr>\n",
       "    <tr>\n",
       "      <th>2018-06-14</th>\n",
       "      <td>2018-06-14</td>\n",
       "      <td>13450</td>\n",
       "      <td>13200</td>\n",
       "      <td>13700</td>\n",
       "      <td>13150</td>\n",
       "      <td>347451</td>\n",
       "    </tr>\n",
       "  </tbody>\n",
       "</table>\n",
       "</div>"
      ],
      "text/plain": [
       "                  Date  Close  Start   High    Low  Volume\n",
       "Ndate                                                     \n",
       "2018-06-15  2018-06-15  13400  13600  13600  12900  201376\n",
       "2018-06-14  2018-06-14  13450  13200  13700  13150  347451"
      ]
     },
     "execution_count": 63,
     "metadata": {},
     "output_type": "execute_result"
    }
   ],
   "source": [
    "Q1 = df.Close.describe()['25%']\n",
    "Q1\n",
    "\n",
    "Q3 = df.Close.describe()['75%']\n",
    "Q3\n",
    "\n",
    "IQR = Q3 - Q1\n",
    "print(IQR)\n",
    "abv = df[(df['Close'] <= (Q1-IQR*1.5)) | (df['Close'] >= (Q3+IQR*1.5))]\n",
    "abv"
   ]
  },
  {
   "cell_type": "code",
   "execution_count": null,
   "id": "b53ebb36",
   "metadata": {},
   "outputs": [],
   "source": [
    "변수 종류?에 따라 상관관계 여부가 의미 있을수도, 없을수도\n",
    "\n",
    "변수\n",
    "연속형 - 상관관계는 여기 속함\n",
    "범주형\n",
    "\n",
    "이산형\n",
    "\n",
    "지금은 연속형 위주로 봐라\n"
   ]
  },
  {
   "cell_type": "code",
   "execution_count": null,
   "id": "5bf2b0b0",
   "metadata": {},
   "outputs": [],
   "source": [
    "04. pandas_전처리 연습\n",
    "\n",
    "titanic에서 데이터 치우침 -> 중앙값과 평균 보고\n",
    "어떻게 범주화하는 것이 좋나?\n",
    "전체 중앙값이냐 평균 기준으로 3개?\n",
    "class가 3개\n",
    "\n",
    "데이터가 많은 fare 100 밑으로 조회해서 그 중앙값이나 평균값 보고 나눔?\n"
   ]
  },
  {
   "cell_type": "code",
   "execution_count": 1,
   "id": "5d62ec7a",
   "metadata": {},
   "outputs": [
    {
     "data": {
      "text/plain": [
       "<matplotlib.legend.Legend at 0x1e315e24c70>"
      ]
     },
     "execution_count": 1,
     "metadata": {},
     "output_type": "execute_result"
    },
    {
     "data": {
      "image/png": "[encoded data removed]",
      "text/plain": [
       "<Figure size 800x600 with 1 Axes>"
      ]
     },
     "metadata": {},
     "output_type": "display_data"
    }
   ],
   "source": [
    "import matplotlib.pyplot as plt\n",
    "\n",
    "x = np.arange(20)\n",
    "y1 = np.arange(20)*2 + np.random.randn(20)*10    # 10을 곱해서 굴곡이 심하다\n",
    "# y1 = np.arange(20)*2\n",
    "y2 = np.arange(20)*2 + np.random.randn(20)\n",
    "plt.figure(figsize=(8,6))\n",
    "plt.plot(x,y1)\n",
    "plt.plot(x,y2,color='magenta', marker='o', markersize=5)\n",
    "plt.xlabel('x',size=20)\n",
    "plt.ylabel('y',size=20)\n",
    "plt.title('Line Graph', size = 30)    # color='blue'\n",
    "plt.legend(['A','B'])"
   ]
  },
  {
   "cell_type": "code",
   "execution_count": null,
   "id": "9456a3f0",
   "metadata": {},
   "outputs": [],
   "source": [
    "통계의 기본 사상은 확률이다\n",
    "\n",
    "모본 - 표본\n",
    "랜점하게 뽑는 이유 -> 그래야 공평함(확률로)\n",
    "\n",
    "샘플이 많아질수록 모집단에 비슷하게 된다\n",
    "\n",
    "정규분포에서 뽑은 표본도 정규분포가 될 확률이 크다 -> 이 전제가 있기 때문에 우리가 할 수 있는 것이다\n",
    "\n",
    "\n",
    "\n",
    "# 샘플 수의 변화에 따른 분포 모습\n",
    "\n",
    "fig,axes = plt.subplots(2,3,figsize=(20,10))\n",
    "axes[0,0].hist(np.random.randn(100),bins=50)\n",
    "axes[0,1].hist(np.random.randn(1000),bins=50)\n",
    "axes[0,2].hist(np.random.randn(10000),bins=50)\n",
    "axes[1,0].hist(np.random.randn(100000),bins=50)\n",
    "axes[1,1].hist(np.random.randn(1000000),bins=50)\n",
    "axes[1,2].hist(np.random.randn(10000000),bins=50)"
   ]
  },
  {
   "cell_type": "markdown",
   "id": "0337da64",
   "metadata": {},
   "source": [
    "# boolean indexing\n",
    "- 데이터 타입과는 무관하게, boolean indexing에서는 or 대신 |를 사용해야 합니다. or는 파이썬에서 조건문에서 사용하는 예약어이며, 파이썬의 경우 불리언 연산자인 or는 두 개 이상의 불리언 값을 비교하기 위한 것이며, pandas에서는 불리언 값을 필터링하는 데 사용되는 |와 & 연산자를 지원합니다. 따라서, pandas에서는 |와 &를 사용하여 boolean indexing을 수행하는 것이 올바른 방법입니다."
   ]
  },
  {
   "cell_type": "code",
   "execution_count": null,
   "id": "515ae0f8",
   "metadata": {},
   "outputs": [],
   "source": [
    "titanic 과제\n",
    "cabin - deck위치 중요한데, null값이 많음\n",
    "그렇다면 유의미한 결과 도출해내기 어려운가?\n",
    "\n",
    "목적 - 생존률 예측 프로그램\n"
   ]
  }
 ],
 "metadata": {
  "kernelspec": {
   "display_name": "Python 3 (ipykernel)",
   "language": "python",
   "name": "python3"
  },
  "language_info": {
   "codemirror_mode": {
    "name": "ipython",
    "version": 3
   },
   "file_extension": ".py",
   "mimetype": "text/x-python",
   "name": "python",
   "nbconvert_exporter": "python",
   "pygments_lexer": "ipython3",
   "version": "3.9.13"
  }
 },
 "nbformat": 4,
 "nbformat_minor": 5
}
