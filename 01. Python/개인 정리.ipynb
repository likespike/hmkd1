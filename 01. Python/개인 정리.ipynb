{
 "cells": [
  {
   "cell_type": "markdown",
   "id": "9ada09a7",
   "metadata": {
    "id": "9ada09a7"
   },
   "source": [
    "프로그래밍도 언어다. - 단어, 문법, 정의 등 알아야 함\n",
    "\n",
    "program = pro + gram (미리 + 작성된 것)\n",
    "프로그램 = 진행 계획이나 순서\n",
    "즉, 미리 작성된 진행 계획\n",
    "컴퓨터 프로그램 - 컴퓨터가 무엇을 해야 할지 미리 작성한 진행 계획\n",
    "ex> 카톡 친구 지정 - 메시지 입력 - 전송 버튼 (프로그램이 작성되어 있기 때문에 가능함)\n",
    "programing\n",
    "코드 실행기(=번역기) - 사람의 언어 -> 컴퓨터 언어\n",
    "Shell - 운영 체제 상에서 다양한 운영 체제 기능과 서비스를 구현하는 인터페이스를 제공하는 프로그램\n",
    "\n",
    "이진 코드 - 이진 숫자로 이루어진 코드 (사람에게 너무 어려움)\n",
    "programming language - 사람이 이해하기 쉬운 언어로 만ㄴ든 언어\n",
    "source code - 프로그래밍 언어로 작성한 프로그램\n",
    "\n",
    "파이썬의 장점과 단점\n",
    "장점\n",
    "프로그래밍 언어에 우위는 없다. 그러나\n",
    "파이썬은 대부분의 운영체제에서 동일한 방법으로 사용할 수 있다\n",
    "\n",
    "단점\n",
    "느리다 (C언어보다 10~350배 정도)\n",
    "그래서 거대 프로그램이나 게임 등을 C, C++, C# 등을 씀\n",
    "그러나 최근에는 컴퓨터 성능이 너무 좋아져서 게임 등이 아니라면 속도 차이 많이 못 느낌다\n",
    "머신러닝, 딥러닝처럼 고정적인 연산을 많이 하는 프로그램은 전체적인 프로그램을 파이썬으로 만들고, 고정적인 연산 부분만 C 언어로 만들어 활용하기도 한다.\n",
    "\n",
    "준비 사항\n",
    "텍스트 에디터 - 코드 입력\n",
    "파이썬 인터프리터 - 파이썬 코드를 실행할 수 있는 코드 실행기\n",
    "설치치 반드시 Add_Python 3.10 to PATH에 체크할 것!\n",
    "\n",
    "파이썬 인터렉티브 쉘 (대화형 쉘 - 간단히 실행 결과 확인할 때 씀 -> 주로 텍스트 에디터 씀)\n",
    "Python 3.10(ㅇㅇbit) 프로그램 실행 or cmd에서 python 입력\n",
    "\n",
    "문제들 중 하나 해결 방법\n",
    "원도우 10 사용자라면 작업 표시줄 시작 아이콘을 클릭한 후 톱니바뀌 모양의 [설정] \n",
    "python 입력했을 때 버전이 2로 나오면 python 3로 사용해라\n",
    "\n",
    "텍스트 에디터\n",
    "기본 통합 개발 환경(IDE - Intergrated Development Enviroment) 제공해줌 - 급할 때 쓰라\n",
    "인터렉티브 쉘 기능 제공함\n",
    "긴 코드 작성시 -> New File 만들어서 하기 (.py, .pyw, .pyl)\n",
    "폴더명은 한글이나 공백 사용하지 않는게 좋다 (에러 유발 가능성 있음)\n",
    "\n",
    "개발전용폰트 설정하기 (D2Coding)\n",
    "가독성 좋다. 간격도 통일된다.\n",
    "쥬피터 노트 폰트 설정 - 구글링\n",
    "\n",
    "VSC에 파이썬 코드 실행기는 없다. 텍스트 에디터만 있음 (Sublime Text, Atom, ...)\n",
    "작성 후 코드 입력하고 파이썬 파일 형태로 저장하면, VSC가 파이썬 문법에 맞게 알아서 텍스트 색상 등을 구분해 준다.\n",
    "\n",
    "권장 Extensions 설치하는게 좋다\n",
    "자동 완성 기능\n",
    "실행 중에 변수의 값 볼 수 있음\n",
    "문제 발생 시 버그 발견 용이\n",
    "\n",
    "윈도우 터미널 -> explorer . (GUI 폴더로 보여줌)\n",
    "폴더에서 -> shift + 마우스 우클릭 - PowerShell 선택\n",
    "\n",
    "용어들\n",
    "\n",
    "문장 (statement)\n",
    "실행할 수 있는 코드의 최소 단위\n",
    "엔터 쳐서 정상적으로 실행되면 문장\n",
    "10도 문장\n",
    "그냥 Enter를 쳐도 문장 - null statement\n",
    "\n",
    "10 + 20\n",
    "10\n",
    "print(\"Python Programming\")\n",
    "\n",
    "복합 문장\n",
    "if True:\n",
    "... pass\n",
    "...\n",
    "\n",
    "표현식(단어들) (expression)\n",
    "어떠한 값들을 만들어 내는 간단한 코드\n",
    "코드 - 설계도\n",
    "숫자 273\n",
    "수식 10 + 20 + 30 *10\n",
    "\"Python Programming\"\n",
    "+ or - 자체는 어떠한 값들을 만들어낼 수 없기 때문에 표현식이 아니다\n",
    "\n",
    "키워드 (keyword)\n",
    "특별한 의미가 부여된 단어, 파이썬이 예약해 놓은 단어 (아래 코드로 알 수 있음) - 현재 36개\n",
    "import keyword\n",
    "print(keyword.kwlist)\n",
    "(jupyter notebook에서 키워드는 녹색으로 표시됨)\n",
    "\n",
    "식별자 (identifier)\n",
    "프로그래밍 언어에서 이름을 붙일 때 사용하는 단어\n",
    "주로 변수 또는 함수 이름 등으로 사용됨\n",
    "\n",
    "규칙이 있음\n",
    "키워드는 사용 금지\n",
    "특수 문자 사용 금지 (_ 언더 바만 사용 가능 - _alpha)\n",
    "숫자로 시작하면 안됨\n",
    "공백 금지\n",
    "\n",
    "권장 사항\n",
    "알파벳 사용 권장\n",
    "의미 있는 단어 권장\n",
    "(엄청나게 많은 식별자를 사용하니까)\n",
    "\n",
    "snake case\n",
    "camel case - 엄밀히 말하면 첫 글자 대문자는 pascal case이지만 파이썬에서는 쓰지 않고, pascal case를 camel case로 쓰는 이유가 있다.\n",
    "첫 글자가 소문자이면 무조건 snake case임을 알 수 있음 -> 괄호 여부에 따라 변수나 함수임\n",
    "첫 글자가 대문자라면 camel case임을 알 수 있음 -> 클래스임\n",
    "(물론 약간의 예외가 있지만, 대부분의 경우는 이렇게 이해해도 문제 없음)\n",
    "\n",
    "BeautifulSoup() - 식별자가 클래스이지만 클래스 생성자라고 부르는 특이한 형태의 함수이다(뒤에 배움)\n",
    "\n",
    "연산자\n",
    "스스로 값이 되는 것은 아니고 값과 값 사이에 무언가 기능을 적용할 때 사용하는 것\n",
    "다른 값과 연결되어 어떤 결과를 만드는 것\n",
    "\n",
    "자료 (=literal)\n",
    "값 자체 - 1 10 \"Hello\"\n",
    "어떤 상태를 가지고 있는것 -> 함수는 어떤 처리를 하는 것\n",
    "\n",
    "리터럴 < 표현식 < 문장\n",
    "리터럴로 값을 만들어서 표현식이 되는거고, 그 표현식이 실행이 되니까 문장이다.\n",
    "\n",
    "리터럴로 값을 만드는 경우 - 10\n",
    "식별자로 값을 만드는 경우 - a = 1.13\n",
    "\n",
    "출력\n",
    "print(출력1, 출력2, ...)\n",
    "출력문들은 공백을 두고 출력된다\n",
    "\n",
    "함수 맛보기\n",
    "prin() - 빈 줄을 출력함\n",
    "() 안에는 자료가 들어감\n",
    "\n",
    "print()쓰는 이유\n",
    "인터랙티브 쉘로 간단한 표현식의 출력을 확인하긴 하지만,\n",
    "긴 코드들을 파일로 만드는데, 출력을 하려면 반드시 print() 써야함\n",
    "\n",
    "# Ch2. 자료형\n",
    "자료(data) - 프로그래밍에서는 프로그램이 처리할 수 있는 모든 것\n",
    "프로그램 - 자료를 처리하는 역할\n",
    "\n",
    "자료형 (data type)\n",
    "개발자들이 쉽게 사용할 수 있도록 기능과 역할에 따라서 자료를 구분해 놓은 것\n",
    "\n",
    "기본자료형\n",
    "가볍고 정형화된 자료형\n",
    "스택 - 파이썬은 작은 상자에 기본 자료형을 저장하며 이를 쌓아서 모아둔다.\n",
    "문자열 string (메일 제목, 메시지 내용 등)\n",
    "숫자 number (물건의 가격, 학생의 성적 등)\n",
    "불 boolean (친구의 로그인 상태 등)\n",
    "\n",
    "복합자료형 (=아마 객체 자료형?)\n",
    "기본 자료형이 복합적으로 섞여 있는 것, 몸집이 크다\n",
    "무겁고 크기가 정형화되어 있지 않음\n",
    "힙(heap) - 파이썬은 이를 거대한 창고에 넣어둠\n",
    "스택에 이 자료를 넣어둔 위치를 기록해줌 (ex> 1번 선반에 위치)\n",
    "\n",
    "\n",
    "\n",
    "자료의 형식을 확인하는 함수\n",
    "type()\n",
    "print(type(\"안녕하세요\"))\n",
    "\n",
    "str=string / int=integer\n",
    "\n",
    "문자열\n",
    "정의 - 문자의 나열 - 그럼 문자는?\n",
    "\n",
    "문자열 만들기\n",
    "\"문자\" '문자' \"\"\"문자\"\"\" '''문자''' \"'문자'문\" '\"문자\"문'\n",
    "\n",
    "print(\"\"안녕하세요\"라고 말했습니다\") (X) - 이러면 파이썬은 \"\"과 \"라고 말했습니다\"는 2개의 문자열 나열로 인식한다\n",
    "\n",
    "이스케이프 문자 (escape character)\n",
    "문자열 내부에서 특수한 기능을 수행하는 문자열\n",
    "어떤 정해진 규격을 탈출한 특수한 문자열\n",
    "\\\"나  \\'를 사용하면 \" '신경 안쓰고 사용할 수 있음\n",
    "\\n - 줄바꿈\n",
    "\\t - 탭\n",
    "\\\\ - \\\n",
    "print(\"\\\\ \\\\ \\\\ \\\\\") -> \\ \\ \\ \\으로 출력됨\n",
    "\n",
    "여러줄 문자열\n",
    "\"\"\" \"\"\" 또는 ''' ''' (enter까지 다 적용됨)\n",
    "\n",
    "코드 깔끔하게 보이기 위한 응용\n",
    "print(\"\"\"\\\n",
    "동해물과~\n",
    "하느님이~\n",
    "무궁화~\n",
    "대한으로~\\\n",
    "\"\"\")\n",
    "(이렇게 하면 해당 줄바꿈 무시) - \\없을 때는 맨 위와 아래에 한 줄씩 들어감\n",
    "\n",
    "print\\\n",
    "(1,2,3)\n",
    "이건 print(1,2,3)으로 파이썬이 인식한다\n",
    "\n",
    "pr\\\n",
    "int(1,2,3)\n",
    "이건 안된다. 컴파일러 배울 때 나오는데, 토큰을 끊어서는 안되기 때문이다\n",
    "\n",
    "문자열 연산자 (+ * [] \n",
    "연산자는 특정 자료형에 종속된다\n",
    "각각의 자료는 사용할 수 있는 연산자가 정해져 있다\n",
    "각각의 자료에는 그에 맞는 연산자가 있다\n",
    "숫자에는 숫자에만 적용할 수 있는 연산자가 있고, 문자여에는 문자열에만 적용할 수 있는 연산자가 있다.\n",
    "연산자는 단어일 수도 있다 (수학의 log와 같이, or, and 등)\n",
    "연산자는 다양한 위치에 붙을 수 있다\n",
    "\n",
    "문자열 연결 연산자 +\n",
    "print(\"안녕하세요\" + 1) -> TypeError: can only concatenate str (not \"int) to str\n",
    "print(\"안녕하세요\" + \"1\") -> 문자로 인식시키면 가능 (str + str이 됨으로)\n",
    "\n",
    "문자열 반복 연산자 *\n",
    "print(\"a\"*3) -> 3*\"a\"도 된다\n",
    "\n",
    "문자 선택 연산자 []  - 인덱싱(indexing)\n",
    "인덱스 - 위치를 나타내는 숫자\n",
    "문자열 내부의 문자 하나를 선택하는 연산자\n",
    "프로그래밍 언어의 인덱스 유형 - zero index / one index (파이썬은 zero index)\n",
    "print(\"안녕하세요\"[0]) -> 안\n",
    "print(\"안녕하세요\"[-1]) -> 요\n",
    "(0번째가 '안'이니까 -1하면 외쪽으로, 뒤로 돌아가서 '요'가 -1이 됨)\n",
    "\n",
    "[:] 문자 선택 연산자(슬라이싱)\n",
    "프로그래밍 언어에 따라 두 가지인데, 파이썬은 범위의 마지막 숫자를 포함하지 않는다\n",
    "\n",
    "a='안녕하세요'\n",
    "print(a[-1::-1]) -> 요세하녕안\n",
    "\n",
    "print(\"안녕하세요\"[-1::-1]) -> 요세하녕안\n",
    "\n",
    "[숫자::숫자:숫자] = [인덱스:인덱스:스텝]\n",
    "\n",
    "즉,\n",
    "문자열 하나만 선택하는 연산자 - 인덱스\n",
    "문자열 두개 이상 선택하는 연산자 - 슬라이싱\n",
    "\n",
    "인덱스 관련 에러 - 범위 벗어났을 때\n",
    "pyshell#2 or IndexError: string index out of range\n",
    "(중요한건 슬라이싱 때는 에러 없다! - print(\"안녕하세요\"[1:100])\n",
    "\n",
    "\n",
    "# 문자열과 관련된 연산자는 리스트에도 적용할 수 있다\n",
    "\n",
    "\n",
    "문자열의 길이 구하기\n",
    "len()\n",
    "print(len(\"안녕하세요\"))\n",
    "갯수는 5개이고, 인덱싱은 0~4번까지 있는 것이다\n",
    "(왜 이딴 식으로 만들었나?! 나중에 반복문 등 다루고 코드 다루다 보면 이게 편하다는 것을 알게 됨) - 물론 만든 사람이 이렇게 만들어서 그렇다. 또 프로그램마다 다르긴 하지만\n",
    "\n",
    "print(len(\"안녕하세요\")) - 함수는 이중으로 사용 가능, 중복\n",
    "\n",
    "\n",
    "숫자\n",
    "수를 나타내는 글자\n",
    "\n",
    "정수형(integer) - 소수점이 없는 숫자 0\n",
    "실수형(floating point) - 소수점이 있는 숫자 0.0 (부동소수점 = 소수점이 움직이는, 부유하는 숫자)\n",
    "52.273 = 0.52273x10의2승이나 같음\n",
    "\n",
    "\n",
    "숫자 연산자\n",
    "\n",
    "사칙 연산자 + - * /\n",
    "print(\"5 + 7 =\", 5+7)\n",
    "5 + 7 = 12\n",
    "\n",
    "정수 나누기 연산자 (몫) //\n",
    "연산자 중에 /이 나눴을 때, 실수로 값이 나온다\n",
    "10 / 10 -> 1.0이 반환됨 (10/4야 당연히 2.5이지만)\n",
    "그래서 나눗셈 결과가 정수로 나오는 연산자 만듦\n",
    "3/2 = 1.5이지만 3//2 = 1임(부동소수점 내림으로 잘라버림)\n",
    "(참고 10.3 // 3.0 -> 3.0 나옴)\n",
    "\n",
    "\n",
    "나머지 연산자 (나머지) %\n",
    "\n",
    "제곱 연산자 **\n",
    "\n",
    "* 정수와 부동소수점 끼리는 부동 소수점을 살리는 방향에서 값이 반환된다\n",
    "* 문자열 + 숫자는 불가능 (예외는 \"문자\"*3 경우만) - 문자열은 문자열 연결 연산자 쓰려 하고, 숫자는 덧셈 연산자를 쓰려 하는 꼴\n",
    "\n",
    "0.1 + 0.2 -> 0.30000000000000004 나온, 컴퓨터의 한계임 -> 0.1 + 0.2 == 0.3이 False가 됨\n",
    "그래서 우주 계산 같은 정확한 계산에는 쓰면 안된다. 수학용 프로그래밍 언어를 쓰던가(별도의 도구나 라이브러리)\n",
    "(0.1 + 0.2) - 0.3 < 0.001 이런식으로 사용하게 된다 (나중에 설명)\n",
    "\n",
    "()도 하나의 연산자로 계산이 먼저 일어나게 기능한다\n",
    "항상 써주는게 좋다. 식별, 가독성 차원에서\n",
    "2 + (2 * 2)\n",
    "\n",
    "제곱근(루트) 연산자\n",
    "\n",
    "루트 4 = 2\n",
    "4 ** (1/2) = 2.0\n",
    "8 ** (1/3) = 2.0\n",
    "16 ** (1/4) = 2.0\n",
    "\n",
    "\n",
    "\n"
   ]
  },
  {
   "cell_type": "markdown",
   "id": "sIcNqzwfaWV0",
   "metadata": {
    "id": "sIcNqzwfaWV0"
   },
   "source": []
  },
  {
   "cell_type": "markdown",
   "id": "p70DeZvBaWfh",
   "metadata": {
    "id": "p70DeZvBaWfh"
   },
   "source": []
  },
  {
   "cell_type": "markdown",
   "id": "6uEh8PXraWmP",
   "metadata": {
    "id": "6uEh8PXraWmP"
   },
   "source": []
  },
  {
   "cell_type": "markdown",
   "id": "ZBK9Nwh1aWsk",
   "metadata": {
    "id": "ZBK9Nwh1aWsk"
   },
   "source": [
    "# Chapter 02 자료형\n",
    "## 02-3 변수와 입력\n",
    "* 변수란?\n",
    "  * 변할 수 있는 자료 (숫자 뿐만 아니라 모든 자료형 의미함)\n",
    "  * 값을 저장할 때 사용하는 식별자\n",
    "\n",
    "* 특징\n",
    "  * 변수에는 모든 자료형의 값을 저장할 수 있음\n",
    "\n",
    "* 관련 용어\n",
    "  * 정의(define) = 선언, 생성\n",
    "    * 변수 이름 적는 것\n",
    "    * 변수 생성 자체가 사용하겠다고 선언하는 것\n",
    "    * 파이썬은 유연하여 C나 JAVA처럼 변수의 자료형 선언을 미리 안해도 된다. 하지만 그렇기에 오히려 하나의 변수에 하나의 자료형을 사용하는 것이 좋기는 하다\n",
    "\n",
    "  * 할당(assign)\n",
    "   * 좌우변이 같다는게 아니라 우변의 값을 좌변에 넣겠다, 할당하겠다는 의미임)\n",
    "   * 파이썬은 정의와 할당이 동시에 일어난다\n",
    "  * 참조(reference) = 변수 안에 들어 있는 값을 쓰겠다는 의미\n",
    "\n",
    "* 복합 대입 연산자\n",
    "  * 변수는 내부에 들어 있는 자료의 연산자를 사용할 수 있음\n",
    "  * 더 나아가 복합 대입 연산자 사용 가능함\n",
    "   * += -= *= /= %= **=\n",
    "  * 복합 연산은 string도 가능하다\n",
    "\n",
    "```\n",
    "string = \"안녕하세요\"\n",
    "string += \"!\"\n",
    "string += \"!\"\n",
    "print(\"string:\", string)\n",
    "\n",
    "string: 안녕하세요!!\n",
    "```\n",
    "\n",
    "* 사용자 입력: input()\n",
    "  * input(\"프롬프트 문자열\")\n",
    "  * 프롬프트 문자열 - 입력을 요청하는 문자열\n",
    "  * 이러면 잠시 대기 상태가 되는데, 이를 block이라고 한다 (사용자 입력 기다리는 중)\n",
    "  * 입력한 내용 -> input 함수의 결과 -> 다른 변수에 대입해서 사용 가능\n",
    "  * 리턴값 - 함수의 결과로 나오는 값(후에 함수에서 보겠지만, input()도 함수이기에 같음\n",
    "```\n",
    "string = input(\"인사말을 입력하세요>\")\n",
    "print(string)\n",
    "안녕하세요\n",
    "```\n",
    "\n",
    "* input() 함수의 입력 자료형\n",
    "  * 숫자도 bool값도 다 문자열로 반환한다!\n",
    "\n",
    "number = input(\"숫자를 입력하세요>\")\n",
    "print(type(number))\n",
    "<class 'str'>\n",
    "\n",
    "그래서 인풋값으로 숫자를 입력해도 문자열이기에, 숫자와 연산하려 하면 에러 발생함\n",
    "\n",
    "문자열을 숫자로 바꾸기 (cast)\n",
    "int() 함수 - 문자열을 int 자료형으로 변환함\n",
    "float() 함수 - 문자열을 float 자료형으로 변환함\n",
    "\n",
    "숫자를 문자열로 바꾸기\n",
    "첫 번째 방법 - str(52)\n",
    "두 번째 방법 - format()함수\n",
    "\n",
    "https://pythontutor.com\n",
    "\n",
    "\n",
    "모듈 안에는 많은 변수와 함수가 들어있다.\n",
    "import 모듈\n",
    "\n",
    "from 모듈 이름 import 가지져오고 싶은 변수 또는 함수\n",
    "from math import * (그러나 식별자와 충돌할 수 있으니 필요한 것만 가지고 오자)\n",
    "\n",
    "import numpy as np\n",
    "\n",
    "\n",
    "패키지>모듈>클래스>함수>변수\n",
    "라이브러리=패키지>클래스>모듈>함수>변수\n",
    "\n",
    "리스트와 딕셔너리는 반복문에서 사용하기 좋다. 자료의 모음이기 때문에\n",
    "\n",
    "반복할 수 있는 것 - 문자열, 리스트, 딕셔너리, 범위\n",
    "\n",
    "리스트 - 인덱스를 기반으로 값을 저장하는 것\n",
    "딕셔너리 - 키를 기반으로 값을 저장하는 것\n",
    "딕셔너리에는 리스트와 딕셔너리를 값으로 넣을 수도 있다\n",
    "정의는 {}여도 접근법은 리스트와 동일하게 []임\n",
    "\n"
   ]
  },
  {
   "cell_type": "markdown",
   "id": "lcVsILRDaW2r",
   "metadata": {
    "id": "lcVsILRDaW2r"
   },
   "source": []
  },
  {
   "cell_type": "markdown",
   "id": "3-C4y4WNwdB7",
   "metadata": {
    "id": "3-C4y4WNwdB7"
   },
   "source": [
    "# 02-4 숫자와 문자열의 다양한 기능\n",
    "\n",
    "문자열의 format() 함수\n",
    "숫자를 문자열로 변환\n",
    "문자열이 가지고 있는 함수이다\n",
    "중괄화{}를 포함한 문자열 뒤에 마침표(.)를 찍고 사용\n",
    "이때 중괄호의 개수화 format 함수 괄호 안 매개변수의 개수는 같아야 함\n",
    "\"{} {}\".format(10, 20)\n",
    "string_a = \"{}.format(10)\n",
    "\n",
    "format_d=\"{} {} {}\".format(1, \"문자열\", True)\n",
    "사실 이처럼 숫자 이외의 자료형도 들어갈 수 있음\n",
    "\n",
    "IndexError: tuple index out of range\n",
    "\"{} {}\".format(1, 2, 3, 4, 5) - 이건 오류 안남, 남는건 버려짐\n",
    "\"{} {} {}\".format(1,0) - 에러남"
   ]
  },
  {
   "cell_type": "code",
   "execution_count": null,
   "id": "mKYdjDDfaDcT",
   "metadata": {
    "colab": {
     "base_uri": "https://localhost:8080/"
    },
    "executionInfo": {
     "elapsed": 318,
     "status": "ok",
     "timestamp": 1678371152979,
     "user": {
      "displayName": "박주경",
      "userId": "06694313831384541311"
     },
     "user_tz": -540
    },
    "id": "mKYdjDDfaDcT",
    "outputId": "02a61213-c1c3-4d20-bf57-c1ea3d414ffe"
   },
   "outputs": [
    {
     "name": "stdout",
     "output_type": "stream",
     "text": [
      "52\n",
      "52\n",
      "-52\n",
      "   52\n",
      "        52\n",
      "00052\n",
      "-0052\n",
      "\n",
      "\n",
      "+52\n",
      "-52\n",
      " 52\n",
      "-52\n",
      "\n",
      "\n",
      "  +52\n",
      "  -52\n",
      "+  52\n",
      "-  52\n",
      "+++52\n",
      "-++52\n",
      "+0052\n",
      "-0052\n"
     ]
    }
   ],
   "source": [
    "# format() 함수의 다양한 기능 - 정수 출력의 다양한 형태\n",
    "output_a = \"{:d}\".format(52) # 기본, 이때 매개변수로 정수만 올 수 있음 (+52해도 + 안 나옴)\n",
    "output_a1 = \"{:d}\".format(+52) # 기본, 이때 매개변수로 정수만 올 수 있음\n",
    "output_a2 = \"{:d}\".format(-52) # 기본, 이때 매개변수로 정수만 올 수 있음\n",
    "output_b = \"{:5d}\".format(52) # 특정 칸에 출력하기\n",
    "output_c = \"{:10d}\".format(52) # 특정 칸에 출력하기\n",
    "output_d = \"{:05d}\".format(52) # 위와 비슷한데, 빈 칸은 0으로 채우기\n",
    "output_e = \"{:05d}\".format(-52) # 음수 경우는 맨 앞자리를 -로 채우고 나머지를 0으로 채움, 여기서 05는 5가 아니라, 0을 채우는 것 + 5의 의미임\n",
    "print(output_a)\n",
    "print(output_a1)\n",
    "print(output_a2)\n",
    "print(output_b)\n",
    "print(output_c)\n",
    "print(output_d)\n",
    "print(output_e)\n",
    "print()\n",
    "print()\n",
    "\n",
    "output_f = \"{:+d}\".format(52) # 양수나 음수 기호 표시하기 (+ 안 넣어도 + 나옴)\n",
    "output_g = \"{:+d}\".format(-52) # 양수나 음수 기호 표시하기\n",
    "output_h = \"{: d}\".format(52) # 함수에 입력한 기호가 표시됨 (+를 넣어도 안 나옴ㅜㅜ)\n",
    "output_i = \"{: d}\".format(-52) # 함수에 입력한 기호가 표시됨\n",
    "print(output_f)\n",
    "print(output_g)\n",
    "print(output_h)\n",
    "print(output_i)\n",
    "print()\n",
    "print()\n",
    "\n",
    "# 기호와 공백의 조합\n",
    "output_j = \"{:+5d}\".format(52) # 기호를 뒤로 밀기: 양수\n",
    "output_k = \"{:+5d}\".format(-52) # 기호를 뒤로 밀기: 음수\n",
    "output_l = \"{:=+5d}\".format(52) # 기호를 아픙로 밀기: 양수\n",
    "output_m = \"{:=+5d}\".format(-52) # 기호를 아픙로 밀기: 음수\n",
    "output_l_1 = \"{:+=5d}\".format(52) # 이상한 모양\n",
    "output_m_1 = \"{:+=5d}\".format(-52) # 이상한 모양\n",
    "output_n = \"{:+05d}\".format(52) # 0으로 채우기: 양수\n",
    "output_o = \"{:+05d}\".format(-52) # 0으로 채우기: 음수\n",
    "\n",
    "print(output_j)\n",
    "print(output_k)\n",
    "print(output_l)\n",
    "print(output_m)\n",
    "print(output_l_1)\n",
    "print(output_m_1)\n",
    "print(output_n)\n",
    "print(output_o)"
   ]
  },
  {
   "cell_type": "code",
   "execution_count": null,
   "id": "6dd6zzyQt3dK",
   "metadata": {
    "id": "6dd6zzyQt3dK"
   },
   "outputs": [],
   "source": [
    "# format() 함수의 다양한 기능 - 부동 소수점 출력의 다양한 형태"
   ]
  },
  {
   "cell_type": "code",
   "execution_count": null,
   "id": "-hFiJihVuKaF",
   "metadata": {
    "id": "-hFiJihVuKaF"
   },
   "outputs": [],
   "source": [
    "# format() 함수의 다양한 기능 - 의미 없는 소수점 제거하기"
   ]
  },
  {
   "cell_type": "code",
   "execution_count": null,
   "id": "8rGx1-lZuKd8",
   "metadata": {
    "id": "8rGx1-lZuKd8"
   },
   "outputs": [],
   "source": [
    "# 대소문자 바꾸기: upper()와 lower()"
   ]
  },
  {
   "cell_type": "code",
   "execution_count": null,
   "id": "gBoJ9GvhuzKV",
   "metadata": {
    "id": "gBoJ9GvhuzKV"
   },
   "outputs": [],
   "source": [
    "# 문자열 양옆의 공백 제거하기: strip()"
   ]
  },
  {
   "cell_type": "code",
   "execution_count": null,
   "id": "o_MAzWbBwsOB",
   "metadata": {
    "id": "o_MAzWbBwsOB"
   },
   "outputs": [],
   "source": [
    "# 문자열의 구성 파악하기: isㅇㅇ()"
   ]
  },
  {
   "cell_type": "code",
   "execution_count": null,
   "id": "to9OoIWFwzzZ",
   "metadata": {
    "id": "to9OoIWFwzzZ"
   },
   "outputs": [],
   "source": [
    "# 문자열 찾기: find()와 rfind()"
   ]
  },
  {
   "cell_type": "code",
   "execution_count": null,
   "id": "CKrMKRb2w_W-",
   "metadata": {
    "id": "CKrMKRb2w_W-"
   },
   "outputs": [],
   "source": [
    "# 문자열과 in 연산자\n"
   ]
  },
  {
   "cell_type": "code",
   "execution_count": null,
   "id": "wSS-myfFxTO2",
   "metadata": {
    "id": "wSS-myfFxTO2"
   },
   "outputs": [],
   "source": [
    "# 문자열 자르기: split()\n",
    "# 문자열을 특정한 문자로 자를 때 사용\n",
    "# 실행 결과로 list가 나옴"
   ]
  },
  {
   "cell_type": "code",
   "execution_count": null,
   "id": "rn2Yt3EAy_OA",
   "metadata": {
    "colab": {
     "base_uri": "https://localhost:8080/",
     "height": 36
    },
    "executionInfo": {
     "elapsed": 544,
     "status": "ok",
     "timestamp": 1678372980854,
     "user": {
      "displayName": "박주경",
      "userId": "06694313831384541311"
     },
     "user_tz": -540
    },
    "id": "rn2Yt3EAy_OA",
    "outputId": "019787ba-1e5a-40f4-d073-46ae7ba18ed6"
   },
   "outputs": [
    {
     "data": {
      "text/plain": [
       "'1+2=3\\n2+3=5\\n3+4=7'"
      ]
     },
     "execution_count": 4,
     "metadata": {},
     "output_type": "execute_result"
    }
   ],
   "source": [
    "# 숫자를 문자열로 바꾸는 방법의 간소화: f-문자열\n",
    "# str() -> .format() -> f'문자열{표현식}문자열'\n",
    "# 데이터를 리스트에 담아 사용할 때는 f-문자열보다 format() 함수가 더 효율이 좋다\n",
    "\n",
    "\"{}\".format(10)\n",
    "f'{10}'\n",
    "\n",
    "f\"\"\"1+2={1+2}\n",
    "2+3={2+3}\n",
    "3+4={3+4}\"\"\"\n",
    "\n"
   ]
  },
  {
   "cell_type": "markdown",
   "id": "9bcTB-RZvyhK",
   "metadata": {
    "id": "9bcTB-RZvyhK"
   },
   "source": [
    "# Chapter 3\n",
    "03-1 불 자료형화 if 조건문\n"
   ]
  },
  {
   "cell_type": "code",
   "execution_count": 12,
   "id": "X8hrdmJgvu9s",
   "metadata": {
    "colab": {
     "base_uri": "https://localhost:8080/"
    },
    "executionInfo": {
     "elapsed": 2,
     "status": "ok",
     "timestamp": 1678506465206,
     "user": {
      "displayName": "박주경",
      "userId": "06694313831384541311"
     },
     "user_tz": -540
    },
    "id": "X8hrdmJgvu9s",
    "outputId": "261f8f01-18a2-4e14-cd30-66de1e1e3f95"
   },
   "outputs": [
    {
     "name": "stdout",
     "output_type": "stream",
     "text": [
      "True\n",
      "False\n",
      "\n",
      "True\n",
      "False\n",
      "\n",
      "True\n",
      "False\n"
     ]
    }
   ],
   "source": [
    "# boolean\n",
    "# 6개의 비교 연산자 사용\n",
    "# 3개의 논리 연산자 사용 - not and or (단항, 이항, 이항)\n",
    "# 문자열에도 적용 가능 (영어의 경우 사전순)\n",
    "# 연속 사용 가능\n",
    "# = 할당 연산자와 == 비교 연산자 헷갈리지 말 것\n",
    "\n",
    "print(\"apple\" < \"banana\")\n",
    "print(10 < 20 > 30)\n",
    "print()\n",
    "\n",
    "print(\"1020\".isalnum())\n",
    "print(not \"1020\".isalnum())\n",
    "print()\n",
    "\n",
    "print(not 0)\n",
    "print(not 1)"
   ]
  },
  {
   "cell_type": "code",
   "execution_count": null,
   "id": "Rcw_hm8R0no6",
   "metadata": {
    "id": "Rcw_hm8R0no6"
   },
   "outputs": [],
   "source": [
    "# if 조건문\n",
    "# 조건이 True일 때만 들여쓰기 안쪽의 문장을 실행\n",
    "\n",
    "if True:\n",
    "  print(\"True입니다!\")\n",
    "\n",
    "if False:\n",
    "  print(\"False입니다!\")"
   ]
  },
  {
   "cell_type": "code",
   "execution_count": 35,
   "id": "Eo3tiA4l1XyY",
   "metadata": {
    "colab": {
     "base_uri": "https://localhost:8080/"
    },
    "executionInfo": {
     "elapsed": 467,
     "status": "ok",
     "timestamp": 1678508729513,
     "user": {
      "displayName": "박주경",
      "userId": "06694313831384541311"
     },
     "user_tz": -540
    },
    "id": "Eo3tiA4l1XyY",
    "outputId": "2eda204f-d788-457b-e717-3c9f4fc4305b"
   },
   "outputs": [
    {
     "name": "stdout",
     "output_type": "stream",
     "text": [
      "2023-03-11 04:25:28.899839\n",
      "4\n",
      "오전\n"
     ]
    }
   ],
   "source": [
    "import datetime\n",
    "\n",
    "now = datetime.datetime.now().hour\n",
    "print(datetime.datetime.now())\n",
    "print(now)\n",
    "\n",
    "if now < 12:\n",
    "  print(\"오전\")\n",
    "\n",
    "if now >= 12:\n",
    "  print(\"오후\")\n"
   ]
  },
  {
   "cell_type": "code",
   "execution_count": 5,
   "id": "F1BjNlTv1X6z",
   "metadata": {
    "colab": {
     "base_uri": "https://localhost:8080/"
    },
    "executionInfo": {
     "elapsed": 2,
     "status": "ok",
     "timestamp": 1678617702457,
     "user": {
      "displayName": "박주경",
      "userId": "06694313831384541311"
     },
     "user_tz": -540
    },
    "id": "F1BjNlTv1X6z",
    "outputId": "a23a5baa-c36e-419c-9556-33f1d6fbb0b4"
   },
   "outputs": [
    {
     "data": {
      "text/plain": [
       "bool"
      ]
     },
     "execution_count": 5,
     "metadata": {},
     "output_type": "execute_result"
    }
   ],
   "source": [
    "\n",
    "a = [\"안\",\"녕\", '하','세','요', 1, True]\n",
    "b=a[6]\n",
    "type(b)\n"
   ]
  },
  {
   "cell_type": "markdown",
   "id": "W2-_1Oq2mHWd",
   "metadata": {
    "id": "W2-_1Oq2mHWd"
   },
   "source": [
    "# Chapter 04 반복문\n",
    "## 04-1 리스트와 반복문\n"
   ]
  },
  {
   "cell_type": "code",
   "execution_count": null,
   "id": "c0379ae3",
   "metadata": {
    "id": "c0379ae3",
    "outputId": "e2908248-b695-4d67-dbd3-457a7a7dc273"
   },
   "outputs": [
    {
     "data": {
      "text/plain": [
       "{1, 2}"
      ]
     },
     "execution_count": 7,
     "metadata": {},
     "output_type": "execute_result"
    }
   ],
   "source": [
    "# 복합 자료형\n",
    "# 리스트 - 여러 가지 자료를 저장할 수 있는 자료\n",
    "# [element, element, element...] (요소)\n",
    "# array = [273, 32, 103, \"문자열\", True, False] - 여섯 개의 자료를 가진 리스트(자료)\n",
    "# 리스트 안에 리스트 사용 가능\n",
    "\n"
   ]
  },
  {
   "cell_type": "code",
   "execution_count": null,
   "id": "959d0ad3",
   "metadata": {
    "id": "959d0ad3",
    "outputId": "bd8ef91e-7037-4698-b115-cf0e2ed45ed2"
   },
   "outputs": [
    {
     "data": {
      "text/plain": [
       "[273, 32, 103, '문자열', True, False]"
      ]
     },
     "execution_count": 10,
     "metadata": {},
     "output_type": "execute_result"
    }
   ],
   "source": [
    "# 리스트 - 기본\n",
    "\n",
    "[1, 2, 3, 4]\n",
    "[\"안\",\"녕\",\"하\",\"세\",\"요\"]\n",
    "[273, 32, 103, \"문자열\", True, False]"
   ]
  },
  {
   "cell_type": "code",
   "execution_count": null,
   "id": "389e66a9",
   "metadata": {
    "id": "389e66a9",
    "outputId": "ceded48e-2b84-42c1-e132-4315b457e83c"
   },
   "outputs": [
    {
     "name": "stdout",
     "output_type": "stream",
     "text": [
      "273\n",
      "[32, 103]\n",
      "False\n"
     ]
    }
   ],
   "source": [
    "# 리스트 - 인덱싱 (리스트 요소에 접근하기)\n",
    "\n",
    "list_a = [273, 32, 103, \"문자열\", True, False]\n",
    "\n",
    "print(list_a[0])\n",
    "print(list_a[1:3])\n",
    "print(list_a[-1])"
   ]
  },
  {
   "cell_type": "code",
   "execution_count": null,
   "id": "edd14740",
   "metadata": {
    "id": "edd14740",
    "outputId": "15ec8e69-440e-4737-c41c-5a34e63c3825"
   },
   "outputs": [
    {
     "data": {
      "text/plain": [
       "['변경', 32, 103, '문자열', True, False]"
      ]
     },
     "execution_count": 19,
     "metadata": {},
     "output_type": "execute_result"
    }
   ],
   "source": [
    "#리스트 - 변경\n",
    "\n",
    "list_a = [273, 32, 103, \"문자열\", True, False]\n",
    "list_a[0] = \"변경\"\n",
    "list_a"
   ]
  },
  {
   "cell_type": "code",
   "execution_count": null,
   "id": "f7314c8c",
   "metadata": {
    "id": "f7314c8c",
    "outputId": "7eb82a05-0b63-48a8-850d-8d7346539d19"
   },
   "outputs": [
    {
     "data": {
      "text/plain": [
       "'문'"
      ]
     },
     "execution_count": 21,
     "metadata": {},
     "output_type": "execute_result"
    }
   ],
   "source": [
    "#리스트\n",
    "\n",
    "list_a = [273, 32, 103, \"문자열\", True, False]\n",
    "list_a[3][0]"
   ]
  },
  {
   "cell_type": "code",
   "execution_count": null,
   "id": "e8094d80",
   "metadata": {
    "id": "e8094d80",
    "outputId": "5cb8e78a-d652-4abd-82b8-3e42833c9a80"
   },
   "outputs": [
    {
     "name": "stdout",
     "output_type": "stream",
     "text": [
      "[1, 2, 3, 4, 5, 6]\n",
      "[1, 2, 3, 1, 2, 3, 1, 2, 3]\n",
      "3\n"
     ]
    }
   ],
   "source": [
    "#리스트 연산하기 - 연결(+) 반복(*) len()\n",
    "\n",
    "a = [1,2,3]\n",
    "b = [4,5,6]\n",
    "\n",
    "print(a+b)\n",
    "print(a*3)\n",
    "print(len(a))"
   ]
  },
  {
   "cell_type": "code",
   "execution_count": null,
   "id": "c69384f4",
   "metadata": {
    "id": "c69384f4",
    "outputId": "58821069-c124-47d9-d345-86ce59d8ea34"
   },
   "outputs": [
    {
     "name": "stdout",
     "output_type": "stream",
     "text": [
      "[1, 2, 3, 5]\n",
      "['a', 1, 2, 3, 5]\n",
      "['a', 1, 2, 3, 5, 'a']\n"
     ]
    }
   ],
   "source": [
    "#리스트에 요소 추가하기: append(), insert(), extend()\n",
    "\n",
    "a = [1, 2, 3]\n",
    "a.append(5) # 끝에\n",
    "print(a)\n",
    "\n",
    "a.insert(0,'a') # 원하는 자리에\n",
    "print(a)\n",
    "\n",
    "a.insert(5,'a') # 물론 이렇게 append 효과를 낼 수도 있음\n",
    "print(a)"
   ]
  },
  {
   "cell_type": "code",
   "execution_count": null,
   "id": "c3ff63cc",
   "metadata": {
    "id": "c3ff63cc",
    "outputId": "a9c01af2-be82-4586-ec54-33338f75ed07"
   },
   "outputs": [
    {
     "data": {
      "text/plain": [
       "[1, 2, 3, 4, 5, 6]"
      ]
     },
     "execution_count": 29,
     "metadata": {},
     "output_type": "execute_result"
    }
   ],
   "source": [
    "#리스트에 요소 추가하기: extend()\n",
    "\n",
    "a = [1,2,3]\n",
    "a.extend([4,5,6,])\n",
    "a"
   ]
  },
  {
   "cell_type": "code",
   "execution_count": null,
   "id": "3c4ee242",
   "metadata": {
    "id": "3c4ee242"
   },
   "outputs": [],
   "source": [
    "#리스트 - 연결 연잔자와 함수를 이용한 추가와의 차이\n",
    "\n",
    "# 원본에 대한 비파괴, 파괴의 차이\n",
    "# 비파괴는 좋지만, 용량 커질 수 있음"
   ]
  },
  {
   "cell_type": "code",
   "execution_count": null,
   "id": "b9fa5ad4",
   "metadata": {
    "id": "b9fa5ad4",
    "outputId": "c3a39fe2-d340-4fb5-9047-d9f844bd7c6c"
   },
   "outputs": [
    {
     "name": "stdout",
     "output_type": "stream",
     "text": [
      "[1, 2, 3, 4, 5]\n",
      "[1, 2, 3, 4]\n",
      "[3, 4]\n",
      "\n",
      "\n",
      "[1, 1, 2]\n"
     ]
    },
    {
     "data": {
      "text/plain": [
       "[]"
      ]
     },
     "execution_count": 45,
     "metadata": {},
     "output_type": "execute_result"
    }
   ],
   "source": [
    "#리스트에 요소 제거하기\n",
    "\n",
    "# 인덱스로 제거하기 - del키워드, pop()\n",
    "a = [0, 1, 2, 3, 4, 5]\n",
    "del a[0]\n",
    "print(a)\n",
    "\n",
    "a.pop(4) # pop은 범위 삭제 불가능\n",
    "print(a)\n",
    "\n",
    "del a[0:2]\n",
    "print(a)\n",
    "print()\n",
    "print()\n",
    "\n",
    "\n",
    "# 값으로 제거하기 - remove(), clear()\n",
    "a = [1, 2, 1, 2]\n",
    "a.remove(2) # 가장 처음 발견되는 요소만 제거함, 다 제거하고 싶으면 반복문 쓸 것, 아니면 clear()\n",
    "print(a)\n",
    "\n",
    "b = [0, 1, 2, 3, 4, 5]\n",
    "a.clear()\n",
    "a\n"
   ]
  },
  {
   "cell_type": "code",
   "execution_count": null,
   "id": "9dd41c28",
   "metadata": {
    "id": "9dd41c28"
   },
   "outputs": [],
   "source": [
    "# 리스트 슬라이싱\n",
    "# 리스트[시작_인덱스:끝_인덱스:단계]"
   ]
  },
  {
   "cell_type": "code",
   "execution_count": null,
   "id": "28fc05aa",
   "metadata": {
    "id": "28fc05aa"
   },
   "outputs": [],
   "source": [
    "#리스트 정렬하기: sort()\n"
   ]
  },
  {
   "cell_type": "code",
   "execution_count": null,
   "id": "56e8a89b",
   "metadata": {
    "id": "56e8a89b",
    "outputId": "2eba4cc4-c1ce-4120-aee2-19826c8662d3"
   },
   "outputs": [
    {
     "name": "stdout",
     "output_type": "stream",
     "text": [
      "True\n",
      "False\n"
     ]
    }
   ],
   "source": [
    "#리스트 내부에 있는지 확인하기: in/not in 연산자\n",
    "a = [273, 32, 103, 57, 52]\n",
    "\n",
    "b = 273 in a\n",
    "b1 = 273 not in a\n",
    "\n",
    "print(b)\n",
    "print(b1)"
   ]
  },
  {
   "cell_type": "code",
   "execution_count": null,
   "id": "9f0ef90b",
   "metadata": {
    "id": "9f0ef90b",
    "outputId": "dbd79754-9b00-402c-a934-edd0add08704"
   },
   "outputs": [
    {
     "data": {
      "text/plain": [
       "32"
      ]
     },
     "execution_count": 100,
     "metadata": {},
     "output_type": "execute_result"
    }
   ],
   "source": [
    "# min() - 리스트 내부에서 최솟값 찾기\n",
    "\n",
    "numbers = [103, 52, 273, 32, 77]\n",
    "\n",
    "min(numbers)"
   ]
  },
  {
   "cell_type": "code",
   "execution_count": null,
   "id": "37a4376b",
   "metadata": {
    "id": "37a4376b",
    "outputId": "cf766bb9-2749-4369-dc5a-5463a4b407bf"
   },
   "outputs": [
    {
     "data": {
      "text/plain": [
       "273"
      ]
     },
     "execution_count": 103,
     "metadata": {},
     "output_type": "execute_result"
    }
   ],
   "source": [
    "# max() - 리스트 내부에서 최댓값 찾기\n",
    "\n",
    "numbers = [103, 52, 273, 32, 77]\n",
    "\n",
    "max(numbers)"
   ]
  },
  {
   "cell_type": "code",
   "execution_count": null,
   "id": "18e648ad",
   "metadata": {
    "id": "18e648ad",
    "outputId": "fcaf72f8-b5bc-438a-f9d0-9bf0f3d7e6a7"
   },
   "outputs": [
    {
     "data": {
      "text/plain": [
       "32"
      ]
     },
     "execution_count": 104,
     "metadata": {},
     "output_type": "execute_result"
    }
   ],
   "source": [
    "# sum() - 리스트 내부에서 값을 모두 더하기\n",
    "\n",
    "numbers = [103, 52, 273, 32, 77]\n",
    "\n",
    "min(numbers)"
   ]
  },
  {
   "cell_type": "code",
   "execution_count": null,
   "id": "cbf2666c",
   "metadata": {
    "id": "cbf2666c",
    "outputId": "01aff48b-13b6-4ed6-f553-ece0f0a57fe2"
   },
   "outputs": [
    {
     "name": "stdout",
     "output_type": "stream",
     "text": [
      "<list_reverseiterator object at 0x0000026BF6EE49A0>\n",
      "[5, 4, 3, 2, 1]\n"
     ]
    }
   ],
   "source": [
    "# reversed() - 리스트 뒤집기\n",
    "a = [1, 2, 3, 4, 5]\n",
    "print(reversed(a)) # 이터레이터\n",
    "print(list(reversed(a)))"
   ]
  },
  {
   "cell_type": "code",
   "execution_count": null,
   "id": "db35d0a2",
   "metadata": {
    "id": "db35d0a2",
    "outputId": "5a3a3f47-ecbd-4bcd-e8d4-71490a705717"
   },
   "outputs": [
    {
     "data": {
      "text/plain": [
       "[(0, 1), (1, 2), (2, 3), (3, 4), (4, 5)]"
      ]
     },
     "execution_count": 115,
     "metadata": {},
     "output_type": "execute_result"
    }
   ],
   "source": [
    "# enumerate() - index 확인\n",
    "\n",
    "a = [1, 2, 3, 4, 5]\n",
    "list(enumerate(a))\n"
   ]
  },
  {
   "cell_type": "code",
   "execution_count": null,
   "id": "4ccd8a77",
   "metadata": {
    "id": "4ccd8a77",
    "outputId": "6f558efd-04fd-4d6a-bbef-6eb8aef668ac"
   },
   "outputs": [
    {
     "name": "stdout",
     "output_type": "stream",
     "text": [
      "안\n",
      "녕\n",
      "하\n",
      "세\n",
      "요\n"
     ]
    }
   ],
   "source": [
    "# for 반복자 in 반복할 수 있는 것:\n",
    "#     코드\n",
    "\n",
    "for character in \"안녕하세요\":\n",
    "    print(character)"
   ]
  },
  {
   "cell_type": "code",
   "execution_count": null,
   "id": "f7a3710b",
   "metadata": {
    "id": "f7a3710b"
   },
   "outputs": [],
   "source": [
    "# 중첩 리스트와 중첩 반복문"
   ]
  },
  {
   "cell_type": "code",
   "execution_count": null,
   "id": "0698fe84",
   "metadata": {
    "id": "0698fe84",
    "outputId": "962f7bd7-b8f7-4a6b-9b69-bc39749f6b2d"
   },
   "outputs": [
    {
     "data": {
      "text/plain": [
       "'a'"
      ]
     },
     "execution_count": 73,
     "metadata": {},
     "output_type": "execute_result"
    }
   ],
   "source": [
    "# 딕셔너리 - 기본\n",
    "# key에 올 수 있는 것 - 숫자, 문자열, 불, 튜플\n",
    "\n",
    "a = {1:'a', 2:'b', 3:'c', 4:'d'}\n",
    "a[1]"
   ]
  },
  {
   "cell_type": "code",
   "execution_count": null,
   "id": "a4532f13",
   "metadata": {
    "id": "a4532f13",
    "outputId": "620db170-6771-4ef1-efb2-a620f87abc4d"
   },
   "outputs": [
    {
     "data": {
      "text/plain": [
       "{'당근': '500원', '오이': '1000원'}"
      ]
     },
     "execution_count": 58,
     "metadata": {},
     "output_type": "execute_result"
    }
   ],
   "source": [
    "# 딕셔너리 - 추가\n",
    "\n",
    "a = {\"당근\":\"500원\"}\n",
    "a[\"오이\"] = \"1000원\"\n",
    "a"
   ]
  },
  {
   "cell_type": "code",
   "execution_count": null,
   "id": "3c0b8242",
   "metadata": {
    "id": "3c0b8242",
    "outputId": "df214e3f-314c-4442-dcd3-d29f4379cb54"
   },
   "outputs": [
    {
     "data": {
      "text/plain": [
       "{'당근': '1000원'}"
      ]
     },
     "execution_count": 59,
     "metadata": {},
     "output_type": "execute_result"
    }
   ],
   "source": [
    "# 딕셔너리 - 수정\n",
    "\n",
    "a = {\"당근\":\"500원\"}\n",
    "a[\"당근\"] = \"1000원\"\n",
    "a"
   ]
  },
  {
   "cell_type": "code",
   "execution_count": null,
   "id": "e421d9d0",
   "metadata": {
    "id": "e421d9d0",
    "outputId": "55d8d9c5-d0a4-46e6-b0cc-5f6e6d7a3871"
   },
   "outputs": [
    {
     "data": {
      "text/plain": [
       "{}"
      ]
     },
     "execution_count": 63,
     "metadata": {},
     "output_type": "execute_result"
    }
   ],
   "source": [
    "# 딕셔너리 - 제거\n",
    "\n",
    "a = {\"당근\":\"500원\"}\n",
    "del a[\"당근\"]\n",
    "a"
   ]
  },
  {
   "cell_type": "code",
   "execution_count": null,
   "id": "5206f6df",
   "metadata": {
    "id": "5206f6df",
    "outputId": "acdcdcfe-0f07-46ce-8eb6-177842f02843"
   },
   "outputs": [
    {
     "name": "stdout",
     "output_type": "stream",
     "text": [
      "찾고자 하는 키를 입력해 주세요 1\n",
      "해당하는 키가 없습니다.\n"
     ]
    }
   ],
   "source": [
    "# 딕셔너리 - 키 확인\n",
    "\n",
    "a = {\"당근\":\"500원\",\"오이\":\"1000원\"}\n",
    "\n",
    "b = input (\"찾고자 하는 키를 입력해 주세요 \")\n",
    "\n",
    "if b in a:\n",
    "    print(a[b])\n",
    "else:\n",
    "    print(\"해당하는 키가 없습니다.\")\n",
    "    \n"
   ]
  },
  {
   "cell_type": "code",
   "execution_count": null,
   "id": "20e80730",
   "metadata": {
    "id": "20e80730",
    "outputId": "5e1744c9-fcc6-470f-ad45-655210cffffd"
   },
   "outputs": [
    {
     "name": "stdout",
     "output_type": "stream",
     "text": [
      "name : 7D 건조 망고\n",
      "type : 당절임\n",
      "ingredient : [\"망고, \"설탕\",\"메타중아황산나트륨\",\"치자황색소\"]\n",
      "origin : 필리핀\n"
     ]
    }
   ],
   "source": [
    "dictionary = {'name':'7D 건조 망고','type':'당절임','ingredient':'[\"망고, \"설탕\",\"메타중아황산나트륨\",\"치자황색소\"]','origin':'필리핀'}\n",
    "\n",
    "for i in dictionary:\n",
    "    print(i, \":\", dictionary[i])"
   ]
  },
  {
   "cell_type": "code",
   "execution_count": null,
   "id": "3c04e2a1",
   "metadata": {
    "id": "3c04e2a1",
    "outputId": "cee358dc-5be6-44e9-dcb6-5912659de15f"
   },
   "outputs": [
    {
     "name": "stdout",
     "output_type": "stream",
     "text": [
      "dictionary[키A] = 값A\n",
      "dictionary[키B] = 값B\n",
      "dictionary[키C] = 값C\n"
     ]
    }
   ],
   "source": [
    "# 딕셔너리의 item() 함수와 반복문 조합하기\n",
    "\n",
    "example_dictionary = {'키A':'값A','키B':'값B','키C':'값C'}\n",
    "example_dictionary.items()\n",
    "\n",
    "for key, element in example_dictionary.items():\n",
    "    print(\"dictionary[{}] = {}\".format(key,element))"
   ]
  },
  {
   "cell_type": "code",
   "execution_count": null,
   "id": "64e80452",
   "metadata": {
    "id": "64e80452"
   },
   "outputs": [],
   "source": [
    "# while 반복문\n"
   ]
  },
  {
   "cell_type": "code",
   "execution_count": null,
   "id": "78ccabe2",
   "metadata": {
    "id": "78ccabe2",
    "outputId": "3e62f3f1-e4dd-41a8-d7ce-7b294fa2291d"
   },
   "outputs": [
    {
     "name": "stdout",
     "output_type": "stream",
     "text": [
      "0번째 반복입니다.\n",
      "1번째 반복입니다.\n",
      "2번째 반복입니다.\n",
      "3번째 반복입니다.\n",
      "4번째 반복입니다.\n",
      "5번째 반복입니다.\n",
      "6번째 반복입니다.\n",
      "7번째 반복입니다.\n",
      "8번째 반복입니다.\n",
      "9번째 반복입니다.\n"
     ]
    }
   ],
   "source": [
    "# while 반복문을 for 반복문처럼 사용하기\n",
    "\n",
    "i = 0\n",
    "while i < 10:\n",
    "    print(\"{}번째 반복입니다.\".format(i))\n",
    "    i += 1\n",
    "    "
   ]
  },
  {
   "cell_type": "code",
   "execution_count": null,
   "id": "b4da5ab2",
   "metadata": {
    "id": "b4da5ab2"
   },
   "outputs": [],
   "source": [
    "# while을 쓰는 이유\n",
    "# 무한 반복과 조건\n",
    "\n"
   ]
  },
  {
   "cell_type": "code",
   "execution_count": null,
   "id": "17671b8d",
   "metadata": {
    "id": "17671b8d"
   },
   "outputs": [],
   "source": [
    "# while - break 키워드\n",
    "# 반복문을 벗어날 때 사용하는 키워드, 일반적으로 무한 반복문을 만들고, 내부의 반복을 벗어날 때 많이 사용함\n",
    "\n"
   ]
  },
  {
   "cell_type": "code",
   "execution_count": null,
   "id": "4247aaa8",
   "metadata": {
    "id": "4247aaa8",
    "outputId": "d8374eb9-719c-470d-fe54-beddac9b0e46"
   },
   "outputs": [
    {
     "name": "stdout",
     "output_type": "stream",
     "text": [
      "15\n",
      "20\n",
      "25\n"
     ]
    }
   ],
   "source": [
    "# while - continue 키워드\n",
    "# 현재 반복을 생략하고, 다음 반복으로 넘어갈 때 사용하는 키워드\n",
    "\n",
    "numbers = [5, 15, 6, 20 ,7, 25]\n",
    "\n",
    "for number in numbers:\n",
    "    if number < 10:\n",
    "        continue # 10보다 작으면 넘어가, 다름거 진행해~        \n",
    "    print(number)\n",
    "    "
   ]
  },
  {
   "cell_type": "code",
   "execution_count": null,
   "id": "b07cfbab",
   "metadata": {
    "id": "b07cfbab",
    "outputId": "4443587c-e2c9-4f60-a0a8-7ead14e117a0"
   },
   "outputs": [
    {
     "data": {
      "text/plain": [
       "{1, 2}"
      ]
     },
     "execution_count": 8,
     "metadata": {},
     "output_type": "execute_result"
    }
   ],
   "source": [
    "\n",
    "# 세트 set\n",
    "# 중괄호로 만듦\n",
    "# 순서에 의미가 없으며, 중복을 허용하지 않음\n",
    "# a = {1, 2, 3}\n",
    "\n",
    "c = {1, 1, 2, 2, 2, 2}\n",
    "c\n",
    "\n",
    "네 가지 연산자\n",
    "합집합 \\ - 다 합침\n",
    "교집합 & - 공통된 것만 추출\n",
    "차집합 - 외쪽에 있는 요소에서 오른쪽에 있는 요소를 제외\n",
    "대칭차집합 ^ - 한쪽에만 존재하는 요소들을 추출\n",
    "\n",
    "리스트 내포\n",
    "딕셔너리 내포\n",
    "세트 내포\n",
    "\n",
    "\n",
    "\n",
    "\n",
    "\n"
   ]
  },
  {
   "cell_type": "code",
   "execution_count": null,
   "id": "04a583cf",
   "metadata": {
    "id": "04a583cf"
   },
   "outputs": [],
   "source": []
  },
  {
   "cell_type": "markdown",
   "id": "2825f262",
   "metadata": {
    "id": "2825f262"
   },
   "source": [
    "# 05-1 함수\n",
    "\n",
    "개념\n",
    "\n",
    "함수 - 코드의 집합\n",
    "\n",
    "호출(함수를 호출한다) - 함수를 사용, 실행하는 행위\n",
    "\n",
    "매개변수 - 함수를 호출할 때 괄호 내부에 넣는 여러 자료들 (식별자로 작성함)\n",
    "\n",
    "리턴값 - 함수를 호출해서 최종적으로 나오는 결과\n",
    "\n",
    "가변 매개변수 함수 - 함수는 매개변수를 원하는 만큼 받을 수 있는 함수\n",
    "\n",
    "\n",
    "\n",
    "print()\n",
    "len()\n",
    "str()\n",
    "int()\n",
    "range() - range(1,3)\n",
    "map()\n",
    "filter()\n",
    "lambda()\n",
    "open()\n",
    "close()\n",
    "min() - 최소값\n",
    "max() - 최대값\n",
    "\n",
    "보통 함수 밖에서는 변수 선언 안하나??\n",
    "\n",
    "변수로 만들어 주는게 유지보수에 좋음\n",
    "\n",
    "함수 장점\n",
    "가독성\n",
    "유지보수\n",
    "\n",
    "\n",
    "그냥 함수들과 \n",
    ".format()\n",
    "이런게 헷갈림\n",
    "모듈, 클래스에서 import해서 오는 .함수들\n",
    "문자열 함수 .format()\n",
    "a.list() 이런 식\n",
    "list(a)\n",
    "\n",
    "\n",
    "\n",
    "\n"
   ]
  },
  {
   "cell_type": "code",
   "execution_count": null,
   "id": "1173720b",
   "metadata": {
    "id": "1173720b"
   },
   "outputs": [],
   "source": [
    "# 가변 매개변수 - 매개변수 개수가 변할 수 있다는 의미"
   ]
  },
  {
   "cell_type": "code",
   "execution_count": null,
   "id": "47f6da18",
   "metadata": {
    "id": "47f6da18"
   },
   "outputs": [],
   "source": [
    "# 매개변수에 아무것도 넣지 않아도 들어가는 값#\n",
    "# 기본 매개변수뒤에는 일반 매개변수가 올 수 없다\n",
    "# 따로 매개변수를 입력하지 않을 경우 기본값이 들어간다\n",
    "# 만약 print_n_times(n=2, value)형태가 허용된다면, print_n_times(\"안녕하세요\")라고 입력했을 경우, 어디 매개변수에 할당되어야 할지 헷갈림(안 넣었을 경우 기본값이 2가 있으니까)\n",
    "\n",
    "def print_n_times(value, n=2):\n",
    "    for i in range(n):\n",
    "        print(value)\n",
    "        \n",
    "print_n_times(\"안녕하세요\", 3)"
   ]
  },
  {
   "cell_type": "code",
   "execution_count": null,
   "id": "58a8c6fe",
   "metadata": {
    "id": "58a8c6fe",
    "outputId": "2e72f1d8-7c4e-46e6-8009-a356da3cec29"
   },
   "outputs": [
    {
     "ename": "TypeError",
     "evalue": "'str' object cannot be interpreted as an integer",
     "output_type": "error",
     "traceback": [
      "\u001b[1;31m---------------------------------------------------------------------------\u001b[0m",
      "\u001b[1;31mTypeError\u001b[0m                                 Traceback (most recent call last)",
      "\u001b[1;32m~\\AppData\\Local\\Temp\\ipykernel_7612\\1567271511.py\u001b[0m in \u001b[0;36m<module>\u001b[1;34m\u001b[0m\n\u001b[0;32m      6\u001b[0m     \u001b[0mprit\u001b[0m\u001b[1;33m(\u001b[0m\u001b[1;33m)\u001b[0m\u001b[1;33m\u001b[0m\u001b[1;33m\u001b[0m\u001b[0m\n\u001b[0;32m      7\u001b[0m \u001b[1;33m\u001b[0m\u001b[0m\n\u001b[1;32m----> 8\u001b[1;33m \u001b[0mprint_n_times\u001b[0m\u001b[1;33m(\u001b[0m\u001b[1;34m\"안녕하세요\"\u001b[0m\u001b[1;33m,\u001b[0m \u001b[1;34m\"즐거운\"\u001b[0m\u001b[1;33m,\u001b[0m \u001b[1;34m\"파이썬 프로그래밍\"\u001b[0m\u001b[1;33m)\u001b[0m\u001b[1;33m\u001b[0m\u001b[1;33m\u001b[0m\u001b[0m\n\u001b[0m",
      "\u001b[1;32m~\\AppData\\Local\\Temp\\ipykernel_7612\\1567271511.py\u001b[0m in \u001b[0;36mprint_n_times\u001b[1;34m(n, *values)\u001b[0m\n\u001b[0;32m      2\u001b[0m \u001b[1;33m\u001b[0m\u001b[0m\n\u001b[0;32m      3\u001b[0m \u001b[1;32mdef\u001b[0m \u001b[0mprint_n_times\u001b[0m\u001b[1;33m(\u001b[0m\u001b[0mn\u001b[0m\u001b[1;33m=\u001b[0m\u001b[1;36m2\u001b[0m\u001b[1;33m,\u001b[0m \u001b[1;33m*\u001b[0m\u001b[0mvalues\u001b[0m\u001b[1;33m)\u001b[0m\u001b[1;33m:\u001b[0m\u001b[1;33m\u001b[0m\u001b[1;33m\u001b[0m\u001b[0m\n\u001b[1;32m----> 4\u001b[1;33m     \u001b[1;32mfor\u001b[0m \u001b[0mi\u001b[0m \u001b[1;32min\u001b[0m \u001b[0mrange\u001b[0m\u001b[1;33m(\u001b[0m\u001b[0mn\u001b[0m\u001b[1;33m)\u001b[0m\u001b[1;33m:\u001b[0m\u001b[1;33m\u001b[0m\u001b[1;33m\u001b[0m\u001b[0m\n\u001b[0m\u001b[0;32m      5\u001b[0m         \u001b[0mprint\u001b[0m\u001b[1;33m(\u001b[0m\u001b[0mvalue\u001b[0m\u001b[1;33m)\u001b[0m\u001b[1;33m\u001b[0m\u001b[1;33m\u001b[0m\u001b[0m\n\u001b[0;32m      6\u001b[0m     \u001b[0mprit\u001b[0m\u001b[1;33m(\u001b[0m\u001b[1;33m)\u001b[0m\u001b[1;33m\u001b[0m\u001b[1;33m\u001b[0m\u001b[0m\n",
      "\u001b[1;31mTypeError\u001b[0m: 'str' object cannot be interpreted as an integer"
     ]
    }
   ],
   "source": [
    "# 기본 매개변수가 가변 매개변수보다 앞에 오면?\n",
    "\n",
    "def print_n_times(n=2, *values):\n",
    "    for i in range(n):\n",
    "        print(value)\n",
    "    prit()\n",
    "        \n",
    "print_n_times(\"안녕하세요\", \"즐거운\", \"파이썬 프로그래밍\")\n",
    "\n",
    "# n에 \"안녕하세요\"가 들어가고 values에 '즐거운'과 '파이썬 프로그래밍'이 들어간다\n",
    "# 그리고 range() 함수의 매개변수에는 숫자만 들어갈 수 있으므로 오류가 발생한다\n",
    "# 결론 - 기본 매개변수는 가변 매개변수 앞에 써도 의미가 없다"
   ]
  },
  {
   "cell_type": "code",
   "execution_count": null,
   "id": "787a886f",
   "metadata": {
    "id": "787a886f"
   },
   "outputs": [],
   "source": [
    "# 가변 매개변수가 기본 매개변수보다 앞에 오면?\n",
    "# 두 가지 결과 예측 가능한데...\n",
    "\n",
    "\n",
    "#가변 매개변수가 우선된다\n"
   ]
  },
  {
   "cell_type": "code",
   "execution_count": null,
   "id": "4f5d9047",
   "metadata": {
    "id": "4f5d9047"
   },
   "outputs": [],
   "source": [
    "# 그럼 어떻게 해야 하나? - 키워드 매개변수"
   ]
  },
  {
   "cell_type": "code",
   "execution_count": null,
   "id": "a3d6f1fc",
   "metadata": {
    "id": "a3d6f1fc",
    "outputId": "916f12f8-fea5-4c4e-b6a8-04ac0d746eda"
   },
   "outputs": [
    {
     "name": "stdout",
     "output_type": "stream",
     "text": [
      "A 위치입니다.\n",
      "100\n",
      "None\n"
     ]
    }
   ],
   "source": [
    "# 리턴값 (return value)\n",
    "# return이라는 키워드 - 함수를 실행했던 위치로 돌아가라는 뜻, 함수를 여기서 끝내라는 의미를 가짐\n",
    "\n",
    "# 자료 없이 리턴하기\n",
    "def return_test():\n",
    "    print(\"A 위치입니다.\")\n",
    "    return # enter를 치면 다음 커서가 맨 앞으로 돌아감\n",
    "    print(\"B 위치입니다.\")\n",
    "    \n",
    "return_test()\n",
    "\n",
    "\n",
    "# 자료와 함께 리턴하기\n",
    "def return_test():\n",
    "    return 100 # 뒤에 자료 입력하면,자료를 가지고 리턴한다\n",
    "    \n",
    "value = return_test()\n",
    "print(value)\n",
    "\n",
    "\n",
    "# 아무 것도 리턴하지 않기\n",
    "\n",
    "def return_test():\n",
    "    return\n",
    "\n",
    "value = return_test()\n",
    "print(value)\n"
   ]
  },
  {
   "cell_type": "code",
   "execution_count": null,
   "id": "b8d4a61f",
   "metadata": {
    "id": "b8d4a61f",
    "outputId": "dc5eae44-5029-49af-c7b9-42d711ca2a45"
   },
   "outputs": [
    {
     "name": "stdout",
     "output_type": "stream",
     "text": [
      "D. 5050\n",
      "A. 550\n",
      "B. 5050\n",
      "C. 2550\n"
     ]
    }
   ],
   "source": [
    "# 기본적인 함수의 활용\n",
    "# def 함수(매개변수):\n",
    "#     변수 = 초깃값 - 보통 연산에 아무런 변화를 주지 않는 0(덧셈식), 1(곱셈식)을 사용함\n",
    "#     # 여러 가지 처리\n",
    "#     # 여러 가지 처리\n",
    "#     # 여러 가지 처리\n",
    "#     return 변수\n",
    "        \n",
    "\n",
    "def sum_all(start=0, end=100, step=1):\n",
    "    output = 0\n",
    "    for i in range(start, end + 1, step):\n",
    "        output += i\n",
    "    return output\n",
    "\n",
    "print(\"D.\", sum_all())\n",
    "print(\"A.\", sum_all(0, 100, 10))\n",
    "print(\"B.\", sum_all(end=100))\n",
    "print(\"C.\", sum_all(end=100, step=2))\n"
   ]
  },
  {
   "cell_type": "code",
   "execution_count": null,
   "id": "c0e4dc3e",
   "metadata": {
    "id": "c0e4dc3e",
    "outputId": "6769ca4c-7c30-48ea-aeca-3efabae62f07"
   },
   "outputs": [
    {
     "ename": "IndentationError",
     "evalue": "expected an indented block (4189821695.py, line 13)",
     "output_type": "error",
     "traceback": [
      "\u001b[1;36m  File \u001b[1;32m\"C:\\Users\\h\\AppData\\Local\\Temp\\ipykernel_7612\\4189821695.py\"\u001b[1;36m, line \u001b[1;32m13\u001b[0m\n\u001b[1;33m    print(mul(5,7,9,10))\u001b[0m\n\u001b[1;37m    ^\u001b[0m\n\u001b[1;31mIndentationError\u001b[0m\u001b[1;31m:\u001b[0m expected an indented block\n"
     ]
    }
   ],
   "source": [
    "def f(x):\n",
    "    return 2*x+1\n",
    "print(f(10))\n",
    "\n",
    "def f(x):\n",
    "    return x**2+x*2+1\n",
    "print(f(10))\n",
    "\n",
    "def mul(*values):\n",
    "    \n",
    "    \n",
    "\n",
    "print(mul(5,7,9,10))\n"
   ]
  },
  {
   "cell_type": "code",
   "execution_count": null,
   "id": "0664032e",
   "metadata": {
    "id": "0664032e",
    "outputId": "7c4e963c-9d2e-4f76-dc3c-14593178e334"
   },
   "outputs": [
    {
     "name": "stdout",
     "output_type": "stream",
     "text": [
      "함수가 반환되고 있어요\n",
      "4\n",
      "함수가 반환되고 있어요\n",
      "3\n",
      "함수가 반환되고 있어요\n",
      "2\n",
      "함수가 반환되고 있어요\n",
      "1\n"
     ]
    },
    {
     "data": {
      "text/plain": [
       "24"
      ]
     },
     "execution_count": 61,
     "metadata": {},
     "output_type": "execute_result"
    }
   ],
   "source": [
    "def factorial(n):\n",
    "    if n == 0:\n",
    "        return 1\n",
    "    else:\n",
    "        print(\"함수가 반환되고 있어요\")\n",
    "        print (n)\n",
    "        return n * factorial(n-1)\n",
    "        \n",
    "    \n",
    "\n",
    "factorial(4)\n",
    "\n",
    "\n",
    "\n"
   ]
  },
  {
   "cell_type": "code",
   "execution_count": null,
   "id": "5a0b595f",
   "metadata": {
    "id": "5a0b595f",
    "outputId": "f035a53a-ba73-4ba7-a469-829b18bf9742"
   },
   "outputs": [
    {
     "ename": "SyntaxError",
     "evalue": "invalid syntax (3669108343.py, line 1)",
     "output_type": "error",
     "traceback": [
      "\u001b[1;36m  File \u001b[1;32m\"C:\\Users\\h\\AppData\\Local\\Temp\\ipykernel_7612\\3669108343.py\"\u001b[1;36m, line \u001b[1;32m1\u001b[0m\n\u001b[1;33m    for i in ~\u001b[0m\n\u001b[1;37m              ^\u001b[0m\n\u001b[1;31mSyntaxError\u001b[0m\u001b[1;31m:\u001b[0m invalid syntax\n"
     ]
    }
   ],
   "source": [
    "for i in ~\n",
    "i는 변수 선언 필요없나?\n",
    "for 1 동안\n",
    "\n",
    "리스트 append + 하는 것의 차이점 [2323[323]232] 리스트 중복 평탄화\n",
    "\n",
    "함수의 변수는 함수 호출마다 따로 만들어진다\n",
    "함수가 끝나면(리턴되면) 함수를 호출했던 위치로 돌아옵니다\n",
    "\n",
    "\n",
    "\n"
   ]
  },
  {
   "cell_type": "code",
   "execution_count": null,
   "id": "2147011e",
   "metadata": {
    "id": "2147011e",
    "outputId": "159bca49-bdd0-4770-b2d9-3ae254f4d227"
   },
   "outputs": [
    {
     "name": "stdout",
     "output_type": "stream",
     "text": [
      "<class 'int'>\n",
      "<class 'int'>\n",
      "<class 'tuple'>\n",
      "<class 'tuple'>\n",
      "<class 'list'>\n",
      "<class 'list'>\n"
     ]
    }
   ],
   "source": [
    "# tuple\n",
    "# 함수의 리턴에 많이 사용함\n",
    "# 함수와 함께 많이 사용되는 리스트와 비슷한 자료형으로, 리스트와 다른 점은 한 번 결정된 요소는 바꿀 수 없습니다.\n",
    "# (데이터, 데이터, 데이터)\n",
    "# 리스트처럼 인덱싱 가능함\n",
    "\n",
    "# [283] 요소를 하나만 가지는 리스트\n",
    "# (273) 숫자를 괄호로 감싼 것\n",
    "# (273, ) 요소를 하나만 가지는 tuple\n",
    "\n",
    "a = 10\n",
    "b = (10)\n",
    "c = (10, 20, 30)\n",
    "d = 10, 20, 30\n",
    "e = [10]\n",
    "f = [10, 20, 30,]\n",
    "\n",
    "\n",
    "print(type(a))\n",
    "print(type(b))\n",
    "print(type(c))\n",
    "print(type(d))\n",
    "print(type(e))\n",
    "print(type(f))"
   ]
  },
  {
   "cell_type": "code",
   "execution_count": 1,
   "id": "9d7ab785",
   "metadata": {
    "colab": {
     "base_uri": "https://localhost:8080/"
    },
    "executionInfo": {
     "elapsed": 9,
     "status": "ok",
     "timestamp": 1678452669704,
     "user": {
      "displayName": "박주경",
      "userId": "06694313831384541311"
     },
     "user_tz": -540
    },
    "id": "9d7ab785",
    "outputId": "acb6035a-874a-4199-af92-c69fa68fd15f"
   },
   "outputs": [
    {
     "data": {
      "text/plain": [
       "tuple"
      ]
     },
     "execution_count": 1,
     "metadata": {},
     "output_type": "execute_result"
    }
   ],
   "source": [
    "\n"
   ]
  },
  {
   "cell_type": "code",
   "execution_count": null,
   "id": "e19cb324",
   "metadata": {
    "id": "e19cb324",
    "outputId": "10eae352-f444-420b-f4d4-e58cd3134231"
   },
   "outputs": [
    {
     "data": {
      "text/plain": [
       "tuple"
      ]
     },
     "execution_count": 112,
     "metadata": {},
     "output_type": "execute_result"
    }
   ],
   "source": [
    "# 리턴값에 주로 사용\n",
    "def test():\n",
    "    return (10,20) # tuple임\n",
    "\n",
    "# a, b = test() # 순서대로 a, b에 리턴값 10과 20을 넣어준다\n",
    "# print(a)\n",
    "# print(b)\n",
    "# type(a)"
   ]
  },
  {
   "cell_type": "code",
   "execution_count": null,
   "id": "9d6d443c",
   "metadata": {
    "id": "9d6d443c",
    "outputId": "ab36ebc1-fade-4c48-db82-1b7c8842de8b"
   },
   "outputs": [
    {
     "data": {
      "text/plain": [
       "int"
      ]
     },
     "execution_count": 12,
     "metadata": {},
     "output_type": "execute_result"
    }
   ],
   "source": [
    "a, b, c = 10, 20, 30\n",
    "type(a)"
   ]
  },
  {
   "cell_type": "code",
   "execution_count": null,
   "id": "959fd783",
   "metadata": {
    "id": "959fd783",
    "outputId": "e3f5ada1-fee9-472b-f632-f8024505c95b"
   },
   "outputs": [
    {
     "name": "stdout",
     "output_type": "stream",
     "text": [
      "# map() 함수의 실행 결과\n",
      "map(power, list_input_a): <map object at 0x000001EB9EAE4850>\n",
      "map(power, list_input_a): [1, 4, 9, 16, 25]\n"
     ]
    }
   ],
   "source": [
    "# map(함수, 리스트)\n",
    "# 리스트의 요소를 함수에 넣고 리턴된 값으로 새로운 리스트를 구성해 주는 함수\n",
    "\n",
    "def power(item):\n",
    "    return item * item\n",
    "def under_3(item):\n",
    "    return item < 3\n",
    "\n",
    "list_input_a = [1, 2, 3, 4, 5]\n",
    "\n",
    "output_a = map(power, list_input_a)\n",
    "print(\"# map() 함수의 실행 결과\")\n",
    "print(\"map(power, list_input_a):\", output_a)\n",
    "print(\"map(power, list_input_a):\", list(output_a))"
   ]
  },
  {
   "cell_type": "code",
   "execution_count": null,
   "id": "31010444",
   "metadata": {
    "id": "31010444",
    "outputId": "884df36b-41e0-4137-d08e-1feab1548d33"
   },
   "outputs": [
    {
     "name": "stdout",
     "output_type": "stream",
     "text": [
      "filter(under_3, list_input_a): <filter object at 0x0000021C1638B880>\n",
      "filter(under_3, list_input_a): [1, 2]\n"
     ]
    }
   ],
   "source": [
    "# filter(함수, 리스트)\n",
    "# 리스트의 요소를 함수에 넣고 리턴된 값이 True인 것으로, 새로운 리스트를 구성해 주는 함수 = 뽑아주는 것\n",
    "\n",
    "def power(item):\n",
    "    return item * item\n",
    "def under_3(item):\n",
    "    return item < 3\n",
    "\n",
    "list_input_a = [1, 2, 3, 4, 5]\n",
    "\n",
    "output_b = filter(under_3, list_input_a)\n",
    "print(\"filter(under_3, list_input_a):\", output_b)\n",
    "print(\"filter(under_3, list_input_a):\", list(output_b))\n"
   ]
  },
  {
   "cell_type": "code",
   "execution_count": null,
   "id": "294aa040",
   "metadata": {
    "id": "294aa040",
    "outputId": "57384877-1709-438c-d970-ef26dfddc84c"
   },
   "outputs": [
    {
     "name": "stdout",
     "output_type": "stream",
     "text": [
      "# map() 함수의 실행 결과\n",
      "map(power, list_input_a): <map object at 0x000001EB9EADFDF0>\n",
      "map(power, list_input_a): [1, 4, 9, 16, 25]\n",
      "\n",
      "filter(under_3, list_input_a): <filter object at 0x000001EB9EADF7C0>\n",
      "filter(under_3, list_input_a): [1, 2]\n"
     ]
    }
   ],
   "source": [
    "# lambda\n",
    "# 간단한 함수를 쉽게 선언하는 방법\n",
    "# 매개변수로 함수를 전달하기 위해 함수 구문을 작성하는 것이 번거롭고, 코드 공간 낭비라는 생각이 들 때 함수를 간단하고 쉽게 선언하는 방법입니다.\n",
    "# lambda 매개변수: 리턴값\n",
    "\n",
    "# 위의 함수를 lambda로 변환하는 과정 (1/2)\n",
    "power = lambda x: x * x\n",
    "under_3 = lambda x: x < 3\n",
    "\n",
    "list_input_a = [1, 2, 3, 4, 5]\n",
    "\n",
    "output_a = map(power, list_input_a)\n",
    "print(\"# map() 함수의 실행 결과\")\n",
    "print(\"map(power, list_input_a):\", output_a)\n",
    "print(\"map(power, list_input_a):\", list(output_a))\n",
    "print()\n",
    "\n",
    "output_b = filter(under_3, list_input_a)\n",
    "print(\"filter(under_3, list_input_a):\", output_b)\n",
    "print(\"filter(under_3, list_input_a):\", list(output_b))\n",
    "\n"
   ]
  },
  {
   "cell_type": "code",
   "execution_count": null,
   "id": "13cd7cdd",
   "metadata": {
    "id": "13cd7cdd",
    "outputId": "e6cafc8f-b4b6-4af8-f896-bd5f26865115"
   },
   "outputs": [
    {
     "name": "stdout",
     "output_type": "stream",
     "text": [
      "# map() 함수의 실행 결과\n",
      "map(power, list_input_a): <map object at 0x0000026BF6EE4EB0>\n",
      "map(power, list_input_a): [1, 4, 9, 16, 25]\n",
      "\n",
      "filter(under_3, list_input_a): <filter object at 0x0000026BF6EE4070>\n",
      "filter(under_3, list_input_a): [1, 2]\n"
     ]
    }
   ],
   "source": [
    "# 위의 함수를 lambda로 변환하는 과정 (2/2)\n",
    "\n",
    "list_input_a = [1, 2, 3, 4, 5]\n",
    "\n",
    "output_a = map(lambda x : x * x, list_input_a)\n",
    "print(\"# map() 함수의 실행 결과\")\n",
    "print(\"map(power, list_input_a):\", output_a)\n",
    "print(\"map(power, list_input_a):\", list(output_a))\n",
    "print()\n",
    "\n",
    "output_b = filter(lambda x: x < 3, list_input_a)\n",
    "print(\"filter(under_3, list_input_a):\", output_b)\n",
    "print(\"filter(under_3, list_input_a):\", list(output_b))\n"
   ]
  },
  {
   "cell_type": "code",
   "execution_count": null,
   "id": "196f3c42",
   "metadata": {
    "id": "196f3c42"
   },
   "outputs": [],
   "source": [
    "import random\n",
    "\n",
    "random."
   ]
  },
  {
   "cell_type": "code",
   "execution_count": null,
   "id": "0a5d5998",
   "metadata": {
    "id": "0a5d5998"
   },
   "outputs": [],
   "source": [
    "datetime\n",
    "날자, 시간과 관련된 모듈\n",
    "\n",
    "now.year\n",
    "now.month\n",
    "now.hour\n",
    "now.minute\n",
    "now.second\n",
    "\n",
    "now.strftime(\"%Y.%m.%d.%H.%M.%S\")\n",
    "# %Y 년\n",
    "# %m 월\n",
    "# %d 일\n",
    "# %H 시\n",
    "# %M 분\n",
    "# %S 초\n",
    "\n",
    "\n",
    "\n"
   ]
  },
  {
   "cell_type": "code",
   "execution_count": null,
   "id": "1f2c1676",
   "metadata": {
    "id": "1f2c1676"
   },
   "outputs": [],
   "source": [
    "time모듈 - 주로 특정 시간 동안 시간 정지할 때\n"
   ]
  },
  {
   "cell_type": "code",
   "execution_count": null,
   "id": "7091d764",
   "metadata": {
    "id": "7091d764"
   },
   "outputs": [],
   "source": []
  },
  {
   "cell_type": "code",
   "execution_count": null,
   "id": "5bba023f",
   "metadata": {
    "id": "5bba023f",
    "outputId": "394ad068-ca10-488d-f532-7500624d2524"
   },
   "outputs": [
    {
     "name": "stdout",
     "output_type": "stream",
     "text": [
      "122\n",
      "122\n",
      "122\n",
      "요세하녕안\n"
     ]
    }
   ],
   "source": [
    "# 진수 데이터 표현법\n",
    "# 2진수 - 0b\n",
    "# 8진수 - 0o\n",
    "# 16진수 - 0x\n",
    "\n",
    "# 122는\n",
    "# 2진수로 1111010\n",
    "# 8진수로 172\n",
    "# 16진수로 7A\n",
    "\n",
    "a = 0b1111010\n",
    "b = 0o172\n",
    "c = 0x7A\n",
    "print(a)\n",
    "print(b)\n",
    "print(c)"
   ]
  },
  {
   "cell_type": "markdown",
   "id": "3cd89d91",
   "metadata": {
    "id": "3cd89d91"
   },
   "source": [
    "\n",
    "\n",
    "플랫폼 비즈니스 - 수요자도 생산자가 될 수 있다\n",
    "\n",
    "표현식 -> 문장 -> 프로그램\n",
    "\n",
    "import?\n",
    "설치할 필요는 없지만(파이썬 설치할 때 있는 것)\n",
    "\n",
    "자원을 가져오는 것 - 변수나 함수\n",
    "keyword - 예약\n",
    "모듈 패키지 라이브러리 클래스 안의 기능을 쓸 때 .을 씀\n",
    "패키지=라이브러리 > 클래스 > 모듈\n",
    "클래스 밑의 함수를 메서드라고 함\n",
    "\n",
    "import keyword\n",
    "keywordlikst를 쓰려고 불러 왔음\n",
    "keyword.kwlist\n",
    "\n"
   ]
  },
  {
   "cell_type": "markdown",
   "id": "6b6f325a",
   "metadata": {
    "id": "6b6f325a"
   },
   "source": [
    "파이썬 자료형\n",
    "\n",
    "숫자형\n",
    "정수\n",
    "실수\n",
    "8진수\n",
    "16진수\n",
    "\n",
    "다른 타입간 연산은 안됨\n",
    "문자열 + 문자열 (O)\n",
    "숫자 + 숫자는 (O)\n",
    "숫자 + 문자열 (X)\n",
    "\n"
   ]
  },
  {
   "cell_type": "code",
   "execution_count": null,
   "id": "ad7755c7",
   "metadata": {
    "colab": {
     "base_uri": "https://localhost:8080/"
    },
    "executionInfo": {
     "elapsed": 517,
     "status": "ok",
     "timestamp": 1678363474466,
     "user": {
      "displayName": "박주경",
      "userId": "06694313831384541311"
     },
     "user_tz": -540
    },
    "id": "ad7755c7",
    "outputId": "90293251-a698-4da0-9f49-3c058ad98dbb"
   },
   "outputs": [
    {
     "data": {
      "text/plain": [
       "1"
      ]
     },
     "execution_count": 6,
     "metadata": {},
     "output_type": "execute_result"
    }
   ],
   "source": [
    "복합 대입 연산자\n",
    "+= +한 것을 대입(=)한다는 의미임\n"
   ]
  },
  {
   "cell_type": "code",
   "execution_count": null,
   "id": "afec515d",
   "metadata": {
    "id": "afec515d",
    "outputId": "5c638ebe-a520-483f-d6e9-ab99020c1f3b"
   },
   "outputs": [
    {
     "name": "stdout",
     "output_type": "stream",
     "text": [
      "5252.273\n"
     ]
    }
   ],
   "source": [
    "# input() #입력함수\n",
    "# 다 문자화 한다. 숫자를 입력해도\n",
    "\n",
    "# 바꾸는 법 (자료형 변화법)\n",
    "# int()\n",
    "# float()\n",
    "\n",
    "a = 52\n",
    "b = 52.273\n",
    "print(str(a) + str(b))\n"
   ]
  },
  {
   "cell_type": "code",
   "execution_count": null,
   "id": "f5295817",
   "metadata": {
    "id": "f5295817"
   },
   "outputs": [],
   "source": [
    "# \"\" - 한 줄표시, \\n으로 줄바꿈 할 수 있음 (개행)\n",
    "#\"\"\" \"\"\" - 있는 그대로 표현이 됨, enter넣으면 그대로 줄바꿈 출력 됨"
   ]
  },
  {
   "cell_type": "code",
   "execution_count": null,
   "id": "a802d63f",
   "metadata": {
    "id": "a802d63f",
    "outputId": "6b60f5a9-ba86-4839-ec56-f108fb1c5368"
   },
   "outputs": [
    {
     "ename": "SyntaxError",
     "evalue": "invalid syntax (3764158389.py, line 1)",
     "output_type": "error",
     "traceback": [
      "\u001b[1;36m  File \u001b[1;32m\"C:\\Users\\h\\AppData\\Local\\Temp\\ipykernel_7816\\3764158389.py\"\u001b[1;36m, line \u001b[1;32m1\u001b[0m\n\u001b[1;33m    파이썬의 대표적 자료형 - list, tuple, bull, dictionary, set\u001b[0m\n\u001b[1;37m         ^\u001b[0m\n\u001b[1;31mSyntaxError\u001b[0m\u001b[1;31m:\u001b[0m invalid syntax\n"
     ]
    }
   ],
   "source": [
    "파이썬의 대표적 자료형 - list, tuple, bull, dictionary, set\n",
    "\n",
    "리스트 특징\n",
    "[]로 표시함\n",
    "숫자, 문자 등 들어갈 수 있음\n",
    "indexing\n"
   ]
  },
  {
   "cell_type": "code",
   "execution_count": null,
   "id": "d37a3414",
   "metadata": {
    "id": "d37a3414",
    "outputId": "01ccc4e0-1fed-4a6a-f62e-355f3d0f4cfa"
   },
   "outputs": [
    {
     "name": "stdout",
     "output_type": "stream",
     "text": [
      "[1, 2, 3, 4]\n",
      "[4, 3, 2, 1]\n"
     ]
    }
   ],
   "source": [
    "# sort sorted의 차이점\n",
    "\n",
    "# sort를 하면 b값도 sort된 상태로 바뀐다\n",
    "# 정렬\n",
    "b = [2,4,3,1]\n",
    "b.sort()\n",
    "print(b)\n",
    "# 내림차순\n",
    "b.sort(reverse=True)\n",
    "print(b)"
   ]
  },
  {
   "cell_type": "code",
   "execution_count": null,
   "id": "55cd4549",
   "metadata": {
    "id": "55cd4549",
    "outputId": "9fd022ea-f569-4c54-9bc7-9e36ac24aee5"
   },
   "outputs": [
    {
     "name": "stdout",
     "output_type": "stream",
     "text": [
      "[2, 4, 3, 1]\n",
      "[4, 3, 2, 1]\n",
      "[1, 2, 3, 4]\n"
     ]
    }
   ],
   "source": [
    "# reverse의 개념은 정렬이 아니라 단순히 뒤집는 것이다\n",
    "\n",
    "b= [2,4,3,1]\n",
    "b_d = sorted(b, reverse=True)\n",
    "print(b)\n",
    "print(b_d)\n",
    "b_d.reverse()\n",
    "print(b_d)"
   ]
  },
  {
   "cell_type": "code",
   "execution_count": null,
   "id": "de41497e",
   "metadata": {
    "id": "de41497e",
    "outputId": "f3dbca97-f531-4e60-e401-50bff1db0f32"
   },
   "outputs": [
    {
     "ename": "SyntaxError",
     "evalue": "unmatched ')' (222319172.py, line 11)",
     "output_type": "error",
     "traceback": [
      "\u001b[1;36m  File \u001b[1;32m\"C:\\Users\\h\\AppData\\Local\\Temp\\ipykernel_7816\\222319172.py\"\u001b[1;36m, line \u001b[1;32m11\u001b[0m\n\u001b[1;33m    c.index[1])\u001b[0m\n\u001b[1;37m              ^\u001b[0m\n\u001b[1;31mSyntaxError\u001b[0m\u001b[1;31m:\u001b[0m unmatched ')'\n"
     ]
    }
   ],
   "source": [
    "# numpy라는 패키지, 라이브러리\n",
    "# 거기에 random이라는 클래스\n",
    "# randint 함수, (클래스 안에 있으니사 메서드)\n",
    "# 랜덤으로 정수를 뽑아줌\n",
    "\n",
    "import numpy as np\n",
    "\n",
    "c = np.random.randint(100, size=100).tolist()#형태는 배열로 나온다. python에는 없지만 분석 라이브러리 numpy의 기본적인 형태는 배열이다. 그걸 리스트로 바꾸는게 .tolist()\n",
    "print(c)\n",
    "print(len(c))\n",
    "c.index[1])\n"
   ]
  },
  {
   "cell_type": "code",
   "execution_count": null,
   "id": "85c84b04",
   "metadata": {
    "id": "85c84b04",
    "outputId": "25cab144-68aa-4369-f9e2-0b1988131b72"
   },
   "outputs": [
    {
     "ename": "SyntaxError",
     "evalue": "invalid syntax (2432040230.py, line 1)",
     "output_type": "error",
     "traceback": [
      "\u001b[1;36m  File \u001b[1;32m\"C:\\Users\\h\\AppData\\Local\\Temp\\ipykernel_7816\\2432040230.py\"\u001b[1;36m, line \u001b[1;32m1\u001b[0m\n\u001b[1;33m    numpy와 같이 쓸 수 있는 것\u001b[0m\n\u001b[1;37m           ^\u001b[0m\n\u001b[1;31mSyntaxError\u001b[0m\u001b[1;31m:\u001b[0m invalid syntax\n"
     ]
    }
   ],
   "source": [
    "numpy와 같이 쓸 수 있는 것\n",
    "h.extend\n",
    "h.append\n",
    "h.insert\n",
    "len(h)\n",
    "\n",
    "슬라이싱\n",
    "print(list[::2])"
   ]
  },
  {
   "cell_type": "code",
   "execution_count": null,
   "id": "aa4bcea9",
   "metadata": {
    "id": "aa4bcea9"
   },
   "outputs": [],
   "source": [
    "# 튜플\n",
    "# list와 비슷하다. 차이점은 수정, 삭제가 안된다. 콤마를 같이 쓴다)\n",
    "# ()로 묶어준다\n",
    "\n",
    "t1 = (1,) # 1개일 때는 , 붙여준다. 안그러면 정수 처리함"
   ]
  },
  {
   "cell_type": "code",
   "execution_count": null,
   "id": "9029709f",
   "metadata": {
    "id": "9029709f",
    "outputId": "9e183cf3-e379-430d-dcfa-3baf3d6637bf"
   },
   "outputs": [
    {
     "ename": "SyntaxError",
     "evalue": "invalid syntax (1489073058.py, line 2)",
     "output_type": "error",
     "traceback": [
      "\u001b[1;36m  File \u001b[1;32m\"C:\\Users\\h\\AppData\\Local\\Temp\\ipykernel_7816\\1489073058.py\"\u001b[1;36m, line \u001b[1;32m2\u001b[0m\n\u001b[1;33m    index가 없다. key:value로 찾는다\u001b[0m\n\u001b[1;37m           ^\u001b[0m\n\u001b[1;31mSyntaxError\u001b[0m\u001b[1;31m:\u001b[0m invalid syntax\n"
     ]
    }
   ],
   "source": [
    "# dictionary\n",
    "# index가 없다. key:value로 찾는다\n",
    "# {}로 묶어준다\n",
    "\n",
    "# .keys\n",
    "# .values\n",
    "# .items\n",
    "\n",
    "\n",
    "    "
   ]
  },
  {
   "cell_type": "code",
   "execution_count": null,
   "id": "299ef132",
   "metadata": {
    "id": "299ef132",
    "outputId": "e75b7d68-a585-4eaf-afa3-fd9a7f5054f0"
   },
   "outputs": [
    {
     "ename": "NameError",
     "evalue": "name '합집합' is not defined",
     "output_type": "error",
     "traceback": [
      "\u001b[1;31m---------------------------------------------------------------------------\u001b[0m",
      "\u001b[1;31mNameError\u001b[0m                                 Traceback (most recent call last)",
      "\u001b[1;32m~\\AppData\\Local\\Temp\\ipykernel_7816\\3291220962.py\u001b[0m in \u001b[0;36m<module>\u001b[1;34m\u001b[0m\n\u001b[0;32m      4\u001b[0m \u001b[1;33m\u001b[0m\u001b[0m\n\u001b[0;32m      5\u001b[0m \u001b[1;33m\u001b[0m\u001b[0m\n\u001b[1;32m----> 6\u001b[1;33m \u001b[0m합집합\u001b[0m\u001b[1;33m\u001b[0m\u001b[1;33m\u001b[0m\u001b[0m\n\u001b[0m\u001b[0;32m      7\u001b[0m \u001b[0m교집합\u001b[0m\u001b[1;33m\u001b[0m\u001b[1;33m\u001b[0m\u001b[0m\n\u001b[0;32m      8\u001b[0m \u001b[1;33m\u001b[0m\u001b[0m\n",
      "\u001b[1;31mNameError\u001b[0m: name '합집합' is not defined"
     ]
    }
   ],
   "source": [
    "# set\n",
    "# 특징: 순서가 없다. 중복을 허용하지 않는다\n",
    "# 결과를 {}로 표현해 준다\n",
    "\n",
    "\n",
    "\n"
   ]
  },
  {
   "cell_type": "code",
   "execution_count": null,
   "id": "6633cf84",
   "metadata": {
    "id": "6633cf84",
    "outputId": "98c8d0a4-53cb-432d-b1b6-f6dc5d20b24b"
   },
   "outputs": [
    {
     "ename": "NameError",
     "evalue": "name '합집합' is not defined",
     "output_type": "error",
     "traceback": [
      "\u001b[1;31m---------------------------------------------------------------------------\u001b[0m",
      "\u001b[1;31mNameError\u001b[0m                                 Traceback (most recent call last)",
      "\u001b[1;32m~\\AppData\\Local\\Temp\\ipykernel_7816\\2353043782.py\u001b[0m in \u001b[0;36m<module>\u001b[1;34m\u001b[0m\n\u001b[1;32m----> 1\u001b[1;33m \u001b[0m합집합\u001b[0m\u001b[1;33m\u001b[0m\u001b[1;33m\u001b[0m\u001b[0m\n\u001b[0m\u001b[0;32m      2\u001b[0m \u001b[0m교집합\u001b[0m\u001b[1;33m\u001b[0m\u001b[1;33m\u001b[0m\u001b[0m\n",
      "\u001b[1;31mNameError\u001b[0m: name '합집합' is not defined"
     ]
    }
   ],
   "source": [
    "\n",
    "합집합\n",
    "교집합\n"
   ]
  },
  {
   "cell_type": "code",
   "execution_count": null,
   "id": "6b0dd57f",
   "metadata": {
    "id": "6b0dd57f",
    "outputId": "a8bc7d16-232c-4f03-ea03-61b7986f3305"
   },
   "outputs": [
    {
     "name": "stdout",
     "output_type": "stream",
     "text": [
      "True\n"
     ]
    }
   ],
   "source": [
    "# Bool\n",
    "# 1은 True, 0은 False이다\n",
    "# 문자열 비교는 알파벳 순서이다 (엄밀히 말하면 ascii값으로 크기 순서 비교한다)\n",
    "\n",
    "str1 = 'abc'; str2 = 'python'\n",
    "print(str1 < str2)"
   ]
  },
  {
   "cell_type": "code",
   "execution_count": null,
   "id": "b911eb9b",
   "metadata": {
    "id": "b911eb9b",
    "outputId": "d21614d0-378c-40e5-d70e-6641c0187ac3"
   },
   "outputs": [
    {
     "data": {
      "text/plain": [
       "'나의 이름은 홍길순입니다. 나이는 20입니다.'"
      ]
     },
     "execution_count": 33,
     "metadata": {},
     "output_type": "execute_result"
    }
   ],
   "source": [
    "# 문자열 포멧\n",
    "\n",
    "name = '홍길순'\n",
    "age = 20\n",
    "f'나의 이름은 {name}입니다. 나이는 {age}입니다.'"
   ]
  },
  {
   "cell_type": "code",
   "execution_count": null,
   "id": "01b2cb58",
   "metadata": {
    "id": "01b2cb58",
    "outputId": "eb8ae6cc-89ee-4d63-b4dd-0e35ee9f1738"
   },
   "outputs": [
    {
     "name": "stdout",
     "output_type": "stream",
     "text": [
      "홍길동 선수가 1등입니다.\n",
      "홍길동 선수가 1등입니다.\n"
     ]
    }
   ],
   "source": [
    "# 포멧함수 - 또 다른 방법 (.format)\n",
    "f1 = \"{} 선수가 {}등입니다.\".format('홍길동',1)\n",
    "# f1 = \"{1} 선수가 {0}등입니다.\".format(1,'홍길동')\n",
    "print(f1)\n",
    "print(\"%s 선수가 %d등입니다.\" %(\"홍길동\",1))"
   ]
  },
  {
   "cell_type": "code",
   "execution_count": null,
   "id": "ed8f0d46",
   "metadata": {
    "id": "ed8f0d46",
    "outputId": "b3ee811a-4835-4788-d3be-1caee46c77f9"
   },
   "outputs": [
    {
     "name": "stdout",
     "output_type": "stream",
     "text": [
      "파이썬은 자바보다 2배 쉽습니다\n",
      "파이썬은 자바보다 2배 쉅습니다.\n"
     ]
    }
   ],
   "source": [
    "# 포멧함수 - 또 다른 방법 (%)\n",
    "f1=\"{}은 {}보다 {}배 쉽습니다\".format(\"파이썬\",\"자바\",2)\n",
    "print(f1)\n",
    "print(\"%s은 %s보다 %d배 쉅습니다.\"%(\"파이썬\",\"자바\",2))\n"
   ]
  },
  {
   "cell_type": "code",
   "execution_count": null,
   "id": "3f314a5f",
   "metadata": {
    "id": "3f314a5f",
    "outputId": "bafa4d3a-6efa-4c9d-9965-e9c0c230edc1"
   },
   "outputs": [
    {
     "name": "stdout",
     "output_type": "stream",
     "text": [
      "현상 유지\n"
     ]
    }
   ],
   "source": [
    "# if문만 쓰면 다 독립적으로 따진다.\n",
    "\n",
    "i = 5,000,000\n",
    "e = 5,000,000\n",
    "\n",
    "if i > e:\n",
    "    print('저축 증가')\n",
    "if i < e:\n",
    "    print('빛이 증가')\n",
    "if i == e:\n",
    "    print('현상 유지')\n"
   ]
  },
  {
   "cell_type": "code",
   "execution_count": null,
   "id": "1e799bb6",
   "metadata": {
    "id": "1e799bb6",
    "outputId": "f7abc4cb-5808-4339-da4a-5d5f101d1452"
   },
   "outputs": [
    {
     "name": "stdout",
     "output_type": "stream",
     "text": [
      "현상 유지\n"
     ]
    }
   ],
   "source": [
    "# 제어문 - if~elif~else\n",
    "# 독립적이 아니다. 안 맞으면 대상에서 제외시킨다 그래서 else에서는 조건 안써줘도 된다.\n",
    "# \"수입과 지출금액을 비교해서 수입이 많은면 저축 증가, 반대이면 빚이 증가, \n",
    "# 같으면 현상 유지\"\n",
    "i = 5,000,000\n",
    "e = 5,000,000\n",
    "\n",
    "if i > e:\n",
    "    print('저축 증가')\n",
    "elif i < e:\n",
    "    print('빛이 증가')\n",
    "else:\n",
    "    print('현상 유지')"
   ]
  },
  {
   "cell_type": "code",
   "execution_count": null,
   "id": "54fbef13",
   "metadata": {
    "id": "54fbef13",
    "outputId": "0ba6afbf-51d9-4c76-e5c5-d7ff1fb04c7a"
   },
   "outputs": [
    {
     "name": "stdout",
     "output_type": "stream",
     "text": [
      "5\n",
      "15\n",
      "6\n",
      "20\n",
      "7\n",
      "\n",
      "5\n",
      "15\n",
      "6\n",
      "20\n",
      "7\n",
      "25\n"
     ]
    }
   ],
   "source": [
    "# for 반복문 안쓸 때\n",
    "numbers = [5,15,6,20,7,25]\n",
    "print(numbers[0])\n",
    "print(numbers[1])\n",
    "print(numbers[2])\n",
    "print(numbers[3])\n",
    "print(numbers[4])\n",
    "print() #그냥 결과값 한 칸 띄어 보여주려고\n",
    "\n",
    "# for 반복문\n",
    "numbers = [5,15,6,20,7,25]\n",
    "for n in numbers:\n",
    "    print(n)\n"
   ]
  },
  {
   "cell_type": "code",
   "execution_count": null,
   "id": "6d0d2231",
   "metadata": {
    "id": "6d0d2231",
    "outputId": "687a45fe-7b54-46c0-e30b-a1aff6928ab9"
   },
   "outputs": [
    {
     "name": "stdout",
     "output_type": "stream",
     "text": [
      "12345678910"
     ]
    }
   ],
   "source": [
    "# 1-10중 1-5까지\n",
    "for i in range(1,11):\n",
    "    print(i,end='')\n",
    "    if i < 5:\n",
    "        continue\n",
    "    else:\n",
    "        break # break를 안쓰면 어떻게 되나? 67890나옴\n",
    "        "
   ]
  },
  {
   "cell_type": "code",
   "execution_count": null,
   "id": "51ebc507",
   "metadata": {
    "id": "51ebc507",
    "outputId": "182ad851-8d83-4a72-ae7b-6ace8d7ea39f"
   },
   "outputs": [
    {
     "name": "stdout",
     "output_type": "stream",
     "text": [
      "45\n",
      "1035\n"
     ]
    }
   ],
   "source": [
    "# while\n",
    "# 정수 1부터 n까지 더할 때 그 합이 1000보다 커지게 되는 n과 합을 구하세요\n",
    "\n",
    "x = 1\n",
    "sum = 0\n",
    "while 1: # 1은 True이다\n",
    "    sum = sum + x\n",
    "    if sum > 1000:\n",
    "        print(x)\n",
    "        print(sum)\n",
    "        break\n",
    "    x = x + 1"
   ]
  },
  {
   "cell_type": "code",
   "execution_count": null,
   "id": "a5c0380c",
   "metadata": {
    "id": "a5c0380c"
   },
   "outputs": [],
   "source": [
    "# [과제] format 함수를 이용해서 다음과 같은 형식으로 현재 날짜/시간을 출력하세요.\n",
    "# 2021년 12월 29일 15시 47분 30초\n",
    "# 0? / 02d는 아마 d=정수수, 2자리, 공백은 0으로로 채우라는 의미인듯 / 0 1: 2:는 index값? 이거없어도 입력한 순서대로 배치되는 것 아닌가?\n",
    "\n",
    "# 나\n",
    "import datetime\n",
    "\n",
    "now = datetime.datetime.now()\n",
    "formatted = \"{0}년 {1:02d}월 {2:02d}일 {3:02d}시 {4:02d}분 {5:02d}초\".format(now.year, now.month, now.day, now.hour, now.minute, now.second)\n",
    "\n",
    "print(formatted)"
   ]
  },
  {
   "cell_type": "code",
   "execution_count": null,
   "id": "6c50149e",
   "metadata": {
    "id": "6c50149e",
    "outputId": "64c930d5-5d93-4fe2-a22f-dec2ddb4e667"
   },
   "outputs": [
    {
     "name": "stdout",
     "output_type": "stream",
     "text": [
      "32\n",
      "25\n"
     ]
    }
   ],
   "source": [
    "# lambda 함수\n",
    "\n",
    "x = lambda a,b:a**b\n",
    "print(x(2,5))\n",
    "print(x(5,2))"
   ]
  },
  {
   "cell_type": "code",
   "execution_count": null,
   "id": "8fcfe5f8",
   "metadata": {
    "id": "8fcfe5f8"
   },
   "outputs": [],
   "source": [
    "coffee = 5\n",
    "price = 300\n",
    "\n",
    "while 1:\n",
    "    money = int(input(\"맛있는 커피를 300원에 드립니다. 현금을 넣어주세요!!\"))\n",
    "    if money == 300:\n",
    "        print('커피를 맛있게 드세요')\n",
    "        coffee -= 1\n",
    "    elif money > 300:\n",
    "        c = money - 300\n",
    "        print(f'따뜻한 커피 드시고 잔돈 {c}원을 챙기세요' )\n",
    "        coffee -= 1\n",
    "    else:\n",
    "        print(f'커피는 {price}원입니다. 현금을 다시 넣어 주세요.')\n",
    "    if coffee == 0:\n",
    "        print('커피가 다 떨어졌어요~ 잠시 판매 중단합니다.')\n",
    "        break"
   ]
  },
  {
   "cell_type": "markdown",
   "id": "0fdf9526",
   "metadata": {
    "id": "0fdf9526"
   },
   "source": [
    "내장 함수\n",
    "외장 함수\n",
    "\n",
    "https://codedrive.tistory.com/91\n",
    "\n",
    "map\n",
    "*arg 쓰는 것과 비슷한 느낌?\n",
    "\n",
    "datetime.datetima # 패키지.클래스\n",
    "datetime.date\n",
    "datetime.time #time모듈하고는 다르다\n",
    "\n",
    "import datetime\n",
    "dt=datetime.datetime.now() # 모듈만 불러 왔기에 다 지정해줘야 함\n",
    "\n",
    "random 난수를 발생시키는 모듈\n",
    "import random\n",
    "random.random()\n",
    "random.randint()\n",
    "\n"
   ]
  },
  {
   "cell_type": "code",
   "execution_count": null,
   "id": "a181548c",
   "metadata": {
    "id": "a181548c",
    "outputId": "8e2d25e7-53ef-40ca-9f1b-d7bc3d5f0d0d"
   },
   "outputs": [
    {
     "name": "stdout",
     "output_type": "stream",
     "text": [
      "\n",
      "                    It is true\n",
      "'Python is fit for data analysis'\n",
      "\n",
      "\n",
      "It is true\n",
      "'Python is fit for data analysis'\n"
     ]
    }
   ],
   "source": [
    "# 사용자 함수\n",
    "# strip() 함수\n",
    "\n",
    "input_a =\"\"\"\n",
    "                    It is true\n",
    "'Python is fit for data analysis'\n",
    "\"\"\"\n",
    "print(input_a)\n",
    "print()\n",
    "print(input_a.strip())\n"
   ]
  },
  {
   "cell_type": "code",
   "execution_count": null,
   "id": "0b898514",
   "metadata": {
    "id": "0b898514",
    "outputId": "6c838453-f482-4ea7-c561-059b6fbf8a45"
   },
   "outputs": [
    {
     "name": "stdout",
     "output_type": "stream",
     "text": [
      "['10', '20', '30', '40', '50']\n"
     ]
    },
    {
     "data": {
      "text/plain": [
       "['10', '20', '30', '40', '50']"
      ]
     },
     "execution_count": 5,
     "metadata": {},
     "output_type": "execute_result"
    }
   ],
   "source": [
    "# split() 함수\n",
    "\n",
    "# \"10/20/30/40/50/\"을 '/'을 기준으로 자르세요.\n",
    "a=\"10/20/30/40/50\"\n",
    "b=\"10,20,30,40,50\"\n",
    "print(a.split(\"/\"))\n",
    "b.split(\",\")"
   ]
  },
  {
   "cell_type": "code",
   "execution_count": null,
   "id": "75725565",
   "metadata": {
    "id": "75725565"
   },
   "outputs": [],
   "source": [
    "# # 1부터 100까지 아래와 같이 2개의 수를 곱해서 가장 큰 수를 구하세요.\n",
    "# 1*99, 2*98 ...99*1\n",
    "\n",
    "\n",
    "#for i in range(1,101): # ,를 쓴다. :가 아니라\n",
    "for j in range(101, \n",
    "    print(j)"
   ]
  },
  {
   "cell_type": "code",
   "execution_count": null,
   "id": "4db3a5ea",
   "metadata": {
    "id": "4db3a5ea"
   },
   "outputs": [],
   "source": [
    "n = 1\n",
    "result = 0\n",
    "while n<=100:\n",
    "    a = n*(100-n)\n",
    "    if a>result:\n",
    "        result = a\n",
    "        n+=1\n",
    "    else:\n",
    "        n+=a\n",
    "        continue\n",
    "print(result)"
   ]
  },
  {
   "cell_type": "code",
   "execution_count": null,
   "id": "b47ab2c5",
   "metadata": {
    "id": "b47ab2c5"
   },
   "outputs": [],
   "source": [
    "# [과제_0309_1] [    ]을 채워서 아래의 출력과 같이 출력하세요.\n",
    "# 출력 :\n",
    "numbers = [1,2,3,4,5,6,7,8,9]\n",
    "output = [[], [], []]\n",
    "\n",
    "# [[1,4,7],[2,5,8],[3,6,9]]"
   ]
  },
  {
   "cell_type": "code",
   "execution_count": null,
   "id": "9c2e96df",
   "metadata": {
    "id": "9c2e96df"
   },
   "outputs": [],
   "source": [
    "import numpy as np\n",
    "# np.random.seed(0) #이거 활성화 하면 값이 고정됨\n",
    "num = np.random.randint(20,size=20)\n",
    "num"
   ]
  },
  {
   "cell_type": "code",
   "execution_count": null,
   "id": "854f4e46",
   "metadata": {
    "id": "854f4e46",
    "outputId": "801e823a-01e4-4af8-9efe-c4e0a57c2df1"
   },
   "outputs": [
    {
     "name": "stdout",
     "output_type": "stream",
     "text": [
      "게임 수: 5\n",
      "[12, 17, 14, 40, 39, 15]\n",
      "[25, 15, 44, 41, 24, 38]\n",
      "[37, 27, 22, 12, 32, 20]\n",
      "[33, 23, 18, 29, 17, 1]\n",
      "[31, 40, 28, 8, 25, 9]\n"
     ]
    }
   ],
   "source": [
    "import random\n",
    "\n",
    "num = input(\"게임 수: \")\n",
    "\n",
    "for i in range(0, int(num)):\n",
    "    lotto = random.sample(range(1,46),6) #sample() 함수는 중복을 포함하지 않게 한다\n",
    "#    lotto.sort() - 로또는 순서가 없으니까 이거 안해줘도 된다\n",
    "    print(lotto)\n",
    "    \n",
    "    "
   ]
  },
  {
   "cell_type": "code",
   "execution_count": null,
   "id": "89c1c65d",
   "metadata": {
    "id": "89c1c65d"
   },
   "outputs": [],
   "source": [
    "# 중복 피하는 다른 방법 while"
   ]
  },
  {
   "cell_type": "code",
   "execution_count": null,
   "id": "a68285aa",
   "metadata": {
    "id": "a68285aa"
   },
   "outputs": [],
   "source": [
    "#pop() 함수 - 쓴 것을 빼주는 것"
   ]
  },
  {
   "cell_type": "code",
   "execution_count": null,
   "id": "3bd2674a",
   "metadata": {
    "id": "3bd2674a"
   },
   "outputs": [],
   "source": [
    "# abcde => eabcd 바꾸기 (수강생)\n",
    "\n",
    "def star(a):\n",
    "    mun=''\n",
    "    for i in range(1, len(a)):\n",
    "        mun+=a[i]\n",
    "    return mun+a[0]\n",
    "\n",
    "slist=list(input(\"문자를 입력해주세요: \"))\n",
    "print(star(slist))\n"
   ]
  },
  {
   "cell_type": "code",
   "execution_count": null,
   "id": "62dc2e37",
   "metadata": {
    "id": "62dc2e37"
   },
   "outputs": [],
   "source": [
    "# 컴퓨터 숫자 맞추기 게임 - 틀릴 때 힌트 주기(up, down)"
   ]
  },
  {
   "cell_type": "code",
   "execution_count": null,
   "id": "dafbe167",
   "metadata": {
    "id": "dafbe167"
   },
   "outputs": [],
   "source": [
    "# 시간\n",
    "# %s - string, 문자열\n",
    "# %d - integer, 정수\n",
    "# strftime() 함수 - string for time\n",
    "# t= time.time() #1970년 이후의 시간을 초로 나타낸 것임\n",
    "\n"
   ]
  },
  {
   "cell_type": "code",
   "execution_count": null,
   "id": "8ad640d5",
   "metadata": {
    "id": "8ad640d5"
   },
   "outputs": [],
   "source": [
    "\n",
    "# 이름\t값\t비고\n",
    "# tm_year\t연\t예: 1993, 2019\n",
    "# tm_mon\t달\t범위: 1~12\n",
    "# tm_mday\t일\t범위: 1~31\n",
    "# tm_hour\t시\t범위: 0~23\n",
    "# tm_min\t분\t범위: 0~59\n",
    "# tm_sec\t초\t범위: 0~61\n",
    "# tm_wday\t요일\t범위: 0~6 (0: 월요일)\n",
    "# tm_yday\t연중 경과일\t범위: 1~366\n",
    "# tm_isdst\t일광절약타임 적용여부\t0: 미적용 1: 적용 -1: 모름\n",
    "\n",
    "\n",
    "            "
   ]
  },
  {
   "cell_type": "code",
   "execution_count": null,
   "id": "3f645491",
   "metadata": {
    "id": "3f645491",
    "outputId": "b6bfdddf-bbab-4002-cdf1-23b468edfcaa"
   },
   "outputs": [
    {
     "name": "stdout",
     "output_type": "stream",
     "text": [
      "None\n",
      "1\n"
     ]
    }
   ],
   "source": [
    "# 함수 밖에서 변수는 소용 없다 - 전역변수\n",
    "# 로컬변수로 함수 안에서 변수 설정해 주어야 한다\n",
    "\n",
    "a = 1\n",
    "def vartest(a):\n",
    "    a= a + 1\n",
    "    \n",
    "print(vartest(a))\n",
    "print(a)\n"
   ]
  },
  {
   "cell_type": "code",
   "execution_count": null,
   "id": "5afa82ae",
   "metadata": {
    "id": "5afa82ae",
    "outputId": "0966a1be-6e8c-4c26-ddee-5352a792321d"
   },
   "outputs": [
    {
     "name": "stdout",
     "output_type": "stream",
     "text": [
      "2\n"
     ]
    }
   ],
   "source": [
    "a = 1\n",
    "def vartest(a):\n",
    "    a= a+1\n",
    "    return a\n",
    "a = vartest(a)\n",
    "print(a)"
   ]
  },
  {
   "cell_type": "code",
   "execution_count": null,
   "id": "8b1d9ef1",
   "metadata": {
    "id": "8b1d9ef1",
    "outputId": "e0bbfaf8-18e2-4ae1-9c4d-fd93798eeedb"
   },
   "outputs": [
    {
     "name": "stdout",
     "output_type": "stream",
     "text": [
      "2\n"
     ]
    }
   ],
   "source": [
    "a = 1\n",
    "def vartest():\n",
    "    global a\n",
    "    a = a + 1\n",
    "    \n",
    "vartest()\n",
    "print(a)"
   ]
  },
  {
   "cell_type": "code",
   "execution_count": null,
   "id": "f50d2767",
   "metadata": {
    "id": "f50d2767",
    "outputId": "163eb540-78f9-4d8a-f180-38bb1e709f91"
   },
   "outputs": [
    {
     "data": {
      "text/plain": [
       "'C:\\\\hmkd1\\\\m1_programming'"
      ]
     },
     "execution_count": 56,
     "metadata": {},
     "output_type": "execute_result"
    }
   ],
   "source": [
    "# 현재 작업 폴더\n",
    "%pwd"
   ]
  },
  {
   "cell_type": "code",
   "execution_count": null,
   "id": "e5d55f05",
   "metadata": {
    "id": "e5d55f05",
    "outputId": "ca290514-e61e-4c1c-8ce0-4de488d0d65d"
   },
   "outputs": [
    {
     "name": "stdout",
     "output_type": "stream",
     "text": [
      " C 드라이브의 볼륨에는 이름이 없습니다.\n",
      " 볼륨 일련 번호: 369F-39BB\n",
      "\n",
      " C:\\hmkd1\\m1_programming 디렉터리\n",
      "\n",
      "2023-03-09  오후 03:12    <DIR>          .\n",
      "2023-03-09  오후 03:12    <DIR>          ..\n",
      "2023-03-09  오전 09:03    <DIR>          .ipynb_checkpoints\n",
      "2023-03-07  오후 04:18            72,110 p1_기초 (강사님).ipynb\n",
      "2023-03-07  오후 04:13            43,145 p1_기초(나).ipynb\n",
      "2023-03-09  오전 11:03           108,095 p1_기초.ipynb\n",
      "2023-03-07  오후 08:15           232,911 p1_기초1.ipynb\n",
      "2023-03-09  오후 03:12                 0 test!.txt\n",
      "2023-03-09  오후 03:13                 0 test1.txt\n",
      "2023-03-09  오후 03:09                 3 text1.txt.txt\n",
      "2023-03-09  오후 03:12            32,942 개인 정리.ipynb\n",
      "               8개 파일             489,206 바이트\n",
      "               3개 디렉터리  75,150,151,680 바이트 남음\n"
     ]
    }
   ],
   "source": [
    "!dir"
   ]
  },
  {
   "cell_type": "code",
   "execution_count": null,
   "id": "b53efd58",
   "metadata": {
    "id": "b53efd58"
   },
   "outputs": [],
   "source": [
    "# 파일 읽고 쓰기 - 규모가 작을 때 데이터를 파일로 관리할 수도 있기 때문이다. 알고 있어야 함\n",
    "f = open('test1.txt','w')\n",
    "f.close()"
   ]
  },
  {
   "cell_type": "code",
   "execution_count": null,
   "id": "7482781e",
   "metadata": {
    "id": "7482781e"
   },
   "outputs": [],
   "source": [
    "f = open('test1.txt','w')\n",
    "for i in range(1,11):\n",
    "    data = '%d번째 줄입니다.\\n' %i\n",
    "    f.write(data)\n",
    "f.close()"
   ]
  },
  {
   "cell_type": "code",
   "execution_count": null,
   "id": "5aaf9d2b",
   "metadata": {
    "id": "5aaf9d2b",
    "outputId": "3a23ee41-32ee-46d0-f95d-e0884e94c6d2"
   },
   "outputs": [
    {
     "name": "stdout",
     "output_type": "stream",
     "text": [
      "1번째 줄입니다.\n",
      "2번째 줄입니다.\n",
      "3번째 줄입니다.\n",
      "4번째 줄입니다.\n",
      "5번째 줄입니다.\n",
      "6번째 줄입니다.\n",
      "7번째 줄입니다.\n",
      "8번째 줄입니다.\n",
      "9번째 줄입니다.\n",
      "10번째 줄입니다.\n",
      "\n"
     ]
    }
   ],
   "source": [
    "f = open('test1.txt','r')\n",
    "date = f.read()\n",
    "print(date)\n",
    "f.close()\n"
   ]
  },
  {
   "cell_type": "code",
   "execution_count": null,
   "id": "4099143e",
   "metadata": {
    "id": "4099143e"
   },
   "outputs": [],
   "source": [
    "f = open('test1.txt','r')\n",
    "line = f.read()\n",
    "print(line)\n",
    "f.close()"
   ]
  },
  {
   "cell_type": "code",
   "execution_count": null,
   "id": "615a1477",
   "metadata": {
    "id": "615a1477",
    "outputId": "f58a9bd8-cb91-4dcf-c3eb-fe733deab853"
   },
   "outputs": [
    {
     "name": "stdout",
     "output_type": "stream",
     "text": [
      "1번째 줄입니다.\n",
      "\n",
      "2번째 줄입니다.\n",
      "\n",
      "3번째 줄입니다.\n",
      "\n",
      "4번째 줄입니다.\n",
      "\n",
      "5번째 줄입니다.\n",
      "\n",
      "6번째 줄입니다.\n",
      "\n",
      "7번째 줄입니다.\n",
      "\n",
      "8번째 줄입니다.\n",
      "\n",
      "9번째 줄입니다.\n",
      "\n",
      "10번째 줄입니다.\n",
      "\n"
     ]
    }
   ],
   "source": [
    "f = open('test1.txt','r')\n",
    "for i in range(10):\n",
    "    line = f.readline()\n",
    "    print(line)\n",
    "f.close()"
   ]
  },
  {
   "cell_type": "code",
   "execution_count": null,
   "id": "a0fbc0fc",
   "metadata": {
    "id": "a0fbc0fc",
    "outputId": "b9e73b3d-aa27-46b3-c5cd-de070d57f62e"
   },
   "outputs": [
    {
     "name": "stdout",
     "output_type": "stream",
     "text": [
      "1번째 줄입니다.\n",
      "\n",
      "2번째 줄입니다.\n",
      "\n",
      "3번째 줄입니다.\n",
      "\n",
      "4번째 줄입니다.\n",
      "\n",
      "5번째 줄입니다.\n",
      "\n",
      "6번째 줄입니다.\n",
      "\n",
      "7번째 줄입니다.\n",
      "\n",
      "8번째 줄입니다.\n",
      "\n",
      "9번째 줄입니다.\n",
      "\n",
      "10번째 줄입니다.\n",
      "\n"
     ]
    }
   ],
   "source": [
    "# 라인이 몇 줄인지 모를 경우에는 이렇게\n",
    "\n",
    "f = open('test1.txt', 'r')\n",
    "while True:\n",
    "    line = f.readline()\n",
    "    if not line: break\n",
    "    print(line)\n",
    "f.close()"
   ]
  },
  {
   "cell_type": "code",
   "execution_count": null,
   "id": "efb22c9c",
   "metadata": {
    "id": "efb22c9c",
    "outputId": "d9655501-6a93-4562-c312-e2d21b1eb328"
   },
   "outputs": [
    {
     "name": "stdout",
     "output_type": "stream",
     "text": [
      "1번째 줄입니다.\n",
      "\n",
      "2번째 줄입니다.\n",
      "\n",
      "3번째 줄입니다.\n",
      "\n",
      "4번째 줄입니다.\n",
      "\n",
      "5번째 줄입니다.\n",
      "\n",
      "6번째 줄입니다.\n",
      "\n",
      "7번째 줄입니다.\n",
      "\n",
      "8번째 줄입니다.\n",
      "\n",
      "9번째 줄입니다.\n",
      "\n",
      "10번째 줄입니다.\n",
      "\n"
     ]
    }
   ],
   "source": [
    "# 라인이 몇 줄인지 모를 경우에는 이렇게\n",
    "\n",
    "f = open('test1.txt', 'r')\n",
    "while True:\n",
    "    line = f.readline()\n",
    "    if not line: break\n",
    "    print(line)\n",
    "# f.close()"
   ]
  },
  {
   "cell_type": "code",
   "execution_count": null,
   "id": "598f01c0",
   "metadata": {
    "id": "598f01c0"
   },
   "outputs": [],
   "source": [
    "# 라인 추가하기\n",
    "\n",
    "f = open('test1.txt','a')\n",
    "for i in range(11,16):\n",
    "    data = '%d번째 줄입니다.\\n' %i\n",
    "    f.write(data)\n",
    "f.close()"
   ]
  },
  {
   "cell_type": "code",
   "execution_count": null,
   "id": "01c0457a",
   "metadata": {
    "id": "01c0457a",
    "outputId": "1563a55d-6caf-4fa2-8e25-ad8b69abc288"
   },
   "outputs": [
    {
     "name": "stdout",
     "output_type": "stream",
     "text": [
      "1번째 줄입니다.\n",
      "2번째 줄입니다.\n",
      "3번째 줄입니다.\n",
      "4번째 줄입니다.\n",
      "5번째 줄입니다.\n",
      "6번째 줄입니다.\n",
      "7번째 줄입니다.\n",
      "8번째 줄입니다.\n",
      "9번째 줄입니다.\n",
      "10번째 줄입니다.\n",
      "11번째 줄입니다.\n",
      "12번째 줄입니다.\n",
      "13번째 줄입니다.\n",
      "14번째 줄입니다.\n",
      "15번째 줄입니다.\n",
      "\n"
     ]
    }
   ],
   "source": [
    "f = open('test1.txt','r')\n",
    "Datatime = f.read() #Datatime 이나 datatime해도 프린트 함\n",
    "print(data)\n",
    "f.close()"
   ]
  },
  {
   "cell_type": "code",
   "execution_count": null,
   "id": "6a9b6761",
   "metadata": {
    "id": "6a9b6761"
   },
   "outputs": [],
   "source": [
    "# with문과 같이 사용하면 자동 닫힘 가능하다.\n",
    "with open('foo.txt','w') as f:\n",
    "    f.write('파이썬을 배웁시다.')"
   ]
  },
  {
   "cell_type": "code",
   "execution_count": null,
   "id": "fd31dc57",
   "metadata": {
    "id": "fd31dc57",
    "outputId": "4b2d04ae-1318-417c-c325-511a178619f0"
   },
   "outputs": [
    {
     "name": "stdout",
     "output_type": "stream",
     "text": [
      "파이썬을 배웁시다.\n"
     ]
    }
   ],
   "source": [
    "with open('foo.txt','r') as f:\n",
    "    data = f.read()\n",
    "    print(data)"
   ]
  },
  {
   "cell_type": "code",
   "execution_count": null,
   "id": "284da688",
   "metadata": {
    "id": "284da688"
   },
   "outputs": [],
   "source": [
    "with open('test2.txt','w') as f:\n",
    "    for i in range(1,11):\n",
    "        data = f'{i}번째 줄입니다.\\n'\n",
    "        f.write(data)"
   ]
  },
  {
   "cell_type": "code",
   "execution_count": null,
   "id": "de9319e8",
   "metadata": {
    "id": "de9319e8"
   },
   "outputs": [],
   "source": [
    "with open('test2.txt','a') as f:\n",
    "    for i in range(11,16):\n",
    "        data = f'{i}번째 줄입니다.\\n'\n",
    "        f.write(data)"
   ]
  },
  {
   "cell_type": "code",
   "execution_count": null,
   "id": "474d8a50",
   "metadata": {
    "id": "474d8a50",
    "outputId": "fe853132-f6cc-4c5b-fe65-9e02a436719f"
   },
   "outputs": [
    {
     "name": "stdout",
     "output_type": "stream",
     "text": [
      "1번째 줄입니다.\n",
      "2번째 줄입니다.\n",
      "3번째 줄입니다.\n",
      "4번째 줄입니다.\n",
      "5번째 줄입니다.\n",
      "6번째 줄입니다.\n",
      "7번째 줄입니다.\n",
      "8번째 줄입니다.\n",
      "9번째 줄입니다.\n",
      "10번째 줄입니다.\n",
      "11번째 줄입니다.\n",
      "12번째 줄입니다.\n",
      "13번째 줄입니다.\n",
      "14번째 줄입니다.\n",
      "15번째 줄입니다.\n",
      "\n"
     ]
    }
   ],
   "source": [
    "with open('test2.txt','r') as f:\n",
    "    data = f.read()\n",
    "    print(data)\n",
    "    "
   ]
  },
  {
   "cell_type": "code",
   "execution_count": null,
   "id": "ae71e4b9",
   "metadata": {
    "id": "ae71e4b9",
    "outputId": "c5ea9ea2-99ab-4b1b-c417-161d60815a61"
   },
   "outputs": [
    {
     "name": "stdout",
     "output_type": "stream",
     "text": [
      "3\n",
      "False\n",
      "True\n",
      "A\n"
     ]
    }
   ],
   "source": [
    "# 내장함구\n",
    "print(abs(-3))\n",
    "print(all([1,2,3,0])) # x가 모두 참이면 True, 거짓이 하나라도 있으면 False\n",
    "print(any([1,2,3,0])) # x가 하나라도 참이면 True, 모두 거짓이면 False\n",
    "print(chr(65))"
   ]
  },
  {
   "cell_type": "code",
   "execution_count": null,
   "id": "d369b99f",
   "metadata": {
    "id": "d369b99f",
    "outputId": "5443ef7c-0874-4203-a465-6f6bd4338858"
   },
   "outputs": [
    {
     "data": {
      "text/plain": [
       "7"
      ]
     },
     "execution_count": 58,
     "metadata": {},
     "output_type": "execute_result"
    }
   ],
   "source": [
    "sum = lambda a,b:a+b\n",
    "sum(3,4)"
   ]
  },
  {
   "cell_type": "code",
   "execution_count": null,
   "id": "77a34308",
   "metadata": {
    "id": "77a34308",
    "outputId": "4ad9bf82-b03f-48e9-d7bf-a005660de89a"
   },
   "outputs": [
    {
     "name": "stdout",
     "output_type": "stream",
     "text": [
      "7\n",
      "12\n"
     ]
    }
   ],
   "source": [
    "# 여러개 넣을 수 있다. 여러 계산식 수행 가능\n",
    "\n",
    "myList = [lambda a,b:a+b, lambda a,b:a*b]\n",
    "print(myList[0](3,4))\n",
    "print(myList[1](3,4))"
   ]
  },
  {
   "cell_type": "code",
   "execution_count": null,
   "id": "21448a8b",
   "metadata": {
    "id": "21448a8b",
    "outputId": "68911b14-2e5b-4132-beae-13f123d1aedf"
   },
   "outputs": [
    {
     "name": "stdout",
     "output_type": "stream",
     "text": [
      "6\n",
      "3\n",
      "3\n"
     ]
    }
   ],
   "source": [
    "print(len('python'))\n",
    "print(len([1,2,3,]))\n",
    "print(len([1,2,'a']))"
   ]
  },
  {
   "cell_type": "code",
   "execution_count": null,
   "id": "b1f1f981",
   "metadata": {
    "id": "b1f1f981",
    "outputId": "f870f30f-db2e-43b9-acef-31f65ffab1ac"
   },
   "outputs": [
    {
     "data": {
      "text/plain": [
       "[0, -1, -2, -3, -4, -5, -6, -7, -8, -9]"
      ]
     },
     "execution_count": 64,
     "metadata": {},
     "output_type": "execute_result"
    }
   ],
   "source": [
    "# range() 함수 쓰는 법\n",
    "list(range(5))\n",
    "list(range(1,6))\n",
    "list(range(1,10,2))\n",
    "list(range(0, -10, -1))\n"
   ]
  },
  {
   "cell_type": "code",
   "execution_count": null,
   "id": "627a471f",
   "metadata": {
    "id": "627a471f",
    "outputId": "f7dfdb3c-8ad2-4e39-f575-70c5b6ae2b54"
   },
   "outputs": [
    {
     "name": "stdout",
     "output_type": "stream",
     "text": [
      "(2, 1)\n"
     ]
    }
   ],
   "source": [
    "print(divmod(7,3))"
   ]
  },
  {
   "cell_type": "code",
   "execution_count": null,
   "id": "f7f09ccd",
   "metadata": {
    "id": "f7f09ccd",
    "outputId": "4e2739dc-1ce1-40c2-87f7-1628dc52b21a"
   },
   "outputs": [
    {
     "name": "stdout",
     "output_type": "stream",
     "text": [
      "0 james\n",
      "1 tom\n",
      "2 susan\n"
     ]
    }
   ],
   "source": [
    "# 순서가 있는 자료형을 입력으로 받아 인덱스 값을 포함한 enumerate 객체를 리턴\n",
    "for i, name in enumerate(['james','tom','susan']):\n",
    "    print(i,name)"
   ]
  },
  {
   "cell_type": "code",
   "execution_count": null,
   "id": "626ae02d",
   "metadata": {
    "id": "626ae02d",
    "outputId": "f1160f26-128c-4794-e434-e10574b07a18"
   },
   "outputs": [
    {
     "data": {
      "text/plain": [
       "<enumerate at 0x2ba1006f140>"
      ]
     },
     "execution_count": 73,
     "metadata": {},
     "output_type": "execute_result"
    }
   ],
   "source": [
    "enumerate(['james','tom'])"
   ]
  },
  {
   "cell_type": "code",
   "execution_count": null,
   "id": "32a105a8",
   "metadata": {
    "id": "32a105a8",
    "outputId": "85bfc2d5-1ed6-4812-b725-2634462a8be3"
   },
   "outputs": [
    {
     "name": "stdout",
     "output_type": "stream",
     "text": [
      "3\n"
     ]
    }
   ],
   "source": [
    "# 실행 가능한 문자열 입력으로 받아 문자열을 실행한 결과값을 리턴\n",
    "print(eval('1+2'))"
   ]
  },
  {
   "cell_type": "code",
   "execution_count": null,
   "id": "1c9e0946",
   "metadata": {
    "id": "1c9e0946"
   },
   "outputs": [],
   "source": [
    "# 외장함수 : 전 세계 파이썬 사용자들이 만든 유용한 프로그램을 모아 놓은 파이썬 라이브러리. 파이썬을 설치할 때\n",
    "# pickle은 객체의 형태를 유지하면서 파일에 저장하고 불러올 수 있게 하는 모듈\n",
    "# 용량 작기 때문에 경제적이고 빠름\n",
    "\n",
    "import pickle\n",
    "f = open('test.txt','wb') #b=binary 타입으로 저장한다\n",
    "data = {1:'python',2:'you need'}\n",
    "pickle.dump(data,f) # data(변수)를 파일에 저장한다는 의미임\n",
    "f.close()\n"
   ]
  },
  {
   "cell_type": "code",
   "execution_count": null,
   "id": "bb7f1db1",
   "metadata": {
    "id": "bb7f1db1",
    "outputId": "2b9954d7-4577-455d-abcd-2ea659ec76f1"
   },
   "outputs": [
    {
     "name": "stdout",
     "output_type": "stream",
     "text": [
      "{1: 'python', 2: 'you need'}\n"
     ]
    }
   ],
   "source": [
    "import pickle\n",
    "f = open('test.txt','rb') #rb=read binary\n",
    "data = pickle.load(f)\n",
    "print(data)\n",
    "f.close()"
   ]
  },
  {
   "cell_type": "code",
   "execution_count": null,
   "id": "e1390a6d",
   "metadata": {
    "id": "e1390a6d",
    "outputId": "a0f45e4c-4e0c-4e21-ce79-b0db413ccbf2"
   },
   "outputs": [
    {
     "data": {
      "text/plain": [
       "'C:\\\\app;C:\\\\app\\\\Library\\\\mingw-w64\\\\bin;C:\\\\app\\\\Library\\\\usr\\\\bin;C:\\\\app\\\\Library\\\\bin;C:\\\\app\\\\Scripts;C:\\\\Windows\\\\system32;C:\\\\Windows;C:\\\\Windows\\\\System32\\\\Wbem;C:\\\\Windows\\\\System32\\\\WindowsPowerShell\\\\v1.0\\\\;C:\\\\Windows\\\\System32\\\\OpenSSH\\\\;C:\\\\app;C:\\\\app\\\\Library\\\\bin;C:\\\\app\\\\Library\\\\mingw-w64\\\\bin;C:\\\\app\\\\Scripts;C:\\\\Users\\\\h\\\\AppData\\\\Local\\\\Microsoft\\\\WindowsApps;'"
      ]
     },
     "execution_count": 84,
     "metadata": {},
     "output_type": "execute_result"
    }
   ],
   "source": [
    "import os\n",
    "os.environ['PATH']"
   ]
  },
  {
   "cell_type": "code",
   "execution_count": null,
   "id": "be146c87",
   "metadata": {
    "id": "be146c87",
    "outputId": "961d98a5-6fe7-4640-f956-c282dc961e55"
   },
   "outputs": [
    {
     "data": {
      "text/plain": [
       "'C:\\\\hmkd1\\\\m1_programming'"
      ]
     },
     "execution_count": 93,
     "metadata": {},
     "output_type": "execute_result"
    }
   ],
   "source": [
    "%pwd"
   ]
  },
  {
   "cell_type": "code",
   "execution_count": null,
   "id": "256633a3",
   "metadata": {
    "id": "256633a3"
   },
   "outputs": [],
   "source": [
    "os.chdir('C:\\\\hmkd1')"
   ]
  },
  {
   "cell_type": "code",
   "execution_count": null,
   "id": "a4b9e499",
   "metadata": {
    "id": "a4b9e499"
   },
   "outputs": [],
   "source": [
    "os.chdir('C:\\\\hmkd1\\\\m1_programming')"
   ]
  },
  {
   "cell_type": "code",
   "execution_count": null,
   "id": "cf3f15bd",
   "metadata": {
    "id": "cf3f15bd"
   },
   "outputs": [],
   "source": [
    "import os\n",
    "os.rename('test1.txt','test_new.txt')"
   ]
  },
  {
   "cell_type": "code",
   "execution_count": null,
   "id": "c4527a40",
   "metadata": {
    "id": "c4527a40",
    "outputId": "f8d45130-58ab-4970-8bea-7834cea38c56"
   },
   "outputs": [
    {
     "data": {
      "text/plain": [
       "['C:\\\\hmkd1\\\\m1_programming\\\\foo.txt',\n",
       " 'C:\\\\hmkd1\\\\m1_programming\\\\t1.txt',\n",
       " 'C:\\\\hmkd1\\\\m1_programming\\\\test.txt',\n",
       " 'C:\\\\hmkd1\\\\m1_programming\\\\test2.txt',\n",
       " 'C:\\\\hmkd1\\\\m1_programming\\\\test_new.txt']"
      ]
     },
     "execution_count": 102,
     "metadata": {},
     "output_type": "execute_result"
    }
   ],
   "source": [
    "# glob() 함수는 인자로 받은 패턴과 이름이 일치하는 모든 파일과 디렉터리의 리스트를 변환\n",
    "import glob\n",
    "glob.glob('C:\\\\hmkd1\\\\m1_programming/*.txt')"
   ]
  },
  {
   "cell_type": "code",
   "execution_count": null,
   "id": "d0f11188",
   "metadata": {
    "id": "d0f11188",
    "outputId": "0d356742-ff7e-44dc-ce30-89ef548f550e"
   },
   "outputs": [
    {
     "name": "stdout",
     "output_type": "stream",
     "text": [
      "[0, 1, 3, 4, 5, 6]\n"
     ]
    }
   ],
   "source": [
    "#[과제] 내장함수를 이용해서 list = [0,1,2,3,4,5,6]에서 2를 삭제 후 출력하세요.(3가지 방법)\n",
    "list = [0,1,2,3,4,5,6]\n",
    "# del list[2]\n",
    "# list.remove(2)\n",
    "# list.pop(2)\n",
    "print(list)"
   ]
  },
  {
   "cell_type": "code",
   "execution_count": null,
   "id": "0d7e5f63",
   "metadata": {
    "id": "0d7e5f63",
    "outputId": "0c30bc94-ad07-44a8-e534-412e308518ed"
   },
   "outputs": [
    {
     "name": "stdout",
     "output_type": "stream",
     "text": [
      "[]\n"
     ]
    }
   ],
   "source": [
    "#[과제]  내장함수를 이용해서 list = [0,1,2,3,4,5,6]에서 모든 원소를 삭제 후 출력하세요.\n",
    "\n",
    "list = [0,1,2,3,4,5,6]\n",
    "del list[:]\n",
    "print(list)"
   ]
  },
  {
   "cell_type": "code",
   "execution_count": null,
   "id": "9ed832cb",
   "metadata": {
    "id": "9ed832cb",
    "outputId": "2681920f-6448-4658-e8ac-f9eccd3393a1"
   },
   "outputs": [
    {
     "name": "stdout",
     "output_type": "stream",
     "text": [
      "[1, 4, 9, 16, 25]\n",
      "[1, 2]\n"
     ]
    }
   ],
   "source": [
    "#[과제]  람다함수와 적합한 내장함수를 사용하여 아래와 같이 출력하세요\n",
    "# [1,2,3,4,5] -> [1,4,9,16,25]\n",
    "# [1,2,3,4,5] -> [1,2]\n",
    "\n",
    "list=[1,2,3,4,5]\n",
    "list_n=[]\n",
    "x=lambda a:a**2\n",
    "\n",
    "for i in list:\n",
    "    list_n.append(x(i))\n",
    "    \n",
    "del(list[2:])\n",
    "\n",
    "print(list_n)\n",
    "print(list)\n",
    "    \n"
   ]
  },
  {
   "cell_type": "code",
   "execution_count": null,
   "id": "a93b451b",
   "metadata": {
    "id": "a93b451b",
    "outputId": "0b99ca4b-cdf6-46dd-fdb4-bb85ebf4437d"
   },
   "outputs": [
    {
     "name": "stdout",
     "output_type": "stream",
     "text": [
      "[1, 4, 9, 16, 25] \n",
      "\n",
      "[1, 2]\n"
     ]
    }
   ],
   "source": [
    "# filter(조건함수,순환가능data) 함수 \n",
    "\n",
    "x=lambda a:a**2\n",
    "lst = [x(i) for i in range(1,6)]\n",
    "print(lst,'\\n')\n",
    "\n",
    "lst2 = [1,2,3,4,5]\n",
    "filtered_list = filter(lambda a: (a<3), lst2)\n",
    "print(list(filtered_list))"
   ]
  },
  {
   "cell_type": "code",
   "execution_count": null,
   "id": "441b2de9",
   "metadata": {
    "id": "441b2de9",
    "outputId": "f6576494-73b1-460f-abee-9b6b6f0ca83c"
   },
   "outputs": [
    {
     "name": "stdout",
     "output_type": "stream",
     "text": [
      "[1, 2, 6]\n"
     ]
    }
   ],
   "source": [
    "#[과제]  [1,-3,2,0,-5,6] 에서 양수만 필터링해서 출력하세요(내장함수, 사용자함수 각각 이용)\n",
    "\n",
    "list1 = [1,-3,2,0,-5,6]\n",
    "\n",
    "print(list(filter(lambda x: x > 0, list1)))"
   ]
  },
  {
   "cell_type": "code",
   "execution_count": null,
   "id": "b34a75cc",
   "metadata": {
    "id": "b34a75cc",
    "outputId": "6cb5509d-7e2c-464f-d0bb-1804aef04362"
   },
   "outputs": [
    {
     "name": "stdout",
     "output_type": "stream",
     "text": [
      "[1, 2, 6]\n"
     ]
    }
   ],
   "source": [
    "def even(arr):\n",
    "    result=[]\n",
    "    for i in arr:\n",
    "        if i>0:\n",
    "            result.append(i)\n",
    "    return result\n",
    "print(even([1,-3,2,0,-5,6]))"
   ]
  },
  {
   "cell_type": "code",
   "execution_count": null,
   "id": "a47c6332",
   "metadata": {
    "id": "a47c6332"
   },
   "outputs": [],
   "source": [
    "# zip() 함수\n",
    "#[과제] 내장함수를 이용하여 동일한 개수로 이루어진 자료형을 화살표 좌측에서 우측으로 변환하세요\n",
    "# [1,2,3],[4,5,6] -> [(1,4),(2,5),(3,6)]\n",
    "# [1,2,3],[4,5,6] [7,8,9] -> [(1,4,7),(2,5,8),(3,6,9)]\n",
    "# ('abc','def') -> [('a','d'),('b','e'),('c','f')]\n",
    "\n",
    "a = [1, 2, 3]\n",
    "b = [4, 5, 6]\n",
    "c = [7, 8, 9]\n",
    "\n",
    "ab = list(zip([1,2,3],[4,5,6]))\n",
    "print(ab)\n",
    "\n",
    "abc = list(zip([1,2,3,],))\n",
    "\n"
   ]
  },
  {
   "cell_type": "code",
   "execution_count": null,
   "id": "9a18e575",
   "metadata": {
    "id": "9a18e575",
    "outputId": "5af56633-b54e-46c5-fd96-d31a4c5535a3"
   },
   "outputs": [
    {
     "name": "stdout",
     "output_type": "stream",
     "text": [
      "2.0\n"
     ]
    }
   ],
   "source": [
    "#[과제] 입력으로 들어오는 모든 수의 평균 값을 계산해 주는 함수를 작성한 후 1,2,3을 입력한 결과를 출력하세요.\n",
    "# *args의 경우 파이썬에서는 Tuple로 처리한다 (이유 - )\n",
    "\n",
    "def average(*args):\n",
    "    x=0\n",
    "    for i in args:\n",
    "        x=(x+i)\n",
    "    result=x/len(args)\n",
    "    return result\n",
    "\n",
    "r=average(1,2,3)\n",
    "print(r)"
   ]
  },
  {
   "cell_type": "code",
   "execution_count": null,
   "id": "9f835e77",
   "metadata": {
    "id": "9f835e77",
    "outputId": "7c903a0f-a767-4cda-8eca-a65260e52374"
   },
   "outputs": [
    {
     "data": {
      "text/plain": [
       "['bar', 'ababa', 'ca', 'aaaa', 'a']"
      ]
     },
     "execution_count": 18,
     "metadata": {},
     "output_type": "execute_result"
    }
   ],
   "source": [
    "#[과제] strings를 다양한 문자가 포함된 순서로 정렬하세요.\n",
    "# 문제 의도를 생각했을 때 중복을 허용하지 않는 set을 활용하면 좋다\n",
    "\n",
    "strings = ['a', 'ca', 'bar', 'aaaa', 'ababa']\n",
    "strings.sort(key = lambda x:len(set(x)))\n",
    "strings[::-1]\n",
    "\n",
    "\n"
   ]
  },
  {
   "cell_type": "code",
   "execution_count": null,
   "id": "7f79cd74",
   "metadata": {
    "id": "7f79cd74",
    "outputId": "533375fc-e22c-4d3f-c1fc-be3ad192a143"
   },
   "outputs": [
    {
     "data": {
      "text/plain": [
       "('ababa', 'aaaa', 'bar', 'ca', 'a')"
      ]
     },
     "execution_count": 21,
     "metadata": {},
     "output_type": "execute_result"
    }
   ],
   "source": [
    "#[과제] 튜플 형태인 strings를 다양한 문자가 포함된 순서로 정렬하세요,\n",
    "strings = ('a', 'ca', 'bar', 'aaaa', 'ababa')\n",
    "s_list=list(strings)\n",
    "\n",
    "s_list.sort(key = lambda x:len(set(x)))\n",
    "\n",
    "strings[::-1]\n"
   ]
  },
  {
   "cell_type": "code",
   "execution_count": null,
   "id": "c4877834",
   "metadata": {
    "id": "c4877834",
    "outputId": "a0e90716-6d62-49cb-f225-f2610428d28f"
   },
   "outputs": [
    {
     "name": "stdout",
     "output_type": "stream",
     "text": [
      "['http:', '', 'news.naver.com', 'main', 'read.nhn?mode=LSD&mid=shm&sid1=105&oid=028&aid=0002334601']\n",
      "\n",
      "news.naver.com\n"
     ]
    }
   ],
   "source": [
    "#[과제]  url에서 호스트 도메인을 추출하여 출력하세요.\n",
    "url = 'http://news.naver.com/main/read.nhn?mode=LSD&mid=shm&sid1=105&oid=028&aid=0002334601'\n",
    "\n",
    "x = url.split('/')\n",
    "print(x)\n",
    "print()\n",
    "domain = x[2]\n",
    "print(domain)\n",
    "\n"
   ]
  },
  {
   "cell_type": "code",
   "execution_count": null,
   "id": "df6c3426",
   "metadata": {
    "id": "df6c3426",
    "outputId": "3db15e04-4d08-4669-b139-eab40d60632f"
   },
   "outputs": [
    {
     "name": "stdout",
     "output_type": "stream",
     "text": [
      "mode=LSD&mid=shm&sid1=105&oid=028&aid=0002334601\n",
      "['mode=LSD', 'mid=shm', 'sid1=105', 'oid=028', 'aid=0002334601']\n"
     ]
    }
   ],
   "source": [
    "#[과제] url에서 쿼리문을 추출하여 출력하세요.\n",
    "# url에서 '?'뒤에 표시되는 문자열을 쿼리 문자열이라고 하며 변수=값 사이 &로 구분되어 나열된다.\n",
    "url = 'http://news.naver.com/main/read.nhn?mode=LSD&mid=shm&sid1=105&oid=028&aid=0002334601'\n",
    "\n",
    "do=url.find('?')\n",
    "print(url[do+1:]) #쿼리문 전체\n",
    "\n",
    "qr=[]\n",
    "qr=url[do+1:].split('&') #각 '변수=값' 분리\n",
    "print(qr)"
   ]
  },
  {
   "cell_type": "code",
   "execution_count": null,
   "id": "f8ada33f",
   "metadata": {
    "id": "f8ada33f",
    "outputId": "d15311b2-6d29-4c16-a6c8-494f51c52ce4"
   },
   "outputs": [
    {
     "name": "stdout",
     "output_type": "stream",
     "text": [
      "mode=LSD\n",
      "mid=shm\n",
      "sid1=105\n",
      "oid=028\n",
      "aid=0002334601\n"
     ]
    }
   ],
   "source": [
    "url = 'http://news.naver.com/main/read.nhn?mode=LSD&mid=shm&sid1=105&oid=028&aid=0002334601'\n",
    "tmp = url.split('?')\n",
    "queries = tmp[1].split('&')\n",
    "for query in queries:\n",
    "    print(query)\n",
    "    \n",
    "# split()로 자르면 Tuple로 반환하나?"
   ]
  },
  {
   "cell_type": "code",
   "execution_count": null,
   "id": "ea9348cd",
   "metadata": {
    "id": "ea9348cd",
    "outputId": "c35e90c6-8e66-4f4e-eaf6-ef2595b8d63b"
   },
   "outputs": [
    {
     "ename": "SyntaxError",
     "evalue": "invalid syntax (2167789239.py, line 2)",
     "output_type": "error",
     "traceback": [
      "\u001b[1;36m  File \u001b[1;32m\"C:\\Users\\h\\AppData\\Local\\Temp\\ipykernel_4032\\2167789239.py\"\u001b[1;36m, line \u001b[1;32m2\u001b[0m\n\u001b[1;33m    .format(*data)\u001b[0m\n\u001b[1;37m    ^\u001b[0m\n\u001b[1;31mSyntaxError\u001b[0m\u001b[1;31m:\u001b[0m invalid syntax\n"
     ]
    }
   ],
   "source": [
    "# 전개 연산자\n",
    ".format(*data)"
   ]
  },
  {
   "cell_type": "code",
   "execution_count": null,
   "id": "f854f277",
   "metadata": {
    "id": "f854f277",
    "outputId": "5b24b254-9a7a-4f65-8e41-356798903c6b"
   },
   "outputs": [
    {
     "name": "stdout",
     "output_type": "stream",
     "text": [
      "3, 4의 합은 7입니다.\n",
      "None\n"
     ]
    }
   ],
   "source": [
    "# 결과값과 print의 차이\n",
    "# 입력값은 있고 결과값이 없는 함수\n",
    "# 결과값은 오직 return 명령어로만 돌려 받을 수 있음\n",
    "\n",
    "\n",
    "def add(a,b):\n",
    "    print('%d, %d의 합은 %d입니다.' %(a,b,a+b))\n",
    "# add(3,4)\n",
    "a = add(3,4)\n",
    "print(a)"
   ]
  },
  {
   "cell_type": "code",
   "execution_count": null,
   "id": "1c5b07ae",
   "metadata": {
    "id": "1c5b07ae",
    "outputId": "68a4e139-ca15-4629-97b5-42857a7fed91"
   },
   "outputs": [
    {
     "name": "stdout",
     "output_type": "stream",
     "text": [
      "7\n"
     ]
    }
   ],
   "source": [
    "# 반환값이 있기 때문에 a값이 있는 것임\n",
    "def add(a,b):\n",
    "    return a+b\n",
    "a = add(3,4)\n",
    "print(a)\n"
   ]
  },
  {
   "cell_type": "code",
   "execution_count": null,
   "id": "567f1e96",
   "metadata": {
    "id": "567f1e96",
    "outputId": "95cd5df8-7292-422a-9dc3-6739a2718eae"
   },
   "outputs": [
    {
     "name": "stdout",
     "output_type": "stream",
     "text": [
      "안녕하세요\n",
      "안녕하세요\n",
      "안녕하세요\n"
     ]
    }
   ],
   "source": []
  }
 ],
 "metadata": {
  "colab": {
   "provenance": []
  },
  "kernelspec": {
   "display_name": "Python 3 (ipykernel)",
   "language": "python",
   "name": "python3"
  },
  "language_info": {
   "codemirror_mode": {
    "name": "ipython",
    "version": 3
   },
   "file_extension": ".py",
   "mimetype": "text/x-python",
   "name": "python",
   "nbconvert_exporter": "python",
   "pygments_lexer": "ipython3",
   "version": "3.9.13"
  }
 },
 "nbformat": 4,
 "nbformat_minor": 5
}
