{
 "cells": [
  {
   "cell_type": "markdown",
   "metadata": {
    "id": "MoL_V5ZTa-up"
   },
   "source": [
    "메타 문자(meta characters) - 11개\n",
    "```\n",
    ". ^ $ * + ? { } [ ] \\ | ( )\n",
    "```\n",
    "\n"
   ]
  },
  {
   "cell_type": "code",
   "execution_count": 5,
   "metadata": {
    "colab": {
     "base_uri": "https://localhost:8080/"
    },
    "executionInfo": {
     "elapsed": 552,
     "status": "ok",
     "timestamp": 1679407968102,
     "user": {
      "displayName": "박주경",
      "userId": "06694313831384541311"
     },
     "user_tz": -540
    },
    "id": "YVpf2jFUZfIw",
    "outputId": "523ef8e4-9979-4933-8a5a-ff3c6d55de06"
   },
   "outputs": [
    {
     "name": "stdout",
     "output_type": "stream",
     "text": [
      "\n",
      "park 800905*******\n",
      "kim 700905*******\n",
      "\n"
     ]
    }
   ],
   "source": [
    "import re   # regular expression\n",
    "\n",
    "data = '''\n",
    "park 800905-1049118\n",
    "kim 700905-1059119\n",
    "'''\n",
    "\n",
    "pat = re.compile(\"(\\d{6})[-]\\d{7}\")\n",
    "print(pat.sub(\"\\g<1>*******\", data))\n",
    "\n"
   ]
  },
  {
   "cell_type": "code",
   "execution_count": null,
   "metadata": {
    "id": "M-bUhF8ObbaG"
   },
   "outputs": [],
   "source": [
    "# [] - 문자 클래스 (character class)\n",
    "# [] 사이의 문자들과 매치\n",
    "\n",
    "# [abc] - a, b, c 중 한 개의 문자 중 매치\n",
    "# [a-c] = [abc]\n",
    "# [0-5] = [012345]\n",
    "# [a-zA-Z] = 알파벳 모두\n",
    "# [0-9] = 숫자\n",
    "# [^0-9] = 숫자가 아닌 문자만\n",
    "\n",
    "# \\d = [0-9] - 숫자\n",
    "# \\D = [^0-9] - 숫자가 아닌 문자만\n",
    "# \\s = [ \\t\\n\\r\\f\\v] -  whitespace 문자와 매치\n",
    "# \\S = [^ \\t\\n\\r\\f\\v] -  whitespace 문자가 아닌 것과 매치\n",
    "# \\w = [a-zA-Z0-9_] - 문자+숫자(alphanumeric)와 매치\n",
    "# \\W = [^a-zA-Z0-9_] - 문자+숫자(alphanumeric)가 아닌 문자와 매치\n",
    "\n"
   ]
  },
  {
   "cell_type": "code",
   "execution_count": null,
   "metadata": {
    "id": "VumZmUNZezSY"
   },
   "outputs": [],
   "source": [
    "# Dot(.)\n",
    "# 줄바꿈 문자인 \\n을 제외한 모든 문자와 매치 (cf. re.DOTALL)\n",
    " \n",
    "# a.b\n",
    "# a[.]b"
   ]
  },
  {
   "cell_type": "code",
   "execution_count": null,
   "metadata": {
    "id": "8Gu2at9gf1SP"
   },
   "outputs": [],
   "source": [
    "# *\n",
    "# 0-무한대 반복 (약 2억개 정도)\n",
    "\n",
    "# ca*t\n",
    "# ct도 Match 가능"
   ]
  },
  {
   "cell_type": "code",
   "execution_count": 3,
   "metadata": {
    "executionInfo": {
     "elapsed": 2,
     "status": "ok",
     "timestamp": 1679407904068,
     "user": {
      "displayName": "박주경",
      "userId": "06694313831384541311"
     },
     "user_tz": -540
    },
    "id": "GztP0xgigQFV"
   },
   "outputs": [],
   "source": [
    "# +\n",
    "# 최소 1번 이상반복\n",
    "\n",
    "# ct Match 불가능"
   ]
  },
  {
   "cell_type": "code",
   "execution_count": null,
   "metadata": {
    "id": "7JMniIMcgu_n"
   },
   "outputs": [],
   "source": [
    "# {m}\n",
    "# 반드시 m번 반복\n",
    "\n",
    "# ca{2}t"
   ]
  },
  {
   "cell_type": "code",
   "execution_count": null,
   "metadata": {
    "id": "6M4etllMhR4O"
   },
   "outputs": [],
   "source": [
    "# {m,n}\n",
    "# m~n화 반복\n",
    "\n",
    "# ca{2,5}"
   ]
  },
  {
   "cell_type": "code",
   "execution_count": null,
   "metadata": {
    "id": "xR6gnEUAhR6U"
   },
   "outputs": [],
   "source": [
    "# ?\n",
    "\n",
    "# {0,1]}을 의미 = 있어도 되고 없어도 된다\n",
    "\n",
    "# ab?c\n",
    "# abc, ac - Match 가능"
   ]
  },
  {
   "cell_type": "markdown",
   "metadata": {
    "id": "ddY9i-sEkbzV"
   },
   "source": [
    "#### 정규식을 이용한 문자열 검색\n",
    "- match() - 문자열의 처음부터 정규식과 매치되는지 조사\n",
    "- search() - 문자열 전체를 검색하여 정규식과 매치되는지 조사\n",
    "- findall() - 정규식과 매치되는 모든 문자열(substring)을 리스트로 리턴\n",
    "- finditer() - 정규식과 매치되는 모든 문자열(substring)을 반복 가능한 객체로 리턴"
   ]
  },
  {
   "cell_type": "code",
   "execution_count": 11,
   "metadata": {
    "colab": {
     "base_uri": "https://localhost:8080/"
    },
    "executionInfo": {
     "elapsed": 4,
     "status": "ok",
     "timestamp": 1679410203686,
     "user": {
      "displayName": "박주경",
      "userId": "06694313831384541311"
     },
     "user_tz": -540
    },
    "id": "EYkrpXQDiWsb",
    "outputId": "be30542b-fec1-45b8-d514-09b80db0a760"
   },
   "outputs": [
    {
     "name": "stdout",
     "output_type": "stream",
     "text": [
      "None\n",
      "<re.Match object; span=(0, 6), match='python'>\n",
      "python\n",
      "0\n",
      "6\n"
     ]
    },
    {
     "data": {
      "text/plain": [
       "(0, 6)"
      ]
     },
     "execution_count": 11,
     "metadata": {},
     "output_type": "execute_result"
    }
   ],
   "source": [
    "import re\n",
    "p = re.compile('[a-z]+')\n",
    "\n",
    "m = p.match(\"3 python\")\n",
    "print(m)\n",
    "\n",
    "m = p.match('python')\n",
    "print(m)\n",
    "\n",
    "\n",
    "# 매치된 문자열을 리턴\n",
    "print(m.group())\n",
    "\n",
    "# 매치된 문자열의 시작 위치를 리턴 (이건 항상 0임, match 메서드는 항상 문자열의 시작부터 조사하기 때문임)\n",
    "print(m.start())\n",
    "\n",
    "# 매치된 문자열의 끝 위치를 리턴\n",
    "print(m.end())\n",
    "\n",
    "# 매치된 문자열의 (시작, 끝)에 해당하는 튜플을 리턴\n",
    "m.span()\n"
   ]
  },
  {
   "cell_type": "code",
   "execution_count": 26,
   "metadata": {
    "colab": {
     "base_uri": "https://localhost:8080/"
    },
    "executionInfo": {
     "elapsed": 554,
     "status": "ok",
     "timestamp": 1679411455903,
     "user": {
      "displayName": "박주경",
      "userId": "06694313831384541311"
     },
     "user_tz": -540
    },
    "id": "TwskrM8yt9kj",
    "outputId": "cee155a7-2e00-4c42-c03a-50739020f521"
   },
   "outputs": [
    {
     "name": "stdout",
     "output_type": "stream",
     "text": [
      "<re.Match object; span=(0, 6), match='python'>\n",
      "python\n"
     ]
    }
   ],
   "source": [
    "# 모듈 단위로 수행하기\n",
    "import re\n",
    "m = re.match('[a-z]+', 'python')\n",
    "\n",
    "print(m)\n",
    "print(m.group())\n"
   ]
  },
  {
   "cell_type": "code",
   "execution_count": 13,
   "metadata": {
    "colab": {
     "base_uri": "https://localhost:8080/",
     "height": 236
    },
    "executionInfo": {
     "elapsed": 6,
     "status": "error",
     "timestamp": 1679410492783,
     "user": {
      "displayName": "박주경",
      "userId": "06694313831384541311"
     },
     "user_tz": -540
    },
    "id": "3mpkJahzpr7m",
    "outputId": "788bfecc-ae4d-444b-e008-d7f3eec9b6fc"
   },
   "outputs": [
    {
     "ename": "AttributeError",
     "evalue": "ignored",
     "output_type": "error",
     "traceback": [
      "\u001b[0;31m---------------------------------------------------------------------------\u001b[0m",
      "\u001b[0;31mAttributeError\u001b[0m                            Traceback (most recent call last)",
      "\u001b[0;32m<ipython-input-13-177c1251084d>\u001b[0m in \u001b[0;36m<module>\u001b[0;34m\u001b[0m\n\u001b[1;32m      1\u001b[0m \u001b[0;32mimport\u001b[0m \u001b[0mre\u001b[0m\u001b[0;34m\u001b[0m\u001b[0;34m\u001b[0m\u001b[0m\n\u001b[1;32m      2\u001b[0m \u001b[0mp\u001b[0m \u001b[0;34m=\u001b[0m \u001b[0mre\u001b[0m\u001b[0;34m.\u001b[0m\u001b[0mcompile\u001b[0m\u001b[0;34m\u001b[0m\u001b[0;34m\u001b[0m\u001b[0m\n\u001b[0;32m----> 3\u001b[0;31m \u001b[0mm\u001b[0m \u001b[0;34m=\u001b[0m \u001b[0mp\u001b[0m\u001b[0;34m.\u001b[0m\u001b[0mmatch\u001b[0m\u001b[0;34m(\u001b[0m\u001b[0;34m'string goes here'\u001b[0m\u001b[0;34m)\u001b[0m\u001b[0;34m\u001b[0m\u001b[0;34m\u001b[0m\u001b[0m\n\u001b[0m\u001b[1;32m      4\u001b[0m \u001b[0;34m\u001b[0m\u001b[0m\n\u001b[1;32m      5\u001b[0m \u001b[0;32mif\u001b[0m \u001b[0mm\u001b[0m\u001b[0;34m:\u001b[0m\u001b[0;34m\u001b[0m\u001b[0;34m\u001b[0m\u001b[0m\n",
      "\u001b[0;31mAttributeError\u001b[0m: 'function' object has no attribute 'match'"
     ]
    }
   ],
   "source": [
    "# import re\n",
    "\n",
    "# p = re.compile(정규표현식)\n",
    "# m = p.match('string goes here')\n",
    "\n",
    "# if m:\n",
    "#     print('Match found: ', m.group())\n",
    "# else:\n",
    "#     prind('No match')"
   ]
  },
  {
   "cell_type": "code",
   "execution_count": 16,
   "metadata": {
    "colab": {
     "base_uri": "https://localhost:8080/"
    },
    "executionInfo": {
     "elapsed": 519,
     "status": "ok",
     "timestamp": 1679410992407,
     "user": {
      "displayName": "박주경",
      "userId": "06694313831384541311"
     },
     "user_tz": -540
    },
    "id": "BiH6zYdZsPO2",
    "outputId": "e992154c-8bf8-45b6-a9e4-09bd3b3d7bc6"
   },
   "outputs": [
    {
     "name": "stdout",
     "output_type": "stream",
     "text": [
      "<re.Match object; span=(0, 6), match='python'>\n",
      "<re.Match object; span=(2, 8), match='python'>\n"
     ]
    }
   ],
   "source": [
    "import re\n",
    "p = re.compile('[a-z]+')\n",
    "\n",
    "m = p.search(\"python:\")\n",
    "print(m)\n",
    "\n",
    "m = p.search(\"3 python:\")\n",
    "print(m)\n"
   ]
  },
  {
   "cell_type": "code",
   "execution_count": 22,
   "metadata": {
    "colab": {
     "base_uri": "https://localhost:8080/"
    },
    "executionInfo": {
     "elapsed": 1034,
     "status": "ok",
     "timestamp": 1679411243159,
     "user": {
      "displayName": "박주경",
      "userId": "06694313831384541311"
     },
     "user_tz": -540
    },
    "id": "hgttBk0RsryQ",
    "outputId": "54f3f642-ce88-4010-d42e-5297946d3472"
   },
   "outputs": [
    {
     "name": "stdout",
     "output_type": "stream",
     "text": [
      "['life', 'is', 'too', 'short']\n",
      "life\n",
      "is\n",
      "too\n",
      "short\n"
     ]
    }
   ],
   "source": [
    "# findall\n",
    "\n",
    "import re\n",
    "p = re.compile('[a-z]+')\n",
    "\n",
    "result = p.findall(\"life is too short\")\n",
    "print(result)\n",
    "\n",
    "for r in result: print(r)"
   ]
  },
  {
   "cell_type": "code",
   "execution_count": 21,
   "metadata": {
    "colab": {
     "base_uri": "https://localhost:8080/"
    },
    "executionInfo": {
     "elapsed": 3,
     "status": "ok",
     "timestamp": 1679411198747,
     "user": {
      "displayName": "박주경",
      "userId": "06694313831384541311"
     },
     "user_tz": -540
    },
    "id": "-M_Q4OtDtEkM",
    "outputId": "05c2031f-393f-4641-c246-76ac2daf9a07"
   },
   "outputs": [
    {
     "name": "stdout",
     "output_type": "stream",
     "text": [
      "<callable_iterator object at 0x7fd7148affd0>\n",
      "<re.Match object; span=(0, 4), match='life'>\n",
      "<re.Match object; span=(5, 7), match='is'>\n",
      "<re.Match object; span=(8, 11), match='too'>\n",
      "<re.Match object; span=(12, 17), match='short'>\n"
     ]
    }
   ],
   "source": [
    "# findall - match 객체라는 차이점\n",
    "\n",
    "import re\n",
    "p = re.compile('[a-z]+')\n",
    "\n",
    "result = p.finditer(\"life is too short\")\n",
    "print(result)\n",
    "\n",
    "for r in result: print(r)"
   ]
  },
  {
   "cell_type": "markdown",
   "metadata": {
    "id": "yvrBhMLRwBxB"
   },
   "source": [
    "<!-- #### 컴파일 옵션 -->\n",
    "- DOTALL(S) - . 이 줄바꿈 문자를 포함하여 모든 문자와 매치할 수 있도록 함\n",
    "- IGNORECASE(I) - 대소문자에 관계없이 매치할 수 있도록 한다.\n",
    "- MULTILINE(M) - 여러줄과 매치할 수 있도록 함 (^,$ 메타문자의 사용과 관계있는 옵션)\n",
    "- VERBOSE(X) - verbose 모드를 사용할 수 있도록 함 (정규식을 보기 편하게 만들 수 있고 주석 등을 사용할 수 있게 됨)\n",
    "\n"
   ]
  },
  {
   "cell_type": "code",
   "execution_count": 30,
   "metadata": {
    "colab": {
     "base_uri": "https://localhost:8080/"
    },
    "executionInfo": {
     "elapsed": 3,
     "status": "ok",
     "timestamp": 1679412225241,
     "user": {
      "displayName": "박주경",
      "userId": "06694313831384541311"
     },
     "user_tz": -540
    },
    "id": "j6x54qExt6WW",
    "outputId": "9fa61934-8039-4a5e-f4a3-c6e54f36562f"
   },
   "outputs": [
    {
     "name": "stdout",
     "output_type": "stream",
     "text": [
      "None\n"
     ]
    }
   ],
   "source": [
    "# DOTALL, S\n",
    "\n",
    "import re\n",
    "\n",
    "p = re.compile('a.b')\n",
    "m = p.match('a\\nb')\n",
    "\n",
    "print(m)"
   ]
  },
  {
   "cell_type": "code",
   "execution_count": 36,
   "metadata": {
    "colab": {
     "base_uri": "https://localhost:8080/"
    },
    "executionInfo": {
     "elapsed": 561,
     "status": "ok",
     "timestamp": 1679412484215,
     "user": {
      "displayName": "박주경",
      "userId": "06694313831384541311"
     },
     "user_tz": -540
    },
    "id": "CinwQ0FOxNuV",
    "outputId": "64d4fe76-93fa-4cfd-c4cb-bb510212ab6e"
   },
   "outputs": [
    {
     "name": "stdout",
     "output_type": "stream",
     "text": [
      "<re.Match object; span=(0, 3), match='a\\nb'>\n"
     ]
    }
   ],
   "source": [
    "# DOTALL, S\n",
    "\n",
    "import re\n",
    "\n",
    "p = re.compile('a.b', re.DOTALL) # = re.S\n",
    "m = p.match('a\\nb')\n",
    "\n",
    "print(m)"
   ]
  },
  {
   "cell_type": "code",
   "execution_count": 40,
   "metadata": {
    "colab": {
     "base_uri": "https://localhost:8080/"
    },
    "executionInfo": {
     "elapsed": 2,
     "status": "ok",
     "timestamp": 1679412645876,
     "user": {
      "displayName": "박주경",
      "userId": "06694313831384541311"
     },
     "user_tz": -540
    },
    "id": "TL9KS-ZuyYX3",
    "outputId": "726f4716-fab0-4c50-ca6a-1d15800b071e"
   },
   "outputs": [
    {
     "name": "stdout",
     "output_type": "stream",
     "text": [
      "<re.Match object; span=(0, 6), match='python'>\n",
      "<re.Match object; span=(0, 6), match='Python'>\n"
     ]
    },
    {
     "data": {
      "text/plain": [
       "<re.Match object; span=(0, 6), match='PYTHON'>"
      ]
     },
     "execution_count": 40,
     "metadata": {},
     "output_type": "execute_result"
    }
   ],
   "source": [
    "# IGNORECASE, I\n",
    "\n",
    "import re\n",
    "\n",
    "p = re.compile('[a-z]+', re.I)\n",
    "\n",
    "print(p.match('python'))\n",
    "\n",
    "print(p.match('Python'))\n",
    "\n",
    "p.match('PYTHON')\n"
   ]
  },
  {
   "cell_type": "code",
   "execution_count": 43,
   "metadata": {
    "colab": {
     "base_uri": "https://localhost:8080/"
    },
    "executionInfo": {
     "elapsed": 3,
     "status": "ok",
     "timestamp": 1679413120712,
     "user": {
      "displayName": "박주경",
      "userId": "06694313831384541311"
     },
     "user_tz": -540
    },
    "id": "MAQtxegizEr6",
    "outputId": "5e1c9fba-30a3-407e-d64e-e8cc166e7610"
   },
   "outputs": [
    {
     "name": "stdout",
     "output_type": "stream",
     "text": [
      "['python one']\n"
     ]
    }
   ],
   "source": [
    "# MULTILINE, M\n",
    "\n",
    "import re\n",
    "p = re.compile(\"^python\\s\\w+\") # 문자열의 처음부터 python, 그 뒤에 whitespace, 그 뒤에 단어(문자+숫자)\n",
    "\n",
    "data = \"\"\"python one\n",
    "life is too short\n",
    "python two\n",
    "you need python\n",
    "python three\"\"\"\n",
    "\n",
    "print(p.findall(data))"
   ]
  },
  {
   "cell_type": "code",
   "execution_count": 44,
   "metadata": {
    "colab": {
     "base_uri": "https://localhost:8080/"
    },
    "executionInfo": {
     "elapsed": 3,
     "status": "ok",
     "timestamp": 1679413636575,
     "user": {
      "displayName": "박주경",
      "userId": "06694313831384541311"
     },
     "user_tz": -540
    },
    "id": "vazZ6JuR2gzv",
    "outputId": "41b1169f-22b0-442a-eb4e-0a5484ff9418"
   },
   "outputs": [
    {
     "name": "stdout",
     "output_type": "stream",
     "text": [
      "['python one', 'python two', 'python three']\n"
     ]
    }
   ],
   "source": [
    "# MULTILINE, M\n",
    "\n",
    "import re\n",
    "p = re.compile(\"^python\\s\\w+\", re.M) # 문자열의 처음부터 python, 그 뒤에 whitespace, 그 뒤에 단어(문자+숫자)\n",
    "\n",
    "data = \"\"\"python one\n",
    "life is too short\n",
    "python two\n",
    "you need python\n",
    "python three\"\"\"\n",
    "\n",
    "print(p.findall(data))"
   ]
  },
  {
   "cell_type": "code",
   "execution_count": null,
   "metadata": {
    "id": "1FiinVTR1C6x"
   },
   "outputs": [],
   "source": [
    "# VERBOSE, X\n",
    "\n",
    "charref = re.compile(r'&[#](0[0-7]+|[0-9]+|x[0-9a-fA-F]+);')"
   ]
  },
  {
   "cell_type": "code",
   "execution_count": null,
   "metadata": {
    "id": "Nd8kOYyY3NPN"
   },
   "outputs": [],
   "source": [
    "# VERBOSE, X\n",
    "\n",
    "#  whitespace는 컴파일 때 제거됨, 단 [] 안의 whitespace는 제외\n",
    "\n",
    "charref = re.compile(r\"\"\"\n",
    " &[#]                # Start of a numeric entity reference\n",
    " (\n",
    "    0[0-7]+          # Octal form\n",
    "   |[0-9]+           # Decimal form\n",
    "   |x[0-9a-fA-F]+    # Hexadecimal form\n",
    " )\n",
    " ;                   # Trailing semicolon\n",
    "\"\"\", re.VERBOSE)"
   ]
  },
  {
   "cell_type": "code",
   "execution_count": null,
   "metadata": {
    "id": "CGwxdsGF5WKi"
   },
   "outputs": [],
   "source": [
    "# 백슬래시 문제 - Raw String 사용\n",
    "\n",
    "p = re.compile(r'\\\\section')"
   ]
  }
 ],
 "metadata": {
  "colab": {
   "authorship_tag": "ABX9TyMxaYLVr/H4hWY6y94J9E0Y",
   "provenance": []
  },
  "kernelspec": {
   "display_name": "Python 3 (ipykernel)",
   "language": "python",
   "name": "python3"
  },
  "language_info": {
   "codemirror_mode": {
    "name": "ipython",
    "version": 3
   },
   "file_extension": ".py",
   "mimetype": "text/x-python",
   "name": "python",
   "nbconvert_exporter": "python",
   "pygments_lexer": "ipython3",
   "version": "3.9.13"
  }
 },
 "nbformat": 4,
 "nbformat_minor": 1
}
