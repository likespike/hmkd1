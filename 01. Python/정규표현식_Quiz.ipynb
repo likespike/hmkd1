{
 "cells": [
  {
   "cell_type": "code",
   "execution_count": 2,
   "id": "aa368e24",
   "metadata": {},
   "outputs": [
    {
     "data": {
      "text/plain": [
       "['032-232-3245']"
      ]
     },
     "execution_count": 2,
     "metadata": {},
     "output_type": "execute_result"
    }
   ],
   "source": [
    "# Q. 정규표현식을 사용하여 text에서 전화번호만  출력하세요\n",
    "# text = \"문의사항이 있으면 032-232-3245 으로 연락주시기 바랍니다.\"\n",
    "\n",
    "import re\n",
    " \n",
    "text = \"문의사항이 있으면 032-232-3245 으로 연락주시기 바랍니다.\"\n",
    " \n",
    "re.findall('\\d+[-]\\d+[-]\\d+', text)"
   ]
  },
  {
   "cell_type": "code",
   "execution_count": 154,
   "id": "134f6844",
   "metadata": {},
   "outputs": [
    {
     "data": {
      "text/plain": [
       "['에러 1122', '에러 1033', '에러 xxx']"
      ]
     },
     "execution_count": 154,
     "metadata": {},
     "output_type": "execute_result"
    }
   ],
   "source": [
    "# Q. 정규표현식을 사용하여 text에서 에러가 들어간 부분만 포함하는 리스트를 출력하세요. \n",
    "# text = \"에러 1122, 레퍼런스 오류, 에러 1033, 아규먼트 오류, 에러 xxx\"\n",
    "\n",
    "text = \"에러 1122, 레퍼런스 오류, 에러 1033, 아규먼트 오류, 에러 xxx\"\n",
    "\n",
    "re.findall('에러\\s\\w+', text)"
   ]
  },
  {
   "cell_type": "code",
   "execution_count": 188,
   "id": "915d177f",
   "metadata": {},
   "outputs": [
    {
     "data": {
      "text/plain": [
       "'032'"
      ]
     },
     "execution_count": 188,
     "metadata": {},
     "output_type": "execute_result"
    }
   ],
   "source": [
    "# Q. 정규표현식을 사용하여 text에서 지역코드만 출력하세요.\n",
    "import re\n",
    " \n",
    "text = \"문의사항이 있으면 032-232-3245 으로 연락주시기 바랍니다.\" \n",
    "\n",
    "re.search('(\\d+)-(\\d+-\\d+)', text).group(1)"
   ]
  },
  {
   "cell_type": "code",
   "execution_count": 189,
   "id": "0904048b",
   "metadata": {},
   "outputs": [
    {
     "data": {
      "text/plain": [
       "'232, 3245'"
      ]
     },
     "execution_count": 189,
     "metadata": {},
     "output_type": "execute_result"
    }
   ],
   "source": [
    "# Q. 정규표현식을 사용하여 text에서 지역코드 제외한 번호만 출력하세요.\n",
    "\n",
    "import re\n",
    " \n",
    "text = \"문의사항이 있으면 032-232-3245 으로 연락주시기 바랍니다.\" \n",
    "\n",
    "re.search('(\\d+)-(\\d+-\\d+)', text).group(2).replace\n",
    "# re.search('(\\d+)-(\\d+-\\d+)', text).group(2).replace('-', ', ')"
   ]
  },
  {
   "cell_type": "code",
   "execution_count": 191,
   "id": "5d994c9d",
   "metadata": {},
   "outputs": [
    {
     "name": "stdout",
     "output_type": "stream",
     "text": [
      "abcdefghi\n",
      "e\n"
     ]
    },
    {
     "data": {
      "text/plain": [
       "('abcdefghi', 'bcdefgh', 'cdefg', 'def', 'e')"
      ]
     },
     "execution_count": 191,
     "metadata": {},
     "output_type": "execute_result"
    }
   ],
   "source": [
    "# Q.'abcdefghij' 에 대하여 중첩을 적용한 서브그룹 5개로 컴파일하여 group()함수를 이용하여 \n",
    "# 'abcdefghi'와 e'를 출력하세요\n",
    "\n",
    "text = 'abcdefghij'\n",
    "\n",
    "print(re.search('(a(b(c(d(e)f)g)h)i)j', text).group(1))\n",
    "print(re.search('(a(b(c(d(e)f)g)h)i)j', text).group(5))\n",
    "re.search('(a(b(c(d(e)f)g)h)i)j', text).groups()"
   ]
  },
  {
   "cell_type": "code",
   "execution_count": 109,
   "id": "d9bd50e7",
   "metadata": {},
   "outputs": [
    {
     "data": {
      "text/plain": [
       "'abcdefghij'"
      ]
     },
     "execution_count": 109,
     "metadata": {},
     "output_type": "execute_result"
    }
   ],
   "source": [
    "# Q. 위 문제에서 모든 서브 그룹에 대한 문자열을 포함하는 튜플을 출력하세요.\n",
    "\n",
    "text = 'abcdefghij'\n",
    "re.search('(a(b(c(d(e)f)g)h)i)j', text).group()"
   ]
  },
  {
   "cell_type": "code",
   "execution_count": 195,
   "id": "2a7eb8b6",
   "metadata": {},
   "outputs": [
    {
     "data": {
      "text/plain": [
       "'Lots'"
      ]
     },
     "execution_count": 195,
     "metadata": {},
     "output_type": "execute_result"
    }
   ],
   "source": [
    "# Q. 이름으로 그룹을 참조하여 'Lots of punctuation 에서 Lots를 출력하세요.\n",
    "\n",
    "text = 'Lots of punctuation'\n",
    "\n",
    "re.search('(?P<name>(\\w+))', text).group('name')"
   ]
  },
  {
   "cell_type": "code",
   "execution_count": 197,
   "id": "a078dca8",
   "metadata": {},
   "outputs": [
    {
     "data": {
      "text/plain": [
       "' very very'"
      ]
     },
     "execution_count": 197,
     "metadata": {},
     "output_type": "execute_result"
    }
   ],
   "source": [
    "# Q. 'Paris is very very beautiful.'에서 'very very'를 출력하세요.\n",
    "\n",
    "text = 'Paris is very very beautiful.'\n",
    "\n",
    "re.search(r'\\s(\\w+)\\s\\1', text).group()"
   ]
  },
  {
   "cell_type": "code",
   "execution_count": 199,
   "id": "8533ff88",
   "metadata": {},
   "outputs": [
    {
     "name": "stdout",
     "output_type": "stream",
     "text": [
      "['1 apple', '5 oranges', '3 boys', '4 girls', '0 army', '1 mr']\n"
     ]
    }
   ],
   "source": [
    "# Q. 정규표현식을 작성하여 아래와 같이 출력하세요.\n",
    "\n",
    "import re\n",
    "li = '1 apple, 5 oranges, 3 boys, 4 girls; 10 army| 11 mr'\n",
    "regex = re.compile('\\d\\s\\w+')\n",
    "list = regex.findall(li)\n",
    "print(list)"
   ]
  },
  {
   "cell_type": "code",
   "execution_count": 213,
   "id": "39d70683",
   "metadata": {},
   "outputs": [
    {
     "data": {
      "text/plain": [
       "['H', 'h', 'h']"
      ]
     },
     "execution_count": 213,
     "metadata": {},
     "output_type": "execute_result"
    }
   ],
   "source": [
    "# Q. text에서 'H,h'만 출력하세요.\n",
    "text = 'Hello my friend! Life is short you need Python!'\n",
    "\n",
    "re.findall('h', text, re.I)"
   ]
  },
  {
   "cell_type": "code",
   "execution_count": 215,
   "id": "615c621a",
   "metadata": {},
   "outputs": [
    {
     "name": "stdout",
     "output_type": "stream",
     "text": [
      "['e', 'l', 'l', 'o', ' ', 'm', 'y', ' ', 'f', 'r', 'i', 'e', 'n', 'd', '!', ' ', 'L', 'i', 'f', 'e', ' ', 'i', 's', ' ', 's', 'o', 'r', 't', ' ', 'y', 'o', 'u', ' ', 'n', 'e', 'e', 'd', ' ', 'P', 'y', 't', 'o', 'n', '!']\n",
      "['ello my friend! Life is s', 'ort you need Pyt', 'on!']\n"
     ]
    }
   ],
   "source": [
    "# Q. text에서 'H,h'가 아닌 것 모두를 출력하세요.\n",
    "\n",
    "print(re.findall('[^h]', text, re.I))\n",
    "print(re.findall('[^h]+', text, re.I))"
   ]
  },
  {
   "cell_type": "code",
   "execution_count": 56,
   "id": "9ef4d34d",
   "metadata": {},
   "outputs": [
    {
     "data": {
      "text/plain": [
       "['home']"
      ]
     },
     "execution_count": 56,
     "metadata": {},
     "output_type": "execute_result"
    }
   ],
   "source": [
    "# Q. 'we are going home'에서 home만 출력하세요.\n",
    "\n",
    "text = 'we are going home'\n",
    "\n",
    "re.findall('\\w+$', text)"
   ]
  },
  {
   "cell_type": "code",
   "execution_count": 57,
   "id": "3f150349",
   "metadata": {},
   "outputs": [
    {
     "data": {
      "text/plain": [
       "['home']"
      ]
     },
     "execution_count": 57,
     "metadata": {},
     "output_type": "execute_result"
    }
   ],
   "source": [
    "# Q. 'home sweet'에서 home만 출력하세요.\n",
    "\n",
    "text = 'home sweet'\n",
    "\n",
    "re.findall('^\\w+', text)"
   ]
  },
  {
   "cell_type": "code",
   "execution_count": 60,
   "id": "ad6ff1dc",
   "metadata": {},
   "outputs": [
    {
     "data": {
      "text/plain": [
       "'199305'"
      ]
     },
     "execution_count": 60,
     "metadata": {},
     "output_type": "execute_result"
    }
   ],
   "source": [
    "# Q. '199305, 1923A, a93247'에서 '199305'만 출력하세요.\n",
    "\n",
    "text = '199305, 1923A, a93247'\n",
    "\n",
    "re.match('\\d+', text).group()"
   ]
  },
  {
   "cell_type": "code",
   "execution_count": 99,
   "id": "62cb92ba",
   "metadata": {},
   "outputs": [
    {
     "data": {
      "text/plain": [
       "'99food234'"
      ]
     },
     "execution_count": 99,
     "metadata": {},
     "output_type": "execute_result"
    }
   ],
   "source": [
    "# Q. '99food234, a93456\\n, a9356ba '에서 '99food234'만 출력하세요.\n",
    "\n",
    "text = '99food234, a93456\\n, a9356ba '\n",
    "\n",
    "re.match('\\w+', text).group()"
   ]
  },
  {
   "cell_type": "code",
   "execution_count": 209,
   "id": "26342524",
   "metadata": {},
   "outputs": [
    {
     "data": {
      "text/plain": [
       "'abc'"
      ]
     },
     "execution_count": 209,
     "metadata": {},
     "output_type": "execute_result"
    }
   ],
   "source": [
    "# Q. '12345abc'에서 'abc'만 출력하세요.\n",
    "import re\n",
    "\n",
    "text = '12345abc'\n",
    "\n",
    "# re.findall('[a-z]+', text)\n",
    "re.sub('\\d', '', text)"
   ]
  },
  {
   "cell_type": "code",
   "execution_count": 211,
   "id": "0977e163",
   "metadata": {},
   "outputs": [
    {
     "data": {
      "text/plain": [
       "'12345'"
      ]
     },
     "execution_count": 211,
     "metadata": {},
     "output_type": "execute_result"
    }
   ],
   "source": [
    "# Q. '12345abc'에서 '12345'만 출력하세요.\n",
    "import re\n",
    "\n",
    "text = '12345abc'\n",
    "\n",
    "# re.findall('\\d+', text)\n",
    "re.sub('\\D', '', text)"
   ]
  },
  {
   "cell_type": "code",
   "execution_count": 98,
   "id": "482e9ea4",
   "metadata": {},
   "outputs": [
    {
     "data": {
      "text/plain": [
       "'a'"
      ]
     },
     "execution_count": 98,
     "metadata": {},
     "output_type": "execute_result"
    }
   ],
   "source": [
    "# Q. '12345abc'에서 'a'만 출력하세요.\n",
    "\n",
    "text = '12345abc'\n",
    "\n",
    "re.search('[a-z]', text).group()"
   ]
  },
  {
   "cell_type": "code",
   "execution_count": 221,
   "id": "f514f1b0",
   "metadata": {},
   "outputs": [
    {
     "data": {
      "text/plain": [
       "['122333c']"
      ]
     },
     "execution_count": 221,
     "metadata": {},
     "output_type": "execute_result"
    }
   ],
   "source": [
    "# search는 문자열 전체를 검색하여 정규식과 매칭되는 패턴을 찾는다.\n",
    "# Q. '122333c'를 모두 출력하세요.\n",
    "\n",
    "text = '122333c1233c'\n",
    "\n",
    "# re.search('\\d+\\D', text).group()\n",
    "re.findall('12{2}3{3}c', text)"
   ]
  },
  {
   "cell_type": "code",
   "execution_count": 69,
   "id": "f781393e",
   "metadata": {},
   "outputs": [
    {
     "data": {
      "text/plain": [
       "'A'"
      ]
     },
     "execution_count": 69,
     "metadata": {},
     "output_type": "execute_result"
    }
   ],
   "source": [
    "# Q. 'abc12345Abc'에서 'A'만 출력하세요.\n",
    "\n",
    "text = 'abc12345Abc'\n",
    "\n",
    "re.search('[A-Z]', text).group()"
   ]
  },
  {
   "cell_type": "code",
   "execution_count": 218,
   "id": "b9b7299e",
   "metadata": {},
   "outputs": [
    {
     "data": {
      "text/plain": [
       "'대'"
      ]
     },
     "execution_count": 218,
     "metadata": {},
     "output_type": "execute_result"
    }
   ],
   "source": [
    "# Q. 'KOREA 대한민국'에서 '대'만 출력하세요.\n",
    "\n",
    "text = 'KOREA 대한민국'\n",
    "\n",
    "re.search('[가-힣]', text).group()"
   ]
  },
  {
   "cell_type": "code",
   "execution_count": 187,
   "id": "340e49fa",
   "metadata": {},
   "outputs": [
    {
     "data": {
      "text/plain": [
       "['aaaaBBBcccDDDeee']"
      ]
     },
     "execution_count": 187,
     "metadata": {},
     "output_type": "execute_result"
    }
   ],
   "source": [
    "# Q. 'aaaaBBBcccDDDeee'을 모두 출력하세요.\n",
    "\n",
    "text = 'aaaaBBBcccDDDeeeaaaBBBcccDDeee'\n",
    "\n",
    "re.findall('.+(?=a{3})', text)"
   ]
  },
  {
   "cell_type": "code",
   "execution_count": 223,
   "id": "2f2910d4",
   "metadata": {},
   "outputs": [
    {
     "data": {
      "text/plain": [
       "['1', '2', '3', '4', '1', '2', '3', '4']"
      ]
     },
     "execution_count": 223,
     "metadata": {},
     "output_type": "execute_result"
    }
   ],
   "source": [
    "# Q. '1234a1234'에서  '1', '2', '3', '4'를 모두 출력하세요.\n",
    "\n",
    "text = '1234a1234'\n",
    "\n",
    "# re.findall('\\d', text)\n",
    "re.findall('[1234]', text)"
   ]
  },
  {
   "cell_type": "code",
   "execution_count": 224,
   "id": "26ace086",
   "metadata": {},
   "outputs": [
    {
     "data": {
      "text/plain": [
       "'what are you doing?'"
      ]
     },
     "execution_count": 224,
     "metadata": {},
     "output_type": "execute_result"
    }
   ],
   "source": [
    "# Q. text에서 what are you doing?만 출력하세요 \n",
    "text = 'what are you doing?\\nit is going to be late for school\\nwe need to hurry up'\n",
    "\n",
    "re.match('.+', text).group()"
   ]
  },
  {
   "cell_type": "code",
   "execution_count": 79,
   "id": "31e251a2",
   "metadata": {},
   "outputs": [
    {
     "name": "stdout",
     "output_type": "stream",
     "text": [
      "what are you doing?\n",
      "it is going to be late for school\n",
      "we need to hurry up\n"
     ]
    }
   ],
   "source": [
    "# Q. text에서 전체문장 모두 출력하세요 \n",
    "\n",
    "text = 'what are you doing?\\nit is going to be late for school\\nwe need to hurry up'\n",
    "\n",
    "print(re.match(r'.+',text, re.DOTALL).group())"
   ]
  },
  {
   "cell_type": "code",
   "execution_count": 225,
   "id": "61d1dfaf",
   "metadata": {},
   "outputs": [
    {
     "data": {
      "text/plain": [
       "['Friend', 'fRiend', 'friEnd', 'FRIEND']"
      ]
     },
     "execution_count": 225,
     "metadata": {},
     "output_type": "execute_result"
    }
   ],
   "source": [
    "# Q. text에서 대소문자 구분없이 전체문장 모두 출력하세요 \n",
    "\n",
    "text = 'Friend fRiend friEnd FRIEND'\n",
    "\n",
    "re.findall('friend', text, re.I)"
   ]
  }
 ],
 "metadata": {
  "kernelspec": {
   "display_name": "Python 3 (ipykernel)",
   "language": "python",
   "name": "python3"
  },
  "language_info": {
   "codemirror_mode": {
    "name": "ipython",
    "version": 3
   },
   "file_extension": ".py",
   "mimetype": "text/x-python",
   "name": "python",
   "nbconvert_exporter": "python",
   "pygments_lexer": "ipython3",
   "version": "3.9.13"
  }
 },
 "nbformat": 4,
 "nbformat_minor": 5
}
