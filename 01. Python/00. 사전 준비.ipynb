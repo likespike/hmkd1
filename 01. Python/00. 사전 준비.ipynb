{
 "cells": [
  {
   "cell_type": "markdown",
   "id": "13bee120",
   "metadata": {},
   "source": [
    "# Anaconda 설치\n",
    "- 파이썬 머신러닝을 위한 패키지를 설치하는 가장 쉬운 방법 (cf. pip 명령어는 개별 설치)\n",
    "- XGBoost, LightGBM 등 일반적으로 윈도우 환경에 설치가 어려운 패키지들도 간편하게 설치 가능\n",
    "- 3GB 설치 공간 요구\n",
    "- https://www.anaconda.com/products/individual"
   ]
  },
  {
   "cell_type": "markdown",
   "id": "efdf8222",
   "metadata": {},
   "source": [
    "# Python 버전 확인\n",
    "- Anaconda Prompt에서 python -V 입력"
   ]
  }
 ],
 "metadata": {
  "kernelspec": {
   "display_name": "Python 3 (ipykernel)",
   "language": "python",
   "name": "python3"
  },
  "language_info": {
   "codemirror_mode": {
    "name": "ipython",
    "version": 3
   },
   "file_extension": ".py",
   "mimetype": "text/x-python",
   "name": "python",
   "nbconvert_exporter": "python",
   "pygments_lexer": "ipython3",
   "version": "3.9.13"
  }
 },
 "nbformat": 4,
 "nbformat_minor": 5
}
