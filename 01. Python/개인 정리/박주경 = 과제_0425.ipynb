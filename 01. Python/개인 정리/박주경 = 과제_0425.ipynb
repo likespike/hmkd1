{
 "cells": [
  {
   "cell_type": "code",
   "execution_count": 19,
   "id": "a53a6336",
   "metadata": {},
   "outputs": [],
   "source": [
    "import re"
   ]
  },
  {
   "cell_type": "markdown",
   "id": "cfd59c33",
   "metadata": {},
   "source": [
    "과제1_0425.\n",
    "BC, CC, ABC 모두 C가 출력되는 정규 표현식을 ()에 작성하세요."
   ]
  },
  {
   "cell_type": "code",
   "execution_count": 2,
   "id": "b5a330b7",
   "metadata": {},
   "outputs": [
    {
     "name": "stdout",
     "output_type": "stream",
     "text": [
      "<re.Match object; span=(1, 2), match='C'>\n",
      "<re.Match object; span=(0, 2), match='CC'>\n",
      "<re.Match object; span=(2, 3), match='C'>\n"
     ]
    }
   ],
   "source": [
    "pattern = re.compile('C+')\n",
    "text1 = 'BC'\n",
    "text2 = 'CC'\n",
    "text3 = 'ABC'\n",
    "p1 = pattern.search(text1)\n",
    "p2 = pattern.search(text2)\n",
    "p3 = pattern.search(text3)\n",
    "print(p1)\n",
    "print(p2)\n",
    "print(p3)"
   ]
  },
  {
   "cell_type": "markdown",
   "id": "f658a92a",
   "metadata": {},
   "source": [
    "#### 과제2_0425.\n",
    "'1234a1234'에서 '1','2','3','4'를 모두 출력하세요."
   ]
  },
  {
   "cell_type": "code",
   "execution_count": 4,
   "id": "b046d136",
   "metadata": {},
   "outputs": [
    {
     "data": {
      "text/plain": [
       "['1', '2', '3', '4', '1', '2', '3', '4']"
      ]
     },
     "execution_count": 4,
     "metadata": {},
     "output_type": "execute_result"
    }
   ],
   "source": [
    "text = '1234a1234'\n",
    "\n",
    "re.findall('\\d', text)"
   ]
  },
  {
   "cell_type": "markdown",
   "id": "035cdaf0",
   "metadata": {},
   "source": [
    "#### 과제3_0425.\n",
    "'99food234, a93456\\n, a9356ba'에서 '99food234'만 출력하세요."
   ]
  },
  {
   "cell_type": "code",
   "execution_count": 5,
   "id": "b3f50173",
   "metadata": {},
   "outputs": [
    {
     "name": "stdout",
     "output_type": "stream",
     "text": [
      "99food234\n"
     ]
    }
   ],
   "source": [
    "text = '99food234, a93456\\n, a9356ba'\n",
    "\n",
    "print(re.match('\\d+\\w+', text).group())    # \\d - 숫자로 시작하면서 2개, \\w로 해야, , 앞에서 멈춤\n",
    "# print(re.match('\\d+.+', text).group())    # . 이어서 \\n에서 멈춤\n",
    "# print(re.match('\\d+.+', text, re.DOTALL).group())    # 옵션 주면 \\n에서 한 번 끊고 뒤에것도 다시 보여줌"
   ]
  },
  {
   "cell_type": "markdown",
   "id": "7b8f4324",
   "metadata": {},
   "source": [
    "#### 과제4_0425.\n",
    "text에서 전체문장 모두 출력하세요."
   ]
  },
  {
   "cell_type": "code",
   "execution_count": 6,
   "id": "88cd723f",
   "metadata": {},
   "outputs": [
    {
     "name": "stdout",
     "output_type": "stream",
     "text": [
      "what are you doing?\n",
      "it is going to be late for school\n",
      "we need to hurry up\n"
     ]
    }
   ],
   "source": [
    "text = 'what are you doing?\\nit is going to be late for school\\nwe need to hurry up'\n",
    "\n",
    "p = re.compile('.*', re.DOTALL)\n",
    "m = p.search(text)\n",
    "print(m.group())"
   ]
  },
  {
   "cell_type": "markdown",
   "id": "e9df4fe7",
   "metadata": {},
   "source": [
    "#### 과제5-0425.\n",
    "아래 text에 내용을 모두 출력하세요.\n",
    "\n",
    "text = ['pAthon', 'PATHON', 'pathon', 'Pathon']"
   ]
  },
  {
   "cell_type": "code",
   "execution_count": 7,
   "id": "fa28692a",
   "metadata": {},
   "outputs": [
    {
     "name": "stdout",
     "output_type": "stream",
     "text": [
      "['pAthon']\n",
      "['PATHON']\n",
      "['pathon']\n",
      "['Pathon']\n"
     ]
    }
   ],
   "source": [
    "text = ['pAthon', 'PATHON', 'pathon', 'Pathon']\n",
    "\n",
    "for i in text:\n",
    "    result = re.findall('pathon', i, re.I)\n",
    "    print(result)"
   ]
  },
  {
   "cell_type": "markdown",
   "id": "0e6bdac3",
   "metadata": {},
   "source": [
    "#### 과제6_0425.\n",
    "()에 정규표현식을 작성하여 아래와 같이 출력하세요.\n",
    "\n",
    "['1 apple', '5 oranges', '3 boys', '4 girls', '10 army', '11 mr']"
   ]
  },
  {
   "cell_type": "code",
   "execution_count": 9,
   "id": "f51d1ff2",
   "metadata": {},
   "outputs": [
    {
     "name": "stdout",
     "output_type": "stream",
     "text": [
      "['1 apple', '5 oranges', '3 boys', '4 girls', '10 army', '11 mr']\n"
     ]
    }
   ],
   "source": [
    "import re\n",
    "li = '1 apple, 5 oranges, 3 boys, 4 girls; 10 army| 11 mr'\n",
    "regex = re.compile('\\d+\\s\\w+')    # \\w+ - 특수문자 전까지만 뽑아주니까 ; | 다 신경 안써도 됨\n",
    "list = regex.findall(li)          # 출력물의 ,는 리스트에서 구분해주는 ','이지, 정규표현식에서 뽑힌게 아님\n",
    "print(list)"
   ]
  },
  {
   "cell_type": "markdown",
   "id": "39939d2a",
   "metadata": {},
   "source": [
    "#### 과제7_0425.\n",
    "\n",
    "text에서 다음을 수행하세요.\n",
    "- 'H,h'만 출력하세요.\n",
    "- 'H,h'가 아닌 것 모두를 출력하세요."
   ]
  },
  {
   "cell_type": "code",
   "execution_count": 11,
   "id": "eb4375d1",
   "metadata": {},
   "outputs": [
    {
     "name": "stdout",
     "output_type": "stream",
     "text": [
      "['H', 'h', 'h'] \n",
      "\n",
      "['e', 'l', 'l', 'o', ' ', 'm', 'y', ' ', 'f', 'r', 'i', 'e', 'n', 'd', '!', ' ', 'L', 'i', 'f', 'e', ' ', 'i', 's', ' ', 's', 'o', 'r', 't', ' ', 'y', 'o', 'u', ' ', 'n', 'e', 'e', 'd', ' ', 'P', 'y', 't', 'o', 'n', '!'] \n",
      "\n",
      "['ello my friend! Life is s', 'ort you need Pyt', 'on!'] \n",
      "\n",
      "['', 'ello my friend! Life is s', '', 'ort you need Pyt', '', 'on!', '']\n"
     ]
    }
   ],
   "source": [
    "text = 'Hello my friend! Life is short you need Python!'\n",
    "\n",
    "print(re.findall('h',text, re.I),'\\n')\n",
    "\n",
    "print(re.findall('[^h]', text, re.I),'\\n')\n",
    "\n",
    "print(re.findall('[^h]+', text, re.I), '\\n')\n",
    "\n",
    "print(re.findall('[^h]*', text, re.I))    # h(H)가 아닌 것 0번 이상이어서 H전까지 0번인 ''가 출력됨??"
   ]
  },
  {
   "cell_type": "markdown",
   "id": "49067ec5",
   "metadata": {},
   "source": [
    "#### 과제8_0425.\n",
    "정규표현식을 사용하여 text에서 지역코드만 출력하세요.\n",
    "- 지역코드만 출력하세요.\n",
    "- 지역코드 제외한 번호만 출력하세요.\n",
    "\n",
    "text='문의사항이 있으면 032-232-3245 으로 연락주시기 바랍니다.'"
   ]
  },
  {
   "cell_type": "code",
   "execution_count": 20,
   "id": "f6ad6ff8",
   "metadata": {},
   "outputs": [
    {
     "name": "stdout",
     "output_type": "stream",
     "text": [
      "<re.Match object; span=(10, 22), match='032-232-3245'>\n",
      "032\n",
      "232-3245 \n",
      "\n",
      "<re.Match object; span=(10, 22), match='032-232-3245'>\n",
      "032\n",
      "('232', '3245') \n",
      "\n",
      "['032', '232', '3245']\n",
      "032\n",
      "['232', '3245']\n"
     ]
    }
   ],
   "source": [
    "text='문의사항이 있으면 032-232-3245 으로 연락주시기 바랍니다.'\n",
    "\n",
    "# 그루핑과 인덱싱 이용(- 있음)\n",
    "m = re.search('(\\d+)[-](\\d+-\\d+)', text)\n",
    "print(m)\n",
    "print(m.group(1))\n",
    "print(m.group(2),'\\n')\n",
    "\n",
    "# 그루핑과 인덱싱 이용(- 없음)\n",
    "m = re.search('(\\d+)-(\\d+)-(\\d+)', text)\n",
    "print(m)\n",
    "print(m.group(1))\n",
    "print(m.group(2, 3),'\\n')\n",
    "\n",
    "# findall 함수와 인덱싱 이용\n",
    "m = re.findall('\\d+',text)\n",
    "print(m)\n",
    "print(m[0])\n",
    "print(m[1:3])"
   ]
  },
  {
   "cell_type": "markdown",
   "id": "bcdfc6bd",
   "metadata": {},
   "source": [
    "#### 과제9_0425.\n",
    "아래 text에서 정규표현식을 사용하여 'the the the'를 출력하세요"
   ]
  },
  {
   "cell_type": "code",
   "execution_count": 18,
   "id": "e3efc0c4",
   "metadata": {},
   "outputs": [
    {
     "data": {
      "text/plain": [
       "'the the the'"
      ]
     },
     "execution_count": 18,
     "metadata": {},
     "output_type": "execute_result"
    }
   ],
   "source": [
    "text = 'Paris in the the the spring'\n",
    "\n",
    "m = re.search(r'([a-z]{3})\\s\\1\\s\\1', text)\n",
    "m.group()"
   ]
  },
  {
   "cell_type": "markdown",
   "id": "cc99bfea",
   "metadata": {},
   "source": [
    "#### 과제10_0425.\n",
    "이름으로 그룹을 참조하여 text 에서 Lots를 출력하세요."
   ]
  },
  {
   "cell_type": "code",
   "execution_count": 17,
   "id": "1e6ab9b8",
   "metadata": {},
   "outputs": [
    {
     "data": {
      "text/plain": [
       "'Lots'"
      ]
     },
     "execution_count": 17,
     "metadata": {},
     "output_type": "execute_result"
    }
   ],
   "source": [
    "text = 'Lots of punctuation Lots of punctuation'\n",
    "\n",
    "p = '(?P<Lots>([A-Z]\\w+))'\n",
    "m = re.search(p, text)\n",
    "m.group('Lots')"
   ]
  }
 ],
 "metadata": {
  "kernelspec": {
   "display_name": "Python 3 (ipykernel)",
   "language": "python",
   "name": "python3"
  },
  "language_info": {
   "codemirror_mode": {
    "name": "ipython",
    "version": 3
   },
   "file_extension": ".py",
   "mimetype": "text/x-python",
   "name": "python",
   "nbconvert_exporter": "python",
   "pygments_lexer": "ipython3",
   "version": "3.9.13"
  }
 },
 "nbformat": 4,
 "nbformat_minor": 5
}
