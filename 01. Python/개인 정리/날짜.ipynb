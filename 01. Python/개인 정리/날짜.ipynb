{
 "cells": [
  {
   "cell_type": "markdown",
   "id": "77d365a4",
   "metadata": {},
   "source": [
    "https://wikidocs.net/46998\n",
    "\n",
    "https://datascienceschool.net/01%20python/02.15%20%ED%8C%8C%EC%9D%B4%EC%8D%AC%EC%97%90%EC%84%9C%20%EB%82%A0%EC%A7%9C%EC%99%80%20%EC%8B%9C%EA%B0%84%20%EB%8B%A4%EB%A3%A8%EA%B8%B0.html\n",
    "\n",
    "# datetime 라이브러리\n",
    "- datetime 클래스\n",
    "    - 클래스 날짜와 시간을 함께 저장 \n",
    "- data 클래스\n",
    "    - 날짜만 저장\n",
    "- time 클래스\n",
    "    - 시간만 저장\n",
    "- timedelta 클래스\n",
    "    - 시간 구간 정보를 저장하는"
   ]
  },
  {
   "cell_type": "markdown",
   "id": "f007ba2a",
   "metadata": {},
   "source": [
    "## datetime 클래스\n",
    "- datetime.datetime 클래스 객체의 속성\n",
    "    - year\n",
    "    - month\n",
    "    - day\n",
    "    - hour\n",
    "    - minute\n",
    "    - second\n",
    "    - microsecond (백만분의 일초)\n",
    "\n",
    "- datetime 메서드\n",
    "    - weekday()\n",
    "    - strftime() - 날짜와 시간 정보를 문자열로 바꿔줌\n",
    "    - strptime() - 문자열로부터 시간 정보를 읽어서 datetime.datetime 클래스로 바꿔줌\n",
    "    - date() - 날짜 정보만 가지는 datetime.date 클래스 객체 반환\n",
    "    - time() - 시간 정보만 가지는 datetime.date 클래스 객체 반환\n",
    "    - now()\n",
    "    - weekday() : 0~6까지 (월요일~일요일)"
   ]
  },
  {
   "cell_type": "code",
   "execution_count": 100,
   "id": "fabf350f",
   "metadata": {},
   "outputs": [
    {
     "name": "stdout",
     "output_type": "stream",
     "text": [
      "5\n",
      "2023-03-25\n",
      "15:42:32.948982\n"
     ]
    },
    {
     "data": {
      "text/plain": [
       "datetime.time(15, 42, 32, 948982)"
      ]
     },
     "execution_count": 100,
     "metadata": {},
     "output_type": "execute_result"
    }
   ],
   "source": [
    "from datetime import datetime\n",
    "\n",
    "now = datetime.now()\n",
    "\n",
    "print(now.weekday())\n",
    "\n",
    "print(now.date())\n",
    "\n",
    "print(now.time())\n",
    "\n",
    "# now.date()\n",
    "now.time()"
   ]
  },
  {
   "cell_type": "code",
   "execution_count": 104,
   "id": "e9c33dc5",
   "metadata": {},
   "outputs": [
    {
     "data": {
      "text/plain": [
       "'2023-03-25'"
      ]
     },
     "execution_count": 104,
     "metadata": {},
     "output_type": "execute_result"
    }
   ],
   "source": [
    "# strftime()\n",
    "\n",
    "datetime.now().strftime(\"%Y-%m-%d\")7"
   ]
  },
  {
   "cell_type": "code",
   "execution_count": 102,
   "id": "1a26eb8f",
   "metadata": {},
   "outputs": [
    {
     "data": {
      "text/plain": [
       "datetime.datetime(2017, 1, 2, 14, 44)"
      ]
     },
     "execution_count": 102,
     "metadata": {},
     "output_type": "execute_result"
    }
   ],
   "source": [
    "# strptime()\n",
    "\n",
    "datetime.strptime(\"2017-01-02 14:44\", \"%Y-%m-%d %H:%M\")"
   ]
  },
  {
   "cell_type": "markdown",
   "id": "837bcfdf",
   "metadata": {},
   "source": [
    "## timedelta 클래스\n",
    "- total_seconds() - 모든 속성을 초단위로 모아서 변환"
   ]
  },
  {
   "cell_type": "markdown",
   "id": "5edb139e",
   "metadata": {},
   "source": [
    "#### 12. 1에서 백만까지 더하는데 걸리는 프로그램 실행 시간을 밀리초(ms) 단위로 구하세요.(1000 밀리초(ms) = 1초)"
   ]
  },
  {
   "cell_type": "code",
   "execution_count": 1,
   "id": "a10abba1",
   "metadata": {},
   "outputs": [
    {
     "name": "stdout",
     "output_type": "stream",
     "text": [
      "2023-03-25 15:59:04.705309\n",
      "1에서 백만까지 더합니다.\n",
      "1에서 백만까지 더한 결과: 499999500000\n",
      "총 계산 시간: 0:00:00.107554\n",
      "총 계산 시간: 107ms\n"
     ]
    }
   ],
   "source": [
    "from datetime import datetime\n",
    "\n",
    "start = datetime.now()\n",
    "print(start)\n",
    "print('1에서 백만까지 더합니다.')\n",
    "\n",
    "ret = 0\n",
    "for i in range(1000000):\n",
    "   ret += i\n",
    "print('1에서 백만까지 더한 결과: %d' %ret)\n",
    "\n",
    "end = datetime.now()\n",
    "\n",
    "elapsed = end - start\n",
    "\n",
    "print('총 계산 시간: ', end='');print(elapsed)\n",
    "\n",
    "elapsed_ms = int(elapsed.total_seconds()*1000) # 이게 바뀐 것 같음 datetime 클래스에도 이 메서드가 있다는 이야기임\n",
    "print('총 계산 시간: %dms' %elapsed_ms)"
   ]
  },
  {
   "cell_type": "markdown",
   "id": "4b519201",
   "metadata": {},
   "source": [
    "#### 현재 시간을 년-월-일 시:분:초로 출력하세요."
   ]
  },
  {
   "cell_type": "code",
   "execution_count": 7,
   "id": "a26b0d82",
   "metadata": {},
   "outputs": [
    {
     "name": "stdout",
     "output_type": "stream",
     "text": [
      "1679725070.082487 <class 'float'>\n",
      "2023-03-25 15:17:50.082487 <class 'datetime.datetime'>\n"
     ]
    },
    {
     "data": {
      "text/plain": [
       "'2023-03-25 15:17:50'"
      ]
     },
     "execution_count": 7,
     "metadata": {},
     "output_type": "execute_result"
    }
   ],
   "source": [
    "# A.\n",
    "\n",
    "import time\n",
    "from datetime import datetime\n",
    "t = time.time()\n",
    "d = datetime.fromtimestamp(t)\n",
    "s = d.strftime('%Y-%m-%d %X')\n",
    "\n",
    "print(t, type(t))\n",
    "print(d, type(d))\n",
    "s"
   ]
  },
  {
   "cell_type": "code",
   "execution_count": null,
   "id": "d7a08cc1",
   "metadata": {},
   "outputs": [],
   "source": []
  },
  {
   "cell_type": "markdown",
   "id": "51abf8ba",
   "metadata": {},
   "source": [
    "# time 패키지\n",
    "- sleep()"
   ]
  },
  {
   "cell_type": "markdown",
   "id": "fa38a367",
   "metadata": {},
   "source": [
    "#### 올해 경과된 날짜수를 계산하여 출력하세요."
   ]
  },
  {
   "cell_type": "code",
   "execution_count": 2,
   "id": "f48bf285",
   "metadata": {},
   "outputs": [
    {
     "name": "stdout",
     "output_type": "stream",
     "text": [
      "오늘은 2023-01-01 이후 84일째 되는 날입니다.\n"
     ]
    }
   ],
   "source": [
    "import time\n",
    "t = time.localtime()\n",
    "start_day = '%d-01-01' %t.tm_year\n",
    "elapsed_day = t.tm_yday\n",
    "print('오늘은 %s 이후 %d일째 되는 날입니다.' %(start_day,elapsed_day))"
   ]
  },
  {
   "cell_type": "markdown",
   "id": "91b29271",
   "metadata": {},
   "source": [
    "# 날짜 문제들"
   ]
  }
 ],
 "metadata": {
  "kernelspec": {
   "display_name": "Python 3 (ipykernel)",
   "language": "python",
   "name": "python3"
  },
  "language_info": {
   "codemirror_mode": {
    "name": "ipython",
    "version": 3
   },
   "file_extension": ".py",
   "mimetype": "text/x-python",
   "name": "python",
   "nbconvert_exporter": "python",
   "pygments_lexer": "ipython3",
   "version": "3.9.13"
  }
 },
 "nbformat": 4,
 "nbformat_minor": 5
}
