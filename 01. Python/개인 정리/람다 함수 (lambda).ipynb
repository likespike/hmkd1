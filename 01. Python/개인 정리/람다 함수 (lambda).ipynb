{
 "cells": [
  {
   "cell_type": "markdown",
   "id": "8d143c44",
   "metadata": {},
   "source": [
    "#### 람다 함수를 이용해서 a의 b제곱에서 a x b를 뺀 수를 구하는 식을 만들고 그 식을 이용해서  a, b가 아래와 같이 주어졌을 때 각각의 값을 구하세요. \n",
    "a = 2, b = 5 \\\n",
    "a= 5, b = 2"
   ]
  },
  {
   "cell_type": "code",
   "execution_count": null,
   "id": "995c9e84",
   "metadata": {},
   "outputs": [],
   "source": [
    "x = lambda a, b : a ** b - a*b\n",
    "print(x(2,5))\n",
    "print(x(5,2))"
   ]
  }
 ],
 "metadata": {
  "kernelspec": {
   "display_name": "Python 3 (ipykernel)",
   "language": "python",
   "name": "python3"
  },
  "language_info": {
   "codemirror_mode": {
    "name": "ipython",
    "version": 3
   },
   "file_extension": ".py",
   "mimetype": "text/x-python",
   "name": "python",
   "nbconvert_exporter": "python",
   "pygments_lexer": "ipython3",
   "version": "3.9.13"
  }
 },
 "nbformat": 4,
 "nbformat_minor": 5
}
