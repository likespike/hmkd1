{
 "cells": [
  {
   "cell_type": "markdown",
   "id": "d9301100",
   "metadata": {},
   "source": [
    "# 쥬피터 노트북 테마 변경법\n",
    "https://realblack0.github.io/2020/05/13/jupyter-notebook-themes.html"
   ]
  }
 ],
 "metadata": {
  "kernelspec": {
   "display_name": "Python 3 (ipykernel)",
   "language": "python",
   "name": "python3"
  },
  "language_info": {
   "codemirror_mode": {
    "name": "ipython",
    "version": 3
   },
   "file_extension": ".py",
   "mimetype": "text/x-python",
   "name": "python",
   "nbconvert_exporter": "python",
   "pygments_lexer": "ipython3",
   "version": "3.9.13"
  }
 },
 "nbformat": 4,
 "nbformat_minor": 5
}
