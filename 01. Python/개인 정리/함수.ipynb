{
 "cells": [
  {
   "cell_type": "markdown",
   "metadata": {
    "id": "Cdiprzg1jps6"
   },
   "source": [
    "# 궁금한 것\n",
    "\n",
    "tuple 질문한 것\n",
    "문자열 함수나, 모듈 import해서 쓸 대 .format() 등으로 쓰이나? 다른 함수들은 그냥 쓰고?\n",
    "\n",
    "비교 연산자 - < > = <= >= == !=\n",
    "논리 연산자 - not and or\n",
    "조건문에서 쓰이나?\n",
    "문자열에도 숫자에도 연산자 가능함\n",
    "\n",
    "split을 하면 리스트 형태로 반환하나??\n",
    "튜플 형태로 반환하는 것\n",
    "딕셔너리 형태로 반환하는 것 등\n",
    "\n",
    "baekjoon online judge"
   ]
  },
  {
   "cell_type": "markdown",
   "metadata": {
    "id": "6BL4F60TtMym"
   },
   "source": [
    "# 왕기초\n",
    "* 함수 안에 함수 넣을 수 있음"
   ]
  },
  {
   "cell_type": "markdown",
   "metadata": {
    "id": "k17bM7nznTte"
   },
   "source": [
    "# 핵심 요약\n",
    "## 연산자\n",
    "* 연산자들(비교, 논리)은 문자열에도 사용 가능하다\n",
    "\n",
    "## 문자열\n",
    "* format()는 문자열이 가지고 있는 함수임\n",
    "  * 문자열 안에 틀을 만들고\n",
    "  * 숫자가 문자열이 됨 (물론 매개변수에 다른 자료형도 가능) \n",
    "  * {}를 포함한 문자열 뒤에 .을 찍고 사용\n",
    "  * .format() 그리고 f-문자열\n",
    "\n",
    "## if 조건문\n",
    "* 조건에 따라 코드를 실행하거나, 실행하지 않게 만들고 싶을 때 사용하는 구문\n",
    "* 조건이 True일 때만 들여쓰기 안쪽의 문장을 실행\n",
    "* fi conditon: suite(복합문장)\n",
    "* 파이썬에서는 들여쓰기로 문장들이 한 덩어리라는 것을 표현함\n",
    "* in 연산자\n",
    "* 하나씩 처리하고 내려오므로, 아래 비교들을 쳐낼 수 있음\n",
    "* if 불 값이 나오는 표현식:\n",
    "> 불 값이 참일 때 실행할 문장\n",
    "> 불 값이 참일 때 실행할 문장\n",
    "> ...\n",
    "\n",
    "## for 반복문\n",
    "* 리스트, 딕셔너리, 범위\n",
    "\n",
    "## while 반복문\n",
    "* for 반복문으로 구현할 수 있는 것은, while로 다 가능하다.\n",
    "* 표현\n",
    "\n",
    "while 불 표현식:\n",
    ">문장\n",
    "\n",
    "## 라이브러리, 패키지, 모듈, 클래스, 함수, 변수의 관계\n",
    "* 모듈 - 함수나 클래스나 함수+클래스 등을 모아 놓은 것\n",
    "*클래스 - 재활용을 위해 객체지향, 만들어 놓고, 객체를 만듦\n",
    "*메서드 - 클래스 안의 함수를 칭함\n",
    "* from 모듈 이름 import 가져오고 싶은 변수 또는 함수\n",
    "\n",
    "## 함수\n",
    "* *args는 함수 내부에서 tuple로 처리한다\n",
    "* *kwargs는 함수 내부에서 dictionary로 처리한다\n",
    "* 함수를 호출하면 함수를 위한 스택이 따로 만들어 진다 (호출이 끝나면 함수 스택은 날아간다)\n",
    "  * 함수 외부의 스택을 '전역 스택'이라고 한다 \n",
    "```\n",
    "# 기본\n",
    "\n",
    "def 함수(매개변수):\n",
    "  변수 = 초기화\n",
    "  # 여러가지지 처리\n",
    "  # 여러가지지 처리\n",
    "  # 여러가지지 처리\n",
    "  return 변수\n",
    "```\n",
    "\n",
    "\n",
    "\n",
    "## 기타\n",
    "* 파이썬은 친절하게 month를 첫 번째 달부터 1번째로 알려준다 (사람 친화적)\n",
    "* False 변환 값 - None, 0, 0.0 빈 문자열(\"\"), 빈 컨테이너( [] () {} ), 빈 바이트열\n"
   ]
  },
  {
   "cell_type": "code",
   "execution_count": null,
   "metadata": {},
   "outputs": [],
   "source": [
    "<map object at 0x000001B35B01F640>\n",
    "\n",
    "# 숫자는 주소 - 리턴은 map object\n",
    "# 모든게 다 객체이다. (정수, 실수, 등)\n",
    "# 객체는 데이터(상태)와 그 데이터를 조작하는 method(동작)을 포함하는 소프트웨어 블록으로, 각각 고유한 식별자(주소)(identifier)를 가짐\n",
    "\n",
    "식별자 - 이름 - 변수, \n",
    "\n",
    "전역 변수, 지역 변수\n",
    "클래스 변수, 인스턴스 변수(함수 안에 쓰거나)\n",
    "자료구조\n",
    "\n",
    "메모리 효율성, 코드 복잡성 감소\n",
    "\n",
    "init은 무조건 만드는 편 = 클래스의 목적에 부합하기에"
   ]
  },
  {
   "cell_type": "code",
   "execution_count": 1,
   "metadata": {},
   "outputs": [
    {
     "name": "stdout",
     "output_type": "stream",
     "text": [
      "2\n"
     ]
    }
   ],
   "source": [
    "# 변수 입력시 ; 이용하면 한 줄 가능\n",
    "\n",
    "a = 1;b = 1;c=a+b\n",
    "print(c)"
   ]
  },
  {
   "cell_type": "code",
   "execution_count": 2,
   "metadata": {},
   "outputs": [
    {
     "name": "stdout",
     "output_type": "stream",
     "text": [
      "저의 이름은 박서진이고 나이는 1입니다.\n"
     ]
    }
   ],
   "source": [
    "# %s에 숫자를 넣으면, 문자열로 변환하여 삽입함\n",
    "# %d에 숫자를 넣으면, 정수를 그대로 삽입함\n",
    "# 10진수 입력이 명확해야 할 경우, %d 쓰는게 좋다. 섞여 있으면 %s\n",
    "\n",
    "name = '박서진'\n",
    "a = '2'\n",
    "b = '7'\n",
    "c = 20\n",
    "d = 7\n",
    "\n",
    "print(f'저의 이름은 {name}이고 나이는 {a+b}입니다.')\n",
    "print('저의 이름은 %s이고 나이는 %s입니다.' %(name, c+d))"
   ]
  },
  {
   "cell_type": "code",
   "execution_count": 59,
   "metadata": {},
   "outputs": [
    {
     "name": "stdout",
     "output_type": "stream",
     "text": [
      "-0.00007\n",
      "-0.00007\n",
      "  -0.00007\n"
     ]
    }
   ],
   "source": [
    "# 실수형 자료\n",
    "# .5f = 0.5f 인가??\n",
    "\n",
    "f5 = -.7e-4\n",
    "print('{:.5f}'.format(f5))\n",
    "print(f'{f5:.5f}')\n",
    "print(f'{f5:10.5f}') # 자릿수까지"
   ]
  },
  {
   "cell_type": "code",
   "execution_count": 27,
   "metadata": {},
   "outputs": [
    {
     "data": {
      "text/plain": [
       "32"
      ]
     },
     "execution_count": 27,
     "metadata": {},
     "output_type": "execute_result"
    }
   ],
   "source": [
    "# 연산 우선 순위\n",
    "\n",
    "a = 2\n",
    "b = 4\n",
    "\n",
    "a*b**a"
   ]
  },
  {
   "cell_type": "code",
   "execution_count": 29,
   "metadata": {},
   "outputs": [
    {
     "name": "stdout",
     "output_type": "stream",
     "text": [
      "python's value is great\n",
      "python's value is great\n"
     ]
    }
   ],
   "source": [
    "p1 = \"python's value is great\"\n",
    "p2 = 'python\\'s value is great'\n",
    "print(p1)\n",
    "print(p2)"
   ]
  },
  {
   "cell_type": "code",
   "execution_count": 40,
   "metadata": {},
   "outputs": [
    {
     "name": "stdout",
     "output_type": "stream",
     "text": [
      "None\n",
      "None\n",
      "[5, 4, 3, 1]\n"
     ]
    }
   ],
   "source": [
    "# sort()는 파괴형, 값 반환X\n",
    "# reverse()는  파괴형, 값 반환X\n",
    "\n",
    "a = [2,4,3,1]\n",
    "b = a.sort()\n",
    "c = a.reverse()\n",
    "print(b)\n",
    "print(c)\n",
    "print(a)\n",
    "\n"
   ]
  },
  {
   "cell_type": "code",
   "execution_count": 41,
   "metadata": {},
   "outputs": [
    {
     "name": "stdout",
     "output_type": "stream",
     "text": [
      "[4, 3, 2, 1]\n"
     ]
    }
   ],
   "source": [
    "a = [2,4,3,1]\n",
    "a.sort()\n",
    "a.sort(reverse=True)\n",
    "print(a)"
   ]
  },
  {
   "cell_type": "code",
   "execution_count": 43,
   "metadata": {},
   "outputs": [
    {
     "name": "stdout",
     "output_type": "stream",
     "text": [
      "[2, 4, 3, 1]\n",
      "[4, 3, 2, 1]\n"
     ]
    }
   ],
   "source": [
    "# sorted()는 비파괴현, 그리고 한 번에 정렬 및 내림차순으로 만들 수 있음\n",
    "\n",
    "a = [2,4,3,1]\n",
    "b = sorted(a, reverse=1)\n",
    "print(a)\n",
    "print(b)"
   ]
  },
  {
   "cell_type": "code",
   "execution_count": null,
   "metadata": {},
   "outputs": [],
   "source": [
    "# 인덱스 위치 반환\n",
    "\n",
    "c = [1,2,3,1,5]\n",
    "print(c.index(3))"
   ]
  },
  {
   "cell_type": "code",
   "execution_count": 48,
   "metadata": {},
   "outputs": [
    {
     "name": "stdout",
     "output_type": "stream",
     "text": [
      "[18, 16, 43, 98, 90, 52, 4, 26, 25, 56, 69, 27, 47, 60, 1, 36, 7, 41, 53, 9, 6, 1, 61, 41, 41, 53, 32, 16, 54, 40, 62, 96, 18, 8, 31, 15, 41, 89, 86, 14, 67, 87, 20, 72, 21, 9, 65, 57, 1, 50, 76, 61, 88, 38, 6, 39, 62, 36, 99, 93, 53, 85, 23, 94, 46, 76, 63, 51, 69, 36, 84, 2, 84, 61, 55, 48, 20, 23, 89, 48, 11, 15, 41, 20, 90, 13, 78, 25, 34, 5, 66, 11, 89, 34, 16, 37, 97, 45, 10, 64]\n",
      "100\n"
     ]
    },
    {
     "data": {
      "text/plain": [
       "14"
      ]
     },
     "execution_count": 48,
     "metadata": {},
     "output_type": "execute_result"
    }
   ],
   "source": [
    "import numpy as np\n",
    "c = np.random.randint(100, size=100).tolist()\n",
    "print(c)\n",
    "print(len(c))\n",
    "c.index(1)\n"
   ]
  },
  {
   "cell_type": "code",
   "execution_count": 49,
   "metadata": {},
   "outputs": [
    {
     "name": "stdout",
     "output_type": "stream",
     "text": [
      "2\n"
     ]
    }
   ],
   "source": [
    "# 개수 반환\n",
    "\n",
    "c = [1,1,3,3,3,5,5]\n",
    "print(c.count(5))"
   ]
  },
  {
   "cell_type": "markdown",
   "metadata": {},
   "source": [
    "## 숫자에 천 단위로 , 찍기"
   ]
  },
  {
   "cell_type": "code",
   "execution_count": null,
   "metadata": {},
   "outputs": [],
   "source": [
    "num = input('아무 숫자를 입력하세요: ')\n",
    "\n",
    "print(''.format(num, ))"
   ]
  },
  {
   "cell_type": "code",
   "execution_count": 32,
   "metadata": {},
   "outputs": [
    {
     "name": "stdout",
     "output_type": "stream",
     "text": [
      "아무 숫자를 입력하세요: 3000000\n",
      "3,000,000\n"
     ]
    }
   ],
   "source": [
    "num = input('아무 숫자를 입력하세요: ')\n",
    "\n",
    "if num.isdigit():\n",
    "   num = num[::-1]\n",
    "   ret = ''   # 문자열로 1000을 받기 위해 빈 문자열 변수를 생성\n",
    "   for i, c in enumerate(num):\n",
    "      i += 1\n",
    "      if i != len(num) and i%3 == 0: # i != len(num)은 없어도 되는듯\n",
    "         ret += (c + ',')\n",
    "      else:\n",
    "         ret += c\n",
    "   ret = ret[::-1]\n",
    "   print(ret)\n",
    "else:\n",
    "   print('입력한 내용 [%s]: 숫자가 아닙니다.' %num)"
   ]
  },
  {
   "cell_type": "code",
   "execution_count": 68,
   "metadata": {},
   "outputs": [
    {
     "data": {
      "text/plain": [
       "5"
      ]
     },
     "execution_count": 68,
     "metadata": {},
     "output_type": "execute_result"
    }
   ],
   "source": [
    "sum = lambda a,b:a+b\n",
    "\n",
    "sum(2,3)"
   ]
  },
  {
   "cell_type": "code",
   "execution_count": null,
   "metadata": {},
   "outputs": [],
   "source": [
    "for i, name in enumerate(['james','tom','susan']):\n",
    "    print(i,name)"
   ]
  },
  {
   "cell_type": "code",
   "execution_count": 76,
   "metadata": {},
   "outputs": [
    {
     "name": "stdout",
     "output_type": "stream",
     "text": [
      "1\n",
      "3\n",
      "2\n",
      "0\n",
      "5\n",
      "6\n"
     ]
    }
   ],
   "source": []
  },
  {
   "cell_type": "markdown",
   "metadata": {},
   "source": [
    "# 변수"
   ]
  },
  {
   "cell_type": "code",
   "execution_count": 5,
   "metadata": {},
   "outputs": [
    {
     "name": "stdout",
     "output_type": "stream",
     "text": [
      "1\n"
     ]
    }
   ],
   "source": [
    "a = 1\n",
    "def vartest(a):\n",
    "    a = a +1\n",
    "\n",
    "vartest(a)\n",
    "print(a)"
   ]
  },
  {
   "cell_type": "code",
   "execution_count": 6,
   "metadata": {},
   "outputs": [
    {
     "name": "stdout",
     "output_type": "stream",
     "text": [
      "2\n",
      "1\n"
     ]
    }
   ],
   "source": [
    "a = 1\n",
    "def vartest(a):\n",
    "    a = a +1\n",
    "    print(a)\n",
    "\n",
    "vartest(a)\n",
    "print(a)"
   ]
  },
  {
   "cell_type": "code",
   "execution_count": null,
   "metadata": {
    "colab": {
     "base_uri": "https://localhost:8080/"
    },
    "executionInfo": {
     "elapsed": 3,
     "status": "ok",
     "timestamp": 1678452749147,
     "user": {
      "displayName": "박주경",
      "userId": "06694313831384541311"
     },
     "user_tz": -540
    },
    "id": "utM6oCDZjmGx",
    "outputId": "f6514720-a30f-459c-f9a8-7c1b0051deda"
   },
   "outputs": [
    {
     "name": "stdout",
     "output_type": "stream",
     "text": [
      "hello world\n",
      "world hello\n"
     ]
    },
    {
     "data": {
      "text/plain": [
       "str"
      ]
     },
     "execution_count": 10,
     "metadata": {},
     "output_type": "execute_result"
    }
   ],
   "source": [
    "# tuple\n",
    "\n",
    "a = \"hello\"\n",
    "b = \"world\"\n",
    "print(a, b)\n",
    "\n",
    "a, b = b, a\n",
    "print(a, b)\n",
    "type(a)\n"
   ]
  },
  {
   "cell_type": "markdown",
   "metadata": {
    "id": "QjtWCfEIG_Fx"
   },
   "source": [
    "# 함수들"
   ]
  },
  {
   "cell_type": "markdown",
   "metadata": {},
   "source": [
    "## abs()"
   ]
  },
  {
   "cell_type": "markdown",
   "metadata": {},
   "source": [
    "## all()"
   ]
  },
  {
   "cell_type": "markdown",
   "metadata": {},
   "source": [
    "## any()"
   ]
  },
  {
   "cell_type": "code",
   "execution_count": null,
   "metadata": {},
   "outputs": [],
   "source": []
  },
  {
   "cell_type": "markdown",
   "metadata": {},
   "source": [
    "## clear()"
   ]
  },
  {
   "cell_type": "code",
   "execution_count": null,
   "metadata": {},
   "outputs": [],
   "source": [
    "find()\n",
    "1번째, 2번째 인 것 같음\n",
    "index와 다르게\n"
   ]
  },
  {
   "cell_type": "markdown",
   "metadata": {},
   "source": [
    "## divmod()"
   ]
  },
  {
   "cell_type": "code",
   "execution_count": 81,
   "metadata": {},
   "outputs": [
    {
     "data": {
      "text/plain": [
       "(2, 17)"
      ]
     },
     "execution_count": 81,
     "metadata": {},
     "output_type": "execute_result"
    }
   ],
   "source": [
    "# 97을 40으로 나눈 몫과 나머지를 내장함수를 이용하여 구하세요.(튜플로 출력 필수)\n",
    "\n",
    "a, b = 97, 40\n",
    "divmod(a, b)"
   ]
  },
  {
   "cell_type": "markdown",
   "metadata": {},
   "source": [
    "## enumarate()"
   ]
  },
  {
   "cell_type": "code",
   "execution_count": 80,
   "metadata": {},
   "outputs": [
    {
     "name": "stdout",
     "output_type": "stream",
     "text": [
      "0번째 요소는 요소A입니다.\n",
      "1번째 요소는 요소B입니다.\n",
      "2번째 요소는 요소C입니다.\n"
     ]
    }
   ],
   "source": [
    "example_list = [\"요소A\", \"요소B\", \"요소C\"]\n",
    "\n",
    "for i, value in enumerate(example_list):\n",
    "    print(\"{}번째 요소는 {}입니다.\".format(i, value))"
   ]
  },
  {
   "cell_type": "markdown",
   "metadata": {
    "id": "C-FAHEIjG_F0"
   },
   "source": [
    "## join()"
   ]
  },
  {
   "cell_type": "code",
   "execution_count": null,
   "metadata": {
    "id": "EDTglt3nG_F1"
   },
   "outputs": [],
   "source": [
    "# 입력받은 문자열의 각 문자를 그 다음 문자로 변경하여 출력하세요.\n",
    "# 입력 abcde -> 출력 bcdea\n",
    "\n",
    "str = \"abcde\"\n",
    "lst = list(str)\n",
    "print(lst)\n",
    "lst.append(lst[0])\n",
    "lst.remove(lst[0])\n",
    "str = ''.join(lst)\n",
    "str\n"
   ]
  },
  {
   "cell_type": "markdown",
   "metadata": {},
   "source": [
    "## map(f, iterable)\n",
    "- 함수(f)와 반복 가능한 데이터를 입력으로 받는다. map 함수는 입력받은 데이터의 각 요소에 함수 f를 적용한 결과를 리턴하는 함수이다.\n",
    "\n",
    "## filter(func, iterable)\n",
    "- filter 함수는 첫 번째 인수로 함수를, 두 번째 인수로 그 함수에 차례로 들어갈 반복 가능한 데이터를 받는다. 그리고 반복 가능한 데이터(iterable)의 요소 순서대로 함수(func)를 호출했을 때 반환 값이 참인 것만 묶어서(걸러 내서) 리턴한다."
   ]
  },
  {
   "cell_type": "code",
   "execution_count": 13,
   "metadata": {},
   "outputs": [
    {
     "name": "stdout",
     "output_type": "stream",
     "text": [
      "<map object at 0x000001B35B01F640>\n",
      "[1, 4, 9, 16, 25]\n"
     ]
    }
   ],
   "source": [
    "# lambda는 변수에 할당해 준 다음 map() 이용해야 함\n",
    "\n",
    "f = lambda x: x*x\n",
    "args = [1, 2, 3, 4, 5]\n",
    "ret = map(f, args)\n",
    "print(ret)\n",
    "print(list(ret))"
   ]
  },
  {
   "cell_type": "code",
   "execution_count": 12,
   "metadata": {},
   "outputs": [
    {
     "name": "stdout",
     "output_type": "stream",
     "text": [
      "1 4 9 16 25 "
     ]
    }
   ],
   "source": [
    "f = lambda x: x*x\n",
    "args = [1, 2, 3, 4, 5]\n",
    "ret = map(f, args)\n",
    "\n",
    "for i in ret:\n",
    "    print(i, end=' ')"
   ]
  },
  {
   "cell_type": "code",
   "execution_count": 14,
   "metadata": {},
   "outputs": [
    {
     "name": "stdout",
     "output_type": "stream",
     "text": [
      "<map object at 0x000001B35B3D30A0> <class 'map'>\n"
     ]
    }
   ],
   "source": [
    "m = map(lambda i:i*i, range(0,20,2))\n",
    "print(m, type(m))"
   ]
  },
  {
   "cell_type": "code",
   "execution_count": 15,
   "metadata": {},
   "outputs": [
    {
     "name": "stdout",
     "output_type": "stream",
     "text": [
      "[0, 4, 16, 36, 64, 100, 144, 196, 256, 324]\n"
     ]
    }
   ],
   "source": [
    "m = map(lambda i:i*i, range(0,20,2))\n",
    "print(list(map(lambda i:i*i, range(0,20,2))))"
   ]
  },
  {
   "cell_type": "code",
   "execution_count": 24,
   "metadata": {},
   "outputs": [
    {
     "name": "stdout",
     "output_type": "stream",
     "text": [
      "<map object at 0x000001B35B3BA8B0>\n",
      "[1, 4, 9, 16, 25] \n",
      "\n",
      "<filter object at 0x000001B35B3C7C40>\n",
      "[1, 2]\n"
     ]
    }
   ],
   "source": [
    "# 아래 사용자 함수, 변수 리스트 및 2개의 내장함수를 각각 이용해서 [1, 4, 9, 16, 25], [1, 2]를 출력하세요.\n",
    "# (내장함수 2개 사용 필수)\n",
    "\n",
    "# 함수를 선언합니다.\n",
    "def power(item):\n",
    "    return item * item\n",
    "def under_3(item):\n",
    "    return item < 3\n",
    "\n",
    "# 변수를 선언합니다.\n",
    "list_input_a = [1, 2, 3, 4, 5]\n",
    "\n",
    "\n",
    "# 풀이\n",
    "output_a = map(power, list_input_a)\n",
    "output_b = filter(under_3, list_input_a)\n",
    "\n",
    "print(output_a)\n",
    "print(list(output_a),'\\n')\n",
    "\n",
    "print(output_b)\n",
    "print(list(output_b))\n"
   ]
  },
  {
   "cell_type": "markdown",
   "metadata": {},
   "source": [
    "## max()"
   ]
  },
  {
   "cell_type": "code",
   "execution_count": 1,
   "metadata": {},
   "outputs": [
    {
     "name": "stdout",
     "output_type": "stream",
     "text": [
      "첫 번째 숫자> 1\n",
      "두 번째 숫자> 2\n"
     ]
    },
    {
     "data": {
      "text/plain": [
       "2"
      ]
     },
     "execution_count": 1,
     "metadata": {},
     "output_type": "execute_result"
    }
   ],
   "source": [
    "i1 = int(input('첫 번째 숫자> '))\n",
    "i2 = int(input('두 번째 숫자> '))\n",
    "\n",
    "max(i1,i2)\n"
   ]
  },
  {
   "cell_type": "markdown",
   "metadata": {},
   "source": [
    "## pop()"
   ]
  },
  {
   "cell_type": "markdown",
   "metadata": {
    "id": "lq0xDAt3G_Fy"
   },
   "source": [
    "##  random()"
   ]
  },
  {
   "cell_type": "code",
   "execution_count": null,
   "metadata": {
    "id": "Jjp1QHBNG_Fz"
   },
   "outputs": [],
   "source": [
    "# sample()\n",
    "# [과제] 사용자가 입력한 게임 회수만큼 로또 번호를 출력하는 프로그램을 작성하세요.(중복 처리)\n",
    "# sample()은 중복을 허용 안한다\n",
    "\n",
    "import random\n",
    "\n",
    "num = input(\"게임 수 : \")\n",
    "\n",
    "for i in range(0, int(num)):\n",
    "    lotto = random.sample(range(1, 46), 6)\n",
    "    lotto.sort()\n",
    "    print(lotto)\n"
   ]
  },
  {
   "cell_type": "code",
   "execution_count": null,
   "metadata": {
    "id": "5r7QLOcJG_F0"
   },
   "outputs": [],
   "source": [
    "# shuffle()\n",
    "\n",
    "import random\n",
    "male=['남자1호','남자2호','남자3호','남자4호','남자5호']\n",
    "female=['여자1호','여자2호','여자3호','여자4호','여자5호']\n",
    "couple=[]\n",
    "for i in range(5):\n",
    "    random.shuffle(male)\n",
    "    random.shuffle(female)\n",
    "    c=[male[0],female[0]]\n",
    "    couple.append(c)\n",
    "    del male[0]\n",
    "    del female[0]\n",
    "print((couple))\n"
   ]
  },
  {
   "cell_type": "markdown",
   "metadata": {},
   "source": [
    "## remove()"
   ]
  },
  {
   "cell_type": "markdown",
   "metadata": {
    "id": "-S4pYDhjG_F2"
   },
   "source": [
    "### reversed() 함수"
   ]
  },
  {
   "cell_type": "code",
   "execution_count": null,
   "metadata": {
    "id": "nEVFro4FG_F3"
   },
   "outputs": [],
   "source": [
    "# 역순 출력의 다양한 형태\n",
    "\n",
    "for i in range(4, -1, -1):\n",
    "# for i in range(4, 0-1, -1):\n",
    "# for i in reversed(range(5)):\n",
    "    print(i)"
   ]
  },
  {
   "cell_type": "code",
   "execution_count": null,
   "metadata": {
    "colab": {
     "base_uri": "https://localhost:8080/"
    },
    "executionInfo": {
     "elapsed": 5,
     "status": "ok",
     "timestamp": 1678452856585,
     "user": {
      "displayName": "박주경",
      "userId": "06694313831384541311"
     },
     "user_tz": -540
    },
    "id": "l4uYvEtnk8bz",
    "outputId": "3aaf345b-ce2b-464d-8874-60bf23b86912"
   },
   "outputs": [
    {
     "data": {
      "text/plain": [
       "tuple"
      ]
     },
     "execution_count": 11,
     "metadata": {},
     "output_type": "execute_result"
    }
   ],
   "source": [
    "# 왜 tuple 예인가\n",
    "a, b = 10, 20 #int\n",
    "a, b = b, a\n",
    "\n",
    "d=e,f,g,=10,20,30 #tuple\n",
    "type(d)\n"
   ]
  },
  {
   "cell_type": "code",
   "execution_count": null,
   "metadata": {
    "colab": {
     "base_uri": "https://localhost:8080/"
    },
    "executionInfo": {
     "elapsed": 4,
     "status": "ok",
     "timestamp": 1678452879095,
     "user": {
      "displayName": "박주경",
      "userId": "06694313831384541311"
     },
     "user_tz": -540
    },
    "id": "v8IzB3q_lhKR",
    "outputId": "ac44e9f5-9bde-4dcd-b384-03ccda000550"
   },
   "outputs": [
    {
     "data": {
      "text/plain": [
       "int"
      ]
     },
     "execution_count": 13,
     "metadata": {},
     "output_type": "execute_result"
    }
   ],
   "source": [
    "# 318p\n",
    "\n",
    "(c, d) = (10, 20)\n",
    "type(c)"
   ]
  },
  {
   "cell_type": "code",
   "execution_count": null,
   "metadata": {
    "colab": {
     "base_uri": "https://localhost:8080/"
    },
    "executionInfo": {
     "elapsed": 2,
     "status": "ok",
     "timestamp": 1678453073889,
     "user": {
      "displayName": "박주경",
      "userId": "06694313831384541311"
     },
     "user_tz": -540
    },
    "id": "FJxSnE_YlhMV",
    "outputId": "f7aac728-31b5-4a38-ab6b-683b00732b9d"
   },
   "outputs": [
    {
     "data": {
      "text/plain": [
       "tuple"
      ]
     },
     "execution_count": 14,
     "metadata": {},
     "output_type": "execute_result"
    }
   ],
   "source": [
    "tuple = 10, 20, 30, 40\n",
    "type(tuple)"
   ]
  },
  {
   "cell_type": "markdown",
   "metadata": {
    "id": "hFR-9d-ypr8i"
   },
   "source": [
    "# 문자열 함수\n"
   ]
  },
  {
   "cell_type": "markdown",
   "metadata": {
    "id": "5yHry26PrNlt"
   },
   "source": [
    "## format() - 문자열 만들기"
   ]
  },
  {
   "cell_type": "code",
   "execution_count": null,
   "metadata": {
    "colab": {
     "base_uri": "https://localhost:8080/"
    },
    "executionInfo": {
     "elapsed": 340,
     "status": "ok",
     "timestamp": 1678453799619,
     "user": {
      "displayName": "박주경",
      "userId": "06694313831384541311"
     },
     "user_tz": -540
    },
    "id": "LN6rMmCklhOU",
    "outputId": "e4253ddc-747e-4fbc-e4bb-10552fc49871"
   },
   "outputs": [
    {
     "name": "stdout",
     "output_type": "stream",
     "text": [
      "52 + 273 = 325\n",
      "52+273=325\n"
     ]
    }
   ],
   "source": [
    "# 문자열 안에 틀을 만들어 두고, 이후에 그 틀 안에 값을 집어 넣어 문자열을 만드는 기능\n",
    "# {} 사용함\n",
    "\n",
    "a = 52\n",
    "b = 273\n",
    "\n",
    "print(a, \"+\", b, \"=\", a+b)\n",
    "print(str(a) + \"+\" + str(b) + \"=\" + str(a+b))\n"
   ]
  },
  {
   "cell_type": "code",
   "execution_count": null,
   "metadata": {
    "colab": {
     "base_uri": "https://localhost:8080/"
    },
    "executionInfo": {
     "elapsed": 3,
     "status": "ok",
     "timestamp": 1678455480716,
     "user": {
      "displayName": "박주경",
      "userId": "06694313831384541311"
     },
     "user_tz": -540
    },
    "id": "JFtUnV0zlhQP",
    "outputId": "b00aecd2-20f3-417d-85dd-37748c4673e5"
   },
   "outputs": [
    {
     "name": "stdout",
     "output_type": "stream",
     "text": [
      "10\n",
      "52<class 'int'>\n",
      "2023년 3월 10일\n"
     ]
    }
   ],
   "source": [
    "a =  \"{}\".format(10)\n",
    "print(a)\n",
    "\n",
    "b = \"{}{}\".format(52, type(273))\n",
    "print(b)\n",
    "\n",
    "print(\"{}년 {}월 {}일\".format(2023,3,10))"
   ]
  },
  {
   "cell_type": "code",
   "execution_count": null,
   "metadata": {
    "colab": {
     "base_uri": "https://localhost:8080/"
    },
    "executionInfo": {
     "elapsed": 3542,
     "status": "ok",
     "timestamp": 1678455934791,
     "user": {
      "displayName": "박주경",
      "userId": "06694313831384541311"
     },
     "user_tz": -540
    },
    "id": "iovPPsNHwVNe",
    "outputId": "280ff7e6-078c-4883-839b-7ba398eea2c7"
   },
   "outputs": [
    {
     "name": "stdout",
     "output_type": "stream",
     "text": [
      "> 1번째 숫자 : 100\n",
      "> 2번째 숫자 : 200\n",
      "100 + 200 = 100200\n",
      "100 + 200 = 300\n"
     ]
    }
   ],
   "source": [
    "# input() 함수의 입력 자료형\n",
    "\n",
    "a = input(\"> 1번째 숫자 : \")\n",
    "b = input(\"> 2번째 숫자 : \")\n",
    "# a = int(input(\"> 1번째 숫자 : \"))\n",
    "# b = int(input(\"> 2번째 숫자 : \"))\n",
    "\n",
    "\n",
    "print(\"{} + {} = {}\".format(a, b, a + b))\n",
    "print(\"{} + {} = {}\".format(a, b, int(a) + int(b)))"
   ]
  },
  {
   "cell_type": "code",
   "execution_count": 79,
   "metadata": {},
   "outputs": [
    {
     "name": "stdout",
     "output_type": "stream",
     "text": [
      "1000\n"
     ]
    }
   ],
   "source": [
    "a = 1000\n",
    "\n",
    "# print('{:,}'.format(a, ',d'))\n",
    "print('{}'.format(a, ',d')) # or ','도 됨"
   ]
  },
  {
   "cell_type": "code",
   "execution_count": 70,
   "metadata": {},
   "outputs": [
    {
     "data": {
      "text/plain": [
       "'1,000'"
      ]
     },
     "execution_count": 70,
     "metadata": {},
     "output_type": "execute_result"
    }
   ],
   "source": [
    "a = 1000\n",
    "\n",
    "format(a, ',')\n"
   ]
  },
  {
   "cell_type": "code",
   "execution_count": 71,
   "metadata": {},
   "outputs": [
    {
     "name": "stdout",
     "output_type": "stream",
     "text": [
      "1,000\n"
     ]
    }
   ],
   "source": [
    "a = 1000\n",
    "\n",
    "print('{:,}'.format(a))"
   ]
  },
  {
   "cell_type": "code",
   "execution_count": null,
   "metadata": {
    "colab": {
     "base_uri": "https://localhost:8080/"
    },
    "executionInfo": {
     "elapsed": 488,
     "status": "ok",
     "timestamp": 1678504492666,
     "user": {
      "displayName": "박주경",
      "userId": "06694313831384541311"
     },
     "user_tz": -540
    },
    "id": "WAS0JM9Hmqwq",
    "outputId": "81bfebd2-ff21-4ea1-c1f0-ea5cf06d3fe2"
   },
   "outputs": [
    {
     "name": "stdout",
     "output_type": "stream",
     "text": [
      "52\n",
      "52\n",
      "-52\n",
      "   52\n",
      "  -52\n",
      "-  52\n",
      "00052\n",
      "-0052\n",
      "\n",
      "\n",
      "+52\n",
      "+52\n",
      "-52\n",
      " 52\n",
      "-52\n",
      "\n",
      "\n",
      "  +52\n",
      "  -52\n",
      "+  52\n",
      "-  52\n",
      "+++52\n",
      "-++52\n",
      "+0052\n",
      "-0052\n"
     ]
    }
   ],
   "source": [
    "# format() 함수의 다양한 기능 - 정수 출력의 다양한 형태 (format()의 규격화)\n",
    "#매개변수는 정수가 와야 함\n",
    "\n",
    "print(\"{:d}\".format(52)) # 기본, \n",
    "print(\"{:d}\".format(+52)) # 기본, +52해도 + 안 나옴\n",
    "print(\"{:d}\".format(-52)) # 기본, \n",
    "print(\"{:5d}\".format(52)) # 5칸 잡음\n",
    "print(\"{:5d}\".format(-52)) # 5칸 잡음\n",
    "print(\"{:=5d}\".format(-52)) # =은 부호를 맨 앞에 위치시킴\n",
    "print(\"{:05d}\".format(52)) # 위와 비슷한데, 빈 칸은 0으로 채우기\n",
    "print(\"{:05d}\".format(-52)) # 음수 경우는 맨 앞자리를 -로 채우고 나머지를 0으로 채움, 여기서 05=5가 아니라, 0을 채우는 것, =없어도 부호 맨 앞에 옴\n",
    "print()\n",
    "print()\n",
    "\n",
    "print(\"{:+d}\".format(52)) # 양수나 음수 기호 표시하기 (+ 안 넣어도 + 나옴)\n",
    "print(\"{:+d}\".format(+52)) # 양수나 음수 기호 표시하기 (+ 안 넣어도 + 나옴)\n",
    "print(\"{:+d}\".format(-52)) # 양수나 음수 기호 표시하기\n",
    "print(\"{: d}\".format(52)) # 함수에 입력한 기호가 표시됨 (+를 넣어도 안 나옴ㅜㅜ)\n",
    "print(\"{: d}\".format(-52)) # 함수에 입력한 기호가 표시됨\n",
    "print()\n",
    "print()\n",
    "\n",
    "# 기호와 공백의 조합\n",
    "print(\"{:+5d}\".format(52)) # 기호를 뒤로 밀기: 양수\n",
    "print(\"{:+5d}\".format(-52)) # 기호를 뒤로 밀기: 음수\n",
    "print(\"{:=+5d}\".format(52)) # 기호를 앞으로 밀기: 양수\n",
    "print(\"{:=+5d}\".format(-52)) # 기호를 앞으로 밀기: 음수\n",
    "print(\"{:+=5d}\".format(52)) # 이상한 모양\n",
    "print(\"{:+=5d}\".format(-52)) # 이상한 모양\n",
    "print(\"{:+05d}\".format(52)) # 0으로 채우기: 양수\n",
    "print(\"{:+05d}\".format(-52)) # 0으로 채우기: 음수\n"
   ]
  },
  {
   "cell_type": "code",
   "execution_count": null,
   "metadata": {
    "colab": {
     "base_uri": "https://localhost:8080/"
    },
    "executionInfo": {
     "elapsed": 529,
     "status": "ok",
     "timestamp": 1678504868792,
     "user": {
      "displayName": "박주경",
      "userId": "06694313831384541311"
     },
     "user_tz": -540
    },
    "id": "1QIs6mQpq9nI",
    "outputId": "984990e0-3faa-417e-d5a9-33488798f1c7"
   },
   "outputs": [
    {
     "name": "stdout",
     "output_type": "stream",
     "text": [
      "52.000000\n",
      "52.0\n",
      "           52.000000\n",
      "          -52.000000\n",
      "               -52.0\n",
      "                 -52\n"
     ]
    }
   ],
   "source": [
    "# format() 함수의 다양한 기능 - 부동소소첨 출력의 다양한 형태 (format()의 규격화)\n",
    "\n",
    "print(\"{:f}\".format(52)) # 기본\n",
    "print(\"{:.1f}\".format(52))\n",
    "print(\"{:20f}\".format(52))\n",
    "print(\"{:20f}\".format(-52))\n",
    "print(\"{:20.1f}\".format(-52))\n",
    "print(\"{:20.0f}\".format(-52))"
   ]
  },
  {
   "cell_type": "code",
   "execution_count": null,
   "metadata": {
    "colab": {
     "base_uri": "https://localhost:8080/"
    },
    "executionInfo": {
     "elapsed": 3,
     "status": "ok",
     "timestamp": 1678455249070,
     "user": {
      "displayName": "박주경",
      "userId": "06694313831384541311"
     },
     "user_tz": -540
    },
    "id": "kEMRL5YKtaJE",
    "outputId": "ea7f7be7-7cbd-44f9-f709-bef0a58cef4f"
   },
   "outputs": [
    {
     "name": "stdout",
     "output_type": "stream",
     "text": [
      "52 + 273 = 325\n",
      "52 + 273 = 325\n",
      "\n",
      "52 + 273 = 325\n",
      "52 - 273 = -221\n",
      "52 * 273 = 14196\n",
      "52 / 273 = 0.19047619047619047\n"
     ]
    }
   ],
   "source": [
    "# f-문자열\n",
    "\n",
    "a = 52\n",
    "b = 273\n",
    "\n",
    "print(\"{} + {} = {}\".format(a, b, a+b))\n",
    "print(f\"{a} + {b} = {a+b}\")\n",
    "print()\n",
    "\n",
    "print(f\"\"\"{a} + {b} = {a+b}\n",
    "{a} - {b} = {a-b}\n",
    "{a} * {b} = {a*b}\n",
    "{a} / {b} = {a/b}\"\"\")"
   ]
  },
  {
   "cell_type": "markdown",
   "metadata": {
    "id": "FKRqimGxrTt4"
   },
   "source": [
    "## split() - 문자열 자르기"
   ]
  },
  {
   "cell_type": "code",
   "execution_count": null,
   "metadata": {
    "colab": {
     "base_uri": "https://localhost:8080/"
    },
    "executionInfo": {
     "elapsed": 2,
     "status": "ok",
     "timestamp": 1678454688510,
     "user": {
      "displayName": "박주경",
      "userId": "06694313831384541311"
     },
     "user_tz": -540
    },
    "id": "bo6X9CmalhSg",
    "outputId": "c3b8b30f-cd6b-4428-989f-f6d5e62a7832"
   },
   "outputs": [
    {
     "name": "stdout",
     "output_type": "stream",
     "text": [
      "['10', '20', '30', '40']\n",
      "['10', '20', '30', '40']\n",
      "['10', '20', '30', '40']\n",
      "['10', '20', '30', '40']\n"
     ]
    }
   ],
   "source": [
    "print(\"10 20 30 40\".split(\" \"))\n",
    "print(\"10 20 30 40\".split())\n",
    "print(\"10    20\\t 30\\n40\".split())\n",
    "\n",
    "print(\"10-20-30-40\".split(\"-\"))"
   ]
  },
  {
   "cell_type": "markdown",
   "metadata": {
    "id": "AbJzaPLzv02r"
   },
   "source": [
    "# upper() and lower()"
   ]
  },
  {
   "cell_type": "code",
   "execution_count": null,
   "metadata": {
    "colab": {
     "base_uri": "https://localhost:8080/"
    },
    "executionInfo": {
     "elapsed": 3,
     "status": "ok",
     "timestamp": 1678454606515,
     "user": {
      "displayName": "박주경",
      "userId": "06694313831384541311"
     },
     "user_tz": -540
    },
    "id": "-eF3VM4elhTv",
    "outputId": "1052def4-5ad1-41fd-819a-e320590ada7d"
   },
   "outputs": [
    {
     "name": "stdout",
     "output_type": "stream",
     "text": [
      "['10', '20', '30', '40']\n"
     ]
    }
   ],
   "source": []
  },
  {
   "cell_type": "markdown",
   "metadata": {
    "id": "OnJne6PSv7DE"
   },
   "source": [
    "# strip() - 문자열 양옆의 공백을 제거"
   ]
  },
  {
   "cell_type": "code",
   "execution_count": null,
   "metadata": {
    "colab": {
     "base_uri": "https://localhost:8080/"
    },
    "executionInfo": {
     "elapsed": 617,
     "status": "ok",
     "timestamp": 1678459581518,
     "user": {
      "displayName": "박주경",
      "userId": "06694313831384541311"
     },
     "user_tz": -540
    },
    "id": "CEr8dX8nv7N9",
    "outputId": "216bdab7-bb0e-48b7-b6c0-0781f5bcd247"
   },
   "outputs": [
    {
     "name": "stdout",
     "output_type": "stream",
     "text": [
      "안녕하세요\n"
     ]
    }
   ],
   "source": [
    "a = \"      안녕하세요 \\t\\n\\n      \"\n",
    "\n",
    "a = a.strip()\n",
    "# a = a.lstrip()\n",
    "# a = a.rstrip()\n",
    "\n",
    "print(a)"
   ]
  },
  {
   "cell_type": "markdown",
   "metadata": {
    "id": "u7j3cstck-q_"
   },
   "source": [
    "# isOO() - 문자열의 구성 파악하기\n",
    " "
   ]
  },
  {
   "cell_type": "code",
   "execution_count": null,
   "metadata": {
    "colab": {
     "base_uri": "https://localhost:8080/"
    },
    "executionInfo": {
     "elapsed": 2,
     "status": "ok",
     "timestamp": 1678503311263,
     "user": {
      "displayName": "박주경",
      "userId": "06694313831384541311"
     },
     "user_tz": -540
    },
    "id": "Wus95E8Ik_Bt",
    "outputId": "34bac5b0-8432-46aa-ed75-76259b474af5"
   },
   "outputs": [
    {
     "name": "stdout",
     "output_type": "stream",
     "text": [
      "1\n",
      "5\n",
      "-1\n"
     ]
    }
   ],
   "source": []
  },
  {
   "cell_type": "markdown",
   "metadata": {
    "id": "odTdXsTNleMh"
   },
   "source": [
    "# find(), rfind() - 문자열 찾기"
   ]
  },
  {
   "cell_type": "code",
   "execution_count": null,
   "metadata": {
    "id": "_Uy0qH1RleYy"
   },
   "outputs": [],
   "source": [
    "a = \"abcdabcd\"\n",
    "\n",
    "print(a.find(\"b\"))\n",
    "\n",
    "print(a.rfind(\"b\"))\n",
    "\n",
    "print(a.find(\"z\"))"
   ]
  },
  {
   "cell_type": "code",
   "execution_count": null,
   "metadata": {
    "id": "XaEX1y67mB_1"
   },
   "outputs": [],
   "source": [
    "문자열과 in 연산자"
   ]
  },
  {
   "cell_type": "code",
   "execution_count": null,
   "metadata": {
    "colab": {
     "base_uri": "https://localhost:8080/"
    },
    "executionInfo": {
     "elapsed": 412,
     "status": "ok",
     "timestamp": 1678533647778,
     "user": {
      "displayName": "박주경",
      "userId": "06694313831384541311"
     },
     "user_tz": -540
    },
    "id": "N9Yzt-F3mQNt",
    "outputId": "9cdb04cf-9dc5-45c1-d7de-4b6f3210bcd2"
   },
   "outputs": [
    {
     "name": "stdout",
     "output_type": "stream",
     "text": [
      "True\n"
     ]
    }
   ],
   "source": [
    "print (\"안녕\" in \"안녕하세요\")"
   ]
  },
  {
   "cell_type": "markdown",
   "metadata": {
    "id": "pTj-HJ_N8m9z"
   },
   "source": [
    "## 파괴적, 비파괴적\n",
    "* 연산자\n",
    "  * 파괴적 연산자  =\n",
    "  * 나머지는 다 비파괴적 연산자임\n",
    "* 함수\n",
    "  * 비파괴적 연산자 - upper(), lower(), split(), strip()\n",
    "  "
   ]
  },
  {
   "cell_type": "code",
   "execution_count": null,
   "metadata": {
    "colab": {
     "base_uri": "https://localhost:8080/"
    },
    "executionInfo": {
     "elapsed": 3,
     "status": "ok",
     "timestamp": 1678458922792,
     "user": {
      "displayName": "박주경",
      "userId": "06694313831384541311"
     },
     "user_tz": -540
    },
    "id": "beDXZWA_8Sfs",
    "outputId": "d8886250-74cf-4f15-c0db-9acda1e3824f"
   },
   "outputs": [
    {
     "name": "stdout",
     "output_type": "stream",
     "text": [
      "A지점: hello\n",
      "B지점: HELLO\n"
     ]
    }
   ],
   "source": [
    "string = \"hello\"\n",
    "\n",
    "string.upper()\n",
    "print(\"A지점:\", string)\n",
    "\n",
    "print(\"B지점:\", string.upper())"
   ]
  },
  {
   "cell_type": "code",
   "execution_count": null,
   "metadata": {
    "colab": {
     "base_uri": "https://localhost:8080/"
    },
    "executionInfo": {
     "elapsed": 3,
     "status": "ok",
     "timestamp": 1678459001450,
     "user": {
      "displayName": "박주경",
      "userId": "06694313831384541311"
     },
     "user_tz": -540
    },
    "id": "zigM49Hp8qE_",
    "outputId": "8b0c6e5c-37d2-4a85-91c1-cda7add50e27"
   },
   "outputs": [
    {
     "name": "stdout",
     "output_type": "stream",
     "text": [
      "안 녕 하 세 요\n",
      "['안', '녕', '하', '세', '요']\n"
     ]
    },
    {
     "data": {
      "text/plain": [
       "list"
      ]
     },
     "execution_count": 105,
     "metadata": {},
     "output_type": "execute_result"
    }
   ],
   "source": [
    "a = \"안 녕 하 세 요\"\n",
    "\n",
    "a.split()\n",
    "print(a)\n",
    "\n",
    "b = a.split()\n",
    "print(b)\n",
    "type(b)"
   ]
  },
  {
   "cell_type": "markdown",
   "metadata": {
    "id": "GpdTZCd7ylGv"
   },
   "source": [
    "# 날짜와 시간 구하는 법"
   ]
  },
  {
   "cell_type": "code",
   "execution_count": null,
   "metadata": {
    "colab": {
     "base_uri": "https://localhost:8080/"
    },
    "executionInfo": {
     "elapsed": 3,
     "status": "ok",
     "timestamp": 1678507010183,
     "user": {
      "displayName": "박주경",
      "userId": "06694313831384541311"
     },
     "user_tz": -540
    },
    "id": "U0j5C3pwynTS",
    "outputId": "9c23ca46-4ec2-49e7-ce4c-20afa0614fc0"
   },
   "outputs": [
    {
     "name": "stdout",
     "output_type": "stream",
     "text": [
      "Asia/Seoul\n",
      "2023-03-11 12:56:49.850402+09:00\n",
      "2023 03 11 12 56 49\n"
     ]
    }
   ],
   "source": [
    "import datetime # 라이브러리 패키지 모듈 함수 변수\n",
    "import pytz\n",
    "\n",
    "seoul = pytz.timezone(\"Asia/Seoul\")\n",
    "now = datetime.datetime.now(seoul)\n",
    "\n",
    "print(seoul)\n",
    "print(now)\n",
    "\n",
    "print(\"{} {:02d} {} {} {} {}\".format(now.year, now.month, now.day, now.hour, now.minute, now.second))\n"
   ]
  },
  {
   "cell_type": "markdown",
   "metadata": {
    "id": "cQ2BfbH0_Qzv"
   },
   "source": [
    "# bool 자료형"
   ]
  },
  {
   "cell_type": "code",
   "execution_count": null,
   "metadata": {
    "colab": {
     "base_uri": "https://localhost:8080/"
    },
    "executionInfo": {
     "elapsed": 570,
     "status": "ok",
     "timestamp": 1678526800393,
     "user": {
      "displayName": "박주경",
      "userId": "06694313831384541311"
     },
     "user_tz": -540
    },
    "id": "i5s-WqPb_Xp9",
    "outputId": "e2b6bd89-76f6-4229-f536-f56346aead7e"
   },
   "outputs": [
    {
     "name": "stdout",
     "output_type": "stream",
     "text": [
      "True\n",
      "False\n"
     ]
    }
   ],
   "source": [
    "x = 10\n",
    "y = x < 20\n",
    "print(y)\n",
    "print( not y)\n",
    "\n"
   ]
  },
  {
   "cell_type": "markdown",
   "metadata": {
    "id": "6GkVzbDv8hTy"
   },
   "source": [
    "# if 조건문\n"
   ]
  },
  {
   "cell_type": "code",
   "execution_count": null,
   "metadata": {
    "colab": {
     "base_uri": "https://localhost:8080/"
    },
    "executionInfo": {
     "elapsed": 493,
     "status": "ok",
     "timestamp": 1678525980449,
     "user": {
      "displayName": "박주경",
      "userId": "06694313831384541311"
     },
     "user_tz": -540
    },
    "id": "5ONMSfYvK5J-",
    "outputId": "0bb30bdc-fd31-47aa-c6e0-696fe8a5044b"
   },
   "outputs": [
    {
     "name": "stdout",
     "output_type": "stream",
     "text": [
      "15\n"
     ]
    }
   ],
   "source": [
    "x = 15\n",
    "\n",
    "if 10 < x < 20:\n",
    "# = if 10 (x > 10) and (x < 20:)\n",
    "# = if 10 x > 10 and x < 20:\n",
    "\n",
    "  print(x)\n",
    "  "
   ]
  },
  {
   "cell_type": "code",
   "execution_count": null,
   "metadata": {
    "id": "S8f2T2B6K57A"
   },
   "outputs": [],
   "source": [
    "if False:\n",
    "  print(\"Hello!\") "
   ]
  },
  {
   "cell_type": "code",
   "execution_count": null,
   "metadata": {
    "colab": {
     "base_uri": "https://localhost:8080/"
    },
    "executionInfo": {
     "elapsed": 1467,
     "status": "ok",
     "timestamp": 1678528526418,
     "user": {
      "displayName": "박주경",
      "userId": "06694313831384541311"
     },
     "user_tz": -540
    },
    "id": "eUUx8bhPEAqA",
    "outputId": "c6a53870-4d13-43a5-ccfc-b9faf3c4c091"
   },
   "outputs": [
    {
     "name": "stdout",
     "output_type": "stream",
     "text": [
      "2\n",
      "짝수입니다\n"
     ]
    }
   ],
   "source": [
    "# if 조건문은 in 연산자와 잘 어울린다\n",
    "\n",
    "number = input()\n",
    "last_character = number[-1]\n",
    "\n",
    "if last_character in \"02468\":\n",
    "  print(\"짝수입니다\")\n",
    "else:\n",
    "  print(\"홀수입니다\")\n"
   ]
  },
  {
   "cell_type": "code",
   "execution_count": null,
   "metadata": {
    "colab": {
     "base_uri": "https://localhost:8080/"
    },
    "executionInfo": {
     "elapsed": 322,
     "status": "ok",
     "timestamp": 1678532443671,
     "user": {
      "displayName": "박주경",
      "userId": "06694313831384541311"
     },
     "user_tz": -540
    },
    "id": "lbK5zuQ3Go7x",
    "outputId": "51bf411d-8e52-45fa-8b35-adf89321dea5"
   },
   "outputs": [
    {
     "data": {
      "text/plain": [
       "False"
      ]
     },
     "execution_count": 39,
     "metadata": {},
     "output_type": "execute_result"
    }
   ],
   "source": [
    "bool(\"\")"
   ]
  },
  {
   "cell_type": "code",
   "execution_count": null,
   "metadata": {
    "id": "LSsWM-q3OGVR"
   },
   "outputs": [],
   "source": [
    "\n",
    "if i == \"\":\n",
    "# if i != \"\": #if와 else의 코드 바꿀 수 있음\n",
    "# if not i ==\"\":\n",
    "  print\n",
    "\n",
    "\n",
    "\n"
   ]
  },
  {
   "cell_type": "code",
   "execution_count": null,
   "metadata": {
    "id": "HtOzx8ANPGfP"
   },
   "outputs": [],
   "source": []
  },
  {
   "cell_type": "code",
   "execution_count": null,
   "metadata": {
    "id": "iOzoJhyuPGhX"
   },
   "outputs": [],
   "source": []
  },
  {
   "cell_type": "code",
   "execution_count": null,
   "metadata": {
    "colab": {
     "base_uri": "https://localhost:8080/"
    },
    "executionInfo": {
     "elapsed": 2340,
     "status": "ok",
     "timestamp": 1678535387964,
     "user": {
      "displayName": "박주경",
      "userId": "06694313831384541311"
     },
     "user_tz": -540
    },
    "id": "oLYLT147PGjE",
    "outputId": "23ebb173-f4db-41f1-8418-87298b5d34b2"
   },
   "outputs": [
    {
     "name": "stdout",
     "output_type": "stream",
     "text": [
      "입력: \n"
     ]
    }
   ],
   "source": [
    "a = input(\"입력: \")\n",
    "b = [\"안녕\", \"안녕하세오\", \"지금 몇 시야?\", \"지금 몇 시에요?\"]\n",
    "\n",
    "\n",
    "\n",
    "\n",
    "\n",
    "if a == \"\":\n",
    "  for i in \"\":\n",
    "    print(\"무슨 말씀이라도 해보세욧!\")\n",
    "    input(\"입력: \")\n",
    "\n",
    "  \n",
    "# for i in \n",
    "#   \n",
    "#   input(\"입력: \")\n",
    "# # if a == b[0]:\n",
    "#   print(b[0])\n",
    "# elif a == b[1]:\n",
    "#   print(b[1])\n",
    "# elif a == b[2]:\n",
    "#   print(b[2])\n",
    "# elif a == b[3]:\n",
    "#   print(b[3])  \n",
    "\n",
    "\n",
    "\n",
    "\n"
   ]
  },
  {
   "cell_type": "code",
   "execution_count": null,
   "metadata": {
    "colab": {
     "base_uri": "https://localhost:8080/"
    },
    "executionInfo": {
     "elapsed": 2099,
     "status": "ok",
     "timestamp": 1678536648651,
     "user": {
      "displayName": "박주경",
      "userId": "06694313831384541311"
     },
     "user_tz": -540
    },
    "id": "mai5Bx1hPGlB",
    "outputId": "8d4f14b3-0432-4490-f7b9-ecaff0c6221e"
   },
   "outputs": [
    {
     "name": "stdout",
     "output_type": "stream",
     "text": [
      "정수를 입력해 주세요: 12480\n",
      "12480은 2로 나누어 떨어지는 숫자입니다.\n",
      "12480은 3로 나누어 떨어지는 숫자입니다.\n",
      "12480은 4로 나누어 떨어지는 숫자입니다.\n",
      "12480은 5로 나누어 떨어지는 숫자입니다.\n"
     ]
    }
   ],
   "source": [
    "i = int(input(\"정수를 입력해 주세요: \"))\n",
    "\n",
    "if i%2 == 0:\n",
    "  print(f\"{i}은 2로 나누어 떨어지는 숫자입니다.\")\n",
    "else:\n",
    "  print(f\"{i}은 2로 나누어 떨어지는 숫자가 아닙니다.\")\n",
    "\n",
    "if i%3 == 0:\n",
    "  print(f\"{i}은 3로 나누어 떨어지는 숫자입니다.\")\n",
    "else:\n",
    "  print(f\"{i}은 3로 나누어 떨어지는 숫자가 아닙니다.\") \n",
    "\n",
    "if i%4 == 0:\n",
    "  print(f\"{i}은 4로 나누어 떨어지는 숫자입니다.\")\n",
    "else:\n",
    "  print(f\"{i}은 424로 나누어 떨어지는 숫자가 아닙니다.\")\n",
    "\n",
    "if i%5 == 0:\n",
    "  print(f\"{i}은 5로 나누어 떨어지는 숫자입니다.\")\n",
    "else:\n",
    "  print(f\"{i}은 5로 나누어 떨어지는 숫자가 아닙니다.\")"
   ]
  },
  {
   "cell_type": "markdown",
   "metadata": {
    "id": "Lbq9rW80a-t_"
   },
   "source": [
    "# 리스트"
   ]
  },
  {
   "cell_type": "code",
   "execution_count": null,
   "metadata": {
    "id": "1jHlNxWZPGmr"
   },
   "outputs": [],
   "source": [
    "# a.append(4)\n",
    "# a.insert(0,10)\n",
    "# a.extend([4,5,6]) - 매개변수로 list입력임을 유의\n",
    "# del a[0]\n",
    "# a.pop(0) - 매개변수로 인덱스 (기본값은 -1)\n",
    "# a.remove(2) - 매개변수로 값 입력\n",
    "# a.clear()\n",
    "# a.sort()\n",
    "# a.sort(reverse=True)\n",
    "# 273 in a\n",
    "# 273 not in a\n",
    "\n",
    "# 요소 추가: append(), insert(), extend()\n",
    "# 요소 제거:  del 키워드, pop(), remove(), clear()\n",
    "# 요소 정렬: sort()\n",
    "# 요소 존재를 확인: in / not in\n",
    "\n",
    "\n"
   ]
  },
  {
   "cell_type": "markdown",
   "metadata": {
    "id": "oUXgp8QxG_GI"
   },
   "source": [
    "## range()"
   ]
  },
  {
   "cell_type": "code",
   "execution_count": null,
   "metadata": {
    "id": "56DoPfTWG_GI",
    "outputId": "2557f7e7-ff66-446d-9c2e-4758e7138eba"
   },
   "outputs": [
    {
     "name": "stdout",
     "output_type": "stream",
     "text": [
      "range(0, 5)\n"
     ]
    }
   ],
   "source": [
    "# range() 함수의 매개변수는 반드시 정수가 와야 한다 \n",
    "\n",
    "n = 10\n",
    "# a = range(0, 5)\n",
    "# a = range(0, n / 2) # 이건 안됨, \n",
    "a = range(0, n // 2)\n",
    "print(a)"
   ]
  },
  {
   "cell_type": "code",
   "execution_count": null,
   "metadata": {
    "id": "R1L7YP-5G_GJ",
    "outputId": "e1afdef7-3562-4028-9645-cf55a9b91c51"
   },
   "outputs": [
    {
     "name": "stdout",
     "output_type": "stream",
     "text": [
      "4\n",
      "3\n",
      "2\n",
      "1\n",
      "0\n"
     ]
    }
   ],
   "source": [
    "# 역순 출력의 다양한 형태\n",
    "\n",
    "for i in range(4, -1, -1):\n",
    "# for i in range(4, 0-1, -1):\n",
    "# for i in reversed(range(5)):\n",
    "    print(i)"
   ]
  },
  {
   "cell_type": "code",
   "execution_count": null,
   "metadata": {
    "id": "zafv79JDG_GJ",
    "outputId": "ad5dec94-16db-406f-863e-811bab983e6b"
   },
   "outputs": [
    {
     "ename": "TypeError",
     "evalue": "reversed expected 1 argument, got 3",
     "output_type": "error",
     "traceback": [
      "\u001b[1;31m---------------------------------------------------------------------------\u001b[0m",
      "\u001b[1;31mTypeError\u001b[0m                                 Traceback (most recent call last)",
      "\u001b[1;32m~\\AppData\\Local\\Temp\\ipykernel_11784\\1716422263.py\u001b[0m in \u001b[0;36m<module>\u001b[1;34m\u001b[0m\n\u001b[1;32m----> 1\u001b[1;33m \u001b[0mreversed\u001b[0m\u001b[1;33m(\u001b[0m\u001b[1;36m1\u001b[0m\u001b[1;33m,\u001b[0m\u001b[1;36m2\u001b[0m\u001b[1;33m,\u001b[0m\u001b[1;36m3\u001b[0m\u001b[1;33m)\u001b[0m\u001b[1;33m\u001b[0m\u001b[1;33m\u001b[0m\u001b[0m\n\u001b[0m",
      "\u001b[1;31mTypeError\u001b[0m: reversed expected 1 argument, got 3"
     ]
    }
   ],
   "source": [
    "reversed(1,2,3)"
   ]
  },
  {
   "cell_type": "markdown",
   "metadata": {
    "id": "UF7IO0yzb44j"
   },
   "source": [
    "# For \n",
    "for 반복자(반복변수 in 반복할 수 있는 것:\n",
    "\n",
    ">  코드(복합구문)\n",
    "\n",
    "* 반복할 수 있는 것: dictionary "
   ]
  },
  {
   "cell_type": "code",
   "execution_count": null,
   "metadata": {
    "colab": {
     "base_uri": "https://localhost:8080/"
    },
    "executionInfo": {
     "elapsed": 477,
     "status": "ok",
     "timestamp": 1678625645883,
     "user": {
      "displayName": "박주경",
      "userId": "06694313831384541311"
     },
     "user_tz": -540
    },
    "id": "_NPs2Ti7PGoh",
    "outputId": "b7751689-1737-499f-8c72-b54696a26cde"
   },
   "outputs": [
    {
     "name": "stdout",
     "output_type": "stream",
     "text": [
      "120\n"
     ]
    }
   ],
   "source": [
    "# 반복문의 이해를 돕는 수학적 지식 - 항등원, 총합, 총곱\n",
    "# 항등원: 임의의 원소에 특정 연산을 했을 때 재귀시키는 원소\n",
    "# 숫자 덧셈의 항등원: 0\n",
    "# 숫자 곱셈의 항등원: 1\n",
    "# 총합과 총곱 등은 숫자가 많아지면 대책이 없다. 그래서 sum, 수학에서는 시그마를 만들었다 (시그마a면 a의 요소를 모두 더한다 / 파이a는 다 곱한다)\n",
    "# for는 시그마, 파이 같이 요소를 쭉 나열해 주는 것이 기본 기능이다. 반복 변수에 요소가 차례대로 하나씩 반복해서 들어감\n",
    "\n",
    "a = [1,2,3,4,5]\n",
    "prod=1 # 이게 항등원임(product, 파이)\n",
    "\n",
    "for i in a:\n",
    "  prod *= i\n",
    "print(prod)\n",
    "\n"
   ]
  },
  {
   "cell_type": "code",
   "execution_count": null,
   "metadata": {
    "id": "yIeV_Bw2G_GL",
    "outputId": "e8752013-e1ec-496b-811b-b8c2a98ba9a1"
   },
   "outputs": [
    {
     "name": "stdout",
     "output_type": "stream",
     "text": [
      "요세하녕안\n",
      "\n",
      "[10, 9, 8, 7, 6, 5, 4, 3, 2, 1]\n",
      "[10, 9, 8, 7, 6, 5, 4, 3, 2, 1]\n",
      "[]\n",
      "\n",
      "10\n",
      "9\n",
      "8\n",
      "7\n",
      "6\n",
      "5\n",
      "4\n",
      "3\n",
      "2\n",
      "1\n",
      "0\n"
     ]
    }
   ],
   "source": [
    "# 비교\n",
    "\n",
    "print(\"안녕하세요\"[-1::-1])\n",
    "print()\n",
    "\n",
    "a = [1,2,3,4,5,6,7,8,9,10]\n",
    "\n",
    "print(a[-1::-1])\n",
    "print(a[::-1])\n",
    "print(a[0:9:-1])\n",
    "print()\n",
    "\n",
    "for i in range (10, 0-1, -1):\n",
    "    print(i)"
   ]
  },
  {
   "cell_type": "code",
   "execution_count": null,
   "metadata": {
    "colab": {
     "base_uri": "https://localhost:8080/"
    },
    "executionInfo": {
     "elapsed": 486,
     "status": "ok",
     "timestamp": 1678626610400,
     "user": {
      "displayName": "박주경",
      "userId": "06694313831384541311"
     },
     "user_tz": -540
    },
    "id": "w2h348oqPGqn",
    "outputId": "dfe38938-5e10-47aa-beee-5743370b60f1"
   },
   "outputs": [
    {
     "name": "stdout",
     "output_type": "stream",
     "text": [
      "[1, 2, 3]\n",
      "1\n",
      "2\n",
      "3\n",
      "[4, 5, 6, 7]\n",
      "4\n",
      "5\n",
      "6\n",
      "7\n",
      "[8, 9]\n",
      "8\n",
      "9\n"
     ]
    }
   ],
   "source": [
    "a = [[1,2,3],[4,5,6,7],[8,9]]\n",
    "\n",
    "for i in a:\n",
    "  print(i)\n",
    "  for j in i:\n",
    "     print(j)"
   ]
  },
  {
   "cell_type": "code",
   "execution_count": null,
   "metadata": {
    "colab": {
     "base_uri": "https://localhost:8080/"
    },
    "executionInfo": {
     "elapsed": 461,
     "status": "ok",
     "timestamp": 1678627740323,
     "user": {
      "displayName": "박주경",
      "userId": "06694313831384541311"
     },
     "user_tz": -540
    },
    "id": "Fq5oGKV383qO",
    "outputId": "3dd633b1-56f9-4cc9-f3b8-e910e1049e75"
   },
   "outputs": [
    {
     "name": "stdout",
     "output_type": "stream",
     "text": [
      "[1, 2, 3, 1, 2, 3]\n",
      "[1, 2, 3, 4]\n",
      "2022년 8월 10일 14시 14분\n",
      "[0, 1, 2, 3, 4, 5, 6]\n"
     ]
    }
   ],
   "source": [
    "# 전개 연산자\n",
    "\n",
    "# (1)리스트 내부에 사용하는 경우\n",
    "a = [1,2,3]\n",
    "b = [*a, *a]\n",
    "print(b)\n",
    "\n",
    "b = [*a, 4] # 비파괴적으로 추가 가능 <-> append()\n",
    "print(b)\n",
    "\n",
    "# (2)함수의 매개변수 위치에 사용하는 경우\n",
    "date = [2022, 8, 10, 14, 14]\n",
    "print(\"{}년 {}월 {}일 {}시 {}분\".format(*date))"
   ]
  },
  {
   "cell_type": "code",
   "execution_count": null,
   "metadata": {
    "colab": {
     "base_uri": "https://localhost:8080/"
    },
    "executionInfo": {
     "elapsed": 663,
     "status": "ok",
     "timestamp": 1678629635027,
     "user": {
      "displayName": "박주경",
      "userId": "06694313831384541311"
     },
     "user_tz": -540
    },
    "id": "W_7E-9bmBbCR",
    "outputId": "81400178-d57a-4487-a117-84cd44b15293"
   },
   "outputs": [
    {
     "name": "stdout",
     "output_type": "stream",
     "text": [
      "[[1, 4, 7], [2, 5, 8], [3, 6, 9]]\n",
      "[[1, 4, 7], [2, 5, 8], [3, 6, 9]]\n"
     ]
    }
   ],
   "source": [
    "numbers = [1,2,3,4,5,6,7,8,9]\n",
    "output = [[],[],[]]\n",
    "output_1 = [[],[],[]]\n",
    "\n",
    "for number in numbers:\n",
    "  output[number%3 -1].append(number)\n",
    "  output_1[(number-1) % 3].append(number)\n",
    "print(output)\n",
    "print(output_1)"
   ]
  },
  {
   "cell_type": "markdown",
   "metadata": {
    "id": "Nw0U74SuKZUj"
   },
   "source": [
    "# 딕셔러니\n",
    "* # key에 올 수 있는 것 - 숫자, 문자열, bool. tuple\n",
    "* dictionary에 {key:value, key:value,} - 마지막에 ,있어도 에러 안난다(복붙에 대한 배려)\n",
    "* 리스트와 딕셔러니 차이점\n",
    "    * 인덱스를 기반으로 값을 저장하는 것 / 가리키는 위치: 인덱스 / 선언형식: 변수=[]\n",
    "    * key를 기반으로 value를 저장하는 것 / 가리키는 위치: 키 / 선언형식: 변수={}\n",
    "* in 연산자, get()"
   ]
  },
  {
   "cell_type": "code",
   "execution_count": null,
   "metadata": {
    "colab": {
     "base_uri": "https://localhost:8080/"
    },
    "executionInfo": {
     "elapsed": 642,
     "status": "ok",
     "timestamp": 1678633164501,
     "user": {
      "displayName": "박주경",
      "userId": "06694313831384541311"
     },
     "user_tz": -540
    },
    "id": "zWeUlswsSXip",
    "outputId": "08f20ef8-3d86-4fcb-b834-9d7c47a53982"
   },
   "outputs": [
    {
     "name": "stdout",
     "output_type": "stream",
     "text": [
      "제품명\n",
      "건망고 슬라이스\n",
      "--------------------\n",
      "가격\n",
      "4000\n",
      "--------------------\n",
      "분류\n",
      "식품\n",
      "--------------------\n",
      "원산지\n",
      "태국\n",
      "--------------------\n",
      "제품명\n",
      "건망고 슬라이스\n",
      "--------------------\n",
      "가격\n",
      "4000\n",
      "--------------------\n",
      "분류\n",
      "식품\n",
      "--------------------\n",
      "원산지\n",
      "태국\n",
      "--------------------\n"
     ]
    }
   ],
   "source": [
    "products = [{\"제품명\": \"건망고 슬라이스\",\n",
    "           \"가격\": 4000,\n",
    "           \"분류\": \"식품\",\n",
    "           \"원산지\": \"태국\"},\n",
    "           {\"제품명\": \"건망고 슬라이스\",\n",
    "           \"가격\": 4000,\n",
    "           \"분류\": \"식품\",\n",
    "           \"원산지\": \"태국\"},]\n",
    "\n",
    "for product in products:\n",
    "  for key in product:\n",
    "    print(key)\n",
    "    print(product[key])\n",
    "    print(\"-\" * 20)"
   ]
  },
  {
   "cell_type": "code",
   "execution_count": null,
   "metadata": {
    "id": "NpkUE8uBG_GN",
    "outputId": "0ac77ad5-87f8-4574-a069-ba2e07ebeb3b"
   },
   "outputs": [
    {
     "name": "stdout",
     "output_type": "stream",
     "text": [
      "{'name': '어벤저스 엔드게임', 'type': '히어로 무비', 1: 2, 'a': [1, 2], 'b': {3, 4}, 'c': {'c': 'd'}}\n",
      "{'name': '어벤저스 엔드게임', 'type': '히어로 무비', 1: 2, 'a': [1, 2], 'b': {3, 4}, 'c': {'c': 'd'}, '평가': '재미없어'}\n"
     ]
    },
    {
     "data": {
      "text/plain": [
       "{3, 4}"
      ]
     },
     "execution_count": 58,
     "metadata": {},
     "output_type": "execute_result"
    }
   ],
   "source": [
    "dict_a = {\n",
    "    \"name\": \"어벤저스 엔드게임\",\n",
    "    \"type\": \"히어로 무비\",\n",
    "    1: 2,\n",
    "    \"a\": [1,2],\n",
    "    \"b\": {3,4},\n",
    "    \"c\": {\"c\":\"d\"}\n",
    "}\n",
    "print(dict_a)\n",
    "dict_a['평가'] = '재미없어' # 새로운 자료 추가\n",
    "print(dict_a)\n",
    "dict_a[\"b\"]\n"
   ]
  },
  {
   "cell_type": "code",
   "execution_count": null,
   "metadata": {
    "id": "poPJ9quaG_GO",
    "outputId": "28ffac4f-af98-480b-9674-69fce025acf0"
   },
   "outputs": [
    {
     "name": "stdout",
     "output_type": "stream",
     "text": [
      "설탕\n",
      "{'ingredient': ['망고', '설탕', '치자황색소']}\n",
      "\n",
      "None\n",
      "존재하지 않는 키에 접근했습니다.\n"
     ]
    }
   ],
   "source": [
    "dictionary = {\"ingredient\": [\"망고\",\"설탕\",\"메타중아황산나트륨\",\"치자황색소\"]}\n",
    "\n",
    "print(dictionary[\"ingredient\"][1])\n",
    "\n",
    "del dictionary[\"ingredient\"][2]\n",
    "print(dictionary)\n",
    "print()\n",
    "\n",
    "a = dictionary.get(\"key\")\n",
    "print(a)\n",
    "\n",
    "if a == None:\n",
    "    print(\"존재하지 않는 키에 접근했습니다.\")"
   ]
  },
  {
   "cell_type": "code",
   "execution_count": null,
   "metadata": {
    "id": "qsOPB0XuG_GO",
    "outputId": "55c282c6-f935-4dca-eba3-f5711de9d43e"
   },
   "outputs": [
    {
     "name": "stdout",
     "output_type": "stream",
     "text": [
      "# 우리 동네 애완 동물들\n",
      "구름 5살\n",
      "초코 3살\n",
      "아지 1살\n",
      "호랑이 1살\n"
     ]
    }
   ],
   "source": [
    "pets = [{\"name\": \"구름\", \"age\": 5},\n",
    "        {\"name\": \"초코\", \"age\": 3},\n",
    "        {\"name\": \"아지\", \"age\": 1},\n",
    "        {\"name\": \"호랑이\", \"age\": 1},     \n",
    "]\n",
    "\n",
    "print(\"# 우리 동네 애완 동물들\")\n",
    "\n",
    "for pet in pets:\n",
    "    a = pet[\"name\"]\n",
    "    b = pet[\"age\"]\n",
    "    print(f\"{a} {b}살\")\n"
   ]
  },
  {
   "cell_type": "code",
   "execution_count": null,
   "metadata": {
    "id": "ffLoCuDaG_GO",
    "outputId": "80493293-8675-4460-c940-6f9926f65e3b"
   },
   "outputs": [
    {
     "ename": "KeyError",
     "evalue": "1",
     "output_type": "error",
     "traceback": [
      "\u001b[1;31m---------------------------------------------------------------------------\u001b[0m",
      "\u001b[1;31mKeyError\u001b[0m                                  Traceback (most recent call last)",
      "\u001b[1;32m~\\AppData\\Local\\Temp\\ipykernel_8968\\1755621708.py\u001b[0m in \u001b[0;36m<module>\u001b[1;34m\u001b[0m\n\u001b[0;32m      6\u001b[0m         \u001b[0mcounter\u001b[0m\u001b[1;33m[\u001b[0m\u001b[0mnumber\u001b[0m\u001b[1;33m]\u001b[0m\u001b[1;33m=\u001b[0m\u001b[0mnumber\u001b[0m\u001b[1;33m\u001b[0m\u001b[1;33m\u001b[0m\u001b[0m\n\u001b[0;32m      7\u001b[0m     \u001b[1;32melse\u001b[0m\u001b[1;33m:\u001b[0m\u001b[1;33m\u001b[0m\u001b[1;33m\u001b[0m\u001b[0m\n\u001b[1;32m----> 8\u001b[1;33m         \u001b[0mcounter\u001b[0m\u001b[1;33m[\u001b[0m\u001b[0mnumber\u001b[0m\u001b[1;33m]\u001b[0m \u001b[1;33m+=\u001b[0m \u001b[1;36m1\u001b[0m\u001b[1;33m\u001b[0m\u001b[1;33m\u001b[0m\u001b[0m\n\u001b[0m\u001b[0;32m      9\u001b[0m \u001b[1;33m\u001b[0m\u001b[0m\n\u001b[0;32m     10\u001b[0m \u001b[1;33m\u001b[0m\u001b[0m\n",
      "\u001b[1;31mKeyError\u001b[0m: 1"
     ]
    }
   ],
   "source": [
    "numbers = [1,2,6,8,4,3,2,1,9,5,4,9,7,2,1,3,5,4,8,9,7,2,3]\n",
    "counter = {}\n",
    "\n",
    "for number in numbers:\n",
    "    if number != number:\n",
    "        counter[number]=number\n",
    "    else:\n",
    "        counter[number] += 1\n",
    "    \n",
    "\n",
    "        \n",
    "print(counter)\n"
   ]
  },
  {
   "cell_type": "code",
   "execution_count": null,
   "metadata": {
    "id": "5boWeCNYG_GP",
    "outputId": "cb419990-c4dd-47ba-d600-c8ec25b8df27"
   },
   "outputs": [
    {
     "name": "stdout",
     "output_type": "stream",
     "text": [
      "name : 기사\n",
      "level : 12\n",
      "items : {'sword': '불꽃의 검', 'armor': '풀플레이트'}\n",
      "skill : ['베기', '세게 베기', '아주 세게 베기']\n"
     ]
    }
   ],
   "source": [
    "character = {\n",
    "    'name': '기사',\n",
    "    'level': 12,\n",
    "    'items': {\n",
    "        'sword': '불꽃의 검',\n",
    "        'armor': '풀플레이트'\n",
    "    },\n",
    "    'skill': ['베기', '세게 베기', '아주 세게 베기']\n",
    "}\n",
    "\n",
    "\n",
    "\n",
    "\n",
    "\n",
    "for key1 in character:\n",
    "    print(key1, \":\", character[key1])\n",
    "    for key2 in key1:\n",
    "        print(key2,\":\", )\n",
    "\n",
    "\n",
    "    \n",
    "        \n",
    "    \n",
    "    \n",
    "\n",
    "\n"
   ]
  },
  {
   "cell_type": "code",
   "execution_count": null,
   "metadata": {
    "id": "VAmQj0H2G_GP",
    "outputId": "1c30e003-58c4-4fc9-d660-9b9db275582a"
   },
   "outputs": [
    {
     "name": "stdout",
     "output_type": "stream",
     "text": [
      "{'items': {'sword': '불꽃의 검', 'armor': '풀플레이트'}}\n"
     ]
    }
   ],
   "source": [
    "character={'items': {\n",
    "        'sword': '불꽃의 검',\n",
    "        'armor': '풀플레이트'}}\n",
    "\n",
    "for key1 in character:\n",
    "    print(key1, \":\", character[key1])\n",
    "    for key2 in key1:\n",
    "        print(key2,\":\", )"
   ]
  },
  {
   "cell_type": "code",
   "execution_count": null,
   "metadata": {
    "id": "_03ydxaXG_GQ",
    "outputId": "28297b67-8742-476a-8912-ef2f99248fe1"
   },
   "outputs": [
    {
     "name": "stdout",
     "output_type": "stream",
     "text": [
      "skill : 베기\n",
      "skill : 세게 베기\n",
      "skill : 아주 세게 베기\n"
     ]
    }
   ],
   "source": [
    "character = {'skill': ['베기','세게 베기','아주 세게 베기']}\n",
    "\n",
    "for i in character:\n",
    "    print(i, \":\", character['skill'][0])\n",
    "    print(i, \":\", character['skill'][1])\n",
    "    print(i, \":\", character['skill'][2])"
   ]
  },
  {
   "cell_type": "code",
   "execution_count": null,
   "metadata": {
    "id": "O05eARAmG_GQ",
    "outputId": "f674d333-6de3-4eee-a758-b9bbd7986994"
   },
   "outputs": [
    {
     "name": "stdout",
     "output_type": "stream",
     "text": [
      "a b\n",
      "b c\n"
     ]
    }
   ],
   "source": [
    "a = {'a':'b', 'b':'c'}\n",
    "\n",
    "for key, value in a.items():\n",
    "    print(key, value)"
   ]
  },
  {
   "cell_type": "code",
   "execution_count": null,
   "metadata": {
    "id": "75LmrH_lG_GR",
    "outputId": "bd667fcc-5bd4-40cf-c4db-61dd3fd41d11"
   },
   "outputs": [
    {
     "name": "stdout",
     "output_type": "stream",
     "text": [
      "97 98 99 "
     ]
    }
   ],
   "source": [
    "d = {'a':97, 'b':98, 'c':99}\n",
    "\n",
    "for key in d:\n",
    "    print(d[key], end=' ')"
   ]
  },
  {
   "cell_type": "code",
   "execution_count": null,
   "metadata": {
    "id": "-UPsXY52G_GR",
    "outputId": "ed402901-761f-47ef-9ed8-c07a8d980034"
   },
   "outputs": [
    {
     "name": "stdout",
     "output_type": "stream",
     "text": [
      "1\n"
     ]
    }
   ],
   "source": [
    "scope = [1,2,3]\n",
    "for x in scope:\n",
    "    print(x)\n",
    "#     break\n",
    "else:\n",
    "    print('Perfect')"
   ]
  },
  {
   "cell_type": "code",
   "execution_count": null,
   "metadata": {
    "id": "spFrl6qZG_GR"
   },
   "outputs": [],
   "source": [
    "# renage()와 np.arange()와의 차이점\n",
    "\n",
    "import numpy as np\n",
    "num = np.arange(10000)\n",
    "# num = np.arange(10000).tolist() - list로 바꿔줌\n",
    "type(num)"
   ]
  },
  {
   "cell_type": "markdown",
   "metadata": {
    "id": "fr6UBp16G_GR"
   },
   "source": [
    "## While 반복문\n",
    "* for 반복문처럼 사용하기\n",
    "* 무한반복 or 조건을 활용한 반복 (상태, 시간, ...)\n"
   ]
  },
  {
   "cell_type": "code",
   "execution_count": null,
   "metadata": {
    "id": "61isb8DBG_GS",
    "outputId": "9a0650a6-6dea-473d-e0a2-08ecec5dd693"
   },
   "outputs": [
    {
     "name": "stdout",
     "output_type": "stream",
     "text": [
      "0\n",
      "1\n",
      "2\n",
      "3\n",
      "4\n",
      "5\n",
      "6\n",
      "7\n",
      "8\n",
      "9\n"
     ]
    }
   ],
   "source": [
    "# for 반복문처럼 사용하기\n",
    "\n",
    "i = 0\n",
    "while i < 10:\n",
    "    print(i)\n",
    "    i += 1"
   ]
  },
  {
   "cell_type": "code",
   "execution_count": null,
   "metadata": {
    "id": "vMHRgp0PG_GS",
    "outputId": "9f60070f-0743-415a-8694-a89986d3d15e"
   },
   "outputs": [
    {
     "name": "stdout",
     "output_type": "stream",
     "text": [
      "[1, 1]\n"
     ]
    }
   ],
   "source": [
    "# 상태를 기반으로 반복하기\n",
    "\n",
    "list_test = [1, 2, 1, 2]\n",
    "value = 2\n",
    "\n",
    "while value in list_test: # 물론 value를 지정하지 않고 그냥 value에 2를 넣어도 됨\n",
    "    list_test.remove(value)\n",
    "    \n",
    "print(list_test)"
   ]
  },
  {
   "cell_type": "code",
   "execution_count": null,
   "metadata": {
    "id": "m8lhuq1xG_GS",
    "outputId": "643a8785-7ef7-430a-a841-ece3b75637e6"
   },
   "outputs": [
    {
     "name": "stdout",
     "output_type": "stream",
     "text": [
      "5초 동안 33639472번 반복했습니다.\n"
     ]
    }
   ],
   "source": [
    "# 시간을 기반으로 반복하기\n",
    "\n",
    "import time\n",
    "\n",
    "number = 0\n",
    "\n",
    "target_tick = time.time() + 5\n",
    "while time.time() < target_tick:\n",
    "    number += 1\n",
    "\n",
    "print(\"5초 동안 {}번 반복했습니다.\".format(number))\n"
   ]
  },
  {
   "cell_type": "markdown",
   "metadata": {
    "id": "IFQu_aj0PDT1"
   },
   "source": [
    "# 오류 처리"
   ]
  },
  {
   "cell_type": "code",
   "execution_count": null,
   "metadata": {
    "colab": {
     "base_uri": "https://localhost:8080/"
    },
    "executionInfo": {
     "elapsed": 1558,
     "status": "ok",
     "timestamp": 1678530841561,
     "user": {
      "displayName": "박주경",
      "userId": "06694313831384541311"
     },
     "user_tz": -540
    },
    "id": "cECF9cMfHJGn",
    "outputId": "7c310cf6-f438-4fc2-efd2-11434477d591"
   },
   "outputs": [
    {
     "name": "stdout",
     "output_type": "stream",
     "text": [
      "정수 입력> 1\n"
     ]
    }
   ],
   "source": [
    "# pass 키워드\n",
    "\n",
    "number = input(\"정수 입력> \")\n",
    "number = int(number)\n",
    "\n",
    "if number:\n",
    "  pass\n",
    "else:\n",
    "  pass\n"
   ]
  },
  {
   "cell_type": "code",
   "execution_count": null,
   "metadata": {
    "colab": {
     "base_uri": "https://localhost:8080/",
     "height": 134
    },
    "executionInfo": {
     "elapsed": 345,
     "status": "error",
     "timestamp": 1678533305232,
     "user": {
      "displayName": "박주경",
      "userId": "06694313831384541311"
     },
     "user_tz": -540
    },
    "id": "r7yvOyNaYFdf",
    "outputId": "517da562-daec-41ba-b54a-e49ed20c3258"
   },
   "outputs": [
    {
     "ename": "IndentationError",
     "evalue": "ignored",
     "output_type": "error",
     "traceback": [
      "\u001b[0;36m  File \u001b[0;32m\"<ipython-input-40-94ea807825c4>\"\u001b[0;36m, line \u001b[0;32m9\u001b[0m\n\u001b[0;31m    \u001b[0m\n\u001b[0m    ^\u001b[0m\n\u001b[0;31mIndentationError\u001b[0m\u001b[0;31m:\u001b[0m expected an indented block\n"
     ]
    }
   ],
   "source": [
    "# raise와 NotImplementedError"
   ]
  },
  {
   "cell_type": "code",
   "execution_count": null,
   "metadata": {
    "id": "OlslfMJlG_GU",
    "outputId": "d18f3390-dfd5-4b6b-aeb5-fa11a84aaf75"
   },
   "outputs": [
    {
     "name": "stdout",
     "output_type": "stream",
     "text": [
      "a b c d/"
     ]
    }
   ],
   "source": [
    "print(\"a\",\"b\",\"c\",\"d\", end='')"
   ]
  }
 ],
 "metadata": {
  "colab": {
   "provenance": []
  },
  "kernelspec": {
   "display_name": "Python 3 (ipykernel)",
   "language": "python",
   "name": "python3"
  },
  "language_info": {
   "codemirror_mode": {
    "name": "ipython",
    "version": 3
   },
   "file_extension": ".py",
   "mimetype": "text/x-python",
   "name": "python",
   "nbconvert_exporter": "python",
   "pygments_lexer": "ipython3",
   "version": "3.9.13"
  }
 },
 "nbformat": 4,
 "nbformat_minor": 1
}
