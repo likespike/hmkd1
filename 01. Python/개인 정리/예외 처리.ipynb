{
 "cells": [
  {
   "cell_type": "markdown",
   "id": "30545674",
   "metadata": {},
   "source": [
    "#### 8. list_number = [52, 273, 32, 72, 100]로 변수 선언하고 정수를 입력하면 그 정수 인덱스와 리스트에서 해당하는 값을 출력하는 프로그램을 작성하세요. 단, 모든 예외처리를 수행하며 특히 ValueError와 IndexError는 별도 구분해서 예외처리 한 후 '예외처리 완료'를 마지막으로 출력하세요.\n",
    "\n",
    "- 4 입력시 \\\n",
    "정수 입력> 4 \\\n",
    "4번째 요소: 100\n",
    "예외 처리 완료\n",
    "\n",
    "- 문자 입력시 \\\n",
    "정수 입력> 가 \\\n",
    "정수를 입력해 주세요!\n",
    "예외 처리 완료\n",
    "\n",
    "- 5 입력시 \\\n",
    "정수 입력> 5 \\\n",
    "리스트의 인덱스를 벗어났어요!\n",
    "예외 처리 완료"
   ]
  },
  {
   "cell_type": "code",
   "execution_count": 9,
   "id": "79ffe57e",
   "metadata": {},
   "outputs": [
    {
     "name": "stdout",
     "output_type": "stream",
     "text": [
      "0~4 정수 입력> e\n",
      "정수를 입력해 주세요!\n",
      "예외 처리 완료\n"
     ]
    }
   ],
   "source": [
    "# A.\n",
    "# 변수를 선언합니다.\n",
    "list_number = [52, 273, 32, 72, 100]\n",
    "\n",
    "# try except 구문으로 예외를 처리합니다.\n",
    "try:\n",
    "    # 숫자를 입력받습니다.\n",
    "    number_input = int(input(\"0~4 정수 입력> \"))\n",
    "    # 리스트의 요소를 출력합니다.\n",
    "    print(\"{}번째 요소: {}\".format(number_input, list_number[number_input]))\n",
    "    \n",
    "except ValueError:\n",
    "    # ValueError가 발생하는 경우\n",
    "    print(\"정수를 입력해 주세요!\")\n",
    "    \n",
    "except IndexError:\n",
    "    # IndexError가 발생하는 경우\n",
    "    print(\"리스트의 인덱스를 벗어났어요!\")\n",
    "    \n",
    "except Exception as e:\n",
    "    print(e)\n",
    "    \n",
    "finally:\n",
    "    print('예외 처리 완료')\n"
   ]
  }
 ],
 "metadata": {
  "kernelspec": {
   "display_name": "Python 3 (ipykernel)",
   "language": "python",
   "name": "python3"
  },
  "language_info": {
   "codemirror_mode": {
    "name": "ipython",
    "version": 3
   },
   "file_extension": ".py",
   "mimetype": "text/x-python",
   "name": "python",
   "nbconvert_exporter": "python",
   "pygments_lexer": "ipython3",
   "version": "3.9.13"
  }
 },
 "nbformat": 4,
 "nbformat_minor": 5
}
