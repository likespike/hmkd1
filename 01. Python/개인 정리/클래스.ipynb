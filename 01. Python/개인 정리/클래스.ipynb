{
 "cells": [
  {
   "cell_type": "markdown",
   "id": "baa877a2",
   "metadata": {},
   "source": [
    "#### 클래스 Country를 완성하여 아래와 같이 출력하세요.\n"
   ]
  },
  {
   "cell_type": "code",
   "execution_count": null,
   "id": "4d55d068",
   "metadata": {},
   "outputs": [],
   "source": [
    "class Country:\n",
    "  \n",
    "\n",
    "\n",
    "class Korea(Country):    \n",
    "\n",
    "    def desc1(self,gnp):\n",
    "        self.gnp = gnp\n",
    "        print('1인당 gnp는 USD %d만입니다.' %self.gnp)\n",
    "        \n",
    "obj = Korea('한국',5,'서울')\n",
    "obj.desc()\n",
    "obj.desc1(3)"
   ]
  },
  {
   "cell_type": "code",
   "execution_count": null,
   "id": "f8690c3d",
   "metadata": {},
   "outputs": [],
   "source": [
    "class Country:\n",
    "    def __init__(self, name, pop, capital):\n",
    "\n",
    "        self.name = name \n",
    "        self.pop = pop\n",
    "        self.capital = capital\n",
    "\n",
    "    def desc(self):\n",
    "        \n",
    "        print('%s의 인구는 %d천만명이며 수도는 %s입니다.' \n",
    "              %(self.name,self.pop,self.capital))    \n",
    "\n",
    "\n",
    "class Korea(Country):    \n",
    "\n",
    "    def desc1(self,gnp):\n",
    "        self.gnp = gnp\n",
    "        print('1인당 gnp는 USD %d만입니다.' %self.gnp)\n",
    "        \n",
    "obj = Korea('한국',5,'서울')\n",
    "obj.desc()\n",
    "obj.desc1(3)"
   ]
  },
  {
   "cell_type": "markdown",
   "id": "ff9ff7b8",
   "metadata": {},
   "source": [
    "#### 사칙연산을 수행하는  클래스를 작성하여 객체를 만들고 2개의 정수 10, 5를 입력한 후 연산 결과를  포멧을 이용하여 출력하세요."
   ]
  },
  {
   "cell_type": "code",
   "execution_count": 2,
   "id": "586fa121",
   "metadata": {},
   "outputs": [
    {
     "name": "stdout",
     "output_type": "stream",
     "text": [
      "정수입력> 1\n",
      "정수입력> 2\n",
      "덧셈: 3, 뺄셈: -1, 곱셈: 2, 나눗셈: 0\n"
     ]
    }
   ],
   "source": [
    "class FourCal:\n",
    "    def __init__(self, first, second):\n",
    "        self.first = first\n",
    "        self.second = second\n",
    "\n",
    "    def sum(self):\n",
    "        result = self.first + self.second\n",
    "        return result\n",
    "    def mul(self):\n",
    "        result = self.first * self.second\n",
    "        return result\n",
    "    def sub(self):\n",
    "        result = self.first - self.second\n",
    "        return result\n",
    "    def div(self):\n",
    "        result = self.first / self.second\n",
    "        return result\n",
    "\n",
    "i1 = int(input('정수입력> '))\n",
    "i2 = int(input('정수입력> '))\n",
    "cal4 = FourCal(i1,i2)\n",
    "\n",
    "print('덧셈: {}, 뺄셈: {}, 곱셈: {}, 나눗셈: {}'\n",
    "      .format(cal4.sum(),cal4.sub(),cal4.mul(),round(cal4.div())))"
   ]
  }
 ],
 "metadata": {
  "kernelspec": {
   "display_name": "Python 3 (ipykernel)",
   "language": "python",
   "name": "python3"
  },
  "language_info": {
   "codemirror_mode": {
    "name": "ipython",
    "version": 3
   },
   "file_extension": ".py",
   "mimetype": "text/x-python",
   "name": "python",
   "nbconvert_exporter": "python",
   "pygments_lexer": "ipython3",
   "version": "3.9.13"
  }
 },
 "nbformat": 4,
 "nbformat_minor": 5
}
