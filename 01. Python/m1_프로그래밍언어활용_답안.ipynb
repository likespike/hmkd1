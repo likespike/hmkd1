{
 "cells": [
  {
   "cell_type": "markdown",
   "metadata": {
    "id": "MUBRVgz6E8wA"
   },
   "source": [
    "## AI데이터플랫폼을 활용한 빅데이터 분석 전문가 과정\n",
    "\n",
    "#### 교과목명 : 프로그래밍 언어 활용\n",
    "\n",
    "- 평가일 : 23.03.24\n",
    "- 성명 :\n",
    "- 점수 :\n",
    "\n",
    "※ 문제당 5점으로 채점"
   ]
  },
  {
   "cell_type": "markdown",
   "metadata": {
    "id": "8RQjyavpE8wE"
   },
   "source": [
    "#### 1. numbers 리스트에서 15, 20, 25를 출력하세요.(for문과 if 조건 사용 필수)  \n",
    "numbers = [5, 15, 6, 20, 7, 25]"
   ]
  },
  {
   "cell_type": "code",
   "execution_count": null,
   "metadata": {
    "id": "mR-rPLHlE8wF",
    "outputId": "e16edef0-fca1-4d27-b2df-a53355d35892"
   },
   "outputs": [
    {
     "name": "stdout",
     "output_type": "stream",
     "text": [
      "15\n",
      "20\n",
      "25\n"
     ]
    }
   ],
   "source": [
    "# A.\n",
    "# 변수를 선언합니다.\n",
    "numbers = [5, 15, 6, 20, 7, 25]\n",
    "\n",
    "# 반복을 돌립니다.\n",
    "for number in numbers:\n",
    "    # number가 10보다 작으면 다음 반복으로 넘어갑니다.\n",
    "    \n",
    "    if number < 10:\n",
    "        continue\n",
    "    # 출력합니다.\n",
    "    print(number)"
   ]
  },
  {
   "cell_type": "markdown",
   "metadata": {
    "id": "meykYdToE8wH"
   },
   "source": [
    "#### 2. 아래 사용자 함수, 변수 리스트 및 2개의 내장함수를 각각 이용해서  [1, 4, 9, 16, 25], [1, 2]를 출력하세요.(내장함수 2개 사용 필수) "
   ]
  },
  {
   "cell_type": "code",
   "execution_count": null,
   "metadata": {
    "id": "2wpOoN4AE8wI"
   },
   "outputs": [],
   "source": [
    "# 함수를 선언합니다.\n",
    "def power(item):\n",
    "    return item * item\n",
    "def under_3(item):\n",
    "    return item < 3\n",
    "\n",
    "# 변수를 선언합니다.\n",
    "list_input_a = [1, 2, 3, 4, 5]"
   ]
  },
  {
   "cell_type": "code",
   "execution_count": null,
   "metadata": {},
   "outputs": [],
   "source": [
    "a = map(power)"
   ]
  },
  {
   "cell_type": "code",
   "execution_count": null,
   "metadata": {
    "id": "AoMFlSSKE8wI",
    "outputId": "1237ec38-a33b-488c-f4b0-6986c95ae110"
   },
   "outputs": [
    {
     "name": "stdout",
     "output_type": "stream",
     "text": [
      "# map() 함수의 실행 결과\n",
      "map(power, list_input_a): <map object at 0x00000131AF585EC8>\n",
      "map(power, list_input_a): [1, 4, 9, 16, 25]\n",
      "\n",
      "# filter() 함수의 실행 결과\n",
      "filter(under_3, list_input_a): <filter object at 0x00000131AF585F08>\n",
      "filter(under_3, list_input_a): [1, 2]\n"
     ]
    }
   ],
   "source": [
    "# A.\n",
    "# 함수를 선언합니다.\n",
    "def power(item):\n",
    "    return item * item\n",
    "def under_3(item):\n",
    "    return item < 3\n",
    "\n",
    "# 변수를 선언합니다.\n",
    "list_input_a = [1, 2, 3, 4, 5]\n",
    "\n",
    "# map() 함수를 사용합니다.\n",
    "output_a = map(power, list_input_a)\n",
    "print(\"# map() 함수의 실행 결과\")\n",
    "print(\"map(power, list_input_a):\", output_a)\n",
    "print(\"map(power, list_input_a):\", list(output_a))\n",
    "print()\n",
    "\n",
    "# filter() 함수를 사용합니다.\n",
    "output_b = filter(under_3, list_input_a)\n",
    "\n",
    "print(\"# filter() 함수의 실행 결과\")\n",
    "print(\"filter(under_3, list_input_a):\", output_b)\n",
    "print(\"filter(under_3, list_input_a):\", list(output_b))"
   ]
  },
  {
   "cell_type": "markdown",
   "metadata": {
    "id": "WOZSeJdeE8wJ"
   },
   "source": [
    "#### 3. 정수를 입력하면 짝수 홀수 여부를 반환해주는 프로그램을 작성하세요.(정수 입력 후 '짝수', '홀수'가 일치하게 출력) "
   ]
  },
  {
   "cell_type": "code",
   "execution_count": null,
   "metadata": {
    "id": "il8SpRuLE8wJ",
    "outputId": "8970e075-21f0-4172-9d11-d7bc2091c291"
   },
   "outputs": [
    {
     "name": "stdout",
     "output_type": "stream",
     "text": [
      "정수 입력>8\n",
      "짝수입니다\n"
     ]
    }
   ],
   "source": [
    "# A.\n",
    "try:\n",
    "    number = int(input('정수 입력>'))\n",
    "\n",
    "    if number % 2 == 0:\n",
    "        print('짝수입니다')\n",
    "\n",
    "    else:\n",
    "        print('홀수입니다.')\n",
    "except ValueError:\n",
    "    # ValueError가 발생시\n",
    "    print('정수를 입력해 주세요')\n",
    "    "
   ]
  },
  {
   "cell_type": "markdown",
   "metadata": {
    "id": "RW2qbdFcE8wK"
   },
   "source": [
    "#### 4. 람다 함수를 이용해서 a의 b제곱에서 a x b를 뺀 수를 구하는 식을 만들고 그 식을 이용해서  a, b가 아래와 같이 주어졌을 때 각각의 값을 구하세요. \n",
    "a = 2, b = 5 \\\n",
    "a= 5, b = 2"
   ]
  },
  {
   "cell_type": "code",
   "execution_count": null,
   "metadata": {
    "id": "3i-Et-sjE8wK",
    "outputId": "eb89cf6d-83df-44e2-bf7a-dc68c424a2e4"
   },
   "outputs": [
    {
     "name": "stdout",
     "output_type": "stream",
     "text": [
      "22\n",
      "15\n"
     ]
    }
   ],
   "source": [
    "# A.\n",
    "x = lambda a, b : a ** b - a*b\n",
    "print(x(2,5))\n",
    "print(x(5,2))"
   ]
  },
  {
   "cell_type": "markdown",
   "metadata": {
    "id": "ZDKM_x4WE8wL"
   },
   "source": [
    "#### 5. 123456789를 입력하면 천 단위로 콤마로 구분하여 출력하세요."
   ]
  },
  {
   "cell_type": "code",
   "execution_count": null,
   "metadata": {
    "id": "vxNUQzaBE8wL",
    "outputId": "b6448a4a-36d9-4b92-c694-a2569bf51cbd"
   },
   "outputs": [
    {
     "name": "stdout",
     "output_type": "stream",
     "text": [
      "아무 숫자를 입력하세요: 123456789\n",
      "123,456,789\n"
     ]
    }
   ],
   "source": [
    "num = input('아무 숫자를 입력하세요: ')\n",
    "\n",
    "if num.isdigit():\n",
    "   num = num[::-1]\n",
    "   ret = ''\n",
    "   for i, c in enumerate(num):\n",
    "      i += 1\n",
    "      if i != len(num) and i%3 == 0:\n",
    "         ret += (c + ',')\n",
    "      else:\n",
    "         ret += c\n",
    "   ret = ret[::-1]\n",
    "   print(ret)\n",
    "else:\n",
    "   print('입력한 내용 [%s]: 숫자가 아닙니다.' %num)"
   ]
  },
  {
   "cell_type": "markdown",
   "metadata": {
    "id": "ArpZddYjE8wM"
   },
   "source": [
    "#### 6. example_list = [\"요소A\", \"요소B\", \"요소C\"]를 파이썬 내장함수를 이용하여 아래와 같이 출력하세요. \n",
    "0번째 요소는 요소A입니다.\\\n",
    "1번째 요소는 요소B입니다.\\\n",
    "2번째 요소는 요소C입니다."
   ]
  },
  {
   "cell_type": "code",
   "execution_count": null,
   "metadata": {
    "id": "yDugUw3AE8wN",
    "outputId": "893f57f1-acb0-4af5-9b27-a8b06015b851"
   },
   "outputs": [
    {
     "name": "stdout",
     "output_type": "stream",
     "text": [
      "0번째 요소는 요소A입니다.\n",
      "1번째 요소는 요소B입니다.\n",
      "2번째 요소는 요소C입니다.\n"
     ]
    }
   ],
   "source": [
    "# A.\n",
    "# 변수를 선언합니다.\n",
    "example_list = [\"요소A\", \"요소B\", \"요소C\"]\n",
    "\n",
    "for i, value in enumerate(example_list):\n",
    "    print(\"{}번째 요소는 {}입니다.\".format(i, value))"
   ]
  },
  {
   "cell_type": "markdown",
   "metadata": {
    "id": "OfYeAyHIE8wN"
   },
   "source": [
    "#### 7. 97을 40으로 나눈 몫과 나머지를 내장함수를 이용하여 구하세요.(튜플로 출력 필수) "
   ]
  },
  {
   "cell_type": "code",
   "execution_count": null,
   "metadata": {
    "id": "gZsDIstdE8wO",
    "outputId": "423748f5-9097-47f3-c48f-0e0889a95044"
   },
   "outputs": [
    {
     "data": {
      "text/plain": [
       "(2, 17)"
      ]
     },
     "execution_count": 10,
     "metadata": {},
     "output_type": "execute_result"
    }
   ],
   "source": [
    "# A.\n",
    "a, b = 97, 40\n",
    "divmod(a, b)"
   ]
  },
  {
   "cell_type": "markdown",
   "metadata": {
    "id": "aHbiX8XsE8wO"
   },
   "source": [
    "#### 8. list_number = [52, 273, 32, 72, 100]로 변수 선언하고 정수를 입력하면 그 정수 인덱스와 리스트에서 해당하는 값을 출력하는 프로그램을 작성하세요. 단, 모든 예외처리를 수행하며 특히 ValueError와 IndexError는 별도 구분해서 예외처리 한 후 '예외처리 완료'를 마지막으로 출력하세요.\n",
    "\n",
    "- 4 입력시 \\\n",
    "정수 입력> 4 \\\n",
    "4번째 요소: 100\n",
    "예외 처리 완료\n",
    "\n",
    "- 문자 입력시 \\\n",
    "정수 입력> 가 \\\n",
    "정수를 입력해 주세요!\n",
    "예외 처리 완료\n",
    "\n",
    "- 5 입력시 \\\n",
    "정수 입력> 5 \\\n",
    "리스트의 인덱스를 벗어났어요!\n",
    "예외 처리 완료"
   ]
  },
  {
   "cell_type": "code",
   "execution_count": null,
   "metadata": {
    "id": "Q6XUvmxYE8wO",
    "outputId": "5178827a-5ec4-4266-be7e-0918b9036c03"
   },
   "outputs": [
    {
     "name": "stdout",
     "output_type": "stream",
     "text": [
      "0~4 정수 입력> 가\n",
      "정수를 입력해 주세요!\n",
      "예외 처리 완료\n"
     ]
    }
   ],
   "source": [
    "# A.\n",
    "# 변수를 선언합니다.\n",
    "list_number = [52, 273, 32, 72, 100]\n",
    "\n",
    "# try except 구문으로 예외를 처리합니다.\n",
    "try:\n",
    "    # 숫자를 입력받습니다.\n",
    "    number_input = int(input(\"0~4 정수 입력> \"))\n",
    "    # 리스트의 요소를 출력합니다.\n",
    "    print(\"{}번째 요소: {}\".format(number_input, list_number[number_input]))\n",
    "except ValueError:\n",
    "    # ValueError가 발생하는 경우\n",
    "    print(\"정수를 입력해 주세요!\")\n",
    "except IndexError:\n",
    "    # IndexError가 발생하는 경우\n",
    "    print(\"리스트의 인덱스를 벗어났어요!\")\n",
    "except Exception as e:\n",
    "    print(e)\n",
    "finally:\n",
    "    print('예외 처리 완료')\n"
   ]
  },
  {
   "cell_type": "markdown",
   "metadata": {
    "id": "EaQCwEAtE8wP"
   },
   "source": [
    "#### 9. 사용자로부터 서로 다른 숫자 두 개를 입력받고 첫 번째 와 두 번째중 큰 숫자를 구하는 프로그램을 수행하세요."
   ]
  },
  {
   "cell_type": "code",
   "execution_count": null,
   "metadata": {
    "id": "9SwVLIK-E8wP",
    "outputId": "1b8dde35-6761-4530-a88f-26c3efd78038"
   },
   "outputs": [
    {
     "name": "stdout",
     "output_type": "stream",
     "text": [
      "정수 입력>5\n",
      "정수 입력>7\n",
      "7\n"
     ]
    }
   ],
   "source": [
    "# A.\n",
    "n1 = input('정수 입력>')\n",
    "n1= int(n1)\n",
    "n2 = input('정수 입력>')\n",
    "n2= int(n2)\n",
    "if n1 > n2:\n",
    "    print(n1)\n",
    "else:\n",
    "    print(n2)"
   ]
  },
  {
   "cell_type": "markdown",
   "metadata": {
    "id": "LRfQjiCzE8wQ"
   },
   "source": [
    "#### 10. 1부터 100까지 아래와 같은 방식으로 2개의 수를 곱해서 가장 큰 수를 구하세요.\n",
    "\n",
    " 1 * 99 ...99 * 1"
   ]
  },
  {
   "cell_type": "code",
   "execution_count": null,
   "metadata": {
    "id": "56_r4oI2E8wQ",
    "outputId": "07afdc03-2362-4731-8073-76e561cf8c4e"
   },
   "outputs": [
    {
     "name": "stdout",
     "output_type": "stream",
     "text": [
      "2500\n"
     ]
    }
   ],
   "source": [
    "# A.\n",
    "max_value = 0\n",
    "\n",
    "for i in range(1,100):\n",
    "    j = 100 - i\n",
    "    current = i * j\n",
    "    if max_value < current:\n",
    "        max_value = current\n",
    "print(max_value)"
   ]
  },
  {
   "cell_type": "markdown",
   "metadata": {
    "id": "a40kqI8ME8wQ"
   },
   "source": [
    "#### 11. 현재 시간을 년-월-일 시:분:초로 출력하세요."
   ]
  },
  {
   "cell_type": "code",
   "execution_count": 1,
   "metadata": {
    "colab": {
     "base_uri": "https://localhost:8080/",
     "height": 35
    },
    "executionInfo": {
     "elapsed": 4,
     "status": "ok",
     "timestamp": 1679567107563,
     "user": {
      "displayName": "kevin park",
      "userId": "02703084888761299921"
     },
     "user_tz": -540
    },
    "id": "JMhhidHYE8wQ",
    "outputId": "c164a25b-4c79-4e54-e94e-55248fe44d19"
   },
   "outputs": [
    {
     "data": {
      "application/vnd.google.colaboratory.intrinsic+json": {
       "type": "string"
      },
      "text/plain": [
       "'2023-03-23 10:25:06'"
      ]
     },
     "execution_count": 1,
     "metadata": {},
     "output_type": "execute_result"
    }
   ],
   "source": [
    "# A.\n",
    "\n",
    "import time\n",
    "from datetime import datetime\n",
    "t = time.time()\n",
    "d = datetime.fromtimestamp(t)\n",
    "s = d.strftime('%Y-%m-%d %X')\n",
    "s  "
   ]
  },
  {
   "cell_type": "markdown",
   "metadata": {
    "id": "N9EEnKZvE8wR"
   },
   "source": [
    "#### 12. 1에서 백만까지 더하는데 걸리는 프로그램 실행 시간을 밀리초(ms) 단위로 구하세요.(1000 밀리초(ms) = 1초)"
   ]
  },
  {
   "cell_type": "code",
   "execution_count": 2,
   "metadata": {
    "colab": {
     "base_uri": "https://localhost:8080/"
    },
    "executionInfo": {
     "elapsed": 294,
     "status": "ok",
     "timestamp": 1679567214253,
     "user": {
      "displayName": "kevin park",
      "userId": "02703084888761299921"
     },
     "user_tz": -540
    },
    "id": "dqINPkK_E8wR",
    "outputId": "26400334-d487-4ad8-bf8b-8e8a4c1fbded"
   },
   "outputs": [
    {
     "name": "stdout",
     "output_type": "stream",
     "text": [
      "2023-03-23 10:26:53.691130\n",
      "1에서 백만까지 더합니다.\n",
      "1에서 백만까지 더한 결과: 499999500000\n",
      "총 계산 시간: 0:00:00.127305\n",
      "총 계산 시간: 127ms\n"
     ]
    }
   ],
   "source": [
    "# A.\n",
    "# 1000 밀리초(ms) = 1초\n",
    "\n",
    "from datetime import datetime\n",
    "\n",
    "start = datetime.now()\n",
    "print(start)\n",
    "print('1에서 백만까지 더합니다.')\n",
    "ret = 0\n",
    "for i in range(1000000):\n",
    "   ret += i\n",
    "print('1에서 백만까지 더한 결과: %d' %ret)\n",
    "end = datetime.now()\n",
    "elapsed = end - start\n",
    "print('총 계산 시간: ', end='');print(elapsed)\n",
    "elapsed_ms = int(elapsed.total_seconds()*1000)\n",
    "print('총 계산 시간: %dms' %elapsed_ms)"
   ]
  },
  {
   "cell_type": "markdown",
   "metadata": {
    "id": "vWkI-A1JE8wR"
   },
   "source": [
    "#### 13. [0, 1, 2, 3, 4, 5, 6, 7, 8, 9, 'a', 'b', 'c']에서 9와 'a'를 삭제 후 리스트로 출력하세요"
   ]
  },
  {
   "cell_type": "code",
   "execution_count": null,
   "metadata": {
    "id": "DKtryNM-E8wR",
    "outputId": "b9e3a04c-ba6f-4f3c-eb2e-c00fbf812ede"
   },
   "outputs": [
    {
     "data": {
      "text/plain": [
       "[0, 1, 2, 3, 4, 5, 6, 7, 8, 'b', 'c']"
      ]
     },
     "execution_count": 18,
     "metadata": {},
     "output_type": "execute_result"
    }
   ],
   "source": [
    "# A\n",
    "a = [0, 1, 2, 3, 4, 5, 6, 7, 8, 9, 'a', 'b', 'c']\n",
    "a[9:11] = []\n",
    "a"
   ]
  },
  {
   "cell_type": "markdown",
   "metadata": {
    "id": "GMR1DQYkE8wS"
   },
   "source": [
    "#### 14. 500 ~ 1000사이의 정수 중 5와 7의 공배수의 합을 구하세요"
   ]
  },
  {
   "cell_type": "code",
   "execution_count": null,
   "metadata": {
    "id": "OUPFwsmsE8wS",
    "outputId": "eb29bb0c-6cbd-4331-ffa8-ac57873700b0"
   },
   "outputs": [
    {
     "name": "stdout",
     "output_type": "stream",
     "text": [
      "10535\n"
     ]
    }
   ],
   "source": [
    "# A.\n",
    "sum = 0\n",
    "for i in range(500,1001):\n",
    "    if (i % 5 ==0) & (i % 7 == 0):\n",
    "        sum += i\n",
    "    i += 1\n",
    "print(sum)"
   ]
  },
  {
   "cell_type": "markdown",
   "metadata": {
    "id": "aUeANeYlE8wS"
   },
   "source": [
    "#### 15. [    ]을 채워서 아래와 같이 출력하세요."
   ]
  },
  {
   "cell_type": "code",
   "execution_count": null,
   "metadata": {
    "id": "0e9zx41YE8wS"
   },
   "outputs": [],
   "source": [
    "numbers = [1,2,3,4,5,6,7,8,9]\n",
    "output = [[], [], []]\n",
    "\n",
    "for number in numbers:\n",
    "    output[     ].append(number)\n",
    "print(output)"
   ]
  },
  {
   "cell_type": "code",
   "execution_count": null,
   "metadata": {
    "id": "xebeFGSXE8wT",
    "outputId": "3e16e3ac-5e8a-4fea-c2ca-36cb3a3a9758"
   },
   "outputs": [
    {
     "name": "stdout",
     "output_type": "stream",
     "text": [
      "[[1, 4, 7], [2, 5, 8], [3, 6, 9]]\n"
     ]
    }
   ],
   "source": [
    "# A.\n",
    "numbers = [1,2,3,4,5,6,7,8,9]\n",
    "output = [[], [], []]\n",
    "\n",
    "for number in numbers:\n",
    "    output[(number+2)%3].append(number)\n",
    "print(output)"
   ]
  },
  {
   "cell_type": "markdown",
   "metadata": {
    "id": "tCc1vBWeE8wT"
   },
   "source": [
    "####  16. numbers 내부에 들어 있는 숫자가 몇 번 등장하는지를 출력하는 코드를 작성하세요."
   ]
  },
  {
   "cell_type": "code",
   "execution_count": null,
   "metadata": {
    "id": "nuPaWiHLE8wT",
    "outputId": "9889037c-6253-4cf1-f38f-9076129d7719"
   },
   "outputs": [
    {
     "name": "stdout",
     "output_type": "stream",
     "text": [
      "{3: 4, 6: 2, 5: 2, 8: 2, 2: 2, 9: 2, 7: 2, 4: 2}\n"
     ]
    }
   ],
   "source": [
    "# A.\n",
    "numbers = [3,6,3,5,8,2,9,7,4,3,6,3,5,8,2,9,7,4]\n",
    "counter = {}\n",
    "for number in numbers:\n",
    "    if number in counter:\n",
    "        counter[number] = counter[number] + 1\n",
    "    else:\n",
    "        counter[number] = 1\n",
    "print(counter)"
   ]
  },
  {
   "cell_type": "markdown",
   "metadata": {
    "id": "N1fnr0ISE8wT"
   },
   "source": [
    "#### 17. 클래스 Country를 완성하여 아래와 같이 출력하세요."
   ]
  },
  {
   "cell_type": "code",
   "execution_count": null,
   "metadata": {
    "id": "9DtEm6x0E8wT",
    "outputId": "08815b9b-78e5-48f0-8e54-8f637d19ce7e"
   },
   "outputs": [
    {
     "name": "stdout",
     "output_type": "stream",
     "text": [
      "한국의 인구는 5천만명이며 수도는 서울입니다.\n",
      "1인당 gnp는 USD 3만입니다.\n"
     ]
    }
   ],
   "source": [
    "class Country:\n",
    "  \n",
    "\n",
    "\n",
    "class Korea(Country):    \n",
    "\n",
    "    def desc1(self,gnp):\n",
    "        self.gnp = gnp\n",
    "        print('1인당 gnp는 USD %d만입니다.' %self.gnp)\n",
    "        \n",
    "obj = Korea('한국',5,'서울')\n",
    "obj.desc()\n",
    "obj.desc1(3)"
   ]
  },
  {
   "cell_type": "code",
   "execution_count": 3,
   "metadata": {
    "colab": {
     "base_uri": "https://localhost:8080/"
    },
    "executionInfo": {
     "elapsed": 296,
     "status": "ok",
     "timestamp": 1679567575595,
     "user": {
      "displayName": "kevin park",
      "userId": "02703084888761299921"
     },
     "user_tz": -540
    },
    "id": "jrZse_XfE8wU",
    "outputId": "d045f816-c268-419a-fa57-c52e483a3429"
   },
   "outputs": [
    {
     "name": "stdout",
     "output_type": "stream",
     "text": [
      "한국의 인구는 5천만명이며 수도는 서울입니다.\n",
      "1인당 gnp는 USD 3만입니다.\n"
     ]
    }
   ],
   "source": [
    "# A.\n",
    "class Country:\n",
    "    def __init__(self, name, pop, capital):\n",
    "\n",
    "        self.name = name \n",
    "        self.pop = pop\n",
    "        self.capital = capital\n",
    "\n",
    "    def desc(self):\n",
    "        \n",
    "        print('%s의 인구는 %d천만명이며 수도는 %s입니다.' \n",
    "              %(self.name,self.pop,self.capital))    \n",
    "\n",
    "\n",
    "class Korea(Country):    \n",
    "\n",
    "    def desc1(self,gnp):\n",
    "        self.gnp = gnp\n",
    "        print('1인당 gnp는 USD %d만입니다.' %self.gnp)\n",
    "        \n",
    "obj = Korea('한국',5,'서울')\n",
    "obj.desc()\n",
    "obj.desc1(3)"
   ]
  },
  {
   "cell_type": "markdown",
   "metadata": {
    "id": "64-pIQ7cE8wU"
   },
   "source": [
    "#### 18. 사칙연산을 수행하는  클래스를 작성하여 객체를 만들고 2개의 정수 10, 5를 입력한 후 연산 결과를  포멧을 이용하여 출력하세요."
   ]
  },
  {
   "cell_type": "code",
   "execution_count": 5,
   "metadata": {
    "colab": {
     "base_uri": "https://localhost:8080/"
    },
    "executionInfo": {
     "elapsed": 6394,
     "status": "ok",
     "timestamp": 1679567599611,
     "user": {
      "displayName": "kevin park",
      "userId": "02703084888761299921"
     },
     "user_tz": -540
    },
    "id": "5CmxmPxZE8wU",
    "outputId": "2fadaf85-467a-4d8d-d205-90dc620424f1"
   },
   "outputs": [
    {
     "name": "stdout",
     "output_type": "stream",
     "text": [
      "정수입력> 10\n",
      "정수입력> 5\n",
      "덧셈: 15, 뺄셈: 5, 곱셈: 50, 나눗셈: 2\n"
     ]
    }
   ],
   "source": [
    "#A.\n",
    "class FourCal:\n",
    "    def __init__(self, first, second):\n",
    "        self.first = first\n",
    "        self.second = second\n",
    "\n",
    "    def sum(self):\n",
    "        result = self.first + self.second\n",
    "        return result\n",
    "    def mul(self):\n",
    "        result = self.first * self.second\n",
    "        return result\n",
    "    def sub(self):\n",
    "        result = self.first - self.second\n",
    "        return result\n",
    "    def div(self):\n",
    "        result = self.first / self.second\n",
    "        return result\n",
    "\n",
    "i1 = int(input('정수입력> '))\n",
    "i2 = int(input('정수입력> '))\n",
    "cal4 = FourCal(i1,i2)\n",
    "\n",
    "print('덧셈: {}, 뺄셈: {}, 곱셈: {}, 나눗셈: {}'\n",
    "      .format(cal4.sum(),cal4.sub(),cal4.mul(),round(cal4.div())))"
   ]
  },
  {
   "cell_type": "markdown",
   "metadata": {
    "id": "aXnTCJjhE8wV"
   },
   "source": [
    "#### 19. 올해 경과된 날짜수를 계산하여 출력하세요."
   ]
  },
  {
   "cell_type": "code",
   "execution_count": null,
   "metadata": {
    "id": "8hHI_5o2E8wV",
    "outputId": "3402ed9b-92d3-491e-c40f-02a0618b1200"
   },
   "outputs": [
    {
     "name": "stdout",
     "output_type": "stream",
     "text": [
      "오늘은 2021-01-01 이후 182일째 되는 날입니다.\n"
     ]
    }
   ],
   "source": [
    "# A.\n",
    "import time\n",
    "t = time.localtime()\n",
    "start_day = '%d-01-01' %t.tm_year\n",
    "elapsed_day = t.tm_yday\n",
    "print('오늘은 %s 이후 %d일째 되는 날입니다.' %(start_day,elapsed_day))"
   ]
  },
  {
   "cell_type": "markdown",
   "metadata": {
    "id": "dcwksmd7E8wV"
   },
   "source": [
    "#### 20. # [도전과제] 문자열 리스트 states를 정형화하여 아래와 같이 출력하세요\n",
    "states = ['   Alabama ', 'Georgia!', 'Georgia', 'georgia', 'FlOrIda',\n",
    "          'south   carolina##', 'West virginia?']\n",
    "[출력]\n",
    "['Alabama',\n",
    " 'Georgia',\n",
    " 'Georgia',\n",
    " 'Georgia',\n",
    " 'Florida',\n",
    " 'South   Carolina',\n",
    " 'West Virginia']"
   ]
  },
  {
   "cell_type": "code",
   "execution_count": 8,
   "metadata": {
    "colab": {
     "base_uri": "https://localhost:8080/"
    },
    "executionInfo": {
     "elapsed": 277,
     "status": "ok",
     "timestamp": 1679568151124,
     "user": {
      "displayName": "kevin park",
      "userId": "02703084888761299921"
     },
     "user_tz": -540
    },
    "id": "hps-rIqfE8wV",
    "outputId": "b1d8f544-79b5-4965-86a9-7ffedc81517a"
   },
   "outputs": [
    {
     "data": {
      "text/plain": [
       "['Alabama',\n",
       " 'Georgia',\n",
       " 'Georgia',\n",
       " 'Georgia',\n",
       " 'Florida',\n",
       " 'South   Carolina',\n",
       " 'West Virginia']"
      ]
     },
     "execution_count": 8,
     "metadata": {},
     "output_type": "execute_result"
    }
   ],
   "source": [
    "# A.\n",
    "# strip() 함수를 사용하면 주어진 문자열에서 양쪽 끝에 있는 공백과 \\n 기호를 삭제\n",
    "# re.sub() 정규표현식 문자열 치환\n",
    "# title() 함수 첫글자를 대문자로 변환\n",
    "import re\n",
    "\n",
    "states = ['   Alabama ', 'Georgia!', 'Georgia', 'georgia', 'FlOrIda',\n",
    "          'south   carolina##', 'West virginia?']\n",
    "def clean_strings(strings):\n",
    "    result = []\n",
    "    for value in strings:\n",
    "        value = value.strip()\n",
    "        value = re.sub('[!#?]', '', value)\n",
    "        value = value.title()\n",
    "        result.append(value)\n",
    "    return result\n",
    "clean_strings(states)"
   ]
  }
 ],
 "metadata": {
  "colab": {
   "provenance": []
  },
  "kernelspec": {
   "display_name": "Python 3 (ipykernel)",
   "language": "python",
   "name": "python3"
  },
  "language_info": {
   "codemirror_mode": {
    "name": "ipython",
    "version": 3
   },
   "file_extension": ".py",
   "mimetype": "text/x-python",
   "name": "python",
   "nbconvert_exporter": "python",
   "pygments_lexer": "ipython3",
   "version": "3.9.13"
  }
 },
 "nbformat": 4,
 "nbformat_minor": 1
}
