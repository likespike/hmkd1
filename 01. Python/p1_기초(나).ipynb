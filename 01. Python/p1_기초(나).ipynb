{
 "cells": [
  {
   "cell_type": "markdown",
   "id": "ea9b1656",
   "metadata": {},
   "source": [
    "## 파이썬 기초"
   ]
  },
  {
   "cell_type": "markdown",
   "id": "8dc0025a",
   "metadata": {},
   "source": [
    "#### 파이썬 이란\n",
    "- 1990년 암스테르담의 귀도 반 로섬(Guido Van Rossum)이 개발한 인터프리터 언어\n",
    "- 컴퓨터 프로그래밍 교육을 위해 많이 사용하지만, 기업의 실무를 위해서도 많이 사용하는 언어. 구글에서 만든 소프트웨어의 50%이상이 파이썬으로 작성\n",
    "\n",
    "#### 파이썬의 특징\n",
    "- 파이썬은 인간다운 언어이다\n",
    "- 파이썬은 문법이 쉬워 빠르게 배울 수 있다\n",
    "- 파이썬은 무료이지만 강력하다\n",
    "- 파이썬은 간결하다\n",
    "- 파이썬은 프로그래밍을 즐기게 해준다\n",
    "- 파이썬은 개발 속도가 빠르다\n",
    "\n",
    "#### 파이썬으로 할 수 있는 일\n",
    "- 시스템 유틸리티 제작\n",
    "- GUI 프로그래밍\n",
    "- C/C++와의 결합\n",
    "- 웹 프로그래밍\n",
    "- 수치 연산 프로그래밍\n",
    "- 데이터베이스 프로그래밍\n",
    "- 데이터 분석, 사물 인터넷\n",
    "\n",
    "#### 참조\n",
    "- 표현식 : 어떠한 값을 만들어 내는 간단한 코드. 273, 10 + 20 + 30, \"Python Programming\"\n",
    "- 문장 : 표현식이 하나 이상 모이면 문장. print(\"Hello\")\n",
    "- 프로그램 : 문장이 모여서 프로그램\n",
    "- 식별자 : 프로그램밍 언어에서 이름을 붙일 때 사용하는 단어. 주로 변수 또는 함수 이름 등으로 사용\n",
    "- 주석 : 프로그램을 설명하기 위해 사용. # 기호로 주석 처리\n",
    "- 연산자 : 스스로 값이 되는 것이 아니고 값과 값 사이에 무언가 기능을 적용할 때 사용\n",
    "- 자료 : 리터럴이라고 하는데 숫자이든 문자이든 어떠한 값 자체를 의미. 1, 10, \"Hello\"\n",
    "- 키워드 : 파이썬이 만들어질 때 이미 사용하겠다고 예약해 놓는 것. False, None, True, ...\n",
    "- 프로그램밍 언어에서 사용자가 이름을 정할 때 키워드는 사용할 수 없음"
   ]
  },
  {
   "cell_type": "code",
   "execution_count": 24,
   "id": "271db747",
   "metadata": {},
   "outputs": [
    {
     "name": "stdout",
     "output_type": "stream",
     "text": [
      "Python 3.9.13\n"
     ]
    }
   ],
   "source": [
    "!python -V"
   ]
  },
  {
   "cell_type": "code",
   "execution_count": 1,
   "id": "0c17d5cb",
   "metadata": {},
   "outputs": [
    {
     "name": "stdout",
     "output_type": "stream",
     "text": [
      "273\n"
     ]
    },
    {
     "data": {
      "text/plain": [
       "60"
      ]
     },
     "execution_count": 1,
     "metadata": {},
     "output_type": "execute_result"
    }
   ],
   "source": [
    "#표현식\n",
    "print(273)\n",
    "10+20+30"
   ]
  },
  {
   "cell_type": "code",
   "execution_count": 2,
   "id": "60876f6b",
   "metadata": {
    "scrolled": false
   },
   "outputs": [
    {
     "name": "stdout",
     "output_type": "stream",
     "text": [
      "hello python\n",
      "52 hello python 8\n"
     ]
    }
   ],
   "source": [
    "# 표현식이 하나 이상씩 모이면 문장\n",
    "print(\"hello python\")\n",
    "print(52, 'hello python', 5+3)"
   ]
  },
  {
   "cell_type": "code",
   "execution_count": 8,
   "id": "fcbb7037",
   "metadata": {},
   "outputs": [
    {
     "name": "stdout",
     "output_type": "stream",
     "text": [
      "2\n"
     ]
    }
   ],
   "source": [
    "# 문장이 모여서 프로그램\n",
    "a = 1;b = 1;c=a+b\n",
    "print(c)"
   ]
  },
  {
   "cell_type": "code",
   "execution_count": null,
   "id": "c6de4328",
   "metadata": {},
   "outputs": [],
   "source": []
  },
  {
   "cell_type": "code",
   "execution_count": 9,
   "id": "00d75a73",
   "metadata": {},
   "outputs": [
    {
     "name": "stdout",
     "output_type": "stream",
     "text": [
      "['False', 'None', 'True', '__peg_parser__', 'and', 'as', 'assert', 'async', 'await', 'break', 'class', 'continue', 'def', 'del', 'elif', 'else', 'except', 'finally', 'for', 'from', 'global', 'if', 'import', 'in', 'is', 'lambda', 'nonlocal', 'not', 'or', 'pass', 'raise', 'return', 'try', 'while', 'with', 'yield']\n",
      "36\n"
     ]
    }
   ],
   "source": [
    "import keyword\n",
    "print(keyword.kwlist)\n",
    "print(len(keyword.kwlist))"
   ]
  },
  {
   "cell_type": "code",
   "execution_count": 51,
   "id": "ec9da9c1",
   "metadata": {},
   "outputs": [
    {
     "name": "stdout",
     "output_type": "stream",
     "text": [
      "['False', 'None', 'True', '__peg_parser__', 'and', 'as', 'assert', 'async', 'await', 'break', 'class', 'continue', 'def', 'del', 'elif', 'else', 'except', 'finally', 'for', 'from', 'global', 'if', 'import', 'in', 'is', 'lambda', 'nonlocal', 'not', 'or', 'pass', 'raise', 'return', 'try', 'while', 'with', 'yield'] \n",
      "\n",
      "36\n"
     ]
    }
   ],
   "source": [
    "# python keyword\n",
    "import keyword\n",
    "print(keyword.kwlist,'\\n')\n",
    "print(len(keyword.kwlist))"
   ]
  },
  {
   "cell_type": "markdown",
   "id": "01f8efc6",
   "metadata": {},
   "source": [
    "식별자 기본 규칙 : 식별자는 코드 내의 변수, 함수 혹은 속성을 식별하는 문자열\n",
    "\n",
    " - 키워드를 사용하면 안된다.\n",
    " - 특수문자는 언더 바 (_) 만 사용한다.\n",
    " - 숫자로 시작하면 안된다.\n",
    " - 공백을 포함할 수 없다.\n",
    " "
   ]
  },
  {
   "cell_type": "markdown",
   "id": "a6907e05",
   "metadata": {},
   "source": [
    "https://bibi6666667.tistory.com/277\n",
    "파이썬은 snake_case와 CamelCase를 모두 사용\n",
    "\n",
    "  - itemlist item_list ltemList\n",
    "  - loginstatus login_status LoginStatus\n",
    "  - 캐멀 케이스(대문자로 시작)클래스\n",
    "  - 스네이크 케이스(소문자로 시작) 뒤에 ()가 있다 - 함수\n",
    "  - 스네이크 케이스(소문자로 시작) 뒤에 ()가 없다 - 변수"
   ]
  },
  {
   "cell_type": "code",
   "execution_count": 77,
   "id": "1b0802be",
   "metadata": {},
   "outputs": [
    {
     "name": "stdout",
     "output_type": "stream",
     "text": [
      "3이 있습니다. \n"
     ]
    }
   ],
   "source": [
    "# 사람이 생각하는 방식을 그대로 표현할 수 있는 언어\n",
    "\n",
    "if 3 in [1,2,3,4]: print('3이 있습니다. ')"
   ]
  },
  {
   "cell_type": "code",
   "execution_count": 84,
   "id": "80e24f3b",
   "metadata": {},
   "outputs": [
    {
     "name": "stdout",
     "output_type": "stream",
     "text": [
      "3이 있습니다.\n"
     ]
    }
   ],
   "source": [
    "print(\"3이 있습니다.\")"
   ]
  },
  {
   "cell_type": "code",
   "execution_count": 88,
   "id": "4187fdbb",
   "metadata": {},
   "outputs": [
    {
     "name": "stdout",
     "output_type": "stream",
     "text": [
      "5\n",
      "10\n",
      "15\n",
      "50\n",
      "0.5\n",
      "5\n",
      "0\n",
      "8\n"
     ]
    }
   ],
   "source": [
    "# 사칙연산\n",
    "a = 5\n",
    "b = 10\n",
    "c = a + b\n",
    "d = a * b\n",
    "e = a / b\n",
    "f = a % b # 나머지\n",
    "g = a // b # 몫\n",
    "h = 2 ** 3 # 제곱\n",
    "print(a)\n",
    "print(b)\n",
    "print(c)\n",
    "print(d)\n",
    "print(e)\n",
    "print(f)\n",
    "print(g)\n",
    "print(h)"
   ]
  },
  {
   "cell_type": "code",
   "execution_count": 90,
   "id": "56389d5a",
   "metadata": {},
   "outputs": [
    {
     "ename": "TypeError",
     "evalue": "can only concatenate str (not \"int\") to str",
     "output_type": "error",
     "traceback": [
      "\u001b[1;31m---------------------------------------------------------------------------\u001b[0m",
      "\u001b[1;31mTypeError\u001b[0m                                 Traceback (most recent call last)",
      "\u001b[1;32m~\\AppData\\Local\\Temp\\ipykernel_688\\1709360021.py\u001b[0m in \u001b[0;36m<module>\u001b[1;34m\u001b[0m\n\u001b[0;32m      2\u001b[0m \u001b[0mstring\u001b[0m \u001b[1;33m=\u001b[0m \u001b[1;34m\"문자열\"\u001b[0m\u001b[1;33m\u001b[0m\u001b[1;33m\u001b[0m\u001b[0m\n\u001b[0;32m      3\u001b[0m \u001b[0mnumber\u001b[0m \u001b[1;33m=\u001b[0m \u001b[1;36m273\u001b[0m\u001b[1;33m\u001b[0m\u001b[1;33m\u001b[0m\u001b[0m\n\u001b[1;32m----> 4\u001b[1;33m \u001b[0mstring\u001b[0m \u001b[1;33m+\u001b[0m \u001b[0mnumber\u001b[0m\u001b[1;33m\u001b[0m\u001b[1;33m\u001b[0m\u001b[0m\n\u001b[0m",
      "\u001b[1;31mTypeError\u001b[0m: can only concatenate str (not \"int\") to str"
     ]
    }
   ],
   "source": [
    "# 다른 타입간 연산은 안됨\n",
    "string = \"문자열\"\n",
    "number = 273\n",
    "string + number"
   ]
  },
  {
   "cell_type": "code",
   "execution_count": 13,
   "id": "dc8d5241",
   "metadata": {},
   "outputs": [
    {
     "ename": "NameError",
     "evalue": "name 'string' is not defined",
     "output_type": "error",
     "traceback": [
      "\u001b[1;31m---------------------------------------------------------------------------\u001b[0m",
      "\u001b[1;31mNameError\u001b[0m                                 Traceback (most recent call last)",
      "\u001b[1;32m~\\AppData\\Local\\Temp\\ipykernel_2828\\3330997223.py\u001b[0m in \u001b[0;36m<module>\u001b[1;34m\u001b[0m\n\u001b[0;32m      1\u001b[0m \u001b[0ma\u001b[0m\u001b[1;33m=\u001b[0m\u001b[1;36m1\u001b[0m\u001b[1;33m\u001b[0m\u001b[1;33m\u001b[0m\u001b[0m\n\u001b[0;32m      2\u001b[0m \u001b[1;33m\u001b[0m\u001b[0m\n\u001b[1;32m----> 3\u001b[1;33m \u001b[0mprint\u001b[0m\u001b[1;33m(\u001b[0m\u001b[0mtype\u001b[0m\u001b[1;33m(\u001b[0m\u001b[0mstring\u001b[0m\u001b[1;33m)\u001b[0m\u001b[1;33m)\u001b[0m\u001b[1;33m\u001b[0m\u001b[1;33m\u001b[0m\u001b[0m\n\u001b[0m\u001b[0;32m      4\u001b[0m \u001b[0mtype\u001b[0m\u001b[1;33m(\u001b[0m\u001b[0mnumber\u001b[0m\u001b[1;33m)\u001b[0m\u001b[1;33m\u001b[0m\u001b[1;33m\u001b[0m\u001b[0m\n",
      "\u001b[1;31mNameError\u001b[0m: name 'string' is not defined"
     ]
    }
   ],
   "source": [
    "print(type(string))\n",
    "type(number)"
   ]
  },
  {
   "cell_type": "code",
   "execution_count": 11,
   "id": "5fa05094",
   "metadata": {},
   "outputs": [
    {
     "name": "stdout",
     "output_type": "stream",
     "text": [
      "100\n"
     ]
    },
    {
     "data": {
      "text/plain": [
       "int"
      ]
     },
     "execution_count": 11,
     "metadata": {},
     "output_type": "execute_result"
    }
   ],
   "source": [
    "a = 10 \n",
    "a = \"문자\"\n",
    "a = 100\n",
    "print (a)\n",
    "type (a)"
   ]
  },
  {
   "cell_type": "code",
   "execution_count": 14,
   "id": "8fc1332f",
   "metadata": {},
   "outputs": [
    {
     "data": {
      "text/plain": [
       "200"
      ]
     },
     "execution_count": 14,
     "metadata": {},
     "output_type": "execute_result"
    }
   ],
   "source": [
    "# 복합 대입 연산자\n",
    "num = 10\n",
    "num += 10\n",
    "num *= 10\n",
    "num"
   ]
  },
  {
   "cell_type": "code",
   "execution_count": 16,
   "id": "4d0dd1ad",
   "metadata": {},
   "outputs": [
    {
     "name": "stdout",
     "output_type": "stream",
     "text": [
      "1.0\n",
      "<class 'float'>\n"
     ]
    },
    {
     "data": {
      "text/plain": [
       "float"
      ]
     },
     "execution_count": 16,
     "metadata": {},
     "output_type": "execute_result"
    }
   ],
   "source": [
    "num = 100\n",
    "num *= 10\n",
    "num -= 990\n",
    "num /= 10\n",
    "print (num)\n",
    "print (type(num))\n",
    "type(num)"
   ]
  },
  {
   "cell_type": "code",
   "execution_count": 101,
   "id": "06845f7d",
   "metadata": {},
   "outputs": [
    {
     "data": {
      "text/plain": [
       "'나는 파이썬을 좋아한다'"
      ]
     },
     "execution_count": 101,
     "metadata": {},
     "output_type": "execute_result"
    }
   ],
   "source": [
    "a = \"나는\"\n",
    "b = \" 파이썬을\"\n",
    "c = \" 좋아한다\"\n",
    "a+b+c"
   ]
  },
  {
   "cell_type": "code",
   "execution_count": 105,
   "id": "4bd64247",
   "metadata": {},
   "outputs": [
    {
     "data": {
      "text/plain": [
       "'파이썬3.8'"
      ]
     },
     "execution_count": 105,
     "metadata": {},
     "output_type": "execute_result"
    }
   ],
   "source": [
    "a = \"파이썬\"\n",
    "b = \"3.8\"\n",
    "a+b"
   ]
  },
  {
   "cell_type": "code",
   "execution_count": 17,
   "id": "d4b999e9",
   "metadata": {},
   "outputs": [
    {
     "name": "stdout",
     "output_type": "stream",
     "text": [
      "인사말을 입력하세요: 안녕하세요\n"
     ]
    },
    {
     "data": {
      "text/plain": [
       "'안녕하세요'"
      ]
     },
     "execution_count": 17,
     "metadata": {},
     "output_type": "execute_result"
    }
   ],
   "source": [
    "# 사용자 입력\n",
    "input('인사말을 입력하세요: ')"
   ]
  },
  {
   "cell_type": "code",
   "execution_count": 20,
   "id": "9c9c5731",
   "metadata": {},
   "outputs": [
    {
     "name": "stdout",
     "output_type": "stream",
     "text": [
      "숫자를 입력하세요: 2\n",
      "2\n"
     ]
    },
    {
     "data": {
      "text/plain": [
       "str"
      ]
     },
     "execution_count": 20,
     "metadata": {},
     "output_type": "execute_result"
    }
   ],
   "source": [
    "num = input('숫자를 입력하세요: ')\n",
    "print(num)\n",
    "type(num)"
   ]
  },
  {
   "cell_type": "code",
   "execution_count": 3,
   "id": "f687d0c3",
   "metadata": {},
   "outputs": [
    {
     "name": "stdout",
     "output_type": "stream",
     "text": [
      "숫자를 입력하세요5\n",
      "숫자를 입력하세요5\n",
      "10\n"
     ]
    }
   ],
   "source": [
    "# input() 함수를 사용하면 숫자도 문자로 전환되어 숫자연산을 위한 변환 필요\n",
    "num1 = input('숫자를 입력하세요')\n",
    "num1_n = int(num1)\n",
    "num2 = input('숫자를 입력하세요')\n",
    "num2_n = int(num2)\n",
    "print(num1_n + num2_n)"
   ]
  },
  {
   "cell_type": "code",
   "execution_count": 23,
   "id": "8d977916",
   "metadata": {},
   "outputs": [
    {
     "name": "stdout",
     "output_type": "stream",
     "text": [
      "숫자를 입력하세요1\n",
      "숫자를 입력하세요1\n",
      "2\n"
     ]
    }
   ],
   "source": [
    "# Q. 3과 3.3을 입력하고 숫자 연산을 수행하여 6.3을 출력해주세요.\n",
    "\n",
    "num1 = input('숫자를 입력하세요')\n",
    "num1_n = int(num1)\n",
    "num2 = input('숫자를 입력하세요')\n",
    "num2_n = int(num2)\n",
    "print(num1_n+num2_n)"
   ]
  },
  {
   "cell_type": "code",
   "execution_count": 3,
   "id": "841679f1",
   "metadata": {},
   "outputs": [
    {
     "name": "stdout",
     "output_type": "stream",
     "text": [
      "숫자를 입력하세요3\n",
      "숫자를 입력하세요3.3\n",
      "6.3\n"
     ]
    }
   ],
   "source": [
    "# A.\n",
    "num1 = input('숫자를 입력하세요')\n",
    "num1_n = int(num1)\n",
    "num2 = input('숫자를 입력하세요')\n",
    "num2_n = float(num2)\n",
    "print(num1_n + num2_n)\n",
    "# print(num1_n + num2_n)"
   ]
  },
  {
   "cell_type": "code",
   "execution_count": 4,
   "id": "74195bca",
   "metadata": {},
   "outputs": [],
   "source": [
    "# Q. a = 52와 b = 52.273일 때 a+b는 5252.273으로 출력되도록 a와 b를 문자열\n",
    "# 자료형으로 변환하세요."
   ]
  },
  {
   "cell_type": "code",
   "execution_count": 10,
   "id": "dc038837",
   "metadata": {},
   "outputs": [
    {
     "name": "stdout",
     "output_type": "stream",
     "text": [
      "5252.273\n"
     ]
    }
   ],
   "source": [
    "# A.\n",
    "a = 52\n",
    "b = 52.273\n",
    "print(str(a) + str(b))"
   ]
  },
  {
   "cell_type": "code",
   "execution_count": 20,
   "id": "982f1c22",
   "metadata": {},
   "outputs": [
    {
     "name": "stdout",
     "output_type": "stream",
     "text": [
      "python's value is greart\n"
     ]
    }
   ],
   "source": [
    "# 문자열 : \"\", '', \"\"\" \"\"\", ''' '''\n",
    "p1 = \"python's value is greart\"\n",
    "# p2 = 'python's value is great'\n",
    "print(p1)"
   ]
  },
  {
   "cell_type": "code",
   "execution_count": 14,
   "id": "9c72c0b0",
   "metadata": {},
   "outputs": [
    {
     "data": {
      "text/plain": [
       "'\"python is value\"he says'"
      ]
     },
     "execution_count": 14,
     "metadata": {},
     "output_type": "execute_result"
    }
   ],
   "source": [
    "s1 = '\"python is value\"he says'\n",
    "s1"
   ]
  },
  {
   "cell_type": "code",
   "execution_count": 18,
   "id": "83116bf0",
   "metadata": {},
   "outputs": [
    {
     "data": {
      "text/plain": [
       "\"python's value is great\""
      ]
     },
     "execution_count": 18,
     "metadata": {},
     "output_type": "execute_result"
    }
   ],
   "source": [
    "s2 = 'python\\'s value is great'\n",
    "s2"
   ]
  },
  {
   "cell_type": "code",
   "execution_count": 24,
   "id": "b0dfe30e",
   "metadata": {},
   "outputs": [
    {
     "name": "stdout",
     "output_type": "stream",
     "text": [
      "Once you study data analysis\n",
      "you need python\n",
      "Once you study data analysis\n",
      "you need python\n",
      "Once you study data analysis \n",
      "you need python\n"
     ]
    }
   ],
   "source": [
    "y1 = \"Once you study data analysis\\nyou need python\"\n",
    "print(y1)\n",
    "y2 = '''Once you study data analysis\n",
    "you need python'''\n",
    "print(y2)\n",
    "y3 = \"\"\"Once you study data analysis \n",
    "you need python\"\"\"\n",
    "print(y3)"
   ]
  },
  {
   "cell_type": "code",
   "execution_count": 28,
   "id": "c19e895f",
   "metadata": {},
   "outputs": [
    {
     "name": "stdout",
     "output_type": "stream",
     "text": [
      "python is easy to learn\n",
      "pythonpythonpython\n",
      "====================\n"
     ]
    }
   ],
   "source": [
    "# 문자열 연산\n",
    "a1 = 'python'\n",
    "a2 = ' is easy to learn'\n",
    "print(a1 + a2)\n",
    "print(a1 * 3)\n",
    "print(\"=\" * 20)"
   ]
  },
  {
   "cell_type": "code",
   "execution_count": 48,
   "id": "be8b0427",
   "metadata": {},
   "outputs": [
    {
     "name": "stdout",
     "output_type": "stream",
     "text": [
      "[1, 'a', 'abc', [1, 2, 3, 4, 5], ['a', 'b', 'c']]\n"
     ]
    }
   ],
   "source": [
    "# 자료형 - List\n",
    "# 리스트는 [] 로 표시하며 []안의 요소를 구분하여 순서있게 나열\n",
    "list1=[1,2,3,4,5]\n",
    "list2=['a','b', 'c']\n",
    "list3=[1,'a', 'abc',[1,2,3,4,5],['a','b','c'] ]\n",
    "print(list3)"
   ]
  },
  {
   "cell_type": "code",
   "execution_count": 45,
   "id": "92d5a6dc",
   "metadata": {},
   "outputs": [
    {
     "ename": "NameError",
     "evalue": "name 'l1' is not defined",
     "output_type": "error",
     "traceback": [
      "\u001b[1;31m---------------------------------------------------------------------------\u001b[0m",
      "\u001b[1;31mNameError\u001b[0m                                 Traceback (most recent call last)",
      "\u001b[1;32m~\\AppData\\Local\\Temp\\ipykernel_10204\\3533189069.py\u001b[0m in \u001b[0;36m<module>\u001b[1;34m\u001b[0m\n\u001b[0;32m      1\u001b[0m \u001b[0ml\u001b[0m\u001b[1;33m=\u001b[0m\u001b[1;33m[\u001b[0m\u001b[1;36m1\u001b[0m\u001b[1;33m,\u001b[0m\u001b[1;36m2\u001b[0m\u001b[1;33m,\u001b[0m\u001b[1;36m3\u001b[0m\u001b[1;33m,\u001b[0m\u001b[1;36m4\u001b[0m\u001b[1;33m,\u001b[0m\u001b[1;36m5\u001b[0m\u001b[1;33m]\u001b[0m\u001b[1;33m\u001b[0m\u001b[1;33m\u001b[0m\u001b[0m\n\u001b[1;32m----> 2\u001b[1;33m \u001b[0ml1\u001b[0m\u001b[1;33m[\u001b[0m\u001b[1;36m1\u001b[0m\u001b[1;33m]\u001b[0m\u001b[1;33m\u001b[0m\u001b[1;33m\u001b[0m\u001b[0m\n\u001b[0m",
      "\u001b[1;31mNameError\u001b[0m: name 'l1' is not defined"
     ]
    }
   ],
   "source": [
    "l=[1,2,3,4,5]\n",
    "l1[1]"
   ]
  },
  {
   "cell_type": "code",
   "execution_count": 36,
   "id": "2f8dd73d",
   "metadata": {},
   "outputs": [
    {
     "data": {
      "text/plain": [
       "'b'"
      ]
     },
     "execution_count": 36,
     "metadata": {},
     "output_type": "execute_result"
    }
   ],
   "source": [
    "# 인덱싱 : 0부터 시작\n",
    "list1=[1,2,3,4,5]\n",
    "list3[:]\n",
    "list3[2]\n",
    "list3[3][4]\n",
    "list3[4][1]\n"
   ]
  },
  {
   "cell_type": "code",
   "execution_count": 51,
   "id": "80266374",
   "metadata": {},
   "outputs": [
    {
     "name": "stdout",
     "output_type": "stream",
     "text": [
      "[1, 1, 2, 3, 4, 5, 6, 7, 8, 9]\n",
      "['a', 'a', 'c']\n",
      "['a', 'c']\n"
     ]
    }
   ],
   "source": [
    "# 리스트 수정, 삭제\n",
    "\n",
    "a=[0,1,2,3,4,5,6,7,8,9]\n",
    "b=['a','b','c']\n",
    "a[0]=1\n",
    "b[1]='a'\n",
    "print(a)\n",
    "print(b)\n",
    "del b[1]\n",
    "print(b)"
   ]
  },
  {
   "cell_type": "code",
   "execution_count": 53,
   "id": "bdcec8cc",
   "metadata": {},
   "outputs": [
    {
     "name": "stdout",
     "output_type": "stream",
     "text": [
      "[0, 1, 2, 3, 4, 5, 6, 7, 8, 9, 'a', 'b', 'c']\n"
     ]
    },
    {
     "data": {
      "text/plain": [
       "[0, 1, 2, 3, 4, 5, 6, 7, 8, 9, 'a', 'b', 1]"
      ]
     },
     "execution_count": 53,
     "metadata": {},
     "output_type": "execute_result"
    }
   ],
   "source": [
    "a=[0,1,2,3,4,5,6,7,8,9]\n",
    "b=['a','b','c']\n",
    "c=a+b\n",
    "print(c)\n",
    "c[-1]=1\n",
    "c"
   ]
  },
  {
   "cell_type": "code",
   "execution_count": 55,
   "id": "f36a9972",
   "metadata": {},
   "outputs": [
    {
     "data": {
      "text/plain": [
       "[0, 1, 2, 3, 4, 5, 6, 7, 8, 9, 'a', 2, 1]"
      ]
     },
     "execution_count": 55,
     "metadata": {},
     "output_type": "execute_result"
    }
   ],
   "source": [
    "c[-2]=2\n",
    "c"
   ]
  },
  {
   "cell_type": "code",
   "execution_count": 81,
   "id": "db6a523c",
   "metadata": {},
   "outputs": [
    {
     "name": "stdout",
     "output_type": "stream",
     "text": [
      "[1, 2, 3, 4]\n",
      "[4, 3, 2, 1]\n",
      "[4, 3, 2, 1]\n"
     ]
    }
   ],
   "source": [
    "# 정렬\n",
    "b= [2,4,3,1]\n",
    "\n",
    "b. sort()\n",
    "print(b)\n",
    "# 내림차순\n",
    "b_d = sorted(b, reverse=True)\n",
    "print(b_d)\n",
    "b.reverse()\n",
    "print(b)"
   ]
  },
  {
   "cell_type": "code",
   "execution_count": 83,
   "id": "c45c9c61",
   "metadata": {},
   "outputs": [
    {
     "name": "stdout",
     "output_type": "stream",
     "text": [
      "[1, 1, 1, 2, 2, 3, 4, 5, 6, 7, 8, 9]\n",
      "[9, 8, 7, 6, 5, 4, 3, 2, 2, 1, 1, 1]\n",
      "[9, 8, 7, 6, 5, 4, 3, 2, 2, 1, 1, 1]\n"
     ]
    }
   ],
   "source": [
    "# 정렬, 내림차순으로 변환\n",
    "s=[1,1,2,3,4,5,6,7,8,9,2,1]\n",
    "\n",
    "s.sort()\n",
    "print(s)\n",
    "s_d= sorted(s, reverse=True)\n",
    "print(s_d)\n",
    "s.reverse()\n",
    "print(s)"
   ]
  },
  {
   "cell_type": "code",
   "execution_count": 85,
   "id": "c6520a08",
   "metadata": {},
   "outputs": [
    {
     "name": "stdout",
     "output_type": "stream",
     "text": [
      "2\n"
     ]
    }
   ],
   "source": [
    "# 인덱스 위치 반환\n",
    "c=[1,2,3,1,5]\n",
    "print(c.index(3))"
   ]
  },
  {
   "cell_type": "code",
   "execution_count": 215,
   "id": "e504bb58",
   "metadata": {},
   "outputs": [
    {
     "data": {
      "text/plain": [
       "array([44, 42,  4, 21, 34, 30])"
      ]
     },
     "execution_count": 215,
     "metadata": {},
     "output_type": "execute_result"
    }
   ],
   "source": [
    "import numpy as np\n",
    "np. random.randint(45, size=6) # 0~4 사이에서 무작위로 100개의 정수를 배열로 출력"
   ]
  },
  {
   "cell_type": "code",
   "execution_count": 192,
   "id": "cf5e8731",
   "metadata": {},
   "outputs": [
    {
     "name": "stdout",
     "output_type": "stream",
     "text": [
      "[82, 88, 48, 47, 34, 30, 87, 64, 30, 69, 57, 8, 83, 60, 11, 29, 72, 0, 3, 76, 17, 94, 99, 39, 91, 44, 99, 72, 57, 87, 65, 6, 80, 12, 16, 7, 75, 83, 85, 2, 41, 88, 72, 60, 19, 54, 14, 26, 3, 46, 78, 29, 97, 13, 7, 92, 93, 49, 80, 32, 64, 24, 43, 91, 58, 16, 71, 38, 77, 51, 63, 25, 61, 92, 15, 38, 76, 16, 85, 74, 11, 53, 32, 24, 27, 90, 97, 28, 72, 59, 61, 42, 14, 2, 19, 10, 28, 98, 56, 62]\n",
      "100\n"
     ]
    },
    {
     "ename": "ValueError",
     "evalue": "1 is not in list",
     "output_type": "error",
     "traceback": [
      "\u001b[1;31m---------------------------------------------------------------------------\u001b[0m",
      "\u001b[1;31mValueError\u001b[0m                                Traceback (most recent call last)",
      "\u001b[1;32m~\\AppData\\Local\\Temp\\ipykernel_10204\\2534519481.py\u001b[0m in \u001b[0;36m<module>\u001b[1;34m\u001b[0m\n\u001b[0;32m      4\u001b[0m \u001b[0mprint\u001b[0m\u001b[1;33m(\u001b[0m\u001b[0mc\u001b[0m\u001b[1;33m)\u001b[0m\u001b[1;33m\u001b[0m\u001b[1;33m\u001b[0m\u001b[0m\n\u001b[0;32m      5\u001b[0m \u001b[0mprint\u001b[0m\u001b[1;33m(\u001b[0m\u001b[0mlen\u001b[0m\u001b[1;33m(\u001b[0m\u001b[0mc\u001b[0m\u001b[1;33m)\u001b[0m\u001b[1;33m)\u001b[0m\u001b[1;33m\u001b[0m\u001b[1;33m\u001b[0m\u001b[0m\n\u001b[1;32m----> 6\u001b[1;33m \u001b[0mc\u001b[0m\u001b[1;33m.\u001b[0m\u001b[0mindex\u001b[0m\u001b[1;33m(\u001b[0m\u001b[1;36m1\u001b[0m\u001b[1;33m)\u001b[0m \u001b[1;31m# 1의 인덱스\u001b[0m\u001b[1;33m\u001b[0m\u001b[1;33m\u001b[0m\u001b[0m\n\u001b[0m",
      "\u001b[1;31mValueError\u001b[0m: 1 is not in list"
     ]
    }
   ],
   "source": [
    "# tolist() 리스트로 변환\n",
    "import numpy as np\n",
    "c=np.random.randint(100, size=100).tolist()\n",
    "print(c)\n",
    "print(len(c))\n",
    "c.index(1) # 1의 인덱스"
   ]
  },
  {
   "cell_type": "code",
   "execution_count": 217,
   "id": "8b1471e6",
   "metadata": {},
   "outputs": [
    {
     "name": "stdout",
     "output_type": "stream",
     "text": [
      "2\n"
     ]
    }
   ],
   "source": [
    "# 개수 반환\n",
    "c=[1,1,3,3,3,5,5]\n",
    "print(c. count(5))\n"
   ]
  },
  {
   "cell_type": "code",
   "execution_count": 220,
   "id": "618100e0",
   "metadata": {},
   "outputs": [
    {
     "name": "stdout",
     "output_type": "stream",
     "text": [
      "[1, 2, 3, 4, 5]\n",
      "[1, 2, 3, 4, 5, 6]\n",
      "[5, 1, 2, 3, 4, 5, 6]\n",
      "[5, 1, 2, 3, 4, 5, 6, 7]\n"
     ]
    },
    {
     "data": {
      "text/plain": [
       "8"
      ]
     },
     "execution_count": 220,
     "metadata": {},
     "output_type": "execute_result"
    }
   ],
   "source": [
    "# 리스트 확장\n",
    "h=[1,2,3]\n",
    "h.extend([4,5])\n",
    "print(h)\n",
    "# 추가\n",
    "h.append(6)\n",
    "print(h)\n",
    "h.insert(0,5)\n",
    "print(h)\n",
    "h.insert(10,7)\n",
    "print(h)\n",
    "len(h)"
   ]
  },
  {
   "cell_type": "code",
   "execution_count": 241,
   "id": "a1018493",
   "metadata": {},
   "outputs": [
    {
     "ename": "SyntaxError",
     "evalue": "invalid syntax (3441865001.py, line 3)",
     "output_type": "error",
     "traceback": [
      "\u001b[1;36m  File \u001b[1;32m\"C:\\Users\\h\\AppData\\Local\\Temp\\ipykernel_10204\\3441865001.py\"\u001b[1;36m, line \u001b[1;32m3\u001b[0m\n\u001b[1;33m    print(list.[0:2])\u001b[0m\n\u001b[1;37m               ^\u001b[0m\n\u001b[1;31mSyntaxError\u001b[0m\u001b[1;31m:\u001b[0m invalid syntax\n"
     ]
    }
   ],
   "source": [
    "# Q. list = [0,1,2,3,4,5,6,7,8,9]에서 아래와 같이 출력하세요\n",
    "list=[0,1,2,3,4,5,6,7,8,9]\n",
    "print(list.[0:2])\n",
    "#[0,2,4,6,8]\n",
    "#[1,3,5,7,9]\n",
    "#[2,1,0]"
   ]
  },
  {
   "cell_type": "code",
   "execution_count": 245,
   "id": "b386b97a",
   "metadata": {},
   "outputs": [
    {
     "name": "stdout",
     "output_type": "stream",
     "text": [
      "[0, 2, 4, 6, 8]\n",
      "[1, 3, 5, 7, 9]\n",
      "[2, 1, 0]\n"
     ]
    }
   ],
   "source": [
    "list=[0,1,2,3,4,5,6,7,8,9]\n",
    "print(list[0::2])\n",
    "print(list[1::2])\n",
    "list = sorted(list,reverse=True)\n",
    "print(list[7:])"
   ]
  },
  {
   "cell_type": "code",
   "execution_count": 247,
   "id": "7dd2d1b1",
   "metadata": {},
   "outputs": [
    {
     "data": {
      "text/plain": [
       "[0, 2, 4, 6, 8]"
      ]
     },
     "execution_count": 247,
     "metadata": {},
     "output_type": "execute_result"
    }
   ],
   "source": [
    "list=[0,1,2,3,4,5,6,7,8,9]\n",
    "list[0::2]"
   ]
  },
  {
   "cell_type": "code",
   "execution_count": 256,
   "id": "5924e448",
   "metadata": {},
   "outputs": [
    {
     "name": "stdout",
     "output_type": "stream",
     "text": [
      "[0, 2, 4, 6, 8]\n",
      "[1, 3, 5, 7, 9]\n",
      "[2, 1, 0]\n"
     ]
    }
   ],
   "source": [
    "#Q.list=[0,1,2,3,4,5,6,7,8,9]에서 아래와 같이 출력하세요\n",
    "list = [0,1,2,3,4,5,6,7,8,9]\n",
    "#[0,2,4,6,8]\n",
    "#[1,3,5,7,9]\n",
    "#[2,1,0]\n",
    "\n",
    "print(list[0::2])\n",
    "print(list[1::2])\n",
    "print(list[2::-1])"
   ]
  },
  {
   "cell_type": "code",
   "execution_count": 259,
   "id": "47e3bde6",
   "metadata": {},
   "outputs": [
    {
     "data": {
      "text/plain": [
       "array([84,  0, 60, 76, 57, 29, 14, 21, 46, 12,  7, 51, 88, 41, 69, 92, 84,\n",
       "       35,  9, 35])"
      ]
     },
     "execution_count": 259,
     "metadata": {},
     "output_type": "execute_result"
    }
   ],
   "source": [
    "np.random.randint(100, size=20)"
   ]
  },
  {
   "cell_type": "code",
   "execution_count": 260,
   "id": "1aa1ea19",
   "metadata": {},
   "outputs": [
    {
     "ename": "SyntaxError",
     "evalue": "invalid syntax (3320008872.py, line 2)",
     "output_type": "error",
     "traceback": [
      "\u001b[1;36m  File \u001b[1;32m\"C:\\Users\\h\\AppData\\Local\\Temp\\ipykernel_10204\\3320008872.py\"\u001b[1;36m, line \u001b[1;32m2\u001b[0m\n\u001b[1;33m    - 33을 출력\u001b[0m\n\u001b[1;37m        ^\u001b[0m\n\u001b[1;31mSyntaxError\u001b[0m\u001b[1;31m:\u001b[0m invalid syntax\n"
     ]
    }
   ],
   "source": [
    "#[과제]list1에서 다음을 수행하세요\n",
    "- 33을 출력\n",
    "- 82를 리스트에 추가\n",
    "- 82의 갯수를 구하기\n",
    "- 87의 인덱스 구하기\n",
    "- 인덱스 3에서 10까지의 값을 출력하고 list2에 저장한 후 내림차순 정렬하기\n",
    "- 39를 11로 변경 \n",
    "- [69,45,58] 출력\n",
    "- 짝수 인덱스의 값으로 구성된 리스트 출력하기\n",
    "- 인덱스가 가장 큰수를 삭제하기\n",
    "- 인덱스 3, 5인 값으로 4칙 연산하기\n",
    "\n",
    "\n",
    "list1= [58,45,69,19,4,87,29,13,39,15,54,[8,33,11],27,49,63,98,22,82]"
   ]
  },
  {
   "cell_type": "code",
   "execution_count": 20,
   "id": "c1324961",
   "metadata": {},
   "outputs": [
    {
     "ename": "SyntaxError",
     "evalue": "cannot delete function call (1127046932.py, line 16)",
     "output_type": "error",
     "traceback": [
      "\u001b[1;36m  File \u001b[1;32m\"C:\\Users\\h\\AppData\\Local\\Temp\\ipykernel_10648\\1127046932.py\"\u001b[1;36m, line \u001b[1;32m16\u001b[0m\n\u001b[1;33m    del list1(-3)\u001b[0m\n\u001b[1;37m        ^\u001b[0m\n\u001b[1;31mSyntaxError\u001b[0m\u001b[1;31m:\u001b[0m cannot delete function call\n"
     ]
    }
   ],
   "source": [
    "list1= [58,45,69,19,4,87,29,13,39,15,54,[8,33,11],27,49,63,98,22,82]\n",
    "\n",
    "print(list1[11][1])\n",
    "list1.append(82)\n",
    "print (list1)\n",
    "print(list1. count(82))\n",
    "print(list1.index(87))\n",
    "print(list1[3:11])\n",
    "list2=list1[3:11]\n",
    "list2.reverse()\n",
    "print(list2)\n",
    "list1[8]=11\n",
    "print(list1[8])\n",
    "list1.reverse()\n",
    "list1[16::]\n",
    "del list1(\n"
   ]
  },
  {
   "cell_type": "code",
   "execution_count": 1,
   "id": "22508794",
   "metadata": {},
   "outputs": [
    {
     "name": "stdout",
     "output_type": "stream",
     "text": [
      "[69, 4, 29, 39, 54, 27, 63, 22]\n"
     ]
    }
   ],
   "source": [
    "list1= [58,45,69,19,4,87,29,13,39,15,54,[8,33,11],27,49,63,98,22,82]\n",
    "print(list1[2::2])"
   ]
  },
  {
   "cell_type": "code",
   "execution_count": 2,
   "id": "e66ead43",
   "metadata": {},
   "outputs": [
    {
     "name": "stdout",
     "output_type": "stream",
     "text": [
      "166833\n"
     ]
    }
   ],
   "source": [
    "# 내가 강의 듣기 시작한 부분!\n",
    "\n",
    "# while문을 사용해서 1부터 100까지의 정수 중 3의 배수이 합을 구해 보세요.\n",
    "\n",
    "i = 1\n",
    "sum = 0\n",
    "while i < 1001:\n",
    "    if i%3 ==0:\n",
    "        sum = sum+i\n",
    "    i += 1\n",
    "print(sum)"
   ]
  },
  {
   "cell_type": "code",
   "execution_count": 3,
   "id": "a6fcd017",
   "metadata": {},
   "outputs": [
    {
     "name": "stdout",
     "output_type": "stream",
     "text": [
      "4550\n"
     ]
    }
   ],
   "source": [
    "# 1부터 100까지의 정수 중 5에서 95까지의 합을 구하세요.\n",
    "\n",
    "i = 0\n",
    "sum = 0\n",
    "while i < 101:\n",
    "    i += 1\n",
    "    if i> 4:\n",
    "        if i< 96:\n",
    "            sum = sum + i\n",
    "print(sum)"
   ]
  },
  {
   "cell_type": "code",
   "execution_count": 8,
   "id": "da382206",
   "metadata": {},
   "outputs": [
    {
     "name": "stdout",
     "output_type": "stream",
     "text": [
      "5를 2로 나누었을 때의 몫은 2, 나머지는 1입니다.\n",
      "5를 2로 나누었을 때의 몫은 2, 나머지는 1입니다.\n"
     ]
    }
   ],
   "source": [
    "# 5를 2로 나누었을 때의 몫과 나머지를 구하세요.\n",
    "\n",
    "a = 5//2\n",
    "b = 5%2\n",
    "\n",
    "print(\"5를 2로 나누었을 때의 몫은 %s, 나머지는 %s입니다.\"%(a,b))\n",
    "print(f'5를 2로 나누었을 때의 몫은 {a}, 나머지는 {b}입니다.')"
   ]
  },
  {
   "cell_type": "code",
   "execution_count": 10,
   "id": "7363c779",
   "metadata": {},
   "outputs": [
    {
     "name": "stdout",
     "output_type": "stream",
     "text": [
      "1030301\n"
     ]
    }
   ],
   "source": [
    "# 101의 3승을 구하세요\n",
    "print(101**3)"
   ]
  },
  {
   "cell_type": "code",
   "execution_count": 12,
   "id": "cf290cce",
   "metadata": {},
   "outputs": [
    {
     "name": "stdout",
     "output_type": "stream",
     "text": [
      "Python 3.8.3\n"
     ]
    }
   ],
   "source": [
    "# Python과 3.8.3을 합쳐서 Python 3.8.3으로 출력하세요\n",
    "\n",
    "a = 'Python'\n",
    "b = ' 3.8.3'\n",
    "print(a+b)"
   ]
  },
  {
   "cell_type": "code",
   "execution_count": 15,
   "id": "a1022eb2",
   "metadata": {},
   "outputs": [
    {
     "data": {
      "text/plain": [
       "int"
      ]
     },
     "execution_count": 15,
     "metadata": {},
     "output_type": "execute_result"
    }
   ],
   "source": [
    "# a = 5 a = '10' a = 15일때 자료형은 무엇인가?\n",
    "a = 5;a = '10';a = 15\n",
    "type(a)"
   ]
  },
  {
   "cell_type": "code",
   "execution_count": 32,
   "id": "f6bd2eb1",
   "metadata": {},
   "outputs": [
    {
     "name": "stdout",
     "output_type": "stream",
     "text": [
      "2\n"
     ]
    }
   ],
   "source": [
    "# 5의 3승을 3으로 나누었을 때의 나머지를 복합 대입 연산자를 이용해서 구하세요.\n",
    "\n",
    "a=5\n",
    "a**=3\n",
    "a%=3\n",
    "print(a)\n"
   ]
  },
  {
   "cell_type": "code",
   "execution_count": 36,
   "id": "1c289509",
   "metadata": {},
   "outputs": [
    {
     "name": "stdout",
     "output_type": "stream",
     "text": [
      "이름이 무엇인가요?\n",
      "kevin\n",
      "제 이름은 kevin입니다.\n"
     ]
    }
   ],
   "source": [
    "# 아래와 같이 출력하는 프로그램을 작성하세요.\n",
    "# 이름이 무엇인가요? kevin\n",
    "# 제 이름은 kevin 입니다.\n",
    "\n",
    "print(\"이름이 무엇인가요?\")\n",
    "name = input()\n",
    "\n",
    "print(f\"제 이름은 {name}입니다.\")"
   ]
  },
  {
   "cell_type": "code",
   "execution_count": 37,
   "id": "bf1d20c0",
   "metadata": {},
   "outputs": [
    {
     "name": "stdout",
     "output_type": "stream",
     "text": [
      "숫자 3개를 입력하세요: 5\n",
      "3\n",
      "5\n",
      "25\n"
     ]
    }
   ],
   "source": [
    "# 숫자 3개를 입력해서 첫 번째 숫자를 두 번째 숫자 승한 뒤에 세 번째 숫자로 나누었을 때 몫을 구하세요.\n",
    "\n",
    "x=int(input(\"숫자 3개를 입력하세요: \"))\n",
    "y=int(input())\n",
    "z=int(input())\n",
    "\n",
    "print(x**y//z)"
   ]
  },
  {
   "cell_type": "code",
   "execution_count": 29,
   "id": "35cc7fa9",
   "metadata": {},
   "outputs": [],
   "source": [
    "# [과제] while 문을 사용해 1부터 1000까지의 정수 중 3과 5의 공배수의 합을 구해 보세요"
   ]
  },
  {
   "cell_type": "code",
   "execution_count": 30,
   "id": "2a895679",
   "metadata": {},
   "outputs": [],
   "source": [
    "# [과제] 1부터 5까지 입력해서 12345를 출력하세요"
   ]
  },
  {
   "cell_type": "code",
   "execution_count": 31,
   "id": "17bb17e8",
   "metadata": {},
   "outputs": [],
   "source": [
    "# [과제] [0, 1, 2, 3, 4, 5, 6, 7, 8, 9, 'a', 'b', 'c']에서 9와 'a'를 삭제 후 리스트로 출력하세요"
   ]
  },
  {
   "cell_type": "code",
   "execution_count": 39,
   "id": "d513f98b",
   "metadata": {},
   "outputs": [],
   "source": [
    "# [과제] [0, 1, 2, 3, 4, 5, 6, 7, 8, b', 'c']에서 'c'를 삭제 후 출력하세요."
   ]
  },
  {
   "cell_type": "code",
   "execution_count": 40,
   "id": "90678948",
   "metadata": {},
   "outputs": [],
   "source": [
    "# [과제] [4, 8, 5, 4, 8, 4, 3, 9, 1, 9]를 내림차순으로 정렬하세요"
   ]
  },
  {
   "cell_type": "code",
   "execution_count": 41,
   "id": "f3ba20de",
   "metadata": {},
   "outputs": [],
   "source": [
    "# [과제] format 함수를 이용해서 다음과 같은 형식으로 현재 날짜/시간을 출력하세요.\n",
    "# 2021년 12월 29일 15시 47분 30초"
   ]
  },
  {
   "cell_type": "code",
   "execution_count": 42,
   "id": "942de426",
   "metadata": {},
   "outputs": [],
   "source": [
    "# [과제] 현재 시각을 오전과 오후로 구분하는 프로그램을 작성하세요."
   ]
  },
  {
   "cell_type": "code",
   "execution_count": 43,
   "id": "eeb70b55",
   "metadata": {},
   "outputs": [],
   "source": [
    "# [과제] 정수를 입력하면 홀수 짝수를 판별하는 프로그램 작성"
   ]
  },
  {
   "cell_type": "code",
   "execution_count": 44,
   "id": "4f51c8f6",
   "metadata": {},
   "outputs": [],
   "source": [
    "# [과제] 계절 구분 프로그램\n",
    "# 각 계절별 출력 멘트는 계절에 맞게 창작\n",
    "# if 조건문으로 datetime 모듈을 import해서 datetime.now 함수를 사용해서 작성"
   ]
  },
  {
   "cell_type": "code",
   "execution_count": 45,
   "id": "90af4952",
   "metadata": {},
   "outputs": [],
   "source": [
    "# # [과제] 커피 자판기 프로그램\n",
    "# 시나리오: 자판기 커피 재고 5잔, 커피 1잔 300원, 재고 범위내에서 300원 이상 돈을 넣으면 거스름돈과 커피를 주고 그렇지 않으면 반환하며 재고가 소진되면 안내멘트 출력\n",
    "# 각 Case별 멘트 출력은 상황에 맞게 창작"
   ]
  },
  {
   "cell_type": "code",
   "execution_count": 47,
   "id": "49c26121",
   "metadata": {},
   "outputs": [
    {
     "ename": "NameError",
     "evalue": "name '수강생' is not defined",
     "output_type": "error",
     "traceback": [
      "\u001b[1;31m---------------------------------------------------------------------------\u001b[0m",
      "\u001b[1;31mNameError\u001b[0m                                 Traceback (most recent call last)",
      "\u001b[1;32m~\\AppData\\Local\\Temp\\ipykernel_1212\\1680511725.py\u001b[0m in \u001b[0;36m<module>\u001b[1;34m\u001b[0m\n\u001b[1;32m----> 1\u001b[1;33m \u001b[0m수강생\u001b[0m\u001b[1;33m\u001b[0m\u001b[1;33m\u001b[0m\u001b[0m\n\u001b[0m\u001b[0;32m      2\u001b[0m \u001b[0myear\u001b[0m\u001b[1;33m=\u001b[0m\u001b[0mint\u001b[0m\u001b[1;33m(\u001b[0m\u001b[0minput\u001b[0m\u001b[1;33m(\u001b[0m\u001b[1;34m\"태어난 연도를 입력해주세요: \"\u001b[0m\u001b[1;33m)\u001b[0m\u001b[1;33m)\u001b[0m\u001b[1;33m\u001b[0m\u001b[1;33m\u001b[0m\u001b[0m\n\u001b[0;32m      3\u001b[0m \u001b[0mnum\u001b[0m\u001b[1;33m=\u001b[0m\u001b[0myear\u001b[0m\u001b[1;33m%\u001b[0m\u001b[1;36m12\u001b[0m\u001b[1;33m\u001b[0m\u001b[1;33m\u001b[0m\u001b[0m\n\u001b[0;32m      4\u001b[0m \u001b[0mlist\u001b[0m\u001b[1;33m=\u001b[0m\u001b[1;33m[\u001b[0m\u001b[1;34m'잔나비띠'\u001b[0m\u001b[1;33m,\u001b[0m\u001b[1;34m'닭띠'\u001b[0m\u001b[1;33m,\u001b[0m\u001b[1;34m'개띠'\u001b[0m\u001b[1;33m,\u001b[0m\u001b[1;34m'돼지띠'\u001b[0m\u001b[1;33m,\u001b[0m\u001b[1;34m'쥐띠'\u001b[0m\u001b[1;33m,\u001b[0m\u001b[1;34m'소띠'\u001b[0m\u001b[1;33m,\u001b[0m\u001b[1;34m'범띠'\u001b[0m\u001b[1;33m,\u001b[0m\u001b[1;34m'토끼띠'\u001b[0m\u001b[1;33m,\u001b[0m\u001b[1;34m'용띠'\u001b[0m\u001b[1;33m,\u001b[0m\u001b[1;34m'뱀띠'\u001b[0m\u001b[1;33m,\u001b[0m\u001b[1;34m'말띠'\u001b[0m\u001b[1;33m,\u001b[0m\u001b[1;34m'양띠'\u001b[0m\u001b[1;33m]\u001b[0m\u001b[1;33m\u001b[0m\u001b[1;33m\u001b[0m\u001b[0m\n\u001b[0;32m      5\u001b[0m \u001b[0mprint\u001b[0m\u001b[1;33m(\u001b[0m\u001b[1;34m\"당신은 %s 입니다.\"\u001b[0m \u001b[1;33m%\u001b[0m\u001b[0mlist\u001b[0m\u001b[1;33m[\u001b[0m\u001b[0mnum\u001b[0m\u001b[1;33m]\u001b[0m\u001b[1;33m)\u001b[0m\u001b[1;33m\u001b[0m\u001b[1;33m\u001b[0m\u001b[0m\n",
      "\u001b[1;31mNameError\u001b[0m: name '수강생' is not defined"
     ]
    }
   ],
   "source": [
    "# 수강생\n",
    "\n",
    "year=int(input(\"태어난 연도를 입력해주세요: \"))\n",
    "num=year%12\n",
    "list=['잔나비띠','닭띠','개띠','돼지띠','쥐띠','소띠','범띠','토끼띠','용띠','뱀띠','말띠','양띠']\n",
    "print(\"당신은 %s 입니다.\" %list[num])"
   ]
  },
  {
   "cell_type": "code",
   "execution_count": null,
   "id": "b7c90c5b",
   "metadata": {},
   "outputs": [],
   "source": []
  }
 ],
 "metadata": {
  "kernelspec": {
   "display_name": "Python 3 (ipykernel)",
   "language": "python",
   "name": "python3"
  },
  "language_info": {
   "codemirror_mode": {
    "name": "ipython",
    "version": 3
   },
   "file_extension": ".py",
   "mimetype": "text/x-python",
   "name": "python",
   "nbconvert_exporter": "python",
   "pygments_lexer": "ipython3",
   "version": "3.9.13"
  }
 },
 "nbformat": 4,
 "nbformat_minor": 5
}
