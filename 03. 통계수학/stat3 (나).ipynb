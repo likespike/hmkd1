{
 "cells": [
  {
   "cell_type": "code",
   "execution_count": null,
   "id": "e8cf5faf",
   "metadata": {
    "id": "e8cf5faf"
   },
   "outputs": [],
   "source": [
    "import numpy as np\n",
    "import pandas as pd\n",
    "import seaborn as sns\n",
    "import matplotlib.pyplot as plt\n",
    "from scipy import stats"
   ]
  },
  {
   "cell_type": "markdown",
   "id": "ed45e89e",
   "metadata": {},
   "source": [
    "파이썬\n",
    "\n",
    "분석에서의 시각화\n",
    "분석적 문제 정의, 해결능력\n",
    "\n",
    "\n",
    "\n",
    "시각화\n",
    "\n",
    "지구 둥글어 - 귀무\n",
    "p-value : 지구는 네모네가 틀릴 확률 -> 0.05 밑이면 -> 틀릴 확률이 0.05 밑이니까 기존 귀무가설 기각\n",
    "t, z-value : 지구가 둥글 확률이 임곗값을 벗어남\n"
   ]
  },
  {
   "cell_type": "code",
   "execution_count": null,
   "id": "8XABhkU2w_a3",
   "metadata": {
    "id": "8XABhkU2w_a3"
   },
   "outputs": [],
   "source": [
    "t z value는 다 확률값이야\n",
    "유의수준 -> t분포에 맞게 환산한게 임곗값\n",
    "유의수준 -> \n",
    "유의확률(p)"
   ]
  },
  {
   "cell_type": "markdown",
   "id": "04493882",
   "metadata": {
    "id": "04493882"
   },
   "source": [
    "https://angeloyeo.github.io/2020/02/12/standard_error.html"
   ]
  },
  {
   "cell_type": "markdown",
   "id": "67dda220",
   "metadata": {
    "id": "67dda220"
   },
   "source": [
    "# <정리>\n",
    "#### 통계학\n",
    "- 데이터의 기술(description)\n",
    "- 모르는 것의 예측과 추측<br><br>\n",
    "\n",
    "#### 통계적 추론 (5가지 요소) - 추론을 통한 가설 검증\n",
    "1. 가설\n",
    "2. 표본과 검정 통계량\n",
    "<br>(위의 두 가지를 기반으로)\n",
    "3. 점 추정\n",
    "4. 구간 추정\n",
    "5. 검정력<br><br>\n",
    "\n",
    "#### 모집단\n",
    "- 정보를 얻고자 하는 관심 대상의 전체 집합<br><br>\n",
    "\n",
    "#### 모수 (parameter)\n",
    "- 모집단의 분포가 가지는 특성값\n",
    "- 어떤 집단의 분포는 수학적으로 잘 알려진 분포를 따른다. 그 중 가장 잘 알려진 분포가 정규분포인데, 정규분포의 경우 평균괎과 표준편차 값을 이용하면 형태를 파악할 수 있다.\n",
    "- 모집단 전체 데이터는 얻을 수 없으니, 모집단의 특성을 나타내는 모수를 파악하여 모집단의 특성을 파악하고자 한 것\n",
    "- 수학적으로 그 분포를 기술할 수 있는 특성값들을 알 수만 있다면 '얼추 비슷하게나마' 모집단의 특성을 통계적으로 확인할 수 있음 (평균, 분산과 표준편차, 분위수(중위값, 1분위수, 4분위수 등), 모비율)\n",
    "- 어떤 집단의 분포를 알 수만 있다면, 데이터 값을 다 몰라도 문제가 없다<br><br>\n",
    "\n",
    "#### 모수 잘 추정하기 (표본 집단과 표본 통계량)\n",
    "- 그런데 모수를 정확히 아는 것은 분가능하다. -> 그러면 어떻게 잘 추정할 수 있을까?\n",
    "- 표본은 모수를 추정하기 위해 얻는다\n",
    "- 표본 : 모집단의 부분집합\n",
    "![pic1](../../pic1.png)\n",
    "![pic2](../../pic2.png)\n",
    "- 추출된 표본들을 통계적으로 기술하기 위해서는 통계적 특징을 나타내는 수치를 만들어 두면 편할 것이다. 표본으로부터도 그 분포의 특성을 나타내는 표본 통계량(statistic)을 계산할 수 있다.\n",
    "    - 표본 평균, 표본 표준편차, 표본 비율\n",
    "- 표본은 매번 추출할 때마다 그 통계량도 변한다 -> 모수의 '추정치'이고, 추정된 값은 항상 오차를 수반한다.<br><br>\n",
    "\n",
    "#### 추정은 오차를 수반한다: 표준 오차 (Standard Error)\n",
    "- 표본 통계량의 표준 편차임\n",
    "- 평균의 추정치에 대한 불확실도를 수치화한 것\n",
    "- 표준 편차에 비해서 항상 값이 작다\n",
    "- (아래는 n=6인 표본을 100회 추출하면서 매번 표본 평균을 계산하여 그려가는 과정)\n",
    "![pic4](../../pic4.gif)"
   ]
  },
  {
   "cell_type": "markdown",
   "id": "d8376a3b",
   "metadata": {
    "id": "d8376a3b"
   },
   "source": [
    "## 통계적 가설검정이란\n",
    "모집단의 모수에 관하여 두가지 가설을 세우고 표본으로부터 계산되는 통계량을 이용하여 어느 가설이 옳은지 판단하는 통계적인 방법\n",
    "- 검정통계량 vs 임곗값\n",
    "    - 검정통계량 : z값, t값\n",
    "    - 통계적으로 비교분석한다\n",
    "    - 통계적 가설의 진위 여부를 검정하기 위해 표본으로부터 계산하는 통계량,\n",
    "    - 표본 통계량을 2차 가공한 것으로 생각하면 편함, 통계적 가설 진위 여부를 검정한다는 것은 검정통계량의 값이 기준을 벗어나는지 확인하여 세워둔 가설이 틀렸다고 할 수 있는지 확인하는 과정\n",
    "        - t_val : t-분포를 이용한 가설 검정에서 계산되는 검정통계량\n",
    "            - t : 그룹간 평균 차이에 비례하는 변수(평균 차이가 클 때 큰 값을 가짐)\n",
    "            - 표본 평균 차이의 통계적인 지표 (표준 오류, 불확실도 반영해서)\n",
    "            - 표본데이터 이용하여 계산\n",
    "            - 모집의 표준편차나 분산을 모를 때\n",
    "            - 표본의 크기가 작을 때 (30 미만)\n",
    "        - z_val : 표준 정규분포를 이용한 가설 검정에서 계산되는 검정통계량\n",
    "            - 모집단의 표준편차나 분산을 알고 있을 때\n",
    "            - 표본의 크기가 크거나 모집단의 분포가 정규분포를 따를 때 (30 이상)\n",
    "    - 임곗값(critical value) 알려면, 신뢰수준 알아야 함\n",
    "        - sf, isf 함수\n",
    "- p값 vs 유의수준\n",
    "    - 유의확률 (p_value, p값) = 확률값 (value가 확률임을 유의할 것)\n",
    "        -  t-검정을 수행하여 얻은 t-값이 2.0이고, 이에 대한 p-value가 0.05라면, 귀무가설이 참이라고 가정할 때, 해당 데이터에서 t-값이 2.0 이상의 결과가 나타날 확률이 0.05, 즉 5%라는 것을 의미\n",
    "        - 귀무가설이 옳다고 가정했을 때 얻은 통계량이 귀무가설을 얼마나 지지하는지를 확률로 나타낸 것\n",
    "        - 숫자가 낮을수록 귀무가설을 지지하지 않아, 귀무가설을 기각할 가능성이 높아짐\n",
    "        - p_value는 가설 검정에서 귀무가설이 참인 상황에서 관측된 검정통계량의 값보다 극단적인 값이 나올 확률\n",
    "        - p값(p-value)은 가설 검정에서 사용되는 통계적인 지표로, 귀무가설이 맞다는 가정 하에 현재 검정 결과보다 더 극단적인 결과를 얻을 확률을 나타냅니다. 즉, p값은 현재 얻은 검정 통계량(예: t-값, z-값 등)이 귀무가설에 대한 예상된 분포에서 얼마나 극단적인지를 평가하는데 사용됩니다.\n",
    "        - 일반적으로 p값이 작을수록 귀무가설을 기각하는 경향이 있습니다. 만약 p값이 유의수준(또는 알파 레벨)보다 작다면, 귀무가설을 기각하고 대립가설을 채택하게 됩니다. 반대로, p값이 유의수준보다 크다면 귀무가설을 기각할 증거가 부족하다고 판단하여 귀무가설을 채택하게 될 수 있습니다. 유의수준은 사전에 설정한 검정의 기준이며, 일반적으로 0.05 또는 0.01이 많이 사용되곤 합니다. p값은 검정 결과의 유의성을 평가하는데 도움을 주는 중요한 지표로 사용됩니다.\n",
    "    - 유의수준 : 보통 유의수준 이야기 안하면 95%, 0.05를 일반적으로 한다\n",
    "       - 가설 검정에서 기각 영역을 결정하는 데 사용되는 값 \n",
    "       - 신뢰수준 : 그 에러가 얼마나 적고 표본집단이 믿을만 한지를 묻는 것 (95%로 모집단과 같다)\n",
    "       - 유의수준 : 그것이 통계적으로 얼마나 유용하냐에 관한 문제 (잘못된 결과가 5% 정도)\n",
    "       - 합하면 결과값이 1임 (유의수준이 낮은 연구는 엄격한 연구)"
   ]
  },
  {
   "cell_type": "markdown",
   "id": "afc90cea",
   "metadata": {
    "id": "afc90cea"
   },
   "source": [
    "통계적 가설 검정은, 모집단의 특성에 대한 가설을 세우고, 이 가설이 옳은지 여부를 검정하는 과정입니다. 이 과정에서는 표본 데이터를 이용하여 모집단의 특성을 추정하고, 추정한 결과를 바탕으로 가설을 세우고 검정합니다.\n",
    "\n",
    "- 가설 검정에서는 대개 두 개의 가설을 세웁니다. 이 중에서 귀무가설(null hypothesis)은 일반적으로 채택되어져 있는 가설로, 이를 기각하기 위해서는 통계적으로 유의한 증거가 필요합니다. 대립가설(alternative hypothesis)은 귀무가설과 반대되는 가설로, 이 가설이 옳은지 검정하는 것이 목적입니다.\n",
    "    - 통계학에서 \"귀무(歸無)\"는 통계적 가설 검정(hypothesis testing)에서 사용되는 용어로, 특정 가설이 사실인지 아닌지를 검정하는 과정에서 사용됩니다.\n",
    "    - 귀무가설(null hypothesis)은 \"아무런 차이가 없다\"는 가설로, 일반적으로 기존의 믿어진 주장을 나타내며, 영가설(zero hypothesis)이라고도 부릅니다. 즉, 귀무가설은 어떤 현상에 대해 아무런 변화나 효과가 없다는 가설로 설정되며, 이를 기각하려면 충분한 증거가 필요합니다.\n",
    "    - 통계학에서 가설 검정은 귀무가설을 검증하여 귀무가설을 기각하거나 채택하는 과정을 거칩니다. 이를 통해 주장하려는 가설(대립가설, alternative hypothesis)이 귀무가설과 다른지를 판단하게 됩니다. 통계학에서는 귀무가설을 기각할 수 있는 충분한 증거가 있다면 대립가설을 지지한다고 할 수 있습니다. 귀무가설과 대립가설은 통계적 가설 검정에서 중요한 개념으로 사용되며, 통계학에서의 귀무가설은 통계적 추론과 결정에 있어서 중요한 역할을 합니다.\n",
    "\n",
    "- 가설 검정에서는 먼저, 검정통계량(test statistic)을 계산합니다. 검정통계량은 표본 데이터를 이용하여 계산되는 통계량으로, 이를 통해 귀무가설이 맞는지 여부를 판단합니다. 검정통계량의 값이 특정 기준값보다 작으면, 귀무가설을 기각할 수 있습니다. 이 기준값은 보통 유의수준(significance level)이라고 불리며, 보통 0.05나 0.01로 설정됩니다. 이러한 유의수준은 귀무가설을 잘못 기각할 확률을 의미합니다.\n",
    "    - 위의 말이 헷갈릴 수 있는데, 임계치에서 좌우로 벗어나면, 작거나 크면임, 확률 적은 귀퉁이들\n",
    "\n",
    "- 가설 검정에서는 또한, 검정통계량의 분포를 이용하여 p값(p-value)을 계산합니다. p값은 귀무가설이 옳은데도 불구하고, 검정통계량이 현재 값 이상이 나올 확률을 의미합니다. 만약 p값이 유의수준보다 작으면, 귀무가설을 기각할 수 있습니다. 반대로, p값이 유의수준보다 크다면, 귀무가설을 기각할 수 없습니다.\n",
    "\n",
    "- 가설 검정은 통계학에서 매우 중요한 개념 중 하나로, 데이터 분석의 근간을 이루는 기술 중 하나입니다. 특히, 가설 검정은 과학적인 사실을 검증하고, 의사결정을 하기 위해 필요한 중요한 도구입니다."
   ]
  },
  {
   "cell_type": "markdown",
   "id": "774da709",
   "metadata": {
    "id": "774da709"
   },
   "source": [
    "#### z-검정 vs t-검정\n",
    "- z-검정은 모집단의 분산이 알려져 있을 때 사용할 수 있는 검정 방법입니다. 예를 들어, 어떤 특성에 대한 모집단 분포가 정규분포를 따른다는 가정하에, 표본의 평균을 이용하여 모집단 평균을 추론하는 경우에 사용됩니다. 이때 표본 크기가 충분히 크다면, 중심극한정리에 따라 표본평균이 정규분포를 따르기 때문에 z-검정을 사용할 수 있습니다. z-검정은 검정통계량으로 z-score(표준정규분포 상에서의 위치)를 사용하며, z-score가 임계치보다 큰지 여부로 가설검정을 수행합니다.\n",
    "    - z-score : 특정 데이터 값이 평균으로부터 얼마나 떨어져 있는지를 표준화하여 나타내는 값입니다. 평균을 기준으로 데이터 값의 상대적인 위치를 측정하는데 사용되며, 정규분포를 따르는 데이터에서 주로 활용, 평균으로부터의 표준편차의 배수로 표현되므로, 평균을 기준으로 어느 정도 떨어져 있는지를 표준화된 단위로 나타냅니다. z-점수는 양수인 경우 평균보다 높은 위치에 있고, 음수인 경우 평균보다 낮은 위치에 있는 것을 나타냅니다. 이를 통해 데이터 값들의 상대적인 위치를 비교하고, 표준정규분포 테이블 등을 활용하여 확률이나 유의성을 계산할 수 있습니다.\n",
    "\n",
    "- t-검정은 모집단의 분산이 알려져 있지 않을 때 사용할 수 있는 검정 방법입니다. 예를 들어, 표본의 크기가 작거나 모집단이 정규분포를 따르지 않는 경우 t-검정을 사용할 수 있습니다. t-검정은 검정통계량으로 t-score(표준정규분포 대신 t-분포 상에서의 위치)를 사용하며, t-score가 임계치보다 큰지 여부로 가설검정을 수행합니다. t-검정에서 사용되는 임계치는 자유도(degree of freedom)와 유의수준에 따라 달라집니다.\n",
    "\n",
    "- 따라서, z-검정은 모집단 분산이 알려져 있을 때, t-검정은 모집단 분산이 알려져 있지 않을 때 사용됩니다. 또한, t-검정은 표본 크기가 크면 z-검정과 유사한 결과를 보여줄 수 있습니다.\n",
    "    - z_score = (sample_mean - mu) / (sigma / np.sqrt(sample_size))\n",
    "    - t_score = (sample_mean - mu) / (sample_std / np.sqrt(sample_size))\n",
    "- 단측검정\n",
    "    - 남자 키는 여자 키보다 크다면 우측만 보면 되고, 여자 키는 남자 키보다 작다면 촤측만 보면 됨\n",
    "- 양측검정"
   ]
  },
  {
   "cell_type": "code",
   "execution_count": null,
   "id": "63625b51",
   "metadata": {
    "id": "63625b51",
    "outputId": "b1fdd947-8baa-4c3b-ebab-f03feee027e7"
   },
   "outputs": [
    {
     "name": "stdout",
     "output_type": "stream",
     "text": [
      "0.95\n"
     ]
    }
   ],
   "source": [
    "# sf 함수는 \"Survival Function\"의 약어로, 확률 분포 함수 중 하나입니다.\n",
    "# 이 함수는 확률 분포에서 어떤 특정 값보다 크거나 같은 값을 가지는 확률\n",
    "# 주어진 값보다 같거나 큰 값이 나올 확률\n",
    "# 주로 확률 분포의 오른쪽 꼬리 영역의 확률을 계산하는 데 사용됨\n",
    "# 아마 왼쪽 임곗값부터 오른쪽일 확률\n",
    "\n",
    "# 네, 결론적으로 stats.norm.sf(x)는 x가 양수일 때는 오른쪽 임곗치 (상한값)로부터 왼쪽으로의 확률을 나타내고,\n",
    "# x가 음수일 때는 왼쪽 임곗치 (하한값)로부터 오른쪽으로의 확률을 나타냅니다.\n",
    "# 따라서 stats.norm.sf(x)는 오른쪽 꼬리 부분에 해당하는 확률을 나타내는 함수입니다.\n",
    "# 이것이 통계학에서의 관례적인 표현입니다.\n",
    "\n",
    "import scipy.stats as stats\n",
    "\n",
    "x = -1.6448536269514722\n",
    "p = stats.norm.sf(x)\n",
    "print(p)"
   ]
  },
  {
   "cell_type": "code",
   "execution_count": null,
   "id": "dba076c8",
   "metadata": {
    "id": "dba076c8",
    "outputId": "3a517042-33a0-4ac7-a6fe-eafbe4161d55"
   },
   "outputs": [
    {
     "data": {
      "text/plain": [
       "-1.959963984540054"
      ]
     },
     "execution_count": 51,
     "metadata": {},
     "output_type": "execute_result"
    }
   ],
   "source": [
    "# sf의 역함수\n",
    "# 오른쪽 임곗치로부터 왼쪽으로의 확률을 계산함\n",
    "\n",
    "stats.norm.isf(0.975)"
   ]
  },
  {
   "cell_type": "code",
   "execution_count": null,
   "id": "8e7a4370",
   "metadata": {
    "id": "8e7a4370",
    "outputId": "93b02dfc-713d-4b22-8cdd-469faf25a4a6"
   },
   "outputs": [
    {
     "data": {
      "text/plain": [
       "1.959963984540054"
      ]
     },
     "execution_count": 46,
     "metadata": {},
     "output_type": "execute_result"
    }
   ],
   "source": [
    "# 하한값\n",
    "stats.norm.isf(1-0.975)"
   ]
  },
  {
   "cell_type": "code",
   "execution_count": null,
   "id": "e0f6be97",
   "metadata": {
    "id": "e0f6be97",
    "outputId": "1a7fcfde-f9a5-4fe4-acbc-200b2fbe9499"
   },
   "outputs": [
    {
     "name": "stdout",
     "output_type": "stream",
     "text": [
      "0.025\n"
     ]
    }
   ],
   "source": [
    "# 클 확률\n",
    "\n",
    "x = 1.959963984540054\n",
    "p = stats.norm.sf(x)\n",
    "print(p)"
   ]
  },
  {
   "cell_type": "code",
   "execution_count": null,
   "id": "fbf8b7f1",
   "metadata": {
    "id": "fbf8b7f1",
    "outputId": "6753b7cb-346f-428c-f35e-09a086ec9f3e"
   },
   "outputs": [
    {
     "name": "stdout",
     "output_type": "stream",
     "text": [
      "0.975\n"
     ]
    }
   ],
   "source": [
    "x = -1.959963984540054\n",
    "p = stats.norm.sf(x)\n",
    "print(p)"
   ]
  },
  {
   "cell_type": "code",
   "execution_count": null,
   "id": "1dc9a73b",
   "metadata": {
    "id": "1dc9a73b",
    "outputId": "af8599f6-dbbb-4489-c53a-602c526ebd72"
   },
   "outputs": [
    {
     "data": {
      "text/plain": [
       "-1.959963984540054"
      ]
     },
     "execution_count": 9,
     "metadata": {},
     "output_type": "execute_result"
    }
   ],
   "source": [
    "# sf의 역함수\n",
    "stats.norm.isf(0.975)"
   ]
  },
  {
   "cell_type": "code",
   "execution_count": null,
   "id": "9e61b6a6",
   "metadata": {
    "id": "9e61b6a6",
    "outputId": "16ec41f7-6788-47e2-cb46-b5bda52fe42f"
   },
   "outputs": [
    {
     "data": {
      "text/plain": [
       "1.959963984540054"
      ]
     },
     "execution_count": 10,
     "metadata": {},
     "output_type": "execute_result"
    }
   ],
   "source": [
    "stats.norm.isf(1-0.975)"
   ]
  },
  {
   "cell_type": "code",
   "execution_count": null,
   "id": "fad60db6",
   "metadata": {
    "id": "fad60db6",
    "outputId": "063c4233-a0e0-4666-9fa6-7b80f95cd407"
   },
   "outputs": [
    {
     "name": "stdout",
     "output_type": "stream",
     "text": [
      "-1.959963984540054\n"
     ]
    },
    {
     "data": {
      "text/plain": [
       "1.9599639845400545"
      ]
     },
     "execution_count": 5,
     "metadata": {},
     "output_type": "execute_result"
    }
   ],
   "source": [
    "# 양측 검정은 /2 함\n",
    "# 유의수준에 대응하는 임곗값을 계산함\n",
    "\n",
    "th1 = stats.norm.isf(1-0.05/2)    # 음수일 때는, 하한값, 왼쪽 임곗치임\n",
    "print(th1)\n",
    "th2 = stats.norm.isf(0.05/2)    # 상한값, 오른쪽 임곗치\n",
    "th2"
   ]
  },
  {
   "cell_type": "code",
   "execution_count": null,
   "id": "fa3e65ae",
   "metadata": {
    "id": "fa3e65ae",
    "outputId": "32630b4e-7a36-4002-ee3b-d26498bf196a"
   },
   "outputs": [
    {
     "data": {
      "image/png": "[encoded data removed]",
      "text/plain": [
       "<Figure size 640x480 with 1 Axes>"
      ]
     },
     "metadata": {},
     "output_type": "display_data"
    }
   ],
   "source": [
    "# 95% 신뢰수준\n",
    "\n",
    "x_plot = np.arange(-3,3,0.1)\n",
    "plt.plot(x_plot, stats.norm.pdf(x=x_plot, loc=0, scale=1), color='black')\n",
    "plt.axvline(th1, color='red', linestyle='--', label='임계값')\n",
    "plt.axvline(th2, color='red', linestyle='--', label='임계값')\n",
    "plt.show()"
   ]
  },
  {
   "cell_type": "code",
   "execution_count": null,
   "id": "a3448cdd",
   "metadata": {
    "id": "a3448cdd",
    "outputId": "5dcea390-835f-48f7-a720-24883d491c63"
   },
   "outputs": [
    {
     "data": {
      "image/png": "[encoded data removed]",
      "text/plain": [
       "<Figure size 640x480 with 1 Axes>"
      ]
     },
     "metadata": {},
     "output_type": "display_data"
    },
    {
     "name": "stdout",
     "output_type": "stream",
     "text": [
      "-2.5758293035489004\n",
      "2.575829303548901\n"
     ]
    }
   ],
   "source": [
    "# 99% 신뢰수준\n",
    "\n",
    "t1 = stats.norm.isf(1-0.01/2)\n",
    "t2 = stats.norm.isf(0.01/2)\n",
    "\n",
    "x_plot = np.arange(-4,4,0.1)\n",
    "plt.plot(x_plot, stats.norm.pdf(x=x_plot, loc=0, scale=1), color='black')\n",
    "plt.axvline(t1, color='red', linestyle='--', label='임계값')\n",
    "plt.axvline(t2, color='red', linestyle='--', label='임계값')\n",
    "plt.show()\n",
    "\n",
    "print(t1)\n",
    "print(t2)"
   ]
  },
  {
   "cell_type": "markdown",
   "id": "1343757c",
   "metadata": {
    "id": "1343757c"
   },
   "source": [
    "#### t검정 임곗값\n",
    "\n",
    "t검정에서는 검정통계량(t-score)을 사용하여 가설검정을 수행합니다. 이때, 검정통계량은 t-분포를 따르므로, 유의수준(alpha)과 검정 방향(양측검정 또는 단측 검정)에 따라 t-분포의 분위수를 사용하여 임계값을 결정"
   ]
  },
  {
   "cell_type": "code",
   "execution_count": null,
   "id": "3211fc4f",
   "metadata": {
    "id": "3211fc4f",
    "outputId": "a654ca71-5648-42c9-b296-ec7898696efa"
   },
   "outputs": [
    {
     "name": "stdout",
     "output_type": "stream",
     "text": [
      "검정통계량: 0.7102992250253806\n",
      "유의확률: 0.23875930014938507\n"
     ]
    }
   ],
   "source": [
    "# 유의확률이 0.05를 넘어서니까 귀무가설 유지, 기각 못함\n",
    "# p_value - 확률값\n",
    "\n",
    "import numpy as np\n",
    "from scipy.stats import norm\n",
    "\n",
    "# 모집단의 평균과 표준편차를 지정합니다.\n",
    "mu = 100\n",
    "sigma = 10\n",
    "\n",
    "# 표본 데이터를 생성합니다.\n",
    "sample_size = 100\n",
    "sample = np.random.normal(mu, sigma, sample_size)\n",
    "\n",
    "# 표본 평균과 표준편차를 계산합니다.\n",
    "sample_mean = np.mean(sample)\n",
    "sample_std = np.std(sample, ddof=1)\n",
    "\n",
    "# 검정통계량과 유의확률을 계산합니다.\n",
    "z = (sample_mean - mu) / (sigma / np.sqrt(sample_size))\n",
    "p_value = 1 - norm.cdf(z)\n",
    "\n",
    "print('검정통계량:', z)\n",
    "print('유의확률:', p_value)"
   ]
  },
  {
   "cell_type": "code",
   "execution_count": null,
   "id": "5175e64a",
   "metadata": {
    "id": "5175e64a",
    "outputId": "79095d39-9bc4-4ae9-cf47-9f179cce268b"
   },
   "outputs": [
    {
     "name": "stdout",
     "output_type": "stream",
     "text": [
      "검정통계량: 0.2759611609618011\n",
      "유의확률: 0.7855571000960984\n"
     ]
    }
   ],
   "source": [
    "import numpy as np\n",
    "from scipy.stats import t\n",
    "\n",
    "# 모집단의 평균을 지정합니다.\n",
    "mu = 100\n",
    "\n",
    "# 표본 데이터를 생성합니다.\n",
    "sample_size = 20\n",
    "sample = np.random.normal(mu, 10, sample_size)\n",
    "\n",
    "# 표본 평균과 표준편차를 계산합니다.\n",
    "sample_mean = np.mean(sample)\n",
    "sample_std = np.std(sample, ddof=1)\n",
    "\n",
    "# 검정통계량과 유의확률을 계산합니다.\n",
    "t_score = (sample_mean - mu) / (sample_std / np.sqrt(sample_size))\n",
    "p_value = 2 * (1 - t.cdf(abs(t_score), df=sample_size-1))\n",
    "\n",
    "print('검정통계량:', t_score)\n",
    "print('유의확률:', p_value)"
   ]
  },
  {
   "cell_type": "code",
   "execution_count": null,
   "id": "2f5cc2e1",
   "metadata": {
    "id": "2f5cc2e1",
    "outputId": "d16bdd90-8cde-4d7a-97d9-f3fc9bc42540"
   },
   "outputs": [
    {
     "name": "stdout",
     "output_type": "stream",
     "text": [
      "임계값 -2.0930240544082634 2.093024054408263\n"
     ]
    }
   ],
   "source": [
    "# 양측검정\n",
    "\n",
    "import numpy as np\n",
    "from scipy.stats import t\n",
    "\n",
    "alpha = 0.05    # 유의수준\n",
    "df = 19    # 자유도\n",
    "t_crit1 = t.ppf(alpha/2, df)    # 양측검정의 임계값\n",
    "t_crit2 = t.ppf(1-alpha/2, df)\n",
    "print('임계값', t_crit1, t_crit2)"
   ]
  },
  {
   "cell_type": "code",
   "execution_count": null,
   "id": "84e8f595",
   "metadata": {
    "id": "84e8f595",
    "outputId": "7379450a-c5a3-4498-8f39-db073b4ee4b4"
   },
   "outputs": [
    {
     "data": {
      "text/plain": [
       "1.729132811521367"
      ]
     },
     "execution_count": 52,
     "metadata": {},
     "output_type": "execute_result"
    }
   ],
   "source": [
    "# 우측 단측 검정\n",
    "\n",
    "import numpy as np\n",
    "from scipy.stats import t\n",
    "\n",
    "alpha = 0.05    # 유의수준\n",
    "df = 19    # 자유도\n",
    "t_crit = t.ppf(1- alpha, df=19)    # 우측단측\n",
    "t_crit"
   ]
  },
  {
   "cell_type": "markdown",
   "id": "a2f6b2b0",
   "metadata": {
    "id": "a2f6b2b0"
   },
   "source": [
    "#### p-value를 계산하고 검정을 수행하는 방법\n",
    "t.cdf() 함수를 이용하여 t-분포의 누적분포함수(cumulative distribution function) 값을 계산합니다. \n",
    "그리고 p-value는 양측검정이므로, 계산된 누적분포함수 값에서 양쪽 꼬리 면적을 고려하여 2를 곱합니다.\n",
    "\n",
    "계산된 p-value는 유의수준(alpha)와 비교하여 검정을 수행합니다. 만약 p-value가 alpha보다 작으면, 귀무가설을 기각하고 대립가설을 채택합니다. 그 반대로, p-value가 alpha보다 크면, 귀무가설을 채택"
   ]
  },
  {
   "cell_type": "code",
   "execution_count": null,
   "id": "038f58d7",
   "metadata": {
    "id": "038f58d7",
    "outputId": "a863bb73-41a1-4cb5-952a-4da3bc558e5e"
   },
   "outputs": [
    {
     "name": "stdout",
     "output_type": "stream",
     "text": [
      "귀무가설 채택 : 표본평균과 모집단평균은 차이가 없습니다.\n"
     ]
    }
   ],
   "source": [
    "# 임계값 기준으로 검정\n",
    "# 모표준편차 알아도, 표본수가 적으니까 t분포 씀\n",
    "# t_crit - 임계치\n",
    "\n",
    "import numpy as np\n",
    "from scipy.stats import t\n",
    "\n",
    "# 모집단 평균과 표준편차를 지정합니다.\n",
    "mu = 100\n",
    "sigma = 10\n",
    "\n",
    "# 표본 데이터를 생성합니다.\n",
    "sample_size = 20\n",
    "sample = np.random.normal(mu, sigma, sample_size)\n",
    "\n",
    "# 표본 평균과 표준오차를 계산합니다.\n",
    "sample_mean = np.mean(sample)\n",
    "sample_std = np.std(sample, ddof=1)\n",
    "standard_error = sample_std / np.sqrt(sample_size)\n",
    "\n",
    "# 검정통계량을 계산합니다.\n",
    "t_score = (sample_mean - mu) / standard_error\n",
    "\n",
    "# 유의수준과 검정 방향을 설정합니다.\n",
    "alpha = 0.05    #95% 신뢰수준\n",
    "tail = 'two'    # 양측검정\n",
    "\n",
    "# 임계값을 계산합니다.\n",
    "if tail == 'two':\n",
    "    t_crit = t.ppf(1 - alpha/2, df=sample_size-1)\n",
    "else:\n",
    "    t_crit = t.ppf(1 - alpha, df=sample_size-1)\n",
    "\n",
    "# 검정결과를 출력합니다.\n",
    "if abs(t_score) > t_crit:\n",
    "    print('귀무가설 기각 : 표본평균과 모집단평균은 유의하게 다릅니다.')\n",
    "else:\n",
    "    print('귀무가설 채택 : 표본평균과 모집단평균은 차이가 없습니다.')"
   ]
  },
  {
   "cell_type": "code",
   "execution_count": null,
   "id": "ae3b5edb",
   "metadata": {
    "id": "ae3b5edb",
    "outputId": "e9533ed6-8059-4acb-b6e6-47dc7df8631e"
   },
   "outputs": [
    {
     "name": "stdout",
     "output_type": "stream",
     "text": [
      "귀무가설 채택 : p-value는 0.17 이며, 표본평균과 모집단평균은 차이가 없습니다.\n"
     ]
    }
   ],
   "source": [
    "# p-value\n",
    "# 임계값 기준으로 검정\n",
    "# 모표준편차 알아도, 표본수가 적으니까 t분포 씀\n",
    "# t_crit - 임계치\n",
    "\n",
    "import numpy as np\n",
    "from scipy.stats import t\n",
    "\n",
    "# 모집단 평균과 표준편차를 지정합니다.\n",
    "mu = 100\n",
    "sigma = 10\n",
    "\n",
    "# 표본 데이터를 생성합니다.\n",
    "sample_size = 20\n",
    "sample = np.random.normal(mu, sigma, sample_size)\n",
    "\n",
    "# 표본 평균과 표준오차를 계산합니다.\n",
    "sample_mean = np.mean(sample)\n",
    "sample_std = np.std(sample, ddof=1)\n",
    "standard_error = sample_std / np.sqrt(sample_size)\n",
    "\n",
    "# 검정통계량과 p-value를 계산합니다.\n",
    "t_score = (sample_mean - mu) / standard_error\n",
    "p_value = 2 * (1 - t.cdf(abs(t_score), df=sample_size-1))\n",
    "\n",
    "# 유의수준을 설정합니다.\n",
    "alpha = 0.05\n",
    "\n",
    "# 검정결과를 출력합니다.\n",
    "if p_value < alpha:\n",
    "    print('귀무가설 기각 : p-value는', round(p_value,2), '이며, 표본평균과 모집단평균은 유의하게 다릅니다.')\n",
    "else:\n",
    "    print('귀무가설 채택 : p-value는', round(p_value,2), '이며, 표본평균과 모집단평균은 차이가 없습니다.')"
   ]
  },
  {
   "cell_type": "markdown",
   "id": "e024cf85",
   "metadata": {
    "id": "e024cf85"
   },
   "source": [
    "- 귀무가설 대립가설\n",
    "    - 기각 대상이 되는 첫번째 가설을 귀무가설, 귀무가설과 대립되는 가설을 대립가설이라고 함\n",
    "    - 귀무가설이 기각된다면 즉 귀무가설이 틀렸다고 판단을 하면 유의미한 차이가 있다는 것임\n",
    "- p값(유의확률) : 표본과 귀무가설 간의 모순을 나타내는 지표\n",
    "    - p값이 작을수록 귀무가설과 표본이 모순된다고 판단\n",
    "- 유의수준 : 귀무가설을 기각하는 기준이 되는 값\n",
    "    - 유의수준은 위험률이라고 하며 5%를 사용하는 경우가 많음"
   ]
  },
  {
   "cell_type": "markdown",
   "id": "7e31c965",
   "metadata": {
    "id": "7e31c965"
   },
   "source": [
    "일표본 t-검정\n",
    "\n",
    "일표본 t-검정은 하나의 표본에 대해 평균이 특정 값과 다른지 검정하는 방법입니다. 가설검정의 절차는 다음과 같습니다.\n",
    "\n",
    "- 귀무가설과 대립가설 설정\n",
    "- 유의 수준 결정\n",
    "- 검정통계량(t-값) 계산\n",
    "- 임계값과 비교\n",
    "- 검정결과 판단 및 결론 도출"
   ]
  },
  {
   "cell_type": "code",
   "execution_count": null,
   "id": "731cdf09",
   "metadata": {
    "id": "731cdf09",
    "outputId": "a599275d-9af9-4e26-e047-6a6ccb13fb6a"
   },
   "outputs": [
    {
     "name": "stdout",
     "output_type": "stream",
     "text": [
      "표본평균: 10.610000000000001\n",
      "표본표준편차: 0.5820461990063828\n",
      "t-값: 3.3141516532462774\n",
      "임계값: -2.262157162740992 2.2621571627409915\n",
      "p-value: 0.009024007157468749\n",
      "유의수준 0.05에서 검정통계량은 임계값보다 크므로 귀무가설 기각\n"
     ]
    }
   ],
   "source": [
    "# 일표본 t-검정\n",
    "# 일표본 - 하나의 표본\n",
    "# 10과 같다 = 양측 / 크거나 작다 - 단측\n",
    "# 표존평균과 표본표준편차로 t-값 계산\n",
    "# 임계값 계산은 어떻게?\n",
    "# p-value\n",
    "모평균 10이라고 가정 -> 샘플 -> 10.61 -> 10.61보다 크게 나올 확률은 얼마인건가? -> \n",
    "t가 나오면 p는 t보다 큰 숫자가 나올 확률\n",
    "유의수준 0.05정했어 -> 확률은 0.05 -> t분포에서의 값을 알 수 있음 -> 2.26이라는거 -> 이게 임곗값(요정도까지 나오면 봐줄게) -> 면적이 커지니까 유의수준보다 확률 커짐 -> 봐준다\n",
    "나타내는 바는 똑같음, t-p가 서로 늘어나면 줄어드는 차이만 있다\n",
    "\n",
    "\n",
    "\n",
    "import numpy as np\n",
    "from scipy.stats import t\n",
    "\n",
    "# 샘플 데이터 생성\n",
    "sample_data = np.array([10.8, 9.5, 11.2, 10.5, 11.3, 10.7, 10.9, 9.8, 11.0, 10.4])\n",
    "\n",
    "# 귀무가설: 표본평균은 10과 같다\n",
    "# 대립가설: 표본 평균은 10이 아니다\n",
    "mu = 10    # 귀무가설에 따른 평균값\n",
    "alpha = 0.05    # 유의 수준\n",
    "sample_mean = np.mean(sample_data)    # 표본평균\n",
    "sample_std = np.std(sample_data, ddof=1)    # 표본표준편차\n",
    "df = len(sample_data) - 1    # 자유도\n",
    "t_value = (sample_mean - mu) / (sample_std / np.sqrt(len(sample_data)))    # 검정통계량\n",
    "t_crit1 = t.ppf(alpha/2, df)    # 임계값\n",
    "t_crit2 = t.ppf(1-alpha/2, df)\n",
    "p_value = t.sf(abs(t_value), df) * 2    # p_value\n",
    "\n",
    "# 결과 출력\n",
    "print('표본평균:', sample_mean)\n",
    "print('표본표준편차:', sample_std)\n",
    "print('t-값:', t_value)\n",
    "print('임계값:', t_crit1, t_crit2)\n",
    "print('p-value:', p_value)\n",
    "\n",
    "if abs(t_value) > t_crit2:\n",
    "    print('유의수준 {}에서 검정통계량은 임계값보다 크므로 귀무가설 기각'.format(alpha))\n",
    "else:\n",
    "    print('유의수준 {}에서 검정통계량은 임계값보다 작으므로 귀무가설 채택'.format(alpha))"
   ]
  },
  {
   "cell_type": "markdown",
   "id": "b4ea50d5",
   "metadata": {
    "id": "b4ea50d5"
   },
   "source": [
    "#### 과제1_0418.\n",
    "t분포 확률밀도 함수를 그래프로 그리고 그 위에 t_value와 임계값을 vline으로 표시하세요.\n",
    "\n",
    "(t-분포, 임계값, 검정통계량 선 표시) - blue나 sky, orange, green"
   ]
  },
  {
   "cell_type": "code",
   "execution_count": null,
   "id": "6b1f0b93",
   "metadata": {
    "id": "6b1f0b93",
    "outputId": "077b9eb5-16aa-43f4-99df-96dea892de3d"
   },
   "outputs": [
    {
     "name": "stdout",
     "output_type": "stream",
     "text": [
      "t_value: 3.31\n",
      "임계값: -2.262157162740992 2.2621571627409915\n",
      "p_value: 0.01\n"
     ]
    },
    {
     "data": {
      "image/png": "[encoded data removed]",
      "text/plain": [
       "<Figure size 640x480 with 1 Axes>"
      ]
     },
     "metadata": {},
     "output_type": "display_data"
    }
   ],
   "source": [
    "# 귀무가설을 기각하므로 \"표본평균은 10이 아니다\" 라는 대립가설은 통계적으로 유의미하다.\n",
    "\n",
    "import matplotlib.pyplot as plt\n",
    "from matplotlib import rc\n",
    "\n",
    "rc('font',family='Malgun Gothic')  # 한글 폰트 설정\n",
    "plt.rcParams['axes.unicode_minus'] = False # 마이너스 부호 출력 설정\n",
    "\n",
    "sample_data = np.array([10.8, 9.5, 11.2, 10.5, 11.3, 10.7, 10.9, 9.8, 11.0, 10.4])\n",
    "mu = 10  # 귀무가설에 따른 평균값\n",
    "alpha = 0.05  # 유의 수준\n",
    "sample_mean = np.mean(sample_data)  # 표본평균\n",
    "sample_std = np.std(sample_data, ddof=1)  # 표본표준편차\n",
    "df = len(sample_data) - 1  # 자유도\n",
    "t_value = (sample_mean - mu) / (sample_std / np.sqrt(len(sample_data)))  # 검정통계량\n",
    "t_crit1 = t.ppf(alpha/2, df) # 임계값\n",
    "t_crit2 = t.ppf(1-alpha/2, df) \n",
    "p_value = t.sf(abs(t_value), df) * 2  # p-value\n",
    "print('t_value:', round(t_value,2))\n",
    "print('임계값:', t_crit1, t_crit2)\n",
    "print('p_value:', round(p_value,2))\n",
    "\n",
    "# t분포 확률밀도함수 그리기\n",
    "t_dist = t(df)    # t분포 객체를 생성하는 것임\n",
    "x = np.linspace(-4,4,100)\n",
    "y = t_dist.pdf(x)\n",
    "\n",
    "plt.plot(x,y,label='t-분포')\n",
    "plt.axvline(t_crit1, color='red', linestyle='--', label='하측임곗값')\n",
    "plt.axvline(t_crit2, color='red', linestyle='--', label='상측임곗값')\n",
    "plt.axvline(t_value, color='green', linestyle='--', label='검정통계량')\n",
    "plt.legend()\n",
    "plt.show()"
   ]
  },
  {
   "cell_type": "code",
   "execution_count": null,
   "id": "3d00aa8b",
   "metadata": {
    "id": "3d00aa8b",
    "outputId": "144c3c69-bcc7-41bc-9911-923225f40939"
   },
   "outputs": [
    {
     "data": {
      "text/plain": [
       "<matplotlib.legend.Legend at 0x1d6fa837b50>"
      ]
     },
     "execution_count": 10,
     "metadata": {},
     "output_type": "execute_result"
    },
    {
     "data": {
      "image/png": "[encoded data removed]",
      "text/plain": [
       "<Figure size 640x480 with 1 Axes>"
      ]
     },
     "metadata": {},
     "output_type": "display_data"
    }
   ],
   "source": [
    "x_plot = np.arange(-4,4,0.1)\n",
    "plt.plot(x_plot, stats.norm.pdf(x=x_plot),color='blue')\n",
    "plt.axvline(t_crit1, color='orange', linestyle='--', label='임곗값')\n",
    "plt.axvline(t_crit2, color='orange', linestyle='--', label='임곗값')\n",
    "plt.axvline(t_value, color='green', linestyle='--', label='검정통계량')\n",
    "plt.legend(bbox_to_anchor=(1.3,1))"
   ]
  },
  {
   "cell_type": "markdown",
   "id": "2a384c31",
   "metadata": {
    "id": "2a384c31"
   },
   "source": [
    "#### 대응표본 t-검정(Paired samples t-test) \n",
    "동일한 개체나 집단에서, 두 조건의 차이에 대한 검정 방법입니다. \n",
    "예를 들어, 특정 약의 효과를 검증하기 위해, 약을 복용하기 전과 후의 체온을 측정한 경우에 대응표본 t-검정을 사용할 수 있습니다.\n",
    "- before와 after"
   ]
  },
  {
   "cell_type": "code",
   "execution_count": null,
   "id": "24ae1179",
   "metadata": {
    "id": "24ae1179",
    "outputId": "a3e9b45b-fd74-4d0e-af0a-d70328f9cf25"
   },
   "outputs": [
    {
     "data": {
      "text/html": [
       "<div>\n",
       "<style scoped>\n",
       "    .dataframe tbody tr th:only-of-type {\n",
       "        vertical-align: middle;\n",
       "    }\n",
       "\n",
       "    .dataframe tbody tr th {\n",
       "        vertical-align: top;\n",
       "    }\n",
       "\n",
       "    .dataframe thead th {\n",
       "        text-align: right;\n",
       "    }\n",
       "</style>\n",
       "<table border=\"1\" class=\"dataframe\">\n",
       "  <thead>\n",
       "    <tr style=\"text-align: right;\">\n",
       "      <th></th>\n",
       "      <th>person</th>\n",
       "      <th>medicine</th>\n",
       "      <th>body_temperature</th>\n",
       "    </tr>\n",
       "  </thead>\n",
       "  <tbody>\n",
       "    <tr>\n",
       "      <th>0</th>\n",
       "      <td>A</td>\n",
       "      <td>before</td>\n",
       "      <td>36.2</td>\n",
       "    </tr>\n",
       "    <tr>\n",
       "      <th>1</th>\n",
       "      <td>B</td>\n",
       "      <td>before</td>\n",
       "      <td>36.2</td>\n",
       "    </tr>\n",
       "    <tr>\n",
       "      <th>2</th>\n",
       "      <td>C</td>\n",
       "      <td>before</td>\n",
       "      <td>35.3</td>\n",
       "    </tr>\n",
       "    <tr>\n",
       "      <th>3</th>\n",
       "      <td>D</td>\n",
       "      <td>before</td>\n",
       "      <td>36.1</td>\n",
       "    </tr>\n",
       "    <tr>\n",
       "      <th>4</th>\n",
       "      <td>E</td>\n",
       "      <td>before</td>\n",
       "      <td>36.1</td>\n",
       "    </tr>\n",
       "  </tbody>\n",
       "</table>\n",
       "</div>"
      ],
      "text/plain": [
       "  person medicine  body_temperature\n",
       "0      A   before              36.2\n",
       "1      B   before              36.2\n",
       "2      C   before              35.3\n",
       "3      D   before              36.1\n",
       "4      E   before              36.1"
      ]
     },
     "execution_count": 110,
     "metadata": {},
     "output_type": "execute_result"
    }
   ],
   "source": [
    "import pandas as pd\n",
    "\n",
    "pt_data = pd.read_csv('../../dataset/5_9_ptt.csv')\n",
    "pt_data.head()"
   ]
  },
  {
   "cell_type": "code",
   "execution_count": null,
   "id": "4f6bfa28",
   "metadata": {
    "id": "4f6bfa28",
    "outputId": "996f7446-1f72-4e53-de06-3c2ac683b1d2"
   },
   "outputs": [
    {
     "data": {
      "text/plain": [
       "before    5\n",
       "after     5\n",
       "Name: medicine, dtype: int64"
      ]
     },
     "execution_count": 10,
     "metadata": {},
     "output_type": "execute_result"
    }
   ],
   "source": [
    "pt_data.medicine.value_counts()"
   ]
  },
  {
   "cell_type": "code",
   "execution_count": null,
   "id": "82494b9d",
   "metadata": {
    "id": "82494b9d",
    "outputId": "f82e93b7-38ef-41b7-da43-9502ab9b35d0"
   },
   "outputs": [
    {
     "data": {
      "text/plain": [
       "array([ 0.6, -0.1,  1.5,  1. ,  0.8])"
      ]
     },
     "execution_count": 23,
     "metadata": {},
     "output_type": "execute_result"
    }
   ],
   "source": [
    "before = pt_data[pt_data.medicine=='before']['body_temperature']\n",
    "after = pt_data.query('medicine==\"after\"')['body_temperature']\n",
    "\n",
    "# 배열로 변환 (차이 구하기 위함)\n",
    "before = np.array(before)\n",
    "after = np.array(after)\n",
    "diff = after - before\n",
    "diff"
   ]
  },
  {
   "cell_type": "code",
   "execution_count": null,
   "id": "9ab40765",
   "metadata": {
    "id": "9ab40765",
    "outputId": "455adf57-775a-486b-de3d-8a6bf4836081"
   },
   "outputs": [
    {
     "data": {
      "text/plain": [
       "Ttest_1sampResult(statistic=2.901693483620596, pvalue=0.044043109730074276)"
      ]
     },
     "execution_count": 25,
     "metadata": {},
     "output_type": "execute_result"
    }
   ],
   "source": [
    "# 평균값이 0과 다른지 검정\n",
    "# 귀무가설을 기각하므로 통계적으로 유의미한 차이가 있다고 주장할 수 있다.\n",
    "# p-value가 0.05보다 작으므로, 통계적으로 유의미한 결과가 있다 (귀무가설 기각)\n",
    "\n",
    "\n",
    "stats.ttest_1samp(diff, 0)"
   ]
  },
  {
   "cell_type": "markdown",
   "id": "68fe9452",
   "metadata": {
    "id": "68fe9452"
   },
   "source": [
    "#### 독립표본 t-검정(Independent samples t-test)\n",
    "두 개의 독립된 집단에서, 각 집단의 평균 차이가 유의한지를 검정하는 방법입니다. 예를 들어, 남자와 여자의 평균 키를 비교하는 경우에 독립표본 t-검정을 사용할 수 있습니다."
   ]
  },
  {
   "cell_type": "code",
   "execution_count": null,
   "id": "56e79126",
   "metadata": {
    "id": "56e79126",
    "outputId": "8814fc3a-a36d-4160-b39f-9a9b14ec22cf"
   },
   "outputs": [
    {
     "data": {
      "text/plain": [
       "3.1557282344421034"
      ]
     },
     "execution_count": 26,
     "metadata": {},
     "output_type": "execute_result"
    }
   ],
   "source": [
    "# 위에서 가져왔지만, 독립된 집단으로 가정하자\n",
    "# 평균\n",
    "\n",
    "mean_bf = np.mean(before)\n",
    "mean_af = np.mean(after)\n",
    "\n",
    "# 분산\n",
    "sigma_bf = np.var(before, ddof=1)\n",
    "sigma_af = np.var(after, ddof=1)\n",
    "\n",
    "# 샘플사이즈\n",
    "m = len(before)\n",
    "n = len(after)\n",
    "# t값\n",
    "t_value = (mean_af - mean_bf) / np.sqrt((sigma_bf/m+sigma_af/n))\n",
    "t_value\n"
   ]
  },
  {
   "cell_type": "code",
   "execution_count": null,
   "id": "27d16fd3",
   "metadata": {
    "id": "27d16fd3",
    "outputId": "6d2dcc14-50a6-4713-80b0-879753b0638d"
   },
   "outputs": [
    {
     "data": {
      "text/plain": [
       "Ttest_indResult(statistic=3.1557282344421034, pvalue=0.013484775682079892)"
      ]
     },
     "execution_count": 29,
     "metadata": {},
     "output_type": "execute_result"
    }
   ],
   "source": [
    "# 귀무가설을 기각하고, 통계적으로 유의미한 차이가 있다고 판단, 주장\n",
    "# 2개여서 독립표본이라는 ind를 씀\n",
    "# equal_var=False : 분산이 다르다고 가정한 t검정(welch 검정)\n",
    "\n",
    "stats.ttest_ind(after, before, equal_var = False)"
   ]
  },
  {
   "cell_type": "markdown",
   "id": "95fca091",
   "metadata": {
    "id": "95fca091"
   },
   "source": [
    "#### 과제2_0418.\n",
    "\n",
    "동일한 집단에 대해서 약 복용 전과 후의 체온에 변화가 있는지에 대한 유의성 검정을 수행하세요.\n",
    "\n",
    "- 약 복용 전 체온 데이터 : [36.2, 36.1, 36.5, 36.3, 36.2, 36.4, 36.3, 36.1, 36.6, 36.2]\n",
    "- 약 복용 후 체온 데이터 : [36.5, 36.3, 36.8, 36.6, 36.5, 36.7, 36.6, 36.2, 36.9, 36.4]"
   ]
  },
  {
   "cell_type": "code",
   "execution_count": null,
   "id": "e534d3b3",
   "metadata": {
    "id": "e534d3b3",
    "outputId": "fb2c8882-0c28-4eee-8012-dbd5df9bbf37"
   },
   "outputs": [
    {
     "name": "stdout",
     "output_type": "stream",
     "text": [
      "검정 결과 : 약의 효과가 있다고 할 수 있습니다.\n"
     ]
    }
   ],
   "source": [
    "from scipy.stats import ttest_rel\n",
    "\n",
    "before = [36.2, 36.1, 36.5, 36.3, 36.2, 36.4, 36.3, 36.1, 36.6, 36.2]\n",
    "after = [36.5, 36.3, 36.8, 36.6, 36.5, 36.7, 36.6, 36.2, 36.9, 36.4]\n",
    "\n",
    "t_statistic, p_value = ttest_rel(before, after)\n",
    "\n",
    "alpha = 0.05\n",
    "\n",
    "if p_value < alpha:\n",
    "    print(\"검정 결과 : 약의 효과가 있다고 할 수 있습니다.\")\n",
    "else:\n",
    "    print(\"검정 결과 : 약의 효과가 없다고 할 수 있습니다.\")\n"
   ]
  },
  {
   "cell_type": "markdown",
   "id": "59d49918",
   "metadata": {
    "id": "59d49918"
   },
   "source": [
    "#### 과제3_0418.\n",
    "남자와 여자 두 그룹에 대해서 평균 키의 차이가 있는지에 대한 유의성 검정을 수행하세요.\n",
    "- 남자의 키 데이터 : [172, 174, 176, 178, 180, 182, 184, 186, 188, 190]\n",
    "- 여자의 키 데이터 : [156, 158, 160, 162, 164, 166, 168, 170, 172, 174]"
   ]
  },
  {
   "cell_type": "code",
   "execution_count": null,
   "id": "c0c628e4",
   "metadata": {
    "id": "c0c628e4",
    "outputId": "e5a37b5c-d038-467a-cfbb-c33c36c29fb9"
   },
   "outputs": [
    {
     "name": "stdout",
     "output_type": "stream",
     "text": [
      "검정 결과 : 남자와 여자의 키의 평균 차이가 있다고 할 수 있습니다.\n"
     ]
    }
   ],
   "source": [
    "# 다른 그룹이니까 독립표본\n",
    "from scipy.stats import ttest_ind\n",
    "\n",
    "# 남자와 여자의 키 데이터\n",
    "male_height = np.array([172, 174, 176, 178, 180, 182, 184, 186, 188, 190])\n",
    "female_height = np.array([156, 158, 160, 162, 164, 166, 168, 170, 172, 174])\n",
    "\n",
    "# 독립표본 t-검정을 수행합니다.\n",
    "t_statistic, p_value = ttest_ind(male_height, female_height)\n",
    "\n",
    "# 유의수준을 0.05로 설정하고, 양측 검정을 수행한다고 가정합니다.\n",
    "alpha = 0.05\n",
    "\n",
    "# 검정 결과를 출력합니다.\n",
    "if p_value < alpha:\n",
    "    print(\"검정 결과 : 남자와 여자의 키의 평균 차이가 있다고 할 수 있습니다.\")\n",
    "else:\n",
    "    print(\"검정 결과 : 남자와 여자의 키의 평균 차이가 없다고 할 수 있습니다.\")"
   ]
  },
  {
   "cell_type": "markdown",
   "id": "93903ed7",
   "metadata": {
    "id": "93903ed7"
   },
   "source": [
    "#### 카이제곱 분포\n",
    "- 분산분석이나 독립성 검정 등에서 사용되는 확률분포입니다. 카이제곱 분포는 자유도(degree of freedom)에 따라 모양이 달라지며, 자유도가 클수록 정규분포에 가까워집니다.\n",
    "\n",
    "- 독립성 검정에서 카이스퀘어 분포를 사용하는 이유는 검정통계량으로서 카이스퀘어 검정통계량을 사용하기 때문입니다.\n",
    "\n",
    "- 독립성 검정은 두 범주형 변수 간의 관련성을 검정하는 방법입니다. 예를 들어, 성별과 흡연 여부라는 두 가지 범주형 변수가 있을 때, 이 두 변수 간에는 관련성이 있는지 없는지를 검정하는 것입니다.\n",
    "\n",
    "- 카이스퀘어 검정통계량은 범주형 변수 간의 관련성을 검정하는 데 사용되며, 관측된 빈도와 기대 빈도 간의 차이를 이용하여 검정통계량을 계산합니다. 검정통계량은 카이스퀘어 분포를 따르므로, 카이스퀘어 분포를 이용하여 유의확률을 계산합니다. 이 때, 검정통계량이 카이스퀘어 분포를 따르는 것은 큰 표본에서는 중심극한정리에 의해, 작은 표본에서는 피셔의 정확 검정에 의해 유도됩니다.\n",
    "\n",
    "- 따라서, 독립성 검정에서 카이스퀘어 분포를 사용하는 이유는, 검정통계량으로서 카이스퀘어 검정통계량을 사용하기 때문입니다. 이를 통해, 범주형 변수 간의 관련성을 검정할 때 적절한 검정통계량을 사용할 수 있으며, 이를 기반으로 유의확률을 계산하여 검정 결과를 도출할 수 있습니다."
   ]
  },
  {
   "cell_type": "code",
   "execution_count": null,
   "id": "dc609ddb",
   "metadata": {
    "id": "dc609ddb",
    "outputId": "b3f7cc08-5806-4344-a20b-498cf79d8b0b"
   },
   "outputs": [
    {
     "data": {
      "image/png": "[encoded data removed]",
      "text/plain": [
       "<Figure size 640x480 with 1 Axes>"
      ]
     },
     "metadata": {},
     "output_type": "display_data"
    }
   ],
   "source": [
    "# 카이제곱 분포의 확률밀도함수 그래프\n",
    "\n",
    "import numpy as np\n",
    "from scipy.stats import chi2\n",
    "import matplotlib.pyplot as plt\n",
    "\n",
    "# 카이제곱 분포의 확률밀도함수 그래프\n",
    "x = np.linspace(0,10,100)\n",
    "df = 5\n",
    "pdf = chi2.pdf(x,df)    # 카이스퀘어 분포를 따르는 밀도 함수\n",
    "\n",
    "plt.plot(x,pdf, label='PDF')\n",
    "\n",
    "# 카이제곱 분포의 누적분포함수 그래프\n",
    "x = np.linspace(0,10,100)\n",
    "df = 5\n",
    "cdf = chi2.cdf(x,df)\n",
    "plt.plot(x,cdf,label='CDF')\n",
    "\n",
    "plt.legend()\n",
    "plt.show()"
   ]
  },
  {
   "cell_type": "markdown",
   "id": "e479c4b8",
   "metadata": {
    "id": "e479c4b8"
   },
   "source": [
    "#### 독립성 검정\n",
    "- 독립성 검정은 두 개의 범주형 변수 간의 상관 관계를 검정하는 방법입니다. 독립성 검정에서는 귀무가설로 두 변수가 서로 독립적이라는 가정을 놓고, 대립가설로 두 변수가 서로 상관 관계가 있다는 가정을 놓습니다. 검정 결과로는 유의확률이 출력되며, 유의확률이 유의수준보다 작을 경우 귀무가설을 기각하고 대립가설을 채택합니다.\n",
    "\n",
    "- 독립성 검정에서는 검정통계량으로 카이제곱 검정통계량을 사용합니다. 검정통계량을 계산하기 위해 교차표(cross table)을 생성하고, 이를 바탕으로 관측값과 기대값의 차이를 계산합니다. 교차표는 각 범주형 변수의 카테고리를 축으로 하는 표입니다. 예를 들어, 성별과 흡연 여부라는 두 범주형 변수 간의 독립성을 검정하는 경우, 교차표는 성별을 행으로, 흡연 여부를 열로 나열한 표입니다.\n",
    "\n",
    "- 검정 결과로는 검정통계량과 유의확률이 출력되며, 유의확률이 유의수준보다 작으면 귀무가설을 기각하고 대립가설을 채택합니다. 따라서, 독립성 검정 결과를 해석할 때에는 유의수준을 고려하여 검정 결과를 해석해야 합니다."
   ]
  },
  {
   "cell_type": "code",
   "execution_count": null,
   "id": "e37181e9",
   "metadata": {
    "id": "e37181e9",
    "outputId": "5bc995fd-9f28-46f8-ca7c-a59458965144"
   },
   "outputs": [
    {
     "name": "stdout",
     "output_type": "stream",
     "text": [
      "카이 제곱 검정 통계량:  0.4464285714285714\n",
      "p_value:  0.5040358664525046\n",
      "자유도:  1\n",
      "기대빈도:  \n",
      " [[12. 18.]\n",
      " [28. 42.]]\n"
     ]
    }
   ],
   "source": [
    "from scipy.stats import chi2_contingency\n",
    "\n",
    "# 교차표 생성\n",
    "observed = [[10,20],[30,40]]\n",
    "\n",
    "# 카이 제곱 검정 실행\n",
    "chi2_stat, p_val, dof, expected = chi2_contingency(observed)    # 관측치, 교차료 생성한 것 넣어줌\n",
    "\n",
    "print('카이 제곱 검정 통계량: ', chi2_stat)\n",
    "print('p_value: ', p_val)\n",
    "print('자유도: ', dof)\n",
    "print('기대빈도: ','\\n', expected)"
   ]
  },
  {
   "cell_type": "code",
   "execution_count": null,
   "id": "28993155",
   "metadata": {
    "id": "28993155",
    "outputId": "74cf74b3-d66f-4493-fe16-bc9e5d861abc"
   },
   "outputs": [
    {
     "data": {
      "text/html": [
       "<div>\n",
       "<style scoped>\n",
       "    .dataframe tbody tr th:only-of-type {\n",
       "        vertical-align: middle;\n",
       "    }\n",
       "\n",
       "    .dataframe tbody tr th {\n",
       "        vertical-align: top;\n",
       "    }\n",
       "\n",
       "    .dataframe thead th {\n",
       "        text-align: right;\n",
       "    }\n",
       "</style>\n",
       "<table border=\"1\" class=\"dataframe\">\n",
       "  <thead>\n",
       "    <tr style=\"text-align: right;\">\n",
       "      <th></th>\n",
       "      <th>color</th>\n",
       "      <th>click</th>\n",
       "      <th>freq</th>\n",
       "    </tr>\n",
       "  </thead>\n",
       "  <tbody>\n",
       "    <tr>\n",
       "      <th>0</th>\n",
       "      <td>blue</td>\n",
       "      <td>click</td>\n",
       "      <td>20</td>\n",
       "    </tr>\n",
       "    <tr>\n",
       "      <th>1</th>\n",
       "      <td>blue</td>\n",
       "      <td>not</td>\n",
       "      <td>230</td>\n",
       "    </tr>\n",
       "    <tr>\n",
       "      <th>2</th>\n",
       "      <td>red</td>\n",
       "      <td>click</td>\n",
       "      <td>10</td>\n",
       "    </tr>\n",
       "    <tr>\n",
       "      <th>3</th>\n",
       "      <td>red</td>\n",
       "      <td>not</td>\n",
       "      <td>40</td>\n",
       "    </tr>\n",
       "  </tbody>\n",
       "</table>\n",
       "</div>"
      ],
      "text/plain": [
       "  color  click  freq\n",
       "0  blue  click    20\n",
       "1  blue    not   230\n",
       "2   red  click    10\n",
       "3   red    not    40"
      ]
     },
     "execution_count": 39,
     "metadata": {},
     "output_type": "execute_result"
    }
   ],
   "source": [
    "click_data = pd.read_csv('../../dataset/5_10_cd.csv')\n",
    "click_data"
   ]
  },
  {
   "cell_type": "code",
   "execution_count": null,
   "id": "207d1eb1",
   "metadata": {
    "id": "207d1eb1",
    "outputId": "b4087304-e70b-4e40-affc-c16692975136"
   },
   "outputs": [
    {
     "data": {
      "text/html": [
       "<div>\n",
       "<style scoped>\n",
       "    .dataframe tbody tr th:only-of-type {\n",
       "        vertical-align: middle;\n",
       "    }\n",
       "\n",
       "    .dataframe tbody tr th {\n",
       "        vertical-align: top;\n",
       "    }\n",
       "\n",
       "    .dataframe thead th {\n",
       "        text-align: right;\n",
       "    }\n",
       "</style>\n",
       "<table border=\"1\" class=\"dataframe\">\n",
       "  <thead>\n",
       "    <tr style=\"text-align: right;\">\n",
       "      <th>click</th>\n",
       "      <th>click</th>\n",
       "      <th>not</th>\n",
       "    </tr>\n",
       "    <tr>\n",
       "      <th>color</th>\n",
       "      <th></th>\n",
       "      <th></th>\n",
       "    </tr>\n",
       "  </thead>\n",
       "  <tbody>\n",
       "    <tr>\n",
       "      <th>blue</th>\n",
       "      <td>20</td>\n",
       "      <td>230</td>\n",
       "    </tr>\n",
       "    <tr>\n",
       "      <th>red</th>\n",
       "      <td>10</td>\n",
       "      <td>40</td>\n",
       "    </tr>\n",
       "  </tbody>\n",
       "</table>\n",
       "</div>"
      ],
      "text/plain": [
       "click  click  not\n",
       "color            \n",
       "blue      20  230\n",
       "red       10   40"
      ]
     },
     "execution_count": 42,
     "metadata": {},
     "output_type": "execute_result"
    }
   ],
   "source": [
    "#  컬러에 따라 클릭수가 달라질 것인가\n",
    "# 분할표\n",
    "\n",
    "cross = pd.pivot_table(data=click_data, values='freq', aggfunc='sum',index='color', columns='click')\n",
    "cross"
   ]
  },
  {
   "cell_type": "code",
   "execution_count": null,
   "id": "c8b594c0",
   "metadata": {
    "id": "c8b594c0",
    "outputId": "8c54fcb2-a5f7-427f-df19-f1737d2ece60"
   },
   "outputs": [
    {
     "data": {
      "text/plain": [
       "(6.666666666666666,\n",
       " 0.009823274507519247,\n",
       " 1,\n",
       " array([[ 25., 225.],\n",
       "        [  5.,  45.]]))"
      ]
     },
     "execution_count": 43,
     "metadata": {},
     "output_type": "execute_result"
    }
   ],
   "source": [
    "# p값이 0.05보다 작으므로 색에 따라 버튼을 클릭하는 것이 유의미하게 변한다고 판단\n",
    "# 통계량, p값, 자유도, 기대도수표\n",
    "\n",
    "stats.chi2_contingency(cross, correction=False)    # 보정 안한다는 뜻임"
   ]
  },
  {
   "cell_type": "markdown",
   "id": "f5a90568",
   "metadata": {
    "id": "f5a90568"
   },
   "source": [
    "#### 과제4_0148.\n",
    "아래 df에서 gender와 purchase간 독립성 검정을 수행하고 그 결과를 기술하세요."
   ]
  },
  {
   "cell_type": "code",
   "execution_count": null,
   "id": "3ab29380",
   "metadata": {
    "id": "3ab29380",
    "outputId": "386f2cf5-bc92-490c-a937-d7193017d03d"
   },
   "outputs": [
    {
     "data": {
      "text/plain": [
       "<bound method NDFrame.head of   gender purchase\n",
       "0      M      yes\n",
       "1      M      yes\n",
       "2      F       no\n",
       "3      F      yes\n",
       "4      F       no\n",
       "5      M      yes\n",
       "6      M       no\n",
       "7      F       no\n",
       "8      M       no\n",
       "9      M      yes>"
      ]
     },
     "execution_count": 24,
     "metadata": {},
     "output_type": "execute_result"
    }
   ],
   "source": [
    "import pandas as pd\n",
    "from scipy.stats import chi2_contingency\n",
    "\n",
    "# 귀무가설로 두 변수가 서로 독립적이라는 가정\n",
    "\n",
    "# 데이터 프레임 생성\n",
    "data = {'gender': ['M', 'M', 'F', 'F', 'F', 'M', 'M', 'F', 'M', 'M'],\n",
    "        'purchase': ['yes', 'yes', 'no', 'yes', 'no', 'yes', 'no', 'no', 'no', 'yes']}\n",
    "df = pd.DataFrame(data)\n",
    "df.head"
   ]
  },
  {
   "cell_type": "code",
   "execution_count": null,
   "id": "53400d58",
   "metadata": {
    "id": "53400d58",
    "outputId": "334607ac-1f07-4a75-9f31-b612b9eceaaf"
   },
   "outputs": [
    {
     "name": "stdout",
     "output_type": "stream",
     "text": [
      "purchase  no  yes\n",
      "gender           \n",
      "F          3    1\n",
      "M          2    4 \n",
      "\n",
      "카이 제곱 검정 통계량: 0.41666666666666663\n",
      "p-value: 0.5186050164287255\n",
      "자유도: 1\n",
      "기대되는 빈도: [[2. 2.]\n",
      " [3. 3.]]\n"
     ]
    }
   ],
   "source": [
    "\n",
    "# 데이터 프레임 생성\n",
    "data = {'gender': ['M', 'M', 'F', 'F', 'F', 'M', 'M', 'F', 'M', 'M'],\n",
    "        'purchase': ['yes', 'yes', 'no', 'yes', 'no', 'yes', 'no', 'no', 'no', 'yes']}\n",
    "df = pd.DataFrame(data)\n",
    "\n",
    "# 교차표 생성\n",
    "cross_tab = pd.crosstab(df.gender, df.purchase)\n",
    "print(cross_tab, '\\n')\n",
    "\n",
    "# 카이 제곱 검정 실행\n",
    "chi2_stat, p_val, dof, expected = chi2_contingency(cross_tab)\n",
    "\n",
    "# 결과출력\n",
    "print('카이 제곱 검정 통계량:', chi2_stat)\n",
    "print('p-value:', p_val)\n",
    "print('자유도:', dof)\n",
    "print('기대되는 빈도:', expected)"
   ]
  },
  {
   "cell_type": "code",
   "execution_count": null,
   "id": "a56c39fc",
   "metadata": {
    "id": "a56c39fc"
   },
   "outputs": [],
   "source": []
  },
  {
   "cell_type": "code",
   "execution_count": null,
   "id": "feed9237",
   "metadata": {
    "id": "feed9237"
   },
   "outputs": [],
   "source": [
    "# 20\n",
    "\n",
    "자유도가 1이고 유의 수준이 0.05인 경우의 t-value\n",
    "\n"
   ]
  },
  {
   "cell_type": "code",
   "execution_count": null,
   "id": "31308112",
   "metadata": {
    "id": "31308112"
   },
   "outputs": [],
   "source": [
    "# 21\n",
    "\n",
    "np.random.seed(1)\n",
    "num_trial=10000\n",
    "sample = np.random.choice(dice, num_trial) \n",
    "\n",
    "plt.plot(x,stats.norm.pdf(x=x),\n",
    "         color='black', linestyle='dotted')\n",
    "plt.plot(x,stats.t.pdf(x=x, df=5),             \n",
    "         color='blue')\n",
    "plt.plot(x,stats.t.pdf(x=x, df=1),\n",
    "         color='red')\n",
    "plt.plot(x,stats.t.pdf(x=x, df=30),           \n",
    "         color='gray')"
   ]
  },
  {
   "cell_type": "code",
   "execution_count": null,
   "id": "1d45755c",
   "metadata": {
    "id": "1d45755c",
    "outputId": "3b17f4f8-4e6d-4547-8928-4bc805ba12c9"
   },
   "outputs": [
    {
     "name": "stdout",
     "output_type": "stream",
     "text": [
      "0.6400000000000001\n"
     ]
    },
    {
     "data": {
      "text/plain": [
       "0.6954533522412207"
      ]
     },
     "execution_count": 358,
     "metadata": {},
     "output_type": "execute_result"
    },
    {
     "data": {
      "image/png": "[encoded data removed]",
      "text/plain": [
       "<Figure size 640x480 with 1 Axes>"
      ]
     },
     "metadata": {},
     "output_type": "display_data"
    }
   ],
   "source": [
    "# 22\n",
    "\n",
    "population = stats.norm(loc=10, scale=0.8)\n",
    "sample_10 = population.rvs(size=100)    # 위에서 샘플 10개 뽑아줌\n",
    "\n",
    "sns.histplot(sample_10,kde=True, bins=100)\n",
    "\n",
    "print(population.var())\n",
    "sample_10.var()"
   ]
  },
  {
   "cell_type": "code",
   "execution_count": null,
   "id": "7191fe21",
   "metadata": {
    "id": "7191fe21",
    "outputId": "d3b6d7bf-b800-491b-e28e-2e42e108188f"
   },
   "outputs": [
    {
     "name": "stdout",
     "output_type": "stream",
     "text": [
      "0.6400000000000001\n"
     ]
    },
    {
     "data": {
      "text/plain": [
       "0.6319847754266908"
      ]
     },
     "execution_count": 360,
     "metadata": {},
     "output_type": "execute_result"
    },
    {
     "data": {
      "image/png": "[encoded data removed]",
      "text/plain": [
       "<Figure size 640x480 with 1 Axes>"
      ]
     },
     "metadata": {},
     "output_type": "display_data"
    }
   ],
   "source": [
    "population = stats.norm(loc=10, scale=0.8)\n",
    "sample = population.rvs(size=10000)    # 위에서 샘플 10개 뽑아줌\n",
    "\n",
    "sns.histplot(sample,kde=True, bins=100)\n",
    "\n",
    "print(population.var())\n",
    "sample.var()"
   ]
  },
  {
   "cell_type": "code",
   "execution_count": null,
   "id": "e38ff340",
   "metadata": {
    "id": "e38ff340"
   },
   "outputs": [],
   "source": [
    "# 23\n",
    "\n"
   ]
  }
 ],
 "metadata": {
  "colab": {
   "provenance": []
  },
  "kernelspec": {
   "display_name": "Python 3 (ipykernel)",
   "language": "python",
   "name": "python3"
  },
  "language_info": {
   "codemirror_mode": {
    "name": "ipython",
    "version": 3
   },
   "file_extension": ".py",
   "mimetype": "text/x-python",
   "name": "python",
   "nbconvert_exporter": "python",
   "pygments_lexer": "ipython3",
   "version": "3.9.13"
  }
 },
 "nbformat": 4,
 "nbformat_minor": 5
}
