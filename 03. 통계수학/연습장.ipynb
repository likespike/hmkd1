{
 "cells": [
  {
   "cell_type": "code",
   "execution_count": 2,
   "id": "j-XF-ghNuTwi",
   "metadata": {
    "colab": {
     "base_uri": "https://localhost:8080/"
    },
    "executionInfo": {
     "elapsed": 22607,
     "status": "ok",
     "timestamp": 1681911316861,
     "user": {
      "displayName": "박주경",
      "userId": "06694313831384541311"
     },
     "user_tz": -540
    },
    "id": "j-XF-ghNuTwi",
    "outputId": "67ff3879-051b-4a36-fef8-6dbbaf17a017"
   },
   "outputs": [
    {
     "name": "stdout",
     "output_type": "stream",
     "text": [
      "Mounted at /content/drive\n"
     ]
    }
   ],
   "source": [
    "from google.colab import drive\n",
    "drive.mount('/content/drive')"
   ]
  },
  {
   "cell_type": "code",
   "execution_count": 17,
   "id": "ec3c2d1b",
   "metadata": {
    "executionInfo": {
     "elapsed": 1696,
     "status": "ok",
     "timestamp": 1681911321060,
     "user": {
      "displayName": "박주경",
      "userId": "06694313831384541311"
     },
     "user_tz": -540
    },
    "id": "ec3c2d1b"
   },
   "outputs": [],
   "source": [
    "import numpy as np\n",
    "import pandas as pd\n",
    "import seaborn as sns\n",
    "import matplotlib.pyplot as plt\n",
    "from scipy import stats"
   ]
  },
  {
   "cell_type": "markdown",
   "id": "2a0391af",
   "metadata": {
    "id": "2a0391af"
   },
   "source": [
    "#### 파일 열기"
   ]
  },
  {
   "cell_type": "code",
   "execution_count": 49,
   "id": "zIrc6mLWOMJn",
   "metadata": {
    "colab": {
     "base_uri": "https://localhost:8080/",
     "height": 237
    },
    "executionInfo": {
     "elapsed": 2575,
     "status": "ok",
     "timestamp": 1681911325926,
     "user": {
      "displayName": "박주경",
      "userId": "06694313831384541311"
     },
     "user_tz": -540
    },
    "id": "zIrc6mLWOMJn",
    "outputId": "3333426b-ac31-4b09-d5bf-0b31d2ca1435"
   },
   "outputs": [
    {
     "data": {
      "text/html": [
       "<div>\n",
       "<style scoped>\n",
       "    .dataframe tbody tr th:only-of-type {\n",
       "        vertical-align: middle;\n",
       "    }\n",
       "\n",
       "    .dataframe tbody tr th {\n",
       "        vertical-align: top;\n",
       "    }\n",
       "\n",
       "    .dataframe thead th {\n",
       "        text-align: right;\n",
       "    }\n",
       "</style>\n",
       "<table border=\"1\" class=\"dataframe\">\n",
       "  <thead>\n",
       "    <tr style=\"text-align: right;\">\n",
       "      <th></th>\n",
       "      <th>english</th>\n",
       "      <th>mathematics</th>\n",
       "    </tr>\n",
       "    <tr>\n",
       "      <th>student number</th>\n",
       "      <th></th>\n",
       "      <th></th>\n",
       "    </tr>\n",
       "  </thead>\n",
       "  <tbody>\n",
       "    <tr>\n",
       "      <th>1</th>\n",
       "      <td>42</td>\n",
       "      <td>65</td>\n",
       "    </tr>\n",
       "    <tr>\n",
       "      <th>2</th>\n",
       "      <td>69</td>\n",
       "      <td>80</td>\n",
       "    </tr>\n",
       "    <tr>\n",
       "      <th>3</th>\n",
       "      <td>56</td>\n",
       "      <td>63</td>\n",
       "    </tr>\n",
       "    <tr>\n",
       "      <th>4</th>\n",
       "      <td>41</td>\n",
       "      <td>63</td>\n",
       "    </tr>\n",
       "    <tr>\n",
       "      <th>5</th>\n",
       "      <td>57</td>\n",
       "      <td>76</td>\n",
       "    </tr>\n",
       "  </tbody>\n",
       "</table>\n",
       "</div>"
      ],
      "text/plain": [
       "                english  mathematics\n",
       "student number                      \n",
       "1                    42           65\n",
       "2                    69           80\n",
       "3                    56           63\n",
       "4                    41           63\n",
       "5                    57           76"
      ]
     },
     "execution_count": 49,
     "metadata": {},
     "output_type": "execute_result"
    }
   ],
   "source": [
    "# csv 파일\n",
    "\n",
    "# df = pd.read_csv('drive/Othercomputers/내 컴퓨터/hmkd1/m3_통계수학/data/ch2_scores_em.csv',\n",
    "#                  index_col='student number')\n",
    "df = pd.read_csv('../data/ch2_scores_em.csv', index_col=0)    # index_col='student number'\n",
    "df.head()"
   ]
  },
  {
   "cell_type": "code",
   "execution_count": 32,
   "id": "gxfpGKmkumTt",
   "metadata": {
    "colab": {
     "base_uri": "https://localhost:8080/"
    },
    "executionInfo": {
     "elapsed": 4,
     "status": "ok",
     "timestamp": 1681912231994,
     "user": {
      "displayName": "박주경",
      "userId": "06694313831384541311"
     },
     "user_tz": -540
    },
    "id": "gxfpGKmkumTt",
    "outputId": "377d238a-12c1-415f-a5a0-e7258f57a992"
   },
   "outputs": [
    {
     "name": "stdout",
     "output_type": "stream",
     "text": [
      "count    50.000000\n",
      "mean     78.880000\n",
      "std       8.414371\n",
      "min      57.000000\n",
      "25%      76.000000\n",
      "50%      80.000000\n",
      "75%      84.000000\n",
      "max      94.000000\n",
      "Name: mathematics, dtype: float64\n",
      "78.88\n",
      "78.88\n",
      "78.88\n",
      "78.88\n",
      "78.88\n",
      "78.88\n"
     ]
    }
   ],
   "source": [
    "# 평균값\n",
    "print(df.mathematics.describe())\n",
    "\n",
    "print(df.mathematics.describe()['mean'])\n",
    "print(df.mathematics.describe().loc['mean'])    # Series여서 loc 없어도 됨\n",
    "print(df.mathematics.describe()[1])\n",
    "print(df.mathematics.describe().iloc[1])    # Series여서 loc 없어도 됨\n",
    "print(df.mathematics.mean())\n",
    "print(np.mean(df.mathematics))\n"
   ]
  },
  {
   "cell_type": "code",
   "execution_count": 25,
   "id": "SUfrZwTFvkah",
   "metadata": {
    "colab": {
     "base_uri": "https://localhost:8080/"
    },
    "executionInfo": {
     "elapsed": 4,
     "status": "ok",
     "timestamp": 1681911980783,
     "user": {
      "displayName": "박주경",
      "userId": "06694313831384541311"
     },
     "user_tz": -540
    },
    "id": "SUfrZwTFvkah",
    "outputId": "b0fdddba-b1c5-4d7f-af54-c47871673ea9"
   },
   "outputs": [
    {
     "name": "stdout",
     "output_type": "stream",
     "text": [
      "80.0\n",
      "80.0\n",
      "80.0\n"
     ]
    },
    {
     "data": {
      "text/plain": [
       "80.0"
      ]
     },
     "execution_count": 25,
     "metadata": {},
     "output_type": "execute_result"
    }
   ],
   "source": [
    "# 중앙값\n",
    "\n",
    "print(df.mathematics.describe()[5])\n",
    "print(df.mathematics.describe()['50%'])\n",
    "print(df.mathematics.median())\n",
    "np.median(df.mathematics)"
   ]
  },
  {
   "cell_type": "code",
   "execution_count": 67,
   "id": "fzDNkO9DvkoC",
   "metadata": {
    "colab": {
     "base_uri": "https://localhost:8080/"
    },
    "executionInfo": {
     "elapsed": 4,
     "status": "ok",
     "timestamp": 1681913105375,
     "user": {
      "displayName": "박주경",
      "userId": "06694313831384541311"
     },
     "user_tz": -540
    },
    "id": "fzDNkO9DvkoC",
    "outputId": "8def159b-6540-4308-d986-5d11cac1285f"
   },
   "outputs": [
    {
     "name": "stdout",
     "output_type": "stream",
     "text": [
      "0    77\n",
      "1    82\n",
      "2    84\n",
      "Name: mathematics, dtype: int64\n",
      "[77 82 84]\n",
      "84    4\n",
      "82    4\n",
      "77    4\n",
      "Name: mathematics, dtype: int64\n"
     ]
    },
    {
     "data": {
      "text/plain": [
       "Int64Index([84, 82, 77], dtype='int64')"
      ]
     },
     "execution_count": 67,
     "metadata": {},
     "output_type": "execute_result"
    }
   ],
   "source": [
    "# 최빈값\n",
    "\n",
    "print(df.mathematics.mode())    # 최빈값이 1개 이상일 수 있기에, Series로 반환됨\n",
    "print(df.mathematics.mode().values)\n",
    "print(df.mathematics.value_counts()[0:3])\n",
    "df.mathematics.value_counts().index[0:3]\n"
   ]
  },
  {
   "cell_type": "code",
   "execution_count": 238,
   "id": "7dn0olkG337C",
   "metadata": {
    "colab": {
     "base_uri": "https://localhost:8080/"
    },
    "executionInfo": {
     "elapsed": 4,
     "status": "ok",
     "timestamp": 1681919348604,
     "user": {
      "displayName": "박주경",
      "userId": "06694313831384541311"
     },
     "user_tz": -540
    },
    "id": "7dn0olkG337C",
    "outputId": "60523bd7-7f0e-4a83-ba0c-d6cff852c4e9"
   },
   "outputs": [
    {
     "data": {
      "text/plain": [
       "student number\n",
       "1   -13.88\n",
       "2     1.12\n",
       "3   -15.88\n",
       "Name: mathematics, dtype: float64"
      ]
     },
     "execution_count": 238,
     "metadata": {},
     "output_type": "execute_result"
    }
   ],
   "source": [
    "# 편차 (deviation)\n",
    "# np.subtract - 배열이나 리스트 요소 간의 차이를 계산함\n",
    "\n",
    "deviation = ((df.mathematics - df.mathematics.mean()))\n",
    "np.subtract(df.mathematics, df.mathematics.mean())[:3]"
   ]
  },
  {
   "cell_type": "code",
   "execution_count": 158,
   "id": "tHV_SG_K6XUN",
   "metadata": {
    "colab": {
     "base_uri": "https://localhost:8080/"
    },
    "executionInfo": {
     "elapsed": 3,
     "status": "ok",
     "timestamp": 1681916016152,
     "user": {
      "displayName": "박주경",
      "userId": "06694313831384541311"
     },
     "user_tz": -540
    },
    "id": "tHV_SG_K6XUN",
    "outputId": "427dd7ce-435e-4c9a-c50b-b5ac8d5e922a"
   },
   "outputs": [
    {
     "name": "stdout",
     "output_type": "stream",
     "text": [
      "50.0\n",
      "50.0\n",
      "(50,)\n",
      "50\n"
     ]
    },
    {
     "data": {
      "text/plain": [
       "50"
      ]
     },
     "execution_count": 158,
     "metadata": {},
     "output_type": "execute_result"
    }
   ],
   "source": [
    "# 길이 아는 법\n",
    "# shape - 배열의 구조를 튜플 형태로 나타냄\n",
    "# size - 배열의 총 요소수를 나타냄 (2차원 배열도 다 풀어서 개수함)\n",
    "\n",
    "print(df.mathematics.describe()[0])\n",
    "print(df.mathematics.describe()['count'])\n",
    "print(df.mathematics.shape)\n",
    "print(df.mathematics.shape[0])\n",
    "df.mathematics.size"
   ]
  },
  {
   "cell_type": "code",
   "execution_count": 155,
   "id": "RjNgS2GA4SHY",
   "metadata": {
    "colab": {
     "base_uri": "https://localhost:8080/"
    },
    "executionInfo": {
     "elapsed": 5,
     "status": "ok",
     "timestamp": 1681915793198,
     "user": {
      "displayName": "박주경",
      "userId": "06694313831384541311"
     },
     "user_tz": -540
    },
    "id": "RjNgS2GA4SHY",
    "outputId": "edf39fe1-bf9d-4949-e7d2-5cf4bfd3d9d1"
   },
   "outputs": [
    {
     "name": "stdout",
     "output_type": "stream",
     "text": [
      "70.80163265306125\n",
      "70.80163265306125\n",
      "70.80163265306123\n",
      "70.80163265306123\n",
      "70.80163265306118\n",
      "70.80163265306118\n"
     ]
    },
    {
     "data": {
      "text/plain": [
       "70.80163265306118"
      ]
     },
     "execution_count": 155,
     "metadata": {},
     "output_type": "execute_result"
    }
   ],
   "source": [
    "# 분산\n",
    "# np.square - 주어진 배열의 각 원소를 제곱하는 함수\n",
    "\n",
    "print(df.mathematics.describe()['std']**2)  # describe에서는 기본이 비편향 표준편차임 (ddof=1 적용된 것과 같음)\n",
    "print(np.std(df.mathematics, ddof=1)**2)\n",
    "print(np.var(df.mathematics, ddof=1))\n",
    "print(df.mathematics.var())     # default가 ddof=1임\n",
    "print(sum((df.mathematics-df.mathematics.mean())**2)/(len(df.mathematics)-1))\n",
    "print(sum((df.mathematics-df.mathematics.mean())**2)/(df.mathematics.shape[0]-1))\n",
    "sum(np.square(df.mathematics-df.mathematics.mean()))/(len(df.mathematics)-1)"
   ]
  },
  {
   "cell_type": "code",
   "execution_count": 178,
   "id": "5rstmoSy23dF",
   "metadata": {
    "colab": {
     "base_uri": "https://localhost:8080/"
    },
    "executionInfo": {
     "elapsed": 3,
     "status": "ok",
     "timestamp": 1681916858709,
     "user": {
      "displayName": "박주경",
      "userId": "06694313831384541311"
     },
     "user_tz": -540
    },
    "id": "5rstmoSy23dF",
    "outputId": "0ec4255b-e7c8-4889-d4e7-b1670850ffff"
   },
   "outputs": [
    {
     "name": "stdout",
     "output_type": "stream",
     "text": [
      "8.414370603500968\n",
      "8.414370603500968\n",
      "8.414370603500968\n",
      "8.414370603500968\n",
      "8.414370603500968\n",
      "8.414370603500968\n",
      "8.414370603500968\n",
      "8.414370603500965\n",
      "8.414370603500965\n"
     ]
    }
   ],
   "source": [
    "# 표준편차\n",
    "\n",
    "print(df.mathematics.describe()['std'])  # describe에서는 기본이 비편향 표준편차임 (ddof=1 적용된 것과 같음)\n",
    "print(df.mathematics.describe()[2])\n",
    "print(np.std(df.mathematics, ddof=1))\n",
    "print(df.mathematics.std())\n",
    "\n",
    "print(np.sqrt(df.mathematics.var()))\n",
    "print(np.sqrt(np.var(df.mathematics, ddof=1)))\n",
    "print(df.mathematics.var()**0.5)\n",
    "\n",
    "print(np.sqrt(sum(np.square(df.mathematics-df.mathematics.mean()))/(len(df.mathematics)-1)))\n",
    "print((sum(np.square(df.mathematics-df.mathematics.mean()))/(len(df.mathematics)-1))**0.5)"
   ]
  },
  {
   "cell_type": "code",
   "execution_count": 79,
   "id": "qhes9ZWFvkro",
   "metadata": {
    "colab": {
     "base_uri": "https://localhost:8080/"
    },
    "executionInfo": {
     "elapsed": 639,
     "status": "ok",
     "timestamp": 1681917114776,
     "user": {
      "displayName": "박주경",
      "userId": "06694313831384541311"
     },
     "user_tz": -540
    },
    "id": "qhes9ZWFvkro",
    "outputId": "9d3942b4-5947-4e48-87be-726bd7a3daaf"
   },
   "outputs": [
    {
     "data": {
      "text/plain": [
       "37"
      ]
     },
     "execution_count": 79,
     "metadata": {},
     "output_type": "execute_result"
    }
   ],
   "source": [
    "# 범위\n",
    "# 데이터의 범위를 구하면 데이터가 어느 정도 분산되어 있는지를 알 수 있습니다.\n",
    "# 범위가 크다는 것은 데이터가 크게 퍼져있는 것을 의미하고,\n",
    "# 범위가 작다는 것은 데이터가 집중되어 있는 것을 의미합니다.\n",
    "# 또한 범위는 이상치(outliers) 탐지에도 사용될 수 있습니다.\n",
    "# 예를 들어, 데이터의 범위를 구한 후에 범위의 크기가 일정 수준 이상이면\n",
    "# 이상치가 있을 가능성이 높다는 것을 의미합니다.\n",
    "# 그렇다는 의미는 이상치의 영향으로 분포를 왜곡할 수 있음\n",
    "\n",
    "df.mathematics.max() - df.mathematics.min()"
   ]
  },
  {
   "cell_type": "code",
   "execution_count": null,
   "id": "5bfb9a60",
   "metadata": {},
   "outputs": [],
   "source": []
  },
  {
   "cell_type": "code",
   "execution_count": 209,
   "id": "mayjV2p0vkt2",
   "metadata": {
    "colab": {
     "base_uri": "https://localhost:8080/"
    },
    "executionInfo": {
     "elapsed": 617,
     "status": "ok",
     "timestamp": 1681918639625,
     "user": {
      "displayName": "박주경",
      "userId": "06694313831384541311"
     },
     "user_tz": -540
    },
    "id": "mayjV2p0vkt2",
    "outputId": "63a24c78-25c0-44d1-be9f-26a6700fbae5"
   },
   "outputs": [
    {
     "data": {
      "text/plain": [
       "array([-1.67146054,  1.08369419, -0.24286179, -1.77350331, -0.14081902])"
      ]
     },
     "execution_count": 209,
     "metadata": {},
     "output_type": "execute_result"
    }
   ],
   "source": [
    "# 정규화 - 데이터 간의 상대적인 크기 차이를 없앨 수 있음\n",
    "# 평균 0 표준편차 1로 만들어야 하니까 - 평균을 빼주고, 표준편차로 나눠준다\n",
    "\n",
    "data = df.english\n",
    "mean = data.mean()\n",
    "std = data.std()\n",
    "\n",
    "z = (data - mean) / std\n",
    "np.array(z)[:5]"
   ]
  },
  {
   "cell_type": "code",
   "execution_count": 263,
   "id": "K752sGQzNQkT",
   "metadata": {
    "colab": {
     "base_uri": "https://localhost:8080/"
    },
    "executionInfo": {
     "elapsed": 3,
     "status": "ok",
     "timestamp": 1681920235943,
     "user": {
      "displayName": "박주경",
      "userId": "06694313831384541311"
     },
     "user_tz": -540
    },
    "id": "K752sGQzNQkT",
    "outputId": "79d60094-cf6f-43ad-bc56-f46a07b1b01e"
   },
   "outputs": [
    {
     "data": {
      "text/plain": [
       "[42,\n",
       " 69,\n",
       " 56,\n",
       " 41,\n",
       " 57,\n",
       " 48,\n",
       " 65,\n",
       " 49,\n",
       " 65,\n",
       " 58,\n",
       " 70,\n",
       " 47,\n",
       " 51,\n",
       " 64,\n",
       " 62,\n",
       " 70,\n",
       " 71,\n",
       " 68,\n",
       " 73,\n",
       " 37,\n",
       " 65,\n",
       " 65,\n",
       " 61,\n",
       " 52,\n",
       " 57,\n",
       " 57,\n",
       " 75,\n",
       " 61,\n",
       " 47,\n",
       " 54,\n",
       " 66,\n",
       " 54,\n",
       " 54,\n",
       " 42,\n",
       " 37,\n",
       " 79,\n",
       " 56,\n",
       " 62,\n",
       " 62,\n",
       " 55,\n",
       " 63,\n",
       " 57,\n",
       " 57,\n",
       " 67,\n",
       " 55,\n",
       " 45,\n",
       " 66,\n",
       " 55,\n",
       " 64,\n",
       " 66]"
      ]
     },
     "execution_count": 263,
     "metadata": {},
     "output_type": "execute_result"
    }
   ],
   "source": [
    "# 열을 여러 형태로 뽑고 변환하는 법\n",
    "\n",
    "df_s = df['english']    # Series로 반환\n",
    "df_d = df[['english']]  # DataFrame으로 반환\n",
    "df_a = np.array(df.english)"
   ]
  },
  {
   "cell_type": "code",
   "execution_count": 86,
   "id": "fw3bkfoNvkwF",
   "metadata": {
    "colab": {
     "base_uri": "https://localhost:8080/",
     "height": 430
    },
    "executionInfo": {
     "elapsed": 507,
     "status": "ok",
     "timestamp": 1681919295759,
     "user": {
      "displayName": "박주경",
      "userId": "06694313831384541311"
     },
     "user_tz": -540
    },
    "id": "fw3bkfoNvkwF",
    "outputId": "e3d943e8-6226-4bd4-cfc6-22bd7ba7f7dc"
   },
   "outputs": [
    {
     "data": {
      "image/png": "[encoded data removed]",
      "text/plain": [
       "<Figure size 640x480 with 1 Axes>"
      ]
     },
     "metadata": {},
     "output_type": "display_data"
    }
   ],
   "source": [
    "# 이상치 - 일반적인 데이터의 분포와 매우 다른 값을 가지는 데이터를 의미\n",
    "# boxplot\n",
    "\n",
    "df_e=df[['english']]\n",
    "df_e\n",
    "\n",
    "sns.boxplot(data=df_e)\n",
    "plt.boxplot(df_e)\n",
    "\n",
    "plt.show()"
   ]
  },
  {
   "cell_type": "code",
   "execution_count": 112,
   "id": "fadc027a",
   "metadata": {},
   "outputs": [
    {
     "data": {
      "text/plain": [
       "<AxesSubplot:>"
      ]
     },
     "execution_count": 112,
     "metadata": {},
     "output_type": "execute_result"
    },
    {
     "data": {
      "image/png": "[encoded data removed]",
      "text/plain": [
       "<Figure size 640x480 with 1 Axes>"
      ]
     },
     "metadata": {},
     "output_type": "display_data"
    }
   ],
   "source": [
    "sns.boxplot(df.english.reset_index(drop=True))    # 인덱스에 0이 없어서(1부터 시작) reset해주어야 sns.boxplot 나옴\n"
   ]
  },
  {
   "cell_type": "code",
   "execution_count": null,
   "id": "6a5004ce",
   "metadata": {},
   "outputs": [],
   "source": [
    "\n"
   ]
  },
  {
   "cell_type": "code",
   "execution_count": 78,
   "id": "daf0cc3a",
   "metadata": {},
   "outputs": [
    {
     "name": "stdout",
     "output_type": "stream",
     "text": [
      "11\n",
      "11\n",
      "11\n",
      "11.0\n",
      "11.0\n",
      "11.0\n"
     ]
    },
    {
     "data": {
      "text/plain": [
       "11.0"
      ]
     },
     "execution_count": 78,
     "metadata": {},
     "output_type": "execute_result"
    }
   ],
   "source": [
    "# IQR (Interquartile Range) 사분범위\n",
    "# 데이터의 분포를 나타내는 통계량 중 하나로, 주어진 데이터의 하위 25%와 상위 25% 사이의 범위를 의미함\n",
    "# 중앙값을 기준으로 데이터가 얼마나 퍼져 있는지를 측정하는 방법\n",
    "# 범위에 비해 이상치의 영향 덜 받음\n",
    "# 이상치 탐지하는데 사용\n",
    "# IQR이 작으면 데이터다 Q1~Q3 사이에 밀집외더 있다는 의미\n",
    "# np.percentile - \n",
    "# quantile - \n",
    "from scipy.stats import iqr\n",
    "\n",
    "df_e = df.english\n",
    "\n",
    "english_sorted = sorted(df['english'])\n",
    "print(english_sorted[int(len(english_sorted) * 0.75)] - english_sorted[int(len(english_sorted) * 0.25)])\n",
    "\n",
    "print(sorted(df.english)[int(len(english_sorted) * 0.75)] - sorted(df.english)[int(len(english_sorted) * 0.25)])\n",
    "\n",
    "print(np.sort(df.english)[int(len(english_sorted) * 0.75)] - np.sort(df.english)[int(len(english_sorted) * 0.25)])\n",
    "\n",
    "print(df_e.describe()['75%'] - df_e.describe()['25%'])\n",
    "\n",
    "print(np.percentile(df_e, 75) - np.percentile(df_e, 25))\n",
    "print(df_e.quantile(0.75) - df_e.quantile(0.25))\n",
    "\n",
    "iqr(df_e)"
   ]
  },
  {
   "cell_type": "code",
   "execution_count": 43,
   "id": "99a39097",
   "metadata": {},
   "outputs": [
    {
     "data": {
      "text/plain": [
       "[<matplotlib.lines.Line2D at 0x233de5a6910>]"
      ]
     },
     "execution_count": 43,
     "metadata": {},
     "output_type": "execute_result"
    },
    {
     "data": {
      "image/png": "[encoded data removed]",
      "text/plain": [
       "<Figure size 640x480 with 1 Axes>"
      ]
     },
     "metadata": {},
     "output_type": "display_data"
    }
   ],
   "source": []
  },
  {
   "cell_type": "code",
   "execution_count": null,
   "id": "8cc4df07",
   "metadata": {},
   "outputs": [],
   "source": []
  },
  {
   "cell_type": "code",
   "execution_count": 21,
   "id": "dcf49bec",
   "metadata": {},
   "outputs": [
    {
     "data": {
      "text/latex": [
       "$\\displaystyle 2$"
      ],
      "text/plain": [
       "2"
      ]
     },
     "execution_count": 21,
     "metadata": {},
     "output_type": "execute_result"
    }
   ],
   "source": []
  }
 ],
 "metadata": {
  "colab": {
   "provenance": []
  },
  "kernelspec": {
   "display_name": "Python 3 (ipykernel)",
   "language": "python",
   "name": "python3"
  },
  "language_info": {
   "codemirror_mode": {
    "name": "ipython",
    "version": 3
   },
   "file_extension": ".py",
   "mimetype": "text/x-python",
   "name": "python",
   "nbconvert_exporter": "python",
   "pygments_lexer": "ipython3",
   "version": "3.9.13"
  }
 },
 "nbformat": 4,
 "nbformat_minor": 5
}
