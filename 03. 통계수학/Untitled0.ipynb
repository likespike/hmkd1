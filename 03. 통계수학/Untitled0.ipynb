{
 "cells": [
  {
   "cell_type": "markdown",
   "metadata": {
    "id": "RHGuu0WHVYMS"
   },
   "source": [
    "# 집합 - 회원의 자격 기준이 명확한 모임 (3이하의 자연수야)\n",
    "# 원소 - 집합을 구성하고 있는 회원 (1,2,3)\n"
   ]
  },
  {
   "cell_type": "markdown",
   "metadata": {
    "id": "0woxtyTVW0rP"
   },
   "source": [
    "#### 표본 (sample)\n",
    "- 표할 표, 근본 본\n",
    "- 본보기가 되거나 표준으로 삼을 만한 물건\n",
    "- 본디의 집단의 성질을 추측할 수 있는 통계 자료.\n",
    "- 모집단(population)의 부분집합\n",
    "#### 표본 평균\n",
    "- 표본 평균은 확률변수이다\n",
    "    - 표본을 추출하면 계속 달라지기에, 그 평균도 계속 달라짐 (변수)\n",
    "    - 그리고 확률을 가지고 있기 때문에 확률을 구할 수 있음"
   ]
  },
  {
   "cell_type": "markdown",
   "metadata": {
    "id": "PjfAqI3cr1VT"
   },
   "source": [
    "# 시행과 표본공간\n",
    "\n",
    "## 시행\n",
    "1. 무한히 반복될 수 있고\n",
    "    - 동전 던지기, 주사위 던지기\n",
    "2. 가능한 모든 결과에 대한 잘 정의된 집합을 갖는 행위\n",
    "    - {1,2,3,4,5,6}, {앞면, 뒷면}\n",
    "\n",
    "## 표본공간\n",
    "- 어떤 시행에서 발생할 수 있는 모든 결과를 모아 놓은 집합\n",
    "\n",
    "\n"
   ]
  },
  {
   "cell_type": "markdown",
   "metadata": {
    "id": "LFDlKj-dr2KC"
   },
   "source": [
    "# 사건\n",
    "- 시행 결과들의 집합이다. 이 집합에는 확률이 할당되어 있다.\n",
    "- 홀수의 눈이 나오는 사건 : {1,3,5} 그리고 그 사건이 발생활 확률 1/2"
   ]
  },
  {
   "cell_type": "markdown",
   "metadata": {
    "id": "LGQwYFZWq8Xk"
   },
   "source": [
    "어떤 시행의 표본공간 : S<br><br>\n",
    "\n",
    "S = {1,2,3,4,5,6}<br><br>\n",
    "\n",
    "홀수의 눈이 나오는 사건 = {1,3,5} -> A\n",
    "\n",
    "짝수의 눈이 나오는 사건 = {2,4,6} -> B\n",
    "\n",
    "3이상의 눈이 나오는 사건 = {3,4,5,6} -> C"
   ]
  },
  {
   "cell_type": "code",
   "execution_count": null,
   "metadata": {
    "colab": {
     "base_uri": "https://localhost:8080/",
     "height": 191
    },
    "executionInfo": {
     "elapsed": 4,
     "status": "ok",
     "timestamp": 1680970995155,
     "user": {
      "displayName": "박주경",
      "userId": "06694313831384541311"
     },
     "user_tz": -540
    },
    "id": "NP3bfGb4oLw5",
    "outputId": "9030452f-bff5-4f36-edfb-5ddde3686ff1"
   },
   "outputs": [
    {
     "data": {
      "text/html": [
       "\n",
       "  <div id=\"df-dc67964c-408e-4caf-a86e-8217e034bfac\">\n",
       "    <div class=\"colab-df-container\">\n",
       "      <div>\n",
       "<style scoped>\n",
       "    .dataframe tbody tr th:only-of-type {\n",
       "        vertical-align: middle;\n",
       "    }\n",
       "\n",
       "    .dataframe tbody tr th {\n",
       "        vertical-align: top;\n",
       "    }\n",
       "\n",
       "    .dataframe thead th {\n",
       "        text-align: right;\n",
       "    }\n",
       "</style>\n",
       "<table border=\"1\" class=\"dataframe\">\n",
       "  <thead>\n",
       "    <tr style=\"text-align: right;\">\n",
       "      <th></th>\n",
       "      <th>종류</th>\n",
       "      <th>설명</th>\n",
       "      <th>문제</th>\n",
       "      <th>답</th>\n",
       "    </tr>\n",
       "  </thead>\n",
       "  <tbody>\n",
       "    <tr>\n",
       "      <th>0</th>\n",
       "      <td>합사건</td>\n",
       "      <td>합집합</td>\n",
       "      <td>A와 B의 합사건은?</td>\n",
       "      <td>{1,2,3,4,5,6}</td>\n",
       "    </tr>\n",
       "    <tr>\n",
       "      <th>1</th>\n",
       "      <td>곱사건</td>\n",
       "      <td>교집합</td>\n",
       "      <td>A와 C의 곱사건은?</td>\n",
       "      <td>{3,5}</td>\n",
       "    </tr>\n",
       "    <tr>\n",
       "      <th>2</th>\n",
       "      <td>배반사건</td>\n",
       "      <td>교집합이 없는 경우</td>\n",
       "      <td>A와 B는 배반사건인가?</td>\n",
       "      <td>{1,2,3,4,5,6}</td>\n",
       "    </tr>\n",
       "    <tr>\n",
       "      <th>3</th>\n",
       "      <td>여사건</td>\n",
       "      <td>어떤 사건을 제외한 나머지</td>\n",
       "      <td>C의 여사건은?</td>\n",
       "      <td>{1,2,3,4,5,6}</td>\n",
       "    </tr>\n",
       "  </tbody>\n",
       "</table>\n",
       "</div>\n",
       "      <button class=\"colab-df-convert\" onclick=\"convertToInteractive('df-dc67964c-408e-4caf-a86e-8217e034bfac')\"\n",
       "              title=\"Convert this dataframe to an interactive table.\"\n",
       "              style=\"display:none;\">\n",
       "        \n",
       "  <svg xmlns=\"http://www.w3.org/2000/svg\" height=\"24px\"viewBox=\"0 0 24 24\"\n",
       "       width=\"24px\">\n",
       "    <path d=\"M0 0h24v24H0V0z\" fill=\"none\"/>\n",
       "    <path d=\"M18.56 5.44l.94 2.06.94-2.06 2.06-.94-2.06-.94-.94-2.06-.94 2.06-2.06.94zm-11 1L8.5 8.5l.94-2.06 2.06-.94-2.06-.94L8.5 2.5l-.94 2.06-2.06.94zm10 10l.94 2.06.94-2.06 2.06-.94-2.06-.94-.94-2.06-.94 2.06-2.06.94z\"/><path d=\"M17.41 7.96l-1.37-1.37c-.4-.4-.92-.59-1.43-.59-.52 0-1.04.2-1.43.59L10.3 9.45l-7.72 7.72c-.78.78-.78 2.05 0 2.83L4 21.41c.39.39.9.59 1.41.59.51 0 1.02-.2 1.41-.59l7.78-7.78 2.81-2.81c.8-.78.8-2.07 0-2.86zM5.41 20L4 18.59l7.72-7.72 1.47 1.35L5.41 20z\"/>\n",
       "  </svg>\n",
       "      </button>\n",
       "      \n",
       "  <style>\n",
       "    .colab-df-container {\n",
       "      display:flex;\n",
       "      flex-wrap:wrap;\n",
       "      gap: 12px;\n",
       "    }\n",
       "\n",
       "    .colab-df-convert {\n",
       "      background-color: #E8F0FE;\n",
       "      border: none;\n",
       "      border-radius: 50%;\n",
       "      cursor: pointer;\n",
       "      display: none;\n",
       "      fill: #1967D2;\n",
       "      height: 32px;\n",
       "      padding: 0 0 0 0;\n",
       "      width: 32px;\n",
       "    }\n",
       "\n",
       "    .colab-df-convert:hover {\n",
       "      background-color: #E2EBFA;\n",
       "      box-shadow: 0px 1px 2px rgba(60, 64, 67, 0.3), 0px 1px 3px 1px rgba(60, 64, 67, 0.15);\n",
       "      fill: #174EA6;\n",
       "    }\n",
       "\n",
       "    [theme=dark] .colab-df-convert {\n",
       "      background-color: #3B4455;\n",
       "      fill: #D2E3FC;\n",
       "    }\n",
       "\n",
       "    [theme=dark] .colab-df-convert:hover {\n",
       "      background-color: #434B5C;\n",
       "      box-shadow: 0px 1px 3px 1px rgba(0, 0, 0, 0.15);\n",
       "      filter: drop-shadow(0px 1px 2px rgba(0, 0, 0, 0.3));\n",
       "      fill: #FFFFFF;\n",
       "    }\n",
       "  </style>\n",
       "\n",
       "      <script>\n",
       "        const buttonEl =\n",
       "          document.querySelector('#df-dc67964c-408e-4caf-a86e-8217e034bfac button.colab-df-convert');\n",
       "        buttonEl.style.display =\n",
       "          google.colab.kernel.accessAllowed ? 'block' : 'none';\n",
       "\n",
       "        async function convertToInteractive(key) {\n",
       "          const element = document.querySelector('#df-dc67964c-408e-4caf-a86e-8217e034bfac');\n",
       "          const dataTable =\n",
       "            await google.colab.kernel.invokeFunction('convertToInteractive',\n",
       "                                                     [key], {});\n",
       "          if (!dataTable) return;\n",
       "\n",
       "          const docLinkHtml = 'Like what you see? Visit the ' +\n",
       "            '<a target=\"_blank\" href=https://colab.research.google.com/notebooks/data_table.ipynb>data table notebook</a>'\n",
       "            + ' to learn more about interactive tables.';\n",
       "          element.innerHTML = '';\n",
       "          dataTable['output_type'] = 'display_data';\n",
       "          await google.colab.output.renderOutput(dataTable, element);\n",
       "          const docLink = document.createElement('div');\n",
       "          docLink.innerHTML = docLinkHtml;\n",
       "          element.appendChild(docLink);\n",
       "        }\n",
       "      </script>\n",
       "    </div>\n",
       "  </div>\n",
       "  "
      ],
      "text/plain": [
       "     종류              설명             문제              답\n",
       "0   합사건             합집합    A와 B의 합사건은?  {1,2,3,4,5,6}\n",
       "1   곱사건             교집합    A와 C의 곱사건은?          {3,5}\n",
       "2  배반사건      교집합이 없는 경우  A와 B는 배반사건인가?  {1,2,3,4,5,6}\n",
       "3   여사건  어떤 사건을 제외한 나머지       C의 여사건은?  {1,2,3,4,5,6}"
      ]
     },
     "execution_count": 7,
     "metadata": {},
     "output_type": "execute_result"
    }
   ],
   "source": [
    "import pandas as pd\n",
    "\n",
    "data = [['합사건','합집합','A와 B의 합사건은?','{1,2,3,4,5,6}'],\n",
    "        ['곱사건','교집합','A와 C의 곱사건은?','{3,5}'],\n",
    "        ['배반사건','교집합이 없는 경우','A와 B는 배반사건인가?','{1,2,3,4,5,6}'],\n",
    "        ['여사건','어떤 사건을 제외한 나머지','C의 여사건은?','{1,2,3,4,5,6}']]\n",
    "\n",
    "columns = ['종류','설명','문제','답']\n",
    "df = pd.DataFrame(data, columns = columns)\n",
    "df"
   ]
  },
  {
   "cell_type": "markdown",
   "metadata": {
    "id": "YT130vDWlvGZ"
   },
   "source": [
    "# 일차방정식, 일차함수\n",
    "\n",
    "#### 방정식\n",
    "- 등식에 변수가 들어 있는 것\n",
    "- 등식(等式) 가운데 모르는 수를 품고, 그 모르는 수에 특정(特定)한 수치(數値)를 주었을 때에만 등식(等式)이 성립(成立)하는 것\n",
    "- 미지수의 값에 따라 참이 되기도 하고, 거짓이 되기도 하는 등식\n",
    "- 방정식을 참으로 만드는 미지수의 값을 찾는 것이 목적\n",
    "\n",
    "#### 일차방정식\n",
    "- ax + b = 0\n",
    "    - ax 에는 곱하기가 숨겨져 있다\n",
    "- 모르는 수 ? + 1 = 2, 그러면 ?는 1이다\n",
    "- 모르는 수에 대해 약속에 줌 -> 미지수X -> x + 1 = 2이다\n",
    "- x + 8 = -2\n",
    "    - 같으니까 동일한 수 8을 빼주면 x = -10이 됨\n",
    "    - 그것을 쉽게 넘겨줘서 부호 바꿔줌\u001e",
    "\n",
    "\n",
    "\n",
    "\n",
    "\n",
    "#### function, f(x)\n",
    "- 함수 : x의 값이 변함에 따라 y의 값이 하나씩 정해지는 것\n",
    "- 일차함수\n",
    "    - y = ax + b 일차함수는 이거 안에 다 들어간다\n",
    "        - y를 0으로 바꿔 보면 일차 방정식\n",
    "    - 일차함수는 절대 곡선이 나올 수 없다\n",
    "    - a는 기울기\n",
    "    - 절편 : 직선이 자른 x, y 지점\n"
   ]
  },
  {
   "cell_type": "markdown",
   "metadata": {
    "id": "c2AwNrymiDen"
   },
   "source": [
    "# 회귀분석\n",
    "#### 정의\n",
    "- 어떤 변수들이 한 변수의 원인이 되는지 분석하는 방법\n",
    "- 인과 관계가 있다라는 것, 어떤 인과 관계가 있는지를 수학적으로 분석하는 것 (인과 관계를 수학적으로 분석)\n",
    "\n",
    "#### 독립변수와 종속변수\n",
    "- 원인과 결과\n",
    "- 독립변수 : 원인에 해당하는 변수(X1, X2, X3, X4, ...)\n",
    "- 종속변수 : 독립 변수들의 영향을 받는 변수(Y)\n",
    "\n",
    "#### 회귀분석의 분류\n",
    "- 독립변수의 수에 따라 : 단순회귀분석(1개) vs 다중회귀분석\n",
    "- 독립변수의 척도에 따라 : 일반회귀분석(등간, 비율 척도) vs 더미변수를 이용한 회귀분석(명목, 서열 척도)\n",
    "- 독립변수와 종속변수의 관계에 따라 : 선형회귀분석 vs 비선형회귀분석\n",
    "    - 선형회귀분석 : 두 변수의 관계를 가장 잘 설명해 줄 수 있는 직선을 찾자\n",
    "    - 비선형회귀분석 : 직선이 아닌 선으로 두 변수 관계를 분석하는 것\n",
    "\n",
    "#### 선형회귀분석\n",
    "- 제동시점애서의 속도, 제동시점부터 완전제동까지의 거리를 50번 실험에 점을 찍은 산점도 그래프\n",
    "- 이 점들을 동시에 지나는 직선은 없으므로\n",
    "- 두 변수의 관계를 가장 잘 나타내줄 수 있는 직선을 구한다 (= 잔차의 제곱의 합이 최소라는 의미임)\n",
    "\n"
   ]
  }
 ],
 "metadata": {
  "colab": {
   "authorship_tag": "ABX9TyM5k7q2VVUP5i3Gk4vk0GMY",
   "provenance": []
  },
  "kernelspec": {
   "display_name": "Python 3 (ipykernel)",
   "language": "python",
   "name": "python3"
  },
  "language_info": {
   "codemirror_mode": {
    "name": "ipython",
    "version": 3
   },
   "file_extension": ".py",
   "mimetype": "text/x-python",
   "name": "python",
   "nbconvert_exporter": "python",
   "pygments_lexer": "ipython3",
   "version": "3.9.13"
  }
 },
 "nbformat": 4,
 "nbformat_minor": 1
}
