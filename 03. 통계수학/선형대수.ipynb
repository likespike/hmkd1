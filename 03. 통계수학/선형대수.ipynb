{
 "cells": [
  {
   "cell_type": "markdown",
   "id": "e346b1a4",
   "metadata": {
    "id": "e346b1a4"
   },
   "source": [
    "## 데이터와 행렬\n",
    "- 스칼라 : 숫자 하나만으로 이루어진 데이터 (크기만 나타냄)\n",
    "- 벡터 : 여러 숫자가 특정한 순서대로 모여 있는 것을 의미. 하나의 벡터를 이루는 데이터 수가 n기이면 n-차원 벡터라고 함 (방향도 나타냄) - ex> 양의 상관관계, 음의 상관관계\n",
    "- 열벡터는 열의 수가 1인 행렬\n",
    "- 하나의 데이터 레코드를 단독으로 벡터로 나타낼 때는 하나의 열로 나타내고 복수의 데이터 레코드 집합을 행렬로 나타낼 때는 하나의 데이터 레코드가 하나의 행으로 표기하는 것은 데이터 분석에서 일반적인 관례\n",
    "- 스칼라와 벡터도 수학적으로는 행렬에 속한다.\n",
    "- 스칼라는 열과 행의 수가 각각 1인 행렬이고 벡터는 열의 수가 1인 행렬이다."
   ]
  },
  {
   "cell_type": "code",
   "execution_count": null,
   "id": "7828604f",
   "metadata": {},
   "outputs": [],
   "source": []
  },
  {
   "cell_type": "code",
   "execution_count": 1,
   "id": "cwd3nFiQfOsc",
   "metadata": {
    "colab": {
     "base_uri": "https://localhost:8080/"
    },
    "executionInfo": {
     "elapsed": 29335,
     "status": "ok",
     "timestamp": 1682004223883,
     "user": {
      "displayName": "박주경",
      "userId": "06694313831384541311"
     },
     "user_tz": -540
    },
    "id": "cwd3nFiQfOsc",
    "outputId": "d4611c67-42f6-48ae-c989-86a2f8f35dce"
   },
   "outputs": [
    {
     "name": "stdout",
     "output_type": "stream",
     "text": [
      "Mounted at /content/drive\n"
     ]
    }
   ],
   "source": [
    "from google.colab import drive\n",
    "drive.mount('/content/drive')"
   ]
  },
  {
   "cell_type": "code",
   "execution_count": null,
   "id": "pS0SRJYBMF4d",
   "metadata": {
    "id": "pS0SRJYBMF4d"
   },
   "outputs": [],
   "source": [
    "파이썬 - [] 1~3차원\n",
    "[1,2,3]\n",
    "[[1,2,3]]\n",
    "[[[]]]\n",
    "\n",
    "엑셀파일 - sheet - 행과 열 (4- 3-2-1차원)\n"
   ]
  },
  {
   "cell_type": "code",
   "execution_count": null,
   "id": "9edef2dd",
   "metadata": {
    "id": "9edef2dd"
   },
   "outputs": [],
   "source": [
    "데이터프레임의 2차원과 n-차원의 2차원은 다른 개념이다.\n",
    "\n",
    "열만이나 행만의 1차원 -> 열과 행으로 구성된 2차원 (3,3) -> 3차원 (3,3,3)\n",
    "\n",
    "2차원 벡터 - 데이터의 수이다.스칼라는 하나의 값 -> (2,3) 스칼라가 2개 있는 것\n",
    "# 1행 6열짜리를 그냥 쓰면 되는데, 이걸 2행 3열 식으로 만들어 주는건 뭔가 묶으려고 하는 것 - 그래서 2개든 3개든 되는 것임"
   ]
  },
  {
   "cell_type": "code",
   "execution_count": 2,
   "id": "d24d0dc2",
   "metadata": {
    "executionInfo": {
     "elapsed": 631,
     "status": "ok",
     "timestamp": 1682004315133,
     "user": {
      "displayName": "박주경",
      "userId": "06694313831384541311"
     },
     "user_tz": -540
    },
    "id": "d24d0dc2"
   },
   "outputs": [],
   "source": [
    "import pandas as pd\n",
    "import numpy as np\n",
    "import matplotlib.pyplot as plt"
   ]
  },
  {
   "cell_type": "code",
   "execution_count": 3,
   "id": "b27babc4",
   "metadata": {
    "id": "b27babc4",
    "outputId": "3ebec1a2-3342-43ab-e7ca-f8d9a502e29d"
   },
   "outputs": [
    {
     "name": "stdout",
     "output_type": "stream",
     "text": [
      "5.1\n",
      "[5.1 3.5 1.4 0.2]\n"
     ]
    },
    {
     "data": {
      "text/plain": [
       "array([5.1, 4.9, 4.7, 4.6, 5. ])"
      ]
     },
     "execution_count": 3,
     "metadata": {},
     "output_type": "execute_result"
    }
   ],
   "source": [
    "from sklearn.datasets import load_iris\n",
    "\n",
    "iris = load_iris()\n",
    "\n",
    "x0 = iris.data[0,0]\n",
    "print(x0)    # 스칼라\n",
    "\n",
    "x1 = iris.data[0]\n",
    "print(x1)    # 행벡터\n",
    "\n",
    "x2 = iris.data[:,0]\n",
    "x2[:5]    # 열벡터\n",
    "\n"
   ]
  },
  {
   "cell_type": "code",
   "execution_count": null,
   "id": "be5b2944",
   "metadata": {
    "id": "be5b2944",
    "outputId": "add88ebd-9185-4ce2-dd1f-02a04a766e9f"
   },
   "outputs": [
    {
     "data": {
      "text/plain": [
       "dict_keys(['data', 'target', 'frame', 'target_names', 'DESCR', 'feature_names', 'filename', 'data_module'])"
      ]
     },
     "execution_count": 121,
     "metadata": {},
     "output_type": "execute_result"
    }
   ],
   "source": [
    "# 라이브러리에서 데이터 가지고 올 때 keys로 내용 파악해 볼 필요 있음\n",
    "\n",
    "iris.keys()"
   ]
  },
  {
   "cell_type": "code",
   "execution_count": 4,
   "id": "24bb90cb",
   "metadata": {},
   "outputs": [
    {
     "data": {
      "text/plain": [
       "array(['setosa', 'versicolor', 'virginica'], dtype='<U10')"
      ]
     },
     "execution_count": 4,
     "metadata": {},
     "output_type": "execute_result"
    }
   ],
   "source": [
    "iris.target_names"
   ]
  },
  {
   "cell_type": "code",
   "execution_count": 6,
   "id": "26b35421",
   "metadata": {
    "id": "26b35421",
    "outputId": "827a19c7-d902-4b06-c214-026f2ec3c52d"
   },
   "outputs": [
    {
     "data": {
      "text/html": [
       "<div>\n",
       "<style scoped>\n",
       "    .dataframe tbody tr th:only-of-type {\n",
       "        vertical-align: middle;\n",
       "    }\n",
       "\n",
       "    .dataframe tbody tr th {\n",
       "        vertical-align: top;\n",
       "    }\n",
       "\n",
       "    .dataframe thead th {\n",
       "        text-align: right;\n",
       "    }\n",
       "</style>\n",
       "<table border=\"1\" class=\"dataframe\">\n",
       "  <thead>\n",
       "    <tr style=\"text-align: right;\">\n",
       "      <th></th>\n",
       "      <th>sepal length (cm)</th>\n",
       "      <th>sepal width (cm)</th>\n",
       "      <th>petal length (cm)</th>\n",
       "      <th>petal width (cm)</th>\n",
       "      <th>target</th>\n",
       "    </tr>\n",
       "  </thead>\n",
       "  <tbody>\n",
       "    <tr>\n",
       "      <th>0</th>\n",
       "      <td>5.1</td>\n",
       "      <td>3.5</td>\n",
       "      <td>1.4</td>\n",
       "      <td>0.2</td>\n",
       "      <td>0</td>\n",
       "    </tr>\n",
       "    <tr>\n",
       "      <th>1</th>\n",
       "      <td>4.9</td>\n",
       "      <td>3.0</td>\n",
       "      <td>1.4</td>\n",
       "      <td>0.2</td>\n",
       "      <td>0</td>\n",
       "    </tr>\n",
       "    <tr>\n",
       "      <th>2</th>\n",
       "      <td>4.7</td>\n",
       "      <td>3.2</td>\n",
       "      <td>1.3</td>\n",
       "      <td>0.2</td>\n",
       "      <td>0</td>\n",
       "    </tr>\n",
       "    <tr>\n",
       "      <th>3</th>\n",
       "      <td>4.6</td>\n",
       "      <td>3.1</td>\n",
       "      <td>1.5</td>\n",
       "      <td>0.2</td>\n",
       "      <td>0</td>\n",
       "    </tr>\n",
       "    <tr>\n",
       "      <th>4</th>\n",
       "      <td>5.0</td>\n",
       "      <td>3.6</td>\n",
       "      <td>1.4</td>\n",
       "      <td>0.2</td>\n",
       "      <td>0</td>\n",
       "    </tr>\n",
       "  </tbody>\n",
       "</table>\n",
       "</div>"
      ],
      "text/plain": [
       "   sepal length (cm)  sepal width (cm)  petal length (cm)  petal width (cm)  \\\n",
       "0                5.1               3.5                1.4               0.2   \n",
       "1                4.9               3.0                1.4               0.2   \n",
       "2                4.7               3.2                1.3               0.2   \n",
       "3                4.6               3.1                1.5               0.2   \n",
       "4                5.0               3.6                1.4               0.2   \n",
       "\n",
       "   target  \n",
       "0       0  \n",
       "1       0  \n",
       "2       0  \n",
       "3       0  \n",
       "4       0  "
      ]
     },
     "execution_count": 6,
     "metadata": {},
     "output_type": "execute_result"
    }
   ],
   "source": [
    "df = pd.DataFrame(iris.data, columns=iris.feature_names)\n",
    "df['target'] = iris.target\n",
    "df.head()"
   ]
  },
  {
   "cell_type": "code",
   "execution_count": 7,
   "id": "98ee0c13",
   "metadata": {},
   "outputs": [
    {
     "data": {
      "text/plain": [
       "0    50\n",
       "1    50\n",
       "2    50\n",
       "Name: target, dtype: int64"
      ]
     },
     "execution_count": 7,
     "metadata": {},
     "output_type": "execute_result"
    }
   ],
   "source": [
    "# 0 1 2 를 ['setosa', 'versicolor', 'virginica']로 바꿔 주어야 함\n",
    "\n",
    "df.target.value_counts()"
   ]
  },
  {
   "cell_type": "code",
   "execution_count": 10,
   "id": "a5b95770",
   "metadata": {},
   "outputs": [
    {
     "data": {
      "text/plain": [
       "'.. _iris_dataset:\\n\\nIris plants dataset\\n--------------------\\n\\n**Data Set Characteristics:**\\n\\n    :Number of Instances: 150 (50 in each of three classes)\\n    :Number of Attributes: 4 numeric, predictive attributes and the class\\n    :Attribute Information:\\n        - sepal length in cm\\n        - sepal width in cm\\n        - petal length in cm\\n        - petal width in cm\\n        - class:\\n                - Iris-Setosa\\n                - Iris-Versicolour\\n                - Iris-Virginica\\n                \\n    :Summary Statistics:\\n\\n    ============== ==== ==== ======= ===== ====================\\n                    Min  Max   Mean    SD   Class Correlation\\n    ============== ==== ==== ======= ===== ====================\\n    sepal length:   4.3  7.9   5.84   0.83    0.7826\\n    sepal width:    2.0  4.4   3.05   0.43   -0.4194\\n    petal length:   1.0  6.9   3.76   1.76    0.9490  (high!)\\n    petal width:    0.1  2.5   1.20   0.76    0.9565  (high!)\\n    ============== ==== ==== ======= ===== ====================\\n\\n    :Missing Attribute Values: None\\n    :Class Distribution: 33.3% for each of 3 classes.\\n    :Creator: R.A. Fisher\\n    :Donor: Michael Marshall (MARSHALL%PLU@io.arc.nasa.gov)\\n    :Date: July, 1988\\n\\nThe famous Iris database, first used by Sir R.A. Fisher. The dataset is taken\\nfrom Fisher\\'s paper. Note that it\\'s the same as in R, but not as in the UCI\\nMachine Learning Repository, which has two wrong data points.\\n\\nThis is perhaps the best known database to be found in the\\npattern recognition literature.  Fisher\\'s paper is a classic in the field and\\nis referenced frequently to this day.  (See Duda & Hart, for example.)  The\\ndata set contains 3 classes of 50 instances each, where each class refers to a\\ntype of iris plant.  One class is linearly separable from the other 2; the\\nlatter are NOT linearly separable from each other.\\n\\n.. topic:: References\\n\\n   - Fisher, R.A. \"The use of multiple measurements in taxonomic problems\"\\n     Annual Eugenics, 7, Part II, 179-188 (1936); also in \"Contributions to\\n     Mathematical Statistics\" (John Wiley, NY, 1950).\\n   - Duda, R.O., & Hart, P.E. (1973) Pattern Classification and Scene Analysis.\\n     (Q327.D83) John Wiley & Sons.  ISBN 0-471-22361-1.  See page 218.\\n   - Dasarathy, B.V. (1980) \"Nosing Around the Neighborhood: A New System\\n     Structure and Classification Rule for Recognition in Partially Exposed\\n     Environments\".  IEEE Transactions on Pattern Analysis and Machine\\n     Intelligence, Vol. PAMI-2, No. 1, 67-71.\\n   - Gates, G.W. (1972) \"The Reduced Nearest Neighbor Rule\".  IEEE Transactions\\n     on Information Theory, May 1972, 431-433.\\n   - See also: 1988 MLC Proceedings, 54-64.  Cheeseman et al\"s AUTOCLASS II\\n     conceptual clustering system finds 3 classes in the data.\\n   - Many, many more ...'"
      ]
     },
     "execution_count": 10,
     "metadata": {},
     "output_type": "execute_result"
    }
   ],
   "source": [
    "iris.DESCR"
   ]
  },
  {
   "cell_type": "code",
   "execution_count": null,
   "id": "6e3bb494",
   "metadata": {
    "id": "6e3bb494",
    "outputId": "89f5504b-42ec-40e9-80ba-3252ee2d59cc"
   },
   "outputs": [
    {
     "data": {
      "text/plain": [
       "array([[5.1],\n",
       "       [3.5],\n",
       "       [1.4],\n",
       "       [0.2]])"
      ]
     },
     "execution_count": 129,
     "metadata": {},
     "output_type": "execute_result"
    }
   ],
   "source": [
    "# 넘파이를 사용한 벡터 표현 : 벡터를 열 개수가 하나인 2차원 배열로 표현\n",
    "# 4차원 벡터, 2차원 배열 : 배열의 차원은 벡터의 차원과 다른 의미\n",
    "\n",
    "# array() 함수는 파이썬 내장 모듈인 numpy에서 제공하는 함수로,\n",
    "# 파이썬 리스트와 같은 배열 형태의 데이터를 입력받아 ndarray 객체로 변환하는 역할을 합니다.\n",
    "# 이 때, ndarray 객체는 고차원의 배열을 처리하기에 최적화된 자료형입니다.\n",
    "\n",
    "\n",
    "x1 = np.array([[5.1],\n",
    "             [3.5],\n",
    "             [1.4],\n",
    "             [0.2]])\n",
    "x1"
   ]
  },
  {
   "cell_type": "code",
   "execution_count": null,
   "id": "7f29cda5",
   "metadata": {
    "id": "7f29cda5",
    "outputId": "fce73075-2605-46ab-faa0-aa8ee3b6019e"
   },
   "outputs": [
    {
     "data": {
      "text/plain": [
       "array([5.1, 3.5, 1.4, 0.2])"
      ]
     },
     "execution_count": 130,
     "metadata": {},
     "output_type": "execute_result"
    }
   ],
   "source": [
    "# 넘파이는 1차원 배열 객체도 벡터로 인정\n",
    "# 하나의 리스트가 하나의 요소인 것 같음\n",
    "\n",
    "x1 = np.array([5.1, 3.5, 1.4, 0.2])\n",
    "x1"
   ]
  },
  {
   "cell_type": "markdown",
   "id": "ebc9b404",
   "metadata": {
    "id": "ebc9b404"
   },
   "source": [
    "- 행렬 : 복수의 차원을 가지는 데이터 레코드가 다시 여러 개 있는 경우의 데이터를 합쳐서 표기한 것\n",
    "- 붓꽃 예에서 붓꽃 6 송이에 대해 꽃잎과 꽃받침 크기를 측정했다면 4차원 붓꽃 데이터가 6개. 4 x 6 = 24개의 실수 숫자가 있은 것이며 이 숫자 집합을 행렬로 나타낼 수 있다.\n",
    "- 벡터는 열의 수가 1인 행렬이라고 볼 수 있으므로 열벡터라고도 한다.\n",
    "- 데이터를 행렬로 묶어서 표시할 때는 붓꽃 하나에 대한 데이터 레코드, 즉 하나의 벡터가 열이 아닌 행으로 표시한다.\n",
    "- 하나의 데이터 레코드를 단독으로 벡터로 나타낼 때는 하나의 열로 나타내고 복수의 데이터 레코드 집합을 행렬로 나타낼 때는 하나의 데이터 레코드가 하나의 행으로 표기하는 것은 일관성이 없어 보이지만 다른 연산 시 필요하여 데이터 분석에서 쓰는 일반적인 관례임을 유의해야 함 Series vs DataFrame)"
   ]
  },
  {
   "cell_type": "code",
   "execution_count": null,
   "id": "cf70d447",
   "metadata": {
    "id": "cf70d447",
    "outputId": "a277bd0f-6a4a-456c-ef5f-49e4c3445975"
   },
   "outputs": [
    {
     "data": {
      "text/html": [
       "<div>\n",
       "<style scoped>\n",
       "    .dataframe tbody tr th:only-of-type {\n",
       "        vertical-align: middle;\n",
       "    }\n",
       "\n",
       "    .dataframe tbody tr th {\n",
       "        vertical-align: top;\n",
       "    }\n",
       "\n",
       "    .dataframe thead th {\n",
       "        text-align: right;\n",
       "    }\n",
       "</style>\n",
       "<table border=\"1\" class=\"dataframe\">\n",
       "  <thead>\n",
       "    <tr style=\"text-align: right;\">\n",
       "      <th></th>\n",
       "      <th>sepal length (cm)</th>\n",
       "      <th>sepal width (cm)</th>\n",
       "      <th>petal length (cm)</th>\n",
       "      <th>petal width (cm)</th>\n",
       "    </tr>\n",
       "  </thead>\n",
       "  <tbody>\n",
       "    <tr>\n",
       "      <th>0</th>\n",
       "      <td>5.1</td>\n",
       "      <td>3.5</td>\n",
       "      <td>1.4</td>\n",
       "      <td>0.2</td>\n",
       "    </tr>\n",
       "    <tr>\n",
       "      <th>1</th>\n",
       "      <td>4.9</td>\n",
       "      <td>3.0</td>\n",
       "      <td>1.4</td>\n",
       "      <td>0.2</td>\n",
       "    </tr>\n",
       "    <tr>\n",
       "      <th>2</th>\n",
       "      <td>4.7</td>\n",
       "      <td>3.2</td>\n",
       "      <td>1.3</td>\n",
       "      <td>0.2</td>\n",
       "    </tr>\n",
       "    <tr>\n",
       "      <th>3</th>\n",
       "      <td>4.6</td>\n",
       "      <td>3.1</td>\n",
       "      <td>1.5</td>\n",
       "      <td>0.2</td>\n",
       "    </tr>\n",
       "    <tr>\n",
       "      <th>4</th>\n",
       "      <td>5.0</td>\n",
       "      <td>3.6</td>\n",
       "      <td>1.4</td>\n",
       "      <td>0.2</td>\n",
       "    </tr>\n",
       "    <tr>\n",
       "      <th>5</th>\n",
       "      <td>5.4</td>\n",
       "      <td>3.9</td>\n",
       "      <td>1.7</td>\n",
       "      <td>0.4</td>\n",
       "    </tr>\n",
       "  </tbody>\n",
       "</table>\n",
       "</div>"
      ],
      "text/plain": [
       "   sepal length (cm)  sepal width (cm)  petal length (cm)  petal width (cm)\n",
       "0                5.1               3.5                1.4               0.2\n",
       "1                4.9               3.0                1.4               0.2\n",
       "2                4.7               3.2                1.3               0.2\n",
       "3                4.6               3.1                1.5               0.2\n",
       "4                5.0               3.6                1.4               0.2\n",
       "5                5.4               3.9                1.7               0.4"
      ]
     },
     "execution_count": 29,
     "metadata": {},
     "output_type": "execute_result"
    }
   ],
   "source": [
    "df.head(6)"
   ]
  },
  {
   "cell_type": "code",
   "execution_count": null,
   "id": "b9441d0d",
   "metadata": {
    "id": "b9441d0d",
    "outputId": "0e30591a-2078-49d2-e417-e382ffa1e132"
   },
   "outputs": [
    {
     "data": {
      "text/plain": [
       "sepal length (cm)    5.1\n",
       "sepal width (cm)     3.5\n",
       "petal length (cm)    1.4\n",
       "petal width (cm)     0.2\n",
       "Name: 0, dtype: float64"
      ]
     },
     "execution_count": 32,
     "metadata": {},
     "output_type": "execute_result"
    }
   ],
   "source": [
    "df.iloc[0]"
   ]
  },
  {
   "cell_type": "code",
   "execution_count": null,
   "id": "23c2e658",
   "metadata": {
    "id": "23c2e658",
    "outputId": "45d2bb81-9d62-48b1-85b1-80cc9f10553f"
   },
   "outputs": [
    {
     "data": {
      "text/plain": [
       "array([[11, 12, 13],\n",
       "       [21, 22, 23]])"
      ]
     },
     "execution_count": 133,
     "metadata": {},
     "output_type": "execute_result"
    }
   ],
   "source": [
    "# 전치 - 행렬의 행과 열을 바꾸는 연산\n",
    "# T - transpose, 전치를 반환하는 속성\n",
    "# 대각선을 기준으로 바꾸는 것\n",
    "\n",
    "a = np.array([[11,12,13], [21,22,23]])\n",
    "a"
   ]
  },
  {
   "cell_type": "code",
   "execution_count": null,
   "id": "2a5ff050",
   "metadata": {
    "id": "2a5ff050",
    "outputId": "884fa122-d8ed-4e6c-f9b8-232100a9ce08"
   },
   "outputs": [
    {
     "data": {
      "text/plain": [
       "array([[11, 21],\n",
       "       [12, 22],\n",
       "       [13, 23]])"
      ]
     },
     "execution_count": 35,
     "metadata": {},
     "output_type": "execute_result"
    }
   ],
   "source": [
    "# Transpose\n",
    "\n",
    "a.T"
   ]
  },
  {
   "cell_type": "code",
   "execution_count": null,
   "id": "59cf51c7",
   "metadata": {
    "id": "59cf51c7",
    "outputId": "161902b5-e047-41a9-b818-d40b540545a0"
   },
   "outputs": [
    {
     "data": {
      "text/plain": [
       "array([[0.],\n",
       "       [0.],\n",
       "       [0.]])"
      ]
     },
     "execution_count": 38,
     "metadata": {},
     "output_type": "execute_result"
    }
   ],
   "source": [
    "# 영벡터\n",
    "\n",
    "np.zeros((3,1))"
   ]
  },
  {
   "cell_type": "code",
   "execution_count": null,
   "id": "afcfa73e",
   "metadata": {
    "id": "afcfa73e",
    "outputId": "640860c4-724c-48e4-82cb-5d83ff93cfcf"
   },
   "outputs": [
    {
     "data": {
      "text/plain": [
       "array([[1.],\n",
       "       [1.],\n",
       "       [1.]])"
      ]
     },
     "execution_count": 39,
     "metadata": {},
     "output_type": "execute_result"
    }
   ],
   "source": [
    "# 일벡터\n",
    "\n",
    "np.ones((3,1))"
   ]
  },
  {
   "cell_type": "code",
   "execution_count": null,
   "id": "ef7e3e32",
   "metadata": {
    "id": "ef7e3e32",
    "outputId": "e6c40f82-2342-4f6d-e1f7-7201bcc0c975"
   },
   "outputs": [
    {
     "data": {
      "text/plain": [
       "array([[0, 1, 2],\n",
       "       [3, 4, 5],\n",
       "       [6, 7, 8]])"
      ]
     },
     "execution_count": 43,
     "metadata": {},
     "output_type": "execute_result"
    }
   ],
   "source": [
    "# 정방 행렬 (3x3)\n",
    "np.full((3,3),1)\n",
    "\n",
    "np.arange(9).reshape(3,3)"
   ]
  },
  {
   "cell_type": "code",
   "execution_count": null,
   "id": "728e0b6b",
   "metadata": {
    "id": "728e0b6b",
    "outputId": "7ae55843-80c5-4e16-d63c-01bc4fe32af4"
   },
   "outputs": [
    {
     "data": {
      "text/plain": [
       "array([[1, 0, 0],\n",
       "       [0, 2, 0],\n",
       "       [0, 0, 3]])"
      ]
     },
     "execution_count": 44,
     "metadata": {},
     "output_type": "execute_result"
    }
   ],
   "source": [
    "# 대각 정방행렬 - 주대각선 1,2,3\n",
    "# diagonal - 대각\n",
    "\n",
    "np.diag([1,2,3])"
   ]
  },
  {
   "cell_type": "code",
   "execution_count": null,
   "id": "8c2b6a25",
   "metadata": {
    "id": "8c2b6a25",
    "outputId": "d202dd14-f46b-42bb-e246-3582daa282ae"
   },
   "outputs": [
    {
     "data": {
      "text/plain": [
       "array([[1., 0., 0., 0.],\n",
       "       [0., 1., 0., 0.],\n",
       "       [0., 0., 1., 0.],\n",
       "       [0., 0., 0., 1.]])"
      ]
     },
     "execution_count": 45,
     "metadata": {},
     "output_type": "execute_result"
    }
   ],
   "source": [
    "# 항등행렬\n",
    "# AI = IA = A 똑같다\n",
    "# 여기서 \"eye\"는 \"identity(항등)\"의 약자입니다. 따라서 np.eye(4)는 4x4 크기의 항등행렬을 반환합니다.\n",
    "# 즉, [[1, 0, 0, 0], [0, 1, 0, 0], [0, 0, 1, 0], [0, 0, 0, 1]]과 같은 행렬입니다.\n",
    "\n",
    "np.eye(4)"
   ]
  },
  {
   "cell_type": "code",
   "execution_count": null,
   "id": "f6ea0d93",
   "metadata": {
    "id": "f6ea0d93"
   },
   "outputs": [],
   "source": [
    "# 벡터와 벡터의 곱셈, 내적\n",
    "# 내적(inner product)은 선형대수학에서 두 벡터간의 연산 중 하나로,\n",
    "# 두 벡터를 곱한 뒤 그 결과를 모두 더하여 스칼라 값을 구하는 연산입니다.\n",
    "# 내적의 결과는 스칼라 값입니다.\n",
    "# 내적의 결과가 0이면 두 벡터는 수직(orthogonal)입니다.\n",
    "# 내적은 교환 법칙이 성립합니다. 즉, a · b = b · a 입니다.\n",
    "# 내적은 분배 법칙이 성립합니다. 즉, a · (b + c) = a · b + a · c 입니다.\n",
    "\n",
    "# from PIL import Image\n",
    "# image = Image.open('내적.jpg')\n",
    "# image.show()\n",
    "\n",
    "# ![pic1](내적.jpg)"
   ]
  },
  {
   "cell_type": "markdown",
   "id": "214206ec",
   "metadata": {
    "id": "214206ec"
   },
   "source": [
    "y=ax+b (a=가중치, x=입력값) - 1-6이 가중치고, 백터는 엄청 많고...그런 것끼리 연산을 해주어야 하기 때문에\n",
    "\n",
    "가중치?\n",
    "\n",
    "여러 번 연산을 해서 (예측-실제와 비교) -> 가중치가 잘 나오면 그게 좋은 파라미터\n",
    "\n",
    "1행 2열 * 2행 3열 -> 1행 3열 나온다고 생각하면 되는가?\n",
    "\n",
    "두 벡터가 무슨 관계인지 알아낼 때 쓴다\n",
    "\n",
    "<img src = '행렬곱.jpg' STYLE='width 10px;'>"
   ]
  },
  {
   "cell_type": "markdown",
   "id": "328b717b",
   "metadata": {
    "id": "328b717b"
   },
   "source": [
    "코싸인은 a분의b, x라 하면 a분의 x = 코싸인세타 -> x=a코싸인세타\n",
    "\n",
    "가운데 점. ?\n",
    "\n",
    "내적의 결과는 벡터가 아닌 스칼라??? -> 위의 값은?\n",
    "norm - 절대값기호 나오면 다 norm\n",
    "세타 - 두 백터의 각도\n",
    "cos세타 - 상관계수\n",
    "코싸인 0도가 1\n",
    "코싸인 90도는 0 - 곱하면 무조건 0\n",
    "코싸인 180도는 -1\n",
    "(1,2) = (1,0) + (0,2)\n",
    "\n",
    "<img src = '내적.jpg' STYLE='width 10px;'>"
   ]
  },
  {
   "cell_type": "markdown",
   "id": "dd631920",
   "metadata": {
    "id": "dd631920"
   },
   "source": [
    "머신러닝은 알고리즘이고, 딥러닝은 네트워크다"
   ]
  },
  {
   "cell_type": "code",
   "execution_count": null,
   "id": "e54378ed",
   "metadata": {
    "id": "e54378ed",
    "outputId": "7d0c32d3-c2a7-46c4-ce89-38b394651740"
   },
   "outputs": [
    {
     "name": "stdout",
     "output_type": "stream",
     "text": [
      "[10 12 14 16 18]\n",
      "[10 10 10 10 10]\n"
     ]
    }
   ],
   "source": [
    "x = np.array([10,11,12,13,14])\n",
    "y = np.array([0,1,2,3,4])\n",
    "\n",
    "print(x+y)\n",
    "print(x-y)"
   ]
  },
  {
   "cell_type": "code",
   "execution_count": null,
   "id": "08d9d019",
   "metadata": {
    "id": "08d9d019",
    "outputId": "bb67e114-23d4-4b50-a20b-c001b1d208b3"
   },
   "outputs": [
    {
     "data": {
      "text/plain": [
       "array([[37, 65],\n",
       "       [39, 41]])"
      ]
     },
     "execution_count": 56,
     "metadata": {},
     "output_type": "execute_result"
    }
   ],
   "source": [
    "x1 = np.random.randint(30,50,size=(2,2))\n",
    "x2 = np.random.randint(20,30,size=(2,2))\n",
    "x3 = np.random.randint(10,20,size=(2,2))\n",
    "x1+x2-x3"
   ]
  },
  {
   "cell_type": "code",
   "execution_count": null,
   "id": "67b88648",
   "metadata": {
    "id": "67b88648",
    "outputId": "4c35d641-9aac-4344-92f3-795bf4a415a0"
   },
   "outputs": [
    {
     "data": {
      "text/plain": [
       "array([0, 1, 2])"
      ]
     },
     "execution_count": 57,
     "metadata": {},
     "output_type": "execute_result"
    }
   ],
   "source": [
    "# 브로드캐스팅\n",
    "\n",
    "x1 = np.array([10,11,12])    # 1차원 배열, 3차원 벡터\n",
    "x1 - 10"
   ]
  },
  {
   "cell_type": "code",
   "execution_count": null,
   "id": "74320589",
   "metadata": {
    "id": "74320589",
    "outputId": "699ae4d2-6103-4ba0-f1cb-3e1cfaef6058"
   },
   "outputs": [
    {
     "data": {
      "text/plain": [
       "array([30, 33, 36])"
      ]
     },
     "execution_count": 58,
     "metadata": {},
     "output_type": "execute_result"
    }
   ],
   "source": [
    "# np.dot - 두 배열의 행렬 곱을 계산하는 함수\n",
    "\n",
    "np.dot(3,x1)"
   ]
  },
  {
   "cell_type": "code",
   "execution_count": null,
   "id": "e496b37d",
   "metadata": {
    "id": "e496b37d",
    "outputId": "855243dd-9a9c-4800-ccd1-f06dd27ee372"
   },
   "outputs": [
    {
     "name": "stdout",
     "output_type": "stream",
     "text": [
      "[[1]\n",
      " [2]\n",
      " [3]]\n",
      "[[4]\n",
      " [5]\n",
      " [6]]\n",
      "[[ 4]\n",
      " [10]\n",
      " [18]]\n"
     ]
    }
   ],
   "source": [
    "# 넘파이에서 벡터와 행렬의 내적은 dot(), 또는 @ 연산자로 계산\n",
    "# 이건 왜 세로로 되는가?\n",
    "# 원소끼리 곱한 원소곱임\n",
    "\n",
    "x = np.array([[1],[2],[3]])\n",
    "y = np.array([[4],[5],[6]])\n",
    "print(x)\n",
    "print(y)\n",
    "print(x*y)"
   ]
  },
  {
   "cell_type": "code",
   "execution_count": null,
   "id": "6acd48d3",
   "metadata": {
    "id": "6acd48d3",
    "outputId": "618a1836-a5a4-42b7-c10a-ce59d5be384a"
   },
   "outputs": [
    {
     "name": "stdout",
     "output_type": "stream",
     "text": [
      "[[1 2 3]]\n",
      "[[4]\n",
      " [5]\n",
      " [6]]\n",
      "[[32]]\n",
      "[[32]]\n"
     ]
    }
   ],
   "source": [
    "# 행렬곱임 - 수학적으로는 이것을 씀, 위의 원소곱 말고\n",
    "\n",
    "print(x.T)\n",
    "print(y)\n",
    "print(x.T@y)\n",
    "print(np.dot(x.T, y))"
   ]
  },
  {
   "cell_type": "code",
   "execution_count": null,
   "id": "9774c1ec",
   "metadata": {
    "id": "9774c1ec",
    "outputId": "353eb1ff-9a7e-4e2c-90e7-8bef24827021"
   },
   "outputs": [
    {
     "name": "stdout",
     "output_type": "stream",
     "text": [
      "[[1 2 3]\n",
      " [4 5 6]]\n",
      "[[ 6 23]\n",
      " [-1  7]\n",
      " [ 8  9]]\n"
     ]
    },
    {
     "data": {
      "text/plain": [
       "array([[ 28,  64],\n",
       "       [ 67, 181]])"
      ]
     },
     "execution_count": 203,
     "metadata": {},
     "output_type": "execute_result"
    }
   ],
   "source": [
    "x = np.arange(1,7).reshape(2,3)\n",
    "y = np.array([[6,23],[-1,7],[8,9]])\n",
    "print(x)\n",
    "print(y)\n",
    "\n",
    "# 2x3 3x2\n",
    "np.dot(x,y)\n",
    "x.dot(y)"
   ]
  },
  {
   "cell_type": "markdown",
   "id": "808f0990",
   "metadata": {
    "id": "808f0990"
   },
   "source": [
    "#### 행렬곱\n",
    "- 앞 행렬의 수가 뒤 행렬의 행의 수와 일치해야 한다.\n",
    "- 교환 법칙이 성립하지 않음 : (A@B) vs (B@A)가 서로 같지 않음\n",
    "- 분배 법칙은 성립함 : A @ (B + C) vs A @ B + A @ C\n",
    "- 전치 연산도 덧셈, 뺄셈에 대한 분배 법칙 성립 : (A + B).T vs A.T + B.T\n",
    "- 전치 연산과 곱셈의 경우 전치 연산이 분배되면서 곱셈의 순서가 바뀜 : (A@B).T vs B.T@A.T"
   ]
  },
  {
   "cell_type": "markdown",
   "id": "0cfd320e",
   "metadata": {
    "id": "0cfd320e"
   },
   "source": [
    "#### 과제1_0420.\n",
    "앞에 언급한 사항들의 사례를 작성해서 의미를 확인하고 설명하세요."
   ]
  },
  {
   "cell_type": "code",
   "execution_count": null,
   "id": "7d520486",
   "metadata": {
    "id": "7d520486",
    "outputId": "515b4a72-cb45-4873-b525-22d50fbefaaf"
   },
   "outputs": [
    {
     "name": "stdout",
     "output_type": "stream",
     "text": [
      "[[1 2 3]\n",
      " [4 5 6]] \n",
      "\n",
      "[[ 7  8]\n",
      " [ 9 10]\n",
      " [11 12]]\n"
     ]
    },
    {
     "data": {
      "text/plain": [
       "array([[ 58,  64],\n",
       "       [139, 154]])"
      ]
     },
     "execution_count": 225,
     "metadata": {},
     "output_type": "execute_result"
    }
   ],
   "source": [
    "# 앞 행렬의 수가 뒤 행렬의 수와 일치해야 함\n",
    "\n",
    "a = np.arange(1,7).reshape(2,3)\n",
    "b = np.arange(7,13).reshape(3,2)\n",
    "print(a, '\\n')\n",
    "print(b)\n",
    "np.dot(a,b)"
   ]
  },
  {
   "cell_type": "code",
   "execution_count": null,
   "id": "f7ae806f",
   "metadata": {
    "id": "f7ae806f",
    "outputId": "2ab1f25d-0171-484d-d110-52a900b3801a"
   },
   "outputs": [
    {
     "name": "stdout",
     "output_type": "stream",
     "text": [
      "[[ 58  64]\n",
      " [139 154]] \n",
      "\n",
      "[[ 39  54  69]\n",
      " [ 49  68  87]\n",
      " [ 59  82 105]]\n"
     ]
    }
   ],
   "source": [
    "# 교환 법칙이 성립하지 않음\n",
    "\n",
    "a = np.arange(1,7).reshape(2,3)\n",
    "b = np.arange(7,13).reshape(3,2)\n",
    "\n",
    "print(np.dot(a,b),'\\n')\n",
    "print(np.dot(b,a))"
   ]
  },
  {
   "cell_type": "code",
   "execution_count": null,
   "id": "b35c4603",
   "metadata": {
    "id": "b35c4603",
    "outputId": "d2628ed7-2d2d-4a66-cbad-25030d1cea6f"
   },
   "outputs": [
    {
     "name": "stdout",
     "output_type": "stream",
     "text": [
      "[[152 164]\n",
      " [368 398]] \n",
      "\n",
      "[[152 164]\n",
      " [368 398]]\n"
     ]
    }
   ],
   "source": [
    "# 분배 법칙은 성립함\n",
    "\n",
    "a = np.arange(1,7).reshape(2,3)\n",
    "b = np.arange(7,13).reshape(3,2)\n",
    "c = np.arange(13,19).reshape(3,2)\n",
    "\n",
    "print(np.dot(a, b+c),'\\n')\n",
    "print(np.dot(a, b) + np.dot(a,c))\n"
   ]
  },
  {
   "cell_type": "code",
   "execution_count": null,
   "id": "b6cc85c0",
   "metadata": {
    "id": "b6cc85c0",
    "outputId": "34f03e85-084b-44d2-f8e6-9d92db8219fa"
   },
   "outputs": [
    {
     "name": "stdout",
     "output_type": "stream",
     "text": [
      "[[ 8 14]\n",
      " [10 16]\n",
      " [12 18]] \n",
      "\n",
      "[[ 8 14]\n",
      " [10 16]\n",
      " [12 18]]\n"
     ]
    }
   ],
   "source": [
    "# 전치 연산도 덧셈, 뺄셈에 대한 분배 법칙 성립함 : (A + B).T vs A.T + B.T\n",
    "\n",
    "a = np.arange(1,7).reshape(2,3)\n",
    "b = np.arange(7,13).reshape(2,3)\n",
    "\n",
    "print((a+b).T, '\\n')\n",
    "print(a.T + b.T)"
   ]
  },
  {
   "cell_type": "code",
   "execution_count": 59,
   "id": "e4a7eb6b",
   "metadata": {
    "colab": {
     "base_uri": "https://localhost:8080/"
    },
    "executionInfo": {
     "elapsed": 486,
     "status": "ok",
     "timestamp": 1682006531537,
     "user": {
      "displayName": "박주경",
      "userId": "06694313831384541311"
     },
     "user_tz": -540
    },
    "id": "e4a7eb6b",
    "outputId": "bdf89280-0434-49bb-fd09-b99834cf8aae"
   },
   "outputs": [
    {
     "name": "stdout",
     "output_type": "stream",
     "text": [
      "===(A@B).T와 B.T@A.T 같음===\n",
      "[[ 58 139]\n",
      " [ 64 154]] \n",
      "\n",
      "[[ 58 139]\n",
      " [ 64 154]] \n",
      "\n",
      "===참고 - A.T@B.T===\n",
      "[[ 39  49  59]\n",
      " [ 54  68  82]\n",
      " [ 69  87 105]]\n"
     ]
    }
   ],
   "source": [
    "# 전치 연산과 곱셈의 경우 전치 연산이 분배되면서 곱셈의 순서가 바뀜 : (A@B).T vs B.T@A.T\n",
    "# 이해는 안감\n",
    "\n",
    "a = np.arange(1,7).reshape(2,3)\n",
    "b = np.arange(7,13).reshape(3,2)\n",
    "\n",
    "print('===(A@B).T와 B.T@A.T 같음===')\n",
    "print(np.dot(a,b).T, '\\n')\n",
    "print(np.dot(b.T, a.T), '\\n')\n",
    "\n",
    "print('===참고 - A.T@B.T===')\n",
    "print(np.dot(a.T, b.T))"
   ]
  },
  {
   "cell_type": "code",
   "execution_count": null,
   "id": "4c26f8ec",
   "metadata": {
    "id": "4c26f8ec",
    "outputId": "c8d8e100-af83-42a3-ec8d-a76467ad33f1"
   },
   "outputs": [
    {
     "name": "stdout",
     "output_type": "stream",
     "text": [
      "[[1 2]\n",
      " [3 4]]\n",
      "[[1. 0.]\n",
      " [0. 1.]]\n",
      "[[1. 2.]\n",
      " [3. 4.]]\n",
      "[[1. 2.]\n",
      " [3. 4.]]\n"
     ]
    }
   ],
   "source": [
    "# 항등행렬의 곱셈\n",
    "\n",
    "a = np.array([[1,2],[3,4]])\n",
    "i = np.eye(2)\n",
    "print(a)\n",
    "print(i)\n",
    "\n",
    "print(a @ i)\n",
    "print(i @ a)"
   ]
  },
  {
   "cell_type": "code",
   "execution_count": null,
   "id": "4917bd18",
   "metadata": {
    "id": "4917bd18",
    "outputId": "26faa080-ae30-4375-96a9-ba48db32a66f"
   },
   "outputs": [
    {
     "name": "stdout",
     "output_type": "stream",
     "text": [
      "[[0.3305785  0.30578512 0.3305785  ... 0.3966942  0.37190083 0.28512397]\n",
      " [0.32231405 0.32231405 0.29752067 ... 0.41322315 0.338843   0.2603306 ]\n",
      " [0.3264463  0.30991736 0.30578512 ... 0.40495867 0.36363637 0.27272728]\n",
      " ...\n",
      " [0.16115703 0.16528925 0.1570248  ... 0.14049587 0.1570248  0.16115703]\n",
      " [0.1570248  0.17768595 0.16115703 ... 0.14049587 0.1570248  0.1570248 ]\n",
      " [0.17768595 0.1694215  0.16528925 ... 0.1446281  0.15289256 0.15289256]] \n",
      "\n"
     ]
    },
    {
     "data": {
      "text/plain": [
       "Text(0.5, 1.0, 'image 1: %x_1$')"
      ]
     },
     "execution_count": 290,
     "metadata": {},
     "output_type": "execute_result"
    },
    {
     "data": {
      "image/png": "[encoded data removed]",
      "text/plain": [
       "<Figure size 640x480 with 1 Axes>"
      ]
     },
     "metadata": {},
     "output_type": "display_data"
    }
   ],
   "source": [
    "# 400개의 얼굴 이미지를 제공함 - 64x64 픽셀임 (400,64,64)\n",
    "\n",
    "# f는 생성된 Figure 객체를 나타내고, ax는 생성된 Axes 객체를 나타냅니다.\n",
    "# 이후에 ax 객체를 이용하여 그래프를 그리거나 축의 레이블 등을 설정할 수 있습니다.\n",
    "\n",
    "# ax는 Matplotlib에서 그래프를 그리기 위한 Axes 객체를 나타내는 변수 이름입니다.\n",
    "# Axes 객체는 하나의 Figure에 포함되는 하나의 좌표 평면을 의미하며,\n",
    "# 이 좌표 평면에 그래프를 그리는 데 사용됩니다.\n",
    "\n",
    "# imshow는 Matplotlib에서 이미지를 출력하기 위한 함수입니다.\n",
    "# imshow 함수는 2차원 또는 3차원 배열을 입력으로 받아 해당 배열을 이미지로 출력합니다.\n",
    "\n",
    "# 뭔가 ax와 imshow가 짝인 느낌, 없어도 단순 출력은 가능한데, 있으면 여러 설정 가능한 느낌?\n",
    "\n",
    "from sklearn.datasets import fetch_olivetti_faces\n",
    "\n",
    "faces = fetch_olivetti_faces()\n",
    "print(faces.images[6], '\\n')\n",
    "f,ax = plt.subplots(1,1)\n",
    "ax.imshow(faces.images[6],cmap=plt.cm.bone)\n",
    "# ax.grid(False)    # 이미 grid가 없는 이미지이므로 필요 없음\n",
    "ax.set_xticks([])\n",
    "ax.set_yticks([])\n",
    "ax.set_title(\"image 1: %x_1$\")"
   ]
  },
  {
   "cell_type": "code",
   "execution_count": null,
   "id": "90549592",
   "metadata": {
    "id": "90549592",
    "outputId": "3f3db7ca-ca18-4eaa-c357-84684c64b6c3"
   },
   "outputs": [
    {
     "name": "stdout",
     "output_type": "stream",
     "text": [
      "[[0.5413223  0.58677685 0.6404959  ... 0.54545456 0.553719   0.55785125]\n",
      " [0.553719   0.61570245 0.6570248  ... 0.57438016 0.58264464 0.5785124 ]\n",
      " [0.5785124  0.6528926  0.677686   ... 0.57024795 0.60330576 0.59917355]\n",
      " ...\n",
      " [0.12809917 0.13636364 0.13636364 ... 0.09090909 0.11570248 0.10743801]\n",
      " [0.1322314  0.13636364 0.1322314  ... 0.09504132 0.11157025 0.10743801]\n",
      " [0.13636364 0.1322314  0.13636364 ... 0.09504132 0.11157025 0.11157025]] \n",
      "\n"
     ]
    },
    {
     "data": {
      "text/plain": [
       "Text(0.5, 1.0, 'image 1: %x_1$')"
      ]
     },
     "execution_count": 82,
     "metadata": {},
     "output_type": "execute_result"
    },
    {
     "data": {
      "image/png": "[encoded data removed]",
      "text/plain": [
       "<Figure size 640x480 with 1 Axes>"
      ]
     },
     "metadata": {},
     "output_type": "display_data"
    }
   ],
   "source": [
    "from sklearn.datasets import fetch_olivetti_faces\n",
    "\n",
    "faces = fetch_olivetti_faces()\n",
    "print(faces.images[10], '\\n')\n",
    "f,ax = plt.subplots(1,1)\n",
    "ax.imshow(faces.images[10],cmap=plt.cm.bone)\n",
    "ax.grid(False)\n",
    "ax.set_xticks([])\n",
    "ax.set_yticks([])\n",
    "ax.set_title(\"image 1: %x_1$\")"
   ]
  },
  {
   "cell_type": "code",
   "execution_count": null,
   "id": "31f654e2",
   "metadata": {
    "id": "31f654e2",
    "outputId": "8c05ea66-0b0f-4bae-fd85-dec17b570027"
   },
   "outputs": [
    {
     "data": {
      "image/png": "[encoded data removed]",
      "text/plain": [
       "<Figure size 640x480 with 3 Axes>"
      ]
     },
     "metadata": {},
     "output_type": "display_data"
    }
   ],
   "source": [
    "faces = fetch_olivetti_faces()\n",
    "\n",
    "f,ax = plt.subplots(1,3)\n",
    "ax[0].imshow(faces.images[6],cmap=plt.cm.bone)\n",
    "# ax[0].grid(False)\n",
    "ax[0].set_xticks([])\n",
    "ax[0].set_yticks([])\n",
    "ax[0].set_title(\"image 1: %x_1$\")\n",
    "\n",
    "ax[1].imshow(faces.images[10],cmap=plt.cm.bone)\n",
    "# ax[1].grid(False)\n",
    "ax[1].set_xticks([])\n",
    "ax[1].set_yticks([])\n",
    "ax[1].set_title(\"image 2: %x_2$\")\n",
    "\n",
    "new_face = 0.7 * faces.images[6] + 0.3 * faces.images[10]\n",
    "ax[2].imshow(new_face, cmap=plt.cm.bone)\n",
    "# ax[2].grid(False)\n",
    "ax[2].set_xticks([])\n",
    "ax[2].set_yticks([])\n",
    "ax[2].set_title(\"image 3: %0.7x_1 + 0.3x_2$\")\n",
    "plt.show()"
   ]
  },
  {
   "cell_type": "markdown",
   "id": "12210ce5",
   "metadata": {
    "id": "12210ce5"
   },
   "source": [
    "#### 벡터의 norm이란 \n",
    "- 벡터의 크기를 측정하는 방법 중 하나입니다. 벡터의 norm은 일반적으로 벡터의 길이 또는 크기를 의미합니다. 벡터의 norm은 벡터의 요소에 대한 제곱 합의 제곱근으로 계산됩니다.\n",
    "\n",
    "만약, 벡터 $x = (x_1, x_2, ..., x_n)$ 이 있다면, $x$의 norm은 다음과 같이 정의됩니다.\n",
    "\n",
    "$$||x|| = \\sqrt{x_1^2 + x_2^2 + \\cdots + x_n^2}$$\n",
    "\n",
    "여기서 $||x||$는 벡터 $x$의 norm을 나타냅니다.\n",
    "\n",
    "- 벡터의 norm은 다음과 같은 성질을 가지고 있습니다.\n",
    "\n",
    "  - $||x|| \\geq 0$ (벡터의 norm은 항상 0 이상입니다.)\n",
    "  - $||x|| = 0$ if and only if $x = \\mathbf{0}$ (벡터의 norm이 0일 경우, 해당 벡터는 영 벡터입니다.)\n",
    "  - $||ax|| = |a| \\cdot ||x||$ (스칼라 $a$에 대해 벡터 $x$의 norm은 $a$의 절댓값과 $x$의 norm의 곱과 같습니다.)\n",
    "  - $||x+y|| \\leq ||x|| + ||y||$ (두 벡터의 합의 norm은 각 벡터의 norm의 합보다 작거나 같습니다. 이를 삼각 부등식이라고 합니다.)\n",
    "  - 벡터의 norm은 선형 대수학에서 매우 중요한 개념이며, 벡터 공간에서 거리와 관련된 개념을 다룰 때 자주 사용됩니다.\n",
    "\n",
    "- 위 4가지 성질을 만족하기만 하면 놈이라고 할 수 있는데, 많이 사용되는 놈은 다음 세 가지이다. 놈을 구별하기 위하여 아래 첨자를 사용하고, $||x||_1을 1-놈, ||x||_2 를 2-놈, ||x||_\\infty를 3-놈$이라고 한다.\n",
    "- 1-놈은 벡터 x의 성분의 절대값을 모두 더한 것으로, 2-놈은 벡터의 기하학적 길이로, $\\infty-놈$은 벡터 성분 중에서 크기가 제일 큰 값으로 정의한다.\n",
    "- p = 2인 경우가 가장 많이 쓰이므로 p값 표기가 없는 경우 p=2인 프로베니우스 놈을 사용한다.\n",
    "\n",
    "https://bskyvision.com/825  \n",
    "https://pasus.tistory.com/34"
   ]
  },
  {
   "cell_type": "code",
   "execution_count": null,
   "id": "f6527654",
   "metadata": {
    "colab": {
     "base_uri": "https://localhost:8080/"
    },
    "executionInfo": {
     "elapsed": 342,
     "status": "ok",
     "timestamp": 1681993574128,
     "user": {
      "displayName": "박주경",
      "userId": "06694313831384541311"
     },
     "user_tz": -540
    },
    "id": "f6527654",
    "outputId": "b9b7062b-bffa-4e0f-a8e8-3f90046954f0"
   },
   "outputs": [
    {
     "data": {
      "text/plain": [
       "array([[-4, -3, -2],\n",
       "       [-1,  0,  1],\n",
       "       [ 2,  3,  4]])"
      ]
     },
     "execution_count": 5,
     "metadata": {},
     "output_type": "execute_result"
    }
   ],
   "source": [
    "a = (np.arange(9) - 4).reshape(3,3)\n",
    "a"
   ]
  },
  {
   "cell_type": "code",
   "execution_count": null,
   "id": "db302d9e",
   "metadata": {
    "colab": {
     "base_uri": "https://localhost:8080/"
    },
    "executionInfo": {
     "elapsed": 661,
     "status": "ok",
     "timestamp": 1681993634665,
     "user": {
      "displayName": "박주경",
      "userId": "06694313831384541311"
     },
     "user_tz": -540
    },
    "id": "db302d9e",
    "outputId": "47fb4b28-7fc0-4ccd-b269-7924ce842ac6",
    "scrolled": true
   },
   "outputs": [
    {
     "data": {
      "text/plain": [
       "array([5.38516481, 1.41421356, 5.38516481])"
      ]
     },
     "execution_count": 8,
     "metadata": {},
     "output_type": "execute_result"
    }
   ],
   "source": [
    "# linear algebra(선형대수학)\n",
    "# 전체 행렬에 대한 놈\n",
    "\n",
    "# np.linalg.norm(a)\n",
    "np.linalg.norm(a,axis=1)"
   ]
  },
  {
   "cell_type": "code",
   "execution_count": null,
   "id": "7741e4c4",
   "metadata": {
    "id": "7741e4c4",
    "outputId": "92192035-e63c-4a91-9b03-9e7d4be2dc81"
   },
   "outputs": [
    {
     "data": {
      "text/plain": [
       "5.0"
      ]
     },
     "execution_count": 90,
     "metadata": {},
     "output_type": "execute_result"
    }
   ],
   "source": [
    "# L1 norm은 벡터의 모든 성분의 절대값을 더함\n",
    "\n",
    "x = [2,3]\n",
    "np.linalg.norm(x,1)"
   ]
  },
  {
   "cell_type": "code",
   "execution_count": null,
   "id": "8af03f87",
   "metadata": {
    "id": "8af03f87",
    "outputId": "4bd5ca68-7d00-45f6-8892-772ccbd46ff2"
   },
   "outputs": [
    {
     "data": {
      "text/plain": [
       "3.605551275463989"
      ]
     },
     "execution_count": 91,
     "metadata": {},
     "output_type": "execute_result"
    }
   ],
   "source": [
    "# L2 norm은 출발점에서 도착점까지의 거리를 직선 거리로 측정\n",
    "# 제곱이니까 긴 쪽이 영향이 커질 수 밖에 없음 -> 작은 것도 고려하고 싶으면 다른거 쓴다(L1 등)\n",
    "\n",
    "np.linalg.norm(x,2)"
   ]
  },
  {
   "cell_type": "code",
   "execution_count": null,
   "id": "d41cf088",
   "metadata": {
    "id": "d41cf088",
    "outputId": "38d94346-04cc-474b-c74f-388b36e5151b"
   },
   "outputs": [
    {
     "data": {
      "text/plain": [
       "3.605551275463989"
      ]
     },
     "execution_count": 92,
     "metadata": {},
     "output_type": "execute_result"
    }
   ],
   "source": [
    "# 2제곱 + 3제곱에 루트 씌운 값\n",
    "\n",
    "np.sqrt(13)"
   ]
  },
  {
   "cell_type": "code",
   "execution_count": null,
   "id": "bdf05ca1",
   "metadata": {
    "id": "bdf05ca1",
    "outputId": "eb647f9d-cd95-4024-a328-6fbf8f37c0e9"
   },
   "outputs": [
    {
     "data": {
      "text/plain": [
       "3.0"
      ]
     },
     "execution_count": 93,
     "metadata": {},
     "output_type": "execute_result"
    }
   ],
   "source": [
    "# L inf norm은 벡터 성분들의 절대값 중에서 가장 큰 값으로 계산\n",
    "\n",
    "np.linalg.norm(x, np.inf)"
   ]
  },
  {
   "cell_type": "markdown",
   "id": "1c317fbc",
   "metadata": {
    "id": "1c317fbc"
   },
   "source": [
    "#### 행렬식(determinant)은\n",
    "행렬식의 결괏값은 부피이다.\n",
    "\n",
    "행렬식은 정방행렬에 대해서만 정의되는 값으로, 행렬의 성질을 나타내는 중요한 값 중 하나입니다. \n",
    "\n",
    "- 행렬식은 정방행렬에서 얻어지는 하나의 수로, 그 행렬의 선형 변환에 대한 크기 변화를 의미합니다. 행렬식은 재귀적으로 계산되며, 이를 통해 역행렬의 존재 여부, 행렬의 랭크, 고유값 등 다양한 선형 대수적 성질을 파악할 수 있습니다.\n",
    "- 행렬식은 행렬의 크기에 상관없이 항상 하나의 스칼라값으로 계산됩니다.\n",
    "행렬 A의 행렬식은 $|A|$ 또는 det(A)로 표기합니다. 2x2 행렬의 경우, 다음과 같이 행렬식을 계산할 수 있습니다.$$det(A) = a11*a22 - a12*a21$$\n",
    "- 행렬식이 0이면, 해당 행렬은 역행렬을 가지지 않습니다. 반대로, 행렬식이 0이 아니면, 해당 행렬은 역행렬을 가지며, 선형 변환의 크기와 방향을 보존하는 역행렬을 사용하여 역변환을 수행할 수 있습니다.\n",
    "- 행렬식의 절댓값이 1인 행렬은 크기를 보존하는 선형 변환을 나타내며, 이러한 행렬은 회전 또는 반사와 같은 변환이 될 수 있습니다(방향만 바꿈). 반면에, 행렬식의 절댓값이 1보다 작은 행렬은 크기를 축소하는 선형 변환이며, 이러한 행렬은 변환 중심을 기준으로 축소가 됩니다. 마지막으로, 행렬식의 절댓값이 1보다 큰 행렬은 크기를 확대하는 선형 변환을 나타내며, 이러한 행렬은 변환 중심을 기준으로 확대됩니다.\n",
    "- 행렬식은 선형 방정식의 해를 구하는 데에도 사용됩니다 $Ax = b$에서 A는 n x n 행렬이며, x와 b는 n 차원 벡터입니다. 만약 A의 행렬식이 0이 아니면, 이 방정식은 유일한 해를 가집니다. 그러나, A의 행렬식이 0이면, 이 방정식은 무수히 많은 해를 가질 수 있습니다.\n",
    "    - x = input, A = 기울기, b = output\n",
    "- 행렬식은 행렬식이 0이 아닌 행렬에 대한 Cramer의 법칙을 사용하여 역행렬을 구하는 데에도 사용됩니다. 역행렬은 선형 방정식의 해를 구하는 데 사용될 수 있으며, 행렬식이 0이 아닌 경우에만 존재합니다."
   ]
  },
  {
   "cell_type": "markdown",
   "id": "60d35aff",
   "metadata": {
    "id": "60d35aff"
   },
   "source": [
    "역행렬\n",
    "\n",
    "Ax = b : 계수행렬, 미지수벡터, 상수벡터\n",
    "- A, x, b가 스칼라 실수인 경우 : x = b/A \n",
    "- 행렬에서는  나눗셈 대신 역행렬 사용 : x = $A^{-1}$b\n",
    "- $\\frac{1}{A}$"
   ]
  },
  {
   "cell_type": "code",
   "execution_count": 12,
   "id": "411cac48",
   "metadata": {
    "id": "411cac48",
    "outputId": "2ae18ccc-1306-4b2f-c488-480e4655ae68"
   },
   "outputs": [
    {
     "name": "stdout",
     "output_type": "stream",
     "text": [
      "[[-2.   1. ]\n",
      " [ 1.5 -0.5]]\n"
     ]
    }
   ],
   "source": [
    "# 역행렬은 특정한 행렬과 곱했을 때 항등행렬이 나오는 행렬\n",
    "# inv - inverse, 역행렬을 구하는 함수\n",
    "\n",
    "A = np.array([[1,2], [3,4]])    # 역행렬을 구할 행렬\n",
    "A_inv = np.linalg.inv(A)    # A의 역행렬 계산\n",
    "\n",
    "print(A_inv)    # 역행렬 출력"
   ]
  },
  {
   "cell_type": "code",
   "execution_count": 13,
   "id": "c121f9cd",
   "metadata": {
    "id": "c121f9cd",
    "outputId": "76f62a0e-08a2-4b00-82c4-be4d633e29c0"
   },
   "outputs": [
    {
     "data": {
      "text/plain": [
       "array([[1.00000000e+00, 1.11022302e-16],\n",
       "       [0.00000000e+00, 1.00000000e+00]])"
      ]
     },
     "execution_count": 13,
     "metadata": {},
     "output_type": "execute_result"
    }
   ],
   "source": [
    "# 역행렬 확인 -> 항등행렬 나옴\n",
    "\n",
    "A @ A_inv"
   ]
  },
  {
   "cell_type": "code",
   "execution_count": 15,
   "id": "d119bb95",
   "metadata": {
    "colab": {
     "base_uri": "https://localhost:8080/"
    },
    "executionInfo": {
     "elapsed": 5,
     "status": "ok",
     "timestamp": 1682004431205,
     "user": {
      "displayName": "박주경",
      "userId": "06694313831384541311"
     },
     "user_tz": -540
    },
    "id": "d119bb95",
    "outputId": "d6126780-9dcf-4f16-bdb4-3f994baab369"
   },
   "outputs": [
    {
     "name": "stdout",
     "output_type": "stream",
     "text": [
      "[[1 2 1]\n",
      " [2 2 3]\n",
      " [1 3 1]]\n",
      "[[ 7. -1. -4.]\n",
      " [-1.  0.  1.]\n",
      " [-4.  1.  2.]]\n"
     ]
    },
    {
     "data": {
      "text/plain": [
       "array([[1., 0., 0.],\n",
       "       [0., 1., 0.],\n",
       "       [0., 0., 1.]])"
      ]
     },
     "execution_count": 15,
     "metadata": {},
     "output_type": "execute_result"
    }
   ],
   "source": [
    "np.random.seed(0)\n",
    "mt1 = np.random.randint(1,4,size=(3,3))\n",
    "print(mt1)\n",
    "\n",
    "mt2 = np.linalg.inv(mt1)\n",
    "print(mt2)\n",
    "\n",
    "mt1 @ mt2"
   ]
  },
  {
   "cell_type": "code",
   "execution_count": 16,
   "id": "16964f51",
   "metadata": {
    "colab": {
     "base_uri": "https://localhost:8080/"
    },
    "executionInfo": {
     "elapsed": 6,
     "status": "ok",
     "timestamp": 1682004433442,
     "user": {
      "displayName": "박주경",
      "userId": "06694313831384541311"
     },
     "user_tz": -540
    },
    "id": "16964f51",
    "outputId": "1a5e4f3a-0a6b-43c1-8806-dae7ba266023"
   },
   "outputs": [
    {
     "data": {
      "text/plain": [
       "-1.0"
      ]
     },
     "execution_count": 16,
     "metadata": {},
     "output_type": "execute_result"
    }
   ],
   "source": [
    "# 역행렬이 존재하지 않는 경우는 행렬식 값이 0이 출력\n",
    "\n",
    "mt3 = np.linalg.det(mt1)\n",
    "mt3"
   ]
  },
  {
   "cell_type": "code",
   "execution_count": 10,
   "id": "34c26cc0",
   "metadata": {
    "colab": {
     "base_uri": "https://localhost:8080/"
    },
    "executionInfo": {
     "elapsed": 715,
     "status": "ok",
     "timestamp": 1682004442590,
     "user": {
      "displayName": "박주경",
      "userId": "06694313831384541311"
     },
     "user_tz": -540
    },
    "id": "34c26cc0",
    "outputId": "6b54e774-5f60-4049-9cbd-1dacf9ee53c3"
   },
   "outputs": [
    {
     "name": "stdout",
     "output_type": "stream",
     "text": [
      "[[1 2]\n",
      " [2 4]]\n",
      "0.0\n"
     ]
    }
   ],
   "source": [
    "# 역행렬이 존재하지 않는 경우는 행렬식이 0\n",
    "# 역행렬 실제 계산식에서 행렬식이 분모로 들어가는데 0이면 아무 계산 못하니까 역행렬이 없는거다\n",
    "# def -  주어진 정방행렬의 행렬식(determinant)을 계산하는 함수\n",
    "\n",
    "nt1 = np.array([[1,2],[2,4]])\n",
    "print(nt1)\n",
    "nt2=np.linalg.det(nt1)\n",
    "print(nt2)"
   ]
  },
  {
   "cell_type": "markdown",
   "id": "ca3fdc33",
   "metadata": {
    "id": "ca3fdc33"
   },
   "source": [
    "행렬식 함수의 구조임\n",
    "\n",
    "<img src = '행렬식계산.png' STYLE='width 100px;'>"
   ]
  },
  {
   "cell_type": "code",
   "execution_count": null,
   "id": "1242a32a",
   "metadata": {
    "id": "1242a32a",
    "outputId": "a4dfb213-5736-48ef-e027-803063a7069c"
   },
   "outputs": [
    {
     "name": "stdout",
     "output_type": "stream",
     "text": [
      "[[1 2 3]\n",
      " [4 5 6]\n",
      " [7 8 9]]\n"
     ]
    }
   ],
   "source": [
    "a = np.array([[1,2,3],[4,5,6],[7,8,9]])\n",
    "print(a)"
   ]
  },
  {
   "cell_type": "code",
   "execution_count": null,
   "id": "bf0a4918",
   "metadata": {
    "id": "bf0a4918",
    "outputId": "f89a8977-8322-4202-deee-1d339521ca9a"
   },
   "outputs": [
    {
     "data": {
      "text/plain": [
       "0"
      ]
     },
     "execution_count": 111,
     "metadata": {},
     "output_type": "execute_result"
    }
   ],
   "source": [
    "# 1 2 3을 기준\n",
    "1*(45-48) - 2*(18-24) + 3*(32-35)"
   ]
  },
  {
   "cell_type": "code",
   "execution_count": null,
   "id": "24b66909",
   "metadata": {
    "id": "24b66909",
    "outputId": "91cb8ae0-e218-42fb-e219-f403d05c75d0"
   },
   "outputs": [
    {
     "data": {
      "text/plain": [
       "0"
      ]
     },
     "execution_count": 112,
     "metadata": {},
     "output_type": "execute_result"
    }
   ],
   "source": [
    "# 1 4 7을 기준\n",
    "1*(45-48) - 4*(18-24) + 7*(12-15)"
   ]
  },
  {
   "cell_type": "code",
   "execution_count": null,
   "id": "003dae3b",
   "metadata": {
    "id": "003dae3b",
    "outputId": "6f2c0bff-3c8a-44e0-ca8e-5f17113a03ea"
   },
   "outputs": [
    {
     "data": {
      "text/plain": [
       "0"
      ]
     },
     "execution_count": 114,
     "metadata": {},
     "output_type": "execute_result"
    }
   ],
   "source": [
    "# 7 8 9를 기준\n",
    "7*(12-15) -8*(6-12) +9*(5-8)"
   ]
  },
  {
   "cell_type": "code",
   "execution_count": null,
   "id": "2b414f30",
   "metadata": {
    "id": "2b414f30",
    "outputId": "78284381-7418-4b73-e26d-d3bd79a359f2"
   },
   "outputs": [
    {
     "data": {
      "text/plain": [
       "-9.51619735392994e-16"
      ]
     },
     "execution_count": 115,
     "metadata": {},
     "output_type": "execute_result"
    }
   ],
   "source": [
    "# 0이 16개 있는거니까 0이다\n",
    "# 10의 2승 100, 10의 -2승 1/100 = / 10의 -1 = 1/10 = 0.1 / 모든 숫자의 0승은 1 = 10의 0승은 1\n",
    "\n",
    "det_a = np.linalg.det(a)\n",
    "det_a"
   ]
  },
  {
   "cell_type": "markdown",
   "id": "593c03cb",
   "metadata": {
    "id": "593c03cb"
   },
   "source": [
    "#### 과제2_0420.\n",
    "배열 e의 행렬식을 구하면 에러가 발생됩니다. 행렬식의 의미를 감안하여 e행렬을 수정하여 다음사항을 수행하세요.\n",
    "- 행렬식을 계산하세요.\n",
    "- 역행렬을 구하세요.\n",
    "- 역행렬이 맞는지 검증하세요."
   ]
  },
  {
   "cell_type": "code",
   "execution_count": 14,
   "id": "032faca7",
   "metadata": {
    "colab": {
     "base_uri": "https://localhost:8080/"
    },
    "executionInfo": {
     "elapsed": 4,
     "status": "ok",
     "timestamp": 1682004581905,
     "user": {
      "displayName": "박주경",
      "userId": "06694313831384541311"
     },
     "user_tz": -540
    },
    "id": "032faca7",
    "outputId": "8728c4b6-5e12-402b-dd5d-d7954dfd707f"
   },
   "outputs": [
    {
     "data": {
      "text/plain": [
       "1.0"
      ]
     },
     "execution_count": 14,
     "metadata": {},
     "output_type": "execute_result"
    }
   ],
   "source": [
    "e = np.array([1,0,0], [0,1,0])\n",
    "np.linalg.det(e)"
   ]
  },
  {
   "cell_type": "code",
   "execution_count": 54,
   "id": "gspYjxt9SXNa",
   "metadata": {
    "colab": {
     "base_uri": "https://localhost:8080/"
    },
    "executionInfo": {
     "elapsed": 485,
     "status": "ok",
     "timestamp": 1682006302010,
     "user": {
      "displayName": "박주경",
      "userId": "06694313831384541311"
     },
     "user_tz": -540
    },
    "id": "gspYjxt9SXNa",
    "outputId": "db316743-e77c-4bd8-d918-078d9fe028ef"
   },
   "outputs": [
    {
     "name": "stdout",
     "output_type": "stream",
     "text": [
      "[[1 0 0]\n",
      " [0 1 0]\n",
      " [0 0 1]] \n",
      "\n",
      "역행렬\n",
      "[[1. 0. 0.]\n",
      " [0. 1. 0.]\n",
      " [0. 0. 1.]] \n",
      "\n",
      "검증 - 항등행렬이 나옴\n",
      "[[1. 0. 0.]\n",
      " [0. 1. 0.]\n",
      " [0. 0. 1.]] \n",
      "\n",
      "검증 - 행렬식이 0이 아니므로 역행렬 존재함\n",
      "1.0\n"
     ]
    }
   ],
   "source": [
    "# 정방행렬로 수정\n",
    "# 2차원 배열로 수정(쌍대괄호)\n",
    "e = np.array([[1,0,0], [0,1,0], [0,0,1]])\n",
    "print(e, '\\n')\n",
    "\n",
    "# 역행렬 구하기\n",
    "e2 = np.linalg.inv(e)\n",
    "print('역행렬')\n",
    "print(e2, '\\n')\n",
    "\n",
    "# 검증\n",
    "print('검증 - 항등행렬이 나옴')\n",
    "print(e @ e2, '\\n')\n",
    "\n",
    "# 검증\n",
    "e3 = np.linalg.det(e)\n",
    "print('검증 - 행렬식이 0이 아니므로 역행렬 존재함')\n",
    "print(e3)"
   ]
  },
  {
   "cell_type": "markdown",
   "id": "2f1a2872",
   "metadata": {
    "id": "2f1a2872"
   },
   "source": [
    "#### 과제3_0420.\n",
    "아래 두 행렬을 생성해서 각각 a1, b1으로 저장하고 행렬 내적을 계산한 결과를 출력하세요.\n",
    "\n",
    "[[1 2 3][4 5 6]]\n",
    "\n",
    "[[10 11][12 13][14 15]]\n"
   ]
  },
  {
   "cell_type": "code",
   "execution_count": 50,
   "id": "giM8cMjqU99f",
   "metadata": {
    "colab": {
     "base_uri": "https://localhost:8080/"
    },
    "executionInfo": {
     "elapsed": 518,
     "status": "ok",
     "timestamp": 1682006086340,
     "user": {
      "displayName": "박주경",
      "userId": "06694313831384541311"
     },
     "user_tz": -540
    },
    "id": "giM8cMjqU99f",
    "outputId": "43e72e91-b1b7-4f1d-e91a-6198940fe3cf"
   },
   "outputs": [
    {
     "name": "stdout",
     "output_type": "stream",
     "text": [
      "===a1과 b1===\n",
      "[[1 2 3]\n",
      " [4 5 6]] \n",
      "\n",
      "[[10 11]\n",
      " [12 13]\n",
      " [14 15]] \n",
      "\n",
      "===@ 이용===\n",
      "[[ 76  82]\n",
      " [184 199]] \n",
      "\n",
      "===dot 이용(두 가지 방식)===\n",
      "[[ 76  82]\n",
      " [184 199]] \n",
      "\n",
      "[[ 76  82]\n",
      " [184 199]]\n"
     ]
    }
   ],
   "source": [
    "a1 = np.array([[1, 2, 3],[4, 5, 6]])\n",
    "b1 = np.array([[10, 11],[12, 13],[14, 15]])\n",
    "\n",
    "print('===a1과 b1===')\n",
    "print(a1,'\\n')\n",
    "print(b1,'\\n')\n",
    "\n",
    "# @ 이용\n",
    "print('===@ 이용===')\n",
    "print(a1 @ b1,'\\n')\n",
    "\n",
    "# dot함수 이용\n",
    "print('===dot 이용(두 가지 방식)===')\n",
    "print(np.dot(a1, b1),'\\n')      # Numpy 라이브러리의 dot임 (np.dot)\n",
    "print(a1.dot(b1))   #  그러나 dot은 배열 객체 자체에서도 호출될 수 있음, 이것이 보다 객체지향적인 방법이며, 코드의 가독성을 높일 수 있음"
   ]
  },
  {
   "cell_type": "markdown",
   "id": "1f04274d",
   "metadata": {
    "id": "1f04274d"
   },
   "source": [
    "- 선형예측모형은 입력 데이터 벡터와 가중치 벡터의 내적으로 계산된 예측값이 실제 출력 데이터와 유사한 값을 출력하도록 하는 모형"
   ]
  },
  {
   "cell_type": "markdown",
   "id": "27a70364",
   "metadata": {
    "id": "27a70364"
   },
   "source": [
    "데이터 입력(input1 input2) -> 행렬곱처럼 가중치를 넣어 input1, input2로 계속 아웃풋 내서 가장 좋은 가중치 찾음\n",
    "\n",
    "활성화 함수 - 조건문 같은거\n",
    "\n",
    "가중치 위치, 순서는 상관없음, 아마 값 똑같을듯\n",
    "\n",
    "\n",
    "<img src = '인공신경망행렬곱.png' STYLE='width 100px;'>"
   ]
  },
  {
   "cell_type": "markdown",
   "id": "75079f54",
   "metadata": {},
   "source": [
    "행렬식은 선형 변환의 기하학적 특성을 나타내는 중요한 개념 중 하나\n",
    "\n",
    "- 우선, 선형 변환은 벡터 공간에서 하나의 벡터를 다른 벡터로 옮기는 함수입니다. 이 때, 선형 변환은 벡터 공간의 모양을 변경시키지 않습니다.\n",
    "\n",
    "- 행렬식은 이러한 선형 변환의 기하학적 특성 중 하나인 스케일링 및 회전을 나타냅니다. 스케일링은 벡터를 크기만 변경시키는 변환을 의미하며, 회전은 벡터를 방향을 변경시키는 변환을 의미합니다.\n",
    "\n",
    "- 행렬식은 선형 변환을 수행하는 행렬의 크기 변화를 나타내며, 변환 후의 공간의 부피를 결정합니다. 행렬식이 1보다 크면 공간이 확대되고, 1보다 작으면 공간이 축소됩니다. 또한, 행렬식이 0이면 선형 변환은 벡터 공간의 모양을 변경시키지 않습니다.\n",
    "\n",
    "- 2차원 평면에서 2배 확대하는 선형 변환을 수행하는 행렬의 행렬식은 2이며, 90도 회전하는 선형 변환을 수행하는 행렬의 행렬식은 -1입니다. 이러한 기하학적 의미는 컴퓨터 그래픽스, 물리학, 공학 등 다양한 분야에서 활용됩니다.\n",
    "    - 90도 회전하는 선형 변환을 수행하는 행렬의 행렬식이 -1이라는 것은, 이 변환이 공간의 부피를 음수로 변경시킨다는 의미\n",
    "    - 이러한 회전 변환이 적용되면, 양의 방향과 반대 방향으로 공간이 뒤집히게 되어 음수의 부피가 생기는 것\n",
    "    -  정사각형을 90도 회전하는 선형 변환을 적용하면, 정사각형은 기존과는 반대 방향으로 뒤집히게 됩니다. 이렇게 뒤집힌 정사각형은 양의 방향으로는 측정할 수 없는 음수의 부피를 가지게 됩니다.\n",
    "    \n",
    " 행렬식의 기하학적 의미 : https://angeloyeo.github.io/2019/08/06/determinant.html"
   ]
  },
  {
   "cell_type": "markdown",
   "id": "f5c5f4f5",
   "metadata": {},
   "source": [
    "내적(dot product)과 행렬식(determinant)은 선형대수학에서 중요한 개념이지만, 서로 다른 개념입니다.\n",
    "\n",
    "내적은 두 벡터의 곱을 구하는 연산으로, 두 벡터의 크기와 방향에 따라 결과가 달라집니다. 두 벡터의 내적은 각 성분별로 곱한 값을 모두 더한 것으로 계산됩니다. 내적은 두 벡터가 얼마나 유사한 방향을 가지고 있는지, 또는 두 벡터 중 하나의 벡터가 다른 벡터의 방향을 얼마나 따라가고 있는지를 나타내는데 사용됩니다.\n",
    "\n",
    "행렬식은 정방 행렬의 선형 변환에 따른 부피의 스케일링 비율을 나타내는 지표입니다. 행렬식은 행렬의 크기와 방향에 따라 결정되며, 정방 행렬의 성질을 설명하는데 사용됩니다. 행렬식이 0인 행렬은 역행렬을 갖지 않습니다. 행렬식은 행렬의 크기와 방향에 따라 결정되기 때문에, 행렬식이 1이면 해당 행렬이 크기와 방향을 변화시키지 않는 회전변환을 나타내는 정방행렬임을 알 수 있습니다.\n",
    "\n",
    "따라서 내적과 행렬식은 서로 다른 개념이지만, 둘 다 선형대수학에서 중요한 개념으로 다양한 분야에서 사용됩니다."
   ]
  },
  {
   "cell_type": "markdown",
   "id": "24f99002",
   "metadata": {},
   "source": [
    "선형변환 - 함수 역할을 함\n",
    "행렬끼리 행렬곱하면 갑이 나오는데 두 번째 행렬이 함수와 같은 역할을 함\n",
    "벡터 -> 행렬 -> 아웃풋 (내적에서의 이 과정을 선형변환이라 함)\n",
    "- 선형변환이나 행렬식 등으로 가중치 찾는다\n",
    "\n",
    "인풋 -> 선형변환 하는데, 계속 레이어들을 거치는데, 이게 한계가 있다. 그래서 활성화 함수를 추가한다.\n",
    "\n",
    "각 레이어에서 인위적으로 비선형 변환을 해준다 (선형 변환만으로는 학습할 때 놓치는 부분 많아서)\n",
    "\n",
    "레이어마다 계속 비슷한 작업 하는 것 방지 -> 다양한 학습 가능하도록 네트워크 구성"
   ]
  },
  {
   "cell_type": "code",
   "execution_count": 23,
   "id": "7d41754a",
   "metadata": {},
   "outputs": [
    {
     "data": {
      "image/png": "[encoded data removed]",
      "text/plain": [
       "<Figure size 640x480 with 1 Axes>"
      ]
     },
     "metadata": {},
     "output_type": "display_data"
    }
   ],
   "source": [
    "# quiver 함수는 MATLAB에서 제공하는 그래프 함수 중 하나로, 2차원 벡터 필드(2D vector field)를 그리는 함수\n",
    "# 벡터의 크기와 방향을 표현하는 그래프\n",
    "\n",
    "\n",
    "# x축 방향으로 2배 확대\n",
    "import numpy as np\n",
    "import matplotlib.pyplot as plt\n",
    "\n",
    "# 변환 전의 기준 벡터\n",
    "v = np.array([1,0])\n",
    "\n",
    "# 선형 변환 행렬\n",
    "A = np.array([[2,0],[0,1]])\n",
    "\n",
    "# 변환 후의 벡터\n",
    "Av = np.dot(A, v)\n",
    "\n",
    "# 그래프 그리기\n",
    "fig, ax = plt.subplots()\n",
    "\n",
    "# 변환 전 벡터 그리기\n",
    "ax.quiver([0], [0], v[0], v[1], color='b', angles='xy', scale_units='xy', scale=1)\n",
    "\n",
    "# 변환 후 벡터 그리기\n",
    "ax.quiver([0], [0], Av[0], Av[1], color='r', angles='xy', scale_units='xy', scale=1)\n",
    "\n",
    "# 축 설정\n",
    "ax.set_xlim([-2,2])\n",
    "ax.set_ylim([-2,2])\n",
    "ax.set_xlabel('x')\n",
    "ax.set_xlabel('y')\n",
    "ax.grid()\n",
    "plt.show()"
   ]
  },
  {
   "cell_type": "code",
   "execution_count": null,
   "id": "95c165e7",
   "metadata": {},
   "outputs": [],
   "source": []
  },
  {
   "cell_type": "code",
   "execution_count": 24,
   "id": "0af684ba",
   "metadata": {},
   "outputs": [
    {
     "data": {
      "image/png": "[encoded data removed]",
      "text/plain": [
       "<Figure size 640x480 with 1 Axes>"
      ]
     },
     "metadata": {},
     "output_type": "display_data"
    }
   ],
   "source": [
    "# 변환 전의 기준 벡터\n",
    "v = np.array([1,1])\n",
    "\n",
    "# 선형 변환 행렬\n",
    "A = np.array([[2,0],[0,1]])\n",
    "\n",
    "# 변환 후의 벡터\n",
    "Av = np.dot(A, v)\n",
    "\n",
    "# 그래프 그리기\n",
    "fig, ax = plt.subplots()\n",
    "\n",
    "# 변환 전 벡터 그리기\n",
    "ax.quiver([0], [0], v[0], v[1], color='b', angles='xy', scale_units='xy', scale=1)\n",
    "\n",
    "# 변환 후 벡터 그리기\n",
    "ax.quiver([0], [0], Av[0], Av[1], color='r', angles='xy', scale_units='xy', scale=1)\n",
    "\n",
    "# 축 설정\n",
    "ax.set_xlim([-2,2])\n",
    "ax.set_ylim([-2,2])\n",
    "ax.set_xlabel('x')\n",
    "ax.set_xlabel('y')\n",
    "ax.grid()\n",
    "plt.show()"
   ]
  },
  {
   "cell_type": "code",
   "execution_count": 26,
   "id": "d6b9f556",
   "metadata": {},
   "outputs": [
    {
     "name": "stdout",
     "output_type": "stream",
     "text": [
      "[[2 0]\n",
      " [0 1]] \n",
      "\n",
      "2.0\n"
     ]
    }
   ],
   "source": [
    "# 행렬식으로 면적 구함\n",
    "\n",
    "A = np.array([[2,0], [0,1]])\n",
    "\n",
    "print(A, '\\n')\n",
    "det_A = np.linalg.det(A)\n",
    "print(det_A)"
   ]
  },
  {
   "cell_type": "markdown",
   "id": "77f10fc3",
   "metadata": {},
   "source": [
    "np.dot과 np.matmul의 차이\n",
    "\n",
    "- np.dot() 함수는 두 개의 배열을 인수로 받아서 내적(dot product)을 반환합니다. 내적은 두 배열의 대응하는 요소끼리 곱한 값을 모두 더한 것입니다. 즉, 두 배열이 1D 배열인 경우에는 벡터의 내적을 계산하고, 두 배열이 2D 배열인 경우에는 행렬 곱셈을 계산합니다. 이때 두 배열의 차원 수가 다르면 np.dot() 함수는 인수를 전치(transpose)하여 계산\n",
    "\n",
    "- np.matmul() 함수도 두 개의 배열을 인수로 받아서 행렬 곱셈을 반환합니다. 그러나 np.matmul() 함수는 3D 이상의 배열에 대해서도 계산이 가능합니다. 이때 np.matmul() 함수는 마지막 두 차원에 대해서만 행렬 곱셈을 수행\n",
    "\n",
    "- np.matmul() 함수는 첫 번째 배열의 마지막 차원(4)과 두 번째 배열의 두 번째 차원(4)을 곱하여 (2, 3, 3) 크기의 배열을 반환합니다.\n",
    "따라서, np.dot() 함수는 두 배열이 1D 배열이거나 2D 배열인 경우에 사용하고, np.matmul() 함수는 두 배열이 2D 이상인 경우에 사용\n",
    "\n",
    "https://m.blog.naver.com/PostView.naver?isHttpsRedirect=true&blogId=cjh226&logNo=221356884894"
   ]
  },
  {
   "cell_type": "code",
   "execution_count": 32,
   "id": "c7d8a94d",
   "metadata": {},
   "outputs": [
    {
     "name": "stdout",
     "output_type": "stream",
     "text": [
      "[[ 58  64]\n",
      " [139 154]] \n",
      "\n",
      "[[ 58  64]\n",
      " [139 154]]\n"
     ]
    }
   ],
   "source": [
    "a = np.array([[1,2,3], [4,5,6]])\n",
    "b = np.array([[7,8],[9,10],[11,12]])\n",
    "print(np.dot(a,b), '\\n')\n",
    "print(np.matmul(a,b))"
   ]
  },
  {
   "cell_type": "code",
   "execution_count": 35,
   "id": "81ac9f00",
   "metadata": {},
   "outputs": [
    {
     "name": "stdout",
     "output_type": "stream",
     "text": [
      "[[[[1.12249702 0.87320088 0.91249548]\n",
      "   [1.36783759 1.18582109 1.43362093]]\n",
      "\n",
      "  [[1.36350216 1.00992384 1.04400778]\n",
      "   [1.94002893 1.38771518 1.82200745]]\n",
      "\n",
      "  [[1.31214344 0.98261192 1.15945369]\n",
      "   [1.37001972 1.30442385 1.43970593]]]\n",
      "\n",
      "\n",
      " [[[1.78583305 1.30693123 1.52309257]\n",
      "   [2.08850762 1.70671664 2.02416985]]\n",
      "\n",
      "  [[1.65933494 1.26316837 1.42468675]\n",
      "   [1.83644015 1.64608605 1.9109285 ]]\n",
      "\n",
      "  [[0.74774868 0.41310007 0.58395341]\n",
      "   [1.22401285 0.70738118 0.88709034]]]] \n",
      "\n",
      "=============\n",
      "[[[1.12249702 0.87320088 0.91249548]\n",
      "  [1.36350216 1.00992384 1.04400778]\n",
      "  [1.31214344 0.98261192 1.15945369]]\n",
      "\n",
      " [[2.08850762 1.70671664 2.02416985]\n",
      "  [1.83644015 1.64608605 1.9109285 ]\n",
      "  [1.22401285 0.70738118 0.88709034]]]\n"
     ]
    }
   ],
   "source": [
    "# 첫 번째 배열의 마지막 차원(4)과 두 번째 배열의 두 번째 차원(4)을 곱하여 (같아야 함)\n",
    "# (2, 3, 3) 크기의 배열을 반환\n",
    "\n",
    "a = np.random.rand(2,3,4)\n",
    "b = np.random.rand(2,4,3)\n",
    "print(np.dot(a,b), '\\n')\n",
    "[print('=============')]\n",
    "print(np.matmul(a,b))"
   ]
  },
  {
   "cell_type": "markdown",
   "id": "e7cb398d",
   "metadata": {},
   "source": [
    "#### 과제1_0421.\n",
    "5차원 배열 2개를 생성하여 행렬곱을 계산하세요."
   ]
  },
  {
   "cell_type": "code",
   "execution_count": 39,
   "id": "f1b79f91",
   "metadata": {},
   "outputs": [
    {
     "data": {
      "text/plain": [
       "array([[[[[2.07619651, 1.66906639, 1.89551434],\n",
       "          [1.64215545, 1.63221196, 1.1090027 ],\n",
       "          [1.28707402, 0.89595106, 0.84455566]],\n",
       "\n",
       "         [[0.9596453 , 0.95050495, 0.49335154],\n",
       "          [0.37479498, 0.2728786 , 0.47510107],\n",
       "          [0.36260166, 0.52827986, 0.88225008]]],\n",
       "\n",
       "\n",
       "        [[[1.44269514, 1.07758655, 2.05285718],\n",
       "          [0.79630689, 0.7586279 , 1.57894193],\n",
       "          [1.61724868, 1.11242484, 1.33391796]],\n",
       "\n",
       "         [[1.09626897, 0.3758741 , 0.80578978],\n",
       "          [1.1849514 , 0.36853253, 0.78080895],\n",
       "          [1.33210484, 0.47015119, 0.81068145]]]]])"
      ]
     },
     "execution_count": 39,
     "metadata": {},
     "output_type": "execute_result"
    }
   ],
   "source": [
    "a = np.random.rand(1,2,2,3,4)\n",
    "b = np.random.rand(1,2,2,4,3)\n",
    "np.matmul(a,b)"
   ]
  }
 ],
 "metadata": {
  "colab": {
   "provenance": []
  },
  "kernelspec": {
   "display_name": "Python 3 (ipykernel)",
   "language": "python",
   "name": "python3"
  },
  "language_info": {
   "codemirror_mode": {
    "name": "ipython",
    "version": 3
   },
   "file_extension": ".py",
   "mimetype": "text/x-python",
   "name": "python",
   "nbconvert_exporter": "python",
   "pygments_lexer": "ipython3",
   "version": "3.9.13"
  }
 },
 "nbformat": 4,
 "nbformat_minor": 5
}
