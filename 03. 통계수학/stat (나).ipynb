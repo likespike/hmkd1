{
 "cells": [
  {
   "cell_type": "markdown",
   "id": "2221c548",
   "metadata": {
    "id": "2221c548"
   },
   "source": [
    "#### 평균\n",
    "- 평균은 이상치의 영향 많이 받는다\n",
    "분포 - 모든 자료를 보기 좋게 표나 그래프로 나타낸 것\n",
    "- 어떤 자료에 대한 분포인지\n",
    "- 이 자료와 어떤 자료가 비교가 되는지\n",
    "- 자료를 비교하기 위해서 평균과 표준편차를 구해야 함\n",
    "\n",
    "평균과 편차의 이유\n",
    "- 비교하기 위해서 (A, B 학교 중 어느 학교가 공부를 더 잘할까?)\n",
    "- 두 분포 이상 비교하기 위해 척도가 필요함 -> 평균과 표준편차\n",
    "\n",
    "표준편차 - 두 학교가 나타내는 분포를 보다 간결하게 보기 위해서 정한 표준<br><br>\n",
    "\n",
    "이산확률분포\n",
    "- 떨어지다, 흩어지다\n",
    "- 각각 떨어져 있는, 셀 수 있는 확률분포\n",
    "- 각각 떨어져 있는(셀 수 있는) 확률 변수를 통해 우리가 눈으로 확인하기 좋게 분포로 나타낸 것\n",
    "- <span style=\"color:red\">범위화 하는가?(50~60점, 60~70점, 70~80점)</span>\n",
    "\n",
    "정규분포(normal)\n",
    "연속된 값을 갖는 수치에 대해 정규분포를 가정한다\n",
    "<br><br>\n",
    "\n",
    "이항분포(Binomial distribution)\n",
    "- 둘이, 항항, 나눌분, 펼포 : 두 개의 항을 나누어 펼치는 것\n",
    "<br><br>\n",
    "연속확률분포\n",
    "- 확률 변수가 연속되어, 변수가 많아 셀 수가 없는 확률변수를 가진 확률의 분포\n",
    "\n",
    "데이터를 이용하기 위해 통계를 어떻게 이용하는가?\n",
    "분산\n",
    "표준편차\n",
    "분포\n",
    "정규화\n",
    "표준화\n",
    "\n",
    "대부분 우리는 샘플로 본다\n",
    "표본을 뽑은 것으로 데이터를 설명 = 통계량\n",
    "일단 통계가 있어야 데이터를 설명할 수 있다\n",
    "(기술통계 - 최대값 최소값 중앙값 평균 사분위 분산 표준편차 \n",
    "\n",
    "2차원\n",
    "공분산과 상관계수"
   ]
  },
  {
   "cell_type": "markdown",
   "id": "cc0379be",
   "metadata": {},
   "source": [
    "#### 시각화\n",
    "- pltly\n",
    "\n",
    "#### 피벗\n",
    "- 행과 열에 변수 정보 다 줌"
   ]
  },
  {
   "cell_type": "code",
   "execution_count": null,
   "id": "2188da3d",
   "metadata": {},
   "outputs": [],
   "source": []
  },
  {
   "cell_type": "code",
   "execution_count": null,
   "id": "ff078003",
   "metadata": {},
   "outputs": [],
   "source": []
  },
  {
   "cell_type": "code",
   "execution_count": null,
   "id": "008745f0",
   "metadata": {
    "id": "008745f0"
   },
   "outputs": [],
   "source": [
    "# # 편차 기초\n",
    "# A친구 - 턱걸이 3 4 5 6 7\n",
    "# B친구 - 턱걸이 1 3 5 7 9\n",
    "\n",
    "# 똑같이 평균은 5\n",
    "# 그런데 과연 똑같을가?\n",
    "\n",
    "# A친구는 평균 근처에 턱걸이가 모여있다 - 꾸준하고, 안정적, 컨디션이 들쑥날쑥X\n",
    "# B친구는 들쑥날쑥\n",
    "# 누구를 대회 내보내겠니! 도박 말고!\n",
    "\n",
    "# 이 흩어진 정도를 평균에서 빼봄(관측치, 데이터- 평균)\n",
    "# 평균보다 -2 -1 0 1 2 번했네\n",
    "# 평균보다 -4 -2 0 2 4 번했네\n",
    "\n",
    "# 이제 이거를 하나로 나타내 보려니까 딱 좋은게 평균! 그런데 다 더해보니 0\n",
    "\n",
    "# 동일하게 제곱을 하면 되겠다!(절대값은 여러 문제가 있음 정도만 알아라)\n",
    "# 제곱해 보니\n",
    "# 4 1 0 1 4 = 10 -> 이것을 자료수로 나눴더니 -> 2 (A의 분산이라고 함)\n",
    "# 16 4 0 4 16 = 40 -> 이것을 자료수로 나눴더니 -> 8 (B의 분산이라고 함)\n",
    "# 평균에서 흩어진 정도가 2와 8이구나\n",
    "\n",
    "# 근데 여기에서 또 문제는, 제곱해 보니 뭔가 뻥튀기 느낌...\n",
    "# A를 보면 2라고 했는데, 1떨어진 것도 있는데...\n",
    "# B를 보면 최대 4 떨어졌는데, 8정도는 아닌데...\n",
    "\n",
    "# 다시 루트를 씌워버림\n",
    "# 이것이 표준편차임\n",
    "# 표준편차는 원본 데이터의 단위와 일치한다"
   ]
  },
  {
   "cell_type": "markdown",
   "id": "46b5e1a8",
   "metadata": {
    "id": "46b5e1a8"
   },
   "source": [
    "#### 1차원 데이터 \n",
    "\n",
    "이상치\n",
    "fare 500이 있을 수 있다 -> 럭셔리 룸\n",
    "나이도 80일 수 있다\n",
    "\n",
    "fare 1차 탐색 -> 0~50사이가 많다\n",
    "fare 2차 탐색 -> 0~50사이를 자세히 봐야 할 필요가 있음(로그변환 - 왜곡하지 않으면서 볼 수 있음)\n",
    "\n",
    "상관계수는 역속형이 좀 더 의미가 있다\n",
    "과제3 문제는 사실 범주형이라 빈도분석을 해야 한다\n",
    "\n",
    "연속 사건의 확률 - 확률 밀도 함수 (특정 구간에 속할 확률을 계산하기 위한 함수)\n",
    "\n",
    "#### 모수 통계학\n",
    "- 데이터 전처리를 위해서\n",
    "- 알고리즘, 머신러닝, 딥러닝 넘어가면 비모수 통계학 가능\n",
    "- 모수 통계학 배우는 이유는 데이터 전처리 위함\n"
   ]
  },
  {
   "cell_type": "code",
   "execution_count": 4,
   "id": "3037b3b6",
   "metadata": {
    "id": "3037b3b6"
   },
   "outputs": [],
   "source": [
    "import numpy as np\n",
    "import pandas as pd\n",
    "import seaborn as sns\n",
    "import matplotlib.pyplot as plt"
   ]
  },
  {
   "cell_type": "code",
   "execution_count": 45,
   "id": "afc90073",
   "metadata": {
    "colab": {
     "base_uri": "https://localhost:8080/",
     "height": 237
    },
    "executionInfo": {
     "elapsed": 2808,
     "status": "ok",
     "timestamp": 1681208437064,
     "user": {
      "displayName": "박주경",
      "userId": "06694313831384541311"
     },
     "user_tz": -540
    },
    "id": "afc90073",
    "outputId": "693a516f-508c-479e-c547-0f1a66903b21"
   },
   "outputs": [
    {
     "data": {
      "text/html": [
       "<div>\n",
       "<style scoped>\n",
       "    .dataframe tbody tr th:only-of-type {\n",
       "        vertical-align: middle;\n",
       "    }\n",
       "\n",
       "    .dataframe tbody tr th {\n",
       "        vertical-align: top;\n",
       "    }\n",
       "\n",
       "    .dataframe thead th {\n",
       "        text-align: right;\n",
       "    }\n",
       "</style>\n",
       "<table border=\"1\" class=\"dataframe\">\n",
       "  <thead>\n",
       "    <tr style=\"text-align: right;\">\n",
       "      <th></th>\n",
       "      <th>english</th>\n",
       "      <th>mathematics</th>\n",
       "    </tr>\n",
       "    <tr>\n",
       "      <th>student number</th>\n",
       "      <th></th>\n",
       "      <th></th>\n",
       "    </tr>\n",
       "  </thead>\n",
       "  <tbody>\n",
       "    <tr>\n",
       "      <th>1</th>\n",
       "      <td>42</td>\n",
       "      <td>65</td>\n",
       "    </tr>\n",
       "    <tr>\n",
       "      <th>2</th>\n",
       "      <td>69</td>\n",
       "      <td>80</td>\n",
       "    </tr>\n",
       "    <tr>\n",
       "      <th>3</th>\n",
       "      <td>56</td>\n",
       "      <td>63</td>\n",
       "    </tr>\n",
       "    <tr>\n",
       "      <th>4</th>\n",
       "      <td>41</td>\n",
       "      <td>63</td>\n",
       "    </tr>\n",
       "    <tr>\n",
       "      <th>5</th>\n",
       "      <td>57</td>\n",
       "      <td>76</td>\n",
       "    </tr>\n",
       "  </tbody>\n",
       "</table>\n",
       "</div>"
      ],
      "text/plain": [
       "                english  mathematics\n",
       "student number                      \n",
       "1                    42           65\n",
       "2                    69           80\n",
       "3                    56           63\n",
       "4                    41           63\n",
       "5                    57           76"
      ]
     },
     "execution_count": 45,
     "metadata": {},
     "output_type": "execute_result"
    }
   ],
   "source": [
    "import numpy as np\n",
    "import pandas as pd\n",
    "import seaborn as sns\n",
    "\n",
    "# df = pd.read_csv('ch2_scores_em.csv', index_col='student number')\n",
    "df = pd.read_csv('../data/ch2_scores_em.csv', index_col='student number')\n",
    "df.head()"
   ]
  },
  {
   "cell_type": "code",
   "execution_count": null,
   "id": "36a2b9c1",
   "metadata": {
    "id": "36a2b9c1",
    "outputId": "96845ea6-0909-4f3c-d300-c965610a02c3"
   },
   "outputs": [
    {
     "data": {
      "text/plain": [
       "array([42, 69, 56, 41, 57, 48, 65, 49, 65, 58], dtype=int64)"
      ]
     },
     "execution_count": 2,
     "metadata": {},
     "output_type": "execute_result"
    }
   ],
   "source": [
    "scores = np.array(df.english)[:10]\n",
    "# scores = np.array(df.english[:10])\n",
    "scores"
   ]
  },
  {
   "cell_type": "code",
   "execution_count": null,
   "id": "777e83d7",
   "metadata": {
    "id": "777e83d7",
    "outputId": "6035521a-5c16-4ca5-d136-8375223b0183"
   },
   "outputs": [
    {
     "data": {
      "text/html": [
       "<div>\n",
       "<style scoped>\n",
       "    .dataframe tbody tr th:only-of-type {\n",
       "        vertical-align: middle;\n",
       "    }\n",
       "\n",
       "    .dataframe tbody tr th {\n",
       "        vertical-align: top;\n",
       "    }\n",
       "\n",
       "    .dataframe thead th {\n",
       "        text-align: right;\n",
       "    }\n",
       "</style>\n",
       "<table border=\"1\" class=\"dataframe\">\n",
       "  <thead>\n",
       "    <tr style=\"text-align: right;\">\n",
       "      <th></th>\n",
       "      <th>score</th>\n",
       "    </tr>\n",
       "  </thead>\n",
       "  <tbody>\n",
       "    <tr>\n",
       "      <th>A</th>\n",
       "      <td>42</td>\n",
       "    </tr>\n",
       "    <tr>\n",
       "      <th>B</th>\n",
       "      <td>69</td>\n",
       "    </tr>\n",
       "    <tr>\n",
       "      <th>C</th>\n",
       "      <td>56</td>\n",
       "    </tr>\n",
       "    <tr>\n",
       "      <th>D</th>\n",
       "      <td>41</td>\n",
       "    </tr>\n",
       "    <tr>\n",
       "      <th>E</th>\n",
       "      <td>57</td>\n",
       "    </tr>\n",
       "    <tr>\n",
       "      <th>F</th>\n",
       "      <td>48</td>\n",
       "    </tr>\n",
       "    <tr>\n",
       "      <th>G</th>\n",
       "      <td>65</td>\n",
       "    </tr>\n",
       "    <tr>\n",
       "      <th>H</th>\n",
       "      <td>49</td>\n",
       "    </tr>\n",
       "    <tr>\n",
       "      <th>I</th>\n",
       "      <td>65</td>\n",
       "    </tr>\n",
       "    <tr>\n",
       "      <th>J</th>\n",
       "      <td>58</td>\n",
       "    </tr>\n",
       "  </tbody>\n",
       "</table>\n",
       "</div>"
      ],
      "text/plain": [
       "   score\n",
       "A     42\n",
       "B     69\n",
       "C     56\n",
       "D     41\n",
       "E     57\n",
       "F     48\n",
       "G     65\n",
       "H     49\n",
       "I     65\n",
       "J     58"
      ]
     },
     "execution_count": 3,
     "metadata": {},
     "output_type": "execute_result"
    }
   ],
   "source": [
    "scores_df = pd.DataFrame({'score':scores},\n",
    "                         index=list('ABCDEFGHIJ'))\n",
    "scores_df"
   ]
  },
  {
   "cell_type": "code",
   "execution_count": null,
   "id": "222c29ea",
   "metadata": {
    "id": "222c29ea",
    "outputId": "a1aae524-71dd-45bf-9c53-3e3f57873326"
   },
   "outputs": [
    {
     "data": {
      "text/html": [
       "<div>\n",
       "<style scoped>\n",
       "    .dataframe tbody tr th:only-of-type {\n",
       "        vertical-align: middle;\n",
       "    }\n",
       "\n",
       "    .dataframe tbody tr th {\n",
       "        vertical-align: top;\n",
       "    }\n",
       "\n",
       "    .dataframe thead th {\n",
       "        text-align: right;\n",
       "    }\n",
       "</style>\n",
       "<table border=\"1\" class=\"dataframe\">\n",
       "  <thead>\n",
       "    <tr style=\"text-align: right;\">\n",
       "      <th></th>\n",
       "      <th>score</th>\n",
       "    </tr>\n",
       "    <tr>\n",
       "      <th>student</th>\n",
       "      <th></th>\n",
       "    </tr>\n",
       "  </thead>\n",
       "  <tbody>\n",
       "    <tr>\n",
       "      <th>A</th>\n",
       "      <td>42</td>\n",
       "    </tr>\n",
       "    <tr>\n",
       "      <th>B</th>\n",
       "      <td>69</td>\n",
       "    </tr>\n",
       "    <tr>\n",
       "      <th>C</th>\n",
       "      <td>56</td>\n",
       "    </tr>\n",
       "    <tr>\n",
       "      <th>D</th>\n",
       "      <td>41</td>\n",
       "    </tr>\n",
       "    <tr>\n",
       "      <th>E</th>\n",
       "      <td>57</td>\n",
       "    </tr>\n",
       "    <tr>\n",
       "      <th>F</th>\n",
       "      <td>48</td>\n",
       "    </tr>\n",
       "    <tr>\n",
       "      <th>G</th>\n",
       "      <td>65</td>\n",
       "    </tr>\n",
       "    <tr>\n",
       "      <th>H</th>\n",
       "      <td>49</td>\n",
       "    </tr>\n",
       "    <tr>\n",
       "      <th>I</th>\n",
       "      <td>65</td>\n",
       "    </tr>\n",
       "    <tr>\n",
       "      <th>J</th>\n",
       "      <td>58</td>\n",
       "    </tr>\n",
       "  </tbody>\n",
       "</table>\n",
       "</div>"
      ],
      "text/plain": [
       "         score\n",
       "student       \n",
       "A           42\n",
       "B           69\n",
       "C           56\n",
       "D           41\n",
       "E           57\n",
       "F           48\n",
       "G           65\n",
       "H           49\n",
       "I           65\n",
       "J           58"
      ]
     },
     "execution_count": 4,
     "metadata": {},
     "output_type": "execute_result"
    }
   ],
   "source": [
    "# 인덱스 이름 주고 싶으면 pd.Index 사용해야 함\n",
    "# DataFrame에서 columns 줄 때 dictionary식으로도 함\n",
    "\n",
    "scores_df = pd.DataFrame({'score':scores},\n",
    "                        index=pd.Index(list('ABCDEFGHIJ'), name='student'))\n",
    "scores_df"
   ]
  },
  {
   "cell_type": "code",
   "execution_count": null,
   "id": "dc6b33de",
   "metadata": {
    "id": "dc6b33de",
    "outputId": "f4f9d13b-de5c-4581-a6ce-30874a6c558b"
   },
   "outputs": [
    {
     "data": {
      "text/plain": [
       "<AxesSubplot:ylabel='Frequency'>"
      ]
     },
     "execution_count": 86,
     "metadata": {},
     "output_type": "execute_result"
    },
    {
     "data": {
      "image/png": "[encoded data removed]",
      "text/plain": [
       "<Figure size 640x480 with 1 Axes>"
      ]
     },
     "metadata": {},
     "output_type": "display_data"
    }
   ],
   "source": [
    "# bins=10이 default\n",
    "\n",
    "scores_df.plot(kind='hist')"
   ]
  },
  {
   "cell_type": "code",
   "execution_count": null,
   "id": "68f4d040",
   "metadata": {
    "id": "68f4d040",
    "outputId": "885742a4-fd6c-48a7-adac-4aff6d8c7d84"
   },
   "outputs": [
    {
     "data": {
      "text/plain": [
       "array([42, 69, 56, 41, 57, 48, 65, 49, 65, 58], dtype=int64)"
      ]
     },
     "execution_count": 99,
     "metadata": {},
     "output_type": "execute_result"
    }
   ],
   "source": [
    "scores"
   ]
  },
  {
   "cell_type": "code",
   "execution_count": null,
   "id": "aeca9a6a",
   "metadata": {
    "id": "aeca9a6a",
    "outputId": "6775b027-9dc3-43f3-fd27-d6244fb01c8a"
   },
   "outputs": [
    {
     "data": {
      "text/plain": [
       "55.0"
      ]
     },
     "execution_count": 106,
     "metadata": {},
     "output_type": "execute_result"
    }
   ],
   "source": [
    "# 배열에서의 평균값\n",
    "sum(scores)/len(scores)\n",
    "np.mean(scores)\n",
    "scores.mean()    # 연동성이 높아서 되는 것 같음(pandas 메서드인데, array의 평균 구해줌)"
   ]
  },
  {
   "cell_type": "code",
   "execution_count": null,
   "id": "38308c73",
   "metadata": {
    "id": "38308c73",
    "outputId": "b0f0dade-a8be-477d-9b3d-6accc233cb94"
   },
   "outputs": [
    {
     "data": {
      "text/plain": [
       "score    55.0\n",
       "dtype: float64"
      ]
     },
     "execution_count": 112,
     "metadata": {},
     "output_type": "execute_result"
    }
   ],
   "source": [
    "# 데이터 프레임에서의 평균값\n",
    "\n",
    "scores_df.mean()"
   ]
  },
  {
   "cell_type": "code",
   "execution_count": null,
   "id": "949b46b7",
   "metadata": {
    "id": "949b46b7",
    "outputId": "6228257f-bbc0-4caf-eec5-60aa3a596e2c"
   },
   "outputs": [
    {
     "data": {
      "text/plain": [
       "score    56.5\n",
       "dtype: float64"
      ]
     },
     "execution_count": 115,
     "metadata": {},
     "output_type": "execute_result"
    }
   ],
   "source": [
    "# 중앙값\n",
    "\n",
    "# scores.median()    이것은 에러가 난다. 위의 mean()처럼 median()은 numpy와 연동되지 않는다\n",
    "np.median(scores)\n",
    "scores_df.median()"
   ]
  },
  {
   "cell_type": "code",
   "execution_count": null,
   "id": "ebea1873",
   "metadata": {
    "id": "ebea1873",
    "outputId": "d1feb9b9-d54d-4985-f7a1-4e77335f3cfd"
   },
   "outputs": [
    {
     "data": {
      "text/plain": [
       "array([41, 42, 48, 49, 56, 57, 58, 65, 65, 69], dtype=int64)"
      ]
     },
     "execution_count": 119,
     "metadata": {},
     "output_type": "execute_result"
    }
   ],
   "source": [
    "sorted_scores = np.sort(scores)\n",
    "sorted_scores"
   ]
  },
  {
   "cell_type": "code",
   "execution_count": null,
   "id": "00a28416",
   "metadata": {
    "id": "00a28416",
    "outputId": "a8e09ff2-f43d-42b0-a5c5-a3daa12820e1"
   },
   "outputs": [
    {
     "data": {
      "text/plain": [
       "56.5"
      ]
     },
     "execution_count": 11,
     "metadata": {},
     "output_type": "execute_result"
    }
   ],
   "source": [
    "n = len(sorted_scores)\n",
    "\n",
    "if n % 2 == 0:\n",
    "    m0 = sorted_scores[n//2 - 1]\n",
    "    m1 = sorted_scores[n//2]\n",
    "    median = (m0+m1) / 2\n",
    "else:\n",
    "    median = sorted_scores[(n+1)//2-1]\n",
    "\n",
    "median"
   ]
  },
  {
   "cell_type": "code",
   "execution_count": null,
   "id": "da2baaaa",
   "metadata": {
    "id": "da2baaaa",
    "outputId": "84e963cc-47cb-435f-97f2-60899685a4ed"
   },
   "outputs": [
    {
     "data": {
      "text/html": [
       "<div>\n",
       "<style scoped>\n",
       "    .dataframe tbody tr th:only-of-type {\n",
       "        vertical-align: middle;\n",
       "    }\n",
       "\n",
       "    .dataframe tbody tr th {\n",
       "        vertical-align: top;\n",
       "    }\n",
       "\n",
       "    .dataframe thead th {\n",
       "        text-align: right;\n",
       "    }\n",
       "</style>\n",
       "<table border=\"1\" class=\"dataframe\">\n",
       "  <thead>\n",
       "    <tr style=\"text-align: right;\">\n",
       "      <th></th>\n",
       "      <th>score</th>\n",
       "    </tr>\n",
       "  </thead>\n",
       "  <tbody>\n",
       "    <tr>\n",
       "      <th>0</th>\n",
       "      <td>65</td>\n",
       "    </tr>\n",
       "  </tbody>\n",
       "</table>\n",
       "</div>"
      ],
      "text/plain": [
       "   score\n",
       "0     65"
      ]
     },
     "execution_count": 121,
     "metadata": {},
     "output_type": "execute_result"
    }
   ],
   "source": [
    "# 최빈값\n",
    "# mode()\n",
    "    # pandas에서 쓸 수 있음, 열을 대상으로 값을 계산함\n",
    "    # 정렬 안해도 됨\n",
    "\n",
    "scores_df.mode()"
   ]
  },
  {
   "cell_type": "code",
   "execution_count": null,
   "id": "10fce249",
   "metadata": {
    "id": "10fce249",
    "outputId": "dcf10423-f2d4-442a-c4d1-29ca84e20909"
   },
   "outputs": [
    {
     "data": {
      "text/plain": [
       "0    65\n",
       "dtype: int64"
      ]
     },
     "execution_count": 13,
     "metadata": {},
     "output_type": "execute_result"
    }
   ],
   "source": [
    "pd.Series(sorted_scores).mode()"
   ]
  },
  {
   "cell_type": "markdown",
   "id": "2778c593",
   "metadata": {
    "id": "2778c593"
   },
   "source": [
    "#### 중앙값\n",
    "- 이상치의 영향을 줄일 수 있음, 이상치의 영향을 상대적으러 덜 받음, 이상치가 있는 데이터의 중심 위치를 더 정혹하게 나타낼 수 있음\n",
    "- 분포의 왜곡을 고려할 수 있음, 고액 연봉자들이 있어도 전체 분포를 평균보다 더 잘 반영함\n",
    "- 데이터의 중심 위치를 이해하는데 도움(평균보다 크고 작음 등)"
   ]
  },
  {
   "cell_type": "code",
   "execution_count": null,
   "id": "b7ad9b4f",
   "metadata": {
    "id": "b7ad9b4f",
    "outputId": "258b5c83-e3b2-46a3-98fd-5c8310a4ffa2"
   },
   "outputs": [
    {
     "data": {
      "text/html": [
       "<div>\n",
       "<style scoped>\n",
       "    .dataframe tbody tr th:only-of-type {\n",
       "        vertical-align: middle;\n",
       "    }\n",
       "\n",
       "    .dataframe tbody tr th {\n",
       "        vertical-align: top;\n",
       "    }\n",
       "\n",
       "    .dataframe thead th {\n",
       "        text-align: right;\n",
       "    }\n",
       "</style>\n",
       "<table border=\"1\" class=\"dataframe\">\n",
       "  <thead>\n",
       "    <tr style=\"text-align: right;\">\n",
       "      <th></th>\n",
       "      <th>score</th>\n",
       "    </tr>\n",
       "  </thead>\n",
       "  <tbody>\n",
       "    <tr>\n",
       "      <th>count</th>\n",
       "      <td>10.000000</td>\n",
       "    </tr>\n",
       "    <tr>\n",
       "      <th>mean</th>\n",
       "      <td>55.000000</td>\n",
       "    </tr>\n",
       "    <tr>\n",
       "      <th>std</th>\n",
       "      <td>9.775252</td>\n",
       "    </tr>\n",
       "    <tr>\n",
       "      <th>min</th>\n",
       "      <td>41.000000</td>\n",
       "    </tr>\n",
       "    <tr>\n",
       "      <th>25%</th>\n",
       "      <td>48.250000</td>\n",
       "    </tr>\n",
       "    <tr>\n",
       "      <th>50%</th>\n",
       "      <td>56.500000</td>\n",
       "    </tr>\n",
       "    <tr>\n",
       "      <th>75%</th>\n",
       "      <td>63.250000</td>\n",
       "    </tr>\n",
       "    <tr>\n",
       "      <th>max</th>\n",
       "      <td>69.000000</td>\n",
       "    </tr>\n",
       "  </tbody>\n",
       "</table>\n",
       "</div>"
      ],
      "text/plain": [
       "           score\n",
       "count  10.000000\n",
       "mean   55.000000\n",
       "std     9.775252\n",
       "min    41.000000\n",
       "25%    48.250000\n",
       "50%    56.500000\n",
       "75%    63.250000\n",
       "max    69.000000"
      ]
     },
     "execution_count": 14,
     "metadata": {},
     "output_type": "execute_result"
    }
   ],
   "source": [
    "scores_df.describe()"
   ]
  },
  {
   "cell_type": "code",
   "execution_count": null,
   "id": "23ea7b41",
   "metadata": {
    "id": "23ea7b41",
    "outputId": "8df8bf51-c784-4a13-dcb9-92de80868cfd"
   },
   "outputs": [
    {
     "data": {
      "text/plain": [
       "<AxesSubplot:xlabel='score', ylabel='Count'>"
      ]
     },
     "execution_count": 15,
     "metadata": {},
     "output_type": "execute_result"
    },
    {
     "data": {
      "image/png": "[encoded data removed]",
      "text/plain": [
       "<Figure size 640x480 with 1 Axes>"
      ]
     },
     "metadata": {},
     "output_type": "display_data"
    }
   ],
   "source": [
    "# KDE(Kernel Density Estimation) - 커널 밀도 추정\n",
    "# 확률밀도함수(probability density function)를 추정하는 비모수적인 방법 중 하나로,\n",
    "# 데이터의 분포를 부드러운 곡선 형태로 나타내는 방법입니다\n",
    "\n",
    "import seaborn as sns\n",
    "sns.histplot(data=scores_df,x='score',kde=True)"
   ]
  },
  {
   "cell_type": "code",
   "execution_count": null,
   "id": "a6734987",
   "metadata": {
    "id": "a6734987",
    "outputId": "de9b973c-4794-4b0b-e2e4-c6dc92132eca"
   },
   "outputs": [
    {
     "data": {
      "text/html": [
       "<div>\n",
       "<style scoped>\n",
       "    .dataframe tbody tr th:only-of-type {\n",
       "        vertical-align: middle;\n",
       "    }\n",
       "\n",
       "    .dataframe tbody tr th {\n",
       "        vertical-align: top;\n",
       "    }\n",
       "\n",
       "    .dataframe thead th {\n",
       "        text-align: right;\n",
       "    }\n",
       "</style>\n",
       "<table border=\"1\" class=\"dataframe\">\n",
       "  <thead>\n",
       "    <tr style=\"text-align: right;\">\n",
       "      <th></th>\n",
       "      <th>score</th>\n",
       "    </tr>\n",
       "  </thead>\n",
       "  <tbody>\n",
       "    <tr>\n",
       "      <th>count</th>\n",
       "      <td>10.000000</td>\n",
       "    </tr>\n",
       "    <tr>\n",
       "      <th>mean</th>\n",
       "      <td>49.300000</td>\n",
       "    </tr>\n",
       "    <tr>\n",
       "      <th>std</th>\n",
       "      <td>19.556471</td>\n",
       "    </tr>\n",
       "    <tr>\n",
       "      <th>min</th>\n",
       "      <td>1.000000</td>\n",
       "    </tr>\n",
       "    <tr>\n",
       "      <th>25%</th>\n",
       "      <td>43.500000</td>\n",
       "    </tr>\n",
       "    <tr>\n",
       "      <th>50%</th>\n",
       "      <td>52.500000</td>\n",
       "    </tr>\n",
       "    <tr>\n",
       "      <th>75%</th>\n",
       "      <td>63.000000</td>\n",
       "    </tr>\n",
       "    <tr>\n",
       "      <th>max</th>\n",
       "      <td>69.000000</td>\n",
       "    </tr>\n",
       "  </tbody>\n",
       "</table>\n",
       "</div>"
      ],
      "text/plain": [
       "           score\n",
       "count  10.000000\n",
       "mean   49.300000\n",
       "std    19.556471\n",
       "min     1.000000\n",
       "25%    43.500000\n",
       "50%    52.500000\n",
       "75%    63.000000\n",
       "max    69.000000"
      ]
     },
     "execution_count": 16,
     "metadata": {},
     "output_type": "execute_result"
    },
    {
     "data": {
      "image/png": "[encoded data removed]",
      "text/plain": [
       "<Figure size 640x480 with 1 Axes>"
      ]
     },
     "metadata": {},
     "output_type": "display_data"
    }
   ],
   "source": [
    "# 평균값 < 중앙값\n",
    "\n",
    "scores_df_a = scores_df.copy()\n",
    "scores_df_a.iloc[9,0] = 1\n",
    "sns.histplot(data=scores_df_a,x='score',kde=True)\n",
    "scores_df_a.describe()"
   ]
  },
  {
   "cell_type": "code",
   "execution_count": null,
   "id": "4edefdfb",
   "metadata": {
    "id": "4edefdfb",
    "outputId": "3f7b71a9-8793-46d4-cf31-963cc8d71c24"
   },
   "outputs": [
    {
     "data": {
      "text/html": [
       "<div>\n",
       "<style scoped>\n",
       "    .dataframe tbody tr th:only-of-type {\n",
       "        vertical-align: middle;\n",
       "    }\n",
       "\n",
       "    .dataframe tbody tr th {\n",
       "        vertical-align: top;\n",
       "    }\n",
       "\n",
       "    .dataframe thead th {\n",
       "        text-align: right;\n",
       "    }\n",
       "</style>\n",
       "<table border=\"1\" class=\"dataframe\">\n",
       "  <thead>\n",
       "    <tr style=\"text-align: right;\">\n",
       "      <th></th>\n",
       "      <th>score</th>\n",
       "    </tr>\n",
       "  </thead>\n",
       "  <tbody>\n",
       "    <tr>\n",
       "      <th>count</th>\n",
       "      <td>10.000000</td>\n",
       "    </tr>\n",
       "    <tr>\n",
       "      <th>mean</th>\n",
       "      <td>55.000000</td>\n",
       "    </tr>\n",
       "    <tr>\n",
       "      <th>std</th>\n",
       "      <td>9.775252</td>\n",
       "    </tr>\n",
       "    <tr>\n",
       "      <th>min</th>\n",
       "      <td>41.000000</td>\n",
       "    </tr>\n",
       "    <tr>\n",
       "      <th>25%</th>\n",
       "      <td>48.250000</td>\n",
       "    </tr>\n",
       "    <tr>\n",
       "      <th>50%</th>\n",
       "      <td>56.500000</td>\n",
       "    </tr>\n",
       "    <tr>\n",
       "      <th>75%</th>\n",
       "      <td>63.250000</td>\n",
       "    </tr>\n",
       "    <tr>\n",
       "      <th>max</th>\n",
       "      <td>69.000000</td>\n",
       "    </tr>\n",
       "  </tbody>\n",
       "</table>\n",
       "</div>"
      ],
      "text/plain": [
       "           score\n",
       "count  10.000000\n",
       "mean   55.000000\n",
       "std     9.775252\n",
       "min    41.000000\n",
       "25%    48.250000\n",
       "50%    56.500000\n",
       "75%    63.250000\n",
       "max    69.000000"
      ]
     },
     "execution_count": 122,
     "metadata": {},
     "output_type": "execute_result"
    },
    {
     "data": {
      "image/png": "[encoded data removed]",
      "text/plain": [
       "<Figure size 640x480 with 1 Axes>"
      ]
     },
     "metadata": {},
     "output_type": "display_data"
    }
   ],
   "source": [
    "# 평균값 > 중앙값\n",
    "\n",
    "scores_df_b = scores_df.copy()\n",
    "scores_df_b.iloc[9,0] = 300\n",
    "sns.histplot(data=scores_df_b,x='score',kde=True)\n",
    "scores_df.describe()"
   ]
  },
  {
   "cell_type": "code",
   "execution_count": 2,
   "id": "6e5d817b",
   "metadata": {
    "colab": {
     "base_uri": "https://localhost:8080/"
    },
    "executionInfo": {
     "elapsed": 387,
     "status": "ok",
     "timestamp": 1681217409724,
     "user": {
      "displayName": "박주경",
      "userId": "06694313831384541311"
     },
     "user_tz": -540
    },
    "id": "6e5d817b",
    "outputId": "05a734e5-fc58-4c29-d1dc-6a7fa0119c4a"
   },
   "outputs": [
    {
     "name": "stdout",
     "output_type": "stream",
     "text": [
      "2.0\n",
      "8.0\n",
      "1.4142135623730951\n",
      "2.8284271247461903\n"
     ]
    },
    {
     "data": {
      "text/plain": [
       "8.0"
      ]
     },
     "execution_count": 2,
     "metadata": {},
     "output_type": "execute_result"
    }
   ],
   "source": [
    "a = np.array([3,4,5,6,7])\n",
    "b = np.array([1,3,5,7,9])\n",
    "\n",
    "print(a.var())\n",
    "print(b.var())\n",
    "\n",
    "print(a.std())\n",
    "print(b.std())\n",
    "\n",
    "np.var(b) #기본값0 1이면증가\n",
    "# 결론 - 주식시장이 변동성이 큰 것이 위험한 것처럼, a의 데이터가 더 안정적임, 변동성이 적음"
   ]
  },
  {
   "cell_type": "code",
   "execution_count": null,
   "id": "38049dfe",
   "metadata": {
    "id": "38049dfe"
   },
   "outputs": [],
   "source": [
    "# 편차(deviation)\n",
    "    # 데이터의 산포(분산)를 나타내는 척도(지표)\n",
    "    # 산포도 - 자료가 흩어진 정도를 하나의 수로 나타낸 것\n",
    "    # 자료가 평균으로부터 얼마나 떨어져있는지를 하나의 수로 나타내고 싶은 것 -> 분산의 시작    \n",
    "    # 분산, 표준편차, 평균절대편차, 범위 등과 같은 통계량의 계산에 사용됨\n",
    "mean = np.mean(scores)\n",
    "print(mean)\n",
    "print(scores)\n",
    "\n",
    "deviation = scores - mean\n",
    "print(deviation)"
   ]
  },
  {
   "cell_type": "code",
   "execution_count": null,
   "id": "02bca57d",
   "metadata": {
    "id": "02bca57d"
   },
   "outputs": [],
   "source": [
    "# 편차의 합은 0이다. 평균도 0이다.\n",
    "sum(deviation)\n",
    "np.mean(deviation)"
   ]
  },
  {
   "cell_type": "code",
   "execution_count": null,
   "id": "20857fcd",
   "metadata": {
    "id": "20857fcd"
   },
   "outputs": [],
   "source": [
    "a=np.array([1,2,3])\n"
   ]
  },
  {
   "cell_type": "markdown",
   "id": "1a7ae1e1",
   "metadata": {
    "id": "1a7ae1e1"
   },
   "source": [
    "#### 분산\n",
    "- Numpy와 Pandas는 서로 다른 분산을 기본으로 설정하여 계산. \n",
    " * Numpy는 표본분산, Pandas는 불편분산\n",
    " * Pandas에서 표본분산을 계산하려면 var 메소드의 인수를 ddof=0이라고 설정, 불편분산은 ddof=1일 때 해당됨\n",
    " \n",
    "#### [표본분산이 분산을 과소평가하는 이유]\n",
    "\n",
    "- 분산은 '데이터와 평균값의 간의 거리' 이므로 모평균 간의 거리를 계산 : np.sum((fish_data - mu)**2)/N  \n",
    "호수안에 물고기가 7마리 있다. 몸길이 {1,2,3,4,5,6,7}, 모평균 4,  \n",
    "샘플링 3마리 {1,2,3} 표본평균 2  \n",
    "이때 분산은 모평균을 모르기 때문에 표본평균과의 거리를 계산하며 분산을 과소평가 하게된다.\n",
    "- 표본 분산 보다 조금 더 큰 값이 되도록 보정하기 위하여 N 대신 N-1로 나누어 불편분산을 구할 수 있다"
   ]
  },
  {
   "cell_type": "code",
   "execution_count": null,
   "id": "12b1d617",
   "metadata": {
    "id": "12b1d617"
   },
   "outputs": [],
   "source": [
    "# 넘파이 - 표본분산\n",
    "# 분산의 평균\n",
    "# var - numpy library의 분산 구하는 메서드\n",
    "\n",
    "np.mean(deviation ** 2)\n",
    "np.var(scores)"
   ]
  },
  {
   "cell_type": "code",
   "execution_count": null,
   "id": "fe8f54ac",
   "metadata": {
    "id": "fe8f54ac"
   },
   "outputs": [],
   "source": [
    "# 판다스 - 불편분산\n",
    "\n",
    "scores_df.var()"
   ]
  },
  {
   "cell_type": "code",
   "execution_count": null,
   "id": "fe3c6ec5",
   "metadata": {
    "id": "fe3c6ec5"
   },
   "outputs": [],
   "source": [
    "1 2 3 4 5 6 7 모평균 4\n",
    "편차 -3 -2 -1 0 1 2 3\n",
    "\n",
    "5 6 7 표본평균 6\n",
    "편차 -1 0 1\n",
    "\n",
    "편향을 없게 해준다\n"
   ]
  },
  {
   "cell_type": "code",
   "execution_count": 2,
   "id": "5c9c4e35",
   "metadata": {},
   "outputs": [
    {
     "data": {
      "text/plain": [
       "6.666666666666667"
      ]
     },
     "execution_count": 2,
     "metadata": {},
     "output_type": "execute_result"
    }
   ],
   "source": []
  },
  {
   "cell_type": "code",
   "execution_count": null,
   "id": "f98ea6d1",
   "metadata": {
    "id": "f98ea6d1"
   },
   "outputs": [],
   "source": [
    "# 넘파이 - 불편분삭\n",
    "\n",
    "np.var(scores, ddof=1)"
   ]
  },
  {
   "cell_type": "code",
   "execution_count": null,
   "id": "38664c75",
   "metadata": {
    "id": "38664c75"
   },
   "outputs": [],
   "source": [
    "# 판다스 - 표준분산\n",
    "\n",
    "scores_df.var(ddof=0)"
   ]
  },
  {
   "cell_type": "code",
   "execution_count": null,
   "id": "fdb59040",
   "metadata": {
    "id": "fdb59040"
   },
   "outputs": [],
   "source": [
    "# 표준편차\n",
    "\n",
    "np.sqrt(np.var(scores))\n",
    "np.std(scores) # 헷갈리면 ddof=0을 써도 되는데, 기본값임"
   ]
  },
  {
   "cell_type": "code",
   "execution_count": null,
   "id": "0df4edfe",
   "metadata": {
    "id": "0df4edfe"
   },
   "outputs": [],
   "source": [
    "# 범위와 4분위수\n",
    "# 범위\n",
    "np.max(scores) - np.min(scores)"
   ]
  },
  {
   "cell_type": "code",
   "execution_count": null,
   "id": "02e0ff5e",
   "metadata": {
    "id": "02e0ff5e"
   },
   "outputs": [],
   "source": [
    "scores_Q1 = np.percentile(scores,25)\n",
    "scores_Q3 = np.percentile(scores,75)\n",
    "scores_IQR = scores_Q3 - scores_Q1\n",
    "scores_IQR"
   ]
  },
  {
   "cell_type": "code",
   "execution_count": null,
   "id": "d9576c80",
   "metadata": {
    "id": "d9576c80"
   },
   "outputs": [],
   "source": [
    "pd.Series(scores).describe()"
   ]
  },
  {
   "cell_type": "code",
   "execution_count": null,
   "id": "3da61fb6",
   "metadata": {
    "id": "3da61fb6"
   },
   "outputs": [],
   "source": [
    "# 데이터의 정규화\n",
    "# min max 41, 69를 놔두고 그 안의 분포가 표준화\n",
    "print(scores)\n",
    "print(f'평균: {scores.mean()}, 표준편차: {scores.std().round(4)}')"
   ]
  },
  {
   "cell_type": "code",
   "execution_count": null,
   "id": "783763c3",
   "metadata": {
    "id": "783763c3"
   },
   "outputs": [],
   "source": [
    "# 표준화\n",
    "# 평균을 0으로 해야 하니까 scores-np.mean(scores) 함\n",
    "# 편차를 1로 해야 하니까 표준편차로 나눠줌 (스케일을 1로 만듦)\n",
    "# Z-score 표준화\n",
    "# 변수 한 개에 대한 상관계수 느낌임, 평균과 변수 1개에 대한 (둘 다 -1~1사이의 범위를 가짐)\n",
    "\n",
    "# from scipy.stats import zscore\n",
    "# zscore(scores)\n",
    "\n",
    "z = (scores - np.mean(scores)) / np.std(scores)\n",
    "z"
   ]
  },
  {
   "cell_type": "code",
   "execution_count": null,
   "id": "578767b4",
   "metadata": {
    "id": "578767b4"
   },
   "outputs": [],
   "source": [
    "55.0 + z*scores.std()"
   ]
  },
  {
   "cell_type": "code",
   "execution_count": 4,
   "id": "58fbdeb1",
   "metadata": {
    "colab": {
     "base_uri": "https://localhost:8080/"
    },
    "executionInfo": {
     "elapsed": 4,
     "status": "ok",
     "timestamp": 1681217424639,
     "user": {
      "displayName": "박주경",
      "userId": "06694313831384541311"
     },
     "user_tz": -540
    },
    "id": "58fbdeb1",
    "outputId": "fe5325f3-ae28-4638-ab71-80a5b5403bc3"
   },
   "outputs": [
    {
     "data": {
      "text/plain": [
       "count    50.000000\n",
       "mean     58.380000\n",
       "std       9.799813\n",
       "min      37.000000\n",
       "25%      54.000000\n",
       "50%      57.500000\n",
       "75%      65.000000\n",
       "max      79.000000\n",
       "dtype: float64"
      ]
     },
     "execution_count": 4,
     "metadata": {},
     "output_type": "execute_result"
    }
   ],
   "source": [
    "# 데이터의 시각화\n",
    "english_scores = np.array(df.english)\n",
    "pd.Series(english_scores).describe()"
   ]
  },
  {
   "cell_type": "code",
   "execution_count": null,
   "id": "b7b2e95c",
   "metadata": {
    "id": "b7b2e95c"
   },
   "outputs": [],
   "source": [
    "english_scores"
   ]
  },
  {
   "cell_type": "code",
   "execution_count": 5,
   "id": "45715eac",
   "metadata": {
    "colab": {
     "base_uri": "https://localhost:8080/"
    },
    "executionInfo": {
     "elapsed": 483,
     "status": "ok",
     "timestamp": 1681217428063,
     "user": {
      "displayName": "박주경",
      "userId": "06694313831384541311"
     },
     "user_tz": -540
    },
    "id": "45715eac",
    "outputId": "ee318401-1592-4e22-98b8-f9b04c8f7404"
   },
   "outputs": [
    {
     "data": {
      "text/plain": [
       "array([ 0,  0,  0,  2,  8, 16, 18,  6,  0,  0])"
      ]
     },
     "execution_count": 5,
     "metadata": {},
     "output_type": "execute_result"
    }
   ],
   "source": [
    "# np.histogram - 데이터의 빈도(frequency)와 구간 정보(bin)를 반환해줌\n",
    "# 반환하는 값 중 계급의 경계를 무시함\n",
    "# 계급 - 데이터를 구간으로 나눈 것\n",
    "# 도수(frequency) - 각 계급에 속하는 데이터의 개수 =빈도 = 거듭하는 횟수\n",
    "\n",
    "# 도수분포표 -> 이것을 시각화한 것이 히스토그램\n",
    "\n",
    "\n",
    "# 위 코드는 english_scores라는 이름의 NumPy 배열에 대한 히스토그램을 계산하는 예제입니다.\n",
    "# english_scores 배열은 영어 시험 점수를 나타내는 데이터로,\n",
    "# 0부터 100까지의 범위에서 10개의 구간(bin)으로 히스토그램을 계산하고 있습니다.\n",
    "# np.histogram() 함수는 히스토그램을 계산하는 NumPy 함수로, 첫 번째 인자로 데이터 배열을,\n",
    "# bins 인자로 구간(bin)의 개수를, range 인자로 구간의 범위를 지정합니다.\n",
    "# np.histogram() 함수는 히스토그램의 빈도(frequency)와 구간의 경계값(bin edges)을 반환합니다.\n",
    "# freq 변수에는 히스토그램의 빈도(frequency)가 저장되어 있습니다.\n",
    "# freq 배열의 각 원소는 해당 구간에 속하는 데이터의 개수를 나타냅니다.\n",
    "\n",
    "freq,_=np.histogram(english_scores,bins=10,range=(0,100))\n",
    "freq"
   ]
  },
  {
   "cell_type": "code",
   "execution_count": 6,
   "id": "2132705c",
   "metadata": {
    "colab": {
     "base_uri": "https://localhost:8080/",
     "height": 411
    },
    "executionInfo": {
     "elapsed": 495,
     "status": "ok",
     "timestamp": 1681217447138,
     "user": {
      "displayName": "박주경",
      "userId": "06694313831384541311"
     },
     "user_tz": -540
    },
    "id": "2132705c",
    "outputId": "b0fc7e07-d7d1-4df1-935d-f08eda0ffdf9"
   },
   "outputs": [
    {
     "name": "stdout",
     "output_type": "stream",
     "text": [
      "['0~10', '10~20', '20~30', '30~40', '40~50', '50~60', '60~70', '70~80', '80~90', '90~100']\n"
     ]
    },
    {
     "data": {
      "text/html": [
       "\n",
       "  <div id=\"df-575be04f-b89e-407b-ad3d-27964ac0e7bb\">\n",
       "    <div class=\"colab-df-container\">\n",
       "      <div>\n",
       "<style scoped>\n",
       "    .dataframe tbody tr th:only-of-type {\n",
       "        vertical-align: middle;\n",
       "    }\n",
       "\n",
       "    .dataframe tbody tr th {\n",
       "        vertical-align: top;\n",
       "    }\n",
       "\n",
       "    .dataframe thead th {\n",
       "        text-align: right;\n",
       "    }\n",
       "</style>\n",
       "<table border=\"1\" class=\"dataframe\">\n",
       "  <thead>\n",
       "    <tr style=\"text-align: right;\">\n",
       "      <th></th>\n",
       "      <th>frequency</th>\n",
       "    </tr>\n",
       "    <tr>\n",
       "      <th>class</th>\n",
       "      <th></th>\n",
       "    </tr>\n",
       "  </thead>\n",
       "  <tbody>\n",
       "    <tr>\n",
       "      <th>0~10</th>\n",
       "      <td>0</td>\n",
       "    </tr>\n",
       "    <tr>\n",
       "      <th>10~20</th>\n",
       "      <td>0</td>\n",
       "    </tr>\n",
       "    <tr>\n",
       "      <th>20~30</th>\n",
       "      <td>0</td>\n",
       "    </tr>\n",
       "    <tr>\n",
       "      <th>30~40</th>\n",
       "      <td>2</td>\n",
       "    </tr>\n",
       "    <tr>\n",
       "      <th>40~50</th>\n",
       "      <td>8</td>\n",
       "    </tr>\n",
       "    <tr>\n",
       "      <th>50~60</th>\n",
       "      <td>16</td>\n",
       "    </tr>\n",
       "    <tr>\n",
       "      <th>60~70</th>\n",
       "      <td>18</td>\n",
       "    </tr>\n",
       "    <tr>\n",
       "      <th>70~80</th>\n",
       "      <td>6</td>\n",
       "    </tr>\n",
       "    <tr>\n",
       "      <th>80~90</th>\n",
       "      <td>0</td>\n",
       "    </tr>\n",
       "    <tr>\n",
       "      <th>90~100</th>\n",
       "      <td>0</td>\n",
       "    </tr>\n",
       "  </tbody>\n",
       "</table>\n",
       "</div>\n",
       "      <button class=\"colab-df-convert\" onclick=\"convertToInteractive('df-575be04f-b89e-407b-ad3d-27964ac0e7bb')\"\n",
       "              title=\"Convert this dataframe to an interactive table.\"\n",
       "              style=\"display:none;\">\n",
       "        \n",
       "  <svg xmlns=\"http://www.w3.org/2000/svg\" height=\"24px\"viewBox=\"0 0 24 24\"\n",
       "       width=\"24px\">\n",
       "    <path d=\"M0 0h24v24H0V0z\" fill=\"none\"/>\n",
       "    <path d=\"M18.56 5.44l.94 2.06.94-2.06 2.06-.94-2.06-.94-.94-2.06-.94 2.06-2.06.94zm-11 1L8.5 8.5l.94-2.06 2.06-.94-2.06-.94L8.5 2.5l-.94 2.06-2.06.94zm10 10l.94 2.06.94-2.06 2.06-.94-2.06-.94-.94-2.06-.94 2.06-2.06.94z\"/><path d=\"M17.41 7.96l-1.37-1.37c-.4-.4-.92-.59-1.43-.59-.52 0-1.04.2-1.43.59L10.3 9.45l-7.72 7.72c-.78.78-.78 2.05 0 2.83L4 21.41c.39.39.9.59 1.41.59.51 0 1.02-.2 1.41-.59l7.78-7.78 2.81-2.81c.8-.78.8-2.07 0-2.86zM5.41 20L4 18.59l7.72-7.72 1.47 1.35L5.41 20z\"/>\n",
       "  </svg>\n",
       "      </button>\n",
       "      \n",
       "  <style>\n",
       "    .colab-df-container {\n",
       "      display:flex;\n",
       "      flex-wrap:wrap;\n",
       "      gap: 12px;\n",
       "    }\n",
       "\n",
       "    .colab-df-convert {\n",
       "      background-color: #E8F0FE;\n",
       "      border: none;\n",
       "      border-radius: 50%;\n",
       "      cursor: pointer;\n",
       "      display: none;\n",
       "      fill: #1967D2;\n",
       "      height: 32px;\n",
       "      padding: 0 0 0 0;\n",
       "      width: 32px;\n",
       "    }\n",
       "\n",
       "    .colab-df-convert:hover {\n",
       "      background-color: #E2EBFA;\n",
       "      box-shadow: 0px 1px 2px rgba(60, 64, 67, 0.3), 0px 1px 3px 1px rgba(60, 64, 67, 0.15);\n",
       "      fill: #174EA6;\n",
       "    }\n",
       "\n",
       "    [theme=dark] .colab-df-convert {\n",
       "      background-color: #3B4455;\n",
       "      fill: #D2E3FC;\n",
       "    }\n",
       "\n",
       "    [theme=dark] .colab-df-convert:hover {\n",
       "      background-color: #434B5C;\n",
       "      box-shadow: 0px 1px 3px 1px rgba(0, 0, 0, 0.15);\n",
       "      filter: drop-shadow(0px 1px 2px rgba(0, 0, 0, 0.3));\n",
       "      fill: #FFFFFF;\n",
       "    }\n",
       "  </style>\n",
       "\n",
       "      <script>\n",
       "        const buttonEl =\n",
       "          document.querySelector('#df-575be04f-b89e-407b-ad3d-27964ac0e7bb button.colab-df-convert');\n",
       "        buttonEl.style.display =\n",
       "          google.colab.kernel.accessAllowed ? 'block' : 'none';\n",
       "\n",
       "        async function convertToInteractive(key) {\n",
       "          const element = document.querySelector('#df-575be04f-b89e-407b-ad3d-27964ac0e7bb');\n",
       "          const dataTable =\n",
       "            await google.colab.kernel.invokeFunction('convertToInteractive',\n",
       "                                                     [key], {});\n",
       "          if (!dataTable) return;\n",
       "\n",
       "          const docLinkHtml = 'Like what you see? Visit the ' +\n",
       "            '<a target=\"_blank\" href=https://colab.research.google.com/notebooks/data_table.ipynb>data table notebook</a>'\n",
       "            + ' to learn more about interactive tables.';\n",
       "          element.innerHTML = '';\n",
       "          dataTable['output_type'] = 'display_data';\n",
       "          await google.colab.output.renderOutput(dataTable, element);\n",
       "          const docLink = document.createElement('div');\n",
       "          docLink.innerHTML = docLinkHtml;\n",
       "          element.appendChild(docLink);\n",
       "        }\n",
       "      </script>\n",
       "    </div>\n",
       "  </div>\n",
       "  "
      ],
      "text/plain": [
       "        frequency\n",
       "class            \n",
       "0~10            0\n",
       "10~20           0\n",
       "20~30           0\n",
       "30~40           2\n",
       "40~50           8\n",
       "50~60          16\n",
       "60~70          18\n",
       "70~80           6\n",
       "80~90           0\n",
       "90~100          0"
      ]
     },
     "execution_count": 6,
     "metadata": {},
     "output_type": "execute_result"
    }
   ],
   "source": [
    "freq_class = [f'{i}~{i+10}' for i in range(0,100,10)]\n",
    "print(freq_class)\n",
    "freq_dist_df = pd.DataFrame({'frequency':freq}, index=pd.Index(freq_class,name='class'))\n",
    "freq_dist_df"
   ]
  },
  {
   "cell_type": "code",
   "execution_count": 7,
   "id": "fa475437",
   "metadata": {
    "colab": {
     "base_uri": "https://localhost:8080/"
    },
    "executionInfo": {
     "elapsed": 332,
     "status": "ok",
     "timestamp": 1681217456717,
     "user": {
      "displayName": "박주경",
      "userId": "06694313831384541311"
     },
     "user_tz": -540
    },
    "id": "fa475437",
    "outputId": "67b62cd7-fcc5-40ca-9c65-8fac7cc9b5ed"
   },
   "outputs": [
    {
     "data": {
      "text/plain": [
       "[5, 15, 25, 35, 45, 55, 65, 75, 85, 95]"
      ]
     },
     "execution_count": 7,
     "metadata": {},
     "output_type": "execute_result"
    }
   ],
   "source": [
    "# 계급값 : 각 계급을 대표하는 값으로 계급의 중앙값이 이용됨\n",
    "class_value = [(i+(i+10))//2 for i in range(0,100,10)]\n",
    "class_value"
   ]
  },
  {
   "cell_type": "code",
   "execution_count": null,
   "id": "d41396a2",
   "metadata": {
    "id": "d41396a2"
   },
   "outputs": [],
   "source": [
    "# 상대도수 : 해당 계급 데이터의 상대적인 비율\n",
    "# 특정한 값이 전체 데이터에서 차지하는 비율\n",
    "# 전체가 1임\n",
    "# 보통 합친 값으로 나누어 상대적인 비율을 계산함\n",
    "\n",
    "rel_freq = freq / freq.sum()\n",
    "rel_freq"
   ]
  },
  {
   "cell_type": "code",
   "execution_count": null,
   "id": "08834ab1",
   "metadata": {
    "id": "08834ab1"
   },
   "outputs": [],
   "source": [
    "# 누적 상대도수 : 해당 계급까지의 상대도수의 합\n",
    "\n",
    "\n",
    "cum_rel_freq = np.cumsum(rel_freq)\n",
    "cum_rel_freq"
   ]
  },
  {
   "cell_type": "code",
   "execution_count": null,
   "id": "4e9ff80e",
   "metadata": {
    "id": "4e9ff80e"
   },
   "outputs": [],
   "source": [
    "freq_dist_df['class_value'] = class_value\n",
    "freq_dist_df['relative_frequency'] = rel_freq\n",
    "freq_dist_df['cumulative_frequency'] = cum_rel_freq\n",
    "freq_dist_df = freq_dist_df[['class_value','frequency','relative_frequency','cumulative_frequency']]\n",
    "freq_dist_df"
   ]
  },
  {
   "cell_type": "code",
   "execution_count": null,
   "id": "c50cfe93",
   "metadata": {
    "id": "c50cfe93"
   },
   "outputs": [],
   "source": [
    "# 최빈값\n",
    "\n",
    "freq_dist_df.loc[freq_dist_df.frequency.idxmax(),'class_value']"
   ]
  },
  {
   "cell_type": "code",
   "execution_count": null,
   "id": "403731d3",
   "metadata": {
    "id": "403731d3"
   },
   "outputs": [],
   "source": [
    "import matplotlib.pyplot as plt\n",
    "\n",
    "plt.figure(figsize=(10,6))\n",
    "plt.hist(english_scores,bins=10,range=(0,100))"
   ]
  },
  {
   "cell_type": "code",
   "execution_count": null,
   "id": "f98aeeae",
   "metadata": {
    "id": "f98aeeae"
   },
   "outputs": [],
   "source": [
    "# 히스토그램 : 도수분포표를 막대그래프로 표현\n",
    "\n",
    "import matplotlib.pyplot as plt\n",
    "\n",
    "plt.figure(figsize=(10,6))\n",
    "\n",
    "freq, _, _ = plt.hist(english_scores,bins=10,range=(0,100))\n",
    "plt.xlabel('scores')\n",
    "plt.ylabel('person number')\n",
    "plt.xticks(np.linspace(0,100,10+1))\n",
    "plt.yticks(np.arange(0,freq.max()+1))\n",
    "plt.show()"
   ]
  },
  {
   "cell_type": "code",
   "execution_count": null,
   "id": "6b0236c5",
   "metadata": {
    "id": "6b0236c5"
   },
   "outputs": [],
   "source": [
    "# 구간 세분화\n",
    "\n",
    "plt.figure(figsize=(10,6))\n",
    "\n",
    "freq, _, _ = plt.hist(english_scores,bins=25,range=(0,100))\n",
    "plt.xlabel('scores')\n",
    "plt.ylabel('person number')\n",
    "plt.xticks(np.linspace(0,100,25+1))\n",
    "plt.yticks(np.arange(0,freq.max()+1))\n",
    "plt.show()"
   ]
  },
  {
   "cell_type": "code",
   "execution_count": null,
   "id": "9a030cf6",
   "metadata": {
    "id": "9a030cf6"
   },
   "outputs": [],
   "source": [
    "weights"
   ]
  },
  {
   "cell_type": "markdown",
   "id": "da86d241",
   "metadata": {
    "id": "da86d241"
   },
   "source": [
    "#### 과제.\n",
    "클래스별 빈도를 나타내는 히스토그램에 추가하여 누적 상대도수(y축 오른쪽)를 꺾은선 그래프로 표현하세요.\n",
    "- np.cumsum -> 이걸 꺾은선 그래프로"
   ]
  },
  {
   "cell_type": "code",
   "execution_count": null,
   "id": "9936786d",
   "metadata": {
    "id": "9936786d"
   },
   "outputs": [],
   "source": [
    "위 코드는 Matplotlib를 사용하여 english_scores 배열의 히스토그램을 생성하고,\n",
    "상대도수를 계산하는 과정을 나타내고 있습니다.\n",
    "weights = np.ones_like(english_scores) / len(english_scores): english_scores 배열과 동일한 크기의 배열을 생성하고, \n",
    "해당 배열의 모든 요소를 1로 초기화한 뒤, len(english_scores)로 나누어 weights 배열을 생성합니다.\n",
    "이렇게 생성된 weights 배열은 english_scores 배열의 길이로 나누어진 상대도수를 계산하는 데 사용됩니다.\n",
    "rel_freq, _, _ = ax1.hist(english_scores, bins=25, range=(0, 100), weights=weights):\n",
    "ax1이라는 Matplotlib의 서브플롯 객체를 사용하여 english_scores 배열을 25개의 구간으로 나누어 히스토그램을 생성합니다.\n",
    "이 때, weights 인자에 위에서 생성한 weights 배열을 전달하여 상대도수를 가중치로 사용하도록 설정합니다.\n",
    "rel_freq 변수에는 생성된 히스토그램의 상대도수 값이 저장됩니다. _는 무시되는 변수로,\n",
    "히스토그램의 구간 정보와 누적도수 정보를 반환하지만 사용되지 않습니다."
   ]
  },
  {
   "cell_type": "code",
   "execution_count": null,
   "id": "301de4ba",
   "metadata": {
    "id": "301de4ba"
   },
   "outputs": [],
   "source": [
    "fig = plt.figure(figsize=(10, 6))\n",
    "ax1 = fig.add_subplot(111)    # , 생략 가능\n",
    "\n",
    "weights = np.ones_like(english_scores) / len(english_scores)\n",
    "rel_freq, _, _ = ax1.hist(english_scores, bins=25,\n",
    "                          range=(0, 100), weights=weights)\n",
    "print(rel_freq)\n",
    "ax1.set_xlabel('score')\n",
    "ax1.set_ylabel('relative frequency')\n",
    "ax1.set_xticks(np.linspace(0, 100, 25+1))\n",
    "plt.show()"
   ]
  },
  {
   "cell_type": "code",
   "execution_count": null,
   "id": "8fd8fcf1",
   "metadata": {
    "id": "8fd8fcf1"
   },
   "outputs": [],
   "source": [
    "fig = plt.figure(figsize=(10, 6))\n",
    "ax1 = fig.add_subplot(111)\n",
    "\n",
    "\n",
    "weights = np.ones_like(english_scores) / len(english_scores)\n",
    "rel_freq, _, _ = ax1.hist(english_scores, bins=25,\n",
    "                          range=(0, 100), weights=weights)\n",
    "\n",
    "cum_rel_freq = np.cumsum(rel_freq)\n",
    "ax2.plot(np.linspace(0,100,25), cum_rel_freq)\n",
    "\n",
    "\n",
    "print(rel_freq)\n",
    "ax1.set_xlabel('score')\n",
    "ax1.set_ylabel('relative frequency')\n",
    "ax1.set_xticks(np.linspace(0, 100, 25+1))\n",
    "\n",
    "ax2 = ax1.twinx()    # 쌍둥이 y축을 사용할 수 있게 해줌\n",
    "ax2.set_ylabel('cumulative frequency')\n",
    "plt.show()"
   ]
  },
  {
   "cell_type": "code",
   "execution_count": null,
   "id": "e521dc8e",
   "metadata": {
    "id": "e521dc8e"
   },
   "outputs": [],
   "source": [
    "# box plot\n",
    "\n",
    "plt.figure(figsize=(5,6))\n",
    "plt.boxplot(english_scores,labels=['english'])\n",
    "plt.show()"
   ]
  },
  {
   "cell_type": "code",
   "execution_count": null,
   "id": "17a708c3",
   "metadata": {
    "id": "17a708c3"
   },
   "outputs": [],
   "source": [
    "english_scores = np.array(df.english)\n",
    "pd.Series(english_scores).describe()"
   ]
  },
  {
   "cell_type": "markdown",
   "id": "759cbd66",
   "metadata": {
    "id": "759cbd66"
   },
   "source": [
    "#### 과제2.\n",
    "\n",
    "타이타닉 데이터셋에서 age, pclass, fare, sex, embarked 컬럼 중 2개를 선택하여 각 컬럼의 특징을 설명하고 종속변수인 survived와의 관계를 기술하세요.\n",
    "- 각 컬럼에 대한 전처리 후 기초 통계량, 시각화를 통한 분포 및 특징 탐색, 이상치 여부 탐색\n",
    "- 선택한 컬럼을 가장 잘 활용할 수 있는 형태로 변환\n",
    "\n",
    "범주화 - 연속형은 의미 없음 (빈도 분석-범주화는)\n",
    "\n",
    "- 뒤의 공분산과 상관계수도 함께 과제임"
   ]
  },
  {
   "cell_type": "code",
   "execution_count": null,
   "id": "98b46089",
   "metadata": {
    "id": "98b46089"
   },
   "outputs": [],
   "source": [
    "import numpy as np\n",
    "import pandas as pd\n",
    "import seaborn as sns\n",
    "import matplotlib.pyplot as plt"
   ]
  },
  {
   "cell_type": "code",
   "execution_count": null,
   "id": "82ecf005",
   "metadata": {
    "id": "82ecf005"
   },
   "outputs": [],
   "source": [
    "df = pd.read_csv(\"../../dataset/titanic3.csv\")\n",
    "df.head(1)"
   ]
  },
  {
   "cell_type": "code",
   "execution_count": null,
   "id": "e7a69b18",
   "metadata": {
    "id": "e7a69b18"
   },
   "outputs": [],
   "source": [
    "import re\n",
    "\n",
    "pattern = r',\\s*([\\w\\s]+)\\.'\n",
    "\n",
    "df['title'] = df['name'].str.extract(pattern)"
   ]
  },
  {
   "cell_type": "code",
   "execution_count": null,
   "id": "ef3aeded",
   "metadata": {
    "id": "ef3aeded"
   },
   "outputs": [],
   "source": [
    "df_null = df.copy()"
   ]
  },
  {
   "cell_type": "code",
   "execution_count": null,
   "id": "9f8c14d7",
   "metadata": {
    "id": "9f8c14d7"
   },
   "outputs": [],
   "source": [
    "import pandas as pd\n",
    "import numpy as np\n",
    "\n",
    "# 나이(null 값)에 대한 평균과 표준편차 계산\n",
    "mean_age = df['age'].mean()\n",
    "std_age = df['age'].std()\n",
    "\n",
    "# 나이(null 값)을 평균과 표준편차를 고려한 랜덤 값으로 채우기\n",
    "null_age_count = df['age'].isnull().sum() # 나이(null 값)의 개수\n",
    "random_age = np.random.normal(mean_age, std_age, null_age_count) # 정규분포를 따르는 랜덤 값 생성\n",
    "random_age = np.abs(random_age) # 랜덤 값의 절대값 적용\n",
    "random_age = np.round(random_age, 2) # 소수점 2자리로 반올림\n",
    "df['age'][df['age'].isnull()] = random_age # 나이(null 값)을 랜덤 값으로 채우기"
   ]
  },
  {
   "cell_type": "code",
   "execution_count": null,
   "id": "a7bbaa75",
   "metadata": {
    "id": "a7bbaa75"
   },
   "outputs": [],
   "source": [
    "# 1행 2열의 서브플롯 생성\n",
    "fig, axes = plt.subplots(1, 2, figsize=(10, 5))\n",
    "\n",
    "# 첫 번째 서브플롯에 df_null.age의 히스토그램 그리기\n",
    "sns.histplot(df_null['age'], kde=True, ax=axes[0])\n",
    "axes[0].set_title('df_null.age Histogram')\n",
    "\n",
    "# 두 번째 서브플롯에 df.age의 히스토그램 그리기\n",
    "sns.histplot(df['age'], kde=True, ax=axes[1])\n",
    "axes[1].set_title('df.age Histogram')\n",
    "\n",
    "# 서브플롯 간의 간격 조정\n",
    "plt.tight_layout()\n",
    "\n",
    "plt.show()\n"
   ]
  },
  {
   "cell_type": "markdown",
   "id": "a31889a0",
   "metadata": {
    "id": "a31889a0"
   },
   "source": [
    "# 중앙값이 평균값보다 낮다. 약간 왼쪽으로 쏠린 그래프"
   ]
  },
  {
   "cell_type": "code",
   "execution_count": null,
   "id": "6609c6a8",
   "metadata": {
    "id": "6609c6a8"
   },
   "outputs": [],
   "source": [
    "sum(df.age)/len(df.age)"
   ]
  },
  {
   "cell_type": "code",
   "execution_count": null,
   "id": "60e72ac6",
   "metadata": {
    "id": "60e72ac6"
   },
   "outputs": [],
   "source": [
    "np.mean(df.age)\n",
    "df.age.mean()"
   ]
  },
  {
   "cell_type": "code",
   "execution_count": null,
   "id": "60ffd0f7",
   "metadata": {
    "id": "60ffd0f7"
   },
   "outputs": [],
   "source": [
    "np.median(df.age)\n",
    "df.age.median()"
   ]
  },
  {
   "cell_type": "code",
   "execution_count": null,
   "id": "5fff63b5",
   "metadata": {
    "id": "5fff63b5"
   },
   "outputs": [],
   "source": [
    "sorted_age = np.sort(df.age)\n",
    "sorted_age"
   ]
  },
  {
   "cell_type": "code",
   "execution_count": null,
   "id": "e78642bf",
   "metadata": {
    "id": "e78642bf"
   },
   "outputs": [],
   "source": [
    "# 가장 많은 나이가 24살\n",
    "# pclass별 인원수\n",
    "# pclass, age 24, survived 그래프 해보기\n",
    "\n",
    "print(df.age.mode())\n",
    "print(df.query('age == 24').shape[0])\n",
    "print(df.query('age == 24')['pclass'].value_counts())\n",
    "df.query('age == 24')['survived'].value_counts()"
   ]
  },
  {
   "cell_type": "markdown",
   "id": "1930ec33",
   "metadata": {
    "id": "1930ec33"
   },
   "source": [
    "# age의 최빈값\n",
    "- 24살이 47명\n",
    "- 1등석:9, 2등석:16, 3등석:22\n",
    "- Died: 25, Survived: 22"
   ]
  },
  {
   "cell_type": "code",
   "execution_count": null,
   "id": "43babb93",
   "metadata": {
    "id": "43babb93"
   },
   "outputs": [],
   "source": [
    "# 데이터의 산포도 지표, 편차, 분산, 표준편차\n",
    "\n",
    "mean = np.mean(df.age)\n",
    "print(mean)\n",
    "\n",
    "deviation = df.age - mean\n",
    "deviation"
   ]
  },
  {
   "cell_type": "code",
   "execution_count": null,
   "id": "bbde9412",
   "metadata": {
    "id": "bbde9412"
   },
   "outputs": [],
   "source": [
    "# 표본분산\n",
    "\n",
    "np.var(df.age)"
   ]
  },
  {
   "cell_type": "code",
   "execution_count": null,
   "id": "1dc273f4",
   "metadata": {
    "id": "1dc273f4"
   },
   "outputs": [],
   "source": [
    "# 불편분산\n",
    "\n",
    "df.age.var()"
   ]
  },
  {
   "cell_type": "markdown",
   "id": "cb0a52dc",
   "metadata": {
    "id": "cb0a52dc"
   },
   "source": [
    "#### 샘플 갯수가 많아서?\n",
    "#### 모집단이 titanic의 age인가? 아니면 총 인구?"
   ]
  },
  {
   "cell_type": "code",
   "execution_count": null,
   "id": "93e9ca04",
   "metadata": {
    "id": "93e9ca04"
   },
   "outputs": [],
   "source": [
    "# 표준편차\n",
    "\n",
    "np.std(df.age)"
   ]
  },
  {
   "cell_type": "code",
   "execution_count": null,
   "id": "149c1fef",
   "metadata": {
    "id": "149c1fef"
   },
   "outputs": [],
   "source": [
    "df.age.describe()"
   ]
  },
  {
   "cell_type": "code",
   "execution_count": null,
   "id": "b1f08c1d",
   "metadata": {
    "id": "b1f08c1d"
   },
   "outputs": [],
   "source": [
    "# 표준화\n",
    "z = (df.age - np.mean(df.age)) / np.std(df.age)\n",
    "z"
   ]
  },
  {
   "cell_type": "code",
   "execution_count": null,
   "id": "8bd8ad7a",
   "metadata": {
    "id": "8bd8ad7a"
   },
   "outputs": [],
   "source": [
    "freq,_=np.histogram(df.age,range=(0,100))\n",
    "freq"
   ]
  },
  {
   "cell_type": "markdown",
   "id": "37363356",
   "metadata": {
    "id": "37363356"
   },
   "source": [
    "# 2차원 데이터\n",
    "- 주로 비교가 될 것임"
   ]
  },
  {
   "cell_type": "code",
   "execution_count": 4,
   "id": "0b0ca09b",
   "metadata": {
    "id": "0b0ca09b"
   },
   "outputs": [
    {
     "data": {
      "text/html": [
       "<div>\n",
       "<style scoped>\n",
       "    .dataframe tbody tr th:only-of-type {\n",
       "        vertical-align: middle;\n",
       "    }\n",
       "\n",
       "    .dataframe tbody tr th {\n",
       "        vertical-align: top;\n",
       "    }\n",
       "\n",
       "    .dataframe thead th {\n",
       "        text-align: right;\n",
       "    }\n",
       "</style>\n",
       "<table border=\"1\" class=\"dataframe\">\n",
       "  <thead>\n",
       "    <tr style=\"text-align: right;\">\n",
       "      <th></th>\n",
       "      <th>english</th>\n",
       "      <th>mathematics</th>\n",
       "    </tr>\n",
       "    <tr>\n",
       "      <th>student number</th>\n",
       "      <th></th>\n",
       "      <th></th>\n",
       "    </tr>\n",
       "  </thead>\n",
       "  <tbody>\n",
       "    <tr>\n",
       "      <th>1</th>\n",
       "      <td>42</td>\n",
       "      <td>65</td>\n",
       "    </tr>\n",
       "    <tr>\n",
       "      <th>2</th>\n",
       "      <td>69</td>\n",
       "      <td>80</td>\n",
       "    </tr>\n",
       "    <tr>\n",
       "      <th>3</th>\n",
       "      <td>56</td>\n",
       "      <td>63</td>\n",
       "    </tr>\n",
       "    <tr>\n",
       "      <th>4</th>\n",
       "      <td>41</td>\n",
       "      <td>63</td>\n",
       "    </tr>\n",
       "    <tr>\n",
       "      <th>5</th>\n",
       "      <td>57</td>\n",
       "      <td>76</td>\n",
       "    </tr>\n",
       "  </tbody>\n",
       "</table>\n",
       "</div>"
      ],
      "text/plain": [
       "                english  mathematics\n",
       "student number                      \n",
       "1                    42           65\n",
       "2                    69           80\n",
       "3                    56           63\n",
       "4                    41           63\n",
       "5                    57           76"
      ]
     },
     "execution_count": 4,
     "metadata": {},
     "output_type": "execute_result"
    }
   ],
   "source": [
    "import numpy as np\n",
    "import pandas as pd\n",
    "import seaborn as sns\n",
    "\n",
    "df = pd.read_csv('../data/ch2_scores_em.csv', index_col='student number')\n",
    "df.head()"
   ]
  },
  {
   "cell_type": "code",
   "execution_count": 5,
   "id": "2213fb7e",
   "metadata": {
    "id": "2213fb7e"
   },
   "outputs": [
    {
     "data": {
      "text/html": [
       "<div>\n",
       "<style scoped>\n",
       "    .dataframe tbody tr th:only-of-type {\n",
       "        vertical-align: middle;\n",
       "    }\n",
       "\n",
       "    .dataframe tbody tr th {\n",
       "        vertical-align: top;\n",
       "    }\n",
       "\n",
       "    .dataframe thead th {\n",
       "        text-align: right;\n",
       "    }\n",
       "</style>\n",
       "<table border=\"1\" class=\"dataframe\">\n",
       "  <thead>\n",
       "    <tr style=\"text-align: right;\">\n",
       "      <th></th>\n",
       "      <th>english</th>\n",
       "      <th>mathematics</th>\n",
       "    </tr>\n",
       "    <tr>\n",
       "      <th>student</th>\n",
       "      <th></th>\n",
       "      <th></th>\n",
       "    </tr>\n",
       "  </thead>\n",
       "  <tbody>\n",
       "    <tr>\n",
       "      <th>A</th>\n",
       "      <td>42</td>\n",
       "      <td>65</td>\n",
       "    </tr>\n",
       "    <tr>\n",
       "      <th>B</th>\n",
       "      <td>69</td>\n",
       "      <td>80</td>\n",
       "    </tr>\n",
       "    <tr>\n",
       "      <th>C</th>\n",
       "      <td>56</td>\n",
       "      <td>63</td>\n",
       "    </tr>\n",
       "    <tr>\n",
       "      <th>D</th>\n",
       "      <td>41</td>\n",
       "      <td>63</td>\n",
       "    </tr>\n",
       "    <tr>\n",
       "      <th>E</th>\n",
       "      <td>57</td>\n",
       "      <td>76</td>\n",
       "    </tr>\n",
       "    <tr>\n",
       "      <th>F</th>\n",
       "      <td>48</td>\n",
       "      <td>60</td>\n",
       "    </tr>\n",
       "    <tr>\n",
       "      <th>G</th>\n",
       "      <td>65</td>\n",
       "      <td>81</td>\n",
       "    </tr>\n",
       "    <tr>\n",
       "      <th>H</th>\n",
       "      <td>49</td>\n",
       "      <td>66</td>\n",
       "    </tr>\n",
       "    <tr>\n",
       "      <th>I</th>\n",
       "      <td>65</td>\n",
       "      <td>78</td>\n",
       "    </tr>\n",
       "    <tr>\n",
       "      <th>J</th>\n",
       "      <td>58</td>\n",
       "      <td>82</td>\n",
       "    </tr>\n",
       "  </tbody>\n",
       "</table>\n",
       "</div>"
      ],
      "text/plain": [
       "         english  mathematics\n",
       "student                      \n",
       "A             42           65\n",
       "B             69           80\n",
       "C             56           63\n",
       "D             41           63\n",
       "E             57           76\n",
       "F             48           60\n",
       "G             65           81\n",
       "H             49           66\n",
       "I             65           78\n",
       "J             58           82"
      ]
     },
     "execution_count": 5,
     "metadata": {},
     "output_type": "execute_result"
    }
   ],
   "source": [
    "en_scores = np.array(df['english'])[:10]\n",
    "ma_scores = np.array(df['mathematics'])[:10]\n",
    "\n",
    "scores_df = pd.DataFrame({'english':en_scores,\n",
    "                          'mathematics':ma_scores},\n",
    "                        index=pd.Index(list('ABCDEFGHIJ'),name='student'))\n",
    "\n",
    "scores_df"
   ]
  },
  {
   "cell_type": "code",
   "execution_count": 6,
   "id": "d325cff8",
   "metadata": {
    "id": "d325cff8"
   },
   "outputs": [
    {
     "data": {
      "text/html": [
       "<div>\n",
       "<style scoped>\n",
       "    .dataframe tbody tr th:only-of-type {\n",
       "        vertical-align: middle;\n",
       "    }\n",
       "\n",
       "    .dataframe tbody tr th {\n",
       "        vertical-align: top;\n",
       "    }\n",
       "\n",
       "    .dataframe thead th {\n",
       "        text-align: right;\n",
       "    }\n",
       "</style>\n",
       "<table border=\"1\" class=\"dataframe\">\n",
       "  <thead>\n",
       "    <tr style=\"text-align: right;\">\n",
       "      <th></th>\n",
       "      <th>english</th>\n",
       "      <th>mathematics</th>\n",
       "      <th>english_deviation</th>\n",
       "      <th>mathematics_deviation</th>\n",
       "      <th>product of deviation</th>\n",
       "    </tr>\n",
       "    <tr>\n",
       "      <th>student</th>\n",
       "      <th></th>\n",
       "      <th></th>\n",
       "      <th></th>\n",
       "      <th></th>\n",
       "      <th></th>\n",
       "    </tr>\n",
       "  </thead>\n",
       "  <tbody>\n",
       "    <tr>\n",
       "      <th>A</th>\n",
       "      <td>42</td>\n",
       "      <td>65</td>\n",
       "      <td>-13.0</td>\n",
       "      <td>-6.4</td>\n",
       "      <td>83.2</td>\n",
       "    </tr>\n",
       "    <tr>\n",
       "      <th>B</th>\n",
       "      <td>69</td>\n",
       "      <td>80</td>\n",
       "      <td>14.0</td>\n",
       "      <td>8.6</td>\n",
       "      <td>120.4</td>\n",
       "    </tr>\n",
       "    <tr>\n",
       "      <th>C</th>\n",
       "      <td>56</td>\n",
       "      <td>63</td>\n",
       "      <td>1.0</td>\n",
       "      <td>-8.4</td>\n",
       "      <td>-8.4</td>\n",
       "    </tr>\n",
       "    <tr>\n",
       "      <th>D</th>\n",
       "      <td>41</td>\n",
       "      <td>63</td>\n",
       "      <td>-14.0</td>\n",
       "      <td>-8.4</td>\n",
       "      <td>117.6</td>\n",
       "    </tr>\n",
       "    <tr>\n",
       "      <th>E</th>\n",
       "      <td>57</td>\n",
       "      <td>76</td>\n",
       "      <td>2.0</td>\n",
       "      <td>4.6</td>\n",
       "      <td>9.2</td>\n",
       "    </tr>\n",
       "    <tr>\n",
       "      <th>F</th>\n",
       "      <td>48</td>\n",
       "      <td>60</td>\n",
       "      <td>-7.0</td>\n",
       "      <td>-11.4</td>\n",
       "      <td>79.8</td>\n",
       "    </tr>\n",
       "    <tr>\n",
       "      <th>G</th>\n",
       "      <td>65</td>\n",
       "      <td>81</td>\n",
       "      <td>10.0</td>\n",
       "      <td>9.6</td>\n",
       "      <td>96.0</td>\n",
       "    </tr>\n",
       "    <tr>\n",
       "      <th>H</th>\n",
       "      <td>49</td>\n",
       "      <td>66</td>\n",
       "      <td>-6.0</td>\n",
       "      <td>-5.4</td>\n",
       "      <td>32.4</td>\n",
       "    </tr>\n",
       "    <tr>\n",
       "      <th>I</th>\n",
       "      <td>65</td>\n",
       "      <td>78</td>\n",
       "      <td>10.0</td>\n",
       "      <td>6.6</td>\n",
       "      <td>66.0</td>\n",
       "    </tr>\n",
       "    <tr>\n",
       "      <th>J</th>\n",
       "      <td>58</td>\n",
       "      <td>82</td>\n",
       "      <td>3.0</td>\n",
       "      <td>10.6</td>\n",
       "      <td>31.8</td>\n",
       "    </tr>\n",
       "  </tbody>\n",
       "</table>\n",
       "</div>"
      ],
      "text/plain": [
       "         english  mathematics  english_deviation  mathematics_deviation  \\\n",
       "student                                                                   \n",
       "A             42           65              -13.0                   -6.4   \n",
       "B             69           80               14.0                    8.6   \n",
       "C             56           63                1.0                   -8.4   \n",
       "D             41           63              -14.0                   -8.4   \n",
       "E             57           76                2.0                    4.6   \n",
       "F             48           60               -7.0                  -11.4   \n",
       "G             65           81               10.0                    9.6   \n",
       "H             49           66               -6.0                   -5.4   \n",
       "I             65           78               10.0                    6.6   \n",
       "J             58           82                3.0                   10.6   \n",
       "\n",
       "         product of deviation  \n",
       "student                        \n",
       "A                        83.2  \n",
       "B                       120.4  \n",
       "C                        -8.4  \n",
       "D                       117.6  \n",
       "E                         9.2  \n",
       "F                        79.8  \n",
       "G                        96.0  \n",
       "H                        32.4  \n",
       "I                        66.0  \n",
       "J                        31.8  "
      ]
     },
     "execution_count": 6,
     "metadata": {},
     "output_type": "execute_result"
    }
   ],
   "source": [
    "# 공분산 : 두 변수가 함께 변화하는 경향을 나타내는 통계적 척도\n",
    "# 공분산이 양수인 경우 한 변수가 증가할 때 다른 변수도 증가하는 경향이 있으며, \n",
    "# 음수인 경우 한 변수가 증가할 때 다른 변수는 감소하는 경향이 있습니다. \n",
    "# 공분산이 0에 가까운 경우 두 변수 사이에는 거의 상관관계가 없다고 볼 수 있습니다.\n",
    "\n",
    "# 먼저 편차\n",
    "summary_df = scores_df.copy()\n",
    "summary_df['english_deviation'] = summary_df.english - summary_df.english.mean()\n",
    "summary_df['mathematics_deviation'] = summary_df.mathematics - summary_df.mathematics.mean()\n",
    "summary_df\n",
    "\n",
    "# 공분산 (곱함)\n",
    "summary_df['product of deviation'] = summary_df['english_deviation'] * summary_df['mathematics_deviation']\n",
    "summary_df"
   ]
  },
  {
   "cell_type": "code",
   "execution_count": 7,
   "id": "58e16443",
   "metadata": {
    "id": "58e16443"
   },
   "outputs": [
    {
     "name": "stdout",
     "output_type": "stream",
     "text": [
      "86.0\n"
     ]
    },
    {
     "data": {
      "text/plain": [
       "68.44000000000001"
      ]
     },
     "execution_count": 7,
     "metadata": {},
     "output_type": "execute_result"
    }
   ],
   "source": [
    "print(np.var(scores_df.english))\n",
    "np.var(scores_df.mathematics)"
   ]
  },
  {
   "cell_type": "code",
   "execution_count": 8,
   "id": "6888439f",
   "metadata": {
    "id": "6888439f"
   },
   "outputs": [
    {
     "data": {
      "text/plain": [
       "62.8"
      ]
     },
     "execution_count": 8,
     "metadata": {},
     "output_type": "execute_result"
    }
   ],
   "source": [
    "summary_df['product of deviation'].mean()"
   ]
  },
  {
   "cell_type": "code",
   "execution_count": 9,
   "id": "ee556e73",
   "metadata": {
    "id": "ee556e73"
   },
   "outputs": [
    {
     "data": {
      "text/plain": [
       "array([[86.  , 62.8 ],\n",
       "       [62.8 , 68.44]])"
      ]
     },
     "execution_count": 9,
     "metadata": {},
     "output_type": "execute_result"
    }
   ],
   "source": [
    "# 95와 76은 각자의 분산이고,\n",
    "# 69가 공분산임\n",
    "# ddof=0하면 62.8 나온다\n",
    "\n",
    "np.cov(en_scores, ma_scores, ddof=0)"
   ]
  },
  {
   "cell_type": "code",
   "execution_count": 10,
   "id": "b6bb2a5f",
   "metadata": {
    "id": "b6bb2a5f"
   },
   "outputs": [
    {
     "data": {
      "text/plain": [
       "array([[95.55555556, 69.77777778],\n",
       "       [69.77777778, 76.04444444]])"
      ]
     },
     "execution_count": 10,
     "metadata": {},
     "output_type": "execute_result"
    }
   ],
   "source": [
    "# n-1로 나눔 (ddof=1이 default임)\n",
    "\n",
    "np.cov(en_scores, ma_scores)"
   ]
  },
  {
   "cell_type": "code",
   "execution_count": 10,
   "id": "3e645ed5",
   "metadata": {
    "id": "3e645ed5"
   },
   "outputs": [
    {
     "data": {
      "text/plain": [
       "0.8185692341186713"
      ]
     },
     "execution_count": 10,
     "metadata": {},
     "output_type": "execute_result"
    }
   ],
   "source": [
    "# 상관계수\n",
    "# 공분산으로는 방향성은 아는데, 스케일이 다 클려서 얼마나 관계가 있는지는 모른다\n",
    "# 그것을 보게 해주는게 상관계수임\n",
    "\n",
    "np.cov(en_scores,ma_scores,ddof=0)[0,1] / (np.std(en_scores) * np.std(ma_scores))"
   ]
  },
  {
   "cell_type": "code",
   "execution_count": 8,
   "id": "e276b15c",
   "metadata": {
    "id": "e276b15c"
   },
   "outputs": [
    {
     "data": {
      "text/plain": [
       "array([[1.        , 0.81856923],\n",
       "       [0.81856923, 1.        ]])"
      ]
     },
     "execution_count": 8,
     "metadata": {},
     "output_type": "execute_result"
    }
   ],
   "source": [
    "np.corrcoef(en_scores,ma_scores)"
   ]
  },
  {
   "cell_type": "code",
   "execution_count": 9,
   "id": "aff729e7",
   "metadata": {
    "id": "aff729e7"
   },
   "outputs": [
    {
     "data": {
      "text/html": [
       "<div>\n",
       "<style scoped>\n",
       "    .dataframe tbody tr th:only-of-type {\n",
       "        vertical-align: middle;\n",
       "    }\n",
       "\n",
       "    .dataframe tbody tr th {\n",
       "        vertical-align: top;\n",
       "    }\n",
       "\n",
       "    .dataframe thead th {\n",
       "        text-align: right;\n",
       "    }\n",
       "</style>\n",
       "<table border=\"1\" class=\"dataframe\">\n",
       "  <thead>\n",
       "    <tr style=\"text-align: right;\">\n",
       "      <th></th>\n",
       "      <th>english</th>\n",
       "      <th>mathematics</th>\n",
       "    </tr>\n",
       "  </thead>\n",
       "  <tbody>\n",
       "    <tr>\n",
       "      <th>english</th>\n",
       "      <td>1.000000</td>\n",
       "      <td>0.818569</td>\n",
       "    </tr>\n",
       "    <tr>\n",
       "      <th>mathematics</th>\n",
       "      <td>0.818569</td>\n",
       "      <td>1.000000</td>\n",
       "    </tr>\n",
       "  </tbody>\n",
       "</table>\n",
       "</div>"
      ],
      "text/plain": [
       "              english  mathematics\n",
       "english      1.000000     0.818569\n",
       "mathematics  0.818569     1.000000"
      ]
     },
     "execution_count": 9,
     "metadata": {},
     "output_type": "execute_result"
    }
   ],
   "source": [
    "scores_df.corr()"
   ]
  },
  {
   "cell_type": "markdown",
   "id": "7e01a59e",
   "metadata": {
    "id": "7e01a59e"
   },
   "source": [
    "#### 과제3.\n",
    "타이타닉 데이터셋에서 age, pclass, fare, sex, embarked 컬럼 중 2개의 쌍을 선택하여 공분산 행렬 및 상관계수 행렬을 각각 구하여 비교하세요."
   ]
  },
  {
   "cell_type": "code",
   "execution_count": null,
   "id": "b579b86b",
   "metadata": {
    "id": "b579b86b",
    "outputId": "4afb8e2e-9e9c-471d-ed1b-3278355ceca1"
   },
   "outputs": [
    {
     "data": {
      "text/html": [
       "<div>\n",
       "<style scoped>\n",
       "    .dataframe tbody tr th:only-of-type {\n",
       "        vertical-align: middle;\n",
       "    }\n",
       "\n",
       "    .dataframe tbody tr th {\n",
       "        vertical-align: top;\n",
       "    }\n",
       "\n",
       "    .dataframe thead th {\n",
       "        text-align: right;\n",
       "    }\n",
       "</style>\n",
       "<table border=\"1\" class=\"dataframe\">\n",
       "  <thead>\n",
       "    <tr style=\"text-align: right;\">\n",
       "      <th></th>\n",
       "      <th>pclass</th>\n",
       "      <th>survived</th>\n",
       "      <th>name</th>\n",
       "      <th>sex</th>\n",
       "      <th>age</th>\n",
       "      <th>sibsp</th>\n",
       "      <th>parch</th>\n",
       "      <th>ticket</th>\n",
       "      <th>fare</th>\n",
       "      <th>cabin</th>\n",
       "      <th>embarked</th>\n",
       "      <th>boat</th>\n",
       "      <th>body</th>\n",
       "      <th>home.dest</th>\n",
       "    </tr>\n",
       "  </thead>\n",
       "  <tbody>\n",
       "    <tr>\n",
       "      <th>0</th>\n",
       "      <td>1</td>\n",
       "      <td>1</td>\n",
       "      <td>Allen, Miss. Elisabeth Walton</td>\n",
       "      <td>female</td>\n",
       "      <td>29.0</td>\n",
       "      <td>0</td>\n",
       "      <td>0</td>\n",
       "      <td>24160</td>\n",
       "      <td>211.3375</td>\n",
       "      <td>B5</td>\n",
       "      <td>S</td>\n",
       "      <td>2</td>\n",
       "      <td>NaN</td>\n",
       "      <td>St Louis, MO</td>\n",
       "    </tr>\n",
       "  </tbody>\n",
       "</table>\n",
       "</div>"
      ],
      "text/plain": [
       "   pclass  survived                           name     sex   age  sibsp  \\\n",
       "0       1         1  Allen, Miss. Elisabeth Walton  female  29.0      0   \n",
       "\n",
       "   parch ticket      fare cabin embarked boat  body     home.dest  \n",
       "0      0  24160  211.3375    B5        S    2   NaN  St Louis, MO  "
      ]
     },
     "execution_count": 21,
     "metadata": {},
     "output_type": "execute_result"
    }
   ],
   "source": [
    "df = pd.read_csv(\"../../dataset/titanic3.csv\")\n",
    "df.head(1)"
   ]
  },
  {
   "cell_type": "code",
   "execution_count": null,
   "id": "9bf2e58f",
   "metadata": {
    "id": "9bf2e58f"
   },
   "outputs": [],
   "source": [
    "# 과제에서 말하지 않은 컬럼 삭제\n",
    "\n",
    "df.drop(['survived','name','sibsp','parch','ticket','cabin','boat','body','home.dest'], axis=1, inplace=True)\n",
    "df.drop(['sex','age','embarked'], axis=1, inplace=True)"
   ]
  },
  {
   "cell_type": "code",
   "execution_count": null,
   "id": "309c96c6",
   "metadata": {
    "id": "309c96c6",
    "outputId": "89069c4b-b0ba-47cc-cfdd-6419d36e2fec"
   },
   "outputs": [
    {
     "data": {
      "text/plain": [
       "pclass    0\n",
       "fare      1\n",
       "dtype: int64"
      ]
     },
     "execution_count": 23,
     "metadata": {},
     "output_type": "execute_result"
    }
   ],
   "source": [
    "# nan값 파악\n",
    "\n",
    "df.isnull().sum()"
   ]
  },
  {
   "cell_type": "code",
   "execution_count": null,
   "id": "659a987c",
   "metadata": {
    "id": "659a987c",
    "outputId": "a066088f-c909-4c52-ff8f-c83ff89fa56c"
   },
   "outputs": [
    {
     "data": {
      "text/html": [
       "<div>\n",
       "<style scoped>\n",
       "    .dataframe tbody tr th:only-of-type {\n",
       "        vertical-align: middle;\n",
       "    }\n",
       "\n",
       "    .dataframe tbody tr th {\n",
       "        vertical-align: top;\n",
       "    }\n",
       "\n",
       "    .dataframe thead th {\n",
       "        text-align: right;\n",
       "    }\n",
       "</style>\n",
       "<table border=\"1\" class=\"dataframe\">\n",
       "  <thead>\n",
       "    <tr style=\"text-align: right;\">\n",
       "      <th></th>\n",
       "      <th>pclass</th>\n",
       "      <th>fare</th>\n",
       "    </tr>\n",
       "  </thead>\n",
       "  <tbody>\n",
       "    <tr>\n",
       "      <th>1225</th>\n",
       "      <td>3</td>\n",
       "      <td>NaN</td>\n",
       "    </tr>\n",
       "  </tbody>\n",
       "</table>\n",
       "</div>"
      ],
      "text/plain": [
       "      pclass  fare\n",
       "1225       3   NaN"
      ]
     },
     "execution_count": 24,
     "metadata": {},
     "output_type": "execute_result"
    }
   ],
   "source": [
    "# nan값의 pclass 파악\n",
    "\n",
    "df[df.fare.isna() == True]"
   ]
  },
  {
   "cell_type": "code",
   "execution_count": null,
   "id": "fde984a4",
   "metadata": {
    "id": "fde984a4",
    "outputId": "b9d594c4-8450-40b5-8fa4-9b0a215e31f4"
   },
   "outputs": [
    {
     "data": {
      "text/plain": [
       "pclass     3.000000\n",
       "fare      33.295479\n",
       "Name: 1225, dtype: float64"
      ]
     },
     "execution_count": 25,
     "metadata": {},
     "output_type": "execute_result"
    }
   ],
   "source": [
    "# nan 값 대체 -> pclass 3의 fare 평균\n",
    "\n",
    "df.fare.replace(np.nan, df.fare.mean(), inplace=True)\n",
    "df.iloc[1225]"
   ]
  },
  {
   "cell_type": "code",
   "execution_count": null,
   "id": "b9c461c8",
   "metadata": {
    "id": "b9c461c8",
    "outputId": "ec0e949b-eee1-4fca-8d95-e47cba773a7d"
   },
   "outputs": [
    {
     "name": "stdout",
     "output_type": "stream",
     "text": [
      "2.294881588999236\n",
      "33.29547928134572\n"
     ]
    },
    {
     "data": {
      "text/html": [
       "<div>\n",
       "<style scoped>\n",
       "    .dataframe tbody tr th:only-of-type {\n",
       "        vertical-align: middle;\n",
       "    }\n",
       "\n",
       "    .dataframe tbody tr th {\n",
       "        vertical-align: top;\n",
       "    }\n",
       "\n",
       "    .dataframe thead th {\n",
       "        text-align: right;\n",
       "    }\n",
       "</style>\n",
       "<table border=\"1\" class=\"dataframe\">\n",
       "  <thead>\n",
       "    <tr style=\"text-align: right;\">\n",
       "      <th></th>\n",
       "      <th>pclass</th>\n",
       "      <th>fare</th>\n",
       "      <th>pclass_deviation</th>\n",
       "      <th>fare_deviation</th>\n",
       "      <th>product_of_deviation</th>\n",
       "    </tr>\n",
       "  </thead>\n",
       "  <tbody>\n",
       "    <tr>\n",
       "      <th>0</th>\n",
       "      <td>1</td>\n",
       "      <td>211.3375</td>\n",
       "      <td>-1.294882</td>\n",
       "      <td>178.042021</td>\n",
       "      <td>-230.543335</td>\n",
       "    </tr>\n",
       "    <tr>\n",
       "      <th>1</th>\n",
       "      <td>1</td>\n",
       "      <td>151.5500</td>\n",
       "      <td>-1.294882</td>\n",
       "      <td>118.254521</td>\n",
       "      <td>-153.125602</td>\n",
       "    </tr>\n",
       "    <tr>\n",
       "      <th>2</th>\n",
       "      <td>1</td>\n",
       "      <td>151.5500</td>\n",
       "      <td>-1.294882</td>\n",
       "      <td>118.254521</td>\n",
       "      <td>-153.125602</td>\n",
       "    </tr>\n",
       "    <tr>\n",
       "      <th>3</th>\n",
       "      <td>1</td>\n",
       "      <td>151.5500</td>\n",
       "      <td>-1.294882</td>\n",
       "      <td>118.254521</td>\n",
       "      <td>-153.125602</td>\n",
       "    </tr>\n",
       "    <tr>\n",
       "      <th>4</th>\n",
       "      <td>1</td>\n",
       "      <td>151.5500</td>\n",
       "      <td>-1.294882</td>\n",
       "      <td>118.254521</td>\n",
       "      <td>-153.125602</td>\n",
       "    </tr>\n",
       "    <tr>\n",
       "      <th>...</th>\n",
       "      <td>...</td>\n",
       "      <td>...</td>\n",
       "      <td>...</td>\n",
       "      <td>...</td>\n",
       "      <td>...</td>\n",
       "    </tr>\n",
       "    <tr>\n",
       "      <th>1304</th>\n",
       "      <td>3</td>\n",
       "      <td>14.4542</td>\n",
       "      <td>0.705118</td>\n",
       "      <td>-18.841279</td>\n",
       "      <td>-13.285333</td>\n",
       "    </tr>\n",
       "    <tr>\n",
       "      <th>1305</th>\n",
       "      <td>3</td>\n",
       "      <td>14.4542</td>\n",
       "      <td>0.705118</td>\n",
       "      <td>-18.841279</td>\n",
       "      <td>-13.285333</td>\n",
       "    </tr>\n",
       "    <tr>\n",
       "      <th>1306</th>\n",
       "      <td>3</td>\n",
       "      <td>7.2250</td>\n",
       "      <td>0.705118</td>\n",
       "      <td>-26.070479</td>\n",
       "      <td>-18.382775</td>\n",
       "    </tr>\n",
       "    <tr>\n",
       "      <th>1307</th>\n",
       "      <td>3</td>\n",
       "      <td>7.2250</td>\n",
       "      <td>0.705118</td>\n",
       "      <td>-26.070479</td>\n",
       "      <td>-18.382775</td>\n",
       "    </tr>\n",
       "    <tr>\n",
       "      <th>1308</th>\n",
       "      <td>3</td>\n",
       "      <td>7.8750</td>\n",
       "      <td>0.705118</td>\n",
       "      <td>-25.420479</td>\n",
       "      <td>-17.924448</td>\n",
       "    </tr>\n",
       "  </tbody>\n",
       "</table>\n",
       "<p>1309 rows × 5 columns</p>\n",
       "</div>"
      ],
      "text/plain": [
       "      pclass      fare  pclass_deviation  fare_deviation  product_of_deviation\n",
       "0          1  211.3375         -1.294882      178.042021           -230.543335\n",
       "1          1  151.5500         -1.294882      118.254521           -153.125602\n",
       "2          1  151.5500         -1.294882      118.254521           -153.125602\n",
       "3          1  151.5500         -1.294882      118.254521           -153.125602\n",
       "4          1  151.5500         -1.294882      118.254521           -153.125602\n",
       "...      ...       ...               ...             ...                   ...\n",
       "1304       3   14.4542          0.705118      -18.841279            -13.285333\n",
       "1305       3   14.4542          0.705118      -18.841279            -13.285333\n",
       "1306       3    7.2250          0.705118      -26.070479            -18.382775\n",
       "1307       3    7.2250          0.705118      -26.070479            -18.382775\n",
       "1308       3    7.8750          0.705118      -25.420479            -17.924448\n",
       "\n",
       "[1309 rows x 5 columns]"
      ]
     },
     "execution_count": 26,
     "metadata": {},
     "output_type": "execute_result"
    }
   ],
   "source": [
    "print(df.pclass.mean())\n",
    "print(df.fare.mean())\n",
    "\n",
    "# 편차 (deviation)\n",
    "df['pclass_deviation'] = df.pclass - df.pclass.mean()\n",
    "df['fare_deviation'] = df.fare - df.fare.mean()\n",
    "\n",
    "# 공분산 (곱함)\n",
    "df['product_of_deviation'] = df.pclass_deviation * df.fare_deviation\n",
    "df"
   ]
  },
  {
   "cell_type": "code",
   "execution_count": null,
   "id": "a1643dca",
   "metadata": {
    "id": "a1643dca",
    "outputId": "fcd413a9-55e0-4e2b-aaf1-c61ea02fba8d"
   },
   "outputs": [
    {
     "name": "stdout",
     "output_type": "stream",
     "text": [
      "0.7014329309750152\n",
      "0.7014329309750214\n"
     ]
    },
    {
     "data": {
      "text/plain": [
       "0.7014329309750214"
      ]
     },
     "execution_count": 27,
     "metadata": {},
     "output_type": "execute_result"
    }
   ],
   "source": [
    "# pclass의 분산\n",
    "# 분산 : 데이터값 - 평균뺀 값의 제곱 -> 그 값을 다 더함 -> 수로 나눔\n",
    "\n",
    "print((df.pclass_deviation**2).sum() / 1309)\n",
    "print(np.var(df.pclass))\n",
    "np.var(df.pclass)"
   ]
  },
  {
   "cell_type": "code",
   "execution_count": null,
   "id": "f89423d1",
   "metadata": {
    "id": "f89423d1",
    "outputId": "44157eba-be5e-4450-8f1d-ddecb9e17fd8"
   },
   "outputs": [
    {
     "data": {
      "text/plain": [
       "2674.8665984919876"
      ]
     },
     "execution_count": 28,
     "metadata": {},
     "output_type": "execute_result"
    }
   ],
   "source": [
    "# fare의 분산\n",
    "\n",
    "np.var(df.fare)"
   ]
  },
  {
   "cell_type": "code",
   "execution_count": null,
   "id": "197f330c",
   "metadata": {
    "id": "197f330c",
    "outputId": "dfafbee2-b1a3-42f0-99d9-61f3debe12b3"
   },
   "outputs": [
    {
     "data": {
      "text/plain": [
       "array([[ 7.01432931e-01, -2.41907705e+01],\n",
       "       [-2.41907705e+01,  2.67486660e+03]])"
      ]
     },
     "execution_count": 29,
     "metadata": {},
     "output_type": "execute_result"
    }
   ],
   "source": [
    "# 공분산 : -2.41\n",
    "# pclass의 분산 : 7.01\n",
    "# fare의 분산 : 2.67\n",
    "\n",
    "np.cov(df.pclass, df.fare, ddof=0)"
   ]
  },
  {
   "cell_type": "code",
   "execution_count": null,
   "id": "ba54fd50",
   "metadata": {
    "id": "ba54fd50",
    "outputId": "c0c4c9a6-b281-4e85-817c-1e386a4e92be"
   },
   "outputs": [
    {
     "data": {
      "text/plain": [
       "array([[ 1.        , -0.55847735],\n",
       "       [-0.55847735,  1.        ]])"
      ]
     },
     "execution_count": 30,
     "metadata": {},
     "output_type": "execute_result"
    }
   ],
   "source": [
    "np.corrcoef(df.pclass, df.fare)"
   ]
  },
  {
   "cell_type": "code",
   "execution_count": null,
   "id": "29dcb557",
   "metadata": {
    "id": "29dcb557",
    "outputId": "1737ac04-f79d-498d-b82f-6fcd20e95604"
   },
   "outputs": [
    {
     "data": {
      "text/html": [
       "<div>\n",
       "<style scoped>\n",
       "    .dataframe tbody tr th:only-of-type {\n",
       "        vertical-align: middle;\n",
       "    }\n",
       "\n",
       "    .dataframe tbody tr th {\n",
       "        vertical-align: top;\n",
       "    }\n",
       "\n",
       "    .dataframe thead th {\n",
       "        text-align: right;\n",
       "    }\n",
       "</style>\n",
       "<table border=\"1\" class=\"dataframe\">\n",
       "  <thead>\n",
       "    <tr style=\"text-align: right;\">\n",
       "      <th></th>\n",
       "      <th>pclass</th>\n",
       "      <th>fare</th>\n",
       "    </tr>\n",
       "  </thead>\n",
       "  <tbody>\n",
       "    <tr>\n",
       "      <th>pclass</th>\n",
       "      <td>1.000000</td>\n",
       "      <td>-0.558477</td>\n",
       "    </tr>\n",
       "    <tr>\n",
       "      <th>fare</th>\n",
       "      <td>-0.558477</td>\n",
       "      <td>1.000000</td>\n",
       "    </tr>\n",
       "  </tbody>\n",
       "</table>\n",
       "</div>"
      ],
      "text/plain": [
       "          pclass      fare\n",
       "pclass  1.000000 -0.558477\n",
       "fare   -0.558477  1.000000"
      ]
     },
     "execution_count": 31,
     "metadata": {},
     "output_type": "execute_result"
    }
   ],
   "source": [
    "df[['pclass','fare']].corr()"
   ]
  },
  {
   "cell_type": "markdown",
   "id": "41744a52",
   "metadata": {
    "id": "41744a52"
   },
   "source": [
    "상관계수는 두 변수 간의 선형 관계의 강도와 방향을 측정하는 통계적 지표입니다. 상관계수는 두 변수 간의 선형 관계만을 측정하며, 두 변수의 스케일에는 영향을 받지 않습니다.\n",
    "\n",
    "반면에, 공분산은 두 변수 간의 변동성의 측도로, 두 변수 간의 선형 관계와 함께 스케일에 대한 정보도 포함합니다. 공분산은 두 변수 간의 상관성(관계)을 측정하는 데에도 사용될 수 있지만, 상관계수와 달리 스케일에 영향을 받습니다.\n",
    "\n",
    "따라서, 상관계수는 두 변수 간의 선형 관계를 측정하는 데에 주로 사용되고, 공분산은 두 변수 간의 변동성과 스케일에 대한 정보를 포함하는 데에 사용됩니다. 두 변수 간의 선형 관계만을 측정하고자 한다면 상관계수가 충분할 수 있습니다. 그러나 두 변수 간의 변동성과 스케일에 대한 정보가 필요하다면 공분산이 유용할 수 있습니다."
   ]
  },
  {
   "cell_type": "code",
   "execution_count": null,
   "id": "e614f370",
   "metadata": {
    "id": "e614f370"
   },
   "outputs": [],
   "source": []
  },
  {
   "cell_type": "code",
   "execution_count": null,
   "id": "1688e1d1",
   "metadata": {
    "id": "1688e1d1"
   },
   "outputs": [],
   "source": []
  },
  {
   "cell_type": "markdown",
   "id": "8af37844",
   "metadata": {
    "id": "8af37844"
   },
   "source": [
    "# 개인 연습"
   ]
  },
  {
   "cell_type": "code",
   "execution_count": null,
   "id": "bd978646",
   "metadata": {
    "id": "bd978646"
   },
   "outputs": [],
   "source": [
    "df = pd.read_csv('../data/ch2_scores_em.csv', index_col='student number')\n",
    "df = df.head(10)\n",
    "df"
   ]
  },
  {
   "cell_type": "code",
   "execution_count": null,
   "id": "851ee275",
   "metadata": {
    "id": "851ee275"
   },
   "outputs": [],
   "source": [
    "평균값 - 55점\n",
    "최대값 - 69점\n",
    "최소값 - 41점\n",
    "중앙값 - 56.5점\n",
    "\n",
    "편차의 합은 0, 평균도 0\n",
    "\n",
    "(표본)분산 86\n",
    "불편분산 95.5555\n",
    "\n",
    "표준편차 - 9.775 (변동성 적음)\n",
    "\n",
    "np.std(df.english, ddof=1) - 9.775 (표본 데이터의 표준편차임)\n",
    "np.std(df.english) - 9.2 (모집단의 표준편차임)\n",
    "\n",
    "보통 자유도는 1로 준다. 보통 표본 표준편차를 계산할 때 1로 줌 "
   ]
  },
  {
   "cell_type": "code",
   "execution_count": null,
   "id": "54d7ba19",
   "metadata": {
    "id": "54d7ba19"
   },
   "outputs": [],
   "source": [
    "np.std(df.english, ddof=1)"
   ]
  },
  {
   "cell_type": "code",
   "execution_count": null,
   "id": "ec514765",
   "metadata": {
    "id": "ec514765",
    "scrolled": true
   },
   "outputs": [],
   "source": [
    "# 정규화\n",
    "\n",
    "z = (df.english - np.mean(df.english)) / np.std(df.english)\n",
    "z"
   ]
  },
  {
   "cell_type": "code",
   "execution_count": null,
   "id": "34168b65",
   "metadata": {
    "id": "34168b65"
   },
   "outputs": [],
   "source": []
  },
  {
   "cell_type": "markdown",
   "id": "8361a0f4",
   "metadata": {
    "id": "8361a0f4",
    "outputId": "442ac0e2-b891-482c-f7da-347731b3d446"
   },
   "source": [
    "import matplotlib.pyplot as plt\n",
    "\n",
    "z = (df.english - np.mean(df.english)) / np.std(df.english)\n",
    "\n",
    "# 히스토그램\n",
    "plt.hist(z, bins=10)\n",
    "plt.xlabel('Normalized English Scores')\n",
    "plt.ylabel('Frequency')\n",
    "plt.title('Histogram of Normalized English Scores')\n",
    "plt.show()\n",
    "\n",
    "# 박스 플롯\n",
    "plt.boxplot(z)\n",
    "plt.xlabel('English')\n",
    "plt.ylabel('Normalized English Scores')\n",
    "plt.title('Box Plot of Normalized English Scores')\n",
    "plt.show()\n"
   ]
  },
  {
   "cell_type": "code",
   "execution_count": null,
   "id": "fde5ee8d",
   "metadata": {
    "id": "fde5ee8d",
    "outputId": "ab42a6d9-2113-4450-c4c6-9cd87654413c"
   },
   "outputs": [
    {
     "data": {
      "text/html": [
       "<div>\n",
       "<style scoped>\n",
       "    .dataframe tbody tr th:only-of-type {\n",
       "        vertical-align: middle;\n",
       "    }\n",
       "\n",
       "    .dataframe tbody tr th {\n",
       "        vertical-align: top;\n",
       "    }\n",
       "\n",
       "    .dataframe thead th {\n",
       "        text-align: right;\n",
       "    }\n",
       "</style>\n",
       "<table border=\"1\" class=\"dataframe\">\n",
       "  <thead>\n",
       "    <tr style=\"text-align: right;\">\n",
       "      <th></th>\n",
       "      <th>english</th>\n",
       "      <th>mathematics</th>\n",
       "    </tr>\n",
       "    <tr>\n",
       "      <th>student number</th>\n",
       "      <th></th>\n",
       "      <th></th>\n",
       "    </tr>\n",
       "  </thead>\n",
       "  <tbody>\n",
       "    <tr>\n",
       "      <th>1</th>\n",
       "      <td>42</td>\n",
       "      <td>65</td>\n",
       "    </tr>\n",
       "    <tr>\n",
       "      <th>2</th>\n",
       "      <td>69</td>\n",
       "      <td>80</td>\n",
       "    </tr>\n",
       "    <tr>\n",
       "      <th>3</th>\n",
       "      <td>56</td>\n",
       "      <td>63</td>\n",
       "    </tr>\n",
       "    <tr>\n",
       "      <th>4</th>\n",
       "      <td>41</td>\n",
       "      <td>63</td>\n",
       "    </tr>\n",
       "    <tr>\n",
       "      <th>5</th>\n",
       "      <td>57</td>\n",
       "      <td>76</td>\n",
       "    </tr>\n",
       "  </tbody>\n",
       "</table>\n",
       "</div>"
      ],
      "text/plain": [
       "                english  mathematics\n",
       "student number                      \n",
       "1                    42           65\n",
       "2                    69           80\n",
       "3                    56           63\n",
       "4                    41           63\n",
       "5                    57           76"
      ]
     },
     "execution_count": 40,
     "metadata": {},
     "output_type": "execute_result"
    }
   ],
   "source": [
    "# 2차원 데이터의 시각화\n",
    "\n",
    "df = pd.read_csv('../data/ch2_scores_em.csv', index_col='student number')\n",
    "df.head()"
   ]
  },
  {
   "cell_type": "code",
   "execution_count": null,
   "id": "f33509d1",
   "metadata": {
    "id": "f33509d1",
    "outputId": "c3f891e6-b4c7-40ba-cd9b-1dde0ae1827c"
   },
   "outputs": [
    {
     "data": {
      "text/plain": [
       "Text(0, 0.5, 'Mathematics')"
      ]
     },
     "execution_count": 43,
     "metadata": {},
     "output_type": "execute_result"
    },
    {
     "data": {
      "image/png": "[encoded data removed]",
      "text/plain": [
       "<Figure size 600x400 with 1 Axes>"
      ]
     },
     "metadata": {},
     "output_type": "display_data"
    }
   ],
   "source": [
    "english_scores = np.array(df.english)\n",
    "math_scores = np.array(df.mathematics)\n",
    "\n",
    "plt.figure(figsize=(6,4))\n",
    "plt.scatter(english_scores, math_scores)\n",
    "plt.xlabel('English')\n",
    "plt.ylabel('Mathematics')"
   ]
  },
  {
   "cell_type": "code",
   "execution_count": 6,
   "id": "d180bc3a",
   "metadata": {
    "id": "d180bc3a",
    "outputId": "e81916bd-f4ae-4316-e9ef-d0b7247a3a45"
   },
   "outputs": [
    {
     "data": {
      "text/plain": [
       "<AxesSubplot:xlabel='english', ylabel='mathematics'>"
      ]
     },
     "execution_count": 6,
     "metadata": {},
     "output_type": "execute_result"
    },
    {
     "data": {
      "image/png": "[encoded data removed]",
      "text/plain": [
       "<Figure size 800x600 with 1 Axes>"
      ]
     },
     "metadata": {},
     "output_type": "display_data"
    }
   ],
   "source": [
    "# 직성을 결정하는 가중치와 y절편?을 알려줌 - 예측식\n",
    "# 오차의 합이 최소가 되는 선 - 이게 기계학습, 머신러닝임\n",
    "\n",
    "plt.figure(figsize=(8,6))\n",
    "sns.regplot(data=df, x='english', y='mathematics')"
   ]
  },
  {
   "cell_type": "code",
   "execution_count": null,
   "id": "287bd614",
   "metadata": {
    "id": "287bd614",
    "outputId": "8cb62a24-3e24-479d-a5b5-a095227a639b"
   },
   "outputs": [
    {
     "data": {
      "text/plain": [
       "'42.601324+0.62x'"
      ]
     },
     "execution_count": 49,
     "metadata": {},
     "output_type": "execute_result"
    }
   ],
   "source": [
    "# 회귀직선 구하기 - 절편과 ? 반환\n",
    "\n",
    "poly_fit = np.polyfit(english_scores,math_scores,1)\n",
    "poly_1d = np.poly1d(poly_fit)\n",
    "eq = f'{poly_fit[1]:2f}+{poly_fit[0]:.2f}x'\n",
    "eq\n"
   ]
  },
  {
   "cell_type": "code",
   "execution_count": null,
   "id": "146db4bc",
   "metadata": {
    "id": "146db4bc",
    "outputId": "cdc225d1-d9f4-4645-9897-c05e0f536e44"
   },
   "outputs": [
    {
     "data": {
      "image/png": "[encoded data removed]",
      "text/plain": [
       "<Figure size 1000x600 with 1 Axes>"
      ]
     },
     "metadata": {},
     "output_type": "display_data"
    }
   ],
   "source": [
    "# sns.boxplot(data=df,x='english')\n",
    "\n",
    "plt.figure(figsize=(10,6))\n",
    "plt.boxplot([english_scores,math_scores])\n",
    "plt.show()"
   ]
  },
  {
   "cell_type": "markdown",
   "id": "c085fdcb",
   "metadata": {
    "id": "c085fdcb"
   },
   "source": [
    "#### 과제1-0411\n",
    "english와 mathematics 2차원 데이터간의 관계를 파악할 수 있는 시각화를 수행하세요."
   ]
  },
  {
   "cell_type": "code",
   "execution_count": null,
   "id": "8e661fe8",
   "metadata": {},
   "outputs": [],
   "source": []
  },
  {
   "cell_type": "code",
   "execution_count": 7,
   "id": "b4174ebb",
   "metadata": {
    "id": "b4174ebb",
    "outputId": "49f99c62-991a-489d-cb0f-072f2c2f21fb"
   },
   "outputs": [
    {
     "data": {
      "text/html": [
       "<div>\n",
       "<style scoped>\n",
       "    .dataframe tbody tr th:only-of-type {\n",
       "        vertical-align: middle;\n",
       "    }\n",
       "\n",
       "    .dataframe tbody tr th {\n",
       "        vertical-align: top;\n",
       "    }\n",
       "\n",
       "    .dataframe thead th {\n",
       "        text-align: right;\n",
       "    }\n",
       "</style>\n",
       "<table border=\"1\" class=\"dataframe\">\n",
       "  <thead>\n",
       "    <tr style=\"text-align: right;\">\n",
       "      <th></th>\n",
       "      <th>english</th>\n",
       "      <th>mathematics</th>\n",
       "    </tr>\n",
       "  </thead>\n",
       "  <tbody>\n",
       "    <tr>\n",
       "      <th>english</th>\n",
       "      <td>1.000000</td>\n",
       "      <td>0.723741</td>\n",
       "    </tr>\n",
       "    <tr>\n",
       "      <th>mathematics</th>\n",
       "      <td>0.723741</td>\n",
       "      <td>1.000000</td>\n",
       "    </tr>\n",
       "  </tbody>\n",
       "</table>\n",
       "</div>"
      ],
      "text/plain": [
       "              english  mathematics\n",
       "english      1.000000     0.723741\n",
       "mathematics  0.723741     1.000000"
      ]
     },
     "execution_count": 7,
     "metadata": {},
     "output_type": "execute_result"
    }
   ],
   "source": [
    "df[['english','mathematics']].corr()"
   ]
  },
  {
   "cell_type": "code",
   "execution_count": null,
   "id": "444bd993",
   "metadata": {
    "id": "444bd993",
    "outputId": "f1dcc9f2-c3bb-4d68-d4f7-ff1da4662fcd"
   },
   "outputs": [
    {
     "data": {
      "text/plain": [
       "<AxesSubplot:>"
      ]
     },
     "execution_count": 60,
     "metadata": {},
     "output_type": "execute_result"
    },
    {
     "data": {
      "image/png": "[encoded data removed]",
      "text/plain": [
       "<Figure size 500x500 with 2 Axes>"
      ]
     },
     "metadata": {},
     "output_type": "display_data"
    }
   ],
   "source": [
    "# 히트맵\n",
    "plt.figure(figsize=(5,5))\n",
    "sns.heatmap(df[['english','mathematics']].corr(),annot=True)"
   ]
  },
  {
   "cell_type": "code",
   "execution_count": 8,
   "id": "54a97dff",
   "metadata": {},
   "outputs": [
    {
     "data": {
      "text/html": [
       "<div>\n",
       "<style scoped>\n",
       "    .dataframe tbody tr th:only-of-type {\n",
       "        vertical-align: middle;\n",
       "    }\n",
       "\n",
       "    .dataframe tbody tr th {\n",
       "        vertical-align: top;\n",
       "    }\n",
       "\n",
       "    .dataframe thead th {\n",
       "        text-align: right;\n",
       "    }\n",
       "</style>\n",
       "<table border=\"1\" class=\"dataframe\">\n",
       "  <thead>\n",
       "    <tr style=\"text-align: right;\">\n",
       "      <th></th>\n",
       "      <th>english</th>\n",
       "      <th>mathematics</th>\n",
       "    </tr>\n",
       "    <tr>\n",
       "      <th>student number</th>\n",
       "      <th></th>\n",
       "      <th></th>\n",
       "    </tr>\n",
       "  </thead>\n",
       "  <tbody>\n",
       "    <tr>\n",
       "      <th>1</th>\n",
       "      <td>42</td>\n",
       "      <td>65</td>\n",
       "    </tr>\n",
       "    <tr>\n",
       "      <th>2</th>\n",
       "      <td>69</td>\n",
       "      <td>80</td>\n",
       "    </tr>\n",
       "    <tr>\n",
       "      <th>3</th>\n",
       "      <td>56</td>\n",
       "      <td>63</td>\n",
       "    </tr>\n",
       "    <tr>\n",
       "      <th>4</th>\n",
       "      <td>41</td>\n",
       "      <td>63</td>\n",
       "    </tr>\n",
       "    <tr>\n",
       "      <th>5</th>\n",
       "      <td>57</td>\n",
       "      <td>76</td>\n",
       "    </tr>\n",
       "  </tbody>\n",
       "</table>\n",
       "</div>"
      ],
      "text/plain": [
       "                english  mathematics\n",
       "student number                      \n",
       "1                    42           65\n",
       "2                    69           80\n",
       "3                    56           63\n",
       "4                    41           63\n",
       "5                    57           76"
      ]
     },
     "execution_count": 8,
     "metadata": {},
     "output_type": "execute_result"
    }
   ],
   "source": [
    "df.head()"
   ]
  },
  {
   "cell_type": "code",
   "execution_count": 19,
   "id": "4a1e72c6",
   "metadata": {},
   "outputs": [
    {
     "data": {
      "text/html": [
       "<div>\n",
       "<style scoped>\n",
       "    .dataframe tbody tr th:only-of-type {\n",
       "        vertical-align: middle;\n",
       "    }\n",
       "\n",
       "    .dataframe tbody tr th {\n",
       "        vertical-align: top;\n",
       "    }\n",
       "\n",
       "    .dataframe thead th {\n",
       "        text-align: right;\n",
       "    }\n",
       "</style>\n",
       "<table border=\"1\" class=\"dataframe\">\n",
       "  <thead>\n",
       "    <tr style=\"text-align: right;\">\n",
       "      <th></th>\n",
       "      <th>english</th>\n",
       "      <th>mathematics</th>\n",
       "    </tr>\n",
       "  </thead>\n",
       "  <tbody>\n",
       "    <tr>\n",
       "      <th>count</th>\n",
       "      <td>50.000000</td>\n",
       "      <td>50.000000</td>\n",
       "    </tr>\n",
       "    <tr>\n",
       "      <th>mean</th>\n",
       "      <td>58.380000</td>\n",
       "      <td>78.880000</td>\n",
       "    </tr>\n",
       "    <tr>\n",
       "      <th>std</th>\n",
       "      <td>9.799813</td>\n",
       "      <td>8.414371</td>\n",
       "    </tr>\n",
       "    <tr>\n",
       "      <th>min</th>\n",
       "      <td>37.000000</td>\n",
       "      <td>57.000000</td>\n",
       "    </tr>\n",
       "    <tr>\n",
       "      <th>25%</th>\n",
       "      <td>54.000000</td>\n",
       "      <td>76.000000</td>\n",
       "    </tr>\n",
       "    <tr>\n",
       "      <th>50%</th>\n",
       "      <td>57.500000</td>\n",
       "      <td>80.000000</td>\n",
       "    </tr>\n",
       "    <tr>\n",
       "      <th>75%</th>\n",
       "      <td>65.000000</td>\n",
       "      <td>84.000000</td>\n",
       "    </tr>\n",
       "    <tr>\n",
       "      <th>max</th>\n",
       "      <td>79.000000</td>\n",
       "      <td>94.000000</td>\n",
       "    </tr>\n",
       "  </tbody>\n",
       "</table>\n",
       "</div>"
      ],
      "text/plain": [
       "         english  mathematics\n",
       "count  50.000000    50.000000\n",
       "mean   58.380000    78.880000\n",
       "std     9.799813     8.414371\n",
       "min    37.000000    57.000000\n",
       "25%    54.000000    76.000000\n",
       "50%    57.500000    80.000000\n",
       "75%    65.000000    84.000000\n",
       "max    79.000000    94.000000"
      ]
     },
     "execution_count": 19,
     "metadata": {},
     "output_type": "execute_result"
    }
   ],
   "source": [
    "df.describe()"
   ]
  },
  {
   "cell_type": "code",
   "execution_count": 43,
   "id": "1fb603d6",
   "metadata": {},
   "outputs": [
    {
     "data": {
      "text/plain": [
       "<AxesSubplot:xlabel='english', ylabel='Count'>"
      ]
     },
     "execution_count": 43,
     "metadata": {},
     "output_type": "execute_result"
    },
    {
     "data": {
      "image/png": "[encoded data removed]",
      "text/plain": [
       "<Figure size 640x480 with 1 Axes>"
      ]
     },
     "metadata": {},
     "output_type": "display_data"
    }
   ],
   "source": [
    "sns.histplot(df.english, kde=True)\n",
    "sns.histplot(df.mathematics, kde=True)"
   ]
  },
  {
   "cell_type": "code",
   "execution_count": 30,
   "id": "ad96085d",
   "metadata": {},
   "outputs": [
    {
     "data": {
      "image/png": "[encoded data removed]",
      "text/plain": [
       "<Figure size 600x600 with 3 Axes>"
      ]
     },
     "metadata": {},
     "output_type": "display_data"
    }
   ],
   "source": [
    "# joinplot\n",
    "\n",
    "sns.jointplot(data=df, x='english', y='mathematics', kind='reg')\n",
    "plt.show()"
   ]
  },
  {
   "cell_type": "code",
   "execution_count": 34,
   "id": "0b96998f",
   "metadata": {},
   "outputs": [
    {
     "data": {
      "image/png": "[encoded data removed]",
      "text/plain": [
       "<Figure size 1000x600 with 2 Axes>"
      ]
     },
     "metadata": {},
     "output_type": "display_data"
    }
   ],
   "source": [
    "fig = plt.figure(figsize=(10,6))\n",
    "ax1 = fig.add_subplot(1,2,1)\n",
    "ax2 = fig.add_subplot(1,2,2)\n",
    "ax1.hist(df.english)\n",
    "ax2.hist(df.mathematics)\n",
    "plt.show()"
   ]
  }
 ],
 "metadata": {
  "colab": {
   "provenance": []
  },
  "kernelspec": {
   "display_name": "Python 3 (ipykernel)",
   "language": "python",
   "name": "python3"
  },
  "language_info": {
   "codemirror_mode": {
    "name": "ipython",
    "version": 3
   },
   "file_extension": ".py",
   "mimetype": "text/x-python",
   "name": "python",
   "nbconvert_exporter": "python",
   "pygments_lexer": "ipython3",
   "version": "3.9.13"
  }
 },
 "nbformat": 4,
 "nbformat_minor": 5
}
